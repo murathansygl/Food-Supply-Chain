{
 "cells": [
  {
   "cell_type": "code",
   "execution_count": 113,
   "metadata": {
    "collapsed": false,
    "pycharm": {
     "name": "#%%\n"
    }
   },
   "outputs": [],
   "source": [
    "import pandas as pd\n",
    "import plotly.express as px\n",
    "import matplotlib.pyplot as plt\n",
    "import numpy as np\n",
    "import math\n",
    "from keras import Sequential\n",
    "from keras.layers import LSTM, Dropout, Dense\n",
    "from keras.wrappers.scikit_learn import KerasRegressor\n",
    "from plotly.subplots import make_subplots\n",
    "import plotly.graph_objects as go\n",
    "from sklearn.model_selection import GridSearchCV\n",
    "from sklearn import metrics\n",
    "from sklearn.preprocessing import LabelEncoder, MinMaxScaler, StandardScaler\n",
    "\n",
    "import tensorflow as tf\n",
    "from tensorboard.plugins.hparams import api as hp\n",
    "from tensorflow.keras.models import Sequential\n",
    "from tensorflow.keras.layers import *\n",
    "from tensorflow.keras.callbacks import ModelCheckpoint\n",
    "from tensorflow.keras.losses import MeanSquaredError, MeanAbsolutePercentageError\n",
    "from tensorflow.keras.metrics import RootMeanSquaredError\n",
    "from tensorflow.keras.optimizers import Adam\n",
    "from math import sqrt\n",
    "from sklearn.metrics import mean_squared_error\n",
    "from sklearn.metrics import mean_absolute_error\n",
    "from pandas import datetime\n",
    "from pandas import DataFrame\n",
    "from statsmodels.tsa.arima.model import ARIMA\n",
    "from matplotlib import pyplot\n",
    "from matplotlib.pyplot import figure"
   ]
  },
  {
   "cell_type": "code",
   "execution_count": 2,
   "metadata": {
    "collapsed": false,
    "pycharm": {
     "name": "#%%\n"
    }
   },
   "outputs": [],
   "source": [
    "df=pd.read_csv(\"Data/FoodBalanceSheets_E_All_Data/FoodBalanceSheets_E_All_Data_NOFLAG.csv\", encoding=\"latin-1\")"
   ]
  },
  {
   "cell_type": "code",
   "execution_count": 3,
   "metadata": {
    "collapsed": false,
    "pycharm": {
     "name": "#%%\n"
    }
   },
   "outputs": [
    {
     "data": {
      "text/html": [
       "<div>\n",
       "<style scoped>\n",
       "    .dataframe tbody tr th:only-of-type {\n",
       "        vertical-align: middle;\n",
       "    }\n",
       "\n",
       "    .dataframe tbody tr th {\n",
       "        vertical-align: top;\n",
       "    }\n",
       "\n",
       "    .dataframe thead th {\n",
       "        text-align: right;\n",
       "    }\n",
       "</style>\n",
       "<table border=\"1\" class=\"dataframe\">\n",
       "  <thead>\n",
       "    <tr style=\"text-align: right;\">\n",
       "      <th></th>\n",
       "      <th>Area</th>\n",
       "      <th>Item</th>\n",
       "      <th>Element</th>\n",
       "      <th>Unit</th>\n",
       "      <th>Y2010</th>\n",
       "      <th>Y2011</th>\n",
       "      <th>Y2012</th>\n",
       "      <th>Y2013</th>\n",
       "      <th>Y2014</th>\n",
       "      <th>Y2015</th>\n",
       "      <th>Y2016</th>\n",
       "      <th>Y2017</th>\n",
       "      <th>Y2018</th>\n",
       "      <th>Y2019</th>\n",
       "    </tr>\n",
       "  </thead>\n",
       "  <tbody>\n",
       "    <tr>\n",
       "      <th>0</th>\n",
       "      <td>Afghanistan</td>\n",
       "      <td>Population</td>\n",
       "      <td>Total Population - Both sexes</td>\n",
       "      <td>1000 persons</td>\n",
       "      <td>29186.00</td>\n",
       "      <td>30117.00</td>\n",
       "      <td>31161.00</td>\n",
       "      <td>32270.00</td>\n",
       "      <td>33371.00</td>\n",
       "      <td>34414.00</td>\n",
       "      <td>35383.00</td>\n",
       "      <td>36296.00</td>\n",
       "      <td>37172.00</td>\n",
       "      <td>38042.00</td>\n",
       "    </tr>\n",
       "    <tr>\n",
       "      <th>1</th>\n",
       "      <td>Afghanistan</td>\n",
       "      <td>Population</td>\n",
       "      <td>Domestic supply quantity</td>\n",
       "      <td>1000 tonnes</td>\n",
       "      <td>0.00</td>\n",
       "      <td>0.00</td>\n",
       "      <td>0.00</td>\n",
       "      <td>0.00</td>\n",
       "      <td>0.00</td>\n",
       "      <td>0.00</td>\n",
       "      <td>0.00</td>\n",
       "      <td>0.00</td>\n",
       "      <td>0.00</td>\n",
       "      <td>0.00</td>\n",
       "    </tr>\n",
       "    <tr>\n",
       "      <th>2</th>\n",
       "      <td>Afghanistan</td>\n",
       "      <td>Grand Total</td>\n",
       "      <td>Food supply (kcal/capita/day)</td>\n",
       "      <td>kcal/capita/day</td>\n",
       "      <td>2170.00</td>\n",
       "      <td>2152.00</td>\n",
       "      <td>2159.00</td>\n",
       "      <td>2196.00</td>\n",
       "      <td>2265.00</td>\n",
       "      <td>2250.00</td>\n",
       "      <td>2228.00</td>\n",
       "      <td>2303.00</td>\n",
       "      <td>2270.00</td>\n",
       "      <td>2273.00</td>\n",
       "    </tr>\n",
       "    <tr>\n",
       "      <th>3</th>\n",
       "      <td>Afghanistan</td>\n",
       "      <td>Grand Total</td>\n",
       "      <td>Protein supply quantity (g/capita/day)</td>\n",
       "      <td>g/capita/day</td>\n",
       "      <td>59.23</td>\n",
       "      <td>58.00</td>\n",
       "      <td>57.82</td>\n",
       "      <td>57.71</td>\n",
       "      <td>60.17</td>\n",
       "      <td>58.45</td>\n",
       "      <td>58.46</td>\n",
       "      <td>59.50</td>\n",
       "      <td>57.62</td>\n",
       "      <td>57.31</td>\n",
       "    </tr>\n",
       "    <tr>\n",
       "      <th>4</th>\n",
       "      <td>Afghanistan</td>\n",
       "      <td>Grand Total</td>\n",
       "      <td>Fat supply quantity (g/capita/day)</td>\n",
       "      <td>g/capita/day</td>\n",
       "      <td>36.69</td>\n",
       "      <td>34.81</td>\n",
       "      <td>36.53</td>\n",
       "      <td>37.10</td>\n",
       "      <td>41.48</td>\n",
       "      <td>38.28</td>\n",
       "      <td>40.70</td>\n",
       "      <td>40.03</td>\n",
       "      <td>41.46</td>\n",
       "      <td>39.78</td>\n",
       "    </tr>\n",
       "    <tr>\n",
       "      <th>...</th>\n",
       "      <td>...</td>\n",
       "      <td>...</td>\n",
       "      <td>...</td>\n",
       "      <td>...</td>\n",
       "      <td>...</td>\n",
       "      <td>...</td>\n",
       "      <td>...</td>\n",
       "      <td>...</td>\n",
       "      <td>...</td>\n",
       "      <td>...</td>\n",
       "      <td>...</td>\n",
       "      <td>...</td>\n",
       "      <td>...</td>\n",
       "      <td>...</td>\n",
       "    </tr>\n",
       "    <tr>\n",
       "      <th>319738</th>\n",
       "      <td>Net Food Importing Developing Countries</td>\n",
       "      <td>Miscellaneous</td>\n",
       "      <td>Food</td>\n",
       "      <td>1000 tonnes</td>\n",
       "      <td>787.00</td>\n",
       "      <td>839.00</td>\n",
       "      <td>921.00</td>\n",
       "      <td>935.00</td>\n",
       "      <td>958.00</td>\n",
       "      <td>992.00</td>\n",
       "      <td>1032.00</td>\n",
       "      <td>1066.00</td>\n",
       "      <td>1140.00</td>\n",
       "      <td>1199.00</td>\n",
       "    </tr>\n",
       "    <tr>\n",
       "      <th>319739</th>\n",
       "      <td>Net Food Importing Developing Countries</td>\n",
       "      <td>Miscellaneous</td>\n",
       "      <td>Food supply quantity (kg/capita/yr)</td>\n",
       "      <td>kg</td>\n",
       "      <td>0.62</td>\n",
       "      <td>0.65</td>\n",
       "      <td>0.68</td>\n",
       "      <td>0.67</td>\n",
       "      <td>0.67</td>\n",
       "      <td>0.68</td>\n",
       "      <td>0.69</td>\n",
       "      <td>0.70</td>\n",
       "      <td>0.73</td>\n",
       "      <td>0.75</td>\n",
       "    </tr>\n",
       "    <tr>\n",
       "      <th>319740</th>\n",
       "      <td>Net Food Importing Developing Countries</td>\n",
       "      <td>Miscellaneous</td>\n",
       "      <td>Food supply (kcal/capita/day)</td>\n",
       "      <td>kcal/capita/day</td>\n",
       "      <td>1.00</td>\n",
       "      <td>1.00</td>\n",
       "      <td>1.00</td>\n",
       "      <td>1.00</td>\n",
       "      <td>1.00</td>\n",
       "      <td>1.00</td>\n",
       "      <td>1.00</td>\n",
       "      <td>1.00</td>\n",
       "      <td>1.00</td>\n",
       "      <td>1.00</td>\n",
       "    </tr>\n",
       "    <tr>\n",
       "      <th>319741</th>\n",
       "      <td>Net Food Importing Developing Countries</td>\n",
       "      <td>Miscellaneous</td>\n",
       "      <td>Protein supply quantity (g/capita/day)</td>\n",
       "      <td>g/capita/day</td>\n",
       "      <td>0.02</td>\n",
       "      <td>0.02</td>\n",
       "      <td>0.02</td>\n",
       "      <td>0.02</td>\n",
       "      <td>0.02</td>\n",
       "      <td>0.02</td>\n",
       "      <td>0.02</td>\n",
       "      <td>0.02</td>\n",
       "      <td>0.02</td>\n",
       "      <td>0.02</td>\n",
       "    </tr>\n",
       "    <tr>\n",
       "      <th>319742</th>\n",
       "      <td>Net Food Importing Developing Countries</td>\n",
       "      <td>Miscellaneous</td>\n",
       "      <td>Fat supply quantity (g/capita/day)</td>\n",
       "      <td>g/capita/day</td>\n",
       "      <td>0.01</td>\n",
       "      <td>0.01</td>\n",
       "      <td>0.01</td>\n",
       "      <td>0.01</td>\n",
       "      <td>0.01</td>\n",
       "      <td>0.01</td>\n",
       "      <td>0.01</td>\n",
       "      <td>0.01</td>\n",
       "      <td>0.01</td>\n",
       "      <td>0.01</td>\n",
       "    </tr>\n",
       "  </tbody>\n",
       "</table>\n",
       "<p>319743 rows × 14 columns</p>\n",
       "</div>"
      ],
      "text/plain": [
       "                                           Area           Item  \\\n",
       "0                                   Afghanistan     Population   \n",
       "1                                   Afghanistan     Population   \n",
       "2                                   Afghanistan    Grand Total   \n",
       "3                                   Afghanistan    Grand Total   \n",
       "4                                   Afghanistan    Grand Total   \n",
       "...                                         ...            ...   \n",
       "319738  Net Food Importing Developing Countries  Miscellaneous   \n",
       "319739  Net Food Importing Developing Countries  Miscellaneous   \n",
       "319740  Net Food Importing Developing Countries  Miscellaneous   \n",
       "319741  Net Food Importing Developing Countries  Miscellaneous   \n",
       "319742  Net Food Importing Developing Countries  Miscellaneous   \n",
       "\n",
       "                                       Element             Unit     Y2010  \\\n",
       "0                Total Population - Both sexes     1000 persons  29186.00   \n",
       "1                     Domestic supply quantity      1000 tonnes      0.00   \n",
       "2                Food supply (kcal/capita/day)  kcal/capita/day   2170.00   \n",
       "3       Protein supply quantity (g/capita/day)     g/capita/day     59.23   \n",
       "4           Fat supply quantity (g/capita/day)     g/capita/day     36.69   \n",
       "...                                        ...              ...       ...   \n",
       "319738                                    Food      1000 tonnes    787.00   \n",
       "319739     Food supply quantity (kg/capita/yr)               kg      0.62   \n",
       "319740           Food supply (kcal/capita/day)  kcal/capita/day      1.00   \n",
       "319741  Protein supply quantity (g/capita/day)     g/capita/day      0.02   \n",
       "319742      Fat supply quantity (g/capita/day)     g/capita/day      0.01   \n",
       "\n",
       "           Y2011     Y2012     Y2013     Y2014     Y2015     Y2016     Y2017  \\\n",
       "0       30117.00  31161.00  32270.00  33371.00  34414.00  35383.00  36296.00   \n",
       "1           0.00      0.00      0.00      0.00      0.00      0.00      0.00   \n",
       "2        2152.00   2159.00   2196.00   2265.00   2250.00   2228.00   2303.00   \n",
       "3          58.00     57.82     57.71     60.17     58.45     58.46     59.50   \n",
       "4          34.81     36.53     37.10     41.48     38.28     40.70     40.03   \n",
       "...          ...       ...       ...       ...       ...       ...       ...   \n",
       "319738    839.00    921.00    935.00    958.00    992.00   1032.00   1066.00   \n",
       "319739      0.65      0.68      0.67      0.67      0.68      0.69      0.70   \n",
       "319740      1.00      1.00      1.00      1.00      1.00      1.00      1.00   \n",
       "319741      0.02      0.02      0.02      0.02      0.02      0.02      0.02   \n",
       "319742      0.01      0.01      0.01      0.01      0.01      0.01      0.01   \n",
       "\n",
       "           Y2018     Y2019  \n",
       "0       37172.00  38042.00  \n",
       "1           0.00      0.00  \n",
       "2        2270.00   2273.00  \n",
       "3          57.62     57.31  \n",
       "4          41.46     39.78  \n",
       "...          ...       ...  \n",
       "319738   1140.00   1199.00  \n",
       "319739      0.73      0.75  \n",
       "319740      1.00      1.00  \n",
       "319741      0.02      0.02  \n",
       "319742      0.01      0.01  \n",
       "\n",
       "[319743 rows x 14 columns]"
      ]
     },
     "execution_count": 3,
     "metadata": {},
     "output_type": "execute_result"
    }
   ],
   "source": [
    "df.drop([\"Area Code\",\"Item Code\",\"Element Code\"],axis=1,inplace=True)\n",
    "df"
   ]
  },
  {
   "cell_type": "code",
   "execution_count": 4,
   "metadata": {
    "collapsed": false,
    "pycharm": {
     "name": "#%%\n"
    }
   },
   "outputs": [],
   "source": [
    "df.dropna(axis=0, inplace=True)"
   ]
  },
  {
   "cell_type": "code",
   "execution_count": 5,
   "metadata": {
    "collapsed": false,
    "pycharm": {
     "name": "#%%\n"
    }
   },
   "outputs": [],
   "source": [
    "df=df.loc[~(df.iloc[:,4:]==0).all(axis=1)]"
   ]
  },
  {
   "cell_type": "code",
   "execution_count": 6,
   "metadata": {
    "collapsed": false,
    "pycharm": {
     "name": "#%%\n"
    }
   },
   "outputs": [
    {
     "data": {
      "text/plain": [
       "World                                      1738\n",
       "Asia                                       1659\n",
       "Net Food Importing Developing Countries    1604\n",
       "Americas                                   1590\n",
       "Africa                                     1551\n",
       "Europe                                     1531\n",
       "European Union (27)                        1506\n",
       "Western Asia                               1503\n",
       "Low Income Food Deficit Countries          1498\n",
       "Least Developed Countries                  1470\n",
       "Land Locked Developing Countries           1462\n",
       "Eastern Asia                               1460\n",
       "South America                              1424\n",
       "South-eastern Asia                         1414\n",
       "Southern Europe                            1407\n",
       "Central America                            1400\n",
       "China                                      1395\n",
       "Southern Asia                              1374\n",
       "Eastern Africa                             1366\n",
       "Oceania                                    1366\n",
       "Small Island Developing States             1364\n",
       "Western Europe                             1352\n",
       "Northern Africa                            1346\n",
       "Eastern Europe                             1337\n",
       "Northern America                           1312\n",
       "Western Africa                             1300\n",
       "Northern Europe                            1283\n",
       "Caribbean                                  1257\n",
       "China, mainland                            1251\n",
       "Southern Africa                            1228\n",
       "Name: Area, dtype: int64"
      ]
     },
     "execution_count": 6,
     "metadata": {},
     "output_type": "execute_result"
    }
   ],
   "source": [
    "df.Area.value_counts()[:30]"
   ]
  },
  {
   "cell_type": "code",
   "execution_count": 7,
   "metadata": {
    "collapsed": false,
    "pycharm": {
     "name": "#%%\n"
    }
   },
   "outputs": [
    {
     "data": {
      "text/plain": [
       "Milk - Excluding Butter       5280\n",
       "Eggs                          4586\n",
       "Miscellaneous                 3556\n",
       "Cereals - Excluding Beer      3243\n",
       "Oilcrops                      3075\n",
       "Starchy Roots                 2964\n",
       "Wheat and products            2802\n",
       "Fruits - Excluding Wine       2801\n",
       "Maize and products            2796\n",
       "Potatoes and products         2686\n",
       "Rice and products             2685\n",
       "Vegetables                    2648\n",
       "Pulses                        2611\n",
       "Vegetables, other             2596\n",
       "Vegetable Oils                2582\n",
       "Fruits, other                 2543\n",
       "Animal fats                   2419\n",
       "Meat                          2412\n",
       "Fish, Seafood                 2407\n",
       "Sugar & Sweeteners            2300\n",
       "Pulses, Other and products    2281\n",
       "Oilcrops Oil, Other           2233\n",
       "Stimulants                    2226\n",
       "Fats, Animals, Raw            2210\n",
       "Poultry Meat                  2193\n",
       "Alcoholic Beverages           2184\n",
       "Barley and products           2182\n",
       "Pelagic Fish                  2170\n",
       "Oranges, Mandarines           2164\n",
       "Groundnuts                    2164\n",
       "Name: Item, dtype: int64"
      ]
     },
     "execution_count": 7,
     "metadata": {},
     "output_type": "execute_result"
    }
   ],
   "source": [
    "df.Item.value_counts()[:30]"
   ]
  },
  {
   "cell_type": "code",
   "execution_count": 8,
   "metadata": {
    "collapsed": false,
    "pycharm": {
     "name": "#%%\n"
    }
   },
   "outputs": [
    {
     "data": {
      "text/plain": [
       "array(['Total Population - Both sexes', 'Food supply (kcal/capita/day)',\n",
       "       'Protein supply quantity (g/capita/day)',\n",
       "       'Fat supply quantity (g/capita/day)', 'Production',\n",
       "       'Import Quantity', 'Stock Variation', 'Export Quantity',\n",
       "       'Domestic supply quantity', 'Feed', 'Seed', 'Losses', 'Residuals',\n",
       "       'Food', 'Food supply quantity (kg/capita/yr)', 'Processing',\n",
       "       'Other uses (non-food)', 'Tourist consumption'], dtype=object)"
      ]
     },
     "execution_count": 8,
     "metadata": {},
     "output_type": "execute_result"
    }
   ],
   "source": [
    "df.Element.unique()"
   ]
  },
  {
   "cell_type": "code",
   "execution_count": 9,
   "metadata": {
    "collapsed": false,
    "pycharm": {
     "name": "#%%\n"
    }
   },
   "outputs": [],
   "source": [
    "def select(area,item ):\n",
    "    data=df[df.Area==area]\n",
    "    data=data[data['Item'].str.contains(item)]\n",
    "    return data"
   ]
  },
  {
   "cell_type": "code",
   "execution_count": 10,
   "metadata": {
    "collapsed": false,
    "pycharm": {
     "name": "#%%\n"
    }
   },
   "outputs": [],
   "source": [
    "data=select(\"China\",\"Cereals - Ex\")"
   ]
  },
  {
   "cell_type": "code",
   "execution_count": 11,
   "metadata": {
    "collapsed": false,
    "pycharm": {
     "name": "#%%\n"
    }
   },
   "outputs": [
    {
     "data": {
      "text/html": [
       "<div>\n",
       "<style scoped>\n",
       "    .dataframe tbody tr th:only-of-type {\n",
       "        vertical-align: middle;\n",
       "    }\n",
       "\n",
       "    .dataframe tbody tr th {\n",
       "        vertical-align: top;\n",
       "    }\n",
       "\n",
       "    .dataframe thead th {\n",
       "        text-align: right;\n",
       "    }\n",
       "</style>\n",
       "<table border=\"1\" class=\"dataframe\">\n",
       "  <thead>\n",
       "    <tr style=\"text-align: right;\">\n",
       "      <th></th>\n",
       "      <th>Area</th>\n",
       "      <th>Item</th>\n",
       "      <th>Element</th>\n",
       "      <th>Unit</th>\n",
       "      <th>Y2010</th>\n",
       "      <th>Y2011</th>\n",
       "      <th>Y2012</th>\n",
       "      <th>Y2013</th>\n",
       "      <th>Y2014</th>\n",
       "      <th>Y2015</th>\n",
       "      <th>Y2016</th>\n",
       "      <th>Y2017</th>\n",
       "      <th>Y2018</th>\n",
       "      <th>Y2019</th>\n",
       "    </tr>\n",
       "  </thead>\n",
       "  <tbody>\n",
       "    <tr>\n",
       "      <th>44939</th>\n",
       "      <td>China</td>\n",
       "      <td>Cereals - Excluding Beer</td>\n",
       "      <td>Production</td>\n",
       "      <td>1000 tonnes</td>\n",
       "      <td>498113.00</td>\n",
       "      <td>521383.00</td>\n",
       "      <td>541368.00</td>\n",
       "      <td>554623.00</td>\n",
       "      <td>559483.00</td>\n",
       "      <td>620074.00</td>\n",
       "      <td>616491.00</td>\n",
       "      <td>616130.00</td>\n",
       "      <td>611244.00</td>\n",
       "      <td>614914.00</td>\n",
       "    </tr>\n",
       "    <tr>\n",
       "      <th>44940</th>\n",
       "      <td>China</td>\n",
       "      <td>Cereals - Excluding Beer</td>\n",
       "      <td>Import Quantity</td>\n",
       "      <td>1000 tonnes</td>\n",
       "      <td>13861.00</td>\n",
       "      <td>13044.00</td>\n",
       "      <td>22636.00</td>\n",
       "      <td>22952.00</td>\n",
       "      <td>28186.00</td>\n",
       "      <td>41880.00</td>\n",
       "      <td>31380.00</td>\n",
       "      <td>35473.00</td>\n",
       "      <td>29491.00</td>\n",
       "      <td>27492.00</td>\n",
       "    </tr>\n",
       "    <tr>\n",
       "      <th>44941</th>\n",
       "      <td>China</td>\n",
       "      <td>Cereals - Excluding Beer</td>\n",
       "      <td>Stock Variation</td>\n",
       "      <td>1000 tonnes</td>\n",
       "      <td>8114.00</td>\n",
       "      <td>16754.00</td>\n",
       "      <td>34353.00</td>\n",
       "      <td>64549.00</td>\n",
       "      <td>75918.00</td>\n",
       "      <td>80210.00</td>\n",
       "      <td>44705.00</td>\n",
       "      <td>35028.00</td>\n",
       "      <td>7514.00</td>\n",
       "      <td>6019.00</td>\n",
       "    </tr>\n",
       "    <tr>\n",
       "      <th>44942</th>\n",
       "      <td>China</td>\n",
       "      <td>Cereals - Excluding Beer</td>\n",
       "      <td>Export Quantity</td>\n",
       "      <td>1000 tonnes</td>\n",
       "      <td>3127.00</td>\n",
       "      <td>2793.00</td>\n",
       "      <td>2456.00</td>\n",
       "      <td>2414.00</td>\n",
       "      <td>2029.00</td>\n",
       "      <td>1770.00</td>\n",
       "      <td>2323.00</td>\n",
       "      <td>3686.00</td>\n",
       "      <td>5683.00</td>\n",
       "      <td>7154.00</td>\n",
       "    </tr>\n",
       "    <tr>\n",
       "      <th>44943</th>\n",
       "      <td>China</td>\n",
       "      <td>Cereals - Excluding Beer</td>\n",
       "      <td>Domestic supply quantity</td>\n",
       "      <td>1000 tonnes</td>\n",
       "      <td>500734.00</td>\n",
       "      <td>514880.00</td>\n",
       "      <td>527195.00</td>\n",
       "      <td>510613.00</td>\n",
       "      <td>509722.00</td>\n",
       "      <td>579975.00</td>\n",
       "      <td>600843.00</td>\n",
       "      <td>612889.00</td>\n",
       "      <td>627539.00</td>\n",
       "      <td>629233.00</td>\n",
       "    </tr>\n",
       "    <tr>\n",
       "      <th>44944</th>\n",
       "      <td>China</td>\n",
       "      <td>Cereals - Excluding Beer</td>\n",
       "      <td>Feed</td>\n",
       "      <td>1000 tonnes</td>\n",
       "      <td>151931.00</td>\n",
       "      <td>158640.00</td>\n",
       "      <td>164114.00</td>\n",
       "      <td>151419.00</td>\n",
       "      <td>146148.00</td>\n",
       "      <td>188554.00</td>\n",
       "      <td>211366.00</td>\n",
       "      <td>219363.00</td>\n",
       "      <td>231253.00</td>\n",
       "      <td>232039.00</td>\n",
       "    </tr>\n",
       "    <tr>\n",
       "      <th>44945</th>\n",
       "      <td>China</td>\n",
       "      <td>Cereals - Excluding Beer</td>\n",
       "      <td>Seed</td>\n",
       "      <td>1000 tonnes</td>\n",
       "      <td>13242.00</td>\n",
       "      <td>13073.00</td>\n",
       "      <td>13167.00</td>\n",
       "      <td>12518.00</td>\n",
       "      <td>13292.00</td>\n",
       "      <td>13672.00</td>\n",
       "      <td>13576.00</td>\n",
       "      <td>13449.00</td>\n",
       "      <td>13225.00</td>\n",
       "      <td>12829.00</td>\n",
       "    </tr>\n",
       "    <tr>\n",
       "      <th>44946</th>\n",
       "      <td>China</td>\n",
       "      <td>Cereals - Excluding Beer</td>\n",
       "      <td>Losses</td>\n",
       "      <td>1000 tonnes</td>\n",
       "      <td>19013.00</td>\n",
       "      <td>19976.00</td>\n",
       "      <td>21105.00</td>\n",
       "      <td>21453.00</td>\n",
       "      <td>21926.00</td>\n",
       "      <td>24945.00</td>\n",
       "      <td>24365.00</td>\n",
       "      <td>24293.00</td>\n",
       "      <td>24021.00</td>\n",
       "      <td>23997.00</td>\n",
       "    </tr>\n",
       "    <tr>\n",
       "      <th>44947</th>\n",
       "      <td>China</td>\n",
       "      <td>Cereals - Excluding Beer</td>\n",
       "      <td>Processing</td>\n",
       "      <td>1000 tonnes</td>\n",
       "      <td>11574.00</td>\n",
       "      <td>12760.00</td>\n",
       "      <td>12688.00</td>\n",
       "      <td>13384.00</td>\n",
       "      <td>16191.00</td>\n",
       "      <td>15775.00</td>\n",
       "      <td>14741.00</td>\n",
       "      <td>14499.00</td>\n",
       "      <td>12829.00</td>\n",
       "      <td>12608.00</td>\n",
       "    </tr>\n",
       "    <tr>\n",
       "      <th>44948</th>\n",
       "      <td>China</td>\n",
       "      <td>Cereals - Excluding Beer</td>\n",
       "      <td>Other uses (non-food)</td>\n",
       "      <td>1000 tonnes</td>\n",
       "      <td>28599.00</td>\n",
       "      <td>29694.00</td>\n",
       "      <td>32682.00</td>\n",
       "      <td>30592.00</td>\n",
       "      <td>28518.00</td>\n",
       "      <td>48065.00</td>\n",
       "      <td>49183.00</td>\n",
       "      <td>50367.00</td>\n",
       "      <td>52781.00</td>\n",
       "      <td>52100.00</td>\n",
       "    </tr>\n",
       "    <tr>\n",
       "      <th>44949</th>\n",
       "      <td>China</td>\n",
       "      <td>Cereals - Excluding Beer</td>\n",
       "      <td>Tourist consumption</td>\n",
       "      <td>1000 tonnes</td>\n",
       "      <td>23.00</td>\n",
       "      <td>23.00</td>\n",
       "      <td>22.00</td>\n",
       "      <td>22.00</td>\n",
       "      <td>11.00</td>\n",
       "      <td>12.00</td>\n",
       "      <td>10.00</td>\n",
       "      <td>11.00</td>\n",
       "      <td>12.00</td>\n",
       "      <td>12.00</td>\n",
       "    </tr>\n",
       "    <tr>\n",
       "      <th>44950</th>\n",
       "      <td>China</td>\n",
       "      <td>Cereals - Excluding Beer</td>\n",
       "      <td>Residuals</td>\n",
       "      <td>1000 tonnes</td>\n",
       "      <td>0.00</td>\n",
       "      <td>0.00</td>\n",
       "      <td>0.00</td>\n",
       "      <td>-8.00</td>\n",
       "      <td>1.00</td>\n",
       "      <td>1.00</td>\n",
       "      <td>1.00</td>\n",
       "      <td>1.00</td>\n",
       "      <td>1.00</td>\n",
       "      <td>10.00</td>\n",
       "    </tr>\n",
       "    <tr>\n",
       "      <th>44951</th>\n",
       "      <td>China</td>\n",
       "      <td>Cereals - Excluding Beer</td>\n",
       "      <td>Food</td>\n",
       "      <td>1000 tonnes</td>\n",
       "      <td>276351.00</td>\n",
       "      <td>280713.00</td>\n",
       "      <td>283417.00</td>\n",
       "      <td>281233.00</td>\n",
       "      <td>283635.00</td>\n",
       "      <td>288951.00</td>\n",
       "      <td>287601.00</td>\n",
       "      <td>290907.00</td>\n",
       "      <td>293416.00</td>\n",
       "      <td>295637.00</td>\n",
       "    </tr>\n",
       "    <tr>\n",
       "      <th>44952</th>\n",
       "      <td>China</td>\n",
       "      <td>Cereals - Excluding Beer</td>\n",
       "      <td>Food supply quantity (kg/capita/yr)</td>\n",
       "      <td>kg</td>\n",
       "      <td>197.46</td>\n",
       "      <td>199.47</td>\n",
       "      <td>200.27</td>\n",
       "      <td>197.64</td>\n",
       "      <td>198.25</td>\n",
       "      <td>200.91</td>\n",
       "      <td>198.96</td>\n",
       "      <td>200.26</td>\n",
       "      <td>201.06</td>\n",
       "      <td>201.71</td>\n",
       "    </tr>\n",
       "    <tr>\n",
       "      <th>44953</th>\n",
       "      <td>China</td>\n",
       "      <td>Cereals - Excluding Beer</td>\n",
       "      <td>Food supply (kcal/capita/day)</td>\n",
       "      <td>kcal/capita/day</td>\n",
       "      <td>1483.00</td>\n",
       "      <td>1500.00</td>\n",
       "      <td>1505.00</td>\n",
       "      <td>1485.00</td>\n",
       "      <td>1489.00</td>\n",
       "      <td>1511.00</td>\n",
       "      <td>1501.00</td>\n",
       "      <td>1513.00</td>\n",
       "      <td>1517.00</td>\n",
       "      <td>1523.00</td>\n",
       "    </tr>\n",
       "    <tr>\n",
       "      <th>44954</th>\n",
       "      <td>China</td>\n",
       "      <td>Cereals - Excluding Beer</td>\n",
       "      <td>Protein supply quantity (g/capita/day)</td>\n",
       "      <td>g/capita/day</td>\n",
       "      <td>35.15</td>\n",
       "      <td>35.67</td>\n",
       "      <td>35.69</td>\n",
       "      <td>35.19</td>\n",
       "      <td>35.21</td>\n",
       "      <td>35.83</td>\n",
       "      <td>35.70</td>\n",
       "      <td>36.09</td>\n",
       "      <td>36.02</td>\n",
       "      <td>36.15</td>\n",
       "    </tr>\n",
       "    <tr>\n",
       "      <th>44955</th>\n",
       "      <td>China</td>\n",
       "      <td>Cereals - Excluding Beer</td>\n",
       "      <td>Fat supply quantity (g/capita/day)</td>\n",
       "      <td>g/capita/day</td>\n",
       "      <td>6.11</td>\n",
       "      <td>6.20</td>\n",
       "      <td>6.22</td>\n",
       "      <td>6.18</td>\n",
       "      <td>6.22</td>\n",
       "      <td>6.41</td>\n",
       "      <td>6.42</td>\n",
       "      <td>6.48</td>\n",
       "      <td>6.45</td>\n",
       "      <td>6.45</td>\n",
       "    </tr>\n",
       "  </tbody>\n",
       "</table>\n",
       "</div>"
      ],
      "text/plain": [
       "        Area                      Item  \\\n",
       "44939  China  Cereals - Excluding Beer   \n",
       "44940  China  Cereals - Excluding Beer   \n",
       "44941  China  Cereals - Excluding Beer   \n",
       "44942  China  Cereals - Excluding Beer   \n",
       "44943  China  Cereals - Excluding Beer   \n",
       "44944  China  Cereals - Excluding Beer   \n",
       "44945  China  Cereals - Excluding Beer   \n",
       "44946  China  Cereals - Excluding Beer   \n",
       "44947  China  Cereals - Excluding Beer   \n",
       "44948  China  Cereals - Excluding Beer   \n",
       "44949  China  Cereals - Excluding Beer   \n",
       "44950  China  Cereals - Excluding Beer   \n",
       "44951  China  Cereals - Excluding Beer   \n",
       "44952  China  Cereals - Excluding Beer   \n",
       "44953  China  Cereals - Excluding Beer   \n",
       "44954  China  Cereals - Excluding Beer   \n",
       "44955  China  Cereals - Excluding Beer   \n",
       "\n",
       "                                      Element             Unit      Y2010  \\\n",
       "44939                              Production      1000 tonnes  498113.00   \n",
       "44940                         Import Quantity      1000 tonnes   13861.00   \n",
       "44941                         Stock Variation      1000 tonnes    8114.00   \n",
       "44942                         Export Quantity      1000 tonnes    3127.00   \n",
       "44943                Domestic supply quantity      1000 tonnes  500734.00   \n",
       "44944                                    Feed      1000 tonnes  151931.00   \n",
       "44945                                    Seed      1000 tonnes   13242.00   \n",
       "44946                                  Losses      1000 tonnes   19013.00   \n",
       "44947                              Processing      1000 tonnes   11574.00   \n",
       "44948                   Other uses (non-food)      1000 tonnes   28599.00   \n",
       "44949                     Tourist consumption      1000 tonnes      23.00   \n",
       "44950                               Residuals      1000 tonnes       0.00   \n",
       "44951                                    Food      1000 tonnes  276351.00   \n",
       "44952     Food supply quantity (kg/capita/yr)               kg     197.46   \n",
       "44953           Food supply (kcal/capita/day)  kcal/capita/day    1483.00   \n",
       "44954  Protein supply quantity (g/capita/day)     g/capita/day      35.15   \n",
       "44955      Fat supply quantity (g/capita/day)     g/capita/day       6.11   \n",
       "\n",
       "           Y2011      Y2012      Y2013      Y2014      Y2015      Y2016  \\\n",
       "44939  521383.00  541368.00  554623.00  559483.00  620074.00  616491.00   \n",
       "44940   13044.00   22636.00   22952.00   28186.00   41880.00   31380.00   \n",
       "44941   16754.00   34353.00   64549.00   75918.00   80210.00   44705.00   \n",
       "44942    2793.00    2456.00    2414.00    2029.00    1770.00    2323.00   \n",
       "44943  514880.00  527195.00  510613.00  509722.00  579975.00  600843.00   \n",
       "44944  158640.00  164114.00  151419.00  146148.00  188554.00  211366.00   \n",
       "44945   13073.00   13167.00   12518.00   13292.00   13672.00   13576.00   \n",
       "44946   19976.00   21105.00   21453.00   21926.00   24945.00   24365.00   \n",
       "44947   12760.00   12688.00   13384.00   16191.00   15775.00   14741.00   \n",
       "44948   29694.00   32682.00   30592.00   28518.00   48065.00   49183.00   \n",
       "44949      23.00      22.00      22.00      11.00      12.00      10.00   \n",
       "44950       0.00       0.00      -8.00       1.00       1.00       1.00   \n",
       "44951  280713.00  283417.00  281233.00  283635.00  288951.00  287601.00   \n",
       "44952     199.47     200.27     197.64     198.25     200.91     198.96   \n",
       "44953    1500.00    1505.00    1485.00    1489.00    1511.00    1501.00   \n",
       "44954      35.67      35.69      35.19      35.21      35.83      35.70   \n",
       "44955       6.20       6.22       6.18       6.22       6.41       6.42   \n",
       "\n",
       "           Y2017      Y2018      Y2019  \n",
       "44939  616130.00  611244.00  614914.00  \n",
       "44940   35473.00   29491.00   27492.00  \n",
       "44941   35028.00    7514.00    6019.00  \n",
       "44942    3686.00    5683.00    7154.00  \n",
       "44943  612889.00  627539.00  629233.00  \n",
       "44944  219363.00  231253.00  232039.00  \n",
       "44945   13449.00   13225.00   12829.00  \n",
       "44946   24293.00   24021.00   23997.00  \n",
       "44947   14499.00   12829.00   12608.00  \n",
       "44948   50367.00   52781.00   52100.00  \n",
       "44949      11.00      12.00      12.00  \n",
       "44950       1.00       1.00      10.00  \n",
       "44951  290907.00  293416.00  295637.00  \n",
       "44952     200.26     201.06     201.71  \n",
       "44953    1513.00    1517.00    1523.00  \n",
       "44954      36.09      36.02      36.15  \n",
       "44955       6.48       6.45       6.45  "
      ]
     },
     "execution_count": 11,
     "metadata": {},
     "output_type": "execute_result"
    }
   ],
   "source": [
    "data"
   ]
  },
  {
   "cell_type": "markdown",
   "metadata": {},
   "source": [
    "# MEAN-BASED PREDICTION\n",
    "\n",
    "Calculate the loss value of an upcoming year based on the average of previous losses"
   ]
  },
  {
   "cell_type": "code",
   "execution_count": 12,
   "metadata": {
    "collapsed": false,
    "pycharm": {
     "name": "#%%\n"
    }
   },
   "outputs": [],
   "source": [
    "def mean_based(year):\n",
    "    try:\n",
    "        mean_pred=[]\n",
    "        losses=data[data.Element==\"Losses\"].iloc[0,4:]\n",
    "        count=0\n",
    "        sum=0\n",
    "        for i in losses.index:\n",
    "            if i==\"Y\"+str(year):\n",
    "                break\n",
    "            sum=losses[i]+sum\n",
    "            count+=1\n",
    "        mean_pred=sum/count\n",
    "        return mean_pred\n",
    "    except:\n",
    "        return losses[\"Y\"+str(year)]"
   ]
  },
  {
   "cell_type": "code",
   "execution_count": 14,
   "metadata": {
    "collapsed": false,
    "pycharm": {
     "name": "#%%\n"
    }
   },
   "outputs": [
    {
     "name": "stderr",
     "output_type": "stream",
     "text": [
      "/var/folders/t6/nkv95bj97gv9j73w9bfk2p0r0000gn/T/ipykernel_25222/3604102451.py:6: SettingWithCopyWarning: \n",
      "A value is trying to be set on a copy of a slice from a DataFrame\n",
      "\n",
      "See the caveats in the documentation: https://pandas.pydata.org/pandas-docs/stable/user_guide/indexing.html#returning-a-view-versus-a-copy\n",
      "  losses[\"MeanBasedPred\"][i]=mean_based(int(i[1:]))\n"
     ]
    }
   ],
   "source": [
    "mean_based_pred=[]\n",
    "losses=pd.DataFrame(data[data.Element==\"Losses\"].iloc[0,4:])\n",
    "losses.columns=[\"Actual\"]\n",
    "losses[\"MeanBasedPred\"]=np.zeros([len(losses)])\n",
    "for i in losses.index:\n",
    "    losses[\"MeanBasedPred\"][i]=mean_based(int(i[1:]))"
   ]
  },
  {
   "cell_type": "code",
   "execution_count": 15,
   "metadata": {},
   "outputs": [
    {
     "data": {
      "text/html": [
       "<div>\n",
       "<style scoped>\n",
       "    .dataframe tbody tr th:only-of-type {\n",
       "        vertical-align: middle;\n",
       "    }\n",
       "\n",
       "    .dataframe tbody tr th {\n",
       "        vertical-align: top;\n",
       "    }\n",
       "\n",
       "    .dataframe thead th {\n",
       "        text-align: right;\n",
       "    }\n",
       "</style>\n",
       "<table border=\"1\" class=\"dataframe\">\n",
       "  <thead>\n",
       "    <tr style=\"text-align: right;\">\n",
       "      <th></th>\n",
       "      <th>index</th>\n",
       "      <th>Actual</th>\n",
       "      <th>MeanBasedPred</th>\n",
       "    </tr>\n",
       "  </thead>\n",
       "  <tbody>\n",
       "    <tr>\n",
       "      <th>0</th>\n",
       "      <td>Y2010</td>\n",
       "      <td>19013.0</td>\n",
       "      <td>19013.000000</td>\n",
       "    </tr>\n",
       "    <tr>\n",
       "      <th>1</th>\n",
       "      <td>Y2011</td>\n",
       "      <td>19976.0</td>\n",
       "      <td>19013.000000</td>\n",
       "    </tr>\n",
       "    <tr>\n",
       "      <th>2</th>\n",
       "      <td>Y2012</td>\n",
       "      <td>21105.0</td>\n",
       "      <td>19494.500000</td>\n",
       "    </tr>\n",
       "    <tr>\n",
       "      <th>3</th>\n",
       "      <td>Y2013</td>\n",
       "      <td>21453.0</td>\n",
       "      <td>20031.333333</td>\n",
       "    </tr>\n",
       "    <tr>\n",
       "      <th>4</th>\n",
       "      <td>Y2014</td>\n",
       "      <td>21926.0</td>\n",
       "      <td>20386.750000</td>\n",
       "    </tr>\n",
       "    <tr>\n",
       "      <th>5</th>\n",
       "      <td>Y2015</td>\n",
       "      <td>24945.0</td>\n",
       "      <td>20694.600000</td>\n",
       "    </tr>\n",
       "    <tr>\n",
       "      <th>6</th>\n",
       "      <td>Y2016</td>\n",
       "      <td>24365.0</td>\n",
       "      <td>21403.000000</td>\n",
       "    </tr>\n",
       "    <tr>\n",
       "      <th>7</th>\n",
       "      <td>Y2017</td>\n",
       "      <td>24293.0</td>\n",
       "      <td>21826.142857</td>\n",
       "    </tr>\n",
       "    <tr>\n",
       "      <th>8</th>\n",
       "      <td>Y2018</td>\n",
       "      <td>24021.0</td>\n",
       "      <td>22134.500000</td>\n",
       "    </tr>\n",
       "    <tr>\n",
       "      <th>9</th>\n",
       "      <td>Y2019</td>\n",
       "      <td>23997.0</td>\n",
       "      <td>22344.111111</td>\n",
       "    </tr>\n",
       "  </tbody>\n",
       "</table>\n",
       "</div>"
      ],
      "text/plain": [
       "   index   Actual  MeanBasedPred\n",
       "0  Y2010  19013.0   19013.000000\n",
       "1  Y2011  19976.0   19013.000000\n",
       "2  Y2012  21105.0   19494.500000\n",
       "3  Y2013  21453.0   20031.333333\n",
       "4  Y2014  21926.0   20386.750000\n",
       "5  Y2015  24945.0   20694.600000\n",
       "6  Y2016  24365.0   21403.000000\n",
       "7  Y2017  24293.0   21826.142857\n",
       "8  Y2018  24021.0   22134.500000\n",
       "9  Y2019  23997.0   22344.111111"
      ]
     },
     "execution_count": 15,
     "metadata": {},
     "output_type": "execute_result"
    }
   ],
   "source": [
    "losses.reset_index()"
   ]
  },
  {
   "cell_type": "code",
   "execution_count": 17,
   "metadata": {},
   "outputs": [
    {
     "name": "stdout",
     "output_type": "stream",
     "text": [
      "Root Mean Square Error:\n",
      "\n",
      "2170.879042597463\n"
     ]
    }
   ],
   "source": [
    "MSE = np.square(np.subtract(losses[\"Actual\"].values,losses[\"MeanBasedPred\"].values)).mean() \n",
    "RMSE = math.sqrt(MSE)\n",
    "print(\"Root Mean Square Error:\\n\")\n",
    "print(RMSE)"
   ]
  },
  {
   "cell_type": "code",
   "execution_count": 21,
   "metadata": {},
   "outputs": [
    {
     "data": {
      "text/plain": [
       "<matplotlib.legend.Legend at 0x7ff247d4d910>"
      ]
     },
     "execution_count": 21,
     "metadata": {},
     "output_type": "execute_result"
    },
    {
     "data": {
      "image/png": "[encoded data removed]",
      "text/plain": [
       "<Figure size 432x288 with 1 Axes>"
      ]
     },
     "metadata": {
      "needs_background": "light"
     },
     "output_type": "display_data"
    }
   ],
   "source": [
    "plt.plot(losses.index,losses[\"Actual\"])\n",
    "plt.plot(losses.index,losses.MeanBasedPred)\n",
    "plt.title(\"Prediction based on mean values of previous years\")\n",
    "plt.legend(['Actual', 'Mean-based Prediction'], loc='lower right')"
   ]
  },
  {
   "cell_type": "code",
   "execution_count": 22,
   "metadata": {
    "collapsed": false,
    "pycharm": {
     "name": "#%%\n"
    }
   },
   "outputs": [
    {
     "data": {
      "text/plain": [
       "Y2010    1399503000.0\n",
       "Y2011    1407325000.0\n",
       "Y2012    1415164000.0\n",
       "Y2013    1422971000.0\n",
       "Y2014    1430671000.0\n",
       "Y2015    1438193000.0\n",
       "Y2016    1445524000.0\n",
       "Y2017    1452626000.0\n",
       "Y2018    1459378000.0\n",
       "Y2019    1465634000.0\n",
       "Name: 44928, dtype: object"
      ]
     },
     "execution_count": 22,
     "metadata": {},
     "output_type": "execute_result"
    }
   ],
   "source": [
    "population=df[df[\"Element\"]==\"Total Population - Both sexes\"]\n",
    "population=population[population.Area==\"China\"].iloc[0,4:]*1000\n",
    "population"
   ]
  },
  {
   "cell_type": "code",
   "execution_count": 23,
   "metadata": {
    "collapsed": false,
    "pycharm": {
     "name": "#%%\n"
    }
   },
   "outputs": [],
   "source": [
    "lstm_data=pd.DataFrame(population)\n",
    "lstm_data.columns=[\"Population\"]"
   ]
  },
  {
   "cell_type": "code",
   "execution_count": 24,
   "metadata": {
    "collapsed": false,
    "pycharm": {
     "name": "#%%\n"
    }
   },
   "outputs": [],
   "source": [
    "lstm_data[\"Actual Loss\"]=losses[\"Actual\"]"
   ]
  },
  {
   "cell_type": "markdown",
   "metadata": {},
   "source": [
    "# ARIMA MODEL"
   ]
  },
  {
   "cell_type": "code",
   "execution_count": 30,
   "metadata": {},
   "outputs": [
    {
     "name": "stdout",
     "output_type": "stream",
     "text": [
      "predicted=25240.417369, expected=24365.000000\n",
      "predicted=24320.932937, expected=24293.000000\n",
      "predicted=24287.198562, expected=24021.000000\n",
      "predicted=23997.888237, expected=23997.000000\n",
      "Test RMSE: 457.711\n"
     ]
    },
    {
     "name": "stderr",
     "output_type": "stream",
     "text": [
      "/Users/murathansaygili/Desktop/SIC/venv/lib/python3.9/site-packages/statsmodels/tsa/statespace/sarimax.py:966: UserWarning: Non-stationary starting autoregressive parameters found. Using zeros as starting parameters.\n",
      "  warn('Non-stationary starting autoregressive parameters'\n"
     ]
    },
    {
     "data": {
      "image/png": "[encoded data removed]",
      "text/plain": [
       "<Figure size 432x288 with 1 Axes>"
      ]
     },
     "metadata": {
      "needs_background": "light"
     },
     "output_type": "display_data"
    }
   ],
   "source": [
    "series=lstm_data[\"Actual Loss\"]\n",
    "X = series.values\n",
    "size = int(len(X) * 0.66)\n",
    "train, test = X[0:size], X[size:len(X)]\n",
    "history = [x for x in train]\n",
    "predictions = list()\n",
    "# walk-forward validation\n",
    "for t in range(len(test)):\n",
    "\tmodel = ARIMA(history, order=(1,1,0))\n",
    "\tmodel_fit = model.fit()\n",
    "\toutput = model_fit.forecast()\n",
    "\tyhat = output[0]\n",
    "\tpredictions.append(yhat)\n",
    "\tobs = test[t]\n",
    "\thistory.append(obs)\n",
    "\tprint('predicted=%f, expected=%f' % (yhat, obs))\n",
    "# evaluate forecasts\n",
    "rmse = sqrt(mean_squared_error(test, predictions))\n",
    "print('Test RMSE: %.3f' % rmse)\n",
    "# plot forecasts against actual outcomes\n",
    "years=['2016','2017','2018','2019']\n",
    "pyplot.plot(years,test)\n",
    "pyplot.plot(predictions, color='red')\n",
    "pyplot.xlabel(\"Years\")\n",
    "pyplot.ylabel(\"Food Loss\")\n",
    "plt.legend([\"Actual\",\"Prediciton\"])\n",
    "plt.title(\"ARIMA\")\n",
    "plt.ylim(23000,26000)\n",
    "pyplot.show()"
   ]
  },
  {
   "cell_type": "code",
   "execution_count": 31,
   "metadata": {},
   "outputs": [
    {
     "data": {
      "text/plain": [
       "[25240.417368872564, 24320.93293662449, 24287.198561513767, 23997.888236644696]"
      ]
     },
     "execution_count": 31,
     "metadata": {},
     "output_type": "execute_result"
    }
   ],
   "source": [
    "predictions"
   ]
  },
  {
   "cell_type": "code",
   "execution_count": 33,
   "metadata": {
    "collapsed": false,
    "pycharm": {
     "name": "#%%\n"
    }
   },
   "outputs": [],
   "source": [
    "def df_to_X_y(df, window_size=3):\n",
    "  df_as_np = df.to_numpy()\n",
    "  X = []\n",
    "  y = []\n",
    "  for i in range(len(df_as_np)-window_size):\n",
    "    row = [[a] for a in df_as_np[i:i+window_size]]\n",
    "    X.append(row)\n",
    "    label = df_as_np[i+window_size]\n",
    "    y.append(label)\n",
    "  return np.array(X), np.array(y)"
   ]
  },
  {
   "cell_type": "code",
   "execution_count": 102,
   "metadata": {},
   "outputs": [
    {
     "data": {
      "text/plain": [
       "((7, 3, 1), (7,))"
      ]
     },
     "execution_count": 102,
     "metadata": {},
     "output_type": "execute_result"
    }
   ],
   "source": [
    "WINDOW_SIZE = 3\n",
    "X1, y1 = df_to_X_y(lstm_data[\"Actual Loss\"], WINDOW_SIZE)\n",
    "X1.shape, y1.shape"
   ]
  },
  {
   "cell_type": "code",
   "execution_count": 103,
   "metadata": {},
   "outputs": [
    {
     "data": {
      "text/plain": [
       "((4, 3, 1), (4,), (2, 3, 1), (2,), (1, 3, 1), (1,))"
      ]
     },
     "execution_count": 103,
     "metadata": {},
     "output_type": "execute_result"
    }
   ],
   "source": [
    "X_train1, y_train1 = X1[:4], y1[:4]\n",
    "X_val1, y_val1 = X1[4:6], y1[4:6]\n",
    "X_test1, y_test1 = X1[6:], y1[6:]\n",
    "X_train1.shape, y_train1.shape, X_val1.shape, y_val1.shape, X_test1.shape, y_test1.shape"
   ]
  },
  {
   "cell_type": "markdown",
   "metadata": {},
   "source": [
    "Data Scaling"
   ]
  },
  {
   "cell_type": "code",
   "execution_count": 104,
   "metadata": {},
   "outputs": [],
   "source": [
    "scalers = {}\n",
    "for i in range(X_train1.shape[1]):\n",
    "    scalers[i] = StandardScaler()\n",
    "    X_train1[:, i, :] = scalers[i].fit_transform(X_train1[:, i, :]) \n",
    "\n",
    "for i in range(X_test1.shape[1]):\n",
    "    X_test1[:, i, :] = scalers[i].transform(X_test1[:, i, :]) "
   ]
  },
  {
   "cell_type": "markdown",
   "metadata": {},
   "source": [
    "# LSTM MODEL"
   ]
  },
  {
   "cell_type": "code",
   "execution_count": 67,
   "metadata": {
    "collapsed": false,
    "pycharm": {
     "name": "#%%\n"
    }
   },
   "outputs": [
    {
     "name": "stdout",
     "output_type": "stream",
     "text": [
      "Epoch 1/20\n",
      "1/1 [==============================] - ETA: 0s - loss: 539233280.0000 - root_mean_squared_error: 23221.3965"
     ]
    },
    {
     "name": "stderr",
     "output_type": "stream",
     "text": [
      "WARNING:absl:Found untraced functions such as lstm_cell_2_layer_call_fn, lstm_cell_2_layer_call_and_return_conditional_losses while saving (showing 2 of 2). These functions will not be directly callable after loading.\n"
     ]
    },
    {
     "name": "stdout",
     "output_type": "stream",
     "text": [
      "INFO:tensorflow:Assets written to: model1/assets\n"
     ]
    },
    {
     "name": "stderr",
     "output_type": "stream",
     "text": [
      "INFO:tensorflow:Assets written to: model1/assets\n"
     ]
    },
    {
     "name": "stdout",
     "output_type": "stream",
     "text": [
      "1/1 [==============================] - 5s 5s/step - loss: 539233280.0000 - root_mean_squared_error: 23221.3965 - val_loss: 368912032.0000 - val_root_mean_squared_error: 19207.0820\n",
      "Epoch 2/20\n",
      "1/1 [==============================] - ETA: 0s - loss: 334304448.0000 - root_mean_squared_error: 18283.9941"
     ]
    },
    {
     "name": "stderr",
     "output_type": "stream",
     "text": [
      "WARNING:absl:Found untraced functions such as lstm_cell_2_layer_call_fn, lstm_cell_2_layer_call_and_return_conditional_losses while saving (showing 2 of 2). These functions will not be directly callable after loading.\n"
     ]
    },
    {
     "name": "stdout",
     "output_type": "stream",
     "text": [
      "INFO:tensorflow:Assets written to: model1/assets\n"
     ]
    },
    {
     "name": "stderr",
     "output_type": "stream",
     "text": [
      "INFO:tensorflow:Assets written to: model1/assets\n"
     ]
    },
    {
     "name": "stdout",
     "output_type": "stream",
     "text": [
      "1/1 [==============================] - 3s 3s/step - loss: 334304448.0000 - root_mean_squared_error: 18283.9941 - val_loss: 82948400.0000 - val_root_mean_squared_error: 9107.6016\n",
      "Epoch 3/20\n",
      "1/1 [==============================] - ETA: 0s - loss: 68232768.0000 - root_mean_squared_error: 8260.3125"
     ]
    },
    {
     "name": "stderr",
     "output_type": "stream",
     "text": [
      "WARNING:absl:Found untraced functions such as lstm_cell_2_layer_call_fn, lstm_cell_2_layer_call_and_return_conditional_losses while saving (showing 2 of 2). These functions will not be directly callable after loading.\n"
     ]
    },
    {
     "name": "stdout",
     "output_type": "stream",
     "text": [
      "INFO:tensorflow:Assets written to: model1/assets\n"
     ]
    },
    {
     "name": "stderr",
     "output_type": "stream",
     "text": [
      "INFO:tensorflow:Assets written to: model1/assets\n"
     ]
    },
    {
     "name": "stdout",
     "output_type": "stream",
     "text": [
      "1/1 [==============================] - 3s 3s/step - loss: 68232768.0000 - root_mean_squared_error: 8260.3125 - val_loss: 77536200.0000 - val_root_mean_squared_error: 8805.4639\n",
      "Epoch 4/20\n",
      "1/1 [==============================] - 0s 22ms/step - loss: 98096296.0000 - root_mean_squared_error: 9904.3574 - val_loss: 98238832.0000 - val_root_mean_squared_error: 9911.5508\n",
      "Epoch 5/20\n",
      "1/1 [==============================] - ETA: 0s - loss: 120977584.0000 - root_mean_squared_error: 10998.9814"
     ]
    },
    {
     "name": "stderr",
     "output_type": "stream",
     "text": [
      "WARNING:absl:Found untraced functions such as lstm_cell_2_layer_call_fn, lstm_cell_2_layer_call_and_return_conditional_losses while saving (showing 2 of 2). These functions will not be directly callable after loading.\n"
     ]
    },
    {
     "name": "stdout",
     "output_type": "stream",
     "text": [
      "INFO:tensorflow:Assets written to: model1/assets\n"
     ]
    },
    {
     "name": "stderr",
     "output_type": "stream",
     "text": [
      "INFO:tensorflow:Assets written to: model1/assets\n"
     ]
    },
    {
     "name": "stdout",
     "output_type": "stream",
     "text": [
      "1/1 [==============================] - 3s 3s/step - loss: 120977584.0000 - root_mean_squared_error: 10998.9814 - val_loss: 5064732.0000 - val_root_mean_squared_error: 2250.4958\n",
      "Epoch 6/20\n",
      "1/1 [==============================] - 0s 23ms/step - loss: 12708782.0000 - root_mean_squared_error: 3564.9380 - val_loss: 26743740.0000 - val_root_mean_squared_error: 5171.4351\n",
      "Epoch 7/20\n",
      "1/1 [==============================] - 0s 23ms/step - loss: 19781922.0000 - root_mean_squared_error: 4447.6875 - val_loss: 82448880.0000 - val_root_mean_squared_error: 9080.1367\n",
      "Epoch 8/20\n",
      "1/1 [==============================] - 0s 23ms/step - loss: 67787360.0000 - root_mean_squared_error: 8233.3076 - val_loss: 94378352.0000 - val_root_mean_squared_error: 9714.8525\n",
      "Epoch 9/20\n",
      "1/1 [==============================] - 0s 23ms/step - loss: 78466632.0000 - root_mean_squared_error: 8858.1396 - val_loss: 60720688.0000 - val_root_mean_squared_error: 7792.3481\n",
      "Epoch 10/20\n",
      "1/1 [==============================] - 0s 23ms/step - loss: 48595800.0000 - root_mean_squared_error: 6971.0688 - val_loss: 14614597.0000 - val_root_mean_squared_error: 3822.9043\n",
      "Epoch 11/20\n",
      "1/1 [==============================] - ETA: 0s - loss: 10309953.0000 - root_mean_squared_error: 3210.9116"
     ]
    },
    {
     "name": "stderr",
     "output_type": "stream",
     "text": [
      "WARNING:absl:Found untraced functions such as lstm_cell_2_layer_call_fn, lstm_cell_2_layer_call_and_return_conditional_losses while saving (showing 2 of 2). These functions will not be directly callable after loading.\n"
     ]
    },
    {
     "name": "stdout",
     "output_type": "stream",
     "text": [
      "INFO:tensorflow:Assets written to: model1/assets\n"
     ]
    },
    {
     "name": "stderr",
     "output_type": "stream",
     "text": [
      "INFO:tensorflow:Assets written to: model1/assets\n"
     ]
    },
    {
     "name": "stdout",
     "output_type": "stream",
     "text": [
      "1/1 [==============================] - 3s 3s/step - loss: 10309953.0000 - root_mean_squared_error: 3210.9116 - val_loss: 1535935.0000 - val_root_mean_squared_error: 1239.3285\n",
      "Epoch 12/20\n",
      "1/1 [==============================] - 0s 22ms/step - loss: 7181851.5000 - root_mean_squared_error: 2679.8977 - val_loss: 26336720.0000 - val_root_mean_squared_error: 5131.9316\n",
      "Epoch 13/20\n",
      "1/1 [==============================] - 0s 22ms/step - loss: 39660308.0000 - root_mean_squared_error: 6297.6431 - val_loss: 30555044.0000 - val_root_mean_squared_error: 5527.6616\n",
      "Epoch 14/20\n",
      "1/1 [==============================] - 0s 23ms/step - loss: 44658276.0000 - root_mean_squared_error: 6682.6846 - val_loss: 7378102.0000 - val_root_mean_squared_error: 2716.2661\n",
      "Epoch 15/20\n",
      "1/1 [==============================] - 0s 22ms/step - loss: 15940850.0000 - root_mean_squared_error: 3992.5994 - val_loss: 1539218.5000 - val_root_mean_squared_error: 1240.6525\n",
      "Epoch 16/20\n",
      "1/1 [==============================] - 0s 22ms/step - loss: 2330278.2500 - root_mean_squared_error: 1526.5249 - val_loss: 19819084.0000 - val_root_mean_squared_error: 4451.8628\n",
      "Epoch 17/20\n",
      "1/1 [==============================] - 0s 24ms/step - loss: 14275032.0000 - root_mean_squared_error: 3778.2314 - val_loss: 36758856.0000 - val_root_mean_squared_error: 6062.9082\n",
      "Epoch 18/20\n",
      "1/1 [==============================] - 0s 23ms/step - loss: 28040764.0000 - root_mean_squared_error: 5295.3530 - val_loss: 35374804.0000 - val_root_mean_squared_error: 5947.6724\n",
      "Epoch 19/20\n",
      "1/1 [==============================] - 0s 23ms/step - loss: 26883728.0000 - root_mean_squared_error: 5184.9521 - val_loss: 18597778.0000 - val_root_mean_squared_error: 4312.5142\n",
      "Epoch 20/20\n",
      "1/1 [==============================] - 0s 23ms/step - loss: 13328306.0000 - root_mean_squared_error: 3650.7952 - val_loss: 2631240.0000 - val_root_mean_squared_error: 1622.1097\n"
     ]
    },
    {
     "data": {
      "text/plain": [
       "<keras.callbacks.History at 0x7ff2353b51f0>"
      ]
     },
     "execution_count": 67,
     "metadata": {},
     "output_type": "execute_result"
    }
   ],
   "source": [
    "model1 = Sequential()\n",
    "model1.add(InputLayer((3, 1)))\n",
    "model1.add(LSTM(64))\n",
    "model1.add(Dense(8, 'relu'))\n",
    "model1.add(Dense(1, 'linear'))\n",
    "\n",
    "# model1.summary()\n",
    "\n",
    "cp1 = ModelCheckpoint('model1/', save_best_only=True)\n",
    "model1.compile(loss=MeanSquaredError(), optimizer=Adam(learning_rate=10), metrics=[RootMeanSquaredError()])\n",
    "\n",
    "model1.fit(X_train1, y_train1, validation_data=(X_val1, y_val1), epochs=20, callbacks=[cp1])"
   ]
  },
  {
   "cell_type": "code",
   "execution_count": 68,
   "metadata": {
    "collapsed": false,
    "pycharm": {
     "name": "#%%\n"
    }
   },
   "outputs": [],
   "source": [
    "from tensorflow.keras.models import load_model\n",
    "model1 = load_model('model1/')"
   ]
  },
  {
   "cell_type": "code",
   "execution_count": 69,
   "metadata": {
    "collapsed": false,
    "pycharm": {
     "name": "#%%\n"
    }
   },
   "outputs": [
    {
     "name": "stdout",
     "output_type": "stream",
     "text": [
      "1/1 [==============================] - 0s 365ms/step\n"
     ]
    },
    {
     "data": {
      "text/html": [
       "<div>\n",
       "<style scoped>\n",
       "    .dataframe tbody tr th:only-of-type {\n",
       "        vertical-align: middle;\n",
       "    }\n",
       "\n",
       "    .dataframe tbody tr th {\n",
       "        vertical-align: top;\n",
       "    }\n",
       "\n",
       "    .dataframe thead th {\n",
       "        text-align: right;\n",
       "    }\n",
       "</style>\n",
       "<table border=\"1\" class=\"dataframe\">\n",
       "  <thead>\n",
       "    <tr style=\"text-align: right;\">\n",
       "      <th></th>\n",
       "      <th>Train Predictions</th>\n",
       "      <th>Actuals</th>\n",
       "    </tr>\n",
       "  </thead>\n",
       "  <tbody>\n",
       "    <tr>\n",
       "      <th>0</th>\n",
       "      <td>25388.84375</td>\n",
       "      <td>21453.0</td>\n",
       "    </tr>\n",
       "    <tr>\n",
       "      <th>1</th>\n",
       "      <td>25388.84375</td>\n",
       "      <td>21926.0</td>\n",
       "    </tr>\n",
       "    <tr>\n",
       "      <th>2</th>\n",
       "      <td>25388.84375</td>\n",
       "      <td>24945.0</td>\n",
       "    </tr>\n",
       "    <tr>\n",
       "      <th>3</th>\n",
       "      <td>25388.84375</td>\n",
       "      <td>24365.0</td>\n",
       "    </tr>\n",
       "  </tbody>\n",
       "</table>\n",
       "</div>"
      ],
      "text/plain": [
       "   Train Predictions  Actuals\n",
       "0        25388.84375  21453.0\n",
       "1        25388.84375  21926.0\n",
       "2        25388.84375  24945.0\n",
       "3        25388.84375  24365.0"
      ]
     },
     "execution_count": 69,
     "metadata": {},
     "output_type": "execute_result"
    }
   ],
   "source": [
    "train_predictions = model1.predict(X_train1).flatten()\n",
    "train_results = pd.DataFrame(data={'Train Predictions':train_predictions, 'Actuals':y_train1})\n",
    "train_results"
   ]
  },
  {
   "cell_type": "code",
   "execution_count": 70,
   "metadata": {},
   "outputs": [
    {
     "data": {
      "text/plain": [
       "2216.59375"
      ]
     },
     "execution_count": 70,
     "metadata": {},
     "output_type": "execute_result"
    }
   ],
   "source": [
    "mean_absolute_error(y_train1,train_predictions)"
   ]
  },
  {
   "cell_type": "code",
   "execution_count": 71,
   "metadata": {
    "collapsed": false,
    "pycharm": {
     "name": "#%%\n"
    }
   },
   "outputs": [
    {
     "data": {
      "text/plain": [
       "<matplotlib.legend.Legend at 0x7ff251161f70>"
      ]
     },
     "execution_count": 71,
     "metadata": {},
     "output_type": "execute_result"
    },
    {
     "data": {
      "image/png": "[encoded data removed]",
      "text/plain": [
       "<Figure size 432x288 with 1 Axes>"
      ]
     },
     "metadata": {
      "needs_background": "light"
     },
     "output_type": "display_data"
    }
   ],
   "source": [
    "plt.plot(train_results['Train Predictions'])\n",
    "plt.plot(train_results['Actuals'])\n",
    "plt.legend(['Prediction', 'Actual'], loc='lower right')"
   ]
  },
  {
   "cell_type": "code",
   "execution_count": 72,
   "metadata": {
    "collapsed": false,
    "pycharm": {
     "name": "#%%\n"
    }
   },
   "outputs": [
    {
     "name": "stdout",
     "output_type": "stream",
     "text": [
      "1/1 [==============================] - 0s 15ms/step\n"
     ]
    },
    {
     "data": {
      "text/html": [
       "<div>\n",
       "<style scoped>\n",
       "    .dataframe tbody tr th:only-of-type {\n",
       "        vertical-align: middle;\n",
       "    }\n",
       "\n",
       "    .dataframe tbody tr th {\n",
       "        vertical-align: top;\n",
       "    }\n",
       "\n",
       "    .dataframe thead th {\n",
       "        text-align: right;\n",
       "    }\n",
       "</style>\n",
       "<table border=\"1\" class=\"dataframe\">\n",
       "  <thead>\n",
       "    <tr style=\"text-align: right;\">\n",
       "      <th></th>\n",
       "      <th>Val Predictions</th>\n",
       "      <th>Actuals</th>\n",
       "    </tr>\n",
       "  </thead>\n",
       "  <tbody>\n",
       "    <tr>\n",
       "      <th>0</th>\n",
       "      <td>25388.84375</td>\n",
       "      <td>24293.0</td>\n",
       "    </tr>\n",
       "    <tr>\n",
       "      <th>1</th>\n",
       "      <td>25388.84375</td>\n",
       "      <td>24021.0</td>\n",
       "    </tr>\n",
       "  </tbody>\n",
       "</table>\n",
       "</div>"
      ],
      "text/plain": [
       "   Val Predictions  Actuals\n",
       "0      25388.84375  24293.0\n",
       "1      25388.84375  24021.0"
      ]
     },
     "execution_count": 72,
     "metadata": {},
     "output_type": "execute_result"
    }
   ],
   "source": [
    "val_predictions = model1.predict(X_val1).flatten()\n",
    "val_results = pd.DataFrame(data={'Val Predictions':val_predictions, 'Actuals':y_val1})\n",
    "val_results"
   ]
  },
  {
   "cell_type": "code",
   "execution_count": 73,
   "metadata": {
    "collapsed": false,
    "pycharm": {
     "name": "#%%\n"
    }
   },
   "outputs": [],
   "source": [
    "# plt.plot(val_results['Val Predictions'])\n",
    "# plt.plot(val_results['Actuals'])"
   ]
  },
  {
   "cell_type": "code",
   "execution_count": 74,
   "metadata": {
    "collapsed": false,
    "pycharm": {
     "name": "#%%\n"
    }
   },
   "outputs": [
    {
     "name": "stdout",
     "output_type": "stream",
     "text": [
      "1/1 [==============================] - 0s 15ms/step\n"
     ]
    },
    {
     "data": {
      "text/html": [
       "<div>\n",
       "<style scoped>\n",
       "    .dataframe tbody tr th:only-of-type {\n",
       "        vertical-align: middle;\n",
       "    }\n",
       "\n",
       "    .dataframe tbody tr th {\n",
       "        vertical-align: top;\n",
       "    }\n",
       "\n",
       "    .dataframe thead th {\n",
       "        text-align: right;\n",
       "    }\n",
       "</style>\n",
       "<table border=\"1\" class=\"dataframe\">\n",
       "  <thead>\n",
       "    <tr style=\"text-align: right;\">\n",
       "      <th></th>\n",
       "      <th>Test Predictions</th>\n",
       "      <th>Actuals</th>\n",
       "    </tr>\n",
       "  </thead>\n",
       "  <tbody>\n",
       "    <tr>\n",
       "      <th>0</th>\n",
       "      <td>25388.84375</td>\n",
       "      <td>23997.0</td>\n",
       "    </tr>\n",
       "  </tbody>\n",
       "</table>\n",
       "</div>"
      ],
      "text/plain": [
       "   Test Predictions  Actuals\n",
       "0       25388.84375  23997.0"
      ]
     },
     "execution_count": 74,
     "metadata": {},
     "output_type": "execute_result"
    }
   ],
   "source": [
    "test_predictions = model1.predict(X_test1).flatten()\n",
    "test_results = pd.DataFrame(data={'Test Predictions':test_predictions, 'Actuals':y_test1})\n",
    "test_results"
   ]
  },
  {
   "cell_type": "code",
   "execution_count": 75,
   "metadata": {},
   "outputs": [
    {
     "name": "stdout",
     "output_type": "stream",
     "text": [
      "dict_keys(['loss', 'root_mean_squared_error', 'val_loss', 'val_root_mean_squared_error'])\n"
     ]
    },
    {
     "data": {
      "image/png": "[encoded data removed]",
      "text/plain": [
       "<Figure size 576x432 with 1 Axes>"
      ]
     },
     "metadata": {
      "needs_background": "light"
     },
     "output_type": "display_data"
    }
   ],
   "source": [
    "history = model1.fit(X_train1, y_train1, validation_data=(X_val1, y_val1), epochs=100, verbose=0)  #..., callbacks=[cp1], verbose=0)\n",
    "print(history.history.keys())\n",
    "\n",
    "figure(figsize=(8, 6))\n",
    "plt.plot(history.history['loss'])\n",
    "plt.plot(history.history['val_loss'])\n",
    "plt.title('model loss')\n",
    "plt.ylabel('loss')\n",
    "plt.xlabel('epoch')\n",
    "plt.legend(['train', 'test'], loc='upper left')\n",
    "plt.show()"
   ]
  },
  {
   "cell_type": "markdown",
   "metadata": {},
   "source": [
    "# GRU MODEL"
   ]
  },
  {
   "cell_type": "code",
   "execution_count": 142,
   "metadata": {
    "collapsed": false,
    "pycharm": {
     "name": "#%%\n"
    }
   },
   "outputs": [
    {
     "name": "stdout",
     "output_type": "stream",
     "text": [
      "Model: \"sequential_22\"\n",
      "_________________________________________________________________\n",
      " Layer (type)                Output Shape              Param #   \n",
      "=================================================================\n",
      " gru_18 (GRU)                (None, 64)                12864     \n",
      "                                                                 \n",
      " dense_52 (Dense)            (None, 50)                3250      \n",
      "                                                                 \n",
      " dense_53 (Dense)            (None, 50)                2550      \n",
      "                                                                 \n",
      " dense_54 (Dense)            (None, 1)                 51        \n",
      "                                                                 \n",
      "=================================================================\n",
      "Total params: 18,715\n",
      "Trainable params: 18,715\n",
      "Non-trainable params: 0\n",
      "_________________________________________________________________\n"
     ]
    }
   ],
   "source": [
    "model3 = Sequential()\n",
    "model3.add(InputLayer((3, 1)))\n",
    "model3.add(GRU(64))\n",
    "model3.add(Dense(50, 'relu'))\n",
    "model3.add(Dense(50, 'relu'))\n",
    "model3.add(Dense(1, 'linear'))\n",
    "model3.summary()\n",
    "\n",
    "cp3 = ModelCheckpoint('model3/', save_best_only=True)\n",
    "model3.compile(loss=MeanAbsolutePercentageError(), optimizer=Adam(learning_rate=0.1), metrics=[RootMeanSquaredError()])"
   ]
  },
  {
   "cell_type": "code",
   "execution_count": 143,
   "metadata": {},
   "outputs": [
    {
     "name": "stdout",
     "output_type": "stream",
     "text": [
      "Epoch 1/200\n",
      "1/1 [==============================] - ETA: 0s - loss: 99.9999 - root_mean_squared_error: 23221.1289"
     ]
    },
    {
     "name": "stderr",
     "output_type": "stream",
     "text": [
      "WARNING:absl:Found untraced functions such as gru_cell_23_layer_call_fn, gru_cell_23_layer_call_and_return_conditional_losses while saving (showing 2 of 2). These functions will not be directly callable after loading.\n"
     ]
    },
    {
     "name": "stdout",
     "output_type": "stream",
     "text": [
      "INFO:tensorflow:Assets written to: model3/assets\n"
     ]
    },
    {
     "name": "stderr",
     "output_type": "stream",
     "text": [
      "INFO:tensorflow:Assets written to: model3/assets\n"
     ]
    },
    {
     "name": "stdout",
     "output_type": "stream",
     "text": [
      "1/1 [==============================] - 4s 4s/step - loss: 99.9999 - root_mean_squared_error: 23221.1289 - val_loss: 99.9558 - val_root_mean_squared_error: 24146.7051\n",
      "Epoch 2/200\n",
      "1/1 [==============================] - ETA: 0s - loss: 99.9742 - root_mean_squared_error: 23215.5195"
     ]
    },
    {
     "name": "stderr",
     "output_type": "stream",
     "text": [
      "WARNING:absl:Found untraced functions such as gru_cell_23_layer_call_fn, gru_cell_23_layer_call_and_return_conditional_losses while saving (showing 2 of 2). These functions will not be directly callable after loading.\n"
     ]
    },
    {
     "name": "stdout",
     "output_type": "stream",
     "text": [
      "INFO:tensorflow:Assets written to: model3/assets\n"
     ]
    },
    {
     "name": "stderr",
     "output_type": "stream",
     "text": [
      "INFO:tensorflow:Assets written to: model3/assets\n"
     ]
    },
    {
     "name": "stdout",
     "output_type": "stream",
     "text": [
      "1/1 [==============================] - 2s 2s/step - loss: 99.9742 - root_mean_squared_error: 23215.5195 - val_loss: 99.7888 - val_root_mean_squared_error: 24106.3574\n",
      "Epoch 3/200\n",
      "1/1 [==============================] - ETA: 0s - loss: 99.5438 - root_mean_squared_error: 23121.8105"
     ]
    },
    {
     "name": "stderr",
     "output_type": "stream",
     "text": [
      "WARNING:absl:Found untraced functions such as gru_cell_23_layer_call_fn, gru_cell_23_layer_call_and_return_conditional_losses while saving (showing 2 of 2). These functions will not be directly callable after loading.\n"
     ]
    },
    {
     "name": "stdout",
     "output_type": "stream",
     "text": [
      "INFO:tensorflow:Assets written to: model3/assets\n"
     ]
    },
    {
     "name": "stderr",
     "output_type": "stream",
     "text": [
      "INFO:tensorflow:Assets written to: model3/assets\n"
     ]
    },
    {
     "name": "stdout",
     "output_type": "stream",
     "text": [
      "1/1 [==============================] - 2s 2s/step - loss: 99.5438 - root_mean_squared_error: 23121.8105 - val_loss: 99.5073 - val_root_mean_squared_error: 24038.3770\n",
      "Epoch 4/200\n",
      "1/1 [==============================] - ETA: 0s - loss: 97.9818 - root_mean_squared_error: 22763.1895"
     ]
    },
    {
     "name": "stderr",
     "output_type": "stream",
     "text": [
      "WARNING:absl:Found untraced functions such as gru_cell_23_layer_call_fn, gru_cell_23_layer_call_and_return_conditional_losses while saving (showing 2 of 2). These functions will not be directly callable after loading.\n"
     ]
    },
    {
     "name": "stdout",
     "output_type": "stream",
     "text": [
      "INFO:tensorflow:Assets written to: model3/assets\n"
     ]
    },
    {
     "name": "stderr",
     "output_type": "stream",
     "text": [
      "INFO:tensorflow:Assets written to: model3/assets\n"
     ]
    },
    {
     "name": "stdout",
     "output_type": "stream",
     "text": [
      "1/1 [==============================] - 3s 3s/step - loss: 97.9818 - root_mean_squared_error: 22763.1895 - val_loss: 98.6945 - val_root_mean_squared_error: 23842.0273\n",
      "Epoch 5/200\n",
      "1/1 [==============================] - ETA: 0s - loss: 94.5706 - root_mean_squared_error: 21968.9336"
     ]
    },
    {
     "name": "stderr",
     "output_type": "stream",
     "text": [
      "WARNING:absl:Found untraced functions such as gru_cell_23_layer_call_fn, gru_cell_23_layer_call_and_return_conditional_losses while saving (showing 2 of 2). These functions will not be directly callable after loading.\n"
     ]
    },
    {
     "name": "stdout",
     "output_type": "stream",
     "text": [
      "INFO:tensorflow:Assets written to: model3/assets\n"
     ]
    },
    {
     "name": "stderr",
     "output_type": "stream",
     "text": [
      "INFO:tensorflow:Assets written to: model3/assets\n"
     ]
    },
    {
     "name": "stdout",
     "output_type": "stream",
     "text": [
      "1/1 [==============================] - 3s 3s/step - loss: 94.5706 - root_mean_squared_error: 21968.9336 - val_loss: 97.8053 - val_root_mean_squared_error: 23627.2324\n",
      "Epoch 6/200\n",
      "1/1 [==============================] - ETA: 0s - loss: 89.0448 - root_mean_squared_error: 20695.6973"
     ]
    },
    {
     "name": "stderr",
     "output_type": "stream",
     "text": [
      "WARNING:absl:Found untraced functions such as gru_cell_23_layer_call_fn, gru_cell_23_layer_call_and_return_conditional_losses while saving (showing 2 of 2). These functions will not be directly callable after loading.\n"
     ]
    },
    {
     "name": "stdout",
     "output_type": "stream",
     "text": [
      "INFO:tensorflow:Assets written to: model3/assets\n"
     ]
    },
    {
     "name": "stderr",
     "output_type": "stream",
     "text": [
      "INFO:tensorflow:Assets written to: model3/assets\n"
     ]
    },
    {
     "name": "stdout",
     "output_type": "stream",
     "text": [
      "1/1 [==============================] - 2s 2s/step - loss: 89.0448 - root_mean_squared_error: 20695.6973 - val_loss: 96.4821 - val_root_mean_squared_error: 23307.6094\n",
      "Epoch 7/200\n",
      "1/1 [==============================] - ETA: 0s - loss: 79.9681 - root_mean_squared_error: 18603.9570"
     ]
    },
    {
     "name": "stderr",
     "output_type": "stream",
     "text": [
      "WARNING:absl:Found untraced functions such as gru_cell_23_layer_call_fn, gru_cell_23_layer_call_and_return_conditional_losses while saving (showing 2 of 2). These functions will not be directly callable after loading.\n"
     ]
    },
    {
     "name": "stdout",
     "output_type": "stream",
     "text": [
      "INFO:tensorflow:Assets written to: model3/assets\n"
     ]
    },
    {
     "name": "stderr",
     "output_type": "stream",
     "text": [
      "INFO:tensorflow:Assets written to: model3/assets\n"
     ]
    },
    {
     "name": "stdout",
     "output_type": "stream",
     "text": [
      "1/1 [==============================] - 4s 4s/step - loss: 79.9681 - root_mean_squared_error: 18603.9570 - val_loss: 94.1415 - val_root_mean_squared_error: 22742.2051\n",
      "Epoch 8/200\n",
      "1/1 [==============================] - ETA: 0s - loss: 66.4048 - root_mean_squared_error: 15482.5479"
     ]
    },
    {
     "name": "stderr",
     "output_type": "stream",
     "text": [
      "WARNING:absl:Found untraced functions such as gru_cell_23_layer_call_fn, gru_cell_23_layer_call_and_return_conditional_losses while saving (showing 2 of 2). These functions will not be directly callable after loading.\n"
     ]
    },
    {
     "name": "stdout",
     "output_type": "stream",
     "text": [
      "INFO:tensorflow:Assets written to: model3/assets\n"
     ]
    },
    {
     "name": "stderr",
     "output_type": "stream",
     "text": [
      "INFO:tensorflow:Assets written to: model3/assets\n"
     ]
    },
    {
     "name": "stdout",
     "output_type": "stream",
     "text": [
      "1/1 [==============================] - 2s 2s/step - loss: 66.4048 - root_mean_squared_error: 15482.5479 - val_loss: 92.3714 - val_root_mean_squared_error: 22314.6230\n",
      "Epoch 9/200\n",
      "1/1 [==============================] - ETA: 0s - loss: 47.0056 - root_mean_squared_error: 11034.0889"
     ]
    },
    {
     "name": "stderr",
     "output_type": "stream",
     "text": [
      "WARNING:absl:Found untraced functions such as gru_cell_23_layer_call_fn, gru_cell_23_layer_call_and_return_conditional_losses while saving (showing 2 of 2). These functions will not be directly callable after loading.\n"
     ]
    },
    {
     "name": "stdout",
     "output_type": "stream",
     "text": [
      "INFO:tensorflow:Assets written to: model3/assets\n"
     ]
    },
    {
     "name": "stderr",
     "output_type": "stream",
     "text": [
      "INFO:tensorflow:Assets written to: model3/assets\n"
     ]
    },
    {
     "name": "stdout",
     "output_type": "stream",
     "text": [
      "1/1 [==============================] - 2s 2s/step - loss: 47.0056 - root_mean_squared_error: 11034.0889 - val_loss: 86.4030 - val_root_mean_squared_error: 20872.9121\n",
      "Epoch 10/200\n",
      "1/1 [==============================] - ETA: 0s - loss: 20.6026 - root_mean_squared_error: 5070.9995"
     ]
    },
    {
     "name": "stderr",
     "output_type": "stream",
     "text": [
      "WARNING:absl:Found untraced functions such as gru_cell_23_layer_call_fn, gru_cell_23_layer_call_and_return_conditional_losses while saving (showing 2 of 2). These functions will not be directly callable after loading.\n"
     ]
    },
    {
     "name": "stdout",
     "output_type": "stream",
     "text": [
      "INFO:tensorflow:Assets written to: model3/assets\n"
     ]
    },
    {
     "name": "stderr",
     "output_type": "stream",
     "text": [
      "INFO:tensorflow:Assets written to: model3/assets\n"
     ]
    },
    {
     "name": "stdout",
     "output_type": "stream",
     "text": [
      "1/1 [==============================] - 2s 2s/step - loss: 20.6026 - root_mean_squared_error: 5070.9995 - val_loss: 85.2405 - val_root_mean_squared_error: 20592.1250\n",
      "Epoch 11/200\n",
      "1/1 [==============================] - ETA: 0s - loss: 13.9811 - root_mean_squared_error: 3461.2439"
     ]
    },
    {
     "name": "stderr",
     "output_type": "stream",
     "text": [
      "WARNING:absl:Found untraced functions such as gru_cell_23_layer_call_fn, gru_cell_23_layer_call_and_return_conditional_losses while saving (showing 2 of 2). These functions will not be directly callable after loading.\n"
     ]
    },
    {
     "name": "stdout",
     "output_type": "stream",
     "text": [
      "INFO:tensorflow:Assets written to: model3/assets\n"
     ]
    },
    {
     "name": "stderr",
     "output_type": "stream",
     "text": [
      "INFO:tensorflow:Assets written to: model3/assets\n"
     ]
    },
    {
     "name": "stdout",
     "output_type": "stream",
     "text": [
      "1/1 [==============================] - 2s 2s/step - loss: 13.9811 - root_mean_squared_error: 3461.2439 - val_loss: 82.2556 - val_root_mean_squared_error: 19871.0977\n",
      "Epoch 12/200\n",
      "1/1 [==============================] - ETA: 0s - loss: 24.5392 - root_mean_squared_error: 5765.5430"
     ]
    },
    {
     "name": "stderr",
     "output_type": "stream",
     "text": [
      "WARNING:absl:Found untraced functions such as gru_cell_23_layer_call_fn, gru_cell_23_layer_call_and_return_conditional_losses while saving (showing 2 of 2). These functions will not be directly callable after loading.\n"
     ]
    },
    {
     "name": "stdout",
     "output_type": "stream",
     "text": [
      "INFO:tensorflow:Assets written to: model3/assets\n"
     ]
    },
    {
     "name": "stderr",
     "output_type": "stream",
     "text": [
      "INFO:tensorflow:Assets written to: model3/assets\n"
     ]
    },
    {
     "name": "stdout",
     "output_type": "stream",
     "text": [
      "1/1 [==============================] - 2s 2s/step - loss: 24.5392 - root_mean_squared_error: 5765.5430 - val_loss: 74.0128 - val_root_mean_squared_error: 17879.9980\n",
      "Epoch 13/200\n",
      "1/1 [==============================] - ETA: 0s - loss: 21.4354 - root_mean_squared_error: 5069.0728"
     ]
    },
    {
     "name": "stderr",
     "output_type": "stream",
     "text": [
      "WARNING:absl:Found untraced functions such as gru_cell_23_layer_call_fn, gru_cell_23_layer_call_and_return_conditional_losses while saving (showing 2 of 2). These functions will not be directly callable after loading.\n"
     ]
    },
    {
     "name": "stdout",
     "output_type": "stream",
     "text": [
      "INFO:tensorflow:Assets written to: model3/assets\n"
     ]
    },
    {
     "name": "stderr",
     "output_type": "stream",
     "text": [
      "INFO:tensorflow:Assets written to: model3/assets\n"
     ]
    },
    {
     "name": "stdout",
     "output_type": "stream",
     "text": [
      "1/1 [==============================] - 2s 2s/step - loss: 21.4354 - root_mean_squared_error: 5069.0728 - val_loss: 58.1691 - val_root_mean_squared_error: 14052.8926\n",
      "Epoch 14/200\n",
      "1/1 [==============================] - ETA: 0s - loss: 9.2367 - root_mean_squared_error: 2516.6292"
     ]
    },
    {
     "name": "stderr",
     "output_type": "stream",
     "text": [
      "WARNING:absl:Found untraced functions such as gru_cell_23_layer_call_fn, gru_cell_23_layer_call_and_return_conditional_losses while saving (showing 2 of 2). These functions will not be directly callable after loading.\n"
     ]
    },
    {
     "name": "stdout",
     "output_type": "stream",
     "text": [
      "INFO:tensorflow:Assets written to: model3/assets\n"
     ]
    },
    {
     "name": "stderr",
     "output_type": "stream",
     "text": [
      "INFO:tensorflow:Assets written to: model3/assets\n"
     ]
    },
    {
     "name": "stdout",
     "output_type": "stream",
     "text": [
      "1/1 [==============================] - 2s 2s/step - loss: 9.2367 - root_mean_squared_error: 2516.6292 - val_loss: 58.0225 - val_root_mean_squared_error: 14017.4707\n",
      "Epoch 15/200\n",
      "1/1 [==============================] - 0s 23ms/step - loss: 7.8069 - root_mean_squared_error: 2412.6045 - val_loss: 60.2808 - val_root_mean_squared_error: 14562.9834\n",
      "Epoch 16/200\n",
      "1/1 [==============================] - 0s 24ms/step - loss: 14.9666 - root_mean_squared_error: 3851.4634 - val_loss: 61.3455 - val_root_mean_squared_error: 14820.1562\n",
      "Epoch 17/200\n",
      "1/1 [==============================] - 0s 24ms/step - loss: 15.5722 - root_mean_squared_error: 3980.9653 - val_loss: 59.1364 - val_root_mean_squared_error: 14286.5498\n",
      "Epoch 18/200\n",
      "1/1 [==============================] - ETA: 0s - loss: 10.8855 - root_mean_squared_error: 3005.3032"
     ]
    },
    {
     "name": "stderr",
     "output_type": "stream",
     "text": [
      "WARNING:absl:Found untraced functions such as gru_cell_23_layer_call_fn, gru_cell_23_layer_call_and_return_conditional_losses while saving (showing 2 of 2). These functions will not be directly callable after loading.\n"
     ]
    },
    {
     "name": "stdout",
     "output_type": "stream",
     "text": [
      "INFO:tensorflow:Assets written to: model3/assets\n"
     ]
    },
    {
     "name": "stderr",
     "output_type": "stream",
     "text": [
      "INFO:tensorflow:Assets written to: model3/assets\n"
     ]
    },
    {
     "name": "stdout",
     "output_type": "stream",
     "text": [
      "1/1 [==============================] - 4s 4s/step - loss: 10.8855 - root_mean_squared_error: 3005.3032 - val_loss: 52.6192 - val_root_mean_squared_error: 12712.2998\n",
      "Epoch 19/200\n",
      "1/1 [==============================] - ETA: 0s - loss: 6.2515 - root_mean_squared_error: 1529.6351"
     ]
    },
    {
     "name": "stderr",
     "output_type": "stream",
     "text": [
      "WARNING:absl:Found untraced functions such as gru_cell_23_layer_call_fn, gru_cell_23_layer_call_and_return_conditional_losses while saving (showing 2 of 2). These functions will not be directly callable after loading.\n"
     ]
    },
    {
     "name": "stdout",
     "output_type": "stream",
     "text": [
      "INFO:tensorflow:Assets written to: model3/assets\n"
     ]
    },
    {
     "name": "stderr",
     "output_type": "stream",
     "text": [
      "INFO:tensorflow:Assets written to: model3/assets\n"
     ]
    },
    {
     "name": "stdout",
     "output_type": "stream",
     "text": [
      "1/1 [==============================] - 2s 2s/step - loss: 6.2515 - root_mean_squared_error: 1529.6351 - val_loss: 44.9201 - val_root_mean_squared_error: 10852.6143\n",
      "Epoch 20/200\n",
      "1/1 [==============================] - ETA: 0s - loss: 7.9940 - root_mean_squared_error: 2288.3408"
     ]
    },
    {
     "name": "stderr",
     "output_type": "stream",
     "text": [
      "WARNING:absl:Found untraced functions such as gru_cell_23_layer_call_fn, gru_cell_23_layer_call_and_return_conditional_losses while saving (showing 2 of 2). These functions will not be directly callable after loading.\n"
     ]
    },
    {
     "name": "stdout",
     "output_type": "stream",
     "text": [
      "INFO:tensorflow:Assets written to: model3/assets\n"
     ]
    },
    {
     "name": "stderr",
     "output_type": "stream",
     "text": [
      "INFO:tensorflow:Assets written to: model3/assets\n"
     ]
    },
    {
     "name": "stdout",
     "output_type": "stream",
     "text": [
      "1/1 [==============================] - 2s 2s/step - loss: 7.9940 - root_mean_squared_error: 2288.3408 - val_loss: 37.3969 - val_root_mean_squared_error: 9035.4668\n",
      "Epoch 21/200\n",
      "1/1 [==============================] - ETA: 0s - loss: 12.7016 - root_mean_squared_error: 3196.8445"
     ]
    },
    {
     "name": "stderr",
     "output_type": "stream",
     "text": [
      "WARNING:absl:Found untraced functions such as gru_cell_23_layer_call_fn, gru_cell_23_layer_call_and_return_conditional_losses while saving (showing 2 of 2). These functions will not be directly callable after loading.\n"
     ]
    },
    {
     "name": "stdout",
     "output_type": "stream",
     "text": [
      "INFO:tensorflow:Assets written to: model3/assets\n"
     ]
    },
    {
     "name": "stderr",
     "output_type": "stream",
     "text": [
      "INFO:tensorflow:Assets written to: model3/assets\n"
     ]
    },
    {
     "name": "stdout",
     "output_type": "stream",
     "text": [
      "1/1 [==============================] - 2s 2s/step - loss: 12.7016 - root_mean_squared_error: 3196.8445 - val_loss: 32.5596 - val_root_mean_squared_error: 7867.1191\n",
      "Epoch 22/200\n",
      "1/1 [==============================] - 0s 23ms/step - loss: 9.8902 - root_mean_squared_error: 2637.9529 - val_loss: 37.7512 - val_root_mean_squared_error: 9121.0439\n",
      "Epoch 23/200\n",
      "1/1 [==============================] - 0s 22ms/step - loss: 6.3543 - root_mean_squared_error: 1489.9854 - val_loss: 39.5412 - val_root_mean_squared_error: 9553.3975\n",
      "Epoch 24/200\n",
      "1/1 [==============================] - 0s 25ms/step - loss: 6.7499 - root_mean_squared_error: 2193.3899 - val_loss: 34.4164 - val_root_mean_squared_error: 8315.5957\n",
      "Epoch 25/200\n",
      "1/1 [==============================] - ETA: 0s - loss: 10.9556 - root_mean_squared_error: 3010.8760"
     ]
    },
    {
     "name": "stderr",
     "output_type": "stream",
     "text": [
      "WARNING:absl:Found untraced functions such as gru_cell_23_layer_call_fn, gru_cell_23_layer_call_and_return_conditional_losses while saving (showing 2 of 2). These functions will not be directly callable after loading.\n"
     ]
    },
    {
     "name": "stdout",
     "output_type": "stream",
     "text": [
      "INFO:tensorflow:Assets written to: model3/assets\n"
     ]
    },
    {
     "name": "stderr",
     "output_type": "stream",
     "text": [
      "INFO:tensorflow:Assets written to: model3/assets\n"
     ]
    },
    {
     "name": "stdout",
     "output_type": "stream",
     "text": [
      "1/1 [==============================] - 2s 2s/step - loss: 10.9556 - root_mean_squared_error: 3010.8760 - val_loss: 29.9378 - val_root_mean_squared_error: 7233.8818\n",
      "Epoch 26/200\n",
      "1/1 [==============================] - ETA: 0s - loss: 9.8579 - root_mean_squared_error: 2790.4126"
     ]
    },
    {
     "name": "stderr",
     "output_type": "stream",
     "text": [
      "WARNING:absl:Found untraced functions such as gru_cell_23_layer_call_fn, gru_cell_23_layer_call_and_return_conditional_losses while saving (showing 2 of 2). These functions will not be directly callable after loading.\n"
     ]
    },
    {
     "name": "stdout",
     "output_type": "stream",
     "text": [
      "INFO:tensorflow:Assets written to: model3/assets\n"
     ]
    },
    {
     "name": "stderr",
     "output_type": "stream",
     "text": [
      "INFO:tensorflow:Assets written to: model3/assets\n"
     ]
    },
    {
     "name": "stdout",
     "output_type": "stream",
     "text": [
      "1/1 [==============================] - 2s 2s/step - loss: 9.8579 - root_mean_squared_error: 2790.4126 - val_loss: 25.5174 - val_root_mean_squared_error: 6166.3164\n",
      "Epoch 27/200\n",
      "1/1 [==============================] - ETA: 0s - loss: 5.9681 - root_mean_squared_error: 1772.1688"
     ]
    },
    {
     "name": "stderr",
     "output_type": "stream",
     "text": [
      "WARNING:absl:Found untraced functions such as gru_cell_23_layer_call_fn, gru_cell_23_layer_call_and_return_conditional_losses while saving (showing 2 of 2). These functions will not be directly callable after loading.\n"
     ]
    },
    {
     "name": "stdout",
     "output_type": "stream",
     "text": [
      "INFO:tensorflow:Assets written to: model3/assets\n"
     ]
    },
    {
     "name": "stderr",
     "output_type": "stream",
     "text": [
      "INFO:tensorflow:Assets written to: model3/assets\n"
     ]
    },
    {
     "name": "stdout",
     "output_type": "stream",
     "text": [
      "1/1 [==============================] - 2s 2s/step - loss: 5.9681 - root_mean_squared_error: 1772.1688 - val_loss: 23.2107 - val_root_mean_squared_error: 5609.2524\n",
      "Epoch 28/200\n",
      "1/1 [==============================] - ETA: 0s - loss: 6.2648 - root_mean_squared_error: 1473.3608"
     ]
    },
    {
     "name": "stderr",
     "output_type": "stream",
     "text": [
      "WARNING:absl:Found untraced functions such as gru_cell_23_layer_call_fn, gru_cell_23_layer_call_and_return_conditional_losses while saving (showing 2 of 2). These functions will not be directly callable after loading.\n"
     ]
    },
    {
     "name": "stdout",
     "output_type": "stream",
     "text": [
      "INFO:tensorflow:Assets written to: model3/assets\n"
     ]
    },
    {
     "name": "stderr",
     "output_type": "stream",
     "text": [
      "INFO:tensorflow:Assets written to: model3/assets\n"
     ]
    },
    {
     "name": "stdout",
     "output_type": "stream",
     "text": [
      "1/1 [==============================] - 4s 4s/step - loss: 6.2648 - root_mean_squared_error: 1473.3608 - val_loss: 19.8070 - val_root_mean_squared_error: 4787.3208\n",
      "Epoch 29/200\n",
      "1/1 [==============================] - ETA: 0s - loss: 6.8786 - root_mean_squared_error: 1940.9215"
     ]
    },
    {
     "name": "stderr",
     "output_type": "stream",
     "text": [
      "WARNING:absl:Found untraced functions such as gru_cell_23_layer_call_fn, gru_cell_23_layer_call_and_return_conditional_losses while saving (showing 2 of 2). These functions will not be directly callable after loading.\n"
     ]
    },
    {
     "name": "stdout",
     "output_type": "stream",
     "text": [
      "INFO:tensorflow:Assets written to: model3/assets\n"
     ]
    },
    {
     "name": "stderr",
     "output_type": "stream",
     "text": [
      "INFO:tensorflow:Assets written to: model3/assets\n"
     ]
    },
    {
     "name": "stdout",
     "output_type": "stream",
     "text": [
      "1/1 [==============================] - 3s 3s/step - loss: 6.8786 - root_mean_squared_error: 1940.9215 - val_loss: 18.1469 - val_root_mean_squared_error: 4386.4780\n",
      "Epoch 30/200\n",
      "1/1 [==============================] - 0s 23ms/step - loss: 7.3570 - root_mean_squared_error: 2083.4197 - val_loss: 19.8803 - val_root_mean_squared_error: 4805.0146\n",
      "Epoch 31/200\n",
      "1/1 [==============================] - 0s 23ms/step - loss: 6.3169 - root_mean_squared_error: 1704.4786 - val_loss: 21.6761 - val_root_mean_squared_error: 5238.6680\n",
      "Epoch 32/200\n",
      "1/1 [==============================] - 0s 24ms/step - loss: 6.0969 - root_mean_squared_error: 1451.1733 - val_loss: 23.5203 - val_root_mean_squared_error: 5684.0059\n",
      "Epoch 33/200\n",
      "1/1 [==============================] - 0s 22ms/step - loss: 5.8583 - root_mean_squared_error: 1423.0500 - val_loss: 25.3991 - val_root_mean_squared_error: 6137.7412\n",
      "Epoch 34/200\n",
      "1/1 [==============================] - 0s 23ms/step - loss: 5.6023 - root_mean_squared_error: 1650.0005 - val_loss: 27.2998 - val_root_mean_squared_error: 6596.7690\n",
      "Epoch 35/200\n",
      "1/1 [==============================] - 0s 23ms/step - loss: 6.3430 - root_mean_squared_error: 2058.3818 - val_loss: 27.1041 - val_root_mean_squared_error: 6549.5000\n",
      "Epoch 36/200\n",
      "1/1 [==============================] - 0s 23ms/step - loss: 6.2494 - root_mean_squared_error: 2025.9058 - val_loss: 22.8574 - val_root_mean_squared_error: 5523.9185\n",
      "Epoch 37/200\n",
      "1/1 [==============================] - 0s 22ms/step - loss: 5.4269 - root_mean_squared_error: 1316.3010 - val_loss: 19.0761 - val_root_mean_squared_error: 4610.8457\n",
      "Epoch 38/200\n",
      "1/1 [==============================] - ETA: 0s - loss: 5.5655 - root_mean_squared_error: 1552.1931"
     ]
    },
    {
     "name": "stderr",
     "output_type": "stream",
     "text": [
      "WARNING:absl:Found untraced functions such as gru_cell_23_layer_call_fn, gru_cell_23_layer_call_and_return_conditional_losses while saving (showing 2 of 2). These functions will not be directly callable after loading.\n"
     ]
    },
    {
     "name": "stdout",
     "output_type": "stream",
     "text": [
      "INFO:tensorflow:Assets written to: model3/assets\n"
     ]
    },
    {
     "name": "stderr",
     "output_type": "stream",
     "text": [
      "INFO:tensorflow:Assets written to: model3/assets\n"
     ]
    },
    {
     "name": "stdout",
     "output_type": "stream",
     "text": [
      "1/1 [==============================] - 2s 2s/step - loss: 5.5655 - root_mean_squared_error: 1552.1931 - val_loss: 15.7678 - val_root_mean_squared_error: 3812.1006\n",
      "Epoch 39/200\n",
      "1/1 [==============================] - 0s 22ms/step - loss: 8.5584 - root_mean_squared_error: 2248.7100 - val_loss: 17.6517 - val_root_mean_squared_error: 4266.9199\n",
      "Epoch 40/200\n",
      "1/1 [==============================] - 0s 23ms/step - loss: 6.1392 - root_mean_squared_error: 1712.5967 - val_loss: 21.7514 - val_root_mean_squared_error: 5256.8394\n",
      "Epoch 41/200\n",
      "1/1 [==============================] - 0s 23ms/step - loss: 4.7694 - root_mean_squared_error: 1145.2950 - val_loss: 25.5504 - val_root_mean_squared_error: 6174.2676\n",
      "Epoch 42/200\n",
      "1/1 [==============================] - 0s 23ms/step - loss: 5.5833 - root_mean_squared_error: 1749.2994 - val_loss: 24.8065 - val_root_mean_squared_error: 5994.6348\n",
      "Epoch 43/200\n",
      "1/1 [==============================] - 0s 23ms/step - loss: 5.0228 - root_mean_squared_error: 1587.8529 - val_loss: 22.1476 - val_root_mean_squared_error: 5352.5132\n",
      "Epoch 44/200\n",
      "1/1 [==============================] - 0s 24ms/step - loss: 4.0258 - root_mean_squared_error: 1080.8392 - val_loss: 19.8507 - val_root_mean_squared_error: 4797.8789\n",
      "Epoch 45/200\n",
      "1/1 [==============================] - 0s 22ms/step - loss: 3.8887 - root_mean_squared_error: 948.3797 - val_loss: 17.9007 - val_root_mean_squared_error: 4327.0361\n",
      "Epoch 46/200\n",
      "1/1 [==============================] - 0s 23ms/step - loss: 4.1454 - root_mean_squared_error: 1113.6943 - val_loss: 18.5924 - val_root_mean_squared_error: 4494.0405\n",
      "Epoch 47/200\n",
      "1/1 [==============================] - 0s 22ms/step - loss: 3.2752 - root_mean_squared_error: 878.5018 - val_loss: 19.3767 - val_root_mean_squared_error: 4683.4302\n",
      "Epoch 48/200\n",
      "1/1 [==============================] - 0s 25ms/step - loss: 2.8525 - root_mean_squared_error: 706.6125 - val_loss: 20.2327 - val_root_mean_squared_error: 4890.1240\n",
      "Epoch 49/200\n",
      "1/1 [==============================] - 0s 23ms/step - loss: 2.4199 - root_mean_squared_error: 703.4122 - val_loss: 21.1405 - val_root_mean_squared_error: 5109.3359\n",
      "Epoch 50/200\n",
      "1/1 [==============================] - 0s 23ms/step - loss: 2.8758 - root_mean_squared_error: 897.5988 - val_loss: 19.7533 - val_root_mean_squared_error: 4774.3496\n",
      "Epoch 51/200\n",
      "1/1 [==============================] - 0s 23ms/step - loss: 2.0464 - root_mean_squared_error: 616.2701 - val_loss: 16.1844 - val_root_mean_squared_error: 3912.6689\n",
      "Epoch 52/200\n",
      "1/1 [==============================] - ETA: 0s - loss: 2.7482 - root_mean_squared_error: 729.7851"
     ]
    },
    {
     "name": "stderr",
     "output_type": "stream",
     "text": [
      "WARNING:absl:Found untraced functions such as gru_cell_23_layer_call_fn, gru_cell_23_layer_call_and_return_conditional_losses while saving (showing 2 of 2). These functions will not be directly callable after loading.\n"
     ]
    },
    {
     "name": "stdout",
     "output_type": "stream",
     "text": [
      "INFO:tensorflow:Assets written to: model3/assets\n"
     ]
    },
    {
     "name": "stderr",
     "output_type": "stream",
     "text": [
      "INFO:tensorflow:Assets written to: model3/assets\n"
     ]
    },
    {
     "name": "stdout",
     "output_type": "stream",
     "text": [
      "1/1 [==============================] - 2s 2s/step - loss: 2.7482 - root_mean_squared_error: 729.7851 - val_loss: 15.4701 - val_root_mean_squared_error: 3740.2429\n",
      "Epoch 53/200\n",
      "1/1 [==============================] - 0s 24ms/step - loss: 3.2168 - root_mean_squared_error: 800.5683 - val_loss: 19.6638 - val_root_mean_squared_error: 4752.7549\n",
      "Epoch 54/200\n",
      "1/1 [==============================] - 0s 23ms/step - loss: 2.7371 - root_mean_squared_error: 724.4777 - val_loss: 18.8223 - val_root_mean_squared_error: 4549.5664\n",
      "Epoch 55/200\n",
      "1/1 [==============================] - ETA: 0s - loss: 1.9997 - root_mean_squared_error: 554.0657"
     ]
    },
    {
     "name": "stderr",
     "output_type": "stream",
     "text": [
      "WARNING:absl:Found untraced functions such as gru_cell_23_layer_call_fn, gru_cell_23_layer_call_and_return_conditional_losses while saving (showing 2 of 2). These functions will not be directly callable after loading.\n"
     ]
    },
    {
     "name": "stdout",
     "output_type": "stream",
     "text": [
      "INFO:tensorflow:Assets written to: model3/assets\n"
     ]
    },
    {
     "name": "stderr",
     "output_type": "stream",
     "text": [
      "INFO:tensorflow:Assets written to: model3/assets\n"
     ]
    },
    {
     "name": "stdout",
     "output_type": "stream",
     "text": [
      "1/1 [==============================] - 3s 3s/step - loss: 1.9997 - root_mean_squared_error: 554.0657 - val_loss: 13.4672 - val_root_mean_squared_error: 3256.7686\n",
      "Epoch 56/200\n",
      "1/1 [==============================] - ETA: 0s - loss: 4.7018 - root_mean_squared_error: 1110.4329"
     ]
    },
    {
     "name": "stderr",
     "output_type": "stream",
     "text": [
      "WARNING:absl:Found untraced functions such as gru_cell_23_layer_call_fn, gru_cell_23_layer_call_and_return_conditional_losses while saving (showing 2 of 2). These functions will not be directly callable after loading.\n"
     ]
    },
    {
     "name": "stdout",
     "output_type": "stream",
     "text": [
      "INFO:tensorflow:Assets written to: model3/assets\n"
     ]
    },
    {
     "name": "stderr",
     "output_type": "stream",
     "text": [
      "INFO:tensorflow:Assets written to: model3/assets\n"
     ]
    },
    {
     "name": "stdout",
     "output_type": "stream",
     "text": [
      "1/1 [==============================] - 3s 3s/step - loss: 4.7018 - root_mean_squared_error: 1110.4329 - val_loss: 13.4354 - val_root_mean_squared_error: 3249.0977\n",
      "Epoch 57/200\n",
      "1/1 [==============================] - 0s 22ms/step - loss: 4.4310 - root_mean_squared_error: 1052.9720 - val_loss: 18.0709 - val_root_mean_squared_error: 4368.1235\n",
      "Epoch 58/200\n",
      "1/1 [==============================] - 0s 23ms/step - loss: 1.9188 - root_mean_squared_error: 513.4223 - val_loss: 17.7742 - val_root_mean_squared_error: 4296.4868\n",
      "Epoch 59/200\n",
      "1/1 [==============================] - ETA: 0s - loss: 1.7739 - root_mean_squared_error: 485.8320"
     ]
    },
    {
     "name": "stderr",
     "output_type": "stream",
     "text": [
      "WARNING:absl:Found untraced functions such as gru_cell_23_layer_call_fn, gru_cell_23_layer_call_and_return_conditional_losses while saving (showing 2 of 2). These functions will not be directly callable after loading.\n"
     ]
    },
    {
     "name": "stdout",
     "output_type": "stream",
     "text": [
      "INFO:tensorflow:Assets written to: model3/assets\n"
     ]
    },
    {
     "name": "stderr",
     "output_type": "stream",
     "text": [
      "INFO:tensorflow:Assets written to: model3/assets\n"
     ]
    },
    {
     "name": "stdout",
     "output_type": "stream",
     "text": [
      "1/1 [==============================] - 3s 3s/step - loss: 1.7739 - root_mean_squared_error: 485.8320 - val_loss: 13.1077 - val_root_mean_squared_error: 3170.0027\n",
      "Epoch 60/200\n",
      "1/1 [==============================] - 0s 22ms/step - loss: 4.1010 - root_mean_squared_error: 998.2823 - val_loss: 13.4767 - val_root_mean_squared_error: 3259.0596\n",
      "Epoch 61/200\n",
      "1/1 [==============================] - 0s 23ms/step - loss: 3.4145 - root_mean_squared_error: 855.4897 - val_loss: 25.0897 - val_root_mean_squared_error: 6063.0156\n",
      "Epoch 62/200\n",
      "1/1 [==============================] - 0s 24ms/step - loss: 2.9622 - root_mean_squared_error: 738.9396 - val_loss: 25.2157 - val_root_mean_squared_error: 6093.4556\n",
      "Epoch 63/200\n",
      "1/1 [==============================] - 0s 23ms/step - loss: 3.1561 - root_mean_squared_error: 783.8038 - val_loss: 21.4011 - val_root_mean_squared_error: 5172.2632\n",
      "Epoch 64/200\n",
      "1/1 [==============================] - 0s 25ms/step - loss: 2.0809 - root_mean_squared_error: 609.4705 - val_loss: 22.0415 - val_root_mean_squared_error: 5326.8906\n",
      "Epoch 65/200\n",
      "1/1 [==============================] - 0s 23ms/step - loss: 1.5965 - root_mean_squared_error: 466.2570 - val_loss: 24.6139 - val_root_mean_squared_error: 5948.1035\n",
      "Epoch 66/200\n",
      "1/1 [==============================] - 0s 23ms/step - loss: 2.3712 - root_mean_squared_error: 637.8483 - val_loss: 24.9556 - val_root_mean_squared_error: 6030.6235\n",
      "Epoch 67/200\n",
      "1/1 [==============================] - 0s 23ms/step - loss: 2.8260 - root_mean_squared_error: 728.4733 - val_loss: 21.3563 - val_root_mean_squared_error: 5161.4248\n",
      "Epoch 68/200\n",
      "1/1 [==============================] - 0s 23ms/step - loss: 2.1392 - root_mean_squared_error: 638.5958 - val_loss: 22.1622 - val_root_mean_squared_error: 5356.0337\n",
      "Epoch 69/200\n",
      "1/1 [==============================] - 0s 24ms/step - loss: 1.5600 - root_mean_squared_error: 455.3352 - val_loss: 24.8608 - val_root_mean_squared_error: 6007.7349\n",
      "Epoch 70/200\n",
      "1/1 [==============================] - 0s 23ms/step - loss: 2.6626 - root_mean_squared_error: 694.5964 - val_loss: 23.4237 - val_root_mean_squared_error: 5660.6924\n",
      "Epoch 71/200\n",
      "1/1 [==============================] - 0s 23ms/step - loss: 1.4943 - root_mean_squared_error: 382.1369 - val_loss: 20.1006 - val_root_mean_squared_error: 4858.2261\n",
      "Epoch 72/200\n",
      "1/1 [==============================] - 0s 23ms/step - loss: 3.9364 - root_mean_squared_error: 997.6042 - val_loss: 21.2191 - val_root_mean_squared_error: 5128.2939\n",
      "Epoch 73/200\n",
      "1/1 [==============================] - 0s 24ms/step - loss: 2.4178 - root_mean_squared_error: 673.4536 - val_loss: 26.1322 - val_root_mean_squared_error: 6314.7769\n",
      "Epoch 74/200\n",
      "1/1 [==============================] - 0s 23ms/step - loss: 4.3258 - root_mean_squared_error: 1036.6471 - val_loss: 26.7710 - val_root_mean_squared_error: 6469.0552\n",
      "Epoch 75/200\n",
      "1/1 [==============================] - 0s 24ms/step - loss: 5.1854 - root_mean_squared_error: 1226.2021 - val_loss: 23.7006 - val_root_mean_squared_error: 5727.5503\n",
      "Epoch 76/200\n",
      "1/1 [==============================] - 0s 24ms/step - loss: 1.4990 - root_mean_squared_error: 377.0570 - val_loss: 18.8700 - val_root_mean_squared_error: 4561.0654\n",
      "Epoch 77/200\n",
      "1/1 [==============================] - 0s 22ms/step - loss: 5.7413 - root_mean_squared_error: 1380.3126 - val_loss: 18.5968 - val_root_mean_squared_error: 4495.1123\n",
      "Epoch 78/200\n",
      "1/1 [==============================] - 0s 23ms/step - loss: 6.1434 - root_mean_squared_error: 1467.6447 - val_loss: 22.4158 - val_root_mean_squared_error: 5417.2798\n",
      "Epoch 79/200\n",
      "1/1 [==============================] - 0s 23ms/step - loss: 1.2239 - root_mean_squared_error: 366.7021 - val_loss: 27.6094 - val_root_mean_squared_error: 6671.5347\n",
      "Epoch 80/200\n",
      "1/1 [==============================] - 0s 22ms/step - loss: 6.2156 - root_mean_squared_error: 1457.0364 - val_loss: 28.6458 - val_root_mean_squared_error: 6921.8403\n",
      "Epoch 81/200\n",
      "1/1 [==============================] - 0s 23ms/step - loss: 7.6126 - root_mean_squared_error: 1776.2389 - val_loss: 26.1209 - val_root_mean_squared_error: 6312.0552\n",
      "Epoch 82/200\n",
      "1/1 [==============================] - 0s 24ms/step - loss: 4.1169 - root_mean_squared_error: 984.3770 - val_loss: 20.1023 - val_root_mean_squared_error: 4858.6362\n",
      "Epoch 83/200\n",
      "1/1 [==============================] - 0s 23ms/step - loss: 4.1972 - root_mean_squared_error: 1011.0046 - val_loss: 18.5234 - val_root_mean_squared_error: 4477.3901\n",
      "Epoch 84/200\n",
      "1/1 [==============================] - 0s 24ms/step - loss: 6.3987 - root_mean_squared_error: 1506.8110 - val_loss: 21.1181 - val_root_mean_squared_error: 5103.9214\n",
      "Epoch 85/200\n",
      "1/1 [==============================] - 0s 22ms/step - loss: 2.8402 - root_mean_squared_error: 707.1959 - val_loss: 27.1046 - val_root_mean_squared_error: 6549.6172\n",
      "Epoch 86/200\n",
      "1/1 [==============================] - 0s 28ms/step - loss: 5.3841 - root_mean_squared_error: 1272.0502 - val_loss: 28.8781 - val_root_mean_squared_error: 6977.9429\n",
      "Epoch 87/200\n",
      "1/1 [==============================] - 0s 22ms/step - loss: 7.8048 - root_mean_squared_error: 1825.5769 - val_loss: 27.1310 - val_root_mean_squared_error: 6555.9966\n",
      "Epoch 88/200\n",
      "1/1 [==============================] - 0s 23ms/step - loss: 5.3881 - root_mean_squared_error: 1274.5637 - val_loss: 22.0242 - val_root_mean_squared_error: 5322.7124\n",
      "Epoch 89/200\n",
      "1/1 [==============================] - 0s 23ms/step - loss: 1.6576 - root_mean_squared_error: 456.7501 - val_loss: 21.0705 - val_root_mean_squared_error: 5092.4297\n",
      "Epoch 90/200\n",
      "1/1 [==============================] - 0s 23ms/step - loss: 2.9864 - root_mean_squared_error: 732.4289 - val_loss: 23.9536 - val_root_mean_squared_error: 5788.6484\n",
      "Epoch 91/200\n",
      "1/1 [==============================] - 0s 23ms/step - loss: 1.0652 - root_mean_squared_error: 341.0934 - val_loss: 24.7044 - val_root_mean_squared_error: 5969.9614\n",
      "Epoch 92/200\n",
      "1/1 [==============================] - 0s 23ms/step - loss: 1.9879 - root_mean_squared_error: 530.3325 - val_loss: 21.8013 - val_root_mean_squared_error: 5268.8960\n",
      "Epoch 93/200\n",
      "1/1 [==============================] - 0s 23ms/step - loss: 2.0300 - root_mean_squared_error: 528.1072 - val_loss: 22.8736 - val_root_mean_squared_error: 5527.8335\n",
      "Epoch 94/200\n",
      "1/1 [==============================] - 0s 23ms/step - loss: 1.0582 - root_mean_squared_error: 284.7620 - val_loss: 23.8745 - val_root_mean_squared_error: 5769.5542\n",
      "Epoch 95/200\n",
      "1/1 [==============================] - 0s 22ms/step - loss: 1.0408 - root_mean_squared_error: 322.9742 - val_loss: 24.8113 - val_root_mean_squared_error: 5995.7769\n",
      "Epoch 96/200\n",
      "1/1 [==============================] - 0s 22ms/step - loss: 2.0656 - root_mean_squared_error: 553.9512 - val_loss: 22.0721 - val_root_mean_squared_error: 5334.2827\n",
      "Epoch 97/200\n",
      "1/1 [==============================] - 0s 23ms/step - loss: 1.7256 - root_mean_squared_error: 468.3771 - val_loss: 23.2889 - val_root_mean_squared_error: 5628.1338\n",
      "Epoch 98/200\n",
      "1/1 [==============================] - 0s 22ms/step - loss: 1.0335 - root_mean_squared_error: 264.8474 - val_loss: 24.4172 - val_root_mean_squared_error: 5900.6162\n",
      "Epoch 99/200\n",
      "1/1 [==============================] - 0s 24ms/step - loss: 1.4746 - root_mean_squared_error: 443.6412 - val_loss: 21.8332 - val_root_mean_squared_error: 5276.5947\n",
      "Epoch 100/200\n",
      "1/1 [==============================] - 0s 22ms/step - loss: 2.1040 - root_mean_squared_error: 543.7974 - val_loss: 23.1996 - val_root_mean_squared_error: 5606.5581\n",
      "Epoch 101/200\n",
      "1/1 [==============================] - 0s 23ms/step - loss: 1.0122 - root_mean_squared_error: 273.1822 - val_loss: 24.4596 - val_root_mean_squared_error: 5910.8384\n",
      "Epoch 102/200\n",
      "1/1 [==============================] - 0s 22ms/step - loss: 1.4849 - root_mean_squared_error: 450.2839 - val_loss: 22.0044 - val_root_mean_squared_error: 5317.9482\n",
      "Epoch 103/200\n",
      "1/1 [==============================] - 0s 23ms/step - loss: 1.9188 - root_mean_squared_error: 507.8245 - val_loss: 23.4701 - val_root_mean_squared_error: 5671.8789\n",
      "Epoch 104/200\n",
      "1/1 [==============================] - 0s 23ms/step - loss: 0.9760 - root_mean_squared_error: 277.1846 - val_loss: 24.8164 - val_root_mean_squared_error: 5997.0244\n",
      "Epoch 105/200\n",
      "1/1 [==============================] - 0s 23ms/step - loss: 1.9233 - root_mean_squared_error: 538.3101 - val_loss: 22.4689 - val_root_mean_squared_error: 5430.1040\n",
      "Epoch 106/200\n",
      "1/1 [==============================] - 0s 23ms/step - loss: 1.6096 - root_mean_squared_error: 402.5288 - val_loss: 22.2403 - val_root_mean_squared_error: 5374.9082\n",
      "Epoch 107/200\n",
      "1/1 [==============================] - 0s 23ms/step - loss: 1.7717 - root_mean_squared_error: 458.3763 - val_loss: 23.9460 - val_root_mean_squared_error: 5786.8247\n",
      "Epoch 108/200\n",
      "1/1 [==============================] - 0s 23ms/step - loss: 0.9570 - root_mean_squared_error: 320.1172 - val_loss: 23.7283 - val_root_mean_squared_error: 5734.2495\n",
      "Epoch 109/200\n",
      "1/1 [==============================] - 0s 23ms/step - loss: 0.9043 - root_mean_squared_error: 277.4467 - val_loss: 23.5669 - val_root_mean_squared_error: 5695.2686\n",
      "Epoch 110/200\n",
      "1/1 [==============================] - 0s 23ms/step - loss: 0.8785 - root_mean_squared_error: 252.2332 - val_loss: 23.4562 - val_root_mean_squared_error: 5668.5225\n",
      "Epoch 111/200\n",
      "1/1 [==============================] - 0s 23ms/step - loss: 0.8351 - root_mean_squared_error: 238.9770 - val_loss: 23.3904 - val_root_mean_squared_error: 5652.6460\n",
      "Epoch 112/200\n",
      "1/1 [==============================] - 0s 22ms/step - loss: 0.8728 - root_mean_squared_error: 233.6447 - val_loss: 25.2371 - val_root_mean_squared_error: 6098.6240\n",
      "Epoch 113/200\n",
      "1/1 [==============================] - 0s 23ms/step - loss: 2.3579 - root_mean_squared_error: 599.2887 - val_loss: 23.2863 - val_root_mean_squared_error: 5627.4951\n",
      "Epoch 114/200\n",
      "1/1 [==============================] - 0s 26ms/step - loss: 0.9513 - root_mean_squared_error: 234.4179 - val_loss: 23.4344 - val_root_mean_squared_error: 5663.2603\n",
      "Epoch 115/200\n",
      "1/1 [==============================] - 0s 24ms/step - loss: 0.8044 - root_mean_squared_error: 216.4485 - val_loss: 25.4715 - val_root_mean_squared_error: 6155.2236\n",
      "Epoch 116/200\n",
      "1/1 [==============================] - 0s 24ms/step - loss: 2.6616 - root_mean_squared_error: 653.3622 - val_loss: 23.7005 - val_root_mean_squared_error: 5727.5386\n",
      "Epoch 117/200\n",
      "1/1 [==============================] - 0s 23ms/step - loss: 0.7207 - root_mean_squared_error: 212.4862 - val_loss: 20.1714 - val_root_mean_squared_error: 4875.3096\n",
      "Epoch 118/200\n",
      "1/1 [==============================] - 0s 23ms/step - loss: 4.7211 - root_mean_squared_error: 1112.2340 - val_loss: 20.8774 - val_root_mean_squared_error: 5045.7959\n",
      "Epoch 119/200\n",
      "1/1 [==============================] - 0s 23ms/step - loss: 3.7395 - root_mean_squared_error: 891.8193 - val_loss: 25.2814 - val_root_mean_squared_error: 6109.3052\n",
      "Epoch 120/200\n",
      "1/1 [==============================] - 0s 23ms/step - loss: 2.4032 - root_mean_squared_error: 592.0919 - val_loss: 25.6047 - val_root_mean_squared_error: 6187.4028\n",
      "Epoch 121/200\n",
      "1/1 [==============================] - 0s 23ms/step - loss: 2.8537 - root_mean_squared_error: 690.2683 - val_loss: 22.3268 - val_root_mean_squared_error: 5395.7905\n",
      "Epoch 122/200\n",
      "1/1 [==============================] - 0s 23ms/step - loss: 1.7145 - root_mean_squared_error: 456.7797 - val_loss: 23.0667 - val_root_mean_squared_error: 5574.4795\n",
      "Epoch 123/200\n",
      "1/1 [==============================] - 0s 23ms/step - loss: 0.7822 - root_mean_squared_error: 274.1389 - val_loss: 25.6027 - val_root_mean_squared_error: 6186.9053\n",
      "Epoch 124/200\n",
      "1/1 [==============================] - 0s 23ms/step - loss: 2.8832 - root_mean_squared_error: 697.3526 - val_loss: 24.3395 - val_root_mean_squared_error: 5881.8516\n",
      "Epoch 125/200\n",
      "1/1 [==============================] - 0s 23ms/step - loss: 1.4343 - root_mean_squared_error: 349.1808 - val_loss: 21.3445 - val_root_mean_squared_error: 5158.5762\n",
      "Epoch 126/200\n",
      "1/1 [==============================] - 0s 23ms/step - loss: 3.0170 - root_mean_squared_error: 748.2705 - val_loss: 22.4022 - val_root_mean_squared_error: 5414.0034\n",
      "Epoch 127/200\n",
      "1/1 [==============================] - 0s 23ms/step - loss: 1.5426 - root_mean_squared_error: 440.4107 - val_loss: 26.9562 - val_root_mean_squared_error: 6513.7871\n",
      "Epoch 128/200\n",
      "1/1 [==============================] - 0s 23ms/step - loss: 4.7902 - root_mean_squared_error: 1123.9028 - val_loss: 27.5645 - val_root_mean_squared_error: 6660.7090\n",
      "Epoch 129/200\n",
      "1/1 [==============================] - 0s 23ms/step - loss: 5.6368 - root_mean_squared_error: 1315.9248 - val_loss: 24.7242 - val_root_mean_squared_error: 5974.7510\n",
      "Epoch 130/200\n",
      "1/1 [==============================] - 0s 24ms/step - loss: 1.7587 - root_mean_squared_error: 454.0683 - val_loss: 20.2626 - val_root_mean_squared_error: 4897.3340\n",
      "Epoch 131/200\n",
      "1/1 [==============================] - 0s 22ms/step - loss: 4.5323 - root_mean_squared_error: 1088.6958 - val_loss: 20.0053 - val_root_mean_squared_error: 4835.2139\n",
      "Epoch 132/200\n",
      "1/1 [==============================] - 0s 23ms/step - loss: 4.9075 - root_mean_squared_error: 1172.0813 - val_loss: 23.5486 - val_root_mean_squared_error: 5690.8574\n",
      "Epoch 133/200\n",
      "1/1 [==============================] - 0s 23ms/step - loss: 0.8576 - root_mean_squared_error: 237.7583 - val_loss: 24.8751 - val_root_mean_squared_error: 6011.1987\n",
      "Epoch 134/200\n",
      "1/1 [==============================] - 0s 37ms/step - loss: 1.8229 - root_mean_squared_error: 472.7857 - val_loss: 22.5261 - val_root_mean_squared_error: 5443.9312\n",
      "Epoch 135/200\n",
      "1/1 [==============================] - 0s 77ms/step - loss: 1.4771 - root_mean_squared_error: 415.1546 - val_loss: 24.0384 - val_root_mean_squared_error: 5809.1274\n",
      "Epoch 136/200\n",
      "1/1 [==============================] - 0s 31ms/step - loss: 1.0535 - root_mean_squared_error: 257.1734 - val_loss: 23.5981 - val_root_mean_squared_error: 5702.7974\n",
      "Epoch 137/200\n",
      "1/1 [==============================] - 0s 31ms/step - loss: 0.7330 - root_mean_squared_error: 215.8570 - val_loss: 23.2162 - val_root_mean_squared_error: 5610.5801\n",
      "Epoch 138/200\n",
      "1/1 [==============================] - 0s 28ms/step - loss: 0.8330 - root_mean_squared_error: 254.0240 - val_loss: 24.7384 - val_root_mean_squared_error: 5978.1802\n",
      "Epoch 139/200\n",
      "1/1 [==============================] - 0s 23ms/step - loss: 1.5388 - root_mean_squared_error: 411.8372 - val_loss: 22.5453 - val_root_mean_squared_error: 5448.5474\n",
      "Epoch 140/200\n",
      "1/1 [==============================] - 0s 23ms/step - loss: 1.4951 - root_mean_squared_error: 405.5030 - val_loss: 24.2081 - val_root_mean_squared_error: 5850.1162\n",
      "Epoch 141/200\n",
      "1/1 [==============================] - 0s 23ms/step - loss: 1.0710 - root_mean_squared_error: 282.2958 - val_loss: 23.9005 - val_root_mean_squared_error: 5775.8359\n",
      "Epoch 142/200\n",
      "1/1 [==============================] - 0s 23ms/step - loss: 0.8219 - root_mean_squared_error: 226.0562 - val_loss: 21.7926 - val_root_mean_squared_error: 5266.7935\n",
      "Epoch 143/200\n",
      "1/1 [==============================] - 0s 23ms/step - loss: 2.5613 - root_mean_squared_error: 625.5977 - val_loss: 23.5874 - val_root_mean_squared_error: 5700.2144\n",
      "Epoch 144/200\n",
      "1/1 [==============================] - 0s 24ms/step - loss: 0.6988 - root_mean_squared_error: 209.3516 - val_loss: 27.0048 - val_root_mean_squared_error: 6525.5366\n",
      "Epoch 145/200\n",
      "1/1 [==============================] - 0s 22ms/step - loss: 4.6486 - root_mean_squared_error: 1101.1506 - val_loss: 26.6475 - val_root_mean_squared_error: 6439.2271\n",
      "Epoch 146/200\n",
      "1/1 [==============================] - 0s 23ms/step - loss: 4.1515 - root_mean_squared_error: 989.3534 - val_loss: 22.8678 - val_root_mean_squared_error: 5526.4336\n",
      "Epoch 147/200\n",
      "1/1 [==============================] - 0s 23ms/step - loss: 1.2624 - root_mean_squared_error: 325.2038 - val_loss: 21.2762 - val_root_mean_squared_error: 5142.0918\n",
      "Epoch 148/200\n",
      "1/1 [==============================] - 0s 26ms/step - loss: 3.2879 - root_mean_squared_error: 783.7980 - val_loss: 23.5561 - val_root_mean_squared_error: 5692.6621\n",
      "Epoch 149/200\n",
      "1/1 [==============================] - 0s 22ms/step - loss: 0.7304 - root_mean_squared_error: 210.8291 - val_loss: 27.3849 - val_root_mean_squared_error: 6617.3154\n",
      "Epoch 150/200\n",
      "1/1 [==============================] - 0s 23ms/step - loss: 5.2218 - root_mean_squared_error: 1230.7943 - val_loss: 27.4213 - val_root_mean_squared_error: 6626.1167\n",
      "Epoch 151/200\n",
      "1/1 [==============================] - 0s 23ms/step - loss: 5.2956 - root_mean_squared_error: 1246.4198 - val_loss: 24.0696 - val_root_mean_squared_error: 5816.6548\n",
      "Epoch 152/200\n",
      "1/1 [==============================] - 0s 23ms/step - loss: 0.9336 - root_mean_squared_error: 261.2770 - val_loss: 19.1006 - val_root_mean_squared_error: 4616.7593\n",
      "Epoch 153/200\n",
      "1/1 [==============================] - 0s 22ms/step - loss: 6.2063 - root_mean_squared_error: 1449.2323 - val_loss: 18.4149 - val_root_mean_squared_error: 4451.2012\n",
      "Epoch 154/200\n",
      "1/1 [==============================] - 0s 23ms/step - loss: 7.1538 - root_mean_squared_error: 1666.5782 - val_loss: 21.6586 - val_root_mean_squared_error: 5234.4468\n",
      "Epoch 155/200\n",
      "1/1 [==============================] - 0s 23ms/step - loss: 2.6507 - root_mean_squared_error: 645.6757 - val_loss: 28.0301 - val_root_mean_squared_error: 6773.1528\n",
      "Epoch 156/200\n",
      "1/1 [==============================] - 0s 23ms/step - loss: 6.1675 - root_mean_squared_error: 1445.2522 - val_loss: 30.2991 - val_root_mean_squared_error: 7321.1479\n",
      "Epoch 157/200\n",
      "1/1 [==============================] - 0s 23ms/step - loss: 9.3016 - root_mean_squared_error: 2165.8699 - val_loss: 29.1897 - val_root_mean_squared_error: 7053.2056\n",
      "Epoch 158/200\n",
      "1/1 [==============================] - 0s 23ms/step - loss: 7.7734 - root_mean_squared_error: 1814.1001 - val_loss: 24.9196 - val_root_mean_squared_error: 6021.9463\n",
      "Epoch 159/200\n",
      "1/1 [==============================] - 0s 22ms/step - loss: 1.8769 - root_mean_squared_error: 484.6154 - val_loss: 17.3169 - val_root_mean_squared_error: 4186.0806\n",
      "Epoch 160/200\n",
      "1/1 [==============================] - 0s 24ms/step - loss: 8.6538 - root_mean_squared_error: 2011.6248 - val_loss: 14.1588 - val_root_mean_squared_error: 3423.7119\n",
      "Epoch 161/200\n",
      "1/1 [==============================] - 0s 22ms/step - loss: 13.0377 - root_mean_squared_error: 3022.5930 - val_loss: 15.4077 - val_root_mean_squared_error: 3725.1670\n",
      "Epoch 162/200\n",
      "1/1 [==============================] - 0s 26ms/step - loss: 11.3017 - root_mean_squared_error: 2621.9165 - val_loss: 20.4475 - val_root_mean_squared_error: 4941.9731\n",
      "Epoch 163/200\n",
      "1/1 [==============================] - 0s 23ms/step - loss: 4.3106 - root_mean_squared_error: 1017.3777 - val_loss: 28.2942 - val_root_mean_squared_error: 6836.9351\n",
      "Epoch 164/200\n",
      "1/1 [==============================] - 0s 23ms/step - loss: 6.5386 - root_mean_squared_error: 1531.0791 - val_loss: 31.8468 - val_root_mean_squared_error: 7694.9556\n",
      "Epoch 165/200\n",
      "1/1 [==============================] - 0s 22ms/step - loss: 11.4354 - root_mean_squared_error: 2658.6665 - val_loss: 32.0150 - val_root_mean_squared_error: 7735.5820\n",
      "Epoch 166/200\n",
      "1/1 [==============================] - 0s 24ms/step - loss: 11.6669 - root_mean_squared_error: 2712.1743 - val_loss: 29.1709 - val_root_mean_squared_error: 7048.6636\n",
      "Epoch 167/200\n",
      "1/1 [==============================] - 0s 23ms/step - loss: 7.7483 - root_mean_squared_error: 1809.1598 - val_loss: 23.2989 - val_root_mean_squared_error: 5630.5547\n",
      "Epoch 168/200\n",
      "1/1 [==============================] - 0s 23ms/step - loss: 0.7828 - root_mean_squared_error: 228.3700 - val_loss: 19.6085 - val_root_mean_squared_error: 4739.3970\n",
      "Epoch 169/200\n",
      "1/1 [==============================] - 0s 22ms/step - loss: 5.4563 - root_mean_squared_error: 1279.3789 - val_loss: 19.9620 - val_root_mean_squared_error: 4824.7471\n",
      "Epoch 170/200\n",
      "1/1 [==============================] - 0s 23ms/step - loss: 4.9580 - root_mean_squared_error: 1166.8547 - val_loss: 23.9004 - val_root_mean_squared_error: 5775.8066\n",
      "Epoch 171/200\n",
      "1/1 [==============================] - 0s 22ms/step - loss: 0.8927 - root_mean_squared_error: 245.4173 - val_loss: 25.6397 - val_root_mean_squared_error: 6195.8481\n",
      "Epoch 172/200\n",
      "1/1 [==============================] - 0s 22ms/step - loss: 2.8948 - root_mean_squared_error: 704.9131 - val_loss: 23.8446 - val_root_mean_squared_error: 5762.3335\n",
      "Epoch 173/200\n",
      "1/1 [==============================] - 0s 23ms/step - loss: 0.8374 - root_mean_squared_error: 237.1940 - val_loss: 20.4230 - val_root_mean_squared_error: 4936.0693\n",
      "Epoch 174/200\n",
      "1/1 [==============================] - 0s 25ms/step - loss: 4.3335 - root_mean_squared_error: 1024.1980 - val_loss: 20.9613 - val_root_mean_squared_error: 5066.0483\n",
      "Epoch 175/200\n",
      "1/1 [==============================] - 0s 23ms/step - loss: 3.6017 - root_mean_squared_error: 858.2865 - val_loss: 24.9888 - val_root_mean_squared_error: 6038.6470\n",
      "Epoch 176/200\n",
      "1/1 [==============================] - 0s 22ms/step - loss: 1.9538 - root_mean_squared_error: 505.4459 - val_loss: 25.1854 - val_root_mean_squared_error: 6086.1270\n",
      "Epoch 177/200\n",
      "1/1 [==============================] - 0s 23ms/step - loss: 2.2150 - root_mean_squared_error: 561.8426 - val_loss: 21.9759 - val_root_mean_squared_error: 5311.0581\n",
      "Epoch 178/200\n",
      "1/1 [==============================] - 0s 22ms/step - loss: 2.2295 - root_mean_squared_error: 555.1982 - val_loss: 22.5846 - val_root_mean_squared_error: 5458.0464\n",
      "Epoch 179/200\n",
      "1/1 [==============================] - 0s 22ms/step - loss: 1.4003 - root_mean_squared_error: 385.6841 - val_loss: 24.9178 - val_root_mean_squared_error: 6021.4946\n",
      "Epoch 180/200\n",
      "1/1 [==============================] - 0s 22ms/step - loss: 1.8296 - root_mean_squared_error: 482.9188 - val_loss: 23.6340 - val_root_mean_squared_error: 5711.4751\n",
      "Epoch 181/200\n",
      "1/1 [==============================] - 0s 23ms/step - loss: 0.8119 - root_mean_squared_error: 220.7248 - val_loss: 22.4944 - val_root_mean_squared_error: 5436.2754\n",
      "Epoch 182/200\n",
      "1/1 [==============================] - 0s 22ms/step - loss: 1.5236 - root_mean_squared_error: 410.1288 - val_loss: 24.9450 - val_root_mean_squared_error: 6028.0615\n",
      "Epoch 183/200\n",
      "1/1 [==============================] - 0s 22ms/step - loss: 1.8568 - root_mean_squared_error: 487.3144 - val_loss: 23.7687 - val_root_mean_squared_error: 5744.0029\n",
      "Epoch 184/200\n",
      "1/1 [==============================] - 0s 22ms/step - loss: 0.7932 - root_mean_squared_error: 225.3306 - val_loss: 22.7277 - val_root_mean_squared_error: 5492.6118\n",
      "Epoch 185/200\n",
      "1/1 [==============================] - 0s 22ms/step - loss: 1.2941 - root_mean_squared_error: 352.6815 - val_loss: 23.5914 - val_root_mean_squared_error: 5701.1787\n",
      "Epoch 186/200\n",
      "1/1 [==============================] - 0s 27ms/step - loss: 0.7697 - root_mean_squared_error: 214.5116 - val_loss: 24.3958 - val_root_mean_squared_error: 5895.4302\n",
      "Epoch 187/200\n",
      "1/1 [==============================] - 0s 23ms/step - loss: 1.0964 - root_mean_squared_error: 328.0225 - val_loss: 23.3906 - val_root_mean_squared_error: 5652.6929\n",
      "Epoch 188/200\n",
      "1/1 [==============================] - 0s 23ms/step - loss: 0.8153 - root_mean_squared_error: 224.6762 - val_loss: 24.2761 - val_root_mean_squared_error: 5866.5298\n",
      "Epoch 189/200\n",
      "1/1 [==============================] - 0s 23ms/step - loss: 0.9977 - root_mean_squared_error: 291.8864 - val_loss: 23.3341 - val_root_mean_squared_error: 5639.0464\n",
      "Epoch 190/200\n",
      "1/1 [==============================] - 0s 22ms/step - loss: 0.8725 - root_mean_squared_error: 233.1496 - val_loss: 24.2847 - val_root_mean_squared_error: 5868.6230\n",
      "Epoch 191/200\n",
      "1/1 [==============================] - 0s 22ms/step - loss: 0.9877 - root_mean_squared_error: 287.3210 - val_loss: 23.3956 - val_root_mean_squared_error: 5653.8979\n",
      "Epoch 192/200\n",
      "1/1 [==============================] - 0s 22ms/step - loss: 0.8453 - root_mean_squared_error: 226.8352 - val_loss: 24.3982 - val_root_mean_squared_error: 5896.0103\n",
      "Epoch 193/200\n",
      "1/1 [==============================] - 0s 22ms/step - loss: 1.0515 - root_mean_squared_error: 307.9936 - val_loss: 23.5533 - val_root_mean_squared_error: 5691.9805\n",
      "Epoch 194/200\n",
      "1/1 [==============================] - 0s 23ms/step - loss: 0.7482 - root_mean_squared_error: 212.4098 - val_loss: 24.5968 - val_root_mean_squared_error: 5943.9800\n",
      "Epoch 195/200\n",
      "1/1 [==============================] - 0s 23ms/step - loss: 1.2213 - root_mean_squared_error: 352.9155 - val_loss: 22.0638 - val_root_mean_squared_error: 5332.2773\n",
      "Epoch 196/200\n",
      "1/1 [==============================] - 0s 23ms/step - loss: 2.2960 - root_mean_squared_error: 567.2711 - val_loss: 23.3485 - val_root_mean_squared_error: 5642.5161\n",
      "Epoch 197/200\n",
      "1/1 [==============================] - 0s 27ms/step - loss: 0.8752 - root_mean_squared_error: 236.9101 - val_loss: 26.2772 - val_root_mean_squared_error: 6349.8140\n",
      "Epoch 198/200\n",
      "1/1 [==============================] - 0s 23ms/step - loss: 3.5542 - root_mean_squared_error: 849.2992 - val_loss: 25.5459 - val_root_mean_squared_error: 6173.1821\n",
      "Epoch 199/200\n",
      "1/1 [==============================] - 0s 22ms/step - loss: 2.5516 - root_mean_squared_error: 625.6853 - val_loss: 21.4455 - val_root_mean_squared_error: 5182.9839\n",
      "Epoch 200/200\n",
      "1/1 [==============================] - 0s 23ms/step - loss: 3.1257 - root_mean_squared_error: 753.8071 - val_loss: 21.3152 - val_root_mean_squared_error: 5151.5122\n"
     ]
    },
    {
     "data": {
      "text/plain": [
       "<keras.callbacks.History at 0x7ff246d2b670>"
      ]
     },
     "execution_count": 143,
     "metadata": {},
     "output_type": "execute_result"
    }
   ],
   "source": [
    "model3.fit(X_train1, y_train1, validation_data=(X_val1, y_val1), epochs=200, callbacks=[cp3])"
   ]
  },
  {
   "cell_type": "code",
   "execution_count": 144,
   "metadata": {},
   "outputs": [
    {
     "name": "stdout",
     "output_type": "stream",
     "text": [
      "1/1 [==============================] - 0s 296ms/step\n"
     ]
    },
    {
     "data": {
      "text/html": [
       "<div>\n",
       "<style scoped>\n",
       "    .dataframe tbody tr th:only-of-type {\n",
       "        vertical-align: middle;\n",
       "    }\n",
       "\n",
       "    .dataframe tbody tr th {\n",
       "        vertical-align: top;\n",
       "    }\n",
       "\n",
       "    .dataframe thead th {\n",
       "        text-align: right;\n",
       "    }\n",
       "</style>\n",
       "<table border=\"1\" class=\"dataframe\">\n",
       "  <thead>\n",
       "    <tr style=\"text-align: right;\">\n",
       "      <th></th>\n",
       "      <th>Train Predictions</th>\n",
       "      <th>Actuals</th>\n",
       "    </tr>\n",
       "  </thead>\n",
       "  <tbody>\n",
       "    <tr>\n",
       "      <th>0</th>\n",
       "      <td>22456.437500</td>\n",
       "      <td>21453.0</td>\n",
       "    </tr>\n",
       "    <tr>\n",
       "      <th>1</th>\n",
       "      <td>22528.859375</td>\n",
       "      <td>21926.0</td>\n",
       "    </tr>\n",
       "    <tr>\n",
       "      <th>2</th>\n",
       "      <td>25745.533203</td>\n",
       "      <td>24945.0</td>\n",
       "    </tr>\n",
       "    <tr>\n",
       "      <th>3</th>\n",
       "      <td>25770.376953</td>\n",
       "      <td>24365.0</td>\n",
       "    </tr>\n",
       "  </tbody>\n",
       "</table>\n",
       "</div>"
      ],
      "text/plain": [
       "   Train Predictions  Actuals\n",
       "0       22456.437500  21453.0\n",
       "1       22528.859375  21926.0\n",
       "2       25745.533203  24945.0\n",
       "3       25770.376953  24365.0"
      ]
     },
     "execution_count": 144,
     "metadata": {},
     "output_type": "execute_result"
    }
   ],
   "source": [
    "model3 = load_model('model3/')\n",
    "train_predictions3 = model3.predict(X_train1).flatten()\n",
    "train_results3 = pd.DataFrame(data={'Train Predictions':train_predictions3, 'Actuals':y_train1})\n",
    "train_results3"
   ]
  },
  {
   "cell_type": "code",
   "execution_count": 145,
   "metadata": {},
   "outputs": [
    {
     "data": {
      "text/plain": [
       "(20000.0, 28000.0)"
      ]
     },
     "execution_count": 145,
     "metadata": {},
     "output_type": "execute_result"
    },
    {
     "data": {
      "image/png": "[encoded data removed]",
      "text/plain": [
       "<Figure size 432x288 with 1 Axes>"
      ]
     },
     "metadata": {
      "needs_background": "light"
     },
     "output_type": "display_data"
    }
   ],
   "source": [
    "train_results3.index=['2013','2014','2015','2016']\n",
    "plt.plot(train_results3['Train Predictions'])\n",
    "plt.plot(train_results3['Actuals'])\n",
    "\n",
    "plt.legend(['Prediction', 'Actual'], loc='lower right')\n",
    "plt.ylim(20000,30000)\n",
    "pyplot.xlabel(\"Years\")\n",
    "pyplot.ylabel(\"Food Loss\")\n",
    "plt.title(\"GRU\")\n",
    "plt.ylim(20000,28000)"
   ]
  },
  {
   "cell_type": "code",
   "execution_count": 146,
   "metadata": {},
   "outputs": [
    {
     "name": "stdout",
     "output_type": "stream",
     "text": [
      "dict_keys(['loss', 'root_mean_squared_error', 'val_loss', 'val_root_mean_squared_error'])\n"
     ]
    },
    {
     "data": {
      "image/png": "[encoded data removed]",
      "text/plain": [
       "<Figure size 576x432 with 1 Axes>"
      ]
     },
     "metadata": {
      "needs_background": "light"
     },
     "output_type": "display_data"
    }
   ],
   "source": [
    "history = model3.fit(X_train1, y_train1, validation_data=(X_val1, y_val1), epochs=100, verbose=0)\n",
    "print(history.history.keys())\n",
    "\n",
    "\n",
    "figure(figsize=(8, 6))\n",
    "plt.plot(history.history['loss'])\n",
    "plt.plot(history.history['val_loss'])\n",
    "plt.title('model loss')\n",
    "plt.ylabel('loss')\n",
    "plt.xlabel('epoch')\n",
    "plt.legend(['train', 'test'], loc='upper left')\n",
    "plt.show()"
   ]
  },
  {
   "cell_type": "code",
   "execution_count": 147,
   "metadata": {},
   "outputs": [
    {
     "name": "stdout",
     "output_type": "stream",
     "text": [
      "1/1 [==============================] - 0s 16ms/step\n"
     ]
    },
    {
     "data": {
      "text/html": [
       "<div>\n",
       "<style scoped>\n",
       "    .dataframe tbody tr th:only-of-type {\n",
       "        vertical-align: middle;\n",
       "    }\n",
       "\n",
       "    .dataframe tbody tr th {\n",
       "        vertical-align: top;\n",
       "    }\n",
       "\n",
       "    .dataframe thead th {\n",
       "        text-align: right;\n",
       "    }\n",
       "</style>\n",
       "<table border=\"1\" class=\"dataframe\">\n",
       "  <thead>\n",
       "    <tr style=\"text-align: right;\">\n",
       "      <th></th>\n",
       "      <th>Val Predictions</th>\n",
       "      <th>Actuals</th>\n",
       "    </tr>\n",
       "  </thead>\n",
       "  <tbody>\n",
       "    <tr>\n",
       "      <th>0</th>\n",
       "      <td>17401.720703</td>\n",
       "      <td>24293.0</td>\n",
       "    </tr>\n",
       "    <tr>\n",
       "      <th>1</th>\n",
       "      <td>17401.720703</td>\n",
       "      <td>24021.0</td>\n",
       "    </tr>\n",
       "  </tbody>\n",
       "</table>\n",
       "</div>"
      ],
      "text/plain": [
       "   Val Predictions  Actuals\n",
       "0     17401.720703  24293.0\n",
       "1     17401.720703  24021.0"
      ]
     },
     "execution_count": 147,
     "metadata": {},
     "output_type": "execute_result"
    }
   ],
   "source": [
    "val_predictions3 = model3.predict(X_val1).flatten()\n",
    "val_results3 = pd.DataFrame(data={'Val Predictions':val_predictions3, 'Actuals':y_val1})\n",
    "val_results3"
   ]
  },
  {
   "cell_type": "code",
   "execution_count": 201,
   "metadata": {},
   "outputs": [
    {
     "ename": "NameError",
     "evalue": "name 'tf' is not defined",
     "output_type": "error",
     "traceback": [
      "\u001b[0;31m---------------------------------------------------------------------------\u001b[0m",
      "\u001b[0;31mNameError\u001b[0m                                 Traceback (most recent call last)",
      "\u001b[1;32m/Users/murathansaygili/Desktop/SIC/Food-Supply-Chain/module_1.ipynb Cell 46\u001b[0m in \u001b[0;36m<cell line: 1>\u001b[0;34m()\u001b[0m\n\u001b[0;32m----> <a href='vscode-notebook-cell:/Users/murathansaygili/Desktop/SIC/Food-Supply-Chain/module_1.ipynb#ch0000064?line=0'>1</a>\u001b[0m test_predictions3\u001b[39m=\u001b[39mtf\u001b[39m.\u001b[39mconvert_to_tensor(test_predictions3, dtype\u001b[39m=\u001b[39mtf\u001b[39m.\u001b[39mint64)\n\u001b[1;32m      <a href='vscode-notebook-cell:/Users/murathansaygili/Desktop/SIC/Food-Supply-Chain/module_1.ipynb#ch0000064?line=1'>2</a>\u001b[0m test_predictions3 \u001b[39m=\u001b[39m model3\u001b[39m.\u001b[39mpredict(test_predictions3)\u001b[39m.\u001b[39mflatten()\n\u001b[1;32m      <a href='vscode-notebook-cell:/Users/murathansaygili/Desktop/SIC/Food-Supply-Chain/module_1.ipynb#ch0000064?line=2'>3</a>\u001b[0m test_results3 \u001b[39m=\u001b[39m pd\u001b[39m.\u001b[39mDataFrame(data\u001b[39m=\u001b[39m{\u001b[39m'\u001b[39m\u001b[39mTest Predictions\u001b[39m\u001b[39m'\u001b[39m:test_predictions3, \u001b[39m'\u001b[39m\u001b[39mActuals\u001b[39m\u001b[39m'\u001b[39m:y_test1})\n",
      "\u001b[0;31mNameError\u001b[0m: name 'tf' is not defined"
     ]
    }
   ],
   "source": [
    "test_predictions3=tf.convert_to_tensor(test_predictions3, dtype=tf.int64)\n",
    "test_predictions3 = model3.predict(test_predictions3).flatten()\n",
    "test_results3 = pd.DataFrame(data={'Test Predictions':test_predictions3, 'Actuals':y_test1})\n",
    "test_results3"
   ]
  },
  {
   "cell_type": "code",
   "execution_count": null,
   "metadata": {},
   "outputs": [],
   "source": []
  }
 ],
 "metadata": {
  "kernelspec": {
   "display_name": "Python 3.9.0 ('venv')",
   "language": "python",
   "name": "python3"
  },
  "language_info": {
   "codemirror_mode": {
    "name": "ipython",
    "version": 3
   },
   "file_extension": ".py",
   "mimetype": "text/x-python",
   "name": "python",
   "nbconvert_exporter": "python",
   "pygments_lexer": "ipython3",
   "version": "3.9.0"
  },
  "vscode": {
   "interpreter": {
    "hash": "713654384febb35868ed951ad9309a525cf553cdc72ed92d2edb347802f3b56b"
   }
  }
 },
 "nbformat": 4,
 "nbformat_minor": 0
}
