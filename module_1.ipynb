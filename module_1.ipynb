{
 "cells": [
  {
   "cell_type": "code",
   "execution_count": 40,
   "metadata": {
    "collapsed": false,
    "pycharm": {
     "name": "#%%\n"
    }
   },
   "outputs": [
    {
     "name": "stderr",
     "output_type": "stream",
     "text": [
      "/var/folders/t6/nkv95bj97gv9j73w9bfk2p0r0000gn/T/ipykernel_9640/4074705024.py:26: FutureWarning: The pandas.datetime class is deprecated and will be removed from pandas in a future version. Import from datetime module instead.\n",
      "  from pandas import datetime\n"
     ]
    }
   ],
   "source": [
    "import pandas as pd\n",
    "import plotly.express as px\n",
    "import matplotlib.pyplot as plt\n",
    "import numpy as np\n",
    "import math\n",
    "from keras import Sequential\n",
    "from keras.layers import LSTM, Dropout, Dense\n",
    "from keras.wrappers.scikit_learn import KerasRegressor\n",
    "from plotly.subplots import make_subplots\n",
    "import plotly.graph_objects as go\n",
    "from sklearn.model_selection import GridSearchCV\n",
    "from sklearn import metrics\n",
    "from sklearn.preprocessing import LabelEncoder, MinMaxScaler, StandardScaler\n",
    "\n",
    "import tensorflow as tf\n",
    "from tensorboard.plugins.hparams import api as hp\n",
    "from tensorflow.keras.models import Sequential,load_model\n",
    "from tensorflow.keras.layers import *\n",
    "from tensorflow.keras.callbacks import ModelCheckpoint\n",
    "from tensorflow.keras.losses import MeanSquaredError, MeanAbsolutePercentageError\n",
    "from tensorflow.keras.metrics import RootMeanSquaredError\n",
    "from tensorflow.keras.optimizers import Adam\n",
    "from math import sqrt\n",
    "from sklearn.metrics import mean_squared_error\n",
    "from sklearn.metrics import mean_absolute_error\n",
    "from pandas import datetime\n",
    "from pandas import DataFrame\n",
    "from statsmodels.tsa.arima.model import ARIMA\n",
    "from matplotlib import pyplot\n",
    "from matplotlib.pyplot import figure\n",
    "from numpy import asarray"
   ]
  },
  {
   "cell_type": "code",
   "execution_count": 2,
   "metadata": {
    "collapsed": false,
    "pycharm": {
     "name": "#%%\n"
    }
   },
   "outputs": [],
   "source": [
    "df=pd.read_csv(\"Data/FoodBalanceSheets_E_All_Data/FoodBalanceSheets_E_All_Data_NOFLAG.csv\", encoding=\"latin-1\")"
   ]
  },
  {
   "cell_type": "code",
   "execution_count": 3,
   "metadata": {
    "collapsed": false,
    "pycharm": {
     "name": "#%%\n"
    }
   },
   "outputs": [
    {
     "data": {
      "text/html": [
       "<div>\n",
       "<style scoped>\n",
       "    .dataframe tbody tr th:only-of-type {\n",
       "        vertical-align: middle;\n",
       "    }\n",
       "\n",
       "    .dataframe tbody tr th {\n",
       "        vertical-align: top;\n",
       "    }\n",
       "\n",
       "    .dataframe thead th {\n",
       "        text-align: right;\n",
       "    }\n",
       "</style>\n",
       "<table border=\"1\" class=\"dataframe\">\n",
       "  <thead>\n",
       "    <tr style=\"text-align: right;\">\n",
       "      <th></th>\n",
       "      <th>Area</th>\n",
       "      <th>Item</th>\n",
       "      <th>Element</th>\n",
       "      <th>Unit</th>\n",
       "      <th>Y2010</th>\n",
       "      <th>Y2011</th>\n",
       "      <th>Y2012</th>\n",
       "      <th>Y2013</th>\n",
       "      <th>Y2014</th>\n",
       "      <th>Y2015</th>\n",
       "      <th>Y2016</th>\n",
       "      <th>Y2017</th>\n",
       "      <th>Y2018</th>\n",
       "      <th>Y2019</th>\n",
       "    </tr>\n",
       "  </thead>\n",
       "  <tbody>\n",
       "    <tr>\n",
       "      <th>0</th>\n",
       "      <td>Afghanistan</td>\n",
       "      <td>Population</td>\n",
       "      <td>Total Population - Both sexes</td>\n",
       "      <td>1000 persons</td>\n",
       "      <td>29186.00</td>\n",
       "      <td>30117.00</td>\n",
       "      <td>31161.00</td>\n",
       "      <td>32270.00</td>\n",
       "      <td>33371.00</td>\n",
       "      <td>34414.00</td>\n",
       "      <td>35383.00</td>\n",
       "      <td>36296.00</td>\n",
       "      <td>37172.00</td>\n",
       "      <td>38042.00</td>\n",
       "    </tr>\n",
       "    <tr>\n",
       "      <th>1</th>\n",
       "      <td>Afghanistan</td>\n",
       "      <td>Population</td>\n",
       "      <td>Domestic supply quantity</td>\n",
       "      <td>1000 tonnes</td>\n",
       "      <td>0.00</td>\n",
       "      <td>0.00</td>\n",
       "      <td>0.00</td>\n",
       "      <td>0.00</td>\n",
       "      <td>0.00</td>\n",
       "      <td>0.00</td>\n",
       "      <td>0.00</td>\n",
       "      <td>0.00</td>\n",
       "      <td>0.00</td>\n",
       "      <td>0.00</td>\n",
       "    </tr>\n",
       "    <tr>\n",
       "      <th>2</th>\n",
       "      <td>Afghanistan</td>\n",
       "      <td>Grand Total</td>\n",
       "      <td>Food supply (kcal/capita/day)</td>\n",
       "      <td>kcal/capita/day</td>\n",
       "      <td>2170.00</td>\n",
       "      <td>2152.00</td>\n",
       "      <td>2159.00</td>\n",
       "      <td>2196.00</td>\n",
       "      <td>2265.00</td>\n",
       "      <td>2250.00</td>\n",
       "      <td>2228.00</td>\n",
       "      <td>2303.00</td>\n",
       "      <td>2270.00</td>\n",
       "      <td>2273.00</td>\n",
       "    </tr>\n",
       "    <tr>\n",
       "      <th>3</th>\n",
       "      <td>Afghanistan</td>\n",
       "      <td>Grand Total</td>\n",
       "      <td>Protein supply quantity (g/capita/day)</td>\n",
       "      <td>g/capita/day</td>\n",
       "      <td>59.23</td>\n",
       "      <td>58.00</td>\n",
       "      <td>57.82</td>\n",
       "      <td>57.71</td>\n",
       "      <td>60.17</td>\n",
       "      <td>58.45</td>\n",
       "      <td>58.46</td>\n",
       "      <td>59.50</td>\n",
       "      <td>57.62</td>\n",
       "      <td>57.31</td>\n",
       "    </tr>\n",
       "    <tr>\n",
       "      <th>4</th>\n",
       "      <td>Afghanistan</td>\n",
       "      <td>Grand Total</td>\n",
       "      <td>Fat supply quantity (g/capita/day)</td>\n",
       "      <td>g/capita/day</td>\n",
       "      <td>36.69</td>\n",
       "      <td>34.81</td>\n",
       "      <td>36.53</td>\n",
       "      <td>37.10</td>\n",
       "      <td>41.48</td>\n",
       "      <td>38.28</td>\n",
       "      <td>40.70</td>\n",
       "      <td>40.03</td>\n",
       "      <td>41.46</td>\n",
       "      <td>39.78</td>\n",
       "    </tr>\n",
       "    <tr>\n",
       "      <th>...</th>\n",
       "      <td>...</td>\n",
       "      <td>...</td>\n",
       "      <td>...</td>\n",
       "      <td>...</td>\n",
       "      <td>...</td>\n",
       "      <td>...</td>\n",
       "      <td>...</td>\n",
       "      <td>...</td>\n",
       "      <td>...</td>\n",
       "      <td>...</td>\n",
       "      <td>...</td>\n",
       "      <td>...</td>\n",
       "      <td>...</td>\n",
       "      <td>...</td>\n",
       "    </tr>\n",
       "    <tr>\n",
       "      <th>319738</th>\n",
       "      <td>Net Food Importing Developing Countries</td>\n",
       "      <td>Miscellaneous</td>\n",
       "      <td>Food</td>\n",
       "      <td>1000 tonnes</td>\n",
       "      <td>787.00</td>\n",
       "      <td>839.00</td>\n",
       "      <td>921.00</td>\n",
       "      <td>935.00</td>\n",
       "      <td>958.00</td>\n",
       "      <td>992.00</td>\n",
       "      <td>1032.00</td>\n",
       "      <td>1066.00</td>\n",
       "      <td>1140.00</td>\n",
       "      <td>1199.00</td>\n",
       "    </tr>\n",
       "    <tr>\n",
       "      <th>319739</th>\n",
       "      <td>Net Food Importing Developing Countries</td>\n",
       "      <td>Miscellaneous</td>\n",
       "      <td>Food supply quantity (kg/capita/yr)</td>\n",
       "      <td>kg</td>\n",
       "      <td>0.62</td>\n",
       "      <td>0.65</td>\n",
       "      <td>0.68</td>\n",
       "      <td>0.67</td>\n",
       "      <td>0.67</td>\n",
       "      <td>0.68</td>\n",
       "      <td>0.69</td>\n",
       "      <td>0.70</td>\n",
       "      <td>0.73</td>\n",
       "      <td>0.75</td>\n",
       "    </tr>\n",
       "    <tr>\n",
       "      <th>319740</th>\n",
       "      <td>Net Food Importing Developing Countries</td>\n",
       "      <td>Miscellaneous</td>\n",
       "      <td>Food supply (kcal/capita/day)</td>\n",
       "      <td>kcal/capita/day</td>\n",
       "      <td>1.00</td>\n",
       "      <td>1.00</td>\n",
       "      <td>1.00</td>\n",
       "      <td>1.00</td>\n",
       "      <td>1.00</td>\n",
       "      <td>1.00</td>\n",
       "      <td>1.00</td>\n",
       "      <td>1.00</td>\n",
       "      <td>1.00</td>\n",
       "      <td>1.00</td>\n",
       "    </tr>\n",
       "    <tr>\n",
       "      <th>319741</th>\n",
       "      <td>Net Food Importing Developing Countries</td>\n",
       "      <td>Miscellaneous</td>\n",
       "      <td>Protein supply quantity (g/capita/day)</td>\n",
       "      <td>g/capita/day</td>\n",
       "      <td>0.02</td>\n",
       "      <td>0.02</td>\n",
       "      <td>0.02</td>\n",
       "      <td>0.02</td>\n",
       "      <td>0.02</td>\n",
       "      <td>0.02</td>\n",
       "      <td>0.02</td>\n",
       "      <td>0.02</td>\n",
       "      <td>0.02</td>\n",
       "      <td>0.02</td>\n",
       "    </tr>\n",
       "    <tr>\n",
       "      <th>319742</th>\n",
       "      <td>Net Food Importing Developing Countries</td>\n",
       "      <td>Miscellaneous</td>\n",
       "      <td>Fat supply quantity (g/capita/day)</td>\n",
       "      <td>g/capita/day</td>\n",
       "      <td>0.01</td>\n",
       "      <td>0.01</td>\n",
       "      <td>0.01</td>\n",
       "      <td>0.01</td>\n",
       "      <td>0.01</td>\n",
       "      <td>0.01</td>\n",
       "      <td>0.01</td>\n",
       "      <td>0.01</td>\n",
       "      <td>0.01</td>\n",
       "      <td>0.01</td>\n",
       "    </tr>\n",
       "  </tbody>\n",
       "</table>\n",
       "<p>319743 rows × 14 columns</p>\n",
       "</div>"
      ],
      "text/plain": [
       "                                           Area           Item  \\\n",
       "0                                   Afghanistan     Population   \n",
       "1                                   Afghanistan     Population   \n",
       "2                                   Afghanistan    Grand Total   \n",
       "3                                   Afghanistan    Grand Total   \n",
       "4                                   Afghanistan    Grand Total   \n",
       "...                                         ...            ...   \n",
       "319738  Net Food Importing Developing Countries  Miscellaneous   \n",
       "319739  Net Food Importing Developing Countries  Miscellaneous   \n",
       "319740  Net Food Importing Developing Countries  Miscellaneous   \n",
       "319741  Net Food Importing Developing Countries  Miscellaneous   \n",
       "319742  Net Food Importing Developing Countries  Miscellaneous   \n",
       "\n",
       "                                       Element             Unit     Y2010  \\\n",
       "0                Total Population - Both sexes     1000 persons  29186.00   \n",
       "1                     Domestic supply quantity      1000 tonnes      0.00   \n",
       "2                Food supply (kcal/capita/day)  kcal/capita/day   2170.00   \n",
       "3       Protein supply quantity (g/capita/day)     g/capita/day     59.23   \n",
       "4           Fat supply quantity (g/capita/day)     g/capita/day     36.69   \n",
       "...                                        ...              ...       ...   \n",
       "319738                                    Food      1000 tonnes    787.00   \n",
       "319739     Food supply quantity (kg/capita/yr)               kg      0.62   \n",
       "319740           Food supply (kcal/capita/day)  kcal/capita/day      1.00   \n",
       "319741  Protein supply quantity (g/capita/day)     g/capita/day      0.02   \n",
       "319742      Fat supply quantity (g/capita/day)     g/capita/day      0.01   \n",
       "\n",
       "           Y2011     Y2012     Y2013     Y2014     Y2015     Y2016     Y2017  \\\n",
       "0       30117.00  31161.00  32270.00  33371.00  34414.00  35383.00  36296.00   \n",
       "1           0.00      0.00      0.00      0.00      0.00      0.00      0.00   \n",
       "2        2152.00   2159.00   2196.00   2265.00   2250.00   2228.00   2303.00   \n",
       "3          58.00     57.82     57.71     60.17     58.45     58.46     59.50   \n",
       "4          34.81     36.53     37.10     41.48     38.28     40.70     40.03   \n",
       "...          ...       ...       ...       ...       ...       ...       ...   \n",
       "319738    839.00    921.00    935.00    958.00    992.00   1032.00   1066.00   \n",
       "319739      0.65      0.68      0.67      0.67      0.68      0.69      0.70   \n",
       "319740      1.00      1.00      1.00      1.00      1.00      1.00      1.00   \n",
       "319741      0.02      0.02      0.02      0.02      0.02      0.02      0.02   \n",
       "319742      0.01      0.01      0.01      0.01      0.01      0.01      0.01   \n",
       "\n",
       "           Y2018     Y2019  \n",
       "0       37172.00  38042.00  \n",
       "1           0.00      0.00  \n",
       "2        2270.00   2273.00  \n",
       "3          57.62     57.31  \n",
       "4          41.46     39.78  \n",
       "...          ...       ...  \n",
       "319738   1140.00   1199.00  \n",
       "319739      0.73      0.75  \n",
       "319740      1.00      1.00  \n",
       "319741      0.02      0.02  \n",
       "319742      0.01      0.01  \n",
       "\n",
       "[319743 rows x 14 columns]"
      ]
     },
     "execution_count": 3,
     "metadata": {},
     "output_type": "execute_result"
    }
   ],
   "source": [
    "df.drop([\"Area Code\",\"Item Code\",\"Element Code\"],axis=1,inplace=True)\n",
    "df"
   ]
  },
  {
   "cell_type": "code",
   "execution_count": 4,
   "metadata": {
    "collapsed": false,
    "pycharm": {
     "name": "#%%\n"
    }
   },
   "outputs": [],
   "source": [
    "df.dropna(axis=0, inplace=True)"
   ]
  },
  {
   "cell_type": "code",
   "execution_count": 5,
   "metadata": {
    "collapsed": false,
    "pycharm": {
     "name": "#%%\n"
    }
   },
   "outputs": [],
   "source": [
    "df=df.loc[~(df.iloc[:,4:]==0).all(axis=1)]"
   ]
  },
  {
   "cell_type": "code",
   "execution_count": 6,
   "metadata": {
    "collapsed": false,
    "pycharm": {
     "name": "#%%\n"
    }
   },
   "outputs": [],
   "source": [
    "# df.Area.value_counts()[40:80]"
   ]
  },
  {
   "cell_type": "code",
   "execution_count": 7,
   "metadata": {
    "collapsed": false,
    "pycharm": {
     "name": "#%%\n"
    }
   },
   "outputs": [],
   "source": [
    "# df.Item.value_counts()[:30]"
   ]
  },
  {
   "cell_type": "code",
   "execution_count": 8,
   "metadata": {},
   "outputs": [],
   "source": [
    "df=df[df.Element==\"Losses\"]"
   ]
  },
  {
   "cell_type": "code",
   "execution_count": 86,
   "metadata": {},
   "outputs": [
    {
     "data": {
      "text/html": [
       "<div>\n",
       "<style scoped>\n",
       "    .dataframe tbody tr th:only-of-type {\n",
       "        vertical-align: middle;\n",
       "    }\n",
       "\n",
       "    .dataframe tbody tr th {\n",
       "        vertical-align: top;\n",
       "    }\n",
       "\n",
       "    .dataframe thead th {\n",
       "        text-align: right;\n",
       "    }\n",
       "</style>\n",
       "<table border=\"1\" class=\"dataframe\">\n",
       "  <thead>\n",
       "    <tr style=\"text-align: right;\">\n",
       "      <th></th>\n",
       "      <th>Area</th>\n",
       "      <th>Item</th>\n",
       "      <th>Element</th>\n",
       "      <th>Unit</th>\n",
       "      <th>Y2010</th>\n",
       "      <th>Y2011</th>\n",
       "      <th>Y2012</th>\n",
       "      <th>Y2013</th>\n",
       "      <th>Y2014</th>\n",
       "      <th>Y2015</th>\n",
       "      <th>Y2016</th>\n",
       "      <th>Y2017</th>\n",
       "      <th>Y2018</th>\n",
       "      <th>Y2019</th>\n",
       "    </tr>\n",
       "  </thead>\n",
       "  <tbody>\n",
       "    <tr>\n",
       "      <th>18</th>\n",
       "      <td>Afghanistan</td>\n",
       "      <td>Cereals - Excluding Beer</td>\n",
       "      <td>Losses</td>\n",
       "      <td>1000 tonnes</td>\n",
       "      <td>837.0</td>\n",
       "      <td>647.0</td>\n",
       "      <td>911.0</td>\n",
       "      <td>936.0</td>\n",
       "      <td>963.0</td>\n",
       "      <td>837.0</td>\n",
       "      <td>800.0</td>\n",
       "      <td>706.0</td>\n",
       "      <td>595.0</td>\n",
       "      <td>809.0</td>\n",
       "    </tr>\n",
       "    <tr>\n",
       "      <th>35</th>\n",
       "      <td>Afghanistan</td>\n",
       "      <td>Wheat and products</td>\n",
       "      <td>Losses</td>\n",
       "      <td>1000 tonnes</td>\n",
       "      <td>678.0</td>\n",
       "      <td>508.0</td>\n",
       "      <td>758.0</td>\n",
       "      <td>775.0</td>\n",
       "      <td>803.0</td>\n",
       "      <td>701.0</td>\n",
       "      <td>684.0</td>\n",
       "      <td>642.0</td>\n",
       "      <td>542.0</td>\n",
       "      <td>734.0</td>\n",
       "    </tr>\n",
       "    <tr>\n",
       "      <th>50</th>\n",
       "      <td>Afghanistan</td>\n",
       "      <td>Rice and products</td>\n",
       "      <td>Losses</td>\n",
       "      <td>1000 tonnes</td>\n",
       "      <td>47.0</td>\n",
       "      <td>47.0</td>\n",
       "      <td>35.0</td>\n",
       "      <td>36.0</td>\n",
       "      <td>36.0</td>\n",
       "      <td>29.0</td>\n",
       "      <td>25.0</td>\n",
       "      <td>24.0</td>\n",
       "      <td>25.0</td>\n",
       "      <td>27.0</td>\n",
       "    </tr>\n",
       "    <tr>\n",
       "      <th>65</th>\n",
       "      <td>Afghanistan</td>\n",
       "      <td>Barley and products</td>\n",
       "      <td>Losses</td>\n",
       "      <td>1000 tonnes</td>\n",
       "      <td>65.0</td>\n",
       "      <td>46.0</td>\n",
       "      <td>70.0</td>\n",
       "      <td>77.0</td>\n",
       "      <td>77.0</td>\n",
       "      <td>60.0</td>\n",
       "      <td>44.0</td>\n",
       "      <td>14.0</td>\n",
       "      <td>9.0</td>\n",
       "      <td>17.0</td>\n",
       "    </tr>\n",
       "    <tr>\n",
       "      <th>80</th>\n",
       "      <td>Afghanistan</td>\n",
       "      <td>Maize and products</td>\n",
       "      <td>Losses</td>\n",
       "      <td>1000 tonnes</td>\n",
       "      <td>45.0</td>\n",
       "      <td>45.0</td>\n",
       "      <td>47.0</td>\n",
       "      <td>47.0</td>\n",
       "      <td>47.0</td>\n",
       "      <td>47.0</td>\n",
       "      <td>47.0</td>\n",
       "      <td>26.0</td>\n",
       "      <td>19.0</td>\n",
       "      <td>30.0</td>\n",
       "    </tr>\n",
       "    <tr>\n",
       "      <th>...</th>\n",
       "      <td>...</td>\n",
       "      <td>...</td>\n",
       "      <td>...</td>\n",
       "      <td>...</td>\n",
       "      <td>...</td>\n",
       "      <td>...</td>\n",
       "      <td>...</td>\n",
       "      <td>...</td>\n",
       "      <td>...</td>\n",
       "      <td>...</td>\n",
       "      <td>...</td>\n",
       "      <td>...</td>\n",
       "      <td>...</td>\n",
       "      <td>...</td>\n",
       "    </tr>\n",
       "    <tr>\n",
       "      <th>319466</th>\n",
       "      <td>Net Food Importing Developing Countries</td>\n",
       "      <td>Fats, Animals, Raw</td>\n",
       "      <td>Losses</td>\n",
       "      <td>1000 tonnes</td>\n",
       "      <td>35.0</td>\n",
       "      <td>36.0</td>\n",
       "      <td>40.0</td>\n",
       "      <td>41.0</td>\n",
       "      <td>41.0</td>\n",
       "      <td>42.0</td>\n",
       "      <td>42.0</td>\n",
       "      <td>46.0</td>\n",
       "      <td>50.0</td>\n",
       "      <td>52.0</td>\n",
       "    </tr>\n",
       "    <tr>\n",
       "      <th>319507</th>\n",
       "      <td>Net Food Importing Developing Countries</td>\n",
       "      <td>Eggs</td>\n",
       "      <td>Losses</td>\n",
       "      <td>1000 tonnes</td>\n",
       "      <td>340.0</td>\n",
       "      <td>359.0</td>\n",
       "      <td>364.0</td>\n",
       "      <td>379.0</td>\n",
       "      <td>407.0</td>\n",
       "      <td>417.0</td>\n",
       "      <td>415.0</td>\n",
       "      <td>443.0</td>\n",
       "      <td>455.0</td>\n",
       "      <td>480.0</td>\n",
       "    </tr>\n",
       "    <tr>\n",
       "      <th>319524</th>\n",
       "      <td>Net Food Importing Developing Countries</td>\n",
       "      <td>Eggs</td>\n",
       "      <td>Losses</td>\n",
       "      <td>1000 tonnes</td>\n",
       "      <td>340.0</td>\n",
       "      <td>359.0</td>\n",
       "      <td>364.0</td>\n",
       "      <td>379.0</td>\n",
       "      <td>407.0</td>\n",
       "      <td>417.0</td>\n",
       "      <td>415.0</td>\n",
       "      <td>443.0</td>\n",
       "      <td>455.0</td>\n",
       "      <td>480.0</td>\n",
       "    </tr>\n",
       "    <tr>\n",
       "      <th>319540</th>\n",
       "      <td>Net Food Importing Developing Countries</td>\n",
       "      <td>Milk - Excluding Butter</td>\n",
       "      <td>Losses</td>\n",
       "      <td>1000 tonnes</td>\n",
       "      <td>8759.0</td>\n",
       "      <td>8995.0</td>\n",
       "      <td>9678.0</td>\n",
       "      <td>12807.0</td>\n",
       "      <td>12835.0</td>\n",
       "      <td>13291.0</td>\n",
       "      <td>11108.0</td>\n",
       "      <td>11330.0</td>\n",
       "      <td>11543.0</td>\n",
       "      <td>11989.0</td>\n",
       "    </tr>\n",
       "    <tr>\n",
       "      <th>319556</th>\n",
       "      <td>Net Food Importing Developing Countries</td>\n",
       "      <td>Milk - Excluding Butter</td>\n",
       "      <td>Losses</td>\n",
       "      <td>1000 tonnes</td>\n",
       "      <td>8759.0</td>\n",
       "      <td>8995.0</td>\n",
       "      <td>9678.0</td>\n",
       "      <td>12807.0</td>\n",
       "      <td>12835.0</td>\n",
       "      <td>13291.0</td>\n",
       "      <td>11108.0</td>\n",
       "      <td>11330.0</td>\n",
       "      <td>11543.0</td>\n",
       "      <td>11989.0</td>\n",
       "    </tr>\n",
       "  </tbody>\n",
       "</table>\n",
       "<p>8137 rows × 14 columns</p>\n",
       "</div>"
      ],
      "text/plain": [
       "                                           Area                      Item  \\\n",
       "18                                  Afghanistan  Cereals - Excluding Beer   \n",
       "35                                  Afghanistan        Wheat and products   \n",
       "50                                  Afghanistan         Rice and products   \n",
       "65                                  Afghanistan       Barley and products   \n",
       "80                                  Afghanistan        Maize and products   \n",
       "...                                         ...                       ...   \n",
       "319466  Net Food Importing Developing Countries        Fats, Animals, Raw   \n",
       "319507  Net Food Importing Developing Countries                      Eggs   \n",
       "319524  Net Food Importing Developing Countries                      Eggs   \n",
       "319540  Net Food Importing Developing Countries   Milk - Excluding Butter   \n",
       "319556  Net Food Importing Developing Countries   Milk - Excluding Butter   \n",
       "\n",
       "       Element         Unit   Y2010   Y2011   Y2012    Y2013    Y2014  \\\n",
       "18      Losses  1000 tonnes   837.0   647.0   911.0    936.0    963.0   \n",
       "35      Losses  1000 tonnes   678.0   508.0   758.0    775.0    803.0   \n",
       "50      Losses  1000 tonnes    47.0    47.0    35.0     36.0     36.0   \n",
       "65      Losses  1000 tonnes    65.0    46.0    70.0     77.0     77.0   \n",
       "80      Losses  1000 tonnes    45.0    45.0    47.0     47.0     47.0   \n",
       "...        ...          ...     ...     ...     ...      ...      ...   \n",
       "319466  Losses  1000 tonnes    35.0    36.0    40.0     41.0     41.0   \n",
       "319507  Losses  1000 tonnes   340.0   359.0   364.0    379.0    407.0   \n",
       "319524  Losses  1000 tonnes   340.0   359.0   364.0    379.0    407.0   \n",
       "319540  Losses  1000 tonnes  8759.0  8995.0  9678.0  12807.0  12835.0   \n",
       "319556  Losses  1000 tonnes  8759.0  8995.0  9678.0  12807.0  12835.0   \n",
       "\n",
       "          Y2015    Y2016    Y2017    Y2018    Y2019  \n",
       "18        837.0    800.0    706.0    595.0    809.0  \n",
       "35        701.0    684.0    642.0    542.0    734.0  \n",
       "50         29.0     25.0     24.0     25.0     27.0  \n",
       "65         60.0     44.0     14.0      9.0     17.0  \n",
       "80         47.0     47.0     26.0     19.0     30.0  \n",
       "...         ...      ...      ...      ...      ...  \n",
       "319466     42.0     42.0     46.0     50.0     52.0  \n",
       "319507    417.0    415.0    443.0    455.0    480.0  \n",
       "319524    417.0    415.0    443.0    455.0    480.0  \n",
       "319540  13291.0  11108.0  11330.0  11543.0  11989.0  \n",
       "319556  13291.0  11108.0  11330.0  11543.0  11989.0  \n",
       "\n",
       "[8137 rows x 14 columns]"
      ]
     },
     "execution_count": 86,
     "metadata": {},
     "output_type": "execute_result"
    }
   ],
   "source": [
    "df"
   ]
  },
  {
   "cell_type": "code",
   "execution_count": 9,
   "metadata": {
    "collapsed": false,
    "pycharm": {
     "name": "#%%\n"
    }
   },
   "outputs": [],
   "source": [
    "def select(area,item ):\n",
    "    data=df[df.Area==area]\n",
    "    data=data[data['Item'].str.contains(item)]\n",
    "    if len(data)>25:\n",
    "        data=data[data.Item==item]\n",
    "    return data"
   ]
  },
  {
   "cell_type": "markdown",
   "metadata": {},
   "source": [
    "Plot graphs for each country"
   ]
  },
  {
   "cell_type": "code",
   "execution_count": 10,
   "metadata": {},
   "outputs": [],
   "source": [
    "# countries=[x for x in df.Area.unique()]\n",
    "# commodities=[x for x in df.Item.unique()]\n",
    "# # countries=[\"Malawi\"]\n",
    "# for i in countries:\n",
    "#     for j in commodities:\n",
    "#         try:\n",
    "#             data=select(i,j)\n",
    "#             losses=pd.DataFrame(data.iloc[0,4:])\n",
    "#             losses.columns=[\"Actual\"]\n",
    "#             plt.plot(losses.index,losses[\"Actual\"])\n",
    "#             plt.title(i+\"-\"+j)\n",
    "#             plt.show()\n",
    "#         except:\n",
    "#             pass"
   ]
  },
  {
   "cell_type": "code",
   "execution_count": 11,
   "metadata": {},
   "outputs": [
    {
     "data": {
      "text/html": [
       "<div>\n",
       "<style scoped>\n",
       "    .dataframe tbody tr th:only-of-type {\n",
       "        vertical-align: middle;\n",
       "    }\n",
       "\n",
       "    .dataframe tbody tr th {\n",
       "        vertical-align: top;\n",
       "    }\n",
       "\n",
       "    .dataframe thead th {\n",
       "        text-align: right;\n",
       "    }\n",
       "</style>\n",
       "<table border=\"1\" class=\"dataframe\">\n",
       "  <thead>\n",
       "    <tr style=\"text-align: right;\">\n",
       "      <th></th>\n",
       "      <th>Area</th>\n",
       "      <th>Item</th>\n",
       "      <th>Element</th>\n",
       "      <th>Unit</th>\n",
       "      <th>Y2010</th>\n",
       "      <th>Y2011</th>\n",
       "      <th>Y2012</th>\n",
       "      <th>Y2013</th>\n",
       "      <th>Y2014</th>\n",
       "      <th>Y2015</th>\n",
       "      <th>Y2016</th>\n",
       "      <th>Y2017</th>\n",
       "      <th>Y2018</th>\n",
       "      <th>Y2019</th>\n",
       "    </tr>\n",
       "  </thead>\n",
       "  <tbody>\n",
       "    <tr>\n",
       "      <th>23133</th>\n",
       "      <td>Benin</td>\n",
       "      <td>Rice and products</td>\n",
       "      <td>Losses</td>\n",
       "      <td>1000 tonnes</td>\n",
       "      <td>31.0</td>\n",
       "      <td>55.0</td>\n",
       "      <td>54.0</td>\n",
       "      <td>92.0</td>\n",
       "      <td>59.0</td>\n",
       "      <td>53.0</td>\n",
       "      <td>76.0</td>\n",
       "      <td>70.0</td>\n",
       "      <td>115.0</td>\n",
       "      <td>102.0</td>\n",
       "    </tr>\n",
       "  </tbody>\n",
       "</table>\n",
       "</div>"
      ],
      "text/plain": [
       "        Area               Item Element         Unit  Y2010  Y2011  Y2012  \\\n",
       "23133  Benin  Rice and products  Losses  1000 tonnes   31.0   55.0   54.0   \n",
       "\n",
       "       Y2013  Y2014  Y2015  Y2016  Y2017  Y2018  Y2019  \n",
       "23133   92.0   59.0   53.0   76.0   70.0  115.0  102.0  "
      ]
     },
     "execution_count": 11,
     "metadata": {},
     "output_type": "execute_result"
    }
   ],
   "source": [
    "data=select(\"Benin\",\"Rice\")\n",
    "data"
   ]
  },
  {
   "cell_type": "code",
   "execution_count": 13,
   "metadata": {},
   "outputs": [
    {
     "data": {
      "image/png": "[encoded data removed]",
      "text/plain": [
       "<Figure size 432x288 with 1 Axes>"
      ]
     },
     "metadata": {
      "needs_background": "light"
     },
     "output_type": "display_data"
    }
   ],
   "source": [
    "losses=pd.DataFrame(data.iloc[0,4:])\n",
    "losses.columns=[\"Actual\"]\n",
    "plt.plot(losses.index,losses[\"Actual\"])\n",
    "plt.title(\"Food Loss In Benin Over 10 Years (Rice)\")\n",
    "plt.show()"
   ]
  },
  {
   "cell_type": "markdown",
   "metadata": {},
   "source": [
    "# MEAN-BASED PREDICTION\n",
    "\n",
    "Calculate the loss value of an upcoming year based on the average of previous losses"
   ]
  },
  {
   "cell_type": "code",
   "execution_count": 14,
   "metadata": {
    "collapsed": false,
    "pycharm": {
     "name": "#%%\n"
    }
   },
   "outputs": [],
   "source": [
    "# def mean_based(year):\n",
    "#     try:\n",
    "#         mean_pred=[]\n",
    "#         losses=data[data.Element==\"Losses\"].iloc[0,4:]\n",
    "#         count=0\n",
    "#         sum=0\n",
    "#         for i in losses.index:\n",
    "#             if i==\"Y\"+str(year):\n",
    "#                 break\n",
    "#             sum=losses[i]+sum\n",
    "#             count+=1\n",
    "#         mean_pred=sum/count\n",
    "#         return mean_pred\n",
    "#     except:\n",
    "#         return losses[\"Y\"+str(year)]\n",
    "\n",
    "def mean_based(year):\n",
    "    try:\n",
    "        mean_pred=[]\n",
    "        losses=data[data.Element==\"Losses\"].iloc[0,4:]\n",
    "        count=0\n",
    "        sum=0\n",
    "        for i in range(0,2):\n",
    "            sum+=losses[\"Y\"+str(year-i-1)]\n",
    "            count+=1\n",
    "        mean_pred=sum/count\n",
    "        return mean_pred\n",
    "    except:\n",
    "        if year==2010:\n",
    "            return losses[\"Y\"+str(year)]\n",
    "        if year==2011:\n",
    "            return (losses[\"Y\"+str(year-1)])\n",
    "        if year==2012:\n",
    "            return (losses[\"Y\"+str(year-1)]+(losses[\"Y\"+str(year-2)]))/2\n",
    "        # if year==2013:\n",
    "        #     return (losses[\"Y\"+str(year-1)]+(losses[\"Y\"+str(year-2)])+(losses[\"Y\"+str(year-3)]))/3"
   ]
  },
  {
   "cell_type": "code",
   "execution_count": 15,
   "metadata": {
    "collapsed": false,
    "pycharm": {
     "name": "#%%\n"
    }
   },
   "outputs": [],
   "source": [
    "def by_average(data):\n",
    "    mean_based_pred=[]\n",
    "    losses=pd.DataFrame(data[data.Element==\"Losses\"].iloc[0,4:])\n",
    "    losses.columns=[\"Actual\"]\n",
    "    losses[\"MeanBasedPred\"]=np.zeros([len(losses)])\n",
    "    for i in losses.index:\n",
    "        losses[\"MeanBasedPred\"][i]=mean_based(int(i[1:]))\n",
    "    losses.reset_index()\n",
    "    MSE = np.square(np.subtract(losses[\"Actual\"].values,losses[\"MeanBasedPred\"].values)).mean() \n",
    "    RMSE = math.sqrt(MSE)\n",
    "    MAPE= np.mean(np.abs((losses[\"MeanBasedPred\"].values - losses[\"Actual\"].values) /losses[\"Actual\"].values))*100\n",
    "    print(\"RMSE =\",RMSE)\n",
    "    print(\"MAPE =\",np.mean(np.abs((losses[\"Actual\"].values - losses[\"MeanBasedPred\"].values)/losses[\"Actual\"].values))*100)\n",
    "    return losses, MSE, RMSE, MAPE"
   ]
  },
  {
   "cell_type": "code",
   "execution_count": 16,
   "metadata": {},
   "outputs": [
    {
     "name": "stdout",
     "output_type": "stream",
     "text": [
      "RMSE = 22.561028345356956\n",
      "MAPE = 25.095764427141066\n"
     ]
    },
    {
     "name": "stderr",
     "output_type": "stream",
     "text": [
      "/var/folders/t6/nkv95bj97gv9j73w9bfk2p0r0000gn/T/ipykernel_9640/3085655691.py:7: SettingWithCopyWarning: \n",
      "A value is trying to be set on a copy of a slice from a DataFrame\n",
      "\n",
      "See the caveats in the documentation: https://pandas.pydata.org/pandas-docs/stable/user_guide/indexing.html#returning-a-view-versus-a-copy\n",
      "  losses[\"MeanBasedPred\"][i]=mean_based(int(i[1:]))\n"
     ]
    },
    {
     "data": {
      "text/plain": [
       "(509.0, 22.561028345356956, 25.095764427141066)"
      ]
     },
     "execution_count": 16,
     "metadata": {},
     "output_type": "execute_result"
    }
   ],
   "source": [
    "losses,mse_mean,rmse_mean,mape_mean=by_average(data)\n",
    "mse_mean,rmse_mean,mape_mean"
   ]
  },
  {
   "cell_type": "code",
   "execution_count": 17,
   "metadata": {},
   "outputs": [
    {
     "data": {
      "text/plain": [
       "<matplotlib.legend.Legend at 0x7fd02a921730>"
      ]
     },
     "execution_count": 17,
     "metadata": {},
     "output_type": "execute_result"
    },
    {
     "data": {
      "image/png": "[encoded data removed]",
      "text/plain": [
       "<Figure size 432x288 with 1 Axes>"
      ]
     },
     "metadata": {
      "needs_background": "light"
     },
     "output_type": "display_data"
    }
   ],
   "source": [
    "plt.plot(losses.index,losses[\"Actual\"])\n",
    "plt.plot(losses.index,losses.MeanBasedPred)\n",
    "plt.title(\"Prediction based on mean values of previous years\")\n",
    "plt.legend(['Actual', 'Mean-based Prediction'], loc='lower right')"
   ]
  },
  {
   "cell_type": "code",
   "execution_count": 21,
   "metadata": {
    "collapsed": false,
    "pycharm": {
     "name": "#%%\n"
    }
   },
   "outputs": [],
   "source": [
    "# # population=df[df[\"Element\"]==\"Total Population - Both sexes\"]\n",
    "# # population=population[population.Area==\"China\"].iloc[0,4:]*1000\n",
    "lstm_data=pd.DataFrame(losses)\n",
    "# # lstm_data.columns=[\"Population\"]\n",
    "lstm_data[\"Actual Loss\"]=losses[\"Actual\"]"
   ]
  },
  {
   "cell_type": "markdown",
   "metadata": {},
   "source": [
    "# ARIMA MODEL"
   ]
  },
  {
   "cell_type": "code",
   "execution_count": 54,
   "metadata": {},
   "outputs": [
    {
     "name": "stdout",
     "output_type": "stream",
     "text": [
      "predicted=55.131855, expected=76.000000\n",
      "predicted=66.915527, expected=70.000000\n",
      "predicted=72.310893, expected=115.000000\n",
      "predicted=95.720359, expected=102.000000\n",
      "Test RMSE: 24.015\n",
      "Test MAPE = 18.785487607901285\n"
     ]
    },
    {
     "data": {
      "image/png": "[encoded data removed]",
      "text/plain": [
       "<Figure size 432x288 with 1 Axes>"
      ]
     },
     "metadata": {
      "needs_background": "light"
     },
     "output_type": "display_data"
    }
   ],
   "source": [
    "def by_arima(data):\n",
    "\tseries=data\n",
    "\tX = series.values\n",
    "\t# size = int(len(X) * 0.66)\n",
    "\tsize=6\n",
    "\ttrain, test = X[0:size], X[size:len(X)]\n",
    "\thistory = [x for x in train]\n",
    "\tpredictions = list()\n",
    "\t# walk-forward validation\n",
    "\tfor t in range(len(test)):\n",
    "\t\tmodel = ARIMA(history, order=(1,1,0))\n",
    "\t\tmodel_fit = model.fit()\n",
    "\t\toutput = model_fit.forecast()\n",
    "\t\tyhat = output[0]\n",
    "\t\tpredictions.append(yhat)\n",
    "\t\tobs = test[t]\n",
    "\t\thistory.append(obs)\n",
    "\t\tprint('predicted=%f, expected=%f' % (yhat, obs))\n",
    "\t# evaluate forecasts\n",
    "\tarima_mape=np.mean(np.abs((test - predictions)/test))*100\n",
    "\trmse = sqrt(mean_squared_error(test, predictions))\n",
    "\tprint('Test RMSE: %.3f' % rmse)\n",
    "\tprint(\"Test MAPE =\", arima_mape)\n",
    "\treturn predictions, train,test, rmse,arima_mape\n",
    "predictions, train,test, rmse_arima, arima_mape=by_arima(lstm_data[\"Actual Loss\"])\n",
    "# plot forecasts against actual outcomes\n",
    "years=['2016','2017','2018','2019']\n",
    "pyplot.plot(years,test)\n",
    "pyplot.plot(predictions, color='red')\n",
    "pyplot.xlabel(\"Years\")\n",
    "pyplot.ylabel(\"Food Loss\")\n",
    "plt.legend([\"Actual\",\"Prediciton\"])\n",
    "plt.title(\"ARIMA\")\n",
    "# plt.ylim(23000,26000)\n",
    "pyplot.show()"
   ]
  },
  {
   "cell_type": "code",
   "execution_count": 49,
   "metadata": {},
   "outputs": [
    {
     "data": {
      "text/html": [
       "<div>\n",
       "<style scoped>\n",
       "    .dataframe tbody tr th:only-of-type {\n",
       "        vertical-align: middle;\n",
       "    }\n",
       "\n",
       "    .dataframe tbody tr th {\n",
       "        vertical-align: top;\n",
       "    }\n",
       "\n",
       "    .dataframe thead th {\n",
       "        text-align: right;\n",
       "    }\n",
       "</style>\n",
       "<table border=\"1\" class=\"dataframe\">\n",
       "  <thead>\n",
       "    <tr style=\"text-align: right;\">\n",
       "      <th></th>\n",
       "      <th>Actual</th>\n",
       "      <th>MeanBasedPred</th>\n",
       "      <th>Actual Loss</th>\n",
       "    </tr>\n",
       "  </thead>\n",
       "  <tbody>\n",
       "    <tr>\n",
       "      <th>Y2010</th>\n",
       "      <td>31.0</td>\n",
       "      <td>31.0</td>\n",
       "      <td>31.0</td>\n",
       "    </tr>\n",
       "    <tr>\n",
       "      <th>Y2011</th>\n",
       "      <td>55.0</td>\n",
       "      <td>31.0</td>\n",
       "      <td>55.0</td>\n",
       "    </tr>\n",
       "    <tr>\n",
       "      <th>Y2012</th>\n",
       "      <td>54.0</td>\n",
       "      <td>43.0</td>\n",
       "      <td>54.0</td>\n",
       "    </tr>\n",
       "    <tr>\n",
       "      <th>Y2013</th>\n",
       "      <td>92.0</td>\n",
       "      <td>54.5</td>\n",
       "      <td>92.0</td>\n",
       "    </tr>\n",
       "    <tr>\n",
       "      <th>Y2014</th>\n",
       "      <td>59.0</td>\n",
       "      <td>73.0</td>\n",
       "      <td>59.0</td>\n",
       "    </tr>\n",
       "    <tr>\n",
       "      <th>Y2015</th>\n",
       "      <td>53.0</td>\n",
       "      <td>75.5</td>\n",
       "      <td>53.0</td>\n",
       "    </tr>\n",
       "    <tr>\n",
       "      <th>Y2016</th>\n",
       "      <td>76.0</td>\n",
       "      <td>56.0</td>\n",
       "      <td>76.0</td>\n",
       "    </tr>\n",
       "    <tr>\n",
       "      <th>Y2017</th>\n",
       "      <td>70.0</td>\n",
       "      <td>64.5</td>\n",
       "      <td>70.0</td>\n",
       "    </tr>\n",
       "    <tr>\n",
       "      <th>Y2018</th>\n",
       "      <td>115.0</td>\n",
       "      <td>73.0</td>\n",
       "      <td>115.0</td>\n",
       "    </tr>\n",
       "    <tr>\n",
       "      <th>Y2019</th>\n",
       "      <td>102.0</td>\n",
       "      <td>92.5</td>\n",
       "      <td>102.0</td>\n",
       "    </tr>\n",
       "  </tbody>\n",
       "</table>\n",
       "</div>"
      ],
      "text/plain": [
       "      Actual  MeanBasedPred Actual Loss\n",
       "Y2010   31.0           31.0        31.0\n",
       "Y2011   55.0           31.0        55.0\n",
       "Y2012   54.0           43.0        54.0\n",
       "Y2013   92.0           54.5        92.0\n",
       "Y2014   59.0           73.0        59.0\n",
       "Y2015   53.0           75.5        53.0\n",
       "Y2016   76.0           56.0        76.0\n",
       "Y2017   70.0           64.5        70.0\n",
       "Y2018  115.0           73.0       115.0\n",
       "Y2019  102.0           92.5       102.0"
      ]
     },
     "execution_count": 49,
     "metadata": {},
     "output_type": "execute_result"
    }
   ],
   "source": [
    "losses"
   ]
  },
  {
   "cell_type": "code",
   "execution_count": 57,
   "metadata": {},
   "outputs": [
    {
     "data": {
      "text/plain": [
       "array([100.93111493])"
      ]
     },
     "execution_count": 57,
     "metadata": {},
     "output_type": "execute_result"
    }
   ],
   "source": [
    "output = model_fit.forecast()\n",
    "output"
   ]
  },
  {
   "cell_type": "code",
   "execution_count": 47,
   "metadata": {},
   "outputs": [
    {
     "data": {
      "text/plain": [
       "[107.03533318961419,\n",
       " 45.61514698351869,\n",
       " 48.62840188731256,\n",
       " 54.25662673248464,\n",
       " 82.16505420409803,\n",
       " 69.7078447303486,\n",
       " 54.72667222790201,\n",
       " 69.16730870574582,\n",
       " 71.78113117753671,\n",
       " 100.93111492657344]"
      ]
     },
     "execution_count": 47,
     "metadata": {},
     "output_type": "execute_result"
    }
   ],
   "source": [
    "predictions"
   ]
  },
  {
   "cell_type": "code",
   "execution_count": 60,
   "metadata": {},
   "outputs": [],
   "source": [
    "lstm_data_arima=lstm_data.copy()"
   ]
  },
  {
   "cell_type": "code",
   "execution_count": 69,
   "metadata": {},
   "outputs": [
    {
     "data": {
      "text/html": [
       "<div>\n",
       "<style scoped>\n",
       "    .dataframe tbody tr th:only-of-type {\n",
       "        vertical-align: middle;\n",
       "    }\n",
       "\n",
       "    .dataframe tbody tr th {\n",
       "        vertical-align: top;\n",
       "    }\n",
       "\n",
       "    .dataframe thead th {\n",
       "        text-align: right;\n",
       "    }\n",
       "</style>\n",
       "<table border=\"1\" class=\"dataframe\">\n",
       "  <thead>\n",
       "    <tr style=\"text-align: right;\">\n",
       "      <th></th>\n",
       "      <th>Actual</th>\n",
       "      <th>MeanBasedPred</th>\n",
       "      <th>Actual Loss</th>\n",
       "    </tr>\n",
       "  </thead>\n",
       "  <tbody>\n",
       "    <tr>\n",
       "      <th>Y2010</th>\n",
       "      <td>31.0</td>\n",
       "      <td>31.0</td>\n",
       "      <td>31.0</td>\n",
       "    </tr>\n",
       "    <tr>\n",
       "      <th>Y2011</th>\n",
       "      <td>55.0</td>\n",
       "      <td>31.0</td>\n",
       "      <td>55.0</td>\n",
       "    </tr>\n",
       "    <tr>\n",
       "      <th>Y2012</th>\n",
       "      <td>54.0</td>\n",
       "      <td>43.0</td>\n",
       "      <td>54.0</td>\n",
       "    </tr>\n",
       "    <tr>\n",
       "      <th>Y2013</th>\n",
       "      <td>92.0</td>\n",
       "      <td>54.5</td>\n",
       "      <td>92.0</td>\n",
       "    </tr>\n",
       "    <tr>\n",
       "      <th>Y2014</th>\n",
       "      <td>59.0</td>\n",
       "      <td>73.0</td>\n",
       "      <td>59.0</td>\n",
       "    </tr>\n",
       "    <tr>\n",
       "      <th>Y2015</th>\n",
       "      <td>53.0</td>\n",
       "      <td>75.5</td>\n",
       "      <td>53.0</td>\n",
       "    </tr>\n",
       "    <tr>\n",
       "      <th>Y2016</th>\n",
       "      <td>76.0</td>\n",
       "      <td>56.0</td>\n",
       "      <td>76.0</td>\n",
       "    </tr>\n",
       "    <tr>\n",
       "      <th>Y2017</th>\n",
       "      <td>70.0</td>\n",
       "      <td>64.5</td>\n",
       "      <td>70.0</td>\n",
       "    </tr>\n",
       "    <tr>\n",
       "      <th>Y2018</th>\n",
       "      <td>115.0</td>\n",
       "      <td>73.0</td>\n",
       "      <td>115.0</td>\n",
       "    </tr>\n",
       "    <tr>\n",
       "      <th>Y2019</th>\n",
       "      <td>102.0</td>\n",
       "      <td>92.5</td>\n",
       "      <td>102.0</td>\n",
       "    </tr>\n",
       "  </tbody>\n",
       "</table>\n",
       "</div>"
      ],
      "text/plain": [
       "      Actual  MeanBasedPred Actual Loss\n",
       "Y2010   31.0           31.0        31.0\n",
       "Y2011   55.0           31.0        55.0\n",
       "Y2012   54.0           43.0        54.0\n",
       "Y2013   92.0           54.5        92.0\n",
       "Y2014   59.0           73.0        59.0\n",
       "Y2015   53.0           75.5        53.0\n",
       "Y2016   76.0           56.0        76.0\n",
       "Y2017   70.0           64.5        70.0\n",
       "Y2018  115.0           73.0       115.0\n",
       "Y2019  102.0           92.5       102.0"
      ]
     },
     "execution_count": 69,
     "metadata": {},
     "output_type": "execute_result"
    }
   ],
   "source": [
    "lstm_data_arima"
   ]
  },
  {
   "cell_type": "code",
   "execution_count": 75,
   "metadata": {},
   "outputs": [
    {
     "name": "stdout",
     "output_type": "stream",
     "text": [
      "predicted=107.035333, expected=31.000000\n",
      "predicted=45.615147, expected=55.000000\n",
      "predicted=48.628402, expected=54.000000\n",
      "predicted=54.256627, expected=92.000000\n",
      "predicted=82.165054, expected=59.000000\n",
      "predicted=69.707845, expected=53.000000\n",
      "predicted=54.726672, expected=76.000000\n",
      "predicted=69.167309, expected=70.000000\n",
      "predicted=71.781131, expected=115.000000\n",
      "predicted=100.931115, expected=102.000000\n"
     ]
    },
    {
     "data": {
      "image/png": "[encoded data removed]",
      "text/plain": [
       "<Figure size 432x288 with 1 Axes>"
      ]
     },
     "metadata": {
      "needs_background": "light"
     },
     "output_type": "display_data"
    }
   ],
   "source": [
    "predictions = list()\n",
    "history = [x for x in lstm_data_arima[\"Actual Loss\"]]\n",
    "for t in range(len(lstm_data_arima[\"Actual Loss\"])):\n",
    "    model = ARIMA(history, order=(1,1,0))\n",
    "    model_fit = model.fit()\n",
    "    output = model_fit.forecast()\n",
    "    yhat = output[0]\n",
    "    predictions.append(yhat)\n",
    "    obs = lstm_data_arima[\"Actual Loss\"][t]\n",
    "    history.append(obs)\n",
    "    # lstm_data_arima.append(pd.Series(obs).rename(\"abc\"))\n",
    "    print('predicted=%f, expected=%f' % (yhat, obs))\n",
    "years=['2010','2011','2012','2013','2014','2015','2016','2017','2018','2019']\n",
    "pyplot.plot(years,lstm_data_arima[\"Actual Loss\"])\n",
    "pyplot.plot(predictions, color='red')\n",
    "pyplot.xlabel(\"Years\")\n",
    "pyplot.ylabel(\"Food Loss\")\n",
    "plt.legend([\"Actual\",\"Prediciton\"])\n",
    "plt.title(\"ARIMA\")\n",
    "# plt.ylim(23000,26000)\n",
    "pyplot.show()"
   ]
  },
  {
   "cell_type": "code",
   "execution_count": 85,
   "metadata": {},
   "outputs": [
    {
     "data": {
      "text/plain": [
       "array([100.93111493, 105.32963775, 103.95447526, 104.38440866,\n",
       "       104.24999347, 104.29201729])"
      ]
     },
     "execution_count": 85,
     "metadata": {},
     "output_type": "execute_result"
    }
   ],
   "source": [
    "model_fit.forecast(6)"
   ]
  },
  {
   "cell_type": "code",
   "execution_count": null,
   "metadata": {},
   "outputs": [],
   "source": [
    "or t in range(len(lstm_data_arima[\"Actual Loss\"])):\n",
    "    model = ARIMA(history, order=(1,1,0))\n",
    "    model_fit = model.fit()\n",
    "    output = model_fit.forecast()\n",
    "    yhat = output[0]\n",
    "    predictions.append(yhat)\n",
    "    obs = lstm_data_arima[\"Actual Loss\"][t]\n",
    "    history.append(obs)"
   ]
  },
  {
   "cell_type": "code",
   "execution_count": 25,
   "metadata": {
    "collapsed": false,
    "pycharm": {
     "name": "#%%\n"
    }
   },
   "outputs": [],
   "source": [
    "def df_to_X_y(df, window_size=2):\n",
    "  df_as_np = df.to_numpy()\n",
    "  X = []\n",
    "  y = []\n",
    "  for i in range(len(df_as_np)-window_size):\n",
    "    row = [[a] for a in df_as_np[i:i+window_size]]\n",
    "    X.append(row)\n",
    "    label = df_as_np[i+window_size]\n",
    "    y.append(label)\n",
    "  return np.array(X), np.array(y)"
   ]
  },
  {
   "cell_type": "code",
   "execution_count": 26,
   "metadata": {},
   "outputs": [
    {
     "data": {
      "text/plain": [
       "((8, 2, 1), (8,))"
      ]
     },
     "execution_count": 26,
     "metadata": {},
     "output_type": "execute_result"
    }
   ],
   "source": [
    "WINDOW_SIZE = 2\n",
    "X1, y1 = df_to_X_y(lstm_data[\"Actual Loss\"], WINDOW_SIZE)\n",
    "X1.shape, y1.shape"
   ]
  },
  {
   "cell_type": "code",
   "execution_count": 27,
   "metadata": {},
   "outputs": [
    {
     "data": {
      "text/plain": [
       "((4, 2, 1), (4,), (2, 2, 1), (2,), (2, 2, 1), (2,))"
      ]
     },
     "execution_count": 27,
     "metadata": {},
     "output_type": "execute_result"
    }
   ],
   "source": [
    "X_train1, y_train1 = X1[:4], y1[:4]\n",
    "X_val1, y_val1 = X1[4:6], y1[4:6]\n",
    "X_test1, y_test1 = X1[6:], y1[6:]\n",
    "X_train1.shape, y_train1.shape, X_val1.shape, y_val1.shape, X_test1.shape, y_test1.shape"
   ]
  },
  {
   "cell_type": "markdown",
   "metadata": {},
   "source": [
    "Data Scaling"
   ]
  },
  {
   "cell_type": "code",
   "execution_count": 28,
   "metadata": {},
   "outputs": [],
   "source": [
    "scalers = {}\n",
    "for i in range(X_train1.shape[1]):\n",
    "    scalers[i] = StandardScaler()\n",
    "    X_train1[:, i, :] = scalers[i].fit_transform(X_train1[:, i, :]) \n",
    "\n",
    "for i in range(X_test1.shape[1]):\n",
    "    X_test1[:, i, :] = scalers[i].transform(X_test1[:, i, :]) "
   ]
  },
  {
   "cell_type": "markdown",
   "metadata": {},
   "source": [
    "# LSTM MODEL"
   ]
  },
  {
   "cell_type": "code",
   "execution_count": 29,
   "metadata": {
    "collapsed": false,
    "pycharm": {
     "name": "#%%\n"
    }
   },
   "outputs": [
    {
     "name": "stderr",
     "output_type": "stream",
     "text": [
      "2022-07-28 13:35:57.501014: I tensorflow/core/platform/cpu_feature_guard.cc:193] This TensorFlow binary is optimized with oneAPI Deep Neural Network Library (oneDNN) to use the following CPU instructions in performance-critical operations:  AVX2 FMA\n",
      "To enable them in other operations, rebuild TensorFlow with the appropriate compiler flags.\n"
     ]
    },
    {
     "name": "stdout",
     "output_type": "stream",
     "text": [
      "Epoch 1/200\n",
      "1/1 [==============================] - ETA: 0s - loss: 4415.2510 - mean_absolute_percentage_error: 99.9732"
     ]
    },
    {
     "name": "stderr",
     "output_type": "stream",
     "text": [
      "WARNING:absl:Found untraced functions such as lstm_cell_layer_call_fn, lstm_cell_layer_call_and_return_conditional_losses while saving (showing 2 of 2). These functions will not be directly callable after loading.\n"
     ]
    },
    {
     "name": "stdout",
     "output_type": "stream",
     "text": [
      "INFO:tensorflow:Assets written to: model1/assets\n"
     ]
    },
    {
     "name": "stderr",
     "output_type": "stream",
     "text": [
      "INFO:tensorflow:Assets written to: model1/assets\n"
     ]
    },
    {
     "name": "stdout",
     "output_type": "stream",
     "text": [
      "1/1 [==============================] - 5s 5s/step - loss: 4415.2510 - mean_absolute_percentage_error: 99.9732 - val_loss: 3924218871808.0000 - val_mean_absolute_percentage_error: 2718240.5000\n",
      "Epoch 2/200\n",
      "1/1 [==============================] - ETA: 0s - loss: 8899050602496.0000 - mean_absolute_percentage_error: 3103855.5000"
     ]
    },
    {
     "name": "stderr",
     "output_type": "stream",
     "text": [
      "WARNING:absl:Found untraced functions such as lstm_cell_layer_call_fn, lstm_cell_layer_call_and_return_conditional_losses while saving (showing 2 of 2). These functions will not be directly callable after loading.\n"
     ]
    },
    {
     "name": "stdout",
     "output_type": "stream",
     "text": [
      "INFO:tensorflow:Assets written to: model1/assets\n"
     ]
    },
    {
     "name": "stderr",
     "output_type": "stream",
     "text": [
      "INFO:tensorflow:Assets written to: model1/assets\n"
     ]
    },
    {
     "name": "stdout",
     "output_type": "stream",
     "text": [
      "1/1 [==============================] - 3s 3s/step - loss: 8899050602496.0000 - mean_absolute_percentage_error: 3103855.5000 - val_loss: 1684996224.0000 - val_mean_absolute_percentage_error: 41816.6406\n",
      "Epoch 3/200\n",
      "1/1 [==============================] - 0s 22ms/step - loss: 162160016.0000 - mean_absolute_percentage_error: 14889.6943 - val_loss: 425367633920.0000 - val_mean_absolute_percentage_error: 894938.8125\n",
      "Epoch 4/200\n",
      "1/1 [==============================] - 0s 22ms/step - loss: 47492.9766 - mean_absolute_percentage_error: 349.1454 - val_loss: 1483169071104.0000 - val_mean_absolute_percentage_error: 1671115.6250\n",
      "Epoch 5/200\n",
      "1/1 [==============================] - 0s 23ms/step - loss: 78291.2734 - mean_absolute_percentage_error: 450.2262 - val_loss: 3248349773824.0000 - val_mean_absolute_percentage_error: 2473105.0000\n",
      "Epoch 6/200\n",
      "1/1 [==============================] - 0s 22ms/step - loss: 127971.5000 - mean_absolute_percentage_error: 577.4180 - val_loss: 4923672494080.0000 - val_mean_absolute_percentage_error: 3044779.0000\n",
      "Epoch 7/200\n",
      "1/1 [==============================] - 0s 22ms/step - loss: 192511.4062 - mean_absolute_percentage_error: 709.6160 - val_loss: 5494347399168.0000 - val_mean_absolute_percentage_error: 3216394.2500\n",
      "Epoch 8/200\n",
      "1/1 [==============================] - 0s 21ms/step - loss: 265026.0938 - mean_absolute_percentage_error: 833.6509 - val_loss: 5384111128576.0000 - val_mean_absolute_percentage_error: 3183964.5000\n",
      "Epoch 9/200\n",
      "1/1 [==============================] - 0s 21ms/step - loss: 334724.7500 - mean_absolute_percentage_error: 937.6119 - val_loss: 4728642600960.0000 - val_mean_absolute_percentage_error: 2983867.0000\n",
      "Epoch 10/200\n",
      "1/1 [==============================] - 0s 21ms/step - loss: 388576.3438 - mean_absolute_percentage_error: 1010.6757 - val_loss: 3729930846208.0000 - val_mean_absolute_percentage_error: 2650096.0000\n",
      "Epoch 11/200\n",
      "1/1 [==============================] - 0s 21ms/step - loss: 414209.1250 - mean_absolute_percentage_error: 1043.6670 - val_loss: 2600745304064.0000 - val_mean_absolute_percentage_error: 2212891.5000\n",
      "Epoch 12/200\n",
      "1/1 [==============================] - 0s 22ms/step - loss: 403407.7500 - mean_absolute_percentage_error: 1029.8931 - val_loss: 1531968225280.0000 - val_mean_absolute_percentage_error: 1698384.6250\n",
      "Epoch 13/200\n",
      "1/1 [==============================] - 0s 22ms/step - loss: 355101.9375 - mean_absolute_percentage_error: 965.9057 - val_loss: 676643733504.0000 - val_mean_absolute_percentage_error: 1128733.0000\n",
      "Epoch 14/200\n",
      "1/1 [==============================] - 0s 22ms/step - loss: 276722.5625 - mean_absolute_percentage_error: 851.9780 - val_loss: 144967434240.0000 - val_mean_absolute_percentage_error: 522451.9375\n",
      "Epoch 15/200\n",
      "1/1 [==============================] - 0s 22ms/step - loss: 183294.9062 - mean_absolute_percentage_error: 692.2732 - val_loss: 5873669120.0000 - val_mean_absolute_percentage_error: 105163.8906\n",
      "Epoch 16/200\n",
      "1/1 [==============================] - 0s 23ms/step - loss: 94311.5938 - mean_absolute_percentage_error: 494.7892 - val_loss: 292097294336.0000 - val_mean_absolute_percentage_error: 741609.1875\n",
      "Epoch 17/200\n",
      "1/1 [==============================] - 0s 23ms/step - loss: 28987.6719 - mean_absolute_percentage_error: 271.1644 - val_loss: 1006694694912.0000 - val_mean_absolute_percentage_error: 1376766.0000\n",
      "Epoch 18/200\n",
      "1/1 [==============================] - 0s 22ms/step - loss: 903.6591 - mean_absolute_percentage_error: 36.3020 - val_loss: 2129798365184.0000 - val_mean_absolute_percentage_error: 2002536.7500\n",
      "Epoch 19/200\n",
      "1/1 [==============================] - 0s 22ms/step - loss: 13449.2529 - mean_absolute_percentage_error: 192.3741 - val_loss: 3624953446400.0000 - val_mean_absolute_percentage_error: 2612537.0000\n",
      "Epoch 20/200\n",
      "1/1 [==============================] - 0s 22ms/step - loss: 57836.5078 - mean_absolute_percentage_error: 396.3038 - val_loss: 5444749754368.0000 - val_mean_absolute_percentage_error: 3201844.5000\n",
      "Epoch 21/200\n",
      "1/1 [==============================] - 0s 23ms/step - loss: 106146045952.0000 - mean_absolute_percentage_error: 307751.5312 - val_loss: 157292674678784.0000 - val_mean_absolute_percentage_error: 17209392.0000\n",
      "Epoch 22/200\n",
      "1/1 [==============================] - 0s 23ms/step - loss: 1085394.0000 - mean_absolute_percentage_error: 1703.2471 - val_loss: 388380336586752.0000 - val_mean_absolute_percentage_error: 27042064.0000\n",
      "Epoch 23/200\n",
      "1/1 [==============================] - 0s 23ms/step - loss: 2819906.0000 - mean_absolute_percentage_error: 2742.4250 - val_loss: 731811156066304.0000 - val_mean_absolute_percentage_error: 37120240.0000\n",
      "Epoch 24/200\n",
      "1/1 [==============================] - 0s 23ms/step - loss: 5088033.0000 - mean_absolute_percentage_error: 3682.0784 - val_loss: 1182682998374400.0000 - val_mean_absolute_percentage_error: 47189504.0000\n",
      "Epoch 25/200\n",
      "1/1 [==============================] - 0s 22ms/step - loss: 7696949.0000 - mean_absolute_percentage_error: 4527.5957 - val_loss: 1729229532168192.0000 - val_mean_absolute_percentage_error: 57060760.0000\n",
      "Epoch 26/200\n",
      "1/1 [==============================] - 0s 23ms/step - loss: 10483826.0000 - mean_absolute_percentage_error: 5283.2305 - val_loss: 2373751115087872.0000 - val_mean_absolute_percentage_error: 66854216.0000\n",
      "Epoch 27/200\n",
      "1/1 [==============================] - 0s 21ms/step - loss: 13310058.0000 - mean_absolute_percentage_error: 5952.2778 - val_loss: 3212708014981120.0000 - val_mean_absolute_percentage_error: 77776224.0000\n",
      "Epoch 28/200\n",
      "1/1 [==============================] - 0s 23ms/step - loss: 16057451.0000 - mean_absolute_percentage_error: 6537.3027 - val_loss: 4296287193137152.0000 - val_mean_absolute_percentage_error: 89941032.0000\n",
      "Epoch 29/200\n",
      "1/1 [==============================] - 0s 22ms/step - loss: 19400360.0000 - mean_absolute_percentage_error: 7185.1357 - val_loss: 5540132002201600.0000 - val_mean_absolute_percentage_error: 102134224.0000\n",
      "Epoch 30/200\n",
      "1/1 [==============================] - 0s 23ms/step - loss: 23163004.0000 - mean_absolute_percentage_error: 7850.5776 - val_loss: 6919689456320512.0000 - val_mean_absolute_percentage_error: 114144384.0000\n",
      "Epoch 31/200\n",
      "1/1 [==============================] - 0s 22ms/step - loss: 26563768.0000 - mean_absolute_percentage_error: 8406.7949 - val_loss: 8413271849697280.0000 - val_mean_absolute_percentage_error: 125861728.0000\n",
      "Epoch 32/200\n",
      "1/1 [==============================] - 0s 22ms/step - loss: 29402624.0000 - mean_absolute_percentage_error: 8844.3467 - val_loss: 9997451209474048.0000 - val_mean_absolute_percentage_error: 137200544.0000\n",
      "Epoch 33/200\n",
      "1/1 [==============================] - 0s 22ms/step - loss: 31518092.0000 - mean_absolute_percentage_error: 9156.8096 - val_loss: 10761747082248192.0000 - val_mean_absolute_percentage_error: 142468560.0000\n",
      "Epoch 34/200\n",
      "1/1 [==============================] - 0s 22ms/step - loss: 32797690.0000 - mean_absolute_percentage_error: 9340.7363 - val_loss: 12337551255797760.0000 - val_mean_absolute_percentage_error: 152542944.0000\n",
      "Epoch 35/200\n",
      "1/1 [==============================] - 0s 22ms/step - loss: 33184018.0000 - mean_absolute_percentage_error: 9395.5586 - val_loss: 12039604005765120.0000 - val_mean_absolute_percentage_error: 150136784.0000\n",
      "Epoch 36/200\n",
      "1/1 [==============================] - 0s 21ms/step - loss: 32676240.0000 - mean_absolute_percentage_error: 9323.4355 - val_loss: 13457189100322816.0000 - val_mean_absolute_percentage_error: 158757840.0000\n",
      "Epoch 37/200\n",
      "1/1 [==============================] - 0s 22ms/step - loss: 31327278.0000 - mean_absolute_percentage_error: 9129.0645 - val_loss: 14865701076467712.0000 - val_mean_absolute_percentage_error: 166884656.0000\n",
      "Epoch 38/200\n",
      "1/1 [==============================] - 0s 22ms/step - loss: 29237110.0000 - mean_absolute_percentage_error: 8819.4316 - val_loss: 15262661281316864.0000 - val_mean_absolute_percentage_error: 168402480.0000\n",
      "Epoch 39/200\n",
      "1/1 [==============================] - 0s 22ms/step - loss: 26543240.0000 - mean_absolute_percentage_error: 8403.5488 - val_loss: 15199549958127616.0000 - val_mean_absolute_percentage_error: 168573600.0000\n",
      "Epoch 40/200\n",
      "1/1 [==============================] - 0s 38ms/step - loss: 23884132.0000 - mean_absolute_percentage_error: 7971.7686 - val_loss: 17709801576333312.0000 - val_mean_absolute_percentage_error: 181416368.0000\n",
      "Epoch 41/200\n",
      "1/1 [==============================] - 0s 25ms/step - loss: 22282496.0000 - mean_absolute_percentage_error: 7700.0151 - val_loss: 20182124338348032.0000 - val_mean_absolute_percentage_error: 194532336.0000\n",
      "Epoch 42/200\n",
      "1/1 [==============================] - 0s 23ms/step - loss: 20510856.0000 - mean_absolute_percentage_error: 7387.7739 - val_loss: 19559581713694720.0000 - val_mean_absolute_percentage_error: 191916672.0000\n",
      "Epoch 43/200\n",
      "1/1 [==============================] - 0s 22ms/step - loss: 18622748.0000 - mean_absolute_percentage_error: 7039.7666 - val_loss: 19244060531228672.0000 - val_mean_absolute_percentage_error: 189875904.0000\n",
      "Epoch 44/200\n",
      "1/1 [==============================] - 0s 23ms/step - loss: 16670532.0000 - mean_absolute_percentage_error: 6660.8374 - val_loss: 20200294197493760.0000 - val_mean_absolute_percentage_error: 194550720.0000\n",
      "Epoch 45/200\n",
      "1/1 [==============================] - 0s 22ms/step - loss: 14703724.0000 - mean_absolute_percentage_error: 6255.8892 - val_loss: 21103880154644480.0000 - val_mean_absolute_percentage_error: 198867520.0000\n",
      "Epoch 46/200\n",
      "1/1 [==============================] - 0s 23ms/step - loss: 12767607.0000 - mean_absolute_percentage_error: 5829.8271 - val_loss: 21954403938336768.0000 - val_mean_absolute_percentage_error: 202847168.0000\n",
      "Epoch 47/200\n",
      "1/1 [==============================] - 0s 22ms/step - loss: 10902141.0000 - mean_absolute_percentage_error: 5387.5034 - val_loss: 20741247475908608.0000 - val_mean_absolute_percentage_error: 197619840.0000\n",
      "Epoch 48/200\n",
      "1/1 [==============================] - 0s 22ms/step - loss: 9141196.0000 - mean_absolute_percentage_error: 4933.6729 - val_loss: 19673093404360704.0000 - val_mean_absolute_percentage_error: 192624832.0000\n",
      "Epoch 49/200\n",
      "1/1 [==============================] - 0s 22ms/step - loss: 7512051.0000 - mean_absolute_percentage_error: 4472.9443 - val_loss: 20216307983056896.0000 - val_mean_absolute_percentage_error: 195266704.0000\n",
      "Epoch 50/200\n",
      "1/1 [==============================] - 0s 21ms/step - loss: 6035224.0000 - mean_absolute_percentage_error: 4009.7458 - val_loss: 20772927154683904.0000 - val_mean_absolute_percentage_error: 197936672.0000\n",
      "Epoch 51/200\n",
      "1/1 [==============================] - 0s 21ms/step - loss: 4724513.5000 - mean_absolute_percentage_error: 3548.2864 - val_loss: 21289654670065664.0000 - val_mean_absolute_percentage_error: 200383424.0000\n",
      "Epoch 52/200\n",
      "1/1 [==============================] - 0s 21ms/step - loss: 3587306.5000 - mean_absolute_percentage_error: 3092.5273 - val_loss: 21768315890302976.0000 - val_mean_absolute_percentage_error: 202623552.0000\n",
      "Epoch 53/200\n",
      "1/1 [==============================] - 0s 22ms/step - loss: 2625057.0000 - mean_absolute_percentage_error: 2646.1533 - val_loss: 22210839255711744.0000 - val_mean_absolute_percentage_error: 204672736.0000\n",
      "Epoch 54/200\n",
      "1/1 [==============================] - 0s 22ms/step - loss: 1833929.2500 - mean_absolute_percentage_error: 2212.5522 - val_loss: 22619213336150016.0000 - val_mean_absolute_percentage_error: 206545792.0000\n",
      "Epoch 55/200\n",
      "1/1 [==============================] - 0s 22ms/step - loss: 1205551.7500 - mean_absolute_percentage_error: 1794.7952 - val_loss: 22995469651148800.0000 - val_mean_absolute_percentage_error: 208256608.0000\n",
      "Epoch 56/200\n",
      "1/1 [==============================] - 0s 22ms/step - loss: 727841.8750 - mean_absolute_percentage_error: 1395.6201 - val_loss: 23341616097918976.0000 - val_mean_absolute_percentage_error: 209818176.0000\n",
      "Epoch 57/200\n",
      "1/1 [==============================] - 0s 22ms/step - loss: 385875.5312 - mean_absolute_percentage_error: 1017.4236 - val_loss: 23659628361416704.0000 - val_mean_absolute_percentage_error: 211242656.0000\n",
      "Epoch 58/200\n",
      "1/1 [==============================] - 0s 22ms/step - loss: 162749.5469 - mean_absolute_percentage_error: 662.2538 - val_loss: 23951432734474240.0000 - val_mean_absolute_percentage_error: 212541344.0000\n",
      "Epoch 59/200\n",
      "1/1 [==============================] - 0s 23ms/step - loss: 40413.7969 - mean_absolute_percentage_error: 331.8065 - val_loss: 24218899675348992.0000 - val_mean_absolute_percentage_error: 213724752.0000\n",
      "Epoch 60/200\n",
      "1/1 [==============================] - 0s 22ms/step - loss: 444.1270 - mean_absolute_percentage_error: 34.9438 - val_loss: 24463794415599616.0000 - val_mean_absolute_percentage_error: 214802624.0000\n",
      "Epoch 61/200\n",
      "1/1 [==============================] - 0s 21ms/step - loss: 12099.4102 - mean_absolute_percentage_error: 172.2501 - val_loss: 24687811319824384.0000 - val_mean_absolute_percentage_error: 215783856.0000\n",
      "Epoch 62/200\n",
      "1/1 [==============================] - 0s 21ms/step - loss: 12113.5527 - mean_absolute_percentage_error: 172.3560 - val_loss: 24892563148242944.0000 - val_mean_absolute_percentage_error: 216676832.0000\n",
      "Epoch 63/200\n",
      "1/1 [==============================] - 0s 21ms/step - loss: 12126.3086 - mean_absolute_percentage_error: 172.4514 - val_loss: 25079550991925248.0000 - val_mean_absolute_percentage_error: 217489104.0000\n",
      "Epoch 64/200\n",
      "1/1 [==============================] - 0s 21ms/step - loss: 12137.8008 - mean_absolute_percentage_error: 172.5374 - val_loss: 25250196485046272.0000 - val_mean_absolute_percentage_error: 218227776.0000\n",
      "Epoch 65/200\n",
      "1/1 [==============================] - 0s 22ms/step - loss: 12148.1484 - mean_absolute_percentage_error: 172.6147 - val_loss: 25405820330049536.0000 - val_mean_absolute_percentage_error: 218899232.0000\n",
      "Epoch 66/200\n",
      "1/1 [==============================] - 0s 22ms/step - loss: 12157.4512 - mean_absolute_percentage_error: 172.6843 - val_loss: 25547659477516288.0000 - val_mean_absolute_percentage_error: 219509440.0000\n",
      "Epoch 67/200\n",
      "1/1 [==============================] - 0s 21ms/step - loss: 12165.8037 - mean_absolute_percentage_error: 172.7467 - val_loss: 25676869273649152.0000 - val_mean_absolute_percentage_error: 220063808.0000\n",
      "Epoch 68/200\n",
      "1/1 [==============================] - 0s 21ms/step - loss: 12173.2930 - mean_absolute_percentage_error: 172.8026 - val_loss: 25794510575370240.0000 - val_mean_absolute_percentage_error: 220567360.0000\n",
      "Epoch 69/200\n",
      "1/1 [==============================] - 0s 21ms/step - loss: 12180.0000 - mean_absolute_percentage_error: 172.8527 - val_loss: 25901564782706688.0000 - val_mean_absolute_percentage_error: 221024592.0000\n",
      "Epoch 70/200\n",
      "1/1 [==============================] - 0s 20ms/step - loss: 12185.9922 - mean_absolute_percentage_error: 172.8974 - val_loss: 25998940281241600.0000 - val_mean_absolute_percentage_error: 221439680.0000\n",
      "Epoch 71/200\n",
      "1/1 [==============================] - 0s 21ms/step - loss: 12191.3359 - mean_absolute_percentage_error: 172.9373 - val_loss: 26087489621983232.0000 - val_mean_absolute_percentage_error: 221816448.0000\n",
      "Epoch 72/200\n",
      "1/1 [==============================] - 0s 21ms/step - loss: 12196.0898 - mean_absolute_percentage_error: 172.9727 - val_loss: 26167973014142976.0000 - val_mean_absolute_percentage_error: 222158336.0000\n",
      "Epoch 73/200\n",
      "1/1 [==============================] - 0s 21ms/step - loss: 12200.3086 - mean_absolute_percentage_error: 173.0042 - val_loss: 26241094832357376.0000 - val_mean_absolute_percentage_error: 222468512.0000\n",
      "Epoch 74/200\n",
      "1/1 [==============================] - 0s 21ms/step - loss: 12204.0410 - mean_absolute_percentage_error: 173.0320 - val_loss: 26307516501590016.0000 - val_mean_absolute_percentage_error: 222749888.0000\n",
      "Epoch 75/200\n",
      "1/1 [==============================] - 0s 21ms/step - loss: 12207.3301 - mean_absolute_percentage_error: 173.0565 - val_loss: 26367832874811392.0000 - val_mean_absolute_percentage_error: 223005088.0000\n",
      "Epoch 76/200\n",
      "1/1 [==============================] - 0s 21ms/step - loss: 12210.2197 - mean_absolute_percentage_error: 173.0781 - val_loss: 26422589412868096.0000 - val_mean_absolute_percentage_error: 223236544.0000\n",
      "Epoch 77/200\n",
      "1/1 [==============================] - 0s 21ms/step - loss: 12212.7422 - mean_absolute_percentage_error: 173.0969 - val_loss: 26472282184482816.0000 - val_mean_absolute_percentage_error: 223446352.0000\n",
      "Epoch 78/200\n",
      "1/1 [==============================] - 0s 21ms/step - loss: 12214.9307 - mean_absolute_percentage_error: 173.1132 - val_loss: 26517372898639872.0000 - val_mean_absolute_percentage_error: 223636576.0000\n",
      "Epoch 79/200\n",
      "1/1 [==============================] - 0s 20ms/step - loss: 12216.8223 - mean_absolute_percentage_error: 173.1273 - val_loss: 26558278167166976.0000 - val_mean_absolute_percentage_error: 223808992.0000\n",
      "Epoch 80/200\n",
      "1/1 [==============================] - 0s 21ms/step - loss: 12218.4375 - mean_absolute_percentage_error: 173.1393 - val_loss: 26595382389637120.0000 - val_mean_absolute_percentage_error: 223965264.0000\n",
      "Epoch 81/200\n",
      "1/1 [==============================] - 0s 21ms/step - loss: 12219.8037 - mean_absolute_percentage_error: 173.1495 - val_loss: 26629024868466688.0000 - val_mean_absolute_percentage_error: 224106880.0000\n",
      "Epoch 82/200\n",
      "1/1 [==============================] - 0s 22ms/step - loss: 12220.9424 - mean_absolute_percentage_error: 173.1580 - val_loss: 26659527726202880.0000 - val_mean_absolute_percentage_error: 224235200.0000\n",
      "Epoch 83/200\n",
      "1/1 [==============================] - 0s 22ms/step - loss: 12221.8770 - mean_absolute_percentage_error: 173.1650 - val_loss: 26687170135719936.0000 - val_mean_absolute_percentage_error: 224351424.0000\n",
      "Epoch 84/200\n",
      "1/1 [==============================] - 0s 21ms/step - loss: 12222.6240 - mean_absolute_percentage_error: 173.1705 - val_loss: 26712239859826688.0000 - val_mean_absolute_percentage_error: 224456768.0000\n",
      "Epoch 85/200\n",
      "1/1 [==============================] - 0s 21ms/step - loss: 12223.2021 - mean_absolute_percentage_error: 173.1749 - val_loss: 26734947351920640.0000 - val_mean_absolute_percentage_error: 224552128.0000\n",
      "Epoch 86/200\n",
      "1/1 [==============================] - 0s 21ms/step - loss: 12223.6250 - mean_absolute_percentage_error: 173.1780 - val_loss: 26755524540235776.0000 - val_mean_absolute_percentage_error: 224638560.0000\n",
      "Epoch 87/200\n",
      "1/1 [==============================] - 0s 21ms/step - loss: 12223.9062 - mean_absolute_percentage_error: 173.1801 - val_loss: 26774171140751360.0000 - val_mean_absolute_percentage_error: 224716816.0000\n",
      "Epoch 88/200\n",
      "1/1 [==============================] - 0s 21ms/step - loss: 12224.0596 - mean_absolute_percentage_error: 173.1812 - val_loss: 26791065394610176.0000 - val_mean_absolute_percentage_error: 224787680.0000\n",
      "Epoch 89/200\n",
      "1/1 [==============================] - 0s 20ms/step - loss: 12224.0957 - mean_absolute_percentage_error: 173.1815 - val_loss: 26806359773151232.0000 - val_mean_absolute_percentage_error: 224851840.0000\n",
      "Epoch 90/200\n",
      "1/1 [==============================] - 0s 21ms/step - loss: 12224.0273 - mean_absolute_percentage_error: 173.1810 - val_loss: 26820217485131776.0000 - val_mean_absolute_percentage_error: 224909952.0000\n",
      "Epoch 91/200\n",
      "1/1 [==============================] - 0s 21ms/step - loss: 12223.8613 - mean_absolute_percentage_error: 173.1798 - val_loss: 26832763084603392.0000 - val_mean_absolute_percentage_error: 224962560.0000\n",
      "Epoch 92/200\n",
      "1/1 [==============================] - 0s 21ms/step - loss: 12223.6064 - mean_absolute_percentage_error: 173.1779 - val_loss: 26844121125617664.0000 - val_mean_absolute_percentage_error: 225010176.0000\n",
      "Epoch 93/200\n",
      "1/1 [==============================] - 0s 21ms/step - loss: 12223.2715 - mean_absolute_percentage_error: 173.1754 - val_loss: 26854407572291584.0000 - val_mean_absolute_percentage_error: 225053280.0000\n",
      "Epoch 94/200\n",
      "1/1 [==============================] - 0s 21ms/step - loss: 12222.8643 - mean_absolute_percentage_error: 173.1723 - val_loss: 26863716913905664.0000 - val_mean_absolute_percentage_error: 225092288.0000\n",
      "Epoch 95/200\n",
      "1/1 [==============================] - 0s 21ms/step - loss: 12222.3906 - mean_absolute_percentage_error: 173.1688 - val_loss: 26872154377158656.0000 - val_mean_absolute_percentage_error: 225127616.0000\n",
      "Epoch 96/200\n",
      "1/1 [==============================] - 0s 22ms/step - loss: 12221.8535 - mean_absolute_percentage_error: 173.1648 - val_loss: 26879780091592704.0000 - val_mean_absolute_percentage_error: 225159568.0000\n",
      "Epoch 97/200\n",
      "1/1 [==============================] - 0s 22ms/step - loss: 12221.2617 - mean_absolute_percentage_error: 173.1604 - val_loss: 26886688546488320.0000 - val_mean_absolute_percentage_error: 225188496.0000\n",
      "Epoch 98/200\n",
      "1/1 [==============================] - 0s 22ms/step - loss: 12220.6201 - mean_absolute_percentage_error: 173.1556 - val_loss: 26892944166354944.0000 - val_mean_absolute_percentage_error: 225214688.0000\n",
      "Epoch 99/200\n",
      "1/1 [==============================] - 0s 22ms/step - loss: 12219.9297 - mean_absolute_percentage_error: 173.1505 - val_loss: 26898598490800128.0000 - val_mean_absolute_percentage_error: 225238368.0000\n",
      "Epoch 100/200\n",
      "1/1 [==============================] - 0s 22ms/step - loss: 12219.1982 - mean_absolute_percentage_error: 173.1450 - val_loss: 26903718091816960.0000 - val_mean_absolute_percentage_error: 225259808.0000\n",
      "Epoch 101/200\n",
      "1/1 [==============================] - 0s 22ms/step - loss: 12218.4258 - mean_absolute_percentage_error: 173.1393 - val_loss: 26908348066562048.0000 - val_mean_absolute_percentage_error: 225279168.0000\n",
      "Epoch 102/200\n",
      "1/1 [==============================] - 0s 22ms/step - loss: 12217.6172 - mean_absolute_percentage_error: 173.1332 - val_loss: 26912539954642944.0000 - val_mean_absolute_percentage_error: 225296736.0000\n",
      "Epoch 103/200\n",
      "1/1 [==============================] - 0s 22ms/step - loss: 12216.7764 - mean_absolute_percentage_error: 173.1270 - val_loss: 26916325968314368.0000 - val_mean_absolute_percentage_error: 225312576.0000\n",
      "Epoch 104/200\n",
      "1/1 [==============================] - 0s 31ms/step - loss: 12215.9053 - mean_absolute_percentage_error: 173.1205 - val_loss: 26919755499700224.0000 - val_mean_absolute_percentage_error: 225326912.0000\n",
      "Epoch 105/200\n",
      "1/1 [==============================] - 0s 23ms/step - loss: 12215.0059 - mean_absolute_percentage_error: 173.1138 - val_loss: 26922852171120640.0000 - val_mean_absolute_percentage_error: 225339888.0000\n",
      "Epoch 106/200\n",
      "1/1 [==============================] - 0s 22ms/step - loss: 12214.0801 - mean_absolute_percentage_error: 173.1069 - val_loss: 26925665374699520.0000 - val_mean_absolute_percentage_error: 225351648.0000\n",
      "Epoch 107/200\n",
      "1/1 [==============================] - 0s 21ms/step - loss: 12213.1309 - mean_absolute_percentage_error: 173.0998 - val_loss: 26928203700371456.0000 - val_mean_absolute_percentage_error: 225362272.0000\n",
      "Epoch 108/200\n",
      "1/1 [==============================] - 0s 21ms/step - loss: 12212.1582 - mean_absolute_percentage_error: 173.0926 - val_loss: 26930503655358464.0000 - val_mean_absolute_percentage_error: 225371904.0000\n",
      "Epoch 109/200\n",
      "1/1 [==============================] - 0s 21ms/step - loss: 12211.1660 - mean_absolute_percentage_error: 173.0851 - val_loss: 26932580272046080.0000 - val_mean_absolute_percentage_error: 225380592.0000\n",
      "Epoch 110/200\n",
      "1/1 [==============================] - 0s 21ms/step - loss: 12210.1543 - mean_absolute_percentage_error: 173.0776 - val_loss: 26934459320238080.0000 - val_mean_absolute_percentage_error: 225388448.0000\n",
      "Epoch 111/200\n",
      "1/1 [==============================] - 0s 21ms/step - loss: 12209.1250 - mean_absolute_percentage_error: 173.0699 - val_loss: 26936155832320000.0000 - val_mean_absolute_percentage_error: 225395552.0000\n",
      "Epoch 112/200\n",
      "1/1 [==============================] - 0s 21ms/step - loss: 12208.0801 - mean_absolute_percentage_error: 173.0621 - val_loss: 26937691283128320.0000 - val_mean_absolute_percentage_error: 225401984.0000\n",
      "Epoch 113/200\n",
      "1/1 [==============================] - 0s 21ms/step - loss: 12207.0156 - mean_absolute_percentage_error: 173.0542 - val_loss: 26939085000015872.0000 - val_mean_absolute_percentage_error: 225407808.0000\n",
      "Epoch 114/200\n",
      "1/1 [==============================] - 0s 21ms/step - loss: 12205.9424 - mean_absolute_percentage_error: 173.0462 - val_loss: 26940334835499008.0000 - val_mean_absolute_percentage_error: 225413024.0000\n",
      "Epoch 115/200\n",
      "1/1 [==============================] - 0s 21ms/step - loss: 12204.8516 - mean_absolute_percentage_error: 173.0381 - val_loss: 26941477296799744.0000 - val_mean_absolute_percentage_error: 225417824.0000\n",
      "Epoch 116/200\n",
      "1/1 [==============================] - 0s 20ms/step - loss: 12203.7500 - mean_absolute_percentage_error: 173.0298 - val_loss: 26942501646499840.0000 - val_mean_absolute_percentage_error: 225422096.0000\n",
      "Epoch 117/200\n",
      "1/1 [==============================] - 0s 21ms/step - loss: 12202.6328 - mean_absolute_percentage_error: 173.0215 - val_loss: 26943431506919424.0000 - val_mean_absolute_percentage_error: 225426000.0000\n",
      "Epoch 118/200\n",
      "1/1 [==============================] - 0s 21ms/step - loss: 12201.5098 - mean_absolute_percentage_error: 173.0132 - val_loss: 26944271173025792.0000 - val_mean_absolute_percentage_error: 225429504.0000\n",
      "Epoch 119/200\n",
      "1/1 [==============================] - 0s 21ms/step - loss: 12200.3721 - mean_absolute_percentage_error: 173.0047 - val_loss: 26945031382237184.0000 - val_mean_absolute_percentage_error: 225432688.0000\n",
      "Epoch 120/200\n",
      "1/1 [==============================] - 0s 21ms/step - loss: 12199.2246 - mean_absolute_percentage_error: 172.9961 - val_loss: 26945718577004544.0000 - val_mean_absolute_percentage_error: 225435552.0000\n",
      "Epoch 121/200\n",
      "1/1 [==============================] - 0s 21ms/step - loss: 12198.0684 - mean_absolute_percentage_error: 172.9875 - val_loss: 26946341347262464.0000 - val_mean_absolute_percentage_error: 225438144.0000\n",
      "Epoch 122/200\n",
      "1/1 [==============================] - 0s 21ms/step - loss: 12196.9004 - mean_absolute_percentage_error: 172.9788 - val_loss: 26946897545527296.0000 - val_mean_absolute_percentage_error: 225440496.0000\n",
      "Epoch 123/200\n",
      "1/1 [==============================] - 0s 21ms/step - loss: 12195.7266 - mean_absolute_percentage_error: 172.9700 - val_loss: 26947406499151872.0000 - val_mean_absolute_percentage_error: 225442624.0000\n",
      "Epoch 124/200\n",
      "1/1 [==============================] - 0s 21ms/step - loss: 12194.5430 - mean_absolute_percentage_error: 172.9612 - val_loss: 26947870355619840.0000 - val_mean_absolute_percentage_error: 225444544.0000\n",
      "Epoch 125/200\n",
      "1/1 [==============================] - 0s 21ms/step - loss: 12193.3516 - mean_absolute_percentage_error: 172.9523 - val_loss: 26948278377512960.0000 - val_mean_absolute_percentage_error: 225446272.0000\n",
      "Epoch 126/200\n",
      "1/1 [==============================] - 0s 22ms/step - loss: 12192.1523 - mean_absolute_percentage_error: 172.9434 - val_loss: 26948656334635008.0000 - val_mean_absolute_percentage_error: 225447840.0000\n",
      "Epoch 127/200\n",
      "1/1 [==============================] - 0s 21ms/step - loss: 12190.9453 - mean_absolute_percentage_error: 172.9344 - val_loss: 26948991342084096.0000 - val_mean_absolute_percentage_error: 225449248.0000\n",
      "Epoch 128/200\n",
      "1/1 [==============================] - 0s 22ms/step - loss: 12189.7314 - mean_absolute_percentage_error: 172.9253 - val_loss: 26949296284762112.0000 - val_mean_absolute_percentage_error: 225450512.0000\n",
      "Epoch 129/200\n",
      "1/1 [==============================] - 0s 22ms/step - loss: 12188.5088 - mean_absolute_percentage_error: 172.9162 - val_loss: 26949562572734464.0000 - val_mean_absolute_percentage_error: 225451648.0000\n",
      "Epoch 130/200\n",
      "1/1 [==============================] - 0s 22ms/step - loss: 12187.2793 - mean_absolute_percentage_error: 172.9070 - val_loss: 26949820270772224.0000 - val_mean_absolute_percentage_error: 225452720.0000\n",
      "Epoch 131/200\n",
      "1/1 [==============================] - 0s 22ms/step - loss: 12186.0449 - mean_absolute_percentage_error: 172.8978 - val_loss: 26950043609071616.0000 - val_mean_absolute_percentage_error: 225453664.0000\n",
      "Epoch 132/200\n",
      "1/1 [==============================] - 0s 21ms/step - loss: 12184.8047 - mean_absolute_percentage_error: 172.8885 - val_loss: 26950249767501824.0000 - val_mean_absolute_percentage_error: 225454496.0000\n",
      "Epoch 133/200\n",
      "1/1 [==============================] - 0s 22ms/step - loss: 12183.5547 - mean_absolute_percentage_error: 172.8792 - val_loss: 26950434451095552.0000 - val_mean_absolute_percentage_error: 225455280.0000\n",
      "Epoch 134/200\n",
      "1/1 [==============================] - 0s 21ms/step - loss: 12182.3027 - mean_absolute_percentage_error: 172.8698 - val_loss: 26950597659852800.0000 - val_mean_absolute_percentage_error: 225455968.0000\n",
      "Epoch 135/200\n",
      "1/1 [==============================] - 0s 23ms/step - loss: 12181.0430 - mean_absolute_percentage_error: 172.8604 - val_loss: 26950743688740864.0000 - val_mean_absolute_percentage_error: 225456576.0000\n",
      "Epoch 136/200\n",
      "1/1 [==============================] - 0s 24ms/step - loss: 12179.7773 - mean_absolute_percentage_error: 172.8510 - val_loss: 26950881127694336.0000 - val_mean_absolute_percentage_error: 225457152.0000\n",
      "Epoch 137/200\n",
      "1/1 [==============================] - 0s 22ms/step - loss: 12178.5039 - mean_absolute_percentage_error: 172.8415 - val_loss: 26951009976713216.0000 - val_mean_absolute_percentage_error: 225457696.0000\n",
      "Epoch 138/200\n",
      "1/1 [==============================] - 0s 22ms/step - loss: 12177.2266 - mean_absolute_percentage_error: 172.8319 - val_loss: 26951117350895616.0000 - val_mean_absolute_percentage_error: 225458144.0000\n",
      "Epoch 139/200\n",
      "1/1 [==============================] - 0s 22ms/step - loss: 12175.9434 - mean_absolute_percentage_error: 172.8224 - val_loss: 26951220430110720.0000 - val_mean_absolute_percentage_error: 225458560.0000\n",
      "Epoch 140/200\n",
      "1/1 [==============================] - 0s 22ms/step - loss: 12174.6553 - mean_absolute_percentage_error: 172.8128 - val_loss: 26951310624423936.0000 - val_mean_absolute_percentage_error: 225458960.0000\n",
      "Epoch 141/200\n",
      "1/1 [==============================] - 0s 23ms/step - loss: 12173.3594 - mean_absolute_percentage_error: 172.8031 - val_loss: 26951387933835264.0000 - val_mean_absolute_percentage_error: 225459264.0000\n",
      "Epoch 142/200\n",
      "1/1 [==============================] - 0s 23ms/step - loss: 12172.0605 - mean_absolute_percentage_error: 172.7934 - val_loss: 26951465243246592.0000 - val_mean_absolute_percentage_error: 225459584.0000\n",
      "Epoch 143/200\n",
      "1/1 [==============================] - 0s 24ms/step - loss: 12170.7559 - mean_absolute_percentage_error: 172.7837 - val_loss: 26951525372788736.0000 - val_mean_absolute_percentage_error: 225459840.0000\n",
      "Epoch 144/200\n",
      "1/1 [==============================] - 0s 23ms/step - loss: 12169.4453 - mean_absolute_percentage_error: 172.7738 - val_loss: 26951587649814528.0000 - val_mean_absolute_percentage_error: 225460096.0000\n",
      "Epoch 145/200\n",
      "1/1 [==============================] - 0s 22ms/step - loss: 12168.1309 - mean_absolute_percentage_error: 172.7640 - val_loss: 26951637041938432.0000 - val_mean_absolute_percentage_error: 225460320.0000\n",
      "Epoch 146/200\n",
      "1/1 [==============================] - 0s 23ms/step - loss: 12166.8115 - mean_absolute_percentage_error: 172.7542 - val_loss: 26951684286578688.0000 - val_mean_absolute_percentage_error: 225460512.0000\n",
      "Epoch 147/200\n",
      "1/1 [==============================] - 0s 23ms/step - loss: 12165.4863 - mean_absolute_percentage_error: 172.7443 - val_loss: 26951740121153536.0000 - val_mean_absolute_percentage_error: 225460752.0000\n",
      "Epoch 148/200\n",
      "1/1 [==============================] - 0s 24ms/step - loss: 12164.1543 - mean_absolute_percentage_error: 172.7343 - val_loss: 26951789513277440.0000 - val_mean_absolute_percentage_error: 225460960.0000\n",
      "Epoch 149/200\n",
      "1/1 [==============================] - 0s 22ms/step - loss: 12162.8184 - mean_absolute_percentage_error: 172.7244 - val_loss: 26951817430564864.0000 - val_mean_absolute_percentage_error: 225461056.0000\n",
      "Epoch 150/200\n",
      "1/1 [==============================] - 0s 22ms/step - loss: 12161.4795 - mean_absolute_percentage_error: 172.7144 - val_loss: 26951851790303232.0000 - val_mean_absolute_percentage_error: 225461216.0000\n",
      "Epoch 151/200\n",
      "1/1 [==============================] - 0s 22ms/step - loss: 12160.1348 - mean_absolute_percentage_error: 172.7043 - val_loss: 26951890445008896.0000 - val_mean_absolute_percentage_error: 225461376.0000\n",
      "Epoch 152/200\n",
      "1/1 [==============================] - 0s 21ms/step - loss: 12158.7822 - mean_absolute_percentage_error: 172.6942 - val_loss: 26951918362296320.0000 - val_mean_absolute_percentage_error: 225461504.0000\n",
      "Epoch 153/200\n",
      "1/1 [==============================] - 0s 21ms/step - loss: 12157.4277 - mean_absolute_percentage_error: 172.6841 - val_loss: 26951950574551040.0000 - val_mean_absolute_percentage_error: 225461616.0000\n",
      "Epoch 154/200\n",
      "1/1 [==============================] - 0s 21ms/step - loss: 12156.0703 - mean_absolute_percentage_error: 172.6740 - val_loss: 26951972049387520.0000 - val_mean_absolute_percentage_error: 225461712.0000\n",
      "Epoch 155/200\n",
      "1/1 [==============================] - 0s 21ms/step - loss: 12154.7051 - mean_absolute_percentage_error: 172.6637 - val_loss: 26951984934289408.0000 - val_mean_absolute_percentage_error: 225461760.0000\n",
      "Epoch 156/200\n",
      "1/1 [==============================] - 0s 21ms/step - loss: 12153.3330 - mean_absolute_percentage_error: 172.6535 - val_loss: 26952002114158592.0000 - val_mean_absolute_percentage_error: 225461840.0000\n",
      "Epoch 157/200\n",
      "1/1 [==============================] - 0s 21ms/step - loss: 12151.9590 - mean_absolute_percentage_error: 172.6432 - val_loss: 26952019294027776.0000 - val_mean_absolute_percentage_error: 225461920.0000\n",
      "Epoch 158/200\n",
      "1/1 [==============================] - 0s 21ms/step - loss: 12150.5811 - mean_absolute_percentage_error: 172.6329 - val_loss: 26952032178929664.0000 - val_mean_absolute_percentage_error: 225461968.0000\n",
      "Epoch 159/200\n",
      "1/1 [==============================] - 0s 21ms/step - loss: 12149.1973 - mean_absolute_percentage_error: 172.6226 - val_loss: 26952047211315200.0000 - val_mean_absolute_percentage_error: 225462032.0000\n",
      "Epoch 160/200\n",
      "1/1 [==============================] - 0s 21ms/step - loss: 12147.8086 - mean_absolute_percentage_error: 172.6122 - val_loss: 26952064391184384.0000 - val_mean_absolute_percentage_error: 225462096.0000\n",
      "Epoch 161/200\n",
      "1/1 [==============================] - 0s 21ms/step - loss: 12146.4180 - mean_absolute_percentage_error: 172.6018 - val_loss: 26952079423569920.0000 - val_mean_absolute_percentage_error: 225462160.0000\n",
      "Epoch 162/200\n",
      "1/1 [==============================] - 0s 21ms/step - loss: 12145.0205 - mean_absolute_percentage_error: 172.5914 - val_loss: 26952094455955456.0000 - val_mean_absolute_percentage_error: 225462240.0000\n",
      "Epoch 163/200\n",
      "1/1 [==============================] - 0s 21ms/step - loss: 12143.6182 - mean_absolute_percentage_error: 172.5809 - val_loss: 26952109488340992.0000 - val_mean_absolute_percentage_error: 225462288.0000\n",
      "Epoch 164/200\n",
      "1/1 [==============================] - 0s 23ms/step - loss: 12142.2109 - mean_absolute_percentage_error: 172.5704 - val_loss: 26952113783308288.0000 - val_mean_absolute_percentage_error: 225462304.0000\n",
      "Epoch 165/200\n",
      "1/1 [==============================] - 0s 23ms/step - loss: 12140.7998 - mean_absolute_percentage_error: 172.5598 - val_loss: 26952113783308288.0000 - val_mean_absolute_percentage_error: 225462304.0000\n",
      "Epoch 166/200\n",
      "1/1 [==============================] - 0s 23ms/step - loss: 12139.3848 - mean_absolute_percentage_error: 172.5492 - val_loss: 26952113783308288.0000 - val_mean_absolute_percentage_error: 225462304.0000\n",
      "Epoch 167/200\n",
      "1/1 [==============================] - 0s 22ms/step - loss: 12137.9639 - mean_absolute_percentage_error: 172.5386 - val_loss: 26952113783308288.0000 - val_mean_absolute_percentage_error: 225462304.0000\n",
      "Epoch 168/200\n",
      "1/1 [==============================] - 0s 21ms/step - loss: 12136.5410 - mean_absolute_percentage_error: 172.5280 - val_loss: 26952113783308288.0000 - val_mean_absolute_percentage_error: 225462304.0000\n",
      "Epoch 169/200\n",
      "1/1 [==============================] - 0s 22ms/step - loss: 12135.1094 - mean_absolute_percentage_error: 172.5173 - val_loss: 26952113783308288.0000 - val_mean_absolute_percentage_error: 225462304.0000\n",
      "Epoch 170/200\n",
      "1/1 [==============================] - 0s 22ms/step - loss: 12133.6768 - mean_absolute_percentage_error: 172.5065 - val_loss: 26952113783308288.0000 - val_mean_absolute_percentage_error: 225462304.0000\n",
      "Epoch 171/200\n",
      "1/1 [==============================] - 0s 23ms/step - loss: 12132.2383 - mean_absolute_percentage_error: 172.4958 - val_loss: 26952113783308288.0000 - val_mean_absolute_percentage_error: 225462304.0000\n",
      "Epoch 172/200\n",
      "1/1 [==============================] - 0s 22ms/step - loss: 12130.7969 - mean_absolute_percentage_error: 172.4850 - val_loss: 26952113783308288.0000 - val_mean_absolute_percentage_error: 225462304.0000\n",
      "Epoch 173/200\n",
      "1/1 [==============================] - 0s 23ms/step - loss: 12129.3486 - mean_absolute_percentage_error: 172.4742 - val_loss: 26952113783308288.0000 - val_mean_absolute_percentage_error: 225462304.0000\n",
      "Epoch 174/200\n",
      "1/1 [==============================] - 0s 23ms/step - loss: 12127.8965 - mean_absolute_percentage_error: 172.4633 - val_loss: 26952113783308288.0000 - val_mean_absolute_percentage_error: 225462304.0000\n",
      "Epoch 175/200\n",
      "1/1 [==============================] - 0s 24ms/step - loss: 12126.4414 - mean_absolute_percentage_error: 172.4524 - val_loss: 26952113783308288.0000 - val_mean_absolute_percentage_error: 225462304.0000\n",
      "Epoch 176/200\n",
      "1/1 [==============================] - 0s 22ms/step - loss: 12124.9814 - mean_absolute_percentage_error: 172.4415 - val_loss: 26952113783308288.0000 - val_mean_absolute_percentage_error: 225462304.0000\n",
      "Epoch 177/200\n",
      "1/1 [==============================] - 0s 22ms/step - loss: 12123.5156 - mean_absolute_percentage_error: 172.4305 - val_loss: 26952113783308288.0000 - val_mean_absolute_percentage_error: 225462304.0000\n",
      "Epoch 178/200\n",
      "1/1 [==============================] - 0s 23ms/step - loss: 12122.0469 - mean_absolute_percentage_error: 172.4195 - val_loss: 26952113783308288.0000 - val_mean_absolute_percentage_error: 225462304.0000\n",
      "Epoch 179/200\n",
      "1/1 [==============================] - 0s 23ms/step - loss: 12120.5732 - mean_absolute_percentage_error: 172.4085 - val_loss: 26952113783308288.0000 - val_mean_absolute_percentage_error: 225462304.0000\n",
      "Epoch 180/200\n",
      "1/1 [==============================] - 0s 22ms/step - loss: 12119.0957 - mean_absolute_percentage_error: 172.3975 - val_loss: 26952113783308288.0000 - val_mean_absolute_percentage_error: 225462304.0000\n",
      "Epoch 181/200\n",
      "1/1 [==============================] - 0s 21ms/step - loss: 12117.6143 - mean_absolute_percentage_error: 172.3864 - val_loss: 26952113783308288.0000 - val_mean_absolute_percentage_error: 225462304.0000\n",
      "Epoch 182/200\n",
      "1/1 [==============================] - 0s 22ms/step - loss: 12116.1270 - mean_absolute_percentage_error: 172.3752 - val_loss: 26952113783308288.0000 - val_mean_absolute_percentage_error: 225462304.0000\n",
      "Epoch 183/200\n",
      "1/1 [==============================] - 0s 22ms/step - loss: 12114.6377 - mean_absolute_percentage_error: 172.3641 - val_loss: 26952113783308288.0000 - val_mean_absolute_percentage_error: 225462304.0000\n",
      "Epoch 184/200\n",
      "1/1 [==============================] - 0s 21ms/step - loss: 12113.1426 - mean_absolute_percentage_error: 172.3529 - val_loss: 26952113783308288.0000 - val_mean_absolute_percentage_error: 225462304.0000\n",
      "Epoch 185/200\n",
      "1/1 [==============================] - 0s 22ms/step - loss: 12111.6416 - mean_absolute_percentage_error: 172.3417 - val_loss: 26952113783308288.0000 - val_mean_absolute_percentage_error: 225462304.0000\n",
      "Epoch 186/200\n",
      "1/1 [==============================] - 0s 21ms/step - loss: 12110.1377 - mean_absolute_percentage_error: 172.3304 - val_loss: 26952113783308288.0000 - val_mean_absolute_percentage_error: 225462304.0000\n",
      "Epoch 187/200\n",
      "1/1 [==============================] - 0s 21ms/step - loss: 12108.6299 - mean_absolute_percentage_error: 172.3191 - val_loss: 26952113783308288.0000 - val_mean_absolute_percentage_error: 225462304.0000\n",
      "Epoch 188/200\n",
      "1/1 [==============================] - 0s 21ms/step - loss: 12107.1182 - mean_absolute_percentage_error: 172.3078 - val_loss: 26952113783308288.0000 - val_mean_absolute_percentage_error: 225462304.0000\n",
      "Epoch 189/200\n",
      "1/1 [==============================] - 0s 21ms/step - loss: 12105.6016 - mean_absolute_percentage_error: 172.2964 - val_loss: 26952113783308288.0000 - val_mean_absolute_percentage_error: 225462304.0000\n",
      "Epoch 190/200\n",
      "1/1 [==============================] - 0s 21ms/step - loss: 12104.0820 - mean_absolute_percentage_error: 172.2851 - val_loss: 26952113783308288.0000 - val_mean_absolute_percentage_error: 225462304.0000\n",
      "Epoch 191/200\n",
      "1/1 [==============================] - 0s 21ms/step - loss: 12102.5586 - mean_absolute_percentage_error: 172.2737 - val_loss: 26952113783308288.0000 - val_mean_absolute_percentage_error: 225462304.0000\n",
      "Epoch 192/200\n",
      "1/1 [==============================] - 0s 21ms/step - loss: 12101.0293 - mean_absolute_percentage_error: 172.2622 - val_loss: 26952113783308288.0000 - val_mean_absolute_percentage_error: 225462304.0000\n",
      "Epoch 193/200\n",
      "1/1 [==============================] - 0s 23ms/step - loss: 12099.4961 - mean_absolute_percentage_error: 172.2507 - val_loss: 26952113783308288.0000 - val_mean_absolute_percentage_error: 225462304.0000\n",
      "Epoch 194/200\n",
      "1/1 [==============================] - 0s 21ms/step - loss: 12097.9580 - mean_absolute_percentage_error: 172.2392 - val_loss: 26952113783308288.0000 - val_mean_absolute_percentage_error: 225462304.0000\n",
      "Epoch 195/200\n",
      "1/1 [==============================] - 0s 21ms/step - loss: 12096.4150 - mean_absolute_percentage_error: 172.2276 - val_loss: 26952113783308288.0000 - val_mean_absolute_percentage_error: 225462304.0000\n",
      "Epoch 196/200\n",
      "1/1 [==============================] - 0s 21ms/step - loss: 12094.8701 - mean_absolute_percentage_error: 172.2161 - val_loss: 26952113783308288.0000 - val_mean_absolute_percentage_error: 225462304.0000\n",
      "Epoch 197/200\n",
      "1/1 [==============================] - 0s 20ms/step - loss: 12093.3193 - mean_absolute_percentage_error: 172.2044 - val_loss: 26952113783308288.0000 - val_mean_absolute_percentage_error: 225462304.0000\n",
      "Epoch 198/200\n",
      "1/1 [==============================] - 0s 22ms/step - loss: 12091.7656 - mean_absolute_percentage_error: 172.1928 - val_loss: 26952113783308288.0000 - val_mean_absolute_percentage_error: 225462304.0000\n",
      "Epoch 199/200\n",
      "1/1 [==============================] - 0s 21ms/step - loss: 12090.2090 - mean_absolute_percentage_error: 172.1811 - val_loss: 26952113783308288.0000 - val_mean_absolute_percentage_error: 225462304.0000\n",
      "Epoch 200/200\n",
      "1/1 [==============================] - 0s 21ms/step - loss: 12088.6455 - mean_absolute_percentage_error: 172.1694 - val_loss: 26952113783308288.0000 - val_mean_absolute_percentage_error: 225462304.0000\n"
     ]
    }
   ],
   "source": [
    "def by_lstm(X_train1, y_train1,X_val1,y_val1):\n",
    "    model1 = Sequential()\n",
    "    model1.add(InputLayer((2, 1)))\n",
    "    model1.add(LSTM(64))\n",
    "    model1.add(Dense(50, 'relu'))\n",
    "    model1.add(Dense(50, 'relu'))\n",
    "    model1.add(Dense(1, 'linear'))\n",
    "\n",
    "    # model1.summary()\n",
    "\n",
    "    cp1 = ModelCheckpoint('model1/', save_best_only=True)\n",
    "    model1.compile(loss=MeanSquaredError(), optimizer=Adam(learning_rate=10), metrics=[MeanAbsolutePercentageError()])\n",
    "\n",
    "    model1.fit(X_train1, y_train1, validation_data=(X_val1, y_val1), epochs=200, callbacks=[cp1])\n",
    "    return model1\n",
    "model1=by_lstm(X_train1, y_train1, X_val1,y_val1)"
   ]
  },
  {
   "cell_type": "code",
   "execution_count": 30,
   "metadata": {
    "collapsed": false,
    "pycharm": {
     "name": "#%%\n"
    }
   },
   "outputs": [],
   "source": [
    "# model1 = load_model('model1/')"
   ]
  },
  {
   "cell_type": "code",
   "execution_count": 31,
   "metadata": {},
   "outputs": [
    {
     "name": "stdout",
     "output_type": "stream",
     "text": [
      "1/1 [==============================] - 0s 397ms/step\n"
     ]
    },
    {
     "data": {
      "text/html": [
       "<div>\n",
       "<style scoped>\n",
       "    .dataframe tbody tr th:only-of-type {\n",
       "        vertical-align: middle;\n",
       "    }\n",
       "\n",
       "    .dataframe tbody tr th {\n",
       "        vertical-align: top;\n",
       "    }\n",
       "\n",
       "    .dataframe thead th {\n",
       "        text-align: right;\n",
       "    }\n",
       "</style>\n",
       "<table border=\"1\" class=\"dataframe\">\n",
       "  <thead>\n",
       "    <tr style=\"text-align: right;\">\n",
       "      <th></th>\n",
       "      <th>Train Predictions</th>\n",
       "      <th>Actuals</th>\n",
       "    </tr>\n",
       "  </thead>\n",
       "  <tbody>\n",
       "    <tr>\n",
       "      <th>0</th>\n",
       "      <td>-4.426502e+01</td>\n",
       "      <td>54.0</td>\n",
       "    </tr>\n",
       "    <tr>\n",
       "      <th>1</th>\n",
       "      <td>-4.426502e+01</td>\n",
       "      <td>92.0</td>\n",
       "    </tr>\n",
       "    <tr>\n",
       "      <th>2</th>\n",
       "      <td>-4.426502e+01</td>\n",
       "      <td>59.0</td>\n",
       "    </tr>\n",
       "    <tr>\n",
       "      <th>3</th>\n",
       "      <td>-4.426502e+01</td>\n",
       "      <td>53.0</td>\n",
       "    </tr>\n",
       "    <tr>\n",
       "      <th>4</th>\n",
       "      <td>1.574185e+08</td>\n",
       "      <td>76.0</td>\n",
       "    </tr>\n",
       "    <tr>\n",
       "      <th>5</th>\n",
       "      <td>1.706567e+08</td>\n",
       "      <td>70.0</td>\n",
       "    </tr>\n",
       "    <tr>\n",
       "      <th>6</th>\n",
       "      <td>-4.426502e+01</td>\n",
       "      <td>115.0</td>\n",
       "    </tr>\n",
       "    <tr>\n",
       "      <th>7</th>\n",
       "      <td>-4.426502e+01</td>\n",
       "      <td>102.0</td>\n",
       "    </tr>\n",
       "  </tbody>\n",
       "</table>\n",
       "</div>"
      ],
      "text/plain": [
       "   Train Predictions  Actuals\n",
       "0      -4.426502e+01     54.0\n",
       "1      -4.426502e+01     92.0\n",
       "2      -4.426502e+01     59.0\n",
       "3      -4.426502e+01     53.0\n",
       "4       1.574185e+08     76.0\n",
       "5       1.706567e+08     70.0\n",
       "6      -4.426502e+01    115.0\n",
       "7      -4.426502e+01    102.0"
      ]
     },
     "execution_count": 31,
     "metadata": {},
     "output_type": "execute_result"
    }
   ],
   "source": [
    "test_predictions_x=tf.convert_to_tensor(X1, dtype=tf.int64)\n",
    "train_predictions = model1.predict(test_predictions_x).flatten()\n",
    "train_results = pd.DataFrame(data={'Train Predictions':train_predictions, 'Actuals':y1})\n",
    "train_results"
   ]
  },
  {
   "cell_type": "code",
   "execution_count": 32,
   "metadata": {
    "collapsed": false,
    "pycharm": {
     "name": "#%%\n"
    }
   },
   "outputs": [
    {
     "name": "stdout",
     "output_type": "stream",
     "text": [
      "1/1 [==============================] - 0s 334ms/step\n"
     ]
    },
    {
     "data": {
      "text/html": [
       "<div>\n",
       "<style scoped>\n",
       "    .dataframe tbody tr th:only-of-type {\n",
       "        vertical-align: middle;\n",
       "    }\n",
       "\n",
       "    .dataframe tbody tr th {\n",
       "        vertical-align: top;\n",
       "    }\n",
       "\n",
       "    .dataframe thead th {\n",
       "        text-align: right;\n",
       "    }\n",
       "</style>\n",
       "<table border=\"1\" class=\"dataframe\">\n",
       "  <thead>\n",
       "    <tr style=\"text-align: right;\">\n",
       "      <th></th>\n",
       "      <th>Train Predictions</th>\n",
       "      <th>Actuals</th>\n",
       "    </tr>\n",
       "  </thead>\n",
       "  <tbody>\n",
       "    <tr>\n",
       "      <th>0</th>\n",
       "      <td>-44.265018</td>\n",
       "      <td>54.0</td>\n",
       "    </tr>\n",
       "    <tr>\n",
       "      <th>1</th>\n",
       "      <td>-44.265018</td>\n",
       "      <td>92.0</td>\n",
       "    </tr>\n",
       "    <tr>\n",
       "      <th>2</th>\n",
       "      <td>-44.265018</td>\n",
       "      <td>59.0</td>\n",
       "    </tr>\n",
       "    <tr>\n",
       "      <th>3</th>\n",
       "      <td>-44.265018</td>\n",
       "      <td>53.0</td>\n",
       "    </tr>\n",
       "  </tbody>\n",
       "</table>\n",
       "</div>"
      ],
      "text/plain": [
       "   Train Predictions  Actuals\n",
       "0         -44.265018     54.0\n",
       "1         -44.265018     92.0\n",
       "2         -44.265018     59.0\n",
       "3         -44.265018     53.0"
      ]
     },
     "execution_count": 32,
     "metadata": {},
     "output_type": "execute_result"
    }
   ],
   "source": [
    "train_predictions = model1.predict(X_train1).flatten()\n",
    "train_results = pd.DataFrame(data={'Train Predictions':train_predictions, 'Actuals':y_train1})\n",
    "train_results"
   ]
  },
  {
   "cell_type": "code",
   "execution_count": 33,
   "metadata": {
    "collapsed": false,
    "pycharm": {
     "name": "#%%\n"
    }
   },
   "outputs": [
    {
     "data": {
      "text/plain": [
       "<matplotlib.legend.Legend at 0x7fd01c268130>"
      ]
     },
     "execution_count": 33,
     "metadata": {},
     "output_type": "execute_result"
    },
    {
     "data": {
      "image/png": "[encoded data removed]",
      "text/plain": [
       "<Figure size 432x288 with 1 Axes>"
      ]
     },
     "metadata": {
      "needs_background": "light"
     },
     "output_type": "display_data"
    }
   ],
   "source": [
    "plt.plot(train_results['Train Predictions'])\n",
    "plt.plot(train_results['Actuals'])\n",
    "plt.legend(['Prediction', 'Actual'], loc='lower right')"
   ]
  },
  {
   "cell_type": "code",
   "execution_count": 34,
   "metadata": {
    "collapsed": false,
    "pycharm": {
     "name": "#%%\n"
    }
   },
   "outputs": [
    {
     "name": "stdout",
     "output_type": "stream",
     "text": [
      "1/1 [==============================] - 0s 15ms/step\n"
     ]
    },
    {
     "data": {
      "text/html": [
       "<div>\n",
       "<style scoped>\n",
       "    .dataframe tbody tr th:only-of-type {\n",
       "        vertical-align: middle;\n",
       "    }\n",
       "\n",
       "    .dataframe tbody tr th {\n",
       "        vertical-align: top;\n",
       "    }\n",
       "\n",
       "    .dataframe thead th {\n",
       "        text-align: right;\n",
       "    }\n",
       "</style>\n",
       "<table border=\"1\" class=\"dataframe\">\n",
       "  <thead>\n",
       "    <tr style=\"text-align: right;\">\n",
       "      <th></th>\n",
       "      <th>Val Predictions</th>\n",
       "      <th>Actuals</th>\n",
       "    </tr>\n",
       "  </thead>\n",
       "  <tbody>\n",
       "    <tr>\n",
       "      <th>0</th>\n",
       "      <td>157418496.0</td>\n",
       "      <td>76.0</td>\n",
       "    </tr>\n",
       "    <tr>\n",
       "      <th>1</th>\n",
       "      <td>170656656.0</td>\n",
       "      <td>70.0</td>\n",
       "    </tr>\n",
       "  </tbody>\n",
       "</table>\n",
       "</div>"
      ],
      "text/plain": [
       "   Val Predictions  Actuals\n",
       "0      157418496.0     76.0\n",
       "1      170656656.0     70.0"
      ]
     },
     "execution_count": 34,
     "metadata": {},
     "output_type": "execute_result"
    }
   ],
   "source": [
    "val_predictions2 = model1.predict(X_val1).flatten()\n",
    "val_results2 = pd.DataFrame(data={'Val Predictions':val_predictions2, 'Actuals':y_val1})\n",
    "val_results2"
   ]
  },
  {
   "cell_type": "code",
   "execution_count": 35,
   "metadata": {
    "collapsed": false,
    "pycharm": {
     "name": "#%%\n"
    }
   },
   "outputs": [],
   "source": [
    "# plt.plot(val_results['Val Predictions'])\n",
    "# plt.plot(val_results['Actuals'])"
   ]
  },
  {
   "cell_type": "code",
   "execution_count": 36,
   "metadata": {
    "collapsed": false,
    "pycharm": {
     "name": "#%%\n"
    }
   },
   "outputs": [
    {
     "name": "stdout",
     "output_type": "stream",
     "text": [
      "1/1 [==============================] - 0s 15ms/step\n"
     ]
    },
    {
     "data": {
      "text/html": [
       "<div>\n",
       "<style scoped>\n",
       "    .dataframe tbody tr th:only-of-type {\n",
       "        vertical-align: middle;\n",
       "    }\n",
       "\n",
       "    .dataframe tbody tr th {\n",
       "        vertical-align: top;\n",
       "    }\n",
       "\n",
       "    .dataframe thead th {\n",
       "        text-align: right;\n",
       "    }\n",
       "</style>\n",
       "<table border=\"1\" class=\"dataframe\">\n",
       "  <thead>\n",
       "    <tr style=\"text-align: right;\">\n",
       "      <th></th>\n",
       "      <th>Train Predictions</th>\n",
       "      <th>Actuals</th>\n",
       "    </tr>\n",
       "  </thead>\n",
       "  <tbody>\n",
       "    <tr>\n",
       "      <th>0</th>\n",
       "      <td>-44.265018</td>\n",
       "      <td>115.0</td>\n",
       "    </tr>\n",
       "    <tr>\n",
       "      <th>1</th>\n",
       "      <td>-44.265018</td>\n",
       "      <td>102.0</td>\n",
       "    </tr>\n",
       "  </tbody>\n",
       "</table>\n",
       "</div>"
      ],
      "text/plain": [
       "   Train Predictions  Actuals\n",
       "0         -44.265018    115.0\n",
       "1         -44.265018    102.0"
      ]
     },
     "execution_count": 36,
     "metadata": {},
     "output_type": "execute_result"
    }
   ],
   "source": [
    "test_predictions2 = model1.predict(X_test1).flatten()\n",
    "test_results2 = pd.DataFrame(data={'Train Predictions':test_predictions2, 'Actuals':y_test1})\n",
    "test_results2"
   ]
  },
  {
   "cell_type": "code",
   "execution_count": 37,
   "metadata": {},
   "outputs": [
    {
     "name": "stdout",
     "output_type": "stream",
     "text": [
      "MAPE = 140.9441986636839\n"
     ]
    }
   ],
   "source": [
    "lstm_mape=np.mean(np.abs((y_test1 - test_predictions2)/y_test1))*100\n",
    "print(\"MAPE =\",lstm_mape)"
   ]
  },
  {
   "cell_type": "code",
   "execution_count": 38,
   "metadata": {},
   "outputs": [
    {
     "name": "stdout",
     "output_type": "stream",
     "text": [
      "dict_keys(['loss', 'mean_absolute_percentage_error', 'val_loss', 'val_mean_absolute_percentage_error'])\n"
     ]
    },
    {
     "data": {
      "image/png": "[encoded data removed]",
      "text/plain": [
       "<Figure size 576x432 with 1 Axes>"
      ]
     },
     "metadata": {
      "needs_background": "light"
     },
     "output_type": "display_data"
    }
   ],
   "source": [
    "history = model1.fit(X_train1, y_train1, validation_data=(X_val1, y_val1), epochs=100, verbose=0)  #..., callbacks=[cp1], verbose=0)\n",
    "print(history.history.keys())\n",
    "\n",
    "figure(figsize=(8, 6))\n",
    "plt.plot(history.history['loss'])\n",
    "plt.plot(history.history['val_loss'])\n",
    "plt.title('model loss')\n",
    "plt.ylabel('loss')\n",
    "plt.xlabel('epoch')\n",
    "plt.legend(['train', 'test'], loc='upper left')\n",
    "plt.show()"
   ]
  },
  {
   "cell_type": "code",
   "execution_count": 41,
   "metadata": {},
   "outputs": [
    {
     "name": "stdout",
     "output_type": "stream",
     "text": [
      "1/1 [==============================] - 0s 14ms/step\n",
      "1/1 [==============================] - 0s 15ms/step\n",
      "1/1 [==============================] - 0s 15ms/step\n"
     ]
    }
   ],
   "source": [
    "losses_new_2=losses.copy()\n",
    "for i in [2020,2021,2022]:\n",
    "    new=asarray([[[losses_new_2[\"Actual\"].loc[\"Y\"+str(i-2)]],[losses_new_2[\"Actual\"].loc[\"Y\"+str(i-1)]]]])\n",
    "    new[0]=scalers[1].transform(new[0])\n",
    "    new=tf.convert_to_tensor(new, dtype=tf.int64)\n",
    "    new_out=model1.predict(new).flatten()\n",
    "    new_out=pd.DataFrame(new_out, index=[\"Y\"+str(i)], columns=[\"Actual\"])\n",
    "    losses_new_2=pd.concat([losses_new_2,new_out])"
   ]
  },
  {
   "cell_type": "code",
   "execution_count": 42,
   "metadata": {},
   "outputs": [
    {
     "data": {
      "text/html": [
       "<div>\n",
       "<style scoped>\n",
       "    .dataframe tbody tr th:only-of-type {\n",
       "        vertical-align: middle;\n",
       "    }\n",
       "\n",
       "    .dataframe tbody tr th {\n",
       "        vertical-align: top;\n",
       "    }\n",
       "\n",
       "    .dataframe thead th {\n",
       "        text-align: right;\n",
       "    }\n",
       "</style>\n",
       "<table border=\"1\" class=\"dataframe\">\n",
       "  <thead>\n",
       "    <tr style=\"text-align: right;\">\n",
       "      <th></th>\n",
       "      <th>Actual</th>\n",
       "      <th>MeanBasedPred</th>\n",
       "      <th>Actual Loss</th>\n",
       "    </tr>\n",
       "  </thead>\n",
       "  <tbody>\n",
       "    <tr>\n",
       "      <th>Y2010</th>\n",
       "      <td>31.0</td>\n",
       "      <td>31.0</td>\n",
       "      <td>31.0</td>\n",
       "    </tr>\n",
       "    <tr>\n",
       "      <th>Y2011</th>\n",
       "      <td>55.0</td>\n",
       "      <td>31.0</td>\n",
       "      <td>55.0</td>\n",
       "    </tr>\n",
       "    <tr>\n",
       "      <th>Y2012</th>\n",
       "      <td>54.0</td>\n",
       "      <td>43.0</td>\n",
       "      <td>54.0</td>\n",
       "    </tr>\n",
       "    <tr>\n",
       "      <th>Y2013</th>\n",
       "      <td>92.0</td>\n",
       "      <td>54.5</td>\n",
       "      <td>92.0</td>\n",
       "    </tr>\n",
       "    <tr>\n",
       "      <th>Y2014</th>\n",
       "      <td>59.0</td>\n",
       "      <td>73.0</td>\n",
       "      <td>59.0</td>\n",
       "    </tr>\n",
       "    <tr>\n",
       "      <th>Y2015</th>\n",
       "      <td>53.0</td>\n",
       "      <td>75.5</td>\n",
       "      <td>53.0</td>\n",
       "    </tr>\n",
       "    <tr>\n",
       "      <th>Y2016</th>\n",
       "      <td>76.0</td>\n",
       "      <td>56.0</td>\n",
       "      <td>76.0</td>\n",
       "    </tr>\n",
       "    <tr>\n",
       "      <th>Y2017</th>\n",
       "      <td>70.0</td>\n",
       "      <td>64.5</td>\n",
       "      <td>70.0</td>\n",
       "    </tr>\n",
       "    <tr>\n",
       "      <th>Y2018</th>\n",
       "      <td>115.0</td>\n",
       "      <td>73.0</td>\n",
       "      <td>115.0</td>\n",
       "    </tr>\n",
       "    <tr>\n",
       "      <th>Y2019</th>\n",
       "      <td>102.0</td>\n",
       "      <td>92.5</td>\n",
       "      <td>102.0</td>\n",
       "    </tr>\n",
       "    <tr>\n",
       "      <th>Y2020</th>\n",
       "      <td>33599596.0</td>\n",
       "      <td>NaN</td>\n",
       "      <td>NaN</td>\n",
       "    </tr>\n",
       "    <tr>\n",
       "      <th>Y2021</th>\n",
       "      <td>107587856.0</td>\n",
       "      <td>NaN</td>\n",
       "      <td>NaN</td>\n",
       "    </tr>\n",
       "    <tr>\n",
       "      <th>Y2022</th>\n",
       "      <td>174189840.0</td>\n",
       "      <td>NaN</td>\n",
       "      <td>NaN</td>\n",
       "    </tr>\n",
       "  </tbody>\n",
       "</table>\n",
       "</div>"
      ],
      "text/plain": [
       "            Actual  MeanBasedPred Actual Loss\n",
       "Y2010         31.0           31.0        31.0\n",
       "Y2011         55.0           31.0        55.0\n",
       "Y2012         54.0           43.0        54.0\n",
       "Y2013         92.0           54.5        92.0\n",
       "Y2014         59.0           73.0        59.0\n",
       "Y2015         53.0           75.5        53.0\n",
       "Y2016         76.0           56.0        76.0\n",
       "Y2017         70.0           64.5        70.0\n",
       "Y2018        115.0           73.0       115.0\n",
       "Y2019        102.0           92.5       102.0\n",
       "Y2020   33599596.0            NaN         NaN\n",
       "Y2021  107587856.0            NaN         NaN\n",
       "Y2022  174189840.0            NaN         NaN"
      ]
     },
     "execution_count": 42,
     "metadata": {},
     "output_type": "execute_result"
    }
   ],
   "source": [
    "losses_new_2"
   ]
  },
  {
   "cell_type": "markdown",
   "metadata": {},
   "source": [
    "# GRU MODEL"
   ]
  },
  {
   "cell_type": "code",
   "execution_count": 43,
   "metadata": {
    "collapsed": false,
    "pycharm": {
     "name": "#%%\n"
    }
   },
   "outputs": [
    {
     "name": "stdout",
     "output_type": "stream",
     "text": [
      "Model: \"sequential_1\"\n",
      "_________________________________________________________________\n",
      " Layer (type)                Output Shape              Param #   \n",
      "=================================================================\n",
      " gru (GRU)                   (None, 64)                12864     \n",
      "                                                                 \n",
      " dense_3 (Dense)             (None, 50)                3250      \n",
      "                                                                 \n",
      " dense_4 (Dense)             (None, 50)                2550      \n",
      "                                                                 \n",
      " dense_5 (Dense)             (None, 1)                 51        \n",
      "                                                                 \n",
      "=================================================================\n",
      "Total params: 18,715\n",
      "Trainable params: 18,715\n",
      "Non-trainable params: 0\n",
      "_________________________________________________________________\n"
     ]
    }
   ],
   "source": [
    "def by_gru():\n",
    "    model3 = Sequential()\n",
    "    model3.add(InputLayer((2, 1)))\n",
    "    model3.add(GRU(64))\n",
    "    model3.add(Dense(50, 'relu'))\n",
    "    model3.add(Dense(50, 'relu'))\n",
    "    model3.add(Dense(1, 'linear'))\n",
    "    model3.summary()\n",
    "\n",
    "    cp3 = ModelCheckpoint('model3/', save_best_only=True)\n",
    "    model3.compile(loss=MeanAbsolutePercentageError(), optimizer=Adam(learning_rate=0.1), metrics=[MeanAbsolutePercentageError()])\n",
    "    return model3\n",
    "\n",
    "model3=by_gru()"
   ]
  },
  {
   "cell_type": "code",
   "execution_count": 44,
   "metadata": {},
   "outputs": [
    {
     "ename": "NameError",
     "evalue": "name 'cp3' is not defined",
     "output_type": "error",
     "traceback": [
      "\u001b[0;31m---------------------------------------------------------------------------\u001b[0m",
      "\u001b[0;31mNameError\u001b[0m                                 Traceback (most recent call last)",
      "\u001b[1;32m/Users/murathansaygili/Desktop/SIC/Food-Supply-Chain/module_1.ipynb Cell 43\u001b[0m in \u001b[0;36m<cell line: 1>\u001b[0;34m()\u001b[0m\n\u001b[0;32m----> <a href='vscode-notebook-cell:/Users/murathansaygili/Desktop/SIC/Food-Supply-Chain/module_1.ipynb#ch0000042?line=0'>1</a>\u001b[0m history\u001b[39m=\u001b[39mmodel3\u001b[39m.\u001b[39mfit(X_train1, y_train1, validation_data\u001b[39m=\u001b[39m(X_val1, y_val1), epochs\u001b[39m=\u001b[39m\u001b[39m200\u001b[39m, callbacks\u001b[39m=\u001b[39m[cp3])\n",
      "\u001b[0;31mNameError\u001b[0m: name 'cp3' is not defined"
     ]
    }
   ],
   "source": [
    "history=model3.fit(X_train1, y_train1, validation_data=(X_val1, y_val1), epochs=200, callbacks=[cp3])"
   ]
  },
  {
   "cell_type": "code",
   "execution_count": null,
   "metadata": {},
   "outputs": [
    {
     "name": "stdout",
     "output_type": "stream",
     "text": [
      "1/1 [==============================] - 0s 309ms/step\n"
     ]
    },
    {
     "data": {
      "text/html": [
       "<div>\n",
       "<style scoped>\n",
       "    .dataframe tbody tr th:only-of-type {\n",
       "        vertical-align: middle;\n",
       "    }\n",
       "\n",
       "    .dataframe tbody tr th {\n",
       "        vertical-align: top;\n",
       "    }\n",
       "\n",
       "    .dataframe thead th {\n",
       "        text-align: right;\n",
       "    }\n",
       "</style>\n",
       "<table border=\"1\" class=\"dataframe\">\n",
       "  <thead>\n",
       "    <tr style=\"text-align: right;\">\n",
       "      <th></th>\n",
       "      <th>Train Predictions</th>\n",
       "      <th>Actuals</th>\n",
       "    </tr>\n",
       "  </thead>\n",
       "  <tbody>\n",
       "    <tr>\n",
       "      <th>0</th>\n",
       "      <td>4.996025</td>\n",
       "      <td>5.0</td>\n",
       "    </tr>\n",
       "    <tr>\n",
       "      <th>1</th>\n",
       "      <td>3.998509</td>\n",
       "      <td>4.0</td>\n",
       "    </tr>\n",
       "    <tr>\n",
       "      <th>2</th>\n",
       "      <td>5.795454</td>\n",
       "      <td>6.0</td>\n",
       "    </tr>\n",
       "    <tr>\n",
       "      <th>3</th>\n",
       "      <td>4.989415</td>\n",
       "      <td>5.0</td>\n",
       "    </tr>\n",
       "  </tbody>\n",
       "</table>\n",
       "</div>"
      ],
      "text/plain": [
       "   Train Predictions  Actuals\n",
       "0           4.996025      5.0\n",
       "1           3.998509      4.0\n",
       "2           5.795454      6.0\n",
       "3           4.989415      5.0"
      ]
     },
     "execution_count": 746,
     "metadata": {},
     "output_type": "execute_result"
    }
   ],
   "source": [
    "# model3 = load_model('model3/')\n",
    "train_predictions3 = model3.predict(X_train1).flatten()\n",
    "train_results3 = pd.DataFrame(data={'Train Predictions':train_predictions3, 'Actuals':y_train1})\n",
    "train_results3"
   ]
  },
  {
   "cell_type": "code",
   "execution_count": null,
   "metadata": {},
   "outputs": [
    {
     "data": {
      "text/plain": [
       "Text(0.5, 1.0, 'GRU')"
      ]
     },
     "execution_count": 747,
     "metadata": {},
     "output_type": "execute_result"
    },
    {
     "data": {
      "image/png": "[encoded data removed]",
      "text/plain": [
       "<Figure size 432x288 with 1 Axes>"
      ]
     },
     "metadata": {
      "needs_background": "light"
     },
     "output_type": "display_data"
    }
   ],
   "source": [
    "train_results3.index=['2013','2014','2015','2016']\n",
    "plt.plot(train_results3['Train Predictions'])\n",
    "plt.plot(train_results3['Actuals'])\n",
    "\n",
    "plt.legend(['Prediction', 'Actual'], loc='lower right')\n",
    "# plt.ylim(20000,,30000)\n",
    "pyplot.xlabel(\"Years\")\n",
    "pyplot.ylabel(\"Food Loss\")\n",
    "plt.title(\"GRU\")\n",
    "# plt.ylim(20000,28000)"
   ]
  },
  {
   "cell_type": "code",
   "execution_count": null,
   "metadata": {},
   "outputs": [
    {
     "name": "stdout",
     "output_type": "stream",
     "text": [
      "1/1 [==============================] - 0s 15ms/step\n"
     ]
    },
    {
     "data": {
      "text/plain": [
       "Text(0.5, 1.0, 'GRU')"
      ]
     },
     "execution_count": 748,
     "metadata": {},
     "output_type": "execute_result"
    },
    {
     "data": {
      "image/png": "[encoded data removed]",
      "text/plain": [
       "<Figure size 432x288 with 1 Axes>"
      ]
     },
     "metadata": {
      "needs_background": "light"
     },
     "output_type": "display_data"
    }
   ],
   "source": [
    "train_results3.index=['2013','2014','2015','2016']\n",
    "gru_preds = model3.predict(X1).flatten()\n",
    "gru_results = pd.DataFrame(data={'Train Predictions':gru_preds, 'Actuals':y1})\n",
    "\n",
    "plt.plot(gru_results['Train Predictions'])\n",
    "plt.plot(gru_results['Actuals'])\n",
    "\n",
    "plt.legend(['Prediction', 'Actual'], loc='lower right')\n",
    "# plt.ylim(20000,,30000)\n",
    "pyplot.xlabel(\"Years\")\n",
    "pyplot.ylabel(\"Food Loss\")\n",
    "plt.title(\"GRU\")\n",
    "# plt.ylim(20000,28000)"
   ]
  },
  {
   "cell_type": "code",
   "execution_count": null,
   "metadata": {},
   "outputs": [],
   "source": [
    "# # history = model3.fit(X_train1, y_train1, validation_data=(X_val1, y_val1), epochs=100, verbose=0)\n",
    "# print(history.history.keys())\n",
    "\n",
    "\n",
    "# figure(figsize=(8, 6))\n",
    "# plt.plot(history.history['mean_absolute_percentage_error'])\n",
    "# plt.plot(history.history['val_mean_absolute_percentage_error'])\n",
    "# plt.title('model loss')\n",
    "# plt.ylabel('loss')\n",
    "# plt.xlabel('epoch')\n",
    "# plt.legend(['train', 'test'], loc='upper left')\n",
    "# plt.show()"
   ]
  },
  {
   "cell_type": "code",
   "execution_count": null,
   "metadata": {},
   "outputs": [
    {
     "name": "stdout",
     "output_type": "stream",
     "text": [
      "1/1 [==============================] - 0s 15ms/step\n"
     ]
    },
    {
     "data": {
      "text/html": [
       "<div>\n",
       "<style scoped>\n",
       "    .dataframe tbody tr th:only-of-type {\n",
       "        vertical-align: middle;\n",
       "    }\n",
       "\n",
       "    .dataframe tbody tr th {\n",
       "        vertical-align: top;\n",
       "    }\n",
       "\n",
       "    .dataframe thead th {\n",
       "        text-align: right;\n",
       "    }\n",
       "</style>\n",
       "<table border=\"1\" class=\"dataframe\">\n",
       "  <thead>\n",
       "    <tr style=\"text-align: right;\">\n",
       "      <th></th>\n",
       "      <th>Val Predictions</th>\n",
       "      <th>Actuals</th>\n",
       "    </tr>\n",
       "  </thead>\n",
       "  <tbody>\n",
       "    <tr>\n",
       "      <th>0</th>\n",
       "      <td>2.880883</td>\n",
       "      <td>6.0</td>\n",
       "    </tr>\n",
       "    <tr>\n",
       "      <th>1</th>\n",
       "      <td>4.622295</td>\n",
       "      <td>6.0</td>\n",
       "    </tr>\n",
       "  </tbody>\n",
       "</table>\n",
       "</div>"
      ],
      "text/plain": [
       "   Val Predictions  Actuals\n",
       "0         2.880883      6.0\n",
       "1         4.622295      6.0"
      ]
     },
     "execution_count": 750,
     "metadata": {},
     "output_type": "execute_result"
    }
   ],
   "source": [
    "val_predictions3 = model3.predict(X_val1).flatten()\n",
    "val_results3 = pd.DataFrame(data={'Val Predictions':val_predictions3, 'Actuals':y_val1})\n",
    "val_results3"
   ]
  },
  {
   "cell_type": "code",
   "execution_count": null,
   "metadata": {},
   "outputs": [
    {
     "name": "stdout",
     "output_type": "stream",
     "text": [
      "1/1 [==============================] - 0s 15ms/step\n"
     ]
    },
    {
     "data": {
      "text/html": [
       "<div>\n",
       "<style scoped>\n",
       "    .dataframe tbody tr th:only-of-type {\n",
       "        vertical-align: middle;\n",
       "    }\n",
       "\n",
       "    .dataframe tbody tr th {\n",
       "        vertical-align: top;\n",
       "    }\n",
       "\n",
       "    .dataframe thead th {\n",
       "        text-align: right;\n",
       "    }\n",
       "</style>\n",
       "<table border=\"1\" class=\"dataframe\">\n",
       "  <thead>\n",
       "    <tr style=\"text-align: right;\">\n",
       "      <th></th>\n",
       "      <th>Test Predictions</th>\n",
       "      <th>Actuals</th>\n",
       "    </tr>\n",
       "  </thead>\n",
       "  <tbody>\n",
       "    <tr>\n",
       "      <th>0</th>\n",
       "      <td>2.589651</td>\n",
       "      <td>5.0</td>\n",
       "    </tr>\n",
       "    <tr>\n",
       "      <th>1</th>\n",
       "      <td>3.050716</td>\n",
       "      <td>6.0</td>\n",
       "    </tr>\n",
       "  </tbody>\n",
       "</table>\n",
       "</div>"
      ],
      "text/plain": [
       "   Test Predictions  Actuals\n",
       "0          2.589651      5.0\n",
       "1          3.050716      6.0"
      ]
     },
     "execution_count": 753,
     "metadata": {},
     "output_type": "execute_result"
    }
   ],
   "source": [
    "# test_predictions3=tf.convert_to_tensor(test_predictions3, dtype=tf.int64)\n",
    "test_predictions3 = model3.predict(X_test1).flatten()\n",
    "test_results3 = pd.DataFrame(data={'Test Predictions':test_predictions3, 'Actuals':y_test1})\n",
    "test_results3"
   ]
  },
  {
   "cell_type": "code",
   "execution_count": null,
   "metadata": {},
   "outputs": [],
   "source": [
    "gru_mape=np.mean(np.abs((y_test1 - test_predictions3)/y_test1))*100"
   ]
  },
  {
   "cell_type": "code",
   "execution_count": null,
   "metadata": {},
   "outputs": [
    {
     "data": {
      "text/plain": [
       "(12.5, 10.996091849366437, 912.7699915568033, 48.68085662523905)"
      ]
     },
     "execution_count": 756,
     "metadata": {},
     "output_type": "execute_result"
    }
   ],
   "source": [
    "mape_mean,arima_mape,lstm_mape,gru_mape"
   ]
  },
  {
   "cell_type": "code",
   "execution_count": null,
   "metadata": {},
   "outputs": [
    {
     "name": "stdout",
     "output_type": "stream",
     "text": [
      "1/1 [==============================] - 0s 303ms/step\n",
      "1/1 [==============================] - 0s 15ms/step\n",
      "1/1 [==============================] - 0s 14ms/step\n"
     ]
    }
   ],
   "source": [
    "losses_new=losses.copy()\n",
    "for i in [2020,2021,2022]:\n",
    "    new=asarray([[[losses_new[\"Actual\"].loc[\"Y\"+str(i-2)]],[losses_new[\"Actual\"].loc[\"Y\"+str(i-1)]]]])\n",
    "    new[0]=scalers[1].transform(new[0])\n",
    "    new=tf.convert_to_tensor(new, dtype=tf.int64)\n",
    "    new_out=model3.predict(new).flatten()\n",
    "    new_out=pd.DataFrame(new_out, index=[\"Y\"+str(i)], columns=[\"Actual\"])\n",
    "    losses_new=pd.concat([losses_new,new_out])"
   ]
  },
  {
   "cell_type": "code",
   "execution_count": null,
   "metadata": {},
   "outputs": [
    {
     "data": {
      "text/html": [
       "<div>\n",
       "<style scoped>\n",
       "    .dataframe tbody tr th:only-of-type {\n",
       "        vertical-align: middle;\n",
       "    }\n",
       "\n",
       "    .dataframe tbody tr th {\n",
       "        vertical-align: top;\n",
       "    }\n",
       "\n",
       "    .dataframe thead th {\n",
       "        text-align: right;\n",
       "    }\n",
       "</style>\n",
       "<table border=\"1\" class=\"dataframe\">\n",
       "  <thead>\n",
       "    <tr style=\"text-align: right;\">\n",
       "      <th></th>\n",
       "      <th>Actual</th>\n",
       "      <th>MeanBasedPred</th>\n",
       "    </tr>\n",
       "  </thead>\n",
       "  <tbody>\n",
       "    <tr>\n",
       "      <th>Y2010</th>\n",
       "      <td>4.0</td>\n",
       "      <td>4.0</td>\n",
       "    </tr>\n",
       "    <tr>\n",
       "      <th>Y2011</th>\n",
       "      <td>5.0</td>\n",
       "      <td>4.0</td>\n",
       "    </tr>\n",
       "    <tr>\n",
       "      <th>Y2012</th>\n",
       "      <td>5.0</td>\n",
       "      <td>4.5</td>\n",
       "    </tr>\n",
       "    <tr>\n",
       "      <th>Y2013</th>\n",
       "      <td>4.0</td>\n",
       "      <td>5.0</td>\n",
       "    </tr>\n",
       "    <tr>\n",
       "      <th>Y2014</th>\n",
       "      <td>6.0</td>\n",
       "      <td>4.5</td>\n",
       "    </tr>\n",
       "    <tr>\n",
       "      <th>Y2015</th>\n",
       "      <td>5.0</td>\n",
       "      <td>5.0</td>\n",
       "    </tr>\n",
       "    <tr>\n",
       "      <th>Y2016</th>\n",
       "      <td>6.0</td>\n",
       "      <td>5.5</td>\n",
       "    </tr>\n",
       "    <tr>\n",
       "      <th>Y2017</th>\n",
       "      <td>6.0</td>\n",
       "      <td>5.5</td>\n",
       "    </tr>\n",
       "    <tr>\n",
       "      <th>Y2018</th>\n",
       "      <td>5.0</td>\n",
       "      <td>6.0</td>\n",
       "    </tr>\n",
       "    <tr>\n",
       "      <th>Y2019</th>\n",
       "      <td>6.0</td>\n",
       "      <td>5.5</td>\n",
       "    </tr>\n",
       "    <tr>\n",
       "      <th>Y2020</th>\n",
       "      <td>4.220617</td>\n",
       "      <td>NaN</td>\n",
       "    </tr>\n",
       "    <tr>\n",
       "      <th>Y2021</th>\n",
       "      <td>5.158131</td>\n",
       "      <td>NaN</td>\n",
       "    </tr>\n",
       "    <tr>\n",
       "      <th>Y2022</th>\n",
       "      <td>4.996025</td>\n",
       "      <td>NaN</td>\n",
       "    </tr>\n",
       "  </tbody>\n",
       "</table>\n",
       "</div>"
      ],
      "text/plain": [
       "         Actual  MeanBasedPred\n",
       "Y2010       4.0            4.0\n",
       "Y2011       5.0            4.0\n",
       "Y2012       5.0            4.5\n",
       "Y2013       4.0            5.0\n",
       "Y2014       6.0            4.5\n",
       "Y2015       5.0            5.0\n",
       "Y2016       6.0            5.5\n",
       "Y2017       6.0            5.5\n",
       "Y2018       5.0            6.0\n",
       "Y2019       6.0            5.5\n",
       "Y2020  4.220617            NaN\n",
       "Y2021  5.158131            NaN\n",
       "Y2022  4.996025            NaN"
      ]
     },
     "execution_count": 758,
     "metadata": {},
     "output_type": "execute_result"
    }
   ],
   "source": [
    "losses_new"
   ]
  }
 ],
 "metadata": {
  "kernelspec": {
   "display_name": "Python 3.9.0 ('venv')",
   "language": "python",
   "name": "python3"
  },
  "language_info": {
   "codemirror_mode": {
    "name": "ipython",
    "version": 3
   },
   "file_extension": ".py",
   "mimetype": "text/x-python",
   "name": "python",
   "nbconvert_exporter": "python",
   "pygments_lexer": "ipython3",
   "version": "3.9.0"
  },
  "vscode": {
   "interpreter": {
    "hash": "713654384febb35868ed951ad9309a525cf553cdc72ed92d2edb347802f3b56b"
   }
  }
 },
 "nbformat": 4,
 "nbformat_minor": 0
}
