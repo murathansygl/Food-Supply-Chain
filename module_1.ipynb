{
 "cells": [
  {
   "cell_type": "code",
   "execution_count": 158,
   "metadata": {
    "collapsed": false,
    "pycharm": {
     "name": "#%%\n"
    }
   },
   "outputs": [
    {
     "name": "stderr",
     "output_type": "stream",
     "text": [
      "/var/folders/t6/nkv95bj97gv9j73w9bfk2p0r0000gn/T/ipykernel_1364/653870862.py:26: FutureWarning: The pandas.datetime class is deprecated and will be removed from pandas in a future version. Import from datetime module instead.\n",
      "  from pandas import datetime\n"
     ]
    }
   ],
   "source": [
    "import pandas as pd\n",
    "import plotly.express as px\n",
    "import matplotlib.pyplot as plt\n",
    "import numpy as np\n",
    "import math\n",
    "from keras import Sequential\n",
    "from keras.layers import LSTM, Dropout, Dense\n",
    "from keras.wrappers.scikit_learn import KerasRegressor\n",
    "from plotly.subplots import make_subplots\n",
    "import plotly.graph_objects as go\n",
    "from sklearn.model_selection import GridSearchCV\n",
    "from sklearn import metrics\n",
    "from sklearn.preprocessing import LabelEncoder, MinMaxScaler, StandardScaler\n",
    "\n",
    "import tensorflow as tf\n",
    "from tensorboard.plugins.hparams import api as hp\n",
    "from tensorflow.keras.models import Sequential,load_model\n",
    "from tensorflow.keras.layers import *\n",
    "from tensorflow.keras.callbacks import ModelCheckpoint\n",
    "from tensorflow.keras.losses import MeanSquaredError, MeanAbsolutePercentageError\n",
    "from tensorflow.keras.metrics import RootMeanSquaredError\n",
    "from tensorflow.keras.optimizers import Adam\n",
    "from math import sqrt\n",
    "from sklearn.metrics import mean_squared_error\n",
    "from sklearn.metrics import mean_absolute_error\n",
    "from pandas import datetime\n",
    "from pandas import DataFrame\n",
    "from statsmodels.tsa.arima.model import ARIMA\n",
    "from matplotlib import pyplot\n",
    "from matplotlib.pyplot import figure"
   ]
  },
  {
   "cell_type": "code",
   "execution_count": 131,
   "metadata": {
    "collapsed": false,
    "pycharm": {
     "name": "#%%\n"
    }
   },
   "outputs": [],
   "source": [
    "df=pd.read_csv(\"Data/FoodBalanceSheets_E_All_Data/FoodBalanceSheets_E_All_Data_NOFLAG.csv\", encoding=\"latin-1\")"
   ]
  },
  {
   "cell_type": "code",
   "execution_count": 132,
   "metadata": {
    "collapsed": false,
    "pycharm": {
     "name": "#%%\n"
    }
   },
   "outputs": [
    {
     "data": {
      "text/html": [
       "<div>\n",
       "<style scoped>\n",
       "    .dataframe tbody tr th:only-of-type {\n",
       "        vertical-align: middle;\n",
       "    }\n",
       "\n",
       "    .dataframe tbody tr th {\n",
       "        vertical-align: top;\n",
       "    }\n",
       "\n",
       "    .dataframe thead th {\n",
       "        text-align: right;\n",
       "    }\n",
       "</style>\n",
       "<table border=\"1\" class=\"dataframe\">\n",
       "  <thead>\n",
       "    <tr style=\"text-align: right;\">\n",
       "      <th></th>\n",
       "      <th>Area</th>\n",
       "      <th>Item</th>\n",
       "      <th>Element</th>\n",
       "      <th>Unit</th>\n",
       "      <th>Y2010</th>\n",
       "      <th>Y2011</th>\n",
       "      <th>Y2012</th>\n",
       "      <th>Y2013</th>\n",
       "      <th>Y2014</th>\n",
       "      <th>Y2015</th>\n",
       "      <th>Y2016</th>\n",
       "      <th>Y2017</th>\n",
       "      <th>Y2018</th>\n",
       "      <th>Y2019</th>\n",
       "    </tr>\n",
       "  </thead>\n",
       "  <tbody>\n",
       "    <tr>\n",
       "      <th>0</th>\n",
       "      <td>Afghanistan</td>\n",
       "      <td>Population</td>\n",
       "      <td>Total Population - Both sexes</td>\n",
       "      <td>1000 persons</td>\n",
       "      <td>29186.00</td>\n",
       "      <td>30117.00</td>\n",
       "      <td>31161.00</td>\n",
       "      <td>32270.00</td>\n",
       "      <td>33371.00</td>\n",
       "      <td>34414.00</td>\n",
       "      <td>35383.00</td>\n",
       "      <td>36296.00</td>\n",
       "      <td>37172.00</td>\n",
       "      <td>38042.00</td>\n",
       "    </tr>\n",
       "    <tr>\n",
       "      <th>1</th>\n",
       "      <td>Afghanistan</td>\n",
       "      <td>Population</td>\n",
       "      <td>Domestic supply quantity</td>\n",
       "      <td>1000 tonnes</td>\n",
       "      <td>0.00</td>\n",
       "      <td>0.00</td>\n",
       "      <td>0.00</td>\n",
       "      <td>0.00</td>\n",
       "      <td>0.00</td>\n",
       "      <td>0.00</td>\n",
       "      <td>0.00</td>\n",
       "      <td>0.00</td>\n",
       "      <td>0.00</td>\n",
       "      <td>0.00</td>\n",
       "    </tr>\n",
       "    <tr>\n",
       "      <th>2</th>\n",
       "      <td>Afghanistan</td>\n",
       "      <td>Grand Total</td>\n",
       "      <td>Food supply (kcal/capita/day)</td>\n",
       "      <td>kcal/capita/day</td>\n",
       "      <td>2170.00</td>\n",
       "      <td>2152.00</td>\n",
       "      <td>2159.00</td>\n",
       "      <td>2196.00</td>\n",
       "      <td>2265.00</td>\n",
       "      <td>2250.00</td>\n",
       "      <td>2228.00</td>\n",
       "      <td>2303.00</td>\n",
       "      <td>2270.00</td>\n",
       "      <td>2273.00</td>\n",
       "    </tr>\n",
       "    <tr>\n",
       "      <th>3</th>\n",
       "      <td>Afghanistan</td>\n",
       "      <td>Grand Total</td>\n",
       "      <td>Protein supply quantity (g/capita/day)</td>\n",
       "      <td>g/capita/day</td>\n",
       "      <td>59.23</td>\n",
       "      <td>58.00</td>\n",
       "      <td>57.82</td>\n",
       "      <td>57.71</td>\n",
       "      <td>60.17</td>\n",
       "      <td>58.45</td>\n",
       "      <td>58.46</td>\n",
       "      <td>59.50</td>\n",
       "      <td>57.62</td>\n",
       "      <td>57.31</td>\n",
       "    </tr>\n",
       "    <tr>\n",
       "      <th>4</th>\n",
       "      <td>Afghanistan</td>\n",
       "      <td>Grand Total</td>\n",
       "      <td>Fat supply quantity (g/capita/day)</td>\n",
       "      <td>g/capita/day</td>\n",
       "      <td>36.69</td>\n",
       "      <td>34.81</td>\n",
       "      <td>36.53</td>\n",
       "      <td>37.10</td>\n",
       "      <td>41.48</td>\n",
       "      <td>38.28</td>\n",
       "      <td>40.70</td>\n",
       "      <td>40.03</td>\n",
       "      <td>41.46</td>\n",
       "      <td>39.78</td>\n",
       "    </tr>\n",
       "    <tr>\n",
       "      <th>...</th>\n",
       "      <td>...</td>\n",
       "      <td>...</td>\n",
       "      <td>...</td>\n",
       "      <td>...</td>\n",
       "      <td>...</td>\n",
       "      <td>...</td>\n",
       "      <td>...</td>\n",
       "      <td>...</td>\n",
       "      <td>...</td>\n",
       "      <td>...</td>\n",
       "      <td>...</td>\n",
       "      <td>...</td>\n",
       "      <td>...</td>\n",
       "      <td>...</td>\n",
       "    </tr>\n",
       "    <tr>\n",
       "      <th>319738</th>\n",
       "      <td>Net Food Importing Developing Countries</td>\n",
       "      <td>Miscellaneous</td>\n",
       "      <td>Food</td>\n",
       "      <td>1000 tonnes</td>\n",
       "      <td>787.00</td>\n",
       "      <td>839.00</td>\n",
       "      <td>921.00</td>\n",
       "      <td>935.00</td>\n",
       "      <td>958.00</td>\n",
       "      <td>992.00</td>\n",
       "      <td>1032.00</td>\n",
       "      <td>1066.00</td>\n",
       "      <td>1140.00</td>\n",
       "      <td>1199.00</td>\n",
       "    </tr>\n",
       "    <tr>\n",
       "      <th>319739</th>\n",
       "      <td>Net Food Importing Developing Countries</td>\n",
       "      <td>Miscellaneous</td>\n",
       "      <td>Food supply quantity (kg/capita/yr)</td>\n",
       "      <td>kg</td>\n",
       "      <td>0.62</td>\n",
       "      <td>0.65</td>\n",
       "      <td>0.68</td>\n",
       "      <td>0.67</td>\n",
       "      <td>0.67</td>\n",
       "      <td>0.68</td>\n",
       "      <td>0.69</td>\n",
       "      <td>0.70</td>\n",
       "      <td>0.73</td>\n",
       "      <td>0.75</td>\n",
       "    </tr>\n",
       "    <tr>\n",
       "      <th>319740</th>\n",
       "      <td>Net Food Importing Developing Countries</td>\n",
       "      <td>Miscellaneous</td>\n",
       "      <td>Food supply (kcal/capita/day)</td>\n",
       "      <td>kcal/capita/day</td>\n",
       "      <td>1.00</td>\n",
       "      <td>1.00</td>\n",
       "      <td>1.00</td>\n",
       "      <td>1.00</td>\n",
       "      <td>1.00</td>\n",
       "      <td>1.00</td>\n",
       "      <td>1.00</td>\n",
       "      <td>1.00</td>\n",
       "      <td>1.00</td>\n",
       "      <td>1.00</td>\n",
       "    </tr>\n",
       "    <tr>\n",
       "      <th>319741</th>\n",
       "      <td>Net Food Importing Developing Countries</td>\n",
       "      <td>Miscellaneous</td>\n",
       "      <td>Protein supply quantity (g/capita/day)</td>\n",
       "      <td>g/capita/day</td>\n",
       "      <td>0.02</td>\n",
       "      <td>0.02</td>\n",
       "      <td>0.02</td>\n",
       "      <td>0.02</td>\n",
       "      <td>0.02</td>\n",
       "      <td>0.02</td>\n",
       "      <td>0.02</td>\n",
       "      <td>0.02</td>\n",
       "      <td>0.02</td>\n",
       "      <td>0.02</td>\n",
       "    </tr>\n",
       "    <tr>\n",
       "      <th>319742</th>\n",
       "      <td>Net Food Importing Developing Countries</td>\n",
       "      <td>Miscellaneous</td>\n",
       "      <td>Fat supply quantity (g/capita/day)</td>\n",
       "      <td>g/capita/day</td>\n",
       "      <td>0.01</td>\n",
       "      <td>0.01</td>\n",
       "      <td>0.01</td>\n",
       "      <td>0.01</td>\n",
       "      <td>0.01</td>\n",
       "      <td>0.01</td>\n",
       "      <td>0.01</td>\n",
       "      <td>0.01</td>\n",
       "      <td>0.01</td>\n",
       "      <td>0.01</td>\n",
       "    </tr>\n",
       "  </tbody>\n",
       "</table>\n",
       "<p>319743 rows × 14 columns</p>\n",
       "</div>"
      ],
      "text/plain": [
       "                                           Area           Item  \\\n",
       "0                                   Afghanistan     Population   \n",
       "1                                   Afghanistan     Population   \n",
       "2                                   Afghanistan    Grand Total   \n",
       "3                                   Afghanistan    Grand Total   \n",
       "4                                   Afghanistan    Grand Total   \n",
       "...                                         ...            ...   \n",
       "319738  Net Food Importing Developing Countries  Miscellaneous   \n",
       "319739  Net Food Importing Developing Countries  Miscellaneous   \n",
       "319740  Net Food Importing Developing Countries  Miscellaneous   \n",
       "319741  Net Food Importing Developing Countries  Miscellaneous   \n",
       "319742  Net Food Importing Developing Countries  Miscellaneous   \n",
       "\n",
       "                                       Element             Unit     Y2010  \\\n",
       "0                Total Population - Both sexes     1000 persons  29186.00   \n",
       "1                     Domestic supply quantity      1000 tonnes      0.00   \n",
       "2                Food supply (kcal/capita/day)  kcal/capita/day   2170.00   \n",
       "3       Protein supply quantity (g/capita/day)     g/capita/day     59.23   \n",
       "4           Fat supply quantity (g/capita/day)     g/capita/day     36.69   \n",
       "...                                        ...              ...       ...   \n",
       "319738                                    Food      1000 tonnes    787.00   \n",
       "319739     Food supply quantity (kg/capita/yr)               kg      0.62   \n",
       "319740           Food supply (kcal/capita/day)  kcal/capita/day      1.00   \n",
       "319741  Protein supply quantity (g/capita/day)     g/capita/day      0.02   \n",
       "319742      Fat supply quantity (g/capita/day)     g/capita/day      0.01   \n",
       "\n",
       "           Y2011     Y2012     Y2013     Y2014     Y2015     Y2016     Y2017  \\\n",
       "0       30117.00  31161.00  32270.00  33371.00  34414.00  35383.00  36296.00   \n",
       "1           0.00      0.00      0.00      0.00      0.00      0.00      0.00   \n",
       "2        2152.00   2159.00   2196.00   2265.00   2250.00   2228.00   2303.00   \n",
       "3          58.00     57.82     57.71     60.17     58.45     58.46     59.50   \n",
       "4          34.81     36.53     37.10     41.48     38.28     40.70     40.03   \n",
       "...          ...       ...       ...       ...       ...       ...       ...   \n",
       "319738    839.00    921.00    935.00    958.00    992.00   1032.00   1066.00   \n",
       "319739      0.65      0.68      0.67      0.67      0.68      0.69      0.70   \n",
       "319740      1.00      1.00      1.00      1.00      1.00      1.00      1.00   \n",
       "319741      0.02      0.02      0.02      0.02      0.02      0.02      0.02   \n",
       "319742      0.01      0.01      0.01      0.01      0.01      0.01      0.01   \n",
       "\n",
       "           Y2018     Y2019  \n",
       "0       37172.00  38042.00  \n",
       "1           0.00      0.00  \n",
       "2        2270.00   2273.00  \n",
       "3          57.62     57.31  \n",
       "4          41.46     39.78  \n",
       "...          ...       ...  \n",
       "319738   1140.00   1199.00  \n",
       "319739      0.73      0.75  \n",
       "319740      1.00      1.00  \n",
       "319741      0.02      0.02  \n",
       "319742      0.01      0.01  \n",
       "\n",
       "[319743 rows x 14 columns]"
      ]
     },
     "execution_count": 132,
     "metadata": {},
     "output_type": "execute_result"
    }
   ],
   "source": [
    "df.drop([\"Area Code\",\"Item Code\",\"Element Code\"],axis=1,inplace=True)\n",
    "df"
   ]
  },
  {
   "cell_type": "code",
   "execution_count": 133,
   "metadata": {
    "collapsed": false,
    "pycharm": {
     "name": "#%%\n"
    }
   },
   "outputs": [],
   "source": [
    "df.dropna(axis=0, inplace=True)"
   ]
  },
  {
   "cell_type": "code",
   "execution_count": 134,
   "metadata": {
    "collapsed": false,
    "pycharm": {
     "name": "#%%\n"
    }
   },
   "outputs": [],
   "source": [
    "df=df.loc[~(df.iloc[:,4:]==0).all(axis=1)]"
   ]
  },
  {
   "cell_type": "code",
   "execution_count": 135,
   "metadata": {
    "collapsed": false,
    "pycharm": {
     "name": "#%%\n"
    }
   },
   "outputs": [
    {
     "data": {
      "text/plain": [
       "Italy                                                   1144\n",
       "Australia                                               1142\n",
       "Thailand                                                1138\n",
       "Middle Africa                                           1132\n",
       "France                                                  1131\n",
       "Japan                                                   1125\n",
       "Central Asia                                            1122\n",
       "Malaysia                                                1119\n",
       "United Arab Emirates                                    1119\n",
       "Netherlands                                             1117\n",
       "Germany                                                 1115\n",
       "Belgium                                                 1114\n",
       "Poland                                                  1107\n",
       "China, Taiwan Province of                               1105\n",
       "Austria                                                 1102\n",
       "Turkey                                                  1098\n",
       "United Kingdom of Great Britain and Northern Ireland    1090\n",
       "Ukraine                                                 1090\n",
       "Portugal                                                1090\n",
       "Indonesia                                               1089\n",
       "Republic of Korea                                       1079\n",
       "Argentina                                               1077\n",
       "Hungary                                                 1074\n",
       "United Republic of Tanzania                             1073\n",
       "Bulgaria                                                1068\n",
       "Philippines                                             1068\n",
       "Kenya                                                   1061\n",
       "Russian Federation                                      1059\n",
       "Romania                                                 1057\n",
       "Colombia                                                1056\n",
       "Denmark                                                 1055\n",
       "Peru                                                    1049\n",
       "Pakistan                                                1042\n",
       "Chile                                                   1037\n",
       "Morocco                                                 1036\n",
       "New Zealand                                             1031\n",
       "Israel                                                  1028\n",
       "Sweden                                                  1028\n",
       "Slovakia                                                1027\n",
       "Kazakhstan                                              1024\n",
       "Name: Area, dtype: int64"
      ]
     },
     "execution_count": 135,
     "metadata": {},
     "output_type": "execute_result"
    }
   ],
   "source": [
    "df.Area.value_counts()[40:80]"
   ]
  },
  {
   "cell_type": "code",
   "execution_count": 136,
   "metadata": {
    "collapsed": false,
    "pycharm": {
     "name": "#%%\n"
    }
   },
   "outputs": [
    {
     "data": {
      "text/plain": [
       "Milk - Excluding Butter       5280\n",
       "Eggs                          4586\n",
       "Miscellaneous                 3556\n",
       "Cereals - Excluding Beer      3243\n",
       "Oilcrops                      3075\n",
       "Starchy Roots                 2964\n",
       "Wheat and products            2802\n",
       "Fruits - Excluding Wine       2801\n",
       "Maize and products            2796\n",
       "Potatoes and products         2686\n",
       "Rice and products             2685\n",
       "Vegetables                    2648\n",
       "Pulses                        2611\n",
       "Vegetables, other             2596\n",
       "Vegetable Oils                2582\n",
       "Fruits, other                 2543\n",
       "Animal fats                   2419\n",
       "Meat                          2412\n",
       "Fish, Seafood                 2407\n",
       "Sugar & Sweeteners            2300\n",
       "Pulses, Other and products    2281\n",
       "Oilcrops Oil, Other           2233\n",
       "Stimulants                    2226\n",
       "Fats, Animals, Raw            2210\n",
       "Poultry Meat                  2193\n",
       "Alcoholic Beverages           2184\n",
       "Barley and products           2182\n",
       "Pelagic Fish                  2170\n",
       "Oranges, Mandarines           2164\n",
       "Groundnuts                    2164\n",
       "Name: Item, dtype: int64"
      ]
     },
     "execution_count": 136,
     "metadata": {},
     "output_type": "execute_result"
    }
   ],
   "source": [
    "df.Item.value_counts()[:30]"
   ]
  },
  {
   "cell_type": "code",
   "execution_count": 137,
   "metadata": {
    "collapsed": false,
    "pycharm": {
     "name": "#%%\n"
    }
   },
   "outputs": [
    {
     "data": {
      "text/plain": [
       "array(['Total Population - Both sexes', 'Food supply (kcal/capita/day)',\n",
       "       'Protein supply quantity (g/capita/day)',\n",
       "       'Fat supply quantity (g/capita/day)', 'Production',\n",
       "       'Import Quantity', 'Stock Variation', 'Export Quantity',\n",
       "       'Domestic supply quantity', 'Feed', 'Seed', 'Losses', 'Residuals',\n",
       "       'Food', 'Food supply quantity (kg/capita/yr)', 'Processing',\n",
       "       'Other uses (non-food)', 'Tourist consumption'], dtype=object)"
      ]
     },
     "execution_count": 137,
     "metadata": {},
     "output_type": "execute_result"
    }
   ],
   "source": [
    "df.Element.unique()"
   ]
  },
  {
   "cell_type": "code",
   "execution_count": 138,
   "metadata": {
    "collapsed": false,
    "pycharm": {
     "name": "#%%\n"
    }
   },
   "outputs": [],
   "source": [
    "def select(area,item ):\n",
    "    data=df[df.Area==area]\n",
    "    data=data[data['Item'].str.contains(item)]\n",
    "    return data"
   ]
  },
  {
   "cell_type": "code",
   "execution_count": 139,
   "metadata": {
    "collapsed": false,
    "pycharm": {
     "name": "#%%\n"
    }
   },
   "outputs": [
    {
     "data": {
      "text/html": [
       "<div>\n",
       "<style scoped>\n",
       "    .dataframe tbody tr th:only-of-type {\n",
       "        vertical-align: middle;\n",
       "    }\n",
       "\n",
       "    .dataframe tbody tr th {\n",
       "        vertical-align: top;\n",
       "    }\n",
       "\n",
       "    .dataframe thead th {\n",
       "        text-align: right;\n",
       "    }\n",
       "</style>\n",
       "<table border=\"1\" class=\"dataframe\">\n",
       "  <thead>\n",
       "    <tr style=\"text-align: right;\">\n",
       "      <th></th>\n",
       "      <th>Area</th>\n",
       "      <th>Item</th>\n",
       "      <th>Element</th>\n",
       "      <th>Unit</th>\n",
       "      <th>Y2010</th>\n",
       "      <th>Y2011</th>\n",
       "      <th>Y2012</th>\n",
       "      <th>Y2013</th>\n",
       "      <th>Y2014</th>\n",
       "      <th>Y2015</th>\n",
       "      <th>Y2016</th>\n",
       "      <th>Y2017</th>\n",
       "      <th>Y2018</th>\n",
       "      <th>Y2019</th>\n",
       "    </tr>\n",
       "  </thead>\n",
       "  <tbody>\n",
       "    <tr>\n",
       "      <th>192620</th>\n",
       "      <td>Republic of Korea</td>\n",
       "      <td>Cereals - Excluding Beer</td>\n",
       "      <td>Production</td>\n",
       "      <td>1000 tonnes</td>\n",
       "      <td>6021.00</td>\n",
       "      <td>5826.00</td>\n",
       "      <td>5604.00</td>\n",
       "      <td>5810.00</td>\n",
       "      <td>5853.00</td>\n",
       "      <td>5976.00</td>\n",
       "      <td>5831.00</td>\n",
       "      <td>5488.00</td>\n",
       "      <td>5419.00</td>\n",
       "      <td>5260.00</td>\n",
       "    </tr>\n",
       "    <tr>\n",
       "      <th>192621</th>\n",
       "      <td>Republic of Korea</td>\n",
       "      <td>Cereals - Excluding Beer</td>\n",
       "      <td>Import Quantity</td>\n",
       "      <td>1000 tonnes</td>\n",
       "      <td>13873.00</td>\n",
       "      <td>13641.00</td>\n",
       "      <td>14795.00</td>\n",
       "      <td>14687.00</td>\n",
       "      <td>15118.00</td>\n",
       "      <td>15520.00</td>\n",
       "      <td>15229.00</td>\n",
       "      <td>14741.00</td>\n",
       "      <td>15216.00</td>\n",
       "      <td>16132.00</td>\n",
       "    </tr>\n",
       "    <tr>\n",
       "      <th>192622</th>\n",
       "      <td>Republic of Korea</td>\n",
       "      <td>Cereals - Excluding Beer</td>\n",
       "      <td>Stock Variation</td>\n",
       "      <td>1000 tonnes</td>\n",
       "      <td>-564.00</td>\n",
       "      <td>-1575.00</td>\n",
       "      <td>-596.00</td>\n",
       "      <td>-128.00</td>\n",
       "      <td>-222.00</td>\n",
       "      <td>-8.00</td>\n",
       "      <td>-130.00</td>\n",
       "      <td>142.00</td>\n",
       "      <td>-404.00</td>\n",
       "      <td>-260.00</td>\n",
       "    </tr>\n",
       "    <tr>\n",
       "      <th>192623</th>\n",
       "      <td>Republic of Korea</td>\n",
       "      <td>Cereals - Excluding Beer</td>\n",
       "      <td>Export Quantity</td>\n",
       "      <td>1000 tonnes</td>\n",
       "      <td>262.00</td>\n",
       "      <td>193.00</td>\n",
       "      <td>200.00</td>\n",
       "      <td>203.00</td>\n",
       "      <td>221.00</td>\n",
       "      <td>247.00</td>\n",
       "      <td>234.00</td>\n",
       "      <td>228.00</td>\n",
       "      <td>286.00</td>\n",
       "      <td>285.00</td>\n",
       "    </tr>\n",
       "    <tr>\n",
       "      <th>192624</th>\n",
       "      <td>Republic of Korea</td>\n",
       "      <td>Cereals - Excluding Beer</td>\n",
       "      <td>Domestic supply quantity</td>\n",
       "      <td>1000 tonnes</td>\n",
       "      <td>20196.00</td>\n",
       "      <td>20849.00</td>\n",
       "      <td>20794.00</td>\n",
       "      <td>20423.00</td>\n",
       "      <td>20971.00</td>\n",
       "      <td>21256.00</td>\n",
       "      <td>20956.00</td>\n",
       "      <td>19859.00</td>\n",
       "      <td>20752.00</td>\n",
       "      <td>21367.00</td>\n",
       "    </tr>\n",
       "    <tr>\n",
       "      <th>192625</th>\n",
       "      <td>Republic of Korea</td>\n",
       "      <td>Cereals - Excluding Beer</td>\n",
       "      <td>Feed</td>\n",
       "      <td>1000 tonnes</td>\n",
       "      <td>8060.00</td>\n",
       "      <td>8418.00</td>\n",
       "      <td>8699.00</td>\n",
       "      <td>8135.00</td>\n",
       "      <td>9354.00</td>\n",
       "      <td>9320.00</td>\n",
       "      <td>9137.00</td>\n",
       "      <td>8120.00</td>\n",
       "      <td>9103.00</td>\n",
       "      <td>10005.00</td>\n",
       "    </tr>\n",
       "    <tr>\n",
       "      <th>192626</th>\n",
       "      <td>Republic of Korea</td>\n",
       "      <td>Cereals - Excluding Beer</td>\n",
       "      <td>Seed</td>\n",
       "      <td>1000 tonnes</td>\n",
       "      <td>48.00</td>\n",
       "      <td>42.00</td>\n",
       "      <td>41.00</td>\n",
       "      <td>40.00</td>\n",
       "      <td>41.00</td>\n",
       "      <td>42.00</td>\n",
       "      <td>41.00</td>\n",
       "      <td>39.00</td>\n",
       "      <td>39.00</td>\n",
       "      <td>39.00</td>\n",
       "    </tr>\n",
       "    <tr>\n",
       "      <th>192627</th>\n",
       "      <td>Republic of Korea</td>\n",
       "      <td>Cereals - Excluding Beer</td>\n",
       "      <td>Losses</td>\n",
       "      <td>1000 tonnes</td>\n",
       "      <td>643.00</td>\n",
       "      <td>614.00</td>\n",
       "      <td>568.00</td>\n",
       "      <td>706.00</td>\n",
       "      <td>563.00</td>\n",
       "      <td>574.00</td>\n",
       "      <td>556.00</td>\n",
       "      <td>378.00</td>\n",
       "      <td>416.00</td>\n",
       "      <td>467.00</td>\n",
       "    </tr>\n",
       "    <tr>\n",
       "      <th>192628</th>\n",
       "      <td>Republic of Korea</td>\n",
       "      <td>Cereals - Excluding Beer</td>\n",
       "      <td>Processing</td>\n",
       "      <td>1000 tonnes</td>\n",
       "      <td>1588.00</td>\n",
       "      <td>1680.00</td>\n",
       "      <td>1677.00</td>\n",
       "      <td>1676.00</td>\n",
       "      <td>2800.00</td>\n",
       "      <td>3037.00</td>\n",
       "      <td>2930.00</td>\n",
       "      <td>2806.00</td>\n",
       "      <td>2841.00</td>\n",
       "      <td>2847.00</td>\n",
       "    </tr>\n",
       "    <tr>\n",
       "      <th>192629</th>\n",
       "      <td>Republic of Korea</td>\n",
       "      <td>Cereals - Excluding Beer</td>\n",
       "      <td>Other uses (non-food)</td>\n",
       "      <td>1000 tonnes</td>\n",
       "      <td>417.00</td>\n",
       "      <td>487.00</td>\n",
       "      <td>489.00</td>\n",
       "      <td>313.00</td>\n",
       "      <td>160.00</td>\n",
       "      <td>178.00</td>\n",
       "      <td>236.00</td>\n",
       "      <td>456.00</td>\n",
       "      <td>359.00</td>\n",
       "      <td>295.00</td>\n",
       "    </tr>\n",
       "    <tr>\n",
       "      <th>192632</th>\n",
       "      <td>Republic of Korea</td>\n",
       "      <td>Cereals - Excluding Beer</td>\n",
       "      <td>Food</td>\n",
       "      <td>1000 tonnes</td>\n",
       "      <td>9440.00</td>\n",
       "      <td>9608.00</td>\n",
       "      <td>9321.00</td>\n",
       "      <td>9552.00</td>\n",
       "      <td>8053.00</td>\n",
       "      <td>8105.00</td>\n",
       "      <td>8056.00</td>\n",
       "      <td>8061.00</td>\n",
       "      <td>7995.00</td>\n",
       "      <td>7714.00</td>\n",
       "    </tr>\n",
       "    <tr>\n",
       "      <th>192633</th>\n",
       "      <td>Republic of Korea</td>\n",
       "      <td>Cereals - Excluding Beer</td>\n",
       "      <td>Food supply quantity (kg/capita/yr)</td>\n",
       "      <td>kg</td>\n",
       "      <td>190.53</td>\n",
       "      <td>192.99</td>\n",
       "      <td>186.19</td>\n",
       "      <td>189.73</td>\n",
       "      <td>159.13</td>\n",
       "      <td>159.48</td>\n",
       "      <td>158.02</td>\n",
       "      <td>157.75</td>\n",
       "      <td>156.23</td>\n",
       "      <td>150.59</td>\n",
       "    </tr>\n",
       "    <tr>\n",
       "      <th>192634</th>\n",
       "      <td>Republic of Korea</td>\n",
       "      <td>Cereals - Excluding Beer</td>\n",
       "      <td>Food supply (kcal/capita/day)</td>\n",
       "      <td>kcal/capita/day</td>\n",
       "      <td>1423.00</td>\n",
       "      <td>1452.00</td>\n",
       "      <td>1380.00</td>\n",
       "      <td>1408.00</td>\n",
       "      <td>1219.00</td>\n",
       "      <td>1218.00</td>\n",
       "      <td>1203.00</td>\n",
       "      <td>1211.00</td>\n",
       "      <td>1193.00</td>\n",
       "      <td>1148.00</td>\n",
       "    </tr>\n",
       "    <tr>\n",
       "      <th>192635</th>\n",
       "      <td>Republic of Korea</td>\n",
       "      <td>Cereals - Excluding Beer</td>\n",
       "      <td>Protein supply quantity (g/capita/day)</td>\n",
       "      <td>g/capita/day</td>\n",
       "      <td>28.85</td>\n",
       "      <td>29.28</td>\n",
       "      <td>27.76</td>\n",
       "      <td>28.47</td>\n",
       "      <td>25.09</td>\n",
       "      <td>25.21</td>\n",
       "      <td>25.17</td>\n",
       "      <td>25.52</td>\n",
       "      <td>25.28</td>\n",
       "      <td>24.43</td>\n",
       "    </tr>\n",
       "    <tr>\n",
       "      <th>192636</th>\n",
       "      <td>Republic of Korea</td>\n",
       "      <td>Cereals - Excluding Beer</td>\n",
       "      <td>Fat supply quantity (g/capita/day)</td>\n",
       "      <td>g/capita/day</td>\n",
       "      <td>4.03</td>\n",
       "      <td>4.16</td>\n",
       "      <td>3.81</td>\n",
       "      <td>4.04</td>\n",
       "      <td>3.59</td>\n",
       "      <td>3.61</td>\n",
       "      <td>3.55</td>\n",
       "      <td>3.64</td>\n",
       "      <td>3.57</td>\n",
       "      <td>3.41</td>\n",
       "    </tr>\n",
       "  </tbody>\n",
       "</table>\n",
       "</div>"
      ],
      "text/plain": [
       "                     Area                      Item  \\\n",
       "192620  Republic of Korea  Cereals - Excluding Beer   \n",
       "192621  Republic of Korea  Cereals - Excluding Beer   \n",
       "192622  Republic of Korea  Cereals - Excluding Beer   \n",
       "192623  Republic of Korea  Cereals - Excluding Beer   \n",
       "192624  Republic of Korea  Cereals - Excluding Beer   \n",
       "192625  Republic of Korea  Cereals - Excluding Beer   \n",
       "192626  Republic of Korea  Cereals - Excluding Beer   \n",
       "192627  Republic of Korea  Cereals - Excluding Beer   \n",
       "192628  Republic of Korea  Cereals - Excluding Beer   \n",
       "192629  Republic of Korea  Cereals - Excluding Beer   \n",
       "192632  Republic of Korea  Cereals - Excluding Beer   \n",
       "192633  Republic of Korea  Cereals - Excluding Beer   \n",
       "192634  Republic of Korea  Cereals - Excluding Beer   \n",
       "192635  Republic of Korea  Cereals - Excluding Beer   \n",
       "192636  Republic of Korea  Cereals - Excluding Beer   \n",
       "\n",
       "                                       Element             Unit     Y2010  \\\n",
       "192620                              Production      1000 tonnes   6021.00   \n",
       "192621                         Import Quantity      1000 tonnes  13873.00   \n",
       "192622                         Stock Variation      1000 tonnes   -564.00   \n",
       "192623                         Export Quantity      1000 tonnes    262.00   \n",
       "192624                Domestic supply quantity      1000 tonnes  20196.00   \n",
       "192625                                    Feed      1000 tonnes   8060.00   \n",
       "192626                                    Seed      1000 tonnes     48.00   \n",
       "192627                                  Losses      1000 tonnes    643.00   \n",
       "192628                              Processing      1000 tonnes   1588.00   \n",
       "192629                   Other uses (non-food)      1000 tonnes    417.00   \n",
       "192632                                    Food      1000 tonnes   9440.00   \n",
       "192633     Food supply quantity (kg/capita/yr)               kg    190.53   \n",
       "192634           Food supply (kcal/capita/day)  kcal/capita/day   1423.00   \n",
       "192635  Protein supply quantity (g/capita/day)     g/capita/day     28.85   \n",
       "192636      Fat supply quantity (g/capita/day)     g/capita/day      4.03   \n",
       "\n",
       "           Y2011     Y2012     Y2013     Y2014     Y2015     Y2016     Y2017  \\\n",
       "192620   5826.00   5604.00   5810.00   5853.00   5976.00   5831.00   5488.00   \n",
       "192621  13641.00  14795.00  14687.00  15118.00  15520.00  15229.00  14741.00   \n",
       "192622  -1575.00   -596.00   -128.00   -222.00     -8.00   -130.00    142.00   \n",
       "192623    193.00    200.00    203.00    221.00    247.00    234.00    228.00   \n",
       "192624  20849.00  20794.00  20423.00  20971.00  21256.00  20956.00  19859.00   \n",
       "192625   8418.00   8699.00   8135.00   9354.00   9320.00   9137.00   8120.00   \n",
       "192626     42.00     41.00     40.00     41.00     42.00     41.00     39.00   \n",
       "192627    614.00    568.00    706.00    563.00    574.00    556.00    378.00   \n",
       "192628   1680.00   1677.00   1676.00   2800.00   3037.00   2930.00   2806.00   \n",
       "192629    487.00    489.00    313.00    160.00    178.00    236.00    456.00   \n",
       "192632   9608.00   9321.00   9552.00   8053.00   8105.00   8056.00   8061.00   \n",
       "192633    192.99    186.19    189.73    159.13    159.48    158.02    157.75   \n",
       "192634   1452.00   1380.00   1408.00   1219.00   1218.00   1203.00   1211.00   \n",
       "192635     29.28     27.76     28.47     25.09     25.21     25.17     25.52   \n",
       "192636      4.16      3.81      4.04      3.59      3.61      3.55      3.64   \n",
       "\n",
       "           Y2018     Y2019  \n",
       "192620   5419.00   5260.00  \n",
       "192621  15216.00  16132.00  \n",
       "192622   -404.00   -260.00  \n",
       "192623    286.00    285.00  \n",
       "192624  20752.00  21367.00  \n",
       "192625   9103.00  10005.00  \n",
       "192626     39.00     39.00  \n",
       "192627    416.00    467.00  \n",
       "192628   2841.00   2847.00  \n",
       "192629    359.00    295.00  \n",
       "192632   7995.00   7714.00  \n",
       "192633    156.23    150.59  \n",
       "192634   1193.00   1148.00  \n",
       "192635     25.28     24.43  \n",
       "192636      3.57      3.41  "
      ]
     },
     "execution_count": 139,
     "metadata": {},
     "output_type": "execute_result"
    }
   ],
   "source": [
    "data=select(\"Republic of Korea\",\"Cereals - Ex\")\n",
    "data"
   ]
  },
  {
   "cell_type": "markdown",
   "metadata": {},
   "source": [
    "# MEAN-BASED PREDICTION\n",
    "\n",
    "Calculate the loss value of an upcoming year based on the average of previous losses"
   ]
  },
  {
   "cell_type": "code",
   "execution_count": 140,
   "metadata": {
    "collapsed": false,
    "pycharm": {
     "name": "#%%\n"
    }
   },
   "outputs": [],
   "source": [
    "# def mean_based(year):\n",
    "#     try:\n",
    "#         mean_pred=[]\n",
    "#         losses=data[data.Element==\"Losses\"].iloc[0,4:]\n",
    "#         count=0\n",
    "#         sum=0\n",
    "#         for i in losses.index:\n",
    "#             if i==\"Y\"+str(year):\n",
    "#                 break\n",
    "#             sum=losses[i]+sum\n",
    "#             count+=1\n",
    "#         mean_pred=sum/count\n",
    "#         return mean_pred\n",
    "#     except:\n",
    "#         return losses[\"Y\"+str(year)]\n",
    "\n",
    "def mean_based(year):\n",
    "    try:\n",
    "        mean_pred=[]\n",
    "        losses=data[data.Element==\"Losses\"].iloc[0,4:]\n",
    "        count=0\n",
    "        sum=0\n",
    "        for i in range(0,3):\n",
    "            sum+=losses[\"Y\"+str(year-i-1)]\n",
    "            count+=1\n",
    "        mean_pred=sum/count\n",
    "        return mean_pred\n",
    "    except:\n",
    "        if year==2010:\n",
    "            return losses[\"Y\"+str(year)]\n",
    "        if year==2011:\n",
    "            return (losses[\"Y\"+str(year-1)])\n",
    "        if year==2012:\n",
    "            return (losses[\"Y\"+str(year-1)]+(losses[\"Y\"+str(year-2)]))/2\n",
    "        if year==2013:\n",
    "            return (losses[\"Y\"+str(year-1)]+(losses[\"Y\"+str(year-2)])+(losses[\"Y\"+str(year-3)]))/3"
   ]
  },
  {
   "cell_type": "code",
   "execution_count": 146,
   "metadata": {
    "collapsed": false,
    "pycharm": {
     "name": "#%%\n"
    }
   },
   "outputs": [],
   "source": [
    "def by_average(data):\n",
    "    mean_based_pred=[]\n",
    "    losses=pd.DataFrame(data[data.Element==\"Losses\"].iloc[0,4:])\n",
    "    losses.columns=[\"Actual\"]\n",
    "    losses[\"MeanBasedPred\"]=np.zeros([len(losses)])\n",
    "    for i in losses.index:\n",
    "        losses[\"MeanBasedPred\"][i]=mean_based(int(i[1:]))\n",
    "    losses.reset_index()\n",
    "    MSE = np.square(np.subtract(losses[\"Actual\"].values,losses[\"MeanBasedPred\"].values)).mean() \n",
    "    RMSE = math.sqrt(MSE)\n",
    "    MAPE= np.mean(np.abs((losses[\"MeanBasedPred\"].values - losses[\"Actual\"].values) /losses[\"Actual\"].values))*100\n",
    "    print(\"RMSE =\",RMSE)\n",
    "    print(\"MAPE =\",np.mean(np.abs((losses[\"Actual\"].values - losses[\"MeanBasedPred\"].values)/losses[\"Actual\"].values))*100)\n",
    "    return losses, MSE, RMSE, MAPE"
   ]
  },
  {
   "cell_type": "code",
   "execution_count": 147,
   "metadata": {},
   "outputs": [
    {
     "name": "stderr",
     "output_type": "stream",
     "text": [
      "/var/folders/t6/nkv95bj97gv9j73w9bfk2p0r0000gn/T/ipykernel_1364/3085655691.py:7: SettingWithCopyWarning: \n",
      "A value is trying to be set on a copy of a slice from a DataFrame\n",
      "\n",
      "See the caveats in the documentation: https://pandas.pydata.org/pandas-docs/stable/user_guide/indexing.html#returning-a-view-versus-a-copy\n",
      "  losses[\"MeanBasedPred\"][i]=mean_based(int(i[1:]))\n"
     ]
    },
    {
     "name": "stdout",
     "output_type": "stream",
     "text": [
      "RMSE = 81.1372807859207\n",
      "MAPE = 13.19284712644621\n"
     ]
    },
    {
     "data": {
      "text/plain": [
       "(6583.258333333336, 81.1372807859207, 13.19284712644621)"
      ]
     },
     "execution_count": 147,
     "metadata": {},
     "output_type": "execute_result"
    }
   ],
   "source": [
    "losses,mse_mean,rmse_mean,mape_mean=by_average(data)\n",
    "mse_mean,rmse_mean,mape_mean"
   ]
  },
  {
   "cell_type": "code",
   "execution_count": 148,
   "metadata": {},
   "outputs": [
    {
     "data": {
      "text/plain": [
       "<matplotlib.legend.Legend at 0x7fec018dc1f0>"
      ]
     },
     "execution_count": 148,
     "metadata": {},
     "output_type": "execute_result"
    },
    {
     "data": {
      "image/png": "[encoded data removed]",
      "text/plain": [
       "<Figure size 432x288 with 1 Axes>"
      ]
     },
     "metadata": {
      "needs_background": "light"
     },
     "output_type": "display_data"
    }
   ],
   "source": [
    "plt.plot(losses.index,losses[\"Actual\"])\n",
    "plt.plot(losses.index,losses.MeanBasedPred)\n",
    "plt.title(\"Prediction based on mean values of previous years\")\n",
    "plt.legend(['Actual', 'Mean-based Prediction'], loc='lower right')"
   ]
  },
  {
   "cell_type": "code",
   "execution_count": 150,
   "metadata": {
    "collapsed": false,
    "pycharm": {
     "name": "#%%\n"
    }
   },
   "outputs": [],
   "source": [
    "population=df[df[\"Element\"]==\"Total Population - Both sexes\"]\n",
    "population=population[population.Area==\"China\"].iloc[0,4:]*1000\n",
    "lstm_data=pd.DataFrame(population)\n",
    "lstm_data.columns=[\"Population\"]\n",
    "lstm_data[\"Actual Loss\"]=losses[\"Actual\"]"
   ]
  },
  {
   "cell_type": "markdown",
   "metadata": {},
   "source": [
    "# ARIMA MODEL"
   ]
  },
  {
   "cell_type": "code",
   "execution_count": 152,
   "metadata": {},
   "outputs": [
    {
     "name": "stdout",
     "output_type": "stream",
     "text": [
      "predicted=568.068691, expected=556.000000\n",
      "predicted=565.967195, expected=378.000000\n",
      "predicted=456.795979, expected=416.000000\n",
      "predicted=402.145788, expected=467.000000\n",
      "Test RMSE: 101.671\n",
      "Test MAPE = 18.897884097490326\n"
     ]
    },
    {
     "data": {
      "image/png": "[encoded data removed]",
      "text/plain": [
       "<Figure size 432x288 with 1 Axes>"
      ]
     },
     "metadata": {
      "needs_background": "light"
     },
     "output_type": "display_data"
    }
   ],
   "source": [
    "def by_arima(data):\n",
    "\tseries=data\n",
    "\tX = series.values\n",
    "\t# size = int(len(X) * 0.66)\n",
    "\tsize=6\n",
    "\ttrain, test = X[0:size], X[size:len(X)]\n",
    "\thistory = [x for x in train]\n",
    "\tpredictions = list()\n",
    "\t# walk-forward validation\n",
    "\tfor t in range(len(test)):\n",
    "\t\tmodel = ARIMA(history, order=(1,1,0))\n",
    "\t\tmodel_fit = model.fit()\n",
    "\t\toutput = model_fit.forecast()\n",
    "\t\tyhat = output[0]\n",
    "\t\tpredictions.append(yhat)\n",
    "\t\tobs = test[t]\n",
    "\t\thistory.append(obs)\n",
    "\t\tprint('predicted=%f, expected=%f' % (yhat, obs))\n",
    "\t# evaluate forecasts\n",
    "\tmape=np.mean(np.abs((test - predictions)/test))*100\n",
    "\trmse = sqrt(mean_squared_error(test, predictions))\n",
    "\tprint('Test RMSE: %.3f' % rmse)\n",
    "\tprint(\"Test MAPE =\", mape)\n",
    "\treturn rmse,mape\n",
    "rmse_arima, mape_arima=by_arima(lstm_data[\"Actual Loss\"])\n",
    "# plot forecasts against actual outcomes\n",
    "years=['2016','2017','2018','2019']\n",
    "pyplot.plot(years,test)\n",
    "pyplot.plot(predictions, color='red')\n",
    "pyplot.xlabel(\"Years\")\n",
    "pyplot.ylabel(\"Food Loss\")\n",
    "plt.legend([\"Actual\",\"Prediciton\"])\n",
    "plt.title(\"ARIMA\")\n",
    "# plt.ylim(23000,26000)\n",
    "pyplot.show()"
   ]
  },
  {
   "cell_type": "code",
   "execution_count": 153,
   "metadata": {
    "collapsed": false,
    "pycharm": {
     "name": "#%%\n"
    }
   },
   "outputs": [],
   "source": [
    "def df_to_X_y(df, window_size=3):\n",
    "  df_as_np = df.to_numpy()\n",
    "  X = []\n",
    "  y = []\n",
    "  for i in range(len(df_as_np)-window_size):\n",
    "    row = [[a] for a in df_as_np[i:i+window_size]]\n",
    "    X.append(row)\n",
    "    label = df_as_np[i+window_size]\n",
    "    y.append(label)\n",
    "  return np.array(X), np.array(y)"
   ]
  },
  {
   "cell_type": "code",
   "execution_count": 154,
   "metadata": {},
   "outputs": [
    {
     "data": {
      "text/plain": [
       "((7, 3, 1), (7,))"
      ]
     },
     "execution_count": 154,
     "metadata": {},
     "output_type": "execute_result"
    }
   ],
   "source": [
    "WINDOW_SIZE = 3\n",
    "X1, y1 = df_to_X_y(lstm_data[\"Actual Loss\"], WINDOW_SIZE)\n",
    "X1.shape, y1.shape"
   ]
  },
  {
   "cell_type": "code",
   "execution_count": 155,
   "metadata": {},
   "outputs": [
    {
     "data": {
      "text/plain": [
       "((4, 3, 1), (4,), (2, 3, 1), (2,), (1, 3, 1), (1,))"
      ]
     },
     "execution_count": 155,
     "metadata": {},
     "output_type": "execute_result"
    }
   ],
   "source": [
    "X_train1, y_train1 = X1[:4], y1[:4]\n",
    "X_val1, y_val1 = X1[4:6], y1[4:6]\n",
    "X_test1, y_test1 = X1[6:], y1[6:]\n",
    "X_train1.shape, y_train1.shape, X_val1.shape, y_val1.shape, X_test1.shape, y_test1.shape"
   ]
  },
  {
   "cell_type": "markdown",
   "metadata": {},
   "source": [
    "Data Scaling"
   ]
  },
  {
   "cell_type": "code",
   "execution_count": 156,
   "metadata": {},
   "outputs": [],
   "source": [
    "scalers = {}\n",
    "for i in range(X_train1.shape[1]):\n",
    "    scalers[i] = StandardScaler()\n",
    "    X_train1[:, i, :] = scalers[i].fit_transform(X_train1[:, i, :]) \n",
    "\n",
    "for i in range(X_test1.shape[1]):\n",
    "    X_test1[:, i, :] = scalers[i].transform(X_test1[:, i, :]) "
   ]
  },
  {
   "cell_type": "markdown",
   "metadata": {},
   "source": [
    "# LSTM MODEL"
   ]
  },
  {
   "cell_type": "code",
   "execution_count": 161,
   "metadata": {
    "collapsed": false,
    "pycharm": {
     "name": "#%%\n"
    }
   },
   "outputs": [
    {
     "name": "stdout",
     "output_type": "stream",
     "text": [
      "Epoch 1/200\n",
      "1/1 [==============================] - ETA: 0s - loss: 363497.1250 - mean_absolute_percentage_error: 99.9993"
     ]
    },
    {
     "name": "stderr",
     "output_type": "stream",
     "text": [
      "WARNING:absl:Found untraced functions such as lstm_cell_5_layer_call_fn, lstm_cell_5_layer_call_and_return_conditional_losses while saving (showing 2 of 2). These functions will not be directly callable after loading.\n"
     ]
    },
    {
     "name": "stdout",
     "output_type": "stream",
     "text": [
      "INFO:tensorflow:Assets written to: model1/assets\n"
     ]
    },
    {
     "name": "stderr",
     "output_type": "stream",
     "text": [
      "INFO:tensorflow:Assets written to: model1/assets\n"
     ]
    },
    {
     "name": "stdout",
     "output_type": "stream",
     "text": [
      "1/1 [==============================] - 19s 19s/step - loss: 363497.1250 - mean_absolute_percentage_error: 99.9993 - val_loss: 1022395.1250 - val_mean_absolute_percentage_error: 255.4633\n",
      "Epoch 2/200\n",
      "1/1 [==============================] - ETA: 0s - loss: 78700.4531 - mean_absolute_percentage_error: 43.8913"
     ]
    },
    {
     "name": "stderr",
     "output_type": "stream",
     "text": [
      "WARNING:absl:Found untraced functions such as lstm_cell_5_layer_call_fn, lstm_cell_5_layer_call_and_return_conditional_losses while saving (showing 2 of 2). These functions will not be directly callable after loading.\n"
     ]
    },
    {
     "name": "stdout",
     "output_type": "stream",
     "text": [
      "INFO:tensorflow:Assets written to: model1/assets\n"
     ]
    },
    {
     "name": "stderr",
     "output_type": "stream",
     "text": [
      "INFO:tensorflow:Assets written to: model1/assets\n"
     ]
    },
    {
     "name": "stdout",
     "output_type": "stream",
     "text": [
      "1/1 [==============================] - 12s 12s/step - loss: 78700.4531 - mean_absolute_percentage_error: 43.8913 - val_loss: 146941.6719 - val_mean_absolute_percentage_error: 96.4297\n",
      "Epoch 3/200\n",
      "1/1 [==============================] - 0s 75ms/step - loss: 292797.6875 - mean_absolute_percentage_error: 91.2765 - val_loss: 408277.1250 - val_mean_absolute_percentage_error: 161.0171\n",
      "Epoch 4/200\n",
      "1/1 [==============================] - 0s 64ms/step - loss: 274743.4688 - mean_absolute_percentage_error: 88.5602 - val_loss: 390893.0000 - val_mean_absolute_percentage_error: 157.5438\n",
      "Epoch 5/200\n",
      "1/1 [==============================] - ETA: 0s - loss: 330974.3750 - mean_absolute_percentage_error: 95.3267"
     ]
    },
    {
     "name": "stderr",
     "output_type": "stream",
     "text": [
      "WARNING:absl:Found untraced functions such as lstm_cell_5_layer_call_fn, lstm_cell_5_layer_call_and_return_conditional_losses while saving (showing 2 of 2). These functions will not be directly callable after loading.\n"
     ]
    },
    {
     "name": "stdout",
     "output_type": "stream",
     "text": [
      "INFO:tensorflow:Assets written to: model1/assets\n"
     ]
    },
    {
     "name": "stderr",
     "output_type": "stream",
     "text": [
      "INFO:tensorflow:Assets written to: model1/assets\n"
     ]
    },
    {
     "name": "stdout",
     "output_type": "stream",
     "text": [
      "1/1 [==============================] - 13s 13s/step - loss: 330974.3750 - mean_absolute_percentage_error: 95.3267 - val_loss: 29177.1836 - val_mean_absolute_percentage_error: 42.6276\n",
      "Epoch 6/200\n",
      "1/1 [==============================] - ETA: 0s - loss: 321938.5312 - mean_absolute_percentage_error: 93.9878"
     ]
    },
    {
     "name": "stderr",
     "output_type": "stream",
     "text": [
      "WARNING:absl:Found untraced functions such as lstm_cell_5_layer_call_fn, lstm_cell_5_layer_call_and_return_conditional_losses while saving (showing 2 of 2). These functions will not be directly callable after loading.\n"
     ]
    },
    {
     "name": "stdout",
     "output_type": "stream",
     "text": [
      "INFO:tensorflow:Assets written to: model1/assets\n"
     ]
    },
    {
     "name": "stderr",
     "output_type": "stream",
     "text": [
      "INFO:tensorflow:Assets written to: model1/assets\n"
     ]
    },
    {
     "name": "stdout",
     "output_type": "stream",
     "text": [
      "1/1 [==============================] - 10s 10s/step - loss: 321938.5312 - mean_absolute_percentage_error: 93.9878 - val_loss: 1226.8085 - val_mean_absolute_percentage_error: 7.1992\n",
      "Epoch 7/200\n",
      "1/1 [==============================] - 0s 90ms/step - loss: 312409.8125 - mean_absolute_percentage_error: 92.5551 - val_loss: 32762.0820 - val_mean_absolute_percentage_error: 45.2153\n",
      "Epoch 8/200\n",
      "1/1 [==============================] - 0s 75ms/step - loss: 302625.4062 - mean_absolute_percentage_error: 91.0607 - val_loss: 181326.3125 - val_mean_absolute_percentage_error: 107.1701\n",
      "Epoch 9/200\n",
      "1/1 [==============================] - 0s 56ms/step - loss: 302075.5625 - mean_absolute_percentage_error: 90.5300 - val_loss: 535469.0000 - val_mean_absolute_percentage_error: 184.4531\n",
      "Epoch 10/200\n",
      "1/1 [==============================] - 0s 71ms/step - loss: 282795.8125 - mean_absolute_percentage_error: 87.9551 - val_loss: 1155226.5000 - val_mean_absolute_percentage_error: 271.0837\n",
      "Epoch 11/200\n",
      "1/1 [==============================] - 0s 81ms/step - loss: 272907.0625 - mean_absolute_percentage_error: 86.3652 - val_loss: 2068329.6250 - val_mean_absolute_percentage_error: 362.8295\n",
      "Epoch 12/200\n",
      "1/1 [==============================] - 0s 66ms/step - loss: 263104.5625 - mean_absolute_percentage_error: 84.7600 - val_loss: 3275468.0000 - val_mean_absolute_percentage_error: 456.6672\n",
      "Epoch 13/200\n",
      "1/1 [==============================] - 0s 69ms/step - loss: 253421.2969 - mean_absolute_percentage_error: 83.1442 - val_loss: 4757628.0000 - val_mean_absolute_percentage_error: 550.4312\n",
      "Epoch 14/200\n",
      "1/1 [==============================] - 0s 65ms/step - loss: 243882.5156 - mean_absolute_percentage_error: 81.5216 - val_loss: 6482960.5000 - val_mean_absolute_percentage_error: 642.5765\n",
      "Epoch 15/200\n",
      "1/1 [==============================] - 0s 63ms/step - loss: 234507.7500 - mean_absolute_percentage_error: 79.8952 - val_loss: 8412403.0000 - val_mean_absolute_percentage_error: 732.0149\n",
      "Epoch 16/200\n",
      "1/1 [==============================] - 0s 58ms/step - loss: 225312.3594 - mean_absolute_percentage_error: 78.2675 - val_loss: 10503920.0000 - val_mean_absolute_percentage_error: 817.9971\n",
      "Epoch 17/200\n",
      "1/1 [==============================] - 0s 68ms/step - loss: 216308.5312 - mean_absolute_percentage_error: 76.6406 - val_loss: 12715544.0000 - val_mean_absolute_percentage_error: 900.0277\n",
      "Epoch 18/200\n",
      "1/1 [==============================] - 0s 79ms/step - loss: 207505.9531 - mean_absolute_percentage_error: 75.0165 - val_loss: 15007433.0000 - val_mean_absolute_percentage_error: 977.8031\n",
      "Epoch 19/200\n",
      "1/1 [==============================] - 0s 68ms/step - loss: 198912.2031 - mean_absolute_percentage_error: 73.3966 - val_loss: 17343152.0000 - val_mean_absolute_percentage_error: 1051.1630\n",
      "Epoch 20/200\n",
      "1/1 [==============================] - 0s 56ms/step - loss: 190533.2969 - mean_absolute_percentage_error: 71.7825 - val_loss: 19690380.0000 - val_mean_absolute_percentage_error: 1120.0553\n",
      "Epoch 21/200\n",
      "1/1 [==============================] - 0s 60ms/step - loss: 182373.8750 - mean_absolute_percentage_error: 70.1755 - val_loss: 22021196.0000 - val_mean_absolute_percentage_error: 1184.5083\n",
      "Epoch 22/200\n",
      "1/1 [==============================] - 0s 66ms/step - loss: 174437.4062 - mean_absolute_percentage_error: 68.5768 - val_loss: 24312112.0000 - val_mean_absolute_percentage_error: 1244.6104\n",
      "Epoch 23/200\n",
      "1/1 [==============================] - 0s 89ms/step - loss: 166726.2812 - mean_absolute_percentage_error: 66.9874 - val_loss: 23597584.0000 - val_mean_absolute_percentage_error: 1226.1808\n",
      "Epoch 24/200\n",
      "1/1 [==============================] - 0s 59ms/step - loss: 159242.1406 - mean_absolute_percentage_error: 65.4084 - val_loss: 25456480.0000 - val_mean_absolute_percentage_error: 1273.5710\n",
      "Epoch 25/200\n",
      "1/1 [==============================] - 0s 70ms/step - loss: 151985.7656 - mean_absolute_percentage_error: 63.8408 - val_loss: 27237368.0000 - val_mean_absolute_percentage_error: 1317.3750\n",
      "Epoch 26/200\n",
      "1/1 [==============================] - 0s 69ms/step - loss: 144957.3438 - mean_absolute_percentage_error: 62.2854 - val_loss: 28933446.0000 - val_mean_absolute_percentage_error: 1357.7797\n",
      "Epoch 27/200\n",
      "1/1 [==============================] - 0s 78ms/step - loss: 138156.4062 - mean_absolute_percentage_error: 60.7430 - val_loss: 30540168.0000 - val_mean_absolute_percentage_error: 1394.9771\n",
      "Epoch 28/200\n",
      "1/1 [==============================] - 0s 81ms/step - loss: 131581.9688 - mean_absolute_percentage_error: 59.2144 - val_loss: 32054940.0000 - val_mean_absolute_percentage_error: 1429.1593\n",
      "Epoch 29/200\n",
      "1/1 [==============================] - 0s 58ms/step - loss: 125232.5234 - mean_absolute_percentage_error: 57.7004 - val_loss: 33476828.0000 - val_mean_absolute_percentage_error: 1460.5181\n",
      "Epoch 30/200\n",
      "1/1 [==============================] - 0s 71ms/step - loss: 119106.1719 - mean_absolute_percentage_error: 56.2015 - val_loss: 34806208.0000 - val_mean_absolute_percentage_error: 1489.2395\n",
      "Epoch 31/200\n",
      "1/1 [==============================] - 0s 82ms/step - loss: 113200.6094 - mean_absolute_percentage_error: 54.7184 - val_loss: 36044544.0000 - val_mean_absolute_percentage_error: 1515.5043\n",
      "Epoch 32/200\n",
      "1/1 [==============================] - 0s 87ms/step - loss: 107513.1875 - mean_absolute_percentage_error: 53.2518 - val_loss: 37194160.0000 - val_mean_absolute_percentage_error: 1539.4866\n",
      "Epoch 33/200\n",
      "1/1 [==============================] - 0s 66ms/step - loss: 102040.8828 - mean_absolute_percentage_error: 51.8022 - val_loss: 38258048.0000 - val_mean_absolute_percentage_error: 1561.3523\n",
      "Epoch 34/200\n",
      "1/1 [==============================] - 0s 74ms/step - loss: 96780.4219 - mean_absolute_percentage_error: 50.3702 - val_loss: 39239672.0000 - val_mean_absolute_percentage_error: 1581.2590\n",
      "Epoch 35/200\n",
      "1/1 [==============================] - 0s 71ms/step - loss: 91728.2500 - mean_absolute_percentage_error: 48.9561 - val_loss: 40142848.0000 - val_mean_absolute_percentage_error: 1599.3562\n",
      "Epoch 36/200\n",
      "1/1 [==============================] - 0s 97ms/step - loss: 86880.6250 - mean_absolute_percentage_error: 47.5606 - val_loss: 40971664.0000 - val_mean_absolute_percentage_error: 1615.7849\n",
      "Epoch 37/200\n",
      "1/1 [==============================] - 0s 80ms/step - loss: 82233.5000 - mean_absolute_percentage_error: 46.1841 - val_loss: 41730224.0000 - val_mean_absolute_percentage_error: 1630.6763\n",
      "Epoch 38/200\n",
      "1/1 [==============================] - 0s 77ms/step - loss: 77782.7266 - mean_absolute_percentage_error: 44.8269 - val_loss: 42422792.0000 - val_mean_absolute_percentage_error: 1644.1541\n",
      "Epoch 39/200\n",
      "1/1 [==============================] - 0s 57ms/step - loss: 73523.9375 - mean_absolute_percentage_error: 43.4895 - val_loss: 43053580.0000 - val_mean_absolute_percentage_error: 1656.3342\n",
      "Epoch 40/200\n",
      "1/1 [==============================] - 0s 54ms/step - loss: 69452.6406 - mean_absolute_percentage_error: 42.1722 - val_loss: 43626688.0000 - val_mean_absolute_percentage_error: 1667.3237\n",
      "Epoch 41/200\n",
      "1/1 [==============================] - 0s 94ms/step - loss: 65564.2188 - mean_absolute_percentage_error: 40.8754 - val_loss: 44146160.0000 - val_mean_absolute_percentage_error: 1677.2224\n",
      "Epoch 42/200\n",
      "1/1 [==============================] - 0s 84ms/step - loss: 61853.9375 - mean_absolute_percentage_error: 39.5993 - val_loss: 44615872.0000 - val_mean_absolute_percentage_error: 1686.1227\n",
      "Epoch 43/200\n",
      "1/1 [==============================] - 0s 66ms/step - loss: 58316.9570 - mean_absolute_percentage_error: 38.3443 - val_loss: 45039552.0000 - val_mean_absolute_percentage_error: 1694.1108\n",
      "Epoch 44/200\n",
      "1/1 [==============================] - 0s 69ms/step - loss: 54948.4062 - mean_absolute_percentage_error: 37.1106 - val_loss: 45420760.0000 - val_mean_absolute_percentage_error: 1701.2661\n",
      "Epoch 45/200\n",
      "1/1 [==============================] - 0s 56ms/step - loss: 51743.3242 - mean_absolute_percentage_error: 35.8985 - val_loss: 45762840.0000 - val_mean_absolute_percentage_error: 1707.6614\n",
      "Epoch 46/200\n",
      "1/1 [==============================] - 0s 58ms/step - loss: 48696.7188 - mean_absolute_percentage_error: 34.7081 - val_loss: 46068960.0000 - val_mean_absolute_percentage_error: 1713.3643\n",
      "Epoch 47/200\n",
      "1/1 [==============================] - 0s 60ms/step - loss: 45803.5625 - mean_absolute_percentage_error: 33.5397 - val_loss: 46342132.0000 - val_mean_absolute_percentage_error: 1718.4371\n",
      "Epoch 48/200\n",
      "1/1 [==============================] - 0s 87ms/step - loss: 43058.8281 - mean_absolute_percentage_error: 32.3934 - val_loss: 46585120.0000 - val_mean_absolute_percentage_error: 1722.9371\n",
      "Epoch 49/200\n",
      "1/1 [==============================] - 0s 59ms/step - loss: 40457.4688 - mean_absolute_percentage_error: 31.2694 - val_loss: 46800532.0000 - val_mean_absolute_percentage_error: 1726.9166\n",
      "Epoch 50/200\n",
      "1/1 [==============================] - 0s 66ms/step - loss: 37994.4531 - mean_absolute_percentage_error: 30.1678 - val_loss: 46990808.0000 - val_mean_absolute_percentage_error: 1730.4241\n",
      "Epoch 51/200\n",
      "1/1 [==============================] - 0s 57ms/step - loss: 35664.7812 - mean_absolute_percentage_error: 29.0886 - val_loss: 47158196.0000 - val_mean_absolute_percentage_error: 1733.5038\n",
      "Epoch 52/200\n",
      "1/1 [==============================] - 0s 66ms/step - loss: 33463.4648 - mean_absolute_percentage_error: 28.0320 - val_loss: 47304768.0000 - val_mean_absolute_percentage_error: 1736.1960\n",
      "Epoch 53/200\n",
      "1/1 [==============================] - 0s 74ms/step - loss: 31385.5840 - mean_absolute_percentage_error: 26.9981 - val_loss: 47432472.0000 - val_mean_absolute_percentage_error: 1738.5383\n",
      "Epoch 54/200\n",
      "1/1 [==============================] - 0s 67ms/step - loss: 29426.2422 - mean_absolute_percentage_error: 25.9868 - val_loss: 47543064.0000 - val_mean_absolute_percentage_error: 1740.5642\n",
      "Epoch 55/200\n",
      "1/1 [==============================] - 0s 127ms/step - loss: 27580.6367 - mean_absolute_percentage_error: 24.9982 - val_loss: 47638180.0000 - val_mean_absolute_percentage_error: 1742.3047\n",
      "Epoch 56/200\n",
      "1/1 [==============================] - 0s 65ms/step - loss: 25844.0039 - mean_absolute_percentage_error: 24.0323 - val_loss: 47719368.0000 - val_mean_absolute_percentage_error: 1743.7888\n",
      "Epoch 57/200\n",
      "1/1 [==============================] - 0s 57ms/step - loss: 24211.6621 - mean_absolute_percentage_error: 23.0891 - val_loss: 47787980.0000 - val_mean_absolute_percentage_error: 1745.0422\n",
      "Epoch 58/200\n",
      "1/1 [==============================] - 0s 58ms/step - loss: 22679.0312 - mean_absolute_percentage_error: 22.1685 - val_loss: 47845272.0000 - val_mean_absolute_percentage_error: 1746.0881\n",
      "Epoch 59/200\n",
      "1/1 [==============================] - 0s 65ms/step - loss: 21241.5957 - mean_absolute_percentage_error: 21.2704 - val_loss: 47892424.0000 - val_mean_absolute_percentage_error: 1746.9485\n",
      "Epoch 60/200\n",
      "1/1 [==============================] - 0s 76ms/step - loss: 19894.9570 - mean_absolute_percentage_error: 20.3949 - val_loss: 47930496.0000 - val_mean_absolute_percentage_error: 1747.6427\n",
      "Epoch 61/200\n",
      "1/1 [==============================] - 0s 56ms/step - loss: 18634.8086 - mean_absolute_percentage_error: 19.5417 - val_loss: 47960440.0000 - val_mean_absolute_percentage_error: 1748.1887\n",
      "Epoch 62/200\n",
      "1/1 [==============================] - 0s 69ms/step - loss: 17456.9414 - mean_absolute_percentage_error: 18.7108 - val_loss: 47983156.0000 - val_mean_absolute_percentage_error: 1748.6028\n",
      "Epoch 63/200\n",
      "1/1 [==============================] - 0s 57ms/step - loss: 16357.2744 - mean_absolute_percentage_error: 17.9020 - val_loss: 47999448.0000 - val_mean_absolute_percentage_error: 1748.8994\n",
      "Epoch 64/200\n",
      "1/1 [==============================] - 0s 67ms/step - loss: 15331.8154 - mean_absolute_percentage_error: 17.1153 - val_loss: 48010048.0000 - val_mean_absolute_percentage_error: 1749.0927\n",
      "Epoch 65/200\n",
      "1/1 [==============================] - 0s 63ms/step - loss: 14376.7070 - mean_absolute_percentage_error: 16.3504 - val_loss: 48015624.0000 - val_mean_absolute_percentage_error: 1749.1943\n",
      "Epoch 66/200\n",
      "1/1 [==============================] - 0s 66ms/step - loss: 13488.2002 - mean_absolute_percentage_error: 15.6071 - val_loss: 48016768.0000 - val_mean_absolute_percentage_error: 1749.2151\n",
      "Epoch 67/200\n",
      "1/1 [==============================] - 0s 68ms/step - loss: 12662.6689 - mean_absolute_percentage_error: 14.8853 - val_loss: 48014048.0000 - val_mean_absolute_percentage_error: 1749.1655\n",
      "Epoch 68/200\n",
      "1/1 [==============================] - 0s 60ms/step - loss: 11896.6143 - mean_absolute_percentage_error: 14.1848 - val_loss: 48007960.0000 - val_mean_absolute_percentage_error: 1749.0547\n",
      "Epoch 69/200\n",
      "1/1 [==============================] - 0s 96ms/step - loss: 11186.6514 - mean_absolute_percentage_error: 13.5053 - val_loss: 47998944.0000 - val_mean_absolute_percentage_error: 1748.8904\n",
      "Epoch 70/200\n",
      "1/1 [==============================] - 0s 65ms/step - loss: 10529.5293 - mean_absolute_percentage_error: 12.8466 - val_loss: 47987424.0000 - val_mean_absolute_percentage_error: 1748.6804\n",
      "Epoch 71/200\n",
      "1/1 [==============================] - 0s 57ms/step - loss: 9922.1113 - mean_absolute_percentage_error: 12.2084 - val_loss: 47973736.0000 - val_mean_absolute_percentage_error: 1748.4309\n",
      "Epoch 72/200\n",
      "1/1 [==============================] - 0s 62ms/step - loss: 9361.3877 - mean_absolute_percentage_error: 11.5905 - val_loss: 47958204.0000 - val_mean_absolute_percentage_error: 1748.1479\n",
      "Epoch 73/200\n",
      "1/1 [==============================] - 0s 65ms/step - loss: 8844.4863 - mean_absolute_percentage_error: 10.9927 - val_loss: 47941184.0000 - val_mean_absolute_percentage_error: 1747.8376\n",
      "Epoch 74/200\n",
      "1/1 [==============================] - 0s 53ms/step - loss: 8368.6309 - mean_absolute_percentage_error: 10.4146 - val_loss: 47922904.0000 - val_mean_absolute_percentage_error: 1747.5044\n",
      "Epoch 75/200\n",
      "1/1 [==============================] - 0s 58ms/step - loss: 7931.1909 - mean_absolute_percentage_error: 9.8559 - val_loss: 47903600.0000 - val_mean_absolute_percentage_error: 1747.1523\n",
      "Epoch 76/200\n",
      "1/1 [==============================] - 0s 65ms/step - loss: 7529.6416 - mean_absolute_percentage_error: 9.3163 - val_loss: 47883512.0000 - val_mean_absolute_percentage_error: 1746.7859\n",
      "Epoch 77/200\n",
      "1/1 [==============================] - 0s 63ms/step - loss: 7161.5781 - mean_absolute_percentage_error: 8.7956 - val_loss: 47862816.0000 - val_mean_absolute_percentage_error: 1746.4082\n",
      "Epoch 78/200\n",
      "1/1 [==============================] - 0s 59ms/step - loss: 6824.7178 - mean_absolute_percentage_error: 8.2933 - val_loss: 47841692.0000 - val_mean_absolute_percentage_error: 1746.0227\n",
      "Epoch 79/200\n",
      "1/1 [==============================] - 0s 64ms/step - loss: 6516.8906 - mean_absolute_percentage_error: 7.8093 - val_loss: 47820272.0000 - val_mean_absolute_percentage_error: 1745.6318\n",
      "Epoch 80/200\n",
      "1/1 [==============================] - 0s 57ms/step - loss: 6236.0361 - mean_absolute_percentage_error: 7.3430 - val_loss: 47798700.0000 - val_mean_absolute_percentage_error: 1745.2379\n",
      "Epoch 81/200\n",
      "1/1 [==============================] - 0s 61ms/step - loss: 5980.2070 - mean_absolute_percentage_error: 6.8942 - val_loss: 47777104.0000 - val_mean_absolute_percentage_error: 1744.8438\n",
      "Epoch 82/200\n",
      "1/1 [==============================] - 0s 58ms/step - loss: 5747.5532 - mean_absolute_percentage_error: 6.4626 - val_loss: 47755580.0000 - val_mean_absolute_percentage_error: 1744.4504\n",
      "Epoch 83/200\n",
      "1/1 [==============================] - 0s 57ms/step - loss: 5536.3301 - mean_absolute_percentage_error: 6.2393 - val_loss: 47734240.0000 - val_mean_absolute_percentage_error: 1744.0605\n",
      "Epoch 84/200\n",
      "1/1 [==============================] - 0s 59ms/step - loss: 5344.9033 - mean_absolute_percentage_error: 6.0537 - val_loss: 47713136.0000 - val_mean_absolute_percentage_error: 1743.6750\n",
      "Epoch 85/200\n",
      "1/1 [==============================] - 0s 58ms/step - loss: 5171.7246 - mean_absolute_percentage_error: 5.8756 - val_loss: 47692376.0000 - val_mean_absolute_percentage_error: 1743.2955\n",
      "Epoch 86/200\n",
      "1/1 [==============================] - 0s 57ms/step - loss: 5015.3369 - mean_absolute_percentage_error: 5.8779 - val_loss: 47671960.0000 - val_mean_absolute_percentage_error: 1742.9224\n",
      "Epoch 87/200\n",
      "1/1 [==============================] - 0s 58ms/step - loss: 4874.3848 - mean_absolute_percentage_error: 5.8996 - val_loss: 47652008.0000 - val_mean_absolute_percentage_error: 1742.5574\n",
      "Epoch 88/200\n",
      "1/1 [==============================] - 0s 60ms/step - loss: 4747.5894 - mean_absolute_percentage_error: 5.9204 - val_loss: 47632520.0000 - val_mean_absolute_percentage_error: 1742.2010\n",
      "Epoch 89/200\n",
      "1/1 [==============================] - 0s 59ms/step - loss: 4633.7568 - mean_absolute_percentage_error: 5.9403 - val_loss: 47613528.0000 - val_mean_absolute_percentage_error: 1741.8538\n",
      "Epoch 90/200\n",
      "1/1 [==============================] - 0s 50ms/step - loss: 4531.7744 - mean_absolute_percentage_error: 5.9593 - val_loss: 47595096.0000 - val_mean_absolute_percentage_error: 1741.5164\n",
      "Epoch 91/200\n",
      "1/1 [==============================] - 0s 61ms/step - loss: 4440.6069 - mean_absolute_percentage_error: 6.0230 - val_loss: 47577228.0000 - val_mean_absolute_percentage_error: 1741.1895\n",
      "Epoch 92/200\n",
      "1/1 [==============================] - 0s 49ms/step - loss: 4359.2866 - mean_absolute_percentage_error: 6.1855 - val_loss: 47559936.0000 - val_mean_absolute_percentage_error: 1740.8730\n",
      "Epoch 93/200\n",
      "1/1 [==============================] - 0s 50ms/step - loss: 4286.9209 - mean_absolute_percentage_error: 6.3405 - val_loss: 47543252.0000 - val_mean_absolute_percentage_error: 1740.5676\n",
      "Epoch 94/200\n",
      "1/1 [==============================] - 0s 57ms/step - loss: 4222.6777 - mean_absolute_percentage_error: 6.4882 - val_loss: 47527180.0000 - val_mean_absolute_percentage_error: 1740.2733\n",
      "Epoch 95/200\n",
      "1/1 [==============================] - 0s 55ms/step - loss: 4165.7886 - mean_absolute_percentage_error: 6.6287 - val_loss: 47511724.0000 - val_mean_absolute_percentage_error: 1739.9902\n",
      "Epoch 96/200\n",
      "1/1 [==============================] - 0s 59ms/step - loss: 4115.5425 - mean_absolute_percentage_error: 6.7623 - val_loss: 47496880.0000 - val_mean_absolute_percentage_error: 1739.7185\n",
      "Epoch 97/200\n",
      "1/1 [==============================] - 0s 60ms/step - loss: 4071.2876 - mean_absolute_percentage_error: 6.8893 - val_loss: 47482668.0000 - val_mean_absolute_percentage_error: 1739.4580\n",
      "Epoch 98/200\n",
      "1/1 [==============================] - 0s 52ms/step - loss: 4032.4219 - mean_absolute_percentage_error: 7.0098 - val_loss: 47469056.0000 - val_mean_absolute_percentage_error: 1739.2087\n",
      "Epoch 99/200\n",
      "1/1 [==============================] - 0s 72ms/step - loss: 3998.3936 - mean_absolute_percentage_error: 7.1241 - val_loss: 47456064.0000 - val_mean_absolute_percentage_error: 1738.9707\n",
      "Epoch 100/200\n",
      "1/1 [==============================] - 0s 52ms/step - loss: 3968.6965 - mean_absolute_percentage_error: 7.2323 - val_loss: 47443696.0000 - val_mean_absolute_percentage_error: 1738.7439\n",
      "Epoch 101/200\n",
      "1/1 [==============================] - 0s 60ms/step - loss: 3942.8660 - mean_absolute_percentage_error: 7.3346 - val_loss: 47431912.0000 - val_mean_absolute_percentage_error: 1738.5280\n",
      "Epoch 102/200\n",
      "1/1 [==============================] - 0s 65ms/step - loss: 3920.4819 - mean_absolute_percentage_error: 7.4314 - val_loss: 47420692.0000 - val_mean_absolute_percentage_error: 1738.3224\n",
      "Epoch 103/200\n",
      "1/1 [==============================] - 0s 59ms/step - loss: 3901.1592 - mean_absolute_percentage_error: 7.5227 - val_loss: 47410096.0000 - val_mean_absolute_percentage_error: 1738.1282\n",
      "Epoch 104/200\n",
      "1/1 [==============================] - 0s 57ms/step - loss: 3884.5471 - mean_absolute_percentage_error: 7.6088 - val_loss: 47400016.0000 - val_mean_absolute_percentage_error: 1737.9434\n",
      "Epoch 105/200\n",
      "1/1 [==============================] - 0s 60ms/step - loss: 3870.3301 - mean_absolute_percentage_error: 7.6899 - val_loss: 47390528.0000 - val_mean_absolute_percentage_error: 1737.7693\n",
      "Epoch 106/200\n",
      "1/1 [==============================] - 0s 52ms/step - loss: 3858.2214 - mean_absolute_percentage_error: 7.7662 - val_loss: 47381556.0000 - val_mean_absolute_percentage_error: 1737.6047\n",
      "Epoch 107/200\n",
      "1/1 [==============================] - 0s 58ms/step - loss: 3847.9634 - mean_absolute_percentage_error: 7.8378 - val_loss: 47373120.0000 - val_mean_absolute_percentage_error: 1737.4500\n",
      "Epoch 108/200\n",
      "1/1 [==============================] - 0s 51ms/step - loss: 3839.3228 - mean_absolute_percentage_error: 7.9050 - val_loss: 47365160.0000 - val_mean_absolute_percentage_error: 1737.3041\n",
      "Epoch 109/200\n",
      "1/1 [==============================] - 0s 60ms/step - loss: 3832.0913 - mean_absolute_percentage_error: 7.9679 - val_loss: 47357704.0000 - val_mean_absolute_percentage_error: 1737.1672\n",
      "Epoch 110/200\n",
      "1/1 [==============================] - 0s 55ms/step - loss: 3826.0830 - mean_absolute_percentage_error: 8.0267 - val_loss: 47350728.0000 - val_mean_absolute_percentage_error: 1737.0393\n",
      "Epoch 111/200\n",
      "1/1 [==============================] - 0s 55ms/step - loss: 3821.1304 - mean_absolute_percentage_error: 8.0816 - val_loss: 47344200.0000 - val_mean_absolute_percentage_error: 1736.9196\n",
      "Epoch 112/200\n",
      "1/1 [==============================] - 0s 52ms/step - loss: 3817.0857 - mean_absolute_percentage_error: 8.1328 - val_loss: 47338100.0000 - val_mean_absolute_percentage_error: 1736.8077\n",
      "Epoch 113/200\n",
      "1/1 [==============================] - 0s 64ms/step - loss: 3813.8174 - mean_absolute_percentage_error: 8.1804 - val_loss: 47332436.0000 - val_mean_absolute_percentage_error: 1736.7039\n",
      "Epoch 114/200\n",
      "1/1 [==============================] - 0s 58ms/step - loss: 3811.2097 - mean_absolute_percentage_error: 8.2246 - val_loss: 47327160.0000 - val_mean_absolute_percentage_error: 1736.6069\n",
      "Epoch 115/200\n",
      "1/1 [==============================] - 0s 56ms/step - loss: 3809.1604 - mean_absolute_percentage_error: 8.2655 - val_loss: 47322264.0000 - val_mean_absolute_percentage_error: 1736.5171\n",
      "Epoch 116/200\n",
      "1/1 [==============================] - 0s 53ms/step - loss: 3807.5791 - mean_absolute_percentage_error: 8.3034 - val_loss: 47317764.0000 - val_mean_absolute_percentage_error: 1736.4346\n",
      "Epoch 117/200\n",
      "1/1 [==============================] - 0s 59ms/step - loss: 3806.3882 - mean_absolute_percentage_error: 8.3383 - val_loss: 47313608.0000 - val_mean_absolute_percentage_error: 1736.3582\n",
      "Epoch 118/200\n",
      "1/1 [==============================] - 0s 55ms/step - loss: 3805.5186 - mean_absolute_percentage_error: 8.3705 - val_loss: 47309784.0000 - val_mean_absolute_percentage_error: 1736.2881\n",
      "Epoch 119/200\n",
      "1/1 [==============================] - 0s 62ms/step - loss: 3804.9121 - mean_absolute_percentage_error: 8.4000 - val_loss: 47306284.0000 - val_mean_absolute_percentage_error: 1736.2239\n",
      "Epoch 120/200\n",
      "1/1 [==============================] - 0s 54ms/step - loss: 3804.5173 - mean_absolute_percentage_error: 8.4270 - val_loss: 47303088.0000 - val_mean_absolute_percentage_error: 1736.1652\n",
      "Epoch 121/200\n",
      "1/1 [==============================] - 0s 57ms/step - loss: 3804.2910 - mean_absolute_percentage_error: 8.4516 - val_loss: 47300180.0000 - val_mean_absolute_percentage_error: 1736.1118\n",
      "Epoch 122/200\n",
      "1/1 [==============================] - 0s 53ms/step - loss: 3804.1960 - mean_absolute_percentage_error: 8.4740 - val_loss: 47297552.0000 - val_mean_absolute_percentage_error: 1736.0636\n",
      "Epoch 123/200\n",
      "1/1 [==============================] - 0s 60ms/step - loss: 3804.2007 - mean_absolute_percentage_error: 8.4942 - val_loss: 47295168.0000 - val_mean_absolute_percentage_error: 1736.0199\n",
      "Epoch 124/200\n",
      "1/1 [==============================] - 0s 50ms/step - loss: 3804.2793 - mean_absolute_percentage_error: 8.5125 - val_loss: 47293060.0000 - val_mean_absolute_percentage_error: 1735.9811\n",
      "Epoch 125/200\n",
      "1/1 [==============================] - 0s 54ms/step - loss: 3804.4097 - mean_absolute_percentage_error: 8.5289 - val_loss: 47291160.0000 - val_mean_absolute_percentage_error: 1735.9462\n",
      "Epoch 126/200\n",
      "1/1 [==============================] - 0s 61ms/step - loss: 3804.5735 - mean_absolute_percentage_error: 8.5436 - val_loss: 47289488.0000 - val_mean_absolute_percentage_error: 1735.9155\n",
      "Epoch 127/200\n",
      "1/1 [==============================] - 0s 55ms/step - loss: 3804.7571 - mean_absolute_percentage_error: 8.5565 - val_loss: 47288004.0000 - val_mean_absolute_percentage_error: 1735.8883\n",
      "Epoch 128/200\n",
      "1/1 [==============================] - 0s 60ms/step - loss: 3804.9478 - mean_absolute_percentage_error: 8.5680 - val_loss: 47286720.0000 - val_mean_absolute_percentage_error: 1735.8647\n",
      "Epoch 129/200\n",
      "1/1 [==============================] - 0s 47ms/step - loss: 3805.1367 - mean_absolute_percentage_error: 8.5780 - val_loss: 47285600.0000 - val_mean_absolute_percentage_error: 1735.8442\n",
      "Epoch 130/200\n",
      "1/1 [==============================] - 0s 52ms/step - loss: 3805.3176 - mean_absolute_percentage_error: 8.5866 - val_loss: 47284672.0000 - val_mean_absolute_percentage_error: 1735.8271\n",
      "Epoch 131/200\n",
      "1/1 [==============================] - 0s 59ms/step - loss: 3805.4844 - mean_absolute_percentage_error: 8.5940 - val_loss: 47283888.0000 - val_mean_absolute_percentage_error: 1735.8127\n",
      "Epoch 132/200\n",
      "1/1 [==============================] - 0s 48ms/step - loss: 3805.6333 - mean_absolute_percentage_error: 8.6002 - val_loss: 47283264.0000 - val_mean_absolute_percentage_error: 1735.8013\n",
      "Epoch 133/200\n",
      "1/1 [==============================] - 0s 51ms/step - loss: 3805.7627 - mean_absolute_percentage_error: 8.6053 - val_loss: 47282752.0000 - val_mean_absolute_percentage_error: 1735.7919\n",
      "Epoch 134/200\n",
      "1/1 [==============================] - 0s 60ms/step - loss: 3805.8706 - mean_absolute_percentage_error: 8.6095 - val_loss: 47282368.0000 - val_mean_absolute_percentage_error: 1735.7849\n",
      "Epoch 135/200\n",
      "1/1 [==============================] - 0s 59ms/step - loss: 3805.9568 - mean_absolute_percentage_error: 8.6127 - val_loss: 47282096.0000 - val_mean_absolute_percentage_error: 1735.7798\n",
      "Epoch 136/200\n",
      "1/1 [==============================] - 0s 51ms/step - loss: 3806.0210 - mean_absolute_percentage_error: 8.6150 - val_loss: 47281920.0000 - val_mean_absolute_percentage_error: 1735.7766\n",
      "Epoch 137/200\n",
      "1/1 [==============================] - 0s 67ms/step - loss: 3806.0649 - mean_absolute_percentage_error: 8.6166 - val_loss: 47281856.0000 - val_mean_absolute_percentage_error: 1735.7754\n",
      "Epoch 138/200\n",
      "1/1 [==============================] - 0s 157ms/step - loss: 3806.0889 - mean_absolute_percentage_error: 8.6174 - val_loss: 47281872.0000 - val_mean_absolute_percentage_error: 1735.7758\n",
      "Epoch 139/200\n",
      "1/1 [==============================] - 0s 52ms/step - loss: 3806.0942 - mean_absolute_percentage_error: 8.6176 - val_loss: 47281976.0000 - val_mean_absolute_percentage_error: 1735.7776\n",
      "Epoch 140/200\n",
      "1/1 [==============================] - 0s 56ms/step - loss: 3806.0833 - mean_absolute_percentage_error: 8.6172 - val_loss: 47282136.0000 - val_mean_absolute_percentage_error: 1735.7805\n",
      "Epoch 141/200\n",
      "1/1 [==============================] - 0s 53ms/step - loss: 3806.0569 - mean_absolute_percentage_error: 8.6163 - val_loss: 47282368.0000 - val_mean_absolute_percentage_error: 1735.7849\n",
      "Epoch 142/200\n",
      "1/1 [==============================] - 0s 52ms/step - loss: 3806.0171 - mean_absolute_percentage_error: 8.6149 - val_loss: 47282672.0000 - val_mean_absolute_percentage_error: 1735.7903\n",
      "Epoch 143/200\n",
      "1/1 [==============================] - 0s 63ms/step - loss: 3805.9668 - mean_absolute_percentage_error: 8.6130 - val_loss: 47283000.0000 - val_mean_absolute_percentage_error: 1735.7964\n",
      "Epoch 144/200\n",
      "1/1 [==============================] - 0s 65ms/step - loss: 3805.9058 - mean_absolute_percentage_error: 8.6108 - val_loss: 47283400.0000 - val_mean_absolute_percentage_error: 1735.8037\n",
      "Epoch 145/200\n",
      "1/1 [==============================] - 0s 58ms/step - loss: 3805.8374 - mean_absolute_percentage_error: 8.6082 - val_loss: 47283820.0000 - val_mean_absolute_percentage_error: 1735.8115\n",
      "Epoch 146/200\n",
      "1/1 [==============================] - 0s 61ms/step - loss: 3805.7629 - mean_absolute_percentage_error: 8.6054 - val_loss: 47284284.0000 - val_mean_absolute_percentage_error: 1735.8201\n",
      "Epoch 147/200\n",
      "1/1 [==============================] - 0s 60ms/step - loss: 3805.6836 - mean_absolute_percentage_error: 8.6022 - val_loss: 47284776.0000 - val_mean_absolute_percentage_error: 1735.8290\n",
      "Epoch 148/200\n",
      "1/1 [==============================] - 0s 58ms/step - loss: 3805.6006 - mean_absolute_percentage_error: 8.5989 - val_loss: 47285288.0000 - val_mean_absolute_percentage_error: 1735.8384\n",
      "Epoch 149/200\n",
      "1/1 [==============================] - 0s 63ms/step - loss: 3805.5159 - mean_absolute_percentage_error: 8.5954 - val_loss: 47285828.0000 - val_mean_absolute_percentage_error: 1735.8484\n",
      "Epoch 150/200\n",
      "1/1 [==============================] - 0s 76ms/step - loss: 3805.4299 - mean_absolute_percentage_error: 8.5917 - val_loss: 47286368.0000 - val_mean_absolute_percentage_error: 1735.8584\n",
      "Epoch 151/200\n",
      "1/1 [==============================] - 0s 93ms/step - loss: 3805.3442 - mean_absolute_percentage_error: 8.5878 - val_loss: 47286928.0000 - val_mean_absolute_percentage_error: 1735.8687\n",
      "Epoch 152/200\n",
      "1/1 [==============================] - 0s 106ms/step - loss: 3805.2598 - mean_absolute_percentage_error: 8.5839 - val_loss: 47287504.0000 - val_mean_absolute_percentage_error: 1735.8792\n",
      "Epoch 153/200\n",
      "1/1 [==============================] - 0s 56ms/step - loss: 3805.1765 - mean_absolute_percentage_error: 8.5800 - val_loss: 47288088.0000 - val_mean_absolute_percentage_error: 1735.8899\n",
      "Epoch 154/200\n",
      "1/1 [==============================] - 0s 59ms/step - loss: 3805.0962 - mean_absolute_percentage_error: 8.5759 - val_loss: 47288668.0000 - val_mean_absolute_percentage_error: 1735.9005\n",
      "Epoch 155/200\n",
      "1/1 [==============================] - 0s 57ms/step - loss: 3805.0186 - mean_absolute_percentage_error: 8.5719 - val_loss: 47289256.0000 - val_mean_absolute_percentage_error: 1735.9113\n",
      "Epoch 156/200\n",
      "1/1 [==============================] - 0s 73ms/step - loss: 3804.9438 - mean_absolute_percentage_error: 8.5678 - val_loss: 47289832.0000 - val_mean_absolute_percentage_error: 1735.9219\n",
      "Epoch 157/200\n",
      "1/1 [==============================] - 0s 65ms/step - loss: 3804.8730 - mean_absolute_percentage_error: 8.5637 - val_loss: 47290408.0000 - val_mean_absolute_percentage_error: 1735.9324\n",
      "Epoch 158/200\n",
      "1/1 [==============================] - 0s 61ms/step - loss: 3804.8066 - mean_absolute_percentage_error: 8.5597 - val_loss: 47290972.0000 - val_mean_absolute_percentage_error: 1735.9427\n",
      "Epoch 159/200\n",
      "1/1 [==============================] - 0s 71ms/step - loss: 3804.7439 - mean_absolute_percentage_error: 8.5557 - val_loss: 47291544.0000 - val_mean_absolute_percentage_error: 1735.9532\n",
      "Epoch 160/200\n",
      "1/1 [==============================] - 0s 65ms/step - loss: 3804.6851 - mean_absolute_percentage_error: 8.5518 - val_loss: 47292096.0000 - val_mean_absolute_percentage_error: 1735.9634\n",
      "Epoch 161/200\n",
      "1/1 [==============================] - 0s 69ms/step - loss: 3804.6304 - mean_absolute_percentage_error: 8.5479 - val_loss: 47292632.0000 - val_mean_absolute_percentage_error: 1735.9733\n",
      "Epoch 162/200\n",
      "1/1 [==============================] - 0s 69ms/step - loss: 3804.5801 - mean_absolute_percentage_error: 8.5441 - val_loss: 47293152.0000 - val_mean_absolute_percentage_error: 1735.9828\n",
      "Epoch 163/200\n",
      "1/1 [==============================] - 0s 69ms/step - loss: 3804.5337 - mean_absolute_percentage_error: 8.5404 - val_loss: 47293664.0000 - val_mean_absolute_percentage_error: 1735.9922\n",
      "Epoch 164/200\n",
      "1/1 [==============================] - 0s 57ms/step - loss: 3804.4917 - mean_absolute_percentage_error: 8.5367 - val_loss: 47294160.0000 - val_mean_absolute_percentage_error: 1736.0012\n",
      "Epoch 165/200\n",
      "1/1 [==============================] - 0s 72ms/step - loss: 3804.4531 - mean_absolute_percentage_error: 8.5332 - val_loss: 47294648.0000 - val_mean_absolute_percentage_error: 1736.0103\n",
      "Epoch 166/200\n",
      "1/1 [==============================] - 0s 81ms/step - loss: 3804.4182 - mean_absolute_percentage_error: 8.5298 - val_loss: 47295112.0000 - val_mean_absolute_percentage_error: 1736.0188\n",
      "Epoch 167/200\n",
      "1/1 [==============================] - 0s 69ms/step - loss: 3804.3870 - mean_absolute_percentage_error: 8.5265 - val_loss: 47295560.0000 - val_mean_absolute_percentage_error: 1736.0270\n",
      "Epoch 168/200\n",
      "1/1 [==============================] - 0s 73ms/step - loss: 3804.3589 - mean_absolute_percentage_error: 8.5233 - val_loss: 47295988.0000 - val_mean_absolute_percentage_error: 1736.0349\n",
      "Epoch 169/200\n",
      "1/1 [==============================] - 0s 75ms/step - loss: 3804.3340 - mean_absolute_percentage_error: 8.5203 - val_loss: 47296408.0000 - val_mean_absolute_percentage_error: 1736.0425\n",
      "Epoch 170/200\n",
      "1/1 [==============================] - 0s 61ms/step - loss: 3804.3115 - mean_absolute_percentage_error: 8.5173 - val_loss: 47296808.0000 - val_mean_absolute_percentage_error: 1736.0500\n",
      "Epoch 171/200\n",
      "1/1 [==============================] - 0s 73ms/step - loss: 3804.2920 - mean_absolute_percentage_error: 8.5145 - val_loss: 47297184.0000 - val_mean_absolute_percentage_error: 1736.0569\n",
      "Epoch 172/200\n",
      "1/1 [==============================] - 0s 67ms/step - loss: 3804.2751 - mean_absolute_percentage_error: 8.5118 - val_loss: 47297544.0000 - val_mean_absolute_percentage_error: 1736.0635\n",
      "Epoch 173/200\n",
      "1/1 [==============================] - 0s 74ms/step - loss: 3804.2600 - mean_absolute_percentage_error: 8.5092 - val_loss: 47297896.0000 - val_mean_absolute_percentage_error: 1736.0699\n",
      "Epoch 174/200\n",
      "1/1 [==============================] - 0s 58ms/step - loss: 3804.2473 - mean_absolute_percentage_error: 8.5068 - val_loss: 47298224.0000 - val_mean_absolute_percentage_error: 1736.0759\n",
      "Epoch 175/200\n",
      "1/1 [==============================] - 0s 85ms/step - loss: 3804.2361 - mean_absolute_percentage_error: 8.5045 - val_loss: 47298532.0000 - val_mean_absolute_percentage_error: 1736.0815\n",
      "Epoch 176/200\n",
      "1/1 [==============================] - 0s 57ms/step - loss: 3804.2266 - mean_absolute_percentage_error: 8.5023 - val_loss: 47298828.0000 - val_mean_absolute_percentage_error: 1736.0870\n",
      "Epoch 177/200\n",
      "1/1 [==============================] - 0s 67ms/step - loss: 3804.2185 - mean_absolute_percentage_error: 8.5002 - val_loss: 47299104.0000 - val_mean_absolute_percentage_error: 1736.0920\n",
      "Epoch 178/200\n",
      "1/1 [==============================] - 0s 73ms/step - loss: 3804.2119 - mean_absolute_percentage_error: 8.4982 - val_loss: 47299368.0000 - val_mean_absolute_percentage_error: 1736.0969\n",
      "Epoch 179/200\n",
      "1/1 [==============================] - 0s 64ms/step - loss: 3804.2065 - mean_absolute_percentage_error: 8.4964 - val_loss: 47299608.0000 - val_mean_absolute_percentage_error: 1736.1013\n",
      "Epoch 180/200\n",
      "1/1 [==============================] - 0s 68ms/step - loss: 3804.2017 - mean_absolute_percentage_error: 8.4946 - val_loss: 47299836.0000 - val_mean_absolute_percentage_error: 1736.1055\n",
      "Epoch 181/200\n",
      "1/1 [==============================] - 0s 61ms/step - loss: 3804.1980 - mean_absolute_percentage_error: 8.4930 - val_loss: 47300052.0000 - val_mean_absolute_percentage_error: 1736.1094\n",
      "Epoch 182/200\n",
      "1/1 [==============================] - 0s 66ms/step - loss: 3804.1953 - mean_absolute_percentage_error: 8.4915 - val_loss: 47300248.0000 - val_mean_absolute_percentage_error: 1736.1130\n",
      "Epoch 183/200\n",
      "1/1 [==============================] - 0s 82ms/step - loss: 3804.1929 - mean_absolute_percentage_error: 8.4901 - val_loss: 47300432.0000 - val_mean_absolute_percentage_error: 1736.1165\n",
      "Epoch 184/200\n",
      "1/1 [==============================] - 0s 59ms/step - loss: 3804.1912 - mean_absolute_percentage_error: 8.4888 - val_loss: 47300600.0000 - val_mean_absolute_percentage_error: 1736.1195\n",
      "Epoch 185/200\n",
      "1/1 [==============================] - 0s 60ms/step - loss: 3804.1899 - mean_absolute_percentage_error: 8.4876 - val_loss: 47300760.0000 - val_mean_absolute_percentage_error: 1736.1226\n",
      "Epoch 186/200\n",
      "1/1 [==============================] - 0s 72ms/step - loss: 3804.1887 - mean_absolute_percentage_error: 8.4865 - val_loss: 47300904.0000 - val_mean_absolute_percentage_error: 1736.1251\n",
      "Epoch 187/200\n",
      "1/1 [==============================] - 0s 65ms/step - loss: 3804.1880 - mean_absolute_percentage_error: 8.4854 - val_loss: 47301040.0000 - val_mean_absolute_percentage_error: 1736.1277\n",
      "Epoch 188/200\n",
      "1/1 [==============================] - 0s 61ms/step - loss: 3804.1880 - mean_absolute_percentage_error: 8.4845 - val_loss: 47301160.0000 - val_mean_absolute_percentage_error: 1736.1299\n",
      "Epoch 189/200\n",
      "1/1 [==============================] - 0s 65ms/step - loss: 3804.1875 - mean_absolute_percentage_error: 8.4837 - val_loss: 47301268.0000 - val_mean_absolute_percentage_error: 1736.1318\n",
      "Epoch 190/200\n",
      "1/1 [==============================] - 0s 66ms/step - loss: 3804.1875 - mean_absolute_percentage_error: 8.4829 - val_loss: 47301360.0000 - val_mean_absolute_percentage_error: 1736.1335\n",
      "Epoch 191/200\n",
      "1/1 [==============================] - 0s 71ms/step - loss: 3804.1875 - mean_absolute_percentage_error: 8.4822 - val_loss: 47301456.0000 - val_mean_absolute_percentage_error: 1736.1353\n",
      "Epoch 192/200\n",
      "1/1 [==============================] - 0s 77ms/step - loss: 3804.1880 - mean_absolute_percentage_error: 8.4816 - val_loss: 47301528.0000 - val_mean_absolute_percentage_error: 1736.1365\n",
      "Epoch 193/200\n",
      "1/1 [==============================] - 0s 68ms/step - loss: 3804.1880 - mean_absolute_percentage_error: 8.4810 - val_loss: 47301604.0000 - val_mean_absolute_percentage_error: 1736.1379\n",
      "Epoch 194/200\n",
      "1/1 [==============================] - 0s 64ms/step - loss: 3804.1882 - mean_absolute_percentage_error: 8.4805 - val_loss: 47301664.0000 - val_mean_absolute_percentage_error: 1736.1390\n",
      "Epoch 195/200\n",
      "1/1 [==============================] - 0s 86ms/step - loss: 3804.1885 - mean_absolute_percentage_error: 8.4801 - val_loss: 47301716.0000 - val_mean_absolute_percentage_error: 1736.1401\n",
      "Epoch 196/200\n",
      "1/1 [==============================] - 0s 57ms/step - loss: 3804.1885 - mean_absolute_percentage_error: 8.4797 - val_loss: 47301764.0000 - val_mean_absolute_percentage_error: 1736.1409\n",
      "Epoch 197/200\n",
      "1/1 [==============================] - 0s 70ms/step - loss: 3804.1887 - mean_absolute_percentage_error: 8.4794 - val_loss: 47301800.0000 - val_mean_absolute_percentage_error: 1736.1416\n",
      "Epoch 198/200\n",
      "1/1 [==============================] - 0s 69ms/step - loss: 3804.1890 - mean_absolute_percentage_error: 8.4791 - val_loss: 47301832.0000 - val_mean_absolute_percentage_error: 1736.1421\n",
      "Epoch 199/200\n",
      "1/1 [==============================] - 0s 68ms/step - loss: 3804.1890 - mean_absolute_percentage_error: 8.4789 - val_loss: 47301856.0000 - val_mean_absolute_percentage_error: 1736.1426\n",
      "Epoch 200/200\n",
      "1/1 [==============================] - 0s 93ms/step - loss: 3804.1895 - mean_absolute_percentage_error: 8.4787 - val_loss: 47301880.0000 - val_mean_absolute_percentage_error: 1736.1429\n"
     ]
    }
   ],
   "source": [
    "def by_lstm(X_train1, y_train1,X_val1,y_val1):\n",
    "    model1 = Sequential()\n",
    "    model1.add(InputLayer((3, 1)))\n",
    "    model1.add(LSTM(32))\n",
    "    model1.add(Dense(8, 'relu'))\n",
    "    model1.add(Dense(1, 'linear'))\n",
    "\n",
    "    # model1.summary()\n",
    "\n",
    "    cp1 = ModelCheckpoint('model1/', save_best_only=True)\n",
    "    model1.compile(loss=MeanSquaredError(), optimizer=Adam(learning_rate=10), metrics=[MeanAbsolutePercentageError()])\n",
    "\n",
    "    model1.fit(X_train1, y_train1, validation_data=(X_val1, y_val1), epochs=200, callbacks=[cp1])\n",
    "    return model1\n",
    "model1=by_lstm(X_train1, y_train1, X_val1,y_val1)"
   ]
  },
  {
   "cell_type": "code",
   "execution_count": 168,
   "metadata": {
    "collapsed": false,
    "pycharm": {
     "name": "#%%\n"
    }
   },
   "outputs": [],
   "source": [
    "# model1 = load_model('model1/')"
   ]
  },
  {
   "cell_type": "code",
   "execution_count": 169,
   "metadata": {
    "collapsed": false,
    "pycharm": {
     "name": "#%%\n"
    }
   },
   "outputs": [
    {
     "name": "stdout",
     "output_type": "stream",
     "text": [
      "WARNING:tensorflow:Model was constructed with shape (None, 3, 1) for input KerasTensor(type_spec=TensorSpec(shape=(None, 3, 1), dtype=tf.float32, name='input_8'), name='input_8', description=\"created by layer 'input_8'\"), but it was called on an input with incompatible shape (None,).\n"
     ]
    },
    {
     "name": "stderr",
     "output_type": "stream",
     "text": [
      "WARNING:tensorflow:Model was constructed with shape (None, 3, 1) for input KerasTensor(type_spec=TensorSpec(shape=(None, 3, 1), dtype=tf.float32, name='input_8'), name='input_8', description=\"created by layer 'input_8'\"), but it was called on an input with incompatible shape (None,).\n"
     ]
    },
    {
     "ename": "ValueError",
     "evalue": "in user code:\n\n    File \"/Users/murathansaygili/Desktop/SIC/venv/lib/python3.9/site-packages/keras/engine/training.py\", line 1845, in predict_function  *\n        return step_function(self, iterator)\n    File \"/Users/murathansaygili/Desktop/SIC/venv/lib/python3.9/site-packages/keras/engine/training.py\", line 1834, in step_function  **\n        outputs = model.distribute_strategy.run(run_step, args=(data,))\n    File \"/Users/murathansaygili/Desktop/SIC/venv/lib/python3.9/site-packages/keras/engine/training.py\", line 1823, in run_step  **\n        outputs = model.predict_step(data)\n    File \"/Users/murathansaygili/Desktop/SIC/venv/lib/python3.9/site-packages/keras/engine/training.py\", line 1791, in predict_step\n        return self(x, training=False)\n    File \"/Users/murathansaygili/Desktop/SIC/venv/lib/python3.9/site-packages/keras/utils/traceback_utils.py\", line 67, in error_handler\n        raise e.with_traceback(filtered_tb) from None\n    File \"/Users/murathansaygili/Desktop/SIC/venv/lib/python3.9/site-packages/keras/engine/input_spec.py\", line 214, in assert_input_compatibility\n        raise ValueError(f'Input {input_index} of layer \"{layer_name}\" '\n\n    ValueError: Exception encountered when calling layer \"sequential_7\" (type Sequential).\n    \n    Input 0 of layer \"lstm_4\" is incompatible with the layer: expected ndim=3, found ndim=1. Full shape received: (None,)\n    \n    Call arguments received by layer \"sequential_7\" (type Sequential):\n      • inputs=tf.Tensor(shape=(None,), dtype=int64)\n      • training=False\n      • mask=None\n",
     "output_type": "error",
     "traceback": [
      "\u001b[0;31m---------------------------------------------------------------------------\u001b[0m",
      "\u001b[0;31mValueError\u001b[0m                                Traceback (most recent call last)",
      "\u001b[1;32m/Users/murathansaygili/Desktop/SIC/Food-Supply-Chain/module_1.ipynb Cell 27\u001b[0m in \u001b[0;36m<cell line: 2>\u001b[0;34m()\u001b[0m\n\u001b[1;32m      <a href='vscode-notebook-cell:/Users/murathansaygili/Desktop/SIC/Food-Supply-Chain/module_1.ipynb#ch0000030?line=0'>1</a>\u001b[0m test_predictions_x\u001b[39m=\u001b[39mtf\u001b[39m.\u001b[39mconvert_to_tensor(X, dtype\u001b[39m=\u001b[39mtf\u001b[39m.\u001b[39mint64)\n\u001b[0;32m----> <a href='vscode-notebook-cell:/Users/murathansaygili/Desktop/SIC/Food-Supply-Chain/module_1.ipynb#ch0000030?line=1'>2</a>\u001b[0m train_predictions \u001b[39m=\u001b[39m model1\u001b[39m.\u001b[39;49mpredict(test_predictions_x)\u001b[39m.\u001b[39mflatten()\n\u001b[1;32m      <a href='vscode-notebook-cell:/Users/murathansaygili/Desktop/SIC/Food-Supply-Chain/module_1.ipynb#ch0000030?line=2'>3</a>\u001b[0m train_results \u001b[39m=\u001b[39m pd\u001b[39m.\u001b[39mDataFrame(data\u001b[39m=\u001b[39m{\u001b[39m'\u001b[39m\u001b[39mTrain Predictions\u001b[39m\u001b[39m'\u001b[39m:train_predictions, \u001b[39m'\u001b[39m\u001b[39mActuals\u001b[39m\u001b[39m'\u001b[39m:y_train1})\n\u001b[1;32m      <a href='vscode-notebook-cell:/Users/murathansaygili/Desktop/SIC/Food-Supply-Chain/module_1.ipynb#ch0000030?line=3'>4</a>\u001b[0m train_results\n",
      "File \u001b[0;32m~/Desktop/SIC/venv/lib/python3.9/site-packages/keras/utils/traceback_utils.py:67\u001b[0m, in \u001b[0;36mfilter_traceback.<locals>.error_handler\u001b[0;34m(*args, **kwargs)\u001b[0m\n\u001b[1;32m     65\u001b[0m \u001b[39mexcept\u001b[39;00m \u001b[39mException\u001b[39;00m \u001b[39mas\u001b[39;00m e:  \u001b[39m# pylint: disable=broad-except\u001b[39;00m\n\u001b[1;32m     66\u001b[0m   filtered_tb \u001b[39m=\u001b[39m _process_traceback_frames(e\u001b[39m.\u001b[39m__traceback__)\n\u001b[0;32m---> 67\u001b[0m   \u001b[39mraise\u001b[39;00m e\u001b[39m.\u001b[39mwith_traceback(filtered_tb) \u001b[39mfrom\u001b[39;00m \u001b[39mNone\u001b[39m\n\u001b[1;32m     68\u001b[0m \u001b[39mfinally\u001b[39;00m:\n\u001b[1;32m     69\u001b[0m   \u001b[39mdel\u001b[39;00m filtered_tb\n",
      "File \u001b[0;32m/var/folders/t6/nkv95bj97gv9j73w9bfk2p0r0000gn/T/__autograph_generated_file6psr69_m.py:15\u001b[0m, in \u001b[0;36mouter_factory.<locals>.inner_factory.<locals>.tf__predict_function\u001b[0;34m(iterator)\u001b[0m\n\u001b[1;32m     13\u001b[0m \u001b[39mtry\u001b[39;00m:\n\u001b[1;32m     14\u001b[0m     do_return \u001b[39m=\u001b[39m \u001b[39mTrue\u001b[39;00m\n\u001b[0;32m---> 15\u001b[0m     retval_ \u001b[39m=\u001b[39m ag__\u001b[39m.\u001b[39mconverted_call(ag__\u001b[39m.\u001b[39mld(step_function), (ag__\u001b[39m.\u001b[39mld(\u001b[39mself\u001b[39m), ag__\u001b[39m.\u001b[39mld(iterator)), \u001b[39mNone\u001b[39;00m, fscope)\n\u001b[1;32m     16\u001b[0m \u001b[39mexcept\u001b[39;00m:\n\u001b[1;32m     17\u001b[0m     do_return \u001b[39m=\u001b[39m \u001b[39mFalse\u001b[39;00m\n",
      "\u001b[0;31mValueError\u001b[0m: in user code:\n\n    File \"/Users/murathansaygili/Desktop/SIC/venv/lib/python3.9/site-packages/keras/engine/training.py\", line 1845, in predict_function  *\n        return step_function(self, iterator)\n    File \"/Users/murathansaygili/Desktop/SIC/venv/lib/python3.9/site-packages/keras/engine/training.py\", line 1834, in step_function  **\n        outputs = model.distribute_strategy.run(run_step, args=(data,))\n    File \"/Users/murathansaygili/Desktop/SIC/venv/lib/python3.9/site-packages/keras/engine/training.py\", line 1823, in run_step  **\n        outputs = model.predict_step(data)\n    File \"/Users/murathansaygili/Desktop/SIC/venv/lib/python3.9/site-packages/keras/engine/training.py\", line 1791, in predict_step\n        return self(x, training=False)\n    File \"/Users/murathansaygili/Desktop/SIC/venv/lib/python3.9/site-packages/keras/utils/traceback_utils.py\", line 67, in error_handler\n        raise e.with_traceback(filtered_tb) from None\n    File \"/Users/murathansaygili/Desktop/SIC/venv/lib/python3.9/site-packages/keras/engine/input_spec.py\", line 214, in assert_input_compatibility\n        raise ValueError(f'Input {input_index} of layer \"{layer_name}\" '\n\n    ValueError: Exception encountered when calling layer \"sequential_7\" (type Sequential).\n    \n    Input 0 of layer \"lstm_4\" is incompatible with the layer: expected ndim=3, found ndim=1. Full shape received: (None,)\n    \n    Call arguments received by layer \"sequential_7\" (type Sequential):\n      • inputs=tf.Tensor(shape=(None,), dtype=int64)\n      • training=False\n      • mask=None\n"
     ]
    }
   ],
   "source": [
    "test_predictions_x=tf.convert_to_tensor(X, dtype=tf.int64)\n",
    "train_predictions = model1.predict(test_predictions_x).flatten()\n",
    "train_results = pd.DataFrame(data={'Train Predictions':train_predictions, 'Actuals':y_train1})\n",
    "train_results"
   ]
  },
  {
   "cell_type": "code",
   "execution_count": 165,
   "metadata": {},
   "outputs": [
    {
     "name": "stdout",
     "output_type": "stream",
     "text": [
      "MAPE = 8.478546382439319\n"
     ]
    }
   ],
   "source": [
    "mean_absolute_error(y_train1,train_predictions)\n",
    "print(\"MAPE =\",np.mean(np.abs((y_train1 - train_predictions)/y_train1))*100)"
   ]
  },
  {
   "cell_type": "code",
   "execution_count": 166,
   "metadata": {
    "collapsed": false,
    "pycharm": {
     "name": "#%%\n"
    }
   },
   "outputs": [
    {
     "data": {
      "text/plain": [
       "<matplotlib.legend.Legend at 0x7fec08282430>"
      ]
     },
     "execution_count": 166,
     "metadata": {},
     "output_type": "execute_result"
    },
    {
     "data": {
      "image/png": "[encoded data removed]",
      "text/plain": [
       "<Figure size 432x288 with 1 Axes>"
      ]
     },
     "metadata": {
      "needs_background": "light"
     },
     "output_type": "display_data"
    }
   ],
   "source": [
    "plt.plot(train_results['Train Predictions'])\n",
    "plt.plot(train_results['Actuals'])\n",
    "plt.legend(['Prediction', 'Actual'], loc='lower right')"
   ]
  },
  {
   "cell_type": "code",
   "execution_count": 105,
   "metadata": {
    "collapsed": false,
    "pycharm": {
     "name": "#%%\n"
    }
   },
   "outputs": [
    {
     "name": "stdout",
     "output_type": "stream",
     "text": [
      "1/1 [==============================] - 0s 19ms/step\n"
     ]
    },
    {
     "data": {
      "text/html": [
       "<div>\n",
       "<style scoped>\n",
       "    .dataframe tbody tr th:only-of-type {\n",
       "        vertical-align: middle;\n",
       "    }\n",
       "\n",
       "    .dataframe tbody tr th {\n",
       "        vertical-align: top;\n",
       "    }\n",
       "\n",
       "    .dataframe thead th {\n",
       "        text-align: right;\n",
       "    }\n",
       "</style>\n",
       "<table border=\"1\" class=\"dataframe\">\n",
       "  <thead>\n",
       "    <tr style=\"text-align: right;\">\n",
       "      <th></th>\n",
       "      <th>Val Predictions</th>\n",
       "      <th>Actuals</th>\n",
       "    </tr>\n",
       "  </thead>\n",
       "  <tbody>\n",
       "    <tr>\n",
       "      <th>0</th>\n",
       "      <td>597.078186</td>\n",
       "      <td>378.0</td>\n",
       "    </tr>\n",
       "    <tr>\n",
       "      <th>1</th>\n",
       "      <td>597.078186</td>\n",
       "      <td>416.0</td>\n",
       "    </tr>\n",
       "  </tbody>\n",
       "</table>\n",
       "</div>"
      ],
      "text/plain": [
       "   Val Predictions  Actuals\n",
       "0       597.078186    378.0\n",
       "1       597.078186    416.0"
      ]
     },
     "execution_count": 105,
     "metadata": {},
     "output_type": "execute_result"
    }
   ],
   "source": [
    "val_predictions = model1.predict(X_val1).flatten()\n",
    "val_results = pd.DataFrame(data={'Val Predictions':val_predictions, 'Actuals':y_val1})\n",
    "val_results"
   ]
  },
  {
   "cell_type": "code",
   "execution_count": 106,
   "metadata": {
    "collapsed": false,
    "pycharm": {
     "name": "#%%\n"
    }
   },
   "outputs": [],
   "source": [
    "# plt.plot(val_results['Val Predictions'])\n",
    "# plt.plot(val_results['Actuals'])"
   ]
  },
  {
   "cell_type": "code",
   "execution_count": 107,
   "metadata": {
    "collapsed": false,
    "pycharm": {
     "name": "#%%\n"
    }
   },
   "outputs": [
    {
     "name": "stdout",
     "output_type": "stream",
     "text": [
      "1/1 [==============================] - 0s 17ms/step\n"
     ]
    },
    {
     "data": {
      "text/html": [
       "<div>\n",
       "<style scoped>\n",
       "    .dataframe tbody tr th:only-of-type {\n",
       "        vertical-align: middle;\n",
       "    }\n",
       "\n",
       "    .dataframe tbody tr th {\n",
       "        vertical-align: top;\n",
       "    }\n",
       "\n",
       "    .dataframe thead th {\n",
       "        text-align: right;\n",
       "    }\n",
       "</style>\n",
       "<table border=\"1\" class=\"dataframe\">\n",
       "  <thead>\n",
       "    <tr style=\"text-align: right;\">\n",
       "      <th></th>\n",
       "      <th>Test Predictions</th>\n",
       "      <th>Actuals</th>\n",
       "    </tr>\n",
       "  </thead>\n",
       "  <tbody>\n",
       "    <tr>\n",
       "      <th>0</th>\n",
       "      <td>597.078186</td>\n",
       "      <td>467.0</td>\n",
       "    </tr>\n",
       "  </tbody>\n",
       "</table>\n",
       "</div>"
      ],
      "text/plain": [
       "   Test Predictions  Actuals\n",
       "0        597.078186    467.0"
      ]
     },
     "execution_count": 107,
     "metadata": {},
     "output_type": "execute_result"
    }
   ],
   "source": [
    "test_predictions = model1.predict(X_test1).flatten()\n",
    "test_results = pd.DataFrame(data={'Test Predictions':test_predictions, 'Actuals':y_test1})\n",
    "test_results"
   ]
  },
  {
   "cell_type": "code",
   "execution_count": 108,
   "metadata": {},
   "outputs": [
    {
     "name": "stdout",
     "output_type": "stream",
     "text": [
      "dict_keys(['loss', 'mean_absolute_percentage_error', 'val_loss', 'val_mean_absolute_percentage_error'])\n"
     ]
    },
    {
     "data": {
      "image/png": "[encoded data removed]",
      "text/plain": [
       "<Figure size 576x432 with 1 Axes>"
      ]
     },
     "metadata": {
      "needs_background": "light"
     },
     "output_type": "display_data"
    }
   ],
   "source": [
    "history = model1.fit(X_train1, y_train1, validation_data=(X_val1, y_val1), epochs=100, verbose=0)  #..., callbacks=[cp1], verbose=0)\n",
    "print(history.history.keys())\n",
    "\n",
    "figure(figsize=(8, 6))\n",
    "plt.plot(history.history['loss'])\n",
    "plt.plot(history.history['val_loss'])\n",
    "plt.title('model loss')\n",
    "plt.ylabel('loss')\n",
    "plt.xlabel('epoch')\n",
    "plt.legend(['train', 'test'], loc='upper left')\n",
    "plt.show()"
   ]
  },
  {
   "cell_type": "markdown",
   "metadata": {},
   "source": [
    "# GRU MODEL"
   ]
  },
  {
   "cell_type": "code",
   "execution_count": 118,
   "metadata": {
    "collapsed": false,
    "pycharm": {
     "name": "#%%\n"
    }
   },
   "outputs": [
    {
     "name": "stdout",
     "output_type": "stream",
     "text": [
      "Model: \"sequential_5\"\n",
      "_________________________________________________________________\n",
      " Layer (type)                Output Shape              Param #   \n",
      "=================================================================\n",
      " gru_2 (GRU)                 (None, 64)                12864     \n",
      "                                                                 \n",
      " dense_12 (Dense)            (None, 50)                3250      \n",
      "                                                                 \n",
      " dense_13 (Dense)            (None, 50)                2550      \n",
      "                                                                 \n",
      " dense_14 (Dense)            (None, 1)                 51        \n",
      "                                                                 \n",
      "=================================================================\n",
      "Total params: 18,715\n",
      "Trainable params: 18,715\n",
      "Non-trainable params: 0\n",
      "_________________________________________________________________\n"
     ]
    }
   ],
   "source": [
    "model3 = Sequential()\n",
    "model3.add(InputLayer((3, 1)))\n",
    "model3.add(GRU(64))\n",
    "model3.add(Dense(50, 'relu'))\n",
    "model3.add(Dense(50, 'relu'))\n",
    "model3.add(Dense(1, 'linear'))\n",
    "model3.summary()\n",
    "\n",
    "cp3 = ModelCheckpoint('model3/', save_best_only=True)\n",
    "model3.compile(loss=MeanAbsolutePercentageError(), optimizer=Adam(learning_rate=0.1), metrics=[MeanAbsolutePercentageError()])"
   ]
  },
  {
   "cell_type": "code",
   "execution_count": 128,
   "metadata": {},
   "outputs": [
    {
     "name": "stdout",
     "output_type": "stream",
     "text": [
      "Epoch 1/200\n",
      "1/1 [==============================] - 0s 78ms/step - loss: 6.4526 - mean_absolute_percentage_error: 6.4526 - val_loss: 86.4784 - val_mean_absolute_percentage_error: 86.4784\n",
      "Epoch 2/200\n",
      "1/1 [==============================] - 0s 30ms/step - loss: 7.8426 - mean_absolute_percentage_error: 7.8426 - val_loss: 85.0237 - val_mean_absolute_percentage_error: 85.0237\n",
      "Epoch 3/200\n",
      "1/1 [==============================] - 0s 31ms/step - loss: 8.2409 - mean_absolute_percentage_error: 8.2409 - val_loss: 84.6030 - val_mean_absolute_percentage_error: 84.6030\n",
      "Epoch 4/200\n",
      "1/1 [==============================] - 0s 31ms/step - loss: 7.3199 - mean_absolute_percentage_error: 7.3199 - val_loss: 82.2083 - val_mean_absolute_percentage_error: 82.2083\n",
      "Epoch 5/200\n",
      "1/1 [==============================] - 0s 26ms/step - loss: 7.9806 - mean_absolute_percentage_error: 7.9806 - val_loss: 84.3759 - val_mean_absolute_percentage_error: 84.3759\n",
      "Epoch 6/200\n",
      "1/1 [==============================] - 0s 24ms/step - loss: 7.9474 - mean_absolute_percentage_error: 7.9474 - val_loss: 84.6413 - val_mean_absolute_percentage_error: 84.6413\n",
      "Epoch 7/200\n",
      "1/1 [==============================] - 0s 28ms/step - loss: 6.7850 - mean_absolute_percentage_error: 6.7850 - val_loss: 85.5645 - val_mean_absolute_percentage_error: 85.5645\n",
      "Epoch 8/200\n",
      "1/1 [==============================] - 0s 31ms/step - loss: 7.1025 - mean_absolute_percentage_error: 7.1025 - val_loss: 86.0594 - val_mean_absolute_percentage_error: 86.0594\n",
      "Epoch 9/200\n",
      "1/1 [==============================] - 0s 31ms/step - loss: 7.3939 - mean_absolute_percentage_error: 7.3939 - val_loss: 86.1598 - val_mean_absolute_percentage_error: 86.1598\n",
      "Epoch 10/200\n",
      "1/1 [==============================] - 0s 30ms/step - loss: 6.1945 - mean_absolute_percentage_error: 6.1945 - val_loss: 85.8158 - val_mean_absolute_percentage_error: 85.8158\n",
      "Epoch 11/200\n",
      "1/1 [==============================] - 0s 31ms/step - loss: 7.0098 - mean_absolute_percentage_error: 7.0098 - val_loss: 85.8998 - val_mean_absolute_percentage_error: 85.8998\n",
      "Epoch 12/200\n",
      "1/1 [==============================] - 0s 32ms/step - loss: 7.4637 - mean_absolute_percentage_error: 7.4637 - val_loss: 86.4730 - val_mean_absolute_percentage_error: 86.4730\n",
      "Epoch 13/200\n",
      "1/1 [==============================] - 0s 30ms/step - loss: 5.4216 - mean_absolute_percentage_error: 5.4216 - val_loss: 86.0350 - val_mean_absolute_percentage_error: 86.0350\n",
      "Epoch 14/200\n",
      "1/1 [==============================] - 0s 31ms/step - loss: 7.8448 - mean_absolute_percentage_error: 7.8448 - val_loss: 85.4209 - val_mean_absolute_percentage_error: 85.4209\n",
      "Epoch 15/200\n",
      "1/1 [==============================] - 0s 31ms/step - loss: 9.3003 - mean_absolute_percentage_error: 9.3003 - val_loss: 85.1503 - val_mean_absolute_percentage_error: 85.1503\n",
      "Epoch 16/200\n",
      "1/1 [==============================] - 0s 30ms/step - loss: 7.5298 - mean_absolute_percentage_error: 7.5298 - val_loss: 84.8377 - val_mean_absolute_percentage_error: 84.8377\n",
      "Epoch 17/200\n",
      "1/1 [==============================] - 0s 28ms/step - loss: 5.3208 - mean_absolute_percentage_error: 5.3208 - val_loss: 84.6001 - val_mean_absolute_percentage_error: 84.6001\n",
      "Epoch 18/200\n",
      "1/1 [==============================] - 0s 29ms/step - loss: 8.1123 - mean_absolute_percentage_error: 8.1123 - val_loss: 84.5826 - val_mean_absolute_percentage_error: 84.5826\n",
      "Epoch 19/200\n",
      "1/1 [==============================] - 0s 25ms/step - loss: 8.4444 - mean_absolute_percentage_error: 8.4444 - val_loss: 84.7537 - val_mean_absolute_percentage_error: 84.7537\n",
      "Epoch 20/200\n",
      "1/1 [==============================] - 0s 24ms/step - loss: 6.1663 - mean_absolute_percentage_error: 6.1663 - val_loss: 85.0914 - val_mean_absolute_percentage_error: 85.0914\n",
      "Epoch 21/200\n",
      "1/1 [==============================] - 0s 26ms/step - loss: 5.2701 - mean_absolute_percentage_error: 5.2701 - val_loss: 85.2432 - val_mean_absolute_percentage_error: 85.2432\n",
      "Epoch 22/200\n",
      "1/1 [==============================] - 0s 24ms/step - loss: 6.3972 - mean_absolute_percentage_error: 6.3972 - val_loss: 85.0624 - val_mean_absolute_percentage_error: 85.0624\n",
      "Epoch 23/200\n",
      "1/1 [==============================] - 0s 40ms/step - loss: 3.6554 - mean_absolute_percentage_error: 3.6554 - val_loss: 84.7448 - val_mean_absolute_percentage_error: 84.7448\n",
      "Epoch 24/200\n",
      "1/1 [==============================] - 0s 26ms/step - loss: 4.6499 - mean_absolute_percentage_error: 4.6499 - val_loss: 84.6424 - val_mean_absolute_percentage_error: 84.6424\n",
      "Epoch 25/200\n",
      "1/1 [==============================] - 0s 25ms/step - loss: 6.7100 - mean_absolute_percentage_error: 6.7100 - val_loss: 84.9020 - val_mean_absolute_percentage_error: 84.9020\n",
      "Epoch 26/200\n",
      "1/1 [==============================] - 0s 26ms/step - loss: 2.1011 - mean_absolute_percentage_error: 2.1011 - val_loss: 85.1456 - val_mean_absolute_percentage_error: 85.1456\n",
      "Epoch 27/200\n",
      "1/1 [==============================] - 0s 27ms/step - loss: 4.3520 - mean_absolute_percentage_error: 4.3520 - val_loss: 85.0479 - val_mean_absolute_percentage_error: 85.0479\n",
      "Epoch 28/200\n",
      "1/1 [==============================] - 0s 26ms/step - loss: 1.9169 - mean_absolute_percentage_error: 1.9169 - val_loss: 84.8630 - val_mean_absolute_percentage_error: 84.8630\n",
      "Epoch 29/200\n",
      "1/1 [==============================] - 0s 24ms/step - loss: 3.8532 - mean_absolute_percentage_error: 3.8532 - val_loss: 87.4400 - val_mean_absolute_percentage_error: 87.4400\n",
      "Epoch 30/200\n",
      "1/1 [==============================] - 0s 24ms/step - loss: 1.6995 - mean_absolute_percentage_error: 1.6995 - val_loss: 88.2012 - val_mean_absolute_percentage_error: 88.2012\n",
      "Epoch 31/200\n",
      "1/1 [==============================] - 0s 24ms/step - loss: 4.5532 - mean_absolute_percentage_error: 4.5532 - val_loss: 87.7640 - val_mean_absolute_percentage_error: 87.7640\n",
      "Epoch 32/200\n",
      "1/1 [==============================] - 0s 28ms/step - loss: 2.6946 - mean_absolute_percentage_error: 2.6946 - val_loss: 87.6194 - val_mean_absolute_percentage_error: 87.6194\n",
      "Epoch 33/200\n",
      "1/1 [==============================] - 0s 26ms/step - loss: 3.0561 - mean_absolute_percentage_error: 3.0561 - val_loss: 87.8175 - val_mean_absolute_percentage_error: 87.8175\n",
      "Epoch 34/200\n",
      "1/1 [==============================] - 0s 24ms/step - loss: 3.2932 - mean_absolute_percentage_error: 3.2932 - val_loss: 87.7025 - val_mean_absolute_percentage_error: 87.7025\n",
      "Epoch 35/200\n",
      "1/1 [==============================] - 0s 25ms/step - loss: 3.6932 - mean_absolute_percentage_error: 3.6932 - val_loss: 87.5703 - val_mean_absolute_percentage_error: 87.5703\n",
      "Epoch 36/200\n",
      "1/1 [==============================] - 0s 24ms/step - loss: 3.1659 - mean_absolute_percentage_error: 3.1659 - val_loss: 86.9118 - val_mean_absolute_percentage_error: 86.9118\n",
      "Epoch 37/200\n",
      "1/1 [==============================] - 0s 24ms/step - loss: 1.0916 - mean_absolute_percentage_error: 1.0916 - val_loss: 86.3195 - val_mean_absolute_percentage_error: 86.3195\n",
      "Epoch 38/200\n",
      "1/1 [==============================] - 0s 25ms/step - loss: 2.1697 - mean_absolute_percentage_error: 2.1697 - val_loss: 86.1782 - val_mean_absolute_percentage_error: 86.1782\n",
      "Epoch 39/200\n",
      "1/1 [==============================] - 0s 37ms/step - loss: 2.4477 - mean_absolute_percentage_error: 2.4477 - val_loss: 85.6602 - val_mean_absolute_percentage_error: 85.6602\n",
      "Epoch 40/200\n",
      "1/1 [==============================] - 0s 31ms/step - loss: 2.0069 - mean_absolute_percentage_error: 2.0069 - val_loss: 85.0225 - val_mean_absolute_percentage_error: 85.0225\n",
      "Epoch 41/200\n",
      "1/1 [==============================] - 0s 29ms/step - loss: 4.7137 - mean_absolute_percentage_error: 4.7137 - val_loss: 85.1807 - val_mean_absolute_percentage_error: 85.1807\n",
      "Epoch 42/200\n",
      "1/1 [==============================] - 0s 25ms/step - loss: 1.9497 - mean_absolute_percentage_error: 1.9497 - val_loss: 85.3842 - val_mean_absolute_percentage_error: 85.3842\n",
      "Epoch 43/200\n",
      "1/1 [==============================] - 0s 31ms/step - loss: 2.1469 - mean_absolute_percentage_error: 2.1469 - val_loss: 85.3795 - val_mean_absolute_percentage_error: 85.3795\n",
      "Epoch 44/200\n",
      "1/1 [==============================] - 0s 32ms/step - loss: 1.9925 - mean_absolute_percentage_error: 1.9925 - val_loss: 85.2084 - val_mean_absolute_percentage_error: 85.2084\n",
      "Epoch 45/200\n",
      "1/1 [==============================] - 0s 34ms/step - loss: 1.9281 - mean_absolute_percentage_error: 1.9281 - val_loss: 85.2179 - val_mean_absolute_percentage_error: 85.2179\n",
      "Epoch 46/200\n",
      "1/1 [==============================] - 0s 34ms/step - loss: 1.2299 - mean_absolute_percentage_error: 1.2299 - val_loss: 85.3815 - val_mean_absolute_percentage_error: 85.3815\n",
      "Epoch 47/200\n",
      "1/1 [==============================] - 0s 31ms/step - loss: 3.0905 - mean_absolute_percentage_error: 3.0905 - val_loss: 85.1603 - val_mean_absolute_percentage_error: 85.1603\n",
      "Epoch 48/200\n",
      "1/1 [==============================] - 0s 29ms/step - loss: 0.9240 - mean_absolute_percentage_error: 0.9240 - val_loss: 85.0997 - val_mean_absolute_percentage_error: 85.0997\n",
      "Epoch 49/200\n",
      "1/1 [==============================] - 0s 26ms/step - loss: 1.2526 - mean_absolute_percentage_error: 1.2526 - val_loss: 84.8178 - val_mean_absolute_percentage_error: 84.8178\n",
      "Epoch 50/200\n",
      "1/1 [==============================] - 0s 24ms/step - loss: 2.0019 - mean_absolute_percentage_error: 2.0019 - val_loss: 84.8894 - val_mean_absolute_percentage_error: 84.8894\n",
      "Epoch 51/200\n",
      "1/1 [==============================] - 0s 24ms/step - loss: 2.3802 - mean_absolute_percentage_error: 2.3802 - val_loss: 84.5469 - val_mean_absolute_percentage_error: 84.5469\n",
      "Epoch 52/200\n",
      "1/1 [==============================] - 0s 25ms/step - loss: 1.4412 - mean_absolute_percentage_error: 1.4412 - val_loss: 84.2670 - val_mean_absolute_percentage_error: 84.2670\n",
      "Epoch 53/200\n",
      "1/1 [==============================] - 0s 26ms/step - loss: 3.2847 - mean_absolute_percentage_error: 3.2847 - val_loss: 84.4149 - val_mean_absolute_percentage_error: 84.4149\n",
      "Epoch 54/200\n",
      "1/1 [==============================] - 0s 25ms/step - loss: 1.2947 - mean_absolute_percentage_error: 1.2947 - val_loss: 84.1803 - val_mean_absolute_percentage_error: 84.1803\n",
      "Epoch 55/200\n",
      "1/1 [==============================] - 0s 23ms/step - loss: 1.5907 - mean_absolute_percentage_error: 1.5907 - val_loss: 84.1698 - val_mean_absolute_percentage_error: 84.1698\n",
      "Epoch 56/200\n",
      "1/1 [==============================] - 0s 26ms/step - loss: 0.6580 - mean_absolute_percentage_error: 0.6580 - val_loss: 84.3466 - val_mean_absolute_percentage_error: 84.3466\n",
      "Epoch 57/200\n",
      "1/1 [==============================] - 0s 28ms/step - loss: 3.4826 - mean_absolute_percentage_error: 3.4826 - val_loss: 84.1194 - val_mean_absolute_percentage_error: 84.1194\n",
      "Epoch 58/200\n",
      "1/1 [==============================] - 0s 25ms/step - loss: 1.5528 - mean_absolute_percentage_error: 1.5528 - val_loss: 83.6913 - val_mean_absolute_percentage_error: 83.6913\n",
      "Epoch 59/200\n",
      "1/1 [==============================] - 0s 25ms/step - loss: 5.4082 - mean_absolute_percentage_error: 5.4082 - val_loss: 83.6744 - val_mean_absolute_percentage_error: 83.6744\n",
      "Epoch 60/200\n",
      "1/1 [==============================] - 0s 25ms/step - loss: 3.6091 - mean_absolute_percentage_error: 3.6091 - val_loss: 84.0396 - val_mean_absolute_percentage_error: 84.0396\n",
      "Epoch 61/200\n",
      "1/1 [==============================] - 0s 26ms/step - loss: 4.7731 - mean_absolute_percentage_error: 4.7731 - val_loss: 83.9450 - val_mean_absolute_percentage_error: 83.9450\n",
      "Epoch 62/200\n",
      "1/1 [==============================] - 0s 27ms/step - loss: 5.8351 - mean_absolute_percentage_error: 5.8351 - val_loss: 83.3673 - val_mean_absolute_percentage_error: 83.3673\n",
      "Epoch 63/200\n",
      "1/1 [==============================] - 0s 25ms/step - loss: 2.5989 - mean_absolute_percentage_error: 2.5989 - val_loss: 82.8492 - val_mean_absolute_percentage_error: 82.8492\n",
      "Epoch 64/200\n",
      "1/1 [==============================] - 0s 28ms/step - loss: 7.4509 - mean_absolute_percentage_error: 7.4509 - val_loss: 82.7575 - val_mean_absolute_percentage_error: 82.7575\n",
      "Epoch 65/200\n",
      "1/1 [==============================] - 0s 29ms/step - loss: 7.5296 - mean_absolute_percentage_error: 7.5296 - val_loss: 83.1048 - val_mean_absolute_percentage_error: 83.1048\n",
      "Epoch 66/200\n",
      "1/1 [==============================] - 0s 27ms/step - loss: 1.8371 - mean_absolute_percentage_error: 1.8371 - val_loss: 83.4167 - val_mean_absolute_percentage_error: 83.4167\n",
      "Epoch 67/200\n",
      "1/1 [==============================] - 0s 33ms/step - loss: 5.8723 - mean_absolute_percentage_error: 5.8723 - val_loss: 83.3243 - val_mean_absolute_percentage_error: 83.3243\n",
      "Epoch 68/200\n",
      "1/1 [==============================] - 0s 37ms/step - loss: 5.4027 - mean_absolute_percentage_error: 5.4027 - val_loss: 82.8688 - val_mean_absolute_percentage_error: 82.8688\n",
      "Epoch 69/200\n",
      "1/1 [==============================] - 0s 36ms/step - loss: 1.6349 - mean_absolute_percentage_error: 1.6349 - val_loss: 82.6879 - val_mean_absolute_percentage_error: 82.6879\n",
      "Epoch 70/200\n",
      "1/1 [==============================] - 0s 29ms/step - loss: 3.8100 - mean_absolute_percentage_error: 3.8100 - val_loss: 82.9478 - val_mean_absolute_percentage_error: 82.9478\n",
      "Epoch 71/200\n",
      "1/1 [==============================] - 0s 30ms/step - loss: 0.6979 - mean_absolute_percentage_error: 0.6979 - val_loss: 82.7842 - val_mean_absolute_percentage_error: 82.7842\n",
      "Epoch 72/200\n",
      "1/1 [==============================] - 0s 33ms/step - loss: 1.8195 - mean_absolute_percentage_error: 1.8195 - val_loss: 83.0475 - val_mean_absolute_percentage_error: 83.0475\n",
      "Epoch 73/200\n",
      "1/1 [==============================] - 0s 38ms/step - loss: 2.5365 - mean_absolute_percentage_error: 2.5365 - val_loss: 82.8930 - val_mean_absolute_percentage_error: 82.8930\n",
      "Epoch 74/200\n",
      "1/1 [==============================] - 0s 38ms/step - loss: 0.4958 - mean_absolute_percentage_error: 0.4958 - val_loss: 82.9545 - val_mean_absolute_percentage_error: 82.9545\n",
      "Epoch 75/200\n",
      "1/1 [==============================] - 0s 38ms/step - loss: 0.9351 - mean_absolute_percentage_error: 0.9351 - val_loss: 82.6132 - val_mean_absolute_percentage_error: 82.6132\n",
      "Epoch 76/200\n",
      "1/1 [==============================] - 0s 36ms/step - loss: 4.8434 - mean_absolute_percentage_error: 4.8434 - val_loss: 82.7216 - val_mean_absolute_percentage_error: 82.7216\n",
      "Epoch 77/200\n",
      "1/1 [==============================] - 0s 36ms/step - loss: 3.1905 - mean_absolute_percentage_error: 3.1905 - val_loss: 83.2284 - val_mean_absolute_percentage_error: 83.2284\n",
      "Epoch 78/200\n",
      "1/1 [==============================] - 0s 37ms/step - loss: 4.8528 - mean_absolute_percentage_error: 4.8528 - val_loss: 83.3017 - val_mean_absolute_percentage_error: 83.3017\n",
      "Epoch 79/200\n",
      "1/1 [==============================] - 0s 38ms/step - loss: 5.8079 - mean_absolute_percentage_error: 5.8079 - val_loss: 82.9887 - val_mean_absolute_percentage_error: 82.9887\n",
      "Epoch 80/200\n",
      "1/1 [==============================] - 0s 36ms/step - loss: 0.8933 - mean_absolute_percentage_error: 0.8933 - val_loss: 82.7064 - val_mean_absolute_percentage_error: 82.7064\n",
      "Epoch 81/200\n",
      "1/1 [==============================] - 0s 35ms/step - loss: 4.2550 - mean_absolute_percentage_error: 4.2550 - val_loss: 82.8631 - val_mean_absolute_percentage_error: 82.8631\n",
      "Epoch 82/200\n",
      "1/1 [==============================] - 0s 31ms/step - loss: 1.8595 - mean_absolute_percentage_error: 1.8595 - val_loss: 83.4060 - val_mean_absolute_percentage_error: 83.4060\n",
      "Epoch 83/200\n",
      "1/1 [==============================] - 0s 29ms/step - loss: 6.6167 - mean_absolute_percentage_error: 6.6167 - val_loss: 83.5204 - val_mean_absolute_percentage_error: 83.5204\n",
      "Epoch 84/200\n",
      "1/1 [==============================] - 0s 25ms/step - loss: 8.1443 - mean_absolute_percentage_error: 8.1443 - val_loss: 83.2552 - val_mean_absolute_percentage_error: 83.2552\n",
      "Epoch 85/200\n",
      "1/1 [==============================] - 0s 23ms/step - loss: 3.7414 - mean_absolute_percentage_error: 3.7414 - val_loss: 82.6339 - val_mean_absolute_percentage_error: 82.6339\n",
      "Epoch 86/200\n",
      "1/1 [==============================] - 0s 24ms/step - loss: 6.6952 - mean_absolute_percentage_error: 6.6952 - val_loss: 82.4892 - val_mean_absolute_percentage_error: 82.4892\n",
      "Epoch 87/200\n",
      "1/1 [==============================] - 0s 25ms/step - loss: 9.4637 - mean_absolute_percentage_error: 9.4637 - val_loss: 82.7817 - val_mean_absolute_percentage_error: 82.7817\n",
      "Epoch 88/200\n",
      "1/1 [==============================] - 0s 24ms/step - loss: 4.8587 - mean_absolute_percentage_error: 4.8587 - val_loss: 83.4518 - val_mean_absolute_percentage_error: 83.4518\n",
      "Epoch 89/200\n",
      "1/1 [==============================] - 0s 26ms/step - loss: 5.5728 - mean_absolute_percentage_error: 5.5728 - val_loss: 83.6816 - val_mean_absolute_percentage_error: 83.6816\n",
      "Epoch 90/200\n",
      "1/1 [==============================] - 0s 24ms/step - loss: 8.7417 - mean_absolute_percentage_error: 8.7417 - val_loss: 83.5268 - val_mean_absolute_percentage_error: 83.5268\n",
      "Epoch 91/200\n",
      "1/1 [==============================] - 0s 24ms/step - loss: 5.9915 - mean_absolute_percentage_error: 5.9915 - val_loss: 83.0179 - val_mean_absolute_percentage_error: 83.0179\n",
      "Epoch 92/200\n",
      "1/1 [==============================] - 0s 23ms/step - loss: 2.4993 - mean_absolute_percentage_error: 2.4993 - val_loss: 82.9567 - val_mean_absolute_percentage_error: 82.9567\n",
      "Epoch 93/200\n",
      "1/1 [==============================] - 0s 23ms/step - loss: 3.8982 - mean_absolute_percentage_error: 3.8982 - val_loss: 83.3032 - val_mean_absolute_percentage_error: 83.3032\n",
      "Epoch 94/200\n",
      "1/1 [==============================] - 0s 24ms/step - loss: 1.6674 - mean_absolute_percentage_error: 1.6674 - val_loss: 83.4208 - val_mean_absolute_percentage_error: 83.4208\n",
      "Epoch 95/200\n",
      "1/1 [==============================] - 0s 23ms/step - loss: 2.9357 - mean_absolute_percentage_error: 2.9357 - val_loss: 83.1504 - val_mean_absolute_percentage_error: 83.1504\n",
      "Epoch 96/200\n",
      "1/1 [==============================] - 0s 24ms/step - loss: 1.6297 - mean_absolute_percentage_error: 1.6297 - val_loss: 83.2982 - val_mean_absolute_percentage_error: 83.2982\n",
      "Epoch 97/200\n",
      "1/1 [==============================] - 0s 24ms/step - loss: 0.9921 - mean_absolute_percentage_error: 0.9921 - val_loss: 83.4361 - val_mean_absolute_percentage_error: 83.4361\n",
      "Epoch 98/200\n",
      "1/1 [==============================] - 0s 40ms/step - loss: 2.5203 - mean_absolute_percentage_error: 2.5203 - val_loss: 83.1853 - val_mean_absolute_percentage_error: 83.1853\n",
      "Epoch 99/200\n",
      "1/1 [==============================] - 0s 33ms/step - loss: 1.7291 - mean_absolute_percentage_error: 1.7291 - val_loss: 83.3493 - val_mean_absolute_percentage_error: 83.3493\n",
      "Epoch 100/200\n",
      "1/1 [==============================] - 0s 29ms/step - loss: 1.0149 - mean_absolute_percentage_error: 1.0149 - val_loss: 83.3116 - val_mean_absolute_percentage_error: 83.3116\n",
      "Epoch 101/200\n",
      "1/1 [==============================] - 0s 26ms/step - loss: 1.0330 - mean_absolute_percentage_error: 1.0330 - val_loss: 83.4740 - val_mean_absolute_percentage_error: 83.4740\n",
      "Epoch 102/200\n",
      "1/1 [==============================] - 0s 29ms/step - loss: 2.3919 - mean_absolute_percentage_error: 2.3919 - val_loss: 83.2448 - val_mean_absolute_percentage_error: 83.2448\n",
      "Epoch 103/200\n",
      "1/1 [==============================] - 0s 24ms/step - loss: 1.4689 - mean_absolute_percentage_error: 1.4689 - val_loss: 83.4282 - val_mean_absolute_percentage_error: 83.4282\n",
      "Epoch 104/200\n",
      "1/1 [==============================] - 0s 25ms/step - loss: 1.2728 - mean_absolute_percentage_error: 1.2728 - val_loss: 83.2174 - val_mean_absolute_percentage_error: 83.2174\n",
      "Epoch 105/200\n",
      "1/1 [==============================] - 0s 26ms/step - loss: 2.3746 - mean_absolute_percentage_error: 2.3746 - val_loss: 83.4053 - val_mean_absolute_percentage_error: 83.4053\n",
      "Epoch 106/200\n",
      "1/1 [==============================] - 0s 25ms/step - loss: 0.7402 - mean_absolute_percentage_error: 0.7402 - val_loss: 83.3947 - val_mean_absolute_percentage_error: 83.3947\n",
      "Epoch 107/200\n",
      "1/1 [==============================] - 0s 25ms/step - loss: 0.4794 - mean_absolute_percentage_error: 0.4794 - val_loss: 83.2075 - val_mean_absolute_percentage_error: 83.2075\n",
      "Epoch 108/200\n",
      "1/1 [==============================] - 0s 26ms/step - loss: 3.1149 - mean_absolute_percentage_error: 3.1149 - val_loss: 83.4291 - val_mean_absolute_percentage_error: 83.4291\n",
      "Epoch 109/200\n",
      "1/1 [==============================] - 0s 24ms/step - loss: 0.3550 - mean_absolute_percentage_error: 0.3550 - val_loss: 83.6089 - val_mean_absolute_percentage_error: 83.6089\n",
      "Epoch 110/200\n",
      "1/1 [==============================] - 0s 25ms/step - loss: 2.9206 - mean_absolute_percentage_error: 2.9206 - val_loss: 83.4098 - val_mean_absolute_percentage_error: 83.4098\n",
      "Epoch 111/200\n",
      "1/1 [==============================] - 0s 24ms/step - loss: 0.5282 - mean_absolute_percentage_error: 0.5282 - val_loss: 83.4170 - val_mean_absolute_percentage_error: 83.4170\n",
      "Epoch 112/200\n",
      "1/1 [==============================] - 0s 24ms/step - loss: 0.5883 - mean_absolute_percentage_error: 0.5883 - val_loss: 83.8072 - val_mean_absolute_percentage_error: 83.8072\n",
      "Epoch 113/200\n",
      "1/1 [==============================] - 0s 26ms/step - loss: 5.3687 - mean_absolute_percentage_error: 5.3687 - val_loss: 83.7935 - val_mean_absolute_percentage_error: 83.7935\n",
      "Epoch 114/200\n",
      "1/1 [==============================] - 0s 24ms/step - loss: 4.9775 - mean_absolute_percentage_error: 4.9775 - val_loss: 83.4148 - val_mean_absolute_percentage_error: 83.4148\n",
      "Epoch 115/200\n",
      "1/1 [==============================] - 0s 26ms/step - loss: 1.1619 - mean_absolute_percentage_error: 1.1619 - val_loss: 83.4588 - val_mean_absolute_percentage_error: 83.4588\n",
      "Epoch 116/200\n",
      "1/1 [==============================] - 0s 26ms/step - loss: 0.6790 - mean_absolute_percentage_error: 0.6790 - val_loss: 83.6945 - val_mean_absolute_percentage_error: 83.6945\n",
      "Epoch 117/200\n",
      "1/1 [==============================] - 0s 24ms/step - loss: 2.8240 - mean_absolute_percentage_error: 2.8240 - val_loss: 83.5348 - val_mean_absolute_percentage_error: 83.5348\n",
      "Epoch 118/200\n",
      "1/1 [==============================] - 0s 25ms/step - loss: 0.7504 - mean_absolute_percentage_error: 0.7504 - val_loss: 83.3919 - val_mean_absolute_percentage_error: 83.3919\n",
      "Epoch 119/200\n",
      "1/1 [==============================] - 0s 27ms/step - loss: 2.2674 - mean_absolute_percentage_error: 2.2674 - val_loss: 83.6517 - val_mean_absolute_percentage_error: 83.6517\n",
      "Epoch 120/200\n",
      "1/1 [==============================] - 0s 24ms/step - loss: 1.7934 - mean_absolute_percentage_error: 1.7934 - val_loss: 83.5146 - val_mean_absolute_percentage_error: 83.5146\n",
      "Epoch 121/200\n",
      "1/1 [==============================] - 0s 25ms/step - loss: 0.5941 - mean_absolute_percentage_error: 0.5941 - val_loss: 83.5903 - val_mean_absolute_percentage_error: 83.5903\n",
      "Epoch 122/200\n",
      "1/1 [==============================] - 0s 25ms/step - loss: 0.7141 - mean_absolute_percentage_error: 0.7141 - val_loss: 83.4388 - val_mean_absolute_percentage_error: 83.4388\n",
      "Epoch 123/200\n",
      "1/1 [==============================] - 0s 23ms/step - loss: 1.2899 - mean_absolute_percentage_error: 1.2899 - val_loss: 83.5966 - val_mean_absolute_percentage_error: 83.5966\n",
      "Epoch 124/200\n",
      "1/1 [==============================] - 0s 23ms/step - loss: 3.0560 - mean_absolute_percentage_error: 3.0560 - val_loss: 83.2714 - val_mean_absolute_percentage_error: 83.2714\n",
      "Epoch 125/200\n",
      "1/1 [==============================] - 0s 24ms/step - loss: 1.1521 - mean_absolute_percentage_error: 1.1521 - val_loss: 82.9145 - val_mean_absolute_percentage_error: 82.9145\n",
      "Epoch 126/200\n",
      "1/1 [==============================] - 0s 29ms/step - loss: 3.8958 - mean_absolute_percentage_error: 3.8958 - val_loss: 83.0058 - val_mean_absolute_percentage_error: 83.0058\n",
      "Epoch 127/200\n",
      "1/1 [==============================] - 0s 26ms/step - loss: 2.0952 - mean_absolute_percentage_error: 2.0952 - val_loss: 83.4893 - val_mean_absolute_percentage_error: 83.4893\n",
      "Epoch 128/200\n",
      "1/1 [==============================] - 0s 24ms/step - loss: 5.5262 - mean_absolute_percentage_error: 5.5262 - val_loss: 83.5592 - val_mean_absolute_percentage_error: 83.5592\n",
      "Epoch 129/200\n",
      "1/1 [==============================] - 0s 23ms/step - loss: 6.6133 - mean_absolute_percentage_error: 6.6133 - val_loss: 83.2586 - val_mean_absolute_percentage_error: 83.2586\n",
      "Epoch 130/200\n",
      "1/1 [==============================] - 0s 23ms/step - loss: 2.0304 - mean_absolute_percentage_error: 2.0304 - val_loss: 82.6118 - val_mean_absolute_percentage_error: 82.6118\n",
      "Epoch 131/200\n",
      "1/1 [==============================] - 0s 25ms/step - loss: 8.3735 - mean_absolute_percentage_error: 8.3735 - val_loss: 82.4401 - val_mean_absolute_percentage_error: 82.4401\n",
      "Epoch 132/200\n",
      "1/1 [==============================] - 0s 25ms/step - loss: 11.3541 - mean_absolute_percentage_error: 11.3541 - val_loss: 82.7029 - val_mean_absolute_percentage_error: 82.7029\n",
      "Epoch 133/200\n",
      "1/1 [==============================] - 0s 23ms/step - loss: 7.1400 - mean_absolute_percentage_error: 7.1400 - val_loss: 83.3428 - val_mean_absolute_percentage_error: 83.3428\n",
      "Epoch 134/200\n",
      "1/1 [==============================] - 0s 24ms/step - loss: 2.8436 - mean_absolute_percentage_error: 2.8436 - val_loss: 83.5436 - val_mean_absolute_percentage_error: 83.5436\n",
      "Epoch 135/200\n",
      "1/1 [==============================] - 0s 26ms/step - loss: 5.7376 - mean_absolute_percentage_error: 5.7376 - val_loss: 83.3582 - val_mean_absolute_percentage_error: 83.3582\n",
      "Epoch 136/200\n",
      "1/1 [==============================] - 0s 27ms/step - loss: 2.7875 - mean_absolute_percentage_error: 2.7875 - val_loss: 82.8180 - val_mean_absolute_percentage_error: 82.8180\n",
      "Epoch 137/200\n",
      "1/1 [==============================] - 0s 26ms/step - loss: 5.8701 - mean_absolute_percentage_error: 5.8701 - val_loss: 82.7290 - val_mean_absolute_percentage_error: 82.7290\n",
      "Epoch 138/200\n",
      "1/1 [==============================] - 0s 23ms/step - loss: 7.4527 - mean_absolute_percentage_error: 7.4527 - val_loss: 83.0506 - val_mean_absolute_percentage_error: 83.0506\n",
      "Epoch 139/200\n",
      "1/1 [==============================] - 0s 25ms/step - loss: 2.4103 - mean_absolute_percentage_error: 2.4103 - val_loss: 83.7274 - val_mean_absolute_percentage_error: 83.7274\n",
      "Epoch 140/200\n",
      "1/1 [==============================] - 0s 24ms/step - loss: 7.7805 - mean_absolute_percentage_error: 7.7805 - val_loss: 83.9832 - val_mean_absolute_percentage_error: 83.9832\n",
      "Epoch 141/200\n",
      "1/1 [==============================] - 0s 29ms/step - loss: 11.2829 - mean_absolute_percentage_error: 11.2829 - val_loss: 83.8704 - val_mean_absolute_percentage_error: 83.8704\n",
      "Epoch 142/200\n",
      "1/1 [==============================] - 0s 27ms/step - loss: 9.3910 - mean_absolute_percentage_error: 9.3910 - val_loss: 83.4209 - val_mean_absolute_percentage_error: 83.4209\n",
      "Epoch 143/200\n",
      "1/1 [==============================] - 0s 25ms/step - loss: 2.3766 - mean_absolute_percentage_error: 2.3766 - val_loss: 82.6487 - val_mean_absolute_percentage_error: 82.6487\n",
      "Epoch 144/200\n",
      "1/1 [==============================] - 0s 25ms/step - loss: 10.2990 - mean_absolute_percentage_error: 10.2990 - val_loss: 82.3592 - val_mean_absolute_percentage_error: 82.3592\n",
      "Epoch 145/200\n",
      "1/1 [==============================] - 0s 27ms/step - loss: 15.5358 - mean_absolute_percentage_error: 15.5358 - val_loss: 82.5176 - val_mean_absolute_percentage_error: 82.5176\n",
      "Epoch 146/200\n",
      "1/1 [==============================] - 0s 31ms/step - loss: 13.1807 - mean_absolute_percentage_error: 13.1807 - val_loss: 83.0720 - val_mean_absolute_percentage_error: 83.0720\n",
      "Epoch 147/200\n",
      "1/1 [==============================] - 0s 25ms/step - loss: 4.4066 - mean_absolute_percentage_error: 4.4066 - val_loss: 83.9589 - val_mean_absolute_percentage_error: 83.9589\n",
      "Epoch 148/200\n",
      "1/1 [==============================] - 0s 25ms/step - loss: 8.7795 - mean_absolute_percentage_error: 8.7795 - val_loss: 84.4144 - val_mean_absolute_percentage_error: 84.4144\n",
      "Epoch 149/200\n",
      "1/1 [==============================] - 0s 26ms/step - loss: 14.8259 - mean_absolute_percentage_error: 14.8259 - val_loss: 84.4980 - val_mean_absolute_percentage_error: 84.4980\n",
      "Epoch 150/200\n",
      "1/1 [==============================] - 0s 24ms/step - loss: 15.5143 - mean_absolute_percentage_error: 15.5143 - val_loss: 84.2482 - val_mean_absolute_percentage_error: 84.2482\n",
      "Epoch 151/200\n",
      "1/1 [==============================] - 0s 24ms/step - loss: 11.5235 - mean_absolute_percentage_error: 11.5235 - val_loss: 83.6874 - val_mean_absolute_percentage_error: 83.6874\n",
      "Epoch 152/200\n",
      "1/1 [==============================] - 0s 26ms/step - loss: 2.7591 - mean_absolute_percentage_error: 2.7591 - val_loss: 82.8234 - val_mean_absolute_percentage_error: 82.8234\n",
      "Epoch 153/200\n",
      "1/1 [==============================] - 0s 43ms/step - loss: 11.5623 - mean_absolute_percentage_error: 11.5623 - val_loss: 82.4459 - val_mean_absolute_percentage_error: 82.4459\n",
      "Epoch 154/200\n",
      "1/1 [==============================] - 0s 27ms/step - loss: 18.5268 - mean_absolute_percentage_error: 18.5268 - val_loss: 82.5237 - val_mean_absolute_percentage_error: 82.5237\n",
      "Epoch 155/200\n",
      "1/1 [==============================] - 0s 34ms/step - loss: 17.6796 - mean_absolute_percentage_error: 17.6796 - val_loss: 83.0095 - val_mean_absolute_percentage_error: 83.0095\n",
      "Epoch 156/200\n",
      "1/1 [==============================] - 0s 26ms/step - loss: 9.9711 - mean_absolute_percentage_error: 9.9711 - val_loss: 83.8444 - val_mean_absolute_percentage_error: 83.8444\n",
      "Epoch 157/200\n",
      "1/1 [==============================] - 0s 26ms/step - loss: 2.6938 - mean_absolute_percentage_error: 2.6938 - val_loss: 84.2449 - val_mean_absolute_percentage_error: 84.2449\n",
      "Epoch 158/200\n",
      "1/1 [==============================] - 0s 24ms/step - loss: 8.0404 - mean_absolute_percentage_error: 8.0404 - val_loss: 84.2654 - val_mean_absolute_percentage_error: 84.2654\n",
      "Epoch 159/200\n",
      "1/1 [==============================] - 0s 24ms/step - loss: 7.7476 - mean_absolute_percentage_error: 7.7476 - val_loss: 83.9413 - val_mean_absolute_percentage_error: 83.9413\n",
      "Epoch 160/200\n",
      "1/1 [==============================] - 0s 24ms/step - loss: 2.3731 - mean_absolute_percentage_error: 2.3731 - val_loss: 83.2933 - val_mean_absolute_percentage_error: 83.2933\n",
      "Epoch 161/200\n",
      "1/1 [==============================] - 0s 26ms/step - loss: 8.3449 - mean_absolute_percentage_error: 8.3449 - val_loss: 83.0960 - val_mean_absolute_percentage_error: 83.0960\n",
      "Epoch 162/200\n",
      "1/1 [==============================] - 0s 25ms/step - loss: 12.1234 - mean_absolute_percentage_error: 12.1234 - val_loss: 83.3141 - val_mean_absolute_percentage_error: 83.3141\n",
      "Epoch 163/200\n",
      "1/1 [==============================] - 0s 25ms/step - loss: 9.0519 - mean_absolute_percentage_error: 9.0519 - val_loss: 83.9009 - val_mean_absolute_percentage_error: 83.9009\n",
      "Epoch 164/200\n",
      "1/1 [==============================] - 0s 25ms/step - loss: 0.9206 - mean_absolute_percentage_error: 0.9206 - val_loss: 84.4689 - val_mean_absolute_percentage_error: 84.4689\n",
      "Epoch 165/200\n",
      "1/1 [==============================] - 0s 28ms/step - loss: 7.2414 - mean_absolute_percentage_error: 7.2414 - val_loss: 84.6504 - val_mean_absolute_percentage_error: 84.6504\n",
      "Epoch 166/200\n",
      "1/1 [==============================] - 0s 23ms/step - loss: 8.8547 - mean_absolute_percentage_error: 8.8547 - val_loss: 84.4778 - val_mean_absolute_percentage_error: 84.4778\n",
      "Epoch 167/200\n",
      "1/1 [==============================] - 0s 24ms/step - loss: 5.4063 - mean_absolute_percentage_error: 5.4063 - val_loss: 83.9704 - val_mean_absolute_percentage_error: 83.9704\n",
      "Epoch 168/200\n",
      "1/1 [==============================] - 0s 24ms/step - loss: 3.0792 - mean_absolute_percentage_error: 3.0792 - val_loss: 83.8927 - val_mean_absolute_percentage_error: 83.8927\n",
      "Epoch 169/200\n",
      "1/1 [==============================] - 0s 24ms/step - loss: 5.2160 - mean_absolute_percentage_error: 5.2160 - val_loss: 84.2129 - val_mean_absolute_percentage_error: 84.2129\n",
      "Epoch 170/200\n",
      "1/1 [==============================] - 0s 24ms/step - loss: 1.3137 - mean_absolute_percentage_error: 1.3137 - val_loss: 84.8855 - val_mean_absolute_percentage_error: 84.8855\n",
      "Epoch 171/200\n",
      "1/1 [==============================] - 0s 24ms/step - loss: 7.4359 - mean_absolute_percentage_error: 7.4359 - val_loss: 85.1505 - val_mean_absolute_percentage_error: 85.1505\n",
      "Epoch 172/200\n",
      "1/1 [==============================] - 0s 28ms/step - loss: 10.1207 - mean_absolute_percentage_error: 10.1207 - val_loss: 85.0525 - val_mean_absolute_percentage_error: 85.0525\n",
      "Epoch 173/200\n",
      "1/1 [==============================] - 0s 25ms/step - loss: 7.7950 - mean_absolute_percentage_error: 7.7950 - val_loss: 84.6217 - val_mean_absolute_percentage_error: 84.6217\n",
      "Epoch 174/200\n",
      "1/1 [==============================] - 0s 25ms/step - loss: 1.1541 - mean_absolute_percentage_error: 1.1541 - val_loss: 84.0262 - val_mean_absolute_percentage_error: 84.0262\n",
      "Epoch 175/200\n",
      "1/1 [==============================] - 0s 24ms/step - loss: 8.8707 - mean_absolute_percentage_error: 8.8707 - val_loss: 83.8818 - val_mean_absolute_percentage_error: 83.8818\n",
      "Epoch 176/200\n",
      "1/1 [==============================] - 0s 23ms/step - loss: 11.6014 - mean_absolute_percentage_error: 11.6014 - val_loss: 84.1559 - val_mean_absolute_percentage_error: 84.1559\n",
      "Epoch 177/200\n",
      "1/1 [==============================] - 0s 24ms/step - loss: 7.7972 - mean_absolute_percentage_error: 7.7972 - val_loss: 84.8045 - val_mean_absolute_percentage_error: 84.8045\n",
      "Epoch 178/200\n",
      "1/1 [==============================] - 0s 24ms/step - loss: 1.3072 - mean_absolute_percentage_error: 1.3072 - val_loss: 85.0215 - val_mean_absolute_percentage_error: 85.0215\n",
      "Epoch 179/200\n",
      "1/1 [==============================] - 0s 24ms/step - loss: 3.9078 - mean_absolute_percentage_error: 3.9078 - val_loss: 84.8541 - val_mean_absolute_percentage_error: 84.8541\n",
      "Epoch 180/200\n",
      "1/1 [==============================] - 0s 24ms/step - loss: 1.0950 - mean_absolute_percentage_error: 1.0950 - val_loss: 84.3306 - val_mean_absolute_percentage_error: 84.3306\n",
      "Epoch 181/200\n",
      "1/1 [==============================] - 0s 24ms/step - loss: 6.9840 - mean_absolute_percentage_error: 6.9840 - val_loss: 84.2576 - val_mean_absolute_percentage_error: 84.2576\n",
      "Epoch 182/200\n",
      "1/1 [==============================] - 0s 27ms/step - loss: 8.5365 - mean_absolute_percentage_error: 8.5365 - val_loss: 84.5967 - val_mean_absolute_percentage_error: 84.5967\n",
      "Epoch 183/200\n",
      "1/1 [==============================] - 0s 23ms/step - loss: 3.9871 - mean_absolute_percentage_error: 3.9871 - val_loss: 85.2942 - val_mean_absolute_percentage_error: 85.2942\n",
      "Epoch 184/200\n",
      "1/1 [==============================] - 0s 24ms/step - loss: 5.3852 - mean_absolute_percentage_error: 5.3852 - val_loss: 85.5618 - val_mean_absolute_percentage_error: 85.5618\n",
      "Epoch 185/200\n",
      "1/1 [==============================] - 0s 25ms/step - loss: 8.5428 - mean_absolute_percentage_error: 8.5428 - val_loss: 85.4530 - val_mean_absolute_percentage_error: 85.4530\n",
      "Epoch 186/200\n",
      "1/1 [==============================] - 0s 25ms/step - loss: 6.6221 - mean_absolute_percentage_error: 6.6221 - val_loss: 84.9981 - val_mean_absolute_percentage_error: 84.9981\n",
      "Epoch 187/200\n",
      "1/1 [==============================] - 0s 24ms/step - loss: 0.3977 - mean_absolute_percentage_error: 0.3977 - val_loss: 84.8201 - val_mean_absolute_percentage_error: 84.8201\n",
      "Epoch 188/200\n",
      "1/1 [==============================] - 0s 24ms/step - loss: 3.7546 - mean_absolute_percentage_error: 3.7546 - val_loss: 85.0487 - val_mean_absolute_percentage_error: 85.0487\n",
      "Epoch 189/200\n",
      "1/1 [==============================] - 0s 28ms/step - loss: 1.4752 - mean_absolute_percentage_error: 1.4752 - val_loss: 85.6288 - val_mean_absolute_percentage_error: 85.6288\n",
      "Epoch 190/200\n",
      "1/1 [==============================] - 0s 24ms/step - loss: 5.7820 - mean_absolute_percentage_error: 5.7820 - val_loss: 85.8031 - val_mean_absolute_percentage_error: 85.8031\n",
      "Epoch 191/200\n",
      "1/1 [==============================] - 0s 24ms/step - loss: 7.2516 - mean_absolute_percentage_error: 7.2516 - val_loss: 85.6254 - val_mean_absolute_percentage_error: 85.6254\n",
      "Epoch 192/200\n",
      "1/1 [==============================] - 0s 24ms/step - loss: 3.7616 - mean_absolute_percentage_error: 3.7616 - val_loss: 85.1336 - val_mean_absolute_percentage_error: 85.1336\n",
      "Epoch 193/200\n",
      "1/1 [==============================] - 0s 24ms/step - loss: 4.6649 - mean_absolute_percentage_error: 4.6649 - val_loss: 85.0647 - val_mean_absolute_percentage_error: 85.0647\n",
      "Epoch 194/200\n",
      "1/1 [==============================] - 0s 24ms/step - loss: 6.8576 - mean_absolute_percentage_error: 6.8576 - val_loss: 85.3590 - val_mean_absolute_percentage_error: 85.3590\n",
      "Epoch 195/200\n",
      "1/1 [==============================] - 0s 25ms/step - loss: 3.1149 - mean_absolute_percentage_error: 3.1149 - val_loss: 85.9591 - val_mean_absolute_percentage_error: 85.9591\n",
      "Epoch 196/200\n",
      "1/1 [==============================] - 0s 27ms/step - loss: 5.4260 - mean_absolute_percentage_error: 5.4260 - val_loss: 86.1833 - val_mean_absolute_percentage_error: 86.1833\n",
      "Epoch 197/200\n",
      "1/1 [==============================] - 0s 24ms/step - loss: 7.9964 - mean_absolute_percentage_error: 7.9964 - val_loss: 86.0856 - val_mean_absolute_percentage_error: 86.0856\n",
      "Epoch 198/200\n",
      "1/1 [==============================] - 0s 35ms/step - loss: 5.6066 - mean_absolute_percentage_error: 5.6066 - val_loss: 85.7181 - val_mean_absolute_percentage_error: 85.7181\n",
      "Epoch 199/200\n",
      "1/1 [==============================] - 0s 26ms/step - loss: 1.6722 - mean_absolute_percentage_error: 1.6722 - val_loss: 85.5465 - val_mean_absolute_percentage_error: 85.5465\n",
      "Epoch 200/200\n",
      "1/1 [==============================] - 0s 31ms/step - loss: 5.5815 - mean_absolute_percentage_error: 5.5815 - val_loss: 85.6980 - val_mean_absolute_percentage_error: 85.6980\n"
     ]
    }
   ],
   "source": [
    "history=model3.fit(X_train1, y_train1, validation_data=(X_val1, y_val1), epochs=200, callbacks=[cp3])"
   ]
  },
  {
   "cell_type": "code",
   "execution_count": 129,
   "metadata": {},
   "outputs": [
    {
     "name": "stdout",
     "output_type": "stream",
     "text": [
      "1/1 [==============================] - 0s 16ms/step\n"
     ]
    },
    {
     "data": {
      "text/html": [
       "<div>\n",
       "<style scoped>\n",
       "    .dataframe tbody tr th:only-of-type {\n",
       "        vertical-align: middle;\n",
       "    }\n",
       "\n",
       "    .dataframe tbody tr th {\n",
       "        vertical-align: top;\n",
       "    }\n",
       "\n",
       "    .dataframe thead th {\n",
       "        text-align: right;\n",
       "    }\n",
       "</style>\n",
       "<table border=\"1\" class=\"dataframe\">\n",
       "  <thead>\n",
       "    <tr style=\"text-align: right;\">\n",
       "      <th></th>\n",
       "      <th>Train Predictions</th>\n",
       "      <th>Actuals</th>\n",
       "    </tr>\n",
       "  </thead>\n",
       "  <tbody>\n",
       "    <tr>\n",
       "      <th>0</th>\n",
       "      <td>719.596558</td>\n",
       "      <td>706.0</td>\n",
       "    </tr>\n",
       "    <tr>\n",
       "      <th>1</th>\n",
       "      <td>580.613281</td>\n",
       "      <td>563.0</td>\n",
       "    </tr>\n",
       "    <tr>\n",
       "      <th>2</th>\n",
       "      <td>594.383362</td>\n",
       "      <td>574.0</td>\n",
       "    </tr>\n",
       "    <tr>\n",
       "      <th>3</th>\n",
       "      <td>588.834900</td>\n",
       "      <td>556.0</td>\n",
       "    </tr>\n",
       "  </tbody>\n",
       "</table>\n",
       "</div>"
      ],
      "text/plain": [
       "   Train Predictions  Actuals\n",
       "0         719.596558    706.0\n",
       "1         580.613281    563.0\n",
       "2         594.383362    574.0\n",
       "3         588.834900    556.0"
      ]
     },
     "execution_count": 129,
     "metadata": {},
     "output_type": "execute_result"
    }
   ],
   "source": [
    "# model3 = load_model('model3/')\n",
    "train_predictions3 = model3.predict(X_train1).flatten()\n",
    "train_results3 = pd.DataFrame(data={'Train Predictions':train_predictions3, 'Actuals':y_train1})\n",
    "train_results3"
   ]
  },
  {
   "cell_type": "code",
   "execution_count": 123,
   "metadata": {},
   "outputs": [
    {
     "data": {
      "text/plain": [
       "Text(0.5, 1.0, 'GRU')"
      ]
     },
     "execution_count": 123,
     "metadata": {},
     "output_type": "execute_result"
    },
    {
     "data": {
      "image/png": "[encoded data removed]",
      "text/plain": [
       "<Figure size 432x288 with 1 Axes>"
      ]
     },
     "metadata": {
      "needs_background": "light"
     },
     "output_type": "display_data"
    }
   ],
   "source": [
    "train_results3.index=['2013','2014','2015','2016']\n",
    "plt.plot(train_results3['Train Predictions'])\n",
    "plt.plot(train_results3['Actuals'])\n",
    "\n",
    "plt.legend(['Prediction', 'Actual'], loc='lower right')\n",
    "# plt.ylim(20000,,30000)\n",
    "pyplot.xlabel(\"Years\")\n",
    "pyplot.ylabel(\"Food Loss\")\n",
    "plt.title(\"GRU\")\n",
    "# plt.ylim(20000,28000)"
   ]
  },
  {
   "cell_type": "code",
   "execution_count": 130,
   "metadata": {},
   "outputs": [
    {
     "name": "stdout",
     "output_type": "stream",
     "text": [
      "dict_keys(['loss', 'mean_absolute_percentage_error', 'val_loss', 'val_mean_absolute_percentage_error'])\n"
     ]
    },
    {
     "data": {
      "image/png": "[encoded data removed]",
      "text/plain": [
       "<Figure size 576x432 with 1 Axes>"
      ]
     },
     "metadata": {
      "needs_background": "light"
     },
     "output_type": "display_data"
    }
   ],
   "source": [
    "# history = model3.fit(X_train1, y_train1, validation_data=(X_val1, y_val1), epochs=100, verbose=0)\n",
    "print(history.history.keys())\n",
    "\n",
    "\n",
    "figure(figsize=(8, 6))\n",
    "plt.plot(history.history['mean_absolute_percentage_error'])\n",
    "plt.plot(history.history['val_mean_absolute_percentage_error'])\n",
    "plt.title('model loss')\n",
    "plt.ylabel('loss')\n",
    "plt.xlabel('epoch')\n",
    "plt.legend(['train', 'test'], loc='upper left')\n",
    "plt.show()"
   ]
  },
  {
   "cell_type": "code",
   "execution_count": 147,
   "metadata": {},
   "outputs": [
    {
     "name": "stdout",
     "output_type": "stream",
     "text": [
      "1/1 [==============================] - 0s 16ms/step\n"
     ]
    },
    {
     "data": {
      "text/html": [
       "<div>\n",
       "<style scoped>\n",
       "    .dataframe tbody tr th:only-of-type {\n",
       "        vertical-align: middle;\n",
       "    }\n",
       "\n",
       "    .dataframe tbody tr th {\n",
       "        vertical-align: top;\n",
       "    }\n",
       "\n",
       "    .dataframe thead th {\n",
       "        text-align: right;\n",
       "    }\n",
       "</style>\n",
       "<table border=\"1\" class=\"dataframe\">\n",
       "  <thead>\n",
       "    <tr style=\"text-align: right;\">\n",
       "      <th></th>\n",
       "      <th>Val Predictions</th>\n",
       "      <th>Actuals</th>\n",
       "    </tr>\n",
       "  </thead>\n",
       "  <tbody>\n",
       "    <tr>\n",
       "      <th>0</th>\n",
       "      <td>17401.720703</td>\n",
       "      <td>24293.0</td>\n",
       "    </tr>\n",
       "    <tr>\n",
       "      <th>1</th>\n",
       "      <td>17401.720703</td>\n",
       "      <td>24021.0</td>\n",
       "    </tr>\n",
       "  </tbody>\n",
       "</table>\n",
       "</div>"
      ],
      "text/plain": [
       "   Val Predictions  Actuals\n",
       "0     17401.720703  24293.0\n",
       "1     17401.720703  24021.0"
      ]
     },
     "execution_count": 147,
     "metadata": {},
     "output_type": "execute_result"
    }
   ],
   "source": [
    "val_predictions3 = model3.predict(X_val1).flatten()\n",
    "val_results3 = pd.DataFrame(data={'Val Predictions':val_predictions3, 'Actuals':y_val1})\n",
    "val_results3"
   ]
  },
  {
   "cell_type": "code",
   "execution_count": 201,
   "metadata": {},
   "outputs": [
    {
     "ename": "NameError",
     "evalue": "name 'tf' is not defined",
     "output_type": "error",
     "traceback": [
      "\u001b[0;31m---------------------------------------------------------------------------\u001b[0m",
      "\u001b[0;31mNameError\u001b[0m                                 Traceback (most recent call last)",
      "\u001b[1;32m/Users/murathansaygili/Desktop/SIC/Food-Supply-Chain/module_1.ipynb Cell 46\u001b[0m in \u001b[0;36m<cell line: 1>\u001b[0;34m()\u001b[0m\n\u001b[0;32m----> <a href='vscode-notebook-cell:/Users/murathansaygili/Desktop/SIC/Food-Supply-Chain/module_1.ipynb#ch0000064?line=0'>1</a>\u001b[0m test_predictions3\u001b[39m=\u001b[39mtf\u001b[39m.\u001b[39mconvert_to_tensor(test_predictions3, dtype\u001b[39m=\u001b[39mtf\u001b[39m.\u001b[39mint64)\n\u001b[1;32m      <a href='vscode-notebook-cell:/Users/murathansaygili/Desktop/SIC/Food-Supply-Chain/module_1.ipynb#ch0000064?line=1'>2</a>\u001b[0m test_predictions3 \u001b[39m=\u001b[39m model3\u001b[39m.\u001b[39mpredict(test_predictions3)\u001b[39m.\u001b[39mflatten()\n\u001b[1;32m      <a href='vscode-notebook-cell:/Users/murathansaygili/Desktop/SIC/Food-Supply-Chain/module_1.ipynb#ch0000064?line=2'>3</a>\u001b[0m test_results3 \u001b[39m=\u001b[39m pd\u001b[39m.\u001b[39mDataFrame(data\u001b[39m=\u001b[39m{\u001b[39m'\u001b[39m\u001b[39mTest Predictions\u001b[39m\u001b[39m'\u001b[39m:test_predictions3, \u001b[39m'\u001b[39m\u001b[39mActuals\u001b[39m\u001b[39m'\u001b[39m:y_test1})\n",
      "\u001b[0;31mNameError\u001b[0m: name 'tf' is not defined"
     ]
    }
   ],
   "source": [
    "test_predictions3=tf.convert_to_tensor(test_predictions3, dtype=tf.int64)\n",
    "test_predictions3 = model3.predict(test_predictions3).flatten()\n",
    "test_results3 = pd.DataFrame(data={'Test Predictions':test_predictions3, 'Actuals':y_test1})\n",
    "test_results3"
   ]
  },
  {
   "cell_type": "code",
   "execution_count": null,
   "metadata": {},
   "outputs": [],
   "source": []
  }
 ],
 "metadata": {
  "kernelspec": {
   "display_name": "Python 3.9.0 ('venv')",
   "language": "python",
   "name": "python3"
  },
  "language_info": {
   "codemirror_mode": {
    "name": "ipython",
    "version": 3
   },
   "file_extension": ".py",
   "mimetype": "text/x-python",
   "name": "python",
   "nbconvert_exporter": "python",
   "pygments_lexer": "ipython3",
   "version": "3.9.0"
  },
  "vscode": {
   "interpreter": {
    "hash": "713654384febb35868ed951ad9309a525cf553cdc72ed92d2edb347802f3b56b"
   }
  }
 },
 "nbformat": 4,
 "nbformat_minor": 0
}
