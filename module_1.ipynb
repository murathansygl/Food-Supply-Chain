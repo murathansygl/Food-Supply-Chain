{
 "cells": [
  {
   "cell_type": "code",
   "execution_count": 80,
   "outputs": [],
   "source": [
    "import pandas as pd\n",
    "import numpy as np\n",
    "from sklearn.linear_model import LinearRegression"
   ],
   "metadata": {
    "collapsed": false,
    "pycharm": {
     "name": "#%%\n"
    }
   }
  },
  {
   "cell_type": "code",
   "execution_count": 81,
   "outputs": [
    {
     "data": {
      "text/plain": "       country                      commodity  loss_percentage  \\\n0      Myanmar  Groundnuts, excluding shelled             5.22   \n1      Myanmar  Groundnuts, excluding shelled             5.43   \n2      Myanmar  Groundnuts, excluding shelled             5.61   \n3      Myanmar  Groundnuts, excluding shelled             5.40   \n4      Myanmar  Groundnuts, excluding shelled             5.00   \n...        ...                            ...              ...   \n27768   Zambia                         Millet             1.27   \n27769   Zambia                         Millet             2.50   \n27770   Zambia                         Millet             1.00   \n27771   Zambia                         Millet             2.38   \n27772   Zambia                         Millet             3.44   \n\n                 activity   food_supply_stage  \n0                     NaN  Whole supply chain  \n1                     NaN  Whole supply chain  \n2                     NaN  Whole supply chain  \n3                     NaN  Whole supply chain  \n4                     NaN  Whole supply chain  \n...                   ...                 ...  \n27768             Storage                Farm  \n27769           Winnowing                Farm  \n27770      Transportation           Transport  \n27771             Storage             Storage  \n27772  Drying, Harvesting             Harvest  \n\n[27773 rows x 5 columns]",
      "text/html": "<div>\n<style scoped>\n    .dataframe tbody tr th:only-of-type {\n        vertical-align: middle;\n    }\n\n    .dataframe tbody tr th {\n        vertical-align: top;\n    }\n\n    .dataframe thead th {\n        text-align: right;\n    }\n</style>\n<table border=\"1\" class=\"dataframe\">\n  <thead>\n    <tr style=\"text-align: right;\">\n      <th></th>\n      <th>country</th>\n      <th>commodity</th>\n      <th>loss_percentage</th>\n      <th>activity</th>\n      <th>food_supply_stage</th>\n    </tr>\n  </thead>\n  <tbody>\n    <tr>\n      <th>0</th>\n      <td>Myanmar</td>\n      <td>Groundnuts, excluding shelled</td>\n      <td>5.22</td>\n      <td>NaN</td>\n      <td>Whole supply chain</td>\n    </tr>\n    <tr>\n      <th>1</th>\n      <td>Myanmar</td>\n      <td>Groundnuts, excluding shelled</td>\n      <td>5.43</td>\n      <td>NaN</td>\n      <td>Whole supply chain</td>\n    </tr>\n    <tr>\n      <th>2</th>\n      <td>Myanmar</td>\n      <td>Groundnuts, excluding shelled</td>\n      <td>5.61</td>\n      <td>NaN</td>\n      <td>Whole supply chain</td>\n    </tr>\n    <tr>\n      <th>3</th>\n      <td>Myanmar</td>\n      <td>Groundnuts, excluding shelled</td>\n      <td>5.40</td>\n      <td>NaN</td>\n      <td>Whole supply chain</td>\n    </tr>\n    <tr>\n      <th>4</th>\n      <td>Myanmar</td>\n      <td>Groundnuts, excluding shelled</td>\n      <td>5.00</td>\n      <td>NaN</td>\n      <td>Whole supply chain</td>\n    </tr>\n    <tr>\n      <th>...</th>\n      <td>...</td>\n      <td>...</td>\n      <td>...</td>\n      <td>...</td>\n      <td>...</td>\n    </tr>\n    <tr>\n      <th>27768</th>\n      <td>Zambia</td>\n      <td>Millet</td>\n      <td>1.27</td>\n      <td>Storage</td>\n      <td>Farm</td>\n    </tr>\n    <tr>\n      <th>27769</th>\n      <td>Zambia</td>\n      <td>Millet</td>\n      <td>2.50</td>\n      <td>Winnowing</td>\n      <td>Farm</td>\n    </tr>\n    <tr>\n      <th>27770</th>\n      <td>Zambia</td>\n      <td>Millet</td>\n      <td>1.00</td>\n      <td>Transportation</td>\n      <td>Transport</td>\n    </tr>\n    <tr>\n      <th>27771</th>\n      <td>Zambia</td>\n      <td>Millet</td>\n      <td>2.38</td>\n      <td>Storage</td>\n      <td>Storage</td>\n    </tr>\n    <tr>\n      <th>27772</th>\n      <td>Zambia</td>\n      <td>Millet</td>\n      <td>3.44</td>\n      <td>Drying, Harvesting</td>\n      <td>Harvest</td>\n    </tr>\n  </tbody>\n</table>\n<p>27773 rows × 5 columns</p>\n</div>"
     },
     "execution_count": 81,
     "metadata": {},
     "output_type": "execute_result"
    }
   ],
   "source": [
    "df = pd.read_csv(\"Data/Data.csv\")\n",
    "df = df[[\"country\", \"commodity\", \"loss_percentage\", \"activity\", \"food_supply_stage\"]]\n",
    "df"
   ],
   "metadata": {
    "collapsed": false,
    "pycharm": {
     "name": "#%%\n"
    }
   }
  },
  {
   "cell_type": "code",
   "execution_count": 82,
   "outputs": [],
   "source": [
    "# df[df.food_supply_stage==\"Whole supply chain\"]"
   ],
   "metadata": {
    "collapsed": false,
    "pycharm": {
     "name": "#%%\n"
    }
   }
  },
  {
   "cell_type": "markdown",
   "source": [
    "Missing values mostly belong to the rows whose food_supply_stage refer to 'Whole supply chain'."
   ],
   "metadata": {
    "collapsed": false,
    "pycharm": {
     "name": "#%% md\n"
    }
   }
  },
  {
   "cell_type": "code",
   "execution_count": 83,
   "outputs": [],
   "source": [
    "df=df.dropna(axis=0).reset_index().drop([\"index\"],axis=1)"
   ],
   "metadata": {
    "collapsed": false,
    "pycharm": {
     "name": "#%%\n"
    }
   }
  },
  {
   "cell_type": "code",
   "execution_count": 84,
   "outputs": [
    {
     "data": {
      "text/plain": "       country     commodity  loss_percentage             activity  \\\n0      Burundi         Wheat             3.50  Shelling, Threshing   \n1      Burundi         Wheat             4.87              Storage   \n2      Burundi         Wheat             2.50       Transportation   \n3      Burundi         Wheat             4.43   Drying, Harvesting   \n4      Burundi  Maize (corn)             4.00               Drying   \n...        ...           ...              ...                  ...   \n20865   Zambia        Millet             1.27              Storage   \n20866   Zambia        Millet             2.50            Winnowing   \n20867   Zambia        Millet             1.00       Transportation   \n20868   Zambia        Millet             2.38              Storage   \n20869   Zambia        Millet             3.44   Drying, Harvesting   \n\n      food_supply_stage  \n0                  Farm  \n1                  Farm  \n2                  Farm  \n3               Harvest  \n4                  Farm  \n...                 ...  \n20865              Farm  \n20866              Farm  \n20867         Transport  \n20868           Storage  \n20869           Harvest  \n\n[20870 rows x 5 columns]",
      "text/html": "<div>\n<style scoped>\n    .dataframe tbody tr th:only-of-type {\n        vertical-align: middle;\n    }\n\n    .dataframe tbody tr th {\n        vertical-align: top;\n    }\n\n    .dataframe thead th {\n        text-align: right;\n    }\n</style>\n<table border=\"1\" class=\"dataframe\">\n  <thead>\n    <tr style=\"text-align: right;\">\n      <th></th>\n      <th>country</th>\n      <th>commodity</th>\n      <th>loss_percentage</th>\n      <th>activity</th>\n      <th>food_supply_stage</th>\n    </tr>\n  </thead>\n  <tbody>\n    <tr>\n      <th>0</th>\n      <td>Burundi</td>\n      <td>Wheat</td>\n      <td>3.50</td>\n      <td>Shelling, Threshing</td>\n      <td>Farm</td>\n    </tr>\n    <tr>\n      <th>1</th>\n      <td>Burundi</td>\n      <td>Wheat</td>\n      <td>4.87</td>\n      <td>Storage</td>\n      <td>Farm</td>\n    </tr>\n    <tr>\n      <th>2</th>\n      <td>Burundi</td>\n      <td>Wheat</td>\n      <td>2.50</td>\n      <td>Transportation</td>\n      <td>Farm</td>\n    </tr>\n    <tr>\n      <th>3</th>\n      <td>Burundi</td>\n      <td>Wheat</td>\n      <td>4.43</td>\n      <td>Drying, Harvesting</td>\n      <td>Harvest</td>\n    </tr>\n    <tr>\n      <th>4</th>\n      <td>Burundi</td>\n      <td>Maize (corn)</td>\n      <td>4.00</td>\n      <td>Drying</td>\n      <td>Farm</td>\n    </tr>\n    <tr>\n      <th>...</th>\n      <td>...</td>\n      <td>...</td>\n      <td>...</td>\n      <td>...</td>\n      <td>...</td>\n    </tr>\n    <tr>\n      <th>20865</th>\n      <td>Zambia</td>\n      <td>Millet</td>\n      <td>1.27</td>\n      <td>Storage</td>\n      <td>Farm</td>\n    </tr>\n    <tr>\n      <th>20866</th>\n      <td>Zambia</td>\n      <td>Millet</td>\n      <td>2.50</td>\n      <td>Winnowing</td>\n      <td>Farm</td>\n    </tr>\n    <tr>\n      <th>20867</th>\n      <td>Zambia</td>\n      <td>Millet</td>\n      <td>1.00</td>\n      <td>Transportation</td>\n      <td>Transport</td>\n    </tr>\n    <tr>\n      <th>20868</th>\n      <td>Zambia</td>\n      <td>Millet</td>\n      <td>2.38</td>\n      <td>Storage</td>\n      <td>Storage</td>\n    </tr>\n    <tr>\n      <th>20869</th>\n      <td>Zambia</td>\n      <td>Millet</td>\n      <td>3.44</td>\n      <td>Drying, Harvesting</td>\n      <td>Harvest</td>\n    </tr>\n  </tbody>\n</table>\n<p>20870 rows × 5 columns</p>\n</div>"
     },
     "execution_count": 84,
     "metadata": {},
     "output_type": "execute_result"
    }
   ],
   "source": [
    "df"
   ],
   "metadata": {
    "collapsed": false,
    "pycharm": {
     "name": "#%%\n"
    }
   }
  },
  {
   "cell_type": "code",
   "execution_count": 165,
   "outputs": [],
   "source": [
    "X=df[[\"country\",\"commodity\",\"food_supply_stage\",\"activity\"]]\n",
    "Y=df.loss_percentage"
   ],
   "metadata": {
    "collapsed": false,
    "pycharm": {
     "name": "#%%\n"
    }
   }
  },
  {
   "cell_type": "code",
   "execution_count": 166,
   "outputs": [],
   "source": [
    "splitted=X['activity'].str.split(',', expand=True)"
   ],
   "metadata": {
    "collapsed": false,
    "pycharm": {
     "name": "#%%\n"
    }
   }
  },
  {
   "cell_type": "code",
   "execution_count": 167,
   "outputs": [],
   "source": [
    "X=pd.concat([X,splitted],axis=1)"
   ],
   "metadata": {
    "collapsed": false,
    "pycharm": {
     "name": "#%%\n"
    }
   }
  },
  {
   "cell_type": "code",
   "execution_count": 168,
   "outputs": [],
   "source": [
    "X.drop([\"activity\"],axis=1,inplace=True)"
   ],
   "metadata": {
    "collapsed": false,
    "pycharm": {
     "name": "#%%\n"
    }
   }
  },
  {
   "cell_type": "code",
   "execution_count": 169,
   "outputs": [
    {
     "data": {
      "text/plain": "       country     commodity food_supply_stage               0            1  \\\n0      Burundi         Wheat              Farm        Shelling    Threshing   \n1      Burundi         Wheat              Farm         Storage         None   \n2      Burundi         Wheat              Farm  Transportation         None   \n3      Burundi         Wheat           Harvest          Drying   Harvesting   \n4      Burundi  Maize (corn)              Farm          Drying         None   \n...        ...           ...               ...             ...          ...   \n20865   Zambia        Millet              Farm         Storage         None   \n20866   Zambia        Millet              Farm       Winnowing         None   \n20867   Zambia        Millet         Transport  Transportation         None   \n20868   Zambia        Millet           Storage         Storage         None   \n20869   Zambia        Millet           Harvest          Drying   Harvesting   \n\n          2     3     4     5     6     7     8     9    10  \n0      None  None  None  None  None  None  None  None  None  \n1      None  None  None  None  None  None  None  None  None  \n2      None  None  None  None  None  None  None  None  None  \n3      None  None  None  None  None  None  None  None  None  \n4      None  None  None  None  None  None  None  None  None  \n...     ...   ...   ...   ...   ...   ...   ...   ...   ...  \n20865  None  None  None  None  None  None  None  None  None  \n20866  None  None  None  None  None  None  None  None  None  \n20867  None  None  None  None  None  None  None  None  None  \n20868  None  None  None  None  None  None  None  None  None  \n20869  None  None  None  None  None  None  None  None  None  \n\n[20870 rows x 14 columns]",
      "text/html": "<div>\n<style scoped>\n    .dataframe tbody tr th:only-of-type {\n        vertical-align: middle;\n    }\n\n    .dataframe tbody tr th {\n        vertical-align: top;\n    }\n\n    .dataframe thead th {\n        text-align: right;\n    }\n</style>\n<table border=\"1\" class=\"dataframe\">\n  <thead>\n    <tr style=\"text-align: right;\">\n      <th></th>\n      <th>country</th>\n      <th>commodity</th>\n      <th>food_supply_stage</th>\n      <th>0</th>\n      <th>1</th>\n      <th>2</th>\n      <th>3</th>\n      <th>4</th>\n      <th>5</th>\n      <th>6</th>\n      <th>7</th>\n      <th>8</th>\n      <th>9</th>\n      <th>10</th>\n    </tr>\n  </thead>\n  <tbody>\n    <tr>\n      <th>0</th>\n      <td>Burundi</td>\n      <td>Wheat</td>\n      <td>Farm</td>\n      <td>Shelling</td>\n      <td>Threshing</td>\n      <td>None</td>\n      <td>None</td>\n      <td>None</td>\n      <td>None</td>\n      <td>None</td>\n      <td>None</td>\n      <td>None</td>\n      <td>None</td>\n      <td>None</td>\n    </tr>\n    <tr>\n      <th>1</th>\n      <td>Burundi</td>\n      <td>Wheat</td>\n      <td>Farm</td>\n      <td>Storage</td>\n      <td>None</td>\n      <td>None</td>\n      <td>None</td>\n      <td>None</td>\n      <td>None</td>\n      <td>None</td>\n      <td>None</td>\n      <td>None</td>\n      <td>None</td>\n      <td>None</td>\n    </tr>\n    <tr>\n      <th>2</th>\n      <td>Burundi</td>\n      <td>Wheat</td>\n      <td>Farm</td>\n      <td>Transportation</td>\n      <td>None</td>\n      <td>None</td>\n      <td>None</td>\n      <td>None</td>\n      <td>None</td>\n      <td>None</td>\n      <td>None</td>\n      <td>None</td>\n      <td>None</td>\n      <td>None</td>\n    </tr>\n    <tr>\n      <th>3</th>\n      <td>Burundi</td>\n      <td>Wheat</td>\n      <td>Harvest</td>\n      <td>Drying</td>\n      <td>Harvesting</td>\n      <td>None</td>\n      <td>None</td>\n      <td>None</td>\n      <td>None</td>\n      <td>None</td>\n      <td>None</td>\n      <td>None</td>\n      <td>None</td>\n      <td>None</td>\n    </tr>\n    <tr>\n      <th>4</th>\n      <td>Burundi</td>\n      <td>Maize (corn)</td>\n      <td>Farm</td>\n      <td>Drying</td>\n      <td>None</td>\n      <td>None</td>\n      <td>None</td>\n      <td>None</td>\n      <td>None</td>\n      <td>None</td>\n      <td>None</td>\n      <td>None</td>\n      <td>None</td>\n      <td>None</td>\n    </tr>\n    <tr>\n      <th>...</th>\n      <td>...</td>\n      <td>...</td>\n      <td>...</td>\n      <td>...</td>\n      <td>...</td>\n      <td>...</td>\n      <td>...</td>\n      <td>...</td>\n      <td>...</td>\n      <td>...</td>\n      <td>...</td>\n      <td>...</td>\n      <td>...</td>\n      <td>...</td>\n    </tr>\n    <tr>\n      <th>20865</th>\n      <td>Zambia</td>\n      <td>Millet</td>\n      <td>Farm</td>\n      <td>Storage</td>\n      <td>None</td>\n      <td>None</td>\n      <td>None</td>\n      <td>None</td>\n      <td>None</td>\n      <td>None</td>\n      <td>None</td>\n      <td>None</td>\n      <td>None</td>\n      <td>None</td>\n    </tr>\n    <tr>\n      <th>20866</th>\n      <td>Zambia</td>\n      <td>Millet</td>\n      <td>Farm</td>\n      <td>Winnowing</td>\n      <td>None</td>\n      <td>None</td>\n      <td>None</td>\n      <td>None</td>\n      <td>None</td>\n      <td>None</td>\n      <td>None</td>\n      <td>None</td>\n      <td>None</td>\n      <td>None</td>\n    </tr>\n    <tr>\n      <th>20867</th>\n      <td>Zambia</td>\n      <td>Millet</td>\n      <td>Transport</td>\n      <td>Transportation</td>\n      <td>None</td>\n      <td>None</td>\n      <td>None</td>\n      <td>None</td>\n      <td>None</td>\n      <td>None</td>\n      <td>None</td>\n      <td>None</td>\n      <td>None</td>\n      <td>None</td>\n    </tr>\n    <tr>\n      <th>20868</th>\n      <td>Zambia</td>\n      <td>Millet</td>\n      <td>Storage</td>\n      <td>Storage</td>\n      <td>None</td>\n      <td>None</td>\n      <td>None</td>\n      <td>None</td>\n      <td>None</td>\n      <td>None</td>\n      <td>None</td>\n      <td>None</td>\n      <td>None</td>\n      <td>None</td>\n    </tr>\n    <tr>\n      <th>20869</th>\n      <td>Zambia</td>\n      <td>Millet</td>\n      <td>Harvest</td>\n      <td>Drying</td>\n      <td>Harvesting</td>\n      <td>None</td>\n      <td>None</td>\n      <td>None</td>\n      <td>None</td>\n      <td>None</td>\n      <td>None</td>\n      <td>None</td>\n      <td>None</td>\n      <td>None</td>\n    </tr>\n  </tbody>\n</table>\n<p>20870 rows × 14 columns</p>\n</div>"
     },
     "execution_count": 169,
     "metadata": {},
     "output_type": "execute_result"
    }
   ],
   "source": [
    "X"
   ],
   "metadata": {
    "collapsed": false,
    "pycharm": {
     "name": "#%%\n"
    }
   }
  },
  {
   "cell_type": "code",
   "execution_count": 170,
   "outputs": [],
   "source": [
    "listt=[]\n",
    "for col in range(0,11):\n",
    "    listt.append(set(X[col].unique()))"
   ],
   "metadata": {
    "collapsed": false,
    "pycharm": {
     "name": "#%%\n"
    }
   }
  },
  {
   "cell_type": "code",
   "execution_count": 171,
   "outputs": [],
   "source": [
    "listtt=[]\n",
    "for i in range(0,11):\n",
    "    for item in listt[i]:\n",
    "        if item==None:\n",
    "            continue\n",
    "        listtt.append(item.strip())\n",
    "listtt=list(set(listtt))\n",
    "listtt.sort()"
   ],
   "metadata": {
    "collapsed": false,
    "pycharm": {
     "name": "#%%\n"
    }
   }
  },
  {
   "cell_type": "code",
   "execution_count": 172,
   "outputs": [
    {
     "data": {
      "text/plain": "['Assembling',\n 'Bagging',\n 'Blanching',\n 'Bundling',\n 'Cleaning',\n 'Collection',\n 'Consumption',\n 'Curing',\n 'Dewatering',\n 'Distribution',\n 'Drying',\n 'Exporting',\n 'Farm',\n 'Field',\n 'Freezing',\n 'Grading',\n 'Grating',\n 'Handling',\n 'Harvesting',\n 'Layering',\n 'Lifting',\n 'Loading',\n 'Manufacturing',\n 'Marketing',\n 'Milling',\n 'Packaging',\n 'Parboiling',\n 'Peeling',\n 'Piling',\n 'Preservation',\n 'Processing',\n 'Retailing',\n 'Ripening',\n 'Roasting',\n 'Shelling',\n 'Sifting',\n 'Sorting',\n 'Stacking',\n 'Storage',\n 'Threshing',\n 'Trading',\n 'Transportation',\n 'Unloading',\n 'Washing',\n 'Wholesale',\n 'Winnowing']"
     },
     "execution_count": 172,
     "metadata": {},
     "output_type": "execute_result"
    }
   ],
   "source": [
    "listtt"
   ],
   "metadata": {
    "collapsed": false,
    "pycharm": {
     "name": "#%%\n"
    }
   }
  },
  {
   "cell_type": "code",
   "execution_count": 173,
   "outputs": [
    {
     "data": {
      "text/plain": "(20870, 14)"
     },
     "execution_count": 173,
     "metadata": {},
     "output_type": "execute_result"
    }
   ],
   "source": [
    "X.shape"
   ],
   "metadata": {
    "collapsed": false,
    "pycharm": {
     "name": "#%%\n"
    }
   }
  },
  {
   "cell_type": "code",
   "execution_count": 174,
   "outputs": [
    {
     "data": {
      "text/plain": "       Assembling  Bagging  Blanching  Bundling  Cleaning  Collection  \\\n0               0        0          0         0         0           0   \n1               0        0          0         0         0           0   \n2               0        0          0         0         0           0   \n3               0        0          0         0         0           0   \n4               0        0          0         0         0           0   \n...           ...      ...        ...       ...       ...         ...   \n20865           0        0          0         0         0           0   \n20866           0        0          0         0         0           0   \n20867           0        0          0         0         0           0   \n20868           0        0          0         0         0           0   \n20869           0        0          0         0         0           0   \n\n       Consumption  Curing  Dewatering  Distribution  ...  Sorting  Stacking  \\\n0                0       0           0             0  ...        0         0   \n1                0       0           0             0  ...        0         0   \n2                0       0           0             0  ...        0         0   \n3                0       0           0             0  ...        0         0   \n4                0       0           0             0  ...        0         0   \n...            ...     ...         ...           ...  ...      ...       ...   \n20865            0       0           0             0  ...        0         0   \n20866            0       0           0             0  ...        0         0   \n20867            0       0           0             0  ...        0         0   \n20868            0       0           0             0  ...        0         0   \n20869            0       0           0             0  ...        0         0   \n\n       Storage  Threshing  Trading  Transportation  Unloading  Washing  \\\n0            0          0        0               0          0        0   \n1            0          0        0               0          0        0   \n2            0          0        0               0          0        0   \n3            0          0        0               0          0        0   \n4            0          0        0               0          0        0   \n...        ...        ...      ...             ...        ...      ...   \n20865        0          0        0               0          0        0   \n20866        0          0        0               0          0        0   \n20867        0          0        0               0          0        0   \n20868        0          0        0               0          0        0   \n20869        0          0        0               0          0        0   \n\n       Wholesale  Winnowing  \n0              0          0  \n1              0          0  \n2              0          0  \n3              0          0  \n4              0          0  \n...          ...        ...  \n20865          0          0  \n20866          0          0  \n20867          0          0  \n20868          0          0  \n20869          0          0  \n\n[20870 rows x 46 columns]",
      "text/html": "<div>\n<style scoped>\n    .dataframe tbody tr th:only-of-type {\n        vertical-align: middle;\n    }\n\n    .dataframe tbody tr th {\n        vertical-align: top;\n    }\n\n    .dataframe thead th {\n        text-align: right;\n    }\n</style>\n<table border=\"1\" class=\"dataframe\">\n  <thead>\n    <tr style=\"text-align: right;\">\n      <th></th>\n      <th>Assembling</th>\n      <th>Bagging</th>\n      <th>Blanching</th>\n      <th>Bundling</th>\n      <th>Cleaning</th>\n      <th>Collection</th>\n      <th>Consumption</th>\n      <th>Curing</th>\n      <th>Dewatering</th>\n      <th>Distribution</th>\n      <th>...</th>\n      <th>Sorting</th>\n      <th>Stacking</th>\n      <th>Storage</th>\n      <th>Threshing</th>\n      <th>Trading</th>\n      <th>Transportation</th>\n      <th>Unloading</th>\n      <th>Washing</th>\n      <th>Wholesale</th>\n      <th>Winnowing</th>\n    </tr>\n  </thead>\n  <tbody>\n    <tr>\n      <th>0</th>\n      <td>0</td>\n      <td>0</td>\n      <td>0</td>\n      <td>0</td>\n      <td>0</td>\n      <td>0</td>\n      <td>0</td>\n      <td>0</td>\n      <td>0</td>\n      <td>0</td>\n      <td>...</td>\n      <td>0</td>\n      <td>0</td>\n      <td>0</td>\n      <td>0</td>\n      <td>0</td>\n      <td>0</td>\n      <td>0</td>\n      <td>0</td>\n      <td>0</td>\n      <td>0</td>\n    </tr>\n    <tr>\n      <th>1</th>\n      <td>0</td>\n      <td>0</td>\n      <td>0</td>\n      <td>0</td>\n      <td>0</td>\n      <td>0</td>\n      <td>0</td>\n      <td>0</td>\n      <td>0</td>\n      <td>0</td>\n      <td>...</td>\n      <td>0</td>\n      <td>0</td>\n      <td>0</td>\n      <td>0</td>\n      <td>0</td>\n      <td>0</td>\n      <td>0</td>\n      <td>0</td>\n      <td>0</td>\n      <td>0</td>\n    </tr>\n    <tr>\n      <th>2</th>\n      <td>0</td>\n      <td>0</td>\n      <td>0</td>\n      <td>0</td>\n      <td>0</td>\n      <td>0</td>\n      <td>0</td>\n      <td>0</td>\n      <td>0</td>\n      <td>0</td>\n      <td>...</td>\n      <td>0</td>\n      <td>0</td>\n      <td>0</td>\n      <td>0</td>\n      <td>0</td>\n      <td>0</td>\n      <td>0</td>\n      <td>0</td>\n      <td>0</td>\n      <td>0</td>\n    </tr>\n    <tr>\n      <th>3</th>\n      <td>0</td>\n      <td>0</td>\n      <td>0</td>\n      <td>0</td>\n      <td>0</td>\n      <td>0</td>\n      <td>0</td>\n      <td>0</td>\n      <td>0</td>\n      <td>0</td>\n      <td>...</td>\n      <td>0</td>\n      <td>0</td>\n      <td>0</td>\n      <td>0</td>\n      <td>0</td>\n      <td>0</td>\n      <td>0</td>\n      <td>0</td>\n      <td>0</td>\n      <td>0</td>\n    </tr>\n    <tr>\n      <th>4</th>\n      <td>0</td>\n      <td>0</td>\n      <td>0</td>\n      <td>0</td>\n      <td>0</td>\n      <td>0</td>\n      <td>0</td>\n      <td>0</td>\n      <td>0</td>\n      <td>0</td>\n      <td>...</td>\n      <td>0</td>\n      <td>0</td>\n      <td>0</td>\n      <td>0</td>\n      <td>0</td>\n      <td>0</td>\n      <td>0</td>\n      <td>0</td>\n      <td>0</td>\n      <td>0</td>\n    </tr>\n    <tr>\n      <th>...</th>\n      <td>...</td>\n      <td>...</td>\n      <td>...</td>\n      <td>...</td>\n      <td>...</td>\n      <td>...</td>\n      <td>...</td>\n      <td>...</td>\n      <td>...</td>\n      <td>...</td>\n      <td>...</td>\n      <td>...</td>\n      <td>...</td>\n      <td>...</td>\n      <td>...</td>\n      <td>...</td>\n      <td>...</td>\n      <td>...</td>\n      <td>...</td>\n      <td>...</td>\n      <td>...</td>\n    </tr>\n    <tr>\n      <th>20865</th>\n      <td>0</td>\n      <td>0</td>\n      <td>0</td>\n      <td>0</td>\n      <td>0</td>\n      <td>0</td>\n      <td>0</td>\n      <td>0</td>\n      <td>0</td>\n      <td>0</td>\n      <td>...</td>\n      <td>0</td>\n      <td>0</td>\n      <td>0</td>\n      <td>0</td>\n      <td>0</td>\n      <td>0</td>\n      <td>0</td>\n      <td>0</td>\n      <td>0</td>\n      <td>0</td>\n    </tr>\n    <tr>\n      <th>20866</th>\n      <td>0</td>\n      <td>0</td>\n      <td>0</td>\n      <td>0</td>\n      <td>0</td>\n      <td>0</td>\n      <td>0</td>\n      <td>0</td>\n      <td>0</td>\n      <td>0</td>\n      <td>...</td>\n      <td>0</td>\n      <td>0</td>\n      <td>0</td>\n      <td>0</td>\n      <td>0</td>\n      <td>0</td>\n      <td>0</td>\n      <td>0</td>\n      <td>0</td>\n      <td>0</td>\n    </tr>\n    <tr>\n      <th>20867</th>\n      <td>0</td>\n      <td>0</td>\n      <td>0</td>\n      <td>0</td>\n      <td>0</td>\n      <td>0</td>\n      <td>0</td>\n      <td>0</td>\n      <td>0</td>\n      <td>0</td>\n      <td>...</td>\n      <td>0</td>\n      <td>0</td>\n      <td>0</td>\n      <td>0</td>\n      <td>0</td>\n      <td>0</td>\n      <td>0</td>\n      <td>0</td>\n      <td>0</td>\n      <td>0</td>\n    </tr>\n    <tr>\n      <th>20868</th>\n      <td>0</td>\n      <td>0</td>\n      <td>0</td>\n      <td>0</td>\n      <td>0</td>\n      <td>0</td>\n      <td>0</td>\n      <td>0</td>\n      <td>0</td>\n      <td>0</td>\n      <td>...</td>\n      <td>0</td>\n      <td>0</td>\n      <td>0</td>\n      <td>0</td>\n      <td>0</td>\n      <td>0</td>\n      <td>0</td>\n      <td>0</td>\n      <td>0</td>\n      <td>0</td>\n    </tr>\n    <tr>\n      <th>20869</th>\n      <td>0</td>\n      <td>0</td>\n      <td>0</td>\n      <td>0</td>\n      <td>0</td>\n      <td>0</td>\n      <td>0</td>\n      <td>0</td>\n      <td>0</td>\n      <td>0</td>\n      <td>...</td>\n      <td>0</td>\n      <td>0</td>\n      <td>0</td>\n      <td>0</td>\n      <td>0</td>\n      <td>0</td>\n      <td>0</td>\n      <td>0</td>\n      <td>0</td>\n      <td>0</td>\n    </tr>\n  </tbody>\n</table>\n<p>20870 rows × 46 columns</p>\n</div>"
     },
     "execution_count": 174,
     "metadata": {},
     "output_type": "execute_result"
    }
   ],
   "source": [
    "zeros=np.zeros([X.shape[0],len(listtt)],int)\n",
    "activity_cols=pd.DataFrame(zeros,columns=listtt)\n",
    "activity_cols"
   ],
   "metadata": {
    "collapsed": false,
    "pycharm": {
     "name": "#%%\n"
    }
   }
  },
  {
   "cell_type": "code",
   "execution_count": 175,
   "outputs": [
    {
     "data": {
      "text/plain": "       country commodity food_supply_stage               0           1     2  \\\n0      Burundi     Wheat              Farm        Shelling   Threshing  None   \n1      Burundi     Wheat              Farm         Storage        None  None   \n2      Burundi     Wheat              Farm  Transportation        None  None   \n3      Burundi     Wheat           Harvest          Drying  Harvesting  None   \n4      Burundi     Maize              Farm          Drying        None  None   \n...        ...       ...               ...             ...         ...   ...   \n20865   Zambia    Millet              Farm         Storage        None  None   \n20866   Zambia    Millet              Farm       Winnowing        None  None   \n20867   Zambia    Millet         Transport  Transportation        None  None   \n20868   Zambia    Millet           Storage         Storage        None  None   \n20869   Zambia    Millet           Harvest          Drying  Harvesting  None   \n\n          3     4     5     6     7     8     9    10  \n0      None  None  None  None  None  None  None  None  \n1      None  None  None  None  None  None  None  None  \n2      None  None  None  None  None  None  None  None  \n3      None  None  None  None  None  None  None  None  \n4      None  None  None  None  None  None  None  None  \n...     ...   ...   ...   ...   ...   ...   ...   ...  \n20865  None  None  None  None  None  None  None  None  \n20866  None  None  None  None  None  None  None  None  \n20867  None  None  None  None  None  None  None  None  \n20868  None  None  None  None  None  None  None  None  \n20869  None  None  None  None  None  None  None  None  \n\n[20870 rows x 14 columns]",
      "text/html": "<div>\n<style scoped>\n    .dataframe tbody tr th:only-of-type {\n        vertical-align: middle;\n    }\n\n    .dataframe tbody tr th {\n        vertical-align: top;\n    }\n\n    .dataframe thead th {\n        text-align: right;\n    }\n</style>\n<table border=\"1\" class=\"dataframe\">\n  <thead>\n    <tr style=\"text-align: right;\">\n      <th></th>\n      <th>country</th>\n      <th>commodity</th>\n      <th>food_supply_stage</th>\n      <th>0</th>\n      <th>1</th>\n      <th>2</th>\n      <th>3</th>\n      <th>4</th>\n      <th>5</th>\n      <th>6</th>\n      <th>7</th>\n      <th>8</th>\n      <th>9</th>\n      <th>10</th>\n    </tr>\n  </thead>\n  <tbody>\n    <tr>\n      <th>0</th>\n      <td>Burundi</td>\n      <td>Wheat</td>\n      <td>Farm</td>\n      <td>Shelling</td>\n      <td>Threshing</td>\n      <td>None</td>\n      <td>None</td>\n      <td>None</td>\n      <td>None</td>\n      <td>None</td>\n      <td>None</td>\n      <td>None</td>\n      <td>None</td>\n      <td>None</td>\n    </tr>\n    <tr>\n      <th>1</th>\n      <td>Burundi</td>\n      <td>Wheat</td>\n      <td>Farm</td>\n      <td>Storage</td>\n      <td>None</td>\n      <td>None</td>\n      <td>None</td>\n      <td>None</td>\n      <td>None</td>\n      <td>None</td>\n      <td>None</td>\n      <td>None</td>\n      <td>None</td>\n      <td>None</td>\n    </tr>\n    <tr>\n      <th>2</th>\n      <td>Burundi</td>\n      <td>Wheat</td>\n      <td>Farm</td>\n      <td>Transportation</td>\n      <td>None</td>\n      <td>None</td>\n      <td>None</td>\n      <td>None</td>\n      <td>None</td>\n      <td>None</td>\n      <td>None</td>\n      <td>None</td>\n      <td>None</td>\n      <td>None</td>\n    </tr>\n    <tr>\n      <th>3</th>\n      <td>Burundi</td>\n      <td>Wheat</td>\n      <td>Harvest</td>\n      <td>Drying</td>\n      <td>Harvesting</td>\n      <td>None</td>\n      <td>None</td>\n      <td>None</td>\n      <td>None</td>\n      <td>None</td>\n      <td>None</td>\n      <td>None</td>\n      <td>None</td>\n      <td>None</td>\n    </tr>\n    <tr>\n      <th>4</th>\n      <td>Burundi</td>\n      <td>Maize</td>\n      <td>Farm</td>\n      <td>Drying</td>\n      <td>None</td>\n      <td>None</td>\n      <td>None</td>\n      <td>None</td>\n      <td>None</td>\n      <td>None</td>\n      <td>None</td>\n      <td>None</td>\n      <td>None</td>\n      <td>None</td>\n    </tr>\n    <tr>\n      <th>...</th>\n      <td>...</td>\n      <td>...</td>\n      <td>...</td>\n      <td>...</td>\n      <td>...</td>\n      <td>...</td>\n      <td>...</td>\n      <td>...</td>\n      <td>...</td>\n      <td>...</td>\n      <td>...</td>\n      <td>...</td>\n      <td>...</td>\n      <td>...</td>\n    </tr>\n    <tr>\n      <th>20865</th>\n      <td>Zambia</td>\n      <td>Millet</td>\n      <td>Farm</td>\n      <td>Storage</td>\n      <td>None</td>\n      <td>None</td>\n      <td>None</td>\n      <td>None</td>\n      <td>None</td>\n      <td>None</td>\n      <td>None</td>\n      <td>None</td>\n      <td>None</td>\n      <td>None</td>\n    </tr>\n    <tr>\n      <th>20866</th>\n      <td>Zambia</td>\n      <td>Millet</td>\n      <td>Farm</td>\n      <td>Winnowing</td>\n      <td>None</td>\n      <td>None</td>\n      <td>None</td>\n      <td>None</td>\n      <td>None</td>\n      <td>None</td>\n      <td>None</td>\n      <td>None</td>\n      <td>None</td>\n      <td>None</td>\n    </tr>\n    <tr>\n      <th>20867</th>\n      <td>Zambia</td>\n      <td>Millet</td>\n      <td>Transport</td>\n      <td>Transportation</td>\n      <td>None</td>\n      <td>None</td>\n      <td>None</td>\n      <td>None</td>\n      <td>None</td>\n      <td>None</td>\n      <td>None</td>\n      <td>None</td>\n      <td>None</td>\n      <td>None</td>\n    </tr>\n    <tr>\n      <th>20868</th>\n      <td>Zambia</td>\n      <td>Millet</td>\n      <td>Storage</td>\n      <td>Storage</td>\n      <td>None</td>\n      <td>None</td>\n      <td>None</td>\n      <td>None</td>\n      <td>None</td>\n      <td>None</td>\n      <td>None</td>\n      <td>None</td>\n      <td>None</td>\n      <td>None</td>\n    </tr>\n    <tr>\n      <th>20869</th>\n      <td>Zambia</td>\n      <td>Millet</td>\n      <td>Harvest</td>\n      <td>Drying</td>\n      <td>Harvesting</td>\n      <td>None</td>\n      <td>None</td>\n      <td>None</td>\n      <td>None</td>\n      <td>None</td>\n      <td>None</td>\n      <td>None</td>\n      <td>None</td>\n      <td>None</td>\n    </tr>\n  </tbody>\n</table>\n<p>20870 rows × 14 columns</p>\n</div>"
     },
     "execution_count": 175,
     "metadata": {},
     "output_type": "execute_result"
    }
   ],
   "source": [
    "X=X.applymap(lambda x: x.split()[0] if x!=None else x )\n",
    "X"
   ],
   "metadata": {
    "collapsed": false,
    "pycharm": {
     "name": "#%%\n"
    }
   }
  },
  {
   "cell_type": "code",
   "execution_count": 176,
   "outputs": [
    {
     "data": {
      "text/plain": "       country commodity food_supply_stage               0           1     2  \\\n0      Burundi     Wheat              Farm        Shelling   Threshing  None   \n1      Burundi     Wheat              Farm         Storage        None  None   \n2      Burundi     Wheat              Farm  Transportation        None  None   \n3      Burundi     Wheat           Harvest          Drying  Harvesting  None   \n4      Burundi     Maize              Farm          Drying        None  None   \n...        ...       ...               ...             ...         ...   ...   \n20865   Zambia    Millet              Farm         Storage        None  None   \n20866   Zambia    Millet              Farm       Winnowing        None  None   \n20867   Zambia    Millet         Transport  Transportation        None  None   \n20868   Zambia    Millet           Storage         Storage        None  None   \n20869   Zambia    Millet           Harvest          Drying  Harvesting  None   \n\n          3     4     5     6     7     8     9    10  \n0      None  None  None  None  None  None  None  None  \n1      None  None  None  None  None  None  None  None  \n2      None  None  None  None  None  None  None  None  \n3      None  None  None  None  None  None  None  None  \n4      None  None  None  None  None  None  None  None  \n...     ...   ...   ...   ...   ...   ...   ...   ...  \n20865  None  None  None  None  None  None  None  None  \n20866  None  None  None  None  None  None  None  None  \n20867  None  None  None  None  None  None  None  None  \n20868  None  None  None  None  None  None  None  None  \n20869  None  None  None  None  None  None  None  None  \n\n[20870 rows x 14 columns]",
      "text/html": "<div>\n<style scoped>\n    .dataframe tbody tr th:only-of-type {\n        vertical-align: middle;\n    }\n\n    .dataframe tbody tr th {\n        vertical-align: top;\n    }\n\n    .dataframe thead th {\n        text-align: right;\n    }\n</style>\n<table border=\"1\" class=\"dataframe\">\n  <thead>\n    <tr style=\"text-align: right;\">\n      <th></th>\n      <th>country</th>\n      <th>commodity</th>\n      <th>food_supply_stage</th>\n      <th>0</th>\n      <th>1</th>\n      <th>2</th>\n      <th>3</th>\n      <th>4</th>\n      <th>5</th>\n      <th>6</th>\n      <th>7</th>\n      <th>8</th>\n      <th>9</th>\n      <th>10</th>\n    </tr>\n  </thead>\n  <tbody>\n    <tr>\n      <th>0</th>\n      <td>Burundi</td>\n      <td>Wheat</td>\n      <td>Farm</td>\n      <td>Shelling</td>\n      <td>Threshing</td>\n      <td>None</td>\n      <td>None</td>\n      <td>None</td>\n      <td>None</td>\n      <td>None</td>\n      <td>None</td>\n      <td>None</td>\n      <td>None</td>\n      <td>None</td>\n    </tr>\n    <tr>\n      <th>1</th>\n      <td>Burundi</td>\n      <td>Wheat</td>\n      <td>Farm</td>\n      <td>Storage</td>\n      <td>None</td>\n      <td>None</td>\n      <td>None</td>\n      <td>None</td>\n      <td>None</td>\n      <td>None</td>\n      <td>None</td>\n      <td>None</td>\n      <td>None</td>\n      <td>None</td>\n    </tr>\n    <tr>\n      <th>2</th>\n      <td>Burundi</td>\n      <td>Wheat</td>\n      <td>Farm</td>\n      <td>Transportation</td>\n      <td>None</td>\n      <td>None</td>\n      <td>None</td>\n      <td>None</td>\n      <td>None</td>\n      <td>None</td>\n      <td>None</td>\n      <td>None</td>\n      <td>None</td>\n      <td>None</td>\n    </tr>\n    <tr>\n      <th>3</th>\n      <td>Burundi</td>\n      <td>Wheat</td>\n      <td>Harvest</td>\n      <td>Drying</td>\n      <td>Harvesting</td>\n      <td>None</td>\n      <td>None</td>\n      <td>None</td>\n      <td>None</td>\n      <td>None</td>\n      <td>None</td>\n      <td>None</td>\n      <td>None</td>\n      <td>None</td>\n    </tr>\n    <tr>\n      <th>4</th>\n      <td>Burundi</td>\n      <td>Maize</td>\n      <td>Farm</td>\n      <td>Drying</td>\n      <td>None</td>\n      <td>None</td>\n      <td>None</td>\n      <td>None</td>\n      <td>None</td>\n      <td>None</td>\n      <td>None</td>\n      <td>None</td>\n      <td>None</td>\n      <td>None</td>\n    </tr>\n    <tr>\n      <th>...</th>\n      <td>...</td>\n      <td>...</td>\n      <td>...</td>\n      <td>...</td>\n      <td>...</td>\n      <td>...</td>\n      <td>...</td>\n      <td>...</td>\n      <td>...</td>\n      <td>...</td>\n      <td>...</td>\n      <td>...</td>\n      <td>...</td>\n      <td>...</td>\n    </tr>\n    <tr>\n      <th>20865</th>\n      <td>Zambia</td>\n      <td>Millet</td>\n      <td>Farm</td>\n      <td>Storage</td>\n      <td>None</td>\n      <td>None</td>\n      <td>None</td>\n      <td>None</td>\n      <td>None</td>\n      <td>None</td>\n      <td>None</td>\n      <td>None</td>\n      <td>None</td>\n      <td>None</td>\n    </tr>\n    <tr>\n      <th>20866</th>\n      <td>Zambia</td>\n      <td>Millet</td>\n      <td>Farm</td>\n      <td>Winnowing</td>\n      <td>None</td>\n      <td>None</td>\n      <td>None</td>\n      <td>None</td>\n      <td>None</td>\n      <td>None</td>\n      <td>None</td>\n      <td>None</td>\n      <td>None</td>\n      <td>None</td>\n    </tr>\n    <tr>\n      <th>20867</th>\n      <td>Zambia</td>\n      <td>Millet</td>\n      <td>Transport</td>\n      <td>Transportation</td>\n      <td>None</td>\n      <td>None</td>\n      <td>None</td>\n      <td>None</td>\n      <td>None</td>\n      <td>None</td>\n      <td>None</td>\n      <td>None</td>\n      <td>None</td>\n      <td>None</td>\n    </tr>\n    <tr>\n      <th>20868</th>\n      <td>Zambia</td>\n      <td>Millet</td>\n      <td>Storage</td>\n      <td>Storage</td>\n      <td>None</td>\n      <td>None</td>\n      <td>None</td>\n      <td>None</td>\n      <td>None</td>\n      <td>None</td>\n      <td>None</td>\n      <td>None</td>\n      <td>None</td>\n      <td>None</td>\n    </tr>\n    <tr>\n      <th>20869</th>\n      <td>Zambia</td>\n      <td>Millet</td>\n      <td>Harvest</td>\n      <td>Drying</td>\n      <td>Harvesting</td>\n      <td>None</td>\n      <td>None</td>\n      <td>None</td>\n      <td>None</td>\n      <td>None</td>\n      <td>None</td>\n      <td>None</td>\n      <td>None</td>\n      <td>None</td>\n    </tr>\n  </tbody>\n</table>\n<p>20870 rows × 14 columns</p>\n</div>"
     },
     "execution_count": 176,
     "metadata": {},
     "output_type": "execute_result"
    }
   ],
   "source": [
    "X"
   ],
   "metadata": {
    "collapsed": false,
    "pycharm": {
     "name": "#%%\n"
    }
   }
  },
  {
   "cell_type": "code",
   "execution_count": 183,
   "outputs": [],
   "source": [
    "dummies_0=pd.get_dummies(X[0],columns=listtt)\n",
    "dummies_1=pd.get_dummies(X[1],columns=listtt)\n",
    "dummies_2=pd.get_dummies(X[2],columns=listtt)\n",
    "dummies_3=pd.get_dummies(X[3],columns=listtt)\n",
    "dummies_4=pd.get_dummies(X[4],columns=listtt)\n",
    "dummies_5=pd.get_dummies(X[5],columns=listtt)\n",
    "dummies_6=pd.get_dummies(X[6],columns=listtt)\n",
    "dummies_7=pd.get_dummies(X[7],columns=listtt)\n",
    "dummies_8=pd.get_dummies(X[8],columns=listtt)\n",
    "dummies_9=pd.get_dummies(X[9],columns=listtt)\n",
    "dummies_10=pd.get_dummies(X[10],columns=listtt)\n"
   ],
   "metadata": {
    "collapsed": false,
    "pycharm": {
     "name": "#%%\n"
    }
   }
  },
  {
   "cell_type": "code",
   "execution_count": 202,
   "outputs": [],
   "source": [
    "arr=[dummies_0,dummies_1,dummies_2,dummies_3,dummies_4,dummies_5,dummies_6,dummies_7,dummies_8,dummies_9,dummies_10]\n",
    "for i in arr:\n",
    "    for col in i.columns:\n",
    "        activity_cols[col]=activity_cols[col].where(activity_cols[col]>i[col],i[col])"
   ],
   "metadata": {
    "collapsed": false,
    "pycharm": {
     "name": "#%%\n"
    }
   }
  },
  {
   "cell_type": "code",
   "execution_count": 214,
   "outputs": [],
   "source": [
    "X=pd.concat([X,activity_cols],axis=1)"
   ],
   "metadata": {
    "collapsed": false,
    "pycharm": {
     "name": "#%%\n"
    }
   }
  },
  {
   "cell_type": "code",
   "execution_count": 217,
   "outputs": [],
   "source": [
    "X.drop([0,1,2,3,4,5,6,7,8,9,10],axis=1,inplace=True)"
   ],
   "metadata": {
    "collapsed": false,
    "pycharm": {
     "name": "#%%\n"
    }
   }
  },
  {
   "cell_type": "code",
   "execution_count": 218,
   "outputs": [
    {
     "data": {
      "text/plain": "       country commodity food_supply_stage  Assembling  Bagging  Blanching  \\\n0      Burundi     Wheat              Farm           0        0          0   \n1      Burundi     Wheat              Farm           0        0          0   \n2      Burundi     Wheat              Farm           0        0          0   \n3      Burundi     Wheat           Harvest           0        0          0   \n4      Burundi     Maize              Farm           0        0          0   \n...        ...       ...               ...         ...      ...        ...   \n20865   Zambia    Millet              Farm           0        0          0   \n20866   Zambia    Millet              Farm           0        0          0   \n20867   Zambia    Millet         Transport           0        0          0   \n20868   Zambia    Millet           Storage           0        0          0   \n20869   Zambia    Millet           Harvest           0        0          0   \n\n       Bundling  Cleaning  Collection  Consumption  ...  Sorting  Stacking  \\\n0             0         0           0            0  ...        0         0   \n1             0         0           0            0  ...        0         0   \n2             0         0           0            0  ...        0         0   \n3             0         0           0            0  ...        0         0   \n4             0         0           0            0  ...        0         0   \n...         ...       ...         ...          ...  ...      ...       ...   \n20865         0         0           0            0  ...        0         0   \n20866         0         0           0            0  ...        0         0   \n20867         0         0           0            0  ...        0         0   \n20868         0         0           0            0  ...        0         0   \n20869         0         0           0            0  ...        0         0   \n\n       Storage  Threshing  Trading  Transportation  Unloading  Washing  \\\n0            0          1        0               0          0        0   \n1            1          0        0               0          0        0   \n2            0          0        0               1          0        0   \n3            0          0        0               0          0        0   \n4            0          0        0               0          0        0   \n...        ...        ...      ...             ...        ...      ...   \n20865        1          0        0               0          0        0   \n20866        0          0        0               0          0        0   \n20867        0          0        0               1          0        0   \n20868        1          0        0               0          0        0   \n20869        0          0        0               0          0        0   \n\n       Wholesale  Winnowing  \n0              0          0  \n1              0          0  \n2              0          0  \n3              0          0  \n4              0          0  \n...          ...        ...  \n20865          0          0  \n20866          0          1  \n20867          0          0  \n20868          0          0  \n20869          0          0  \n\n[20870 rows x 49 columns]",
      "text/html": "<div>\n<style scoped>\n    .dataframe tbody tr th:only-of-type {\n        vertical-align: middle;\n    }\n\n    .dataframe tbody tr th {\n        vertical-align: top;\n    }\n\n    .dataframe thead th {\n        text-align: right;\n    }\n</style>\n<table border=\"1\" class=\"dataframe\">\n  <thead>\n    <tr style=\"text-align: right;\">\n      <th></th>\n      <th>country</th>\n      <th>commodity</th>\n      <th>food_supply_stage</th>\n      <th>Assembling</th>\n      <th>Bagging</th>\n      <th>Blanching</th>\n      <th>Bundling</th>\n      <th>Cleaning</th>\n      <th>Collection</th>\n      <th>Consumption</th>\n      <th>...</th>\n      <th>Sorting</th>\n      <th>Stacking</th>\n      <th>Storage</th>\n      <th>Threshing</th>\n      <th>Trading</th>\n      <th>Transportation</th>\n      <th>Unloading</th>\n      <th>Washing</th>\n      <th>Wholesale</th>\n      <th>Winnowing</th>\n    </tr>\n  </thead>\n  <tbody>\n    <tr>\n      <th>0</th>\n      <td>Burundi</td>\n      <td>Wheat</td>\n      <td>Farm</td>\n      <td>0</td>\n      <td>0</td>\n      <td>0</td>\n      <td>0</td>\n      <td>0</td>\n      <td>0</td>\n      <td>0</td>\n      <td>...</td>\n      <td>0</td>\n      <td>0</td>\n      <td>0</td>\n      <td>1</td>\n      <td>0</td>\n      <td>0</td>\n      <td>0</td>\n      <td>0</td>\n      <td>0</td>\n      <td>0</td>\n    </tr>\n    <tr>\n      <th>1</th>\n      <td>Burundi</td>\n      <td>Wheat</td>\n      <td>Farm</td>\n      <td>0</td>\n      <td>0</td>\n      <td>0</td>\n      <td>0</td>\n      <td>0</td>\n      <td>0</td>\n      <td>0</td>\n      <td>...</td>\n      <td>0</td>\n      <td>0</td>\n      <td>1</td>\n      <td>0</td>\n      <td>0</td>\n      <td>0</td>\n      <td>0</td>\n      <td>0</td>\n      <td>0</td>\n      <td>0</td>\n    </tr>\n    <tr>\n      <th>2</th>\n      <td>Burundi</td>\n      <td>Wheat</td>\n      <td>Farm</td>\n      <td>0</td>\n      <td>0</td>\n      <td>0</td>\n      <td>0</td>\n      <td>0</td>\n      <td>0</td>\n      <td>0</td>\n      <td>...</td>\n      <td>0</td>\n      <td>0</td>\n      <td>0</td>\n      <td>0</td>\n      <td>0</td>\n      <td>1</td>\n      <td>0</td>\n      <td>0</td>\n      <td>0</td>\n      <td>0</td>\n    </tr>\n    <tr>\n      <th>3</th>\n      <td>Burundi</td>\n      <td>Wheat</td>\n      <td>Harvest</td>\n      <td>0</td>\n      <td>0</td>\n      <td>0</td>\n      <td>0</td>\n      <td>0</td>\n      <td>0</td>\n      <td>0</td>\n      <td>...</td>\n      <td>0</td>\n      <td>0</td>\n      <td>0</td>\n      <td>0</td>\n      <td>0</td>\n      <td>0</td>\n      <td>0</td>\n      <td>0</td>\n      <td>0</td>\n      <td>0</td>\n    </tr>\n    <tr>\n      <th>4</th>\n      <td>Burundi</td>\n      <td>Maize</td>\n      <td>Farm</td>\n      <td>0</td>\n      <td>0</td>\n      <td>0</td>\n      <td>0</td>\n      <td>0</td>\n      <td>0</td>\n      <td>0</td>\n      <td>...</td>\n      <td>0</td>\n      <td>0</td>\n      <td>0</td>\n      <td>0</td>\n      <td>0</td>\n      <td>0</td>\n      <td>0</td>\n      <td>0</td>\n      <td>0</td>\n      <td>0</td>\n    </tr>\n    <tr>\n      <th>...</th>\n      <td>...</td>\n      <td>...</td>\n      <td>...</td>\n      <td>...</td>\n      <td>...</td>\n      <td>...</td>\n      <td>...</td>\n      <td>...</td>\n      <td>...</td>\n      <td>...</td>\n      <td>...</td>\n      <td>...</td>\n      <td>...</td>\n      <td>...</td>\n      <td>...</td>\n      <td>...</td>\n      <td>...</td>\n      <td>...</td>\n      <td>...</td>\n      <td>...</td>\n      <td>...</td>\n    </tr>\n    <tr>\n      <th>20865</th>\n      <td>Zambia</td>\n      <td>Millet</td>\n      <td>Farm</td>\n      <td>0</td>\n      <td>0</td>\n      <td>0</td>\n      <td>0</td>\n      <td>0</td>\n      <td>0</td>\n      <td>0</td>\n      <td>...</td>\n      <td>0</td>\n      <td>0</td>\n      <td>1</td>\n      <td>0</td>\n      <td>0</td>\n      <td>0</td>\n      <td>0</td>\n      <td>0</td>\n      <td>0</td>\n      <td>0</td>\n    </tr>\n    <tr>\n      <th>20866</th>\n      <td>Zambia</td>\n      <td>Millet</td>\n      <td>Farm</td>\n      <td>0</td>\n      <td>0</td>\n      <td>0</td>\n      <td>0</td>\n      <td>0</td>\n      <td>0</td>\n      <td>0</td>\n      <td>...</td>\n      <td>0</td>\n      <td>0</td>\n      <td>0</td>\n      <td>0</td>\n      <td>0</td>\n      <td>0</td>\n      <td>0</td>\n      <td>0</td>\n      <td>0</td>\n      <td>1</td>\n    </tr>\n    <tr>\n      <th>20867</th>\n      <td>Zambia</td>\n      <td>Millet</td>\n      <td>Transport</td>\n      <td>0</td>\n      <td>0</td>\n      <td>0</td>\n      <td>0</td>\n      <td>0</td>\n      <td>0</td>\n      <td>0</td>\n      <td>...</td>\n      <td>0</td>\n      <td>0</td>\n      <td>0</td>\n      <td>0</td>\n      <td>0</td>\n      <td>1</td>\n      <td>0</td>\n      <td>0</td>\n      <td>0</td>\n      <td>0</td>\n    </tr>\n    <tr>\n      <th>20868</th>\n      <td>Zambia</td>\n      <td>Millet</td>\n      <td>Storage</td>\n      <td>0</td>\n      <td>0</td>\n      <td>0</td>\n      <td>0</td>\n      <td>0</td>\n      <td>0</td>\n      <td>0</td>\n      <td>...</td>\n      <td>0</td>\n      <td>0</td>\n      <td>1</td>\n      <td>0</td>\n      <td>0</td>\n      <td>0</td>\n      <td>0</td>\n      <td>0</td>\n      <td>0</td>\n      <td>0</td>\n    </tr>\n    <tr>\n      <th>20869</th>\n      <td>Zambia</td>\n      <td>Millet</td>\n      <td>Harvest</td>\n      <td>0</td>\n      <td>0</td>\n      <td>0</td>\n      <td>0</td>\n      <td>0</td>\n      <td>0</td>\n      <td>0</td>\n      <td>...</td>\n      <td>0</td>\n      <td>0</td>\n      <td>0</td>\n      <td>0</td>\n      <td>0</td>\n      <td>0</td>\n      <td>0</td>\n      <td>0</td>\n      <td>0</td>\n      <td>0</td>\n    </tr>\n  </tbody>\n</table>\n<p>20870 rows × 49 columns</p>\n</div>"
     },
     "execution_count": 218,
     "metadata": {},
     "output_type": "execute_result"
    }
   ],
   "source": [
    "X"
   ],
   "metadata": {
    "collapsed": false,
    "pycharm": {
     "name": "#%%\n"
    }
   }
  },
  {
   "cell_type": "code",
   "execution_count": 219,
   "outputs": [],
   "source": [
    "dummies=pd.get_dummies((X[[\"country\",\"commodity\",\"food_supply_stage\"]]))\n",
    "X=pd.concat([X,dummies],axis=1)\n",
    "X.drop([\"country\",\"commodity\",\"food_supply_stage\"],axis=1,inplace=True)"
   ],
   "metadata": {
    "collapsed": false,
    "pycharm": {
     "name": "#%%\n"
    }
   }
  },
  {
   "cell_type": "code",
   "execution_count": 220,
   "outputs": [
    {
     "data": {
      "text/plain": "       Assembling  Bagging  Blanching  Bundling  Cleaning  Collection  \\\n0               0        0          0         0         0           0   \n1               0        0          0         0         0           0   \n2               0        0          0         0         0           0   \n3               0        0          0         0         0           0   \n4               0        0          0         0         0           0   \n...           ...      ...        ...       ...       ...         ...   \n20865           0        0          0         0         0           0   \n20866           0        0          0         0         0           0   \n20867           0        0          0         0         0           0   \n20868           0        0          0         0         0           0   \n20869           0        0          0         0         0           0   \n\n       Consumption  Curing  Dewatering  Distribution  ...  \\\n0                0       0           0             0  ...   \n1                0       0           0             0  ...   \n2                0       0           0             0  ...   \n3                0       0           0             0  ...   \n4                0       0           0             0  ...   \n...            ...     ...         ...           ...  ...   \n20865            0       0           0             0  ...   \n20866            0       0           0             0  ...   \n20867            0       0           0             0  ...   \n20868            0       0           0             0  ...   \n20869            0       0           0             0  ...   \n\n       food_supply_stage_Market  food_supply_stage_Packing  \\\n0                             0                          0   \n1                             0                          0   \n2                             0                          0   \n3                             0                          0   \n4                             0                          0   \n...                         ...                        ...   \n20865                         0                          0   \n20866                         0                          0   \n20867                         0                          0   \n20868                         0                          0   \n20869                         0                          0   \n\n       food_supply_stage_Post-harvest  food_supply_stage_Processing  \\\n0                                   0                             0   \n1                                   0                             0   \n2                                   0                             0   \n3                                   0                             0   \n4                                   0                             0   \n...                               ...                           ...   \n20865                               0                             0   \n20866                               0                             0   \n20867                               0                             0   \n20868                               0                             0   \n20869                               0                             0   \n\n       food_supply_stage_Retail  food_supply_stage_Storage  \\\n0                             0                          0   \n1                             0                          0   \n2                             0                          0   \n3                             0                          0   \n4                             0                          0   \n...                         ...                        ...   \n20865                         0                          0   \n20866                         0                          0   \n20867                         0                          0   \n20868                         0                          1   \n20869                         0                          0   \n\n       food_supply_stage_Trader  food_supply_stage_Transport  \\\n0                             0                            0   \n1                             0                            0   \n2                             0                            0   \n3                             0                            0   \n4                             0                            0   \n...                         ...                          ...   \n20865                         0                            0   \n20866                         0                            0   \n20867                         0                            1   \n20868                         0                            0   \n20869                         0                            0   \n\n       food_supply_stage_Whole  food_supply_stage_Wholesale  \n0                            0                            0  \n1                            0                            0  \n2                            0                            0  \n3                            0                            0  \n4                            0                            0  \n...                        ...                          ...  \n20865                        0                            0  \n20866                        0                            0  \n20867                        0                            0  \n20868                        0                            0  \n20869                        0                            0  \n\n[20870 rows x 248 columns]",
      "text/html": "<div>\n<style scoped>\n    .dataframe tbody tr th:only-of-type {\n        vertical-align: middle;\n    }\n\n    .dataframe tbody tr th {\n        vertical-align: top;\n    }\n\n    .dataframe thead th {\n        text-align: right;\n    }\n</style>\n<table border=\"1\" class=\"dataframe\">\n  <thead>\n    <tr style=\"text-align: right;\">\n      <th></th>\n      <th>Assembling</th>\n      <th>Bagging</th>\n      <th>Blanching</th>\n      <th>Bundling</th>\n      <th>Cleaning</th>\n      <th>Collection</th>\n      <th>Consumption</th>\n      <th>Curing</th>\n      <th>Dewatering</th>\n      <th>Distribution</th>\n      <th>...</th>\n      <th>food_supply_stage_Market</th>\n      <th>food_supply_stage_Packing</th>\n      <th>food_supply_stage_Post-harvest</th>\n      <th>food_supply_stage_Processing</th>\n      <th>food_supply_stage_Retail</th>\n      <th>food_supply_stage_Storage</th>\n      <th>food_supply_stage_Trader</th>\n      <th>food_supply_stage_Transport</th>\n      <th>food_supply_stage_Whole</th>\n      <th>food_supply_stage_Wholesale</th>\n    </tr>\n  </thead>\n  <tbody>\n    <tr>\n      <th>0</th>\n      <td>0</td>\n      <td>0</td>\n      <td>0</td>\n      <td>0</td>\n      <td>0</td>\n      <td>0</td>\n      <td>0</td>\n      <td>0</td>\n      <td>0</td>\n      <td>0</td>\n      <td>...</td>\n      <td>0</td>\n      <td>0</td>\n      <td>0</td>\n      <td>0</td>\n      <td>0</td>\n      <td>0</td>\n      <td>0</td>\n      <td>0</td>\n      <td>0</td>\n      <td>0</td>\n    </tr>\n    <tr>\n      <th>1</th>\n      <td>0</td>\n      <td>0</td>\n      <td>0</td>\n      <td>0</td>\n      <td>0</td>\n      <td>0</td>\n      <td>0</td>\n      <td>0</td>\n      <td>0</td>\n      <td>0</td>\n      <td>...</td>\n      <td>0</td>\n      <td>0</td>\n      <td>0</td>\n      <td>0</td>\n      <td>0</td>\n      <td>0</td>\n      <td>0</td>\n      <td>0</td>\n      <td>0</td>\n      <td>0</td>\n    </tr>\n    <tr>\n      <th>2</th>\n      <td>0</td>\n      <td>0</td>\n      <td>0</td>\n      <td>0</td>\n      <td>0</td>\n      <td>0</td>\n      <td>0</td>\n      <td>0</td>\n      <td>0</td>\n      <td>0</td>\n      <td>...</td>\n      <td>0</td>\n      <td>0</td>\n      <td>0</td>\n      <td>0</td>\n      <td>0</td>\n      <td>0</td>\n      <td>0</td>\n      <td>0</td>\n      <td>0</td>\n      <td>0</td>\n    </tr>\n    <tr>\n      <th>3</th>\n      <td>0</td>\n      <td>0</td>\n      <td>0</td>\n      <td>0</td>\n      <td>0</td>\n      <td>0</td>\n      <td>0</td>\n      <td>0</td>\n      <td>0</td>\n      <td>0</td>\n      <td>...</td>\n      <td>0</td>\n      <td>0</td>\n      <td>0</td>\n      <td>0</td>\n      <td>0</td>\n      <td>0</td>\n      <td>0</td>\n      <td>0</td>\n      <td>0</td>\n      <td>0</td>\n    </tr>\n    <tr>\n      <th>4</th>\n      <td>0</td>\n      <td>0</td>\n      <td>0</td>\n      <td>0</td>\n      <td>0</td>\n      <td>0</td>\n      <td>0</td>\n      <td>0</td>\n      <td>0</td>\n      <td>0</td>\n      <td>...</td>\n      <td>0</td>\n      <td>0</td>\n      <td>0</td>\n      <td>0</td>\n      <td>0</td>\n      <td>0</td>\n      <td>0</td>\n      <td>0</td>\n      <td>0</td>\n      <td>0</td>\n    </tr>\n    <tr>\n      <th>...</th>\n      <td>...</td>\n      <td>...</td>\n      <td>...</td>\n      <td>...</td>\n      <td>...</td>\n      <td>...</td>\n      <td>...</td>\n      <td>...</td>\n      <td>...</td>\n      <td>...</td>\n      <td>...</td>\n      <td>...</td>\n      <td>...</td>\n      <td>...</td>\n      <td>...</td>\n      <td>...</td>\n      <td>...</td>\n      <td>...</td>\n      <td>...</td>\n      <td>...</td>\n      <td>...</td>\n    </tr>\n    <tr>\n      <th>20865</th>\n      <td>0</td>\n      <td>0</td>\n      <td>0</td>\n      <td>0</td>\n      <td>0</td>\n      <td>0</td>\n      <td>0</td>\n      <td>0</td>\n      <td>0</td>\n      <td>0</td>\n      <td>...</td>\n      <td>0</td>\n      <td>0</td>\n      <td>0</td>\n      <td>0</td>\n      <td>0</td>\n      <td>0</td>\n      <td>0</td>\n      <td>0</td>\n      <td>0</td>\n      <td>0</td>\n    </tr>\n    <tr>\n      <th>20866</th>\n      <td>0</td>\n      <td>0</td>\n      <td>0</td>\n      <td>0</td>\n      <td>0</td>\n      <td>0</td>\n      <td>0</td>\n      <td>0</td>\n      <td>0</td>\n      <td>0</td>\n      <td>...</td>\n      <td>0</td>\n      <td>0</td>\n      <td>0</td>\n      <td>0</td>\n      <td>0</td>\n      <td>0</td>\n      <td>0</td>\n      <td>0</td>\n      <td>0</td>\n      <td>0</td>\n    </tr>\n    <tr>\n      <th>20867</th>\n      <td>0</td>\n      <td>0</td>\n      <td>0</td>\n      <td>0</td>\n      <td>0</td>\n      <td>0</td>\n      <td>0</td>\n      <td>0</td>\n      <td>0</td>\n      <td>0</td>\n      <td>...</td>\n      <td>0</td>\n      <td>0</td>\n      <td>0</td>\n      <td>0</td>\n      <td>0</td>\n      <td>0</td>\n      <td>0</td>\n      <td>1</td>\n      <td>0</td>\n      <td>0</td>\n    </tr>\n    <tr>\n      <th>20868</th>\n      <td>0</td>\n      <td>0</td>\n      <td>0</td>\n      <td>0</td>\n      <td>0</td>\n      <td>0</td>\n      <td>0</td>\n      <td>0</td>\n      <td>0</td>\n      <td>0</td>\n      <td>...</td>\n      <td>0</td>\n      <td>0</td>\n      <td>0</td>\n      <td>0</td>\n      <td>0</td>\n      <td>1</td>\n      <td>0</td>\n      <td>0</td>\n      <td>0</td>\n      <td>0</td>\n    </tr>\n    <tr>\n      <th>20869</th>\n      <td>0</td>\n      <td>0</td>\n      <td>0</td>\n      <td>0</td>\n      <td>0</td>\n      <td>0</td>\n      <td>0</td>\n      <td>0</td>\n      <td>0</td>\n      <td>0</td>\n      <td>...</td>\n      <td>0</td>\n      <td>0</td>\n      <td>0</td>\n      <td>0</td>\n      <td>0</td>\n      <td>0</td>\n      <td>0</td>\n      <td>0</td>\n      <td>0</td>\n      <td>0</td>\n    </tr>\n  </tbody>\n</table>\n<p>20870 rows × 248 columns</p>\n</div>"
     },
     "execution_count": 220,
     "metadata": {},
     "output_type": "execute_result"
    }
   ],
   "source": [
    "X"
   ],
   "metadata": {
    "collapsed": false,
    "pycharm": {
     "name": "#%%\n"
    }
   }
  },
  {
   "cell_type": "markdown",
   "source": [
    "Regression Model"
   ],
   "metadata": {
    "collapsed": false,
    "pycharm": {
     "name": "#%% md\n"
    }
   }
  },
  {
   "cell_type": "code",
   "execution_count": 56,
   "outputs": [
    {
     "ename": "ValueError",
     "evalue": "could not convert string to float: 'Burundi'",
     "output_type": "error",
     "traceback": [
      "\u001B[0;31m---------------------------------------------------------------------------\u001B[0m",
      "\u001B[0;31mValueError\u001B[0m                                Traceback (most recent call last)",
      "Input \u001B[0;32mIn [56]\u001B[0m, in \u001B[0;36m<cell line: 1>\u001B[0;34m()\u001B[0m\n\u001B[0;32m----> 1\u001B[0m reg \u001B[38;5;241m=\u001B[39m \u001B[43mLinearRegression\u001B[49m\u001B[43m(\u001B[49m\u001B[43m)\u001B[49m\u001B[38;5;241;43m.\u001B[39;49m\u001B[43mfit\u001B[49m\u001B[43m(\u001B[49m\u001B[43mX\u001B[49m\u001B[43m,\u001B[49m\u001B[43m \u001B[49m\u001B[43mY\u001B[49m\u001B[43m)\u001B[49m\n\u001B[1;32m      2\u001B[0m reg\u001B[38;5;241m.\u001B[39mscore(X, Y)\n",
      "File \u001B[0;32m~/Desktop/SIC/venv/lib/python3.9/site-packages/sklearn/linear_model/_base.py:684\u001B[0m, in \u001B[0;36mLinearRegression.fit\u001B[0;34m(self, X, y, sample_weight)\u001B[0m\n\u001B[1;32m    680\u001B[0m n_jobs_ \u001B[38;5;241m=\u001B[39m \u001B[38;5;28mself\u001B[39m\u001B[38;5;241m.\u001B[39mn_jobs\n\u001B[1;32m    682\u001B[0m accept_sparse \u001B[38;5;241m=\u001B[39m \u001B[38;5;28;01mFalse\u001B[39;00m \u001B[38;5;28;01mif\u001B[39;00m \u001B[38;5;28mself\u001B[39m\u001B[38;5;241m.\u001B[39mpositive \u001B[38;5;28;01melse\u001B[39;00m [\u001B[38;5;124m\"\u001B[39m\u001B[38;5;124mcsr\u001B[39m\u001B[38;5;124m\"\u001B[39m, \u001B[38;5;124m\"\u001B[39m\u001B[38;5;124mcsc\u001B[39m\u001B[38;5;124m\"\u001B[39m, \u001B[38;5;124m\"\u001B[39m\u001B[38;5;124mcoo\u001B[39m\u001B[38;5;124m\"\u001B[39m]\n\u001B[0;32m--> 684\u001B[0m X, y \u001B[38;5;241m=\u001B[39m \u001B[38;5;28;43mself\u001B[39;49m\u001B[38;5;241;43m.\u001B[39;49m\u001B[43m_validate_data\u001B[49m\u001B[43m(\u001B[49m\n\u001B[1;32m    685\u001B[0m \u001B[43m    \u001B[49m\u001B[43mX\u001B[49m\u001B[43m,\u001B[49m\u001B[43m \u001B[49m\u001B[43my\u001B[49m\u001B[43m,\u001B[49m\u001B[43m \u001B[49m\u001B[43maccept_sparse\u001B[49m\u001B[38;5;241;43m=\u001B[39;49m\u001B[43maccept_sparse\u001B[49m\u001B[43m,\u001B[49m\u001B[43m \u001B[49m\u001B[43my_numeric\u001B[49m\u001B[38;5;241;43m=\u001B[39;49m\u001B[38;5;28;43;01mTrue\u001B[39;49;00m\u001B[43m,\u001B[49m\u001B[43m \u001B[49m\u001B[43mmulti_output\u001B[49m\u001B[38;5;241;43m=\u001B[39;49m\u001B[38;5;28;43;01mTrue\u001B[39;49;00m\n\u001B[1;32m    686\u001B[0m \u001B[43m\u001B[49m\u001B[43m)\u001B[49m\n\u001B[1;32m    688\u001B[0m sample_weight \u001B[38;5;241m=\u001B[39m _check_sample_weight(\n\u001B[1;32m    689\u001B[0m     sample_weight, X, dtype\u001B[38;5;241m=\u001B[39mX\u001B[38;5;241m.\u001B[39mdtype, only_non_negative\u001B[38;5;241m=\u001B[39m\u001B[38;5;28;01mTrue\u001B[39;00m\n\u001B[1;32m    690\u001B[0m )\n\u001B[1;32m    692\u001B[0m X, y, X_offset, y_offset, X_scale \u001B[38;5;241m=\u001B[39m _preprocess_data(\n\u001B[1;32m    693\u001B[0m     X,\n\u001B[1;32m    694\u001B[0m     y,\n\u001B[0;32m   (...)\u001B[0m\n\u001B[1;32m    698\u001B[0m     sample_weight\u001B[38;5;241m=\u001B[39msample_weight,\n\u001B[1;32m    699\u001B[0m )\n",
      "File \u001B[0;32m~/Desktop/SIC/venv/lib/python3.9/site-packages/sklearn/base.py:596\u001B[0m, in \u001B[0;36mBaseEstimator._validate_data\u001B[0;34m(self, X, y, reset, validate_separately, **check_params)\u001B[0m\n\u001B[1;32m    594\u001B[0m         y \u001B[38;5;241m=\u001B[39m check_array(y, input_name\u001B[38;5;241m=\u001B[39m\u001B[38;5;124m\"\u001B[39m\u001B[38;5;124my\u001B[39m\u001B[38;5;124m\"\u001B[39m, \u001B[38;5;241m*\u001B[39m\u001B[38;5;241m*\u001B[39mcheck_y_params)\n\u001B[1;32m    595\u001B[0m     \u001B[38;5;28;01melse\u001B[39;00m:\n\u001B[0;32m--> 596\u001B[0m         X, y \u001B[38;5;241m=\u001B[39m \u001B[43mcheck_X_y\u001B[49m\u001B[43m(\u001B[49m\u001B[43mX\u001B[49m\u001B[43m,\u001B[49m\u001B[43m \u001B[49m\u001B[43my\u001B[49m\u001B[43m,\u001B[49m\u001B[43m \u001B[49m\u001B[38;5;241;43m*\u001B[39;49m\u001B[38;5;241;43m*\u001B[39;49m\u001B[43mcheck_params\u001B[49m\u001B[43m)\u001B[49m\n\u001B[1;32m    597\u001B[0m     out \u001B[38;5;241m=\u001B[39m X, y\n\u001B[1;32m    599\u001B[0m \u001B[38;5;28;01mif\u001B[39;00m \u001B[38;5;129;01mnot\u001B[39;00m no_val_X \u001B[38;5;129;01mand\u001B[39;00m check_params\u001B[38;5;241m.\u001B[39mget(\u001B[38;5;124m\"\u001B[39m\u001B[38;5;124mensure_2d\u001B[39m\u001B[38;5;124m\"\u001B[39m, \u001B[38;5;28;01mTrue\u001B[39;00m):\n",
      "File \u001B[0;32m~/Desktop/SIC/venv/lib/python3.9/site-packages/sklearn/utils/validation.py:1074\u001B[0m, in \u001B[0;36mcheck_X_y\u001B[0;34m(X, y, accept_sparse, accept_large_sparse, dtype, order, copy, force_all_finite, ensure_2d, allow_nd, multi_output, ensure_min_samples, ensure_min_features, y_numeric, estimator)\u001B[0m\n\u001B[1;32m   1069\u001B[0m         estimator_name \u001B[38;5;241m=\u001B[39m _check_estimator_name(estimator)\n\u001B[1;32m   1070\u001B[0m     \u001B[38;5;28;01mraise\u001B[39;00m \u001B[38;5;167;01mValueError\u001B[39;00m(\n\u001B[1;32m   1071\u001B[0m         \u001B[38;5;124mf\u001B[39m\u001B[38;5;124m\"\u001B[39m\u001B[38;5;132;01m{\u001B[39;00mestimator_name\u001B[38;5;132;01m}\u001B[39;00m\u001B[38;5;124m requires y to be passed, but the target y is None\u001B[39m\u001B[38;5;124m\"\u001B[39m\n\u001B[1;32m   1072\u001B[0m     )\n\u001B[0;32m-> 1074\u001B[0m X \u001B[38;5;241m=\u001B[39m \u001B[43mcheck_array\u001B[49m\u001B[43m(\u001B[49m\n\u001B[1;32m   1075\u001B[0m \u001B[43m    \u001B[49m\u001B[43mX\u001B[49m\u001B[43m,\u001B[49m\n\u001B[1;32m   1076\u001B[0m \u001B[43m    \u001B[49m\u001B[43maccept_sparse\u001B[49m\u001B[38;5;241;43m=\u001B[39;49m\u001B[43maccept_sparse\u001B[49m\u001B[43m,\u001B[49m\n\u001B[1;32m   1077\u001B[0m \u001B[43m    \u001B[49m\u001B[43maccept_large_sparse\u001B[49m\u001B[38;5;241;43m=\u001B[39;49m\u001B[43maccept_large_sparse\u001B[49m\u001B[43m,\u001B[49m\n\u001B[1;32m   1078\u001B[0m \u001B[43m    \u001B[49m\u001B[43mdtype\u001B[49m\u001B[38;5;241;43m=\u001B[39;49m\u001B[43mdtype\u001B[49m\u001B[43m,\u001B[49m\n\u001B[1;32m   1079\u001B[0m \u001B[43m    \u001B[49m\u001B[43morder\u001B[49m\u001B[38;5;241;43m=\u001B[39;49m\u001B[43morder\u001B[49m\u001B[43m,\u001B[49m\n\u001B[1;32m   1080\u001B[0m \u001B[43m    \u001B[49m\u001B[43mcopy\u001B[49m\u001B[38;5;241;43m=\u001B[39;49m\u001B[43mcopy\u001B[49m\u001B[43m,\u001B[49m\n\u001B[1;32m   1081\u001B[0m \u001B[43m    \u001B[49m\u001B[43mforce_all_finite\u001B[49m\u001B[38;5;241;43m=\u001B[39;49m\u001B[43mforce_all_finite\u001B[49m\u001B[43m,\u001B[49m\n\u001B[1;32m   1082\u001B[0m \u001B[43m    \u001B[49m\u001B[43mensure_2d\u001B[49m\u001B[38;5;241;43m=\u001B[39;49m\u001B[43mensure_2d\u001B[49m\u001B[43m,\u001B[49m\n\u001B[1;32m   1083\u001B[0m \u001B[43m    \u001B[49m\u001B[43mallow_nd\u001B[49m\u001B[38;5;241;43m=\u001B[39;49m\u001B[43mallow_nd\u001B[49m\u001B[43m,\u001B[49m\n\u001B[1;32m   1084\u001B[0m \u001B[43m    \u001B[49m\u001B[43mensure_min_samples\u001B[49m\u001B[38;5;241;43m=\u001B[39;49m\u001B[43mensure_min_samples\u001B[49m\u001B[43m,\u001B[49m\n\u001B[1;32m   1085\u001B[0m \u001B[43m    \u001B[49m\u001B[43mensure_min_features\u001B[49m\u001B[38;5;241;43m=\u001B[39;49m\u001B[43mensure_min_features\u001B[49m\u001B[43m,\u001B[49m\n\u001B[1;32m   1086\u001B[0m \u001B[43m    \u001B[49m\u001B[43mestimator\u001B[49m\u001B[38;5;241;43m=\u001B[39;49m\u001B[43mestimator\u001B[49m\u001B[43m,\u001B[49m\n\u001B[1;32m   1087\u001B[0m \u001B[43m    \u001B[49m\u001B[43minput_name\u001B[49m\u001B[38;5;241;43m=\u001B[39;49m\u001B[38;5;124;43m\"\u001B[39;49m\u001B[38;5;124;43mX\u001B[39;49m\u001B[38;5;124;43m\"\u001B[39;49m\u001B[43m,\u001B[49m\n\u001B[1;32m   1088\u001B[0m \u001B[43m\u001B[49m\u001B[43m)\u001B[49m\n\u001B[1;32m   1090\u001B[0m y \u001B[38;5;241m=\u001B[39m _check_y(y, multi_output\u001B[38;5;241m=\u001B[39mmulti_output, y_numeric\u001B[38;5;241m=\u001B[39my_numeric, estimator\u001B[38;5;241m=\u001B[39mestimator)\n\u001B[1;32m   1092\u001B[0m check_consistent_length(X, y)\n",
      "File \u001B[0;32m~/Desktop/SIC/venv/lib/python3.9/site-packages/sklearn/utils/validation.py:856\u001B[0m, in \u001B[0;36mcheck_array\u001B[0;34m(array, accept_sparse, accept_large_sparse, dtype, order, copy, force_all_finite, ensure_2d, allow_nd, ensure_min_samples, ensure_min_features, estimator, input_name)\u001B[0m\n\u001B[1;32m    854\u001B[0m         array \u001B[38;5;241m=\u001B[39m array\u001B[38;5;241m.\u001B[39mastype(dtype, casting\u001B[38;5;241m=\u001B[39m\u001B[38;5;124m\"\u001B[39m\u001B[38;5;124munsafe\u001B[39m\u001B[38;5;124m\"\u001B[39m, copy\u001B[38;5;241m=\u001B[39m\u001B[38;5;28;01mFalse\u001B[39;00m)\n\u001B[1;32m    855\u001B[0m     \u001B[38;5;28;01melse\u001B[39;00m:\n\u001B[0;32m--> 856\u001B[0m         array \u001B[38;5;241m=\u001B[39m \u001B[43mnp\u001B[49m\u001B[38;5;241;43m.\u001B[39;49m\u001B[43masarray\u001B[49m\u001B[43m(\u001B[49m\u001B[43marray\u001B[49m\u001B[43m,\u001B[49m\u001B[43m \u001B[49m\u001B[43morder\u001B[49m\u001B[38;5;241;43m=\u001B[39;49m\u001B[43morder\u001B[49m\u001B[43m,\u001B[49m\u001B[43m \u001B[49m\u001B[43mdtype\u001B[49m\u001B[38;5;241;43m=\u001B[39;49m\u001B[43mdtype\u001B[49m\u001B[43m)\u001B[49m\n\u001B[1;32m    857\u001B[0m \u001B[38;5;28;01mexcept\u001B[39;00m ComplexWarning \u001B[38;5;28;01mas\u001B[39;00m complex_warning:\n\u001B[1;32m    858\u001B[0m     \u001B[38;5;28;01mraise\u001B[39;00m \u001B[38;5;167;01mValueError\u001B[39;00m(\n\u001B[1;32m    859\u001B[0m         \u001B[38;5;124m\"\u001B[39m\u001B[38;5;124mComplex data not supported\u001B[39m\u001B[38;5;130;01m\\n\u001B[39;00m\u001B[38;5;132;01m{}\u001B[39;00m\u001B[38;5;130;01m\\n\u001B[39;00m\u001B[38;5;124m\"\u001B[39m\u001B[38;5;241m.\u001B[39mformat(array)\n\u001B[1;32m    860\u001B[0m     ) \u001B[38;5;28;01mfrom\u001B[39;00m \u001B[38;5;21;01mcomplex_warning\u001B[39;00m\n",
      "File \u001B[0;32m~/Desktop/SIC/venv/lib/python3.9/site-packages/pandas/core/generic.py:2064\u001B[0m, in \u001B[0;36mNDFrame.__array__\u001B[0;34m(self, dtype)\u001B[0m\n\u001B[1;32m   2063\u001B[0m \u001B[38;5;28;01mdef\u001B[39;00m \u001B[38;5;21m__array__\u001B[39m(\u001B[38;5;28mself\u001B[39m, dtype: npt\u001B[38;5;241m.\u001B[39mDTypeLike \u001B[38;5;241m|\u001B[39m \u001B[38;5;28;01mNone\u001B[39;00m \u001B[38;5;241m=\u001B[39m \u001B[38;5;28;01mNone\u001B[39;00m) \u001B[38;5;241m-\u001B[39m\u001B[38;5;241m>\u001B[39m np\u001B[38;5;241m.\u001B[39mndarray:\n\u001B[0;32m-> 2064\u001B[0m     \u001B[38;5;28;01mreturn\u001B[39;00m \u001B[43mnp\u001B[49m\u001B[38;5;241;43m.\u001B[39;49m\u001B[43masarray\u001B[49m\u001B[43m(\u001B[49m\u001B[38;5;28;43mself\u001B[39;49m\u001B[38;5;241;43m.\u001B[39;49m\u001B[43m_values\u001B[49m\u001B[43m,\u001B[49m\u001B[43m \u001B[49m\u001B[43mdtype\u001B[49m\u001B[38;5;241;43m=\u001B[39;49m\u001B[43mdtype\u001B[49m\u001B[43m)\u001B[49m\n",
      "\u001B[0;31mValueError\u001B[0m: could not convert string to float: 'Burundi'"
     ]
    }
   ],
   "source": [
    "reg = LinearRegression().fit(X, Y)\n",
    "reg.score(X, Y)"
   ],
   "metadata": {
    "collapsed": false,
    "pycharm": {
     "name": "#%%\n"
    }
   }
  },
  {
   "cell_type": "code",
   "execution_count": null,
   "outputs": [],
   "source": [],
   "metadata": {
    "collapsed": false,
    "pycharm": {
     "name": "#%%\n"
    }
   }
  }
 ],
 "metadata": {
  "kernelspec": {
   "display_name": "Python 3",
   "language": "python",
   "name": "python3"
  },
  "language_info": {
   "codemirror_mode": {
    "name": "ipython",
    "version": 2
   },
   "file_extension": ".py",
   "mimetype": "text/x-python",
   "name": "python",
   "nbconvert_exporter": "python",
   "pygments_lexer": "ipython2",
   "version": "2.7.6"
  }
 },
 "nbformat": 4,
 "nbformat_minor": 0
}