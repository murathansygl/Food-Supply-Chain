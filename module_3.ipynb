{
 "cells": [
  {
   "cell_type": "code",
   "execution_count": 1,
   "outputs": [
    {
     "data": {
      "text/plain": "       country                      commodity  loss_percentage  \\\n0      Myanmar  Groundnuts, excluding shelled             5.22   \n1      Myanmar  Groundnuts, excluding shelled             5.43   \n2      Myanmar  Groundnuts, excluding shelled             5.61   \n3      Myanmar  Groundnuts, excluding shelled             5.40   \n4      Myanmar  Groundnuts, excluding shelled             5.00   \n...        ...                            ...              ...   \n27768   Zambia                         Millet             1.27   \n27769   Zambia                         Millet             2.50   \n27770   Zambia                         Millet             1.00   \n27771   Zambia                         Millet             2.38   \n27772   Zambia                         Millet             3.44   \n\n                 activity   food_supply_stage cause_of_loss  \n0                     NaN  Whole supply chain           NaN  \n1                     NaN  Whole supply chain           NaN  \n2                     NaN  Whole supply chain           NaN  \n3                     NaN  Whole supply chain           NaN  \n4                     NaN  Whole supply chain           NaN  \n...                   ...                 ...           ...  \n27768             Storage                Farm           NaN  \n27769           Winnowing                Farm           NaN  \n27770      Transportation           Transport           NaN  \n27771             Storage             Storage           NaN  \n27772  Drying, Harvesting             Harvest           NaN  \n\n[27773 rows x 6 columns]",
      "text/html": "<div>\n<style scoped>\n    .dataframe tbody tr th:only-of-type {\n        vertical-align: middle;\n    }\n\n    .dataframe tbody tr th {\n        vertical-align: top;\n    }\n\n    .dataframe thead th {\n        text-align: right;\n    }\n</style>\n<table border=\"1\" class=\"dataframe\">\n  <thead>\n    <tr style=\"text-align: right;\">\n      <th></th>\n      <th>country</th>\n      <th>commodity</th>\n      <th>loss_percentage</th>\n      <th>activity</th>\n      <th>food_supply_stage</th>\n      <th>cause_of_loss</th>\n    </tr>\n  </thead>\n  <tbody>\n    <tr>\n      <th>0</th>\n      <td>Myanmar</td>\n      <td>Groundnuts, excluding shelled</td>\n      <td>5.22</td>\n      <td>NaN</td>\n      <td>Whole supply chain</td>\n      <td>NaN</td>\n    </tr>\n    <tr>\n      <th>1</th>\n      <td>Myanmar</td>\n      <td>Groundnuts, excluding shelled</td>\n      <td>5.43</td>\n      <td>NaN</td>\n      <td>Whole supply chain</td>\n      <td>NaN</td>\n    </tr>\n    <tr>\n      <th>2</th>\n      <td>Myanmar</td>\n      <td>Groundnuts, excluding shelled</td>\n      <td>5.61</td>\n      <td>NaN</td>\n      <td>Whole supply chain</td>\n      <td>NaN</td>\n    </tr>\n    <tr>\n      <th>3</th>\n      <td>Myanmar</td>\n      <td>Groundnuts, excluding shelled</td>\n      <td>5.40</td>\n      <td>NaN</td>\n      <td>Whole supply chain</td>\n      <td>NaN</td>\n    </tr>\n    <tr>\n      <th>4</th>\n      <td>Myanmar</td>\n      <td>Groundnuts, excluding shelled</td>\n      <td>5.00</td>\n      <td>NaN</td>\n      <td>Whole supply chain</td>\n      <td>NaN</td>\n    </tr>\n    <tr>\n      <th>...</th>\n      <td>...</td>\n      <td>...</td>\n      <td>...</td>\n      <td>...</td>\n      <td>...</td>\n      <td>...</td>\n    </tr>\n    <tr>\n      <th>27768</th>\n      <td>Zambia</td>\n      <td>Millet</td>\n      <td>1.27</td>\n      <td>Storage</td>\n      <td>Farm</td>\n      <td>NaN</td>\n    </tr>\n    <tr>\n      <th>27769</th>\n      <td>Zambia</td>\n      <td>Millet</td>\n      <td>2.50</td>\n      <td>Winnowing</td>\n      <td>Farm</td>\n      <td>NaN</td>\n    </tr>\n    <tr>\n      <th>27770</th>\n      <td>Zambia</td>\n      <td>Millet</td>\n      <td>1.00</td>\n      <td>Transportation</td>\n      <td>Transport</td>\n      <td>NaN</td>\n    </tr>\n    <tr>\n      <th>27771</th>\n      <td>Zambia</td>\n      <td>Millet</td>\n      <td>2.38</td>\n      <td>Storage</td>\n      <td>Storage</td>\n      <td>NaN</td>\n    </tr>\n    <tr>\n      <th>27772</th>\n      <td>Zambia</td>\n      <td>Millet</td>\n      <td>3.44</td>\n      <td>Drying, Harvesting</td>\n      <td>Harvest</td>\n      <td>NaN</td>\n    </tr>\n  </tbody>\n</table>\n<p>27773 rows × 6 columns</p>\n</div>"
     },
     "execution_count": 1,
     "metadata": {},
     "output_type": "execute_result"
    }
   ],
   "source": [
    "import pandas as pd\n",
    "\n",
    "df = pd.read_csv(\"Data/Data.csv\")\n",
    "df = df[[\"country\", \"commodity\", \"loss_percentage\", \"activity\", \"food_supply_stage\", \"cause_of_loss\"]]\n",
    "df"
   ],
   "metadata": {
    "collapsed": false,
    "pycharm": {
     "name": "#%%\n"
    }
   }
  },
  {
   "cell_type": "code",
   "execution_count": null,
   "outputs": [],
   "source": [],
   "metadata": {
    "collapsed": false,
    "pycharm": {
     "name": "#%%\n"
    }
   }
  }
 ],
 "metadata": {
  "kernelspec": {
   "display_name": "Python 3",
   "language": "python",
   "name": "python3"
  },
  "language_info": {
   "codemirror_mode": {
    "name": "ipython",
    "version": 2
   },
   "file_extension": ".py",
   "mimetype": "text/x-python",
   "name": "python",
   "nbconvert_exporter": "python",
   "pygments_lexer": "ipython2",
   "version": "2.7.6"
  }
 },
 "nbformat": 4,
 "nbformat_minor": 0
}