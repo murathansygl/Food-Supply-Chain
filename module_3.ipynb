{
 "cells": [
  {
   "cell_type": "code",
   "execution_count": 2,
   "metadata": {
    "collapsed": false,
    "pycharm": {
     "name": "#%%\n"
    }
   },
   "outputs": [
    {
     "data": {
      "text/html": [
       "<div>\n",
       "<style scoped>\n",
       "    .dataframe tbody tr th:only-of-type {\n",
       "        vertical-align: middle;\n",
       "    }\n",
       "\n",
       "    .dataframe tbody tr th {\n",
       "        vertical-align: top;\n",
       "    }\n",
       "\n",
       "    .dataframe thead th {\n",
       "        text-align: right;\n",
       "    }\n",
       "</style>\n",
       "<table border=\"1\" class=\"dataframe\">\n",
       "  <thead>\n",
       "    <tr style=\"text-align: right;\">\n",
       "      <th></th>\n",
       "      <th>country</th>\n",
       "      <th>commodity</th>\n",
       "      <th>loss_percentage</th>\n",
       "      <th>activity</th>\n",
       "      <th>food_supply_stage</th>\n",
       "      <th>cause_of_loss</th>\n",
       "    </tr>\n",
       "  </thead>\n",
       "  <tbody>\n",
       "    <tr>\n",
       "      <th>0</th>\n",
       "      <td>Myanmar</td>\n",
       "      <td>Groundnuts, excluding shelled</td>\n",
       "      <td>5.22</td>\n",
       "      <td>NaN</td>\n",
       "      <td>Whole supply chain</td>\n",
       "      <td>NaN</td>\n",
       "    </tr>\n",
       "    <tr>\n",
       "      <th>1</th>\n",
       "      <td>Myanmar</td>\n",
       "      <td>Groundnuts, excluding shelled</td>\n",
       "      <td>5.43</td>\n",
       "      <td>NaN</td>\n",
       "      <td>Whole supply chain</td>\n",
       "      <td>NaN</td>\n",
       "    </tr>\n",
       "    <tr>\n",
       "      <th>2</th>\n",
       "      <td>Myanmar</td>\n",
       "      <td>Groundnuts, excluding shelled</td>\n",
       "      <td>5.61</td>\n",
       "      <td>NaN</td>\n",
       "      <td>Whole supply chain</td>\n",
       "      <td>NaN</td>\n",
       "    </tr>\n",
       "    <tr>\n",
       "      <th>3</th>\n",
       "      <td>Myanmar</td>\n",
       "      <td>Groundnuts, excluding shelled</td>\n",
       "      <td>5.40</td>\n",
       "      <td>NaN</td>\n",
       "      <td>Whole supply chain</td>\n",
       "      <td>NaN</td>\n",
       "    </tr>\n",
       "    <tr>\n",
       "      <th>4</th>\n",
       "      <td>Myanmar</td>\n",
       "      <td>Groundnuts, excluding shelled</td>\n",
       "      <td>5.00</td>\n",
       "      <td>NaN</td>\n",
       "      <td>Whole supply chain</td>\n",
       "      <td>NaN</td>\n",
       "    </tr>\n",
       "    <tr>\n",
       "      <th>...</th>\n",
       "      <td>...</td>\n",
       "      <td>...</td>\n",
       "      <td>...</td>\n",
       "      <td>...</td>\n",
       "      <td>...</td>\n",
       "      <td>...</td>\n",
       "    </tr>\n",
       "    <tr>\n",
       "      <th>27768</th>\n",
       "      <td>Zambia</td>\n",
       "      <td>Millet</td>\n",
       "      <td>1.27</td>\n",
       "      <td>Storage</td>\n",
       "      <td>Farm</td>\n",
       "      <td>NaN</td>\n",
       "    </tr>\n",
       "    <tr>\n",
       "      <th>27769</th>\n",
       "      <td>Zambia</td>\n",
       "      <td>Millet</td>\n",
       "      <td>2.50</td>\n",
       "      <td>Winnowing</td>\n",
       "      <td>Farm</td>\n",
       "      <td>NaN</td>\n",
       "    </tr>\n",
       "    <tr>\n",
       "      <th>27770</th>\n",
       "      <td>Zambia</td>\n",
       "      <td>Millet</td>\n",
       "      <td>1.00</td>\n",
       "      <td>Transportation</td>\n",
       "      <td>Transport</td>\n",
       "      <td>NaN</td>\n",
       "    </tr>\n",
       "    <tr>\n",
       "      <th>27771</th>\n",
       "      <td>Zambia</td>\n",
       "      <td>Millet</td>\n",
       "      <td>2.38</td>\n",
       "      <td>Storage</td>\n",
       "      <td>Storage</td>\n",
       "      <td>NaN</td>\n",
       "    </tr>\n",
       "    <tr>\n",
       "      <th>27772</th>\n",
       "      <td>Zambia</td>\n",
       "      <td>Millet</td>\n",
       "      <td>3.44</td>\n",
       "      <td>Drying, Harvesting</td>\n",
       "      <td>Harvest</td>\n",
       "      <td>NaN</td>\n",
       "    </tr>\n",
       "  </tbody>\n",
       "</table>\n",
       "<p>27773 rows × 6 columns</p>\n",
       "</div>"
      ],
      "text/plain": [
       "       country                      commodity  loss_percentage  \\\n",
       "0      Myanmar  Groundnuts, excluding shelled             5.22   \n",
       "1      Myanmar  Groundnuts, excluding shelled             5.43   \n",
       "2      Myanmar  Groundnuts, excluding shelled             5.61   \n",
       "3      Myanmar  Groundnuts, excluding shelled             5.40   \n",
       "4      Myanmar  Groundnuts, excluding shelled             5.00   \n",
       "...        ...                            ...              ...   \n",
       "27768   Zambia                         Millet             1.27   \n",
       "27769   Zambia                         Millet             2.50   \n",
       "27770   Zambia                         Millet             1.00   \n",
       "27771   Zambia                         Millet             2.38   \n",
       "27772   Zambia                         Millet             3.44   \n",
       "\n",
       "                 activity   food_supply_stage cause_of_loss  \n",
       "0                     NaN  Whole supply chain           NaN  \n",
       "1                     NaN  Whole supply chain           NaN  \n",
       "2                     NaN  Whole supply chain           NaN  \n",
       "3                     NaN  Whole supply chain           NaN  \n",
       "4                     NaN  Whole supply chain           NaN  \n",
       "...                   ...                 ...           ...  \n",
       "27768             Storage                Farm           NaN  \n",
       "27769           Winnowing                Farm           NaN  \n",
       "27770      Transportation           Transport           NaN  \n",
       "27771             Storage             Storage           NaN  \n",
       "27772  Drying, Harvesting             Harvest           NaN  \n",
       "\n",
       "[27773 rows x 6 columns]"
      ]
     },
     "execution_count": 2,
     "metadata": {},
     "output_type": "execute_result"
    }
   ],
   "source": [
    "import pandas as pd\n",
    "\n",
    "df = pd.read_csv(\"Data/Data.csv\")\n",
    "df = df[[\"country\", \"commodity\", \"loss_percentage\", \"activity\", \"food_supply_stage\", \"cause_of_loss\"]]\n",
    "df"
   ]
  },
  {
   "cell_type": "code",
   "execution_count": 3,
   "metadata": {
    "collapsed": false,
    "pycharm": {
     "name": "#%%\n"
    }
   },
   "outputs": [
    {
     "data": {
      "text/plain": [
       "Physical Losses                                                                             87\n",
       "Insect pest damage                                                                          54\n",
       "main causes of this were a mismatch in supply and demand or cosmetic and quality related    41\n",
       "Mechanical Damage                                                                           36\n",
       "Decay                                                                                       26\n",
       "                                                                                            ..\n",
       "Milk rejected by the processor                                                               1\n",
       "Transport 50 - 300 ltr of milk per day on motorbikes                                         1\n",
       "With milk cooling system, but expensive and unreliable power supply                          1\n",
       "aluminium milk containers and cooling facility                                               1\n",
       "Insects, moisture and mold                                                                   1\n",
       "Name: cause_of_loss, Length: 357, dtype: int64"
      ]
     },
     "execution_count": 3,
     "metadata": {},
     "output_type": "execute_result"
    }
   ],
   "source": [
    "df[\"cause_of_loss\"].value_counts()"
   ]
  },
  {
   "cell_type": "code",
   "execution_count": 7,
   "metadata": {},
   "outputs": [],
   "source": [
    "country_cause=df[[\"country\",\"cause_of_loss\"]].groupby(by=[\"country\"]).count()"
   ]
  },
  {
   "cell_type": "markdown",
   "metadata": {},
   "source": [
    "# hem commoditysi çok hem de cause of lossu çok olan ülke bul."
   ]
  },
  {
   "cell_type": "code",
   "execution_count": 9,
   "metadata": {},
   "outputs": [
    {
     "data": {
      "text/html": [
       "<div>\n",
       "<style scoped>\n",
       "    .dataframe tbody tr th:only-of-type {\n",
       "        vertical-align: middle;\n",
       "    }\n",
       "\n",
       "    .dataframe tbody tr th {\n",
       "        vertical-align: top;\n",
       "    }\n",
       "\n",
       "    .dataframe thead th {\n",
       "        text-align: right;\n",
       "    }\n",
       "</style>\n",
       "<table border=\"1\" class=\"dataframe\">\n",
       "  <thead>\n",
       "    <tr style=\"text-align: right;\">\n",
       "      <th></th>\n",
       "      <th>cause_of_loss</th>\n",
       "    </tr>\n",
       "    <tr>\n",
       "      <th>country</th>\n",
       "      <th></th>\n",
       "    </tr>\n",
       "  </thead>\n",
       "  <tbody>\n",
       "    <tr>\n",
       "      <th>Afghanistan</th>\n",
       "      <td>0</td>\n",
       "    </tr>\n",
       "    <tr>\n",
       "      <th>Poland</th>\n",
       "      <td>0</td>\n",
       "    </tr>\n",
       "    <tr>\n",
       "      <th>Peru</th>\n",
       "      <td>0</td>\n",
       "    </tr>\n",
       "    <tr>\n",
       "      <th>Northern America</th>\n",
       "      <td>0</td>\n",
       "    </tr>\n",
       "    <tr>\n",
       "      <th>Northern Africa</th>\n",
       "      <td>0</td>\n",
       "    </tr>\n",
       "    <tr>\n",
       "      <th>...</th>\n",
       "      <td>...</td>\n",
       "    </tr>\n",
       "    <tr>\n",
       "      <th>Kenya</th>\n",
       "      <td>50</td>\n",
       "    </tr>\n",
       "    <tr>\n",
       "      <th>Zimbabwe</th>\n",
       "      <td>54</td>\n",
       "    </tr>\n",
       "    <tr>\n",
       "      <th>Nigeria</th>\n",
       "      <td>61</td>\n",
       "    </tr>\n",
       "    <tr>\n",
       "      <th>Ghana</th>\n",
       "      <td>88</td>\n",
       "    </tr>\n",
       "    <tr>\n",
       "      <th>India</th>\n",
       "      <td>132</td>\n",
       "    </tr>\n",
       "  </tbody>\n",
       "</table>\n",
       "<p>149 rows × 1 columns</p>\n",
       "</div>"
      ],
      "text/plain": [
       "                  cause_of_loss\n",
       "country                        \n",
       "Afghanistan                   0\n",
       "Poland                        0\n",
       "Peru                          0\n",
       "Northern America              0\n",
       "Northern Africa               0\n",
       "...                         ...\n",
       "Kenya                        50\n",
       "Zimbabwe                     54\n",
       "Nigeria                      61\n",
       "Ghana                        88\n",
       "India                       132\n",
       "\n",
       "[149 rows x 1 columns]"
      ]
     },
     "execution_count": 9,
     "metadata": {},
     "output_type": "execute_result"
    }
   ],
   "source": [
    "country_cause.sort_values('cause_of_loss')"
   ]
  },
  {
   "cell_type": "code",
   "execution_count": 12,
   "metadata": {},
   "outputs": [],
   "source": [
    "a=df[df.country==\"India\"][\"cause_of_loss\"]"
   ]
  },
  {
   "cell_type": "code",
   "execution_count": 13,
   "metadata": {},
   "outputs": [
    {
     "data": {
      "text/plain": [
       "Physical Losses                                                                                                                                   39\n",
       "Sourced from Jha et  al. (2015                                                                                                                    22\n",
       "Decay, Mechanic Damage, Sorting                                                                                                                   18\n",
       "Poor Handling And Storage                                                                                                                          7\n",
       "Poor Storage Conditions                                                                                                                            7\n",
       "Poor Storage Facilities                                                                                                                            5\n",
       "Bad Harvesting Operations                                                                                                                          4\n",
       "Poor Storage And Cooling Infrastrures                                                                                                              4\n",
       "Lack Of Cold Storage                                                                                                                               4\n",
       "Insects; Bruchids                                                                                                                                  4\n",
       "Poor Storage Practices                                                                                                                             4\n",
       "Bad Harvesting, Collection And Threshing Techniques                                                                                                3\n",
       "rough handling, the effects of high ambient temperatures and poor quality  package                                                                 1\n",
       "Climatic conditions                                                                                                                                1\n",
       "Insects Attack                                                                                                                                     1\n",
       "Temperature                                                                                                                                        1\n",
       "Poor Threshing Techniques                                                                                                                          1\n",
       "Long Duration In The Field                                                                                                                         1\n",
       "Dalayed In Harvesting Due To Fall In Prices Forcing Farmers To Dalay The Harvest                                                                   1\n",
       "Overripe                                                                                                                                           1\n",
       "Improper Packaging                                                                                                                                 1\n",
       "Birds And Insects Attack                                                                                                                           1\n",
       "lack of pre-sorting to remove decayed produce before packing promoted spread of fungal and bacterial diseases and insect pests during handling     1\n",
       "Name: cause_of_loss, dtype: int64"
      ]
     },
     "execution_count": 13,
     "metadata": {},
     "output_type": "execute_result"
    }
   ],
   "source": [
    "a.value_counts()"
   ]
  },
  {
   "cell_type": "code",
   "execution_count": null,
   "metadata": {},
   "outputs": [],
   "source": []
  }
 ],
 "metadata": {
  "kernelspec": {
   "display_name": "Python 3.9.0 ('venv')",
   "language": "python",
   "name": "python3"
  },
  "language_info": {
   "codemirror_mode": {
    "name": "ipython",
    "version": 3
   },
   "file_extension": ".py",
   "mimetype": "text/x-python",
   "name": "python",
   "nbconvert_exporter": "python",
   "pygments_lexer": "ipython3",
   "version": "3.9.0"
  },
  "vscode": {
   "interpreter": {
    "hash": "713654384febb35868ed951ad9309a525cf553cdc72ed92d2edb347802f3b56b"
   }
  }
 },
 "nbformat": 4,
 "nbformat_minor": 0
}
