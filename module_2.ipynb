{
 "cells": [
  {
   "cell_type": "code",
   "execution_count": 113,
   "metadata": {
    "collapsed": false,
    "pycharm": {
     "name": "#%%\n"
    }
   },
   "outputs": [],
   "source": [
    "import pandas as pd\n",
    "import plotly.express as px\n",
    "import matplotlib.pyplot as plt\n",
    "import numpy as np\n",
    "from keras import Sequential\n",
    "from keras.layers import LSTM, Dropout, Dense\n",
    "from keras.wrappers.scikit_learn import KerasRegressor\n",
    "from plotly.subplots import make_subplots\n",
    "import plotly.graph_objects as go\n",
    "from sklearn.model_selection import GridSearchCV\n",
    "from sklearn import metrics\n",
    "from sklearn.preprocessing import LabelEncoder, MinMaxScaler\n",
    "import tensorflow as tf\n",
    "from tensorboard.plugins.hparams import api as hp\n",
    "\n",
    "from tensorflow.keras.models import Sequential\n",
    "from tensorflow.keras.layers import *\n",
    "from tensorflow.keras.callbacks import ModelCheckpoint\n",
    "from tensorflow.keras.losses import MeanSquaredError, MeanAbsolutePercentageError\n",
    "from tensorflow.keras.metrics import RootMeanSquaredError\n",
    "from tensorflow.keras.optimizers import Adam\n",
    "from math import sqrt\n",
    "\n",
    "from sklearn.metrics import mean_squared_error\n",
    "from sklearn.metrics import mean_absolute_error"
   ]
  },
  {
   "cell_type": "code",
   "execution_count": 2,
   "metadata": {
    "collapsed": false,
    "pycharm": {
     "name": "#%%\n"
    }
   },
   "outputs": [],
   "source": [
    "df=pd.read_csv(\"Data/FoodBalanceSheets_E_All_Data/FoodBalanceSheets_E_All_Data_NOFLAG.csv\", encoding=\"latin-1\")"
   ]
  },
  {
   "cell_type": "code",
   "execution_count": 3,
   "metadata": {
    "collapsed": false,
    "pycharm": {
     "name": "#%%\n"
    }
   },
   "outputs": [
    {
     "data": {
      "text/html": [
       "<div>\n",
       "<style scoped>\n",
       "    .dataframe tbody tr th:only-of-type {\n",
       "        vertical-align: middle;\n",
       "    }\n",
       "\n",
       "    .dataframe tbody tr th {\n",
       "        vertical-align: top;\n",
       "    }\n",
       "\n",
       "    .dataframe thead th {\n",
       "        text-align: right;\n",
       "    }\n",
       "</style>\n",
       "<table border=\"1\" class=\"dataframe\">\n",
       "  <thead>\n",
       "    <tr style=\"text-align: right;\">\n",
       "      <th></th>\n",
       "      <th>Area</th>\n",
       "      <th>Item</th>\n",
       "      <th>Element</th>\n",
       "      <th>Unit</th>\n",
       "      <th>Y2010</th>\n",
       "      <th>Y2011</th>\n",
       "      <th>Y2012</th>\n",
       "      <th>Y2013</th>\n",
       "      <th>Y2014</th>\n",
       "      <th>Y2015</th>\n",
       "      <th>Y2016</th>\n",
       "      <th>Y2017</th>\n",
       "      <th>Y2018</th>\n",
       "      <th>Y2019</th>\n",
       "    </tr>\n",
       "  </thead>\n",
       "  <tbody>\n",
       "    <tr>\n",
       "      <th>0</th>\n",
       "      <td>Afghanistan</td>\n",
       "      <td>Population</td>\n",
       "      <td>Total Population - Both sexes</td>\n",
       "      <td>1000 persons</td>\n",
       "      <td>29186.00</td>\n",
       "      <td>30117.00</td>\n",
       "      <td>31161.00</td>\n",
       "      <td>32270.00</td>\n",
       "      <td>33371.00</td>\n",
       "      <td>34414.00</td>\n",
       "      <td>35383.00</td>\n",
       "      <td>36296.00</td>\n",
       "      <td>37172.00</td>\n",
       "      <td>38042.00</td>\n",
       "    </tr>\n",
       "    <tr>\n",
       "      <th>1</th>\n",
       "      <td>Afghanistan</td>\n",
       "      <td>Population</td>\n",
       "      <td>Domestic supply quantity</td>\n",
       "      <td>1000 tonnes</td>\n",
       "      <td>0.00</td>\n",
       "      <td>0.00</td>\n",
       "      <td>0.00</td>\n",
       "      <td>0.00</td>\n",
       "      <td>0.00</td>\n",
       "      <td>0.00</td>\n",
       "      <td>0.00</td>\n",
       "      <td>0.00</td>\n",
       "      <td>0.00</td>\n",
       "      <td>0.00</td>\n",
       "    </tr>\n",
       "    <tr>\n",
       "      <th>2</th>\n",
       "      <td>Afghanistan</td>\n",
       "      <td>Grand Total</td>\n",
       "      <td>Food supply (kcal/capita/day)</td>\n",
       "      <td>kcal/capita/day</td>\n",
       "      <td>2170.00</td>\n",
       "      <td>2152.00</td>\n",
       "      <td>2159.00</td>\n",
       "      <td>2196.00</td>\n",
       "      <td>2265.00</td>\n",
       "      <td>2250.00</td>\n",
       "      <td>2228.00</td>\n",
       "      <td>2303.00</td>\n",
       "      <td>2270.00</td>\n",
       "      <td>2273.00</td>\n",
       "    </tr>\n",
       "    <tr>\n",
       "      <th>3</th>\n",
       "      <td>Afghanistan</td>\n",
       "      <td>Grand Total</td>\n",
       "      <td>Protein supply quantity (g/capita/day)</td>\n",
       "      <td>g/capita/day</td>\n",
       "      <td>59.23</td>\n",
       "      <td>58.00</td>\n",
       "      <td>57.82</td>\n",
       "      <td>57.71</td>\n",
       "      <td>60.17</td>\n",
       "      <td>58.45</td>\n",
       "      <td>58.46</td>\n",
       "      <td>59.50</td>\n",
       "      <td>57.62</td>\n",
       "      <td>57.31</td>\n",
       "    </tr>\n",
       "    <tr>\n",
       "      <th>4</th>\n",
       "      <td>Afghanistan</td>\n",
       "      <td>Grand Total</td>\n",
       "      <td>Fat supply quantity (g/capita/day)</td>\n",
       "      <td>g/capita/day</td>\n",
       "      <td>36.69</td>\n",
       "      <td>34.81</td>\n",
       "      <td>36.53</td>\n",
       "      <td>37.10</td>\n",
       "      <td>41.48</td>\n",
       "      <td>38.28</td>\n",
       "      <td>40.70</td>\n",
       "      <td>40.03</td>\n",
       "      <td>41.46</td>\n",
       "      <td>39.78</td>\n",
       "    </tr>\n",
       "    <tr>\n",
       "      <th>...</th>\n",
       "      <td>...</td>\n",
       "      <td>...</td>\n",
       "      <td>...</td>\n",
       "      <td>...</td>\n",
       "      <td>...</td>\n",
       "      <td>...</td>\n",
       "      <td>...</td>\n",
       "      <td>...</td>\n",
       "      <td>...</td>\n",
       "      <td>...</td>\n",
       "      <td>...</td>\n",
       "      <td>...</td>\n",
       "      <td>...</td>\n",
       "      <td>...</td>\n",
       "    </tr>\n",
       "    <tr>\n",
       "      <th>319738</th>\n",
       "      <td>Net Food Importing Developing Countries</td>\n",
       "      <td>Miscellaneous</td>\n",
       "      <td>Food</td>\n",
       "      <td>1000 tonnes</td>\n",
       "      <td>787.00</td>\n",
       "      <td>839.00</td>\n",
       "      <td>921.00</td>\n",
       "      <td>935.00</td>\n",
       "      <td>958.00</td>\n",
       "      <td>992.00</td>\n",
       "      <td>1032.00</td>\n",
       "      <td>1066.00</td>\n",
       "      <td>1140.00</td>\n",
       "      <td>1199.00</td>\n",
       "    </tr>\n",
       "    <tr>\n",
       "      <th>319739</th>\n",
       "      <td>Net Food Importing Developing Countries</td>\n",
       "      <td>Miscellaneous</td>\n",
       "      <td>Food supply quantity (kg/capita/yr)</td>\n",
       "      <td>kg</td>\n",
       "      <td>0.62</td>\n",
       "      <td>0.65</td>\n",
       "      <td>0.68</td>\n",
       "      <td>0.67</td>\n",
       "      <td>0.67</td>\n",
       "      <td>0.68</td>\n",
       "      <td>0.69</td>\n",
       "      <td>0.70</td>\n",
       "      <td>0.73</td>\n",
       "      <td>0.75</td>\n",
       "    </tr>\n",
       "    <tr>\n",
       "      <th>319740</th>\n",
       "      <td>Net Food Importing Developing Countries</td>\n",
       "      <td>Miscellaneous</td>\n",
       "      <td>Food supply (kcal/capita/day)</td>\n",
       "      <td>kcal/capita/day</td>\n",
       "      <td>1.00</td>\n",
       "      <td>1.00</td>\n",
       "      <td>1.00</td>\n",
       "      <td>1.00</td>\n",
       "      <td>1.00</td>\n",
       "      <td>1.00</td>\n",
       "      <td>1.00</td>\n",
       "      <td>1.00</td>\n",
       "      <td>1.00</td>\n",
       "      <td>1.00</td>\n",
       "    </tr>\n",
       "    <tr>\n",
       "      <th>319741</th>\n",
       "      <td>Net Food Importing Developing Countries</td>\n",
       "      <td>Miscellaneous</td>\n",
       "      <td>Protein supply quantity (g/capita/day)</td>\n",
       "      <td>g/capita/day</td>\n",
       "      <td>0.02</td>\n",
       "      <td>0.02</td>\n",
       "      <td>0.02</td>\n",
       "      <td>0.02</td>\n",
       "      <td>0.02</td>\n",
       "      <td>0.02</td>\n",
       "      <td>0.02</td>\n",
       "      <td>0.02</td>\n",
       "      <td>0.02</td>\n",
       "      <td>0.02</td>\n",
       "    </tr>\n",
       "    <tr>\n",
       "      <th>319742</th>\n",
       "      <td>Net Food Importing Developing Countries</td>\n",
       "      <td>Miscellaneous</td>\n",
       "      <td>Fat supply quantity (g/capita/day)</td>\n",
       "      <td>g/capita/day</td>\n",
       "      <td>0.01</td>\n",
       "      <td>0.01</td>\n",
       "      <td>0.01</td>\n",
       "      <td>0.01</td>\n",
       "      <td>0.01</td>\n",
       "      <td>0.01</td>\n",
       "      <td>0.01</td>\n",
       "      <td>0.01</td>\n",
       "      <td>0.01</td>\n",
       "      <td>0.01</td>\n",
       "    </tr>\n",
       "  </tbody>\n",
       "</table>\n",
       "<p>319743 rows × 14 columns</p>\n",
       "</div>"
      ],
      "text/plain": [
       "                                           Area           Item  \\\n",
       "0                                   Afghanistan     Population   \n",
       "1                                   Afghanistan     Population   \n",
       "2                                   Afghanistan    Grand Total   \n",
       "3                                   Afghanistan    Grand Total   \n",
       "4                                   Afghanistan    Grand Total   \n",
       "...                                         ...            ...   \n",
       "319738  Net Food Importing Developing Countries  Miscellaneous   \n",
       "319739  Net Food Importing Developing Countries  Miscellaneous   \n",
       "319740  Net Food Importing Developing Countries  Miscellaneous   \n",
       "319741  Net Food Importing Developing Countries  Miscellaneous   \n",
       "319742  Net Food Importing Developing Countries  Miscellaneous   \n",
       "\n",
       "                                       Element             Unit     Y2010  \\\n",
       "0                Total Population - Both sexes     1000 persons  29186.00   \n",
       "1                     Domestic supply quantity      1000 tonnes      0.00   \n",
       "2                Food supply (kcal/capita/day)  kcal/capita/day   2170.00   \n",
       "3       Protein supply quantity (g/capita/day)     g/capita/day     59.23   \n",
       "4           Fat supply quantity (g/capita/day)     g/capita/day     36.69   \n",
       "...                                        ...              ...       ...   \n",
       "319738                                    Food      1000 tonnes    787.00   \n",
       "319739     Food supply quantity (kg/capita/yr)               kg      0.62   \n",
       "319740           Food supply (kcal/capita/day)  kcal/capita/day      1.00   \n",
       "319741  Protein supply quantity (g/capita/day)     g/capita/day      0.02   \n",
       "319742      Fat supply quantity (g/capita/day)     g/capita/day      0.01   \n",
       "\n",
       "           Y2011     Y2012     Y2013     Y2014     Y2015     Y2016     Y2017  \\\n",
       "0       30117.00  31161.00  32270.00  33371.00  34414.00  35383.00  36296.00   \n",
       "1           0.00      0.00      0.00      0.00      0.00      0.00      0.00   \n",
       "2        2152.00   2159.00   2196.00   2265.00   2250.00   2228.00   2303.00   \n",
       "3          58.00     57.82     57.71     60.17     58.45     58.46     59.50   \n",
       "4          34.81     36.53     37.10     41.48     38.28     40.70     40.03   \n",
       "...          ...       ...       ...       ...       ...       ...       ...   \n",
       "319738    839.00    921.00    935.00    958.00    992.00   1032.00   1066.00   \n",
       "319739      0.65      0.68      0.67      0.67      0.68      0.69      0.70   \n",
       "319740      1.00      1.00      1.00      1.00      1.00      1.00      1.00   \n",
       "319741      0.02      0.02      0.02      0.02      0.02      0.02      0.02   \n",
       "319742      0.01      0.01      0.01      0.01      0.01      0.01      0.01   \n",
       "\n",
       "           Y2018     Y2019  \n",
       "0       37172.00  38042.00  \n",
       "1           0.00      0.00  \n",
       "2        2270.00   2273.00  \n",
       "3          57.62     57.31  \n",
       "4          41.46     39.78  \n",
       "...          ...       ...  \n",
       "319738   1140.00   1199.00  \n",
       "319739      0.73      0.75  \n",
       "319740      1.00      1.00  \n",
       "319741      0.02      0.02  \n",
       "319742      0.01      0.01  \n",
       "\n",
       "[319743 rows x 14 columns]"
      ]
     },
     "execution_count": 3,
     "metadata": {},
     "output_type": "execute_result"
    }
   ],
   "source": [
    "df.drop([\"Area Code\",\"Item Code\",\"Element Code\"],axis=1,inplace=True)\n",
    "df"
   ]
  },
  {
   "cell_type": "code",
   "execution_count": 4,
   "metadata": {
    "collapsed": false,
    "pycharm": {
     "name": "#%%\n"
    }
   },
   "outputs": [],
   "source": [
    "df.dropna(axis=0, inplace=True)"
   ]
  },
  {
   "cell_type": "code",
   "execution_count": 5,
   "metadata": {
    "collapsed": false,
    "pycharm": {
     "name": "#%%\n"
    }
   },
   "outputs": [],
   "source": [
    "df=df.loc[~(df.iloc[:,4:]==0).all(axis=1)]"
   ]
  },
  {
   "cell_type": "code",
   "execution_count": 6,
   "metadata": {
    "collapsed": false,
    "pycharm": {
     "name": "#%%\n"
    }
   },
   "outputs": [
    {
     "data": {
      "text/plain": [
       "World                                      1738\n",
       "Asia                                       1659\n",
       "Net Food Importing Developing Countries    1604\n",
       "Americas                                   1590\n",
       "Africa                                     1551\n",
       "Europe                                     1531\n",
       "European Union (27)                        1506\n",
       "Western Asia                               1503\n",
       "Low Income Food Deficit Countries          1498\n",
       "Least Developed Countries                  1470\n",
       "Land Locked Developing Countries           1462\n",
       "Eastern Asia                               1460\n",
       "South America                              1424\n",
       "South-eastern Asia                         1414\n",
       "Southern Europe                            1407\n",
       "Central America                            1400\n",
       "China                                      1395\n",
       "Southern Asia                              1374\n",
       "Eastern Africa                             1366\n",
       "Oceania                                    1366\n",
       "Small Island Developing States             1364\n",
       "Western Europe                             1352\n",
       "Northern Africa                            1346\n",
       "Eastern Europe                             1337\n",
       "Northern America                           1312\n",
       "Western Africa                             1300\n",
       "Northern Europe                            1283\n",
       "Caribbean                                  1257\n",
       "China, mainland                            1251\n",
       "Southern Africa                            1228\n",
       "Name: Area, dtype: int64"
      ]
     },
     "execution_count": 6,
     "metadata": {},
     "output_type": "execute_result"
    }
   ],
   "source": [
    "df.Area.value_counts()[:30]"
   ]
  },
  {
   "cell_type": "code",
   "execution_count": 7,
   "metadata": {
    "collapsed": false,
    "pycharm": {
     "name": "#%%\n"
    }
   },
   "outputs": [
    {
     "data": {
      "text/plain": [
       "Milk - Excluding Butter       5280\n",
       "Eggs                          4586\n",
       "Miscellaneous                 3556\n",
       "Cereals - Excluding Beer      3243\n",
       "Oilcrops                      3075\n",
       "Starchy Roots                 2964\n",
       "Wheat and products            2802\n",
       "Fruits - Excluding Wine       2801\n",
       "Maize and products            2796\n",
       "Potatoes and products         2686\n",
       "Rice and products             2685\n",
       "Vegetables                    2648\n",
       "Pulses                        2611\n",
       "Vegetables, other             2596\n",
       "Vegetable Oils                2582\n",
       "Fruits, other                 2543\n",
       "Animal fats                   2419\n",
       "Meat                          2412\n",
       "Fish, Seafood                 2407\n",
       "Sugar & Sweeteners            2300\n",
       "Pulses, Other and products    2281\n",
       "Oilcrops Oil, Other           2233\n",
       "Stimulants                    2226\n",
       "Fats, Animals, Raw            2210\n",
       "Poultry Meat                  2193\n",
       "Alcoholic Beverages           2184\n",
       "Barley and products           2182\n",
       "Pelagic Fish                  2170\n",
       "Oranges, Mandarines           2164\n",
       "Groundnuts                    2164\n",
       "Name: Item, dtype: int64"
      ]
     },
     "execution_count": 7,
     "metadata": {},
     "output_type": "execute_result"
    }
   ],
   "source": [
    "df.Item.value_counts()[:30]"
   ]
  },
  {
   "cell_type": "code",
   "execution_count": 8,
   "metadata": {
    "collapsed": false,
    "pycharm": {
     "name": "#%%\n"
    }
   },
   "outputs": [
    {
     "data": {
      "text/plain": [
       "array(['Total Population - Both sexes', 'Food supply (kcal/capita/day)',\n",
       "       'Protein supply quantity (g/capita/day)',\n",
       "       'Fat supply quantity (g/capita/day)', 'Production',\n",
       "       'Import Quantity', 'Stock Variation', 'Export Quantity',\n",
       "       'Domestic supply quantity', 'Feed', 'Seed', 'Losses', 'Residuals',\n",
       "       'Food', 'Food supply quantity (kg/capita/yr)', 'Processing',\n",
       "       'Other uses (non-food)', 'Tourist consumption'], dtype=object)"
      ]
     },
     "execution_count": 8,
     "metadata": {},
     "output_type": "execute_result"
    }
   ],
   "source": [
    "df.Element.unique()"
   ]
  },
  {
   "cell_type": "code",
   "execution_count": 9,
   "metadata": {
    "collapsed": false,
    "pycharm": {
     "name": "#%%\n"
    }
   },
   "outputs": [],
   "source": [
    "def select(area,item ):\n",
    "    data=df[df.Area==area]\n",
    "    data=data[data['Item'].str.contains(item)]\n",
    "    return data"
   ]
  },
  {
   "cell_type": "code",
   "execution_count": 10,
   "metadata": {
    "collapsed": false,
    "pycharm": {
     "name": "#%%\n"
    }
   },
   "outputs": [],
   "source": [
    "data=select(\"China\",\"Cereals - Ex\")"
   ]
  },
  {
   "cell_type": "code",
   "execution_count": 11,
   "metadata": {
    "collapsed": false,
    "pycharm": {
     "name": "#%%\n"
    }
   },
   "outputs": [
    {
     "data": {
      "text/html": [
       "<div>\n",
       "<style scoped>\n",
       "    .dataframe tbody tr th:only-of-type {\n",
       "        vertical-align: middle;\n",
       "    }\n",
       "\n",
       "    .dataframe tbody tr th {\n",
       "        vertical-align: top;\n",
       "    }\n",
       "\n",
       "    .dataframe thead th {\n",
       "        text-align: right;\n",
       "    }\n",
       "</style>\n",
       "<table border=\"1\" class=\"dataframe\">\n",
       "  <thead>\n",
       "    <tr style=\"text-align: right;\">\n",
       "      <th></th>\n",
       "      <th>Area</th>\n",
       "      <th>Item</th>\n",
       "      <th>Element</th>\n",
       "      <th>Unit</th>\n",
       "      <th>Y2010</th>\n",
       "      <th>Y2011</th>\n",
       "      <th>Y2012</th>\n",
       "      <th>Y2013</th>\n",
       "      <th>Y2014</th>\n",
       "      <th>Y2015</th>\n",
       "      <th>Y2016</th>\n",
       "      <th>Y2017</th>\n",
       "      <th>Y2018</th>\n",
       "      <th>Y2019</th>\n",
       "    </tr>\n",
       "  </thead>\n",
       "  <tbody>\n",
       "    <tr>\n",
       "      <th>44939</th>\n",
       "      <td>China</td>\n",
       "      <td>Cereals - Excluding Beer</td>\n",
       "      <td>Production</td>\n",
       "      <td>1000 tonnes</td>\n",
       "      <td>498113.00</td>\n",
       "      <td>521383.00</td>\n",
       "      <td>541368.00</td>\n",
       "      <td>554623.00</td>\n",
       "      <td>559483.00</td>\n",
       "      <td>620074.00</td>\n",
       "      <td>616491.00</td>\n",
       "      <td>616130.00</td>\n",
       "      <td>611244.00</td>\n",
       "      <td>614914.00</td>\n",
       "    </tr>\n",
       "    <tr>\n",
       "      <th>44940</th>\n",
       "      <td>China</td>\n",
       "      <td>Cereals - Excluding Beer</td>\n",
       "      <td>Import Quantity</td>\n",
       "      <td>1000 tonnes</td>\n",
       "      <td>13861.00</td>\n",
       "      <td>13044.00</td>\n",
       "      <td>22636.00</td>\n",
       "      <td>22952.00</td>\n",
       "      <td>28186.00</td>\n",
       "      <td>41880.00</td>\n",
       "      <td>31380.00</td>\n",
       "      <td>35473.00</td>\n",
       "      <td>29491.00</td>\n",
       "      <td>27492.00</td>\n",
       "    </tr>\n",
       "    <tr>\n",
       "      <th>44941</th>\n",
       "      <td>China</td>\n",
       "      <td>Cereals - Excluding Beer</td>\n",
       "      <td>Stock Variation</td>\n",
       "      <td>1000 tonnes</td>\n",
       "      <td>8114.00</td>\n",
       "      <td>16754.00</td>\n",
       "      <td>34353.00</td>\n",
       "      <td>64549.00</td>\n",
       "      <td>75918.00</td>\n",
       "      <td>80210.00</td>\n",
       "      <td>44705.00</td>\n",
       "      <td>35028.00</td>\n",
       "      <td>7514.00</td>\n",
       "      <td>6019.00</td>\n",
       "    </tr>\n",
       "    <tr>\n",
       "      <th>44942</th>\n",
       "      <td>China</td>\n",
       "      <td>Cereals - Excluding Beer</td>\n",
       "      <td>Export Quantity</td>\n",
       "      <td>1000 tonnes</td>\n",
       "      <td>3127.00</td>\n",
       "      <td>2793.00</td>\n",
       "      <td>2456.00</td>\n",
       "      <td>2414.00</td>\n",
       "      <td>2029.00</td>\n",
       "      <td>1770.00</td>\n",
       "      <td>2323.00</td>\n",
       "      <td>3686.00</td>\n",
       "      <td>5683.00</td>\n",
       "      <td>7154.00</td>\n",
       "    </tr>\n",
       "    <tr>\n",
       "      <th>44943</th>\n",
       "      <td>China</td>\n",
       "      <td>Cereals - Excluding Beer</td>\n",
       "      <td>Domestic supply quantity</td>\n",
       "      <td>1000 tonnes</td>\n",
       "      <td>500734.00</td>\n",
       "      <td>514880.00</td>\n",
       "      <td>527195.00</td>\n",
       "      <td>510613.00</td>\n",
       "      <td>509722.00</td>\n",
       "      <td>579975.00</td>\n",
       "      <td>600843.00</td>\n",
       "      <td>612889.00</td>\n",
       "      <td>627539.00</td>\n",
       "      <td>629233.00</td>\n",
       "    </tr>\n",
       "    <tr>\n",
       "      <th>44944</th>\n",
       "      <td>China</td>\n",
       "      <td>Cereals - Excluding Beer</td>\n",
       "      <td>Feed</td>\n",
       "      <td>1000 tonnes</td>\n",
       "      <td>151931.00</td>\n",
       "      <td>158640.00</td>\n",
       "      <td>164114.00</td>\n",
       "      <td>151419.00</td>\n",
       "      <td>146148.00</td>\n",
       "      <td>188554.00</td>\n",
       "      <td>211366.00</td>\n",
       "      <td>219363.00</td>\n",
       "      <td>231253.00</td>\n",
       "      <td>232039.00</td>\n",
       "    </tr>\n",
       "    <tr>\n",
       "      <th>44945</th>\n",
       "      <td>China</td>\n",
       "      <td>Cereals - Excluding Beer</td>\n",
       "      <td>Seed</td>\n",
       "      <td>1000 tonnes</td>\n",
       "      <td>13242.00</td>\n",
       "      <td>13073.00</td>\n",
       "      <td>13167.00</td>\n",
       "      <td>12518.00</td>\n",
       "      <td>13292.00</td>\n",
       "      <td>13672.00</td>\n",
       "      <td>13576.00</td>\n",
       "      <td>13449.00</td>\n",
       "      <td>13225.00</td>\n",
       "      <td>12829.00</td>\n",
       "    </tr>\n",
       "    <tr>\n",
       "      <th>44946</th>\n",
       "      <td>China</td>\n",
       "      <td>Cereals - Excluding Beer</td>\n",
       "      <td>Losses</td>\n",
       "      <td>1000 tonnes</td>\n",
       "      <td>19013.00</td>\n",
       "      <td>19976.00</td>\n",
       "      <td>21105.00</td>\n",
       "      <td>21453.00</td>\n",
       "      <td>21926.00</td>\n",
       "      <td>24945.00</td>\n",
       "      <td>24365.00</td>\n",
       "      <td>24293.00</td>\n",
       "      <td>24021.00</td>\n",
       "      <td>23997.00</td>\n",
       "    </tr>\n",
       "    <tr>\n",
       "      <th>44947</th>\n",
       "      <td>China</td>\n",
       "      <td>Cereals - Excluding Beer</td>\n",
       "      <td>Processing</td>\n",
       "      <td>1000 tonnes</td>\n",
       "      <td>11574.00</td>\n",
       "      <td>12760.00</td>\n",
       "      <td>12688.00</td>\n",
       "      <td>13384.00</td>\n",
       "      <td>16191.00</td>\n",
       "      <td>15775.00</td>\n",
       "      <td>14741.00</td>\n",
       "      <td>14499.00</td>\n",
       "      <td>12829.00</td>\n",
       "      <td>12608.00</td>\n",
       "    </tr>\n",
       "    <tr>\n",
       "      <th>44948</th>\n",
       "      <td>China</td>\n",
       "      <td>Cereals - Excluding Beer</td>\n",
       "      <td>Other uses (non-food)</td>\n",
       "      <td>1000 tonnes</td>\n",
       "      <td>28599.00</td>\n",
       "      <td>29694.00</td>\n",
       "      <td>32682.00</td>\n",
       "      <td>30592.00</td>\n",
       "      <td>28518.00</td>\n",
       "      <td>48065.00</td>\n",
       "      <td>49183.00</td>\n",
       "      <td>50367.00</td>\n",
       "      <td>52781.00</td>\n",
       "      <td>52100.00</td>\n",
       "    </tr>\n",
       "    <tr>\n",
       "      <th>44949</th>\n",
       "      <td>China</td>\n",
       "      <td>Cereals - Excluding Beer</td>\n",
       "      <td>Tourist consumption</td>\n",
       "      <td>1000 tonnes</td>\n",
       "      <td>23.00</td>\n",
       "      <td>23.00</td>\n",
       "      <td>22.00</td>\n",
       "      <td>22.00</td>\n",
       "      <td>11.00</td>\n",
       "      <td>12.00</td>\n",
       "      <td>10.00</td>\n",
       "      <td>11.00</td>\n",
       "      <td>12.00</td>\n",
       "      <td>12.00</td>\n",
       "    </tr>\n",
       "    <tr>\n",
       "      <th>44950</th>\n",
       "      <td>China</td>\n",
       "      <td>Cereals - Excluding Beer</td>\n",
       "      <td>Residuals</td>\n",
       "      <td>1000 tonnes</td>\n",
       "      <td>0.00</td>\n",
       "      <td>0.00</td>\n",
       "      <td>0.00</td>\n",
       "      <td>-8.00</td>\n",
       "      <td>1.00</td>\n",
       "      <td>1.00</td>\n",
       "      <td>1.00</td>\n",
       "      <td>1.00</td>\n",
       "      <td>1.00</td>\n",
       "      <td>10.00</td>\n",
       "    </tr>\n",
       "    <tr>\n",
       "      <th>44951</th>\n",
       "      <td>China</td>\n",
       "      <td>Cereals - Excluding Beer</td>\n",
       "      <td>Food</td>\n",
       "      <td>1000 tonnes</td>\n",
       "      <td>276351.00</td>\n",
       "      <td>280713.00</td>\n",
       "      <td>283417.00</td>\n",
       "      <td>281233.00</td>\n",
       "      <td>283635.00</td>\n",
       "      <td>288951.00</td>\n",
       "      <td>287601.00</td>\n",
       "      <td>290907.00</td>\n",
       "      <td>293416.00</td>\n",
       "      <td>295637.00</td>\n",
       "    </tr>\n",
       "    <tr>\n",
       "      <th>44952</th>\n",
       "      <td>China</td>\n",
       "      <td>Cereals - Excluding Beer</td>\n",
       "      <td>Food supply quantity (kg/capita/yr)</td>\n",
       "      <td>kg</td>\n",
       "      <td>197.46</td>\n",
       "      <td>199.47</td>\n",
       "      <td>200.27</td>\n",
       "      <td>197.64</td>\n",
       "      <td>198.25</td>\n",
       "      <td>200.91</td>\n",
       "      <td>198.96</td>\n",
       "      <td>200.26</td>\n",
       "      <td>201.06</td>\n",
       "      <td>201.71</td>\n",
       "    </tr>\n",
       "    <tr>\n",
       "      <th>44953</th>\n",
       "      <td>China</td>\n",
       "      <td>Cereals - Excluding Beer</td>\n",
       "      <td>Food supply (kcal/capita/day)</td>\n",
       "      <td>kcal/capita/day</td>\n",
       "      <td>1483.00</td>\n",
       "      <td>1500.00</td>\n",
       "      <td>1505.00</td>\n",
       "      <td>1485.00</td>\n",
       "      <td>1489.00</td>\n",
       "      <td>1511.00</td>\n",
       "      <td>1501.00</td>\n",
       "      <td>1513.00</td>\n",
       "      <td>1517.00</td>\n",
       "      <td>1523.00</td>\n",
       "    </tr>\n",
       "    <tr>\n",
       "      <th>44954</th>\n",
       "      <td>China</td>\n",
       "      <td>Cereals - Excluding Beer</td>\n",
       "      <td>Protein supply quantity (g/capita/day)</td>\n",
       "      <td>g/capita/day</td>\n",
       "      <td>35.15</td>\n",
       "      <td>35.67</td>\n",
       "      <td>35.69</td>\n",
       "      <td>35.19</td>\n",
       "      <td>35.21</td>\n",
       "      <td>35.83</td>\n",
       "      <td>35.70</td>\n",
       "      <td>36.09</td>\n",
       "      <td>36.02</td>\n",
       "      <td>36.15</td>\n",
       "    </tr>\n",
       "    <tr>\n",
       "      <th>44955</th>\n",
       "      <td>China</td>\n",
       "      <td>Cereals - Excluding Beer</td>\n",
       "      <td>Fat supply quantity (g/capita/day)</td>\n",
       "      <td>g/capita/day</td>\n",
       "      <td>6.11</td>\n",
       "      <td>6.20</td>\n",
       "      <td>6.22</td>\n",
       "      <td>6.18</td>\n",
       "      <td>6.22</td>\n",
       "      <td>6.41</td>\n",
       "      <td>6.42</td>\n",
       "      <td>6.48</td>\n",
       "      <td>6.45</td>\n",
       "      <td>6.45</td>\n",
       "    </tr>\n",
       "  </tbody>\n",
       "</table>\n",
       "</div>"
      ],
      "text/plain": [
       "        Area                      Item  \\\n",
       "44939  China  Cereals - Excluding Beer   \n",
       "44940  China  Cereals - Excluding Beer   \n",
       "44941  China  Cereals - Excluding Beer   \n",
       "44942  China  Cereals - Excluding Beer   \n",
       "44943  China  Cereals - Excluding Beer   \n",
       "44944  China  Cereals - Excluding Beer   \n",
       "44945  China  Cereals - Excluding Beer   \n",
       "44946  China  Cereals - Excluding Beer   \n",
       "44947  China  Cereals - Excluding Beer   \n",
       "44948  China  Cereals - Excluding Beer   \n",
       "44949  China  Cereals - Excluding Beer   \n",
       "44950  China  Cereals - Excluding Beer   \n",
       "44951  China  Cereals - Excluding Beer   \n",
       "44952  China  Cereals - Excluding Beer   \n",
       "44953  China  Cereals - Excluding Beer   \n",
       "44954  China  Cereals - Excluding Beer   \n",
       "44955  China  Cereals - Excluding Beer   \n",
       "\n",
       "                                      Element             Unit      Y2010  \\\n",
       "44939                              Production      1000 tonnes  498113.00   \n",
       "44940                         Import Quantity      1000 tonnes   13861.00   \n",
       "44941                         Stock Variation      1000 tonnes    8114.00   \n",
       "44942                         Export Quantity      1000 tonnes    3127.00   \n",
       "44943                Domestic supply quantity      1000 tonnes  500734.00   \n",
       "44944                                    Feed      1000 tonnes  151931.00   \n",
       "44945                                    Seed      1000 tonnes   13242.00   \n",
       "44946                                  Losses      1000 tonnes   19013.00   \n",
       "44947                              Processing      1000 tonnes   11574.00   \n",
       "44948                   Other uses (non-food)      1000 tonnes   28599.00   \n",
       "44949                     Tourist consumption      1000 tonnes      23.00   \n",
       "44950                               Residuals      1000 tonnes       0.00   \n",
       "44951                                    Food      1000 tonnes  276351.00   \n",
       "44952     Food supply quantity (kg/capita/yr)               kg     197.46   \n",
       "44953           Food supply (kcal/capita/day)  kcal/capita/day    1483.00   \n",
       "44954  Protein supply quantity (g/capita/day)     g/capita/day      35.15   \n",
       "44955      Fat supply quantity (g/capita/day)     g/capita/day       6.11   \n",
       "\n",
       "           Y2011      Y2012      Y2013      Y2014      Y2015      Y2016  \\\n",
       "44939  521383.00  541368.00  554623.00  559483.00  620074.00  616491.00   \n",
       "44940   13044.00   22636.00   22952.00   28186.00   41880.00   31380.00   \n",
       "44941   16754.00   34353.00   64549.00   75918.00   80210.00   44705.00   \n",
       "44942    2793.00    2456.00    2414.00    2029.00    1770.00    2323.00   \n",
       "44943  514880.00  527195.00  510613.00  509722.00  579975.00  600843.00   \n",
       "44944  158640.00  164114.00  151419.00  146148.00  188554.00  211366.00   \n",
       "44945   13073.00   13167.00   12518.00   13292.00   13672.00   13576.00   \n",
       "44946   19976.00   21105.00   21453.00   21926.00   24945.00   24365.00   \n",
       "44947   12760.00   12688.00   13384.00   16191.00   15775.00   14741.00   \n",
       "44948   29694.00   32682.00   30592.00   28518.00   48065.00   49183.00   \n",
       "44949      23.00      22.00      22.00      11.00      12.00      10.00   \n",
       "44950       0.00       0.00      -8.00       1.00       1.00       1.00   \n",
       "44951  280713.00  283417.00  281233.00  283635.00  288951.00  287601.00   \n",
       "44952     199.47     200.27     197.64     198.25     200.91     198.96   \n",
       "44953    1500.00    1505.00    1485.00    1489.00    1511.00    1501.00   \n",
       "44954      35.67      35.69      35.19      35.21      35.83      35.70   \n",
       "44955       6.20       6.22       6.18       6.22       6.41       6.42   \n",
       "\n",
       "           Y2017      Y2018      Y2019  \n",
       "44939  616130.00  611244.00  614914.00  \n",
       "44940   35473.00   29491.00   27492.00  \n",
       "44941   35028.00    7514.00    6019.00  \n",
       "44942    3686.00    5683.00    7154.00  \n",
       "44943  612889.00  627539.00  629233.00  \n",
       "44944  219363.00  231253.00  232039.00  \n",
       "44945   13449.00   13225.00   12829.00  \n",
       "44946   24293.00   24021.00   23997.00  \n",
       "44947   14499.00   12829.00   12608.00  \n",
       "44948   50367.00   52781.00   52100.00  \n",
       "44949      11.00      12.00      12.00  \n",
       "44950       1.00       1.00      10.00  \n",
       "44951  290907.00  293416.00  295637.00  \n",
       "44952     200.26     201.06     201.71  \n",
       "44953    1513.00    1517.00    1523.00  \n",
       "44954      36.09      36.02      36.15  \n",
       "44955       6.48       6.45       6.45  "
      ]
     },
     "execution_count": 11,
     "metadata": {},
     "output_type": "execute_result"
    }
   ],
   "source": [
    "data"
   ]
  },
  {
   "cell_type": "code",
   "execution_count": 12,
   "metadata": {
    "collapsed": false,
    "pycharm": {
     "name": "#%%\n"
    }
   },
   "outputs": [],
   "source": [
    "def mean_based(year):\n",
    "    try:\n",
    "        mean_pred=[]\n",
    "        losses=data[data.Element==\"Losses\"].iloc[0,4:]\n",
    "        count=0\n",
    "        sum=0\n",
    "        for i in losses.index:\n",
    "            if i==\"Y\"+str(year):\n",
    "                break\n",
    "            sum=losses[i]+sum\n",
    "            count+=1\n",
    "        mean_pred=sum/count\n",
    "        return mean_pred\n",
    "    except:\n",
    "        return losses[\"Y\"+str(year)]"
   ]
  },
  {
   "cell_type": "code",
   "execution_count": 13,
   "metadata": {
    "collapsed": false,
    "pycharm": {
     "name": "#%%\n"
    }
   },
   "outputs": [
    {
     "data": {
      "text/plain": [
       "22509.4"
      ]
     },
     "execution_count": 13,
     "metadata": {},
     "output_type": "execute_result"
    }
   ],
   "source": [
    "predd=mean_based(2005)\n",
    "predd"
   ]
  },
  {
   "cell_type": "code",
   "execution_count": 14,
   "metadata": {
    "collapsed": false,
    "pycharm": {
     "name": "#%%\n"
    }
   },
   "outputs": [
    {
     "name": "stderr",
     "output_type": "stream",
     "text": [
      "/var/folders/t6/nkv95bj97gv9j73w9bfk2p0r0000gn/T/ipykernel_25222/3604102451.py:6: SettingWithCopyWarning: \n",
      "A value is trying to be set on a copy of a slice from a DataFrame\n",
      "\n",
      "See the caveats in the documentation: https://pandas.pydata.org/pandas-docs/stable/user_guide/indexing.html#returning-a-view-versus-a-copy\n",
      "  losses[\"MeanBasedPred\"][i]=mean_based(int(i[1:]))\n"
     ]
    }
   ],
   "source": [
    "mean_based_pred=[]\n",
    "losses=pd.DataFrame(data[data.Element==\"Losses\"].iloc[0,4:])\n",
    "losses.columns=[\"Actual\"]\n",
    "losses[\"MeanBasedPred\"]=np.zeros([len(losses)])\n",
    "for i in losses.index:\n",
    "    losses[\"MeanBasedPred\"][i]=mean_based(int(i[1:]))"
   ]
  },
  {
   "cell_type": "code",
   "execution_count": 15,
   "metadata": {},
   "outputs": [
    {
     "data": {
      "text/html": [
       "<div>\n",
       "<style scoped>\n",
       "    .dataframe tbody tr th:only-of-type {\n",
       "        vertical-align: middle;\n",
       "    }\n",
       "\n",
       "    .dataframe tbody tr th {\n",
       "        vertical-align: top;\n",
       "    }\n",
       "\n",
       "    .dataframe thead th {\n",
       "        text-align: right;\n",
       "    }\n",
       "</style>\n",
       "<table border=\"1\" class=\"dataframe\">\n",
       "  <thead>\n",
       "    <tr style=\"text-align: right;\">\n",
       "      <th></th>\n",
       "      <th>index</th>\n",
       "      <th>Actual</th>\n",
       "      <th>MeanBasedPred</th>\n",
       "    </tr>\n",
       "  </thead>\n",
       "  <tbody>\n",
       "    <tr>\n",
       "      <th>0</th>\n",
       "      <td>Y2010</td>\n",
       "      <td>19013.0</td>\n",
       "      <td>19013.000000</td>\n",
       "    </tr>\n",
       "    <tr>\n",
       "      <th>1</th>\n",
       "      <td>Y2011</td>\n",
       "      <td>19976.0</td>\n",
       "      <td>19013.000000</td>\n",
       "    </tr>\n",
       "    <tr>\n",
       "      <th>2</th>\n",
       "      <td>Y2012</td>\n",
       "      <td>21105.0</td>\n",
       "      <td>19494.500000</td>\n",
       "    </tr>\n",
       "    <tr>\n",
       "      <th>3</th>\n",
       "      <td>Y2013</td>\n",
       "      <td>21453.0</td>\n",
       "      <td>20031.333333</td>\n",
       "    </tr>\n",
       "    <tr>\n",
       "      <th>4</th>\n",
       "      <td>Y2014</td>\n",
       "      <td>21926.0</td>\n",
       "      <td>20386.750000</td>\n",
       "    </tr>\n",
       "    <tr>\n",
       "      <th>5</th>\n",
       "      <td>Y2015</td>\n",
       "      <td>24945.0</td>\n",
       "      <td>20694.600000</td>\n",
       "    </tr>\n",
       "    <tr>\n",
       "      <th>6</th>\n",
       "      <td>Y2016</td>\n",
       "      <td>24365.0</td>\n",
       "      <td>21403.000000</td>\n",
       "    </tr>\n",
       "    <tr>\n",
       "      <th>7</th>\n",
       "      <td>Y2017</td>\n",
       "      <td>24293.0</td>\n",
       "      <td>21826.142857</td>\n",
       "    </tr>\n",
       "    <tr>\n",
       "      <th>8</th>\n",
       "      <td>Y2018</td>\n",
       "      <td>24021.0</td>\n",
       "      <td>22134.500000</td>\n",
       "    </tr>\n",
       "    <tr>\n",
       "      <th>9</th>\n",
       "      <td>Y2019</td>\n",
       "      <td>23997.0</td>\n",
       "      <td>22344.111111</td>\n",
       "    </tr>\n",
       "  </tbody>\n",
       "</table>\n",
       "</div>"
      ],
      "text/plain": [
       "   index   Actual  MeanBasedPred\n",
       "0  Y2010  19013.0   19013.000000\n",
       "1  Y2011  19976.0   19013.000000\n",
       "2  Y2012  21105.0   19494.500000\n",
       "3  Y2013  21453.0   20031.333333\n",
       "4  Y2014  21926.0   20386.750000\n",
       "5  Y2015  24945.0   20694.600000\n",
       "6  Y2016  24365.0   21403.000000\n",
       "7  Y2017  24293.0   21826.142857\n",
       "8  Y2018  24021.0   22134.500000\n",
       "9  Y2019  23997.0   22344.111111"
      ]
     },
     "execution_count": 15,
     "metadata": {},
     "output_type": "execute_result"
    }
   ],
   "source": [
    "losses.reset_index()"
   ]
  },
  {
   "cell_type": "code",
   "execution_count": 16,
   "metadata": {},
   "outputs": [
    {
     "data": {
      "text/plain": [
       "Y2010    19013.0\n",
       "Y2011    19976.0\n",
       "Y2012    21105.0\n",
       "Y2013    21453.0\n",
       "Y2014    21926.0\n",
       "Y2015    24945.0\n",
       "Y2016    24365.0\n",
       "Y2017    24293.0\n",
       "Y2018    24021.0\n",
       "Y2019    23997.0\n",
       "Name: Actual, dtype: object"
      ]
     },
     "execution_count": 16,
     "metadata": {},
     "output_type": "execute_result"
    }
   ],
   "source": [
    "losses[\"Actual\"]"
   ]
  },
  {
   "cell_type": "code",
   "execution_count": 17,
   "metadata": {},
   "outputs": [
    {
     "name": "stdout",
     "output_type": "stream",
     "text": [
      "Root Mean Square Error:\n",
      "\n",
      "2170.879042597463\n"
     ]
    }
   ],
   "source": [
    "import math\n",
    "MSE = np.square(np.subtract(losses[\"Actual\"].values,losses[\"MeanBasedPred\"].values)).mean() \n",
    "RMSE = math.sqrt(MSE)\n",
    "print(\"Root Mean Square Error:\\n\")\n",
    "print(RMSE)"
   ]
  },
  {
   "cell_type": "code",
   "execution_count": 18,
   "metadata": {
    "collapsed": false,
    "pycharm": {
     "name": "#%%\n"
    }
   },
   "outputs": [
    {
     "data": {
      "text/plain": [
       "2010"
      ]
     },
     "execution_count": 18,
     "metadata": {},
     "output_type": "execute_result"
    }
   ],
   "source": [
    "int(losses.index[0][1:])"
   ]
  },
  {
   "cell_type": "code",
   "execution_count": 19,
   "metadata": {
    "collapsed": false,
    "pycharm": {
     "name": "#%%\n"
    }
   },
   "outputs": [
    {
     "data": {
      "text/plain": [
       "19013.0"
      ]
     },
     "execution_count": 19,
     "metadata": {},
     "output_type": "execute_result"
    }
   ],
   "source": [
    "losses[\"Actual\"][\"Y2010\"]"
   ]
  },
  {
   "cell_type": "code",
   "execution_count": 20,
   "metadata": {
    "collapsed": false,
    "pycharm": {
     "name": "#%%\n"
    }
   },
   "outputs": [
    {
     "data": {
      "text/html": [
       "<div>\n",
       "<style scoped>\n",
       "    .dataframe tbody tr th:only-of-type {\n",
       "        vertical-align: middle;\n",
       "    }\n",
       "\n",
       "    .dataframe tbody tr th {\n",
       "        vertical-align: top;\n",
       "    }\n",
       "\n",
       "    .dataframe thead th {\n",
       "        text-align: right;\n",
       "    }\n",
       "</style>\n",
       "<table border=\"1\" class=\"dataframe\">\n",
       "  <thead>\n",
       "    <tr style=\"text-align: right;\">\n",
       "      <th></th>\n",
       "      <th>Actual</th>\n",
       "      <th>MeanBasedPred</th>\n",
       "    </tr>\n",
       "  </thead>\n",
       "  <tbody>\n",
       "    <tr>\n",
       "      <th>Y2010</th>\n",
       "      <td>19013.0</td>\n",
       "      <td>19013.000000</td>\n",
       "    </tr>\n",
       "    <tr>\n",
       "      <th>Y2011</th>\n",
       "      <td>19976.0</td>\n",
       "      <td>19013.000000</td>\n",
       "    </tr>\n",
       "    <tr>\n",
       "      <th>Y2012</th>\n",
       "      <td>21105.0</td>\n",
       "      <td>19494.500000</td>\n",
       "    </tr>\n",
       "    <tr>\n",
       "      <th>Y2013</th>\n",
       "      <td>21453.0</td>\n",
       "      <td>20031.333333</td>\n",
       "    </tr>\n",
       "    <tr>\n",
       "      <th>Y2014</th>\n",
       "      <td>21926.0</td>\n",
       "      <td>20386.750000</td>\n",
       "    </tr>\n",
       "    <tr>\n",
       "      <th>Y2015</th>\n",
       "      <td>24945.0</td>\n",
       "      <td>20694.600000</td>\n",
       "    </tr>\n",
       "    <tr>\n",
       "      <th>Y2016</th>\n",
       "      <td>24365.0</td>\n",
       "      <td>21403.000000</td>\n",
       "    </tr>\n",
       "    <tr>\n",
       "      <th>Y2017</th>\n",
       "      <td>24293.0</td>\n",
       "      <td>21826.142857</td>\n",
       "    </tr>\n",
       "    <tr>\n",
       "      <th>Y2018</th>\n",
       "      <td>24021.0</td>\n",
       "      <td>22134.500000</td>\n",
       "    </tr>\n",
       "    <tr>\n",
       "      <th>Y2019</th>\n",
       "      <td>23997.0</td>\n",
       "      <td>22344.111111</td>\n",
       "    </tr>\n",
       "  </tbody>\n",
       "</table>\n",
       "</div>"
      ],
      "text/plain": [
       "        Actual  MeanBasedPred\n",
       "Y2010  19013.0   19013.000000\n",
       "Y2011  19976.0   19013.000000\n",
       "Y2012  21105.0   19494.500000\n",
       "Y2013  21453.0   20031.333333\n",
       "Y2014  21926.0   20386.750000\n",
       "Y2015  24945.0   20694.600000\n",
       "Y2016  24365.0   21403.000000\n",
       "Y2017  24293.0   21826.142857\n",
       "Y2018  24021.0   22134.500000\n",
       "Y2019  23997.0   22344.111111"
      ]
     },
     "execution_count": 20,
     "metadata": {},
     "output_type": "execute_result"
    }
   ],
   "source": [
    "losses"
   ]
  },
  {
   "cell_type": "code",
   "execution_count": 21,
   "metadata": {},
   "outputs": [
    {
     "data": {
      "text/plain": [
       "<matplotlib.legend.Legend at 0x7ff247d4d910>"
      ]
     },
     "execution_count": 21,
     "metadata": {},
     "output_type": "execute_result"
    },
    {
     "data": {
      "image/png": "[encoded data removed]",
      "text/plain": [
       "<Figure size 432x288 with 1 Axes>"
      ]
     },
     "metadata": {
      "needs_background": "light"
     },
     "output_type": "display_data"
    }
   ],
   "source": [
    "plt.plot(losses.index,losses[\"Actual\"])\n",
    "plt.plot(losses.index,losses.MeanBasedPred)\n",
    "plt.title(\"Prediction based on mean values of previous years\")\n",
    "plt.legend(['Actual', 'Mean-based Prediction'], loc='lower right')"
   ]
  },
  {
   "cell_type": "code",
   "execution_count": 22,
   "metadata": {
    "collapsed": false,
    "pycharm": {
     "name": "#%%\n"
    }
   },
   "outputs": [
    {
     "data": {
      "text/plain": [
       "Y2010    1399503000.0\n",
       "Y2011    1407325000.0\n",
       "Y2012    1415164000.0\n",
       "Y2013    1422971000.0\n",
       "Y2014    1430671000.0\n",
       "Y2015    1438193000.0\n",
       "Y2016    1445524000.0\n",
       "Y2017    1452626000.0\n",
       "Y2018    1459378000.0\n",
       "Y2019    1465634000.0\n",
       "Name: 44928, dtype: object"
      ]
     },
     "execution_count": 22,
     "metadata": {},
     "output_type": "execute_result"
    }
   ],
   "source": [
    "population=df[df[\"Element\"]==\"Total Population - Both sexes\"]\n",
    "population=population[population.Area==\"China\"].iloc[0,4:]*1000\n",
    "population"
   ]
  },
  {
   "cell_type": "code",
   "execution_count": 23,
   "metadata": {
    "collapsed": false,
    "pycharm": {
     "name": "#%%\n"
    }
   },
   "outputs": [],
   "source": [
    "lstm_data=pd.DataFrame(population)\n",
    "lstm_data.columns=[\"Population\"]"
   ]
  },
  {
   "cell_type": "code",
   "execution_count": 24,
   "metadata": {
    "collapsed": false,
    "pycharm": {
     "name": "#%%\n"
    }
   },
   "outputs": [],
   "source": [
    "lstm_data[\"Actual Loss\"]=losses[\"Actual\"]"
   ]
  },
  {
   "cell_type": "code",
   "execution_count": 25,
   "metadata": {},
   "outputs": [],
   "source": [
    "lstm_data.to_csv(\"lstm_data.csv\")"
   ]
  },
  {
   "cell_type": "markdown",
   "metadata": {},
   "source": [
    "# LSTM MODEL"
   ]
  },
  {
   "cell_type": "code",
   "execution_count": 26,
   "metadata": {
    "collapsed": false,
    "pycharm": {
     "name": "#%%\n"
    }
   },
   "outputs": [
    {
     "data": {
      "text/html": [
       "<div>\n",
       "<style scoped>\n",
       "    .dataframe tbody tr th:only-of-type {\n",
       "        vertical-align: middle;\n",
       "    }\n",
       "\n",
       "    .dataframe tbody tr th {\n",
       "        vertical-align: top;\n",
       "    }\n",
       "\n",
       "    .dataframe thead th {\n",
       "        text-align: right;\n",
       "    }\n",
       "</style>\n",
       "<table border=\"1\" class=\"dataframe\">\n",
       "  <thead>\n",
       "    <tr style=\"text-align: right;\">\n",
       "      <th></th>\n",
       "      <th>Population</th>\n",
       "      <th>Actual Loss</th>\n",
       "    </tr>\n",
       "  </thead>\n",
       "  <tbody>\n",
       "    <tr>\n",
       "      <th>Y2010</th>\n",
       "      <td>1399503000.0</td>\n",
       "      <td>19013.0</td>\n",
       "    </tr>\n",
       "    <tr>\n",
       "      <th>Y2011</th>\n",
       "      <td>1407325000.0</td>\n",
       "      <td>19976.0</td>\n",
       "    </tr>\n",
       "    <tr>\n",
       "      <th>Y2012</th>\n",
       "      <td>1415164000.0</td>\n",
       "      <td>21105.0</td>\n",
       "    </tr>\n",
       "    <tr>\n",
       "      <th>Y2013</th>\n",
       "      <td>1422971000.0</td>\n",
       "      <td>21453.0</td>\n",
       "    </tr>\n",
       "    <tr>\n",
       "      <th>Y2014</th>\n",
       "      <td>1430671000.0</td>\n",
       "      <td>21926.0</td>\n",
       "    </tr>\n",
       "    <tr>\n",
       "      <th>Y2015</th>\n",
       "      <td>1438193000.0</td>\n",
       "      <td>24945.0</td>\n",
       "    </tr>\n",
       "    <tr>\n",
       "      <th>Y2016</th>\n",
       "      <td>1445524000.0</td>\n",
       "      <td>24365.0</td>\n",
       "    </tr>\n",
       "    <tr>\n",
       "      <th>Y2017</th>\n",
       "      <td>1452626000.0</td>\n",
       "      <td>24293.0</td>\n",
       "    </tr>\n",
       "    <tr>\n",
       "      <th>Y2018</th>\n",
       "      <td>1459378000.0</td>\n",
       "      <td>24021.0</td>\n",
       "    </tr>\n",
       "    <tr>\n",
       "      <th>Y2019</th>\n",
       "      <td>1465634000.0</td>\n",
       "      <td>23997.0</td>\n",
       "    </tr>\n",
       "  </tbody>\n",
       "</table>\n",
       "</div>"
      ],
      "text/plain": [
       "         Population Actual Loss\n",
       "Y2010  1399503000.0     19013.0\n",
       "Y2011  1407325000.0     19976.0\n",
       "Y2012  1415164000.0     21105.0\n",
       "Y2013  1422971000.0     21453.0\n",
       "Y2014  1430671000.0     21926.0\n",
       "Y2015  1438193000.0     24945.0\n",
       "Y2016  1445524000.0     24365.0\n",
       "Y2017  1452626000.0     24293.0\n",
       "Y2018  1459378000.0     24021.0\n",
       "Y2019  1465634000.0     23997.0"
      ]
     },
     "execution_count": 26,
     "metadata": {},
     "output_type": "execute_result"
    }
   ],
   "source": [
    "lstm_data"
   ]
  },
  {
   "cell_type": "markdown",
   "metadata": {},
   "source": [
    "ARIMA MODEL"
   ]
  },
  {
   "cell_type": "code",
   "execution_count": 29,
   "metadata": {},
   "outputs": [
    {
     "name": "stderr",
     "output_type": "stream",
     "text": [
      "/var/folders/t6/nkv95bj97gv9j73w9bfk2p0r0000gn/T/ipykernel_25222/2612410430.py:1: FutureWarning: The pandas.datetime class is deprecated and will be removed from pandas in a future version. Import from datetime module instead.\n",
      "  from pandas import datetime\n"
     ]
    }
   ],
   "source": [
    "\n",
    "from pandas import datetime\n",
    "from pandas import DataFrame\n",
    "from statsmodels.tsa.arima.model import ARIMA\n",
    "from matplotlib import pyplot\n",
    "\n",
    "# # fit model\n",
    "# model = ARIMA(lstm_data[\"Actual Loss\"], order=(1,1,0))\n",
    "# model_fit = model.fit()\n",
    "# # summary of fit model\n",
    "# print(model_fit.summary())\n",
    "# # line plot of residuals\n",
    "# residuals = DataFrame(model_fit.resid)\n",
    "# residuals.plot()\n",
    "# pyplot.show()\n",
    "# # density plot of residuals\n",
    "# residuals.plot(kind='kde')\n",
    "# pyplot.show()\n",
    "# # summary stats of residuals\n",
    "# print(residuals.describe())"
   ]
  },
  {
   "cell_type": "code",
   "execution_count": 30,
   "metadata": {},
   "outputs": [
    {
     "name": "stdout",
     "output_type": "stream",
     "text": [
      "predicted=25240.417369, expected=24365.000000\n",
      "predicted=24320.932937, expected=24293.000000\n",
      "predicted=24287.198562, expected=24021.000000\n",
      "predicted=23997.888237, expected=23997.000000\n",
      "Test RMSE: 457.711\n"
     ]
    },
    {
     "name": "stderr",
     "output_type": "stream",
     "text": [
      "/Users/murathansaygili/Desktop/SIC/venv/lib/python3.9/site-packages/statsmodels/tsa/statespace/sarimax.py:966: UserWarning: Non-stationary starting autoregressive parameters found. Using zeros as starting parameters.\n",
      "  warn('Non-stationary starting autoregressive parameters'\n"
     ]
    },
    {
     "data": {
      "image/png": "[encoded data removed]",
      "text/plain": [
       "<Figure size 432x288 with 1 Axes>"
      ]
     },
     "metadata": {
      "needs_background": "light"
     },
     "output_type": "display_data"
    }
   ],
   "source": [
    "\n",
    "series=lstm_data[\"Actual Loss\"]\n",
    "X = series.values\n",
    "size = int(len(X) * 0.66)\n",
    "train, test = X[0:size], X[size:len(X)]\n",
    "history = [x for x in train]\n",
    "predictions = list()\n",
    "# walk-forward validation\n",
    "for t in range(len(test)):\n",
    "\tmodel = ARIMA(history, order=(1,1,0))\n",
    "\tmodel_fit = model.fit()\n",
    "\toutput = model_fit.forecast()\n",
    "\tyhat = output[0]\n",
    "\tpredictions.append(yhat)\n",
    "\tobs = test[t]\n",
    "\thistory.append(obs)\n",
    "\tprint('predicted=%f, expected=%f' % (yhat, obs))\n",
    "# evaluate forecasts\n",
    "rmse = sqrt(mean_squared_error(test, predictions))\n",
    "print('Test RMSE: %.3f' % rmse)\n",
    "# plot forecasts against actual outcomes\n",
    "years=['2016','2017','2018','2019']\n",
    "pyplot.plot(years,test)\n",
    "pyplot.plot(predictions, color='red')\n",
    "pyplot.xlabel(\"Years\")\n",
    "pyplot.ylabel(\"Food Loss\")\n",
    "plt.legend([\"Actual\",\"Prediciton\"])\n",
    "plt.title(\"ARIMA\")\n",
    "plt.ylim(23000,26000)\n",
    "pyplot.show()\n"
   ]
  },
  {
   "cell_type": "code",
   "execution_count": 31,
   "metadata": {},
   "outputs": [
    {
     "data": {
      "text/plain": [
       "[25240.417368872564, 24320.93293662449, 24287.198561513767, 23997.888236644696]"
      ]
     },
     "execution_count": 31,
     "metadata": {},
     "output_type": "execute_result"
    }
   ],
   "source": [
    "predictions"
   ]
  },
  {
   "cell_type": "code",
   "execution_count": 32,
   "metadata": {
    "collapsed": false,
    "pycharm": {
     "name": "#%%\n"
    }
   },
   "outputs": [],
   "source": [
    "# df_for_training=lstm_data[:-3].to_numpy()\n",
    "# df_for_testing=lstm_data[-3:].to_numpy()"
   ]
  },
  {
   "cell_type": "code",
   "execution_count": 33,
   "metadata": {
    "collapsed": false,
    "pycharm": {
     "name": "#%%\n"
    }
   },
   "outputs": [],
   "source": [
    "def df_to_X_y(df, window_size=3):\n",
    "  df_as_np = df.to_numpy()\n",
    "  X = []\n",
    "  y = []\n",
    "  for i in range(len(df_as_np)-window_size):\n",
    "    row = [[a] for a in df_as_np[i:i+window_size]]\n",
    "    X.append(row)\n",
    "    label = df_as_np[i+window_size]\n",
    "    y.append(label)\n",
    "  return np.array(X), np.array(y)"
   ]
  },
  {
   "cell_type": "code",
   "execution_count": 102,
   "metadata": {},
   "outputs": [
    {
     "data": {
      "text/plain": [
       "((7, 3, 1), (7,))"
      ]
     },
     "execution_count": 102,
     "metadata": {},
     "output_type": "execute_result"
    }
   ],
   "source": [
    "WINDOW_SIZE = 3\n",
    "X1, y1 = df_to_X_y(lstm_data[\"Actual Loss\"], WINDOW_SIZE)\n",
    "X1.shape, y1.shape"
   ]
  },
  {
   "cell_type": "code",
   "execution_count": 103,
   "metadata": {},
   "outputs": [
    {
     "data": {
      "text/plain": [
       "((4, 3, 1), (4,), (2, 3, 1), (2,), (1, 3, 1), (1,))"
      ]
     },
     "execution_count": 103,
     "metadata": {},
     "output_type": "execute_result"
    }
   ],
   "source": [
    "X_train1, y_train1 = X1[:4], y1[:4]\n",
    "X_val1, y_val1 = X1[4:6], y1[4:6]\n",
    "X_test1, y_test1 = X1[6:], y1[6:]\n",
    "X_train1.shape, y_train1.shape, X_val1.shape, y_val1.shape, X_test1.shape, y_test1.shape"
   ]
  },
  {
   "cell_type": "code",
   "execution_count": 104,
   "metadata": {},
   "outputs": [],
   "source": [
    "from sklearn.preprocessing import StandardScaler\n",
    "\n",
    "\n",
    "scalers = {}\n",
    "for i in range(X_train1.shape[1]):\n",
    "    scalers[i] = StandardScaler()\n",
    "    X_train1[:, i, :] = scalers[i].fit_transform(X_train1[:, i, :]) \n",
    "\n",
    "for i in range(X_test1.shape[1]):\n",
    "    X_test1[:, i, :] = scalers[i].transform(X_test1[:, i, :]) "
   ]
  },
  {
   "cell_type": "code",
   "execution_count": 67,
   "metadata": {
    "collapsed": false,
    "pycharm": {
     "name": "#%%\n"
    }
   },
   "outputs": [
    {
     "name": "stdout",
     "output_type": "stream",
     "text": [
      "Epoch 1/20\n",
      "1/1 [==============================] - ETA: 0s - loss: 539233280.0000 - root_mean_squared_error: 23221.3965"
     ]
    },
    {
     "name": "stderr",
     "output_type": "stream",
     "text": [
      "WARNING:absl:Found untraced functions such as lstm_cell_2_layer_call_fn, lstm_cell_2_layer_call_and_return_conditional_losses while saving (showing 2 of 2). These functions will not be directly callable after loading.\n"
     ]
    },
    {
     "name": "stdout",
     "output_type": "stream",
     "text": [
      "INFO:tensorflow:Assets written to: model1/assets\n"
     ]
    },
    {
     "name": "stderr",
     "output_type": "stream",
     "text": [
      "INFO:tensorflow:Assets written to: model1/assets\n"
     ]
    },
    {
     "name": "stdout",
     "output_type": "stream",
     "text": [
      "1/1 [==============================] - 5s 5s/step - loss: 539233280.0000 - root_mean_squared_error: 23221.3965 - val_loss: 368912032.0000 - val_root_mean_squared_error: 19207.0820\n",
      "Epoch 2/20\n",
      "1/1 [==============================] - ETA: 0s - loss: 334304448.0000 - root_mean_squared_error: 18283.9941"
     ]
    },
    {
     "name": "stderr",
     "output_type": "stream",
     "text": [
      "WARNING:absl:Found untraced functions such as lstm_cell_2_layer_call_fn, lstm_cell_2_layer_call_and_return_conditional_losses while saving (showing 2 of 2). These functions will not be directly callable after loading.\n"
     ]
    },
    {
     "name": "stdout",
     "output_type": "stream",
     "text": [
      "INFO:tensorflow:Assets written to: model1/assets\n"
     ]
    },
    {
     "name": "stderr",
     "output_type": "stream",
     "text": [
      "INFO:tensorflow:Assets written to: model1/assets\n"
     ]
    },
    {
     "name": "stdout",
     "output_type": "stream",
     "text": [
      "1/1 [==============================] - 3s 3s/step - loss: 334304448.0000 - root_mean_squared_error: 18283.9941 - val_loss: 82948400.0000 - val_root_mean_squared_error: 9107.6016\n",
      "Epoch 3/20\n",
      "1/1 [==============================] - ETA: 0s - loss: 68232768.0000 - root_mean_squared_error: 8260.3125"
     ]
    },
    {
     "name": "stderr",
     "output_type": "stream",
     "text": [
      "WARNING:absl:Found untraced functions such as lstm_cell_2_layer_call_fn, lstm_cell_2_layer_call_and_return_conditional_losses while saving (showing 2 of 2). These functions will not be directly callable after loading.\n"
     ]
    },
    {
     "name": "stdout",
     "output_type": "stream",
     "text": [
      "INFO:tensorflow:Assets written to: model1/assets\n"
     ]
    },
    {
     "name": "stderr",
     "output_type": "stream",
     "text": [
      "INFO:tensorflow:Assets written to: model1/assets\n"
     ]
    },
    {
     "name": "stdout",
     "output_type": "stream",
     "text": [
      "1/1 [==============================] - 3s 3s/step - loss: 68232768.0000 - root_mean_squared_error: 8260.3125 - val_loss: 77536200.0000 - val_root_mean_squared_error: 8805.4639\n",
      "Epoch 4/20\n",
      "1/1 [==============================] - 0s 22ms/step - loss: 98096296.0000 - root_mean_squared_error: 9904.3574 - val_loss: 98238832.0000 - val_root_mean_squared_error: 9911.5508\n",
      "Epoch 5/20\n",
      "1/1 [==============================] - ETA: 0s - loss: 120977584.0000 - root_mean_squared_error: 10998.9814"
     ]
    },
    {
     "name": "stderr",
     "output_type": "stream",
     "text": [
      "WARNING:absl:Found untraced functions such as lstm_cell_2_layer_call_fn, lstm_cell_2_layer_call_and_return_conditional_losses while saving (showing 2 of 2). These functions will not be directly callable after loading.\n"
     ]
    },
    {
     "name": "stdout",
     "output_type": "stream",
     "text": [
      "INFO:tensorflow:Assets written to: model1/assets\n"
     ]
    },
    {
     "name": "stderr",
     "output_type": "stream",
     "text": [
      "INFO:tensorflow:Assets written to: model1/assets\n"
     ]
    },
    {
     "name": "stdout",
     "output_type": "stream",
     "text": [
      "1/1 [==============================] - 3s 3s/step - loss: 120977584.0000 - root_mean_squared_error: 10998.9814 - val_loss: 5064732.0000 - val_root_mean_squared_error: 2250.4958\n",
      "Epoch 6/20\n",
      "1/1 [==============================] - 0s 23ms/step - loss: 12708782.0000 - root_mean_squared_error: 3564.9380 - val_loss: 26743740.0000 - val_root_mean_squared_error: 5171.4351\n",
      "Epoch 7/20\n",
      "1/1 [==============================] - 0s 23ms/step - loss: 19781922.0000 - root_mean_squared_error: 4447.6875 - val_loss: 82448880.0000 - val_root_mean_squared_error: 9080.1367\n",
      "Epoch 8/20\n",
      "1/1 [==============================] - 0s 23ms/step - loss: 67787360.0000 - root_mean_squared_error: 8233.3076 - val_loss: 94378352.0000 - val_root_mean_squared_error: 9714.8525\n",
      "Epoch 9/20\n",
      "1/1 [==============================] - 0s 23ms/step - loss: 78466632.0000 - root_mean_squared_error: 8858.1396 - val_loss: 60720688.0000 - val_root_mean_squared_error: 7792.3481\n",
      "Epoch 10/20\n",
      "1/1 [==============================] - 0s 23ms/step - loss: 48595800.0000 - root_mean_squared_error: 6971.0688 - val_loss: 14614597.0000 - val_root_mean_squared_error: 3822.9043\n",
      "Epoch 11/20\n",
      "1/1 [==============================] - ETA: 0s - loss: 10309953.0000 - root_mean_squared_error: 3210.9116"
     ]
    },
    {
     "name": "stderr",
     "output_type": "stream",
     "text": [
      "WARNING:absl:Found untraced functions such as lstm_cell_2_layer_call_fn, lstm_cell_2_layer_call_and_return_conditional_losses while saving (showing 2 of 2). These functions will not be directly callable after loading.\n"
     ]
    },
    {
     "name": "stdout",
     "output_type": "stream",
     "text": [
      "INFO:tensorflow:Assets written to: model1/assets\n"
     ]
    },
    {
     "name": "stderr",
     "output_type": "stream",
     "text": [
      "INFO:tensorflow:Assets written to: model1/assets\n"
     ]
    },
    {
     "name": "stdout",
     "output_type": "stream",
     "text": [
      "1/1 [==============================] - 3s 3s/step - loss: 10309953.0000 - root_mean_squared_error: 3210.9116 - val_loss: 1535935.0000 - val_root_mean_squared_error: 1239.3285\n",
      "Epoch 12/20\n",
      "1/1 [==============================] - 0s 22ms/step - loss: 7181851.5000 - root_mean_squared_error: 2679.8977 - val_loss: 26336720.0000 - val_root_mean_squared_error: 5131.9316\n",
      "Epoch 13/20\n",
      "1/1 [==============================] - 0s 22ms/step - loss: 39660308.0000 - root_mean_squared_error: 6297.6431 - val_loss: 30555044.0000 - val_root_mean_squared_error: 5527.6616\n",
      "Epoch 14/20\n",
      "1/1 [==============================] - 0s 23ms/step - loss: 44658276.0000 - root_mean_squared_error: 6682.6846 - val_loss: 7378102.0000 - val_root_mean_squared_error: 2716.2661\n",
      "Epoch 15/20\n",
      "1/1 [==============================] - 0s 22ms/step - loss: 15940850.0000 - root_mean_squared_error: 3992.5994 - val_loss: 1539218.5000 - val_root_mean_squared_error: 1240.6525\n",
      "Epoch 16/20\n",
      "1/1 [==============================] - 0s 22ms/step - loss: 2330278.2500 - root_mean_squared_error: 1526.5249 - val_loss: 19819084.0000 - val_root_mean_squared_error: 4451.8628\n",
      "Epoch 17/20\n",
      "1/1 [==============================] - 0s 24ms/step - loss: 14275032.0000 - root_mean_squared_error: 3778.2314 - val_loss: 36758856.0000 - val_root_mean_squared_error: 6062.9082\n",
      "Epoch 18/20\n",
      "1/1 [==============================] - 0s 23ms/step - loss: 28040764.0000 - root_mean_squared_error: 5295.3530 - val_loss: 35374804.0000 - val_root_mean_squared_error: 5947.6724\n",
      "Epoch 19/20\n",
      "1/1 [==============================] - 0s 23ms/step - loss: 26883728.0000 - root_mean_squared_error: 5184.9521 - val_loss: 18597778.0000 - val_root_mean_squared_error: 4312.5142\n",
      "Epoch 20/20\n",
      "1/1 [==============================] - 0s 23ms/step - loss: 13328306.0000 - root_mean_squared_error: 3650.7952 - val_loss: 2631240.0000 - val_root_mean_squared_error: 1622.1097\n"
     ]
    },
    {
     "data": {
      "text/plain": [
       "<keras.callbacks.History at 0x7ff2353b51f0>"
      ]
     },
     "execution_count": 67,
     "metadata": {},
     "output_type": "execute_result"
    }
   ],
   "source": [
    "model1 = Sequential()\n",
    "model1.add(InputLayer((3, 1)))\n",
    "model1.add(LSTM(64))\n",
    "model1.add(Dense(8, 'relu'))\n",
    "model1.add(Dense(1, 'linear'))\n",
    "\n",
    "# model1.summary()\n",
    "\n",
    "cp1 = ModelCheckpoint('model1/', save_best_only=True)\n",
    "model1.compile(loss=MeanSquaredError(), optimizer=Adam(learning_rate=10), metrics=[RootMeanSquaredError()])\n",
    "\n",
    "model1.fit(X_train1, y_train1, validation_data=(X_val1, y_val1), epochs=20, callbacks=[cp1])"
   ]
  },
  {
   "cell_type": "code",
   "execution_count": 494,
   "metadata": {},
   "outputs": [],
   "source": [
    "\n",
    "\n",
    "# parameters = {'learning_rate':(0.001,0.01,0.1,1,10,100), 'optimizer':('Adam')}\n",
    "# model1_params = GridSearchCV(model1, parameters)\n",
    "# model1_params.fit(X_train1, y_train1,scoring=accuracy)"
   ]
  },
  {
   "cell_type": "code",
   "execution_count": 68,
   "metadata": {
    "collapsed": false,
    "pycharm": {
     "name": "#%%\n"
    }
   },
   "outputs": [],
   "source": [
    "from tensorflow.keras.models import load_model\n",
    "model1 = load_model('model1/')"
   ]
  },
  {
   "cell_type": "code",
   "execution_count": 69,
   "metadata": {
    "collapsed": false,
    "pycharm": {
     "name": "#%%\n"
    }
   },
   "outputs": [
    {
     "name": "stdout",
     "output_type": "stream",
     "text": [
      "1/1 [==============================] - 0s 365ms/step\n"
     ]
    },
    {
     "data": {
      "text/html": [
       "<div>\n",
       "<style scoped>\n",
       "    .dataframe tbody tr th:only-of-type {\n",
       "        vertical-align: middle;\n",
       "    }\n",
       "\n",
       "    .dataframe tbody tr th {\n",
       "        vertical-align: top;\n",
       "    }\n",
       "\n",
       "    .dataframe thead th {\n",
       "        text-align: right;\n",
       "    }\n",
       "</style>\n",
       "<table border=\"1\" class=\"dataframe\">\n",
       "  <thead>\n",
       "    <tr style=\"text-align: right;\">\n",
       "      <th></th>\n",
       "      <th>Train Predictions</th>\n",
       "      <th>Actuals</th>\n",
       "    </tr>\n",
       "  </thead>\n",
       "  <tbody>\n",
       "    <tr>\n",
       "      <th>0</th>\n",
       "      <td>25388.84375</td>\n",
       "      <td>21453.0</td>\n",
       "    </tr>\n",
       "    <tr>\n",
       "      <th>1</th>\n",
       "      <td>25388.84375</td>\n",
       "      <td>21926.0</td>\n",
       "    </tr>\n",
       "    <tr>\n",
       "      <th>2</th>\n",
       "      <td>25388.84375</td>\n",
       "      <td>24945.0</td>\n",
       "    </tr>\n",
       "    <tr>\n",
       "      <th>3</th>\n",
       "      <td>25388.84375</td>\n",
       "      <td>24365.0</td>\n",
       "    </tr>\n",
       "  </tbody>\n",
       "</table>\n",
       "</div>"
      ],
      "text/plain": [
       "   Train Predictions  Actuals\n",
       "0        25388.84375  21453.0\n",
       "1        25388.84375  21926.0\n",
       "2        25388.84375  24945.0\n",
       "3        25388.84375  24365.0"
      ]
     },
     "execution_count": 69,
     "metadata": {},
     "output_type": "execute_result"
    }
   ],
   "source": [
    "train_predictions = model1.predict(X_train1).flatten()\n",
    "train_results = pd.DataFrame(data={'Train Predictions':train_predictions, 'Actuals':y_train1})\n",
    "train_results"
   ]
  },
  {
   "cell_type": "code",
   "execution_count": 70,
   "metadata": {},
   "outputs": [
    {
     "data": {
      "text/plain": [
       "2216.59375"
      ]
     },
     "execution_count": 70,
     "metadata": {},
     "output_type": "execute_result"
    }
   ],
   "source": [
    "mean_absolute_error(y_train1,train_predictions)"
   ]
  },
  {
   "cell_type": "code",
   "execution_count": 71,
   "metadata": {
    "collapsed": false,
    "pycharm": {
     "name": "#%%\n"
    }
   },
   "outputs": [
    {
     "data": {
      "text/plain": [
       "<matplotlib.legend.Legend at 0x7ff251161f70>"
      ]
     },
     "execution_count": 71,
     "metadata": {},
     "output_type": "execute_result"
    },
    {
     "data": {
      "image/png": "[encoded data removed]",
      "text/plain": [
       "<Figure size 432x288 with 1 Axes>"
      ]
     },
     "metadata": {
      "needs_background": "light"
     },
     "output_type": "display_data"
    }
   ],
   "source": [
    "plt.plot(train_results['Train Predictions'])\n",
    "plt.plot(train_results['Actuals'])\n",
    "plt.legend(['Prediction', 'Actual'], loc='lower right')"
   ]
  },
  {
   "cell_type": "code",
   "execution_count": 72,
   "metadata": {
    "collapsed": false,
    "pycharm": {
     "name": "#%%\n"
    }
   },
   "outputs": [
    {
     "name": "stdout",
     "output_type": "stream",
     "text": [
      "1/1 [==============================] - 0s 15ms/step\n"
     ]
    },
    {
     "data": {
      "text/html": [
       "<div>\n",
       "<style scoped>\n",
       "    .dataframe tbody tr th:only-of-type {\n",
       "        vertical-align: middle;\n",
       "    }\n",
       "\n",
       "    .dataframe tbody tr th {\n",
       "        vertical-align: top;\n",
       "    }\n",
       "\n",
       "    .dataframe thead th {\n",
       "        text-align: right;\n",
       "    }\n",
       "</style>\n",
       "<table border=\"1\" class=\"dataframe\">\n",
       "  <thead>\n",
       "    <tr style=\"text-align: right;\">\n",
       "      <th></th>\n",
       "      <th>Val Predictions</th>\n",
       "      <th>Actuals</th>\n",
       "    </tr>\n",
       "  </thead>\n",
       "  <tbody>\n",
       "    <tr>\n",
       "      <th>0</th>\n",
       "      <td>25388.84375</td>\n",
       "      <td>24293.0</td>\n",
       "    </tr>\n",
       "    <tr>\n",
       "      <th>1</th>\n",
       "      <td>25388.84375</td>\n",
       "      <td>24021.0</td>\n",
       "    </tr>\n",
       "  </tbody>\n",
       "</table>\n",
       "</div>"
      ],
      "text/plain": [
       "   Val Predictions  Actuals\n",
       "0      25388.84375  24293.0\n",
       "1      25388.84375  24021.0"
      ]
     },
     "execution_count": 72,
     "metadata": {},
     "output_type": "execute_result"
    }
   ],
   "source": [
    "val_predictions = model1.predict(X_val1).flatten()\n",
    "val_results = pd.DataFrame(data={'Val Predictions':val_predictions, 'Actuals':y_val1})\n",
    "val_results"
   ]
  },
  {
   "cell_type": "code",
   "execution_count": 73,
   "metadata": {
    "collapsed": false,
    "pycharm": {
     "name": "#%%\n"
    }
   },
   "outputs": [],
   "source": [
    "# plt.plot(val_results['Val Predictions'])\n",
    "# plt.plot(val_results['Actuals'])"
   ]
  },
  {
   "cell_type": "code",
   "execution_count": 74,
   "metadata": {
    "collapsed": false,
    "pycharm": {
     "name": "#%%\n"
    }
   },
   "outputs": [
    {
     "name": "stdout",
     "output_type": "stream",
     "text": [
      "1/1 [==============================] - 0s 15ms/step\n"
     ]
    },
    {
     "data": {
      "text/html": [
       "<div>\n",
       "<style scoped>\n",
       "    .dataframe tbody tr th:only-of-type {\n",
       "        vertical-align: middle;\n",
       "    }\n",
       "\n",
       "    .dataframe tbody tr th {\n",
       "        vertical-align: top;\n",
       "    }\n",
       "\n",
       "    .dataframe thead th {\n",
       "        text-align: right;\n",
       "    }\n",
       "</style>\n",
       "<table border=\"1\" class=\"dataframe\">\n",
       "  <thead>\n",
       "    <tr style=\"text-align: right;\">\n",
       "      <th></th>\n",
       "      <th>Test Predictions</th>\n",
       "      <th>Actuals</th>\n",
       "    </tr>\n",
       "  </thead>\n",
       "  <tbody>\n",
       "    <tr>\n",
       "      <th>0</th>\n",
       "      <td>25388.84375</td>\n",
       "      <td>23997.0</td>\n",
       "    </tr>\n",
       "  </tbody>\n",
       "</table>\n",
       "</div>"
      ],
      "text/plain": [
       "   Test Predictions  Actuals\n",
       "0       25388.84375  23997.0"
      ]
     },
     "execution_count": 74,
     "metadata": {},
     "output_type": "execute_result"
    }
   ],
   "source": [
    "test_predictions = model1.predict(X_test1).flatten()\n",
    "test_results = pd.DataFrame(data={'Test Predictions':test_predictions, 'Actuals':y_test1})\n",
    "test_results"
   ]
  },
  {
   "cell_type": "code",
   "execution_count": 75,
   "metadata": {},
   "outputs": [
    {
     "name": "stdout",
     "output_type": "stream",
     "text": [
      "dict_keys(['loss', 'root_mean_squared_error', 'val_loss', 'val_root_mean_squared_error'])\n"
     ]
    },
    {
     "data": {
      "image/png": "[encoded data removed]",
      "text/plain": [
       "<Figure size 576x432 with 1 Axes>"
      ]
     },
     "metadata": {
      "needs_background": "light"
     },
     "output_type": "display_data"
    }
   ],
   "source": [
    "history = model1.fit(X_train1, y_train1, validation_data=(X_val1, y_val1), epochs=100, verbose=0)  #..., callbacks=[cp1], verbose=0)\n",
    "print(history.history.keys())\n",
    "\n",
    "import matplotlib.pylab as plt\n",
    "from matplotlib.pyplot import figure\n",
    "figure(figsize=(8, 6))\n",
    "plt.plot(history.history['loss'])\n",
    "plt.plot(history.history['val_loss'])\n",
    "plt.title('model loss')\n",
    "plt.ylabel('loss')\n",
    "plt.xlabel('epoch')\n",
    "plt.legend(['train', 'test'], loc='upper left')\n",
    "plt.show()"
   ]
  },
  {
   "cell_type": "code",
   "execution_count": 76,
   "metadata": {
    "collapsed": false,
    "pycharm": {
     "name": "#%%\n"
    }
   },
   "outputs": [],
   "source": [
    "# from sklearn.metrics import mean_squared_error as mse\n",
    "\n",
    "# def plot_predictions1(model, X, y, start=0, end=100):\n",
    "#   predictions = model.predict(X).flatten()\n",
    "#   df = pd.DataFrame(data={'Predictions':predictions, 'Actuals':y})\n",
    "#   plt.plot(df['Predictions'])\n",
    "#   plt.plot(df['Actuals'])\n",
    "#   return df, mse(y, predictions)"
   ]
  },
  {
   "cell_type": "code",
   "execution_count": 77,
   "metadata": {
    "collapsed": false,
    "pycharm": {
     "name": "#%%\n"
    }
   },
   "outputs": [],
   "source": [
    "# plot_predictions1(model1, X_test1, y_test1)"
   ]
  },
  {
   "cell_type": "code",
   "execution_count": 78,
   "metadata": {
    "collapsed": false,
    "pycharm": {
     "name": "#%%\n"
    }
   },
   "outputs": [
    {
     "name": "stdout",
     "output_type": "stream",
     "text": [
      "Model: \"sequential_4\"\n",
      "_________________________________________________________________\n",
      " Layer (type)                Output Shape              Param #   \n",
      "=================================================================\n",
      " conv1d_1 (Conv1D)           (None, 2, 64)             192       \n",
      "                                                                 \n",
      " flatten_1 (Flatten)         (None, 128)               0         \n",
      "                                                                 \n",
      " dense_8 (Dense)             (None, 8)                 1032      \n",
      "                                                                 \n",
      " dense_9 (Dense)             (None, 1)                 9         \n",
      "                                                                 \n",
      "=================================================================\n",
      "Total params: 1,233\n",
      "Trainable params: 1,233\n",
      "Non-trainable params: 0\n",
      "_________________________________________________________________\n"
     ]
    }
   ],
   "source": [
    "model2 = Sequential()\n",
    "model2.add(InputLayer((3, 1)))\n",
    "model2.add(Conv1D(64, kernel_size=2))\n",
    "model2.add(Flatten())\n",
    "model2.add(Dense(8, 'relu'))\n",
    "model2.add(Dense(1, 'linear'))\n",
    "\n",
    "model2.summary()"
   ]
  },
  {
   "cell_type": "code",
   "execution_count": 79,
   "metadata": {
    "collapsed": false,
    "pycharm": {
     "name": "#%%\n"
    }
   },
   "outputs": [],
   "source": [
    "cp2 = ModelCheckpoint('model2/', save_best_only=True)\n",
    "model2.compile(loss=MeanSquaredError(), optimizer=Adam(learning_rate=10), metrics=[RootMeanSquaredError()])"
   ]
  },
  {
   "cell_type": "code",
   "execution_count": 80,
   "metadata": {
    "collapsed": false,
    "pycharm": {
     "name": "#%%\n"
    }
   },
   "outputs": [
    {
     "name": "stdout",
     "output_type": "stream",
     "text": [
      "Epoch 1/100\n",
      "1/1 [==============================] - ETA: 0s - loss: 358993952.0000 - root_mean_squared_error: 18947.1348"
     ]
    },
    {
     "name": "stderr",
     "output_type": "stream",
     "text": [
      "WARNING:absl:Found untraced functions such as _jit_compiled_convolution_op while saving (showing 1 of 1). These functions will not be directly callable after loading.\n"
     ]
    },
    {
     "name": "stdout",
     "output_type": "stream",
     "text": [
      "INFO:tensorflow:Assets written to: model2/assets\n"
     ]
    },
    {
     "name": "stderr",
     "output_type": "stream",
     "text": [
      "INFO:tensorflow:Assets written to: model2/assets\n"
     ]
    },
    {
     "name": "stdout",
     "output_type": "stream",
     "text": [
      "1/1 [==============================] - 1s 812ms/step - loss: 358993952.0000 - root_mean_squared_error: 18947.1348 - val_loss: 9440227615689408512.0000 - val_root_mean_squared_error: 3072495360.0000\n",
      "Epoch 2/100\n",
      "1/1 [==============================] - 0s 20ms/step - loss: 7248173614590066688.0000 - root_mean_squared_error: 2692243200.0000 - val_loss: 692587194595078569984.0000 - val_root_mean_squared_error: 26317051904.0000\n",
      "Epoch 3/100\n",
      "1/1 [==============================] - ETA: 0s - loss: 531644025036576129024.0000 - root_mean_squared_error: 23057408000.0000"
     ]
    },
    {
     "name": "stderr",
     "output_type": "stream",
     "text": [
      "WARNING:absl:Found untraced functions such as _jit_compiled_convolution_op while saving (showing 1 of 1). These functions will not be directly callable after loading.\n"
     ]
    },
    {
     "name": "stdout",
     "output_type": "stream",
     "text": [
      "INFO:tensorflow:Assets written to: model2/assets\n"
     ]
    },
    {
     "name": "stderr",
     "output_type": "stream",
     "text": [
      "INFO:tensorflow:Assets written to: model2/assets\n"
     ]
    },
    {
     "name": "stdout",
     "output_type": "stream",
     "text": [
      "1/1 [==============================] - 0s 438ms/step - loss: 531644025036576129024.0000 - root_mean_squared_error: 23057408000.0000 - val_loss: 583794304.0000 - val_root_mean_squared_error: 24161.8359\n",
      "Epoch 4/100\n",
      "1/1 [==============================] - 0s 20ms/step - loss: 539428096.0000 - root_mean_squared_error: 23225.5918 - val_loss: nan - val_root_mean_squared_error: nan\n",
      "Epoch 5/100\n",
      "1/1 [==============================] - 0s 20ms/step - loss: nan - root_mean_squared_error: nan - val_loss: nan - val_root_mean_squared_error: nan\n",
      "Epoch 6/100\n",
      "1/1 [==============================] - 0s 20ms/step - loss: nan - root_mean_squared_error: nan - val_loss: nan - val_root_mean_squared_error: nan\n",
      "Epoch 7/100\n",
      "1/1 [==============================] - 0s 20ms/step - loss: nan - root_mean_squared_error: nan - val_loss: nan - val_root_mean_squared_error: nan\n",
      "Epoch 8/100\n",
      "1/1 [==============================] - 0s 20ms/step - loss: nan - root_mean_squared_error: nan - val_loss: nan - val_root_mean_squared_error: nan\n",
      "Epoch 9/100\n",
      "1/1 [==============================] - 0s 20ms/step - loss: nan - root_mean_squared_error: nan - val_loss: nan - val_root_mean_squared_error: nan\n",
      "Epoch 10/100\n",
      "1/1 [==============================] - 0s 20ms/step - loss: nan - root_mean_squared_error: nan - val_loss: nan - val_root_mean_squared_error: nan\n",
      "Epoch 11/100\n",
      "1/1 [==============================] - 0s 20ms/step - loss: nan - root_mean_squared_error: nan - val_loss: nan - val_root_mean_squared_error: nan\n",
      "Epoch 12/100\n",
      "1/1 [==============================] - 0s 20ms/step - loss: nan - root_mean_squared_error: nan - val_loss: nan - val_root_mean_squared_error: nan\n",
      "Epoch 13/100\n",
      "1/1 [==============================] - 0s 21ms/step - loss: nan - root_mean_squared_error: nan - val_loss: nan - val_root_mean_squared_error: nan\n",
      "Epoch 14/100\n",
      "1/1 [==============================] - 0s 20ms/step - loss: nan - root_mean_squared_error: nan - val_loss: nan - val_root_mean_squared_error: nan\n",
      "Epoch 15/100\n",
      "1/1 [==============================] - 0s 20ms/step - loss: nan - root_mean_squared_error: nan - val_loss: nan - val_root_mean_squared_error: nan\n",
      "Epoch 16/100\n",
      "1/1 [==============================] - 0s 20ms/step - loss: nan - root_mean_squared_error: nan - val_loss: nan - val_root_mean_squared_error: nan\n",
      "Epoch 17/100\n",
      "1/1 [==============================] - 0s 20ms/step - loss: nan - root_mean_squared_error: nan - val_loss: nan - val_root_mean_squared_error: nan\n",
      "Epoch 18/100\n",
      "1/1 [==============================] - 0s 20ms/step - loss: nan - root_mean_squared_error: nan - val_loss: nan - val_root_mean_squared_error: nan\n",
      "Epoch 19/100\n",
      "1/1 [==============================] - 0s 21ms/step - loss: nan - root_mean_squared_error: nan - val_loss: nan - val_root_mean_squared_error: nan\n",
      "Epoch 20/100\n",
      "1/1 [==============================] - 0s 20ms/step - loss: nan - root_mean_squared_error: nan - val_loss: nan - val_root_mean_squared_error: nan\n",
      "Epoch 21/100\n",
      "1/1 [==============================] - 0s 20ms/step - loss: nan - root_mean_squared_error: nan - val_loss: nan - val_root_mean_squared_error: nan\n",
      "Epoch 22/100\n",
      "1/1 [==============================] - 0s 21ms/step - loss: nan - root_mean_squared_error: nan - val_loss: nan - val_root_mean_squared_error: nan\n",
      "Epoch 23/100\n",
      "1/1 [==============================] - 0s 21ms/step - loss: nan - root_mean_squared_error: nan - val_loss: nan - val_root_mean_squared_error: nan\n",
      "Epoch 24/100\n",
      "1/1 [==============================] - 0s 20ms/step - loss: nan - root_mean_squared_error: nan - val_loss: nan - val_root_mean_squared_error: nan\n",
      "Epoch 25/100\n",
      "1/1 [==============================] - 0s 20ms/step - loss: nan - root_mean_squared_error: nan - val_loss: nan - val_root_mean_squared_error: nan\n",
      "Epoch 26/100\n",
      "1/1 [==============================] - 0s 20ms/step - loss: nan - root_mean_squared_error: nan - val_loss: nan - val_root_mean_squared_error: nan\n",
      "Epoch 27/100\n",
      "1/1 [==============================] - 0s 21ms/step - loss: nan - root_mean_squared_error: nan - val_loss: nan - val_root_mean_squared_error: nan\n",
      "Epoch 28/100\n",
      "1/1 [==============================] - 0s 20ms/step - loss: nan - root_mean_squared_error: nan - val_loss: nan - val_root_mean_squared_error: nan\n",
      "Epoch 29/100\n",
      "1/1 [==============================] - 0s 20ms/step - loss: nan - root_mean_squared_error: nan - val_loss: nan - val_root_mean_squared_error: nan\n",
      "Epoch 30/100\n",
      "1/1 [==============================] - 0s 20ms/step - loss: nan - root_mean_squared_error: nan - val_loss: nan - val_root_mean_squared_error: nan\n",
      "Epoch 31/100\n",
      "1/1 [==============================] - 0s 20ms/step - loss: nan - root_mean_squared_error: nan - val_loss: nan - val_root_mean_squared_error: nan\n",
      "Epoch 32/100\n",
      "1/1 [==============================] - 0s 21ms/step - loss: nan - root_mean_squared_error: nan - val_loss: nan - val_root_mean_squared_error: nan\n",
      "Epoch 33/100\n",
      "1/1 [==============================] - 0s 20ms/step - loss: nan - root_mean_squared_error: nan - val_loss: nan - val_root_mean_squared_error: nan\n",
      "Epoch 34/100\n",
      "1/1 [==============================] - 0s 20ms/step - loss: nan - root_mean_squared_error: nan - val_loss: nan - val_root_mean_squared_error: nan\n",
      "Epoch 35/100\n",
      "1/1 [==============================] - 0s 21ms/step - loss: nan - root_mean_squared_error: nan - val_loss: nan - val_root_mean_squared_error: nan\n",
      "Epoch 36/100\n",
      "1/1 [==============================] - 0s 20ms/step - loss: nan - root_mean_squared_error: nan - val_loss: nan - val_root_mean_squared_error: nan\n",
      "Epoch 37/100\n",
      "1/1 [==============================] - 0s 21ms/step - loss: nan - root_mean_squared_error: nan - val_loss: nan - val_root_mean_squared_error: nan\n",
      "Epoch 38/100\n",
      "1/1 [==============================] - 0s 20ms/step - loss: nan - root_mean_squared_error: nan - val_loss: nan - val_root_mean_squared_error: nan\n",
      "Epoch 39/100\n",
      "1/1 [==============================] - 0s 20ms/step - loss: nan - root_mean_squared_error: nan - val_loss: nan - val_root_mean_squared_error: nan\n",
      "Epoch 40/100\n",
      "1/1 [==============================] - 0s 20ms/step - loss: nan - root_mean_squared_error: nan - val_loss: nan - val_root_mean_squared_error: nan\n",
      "Epoch 41/100\n",
      "1/1 [==============================] - 0s 20ms/step - loss: nan - root_mean_squared_error: nan - val_loss: nan - val_root_mean_squared_error: nan\n",
      "Epoch 42/100\n",
      "1/1 [==============================] - 0s 20ms/step - loss: nan - root_mean_squared_error: nan - val_loss: nan - val_root_mean_squared_error: nan\n",
      "Epoch 43/100\n",
      "1/1 [==============================] - 0s 20ms/step - loss: nan - root_mean_squared_error: nan - val_loss: nan - val_root_mean_squared_error: nan\n",
      "Epoch 44/100\n",
      "1/1 [==============================] - 0s 21ms/step - loss: nan - root_mean_squared_error: nan - val_loss: nan - val_root_mean_squared_error: nan\n",
      "Epoch 45/100\n",
      "1/1 [==============================] - 0s 20ms/step - loss: nan - root_mean_squared_error: nan - val_loss: nan - val_root_mean_squared_error: nan\n",
      "Epoch 46/100\n",
      "1/1 [==============================] - 0s 20ms/step - loss: nan - root_mean_squared_error: nan - val_loss: nan - val_root_mean_squared_error: nan\n",
      "Epoch 47/100\n",
      "1/1 [==============================] - 0s 20ms/step - loss: nan - root_mean_squared_error: nan - val_loss: nan - val_root_mean_squared_error: nan\n",
      "Epoch 48/100\n",
      "1/1 [==============================] - 0s 21ms/step - loss: nan - root_mean_squared_error: nan - val_loss: nan - val_root_mean_squared_error: nan\n",
      "Epoch 49/100\n",
      "1/1 [==============================] - 0s 20ms/step - loss: nan - root_mean_squared_error: nan - val_loss: nan - val_root_mean_squared_error: nan\n",
      "Epoch 50/100\n",
      "1/1 [==============================] - 0s 20ms/step - loss: nan - root_mean_squared_error: nan - val_loss: nan - val_root_mean_squared_error: nan\n",
      "Epoch 51/100\n",
      "1/1 [==============================] - 0s 20ms/step - loss: nan - root_mean_squared_error: nan - val_loss: nan - val_root_mean_squared_error: nan\n",
      "Epoch 52/100\n",
      "1/1 [==============================] - 0s 20ms/step - loss: nan - root_mean_squared_error: nan - val_loss: nan - val_root_mean_squared_error: nan\n",
      "Epoch 53/100\n",
      "1/1 [==============================] - 0s 21ms/step - loss: nan - root_mean_squared_error: nan - val_loss: nan - val_root_mean_squared_error: nan\n",
      "Epoch 54/100\n",
      "1/1 [==============================] - 0s 21ms/step - loss: nan - root_mean_squared_error: nan - val_loss: nan - val_root_mean_squared_error: nan\n",
      "Epoch 55/100\n",
      "1/1 [==============================] - 0s 21ms/step - loss: nan - root_mean_squared_error: nan - val_loss: nan - val_root_mean_squared_error: nan\n",
      "Epoch 56/100\n",
      "1/1 [==============================] - 0s 20ms/step - loss: nan - root_mean_squared_error: nan - val_loss: nan - val_root_mean_squared_error: nan\n",
      "Epoch 57/100\n",
      "1/1 [==============================] - 0s 20ms/step - loss: nan - root_mean_squared_error: nan - val_loss: nan - val_root_mean_squared_error: nan\n",
      "Epoch 58/100\n",
      "1/1 [==============================] - 0s 21ms/step - loss: nan - root_mean_squared_error: nan - val_loss: nan - val_root_mean_squared_error: nan\n",
      "Epoch 59/100\n",
      "1/1 [==============================] - 0s 20ms/step - loss: nan - root_mean_squared_error: nan - val_loss: nan - val_root_mean_squared_error: nan\n",
      "Epoch 60/100\n",
      "1/1 [==============================] - 0s 20ms/step - loss: nan - root_mean_squared_error: nan - val_loss: nan - val_root_mean_squared_error: nan\n",
      "Epoch 61/100\n",
      "1/1 [==============================] - 0s 21ms/step - loss: nan - root_mean_squared_error: nan - val_loss: nan - val_root_mean_squared_error: nan\n",
      "Epoch 62/100\n",
      "1/1 [==============================] - 0s 20ms/step - loss: nan - root_mean_squared_error: nan - val_loss: nan - val_root_mean_squared_error: nan\n",
      "Epoch 63/100\n",
      "1/1 [==============================] - 0s 20ms/step - loss: nan - root_mean_squared_error: nan - val_loss: nan - val_root_mean_squared_error: nan\n",
      "Epoch 64/100\n",
      "1/1 [==============================] - 0s 21ms/step - loss: nan - root_mean_squared_error: nan - val_loss: nan - val_root_mean_squared_error: nan\n",
      "Epoch 65/100\n",
      "1/1 [==============================] - 0s 20ms/step - loss: nan - root_mean_squared_error: nan - val_loss: nan - val_root_mean_squared_error: nan\n",
      "Epoch 66/100\n",
      "1/1 [==============================] - 0s 22ms/step - loss: nan - root_mean_squared_error: nan - val_loss: nan - val_root_mean_squared_error: nan\n",
      "Epoch 67/100\n",
      "1/1 [==============================] - 0s 20ms/step - loss: nan - root_mean_squared_error: nan - val_loss: nan - val_root_mean_squared_error: nan\n",
      "Epoch 68/100\n",
      "1/1 [==============================] - 0s 20ms/step - loss: nan - root_mean_squared_error: nan - val_loss: nan - val_root_mean_squared_error: nan\n",
      "Epoch 69/100\n",
      "1/1 [==============================] - 0s 20ms/step - loss: nan - root_mean_squared_error: nan - val_loss: nan - val_root_mean_squared_error: nan\n",
      "Epoch 70/100\n",
      "1/1 [==============================] - 0s 20ms/step - loss: nan - root_mean_squared_error: nan - val_loss: nan - val_root_mean_squared_error: nan\n",
      "Epoch 71/100\n",
      "1/1 [==============================] - 0s 20ms/step - loss: nan - root_mean_squared_error: nan - val_loss: nan - val_root_mean_squared_error: nan\n",
      "Epoch 72/100\n",
      "1/1 [==============================] - 0s 20ms/step - loss: nan - root_mean_squared_error: nan - val_loss: nan - val_root_mean_squared_error: nan\n",
      "Epoch 73/100\n",
      "1/1 [==============================] - 0s 20ms/step - loss: nan - root_mean_squared_error: nan - val_loss: nan - val_root_mean_squared_error: nan\n",
      "Epoch 74/100\n",
      "1/1 [==============================] - 0s 20ms/step - loss: nan - root_mean_squared_error: nan - val_loss: nan - val_root_mean_squared_error: nan\n",
      "Epoch 75/100\n",
      "1/1 [==============================] - 0s 20ms/step - loss: nan - root_mean_squared_error: nan - val_loss: nan - val_root_mean_squared_error: nan\n",
      "Epoch 76/100\n",
      "1/1 [==============================] - 0s 20ms/step - loss: nan - root_mean_squared_error: nan - val_loss: nan - val_root_mean_squared_error: nan\n",
      "Epoch 77/100\n",
      "1/1 [==============================] - 0s 20ms/step - loss: nan - root_mean_squared_error: nan - val_loss: nan - val_root_mean_squared_error: nan\n",
      "Epoch 78/100\n",
      "1/1 [==============================] - 0s 20ms/step - loss: nan - root_mean_squared_error: nan - val_loss: nan - val_root_mean_squared_error: nan\n",
      "Epoch 79/100\n",
      "1/1 [==============================] - 0s 20ms/step - loss: nan - root_mean_squared_error: nan - val_loss: nan - val_root_mean_squared_error: nan\n",
      "Epoch 80/100\n",
      "1/1 [==============================] - 0s 20ms/step - loss: nan - root_mean_squared_error: nan - val_loss: nan - val_root_mean_squared_error: nan\n",
      "Epoch 81/100\n",
      "1/1 [==============================] - 0s 20ms/step - loss: nan - root_mean_squared_error: nan - val_loss: nan - val_root_mean_squared_error: nan\n",
      "Epoch 82/100\n",
      "1/1 [==============================] - 0s 20ms/step - loss: nan - root_mean_squared_error: nan - val_loss: nan - val_root_mean_squared_error: nan\n",
      "Epoch 83/100\n",
      "1/1 [==============================] - 0s 21ms/step - loss: nan - root_mean_squared_error: nan - val_loss: nan - val_root_mean_squared_error: nan\n",
      "Epoch 84/100\n",
      "1/1 [==============================] - 0s 20ms/step - loss: nan - root_mean_squared_error: nan - val_loss: nan - val_root_mean_squared_error: nan\n",
      "Epoch 85/100\n",
      "1/1 [==============================] - 0s 20ms/step - loss: nan - root_mean_squared_error: nan - val_loss: nan - val_root_mean_squared_error: nan\n",
      "Epoch 86/100\n",
      "1/1 [==============================] - 0s 20ms/step - loss: nan - root_mean_squared_error: nan - val_loss: nan - val_root_mean_squared_error: nan\n",
      "Epoch 87/100\n",
      "1/1 [==============================] - 0s 20ms/step - loss: nan - root_mean_squared_error: nan - val_loss: nan - val_root_mean_squared_error: nan\n",
      "Epoch 88/100\n",
      "1/1 [==============================] - 0s 20ms/step - loss: nan - root_mean_squared_error: nan - val_loss: nan - val_root_mean_squared_error: nan\n",
      "Epoch 89/100\n",
      "1/1 [==============================] - 0s 20ms/step - loss: nan - root_mean_squared_error: nan - val_loss: nan - val_root_mean_squared_error: nan\n",
      "Epoch 90/100\n",
      "1/1 [==============================] - 0s 20ms/step - loss: nan - root_mean_squared_error: nan - val_loss: nan - val_root_mean_squared_error: nan\n",
      "Epoch 91/100\n",
      "1/1 [==============================] - 0s 21ms/step - loss: nan - root_mean_squared_error: nan - val_loss: nan - val_root_mean_squared_error: nan\n",
      "Epoch 92/100\n",
      "1/1 [==============================] - 0s 20ms/step - loss: nan - root_mean_squared_error: nan - val_loss: nan - val_root_mean_squared_error: nan\n",
      "Epoch 93/100\n",
      "1/1 [==============================] - 0s 20ms/step - loss: nan - root_mean_squared_error: nan - val_loss: nan - val_root_mean_squared_error: nan\n",
      "Epoch 94/100\n",
      "1/1 [==============================] - 0s 22ms/step - loss: nan - root_mean_squared_error: nan - val_loss: nan - val_root_mean_squared_error: nan\n",
      "Epoch 95/100\n",
      "1/1 [==============================] - 0s 50ms/step - loss: nan - root_mean_squared_error: nan - val_loss: nan - val_root_mean_squared_error: nan\n",
      "Epoch 96/100\n",
      "1/1 [==============================] - 0s 39ms/step - loss: nan - root_mean_squared_error: nan - val_loss: nan - val_root_mean_squared_error: nan\n",
      "Epoch 97/100\n",
      "1/1 [==============================] - 0s 23ms/step - loss: nan - root_mean_squared_error: nan - val_loss: nan - val_root_mean_squared_error: nan\n",
      "Epoch 98/100\n",
      "1/1 [==============================] - 0s 24ms/step - loss: nan - root_mean_squared_error: nan - val_loss: nan - val_root_mean_squared_error: nan\n",
      "Epoch 99/100\n",
      "1/1 [==============================] - 0s 21ms/step - loss: nan - root_mean_squared_error: nan - val_loss: nan - val_root_mean_squared_error: nan\n",
      "Epoch 100/100\n",
      "1/1 [==============================] - 0s 21ms/step - loss: nan - root_mean_squared_error: nan - val_loss: nan - val_root_mean_squared_error: nan\n"
     ]
    },
    {
     "data": {
      "text/plain": [
       "<keras.callbacks.History at 0x7ff235f77a60>"
      ]
     },
     "execution_count": 80,
     "metadata": {},
     "output_type": "execute_result"
    }
   ],
   "source": [
    "model2.fit(X_train1, y_train1, validation_data=(X_val1, y_val1), epochs=100, callbacks=[cp2])"
   ]
  },
  {
   "cell_type": "code",
   "execution_count": 81,
   "metadata": {},
   "outputs": [
    {
     "name": "stdout",
     "output_type": "stream",
     "text": [
      "WARNING:tensorflow:5 out of the last 11 calls to <function Model.make_predict_function.<locals>.predict_function at 0x7ff237605e50> triggered tf.function retracing. Tracing is expensive and the excessive number of tracings could be due to (1) creating @tf.function repeatedly in a loop, (2) passing tensors with different shapes, (3) passing Python objects instead of tensors. For (1), please define your @tf.function outside of the loop. For (2), @tf.function has reduce_retracing=True option that can avoid unnecessary retracing. For (3), please refer to https://www.tensorflow.org/guide/function#controlling_retracing and https://www.tensorflow.org/api_docs/python/tf/function for  more details.\n"
     ]
    },
    {
     "name": "stderr",
     "output_type": "stream",
     "text": [
      "WARNING:tensorflow:5 out of the last 11 calls to <function Model.make_predict_function.<locals>.predict_function at 0x7ff237605e50> triggered tf.function retracing. Tracing is expensive and the excessive number of tracings could be due to (1) creating @tf.function repeatedly in a loop, (2) passing tensors with different shapes, (3) passing Python objects instead of tensors. For (1), please define your @tf.function outside of the loop. For (2), @tf.function has reduce_retracing=True option that can avoid unnecessary retracing. For (3), please refer to https://www.tensorflow.org/guide/function#controlling_retracing and https://www.tensorflow.org/api_docs/python/tf/function for  more details.\n"
     ]
    },
    {
     "name": "stdout",
     "output_type": "stream",
     "text": [
      "1/1 [==============================] - 0s 42ms/step\n"
     ]
    },
    {
     "data": {
      "text/html": [
       "<div>\n",
       "<style scoped>\n",
       "    .dataframe tbody tr th:only-of-type {\n",
       "        vertical-align: middle;\n",
       "    }\n",
       "\n",
       "    .dataframe tbody tr th {\n",
       "        vertical-align: top;\n",
       "    }\n",
       "\n",
       "    .dataframe thead th {\n",
       "        text-align: right;\n",
       "    }\n",
       "</style>\n",
       "<table border=\"1\" class=\"dataframe\">\n",
       "  <thead>\n",
       "    <tr style=\"text-align: right;\">\n",
       "      <th></th>\n",
       "      <th>Train Predictions</th>\n",
       "      <th>Actuals</th>\n",
       "    </tr>\n",
       "  </thead>\n",
       "  <tbody>\n",
       "    <tr>\n",
       "      <th>0</th>\n",
       "      <td>-4.453166</td>\n",
       "      <td>21453.0</td>\n",
       "    </tr>\n",
       "    <tr>\n",
       "      <th>1</th>\n",
       "      <td>-4.453166</td>\n",
       "      <td>21926.0</td>\n",
       "    </tr>\n",
       "    <tr>\n",
       "      <th>2</th>\n",
       "      <td>-4.453166</td>\n",
       "      <td>24945.0</td>\n",
       "    </tr>\n",
       "    <tr>\n",
       "      <th>3</th>\n",
       "      <td>-4.453166</td>\n",
       "      <td>24365.0</td>\n",
       "    </tr>\n",
       "  </tbody>\n",
       "</table>\n",
       "</div>"
      ],
      "text/plain": [
       "   Train Predictions  Actuals\n",
       "0          -4.453166  21453.0\n",
       "1          -4.453166  21926.0\n",
       "2          -4.453166  24945.0\n",
       "3          -4.453166  24365.0"
      ]
     },
     "execution_count": 81,
     "metadata": {},
     "output_type": "execute_result"
    }
   ],
   "source": [
    "model2 = load_model('model2/')\n",
    "train_predictions2 = model2.predict(X_train1).flatten()\n",
    "train_results2 = pd.DataFrame(data={'Train Predictions':train_predictions2, 'Actuals':y_train1})\n",
    "train_results2"
   ]
  },
  {
   "cell_type": "code",
   "execution_count": 82,
   "metadata": {},
   "outputs": [
    {
     "data": {
      "text/plain": [
       "<matplotlib.legend.Legend at 0x7ff2519affa0>"
      ]
     },
     "execution_count": 82,
     "metadata": {},
     "output_type": "execute_result"
    },
    {
     "data": {
      "image/png": "[encoded data removed]",
      "text/plain": [
       "<Figure size 432x288 with 1 Axes>"
      ]
     },
     "metadata": {
      "needs_background": "light"
     },
     "output_type": "display_data"
    }
   ],
   "source": [
    "plt.plot(train_results2['Train Predictions'])\n",
    "plt.plot(train_results2['Actuals'])\n",
    "plt.legend(['Prediction', 'Actual'], loc='lower right')"
   ]
  },
  {
   "cell_type": "code",
   "execution_count": 83,
   "metadata": {},
   "outputs": [
    {
     "name": "stdout",
     "output_type": "stream",
     "text": [
      "dict_keys(['loss', 'root_mean_squared_error', 'val_loss', 'val_root_mean_squared_error'])\n"
     ]
    },
    {
     "data": {
      "image/png": "[encoded data removed]",
      "text/plain": [
       "<Figure size 576x432 with 1 Axes>"
      ]
     },
     "metadata": {
      "needs_background": "light"
     },
     "output_type": "display_data"
    }
   ],
   "source": [
    "history = model2.fit(X_train1, y_train1, validation_data=(X_val1, y_val1), epochs=100, verbose=0)  #..., callbacks=[cp2], verbose=0)\n",
    "print(history.history.keys())\n",
    "\n",
    "import matplotlib.pylab as plt\n",
    "from matplotlib.pyplot import figure\n",
    "figure(figsize=(8, 6))\n",
    "plt.plot(history.history['loss'])\n",
    "plt.plot(history.history['val_loss'])\n",
    "plt.title('model loss')\n",
    "plt.ylabel('loss')\n",
    "plt.xlabel('epoch')\n",
    "plt.legend(['train', 'test'], loc='upper left')\n",
    "plt.show()"
   ]
  },
  {
   "cell_type": "code",
   "execution_count": 84,
   "metadata": {},
   "outputs": [
    {
     "name": "stdout",
     "output_type": "stream",
     "text": [
      "1/1 [==============================] - 0s 15ms/step\n"
     ]
    },
    {
     "data": {
      "text/html": [
       "<div>\n",
       "<style scoped>\n",
       "    .dataframe tbody tr th:only-of-type {\n",
       "        vertical-align: middle;\n",
       "    }\n",
       "\n",
       "    .dataframe tbody tr th {\n",
       "        vertical-align: top;\n",
       "    }\n",
       "\n",
       "    .dataframe thead th {\n",
       "        text-align: right;\n",
       "    }\n",
       "</style>\n",
       "<table border=\"1\" class=\"dataframe\">\n",
       "  <thead>\n",
       "    <tr style=\"text-align: right;\">\n",
       "      <th></th>\n",
       "      <th>Val Predictions</th>\n",
       "      <th>Actuals</th>\n",
       "    </tr>\n",
       "  </thead>\n",
       "  <tbody>\n",
       "    <tr>\n",
       "      <th>0</th>\n",
       "      <td>988.15509</td>\n",
       "      <td>24293.0</td>\n",
       "    </tr>\n",
       "    <tr>\n",
       "      <th>1</th>\n",
       "      <td>988.15509</td>\n",
       "      <td>24021.0</td>\n",
       "    </tr>\n",
       "  </tbody>\n",
       "</table>\n",
       "</div>"
      ],
      "text/plain": [
       "   Val Predictions  Actuals\n",
       "0        988.15509  24293.0\n",
       "1        988.15509  24021.0"
      ]
     },
     "execution_count": 84,
     "metadata": {},
     "output_type": "execute_result"
    }
   ],
   "source": [
    "val_predictions2 = model2.predict(X_val1).flatten()\n",
    "val_results2 = pd.DataFrame(data={'Val Predictions':val_predictions2, 'Actuals':y_val1})\n",
    "val_results2"
   ]
  },
  {
   "cell_type": "code",
   "execution_count": 85,
   "metadata": {},
   "outputs": [
    {
     "name": "stdout",
     "output_type": "stream",
     "text": [
      "1/1 [==============================] - 0s 15ms/step\n"
     ]
    },
    {
     "data": {
      "text/html": [
       "<div>\n",
       "<style scoped>\n",
       "    .dataframe tbody tr th:only-of-type {\n",
       "        vertical-align: middle;\n",
       "    }\n",
       "\n",
       "    .dataframe tbody tr th {\n",
       "        vertical-align: top;\n",
       "    }\n",
       "\n",
       "    .dataframe thead th {\n",
       "        text-align: right;\n",
       "    }\n",
       "</style>\n",
       "<table border=\"1\" class=\"dataframe\">\n",
       "  <thead>\n",
       "    <tr style=\"text-align: right;\">\n",
       "      <th></th>\n",
       "      <th>Test Predictions</th>\n",
       "      <th>Actuals</th>\n",
       "    </tr>\n",
       "  </thead>\n",
       "  <tbody>\n",
       "    <tr>\n",
       "      <th>0</th>\n",
       "      <td>988.15509</td>\n",
       "      <td>23997.0</td>\n",
       "    </tr>\n",
       "  </tbody>\n",
       "</table>\n",
       "</div>"
      ],
      "text/plain": [
       "   Test Predictions  Actuals\n",
       "0         988.15509  23997.0"
      ]
     },
     "execution_count": 85,
     "metadata": {},
     "output_type": "execute_result"
    }
   ],
   "source": [
    "test_predictions2 = model2.predict(X_test1).flatten()\n",
    "test_results2 = pd.DataFrame(data={'Test Predictions':test_predictions2, 'Actuals':y_test1})\n",
    "test_results2"
   ]
  },
  {
   "cell_type": "markdown",
   "metadata": {},
   "source": [
    "# MODEL 3"
   ]
  },
  {
   "cell_type": "code",
   "execution_count": 142,
   "metadata": {
    "collapsed": false,
    "pycharm": {
     "name": "#%%\n"
    }
   },
   "outputs": [
    {
     "name": "stdout",
     "output_type": "stream",
     "text": [
      "Model: \"sequential_22\"\n",
      "_________________________________________________________________\n",
      " Layer (type)                Output Shape              Param #   \n",
      "=================================================================\n",
      " gru_18 (GRU)                (None, 64)                12864     \n",
      "                                                                 \n",
      " dense_52 (Dense)            (None, 50)                3250      \n",
      "                                                                 \n",
      " dense_53 (Dense)            (None, 50)                2550      \n",
      "                                                                 \n",
      " dense_54 (Dense)            (None, 1)                 51        \n",
      "                                                                 \n",
      "=================================================================\n",
      "Total params: 18,715\n",
      "Trainable params: 18,715\n",
      "Non-trainable params: 0\n",
      "_________________________________________________________________\n"
     ]
    }
   ],
   "source": [
    "model3 = Sequential()\n",
    "model3.add(InputLayer((3, 1)))\n",
    "model3.add(GRU(64))\n",
    "model3.add(Dense(50, 'relu'))\n",
    "model3.add(Dense(50, 'relu'))\n",
    "model3.add(Dense(1, 'linear'))\n",
    "model3.summary()\n",
    "\n",
    "cp3 = ModelCheckpoint('model3/', save_best_only=True)\n",
    "model3.compile(loss=MeanAbsolutePercentageError(), optimizer=Adam(learning_rate=0.1), metrics=[RootMeanSquaredError()])"
   ]
  },
  {
   "cell_type": "code",
   "execution_count": 143,
   "metadata": {},
   "outputs": [
    {
     "name": "stdout",
     "output_type": "stream",
     "text": [
      "Epoch 1/200\n",
      "1/1 [==============================] - ETA: 0s - loss: 99.9999 - root_mean_squared_error: 23221.1289"
     ]
    },
    {
     "name": "stderr",
     "output_type": "stream",
     "text": [
      "WARNING:absl:Found untraced functions such as gru_cell_23_layer_call_fn, gru_cell_23_layer_call_and_return_conditional_losses while saving (showing 2 of 2). These functions will not be directly callable after loading.\n"
     ]
    },
    {
     "name": "stdout",
     "output_type": "stream",
     "text": [
      "INFO:tensorflow:Assets written to: model3/assets\n"
     ]
    },
    {
     "name": "stderr",
     "output_type": "stream",
     "text": [
      "INFO:tensorflow:Assets written to: model3/assets\n"
     ]
    },
    {
     "name": "stdout",
     "output_type": "stream",
     "text": [
      "1/1 [==============================] - 4s 4s/step - loss: 99.9999 - root_mean_squared_error: 23221.1289 - val_loss: 99.9558 - val_root_mean_squared_error: 24146.7051\n",
      "Epoch 2/200\n",
      "1/1 [==============================] - ETA: 0s - loss: 99.9742 - root_mean_squared_error: 23215.5195"
     ]
    },
    {
     "name": "stderr",
     "output_type": "stream",
     "text": [
      "WARNING:absl:Found untraced functions such as gru_cell_23_layer_call_fn, gru_cell_23_layer_call_and_return_conditional_losses while saving (showing 2 of 2). These functions will not be directly callable after loading.\n"
     ]
    },
    {
     "name": "stdout",
     "output_type": "stream",
     "text": [
      "INFO:tensorflow:Assets written to: model3/assets\n"
     ]
    },
    {
     "name": "stderr",
     "output_type": "stream",
     "text": [
      "INFO:tensorflow:Assets written to: model3/assets\n"
     ]
    },
    {
     "name": "stdout",
     "output_type": "stream",
     "text": [
      "1/1 [==============================] - 2s 2s/step - loss: 99.9742 - root_mean_squared_error: 23215.5195 - val_loss: 99.7888 - val_root_mean_squared_error: 24106.3574\n",
      "Epoch 3/200\n",
      "1/1 [==============================] - ETA: 0s - loss: 99.5438 - root_mean_squared_error: 23121.8105"
     ]
    },
    {
     "name": "stderr",
     "output_type": "stream",
     "text": [
      "WARNING:absl:Found untraced functions such as gru_cell_23_layer_call_fn, gru_cell_23_layer_call_and_return_conditional_losses while saving (showing 2 of 2). These functions will not be directly callable after loading.\n"
     ]
    },
    {
     "name": "stdout",
     "output_type": "stream",
     "text": [
      "INFO:tensorflow:Assets written to: model3/assets\n"
     ]
    },
    {
     "name": "stderr",
     "output_type": "stream",
     "text": [
      "INFO:tensorflow:Assets written to: model3/assets\n"
     ]
    },
    {
     "name": "stdout",
     "output_type": "stream",
     "text": [
      "1/1 [==============================] - 2s 2s/step - loss: 99.5438 - root_mean_squared_error: 23121.8105 - val_loss: 99.5073 - val_root_mean_squared_error: 24038.3770\n",
      "Epoch 4/200\n",
      "1/1 [==============================] - ETA: 0s - loss: 97.9818 - root_mean_squared_error: 22763.1895"
     ]
    },
    {
     "name": "stderr",
     "output_type": "stream",
     "text": [
      "WARNING:absl:Found untraced functions such as gru_cell_23_layer_call_fn, gru_cell_23_layer_call_and_return_conditional_losses while saving (showing 2 of 2). These functions will not be directly callable after loading.\n"
     ]
    },
    {
     "name": "stdout",
     "output_type": "stream",
     "text": [
      "INFO:tensorflow:Assets written to: model3/assets\n"
     ]
    },
    {
     "name": "stderr",
     "output_type": "stream",
     "text": [
      "INFO:tensorflow:Assets written to: model3/assets\n"
     ]
    },
    {
     "name": "stdout",
     "output_type": "stream",
     "text": [
      "1/1 [==============================] - 3s 3s/step - loss: 97.9818 - root_mean_squared_error: 22763.1895 - val_loss: 98.6945 - val_root_mean_squared_error: 23842.0273\n",
      "Epoch 5/200\n",
      "1/1 [==============================] - ETA: 0s - loss: 94.5706 - root_mean_squared_error: 21968.9336"
     ]
    },
    {
     "name": "stderr",
     "output_type": "stream",
     "text": [
      "WARNING:absl:Found untraced functions such as gru_cell_23_layer_call_fn, gru_cell_23_layer_call_and_return_conditional_losses while saving (showing 2 of 2). These functions will not be directly callable after loading.\n"
     ]
    },
    {
     "name": "stdout",
     "output_type": "stream",
     "text": [
      "INFO:tensorflow:Assets written to: model3/assets\n"
     ]
    },
    {
     "name": "stderr",
     "output_type": "stream",
     "text": [
      "INFO:tensorflow:Assets written to: model3/assets\n"
     ]
    },
    {
     "name": "stdout",
     "output_type": "stream",
     "text": [
      "1/1 [==============================] - 3s 3s/step - loss: 94.5706 - root_mean_squared_error: 21968.9336 - val_loss: 97.8053 - val_root_mean_squared_error: 23627.2324\n",
      "Epoch 6/200\n",
      "1/1 [==============================] - ETA: 0s - loss: 89.0448 - root_mean_squared_error: 20695.6973"
     ]
    },
    {
     "name": "stderr",
     "output_type": "stream",
     "text": [
      "WARNING:absl:Found untraced functions such as gru_cell_23_layer_call_fn, gru_cell_23_layer_call_and_return_conditional_losses while saving (showing 2 of 2). These functions will not be directly callable after loading.\n"
     ]
    },
    {
     "name": "stdout",
     "output_type": "stream",
     "text": [
      "INFO:tensorflow:Assets written to: model3/assets\n"
     ]
    },
    {
     "name": "stderr",
     "output_type": "stream",
     "text": [
      "INFO:tensorflow:Assets written to: model3/assets\n"
     ]
    },
    {
     "name": "stdout",
     "output_type": "stream",
     "text": [
      "1/1 [==============================] - 2s 2s/step - loss: 89.0448 - root_mean_squared_error: 20695.6973 - val_loss: 96.4821 - val_root_mean_squared_error: 23307.6094\n",
      "Epoch 7/200\n",
      "1/1 [==============================] - ETA: 0s - loss: 79.9681 - root_mean_squared_error: 18603.9570"
     ]
    },
    {
     "name": "stderr",
     "output_type": "stream",
     "text": [
      "WARNING:absl:Found untraced functions such as gru_cell_23_layer_call_fn, gru_cell_23_layer_call_and_return_conditional_losses while saving (showing 2 of 2). These functions will not be directly callable after loading.\n"
     ]
    },
    {
     "name": "stdout",
     "output_type": "stream",
     "text": [
      "INFO:tensorflow:Assets written to: model3/assets\n"
     ]
    },
    {
     "name": "stderr",
     "output_type": "stream",
     "text": [
      "INFO:tensorflow:Assets written to: model3/assets\n"
     ]
    },
    {
     "name": "stdout",
     "output_type": "stream",
     "text": [
      "1/1 [==============================] - 4s 4s/step - loss: 79.9681 - root_mean_squared_error: 18603.9570 - val_loss: 94.1415 - val_root_mean_squared_error: 22742.2051\n",
      "Epoch 8/200\n",
      "1/1 [==============================] - ETA: 0s - loss: 66.4048 - root_mean_squared_error: 15482.5479"
     ]
    },
    {
     "name": "stderr",
     "output_type": "stream",
     "text": [
      "WARNING:absl:Found untraced functions such as gru_cell_23_layer_call_fn, gru_cell_23_layer_call_and_return_conditional_losses while saving (showing 2 of 2). These functions will not be directly callable after loading.\n"
     ]
    },
    {
     "name": "stdout",
     "output_type": "stream",
     "text": [
      "INFO:tensorflow:Assets written to: model3/assets\n"
     ]
    },
    {
     "name": "stderr",
     "output_type": "stream",
     "text": [
      "INFO:tensorflow:Assets written to: model3/assets\n"
     ]
    },
    {
     "name": "stdout",
     "output_type": "stream",
     "text": [
      "1/1 [==============================] - 2s 2s/step - loss: 66.4048 - root_mean_squared_error: 15482.5479 - val_loss: 92.3714 - val_root_mean_squared_error: 22314.6230\n",
      "Epoch 9/200\n",
      "1/1 [==============================] - ETA: 0s - loss: 47.0056 - root_mean_squared_error: 11034.0889"
     ]
    },
    {
     "name": "stderr",
     "output_type": "stream",
     "text": [
      "WARNING:absl:Found untraced functions such as gru_cell_23_layer_call_fn, gru_cell_23_layer_call_and_return_conditional_losses while saving (showing 2 of 2). These functions will not be directly callable after loading.\n"
     ]
    },
    {
     "name": "stdout",
     "output_type": "stream",
     "text": [
      "INFO:tensorflow:Assets written to: model3/assets\n"
     ]
    },
    {
     "name": "stderr",
     "output_type": "stream",
     "text": [
      "INFO:tensorflow:Assets written to: model3/assets\n"
     ]
    },
    {
     "name": "stdout",
     "output_type": "stream",
     "text": [
      "1/1 [==============================] - 2s 2s/step - loss: 47.0056 - root_mean_squared_error: 11034.0889 - val_loss: 86.4030 - val_root_mean_squared_error: 20872.9121\n",
      "Epoch 10/200\n",
      "1/1 [==============================] - ETA: 0s - loss: 20.6026 - root_mean_squared_error: 5070.9995"
     ]
    },
    {
     "name": "stderr",
     "output_type": "stream",
     "text": [
      "WARNING:absl:Found untraced functions such as gru_cell_23_layer_call_fn, gru_cell_23_layer_call_and_return_conditional_losses while saving (showing 2 of 2). These functions will not be directly callable after loading.\n"
     ]
    },
    {
     "name": "stdout",
     "output_type": "stream",
     "text": [
      "INFO:tensorflow:Assets written to: model3/assets\n"
     ]
    },
    {
     "name": "stderr",
     "output_type": "stream",
     "text": [
      "INFO:tensorflow:Assets written to: model3/assets\n"
     ]
    },
    {
     "name": "stdout",
     "output_type": "stream",
     "text": [
      "1/1 [==============================] - 2s 2s/step - loss: 20.6026 - root_mean_squared_error: 5070.9995 - val_loss: 85.2405 - val_root_mean_squared_error: 20592.1250\n",
      "Epoch 11/200\n",
      "1/1 [==============================] - ETA: 0s - loss: 13.9811 - root_mean_squared_error: 3461.2439"
     ]
    },
    {
     "name": "stderr",
     "output_type": "stream",
     "text": [
      "WARNING:absl:Found untraced functions such as gru_cell_23_layer_call_fn, gru_cell_23_layer_call_and_return_conditional_losses while saving (showing 2 of 2). These functions will not be directly callable after loading.\n"
     ]
    },
    {
     "name": "stdout",
     "output_type": "stream",
     "text": [
      "INFO:tensorflow:Assets written to: model3/assets\n"
     ]
    },
    {
     "name": "stderr",
     "output_type": "stream",
     "text": [
      "INFO:tensorflow:Assets written to: model3/assets\n"
     ]
    },
    {
     "name": "stdout",
     "output_type": "stream",
     "text": [
      "1/1 [==============================] - 2s 2s/step - loss: 13.9811 - root_mean_squared_error: 3461.2439 - val_loss: 82.2556 - val_root_mean_squared_error: 19871.0977\n",
      "Epoch 12/200\n",
      "1/1 [==============================] - ETA: 0s - loss: 24.5392 - root_mean_squared_error: 5765.5430"
     ]
    },
    {
     "name": "stderr",
     "output_type": "stream",
     "text": [
      "WARNING:absl:Found untraced functions such as gru_cell_23_layer_call_fn, gru_cell_23_layer_call_and_return_conditional_losses while saving (showing 2 of 2). These functions will not be directly callable after loading.\n"
     ]
    },
    {
     "name": "stdout",
     "output_type": "stream",
     "text": [
      "INFO:tensorflow:Assets written to: model3/assets\n"
     ]
    },
    {
     "name": "stderr",
     "output_type": "stream",
     "text": [
      "INFO:tensorflow:Assets written to: model3/assets\n"
     ]
    },
    {
     "name": "stdout",
     "output_type": "stream",
     "text": [
      "1/1 [==============================] - 2s 2s/step - loss: 24.5392 - root_mean_squared_error: 5765.5430 - val_loss: 74.0128 - val_root_mean_squared_error: 17879.9980\n",
      "Epoch 13/200\n",
      "1/1 [==============================] - ETA: 0s - loss: 21.4354 - root_mean_squared_error: 5069.0728"
     ]
    },
    {
     "name": "stderr",
     "output_type": "stream",
     "text": [
      "WARNING:absl:Found untraced functions such as gru_cell_23_layer_call_fn, gru_cell_23_layer_call_and_return_conditional_losses while saving (showing 2 of 2). These functions will not be directly callable after loading.\n"
     ]
    },
    {
     "name": "stdout",
     "output_type": "stream",
     "text": [
      "INFO:tensorflow:Assets written to: model3/assets\n"
     ]
    },
    {
     "name": "stderr",
     "output_type": "stream",
     "text": [
      "INFO:tensorflow:Assets written to: model3/assets\n"
     ]
    },
    {
     "name": "stdout",
     "output_type": "stream",
     "text": [
      "1/1 [==============================] - 2s 2s/step - loss: 21.4354 - root_mean_squared_error: 5069.0728 - val_loss: 58.1691 - val_root_mean_squared_error: 14052.8926\n",
      "Epoch 14/200\n",
      "1/1 [==============================] - ETA: 0s - loss: 9.2367 - root_mean_squared_error: 2516.6292"
     ]
    },
    {
     "name": "stderr",
     "output_type": "stream",
     "text": [
      "WARNING:absl:Found untraced functions such as gru_cell_23_layer_call_fn, gru_cell_23_layer_call_and_return_conditional_losses while saving (showing 2 of 2). These functions will not be directly callable after loading.\n"
     ]
    },
    {
     "name": "stdout",
     "output_type": "stream",
     "text": [
      "INFO:tensorflow:Assets written to: model3/assets\n"
     ]
    },
    {
     "name": "stderr",
     "output_type": "stream",
     "text": [
      "INFO:tensorflow:Assets written to: model3/assets\n"
     ]
    },
    {
     "name": "stdout",
     "output_type": "stream",
     "text": [
      "1/1 [==============================] - 2s 2s/step - loss: 9.2367 - root_mean_squared_error: 2516.6292 - val_loss: 58.0225 - val_root_mean_squared_error: 14017.4707\n",
      "Epoch 15/200\n",
      "1/1 [==============================] - 0s 23ms/step - loss: 7.8069 - root_mean_squared_error: 2412.6045 - val_loss: 60.2808 - val_root_mean_squared_error: 14562.9834\n",
      "Epoch 16/200\n",
      "1/1 [==============================] - 0s 24ms/step - loss: 14.9666 - root_mean_squared_error: 3851.4634 - val_loss: 61.3455 - val_root_mean_squared_error: 14820.1562\n",
      "Epoch 17/200\n",
      "1/1 [==============================] - 0s 24ms/step - loss: 15.5722 - root_mean_squared_error: 3980.9653 - val_loss: 59.1364 - val_root_mean_squared_error: 14286.5498\n",
      "Epoch 18/200\n",
      "1/1 [==============================] - ETA: 0s - loss: 10.8855 - root_mean_squared_error: 3005.3032"
     ]
    },
    {
     "name": "stderr",
     "output_type": "stream",
     "text": [
      "WARNING:absl:Found untraced functions such as gru_cell_23_layer_call_fn, gru_cell_23_layer_call_and_return_conditional_losses while saving (showing 2 of 2). These functions will not be directly callable after loading.\n"
     ]
    },
    {
     "name": "stdout",
     "output_type": "stream",
     "text": [
      "INFO:tensorflow:Assets written to: model3/assets\n"
     ]
    },
    {
     "name": "stderr",
     "output_type": "stream",
     "text": [
      "INFO:tensorflow:Assets written to: model3/assets\n"
     ]
    },
    {
     "name": "stdout",
     "output_type": "stream",
     "text": [
      "1/1 [==============================] - 4s 4s/step - loss: 10.8855 - root_mean_squared_error: 3005.3032 - val_loss: 52.6192 - val_root_mean_squared_error: 12712.2998\n",
      "Epoch 19/200\n",
      "1/1 [==============================] - ETA: 0s - loss: 6.2515 - root_mean_squared_error: 1529.6351"
     ]
    },
    {
     "name": "stderr",
     "output_type": "stream",
     "text": [
      "WARNING:absl:Found untraced functions such as gru_cell_23_layer_call_fn, gru_cell_23_layer_call_and_return_conditional_losses while saving (showing 2 of 2). These functions will not be directly callable after loading.\n"
     ]
    },
    {
     "name": "stdout",
     "output_type": "stream",
     "text": [
      "INFO:tensorflow:Assets written to: model3/assets\n"
     ]
    },
    {
     "name": "stderr",
     "output_type": "stream",
     "text": [
      "INFO:tensorflow:Assets written to: model3/assets\n"
     ]
    },
    {
     "name": "stdout",
     "output_type": "stream",
     "text": [
      "1/1 [==============================] - 2s 2s/step - loss: 6.2515 - root_mean_squared_error: 1529.6351 - val_loss: 44.9201 - val_root_mean_squared_error: 10852.6143\n",
      "Epoch 20/200\n",
      "1/1 [==============================] - ETA: 0s - loss: 7.9940 - root_mean_squared_error: 2288.3408"
     ]
    },
    {
     "name": "stderr",
     "output_type": "stream",
     "text": [
      "WARNING:absl:Found untraced functions such as gru_cell_23_layer_call_fn, gru_cell_23_layer_call_and_return_conditional_losses while saving (showing 2 of 2). These functions will not be directly callable after loading.\n"
     ]
    },
    {
     "name": "stdout",
     "output_type": "stream",
     "text": [
      "INFO:tensorflow:Assets written to: model3/assets\n"
     ]
    },
    {
     "name": "stderr",
     "output_type": "stream",
     "text": [
      "INFO:tensorflow:Assets written to: model3/assets\n"
     ]
    },
    {
     "name": "stdout",
     "output_type": "stream",
     "text": [
      "1/1 [==============================] - 2s 2s/step - loss: 7.9940 - root_mean_squared_error: 2288.3408 - val_loss: 37.3969 - val_root_mean_squared_error: 9035.4668\n",
      "Epoch 21/200\n",
      "1/1 [==============================] - ETA: 0s - loss: 12.7016 - root_mean_squared_error: 3196.8445"
     ]
    },
    {
     "name": "stderr",
     "output_type": "stream",
     "text": [
      "WARNING:absl:Found untraced functions such as gru_cell_23_layer_call_fn, gru_cell_23_layer_call_and_return_conditional_losses while saving (showing 2 of 2). These functions will not be directly callable after loading.\n"
     ]
    },
    {
     "name": "stdout",
     "output_type": "stream",
     "text": [
      "INFO:tensorflow:Assets written to: model3/assets\n"
     ]
    },
    {
     "name": "stderr",
     "output_type": "stream",
     "text": [
      "INFO:tensorflow:Assets written to: model3/assets\n"
     ]
    },
    {
     "name": "stdout",
     "output_type": "stream",
     "text": [
      "1/1 [==============================] - 2s 2s/step - loss: 12.7016 - root_mean_squared_error: 3196.8445 - val_loss: 32.5596 - val_root_mean_squared_error: 7867.1191\n",
      "Epoch 22/200\n",
      "1/1 [==============================] - 0s 23ms/step - loss: 9.8902 - root_mean_squared_error: 2637.9529 - val_loss: 37.7512 - val_root_mean_squared_error: 9121.0439\n",
      "Epoch 23/200\n",
      "1/1 [==============================] - 0s 22ms/step - loss: 6.3543 - root_mean_squared_error: 1489.9854 - val_loss: 39.5412 - val_root_mean_squared_error: 9553.3975\n",
      "Epoch 24/200\n",
      "1/1 [==============================] - 0s 25ms/step - loss: 6.7499 - root_mean_squared_error: 2193.3899 - val_loss: 34.4164 - val_root_mean_squared_error: 8315.5957\n",
      "Epoch 25/200\n",
      "1/1 [==============================] - ETA: 0s - loss: 10.9556 - root_mean_squared_error: 3010.8760"
     ]
    },
    {
     "name": "stderr",
     "output_type": "stream",
     "text": [
      "WARNING:absl:Found untraced functions such as gru_cell_23_layer_call_fn, gru_cell_23_layer_call_and_return_conditional_losses while saving (showing 2 of 2). These functions will not be directly callable after loading.\n"
     ]
    },
    {
     "name": "stdout",
     "output_type": "stream",
     "text": [
      "INFO:tensorflow:Assets written to: model3/assets\n"
     ]
    },
    {
     "name": "stderr",
     "output_type": "stream",
     "text": [
      "INFO:tensorflow:Assets written to: model3/assets\n"
     ]
    },
    {
     "name": "stdout",
     "output_type": "stream",
     "text": [
      "1/1 [==============================] - 2s 2s/step - loss: 10.9556 - root_mean_squared_error: 3010.8760 - val_loss: 29.9378 - val_root_mean_squared_error: 7233.8818\n",
      "Epoch 26/200\n",
      "1/1 [==============================] - ETA: 0s - loss: 9.8579 - root_mean_squared_error: 2790.4126"
     ]
    },
    {
     "name": "stderr",
     "output_type": "stream",
     "text": [
      "WARNING:absl:Found untraced functions such as gru_cell_23_layer_call_fn, gru_cell_23_layer_call_and_return_conditional_losses while saving (showing 2 of 2). These functions will not be directly callable after loading.\n"
     ]
    },
    {
     "name": "stdout",
     "output_type": "stream",
     "text": [
      "INFO:tensorflow:Assets written to: model3/assets\n"
     ]
    },
    {
     "name": "stderr",
     "output_type": "stream",
     "text": [
      "INFO:tensorflow:Assets written to: model3/assets\n"
     ]
    },
    {
     "name": "stdout",
     "output_type": "stream",
     "text": [
      "1/1 [==============================] - 2s 2s/step - loss: 9.8579 - root_mean_squared_error: 2790.4126 - val_loss: 25.5174 - val_root_mean_squared_error: 6166.3164\n",
      "Epoch 27/200\n",
      "1/1 [==============================] - ETA: 0s - loss: 5.9681 - root_mean_squared_error: 1772.1688"
     ]
    },
    {
     "name": "stderr",
     "output_type": "stream",
     "text": [
      "WARNING:absl:Found untraced functions such as gru_cell_23_layer_call_fn, gru_cell_23_layer_call_and_return_conditional_losses while saving (showing 2 of 2). These functions will not be directly callable after loading.\n"
     ]
    },
    {
     "name": "stdout",
     "output_type": "stream",
     "text": [
      "INFO:tensorflow:Assets written to: model3/assets\n"
     ]
    },
    {
     "name": "stderr",
     "output_type": "stream",
     "text": [
      "INFO:tensorflow:Assets written to: model3/assets\n"
     ]
    },
    {
     "name": "stdout",
     "output_type": "stream",
     "text": [
      "1/1 [==============================] - 2s 2s/step - loss: 5.9681 - root_mean_squared_error: 1772.1688 - val_loss: 23.2107 - val_root_mean_squared_error: 5609.2524\n",
      "Epoch 28/200\n",
      "1/1 [==============================] - ETA: 0s - loss: 6.2648 - root_mean_squared_error: 1473.3608"
     ]
    },
    {
     "name": "stderr",
     "output_type": "stream",
     "text": [
      "WARNING:absl:Found untraced functions such as gru_cell_23_layer_call_fn, gru_cell_23_layer_call_and_return_conditional_losses while saving (showing 2 of 2). These functions will not be directly callable after loading.\n"
     ]
    },
    {
     "name": "stdout",
     "output_type": "stream",
     "text": [
      "INFO:tensorflow:Assets written to: model3/assets\n"
     ]
    },
    {
     "name": "stderr",
     "output_type": "stream",
     "text": [
      "INFO:tensorflow:Assets written to: model3/assets\n"
     ]
    },
    {
     "name": "stdout",
     "output_type": "stream",
     "text": [
      "1/1 [==============================] - 4s 4s/step - loss: 6.2648 - root_mean_squared_error: 1473.3608 - val_loss: 19.8070 - val_root_mean_squared_error: 4787.3208\n",
      "Epoch 29/200\n",
      "1/1 [==============================] - ETA: 0s - loss: 6.8786 - root_mean_squared_error: 1940.9215"
     ]
    },
    {
     "name": "stderr",
     "output_type": "stream",
     "text": [
      "WARNING:absl:Found untraced functions such as gru_cell_23_layer_call_fn, gru_cell_23_layer_call_and_return_conditional_losses while saving (showing 2 of 2). These functions will not be directly callable after loading.\n"
     ]
    },
    {
     "name": "stdout",
     "output_type": "stream",
     "text": [
      "INFO:tensorflow:Assets written to: model3/assets\n"
     ]
    },
    {
     "name": "stderr",
     "output_type": "stream",
     "text": [
      "INFO:tensorflow:Assets written to: model3/assets\n"
     ]
    },
    {
     "name": "stdout",
     "output_type": "stream",
     "text": [
      "1/1 [==============================] - 3s 3s/step - loss: 6.8786 - root_mean_squared_error: 1940.9215 - val_loss: 18.1469 - val_root_mean_squared_error: 4386.4780\n",
      "Epoch 30/200\n",
      "1/1 [==============================] - 0s 23ms/step - loss: 7.3570 - root_mean_squared_error: 2083.4197 - val_loss: 19.8803 - val_root_mean_squared_error: 4805.0146\n",
      "Epoch 31/200\n",
      "1/1 [==============================] - 0s 23ms/step - loss: 6.3169 - root_mean_squared_error: 1704.4786 - val_loss: 21.6761 - val_root_mean_squared_error: 5238.6680\n",
      "Epoch 32/200\n",
      "1/1 [==============================] - 0s 24ms/step - loss: 6.0969 - root_mean_squared_error: 1451.1733 - val_loss: 23.5203 - val_root_mean_squared_error: 5684.0059\n",
      "Epoch 33/200\n",
      "1/1 [==============================] - 0s 22ms/step - loss: 5.8583 - root_mean_squared_error: 1423.0500 - val_loss: 25.3991 - val_root_mean_squared_error: 6137.7412\n",
      "Epoch 34/200\n",
      "1/1 [==============================] - 0s 23ms/step - loss: 5.6023 - root_mean_squared_error: 1650.0005 - val_loss: 27.2998 - val_root_mean_squared_error: 6596.7690\n",
      "Epoch 35/200\n",
      "1/1 [==============================] - 0s 23ms/step - loss: 6.3430 - root_mean_squared_error: 2058.3818 - val_loss: 27.1041 - val_root_mean_squared_error: 6549.5000\n",
      "Epoch 36/200\n",
      "1/1 [==============================] - 0s 23ms/step - loss: 6.2494 - root_mean_squared_error: 2025.9058 - val_loss: 22.8574 - val_root_mean_squared_error: 5523.9185\n",
      "Epoch 37/200\n",
      "1/1 [==============================] - 0s 22ms/step - loss: 5.4269 - root_mean_squared_error: 1316.3010 - val_loss: 19.0761 - val_root_mean_squared_error: 4610.8457\n",
      "Epoch 38/200\n",
      "1/1 [==============================] - ETA: 0s - loss: 5.5655 - root_mean_squared_error: 1552.1931"
     ]
    },
    {
     "name": "stderr",
     "output_type": "stream",
     "text": [
      "WARNING:absl:Found untraced functions such as gru_cell_23_layer_call_fn, gru_cell_23_layer_call_and_return_conditional_losses while saving (showing 2 of 2). These functions will not be directly callable after loading.\n"
     ]
    },
    {
     "name": "stdout",
     "output_type": "stream",
     "text": [
      "INFO:tensorflow:Assets written to: model3/assets\n"
     ]
    },
    {
     "name": "stderr",
     "output_type": "stream",
     "text": [
      "INFO:tensorflow:Assets written to: model3/assets\n"
     ]
    },
    {
     "name": "stdout",
     "output_type": "stream",
     "text": [
      "1/1 [==============================] - 2s 2s/step - loss: 5.5655 - root_mean_squared_error: 1552.1931 - val_loss: 15.7678 - val_root_mean_squared_error: 3812.1006\n",
      "Epoch 39/200\n",
      "1/1 [==============================] - 0s 22ms/step - loss: 8.5584 - root_mean_squared_error: 2248.7100 - val_loss: 17.6517 - val_root_mean_squared_error: 4266.9199\n",
      "Epoch 40/200\n",
      "1/1 [==============================] - 0s 23ms/step - loss: 6.1392 - root_mean_squared_error: 1712.5967 - val_loss: 21.7514 - val_root_mean_squared_error: 5256.8394\n",
      "Epoch 41/200\n",
      "1/1 [==============================] - 0s 23ms/step - loss: 4.7694 - root_mean_squared_error: 1145.2950 - val_loss: 25.5504 - val_root_mean_squared_error: 6174.2676\n",
      "Epoch 42/200\n",
      "1/1 [==============================] - 0s 23ms/step - loss: 5.5833 - root_mean_squared_error: 1749.2994 - val_loss: 24.8065 - val_root_mean_squared_error: 5994.6348\n",
      "Epoch 43/200\n",
      "1/1 [==============================] - 0s 23ms/step - loss: 5.0228 - root_mean_squared_error: 1587.8529 - val_loss: 22.1476 - val_root_mean_squared_error: 5352.5132\n",
      "Epoch 44/200\n",
      "1/1 [==============================] - 0s 24ms/step - loss: 4.0258 - root_mean_squared_error: 1080.8392 - val_loss: 19.8507 - val_root_mean_squared_error: 4797.8789\n",
      "Epoch 45/200\n",
      "1/1 [==============================] - 0s 22ms/step - loss: 3.8887 - root_mean_squared_error: 948.3797 - val_loss: 17.9007 - val_root_mean_squared_error: 4327.0361\n",
      "Epoch 46/200\n",
      "1/1 [==============================] - 0s 23ms/step - loss: 4.1454 - root_mean_squared_error: 1113.6943 - val_loss: 18.5924 - val_root_mean_squared_error: 4494.0405\n",
      "Epoch 47/200\n",
      "1/1 [==============================] - 0s 22ms/step - loss: 3.2752 - root_mean_squared_error: 878.5018 - val_loss: 19.3767 - val_root_mean_squared_error: 4683.4302\n",
      "Epoch 48/200\n",
      "1/1 [==============================] - 0s 25ms/step - loss: 2.8525 - root_mean_squared_error: 706.6125 - val_loss: 20.2327 - val_root_mean_squared_error: 4890.1240\n",
      "Epoch 49/200\n",
      "1/1 [==============================] - 0s 23ms/step - loss: 2.4199 - root_mean_squared_error: 703.4122 - val_loss: 21.1405 - val_root_mean_squared_error: 5109.3359\n",
      "Epoch 50/200\n",
      "1/1 [==============================] - 0s 23ms/step - loss: 2.8758 - root_mean_squared_error: 897.5988 - val_loss: 19.7533 - val_root_mean_squared_error: 4774.3496\n",
      "Epoch 51/200\n",
      "1/1 [==============================] - 0s 23ms/step - loss: 2.0464 - root_mean_squared_error: 616.2701 - val_loss: 16.1844 - val_root_mean_squared_error: 3912.6689\n",
      "Epoch 52/200\n",
      "1/1 [==============================] - ETA: 0s - loss: 2.7482 - root_mean_squared_error: 729.7851"
     ]
    },
    {
     "name": "stderr",
     "output_type": "stream",
     "text": [
      "WARNING:absl:Found untraced functions such as gru_cell_23_layer_call_fn, gru_cell_23_layer_call_and_return_conditional_losses while saving (showing 2 of 2). These functions will not be directly callable after loading.\n"
     ]
    },
    {
     "name": "stdout",
     "output_type": "stream",
     "text": [
      "INFO:tensorflow:Assets written to: model3/assets\n"
     ]
    },
    {
     "name": "stderr",
     "output_type": "stream",
     "text": [
      "INFO:tensorflow:Assets written to: model3/assets\n"
     ]
    },
    {
     "name": "stdout",
     "output_type": "stream",
     "text": [
      "1/1 [==============================] - 2s 2s/step - loss: 2.7482 - root_mean_squared_error: 729.7851 - val_loss: 15.4701 - val_root_mean_squared_error: 3740.2429\n",
      "Epoch 53/200\n",
      "1/1 [==============================] - 0s 24ms/step - loss: 3.2168 - root_mean_squared_error: 800.5683 - val_loss: 19.6638 - val_root_mean_squared_error: 4752.7549\n",
      "Epoch 54/200\n",
      "1/1 [==============================] - 0s 23ms/step - loss: 2.7371 - root_mean_squared_error: 724.4777 - val_loss: 18.8223 - val_root_mean_squared_error: 4549.5664\n",
      "Epoch 55/200\n",
      "1/1 [==============================] - ETA: 0s - loss: 1.9997 - root_mean_squared_error: 554.0657"
     ]
    },
    {
     "name": "stderr",
     "output_type": "stream",
     "text": [
      "WARNING:absl:Found untraced functions such as gru_cell_23_layer_call_fn, gru_cell_23_layer_call_and_return_conditional_losses while saving (showing 2 of 2). These functions will not be directly callable after loading.\n"
     ]
    },
    {
     "name": "stdout",
     "output_type": "stream",
     "text": [
      "INFO:tensorflow:Assets written to: model3/assets\n"
     ]
    },
    {
     "name": "stderr",
     "output_type": "stream",
     "text": [
      "INFO:tensorflow:Assets written to: model3/assets\n"
     ]
    },
    {
     "name": "stdout",
     "output_type": "stream",
     "text": [
      "1/1 [==============================] - 3s 3s/step - loss: 1.9997 - root_mean_squared_error: 554.0657 - val_loss: 13.4672 - val_root_mean_squared_error: 3256.7686\n",
      "Epoch 56/200\n",
      "1/1 [==============================] - ETA: 0s - loss: 4.7018 - root_mean_squared_error: 1110.4329"
     ]
    },
    {
     "name": "stderr",
     "output_type": "stream",
     "text": [
      "WARNING:absl:Found untraced functions such as gru_cell_23_layer_call_fn, gru_cell_23_layer_call_and_return_conditional_losses while saving (showing 2 of 2). These functions will not be directly callable after loading.\n"
     ]
    },
    {
     "name": "stdout",
     "output_type": "stream",
     "text": [
      "INFO:tensorflow:Assets written to: model3/assets\n"
     ]
    },
    {
     "name": "stderr",
     "output_type": "stream",
     "text": [
      "INFO:tensorflow:Assets written to: model3/assets\n"
     ]
    },
    {
     "name": "stdout",
     "output_type": "stream",
     "text": [
      "1/1 [==============================] - 3s 3s/step - loss: 4.7018 - root_mean_squared_error: 1110.4329 - val_loss: 13.4354 - val_root_mean_squared_error: 3249.0977\n",
      "Epoch 57/200\n",
      "1/1 [==============================] - 0s 22ms/step - loss: 4.4310 - root_mean_squared_error: 1052.9720 - val_loss: 18.0709 - val_root_mean_squared_error: 4368.1235\n",
      "Epoch 58/200\n",
      "1/1 [==============================] - 0s 23ms/step - loss: 1.9188 - root_mean_squared_error: 513.4223 - val_loss: 17.7742 - val_root_mean_squared_error: 4296.4868\n",
      "Epoch 59/200\n",
      "1/1 [==============================] - ETA: 0s - loss: 1.7739 - root_mean_squared_error: 485.8320"
     ]
    },
    {
     "name": "stderr",
     "output_type": "stream",
     "text": [
      "WARNING:absl:Found untraced functions such as gru_cell_23_layer_call_fn, gru_cell_23_layer_call_and_return_conditional_losses while saving (showing 2 of 2). These functions will not be directly callable after loading.\n"
     ]
    },
    {
     "name": "stdout",
     "output_type": "stream",
     "text": [
      "INFO:tensorflow:Assets written to: model3/assets\n"
     ]
    },
    {
     "name": "stderr",
     "output_type": "stream",
     "text": [
      "INFO:tensorflow:Assets written to: model3/assets\n"
     ]
    },
    {
     "name": "stdout",
     "output_type": "stream",
     "text": [
      "1/1 [==============================] - 3s 3s/step - loss: 1.7739 - root_mean_squared_error: 485.8320 - val_loss: 13.1077 - val_root_mean_squared_error: 3170.0027\n",
      "Epoch 60/200\n",
      "1/1 [==============================] - 0s 22ms/step - loss: 4.1010 - root_mean_squared_error: 998.2823 - val_loss: 13.4767 - val_root_mean_squared_error: 3259.0596\n",
      "Epoch 61/200\n",
      "1/1 [==============================] - 0s 23ms/step - loss: 3.4145 - root_mean_squared_error: 855.4897 - val_loss: 25.0897 - val_root_mean_squared_error: 6063.0156\n",
      "Epoch 62/200\n",
      "1/1 [==============================] - 0s 24ms/step - loss: 2.9622 - root_mean_squared_error: 738.9396 - val_loss: 25.2157 - val_root_mean_squared_error: 6093.4556\n",
      "Epoch 63/200\n",
      "1/1 [==============================] - 0s 23ms/step - loss: 3.1561 - root_mean_squared_error: 783.8038 - val_loss: 21.4011 - val_root_mean_squared_error: 5172.2632\n",
      "Epoch 64/200\n",
      "1/1 [==============================] - 0s 25ms/step - loss: 2.0809 - root_mean_squared_error: 609.4705 - val_loss: 22.0415 - val_root_mean_squared_error: 5326.8906\n",
      "Epoch 65/200\n",
      "1/1 [==============================] - 0s 23ms/step - loss: 1.5965 - root_mean_squared_error: 466.2570 - val_loss: 24.6139 - val_root_mean_squared_error: 5948.1035\n",
      "Epoch 66/200\n",
      "1/1 [==============================] - 0s 23ms/step - loss: 2.3712 - root_mean_squared_error: 637.8483 - val_loss: 24.9556 - val_root_mean_squared_error: 6030.6235\n",
      "Epoch 67/200\n",
      "1/1 [==============================] - 0s 23ms/step - loss: 2.8260 - root_mean_squared_error: 728.4733 - val_loss: 21.3563 - val_root_mean_squared_error: 5161.4248\n",
      "Epoch 68/200\n",
      "1/1 [==============================] - 0s 23ms/step - loss: 2.1392 - root_mean_squared_error: 638.5958 - val_loss: 22.1622 - val_root_mean_squared_error: 5356.0337\n",
      "Epoch 69/200\n",
      "1/1 [==============================] - 0s 24ms/step - loss: 1.5600 - root_mean_squared_error: 455.3352 - val_loss: 24.8608 - val_root_mean_squared_error: 6007.7349\n",
      "Epoch 70/200\n",
      "1/1 [==============================] - 0s 23ms/step - loss: 2.6626 - root_mean_squared_error: 694.5964 - val_loss: 23.4237 - val_root_mean_squared_error: 5660.6924\n",
      "Epoch 71/200\n",
      "1/1 [==============================] - 0s 23ms/step - loss: 1.4943 - root_mean_squared_error: 382.1369 - val_loss: 20.1006 - val_root_mean_squared_error: 4858.2261\n",
      "Epoch 72/200\n",
      "1/1 [==============================] - 0s 23ms/step - loss: 3.9364 - root_mean_squared_error: 997.6042 - val_loss: 21.2191 - val_root_mean_squared_error: 5128.2939\n",
      "Epoch 73/200\n",
      "1/1 [==============================] - 0s 24ms/step - loss: 2.4178 - root_mean_squared_error: 673.4536 - val_loss: 26.1322 - val_root_mean_squared_error: 6314.7769\n",
      "Epoch 74/200\n",
      "1/1 [==============================] - 0s 23ms/step - loss: 4.3258 - root_mean_squared_error: 1036.6471 - val_loss: 26.7710 - val_root_mean_squared_error: 6469.0552\n",
      "Epoch 75/200\n",
      "1/1 [==============================] - 0s 24ms/step - loss: 5.1854 - root_mean_squared_error: 1226.2021 - val_loss: 23.7006 - val_root_mean_squared_error: 5727.5503\n",
      "Epoch 76/200\n",
      "1/1 [==============================] - 0s 24ms/step - loss: 1.4990 - root_mean_squared_error: 377.0570 - val_loss: 18.8700 - val_root_mean_squared_error: 4561.0654\n",
      "Epoch 77/200\n",
      "1/1 [==============================] - 0s 22ms/step - loss: 5.7413 - root_mean_squared_error: 1380.3126 - val_loss: 18.5968 - val_root_mean_squared_error: 4495.1123\n",
      "Epoch 78/200\n",
      "1/1 [==============================] - 0s 23ms/step - loss: 6.1434 - root_mean_squared_error: 1467.6447 - val_loss: 22.4158 - val_root_mean_squared_error: 5417.2798\n",
      "Epoch 79/200\n",
      "1/1 [==============================] - 0s 23ms/step - loss: 1.2239 - root_mean_squared_error: 366.7021 - val_loss: 27.6094 - val_root_mean_squared_error: 6671.5347\n",
      "Epoch 80/200\n",
      "1/1 [==============================] - 0s 22ms/step - loss: 6.2156 - root_mean_squared_error: 1457.0364 - val_loss: 28.6458 - val_root_mean_squared_error: 6921.8403\n",
      "Epoch 81/200\n",
      "1/1 [==============================] - 0s 23ms/step - loss: 7.6126 - root_mean_squared_error: 1776.2389 - val_loss: 26.1209 - val_root_mean_squared_error: 6312.0552\n",
      "Epoch 82/200\n",
      "1/1 [==============================] - 0s 24ms/step - loss: 4.1169 - root_mean_squared_error: 984.3770 - val_loss: 20.1023 - val_root_mean_squared_error: 4858.6362\n",
      "Epoch 83/200\n",
      "1/1 [==============================] - 0s 23ms/step - loss: 4.1972 - root_mean_squared_error: 1011.0046 - val_loss: 18.5234 - val_root_mean_squared_error: 4477.3901\n",
      "Epoch 84/200\n",
      "1/1 [==============================] - 0s 24ms/step - loss: 6.3987 - root_mean_squared_error: 1506.8110 - val_loss: 21.1181 - val_root_mean_squared_error: 5103.9214\n",
      "Epoch 85/200\n",
      "1/1 [==============================] - 0s 22ms/step - loss: 2.8402 - root_mean_squared_error: 707.1959 - val_loss: 27.1046 - val_root_mean_squared_error: 6549.6172\n",
      "Epoch 86/200\n",
      "1/1 [==============================] - 0s 28ms/step - loss: 5.3841 - root_mean_squared_error: 1272.0502 - val_loss: 28.8781 - val_root_mean_squared_error: 6977.9429\n",
      "Epoch 87/200\n",
      "1/1 [==============================] - 0s 22ms/step - loss: 7.8048 - root_mean_squared_error: 1825.5769 - val_loss: 27.1310 - val_root_mean_squared_error: 6555.9966\n",
      "Epoch 88/200\n",
      "1/1 [==============================] - 0s 23ms/step - loss: 5.3881 - root_mean_squared_error: 1274.5637 - val_loss: 22.0242 - val_root_mean_squared_error: 5322.7124\n",
      "Epoch 89/200\n",
      "1/1 [==============================] - 0s 23ms/step - loss: 1.6576 - root_mean_squared_error: 456.7501 - val_loss: 21.0705 - val_root_mean_squared_error: 5092.4297\n",
      "Epoch 90/200\n",
      "1/1 [==============================] - 0s 23ms/step - loss: 2.9864 - root_mean_squared_error: 732.4289 - val_loss: 23.9536 - val_root_mean_squared_error: 5788.6484\n",
      "Epoch 91/200\n",
      "1/1 [==============================] - 0s 23ms/step - loss: 1.0652 - root_mean_squared_error: 341.0934 - val_loss: 24.7044 - val_root_mean_squared_error: 5969.9614\n",
      "Epoch 92/200\n",
      "1/1 [==============================] - 0s 23ms/step - loss: 1.9879 - root_mean_squared_error: 530.3325 - val_loss: 21.8013 - val_root_mean_squared_error: 5268.8960\n",
      "Epoch 93/200\n",
      "1/1 [==============================] - 0s 23ms/step - loss: 2.0300 - root_mean_squared_error: 528.1072 - val_loss: 22.8736 - val_root_mean_squared_error: 5527.8335\n",
      "Epoch 94/200\n",
      "1/1 [==============================] - 0s 23ms/step - loss: 1.0582 - root_mean_squared_error: 284.7620 - val_loss: 23.8745 - val_root_mean_squared_error: 5769.5542\n",
      "Epoch 95/200\n",
      "1/1 [==============================] - 0s 22ms/step - loss: 1.0408 - root_mean_squared_error: 322.9742 - val_loss: 24.8113 - val_root_mean_squared_error: 5995.7769\n",
      "Epoch 96/200\n",
      "1/1 [==============================] - 0s 22ms/step - loss: 2.0656 - root_mean_squared_error: 553.9512 - val_loss: 22.0721 - val_root_mean_squared_error: 5334.2827\n",
      "Epoch 97/200\n",
      "1/1 [==============================] - 0s 23ms/step - loss: 1.7256 - root_mean_squared_error: 468.3771 - val_loss: 23.2889 - val_root_mean_squared_error: 5628.1338\n",
      "Epoch 98/200\n",
      "1/1 [==============================] - 0s 22ms/step - loss: 1.0335 - root_mean_squared_error: 264.8474 - val_loss: 24.4172 - val_root_mean_squared_error: 5900.6162\n",
      "Epoch 99/200\n",
      "1/1 [==============================] - 0s 24ms/step - loss: 1.4746 - root_mean_squared_error: 443.6412 - val_loss: 21.8332 - val_root_mean_squared_error: 5276.5947\n",
      "Epoch 100/200\n",
      "1/1 [==============================] - 0s 22ms/step - loss: 2.1040 - root_mean_squared_error: 543.7974 - val_loss: 23.1996 - val_root_mean_squared_error: 5606.5581\n",
      "Epoch 101/200\n",
      "1/1 [==============================] - 0s 23ms/step - loss: 1.0122 - root_mean_squared_error: 273.1822 - val_loss: 24.4596 - val_root_mean_squared_error: 5910.8384\n",
      "Epoch 102/200\n",
      "1/1 [==============================] - 0s 22ms/step - loss: 1.4849 - root_mean_squared_error: 450.2839 - val_loss: 22.0044 - val_root_mean_squared_error: 5317.9482\n",
      "Epoch 103/200\n",
      "1/1 [==============================] - 0s 23ms/step - loss: 1.9188 - root_mean_squared_error: 507.8245 - val_loss: 23.4701 - val_root_mean_squared_error: 5671.8789\n",
      "Epoch 104/200\n",
      "1/1 [==============================] - 0s 23ms/step - loss: 0.9760 - root_mean_squared_error: 277.1846 - val_loss: 24.8164 - val_root_mean_squared_error: 5997.0244\n",
      "Epoch 105/200\n",
      "1/1 [==============================] - 0s 23ms/step - loss: 1.9233 - root_mean_squared_error: 538.3101 - val_loss: 22.4689 - val_root_mean_squared_error: 5430.1040\n",
      "Epoch 106/200\n",
      "1/1 [==============================] - 0s 23ms/step - loss: 1.6096 - root_mean_squared_error: 402.5288 - val_loss: 22.2403 - val_root_mean_squared_error: 5374.9082\n",
      "Epoch 107/200\n",
      "1/1 [==============================] - 0s 23ms/step - loss: 1.7717 - root_mean_squared_error: 458.3763 - val_loss: 23.9460 - val_root_mean_squared_error: 5786.8247\n",
      "Epoch 108/200\n",
      "1/1 [==============================] - 0s 23ms/step - loss: 0.9570 - root_mean_squared_error: 320.1172 - val_loss: 23.7283 - val_root_mean_squared_error: 5734.2495\n",
      "Epoch 109/200\n",
      "1/1 [==============================] - 0s 23ms/step - loss: 0.9043 - root_mean_squared_error: 277.4467 - val_loss: 23.5669 - val_root_mean_squared_error: 5695.2686\n",
      "Epoch 110/200\n",
      "1/1 [==============================] - 0s 23ms/step - loss: 0.8785 - root_mean_squared_error: 252.2332 - val_loss: 23.4562 - val_root_mean_squared_error: 5668.5225\n",
      "Epoch 111/200\n",
      "1/1 [==============================] - 0s 23ms/step - loss: 0.8351 - root_mean_squared_error: 238.9770 - val_loss: 23.3904 - val_root_mean_squared_error: 5652.6460\n",
      "Epoch 112/200\n",
      "1/1 [==============================] - 0s 22ms/step - loss: 0.8728 - root_mean_squared_error: 233.6447 - val_loss: 25.2371 - val_root_mean_squared_error: 6098.6240\n",
      "Epoch 113/200\n",
      "1/1 [==============================] - 0s 23ms/step - loss: 2.3579 - root_mean_squared_error: 599.2887 - val_loss: 23.2863 - val_root_mean_squared_error: 5627.4951\n",
      "Epoch 114/200\n",
      "1/1 [==============================] - 0s 26ms/step - loss: 0.9513 - root_mean_squared_error: 234.4179 - val_loss: 23.4344 - val_root_mean_squared_error: 5663.2603\n",
      "Epoch 115/200\n",
      "1/1 [==============================] - 0s 24ms/step - loss: 0.8044 - root_mean_squared_error: 216.4485 - val_loss: 25.4715 - val_root_mean_squared_error: 6155.2236\n",
      "Epoch 116/200\n",
      "1/1 [==============================] - 0s 24ms/step - loss: 2.6616 - root_mean_squared_error: 653.3622 - val_loss: 23.7005 - val_root_mean_squared_error: 5727.5386\n",
      "Epoch 117/200\n",
      "1/1 [==============================] - 0s 23ms/step - loss: 0.7207 - root_mean_squared_error: 212.4862 - val_loss: 20.1714 - val_root_mean_squared_error: 4875.3096\n",
      "Epoch 118/200\n",
      "1/1 [==============================] - 0s 23ms/step - loss: 4.7211 - root_mean_squared_error: 1112.2340 - val_loss: 20.8774 - val_root_mean_squared_error: 5045.7959\n",
      "Epoch 119/200\n",
      "1/1 [==============================] - 0s 23ms/step - loss: 3.7395 - root_mean_squared_error: 891.8193 - val_loss: 25.2814 - val_root_mean_squared_error: 6109.3052\n",
      "Epoch 120/200\n",
      "1/1 [==============================] - 0s 23ms/step - loss: 2.4032 - root_mean_squared_error: 592.0919 - val_loss: 25.6047 - val_root_mean_squared_error: 6187.4028\n",
      "Epoch 121/200\n",
      "1/1 [==============================] - 0s 23ms/step - loss: 2.8537 - root_mean_squared_error: 690.2683 - val_loss: 22.3268 - val_root_mean_squared_error: 5395.7905\n",
      "Epoch 122/200\n",
      "1/1 [==============================] - 0s 23ms/step - loss: 1.7145 - root_mean_squared_error: 456.7797 - val_loss: 23.0667 - val_root_mean_squared_error: 5574.4795\n",
      "Epoch 123/200\n",
      "1/1 [==============================] - 0s 23ms/step - loss: 0.7822 - root_mean_squared_error: 274.1389 - val_loss: 25.6027 - val_root_mean_squared_error: 6186.9053\n",
      "Epoch 124/200\n",
      "1/1 [==============================] - 0s 23ms/step - loss: 2.8832 - root_mean_squared_error: 697.3526 - val_loss: 24.3395 - val_root_mean_squared_error: 5881.8516\n",
      "Epoch 125/200\n",
      "1/1 [==============================] - 0s 23ms/step - loss: 1.4343 - root_mean_squared_error: 349.1808 - val_loss: 21.3445 - val_root_mean_squared_error: 5158.5762\n",
      "Epoch 126/200\n",
      "1/1 [==============================] - 0s 23ms/step - loss: 3.0170 - root_mean_squared_error: 748.2705 - val_loss: 22.4022 - val_root_mean_squared_error: 5414.0034\n",
      "Epoch 127/200\n",
      "1/1 [==============================] - 0s 23ms/step - loss: 1.5426 - root_mean_squared_error: 440.4107 - val_loss: 26.9562 - val_root_mean_squared_error: 6513.7871\n",
      "Epoch 128/200\n",
      "1/1 [==============================] - 0s 23ms/step - loss: 4.7902 - root_mean_squared_error: 1123.9028 - val_loss: 27.5645 - val_root_mean_squared_error: 6660.7090\n",
      "Epoch 129/200\n",
      "1/1 [==============================] - 0s 23ms/step - loss: 5.6368 - root_mean_squared_error: 1315.9248 - val_loss: 24.7242 - val_root_mean_squared_error: 5974.7510\n",
      "Epoch 130/200\n",
      "1/1 [==============================] - 0s 24ms/step - loss: 1.7587 - root_mean_squared_error: 454.0683 - val_loss: 20.2626 - val_root_mean_squared_error: 4897.3340\n",
      "Epoch 131/200\n",
      "1/1 [==============================] - 0s 22ms/step - loss: 4.5323 - root_mean_squared_error: 1088.6958 - val_loss: 20.0053 - val_root_mean_squared_error: 4835.2139\n",
      "Epoch 132/200\n",
      "1/1 [==============================] - 0s 23ms/step - loss: 4.9075 - root_mean_squared_error: 1172.0813 - val_loss: 23.5486 - val_root_mean_squared_error: 5690.8574\n",
      "Epoch 133/200\n",
      "1/1 [==============================] - 0s 23ms/step - loss: 0.8576 - root_mean_squared_error: 237.7583 - val_loss: 24.8751 - val_root_mean_squared_error: 6011.1987\n",
      "Epoch 134/200\n",
      "1/1 [==============================] - 0s 37ms/step - loss: 1.8229 - root_mean_squared_error: 472.7857 - val_loss: 22.5261 - val_root_mean_squared_error: 5443.9312\n",
      "Epoch 135/200\n",
      "1/1 [==============================] - 0s 77ms/step - loss: 1.4771 - root_mean_squared_error: 415.1546 - val_loss: 24.0384 - val_root_mean_squared_error: 5809.1274\n",
      "Epoch 136/200\n",
      "1/1 [==============================] - 0s 31ms/step - loss: 1.0535 - root_mean_squared_error: 257.1734 - val_loss: 23.5981 - val_root_mean_squared_error: 5702.7974\n",
      "Epoch 137/200\n",
      "1/1 [==============================] - 0s 31ms/step - loss: 0.7330 - root_mean_squared_error: 215.8570 - val_loss: 23.2162 - val_root_mean_squared_error: 5610.5801\n",
      "Epoch 138/200\n",
      "1/1 [==============================] - 0s 28ms/step - loss: 0.8330 - root_mean_squared_error: 254.0240 - val_loss: 24.7384 - val_root_mean_squared_error: 5978.1802\n",
      "Epoch 139/200\n",
      "1/1 [==============================] - 0s 23ms/step - loss: 1.5388 - root_mean_squared_error: 411.8372 - val_loss: 22.5453 - val_root_mean_squared_error: 5448.5474\n",
      "Epoch 140/200\n",
      "1/1 [==============================] - 0s 23ms/step - loss: 1.4951 - root_mean_squared_error: 405.5030 - val_loss: 24.2081 - val_root_mean_squared_error: 5850.1162\n",
      "Epoch 141/200\n",
      "1/1 [==============================] - 0s 23ms/step - loss: 1.0710 - root_mean_squared_error: 282.2958 - val_loss: 23.9005 - val_root_mean_squared_error: 5775.8359\n",
      "Epoch 142/200\n",
      "1/1 [==============================] - 0s 23ms/step - loss: 0.8219 - root_mean_squared_error: 226.0562 - val_loss: 21.7926 - val_root_mean_squared_error: 5266.7935\n",
      "Epoch 143/200\n",
      "1/1 [==============================] - 0s 23ms/step - loss: 2.5613 - root_mean_squared_error: 625.5977 - val_loss: 23.5874 - val_root_mean_squared_error: 5700.2144\n",
      "Epoch 144/200\n",
      "1/1 [==============================] - 0s 24ms/step - loss: 0.6988 - root_mean_squared_error: 209.3516 - val_loss: 27.0048 - val_root_mean_squared_error: 6525.5366\n",
      "Epoch 145/200\n",
      "1/1 [==============================] - 0s 22ms/step - loss: 4.6486 - root_mean_squared_error: 1101.1506 - val_loss: 26.6475 - val_root_mean_squared_error: 6439.2271\n",
      "Epoch 146/200\n",
      "1/1 [==============================] - 0s 23ms/step - loss: 4.1515 - root_mean_squared_error: 989.3534 - val_loss: 22.8678 - val_root_mean_squared_error: 5526.4336\n",
      "Epoch 147/200\n",
      "1/1 [==============================] - 0s 23ms/step - loss: 1.2624 - root_mean_squared_error: 325.2038 - val_loss: 21.2762 - val_root_mean_squared_error: 5142.0918\n",
      "Epoch 148/200\n",
      "1/1 [==============================] - 0s 26ms/step - loss: 3.2879 - root_mean_squared_error: 783.7980 - val_loss: 23.5561 - val_root_mean_squared_error: 5692.6621\n",
      "Epoch 149/200\n",
      "1/1 [==============================] - 0s 22ms/step - loss: 0.7304 - root_mean_squared_error: 210.8291 - val_loss: 27.3849 - val_root_mean_squared_error: 6617.3154\n",
      "Epoch 150/200\n",
      "1/1 [==============================] - 0s 23ms/step - loss: 5.2218 - root_mean_squared_error: 1230.7943 - val_loss: 27.4213 - val_root_mean_squared_error: 6626.1167\n",
      "Epoch 151/200\n",
      "1/1 [==============================] - 0s 23ms/step - loss: 5.2956 - root_mean_squared_error: 1246.4198 - val_loss: 24.0696 - val_root_mean_squared_error: 5816.6548\n",
      "Epoch 152/200\n",
      "1/1 [==============================] - 0s 23ms/step - loss: 0.9336 - root_mean_squared_error: 261.2770 - val_loss: 19.1006 - val_root_mean_squared_error: 4616.7593\n",
      "Epoch 153/200\n",
      "1/1 [==============================] - 0s 22ms/step - loss: 6.2063 - root_mean_squared_error: 1449.2323 - val_loss: 18.4149 - val_root_mean_squared_error: 4451.2012\n",
      "Epoch 154/200\n",
      "1/1 [==============================] - 0s 23ms/step - loss: 7.1538 - root_mean_squared_error: 1666.5782 - val_loss: 21.6586 - val_root_mean_squared_error: 5234.4468\n",
      "Epoch 155/200\n",
      "1/1 [==============================] - 0s 23ms/step - loss: 2.6507 - root_mean_squared_error: 645.6757 - val_loss: 28.0301 - val_root_mean_squared_error: 6773.1528\n",
      "Epoch 156/200\n",
      "1/1 [==============================] - 0s 23ms/step - loss: 6.1675 - root_mean_squared_error: 1445.2522 - val_loss: 30.2991 - val_root_mean_squared_error: 7321.1479\n",
      "Epoch 157/200\n",
      "1/1 [==============================] - 0s 23ms/step - loss: 9.3016 - root_mean_squared_error: 2165.8699 - val_loss: 29.1897 - val_root_mean_squared_error: 7053.2056\n",
      "Epoch 158/200\n",
      "1/1 [==============================] - 0s 23ms/step - loss: 7.7734 - root_mean_squared_error: 1814.1001 - val_loss: 24.9196 - val_root_mean_squared_error: 6021.9463\n",
      "Epoch 159/200\n",
      "1/1 [==============================] - 0s 22ms/step - loss: 1.8769 - root_mean_squared_error: 484.6154 - val_loss: 17.3169 - val_root_mean_squared_error: 4186.0806\n",
      "Epoch 160/200\n",
      "1/1 [==============================] - 0s 24ms/step - loss: 8.6538 - root_mean_squared_error: 2011.6248 - val_loss: 14.1588 - val_root_mean_squared_error: 3423.7119\n",
      "Epoch 161/200\n",
      "1/1 [==============================] - 0s 22ms/step - loss: 13.0377 - root_mean_squared_error: 3022.5930 - val_loss: 15.4077 - val_root_mean_squared_error: 3725.1670\n",
      "Epoch 162/200\n",
      "1/1 [==============================] - 0s 26ms/step - loss: 11.3017 - root_mean_squared_error: 2621.9165 - val_loss: 20.4475 - val_root_mean_squared_error: 4941.9731\n",
      "Epoch 163/200\n",
      "1/1 [==============================] - 0s 23ms/step - loss: 4.3106 - root_mean_squared_error: 1017.3777 - val_loss: 28.2942 - val_root_mean_squared_error: 6836.9351\n",
      "Epoch 164/200\n",
      "1/1 [==============================] - 0s 23ms/step - loss: 6.5386 - root_mean_squared_error: 1531.0791 - val_loss: 31.8468 - val_root_mean_squared_error: 7694.9556\n",
      "Epoch 165/200\n",
      "1/1 [==============================] - 0s 22ms/step - loss: 11.4354 - root_mean_squared_error: 2658.6665 - val_loss: 32.0150 - val_root_mean_squared_error: 7735.5820\n",
      "Epoch 166/200\n",
      "1/1 [==============================] - 0s 24ms/step - loss: 11.6669 - root_mean_squared_error: 2712.1743 - val_loss: 29.1709 - val_root_mean_squared_error: 7048.6636\n",
      "Epoch 167/200\n",
      "1/1 [==============================] - 0s 23ms/step - loss: 7.7483 - root_mean_squared_error: 1809.1598 - val_loss: 23.2989 - val_root_mean_squared_error: 5630.5547\n",
      "Epoch 168/200\n",
      "1/1 [==============================] - 0s 23ms/step - loss: 0.7828 - root_mean_squared_error: 228.3700 - val_loss: 19.6085 - val_root_mean_squared_error: 4739.3970\n",
      "Epoch 169/200\n",
      "1/1 [==============================] - 0s 22ms/step - loss: 5.4563 - root_mean_squared_error: 1279.3789 - val_loss: 19.9620 - val_root_mean_squared_error: 4824.7471\n",
      "Epoch 170/200\n",
      "1/1 [==============================] - 0s 23ms/step - loss: 4.9580 - root_mean_squared_error: 1166.8547 - val_loss: 23.9004 - val_root_mean_squared_error: 5775.8066\n",
      "Epoch 171/200\n",
      "1/1 [==============================] - 0s 22ms/step - loss: 0.8927 - root_mean_squared_error: 245.4173 - val_loss: 25.6397 - val_root_mean_squared_error: 6195.8481\n",
      "Epoch 172/200\n",
      "1/1 [==============================] - 0s 22ms/step - loss: 2.8948 - root_mean_squared_error: 704.9131 - val_loss: 23.8446 - val_root_mean_squared_error: 5762.3335\n",
      "Epoch 173/200\n",
      "1/1 [==============================] - 0s 23ms/step - loss: 0.8374 - root_mean_squared_error: 237.1940 - val_loss: 20.4230 - val_root_mean_squared_error: 4936.0693\n",
      "Epoch 174/200\n",
      "1/1 [==============================] - 0s 25ms/step - loss: 4.3335 - root_mean_squared_error: 1024.1980 - val_loss: 20.9613 - val_root_mean_squared_error: 5066.0483\n",
      "Epoch 175/200\n",
      "1/1 [==============================] - 0s 23ms/step - loss: 3.6017 - root_mean_squared_error: 858.2865 - val_loss: 24.9888 - val_root_mean_squared_error: 6038.6470\n",
      "Epoch 176/200\n",
      "1/1 [==============================] - 0s 22ms/step - loss: 1.9538 - root_mean_squared_error: 505.4459 - val_loss: 25.1854 - val_root_mean_squared_error: 6086.1270\n",
      "Epoch 177/200\n",
      "1/1 [==============================] - 0s 23ms/step - loss: 2.2150 - root_mean_squared_error: 561.8426 - val_loss: 21.9759 - val_root_mean_squared_error: 5311.0581\n",
      "Epoch 178/200\n",
      "1/1 [==============================] - 0s 22ms/step - loss: 2.2295 - root_mean_squared_error: 555.1982 - val_loss: 22.5846 - val_root_mean_squared_error: 5458.0464\n",
      "Epoch 179/200\n",
      "1/1 [==============================] - 0s 22ms/step - loss: 1.4003 - root_mean_squared_error: 385.6841 - val_loss: 24.9178 - val_root_mean_squared_error: 6021.4946\n",
      "Epoch 180/200\n",
      "1/1 [==============================] - 0s 22ms/step - loss: 1.8296 - root_mean_squared_error: 482.9188 - val_loss: 23.6340 - val_root_mean_squared_error: 5711.4751\n",
      "Epoch 181/200\n",
      "1/1 [==============================] - 0s 23ms/step - loss: 0.8119 - root_mean_squared_error: 220.7248 - val_loss: 22.4944 - val_root_mean_squared_error: 5436.2754\n",
      "Epoch 182/200\n",
      "1/1 [==============================] - 0s 22ms/step - loss: 1.5236 - root_mean_squared_error: 410.1288 - val_loss: 24.9450 - val_root_mean_squared_error: 6028.0615\n",
      "Epoch 183/200\n",
      "1/1 [==============================] - 0s 22ms/step - loss: 1.8568 - root_mean_squared_error: 487.3144 - val_loss: 23.7687 - val_root_mean_squared_error: 5744.0029\n",
      "Epoch 184/200\n",
      "1/1 [==============================] - 0s 22ms/step - loss: 0.7932 - root_mean_squared_error: 225.3306 - val_loss: 22.7277 - val_root_mean_squared_error: 5492.6118\n",
      "Epoch 185/200\n",
      "1/1 [==============================] - 0s 22ms/step - loss: 1.2941 - root_mean_squared_error: 352.6815 - val_loss: 23.5914 - val_root_mean_squared_error: 5701.1787\n",
      "Epoch 186/200\n",
      "1/1 [==============================] - 0s 27ms/step - loss: 0.7697 - root_mean_squared_error: 214.5116 - val_loss: 24.3958 - val_root_mean_squared_error: 5895.4302\n",
      "Epoch 187/200\n",
      "1/1 [==============================] - 0s 23ms/step - loss: 1.0964 - root_mean_squared_error: 328.0225 - val_loss: 23.3906 - val_root_mean_squared_error: 5652.6929\n",
      "Epoch 188/200\n",
      "1/1 [==============================] - 0s 23ms/step - loss: 0.8153 - root_mean_squared_error: 224.6762 - val_loss: 24.2761 - val_root_mean_squared_error: 5866.5298\n",
      "Epoch 189/200\n",
      "1/1 [==============================] - 0s 23ms/step - loss: 0.9977 - root_mean_squared_error: 291.8864 - val_loss: 23.3341 - val_root_mean_squared_error: 5639.0464\n",
      "Epoch 190/200\n",
      "1/1 [==============================] - 0s 22ms/step - loss: 0.8725 - root_mean_squared_error: 233.1496 - val_loss: 24.2847 - val_root_mean_squared_error: 5868.6230\n",
      "Epoch 191/200\n",
      "1/1 [==============================] - 0s 22ms/step - loss: 0.9877 - root_mean_squared_error: 287.3210 - val_loss: 23.3956 - val_root_mean_squared_error: 5653.8979\n",
      "Epoch 192/200\n",
      "1/1 [==============================] - 0s 22ms/step - loss: 0.8453 - root_mean_squared_error: 226.8352 - val_loss: 24.3982 - val_root_mean_squared_error: 5896.0103\n",
      "Epoch 193/200\n",
      "1/1 [==============================] - 0s 22ms/step - loss: 1.0515 - root_mean_squared_error: 307.9936 - val_loss: 23.5533 - val_root_mean_squared_error: 5691.9805\n",
      "Epoch 194/200\n",
      "1/1 [==============================] - 0s 23ms/step - loss: 0.7482 - root_mean_squared_error: 212.4098 - val_loss: 24.5968 - val_root_mean_squared_error: 5943.9800\n",
      "Epoch 195/200\n",
      "1/1 [==============================] - 0s 23ms/step - loss: 1.2213 - root_mean_squared_error: 352.9155 - val_loss: 22.0638 - val_root_mean_squared_error: 5332.2773\n",
      "Epoch 196/200\n",
      "1/1 [==============================] - 0s 23ms/step - loss: 2.2960 - root_mean_squared_error: 567.2711 - val_loss: 23.3485 - val_root_mean_squared_error: 5642.5161\n",
      "Epoch 197/200\n",
      "1/1 [==============================] - 0s 27ms/step - loss: 0.8752 - root_mean_squared_error: 236.9101 - val_loss: 26.2772 - val_root_mean_squared_error: 6349.8140\n",
      "Epoch 198/200\n",
      "1/1 [==============================] - 0s 23ms/step - loss: 3.5542 - root_mean_squared_error: 849.2992 - val_loss: 25.5459 - val_root_mean_squared_error: 6173.1821\n",
      "Epoch 199/200\n",
      "1/1 [==============================] - 0s 22ms/step - loss: 2.5516 - root_mean_squared_error: 625.6853 - val_loss: 21.4455 - val_root_mean_squared_error: 5182.9839\n",
      "Epoch 200/200\n",
      "1/1 [==============================] - 0s 23ms/step - loss: 3.1257 - root_mean_squared_error: 753.8071 - val_loss: 21.3152 - val_root_mean_squared_error: 5151.5122\n"
     ]
    },
    {
     "data": {
      "text/plain": [
       "<keras.callbacks.History at 0x7ff246d2b670>"
      ]
     },
     "execution_count": 143,
     "metadata": {},
     "output_type": "execute_result"
    }
   ],
   "source": [
    "model3.fit(X_train1, y_train1, validation_data=(X_val1, y_val1), epochs=200, callbacks=[cp3])"
   ]
  },
  {
   "cell_type": "code",
   "execution_count": 144,
   "metadata": {},
   "outputs": [
    {
     "name": "stdout",
     "output_type": "stream",
     "text": [
      "1/1 [==============================] - 0s 296ms/step\n"
     ]
    },
    {
     "data": {
      "text/html": [
       "<div>\n",
       "<style scoped>\n",
       "    .dataframe tbody tr th:only-of-type {\n",
       "        vertical-align: middle;\n",
       "    }\n",
       "\n",
       "    .dataframe tbody tr th {\n",
       "        vertical-align: top;\n",
       "    }\n",
       "\n",
       "    .dataframe thead th {\n",
       "        text-align: right;\n",
       "    }\n",
       "</style>\n",
       "<table border=\"1\" class=\"dataframe\">\n",
       "  <thead>\n",
       "    <tr style=\"text-align: right;\">\n",
       "      <th></th>\n",
       "      <th>Train Predictions</th>\n",
       "      <th>Actuals</th>\n",
       "    </tr>\n",
       "  </thead>\n",
       "  <tbody>\n",
       "    <tr>\n",
       "      <th>0</th>\n",
       "      <td>22456.437500</td>\n",
       "      <td>21453.0</td>\n",
       "    </tr>\n",
       "    <tr>\n",
       "      <th>1</th>\n",
       "      <td>22528.859375</td>\n",
       "      <td>21926.0</td>\n",
       "    </tr>\n",
       "    <tr>\n",
       "      <th>2</th>\n",
       "      <td>25745.533203</td>\n",
       "      <td>24945.0</td>\n",
       "    </tr>\n",
       "    <tr>\n",
       "      <th>3</th>\n",
       "      <td>25770.376953</td>\n",
       "      <td>24365.0</td>\n",
       "    </tr>\n",
       "  </tbody>\n",
       "</table>\n",
       "</div>"
      ],
      "text/plain": [
       "   Train Predictions  Actuals\n",
       "0       22456.437500  21453.0\n",
       "1       22528.859375  21926.0\n",
       "2       25745.533203  24945.0\n",
       "3       25770.376953  24365.0"
      ]
     },
     "execution_count": 144,
     "metadata": {},
     "output_type": "execute_result"
    }
   ],
   "source": [
    "model3 = load_model('model3/')\n",
    "train_predictions3 = model3.predict(X_train1).flatten()\n",
    "train_results3 = pd.DataFrame(data={'Train Predictions':train_predictions3, 'Actuals':y_train1})\n",
    "train_results3"
   ]
  },
  {
   "cell_type": "code",
   "execution_count": 145,
   "metadata": {},
   "outputs": [
    {
     "data": {
      "text/plain": [
       "(20000.0, 28000.0)"
      ]
     },
     "execution_count": 145,
     "metadata": {},
     "output_type": "execute_result"
    },
    {
     "data": {
      "image/png": "[encoded data removed]",
      "text/plain": [
       "<Figure size 432x288 with 1 Axes>"
      ]
     },
     "metadata": {
      "needs_background": "light"
     },
     "output_type": "display_data"
    }
   ],
   "source": [
    "train_results3.index=['2013','2014','2015','2016']\n",
    "plt.plot(train_results3['Train Predictions'])\n",
    "plt.plot(train_results3['Actuals'])\n",
    "\n",
    "plt.legend(['Prediction', 'Actual'], loc='lower right')\n",
    "plt.ylim(20000,30000)\n",
    "pyplot.xlabel(\"Years\")\n",
    "pyplot.ylabel(\"Food Loss\")\n",
    "plt.title(\"GRU\")\n",
    "plt.ylim(20000,28000)"
   ]
  },
  {
   "cell_type": "code",
   "execution_count": 146,
   "metadata": {},
   "outputs": [
    {
     "name": "stdout",
     "output_type": "stream",
     "text": [
      "dict_keys(['loss', 'root_mean_squared_error', 'val_loss', 'val_root_mean_squared_error'])\n"
     ]
    },
    {
     "data": {
      "image/png": "[encoded data removed]",
      "text/plain": [
       "<Figure size 576x432 with 1 Axes>"
      ]
     },
     "metadata": {
      "needs_background": "light"
     },
     "output_type": "display_data"
    }
   ],
   "source": [
    "history = model3.fit(X_train1, y_train1, validation_data=(X_val1, y_val1), epochs=100, verbose=0)\n",
    "print(history.history.keys())\n",
    "\n",
    "\n",
    "figure(figsize=(8, 6))\n",
    "plt.plot(history.history['loss'])\n",
    "plt.plot(history.history['val_loss'])\n",
    "plt.title('model loss')\n",
    "plt.ylabel('loss')\n",
    "plt.xlabel('epoch')\n",
    "plt.legend(['train', 'test'], loc='upper left')\n",
    "plt.show()"
   ]
  },
  {
   "cell_type": "code",
   "execution_count": 147,
   "metadata": {},
   "outputs": [
    {
     "name": "stdout",
     "output_type": "stream",
     "text": [
      "1/1 [==============================] - 0s 16ms/step\n"
     ]
    },
    {
     "data": {
      "text/html": [
       "<div>\n",
       "<style scoped>\n",
       "    .dataframe tbody tr th:only-of-type {\n",
       "        vertical-align: middle;\n",
       "    }\n",
       "\n",
       "    .dataframe tbody tr th {\n",
       "        vertical-align: top;\n",
       "    }\n",
       "\n",
       "    .dataframe thead th {\n",
       "        text-align: right;\n",
       "    }\n",
       "</style>\n",
       "<table border=\"1\" class=\"dataframe\">\n",
       "  <thead>\n",
       "    <tr style=\"text-align: right;\">\n",
       "      <th></th>\n",
       "      <th>Val Predictions</th>\n",
       "      <th>Actuals</th>\n",
       "    </tr>\n",
       "  </thead>\n",
       "  <tbody>\n",
       "    <tr>\n",
       "      <th>0</th>\n",
       "      <td>17401.720703</td>\n",
       "      <td>24293.0</td>\n",
       "    </tr>\n",
       "    <tr>\n",
       "      <th>1</th>\n",
       "      <td>17401.720703</td>\n",
       "      <td>24021.0</td>\n",
       "    </tr>\n",
       "  </tbody>\n",
       "</table>\n",
       "</div>"
      ],
      "text/plain": [
       "   Val Predictions  Actuals\n",
       "0     17401.720703  24293.0\n",
       "1     17401.720703  24021.0"
      ]
     },
     "execution_count": 147,
     "metadata": {},
     "output_type": "execute_result"
    }
   ],
   "source": [
    "val_predictions3 = model3.predict(X_val1).flatten()\n",
    "val_results3 = pd.DataFrame(data={'Val Predictions':val_predictions3, 'Actuals':y_val1})\n",
    "val_results3"
   ]
  },
  {
   "cell_type": "code",
   "execution_count": 148,
   "metadata": {},
   "outputs": [
    {
     "data": {
      "text/html": [
       "<div>\n",
       "<style scoped>\n",
       "    .dataframe tbody tr th:only-of-type {\n",
       "        vertical-align: middle;\n",
       "    }\n",
       "\n",
       "    .dataframe tbody tr th {\n",
       "        vertical-align: top;\n",
       "    }\n",
       "\n",
       "    .dataframe thead th {\n",
       "        text-align: right;\n",
       "    }\n",
       "</style>\n",
       "<table border=\"1\" class=\"dataframe\">\n",
       "  <thead>\n",
       "    <tr style=\"text-align: right;\">\n",
       "      <th></th>\n",
       "      <th>Population</th>\n",
       "      <th>Actual Loss</th>\n",
       "    </tr>\n",
       "  </thead>\n",
       "  <tbody>\n",
       "    <tr>\n",
       "      <th>Y2010</th>\n",
       "      <td>1399503000.0</td>\n",
       "      <td>19013.0</td>\n",
       "    </tr>\n",
       "    <tr>\n",
       "      <th>Y2011</th>\n",
       "      <td>1407325000.0</td>\n",
       "      <td>19976.0</td>\n",
       "    </tr>\n",
       "    <tr>\n",
       "      <th>Y2012</th>\n",
       "      <td>1415164000.0</td>\n",
       "      <td>21105.0</td>\n",
       "    </tr>\n",
       "    <tr>\n",
       "      <th>Y2013</th>\n",
       "      <td>1422971000.0</td>\n",
       "      <td>21453.0</td>\n",
       "    </tr>\n",
       "    <tr>\n",
       "      <th>Y2014</th>\n",
       "      <td>1430671000.0</td>\n",
       "      <td>21926.0</td>\n",
       "    </tr>\n",
       "    <tr>\n",
       "      <th>Y2015</th>\n",
       "      <td>1438193000.0</td>\n",
       "      <td>24945.0</td>\n",
       "    </tr>\n",
       "    <tr>\n",
       "      <th>Y2016</th>\n",
       "      <td>1445524000.0</td>\n",
       "      <td>24365.0</td>\n",
       "    </tr>\n",
       "    <tr>\n",
       "      <th>Y2017</th>\n",
       "      <td>1452626000.0</td>\n",
       "      <td>24293.0</td>\n",
       "    </tr>\n",
       "    <tr>\n",
       "      <th>Y2018</th>\n",
       "      <td>1459378000.0</td>\n",
       "      <td>24021.0</td>\n",
       "    </tr>\n",
       "    <tr>\n",
       "      <th>Y2019</th>\n",
       "      <td>1465634000.0</td>\n",
       "      <td>23997.0</td>\n",
       "    </tr>\n",
       "  </tbody>\n",
       "</table>\n",
       "</div>"
      ],
      "text/plain": [
       "         Population Actual Loss\n",
       "Y2010  1399503000.0     19013.0\n",
       "Y2011  1407325000.0     19976.0\n",
       "Y2012  1415164000.0     21105.0\n",
       "Y2013  1422971000.0     21453.0\n",
       "Y2014  1430671000.0     21926.0\n",
       "Y2015  1438193000.0     24945.0\n",
       "Y2016  1445524000.0     24365.0\n",
       "Y2017  1452626000.0     24293.0\n",
       "Y2018  1459378000.0     24021.0\n",
       "Y2019  1465634000.0     23997.0"
      ]
     },
     "execution_count": 148,
     "metadata": {},
     "output_type": "execute_result"
    }
   ],
   "source": [
    "lstm_data"
   ]
  },
  {
   "cell_type": "code",
   "execution_count": 152,
   "metadata": {},
   "outputs": [
    {
     "ename": "ValueError",
     "evalue": "Failed to convert a NumPy array to a Tensor (Unsupported object type int).",
     "output_type": "error",
     "traceback": [
      "\u001b[0;31m---------------------------------------------------------------------------\u001b[0m",
      "\u001b[0;31mValueError\u001b[0m                                Traceback (most recent call last)",
      "\u001b[1;32m/Users/murathansaygili/Desktop/SIC/Food-Supply-Chain/module_2.ipynb Cell 65\u001b[0m in \u001b[0;36m<cell line: 2>\u001b[0;34m()\u001b[0m\n\u001b[1;32m      <a href='vscode-notebook-cell:/Users/murathansaygili/Desktop/SIC/Food-Supply-Chain/module_2.ipynb#ch0000054?line=0'>1</a>\u001b[0m lstm_data[\u001b[39m\"\u001b[39m\u001b[39mActual Loss\u001b[39m\u001b[39m\"\u001b[39m][\u001b[39m6\u001b[39m:]\u001b[39m=\u001b[39mtf\u001b[39m.\u001b[39mconvert_to_tensor(lstm_data[\u001b[39m\"\u001b[39m\u001b[39mActual Loss\u001b[39m\u001b[39m\"\u001b[39m][\u001b[39m6\u001b[39m:][\u001b[39m0\u001b[39m], dtype\u001b[39m=\u001b[39mtf\u001b[39m.\u001b[39mint64)\n\u001b[0;32m----> <a href='vscode-notebook-cell:/Users/murathansaygili/Desktop/SIC/Food-Supply-Chain/module_2.ipynb#ch0000054?line=1'>2</a>\u001b[0m test_predictions3 \u001b[39m=\u001b[39m model3\u001b[39m.\u001b[39;49mpredict(lstm_data[\u001b[39m\"\u001b[39;49m\u001b[39mActual Loss\u001b[39;49m\u001b[39m\"\u001b[39;49m][\u001b[39m6\u001b[39;49m:])\u001b[39m.\u001b[39mflatten()\n\u001b[1;32m      <a href='vscode-notebook-cell:/Users/murathansaygili/Desktop/SIC/Food-Supply-Chain/module_2.ipynb#ch0000054?line=2'>3</a>\u001b[0m test_results3 \u001b[39m=\u001b[39m pd\u001b[39m.\u001b[39mDataFrame(data\u001b[39m=\u001b[39m{\u001b[39m'\u001b[39m\u001b[39mTest Predictions\u001b[39m\u001b[39m'\u001b[39m:test_predictions3, \u001b[39m'\u001b[39m\u001b[39mActuals\u001b[39m\u001b[39m'\u001b[39m:y_test1})\n\u001b[1;32m      <a href='vscode-notebook-cell:/Users/murathansaygili/Desktop/SIC/Food-Supply-Chain/module_2.ipynb#ch0000054?line=3'>4</a>\u001b[0m test_results3\n",
      "File \u001b[0;32m~/Desktop/SIC/venv/lib/python3.9/site-packages/keras/utils/traceback_utils.py:67\u001b[0m, in \u001b[0;36mfilter_traceback.<locals>.error_handler\u001b[0;34m(*args, **kwargs)\u001b[0m\n\u001b[1;32m     65\u001b[0m \u001b[39mexcept\u001b[39;00m \u001b[39mException\u001b[39;00m \u001b[39mas\u001b[39;00m e:  \u001b[39m# pylint: disable=broad-except\u001b[39;00m\n\u001b[1;32m     66\u001b[0m   filtered_tb \u001b[39m=\u001b[39m _process_traceback_frames(e\u001b[39m.\u001b[39m__traceback__)\n\u001b[0;32m---> 67\u001b[0m   \u001b[39mraise\u001b[39;00m e\u001b[39m.\u001b[39mwith_traceback(filtered_tb) \u001b[39mfrom\u001b[39;00m \u001b[39mNone\u001b[39m\n\u001b[1;32m     68\u001b[0m \u001b[39mfinally\u001b[39;00m:\n\u001b[1;32m     69\u001b[0m   \u001b[39mdel\u001b[39;00m filtered_tb\n",
      "File \u001b[0;32m~/Desktop/SIC/venv/lib/python3.9/site-packages/tensorflow/python/framework/constant_op.py:102\u001b[0m, in \u001b[0;36mconvert_to_eager_tensor\u001b[0;34m(value, ctx, dtype)\u001b[0m\n\u001b[1;32m    100\u001b[0m     dtype \u001b[39m=\u001b[39m dtypes\u001b[39m.\u001b[39mas_dtype(dtype)\u001b[39m.\u001b[39mas_datatype_enum\n\u001b[1;32m    101\u001b[0m ctx\u001b[39m.\u001b[39mensure_initialized()\n\u001b[0;32m--> 102\u001b[0m \u001b[39mreturn\u001b[39;00m ops\u001b[39m.\u001b[39;49mEagerTensor(value, ctx\u001b[39m.\u001b[39;49mdevice_name, dtype)\n",
      "\u001b[0;31mValueError\u001b[0m: Failed to convert a NumPy array to a Tensor (Unsupported object type int)."
     ]
    }
   ],
   "source": [
    "lstm_data[\"Actual Loss\"][6:]=tf.convert_to_tensor(lstm_data[\"Actual Loss\"][6:], dtype=tf.int64)\n",
    "test_predictions3 = model3.predict(lstm_data[\"Actual Loss\"][6:]).flatten()\n",
    "test_results3 = pd.DataFrame(data={'Test Predictions':test_predictions3, 'Actuals':y_test1})\n",
    "test_results3"
   ]
  },
  {
   "cell_type": "code",
   "execution_count": 345,
   "metadata": {},
   "outputs": [
    {
     "data": {
      "text/plain": [
       "array([19013, 19976, 21105])"
      ]
     },
     "execution_count": 345,
     "metadata": {},
     "output_type": "execute_result"
    }
   ],
   "source": [
    "lstm_data[\"Actual Loss\"][:3].values"
   ]
  },
  {
   "cell_type": "code",
   "execution_count": 444,
   "metadata": {},
   "outputs": [
    {
     "data": {
      "text/plain": [
       "array([[[24365.],\n",
       "        [24293.],\n",
       "        [24021.]]])"
      ]
     },
     "execution_count": 444,
     "metadata": {},
     "output_type": "execute_result"
    }
   ],
   "source": [
    "X_test1"
   ]
  },
  {
   "cell_type": "code",
   "execution_count": 449,
   "metadata": {},
   "outputs": [
    {
     "name": "stdout",
     "output_type": "stream",
     "text": [
      "1/1 [==============================] - 0s 56ms/step\n"
     ]
    }
   ],
   "source": [
    "# lstm_data[\"Actual Loss\"][:3]=tf.convert_to_tensor(lstm_data[\"Actual Loss\"][:3], dtype=tf.int64)\n",
    "final_predictions=model3.predict([[[24159]]]).flatten()\n",
    "final_result=pd.DataFrame(data={'Predictions':final_predictions, 'Actuals':[24159]})"
   ]
  },
  {
   "cell_type": "code",
   "execution_count": 450,
   "metadata": {},
   "outputs": [
    {
     "data": {
      "text/html": [
       "<div>\n",
       "<style scoped>\n",
       "    .dataframe tbody tr th:only-of-type {\n",
       "        vertical-align: middle;\n",
       "    }\n",
       "\n",
       "    .dataframe tbody tr th {\n",
       "        vertical-align: top;\n",
       "    }\n",
       "\n",
       "    .dataframe thead th {\n",
       "        text-align: right;\n",
       "    }\n",
       "</style>\n",
       "<table border=\"1\" class=\"dataframe\">\n",
       "  <thead>\n",
       "    <tr style=\"text-align: right;\">\n",
       "      <th></th>\n",
       "      <th>Predictions</th>\n",
       "      <th>Actuals</th>\n",
       "    </tr>\n",
       "  </thead>\n",
       "  <tbody>\n",
       "    <tr>\n",
       "      <th>0</th>\n",
       "      <td>23180.673828</td>\n",
       "      <td>24159</td>\n",
       "    </tr>\n",
       "  </tbody>\n",
       "</table>\n",
       "</div>"
      ],
      "text/plain": [
       "    Predictions  Actuals\n",
       "0  23180.673828    24159"
      ]
     },
     "execution_count": 450,
     "metadata": {},
     "output_type": "execute_result"
    }
   ],
   "source": [
    "final_result"
   ]
  },
  {
   "cell_type": "code",
   "execution_count": 339,
   "metadata": {},
   "outputs": [
    {
     "data": {
      "text/html": [
       "<div>\n",
       "<style scoped>\n",
       "    .dataframe tbody tr th:only-of-type {\n",
       "        vertical-align: middle;\n",
       "    }\n",
       "\n",
       "    .dataframe tbody tr th {\n",
       "        vertical-align: top;\n",
       "    }\n",
       "\n",
       "    .dataframe thead th {\n",
       "        text-align: right;\n",
       "    }\n",
       "</style>\n",
       "<table border=\"1\" class=\"dataframe\">\n",
       "  <thead>\n",
       "    <tr style=\"text-align: right;\">\n",
       "      <th></th>\n",
       "      <th>Predictions</th>\n",
       "      <th>Actuals</th>\n",
       "    </tr>\n",
       "  </thead>\n",
       "  <tbody>\n",
       "    <tr>\n",
       "      <th>Y2010</th>\n",
       "      <td>23180.671875</td>\n",
       "      <td>19013</td>\n",
       "    </tr>\n",
       "    <tr>\n",
       "      <th>Y2011</th>\n",
       "      <td>23180.671875</td>\n",
       "      <td>19976</td>\n",
       "    </tr>\n",
       "    <tr>\n",
       "      <th>Y2012</th>\n",
       "      <td>23180.671875</td>\n",
       "      <td>21105</td>\n",
       "    </tr>\n",
       "    <tr>\n",
       "      <th>Y2013</th>\n",
       "      <td>23180.671875</td>\n",
       "      <td>21453</td>\n",
       "    </tr>\n",
       "    <tr>\n",
       "      <th>Y2014</th>\n",
       "      <td>23180.671875</td>\n",
       "      <td>21926</td>\n",
       "    </tr>\n",
       "    <tr>\n",
       "      <th>Y2015</th>\n",
       "      <td>23180.671875</td>\n",
       "      <td>24945</td>\n",
       "    </tr>\n",
       "    <tr>\n",
       "      <th>Y2016</th>\n",
       "      <td>23180.671875</td>\n",
       "      <td>24365</td>\n",
       "    </tr>\n",
       "    <tr>\n",
       "      <th>Y2017</th>\n",
       "      <td>23180.671875</td>\n",
       "      <td>24293</td>\n",
       "    </tr>\n",
       "    <tr>\n",
       "      <th>Y2018</th>\n",
       "      <td>23180.671875</td>\n",
       "      <td>24021</td>\n",
       "    </tr>\n",
       "    <tr>\n",
       "      <th>Y2019</th>\n",
       "      <td>23180.671875</td>\n",
       "      <td>23997</td>\n",
       "    </tr>\n",
       "  </tbody>\n",
       "</table>\n",
       "</div>"
      ],
      "text/plain": [
       "        Predictions  Actuals\n",
       "Y2010  23180.671875    19013\n",
       "Y2011  23180.671875    19976\n",
       "Y2012  23180.671875    21105\n",
       "Y2013  23180.671875    21453\n",
       "Y2014  23180.671875    21926\n",
       "Y2015  23180.671875    24945\n",
       "Y2016  23180.671875    24365\n",
       "Y2017  23180.671875    24293\n",
       "Y2018  23180.671875    24021\n",
       "Y2019  23180.671875    23997"
      ]
     },
     "execution_count": 339,
     "metadata": {},
     "output_type": "execute_result"
    }
   ],
   "source": [
    "final_result"
   ]
  },
  {
   "cell_type": "markdown",
   "metadata": {},
   "source": [
    "# Multi-variate Dataset"
   ]
  },
  {
   "cell_type": "code",
   "execution_count": 230,
   "metadata": {},
   "outputs": [],
   "source": [
    "def df_to_X_y2(df, window_size=5):\n",
    "  df_as_np = df.to_numpy()\n",
    "  X = []\n",
    "  y = []\n",
    "  for i in range(len(df_as_np)-window_size):\n",
    "    row = [r for r in df_as_np[i:i+window_size]]\n",
    "    X.append(row)\n",
    "    label = df_as_np[i+window_size][0]\n",
    "    y.append(label)\n",
    "  return np.array(X), np.array(y)"
   ]
  },
  {
   "cell_type": "code",
   "execution_count": 231,
   "metadata": {},
   "outputs": [
    {
     "data": {
      "text/plain": [
       "((5, 5, 2), (5,))"
      ]
     },
     "execution_count": 231,
     "metadata": {},
     "output_type": "execute_result"
    }
   ],
   "source": [
    "X2, y2 = df_to_X_y2(lstm_data)\n",
    "X2.shape, y2.shape"
   ]
  },
  {
   "cell_type": "code",
   "execution_count": 232,
   "metadata": {},
   "outputs": [],
   "source": [
    "# loss_training_mean = np.mean(X_train2[:, :, 1])\n",
    "# loss_training_std = np.std(X_train2[:, :, 1])\n",
    "                           \n",
    "# def preprocess_loss(X):\n",
    "#   X[:, :, 1] = (X[:, :, 1] - loss_training_mean) / loss_training_std\n",
    "#   return X\n",
    "\n",
    "# pop_training_mean = np.mean(X_train2[:, :, 0])\n",
    "# pop_training_std = np.std(X_train2[:, :, 0])\n",
    "                           \n",
    "# def preprocess_pop(X):\n",
    "#   X[:, :, 0] = (X[:, :, 0] - pop_training_mean) / pop_training_std\n",
    "#   return X\n",
    "\n",
    "loss_mean = np.mean(X2[:, :, 1])\n",
    "loss_std = np.std(X2[:, :, 1])\n",
    "                           \n",
    "def preprocess_loss(X):\n",
    "  X[:, :, 1] = (X[:, :, 1] - loss_mean) / loss_std\n",
    "  return X\n",
    "\n",
    "pop_mean = np.mean(X_train2[:, :, 0])\n",
    "pop_std = np.std(X_train2[:, :, 0])\n",
    "                           \n",
    "def preprocess_pop(X):\n",
    "  X[:, :, 0] = (X[:, :, 0] - pop_mean) / pop_std\n",
    "  return X"
   ]
  },
  {
   "cell_type": "code",
   "execution_count": 233,
   "metadata": {},
   "outputs": [
    {
     "data": {
      "text/plain": [
       "array([[[2212808536.1193137, -1.9669935250211181],\n",
       "        [2225176204.048232, -1.4281233840900263],\n",
       "        [2237570751.337262, -0.7963638938395562],\n",
       "        [2249914702.183729, -0.6016320049049559],\n",
       "        [2262089471.175378, -0.33695331678407703]],\n",
       "\n",
       "       [[2225176204.048232, -1.4281233840900263],\n",
       "        [2237570751.337262, -0.7963638938395562],\n",
       "        [2249914702.183729, -0.6016320049049559],\n",
       "        [2262089471.175378, -0.33695331678407703],\n",
       "        [2273982797.455271, 1.3524017771629284]],\n",
       "\n",
       "       [[2237570751.337262, -0.7963638938395562],\n",
       "        [2249914702.183729, -0.6016320049049559],\n",
       "        [2262089471.175378, -0.33695331678407703],\n",
       "        [2273982797.455271, 1.3524017771629284],\n",
       "        [2285574126.218618, 1.0278486289385949]],\n",
       "\n",
       "       [[2249914702.183729, -0.6016320049049559],\n",
       "        [2262089471.175378, -0.33695331678407703],\n",
       "        [2273982797.455271, 1.3524017771629284],\n",
       "        [2285574126.218618, 1.0278486289385949],\n",
       "        [2296803374.189876, 0.9875592726072983]],\n",
       "\n",
       "       [[2262089471.175378, -0.33695331678407703],\n",
       "        [2273982797.455271, 1.3524017771629284],\n",
       "        [2285574126.218618, 1.0278486289385949],\n",
       "        [2296803374.189876, 0.9875592726072983],\n",
       "        [2307479223.5706043, 0.8353550375779556]]], dtype=object)"
      ]
     },
     "execution_count": 233,
     "metadata": {},
     "output_type": "execute_result"
    }
   ],
   "source": [
    "# preprocess_loss(X_train2)\n",
    "# preprocess_loss(X_val2)\n",
    "# preprocess_loss(X_test2)\n",
    "# preprocess_pop(X_train2)\n",
    "# preprocess_pop(X_val2)\n",
    "# preprocess_pop(X_test2)\n",
    "X2=X2[:]\n",
    "preprocess_loss(X2)\n",
    "preprocess_pop(X2)"
   ]
  },
  {
   "cell_type": "code",
   "execution_count": 234,
   "metadata": {},
   "outputs": [
    {
     "data": {
      "text/plain": [
       "((3, 5, 2), (3,), (1, 5, 2), (1,), (1, 5, 2), (1,))"
      ]
     },
     "execution_count": 234,
     "metadata": {},
     "output_type": "execute_result"
    }
   ],
   "source": [
    "X_train2, y_train2 = X2[:3], y2[:3]\n",
    "X_val2, y_val2 = X2[3:4], y2[3:4]\n",
    "X_test2, y_test2 = X2[4:], y2[4:]\n",
    "X_train2.shape, y_train2.shape, X_val2.shape, y_val2.shape, X_test2.shape, y_test2.shape"
   ]
  },
  {
   "cell_type": "code",
   "execution_count": 235,
   "metadata": {},
   "outputs": [],
   "source": [
    "X_train2=tf.convert_to_tensor(X_train2, dtype=tf.int64)\n",
    "y_train2=tf.convert_to_tensor(y_train2, dtype=tf.int64)\n",
    "X_val2=tf.convert_to_tensor(X_val2, dtype=tf.int64)\n",
    "y_val2=tf.convert_to_tensor(y_val2, dtype=tf.int64)\n",
    "X_test2=tf.convert_to_tensor(X_test2, dtype=tf.int64)\n",
    "y_test2=tf.convert_to_tensor(y_test2, dtype=tf.int64)\n"
   ]
  },
  {
   "cell_type": "markdown",
   "metadata": {},
   "source": [
    "# MODEL 4"
   ]
  },
  {
   "cell_type": "code",
   "execution_count": 534,
   "metadata": {},
   "outputs": [
    {
     "name": "stdout",
     "output_type": "stream",
     "text": [
      "Model: \"sequential_35\"\n",
      "_________________________________________________________________\n",
      " Layer (type)                Output Shape              Param #   \n",
      "=================================================================\n",
      " lstm_11 (LSTM)              (None, 64)                17152     \n",
      "                                                                 \n",
      " dense_76 (Dense)            (None, 8)                 520       \n",
      "                                                                 \n",
      " dense_77 (Dense)            (None, 1)                 9         \n",
      "                                                                 \n",
      "=================================================================\n",
      "Total params: 17,681\n",
      "Trainable params: 17,681\n",
      "Non-trainable params: 0\n",
      "_________________________________________________________________\n"
     ]
    }
   ],
   "source": [
    "model4 = Sequential()\n",
    "model4.add(InputLayer((5, 2)))\n",
    "model4.add(LSTM(64))\n",
    "model4.add(Dense(8, 'relu'))\n",
    "model4.add(Dense(1, 'linear'))\n",
    "model4.summary()"
   ]
  },
  {
   "cell_type": "code",
   "execution_count": 535,
   "metadata": {},
   "outputs": [],
   "source": [
    "cp4 = ModelCheckpoint('model4/', save_best_only=True)\n",
    "model4.compile(loss=MeanSquaredError(), optimizer=Adam(learning_rate=100), metrics=[RootMeanSquaredError()])"
   ]
  },
  {
   "cell_type": "code",
   "execution_count": 536,
   "metadata": {},
   "outputs": [
    {
     "name": "stdout",
     "output_type": "stream",
     "text": [
      "Epoch 1/20\n",
      "1/1 [==============================] - ETA: 0s - loss: 2089353705190064128.0000 - root_mean_squared_error: 1445459712.0000"
     ]
    },
    {
     "name": "stderr",
     "output_type": "stream",
     "text": [
      "WARNING:absl:Found untraced functions such as lstm_cell_22_layer_call_fn, lstm_cell_22_layer_call_and_return_conditional_losses while saving (showing 2 of 2). These functions will not be directly callable after loading.\n"
     ]
    },
    {
     "name": "stdout",
     "output_type": "stream",
     "text": [
      "INFO:tensorflow:Assets written to: model4/assets\n"
     ]
    },
    {
     "name": "stderr",
     "output_type": "stream",
     "text": [
      "INFO:tensorflow:Assets written to: model4/assets\n"
     ]
    },
    {
     "name": "stdout",
     "output_type": "stream",
     "text": [
      "1/1 [==============================] - 10s 10s/step - loss: 2089353705190064128.0000 - root_mean_squared_error: 1445459712.0000 - val_loss: 2129490277650399232.0000 - val_root_mean_squared_error: 1459277312.0000\n",
      "Epoch 2/20\n",
      "1/1 [==============================] - ETA: 0s - loss: 2089062609486610432.0000 - root_mean_squared_error: 1445358976.0000"
     ]
    },
    {
     "name": "stderr",
     "output_type": "stream",
     "text": [
      "WARNING:absl:Found untraced functions such as lstm_cell_22_layer_call_fn, lstm_cell_22_layer_call_and_return_conditional_losses while saving (showing 2 of 2). These functions will not be directly callable after loading.\n"
     ]
    },
    {
     "name": "stdout",
     "output_type": "stream",
     "text": [
      "INFO:tensorflow:Assets written to: model4/assets\n"
     ]
    },
    {
     "name": "stderr",
     "output_type": "stream",
     "text": [
      "INFO:tensorflow:Assets written to: model4/assets\n"
     ]
    },
    {
     "name": "stdout",
     "output_type": "stream",
     "text": [
      "1/1 [==============================] - 3s 3s/step - loss: 2089062609486610432.0000 - root_mean_squared_error: 1445358976.0000 - val_loss: 2128890768935354368.0000 - val_root_mean_squared_error: 1459071872.0000\n",
      "Epoch 3/20\n",
      "1/1 [==============================] - ETA: 0s - loss: 2088468598329704448.0000 - root_mean_squared_error: 1445153536.0000"
     ]
    },
    {
     "name": "stderr",
     "output_type": "stream",
     "text": [
      "WARNING:absl:Found untraced functions such as lstm_cell_22_layer_call_fn, lstm_cell_22_layer_call_and_return_conditional_losses while saving (showing 2 of 2). These functions will not be directly callable after loading.\n"
     ]
    },
    {
     "name": "stdout",
     "output_type": "stream",
     "text": [
      "INFO:tensorflow:Assets written to: model4/assets\n"
     ]
    },
    {
     "name": "stderr",
     "output_type": "stream",
     "text": [
      "INFO:tensorflow:Assets written to: model4/assets\n"
     ]
    },
    {
     "name": "stdout",
     "output_type": "stream",
     "text": [
      "1/1 [==============================] - 3s 3s/step - loss: 2088468598329704448.0000 - root_mean_squared_error: 1445153536.0000 - val_loss: 2127823280583737344.0000 - val_root_mean_squared_error: 1458706048.0000\n",
      "Epoch 4/20\n",
      "1/1 [==============================] - ETA: 0s - loss: 2087411417899597824.0000 - root_mean_squared_error: 1444787712.0000"
     ]
    },
    {
     "name": "stderr",
     "output_type": "stream",
     "text": [
      "WARNING:absl:Found untraced functions such as lstm_cell_22_layer_call_fn, lstm_cell_22_layer_call_and_return_conditional_losses while saving (showing 2 of 2). These functions will not be directly callable after loading.\n"
     ]
    },
    {
     "name": "stdout",
     "output_type": "stream",
     "text": [
      "INFO:tensorflow:Assets written to: model4/assets\n"
     ]
    },
    {
     "name": "stderr",
     "output_type": "stream",
     "text": [
      "INFO:tensorflow:Assets written to: model4/assets\n"
     ]
    },
    {
     "name": "stdout",
     "output_type": "stream",
     "text": [
      "1/1 [==============================] - 3s 3s/step - loss: 2087411417899597824.0000 - root_mean_squared_error: 1444787712.0000 - val_loss: 2126259637610086400.0000 - val_root_mean_squared_error: 1458169984.0000\n",
      "Epoch 5/20\n",
      "1/1 [==============================] - ETA: 0s - loss: 2085862755771875328.0000 - root_mean_squared_error: 1444251648.0000"
     ]
    },
    {
     "name": "stderr",
     "output_type": "stream",
     "text": [
      "WARNING:absl:Found untraced functions such as lstm_cell_22_layer_call_fn, lstm_cell_22_layer_call_and_return_conditional_losses while saving (showing 2 of 2). These functions will not be directly callable after loading.\n"
     ]
    },
    {
     "name": "stdout",
     "output_type": "stream",
     "text": [
      "INFO:tensorflow:Assets written to: model4/assets\n"
     ]
    },
    {
     "name": "stderr",
     "output_type": "stream",
     "text": [
      "INFO:tensorflow:Assets written to: model4/assets\n"
     ]
    },
    {
     "name": "stdout",
     "output_type": "stream",
     "text": [
      "1/1 [==============================] - 3s 3s/step - loss: 2085862755771875328.0000 - root_mean_squared_error: 1444251648.0000 - val_loss: 2124173451735334912.0000 - val_root_mean_squared_error: 1457454464.0000\n",
      "Epoch 6/20\n",
      "1/1 [==============================] - ETA: 0s - loss: 2083796635984330752.0000 - root_mean_squared_error: 1443536128.0000"
     ]
    },
    {
     "name": "stderr",
     "output_type": "stream",
     "text": [
      "WARNING:absl:Found untraced functions such as lstm_cell_22_layer_call_fn, lstm_cell_22_layer_call_and_return_conditional_losses while saving (showing 2 of 2). These functions will not be directly callable after loading.\n"
     ]
    },
    {
     "name": "stdout",
     "output_type": "stream",
     "text": [
      "INFO:tensorflow:Assets written to: model4/assets\n"
     ]
    },
    {
     "name": "stderr",
     "output_type": "stream",
     "text": [
      "INFO:tensorflow:Assets written to: model4/assets\n"
     ]
    },
    {
     "name": "stdout",
     "output_type": "stream",
     "text": [
      "1/1 [==============================] - 3s 3s/step - loss: 2083796635984330752.0000 - root_mean_squared_error: 1443536128.0000 - val_loss: 2121538746997276672.0000 - val_root_mean_squared_error: 1456550272.0000\n",
      "Epoch 7/20\n",
      "1/1 [==============================] - ETA: 0s - loss: 2081186945135804416.0000 - root_mean_squared_error: 1442631936.0000"
     ]
    },
    {
     "name": "stderr",
     "output_type": "stream",
     "text": [
      "WARNING:absl:Found untraced functions such as lstm_cell_22_layer_call_fn, lstm_cell_22_layer_call_and_return_conditional_losses while saving (showing 2 of 2). These functions will not be directly callable after loading.\n"
     ]
    },
    {
     "name": "stdout",
     "output_type": "stream",
     "text": [
      "INFO:tensorflow:Assets written to: model4/assets\n"
     ]
    },
    {
     "name": "stderr",
     "output_type": "stream",
     "text": [
      "INFO:tensorflow:Assets written to: model4/assets\n"
     ]
    },
    {
     "name": "stdout",
     "output_type": "stream",
     "text": [
      "1/1 [==============================] - 3s 3s/step - loss: 2081186945135804416.0000 - root_mean_squared_error: 1442631936.0000 - val_loss: 2118329822311612416.0000 - val_root_mean_squared_error: 1455448320.0000\n",
      "Epoch 8/20\n",
      "1/1 [==============================] - ETA: 0s - loss: 2078008669336764416.0000 - root_mean_squared_error: 1441529984.0000"
     ]
    },
    {
     "name": "stderr",
     "output_type": "stream",
     "text": [
      "WARNING:absl:Found untraced functions such as lstm_cell_22_layer_call_fn, lstm_cell_22_layer_call_and_return_conditional_losses while saving (showing 2 of 2). These functions will not be directly callable after loading.\n"
     ]
    },
    {
     "name": "stdout",
     "output_type": "stream",
     "text": [
      "INFO:tensorflow:Assets written to: model4/assets\n"
     ]
    },
    {
     "name": "stderr",
     "output_type": "stream",
     "text": [
      "INFO:tensorflow:Assets written to: model4/assets\n"
     ]
    },
    {
     "name": "stdout",
     "output_type": "stream",
     "text": [
      "1/1 [==============================] - 3s 3s/step - loss: 2078008669336764416.0000 - root_mean_squared_error: 1441529984.0000 - val_loss: 2114520976594042880.0000 - val_root_mean_squared_error: 1454139264.0000\n",
      "Epoch 9/20\n",
      "1/1 [==============================] - ETA: 0s - loss: 2074236382380818432.0000 - root_mean_squared_error: 1440220928.0000"
     ]
    },
    {
     "name": "stderr",
     "output_type": "stream",
     "text": [
      "WARNING:absl:Found untraced functions such as lstm_cell_22_layer_call_fn, lstm_cell_22_layer_call_and_return_conditional_losses while saving (showing 2 of 2). These functions will not be directly callable after loading.\n"
     ]
    },
    {
     "name": "stdout",
     "output_type": "stream",
     "text": [
      "INFO:tensorflow:Assets written to: model4/assets\n"
     ]
    },
    {
     "name": "stderr",
     "output_type": "stream",
     "text": [
      "INFO:tensorflow:Assets written to: model4/assets\n"
     ]
    },
    {
     "name": "stdout",
     "output_type": "stream",
     "text": [
      "1/1 [==============================] - 3s 3s/step - loss: 2074236382380818432.0000 - root_mean_squared_error: 1440220928.0000 - val_loss: 2110088570344570880.0000 - val_root_mean_squared_error: 1452614400.0000\n",
      "Epoch 10/20\n",
      "1/1 [==============================] - ETA: 0s - loss: 2069846444767969280.0000 - root_mean_squared_error: 1438696064.0000"
     ]
    },
    {
     "name": "stderr",
     "output_type": "stream",
     "text": [
      "WARNING:absl:Found untraced functions such as lstm_cell_22_layer_call_fn, lstm_cell_22_layer_call_and_return_conditional_losses while saving (showing 2 of 2). These functions will not be directly callable after loading.\n"
     ]
    },
    {
     "name": "stdout",
     "output_type": "stream",
     "text": [
      "INFO:tensorflow:Assets written to: model4/assets\n"
     ]
    },
    {
     "name": "stderr",
     "output_type": "stream",
     "text": [
      "INFO:tensorflow:Assets written to: model4/assets\n"
     ]
    },
    {
     "name": "stdout",
     "output_type": "stream",
     "text": [
      "1/1 [==============================] - 5s 5s/step - loss: 2069846444767969280.0000 - root_mean_squared_error: 1438696064.0000 - val_loss: 2105007039917850624.0000 - val_root_mean_squared_error: 1450864256.0000\n",
      "Epoch 11/20\n",
      "1/1 [==============================] - ETA: 0s - loss: 2064813705169731584.0000 - root_mean_squared_error: 1436945920.0000"
     ]
    },
    {
     "name": "stderr",
     "output_type": "stream",
     "text": [
      "WARNING:absl:Found untraced functions such as lstm_cell_22_layer_call_fn, lstm_cell_22_layer_call_and_return_conditional_losses while saving (showing 2 of 2). These functions will not be directly callable after loading.\n"
     ]
    },
    {
     "name": "stdout",
     "output_type": "stream",
     "text": [
      "INFO:tensorflow:Assets written to: model4/assets\n"
     ]
    },
    {
     "name": "stderr",
     "output_type": "stream",
     "text": [
      "INFO:tensorflow:Assets written to: model4/assets\n"
     ]
    },
    {
     "name": "stdout",
     "output_type": "stream",
     "text": [
      "1/1 [==============================] - 5s 5s/step - loss: 2064813705169731584.0000 - root_mean_squared_error: 1436945920.0000 - val_loss: 2099253295569698816.0000 - val_root_mean_squared_error: 1448880000.0000\n",
      "Epoch 12/20\n",
      "1/1 [==============================] - ETA: 0s - loss: 2059115211280875520.0000 - root_mean_squared_error: 1434961792.0000"
     ]
    },
    {
     "name": "stderr",
     "output_type": "stream",
     "text": [
      "WARNING:absl:Found untraced functions such as lstm_cell_22_layer_call_fn, lstm_cell_22_layer_call_and_return_conditional_losses while saving (showing 2 of 2). These functions will not be directly callable after loading.\n"
     ]
    },
    {
     "name": "stdout",
     "output_type": "stream",
     "text": [
      "INFO:tensorflow:Assets written to: model4/assets\n"
     ]
    },
    {
     "name": "stderr",
     "output_type": "stream",
     "text": [
      "INFO:tensorflow:Assets written to: model4/assets\n"
     ]
    },
    {
     "name": "stdout",
     "output_type": "stream",
     "text": [
      "1/1 [==============================] - 5s 5s/step - loss: 2059115211280875520.0000 - root_mean_squared_error: 1434961792.0000 - val_loss: 2092803148044304384.0000 - val_root_mean_squared_error: 1446652416.0000\n",
      "Epoch 13/20\n",
      "1/1 [==============================] - ETA: 0s - loss: 2052727186162450432.0000 - root_mean_squared_error: 1432734208.0000"
     ]
    },
    {
     "name": "stderr",
     "output_type": "stream",
     "text": [
      "WARNING:absl:Found untraced functions such as lstm_cell_22_layer_call_fn, lstm_cell_22_layer_call_and_return_conditional_losses while saving (showing 2 of 2). These functions will not be directly callable after loading.\n"
     ]
    },
    {
     "name": "stdout",
     "output_type": "stream",
     "text": [
      "INFO:tensorflow:Assets written to: model4/assets\n"
     ]
    },
    {
     "name": "stderr",
     "output_type": "stream",
     "text": [
      "INFO:tensorflow:Assets written to: model4/assets\n"
     ]
    },
    {
     "name": "stdout",
     "output_type": "stream",
     "text": [
      "1/1 [==============================] - 5s 5s/step - loss: 2052727186162450432.0000 - root_mean_squared_error: 1432734208.0000 - val_loss: 2085635019425972224.0000 - val_root_mean_squared_error: 1444172800.0000\n",
      "Epoch 14/20\n",
      "1/1 [==============================] - ETA: 0s - loss: 2045628189337714688.0000 - root_mean_squared_error: 1430254592.0000"
     ]
    },
    {
     "name": "stderr",
     "output_type": "stream",
     "text": [
      "WARNING:absl:Found untraced functions such as lstm_cell_22_layer_call_fn, lstm_cell_22_layer_call_and_return_conditional_losses while saving (showing 2 of 2). These functions will not be directly callable after loading.\n"
     ]
    },
    {
     "name": "stdout",
     "output_type": "stream",
     "text": [
      "INFO:tensorflow:Assets written to: model4/assets\n"
     ]
    },
    {
     "name": "stderr",
     "output_type": "stream",
     "text": [
      "INFO:tensorflow:Assets written to: model4/assets\n"
     ]
    },
    {
     "name": "stdout",
     "output_type": "stream",
     "text": [
      "1/1 [==============================] - 4s 4s/step - loss: 2045628189337714688.0000 - root_mean_squared_error: 1430254592.0000 - val_loss: 2077725957409472512.0000 - val_root_mean_squared_error: 1441431936.0000\n",
      "Epoch 15/20\n",
      "1/1 [==============================] - ETA: 0s - loss: 2037795405940391936.0000 - root_mean_squared_error: 1427513728.0000"
     ]
    },
    {
     "name": "stderr",
     "output_type": "stream",
     "text": [
      "WARNING:absl:Found untraced functions such as lstm_cell_22_layer_call_fn, lstm_cell_22_layer_call_and_return_conditional_losses while saving (showing 2 of 2). These functions will not be directly callable after loading.\n"
     ]
    },
    {
     "name": "stdout",
     "output_type": "stream",
     "text": [
      "INFO:tensorflow:Assets written to: model4/assets\n"
     ]
    },
    {
     "name": "stderr",
     "output_type": "stream",
     "text": [
      "INFO:tensorflow:Assets written to: model4/assets\n"
     ]
    },
    {
     "name": "stdout",
     "output_type": "stream",
     "text": [
      "1/1 [==============================] - 3s 3s/step - loss: 2037795405940391936.0000 - root_mean_squared_error: 1427513728.0000 - val_loss: 2069055621029691392.0000 - val_root_mean_squared_error: 1438421248.0000\n",
      "Epoch 16/20\n",
      "1/1 [==============================] - ETA: 0s - loss: 2029209044761182208.0000 - root_mean_squared_error: 1424503040.0000"
     ]
    },
    {
     "name": "stderr",
     "output_type": "stream",
     "text": [
      "WARNING:absl:Found untraced functions such as lstm_cell_22_layer_call_fn, lstm_cell_22_layer_call_and_return_conditional_losses while saving (showing 2 of 2). These functions will not be directly callable after loading.\n"
     ]
    },
    {
     "name": "stdout",
     "output_type": "stream",
     "text": [
      "INFO:tensorflow:Assets written to: model4/assets\n"
     ]
    },
    {
     "name": "stderr",
     "output_type": "stream",
     "text": [
      "INFO:tensorflow:Assets written to: model4/assets\n"
     ]
    },
    {
     "name": "stdout",
     "output_type": "stream",
     "text": [
      "1/1 [==============================] - 3s 3s/step - loss: 2029209044761182208.0000 - root_mean_squared_error: 1424503040.0000 - val_loss: 2059603257004654592.0000 - val_root_mean_squared_error: 1435131776.0000\n",
      "Epoch 17/20\n",
      "1/1 [==============================] - ETA: 0s - loss: 2019848077640204288.0000 - root_mean_squared_error: 1421213568.0000"
     ]
    },
    {
     "name": "stderr",
     "output_type": "stream",
     "text": [
      "WARNING:absl:Found untraced functions such as lstm_cell_22_layer_call_fn, lstm_cell_22_layer_call_and_return_conditional_losses while saving (showing 2 of 2). These functions will not be directly callable after loading.\n"
     ]
    },
    {
     "name": "stdout",
     "output_type": "stream",
     "text": [
      "INFO:tensorflow:Assets written to: model4/assets\n"
     ]
    },
    {
     "name": "stderr",
     "output_type": "stream",
     "text": [
      "INFO:tensorflow:Assets written to: model4/assets\n"
     ]
    },
    {
     "name": "stdout",
     "output_type": "stream",
     "text": [
      "1/1 [==============================] - 3s 3s/step - loss: 2019848077640204288.0000 - root_mean_squared_error: 1421213568.0000 - val_loss: 2049349898758782976.0000 - val_root_mean_squared_error: 1431555072.0000\n",
      "Epoch 18/20\n",
      "1/1 [==============================] - ETA: 0s - loss: 2009694500074553344.0000 - root_mean_squared_error: 1417636992.0000"
     ]
    },
    {
     "name": "stderr",
     "output_type": "stream",
     "text": [
      "WARNING:absl:Found untraced functions such as lstm_cell_22_layer_call_fn, lstm_cell_22_layer_call_and_return_conditional_losses while saving (showing 2 of 2). These functions will not be directly callable after loading.\n"
     ]
    },
    {
     "name": "stdout",
     "output_type": "stream",
     "text": [
      "INFO:tensorflow:Assets written to: model4/assets\n"
     ]
    },
    {
     "name": "stderr",
     "output_type": "stream",
     "text": [
      "INFO:tensorflow:Assets written to: model4/assets\n"
     ]
    },
    {
     "name": "stdout",
     "output_type": "stream",
     "text": [
      "1/1 [==============================] - 3s 3s/step - loss: 2009694500074553344.0000 - root_mean_squared_error: 1417636992.0000 - val_loss: 2038277129472311296.0000 - val_root_mean_squared_error: 1427682432.0000\n",
      "Epoch 19/20\n",
      "1/1 [==============================] - ETA: 0s - loss: 1998729620366557184.0000 - root_mean_squared_error: 1413764352.0000"
     ]
    },
    {
     "name": "stderr",
     "output_type": "stream",
     "text": [
      "WARNING:absl:Found untraced functions such as lstm_cell_22_layer_call_fn, lstm_cell_22_layer_call_and_return_conditional_losses while saving (showing 2 of 2). These functions will not be directly callable after loading.\n"
     ]
    },
    {
     "name": "stdout",
     "output_type": "stream",
     "text": [
      "INFO:tensorflow:Assets written to: model4/assets\n"
     ]
    },
    {
     "name": "stderr",
     "output_type": "stream",
     "text": [
      "INFO:tensorflow:Assets written to: model4/assets\n"
     ]
    },
    {
     "name": "stdout",
     "output_type": "stream",
     "text": [
      "1/1 [==============================] - 3s 3s/step - loss: 1998729620366557184.0000 - root_mean_squared_error: 1413764352.0000 - val_loss: 2026368044153962496.0000 - val_root_mean_squared_error: 1423505536.0000\n",
      "Epoch 20/20\n",
      "1/1 [==============================] - ETA: 0s - loss: 1986936945841799168.0000 - root_mean_squared_error: 1409587456.0000"
     ]
    },
    {
     "name": "stderr",
     "output_type": "stream",
     "text": [
      "WARNING:absl:Found untraced functions such as lstm_cell_22_layer_call_fn, lstm_cell_22_layer_call_and_return_conditional_losses while saving (showing 2 of 2). These functions will not be directly callable after loading.\n"
     ]
    },
    {
     "name": "stdout",
     "output_type": "stream",
     "text": [
      "INFO:tensorflow:Assets written to: model4/assets\n"
     ]
    },
    {
     "name": "stderr",
     "output_type": "stream",
     "text": [
      "INFO:tensorflow:Assets written to: model4/assets\n"
     ]
    },
    {
     "name": "stdout",
     "output_type": "stream",
     "text": [
      "1/1 [==============================] - 3s 3s/step - loss: 1986936945841799168.0000 - root_mean_squared_error: 1409587456.0000 - val_loss: 2013606974763040768.0000 - val_root_mean_squared_error: 1419016192.0000\n"
     ]
    },
    {
     "data": {
      "text/plain": [
       "<keras.callbacks.History at 0x7fdd76b1bbe0>"
      ]
     },
     "execution_count": 536,
     "metadata": {},
     "output_type": "execute_result"
    }
   ],
   "source": [
    "model4.fit(X_train2, y_train2, validation_data=(X_val2, y_val2), epochs=20, callbacks=[cp4])"
   ]
  },
  {
   "cell_type": "code",
   "execution_count": 537,
   "metadata": {},
   "outputs": [
    {
     "name": "stdout",
     "output_type": "stream",
     "text": [
      "1/1 [==============================] - 0s 394ms/step\n"
     ]
    },
    {
     "data": {
      "text/html": [
       "<div>\n",
       "<style scoped>\n",
       "    .dataframe tbody tr th:only-of-type {\n",
       "        vertical-align: middle;\n",
       "    }\n",
       "\n",
       "    .dataframe tbody tr th {\n",
       "        vertical-align: top;\n",
       "    }\n",
       "\n",
       "    .dataframe thead th {\n",
       "        text-align: right;\n",
       "    }\n",
       "</style>\n",
       "<table border=\"1\" class=\"dataframe\">\n",
       "  <thead>\n",
       "    <tr style=\"text-align: right;\">\n",
       "      <th></th>\n",
       "      <th>Train Predictions</th>\n",
       "      <th>Actuals</th>\n",
       "    </tr>\n",
       "  </thead>\n",
       "  <tbody>\n",
       "    <tr>\n",
       "      <th>0</th>\n",
       "      <td>40361816.0</td>\n",
       "      <td>1438193000</td>\n",
       "    </tr>\n",
       "    <tr>\n",
       "      <th>1</th>\n",
       "      <td>40361816.0</td>\n",
       "      <td>1445524000</td>\n",
       "    </tr>\n",
       "    <tr>\n",
       "      <th>2</th>\n",
       "      <td>40361816.0</td>\n",
       "      <td>1452626000</td>\n",
       "    </tr>\n",
       "  </tbody>\n",
       "</table>\n",
       "</div>"
      ],
      "text/plain": [
       "   Train Predictions     Actuals\n",
       "0         40361816.0  1438193000\n",
       "1         40361816.0  1445524000\n",
       "2         40361816.0  1452626000"
      ]
     },
     "execution_count": 537,
     "metadata": {},
     "output_type": "execute_result"
    }
   ],
   "source": [
    "model4 = load_model('model4/')\n",
    "train_predictions4 = model4.predict(X_train2).flatten()\n",
    "train_results4 = pd.DataFrame(data={'Train Predictions':train_predictions4, 'Actuals':y_train2})\n",
    "train_results4"
   ]
  },
  {
   "cell_type": "code",
   "execution_count": 538,
   "metadata": {},
   "outputs": [
    {
     "data": {
      "text/plain": [
       "<matplotlib.legend.Legend at 0x7fdd06611610>"
      ]
     },
     "execution_count": 538,
     "metadata": {},
     "output_type": "execute_result"
    },
    {
     "data": {
      "image/png": "[encoded data removed]",
      "text/plain": [
       "<Figure size 432x288 with 1 Axes>"
      ]
     },
     "metadata": {
      "needs_background": "light"
     },
     "output_type": "display_data"
    }
   ],
   "source": [
    "plt.plot(train_results4['Train Predictions'])\n",
    "plt.plot(train_results4['Actuals'])\n",
    "plt.legend(['Prediction', 'Actual'], loc='upper left')"
   ]
  },
  {
   "cell_type": "code",
   "execution_count": 539,
   "metadata": {},
   "outputs": [
    {
     "name": "stderr",
     "output_type": "stream",
     "text": [
      "WARNING:absl:Found untraced functions such as lstm_cell_23_layer_call_fn, lstm_cell_23_layer_call_and_return_conditional_losses while saving (showing 2 of 2). These functions will not be directly callable after loading.\n"
     ]
    },
    {
     "name": "stdout",
     "output_type": "stream",
     "text": [
      "INFO:tensorflow:Assets written to: model4/assets\n"
     ]
    },
    {
     "name": "stderr",
     "output_type": "stream",
     "text": [
      "INFO:tensorflow:Assets written to: model4/assets\n",
      "WARNING:absl:Found untraced functions such as lstm_cell_23_layer_call_fn, lstm_cell_23_layer_call_and_return_conditional_losses while saving (showing 2 of 2). These functions will not be directly callable after loading.\n"
     ]
    },
    {
     "name": "stdout",
     "output_type": "stream",
     "text": [
      "INFO:tensorflow:Assets written to: model4/assets\n"
     ]
    },
    {
     "name": "stderr",
     "output_type": "stream",
     "text": [
      "INFO:tensorflow:Assets written to: model4/assets\n",
      "WARNING:absl:Found untraced functions such as lstm_cell_23_layer_call_fn, lstm_cell_23_layer_call_and_return_conditional_losses while saving (showing 2 of 2). These functions will not be directly callable after loading.\n"
     ]
    },
    {
     "name": "stdout",
     "output_type": "stream",
     "text": [
      "INFO:tensorflow:Assets written to: model4/assets\n"
     ]
    },
    {
     "name": "stderr",
     "output_type": "stream",
     "text": [
      "INFO:tensorflow:Assets written to: model4/assets\n",
      "WARNING:absl:Found untraced functions such as lstm_cell_23_layer_call_fn, lstm_cell_23_layer_call_and_return_conditional_losses while saving (showing 2 of 2). These functions will not be directly callable after loading.\n"
     ]
    },
    {
     "name": "stdout",
     "output_type": "stream",
     "text": [
      "INFO:tensorflow:Assets written to: model4/assets\n"
     ]
    },
    {
     "name": "stderr",
     "output_type": "stream",
     "text": [
      "INFO:tensorflow:Assets written to: model4/assets\n",
      "WARNING:absl:Found untraced functions such as lstm_cell_23_layer_call_fn, lstm_cell_23_layer_call_and_return_conditional_losses while saving (showing 2 of 2). These functions will not be directly callable after loading.\n"
     ]
    },
    {
     "name": "stdout",
     "output_type": "stream",
     "text": [
      "INFO:tensorflow:Assets written to: model4/assets\n"
     ]
    },
    {
     "name": "stderr",
     "output_type": "stream",
     "text": [
      "INFO:tensorflow:Assets written to: model4/assets\n",
      "WARNING:absl:Found untraced functions such as lstm_cell_23_layer_call_fn, lstm_cell_23_layer_call_and_return_conditional_losses while saving (showing 2 of 2). These functions will not be directly callable after loading.\n"
     ]
    },
    {
     "name": "stdout",
     "output_type": "stream",
     "text": [
      "INFO:tensorflow:Assets written to: model4/assets\n"
     ]
    },
    {
     "name": "stderr",
     "output_type": "stream",
     "text": [
      "INFO:tensorflow:Assets written to: model4/assets\n",
      "WARNING:absl:Found untraced functions such as lstm_cell_23_layer_call_fn, lstm_cell_23_layer_call_and_return_conditional_losses while saving (showing 2 of 2). These functions will not be directly callable after loading.\n"
     ]
    },
    {
     "name": "stdout",
     "output_type": "stream",
     "text": [
      "INFO:tensorflow:Assets written to: model4/assets\n"
     ]
    },
    {
     "name": "stderr",
     "output_type": "stream",
     "text": [
      "INFO:tensorflow:Assets written to: model4/assets\n",
      "WARNING:absl:Found untraced functions such as lstm_cell_23_layer_call_fn, lstm_cell_23_layer_call_and_return_conditional_losses while saving (showing 2 of 2). These functions will not be directly callable after loading.\n"
     ]
    },
    {
     "name": "stdout",
     "output_type": "stream",
     "text": [
      "INFO:tensorflow:Assets written to: model4/assets\n"
     ]
    },
    {
     "name": "stderr",
     "output_type": "stream",
     "text": [
      "INFO:tensorflow:Assets written to: model4/assets\n",
      "WARNING:absl:Found untraced functions such as lstm_cell_23_layer_call_fn, lstm_cell_23_layer_call_and_return_conditional_losses while saving (showing 2 of 2). These functions will not be directly callable after loading.\n"
     ]
    },
    {
     "name": "stdout",
     "output_type": "stream",
     "text": [
      "INFO:tensorflow:Assets written to: model4/assets\n"
     ]
    },
    {
     "name": "stderr",
     "output_type": "stream",
     "text": [
      "INFO:tensorflow:Assets written to: model4/assets\n",
      "WARNING:absl:Found untraced functions such as lstm_cell_23_layer_call_fn, lstm_cell_23_layer_call_and_return_conditional_losses while saving (showing 2 of 2). These functions will not be directly callable after loading.\n"
     ]
    },
    {
     "name": "stdout",
     "output_type": "stream",
     "text": [
      "INFO:tensorflow:Assets written to: model4/assets\n"
     ]
    },
    {
     "name": "stderr",
     "output_type": "stream",
     "text": [
      "INFO:tensorflow:Assets written to: model4/assets\n",
      "WARNING:absl:Found untraced functions such as lstm_cell_23_layer_call_fn, lstm_cell_23_layer_call_and_return_conditional_losses while saving (showing 2 of 2). These functions will not be directly callable after loading.\n"
     ]
    },
    {
     "name": "stdout",
     "output_type": "stream",
     "text": [
      "INFO:tensorflow:Assets written to: model4/assets\n"
     ]
    },
    {
     "name": "stderr",
     "output_type": "stream",
     "text": [
      "INFO:tensorflow:Assets written to: model4/assets\n",
      "WARNING:absl:Found untraced functions such as lstm_cell_23_layer_call_fn, lstm_cell_23_layer_call_and_return_conditional_losses while saving (showing 2 of 2). These functions will not be directly callable after loading.\n"
     ]
    },
    {
     "name": "stdout",
     "output_type": "stream",
     "text": [
      "INFO:tensorflow:Assets written to: model4/assets\n"
     ]
    },
    {
     "name": "stderr",
     "output_type": "stream",
     "text": [
      "INFO:tensorflow:Assets written to: model4/assets\n",
      "WARNING:absl:Found untraced functions such as lstm_cell_23_layer_call_fn, lstm_cell_23_layer_call_and_return_conditional_losses while saving (showing 2 of 2). These functions will not be directly callable after loading.\n"
     ]
    },
    {
     "name": "stdout",
     "output_type": "stream",
     "text": [
      "INFO:tensorflow:Assets written to: model4/assets\n"
     ]
    },
    {
     "name": "stderr",
     "output_type": "stream",
     "text": [
      "INFO:tensorflow:Assets written to: model4/assets\n",
      "WARNING:absl:Found untraced functions such as lstm_cell_23_layer_call_fn, lstm_cell_23_layer_call_and_return_conditional_losses while saving (showing 2 of 2). These functions will not be directly callable after loading.\n"
     ]
    },
    {
     "name": "stdout",
     "output_type": "stream",
     "text": [
      "INFO:tensorflow:Assets written to: model4/assets\n"
     ]
    },
    {
     "name": "stderr",
     "output_type": "stream",
     "text": [
      "INFO:tensorflow:Assets written to: model4/assets\n",
      "WARNING:absl:Found untraced functions such as lstm_cell_23_layer_call_fn, lstm_cell_23_layer_call_and_return_conditional_losses while saving (showing 2 of 2). These functions will not be directly callable after loading.\n"
     ]
    },
    {
     "name": "stdout",
     "output_type": "stream",
     "text": [
      "INFO:tensorflow:Assets written to: model4/assets\n"
     ]
    },
    {
     "name": "stderr",
     "output_type": "stream",
     "text": [
      "INFO:tensorflow:Assets written to: model4/assets\n",
      "WARNING:absl:Found untraced functions such as lstm_cell_23_layer_call_fn, lstm_cell_23_layer_call_and_return_conditional_losses while saving (showing 2 of 2). These functions will not be directly callable after loading.\n"
     ]
    },
    {
     "name": "stdout",
     "output_type": "stream",
     "text": [
      "INFO:tensorflow:Assets written to: model4/assets\n"
     ]
    },
    {
     "name": "stderr",
     "output_type": "stream",
     "text": [
      "INFO:tensorflow:Assets written to: model4/assets\n",
      "WARNING:absl:Found untraced functions such as lstm_cell_23_layer_call_fn, lstm_cell_23_layer_call_and_return_conditional_losses while saving (showing 2 of 2). These functions will not be directly callable after loading.\n"
     ]
    },
    {
     "name": "stdout",
     "output_type": "stream",
     "text": [
      "INFO:tensorflow:Assets written to: model4/assets\n"
     ]
    },
    {
     "name": "stderr",
     "output_type": "stream",
     "text": [
      "INFO:tensorflow:Assets written to: model4/assets\n",
      "WARNING:absl:Found untraced functions such as lstm_cell_23_layer_call_fn, lstm_cell_23_layer_call_and_return_conditional_losses while saving (showing 2 of 2). These functions will not be directly callable after loading.\n"
     ]
    },
    {
     "name": "stdout",
     "output_type": "stream",
     "text": [
      "INFO:tensorflow:Assets written to: model4/assets\n"
     ]
    },
    {
     "name": "stderr",
     "output_type": "stream",
     "text": [
      "INFO:tensorflow:Assets written to: model4/assets\n",
      "WARNING:absl:Found untraced functions such as lstm_cell_23_layer_call_fn, lstm_cell_23_layer_call_and_return_conditional_losses while saving (showing 2 of 2). These functions will not be directly callable after loading.\n"
     ]
    },
    {
     "name": "stdout",
     "output_type": "stream",
     "text": [
      "INFO:tensorflow:Assets written to: model4/assets\n"
     ]
    },
    {
     "name": "stderr",
     "output_type": "stream",
     "text": [
      "INFO:tensorflow:Assets written to: model4/assets\n",
      "WARNING:absl:Found untraced functions such as lstm_cell_23_layer_call_fn, lstm_cell_23_layer_call_and_return_conditional_losses while saving (showing 2 of 2). These functions will not be directly callable after loading.\n"
     ]
    },
    {
     "name": "stdout",
     "output_type": "stream",
     "text": [
      "INFO:tensorflow:Assets written to: model4/assets\n"
     ]
    },
    {
     "name": "stderr",
     "output_type": "stream",
     "text": [
      "INFO:tensorflow:Assets written to: model4/assets\n",
      "WARNING:absl:Found untraced functions such as lstm_cell_23_layer_call_fn, lstm_cell_23_layer_call_and_return_conditional_losses while saving (showing 2 of 2). These functions will not be directly callable after loading.\n"
     ]
    },
    {
     "name": "stdout",
     "output_type": "stream",
     "text": [
      "INFO:tensorflow:Assets written to: model4/assets\n"
     ]
    },
    {
     "name": "stderr",
     "output_type": "stream",
     "text": [
      "INFO:tensorflow:Assets written to: model4/assets\n",
      "WARNING:absl:Found untraced functions such as lstm_cell_23_layer_call_fn, lstm_cell_23_layer_call_and_return_conditional_losses while saving (showing 2 of 2). These functions will not be directly callable after loading.\n"
     ]
    },
    {
     "name": "stdout",
     "output_type": "stream",
     "text": [
      "INFO:tensorflow:Assets written to: model4/assets\n"
     ]
    },
    {
     "name": "stderr",
     "output_type": "stream",
     "text": [
      "INFO:tensorflow:Assets written to: model4/assets\n",
      "WARNING:absl:Found untraced functions such as lstm_cell_23_layer_call_fn, lstm_cell_23_layer_call_and_return_conditional_losses while saving (showing 2 of 2). These functions will not be directly callable after loading.\n"
     ]
    },
    {
     "name": "stdout",
     "output_type": "stream",
     "text": [
      "INFO:tensorflow:Assets written to: model4/assets\n"
     ]
    },
    {
     "name": "stderr",
     "output_type": "stream",
     "text": [
      "INFO:tensorflow:Assets written to: model4/assets\n",
      "WARNING:absl:Found untraced functions such as lstm_cell_23_layer_call_fn, lstm_cell_23_layer_call_and_return_conditional_losses while saving (showing 2 of 2). These functions will not be directly callable after loading.\n"
     ]
    },
    {
     "name": "stdout",
     "output_type": "stream",
     "text": [
      "INFO:tensorflow:Assets written to: model4/assets\n"
     ]
    },
    {
     "name": "stderr",
     "output_type": "stream",
     "text": [
      "INFO:tensorflow:Assets written to: model4/assets\n",
      "WARNING:absl:Found untraced functions such as lstm_cell_23_layer_call_fn, lstm_cell_23_layer_call_and_return_conditional_losses while saving (showing 2 of 2). These functions will not be directly callable after loading.\n"
     ]
    },
    {
     "name": "stdout",
     "output_type": "stream",
     "text": [
      "INFO:tensorflow:Assets written to: model4/assets\n"
     ]
    },
    {
     "name": "stderr",
     "output_type": "stream",
     "text": [
      "INFO:tensorflow:Assets written to: model4/assets\n",
      "WARNING:absl:Found untraced functions such as lstm_cell_23_layer_call_fn, lstm_cell_23_layer_call_and_return_conditional_losses while saving (showing 2 of 2). These functions will not be directly callable after loading.\n"
     ]
    },
    {
     "name": "stdout",
     "output_type": "stream",
     "text": [
      "INFO:tensorflow:Assets written to: model4/assets\n"
     ]
    },
    {
     "name": "stderr",
     "output_type": "stream",
     "text": [
      "INFO:tensorflow:Assets written to: model4/assets\n",
      "WARNING:absl:Found untraced functions such as lstm_cell_23_layer_call_fn, lstm_cell_23_layer_call_and_return_conditional_losses while saving (showing 2 of 2). These functions will not be directly callable after loading.\n"
     ]
    },
    {
     "name": "stdout",
     "output_type": "stream",
     "text": [
      "INFO:tensorflow:Assets written to: model4/assets\n"
     ]
    },
    {
     "name": "stderr",
     "output_type": "stream",
     "text": [
      "INFO:tensorflow:Assets written to: model4/assets\n",
      "WARNING:absl:Found untraced functions such as lstm_cell_23_layer_call_fn, lstm_cell_23_layer_call_and_return_conditional_losses while saving (showing 2 of 2). These functions will not be directly callable after loading.\n"
     ]
    },
    {
     "name": "stdout",
     "output_type": "stream",
     "text": [
      "INFO:tensorflow:Assets written to: model4/assets\n"
     ]
    },
    {
     "name": "stderr",
     "output_type": "stream",
     "text": [
      "INFO:tensorflow:Assets written to: model4/assets\n",
      "WARNING:absl:Found untraced functions such as lstm_cell_23_layer_call_fn, lstm_cell_23_layer_call_and_return_conditional_losses while saving (showing 2 of 2). These functions will not be directly callable after loading.\n"
     ]
    },
    {
     "name": "stdout",
     "output_type": "stream",
     "text": [
      "INFO:tensorflow:Assets written to: model4/assets\n"
     ]
    },
    {
     "name": "stderr",
     "output_type": "stream",
     "text": [
      "INFO:tensorflow:Assets written to: model4/assets\n",
      "WARNING:absl:Found untraced functions such as lstm_cell_23_layer_call_fn, lstm_cell_23_layer_call_and_return_conditional_losses while saving (showing 2 of 2). These functions will not be directly callable after loading.\n"
     ]
    },
    {
     "name": "stdout",
     "output_type": "stream",
     "text": [
      "INFO:tensorflow:Assets written to: model4/assets\n"
     ]
    },
    {
     "name": "stderr",
     "output_type": "stream",
     "text": [
      "INFO:tensorflow:Assets written to: model4/assets\n",
      "WARNING:absl:Found untraced functions such as lstm_cell_23_layer_call_fn, lstm_cell_23_layer_call_and_return_conditional_losses while saving (showing 2 of 2). These functions will not be directly callable after loading.\n"
     ]
    },
    {
     "name": "stdout",
     "output_type": "stream",
     "text": [
      "INFO:tensorflow:Assets written to: model4/assets\n"
     ]
    },
    {
     "name": "stderr",
     "output_type": "stream",
     "text": [
      "INFO:tensorflow:Assets written to: model4/assets\n",
      "WARNING:absl:Found untraced functions such as lstm_cell_23_layer_call_fn, lstm_cell_23_layer_call_and_return_conditional_losses while saving (showing 2 of 2). These functions will not be directly callable after loading.\n"
     ]
    },
    {
     "name": "stdout",
     "output_type": "stream",
     "text": [
      "INFO:tensorflow:Assets written to: model4/assets\n"
     ]
    },
    {
     "name": "stderr",
     "output_type": "stream",
     "text": [
      "INFO:tensorflow:Assets written to: model4/assets\n",
      "WARNING:absl:Found untraced functions such as lstm_cell_23_layer_call_fn, lstm_cell_23_layer_call_and_return_conditional_losses while saving (showing 2 of 2). These functions will not be directly callable after loading.\n"
     ]
    },
    {
     "name": "stdout",
     "output_type": "stream",
     "text": [
      "INFO:tensorflow:Assets written to: model4/assets\n"
     ]
    },
    {
     "name": "stderr",
     "output_type": "stream",
     "text": [
      "INFO:tensorflow:Assets written to: model4/assets\n",
      "WARNING:absl:Found untraced functions such as lstm_cell_23_layer_call_fn, lstm_cell_23_layer_call_and_return_conditional_losses while saving (showing 2 of 2). These functions will not be directly callable after loading.\n"
     ]
    },
    {
     "name": "stdout",
     "output_type": "stream",
     "text": [
      "INFO:tensorflow:Assets written to: model4/assets\n"
     ]
    },
    {
     "name": "stderr",
     "output_type": "stream",
     "text": [
      "INFO:tensorflow:Assets written to: model4/assets\n",
      "WARNING:absl:Found untraced functions such as lstm_cell_23_layer_call_fn, lstm_cell_23_layer_call_and_return_conditional_losses while saving (showing 2 of 2). These functions will not be directly callable after loading.\n"
     ]
    },
    {
     "name": "stdout",
     "output_type": "stream",
     "text": [
      "INFO:tensorflow:Assets written to: model4/assets\n"
     ]
    },
    {
     "name": "stderr",
     "output_type": "stream",
     "text": [
      "INFO:tensorflow:Assets written to: model4/assets\n",
      "WARNING:absl:Found untraced functions such as lstm_cell_23_layer_call_fn, lstm_cell_23_layer_call_and_return_conditional_losses while saving (showing 2 of 2). These functions will not be directly callable after loading.\n"
     ]
    },
    {
     "name": "stdout",
     "output_type": "stream",
     "text": [
      "INFO:tensorflow:Assets written to: model4/assets\n"
     ]
    },
    {
     "name": "stderr",
     "output_type": "stream",
     "text": [
      "INFO:tensorflow:Assets written to: model4/assets\n",
      "WARNING:absl:Found untraced functions such as lstm_cell_23_layer_call_fn, lstm_cell_23_layer_call_and_return_conditional_losses while saving (showing 2 of 2). These functions will not be directly callable after loading.\n"
     ]
    },
    {
     "name": "stdout",
     "output_type": "stream",
     "text": [
      "INFO:tensorflow:Assets written to: model4/assets\n"
     ]
    },
    {
     "name": "stderr",
     "output_type": "stream",
     "text": [
      "INFO:tensorflow:Assets written to: model4/assets\n",
      "WARNING:absl:Found untraced functions such as lstm_cell_23_layer_call_fn, lstm_cell_23_layer_call_and_return_conditional_losses while saving (showing 2 of 2). These functions will not be directly callable after loading.\n"
     ]
    },
    {
     "name": "stdout",
     "output_type": "stream",
     "text": [
      "INFO:tensorflow:Assets written to: model4/assets\n"
     ]
    },
    {
     "name": "stderr",
     "output_type": "stream",
     "text": [
      "INFO:tensorflow:Assets written to: model4/assets\n",
      "WARNING:absl:Found untraced functions such as lstm_cell_23_layer_call_fn, lstm_cell_23_layer_call_and_return_conditional_losses while saving (showing 2 of 2). These functions will not be directly callable after loading.\n"
     ]
    },
    {
     "name": "stdout",
     "output_type": "stream",
     "text": [
      "INFO:tensorflow:Assets written to: model4/assets\n"
     ]
    },
    {
     "name": "stderr",
     "output_type": "stream",
     "text": [
      "INFO:tensorflow:Assets written to: model4/assets\n",
      "WARNING:absl:Found untraced functions such as lstm_cell_23_layer_call_fn, lstm_cell_23_layer_call_and_return_conditional_losses while saving (showing 2 of 2). These functions will not be directly callable after loading.\n"
     ]
    },
    {
     "name": "stdout",
     "output_type": "stream",
     "text": [
      "INFO:tensorflow:Assets written to: model4/assets\n"
     ]
    },
    {
     "name": "stderr",
     "output_type": "stream",
     "text": [
      "INFO:tensorflow:Assets written to: model4/assets\n",
      "WARNING:absl:Found untraced functions such as lstm_cell_23_layer_call_fn, lstm_cell_23_layer_call_and_return_conditional_losses while saving (showing 2 of 2). These functions will not be directly callable after loading.\n"
     ]
    },
    {
     "name": "stdout",
     "output_type": "stream",
     "text": [
      "INFO:tensorflow:Assets written to: model4/assets\n"
     ]
    },
    {
     "name": "stderr",
     "output_type": "stream",
     "text": [
      "INFO:tensorflow:Assets written to: model4/assets\n",
      "WARNING:absl:Found untraced functions such as lstm_cell_23_layer_call_fn, lstm_cell_23_layer_call_and_return_conditional_losses while saving (showing 2 of 2). These functions will not be directly callable after loading.\n"
     ]
    },
    {
     "name": "stdout",
     "output_type": "stream",
     "text": [
      "INFO:tensorflow:Assets written to: model4/assets\n"
     ]
    },
    {
     "name": "stderr",
     "output_type": "stream",
     "text": [
      "INFO:tensorflow:Assets written to: model4/assets\n",
      "WARNING:absl:Found untraced functions such as lstm_cell_23_layer_call_fn, lstm_cell_23_layer_call_and_return_conditional_losses while saving (showing 2 of 2). These functions will not be directly callable after loading.\n"
     ]
    },
    {
     "name": "stdout",
     "output_type": "stream",
     "text": [
      "INFO:tensorflow:Assets written to: model4/assets\n"
     ]
    },
    {
     "name": "stderr",
     "output_type": "stream",
     "text": [
      "INFO:tensorflow:Assets written to: model4/assets\n",
      "WARNING:absl:Found untraced functions such as lstm_cell_23_layer_call_fn, lstm_cell_23_layer_call_and_return_conditional_losses while saving (showing 2 of 2). These functions will not be directly callable after loading.\n"
     ]
    },
    {
     "name": "stdout",
     "output_type": "stream",
     "text": [
      "INFO:tensorflow:Assets written to: model4/assets\n"
     ]
    },
    {
     "name": "stderr",
     "output_type": "stream",
     "text": [
      "INFO:tensorflow:Assets written to: model4/assets\n",
      "WARNING:absl:Found untraced functions such as lstm_cell_23_layer_call_fn, lstm_cell_23_layer_call_and_return_conditional_losses while saving (showing 2 of 2). These functions will not be directly callable after loading.\n"
     ]
    },
    {
     "name": "stdout",
     "output_type": "stream",
     "text": [
      "INFO:tensorflow:Assets written to: model4/assets\n"
     ]
    },
    {
     "name": "stderr",
     "output_type": "stream",
     "text": [
      "INFO:tensorflow:Assets written to: model4/assets\n",
      "WARNING:absl:Found untraced functions such as lstm_cell_23_layer_call_fn, lstm_cell_23_layer_call_and_return_conditional_losses while saving (showing 2 of 2). These functions will not be directly callable after loading.\n"
     ]
    },
    {
     "name": "stdout",
     "output_type": "stream",
     "text": [
      "INFO:tensorflow:Assets written to: model4/assets\n"
     ]
    },
    {
     "name": "stderr",
     "output_type": "stream",
     "text": [
      "INFO:tensorflow:Assets written to: model4/assets\n",
      "WARNING:absl:Found untraced functions such as lstm_cell_23_layer_call_fn, lstm_cell_23_layer_call_and_return_conditional_losses while saving (showing 2 of 2). These functions will not be directly callable after loading.\n"
     ]
    },
    {
     "name": "stdout",
     "output_type": "stream",
     "text": [
      "INFO:tensorflow:Assets written to: model4/assets\n"
     ]
    },
    {
     "name": "stderr",
     "output_type": "stream",
     "text": [
      "INFO:tensorflow:Assets written to: model4/assets\n",
      "WARNING:absl:Found untraced functions such as lstm_cell_23_layer_call_fn, lstm_cell_23_layer_call_and_return_conditional_losses while saving (showing 2 of 2). These functions will not be directly callable after loading.\n"
     ]
    },
    {
     "name": "stdout",
     "output_type": "stream",
     "text": [
      "INFO:tensorflow:Assets written to: model4/assets\n"
     ]
    },
    {
     "name": "stderr",
     "output_type": "stream",
     "text": [
      "INFO:tensorflow:Assets written to: model4/assets\n",
      "WARNING:absl:Found untraced functions such as lstm_cell_23_layer_call_fn, lstm_cell_23_layer_call_and_return_conditional_losses while saving (showing 2 of 2). These functions will not be directly callable after loading.\n"
     ]
    },
    {
     "name": "stdout",
     "output_type": "stream",
     "text": [
      "INFO:tensorflow:Assets written to: model4/assets\n"
     ]
    },
    {
     "name": "stderr",
     "output_type": "stream",
     "text": [
      "INFO:tensorflow:Assets written to: model4/assets\n",
      "WARNING:absl:Found untraced functions such as lstm_cell_23_layer_call_fn, lstm_cell_23_layer_call_and_return_conditional_losses while saving (showing 2 of 2). These functions will not be directly callable after loading.\n"
     ]
    },
    {
     "name": "stdout",
     "output_type": "stream",
     "text": [
      "INFO:tensorflow:Assets written to: model4/assets\n"
     ]
    },
    {
     "name": "stderr",
     "output_type": "stream",
     "text": [
      "INFO:tensorflow:Assets written to: model4/assets\n",
      "WARNING:absl:Found untraced functions such as lstm_cell_23_layer_call_fn, lstm_cell_23_layer_call_and_return_conditional_losses while saving (showing 2 of 2). These functions will not be directly callable after loading.\n"
     ]
    },
    {
     "name": "stdout",
     "output_type": "stream",
     "text": [
      "INFO:tensorflow:Assets written to: model4/assets\n"
     ]
    },
    {
     "name": "stderr",
     "output_type": "stream",
     "text": [
      "INFO:tensorflow:Assets written to: model4/assets\n",
      "WARNING:absl:Found untraced functions such as lstm_cell_23_layer_call_fn, lstm_cell_23_layer_call_and_return_conditional_losses while saving (showing 2 of 2). These functions will not be directly callable after loading.\n"
     ]
    },
    {
     "name": "stdout",
     "output_type": "stream",
     "text": [
      "INFO:tensorflow:Assets written to: model4/assets\n"
     ]
    },
    {
     "name": "stderr",
     "output_type": "stream",
     "text": [
      "INFO:tensorflow:Assets written to: model4/assets\n",
      "WARNING:absl:Found untraced functions such as lstm_cell_23_layer_call_fn, lstm_cell_23_layer_call_and_return_conditional_losses while saving (showing 2 of 2). These functions will not be directly callable after loading.\n"
     ]
    },
    {
     "name": "stdout",
     "output_type": "stream",
     "text": [
      "INFO:tensorflow:Assets written to: model4/assets\n"
     ]
    },
    {
     "name": "stderr",
     "output_type": "stream",
     "text": [
      "INFO:tensorflow:Assets written to: model4/assets\n",
      "WARNING:absl:Found untraced functions such as lstm_cell_23_layer_call_fn, lstm_cell_23_layer_call_and_return_conditional_losses while saving (showing 2 of 2). These functions will not be directly callable after loading.\n"
     ]
    },
    {
     "name": "stdout",
     "output_type": "stream",
     "text": [
      "INFO:tensorflow:Assets written to: model4/assets\n"
     ]
    },
    {
     "name": "stderr",
     "output_type": "stream",
     "text": [
      "INFO:tensorflow:Assets written to: model4/assets\n",
      "WARNING:absl:Found untraced functions such as lstm_cell_23_layer_call_fn, lstm_cell_23_layer_call_and_return_conditional_losses while saving (showing 2 of 2). These functions will not be directly callable after loading.\n"
     ]
    },
    {
     "name": "stdout",
     "output_type": "stream",
     "text": [
      "INFO:tensorflow:Assets written to: model4/assets\n"
     ]
    },
    {
     "name": "stderr",
     "output_type": "stream",
     "text": [
      "INFO:tensorflow:Assets written to: model4/assets\n",
      "WARNING:absl:Found untraced functions such as lstm_cell_23_layer_call_fn, lstm_cell_23_layer_call_and_return_conditional_losses while saving (showing 2 of 2). These functions will not be directly callable after loading.\n"
     ]
    },
    {
     "name": "stdout",
     "output_type": "stream",
     "text": [
      "INFO:tensorflow:Assets written to: model4/assets\n"
     ]
    },
    {
     "name": "stderr",
     "output_type": "stream",
     "text": [
      "INFO:tensorflow:Assets written to: model4/assets\n",
      "WARNING:absl:Found untraced functions such as lstm_cell_23_layer_call_fn, lstm_cell_23_layer_call_and_return_conditional_losses while saving (showing 2 of 2). These functions will not be directly callable after loading.\n"
     ]
    },
    {
     "name": "stdout",
     "output_type": "stream",
     "text": [
      "INFO:tensorflow:Assets written to: model4/assets\n"
     ]
    },
    {
     "name": "stderr",
     "output_type": "stream",
     "text": [
      "INFO:tensorflow:Assets written to: model4/assets\n",
      "WARNING:absl:Found untraced functions such as lstm_cell_23_layer_call_fn, lstm_cell_23_layer_call_and_return_conditional_losses while saving (showing 2 of 2). These functions will not be directly callable after loading.\n"
     ]
    },
    {
     "name": "stdout",
     "output_type": "stream",
     "text": [
      "INFO:tensorflow:Assets written to: model4/assets\n"
     ]
    },
    {
     "name": "stderr",
     "output_type": "stream",
     "text": [
      "INFO:tensorflow:Assets written to: model4/assets\n",
      "WARNING:absl:Found untraced functions such as lstm_cell_23_layer_call_fn, lstm_cell_23_layer_call_and_return_conditional_losses while saving (showing 2 of 2). These functions will not be directly callable after loading.\n"
     ]
    },
    {
     "name": "stdout",
     "output_type": "stream",
     "text": [
      "INFO:tensorflow:Assets written to: model4/assets\n"
     ]
    },
    {
     "name": "stderr",
     "output_type": "stream",
     "text": [
      "INFO:tensorflow:Assets written to: model4/assets\n",
      "WARNING:absl:Found untraced functions such as lstm_cell_23_layer_call_fn, lstm_cell_23_layer_call_and_return_conditional_losses while saving (showing 2 of 2). These functions will not be directly callable after loading.\n"
     ]
    },
    {
     "name": "stdout",
     "output_type": "stream",
     "text": [
      "INFO:tensorflow:Assets written to: model4/assets\n"
     ]
    },
    {
     "name": "stderr",
     "output_type": "stream",
     "text": [
      "INFO:tensorflow:Assets written to: model4/assets\n",
      "WARNING:absl:Found untraced functions such as lstm_cell_23_layer_call_fn, lstm_cell_23_layer_call_and_return_conditional_losses while saving (showing 2 of 2). These functions will not be directly callable after loading.\n"
     ]
    },
    {
     "name": "stdout",
     "output_type": "stream",
     "text": [
      "INFO:tensorflow:Assets written to: model4/assets\n"
     ]
    },
    {
     "name": "stderr",
     "output_type": "stream",
     "text": [
      "INFO:tensorflow:Assets written to: model4/assets\n",
      "WARNING:absl:Found untraced functions such as lstm_cell_23_layer_call_fn, lstm_cell_23_layer_call_and_return_conditional_losses while saving (showing 2 of 2). These functions will not be directly callable after loading.\n"
     ]
    },
    {
     "name": "stdout",
     "output_type": "stream",
     "text": [
      "INFO:tensorflow:Assets written to: model4/assets\n"
     ]
    },
    {
     "name": "stderr",
     "output_type": "stream",
     "text": [
      "INFO:tensorflow:Assets written to: model4/assets\n",
      "WARNING:absl:Found untraced functions such as lstm_cell_23_layer_call_fn, lstm_cell_23_layer_call_and_return_conditional_losses while saving (showing 2 of 2). These functions will not be directly callable after loading.\n"
     ]
    },
    {
     "name": "stdout",
     "output_type": "stream",
     "text": [
      "INFO:tensorflow:Assets written to: model4/assets\n"
     ]
    },
    {
     "name": "stderr",
     "output_type": "stream",
     "text": [
      "INFO:tensorflow:Assets written to: model4/assets\n",
      "WARNING:absl:Found untraced functions such as lstm_cell_23_layer_call_fn, lstm_cell_23_layer_call_and_return_conditional_losses while saving (showing 2 of 2). These functions will not be directly callable after loading.\n"
     ]
    },
    {
     "name": "stdout",
     "output_type": "stream",
     "text": [
      "INFO:tensorflow:Assets written to: model4/assets\n"
     ]
    },
    {
     "name": "stderr",
     "output_type": "stream",
     "text": [
      "INFO:tensorflow:Assets written to: model4/assets\n",
      "WARNING:absl:Found untraced functions such as lstm_cell_23_layer_call_fn, lstm_cell_23_layer_call_and_return_conditional_losses while saving (showing 2 of 2). These functions will not be directly callable after loading.\n"
     ]
    },
    {
     "name": "stdout",
     "output_type": "stream",
     "text": [
      "INFO:tensorflow:Assets written to: model4/assets\n"
     ]
    },
    {
     "name": "stderr",
     "output_type": "stream",
     "text": [
      "INFO:tensorflow:Assets written to: model4/assets\n",
      "WARNING:absl:Found untraced functions such as lstm_cell_23_layer_call_fn, lstm_cell_23_layer_call_and_return_conditional_losses while saving (showing 2 of 2). These functions will not be directly callable after loading.\n"
     ]
    },
    {
     "name": "stdout",
     "output_type": "stream",
     "text": [
      "INFO:tensorflow:Assets written to: model4/assets\n"
     ]
    },
    {
     "name": "stderr",
     "output_type": "stream",
     "text": [
      "INFO:tensorflow:Assets written to: model4/assets\n",
      "WARNING:absl:Found untraced functions such as lstm_cell_23_layer_call_fn, lstm_cell_23_layer_call_and_return_conditional_losses while saving (showing 2 of 2). These functions will not be directly callable after loading.\n"
     ]
    },
    {
     "name": "stdout",
     "output_type": "stream",
     "text": [
      "INFO:tensorflow:Assets written to: model4/assets\n"
     ]
    },
    {
     "name": "stderr",
     "output_type": "stream",
     "text": [
      "INFO:tensorflow:Assets written to: model4/assets\n",
      "WARNING:absl:Found untraced functions such as lstm_cell_23_layer_call_fn, lstm_cell_23_layer_call_and_return_conditional_losses while saving (showing 2 of 2). These functions will not be directly callable after loading.\n"
     ]
    },
    {
     "name": "stdout",
     "output_type": "stream",
     "text": [
      "INFO:tensorflow:Assets written to: model4/assets\n"
     ]
    },
    {
     "name": "stderr",
     "output_type": "stream",
     "text": [
      "INFO:tensorflow:Assets written to: model4/assets\n",
      "WARNING:absl:Found untraced functions such as lstm_cell_23_layer_call_fn, lstm_cell_23_layer_call_and_return_conditional_losses while saving (showing 2 of 2). These functions will not be directly callable after loading.\n"
     ]
    },
    {
     "name": "stdout",
     "output_type": "stream",
     "text": [
      "INFO:tensorflow:Assets written to: model4/assets\n"
     ]
    },
    {
     "name": "stderr",
     "output_type": "stream",
     "text": [
      "INFO:tensorflow:Assets written to: model4/assets\n",
      "WARNING:absl:Found untraced functions such as lstm_cell_23_layer_call_fn, lstm_cell_23_layer_call_and_return_conditional_losses while saving (showing 2 of 2). These functions will not be directly callable after loading.\n"
     ]
    },
    {
     "name": "stdout",
     "output_type": "stream",
     "text": [
      "INFO:tensorflow:Assets written to: model4/assets\n"
     ]
    },
    {
     "name": "stderr",
     "output_type": "stream",
     "text": [
      "INFO:tensorflow:Assets written to: model4/assets\n",
      "WARNING:absl:Found untraced functions such as lstm_cell_23_layer_call_fn, lstm_cell_23_layer_call_and_return_conditional_losses while saving (showing 2 of 2). These functions will not be directly callable after loading.\n"
     ]
    },
    {
     "name": "stdout",
     "output_type": "stream",
     "text": [
      "INFO:tensorflow:Assets written to: model4/assets\n"
     ]
    },
    {
     "name": "stderr",
     "output_type": "stream",
     "text": [
      "INFO:tensorflow:Assets written to: model4/assets\n",
      "WARNING:absl:Found untraced functions such as lstm_cell_23_layer_call_fn, lstm_cell_23_layer_call_and_return_conditional_losses while saving (showing 2 of 2). These functions will not be directly callable after loading.\n"
     ]
    },
    {
     "name": "stdout",
     "output_type": "stream",
     "text": [
      "INFO:tensorflow:Assets written to: model4/assets\n"
     ]
    },
    {
     "name": "stderr",
     "output_type": "stream",
     "text": [
      "INFO:tensorflow:Assets written to: model4/assets\n",
      "WARNING:absl:Found untraced functions such as lstm_cell_23_layer_call_fn, lstm_cell_23_layer_call_and_return_conditional_losses while saving (showing 2 of 2). These functions will not be directly callable after loading.\n"
     ]
    },
    {
     "name": "stdout",
     "output_type": "stream",
     "text": [
      "INFO:tensorflow:Assets written to: model4/assets\n"
     ]
    },
    {
     "name": "stderr",
     "output_type": "stream",
     "text": [
      "INFO:tensorflow:Assets written to: model4/assets\n",
      "WARNING:absl:Found untraced functions such as lstm_cell_23_layer_call_fn, lstm_cell_23_layer_call_and_return_conditional_losses while saving (showing 2 of 2). These functions will not be directly callable after loading.\n"
     ]
    },
    {
     "name": "stdout",
     "output_type": "stream",
     "text": [
      "INFO:tensorflow:Assets written to: model4/assets\n"
     ]
    },
    {
     "name": "stderr",
     "output_type": "stream",
     "text": [
      "INFO:tensorflow:Assets written to: model4/assets\n",
      "WARNING:absl:Found untraced functions such as lstm_cell_23_layer_call_fn, lstm_cell_23_layer_call_and_return_conditional_losses while saving (showing 2 of 2). These functions will not be directly callable after loading.\n"
     ]
    },
    {
     "name": "stdout",
     "output_type": "stream",
     "text": [
      "INFO:tensorflow:Assets written to: model4/assets\n"
     ]
    },
    {
     "name": "stderr",
     "output_type": "stream",
     "text": [
      "INFO:tensorflow:Assets written to: model4/assets\n",
      "WARNING:absl:Found untraced functions such as lstm_cell_23_layer_call_fn, lstm_cell_23_layer_call_and_return_conditional_losses while saving (showing 2 of 2). These functions will not be directly callable after loading.\n"
     ]
    },
    {
     "name": "stdout",
     "output_type": "stream",
     "text": [
      "INFO:tensorflow:Assets written to: model4/assets\n"
     ]
    },
    {
     "name": "stderr",
     "output_type": "stream",
     "text": [
      "INFO:tensorflow:Assets written to: model4/assets\n",
      "WARNING:absl:Found untraced functions such as lstm_cell_23_layer_call_fn, lstm_cell_23_layer_call_and_return_conditional_losses while saving (showing 2 of 2). These functions will not be directly callable after loading.\n"
     ]
    },
    {
     "name": "stdout",
     "output_type": "stream",
     "text": [
      "INFO:tensorflow:Assets written to: model4/assets\n"
     ]
    },
    {
     "name": "stderr",
     "output_type": "stream",
     "text": [
      "INFO:tensorflow:Assets written to: model4/assets\n",
      "WARNING:absl:Found untraced functions such as lstm_cell_23_layer_call_fn, lstm_cell_23_layer_call_and_return_conditional_losses while saving (showing 2 of 2). These functions will not be directly callable after loading.\n"
     ]
    },
    {
     "name": "stdout",
     "output_type": "stream",
     "text": [
      "INFO:tensorflow:Assets written to: model4/assets\n"
     ]
    },
    {
     "name": "stderr",
     "output_type": "stream",
     "text": [
      "INFO:tensorflow:Assets written to: model4/assets\n",
      "WARNING:absl:Found untraced functions such as lstm_cell_23_layer_call_fn, lstm_cell_23_layer_call_and_return_conditional_losses while saving (showing 2 of 2). These functions will not be directly callable after loading.\n"
     ]
    },
    {
     "name": "stdout",
     "output_type": "stream",
     "text": [
      "INFO:tensorflow:Assets written to: model4/assets\n"
     ]
    },
    {
     "name": "stderr",
     "output_type": "stream",
     "text": [
      "INFO:tensorflow:Assets written to: model4/assets\n",
      "WARNING:absl:Found untraced functions such as lstm_cell_23_layer_call_fn, lstm_cell_23_layer_call_and_return_conditional_losses while saving (showing 2 of 2). These functions will not be directly callable after loading.\n"
     ]
    },
    {
     "name": "stdout",
     "output_type": "stream",
     "text": [
      "INFO:tensorflow:Assets written to: model4/assets\n"
     ]
    },
    {
     "name": "stderr",
     "output_type": "stream",
     "text": [
      "INFO:tensorflow:Assets written to: model4/assets\n",
      "WARNING:absl:Found untraced functions such as lstm_cell_23_layer_call_fn, lstm_cell_23_layer_call_and_return_conditional_losses while saving (showing 2 of 2). These functions will not be directly callable after loading.\n"
     ]
    },
    {
     "name": "stdout",
     "output_type": "stream",
     "text": [
      "INFO:tensorflow:Assets written to: model4/assets\n"
     ]
    },
    {
     "name": "stderr",
     "output_type": "stream",
     "text": [
      "INFO:tensorflow:Assets written to: model4/assets\n",
      "WARNING:absl:Found untraced functions such as lstm_cell_23_layer_call_fn, lstm_cell_23_layer_call_and_return_conditional_losses while saving (showing 2 of 2). These functions will not be directly callable after loading.\n"
     ]
    },
    {
     "name": "stdout",
     "output_type": "stream",
     "text": [
      "INFO:tensorflow:Assets written to: model4/assets\n"
     ]
    },
    {
     "name": "stderr",
     "output_type": "stream",
     "text": [
      "INFO:tensorflow:Assets written to: model4/assets\n",
      "WARNING:absl:Found untraced functions such as lstm_cell_23_layer_call_fn, lstm_cell_23_layer_call_and_return_conditional_losses while saving (showing 2 of 2). These functions will not be directly callable after loading.\n"
     ]
    },
    {
     "name": "stdout",
     "output_type": "stream",
     "text": [
      "INFO:tensorflow:Assets written to: model4/assets\n"
     ]
    },
    {
     "name": "stderr",
     "output_type": "stream",
     "text": [
      "INFO:tensorflow:Assets written to: model4/assets\n",
      "WARNING:absl:Found untraced functions such as lstm_cell_23_layer_call_fn, lstm_cell_23_layer_call_and_return_conditional_losses while saving (showing 2 of 2). These functions will not be directly callable after loading.\n"
     ]
    },
    {
     "name": "stdout",
     "output_type": "stream",
     "text": [
      "INFO:tensorflow:Assets written to: model4/assets\n"
     ]
    },
    {
     "name": "stderr",
     "output_type": "stream",
     "text": [
      "INFO:tensorflow:Assets written to: model4/assets\n",
      "WARNING:absl:Found untraced functions such as lstm_cell_23_layer_call_fn, lstm_cell_23_layer_call_and_return_conditional_losses while saving (showing 2 of 2). These functions will not be directly callable after loading.\n"
     ]
    },
    {
     "name": "stdout",
     "output_type": "stream",
     "text": [
      "INFO:tensorflow:Assets written to: model4/assets\n"
     ]
    },
    {
     "name": "stderr",
     "output_type": "stream",
     "text": [
      "INFO:tensorflow:Assets written to: model4/assets\n",
      "WARNING:absl:Found untraced functions such as lstm_cell_23_layer_call_fn, lstm_cell_23_layer_call_and_return_conditional_losses while saving (showing 2 of 2). These functions will not be directly callable after loading.\n"
     ]
    },
    {
     "name": "stdout",
     "output_type": "stream",
     "text": [
      "INFO:tensorflow:Assets written to: model4/assets\n"
     ]
    },
    {
     "name": "stderr",
     "output_type": "stream",
     "text": [
      "INFO:tensorflow:Assets written to: model4/assets\n",
      "WARNING:absl:Found untraced functions such as lstm_cell_23_layer_call_fn, lstm_cell_23_layer_call_and_return_conditional_losses while saving (showing 2 of 2). These functions will not be directly callable after loading.\n"
     ]
    },
    {
     "name": "stdout",
     "output_type": "stream",
     "text": [
      "INFO:tensorflow:Assets written to: model4/assets\n"
     ]
    },
    {
     "name": "stderr",
     "output_type": "stream",
     "text": [
      "INFO:tensorflow:Assets written to: model4/assets\n",
      "Exception ignored in: <function ScopedTFGraph.__del__ at 0x7fe27d92cf70>\n",
      "Traceback (most recent call last):\n",
      "  File \"/Users/murathansaygili/Desktop/SIC/venv/lib/python3.9/site-packages/tensorflow/python/framework/c_api_util.py\", line 54, in __del__\n",
      "    def __del__(self):\n",
      "KeyboardInterrupt: \n",
      "WARNING:absl:Found untraced functions such as lstm_cell_23_layer_call_fn, lstm_cell_23_layer_call_and_return_conditional_losses while saving (showing 2 of 2). These functions will not be directly callable after loading.\n"
     ]
    },
    {
     "name": "stdout",
     "output_type": "stream",
     "text": [
      "INFO:tensorflow:Assets written to: model4/assets\n"
     ]
    },
    {
     "name": "stderr",
     "output_type": "stream",
     "text": [
      "INFO:tensorflow:Assets written to: model4/assets\n",
      "WARNING:absl:Found untraced functions such as lstm_cell_23_layer_call_fn, lstm_cell_23_layer_call_and_return_conditional_losses while saving (showing 2 of 2). These functions will not be directly callable after loading.\n"
     ]
    },
    {
     "name": "stdout",
     "output_type": "stream",
     "text": [
      "INFO:tensorflow:Assets written to: model4/assets\n"
     ]
    },
    {
     "name": "stderr",
     "output_type": "stream",
     "text": [
      "INFO:tensorflow:Assets written to: model4/assets\n",
      "WARNING:absl:Found untraced functions such as lstm_cell_23_layer_call_fn, lstm_cell_23_layer_call_and_return_conditional_losses while saving (showing 2 of 2). These functions will not be directly callable after loading.\n"
     ]
    },
    {
     "name": "stdout",
     "output_type": "stream",
     "text": [
      "INFO:tensorflow:Assets written to: model4/assets\n"
     ]
    },
    {
     "name": "stderr",
     "output_type": "stream",
     "text": [
      "INFO:tensorflow:Assets written to: model4/assets\n",
      "WARNING:absl:Found untraced functions such as lstm_cell_23_layer_call_fn, lstm_cell_23_layer_call_and_return_conditional_losses while saving (showing 2 of 2). These functions will not be directly callable after loading.\n"
     ]
    },
    {
     "name": "stdout",
     "output_type": "stream",
     "text": [
      "INFO:tensorflow:Assets written to: model4/assets\n"
     ]
    },
    {
     "name": "stderr",
     "output_type": "stream",
     "text": [
      "INFO:tensorflow:Assets written to: model4/assets\n",
      "WARNING:absl:Found untraced functions such as lstm_cell_23_layer_call_fn, lstm_cell_23_layer_call_and_return_conditional_losses while saving (showing 2 of 2). These functions will not be directly callable after loading.\n"
     ]
    },
    {
     "name": "stdout",
     "output_type": "stream",
     "text": [
      "INFO:tensorflow:Assets written to: model4/assets\n"
     ]
    },
    {
     "name": "stderr",
     "output_type": "stream",
     "text": [
      "INFO:tensorflow:Assets written to: model4/assets\n",
      "WARNING:absl:Found untraced functions such as lstm_cell_23_layer_call_fn, lstm_cell_23_layer_call_and_return_conditional_losses while saving (showing 2 of 2). These functions will not be directly callable after loading.\n"
     ]
    },
    {
     "name": "stdout",
     "output_type": "stream",
     "text": [
      "INFO:tensorflow:Assets written to: model4/assets\n"
     ]
    },
    {
     "name": "stderr",
     "output_type": "stream",
     "text": [
      "INFO:tensorflow:Assets written to: model4/assets\n",
      "WARNING:absl:Found untraced functions such as lstm_cell_23_layer_call_fn, lstm_cell_23_layer_call_and_return_conditional_losses while saving (showing 2 of 2). These functions will not be directly callable after loading.\n"
     ]
    },
    {
     "name": "stdout",
     "output_type": "stream",
     "text": [
      "INFO:tensorflow:Assets written to: model4/assets\n"
     ]
    },
    {
     "name": "stderr",
     "output_type": "stream",
     "text": [
      "INFO:tensorflow:Assets written to: model4/assets\n",
      "WARNING:absl:Found untraced functions such as lstm_cell_23_layer_call_fn, lstm_cell_23_layer_call_and_return_conditional_losses while saving (showing 2 of 2). These functions will not be directly callable after loading.\n"
     ]
    },
    {
     "name": "stdout",
     "output_type": "stream",
     "text": [
      "INFO:tensorflow:Assets written to: model4/assets\n"
     ]
    },
    {
     "name": "stderr",
     "output_type": "stream",
     "text": [
      "INFO:tensorflow:Assets written to: model4/assets\n",
      "WARNING:absl:Found untraced functions such as lstm_cell_23_layer_call_fn, lstm_cell_23_layer_call_and_return_conditional_losses while saving (showing 2 of 2). These functions will not be directly callable after loading.\n"
     ]
    },
    {
     "name": "stdout",
     "output_type": "stream",
     "text": [
      "INFO:tensorflow:Assets written to: model4/assets\n"
     ]
    },
    {
     "name": "stderr",
     "output_type": "stream",
     "text": [
      "INFO:tensorflow:Assets written to: model4/assets\n",
      "WARNING:absl:Found untraced functions such as lstm_cell_23_layer_call_fn, lstm_cell_23_layer_call_and_return_conditional_losses while saving (showing 2 of 2). These functions will not be directly callable after loading.\n"
     ]
    },
    {
     "name": "stdout",
     "output_type": "stream",
     "text": [
      "INFO:tensorflow:Assets written to: model4/assets\n"
     ]
    },
    {
     "name": "stderr",
     "output_type": "stream",
     "text": [
      "INFO:tensorflow:Assets written to: model4/assets\n",
      "WARNING:absl:Found untraced functions such as lstm_cell_23_layer_call_fn, lstm_cell_23_layer_call_and_return_conditional_losses while saving (showing 2 of 2). These functions will not be directly callable after loading.\n"
     ]
    },
    {
     "name": "stdout",
     "output_type": "stream",
     "text": [
      "INFO:tensorflow:Assets written to: model4/assets\n"
     ]
    },
    {
     "name": "stderr",
     "output_type": "stream",
     "text": [
      "INFO:tensorflow:Assets written to: model4/assets\n"
     ]
    },
    {
     "ename": "KeyboardInterrupt",
     "evalue": "",
     "output_type": "error",
     "traceback": [
      "\u001b[0;31m---------------------------------------------------------------------------\u001b[0m",
      "\u001b[0;31mKeyboardInterrupt\u001b[0m                         Traceback (most recent call last)",
      "\u001b[1;32m/Users/murathansaygili/Desktop/SIC/Food-Supply-Chain/module_2.ipynb Cell 88\u001b[0m in \u001b[0;36m<cell line: 1>\u001b[0;34m()\u001b[0m\n\u001b[0;32m----> <a href='vscode-notebook-cell:/Users/murathansaygili/Desktop/SIC/Food-Supply-Chain/module_2.ipynb#ch0000160?line=0'>1</a>\u001b[0m history \u001b[39m=\u001b[39m model4\u001b[39m.\u001b[39;49mfit(X_train2, y_train2, validation_data\u001b[39m=\u001b[39;49m(X_val2, y_val2), epochs\u001b[39m=\u001b[39;49m\u001b[39m100\u001b[39;49m, callbacks\u001b[39m=\u001b[39;49m[cp4], verbose\u001b[39m=\u001b[39;49m\u001b[39m0\u001b[39;49m)\n\u001b[1;32m      <a href='vscode-notebook-cell:/Users/murathansaygili/Desktop/SIC/Food-Supply-Chain/module_2.ipynb#ch0000160?line=1'>2</a>\u001b[0m \u001b[39mprint\u001b[39m(history\u001b[39m.\u001b[39mhistory\u001b[39m.\u001b[39mkeys())\n\u001b[1;32m      <a href='vscode-notebook-cell:/Users/murathansaygili/Desktop/SIC/Food-Supply-Chain/module_2.ipynb#ch0000160?line=3'>4</a>\u001b[0m \u001b[39mimport\u001b[39;00m \u001b[39mmatplotlib\u001b[39;00m\u001b[39m.\u001b[39;00m\u001b[39mpylab\u001b[39;00m \u001b[39mas\u001b[39;00m \u001b[39mplt\u001b[39;00m\n",
      "File \u001b[0;32m~/Desktop/SIC/venv/lib/python3.9/site-packages/keras/utils/traceback_utils.py:64\u001b[0m, in \u001b[0;36mfilter_traceback.<locals>.error_handler\u001b[0;34m(*args, **kwargs)\u001b[0m\n\u001b[1;32m     62\u001b[0m filtered_tb \u001b[39m=\u001b[39m \u001b[39mNone\u001b[39;00m\n\u001b[1;32m     63\u001b[0m \u001b[39mtry\u001b[39;00m:\n\u001b[0;32m---> 64\u001b[0m   \u001b[39mreturn\u001b[39;00m fn(\u001b[39m*\u001b[39;49margs, \u001b[39m*\u001b[39;49m\u001b[39m*\u001b[39;49mkwargs)\n\u001b[1;32m     65\u001b[0m \u001b[39mexcept\u001b[39;00m \u001b[39mException\u001b[39;00m \u001b[39mas\u001b[39;00m e:  \u001b[39m# pylint: disable=broad-except\u001b[39;00m\n\u001b[1;32m     66\u001b[0m   filtered_tb \u001b[39m=\u001b[39m _process_traceback_frames(e\u001b[39m.\u001b[39m__traceback__)\n",
      "File \u001b[0;32m~/Desktop/SIC/venv/lib/python3.9/site-packages/keras/engine/training.py:1460\u001b[0m, in \u001b[0;36mModel.fit\u001b[0;34m(self, x, y, batch_size, epochs, verbose, callbacks, validation_split, validation_data, shuffle, class_weight, sample_weight, initial_epoch, steps_per_epoch, validation_steps, validation_batch_size, validation_freq, max_queue_size, workers, use_multiprocessing)\u001b[0m\n\u001b[1;32m   1457\u001b[0m   val_logs \u001b[39m=\u001b[39m {\u001b[39m'\u001b[39m\u001b[39mval_\u001b[39m\u001b[39m'\u001b[39m \u001b[39m+\u001b[39m name: val \u001b[39mfor\u001b[39;00m name, val \u001b[39min\u001b[39;00m val_logs\u001b[39m.\u001b[39mitems()}\n\u001b[1;32m   1458\u001b[0m   epoch_logs\u001b[39m.\u001b[39mupdate(val_logs)\n\u001b[0;32m-> 1460\u001b[0m callbacks\u001b[39m.\u001b[39;49mon_epoch_end(epoch, epoch_logs)\n\u001b[1;32m   1461\u001b[0m training_logs \u001b[39m=\u001b[39m epoch_logs\n\u001b[1;32m   1462\u001b[0m \u001b[39mif\u001b[39;00m \u001b[39mself\u001b[39m\u001b[39m.\u001b[39mstop_training:\n",
      "File \u001b[0;32m~/Desktop/SIC/venv/lib/python3.9/site-packages/keras/callbacks.py:416\u001b[0m, in \u001b[0;36mCallbackList.on_epoch_end\u001b[0;34m(self, epoch, logs)\u001b[0m\n\u001b[1;32m    414\u001b[0m logs \u001b[39m=\u001b[39m \u001b[39mself\u001b[39m\u001b[39m.\u001b[39m_process_logs(logs)\n\u001b[1;32m    415\u001b[0m \u001b[39mfor\u001b[39;00m callback \u001b[39min\u001b[39;00m \u001b[39mself\u001b[39m\u001b[39m.\u001b[39mcallbacks:\n\u001b[0;32m--> 416\u001b[0m   callback\u001b[39m.\u001b[39;49mon_epoch_end(epoch, logs)\n",
      "File \u001b[0;32m~/Desktop/SIC/venv/lib/python3.9/site-packages/keras/callbacks.py:1389\u001b[0m, in \u001b[0;36mModelCheckpoint.on_epoch_end\u001b[0;34m(self, epoch, logs)\u001b[0m\n\u001b[1;32m   1387\u001b[0m \u001b[39m# pylint: disable=protected-access\u001b[39;00m\n\u001b[1;32m   1388\u001b[0m \u001b[39mif\u001b[39;00m \u001b[39mself\u001b[39m\u001b[39m.\u001b[39msave_freq \u001b[39m==\u001b[39m \u001b[39m'\u001b[39m\u001b[39mepoch\u001b[39m\u001b[39m'\u001b[39m:\n\u001b[0;32m-> 1389\u001b[0m   \u001b[39mself\u001b[39;49m\u001b[39m.\u001b[39;49m_save_model(epoch\u001b[39m=\u001b[39;49mepoch, batch\u001b[39m=\u001b[39;49m\u001b[39mNone\u001b[39;49;00m, logs\u001b[39m=\u001b[39;49mlogs)\n",
      "File \u001b[0;32m~/Desktop/SIC/venv/lib/python3.9/site-packages/keras/callbacks.py:1444\u001b[0m, in \u001b[0;36mModelCheckpoint._save_model\u001b[0;34m(self, epoch, batch, logs)\u001b[0m\n\u001b[1;32m   1441\u001b[0m     \u001b[39mself\u001b[39m\u001b[39m.\u001b[39mmodel\u001b[39m.\u001b[39msave_weights(\n\u001b[1;32m   1442\u001b[0m         filepath, overwrite\u001b[39m=\u001b[39m\u001b[39mTrue\u001b[39;00m, options\u001b[39m=\u001b[39m\u001b[39mself\u001b[39m\u001b[39m.\u001b[39m_options)\n\u001b[1;32m   1443\u001b[0m   \u001b[39melse\u001b[39;00m:\n\u001b[0;32m-> 1444\u001b[0m     \u001b[39mself\u001b[39;49m\u001b[39m.\u001b[39;49mmodel\u001b[39m.\u001b[39;49msave(filepath, overwrite\u001b[39m=\u001b[39;49m\u001b[39mTrue\u001b[39;49;00m, options\u001b[39m=\u001b[39;49m\u001b[39mself\u001b[39;49m\u001b[39m.\u001b[39;49m_options)\n\u001b[1;32m   1445\u001b[0m \u001b[39melse\u001b[39;00m:\n\u001b[1;32m   1446\u001b[0m   \u001b[39mif\u001b[39;00m \u001b[39mself\u001b[39m\u001b[39m.\u001b[39mverbose \u001b[39m>\u001b[39m \u001b[39m0\u001b[39m:\n",
      "File \u001b[0;32m~/Desktop/SIC/venv/lib/python3.9/site-packages/keras/utils/traceback_utils.py:64\u001b[0m, in \u001b[0;36mfilter_traceback.<locals>.error_handler\u001b[0;34m(*args, **kwargs)\u001b[0m\n\u001b[1;32m     62\u001b[0m filtered_tb \u001b[39m=\u001b[39m \u001b[39mNone\u001b[39;00m\n\u001b[1;32m     63\u001b[0m \u001b[39mtry\u001b[39;00m:\n\u001b[0;32m---> 64\u001b[0m   \u001b[39mreturn\u001b[39;00m fn(\u001b[39m*\u001b[39;49margs, \u001b[39m*\u001b[39;49m\u001b[39m*\u001b[39;49mkwargs)\n\u001b[1;32m     65\u001b[0m \u001b[39mexcept\u001b[39;00m \u001b[39mException\u001b[39;00m \u001b[39mas\u001b[39;00m e:  \u001b[39m# pylint: disable=broad-except\u001b[39;00m\n\u001b[1;32m     66\u001b[0m   filtered_tb \u001b[39m=\u001b[39m _process_traceback_frames(e\u001b[39m.\u001b[39m__traceback__)\n",
      "File \u001b[0;32m~/Desktop/SIC/venv/lib/python3.9/site-packages/keras/engine/training.py:2435\u001b[0m, in \u001b[0;36mModel.save\u001b[0;34m(self, filepath, overwrite, include_optimizer, save_format, signatures, options, save_traces)\u001b[0m\n\u001b[1;32m   2393\u001b[0m \u001b[39m\"\"\"Saves the model to Tensorflow SavedModel or a single HDF5 file.\u001b[39;00m\n\u001b[1;32m   2394\u001b[0m \n\u001b[1;32m   2395\u001b[0m \u001b[39mPlease see `tf.keras.models.save_model` or the\u001b[39;00m\n\u001b[0;32m   (...)\u001b[0m\n\u001b[1;32m   2432\u001b[0m \u001b[39m```\u001b[39;00m\n\u001b[1;32m   2433\u001b[0m \u001b[39m\"\"\"\u001b[39;00m\n\u001b[1;32m   2434\u001b[0m \u001b[39m# pylint: enable=line-too-long\u001b[39;00m\n\u001b[0;32m-> 2435\u001b[0m save\u001b[39m.\u001b[39;49msave_model(\u001b[39mself\u001b[39;49m, filepath, overwrite, include_optimizer, save_format,\n\u001b[1;32m   2436\u001b[0m                 signatures, options, save_traces)\n",
      "File \u001b[0;32m~/Desktop/SIC/venv/lib/python3.9/site-packages/keras/utils/traceback_utils.py:64\u001b[0m, in \u001b[0;36mfilter_traceback.<locals>.error_handler\u001b[0;34m(*args, **kwargs)\u001b[0m\n\u001b[1;32m     62\u001b[0m filtered_tb \u001b[39m=\u001b[39m \u001b[39mNone\u001b[39;00m\n\u001b[1;32m     63\u001b[0m \u001b[39mtry\u001b[39;00m:\n\u001b[0;32m---> 64\u001b[0m   \u001b[39mreturn\u001b[39;00m fn(\u001b[39m*\u001b[39;49margs, \u001b[39m*\u001b[39;49m\u001b[39m*\u001b[39;49mkwargs)\n\u001b[1;32m     65\u001b[0m \u001b[39mexcept\u001b[39;00m \u001b[39mException\u001b[39;00m \u001b[39mas\u001b[39;00m e:  \u001b[39m# pylint: disable=broad-except\u001b[39;00m\n\u001b[1;32m     66\u001b[0m   filtered_tb \u001b[39m=\u001b[39m _process_traceback_frames(e\u001b[39m.\u001b[39m__traceback__)\n",
      "File \u001b[0;32m~/Desktop/SIC/venv/lib/python3.9/site-packages/keras/saving/save.py:153\u001b[0m, in \u001b[0;36msave_model\u001b[0;34m(model, filepath, overwrite, include_optimizer, save_format, signatures, options, save_traces)\u001b[0m\n\u001b[1;32m    151\u001b[0m \u001b[39melse\u001b[39;00m:\n\u001b[1;32m    152\u001b[0m   \u001b[39mwith\u001b[39;00m generic_utils\u001b[39m.\u001b[39mSharedObjectSavingScope():\n\u001b[0;32m--> 153\u001b[0m     saved_model_save\u001b[39m.\u001b[39;49msave(model, filepath, overwrite, include_optimizer,\n\u001b[1;32m    154\u001b[0m                           signatures, options, save_traces)\n",
      "File \u001b[0;32m~/Desktop/SIC/venv/lib/python3.9/site-packages/keras/saving/saved_model/save.py:93\u001b[0m, in \u001b[0;36msave\u001b[0;34m(model, filepath, overwrite, include_optimizer, signatures, options, save_traces)\u001b[0m\n\u001b[1;32m     91\u001b[0m \u001b[39mwith\u001b[39;00m backend\u001b[39m.\u001b[39mdeprecated_internal_learning_phase_scope(\u001b[39m0\u001b[39m):\n\u001b[1;32m     92\u001b[0m   \u001b[39mwith\u001b[39;00m utils\u001b[39m.\u001b[39mkeras_option_scope(save_traces):\n\u001b[0;32m---> 93\u001b[0m     saved_nodes, node_paths \u001b[39m=\u001b[39m save_lib\u001b[39m.\u001b[39;49msave_and_return_nodes(\n\u001b[1;32m     94\u001b[0m         model, filepath, signatures, options)\n\u001b[1;32m     96\u001b[0m   \u001b[39m# Save all metadata to a separate file in the SavedModel directory.\u001b[39;00m\n\u001b[1;32m     97\u001b[0m   metadata \u001b[39m=\u001b[39m generate_keras_metadata(saved_nodes, node_paths)\n",
      "File \u001b[0;32m~/Desktop/SIC/venv/lib/python3.9/site-packages/tensorflow/python/saved_model/save.py:1325\u001b[0m, in \u001b[0;36msave_and_return_nodes\u001b[0;34m(obj, export_dir, signatures, options, experimental_skip_checkpoint)\u001b[0m\n\u001b[1;32m   1321\u001b[0m saved_model \u001b[39m=\u001b[39m saved_model_pb2\u001b[39m.\u001b[39mSavedModel()\n\u001b[1;32m   1322\u001b[0m meta_graph_def \u001b[39m=\u001b[39m saved_model\u001b[39m.\u001b[39mmeta_graphs\u001b[39m.\u001b[39madd()\n\u001b[1;32m   1324\u001b[0m _, exported_graph, object_saver, asset_info, saved_nodes, node_paths \u001b[39m=\u001b[39m (\n\u001b[0;32m-> 1325\u001b[0m     _build_meta_graph(obj, signatures, options, meta_graph_def))\n\u001b[1;32m   1326\u001b[0m saved_model\u001b[39m.\u001b[39msaved_model_schema_version \u001b[39m=\u001b[39m (\n\u001b[1;32m   1327\u001b[0m     constants\u001b[39m.\u001b[39mSAVED_MODEL_SCHEMA_VERSION)\n\u001b[1;32m   1329\u001b[0m \u001b[39m# Write the checkpoint, copy assets into the assets directory, and write out\u001b[39;00m\n\u001b[1;32m   1330\u001b[0m \u001b[39m# the SavedModel proto itself.\u001b[39;00m\n",
      "File \u001b[0;32m~/Desktop/SIC/venv/lib/python3.9/site-packages/tensorflow/python/saved_model/save.py:1491\u001b[0m, in \u001b[0;36m_build_meta_graph\u001b[0;34m(obj, signatures, options, meta_graph_def)\u001b[0m\n\u001b[1;32m   1466\u001b[0m \u001b[39m\"\"\"Creates a MetaGraph under a save context.\u001b[39;00m\n\u001b[1;32m   1467\u001b[0m \n\u001b[1;32m   1468\u001b[0m \u001b[39mArgs:\u001b[39;00m\n\u001b[0;32m   (...)\u001b[0m\n\u001b[1;32m   1487\u001b[0m \u001b[39m  asset_info: `_AssetInfo` tuple containing external assets in the `obj`.\u001b[39;00m\n\u001b[1;32m   1488\u001b[0m \u001b[39m\"\"\"\u001b[39;00m\n\u001b[1;32m   1490\u001b[0m \u001b[39mwith\u001b[39;00m save_context\u001b[39m.\u001b[39msave_context(options):\n\u001b[0;32m-> 1491\u001b[0m   \u001b[39mreturn\u001b[39;00m _build_meta_graph_impl(obj, signatures, options, meta_graph_def)\n",
      "File \u001b[0;32m~/Desktop/SIC/venv/lib/python3.9/site-packages/tensorflow/python/saved_model/save.py:1443\u001b[0m, in \u001b[0;36m_build_meta_graph_impl\u001b[0;34m(obj, signatures, options, meta_graph_def)\u001b[0m\n\u001b[1;32m   1440\u001b[0m augmented_graph_view\u001b[39m.\u001b[39mset_signature(signature_map, wrapped_functions)\n\u001b[1;32m   1442\u001b[0m \u001b[39m# Use _SaveableView to provide a frozen listing of properties and functions.\u001b[39;00m\n\u001b[0;32m-> 1443\u001b[0m saveable_view \u001b[39m=\u001b[39m _SaveableView(augmented_graph_view, options)\n\u001b[1;32m   1444\u001b[0m object_saver \u001b[39m=\u001b[39m util\u001b[39m.\u001b[39mTrackableSaver(augmented_graph_view)\n\u001b[1;32m   1445\u001b[0m asset_info, exported_graph \u001b[39m=\u001b[39m _fill_meta_graph_def(\n\u001b[1;32m   1446\u001b[0m     meta_graph_def, saveable_view, signatures,\n\u001b[1;32m   1447\u001b[0m     options\u001b[39m.\u001b[39mnamespace_whitelist, options\u001b[39m.\u001b[39mexperimental_custom_gradients)\n",
      "File \u001b[0;32m~/Desktop/SIC/venv/lib/python3.9/site-packages/tensorflow/python/saved_model/save.py:229\u001b[0m, in \u001b[0;36m_SaveableView.__init__\u001b[0;34m(self, augmented_graph_view, options)\u001b[0m\n\u001b[1;32m    224\u001b[0m \u001b[39mself\u001b[39m\u001b[39m.\u001b[39maugmented_graph_view \u001b[39m=\u001b[39m augmented_graph_view\n\u001b[1;32m    225\u001b[0m \u001b[39mself\u001b[39m\u001b[39m.\u001b[39m_options \u001b[39m=\u001b[39m options\n\u001b[1;32m    227\u001b[0m (\u001b[39mself\u001b[39m\u001b[39m.\u001b[39m_trackable_objects, \u001b[39mself\u001b[39m\u001b[39m.\u001b[39mnode_paths, \u001b[39mself\u001b[39m\u001b[39m.\u001b[39mnode_ids,\n\u001b[1;32m    228\u001b[0m  \u001b[39mself\u001b[39m\u001b[39m.\u001b[39m_slot_variables, \u001b[39mself\u001b[39m\u001b[39m.\u001b[39mobject_names) \u001b[39m=\u001b[39m (\n\u001b[0;32m--> 229\u001b[0m      \u001b[39mself\u001b[39;49m\u001b[39m.\u001b[39;49maugmented_graph_view\u001b[39m.\u001b[39;49mobjects_ids_and_slot_variables_and_paths())\n\u001b[1;32m    231\u001b[0m untraced_functions \u001b[39m=\u001b[39m \u001b[39mself\u001b[39m\u001b[39m.\u001b[39maugmented_graph_view\u001b[39m.\u001b[39muntraced_functions\n\u001b[1;32m    232\u001b[0m \u001b[39mif\u001b[39;00m untraced_functions:\n",
      "File \u001b[0;32m~/Desktop/SIC/venv/lib/python3.9/site-packages/tensorflow/python/training/tracking/graph_view.py:544\u001b[0m, in \u001b[0;36mObjectGraphView.objects_ids_and_slot_variables_and_paths\u001b[0;34m(self)\u001b[0m\n\u001b[1;32m    532\u001b[0m \u001b[39mdef\u001b[39;00m \u001b[39mobjects_ids_and_slot_variables_and_paths\u001b[39m(\u001b[39mself\u001b[39m):\n\u001b[1;32m    533\u001b[0m   \u001b[39m\"\"\"Traverse the object graph and list all accessible objects.\u001b[39;00m\n\u001b[1;32m    534\u001b[0m \n\u001b[1;32m    535\u001b[0m \u001b[39m  Looks for `Trackable` objects which are dependencies of\u001b[39;00m\n\u001b[0;32m   (...)\u001b[0m\n\u001b[1;32m    542\u001b[0m \u001b[39m                object -> node id, slot variables, object_names)\u001b[39;00m\n\u001b[1;32m    543\u001b[0m \u001b[39m  \"\"\"\u001b[39;00m\n\u001b[0;32m--> 544\u001b[0m   trackable_objects, node_paths \u001b[39m=\u001b[39m \u001b[39mself\u001b[39;49m\u001b[39m.\u001b[39;49m_breadth_first_traversal()\n\u001b[1;32m    545\u001b[0m   object_names \u001b[39m=\u001b[39m object_identity\u001b[39m.\u001b[39mObjectIdentityDictionary()\n\u001b[1;32m    546\u001b[0m   \u001b[39mfor\u001b[39;00m obj, path \u001b[39min\u001b[39;00m node_paths\u001b[39m.\u001b[39mitems():\n",
      "File \u001b[0;32m~/Desktop/SIC/venv/lib/python3.9/site-packages/tensorflow/python/training/tracking/graph_view.py:255\u001b[0m, in \u001b[0;36mObjectGraphView._breadth_first_traversal\u001b[0;34m(self)\u001b[0m\n\u001b[1;32m    253\u001b[0m current_trackable \u001b[39m=\u001b[39m to_visit\u001b[39m.\u001b[39mpopleft()\n\u001b[1;32m    254\u001b[0m bfs_sorted\u001b[39m.\u001b[39mappend(current_trackable)\n\u001b[0;32m--> 255\u001b[0m \u001b[39mfor\u001b[39;00m name, dependency \u001b[39min\u001b[39;00m \u001b[39mself\u001b[39m\u001b[39m.\u001b[39mlist_children(current_trackable):\n\u001b[1;32m    256\u001b[0m   \u001b[39mif\u001b[39;00m dependency \u001b[39mnot\u001b[39;00m \u001b[39min\u001b[39;00m node_paths:\n\u001b[1;32m    257\u001b[0m     node_paths[dependency] \u001b[39m=\u001b[39m (\n\u001b[1;32m    258\u001b[0m         node_paths[current_trackable] \u001b[39m+\u001b[39m (\n\u001b[1;32m    259\u001b[0m             base\u001b[39m.\u001b[39mTrackableReference(name, dependency),))\n",
      "File \u001b[0;32m~/Desktop/SIC/venv/lib/python3.9/site-packages/tensorflow/python/saved_model/save.py:143\u001b[0m, in \u001b[0;36m_AugmentedGraphView.list_children\u001b[0;34m(self, obj)\u001b[0m\n\u001b[1;32m    140\u001b[0m \u001b[39mif\u001b[39;00m obj \u001b[39mnot\u001b[39;00m \u001b[39min\u001b[39;00m \u001b[39mself\u001b[39m\u001b[39m.\u001b[39m_children_cache:\n\u001b[1;32m    141\u001b[0m   children \u001b[39m=\u001b[39m \u001b[39mself\u001b[39m\u001b[39m.\u001b[39m_children_cache[obj] \u001b[39m=\u001b[39m {}\n\u001b[0;32m--> 143\u001b[0m   \u001b[39mfor\u001b[39;00m name, child \u001b[39min\u001b[39;00m \u001b[39msuper\u001b[39;49m(_AugmentedGraphView, \u001b[39mself\u001b[39;49m)\u001b[39m.\u001b[39;49mlist_children(\n\u001b[1;32m    144\u001b[0m       obj,\n\u001b[1;32m    145\u001b[0m       save_type\u001b[39m=\u001b[39;49mbase\u001b[39m.\u001b[39;49mSaveType\u001b[39m.\u001b[39;49mSAVEDMODEL,\n\u001b[1;32m    146\u001b[0m       cache\u001b[39m=\u001b[39;49m\u001b[39mself\u001b[39;49m\u001b[39m.\u001b[39;49m_serialization_cache):\n\u001b[1;32m    147\u001b[0m     \u001b[39mif\u001b[39;00m \u001b[39misinstance\u001b[39m(child, defun\u001b[39m.\u001b[39mConcreteFunction):\n\u001b[1;32m    148\u001b[0m       child \u001b[39m=\u001b[39m \u001b[39mself\u001b[39m\u001b[39m.\u001b[39m_maybe_uncache_variable_captures(child)\n",
      "File \u001b[0;32m~/Desktop/SIC/venv/lib/python3.9/site-packages/tensorflow/python/training/tracking/graph_view.py:203\u001b[0m, in \u001b[0;36mObjectGraphView.list_children\u001b[0;34m(self, obj, save_type, **kwargs)\u001b[0m\n\u001b[1;32m    200\u001b[0m \u001b[39m# pylint: disable=protected-access\u001b[39;00m\n\u001b[1;32m    201\u001b[0m obj\u001b[39m.\u001b[39m_maybe_initialize_trackable()\n\u001b[1;32m    202\u001b[0m children \u001b[39m=\u001b[39m [base\u001b[39m.\u001b[39mTrackableReference(name, ref) \u001b[39mfor\u001b[39;00m name, ref\n\u001b[0;32m--> 203\u001b[0m             \u001b[39min\u001b[39;00m obj\u001b[39m.\u001b[39;49m_trackable_children(save_type, \u001b[39m*\u001b[39;49m\u001b[39m*\u001b[39;49mkwargs)\u001b[39m.\u001b[39mitems()]\n\u001b[1;32m    204\u001b[0m \u001b[39m# pylint: enable=protected-access\u001b[39;00m\n\u001b[1;32m    205\u001b[0m \n\u001b[1;32m    206\u001b[0m \u001b[39m# GraphView objects may define children of the root object that are not\u001b[39;00m\n\u001b[1;32m    207\u001b[0m \u001b[39m# actually attached, e.g. a Checkpoint object's save_counter.\u001b[39;00m\n\u001b[1;32m    208\u001b[0m \u001b[39mif\u001b[39;00m obj \u001b[39mis\u001b[39;00m \u001b[39mself\u001b[39m\u001b[39m.\u001b[39mroot \u001b[39mand\u001b[39;00m \u001b[39mself\u001b[39m\u001b[39m.\u001b[39m_attached_dependencies:\n",
      "File \u001b[0;32m~/Desktop/SIC/venv/lib/python3.9/site-packages/tensorflow/python/training/tracking/autotrackable.py:115\u001b[0m, in \u001b[0;36mAutoTrackable._trackable_children\u001b[0;34m(self, save_type, **kwargs)\u001b[0m\n\u001b[1;32m    113\u001b[0m \u001b[39mfor\u001b[39;00m fn \u001b[39min\u001b[39;00m functions\u001b[39m.\u001b[39mvalues():\n\u001b[1;32m    114\u001b[0m   \u001b[39mif\u001b[39;00m \u001b[39misinstance\u001b[39m(fn, core_types\u001b[39m.\u001b[39mGenericFunction):\n\u001b[0;32m--> 115\u001b[0m     fn\u001b[39m.\u001b[39;49m_list_all_concrete_functions_for_serialization()  \u001b[39m# pylint: disable=protected-access\u001b[39;00m\n\u001b[1;32m    117\u001b[0m \u001b[39m# Additional dependencies may have been generated during function tracing\u001b[39;00m\n\u001b[1;32m    118\u001b[0m \u001b[39m# (e.g. captured variables). Make sure we return those too.\u001b[39;00m\n\u001b[1;32m    119\u001b[0m children \u001b[39m=\u001b[39m {}\n",
      "File \u001b[0;32m~/Desktop/SIC/venv/lib/python3.9/site-packages/tensorflow/python/eager/def_function.py:1184\u001b[0m, in \u001b[0;36mFunction._list_all_concrete_functions_for_serialization\u001b[0;34m(self)\u001b[0m\n\u001b[1;32m   1182\u001b[0m concrete_functions \u001b[39m=\u001b[39m []\n\u001b[1;32m   1183\u001b[0m \u001b[39mfor\u001b[39;00m args, kwargs \u001b[39min\u001b[39;00m seen_signatures:\n\u001b[0;32m-> 1184\u001b[0m   concrete_functions\u001b[39m.\u001b[39mappend(\u001b[39mself\u001b[39;49m\u001b[39m.\u001b[39;49mget_concrete_function(\u001b[39m*\u001b[39;49margs, \u001b[39m*\u001b[39;49m\u001b[39m*\u001b[39;49mkwargs))\n\u001b[1;32m   1185\u001b[0m \u001b[39mreturn\u001b[39;00m concrete_functions\n",
      "File \u001b[0;32m~/Desktop/SIC/venv/lib/python3.9/site-packages/tensorflow/python/eager/def_function.py:1239\u001b[0m, in \u001b[0;36mFunction.get_concrete_function\u001b[0;34m(self, *args, **kwargs)\u001b[0m\n\u001b[1;32m   1237\u001b[0m \u001b[39mdef\u001b[39;00m \u001b[39mget_concrete_function\u001b[39m(\u001b[39mself\u001b[39m, \u001b[39m*\u001b[39margs, \u001b[39m*\u001b[39m\u001b[39m*\u001b[39mkwargs):\n\u001b[1;32m   1238\u001b[0m   \u001b[39m# Implements GenericFunction.get_concrete_function.\u001b[39;00m\n\u001b[0;32m-> 1239\u001b[0m   concrete \u001b[39m=\u001b[39m \u001b[39mself\u001b[39;49m\u001b[39m.\u001b[39;49m_get_concrete_function_garbage_collected(\u001b[39m*\u001b[39;49margs, \u001b[39m*\u001b[39;49m\u001b[39m*\u001b[39;49mkwargs)\n\u001b[1;32m   1240\u001b[0m   concrete\u001b[39m.\u001b[39m_garbage_collector\u001b[39m.\u001b[39mrelease()  \u001b[39m# pylint: disable=protected-access\u001b[39;00m\n\u001b[1;32m   1241\u001b[0m   \u001b[39mreturn\u001b[39;00m concrete\n",
      "File \u001b[0;32m~/Desktop/SIC/venv/lib/python3.9/site-packages/tensorflow/python/eager/def_function.py:1230\u001b[0m, in \u001b[0;36mFunction._get_concrete_function_garbage_collected\u001b[0;34m(self, *args, **kwargs)\u001b[0m\n\u001b[1;32m   1225\u001b[0m   \u001b[39mreturn\u001b[39;00m \u001b[39mself\u001b[39m\u001b[39m.\u001b[39m_stateless_fn\u001b[39m.\u001b[39m_get_concrete_function_garbage_collected(  \u001b[39m# pylint: disable=protected-access\u001b[39;00m\n\u001b[1;32m   1226\u001b[0m       \u001b[39m*\u001b[39margs, \u001b[39m*\u001b[39m\u001b[39m*\u001b[39mkwargs)\n\u001b[1;32m   1227\u001b[0m \u001b[39melif\u001b[39;00m \u001b[39mself\u001b[39m\u001b[39m.\u001b[39m_stateful_fn \u001b[39mis\u001b[39;00m \u001b[39mnot\u001b[39;00m \u001b[39mNone\u001b[39;00m:\n\u001b[1;32m   1228\u001b[0m   \u001b[39m# In this case we have not created variables on the first call. So we can\u001b[39;00m\n\u001b[1;32m   1229\u001b[0m   \u001b[39m# run the first trace but we should fail if variables are created.\u001b[39;00m\n\u001b[0;32m-> 1230\u001b[0m   concrete \u001b[39m=\u001b[39m \u001b[39mself\u001b[39;49m\u001b[39m.\u001b[39;49m_stateful_fn\u001b[39m.\u001b[39;49m_get_concrete_function_garbage_collected(  \u001b[39m# pylint: disable=protected-access\u001b[39;49;00m\n\u001b[1;32m   1231\u001b[0m       \u001b[39m*\u001b[39;49margs, \u001b[39m*\u001b[39;49m\u001b[39m*\u001b[39;49mkwargs)\n\u001b[1;32m   1232\u001b[0m   \u001b[39mif\u001b[39;00m \u001b[39mself\u001b[39m\u001b[39m.\u001b[39m_created_variables:\n\u001b[1;32m   1233\u001b[0m     \u001b[39mraise\u001b[39;00m \u001b[39mValueError\u001b[39;00m(\u001b[39m\"\u001b[39m\u001b[39mCreating variables on a non-first call to a function\u001b[39m\u001b[39m\"\u001b[39m\n\u001b[1;32m   1234\u001b[0m                      \u001b[39m\"\u001b[39m\u001b[39m decorated with tf.function.\u001b[39m\u001b[39m\"\u001b[39m)\n",
      "File \u001b[0;32m~/Desktop/SIC/venv/lib/python3.9/site-packages/tensorflow/python/eager/function.py:2533\u001b[0m, in \u001b[0;36mFunction._get_concrete_function_garbage_collected\u001b[0;34m(self, *args, **kwargs)\u001b[0m\n\u001b[1;32m   2531\u001b[0m   args, kwargs \u001b[39m=\u001b[39m \u001b[39mNone\u001b[39;00m, \u001b[39mNone\u001b[39;00m\n\u001b[1;32m   2532\u001b[0m \u001b[39mwith\u001b[39;00m \u001b[39mself\u001b[39m\u001b[39m.\u001b[39m_lock:\n\u001b[0;32m-> 2533\u001b[0m   graph_function, _ \u001b[39m=\u001b[39m \u001b[39mself\u001b[39;49m\u001b[39m.\u001b[39;49m_maybe_define_function(args, kwargs)\n\u001b[1;32m   2534\u001b[0m   seen_names \u001b[39m=\u001b[39m \u001b[39mset\u001b[39m()\n\u001b[1;32m   2535\u001b[0m   captured \u001b[39m=\u001b[39m object_identity\u001b[39m.\u001b[39mObjectIdentitySet(\n\u001b[1;32m   2536\u001b[0m       graph_function\u001b[39m.\u001b[39mgraph\u001b[39m.\u001b[39minternal_captures)\n",
      "File \u001b[0;32m~/Desktop/SIC/venv/lib/python3.9/site-packages/tensorflow/python/eager/function.py:2711\u001b[0m, in \u001b[0;36mFunction._maybe_define_function\u001b[0;34m(self, args, kwargs)\u001b[0m\n\u001b[1;32m   2708\u001b[0m   cache_key \u001b[39m=\u001b[39m \u001b[39mself\u001b[39m\u001b[39m.\u001b[39m_function_cache\u001b[39m.\u001b[39mgeneralize(cache_key)\n\u001b[1;32m   2709\u001b[0m   (args, kwargs) \u001b[39m=\u001b[39m cache_key\u001b[39m.\u001b[39m_placeholder_value()  \u001b[39m# pylint: disable=protected-access\u001b[39;00m\n\u001b[0;32m-> 2711\u001b[0m graph_function \u001b[39m=\u001b[39m \u001b[39mself\u001b[39;49m\u001b[39m.\u001b[39;49m_create_graph_function(args, kwargs)\n\u001b[1;32m   2712\u001b[0m \u001b[39mself\u001b[39m\u001b[39m.\u001b[39m_function_cache\u001b[39m.\u001b[39madd(cache_key, cache_key_deletion_observer,\n\u001b[1;32m   2713\u001b[0m                          graph_function)\n\u001b[1;32m   2715\u001b[0m \u001b[39mreturn\u001b[39;00m graph_function, filtered_flat_args\n",
      "File \u001b[0;32m~/Desktop/SIC/venv/lib/python3.9/site-packages/tensorflow/python/eager/function.py:2627\u001b[0m, in \u001b[0;36mFunction._create_graph_function\u001b[0;34m(self, args, kwargs)\u001b[0m\n\u001b[1;32m   2622\u001b[0m missing_arg_names \u001b[39m=\u001b[39m [\n\u001b[1;32m   2623\u001b[0m     \u001b[39m\"\u001b[39m\u001b[39m%s\u001b[39;00m\u001b[39m_\u001b[39m\u001b[39m%d\u001b[39;00m\u001b[39m\"\u001b[39m \u001b[39m%\u001b[39m (arg, i) \u001b[39mfor\u001b[39;00m i, arg \u001b[39min\u001b[39;00m \u001b[39menumerate\u001b[39m(missing_arg_names)\n\u001b[1;32m   2624\u001b[0m ]\n\u001b[1;32m   2625\u001b[0m arg_names \u001b[39m=\u001b[39m base_arg_names \u001b[39m+\u001b[39m missing_arg_names\n\u001b[1;32m   2626\u001b[0m graph_function \u001b[39m=\u001b[39m ConcreteFunction(\n\u001b[0;32m-> 2627\u001b[0m     func_graph_module\u001b[39m.\u001b[39;49mfunc_graph_from_py_func(\n\u001b[1;32m   2628\u001b[0m         \u001b[39mself\u001b[39;49m\u001b[39m.\u001b[39;49m_name,\n\u001b[1;32m   2629\u001b[0m         \u001b[39mself\u001b[39;49m\u001b[39m.\u001b[39;49m_python_function,\n\u001b[1;32m   2630\u001b[0m         args,\n\u001b[1;32m   2631\u001b[0m         kwargs,\n\u001b[1;32m   2632\u001b[0m         \u001b[39mself\u001b[39;49m\u001b[39m.\u001b[39;49minput_signature,\n\u001b[1;32m   2633\u001b[0m         autograph\u001b[39m=\u001b[39;49m\u001b[39mself\u001b[39;49m\u001b[39m.\u001b[39;49m_autograph,\n\u001b[1;32m   2634\u001b[0m         autograph_options\u001b[39m=\u001b[39;49m\u001b[39mself\u001b[39;49m\u001b[39m.\u001b[39;49m_autograph_options,\n\u001b[1;32m   2635\u001b[0m         arg_names\u001b[39m=\u001b[39;49marg_names,\n\u001b[1;32m   2636\u001b[0m         capture_by_value\u001b[39m=\u001b[39;49m\u001b[39mself\u001b[39;49m\u001b[39m.\u001b[39;49m_capture_by_value),\n\u001b[1;32m   2637\u001b[0m     \u001b[39mself\u001b[39m\u001b[39m.\u001b[39m_function_attributes,\n\u001b[1;32m   2638\u001b[0m     spec\u001b[39m=\u001b[39m\u001b[39mself\u001b[39m\u001b[39m.\u001b[39mfunction_spec,\n\u001b[1;32m   2639\u001b[0m     \u001b[39m# Tell the ConcreteFunction to clean up its graph once it goes out of\u001b[39;00m\n\u001b[1;32m   2640\u001b[0m     \u001b[39m# scope. This is not the default behavior since it gets used in some\u001b[39;00m\n\u001b[1;32m   2641\u001b[0m     \u001b[39m# places (like Keras) where the FuncGraph lives longer than the\u001b[39;00m\n\u001b[1;32m   2642\u001b[0m     \u001b[39m# ConcreteFunction.\u001b[39;00m\n\u001b[1;32m   2643\u001b[0m     shared_func_graph\u001b[39m=\u001b[39m\u001b[39mFalse\u001b[39;00m)\n\u001b[1;32m   2644\u001b[0m \u001b[39mreturn\u001b[39;00m graph_function\n",
      "File \u001b[0;32m~/Desktop/SIC/venv/lib/python3.9/site-packages/tensorflow/python/framework/func_graph.py:1182\u001b[0m, in \u001b[0;36mfunc_graph_from_py_func\u001b[0;34m(name, python_func, args, kwargs, signature, func_graph, autograph, autograph_options, add_control_dependencies, arg_names, op_return_value, collections, capture_by_value, acd_record_initial_resource_uses)\u001b[0m\n\u001b[1;32m   1176\u001b[0m   \u001b[39m# Returning a closed-over tensor does not trigger convert_to_tensor.\u001b[39;00m\n\u001b[1;32m   1177\u001b[0m   func_graph\u001b[39m.\u001b[39moutputs\u001b[39m.\u001b[39mextend(\n\u001b[1;32m   1178\u001b[0m       func_graph\u001b[39m.\u001b[39mcapture(x)\n\u001b[1;32m   1179\u001b[0m       \u001b[39mfor\u001b[39;00m x \u001b[39min\u001b[39;00m flatten(func_graph\u001b[39m.\u001b[39mstructured_outputs)\n\u001b[1;32m   1180\u001b[0m       \u001b[39mif\u001b[39;00m x \u001b[39mis\u001b[39;00m \u001b[39mnot\u001b[39;00m \u001b[39mNone\u001b[39;00m)\n\u001b[0;32m-> 1182\u001b[0m   func_graph\u001b[39m.\u001b[39mvariables \u001b[39m=\u001b[39m variables\n\u001b[1;32m   1184\u001b[0m \u001b[39mif\u001b[39;00m add_control_dependencies:\n\u001b[1;32m   1185\u001b[0m   func_graph\u001b[39m.\u001b[39mcontrol_outputs\u001b[39m.\u001b[39mextend(deps_control_manager\u001b[39m.\u001b[39mops_which_must_run)\n",
      "File \u001b[0;32m~/Desktop/SIC/venv/lib/python3.9/site-packages/tensorflow/python/framework/auto_control_deps.py:464\u001b[0m, in \u001b[0;36mAutomaticControlDependencies.__exit__\u001b[0;34m(self, unused_type, unused_value, unused_traceback)\u001b[0m\n\u001b[1;32m    461\u001b[0m resource_inputs \u001b[39m=\u001b[39m \u001b[39mset\u001b[39m()\n\u001b[1;32m    462\u001b[0m \u001b[39m# Check for any resource inputs. If we find any, we update control_inputs\u001b[39;00m\n\u001b[1;32m    463\u001b[0m \u001b[39m# and last_write_to_resource.\u001b[39;00m\n\u001b[0;32m--> 464\u001b[0m \u001b[39mfor\u001b[39;00m inp, resource_type \u001b[39min\u001b[39;00m _get_resource_inputs(op):\n\u001b[1;32m    465\u001b[0m   is_read \u001b[39m=\u001b[39m resource_type \u001b[39m==\u001b[39m ResourceType\u001b[39m.\u001b[39mREAD_ONLY\n\u001b[1;32m    466\u001b[0m   input_id \u001b[39m=\u001b[39m ops\u001b[39m.\u001b[39mtensor_id(inp)\n",
      "File \u001b[0;32m~/Desktop/SIC/venv/lib/python3.9/site-packages/tensorflow/python/framework/auto_control_deps.py:662\u001b[0m, in \u001b[0;36m_get_resource_inputs\u001b[0;34m(op)\u001b[0m\n\u001b[1;32m    660\u001b[0m \u001b[39mdef\u001b[39;00m \u001b[39m_get_resource_inputs\u001b[39m(op):\n\u001b[1;32m    661\u001b[0m   \u001b[39m\"\"\"Returns an iterable of resources touched by this `op`.\"\"\"\u001b[39;00m\n\u001b[0;32m--> 662\u001b[0m   reads, writes \u001b[39m=\u001b[39m utils\u001b[39m.\u001b[39;49mget_read_write_resource_inputs(op)\n\u001b[1;32m    663\u001b[0m   saturated \u001b[39m=\u001b[39m \u001b[39mFalse\u001b[39;00m\n\u001b[1;32m    664\u001b[0m   \u001b[39mwhile\u001b[39;00m \u001b[39mnot\u001b[39;00m saturated:\n",
      "File \u001b[0;32m~/Desktop/SIC/venv/lib/python3.9/site-packages/tensorflow/python/framework/auto_control_deps_utils.py:105\u001b[0m, in \u001b[0;36mget_read_write_resource_inputs\u001b[0;34m(op)\u001b[0m\n\u001b[1;32m    102\u001b[0m   \u001b[39mreturn\u001b[39;00m (reads, writes)\n\u001b[1;32m    104\u001b[0m \u001b[39mtry\u001b[39;00m:\n\u001b[0;32m--> 105\u001b[0m   read_only_input_indices \u001b[39m=\u001b[39m op\u001b[39m.\u001b[39;49mget_attr(READ_ONLY_RESOURCE_INPUTS_ATTR)\n\u001b[1;32m    106\u001b[0m \u001b[39mexcept\u001b[39;00m \u001b[39mValueError\u001b[39;00m:\n\u001b[1;32m    107\u001b[0m   \u001b[39m# Attr was not set. Add all resource inputs to `writes` and return.\u001b[39;00m\n\u001b[1;32m    108\u001b[0m   writes\u001b[39m.\u001b[39mupdate(t \u001b[39mfor\u001b[39;00m t \u001b[39min\u001b[39;00m op\u001b[39m.\u001b[39minputs \u001b[39mif\u001b[39;00m t\u001b[39m.\u001b[39mdtype \u001b[39m==\u001b[39m dtypes\u001b[39m.\u001b[39mresource)\n",
      "File \u001b[0;32m~/Desktop/SIC/venv/lib/python3.9/site-packages/tensorflow/python/framework/ops.py:2647\u001b[0m, in \u001b[0;36mOperation.get_attr\u001b[0;34m(self, name)\u001b[0m\n\u001b[1;32m   2645\u001b[0m fields \u001b[39m=\u001b[39m (\u001b[39m\"\u001b[39m\u001b[39ms\u001b[39m\u001b[39m\"\u001b[39m, \u001b[39m\"\u001b[39m\u001b[39mi\u001b[39m\u001b[39m\"\u001b[39m, \u001b[39m\"\u001b[39m\u001b[39mf\u001b[39m\u001b[39m\"\u001b[39m, \u001b[39m\"\u001b[39m\u001b[39mb\u001b[39m\u001b[39m\"\u001b[39m, \u001b[39m\"\u001b[39m\u001b[39mtype\u001b[39m\u001b[39m\"\u001b[39m, \u001b[39m\"\u001b[39m\u001b[39mshape\u001b[39m\u001b[39m\"\u001b[39m, \u001b[39m\"\u001b[39m\u001b[39mtensor\u001b[39m\u001b[39m\"\u001b[39m, \u001b[39m\"\u001b[39m\u001b[39mfunc\u001b[39m\u001b[39m\"\u001b[39m)\n\u001b[1;32m   2646\u001b[0m \u001b[39mtry\u001b[39;00m:\n\u001b[0;32m-> 2647\u001b[0m   \u001b[39mwith\u001b[39;00m c_api_util\u001b[39m.\u001b[39mtf_buffer() \u001b[39mas\u001b[39;00m buf:\n\u001b[1;32m   2648\u001b[0m     pywrap_tf_session\u001b[39m.\u001b[39mTF_OperationGetAttrValueProto(\u001b[39mself\u001b[39m\u001b[39m.\u001b[39m_c_op, name, buf)\n\u001b[1;32m   2649\u001b[0m     data \u001b[39m=\u001b[39m pywrap_tf_session\u001b[39m.\u001b[39mTF_GetBuffer(buf)\n",
      "File \u001b[0;32m/Library/Frameworks/Python.framework/Versions/3.9/lib/python3.9/contextlib.py:117\u001b[0m, in \u001b[0;36m_GeneratorContextManager.__enter__\u001b[0;34m(self)\u001b[0m\n\u001b[1;32m    115\u001b[0m \u001b[39mdel\u001b[39;00m \u001b[39mself\u001b[39m\u001b[39m.\u001b[39margs, \u001b[39mself\u001b[39m\u001b[39m.\u001b[39mkwds, \u001b[39mself\u001b[39m\u001b[39m.\u001b[39mfunc\n\u001b[1;32m    116\u001b[0m \u001b[39mtry\u001b[39;00m:\n\u001b[0;32m--> 117\u001b[0m     \u001b[39mreturn\u001b[39;00m \u001b[39mnext\u001b[39;49m(\u001b[39mself\u001b[39;49m\u001b[39m.\u001b[39;49mgen)\n\u001b[1;32m    118\u001b[0m \u001b[39mexcept\u001b[39;00m \u001b[39mStopIteration\u001b[39;00m:\n\u001b[1;32m    119\u001b[0m     \u001b[39mraise\u001b[39;00m \u001b[39mRuntimeError\u001b[39;00m(\u001b[39m\"\u001b[39m\u001b[39mgenerator didn\u001b[39m\u001b[39m'\u001b[39m\u001b[39mt yield\u001b[39m\u001b[39m\"\u001b[39m) \u001b[39mfrom\u001b[39;00m \u001b[39mNone\u001b[39m\n",
      "File \u001b[0;32m~/Desktop/SIC/venv/lib/python3.9/site-packages/tensorflow/python/framework/c_api_util.py:212\u001b[0m, in \u001b[0;36mtf_buffer\u001b[0;34m(data)\u001b[0m\n\u001b[1;32m    210\u001b[0m   buf \u001b[39m=\u001b[39m c_api\u001b[39m.\u001b[39mTF_NewBufferFromString(compat\u001b[39m.\u001b[39mas_bytes(data))\n\u001b[1;32m    211\u001b[0m \u001b[39melse\u001b[39;00m:\n\u001b[0;32m--> 212\u001b[0m   buf \u001b[39m=\u001b[39m c_api\u001b[39m.\u001b[39;49mTF_NewBuffer()\n\u001b[1;32m    213\u001b[0m \u001b[39mtry\u001b[39;00m:\n\u001b[1;32m    214\u001b[0m   \u001b[39myield\u001b[39;00m buf\n",
      "\u001b[0;31mKeyboardInterrupt\u001b[0m: "
     ]
    }
   ],
   "source": [
    "history = model4.fit(X_train2, y_train2, validation_data=(X_val2, y_val2), epochs=100, verbose=0)\n",
    "print(history.history.keys())\n",
    "\n",
    "figure(figsize=(8, 6))\n",
    "plt.plot(history.history['loss'])\n",
    "plt.plot(history.history['val_loss'])\n",
    "plt.title('model loss')\n",
    "plt.ylabel('loss')\n",
    "plt.xlabel('epoch')\n",
    "plt.legend(['train', 'test'], loc='upper left')\n",
    "plt.show()"
   ]
  },
  {
   "cell_type": "code",
   "execution_count": 242,
   "metadata": {},
   "outputs": [
    {
     "name": "stdout",
     "output_type": "stream",
     "text": [
      "1/1 [==============================] - 0s 16ms/step\n"
     ]
    },
    {
     "data": {
      "text/html": [
       "<div>\n",
       "<style scoped>\n",
       "    .dataframe tbody tr th:only-of-type {\n",
       "        vertical-align: middle;\n",
       "    }\n",
       "\n",
       "    .dataframe tbody tr th {\n",
       "        vertical-align: top;\n",
       "    }\n",
       "\n",
       "    .dataframe thead th {\n",
       "        text-align: right;\n",
       "    }\n",
       "</style>\n",
       "<table border=\"1\" class=\"dataframe\">\n",
       "  <thead>\n",
       "    <tr style=\"text-align: right;\">\n",
       "      <th></th>\n",
       "      <th>Val Predictions</th>\n",
       "      <th>Actuals</th>\n",
       "    </tr>\n",
       "  </thead>\n",
       "  <tbody>\n",
       "    <tr>\n",
       "      <th>0</th>\n",
       "      <td>1.456134e+09</td>\n",
       "      <td>1459378000</td>\n",
       "    </tr>\n",
       "  </tbody>\n",
       "</table>\n",
       "</div>"
      ],
      "text/plain": [
       "   Val Predictions     Actuals\n",
       "0     1.456134e+09  1459378000"
      ]
     },
     "execution_count": 242,
     "metadata": {},
     "output_type": "execute_result"
    }
   ],
   "source": [
    "val_predictions4 = model4.predict(X_val2).flatten()\n",
    "val_results4 = pd.DataFrame(data={'Val Predictions':val_predictions4, 'Actuals':y_val2})\n",
    "val_results4"
   ]
  },
  {
   "cell_type": "code",
   "execution_count": 243,
   "metadata": {},
   "outputs": [
    {
     "name": "stdout",
     "output_type": "stream",
     "text": [
      "1/1 [==============================] - 0s 16ms/step\n"
     ]
    },
    {
     "data": {
      "text/html": [
       "<div>\n",
       "<style scoped>\n",
       "    .dataframe tbody tr th:only-of-type {\n",
       "        vertical-align: middle;\n",
       "    }\n",
       "\n",
       "    .dataframe tbody tr th {\n",
       "        vertical-align: top;\n",
       "    }\n",
       "\n",
       "    .dataframe thead th {\n",
       "        text-align: right;\n",
       "    }\n",
       "</style>\n",
       "<table border=\"1\" class=\"dataframe\">\n",
       "  <thead>\n",
       "    <tr style=\"text-align: right;\">\n",
       "      <th></th>\n",
       "      <th>Test Predictions</th>\n",
       "      <th>Actuals</th>\n",
       "    </tr>\n",
       "  </thead>\n",
       "  <tbody>\n",
       "    <tr>\n",
       "      <th>0</th>\n",
       "      <td>1.456134e+09</td>\n",
       "      <td>1465634000</td>\n",
       "    </tr>\n",
       "  </tbody>\n",
       "</table>\n",
       "</div>"
      ],
      "text/plain": [
       "   Test Predictions     Actuals\n",
       "0      1.456134e+09  1465634000"
      ]
     },
     "execution_count": 243,
     "metadata": {},
     "output_type": "execute_result"
    }
   ],
   "source": [
    "test_predictions4 = model4.predict(X_test2).flatten()\n",
    "test_results4 = pd.DataFrame(data={'Test Predictions':test_predictions4, 'Actuals':y_test2})\n",
    "test_results4"
   ]
  },
  {
   "cell_type": "markdown",
   "metadata": {},
   "source": [
    "# MODEL 5"
   ]
  },
  {
   "cell_type": "code",
   "execution_count": 244,
   "metadata": {},
   "outputs": [
    {
     "name": "stdout",
     "output_type": "stream",
     "text": [
      "Model: \"sequential_14\"\n",
      "_________________________________________________________________\n",
      " Layer (type)                Output Shape              Param #   \n",
      "=================================================================\n",
      " conv1d_4 (Conv1D)           (None, 4, 64)             320       \n",
      "                                                                 \n",
      " flatten_4 (Flatten)         (None, 256)               0         \n",
      "                                                                 \n",
      " dense_28 (Dense)            (None, 8)                 2056      \n",
      "                                                                 \n",
      " dense_29 (Dense)            (None, 1)                 9         \n",
      "                                                                 \n",
      "=================================================================\n",
      "Total params: 2,385\n",
      "Trainable params: 2,385\n",
      "Non-trainable params: 0\n",
      "_________________________________________________________________\n"
     ]
    }
   ],
   "source": [
    "model5 = Sequential()\n",
    "model5.add(InputLayer((5, 2)))\n",
    "model5.add(Conv1D(64, kernel_size=2))\n",
    "model5.add(Flatten())\n",
    "model5.add(Dense(8, 'relu'))\n",
    "model5.add(Dense(1, 'linear'))\n",
    "\n",
    "model5.summary()"
   ]
  },
  {
   "cell_type": "code",
   "execution_count": 245,
   "metadata": {},
   "outputs": [],
   "source": [
    "cp5 = ModelCheckpoint('model5/', save_best_only=True)\n",
    "model5.compile(loss=MeanSquaredError(), optimizer=Adam(learning_rate=10), metrics=[RootMeanSquaredError()])"
   ]
  },
  {
   "cell_type": "code",
   "execution_count": 246,
   "metadata": {},
   "outputs": [
    {
     "name": "stdout",
     "output_type": "stream",
     "text": [
      "Epoch 1/20\n",
      "1/1 [==============================] - ETA: 0s - loss: 2819886685431529472.0000 - root_mean_squared_error: 1679251840.0000"
     ]
    },
    {
     "name": "stderr",
     "output_type": "stream",
     "text": [
      "WARNING:absl:Found untraced functions such as _jit_compiled_convolution_op while saving (showing 1 of 1). These functions will not be directly callable after loading.\n"
     ]
    },
    {
     "name": "stdout",
     "output_type": "stream",
     "text": [
      "INFO:tensorflow:Assets written to: model5/assets\n"
     ]
    },
    {
     "name": "stderr",
     "output_type": "stream",
     "text": [
      "INFO:tensorflow:Assets written to: model5/assets\n"
     ]
    },
    {
     "name": "stdout",
     "output_type": "stream",
     "text": [
      "1/1 [==============================] - 1s 813ms/step - loss: 2819886685431529472.0000 - root_mean_squared_error: 1679251840.0000 - val_loss: 214065414147523215360.0000 - val_root_mean_squared_error: 14630974464.0000\n",
      "Epoch 2/20\n",
      "1/1 [==============================] - 0s 20ms/step - loss: 209719950680505974784.0000 - root_mean_squared_error: 14481711104.0000 - val_loss: 2469249366293391343616.0000 - val_root_mean_squared_error: 49691541504.0000\n",
      "Epoch 3/20\n",
      "1/1 [==============================] - 0s 21ms/step - loss: 2416633530371845128192.0000 - root_mean_squared_error: 49159266304.0000 - val_loss: nan - val_root_mean_squared_error: nan\n",
      "Epoch 4/20\n",
      "1/1 [==============================] - 0s 20ms/step - loss: nan - root_mean_squared_error: nan - val_loss: nan - val_root_mean_squared_error: nan\n",
      "Epoch 5/20\n",
      "1/1 [==============================] - 0s 21ms/step - loss: nan - root_mean_squared_error: nan - val_loss: nan - val_root_mean_squared_error: nan\n",
      "Epoch 6/20\n",
      "1/1 [==============================] - 0s 21ms/step - loss: nan - root_mean_squared_error: nan - val_loss: nan - val_root_mean_squared_error: nan\n",
      "Epoch 7/20\n",
      "1/1 [==============================] - 0s 20ms/step - loss: nan - root_mean_squared_error: nan - val_loss: nan - val_root_mean_squared_error: nan\n",
      "Epoch 8/20\n",
      "1/1 [==============================] - 0s 21ms/step - loss: nan - root_mean_squared_error: nan - val_loss: nan - val_root_mean_squared_error: nan\n",
      "Epoch 9/20\n",
      "1/1 [==============================] - 0s 20ms/step - loss: nan - root_mean_squared_error: nan - val_loss: nan - val_root_mean_squared_error: nan\n",
      "Epoch 10/20\n",
      "1/1 [==============================] - 0s 21ms/step - loss: nan - root_mean_squared_error: nan - val_loss: nan - val_root_mean_squared_error: nan\n",
      "Epoch 11/20\n",
      "1/1 [==============================] - 0s 21ms/step - loss: nan - root_mean_squared_error: nan - val_loss: nan - val_root_mean_squared_error: nan\n",
      "Epoch 12/20\n",
      "1/1 [==============================] - 0s 20ms/step - loss: nan - root_mean_squared_error: nan - val_loss: nan - val_root_mean_squared_error: nan\n",
      "Epoch 13/20\n",
      "1/1 [==============================] - 0s 21ms/step - loss: nan - root_mean_squared_error: nan - val_loss: nan - val_root_mean_squared_error: nan\n",
      "Epoch 14/20\n",
      "1/1 [==============================] - 0s 21ms/step - loss: nan - root_mean_squared_error: nan - val_loss: nan - val_root_mean_squared_error: nan\n",
      "Epoch 15/20\n",
      "1/1 [==============================] - 0s 20ms/step - loss: nan - root_mean_squared_error: nan - val_loss: nan - val_root_mean_squared_error: nan\n",
      "Epoch 16/20\n",
      "1/1 [==============================] - 0s 21ms/step - loss: nan - root_mean_squared_error: nan - val_loss: nan - val_root_mean_squared_error: nan\n",
      "Epoch 17/20\n",
      "1/1 [==============================] - 0s 21ms/step - loss: nan - root_mean_squared_error: nan - val_loss: nan - val_root_mean_squared_error: nan\n",
      "Epoch 18/20\n",
      "1/1 [==============================] - 0s 21ms/step - loss: nan - root_mean_squared_error: nan - val_loss: nan - val_root_mean_squared_error: nan\n",
      "Epoch 19/20\n",
      "1/1 [==============================] - 0s 20ms/step - loss: nan - root_mean_squared_error: nan - val_loss: nan - val_root_mean_squared_error: nan\n",
      "Epoch 20/20\n",
      "1/1 [==============================] - 0s 21ms/step - loss: nan - root_mean_squared_error: nan - val_loss: nan - val_root_mean_squared_error: nan\n"
     ]
    },
    {
     "data": {
      "text/plain": [
       "<keras.callbacks.History at 0x7fe1d3fefd30>"
      ]
     },
     "execution_count": 246,
     "metadata": {},
     "output_type": "execute_result"
    }
   ],
   "source": [
    "model5.fit(X_train2, y_train2, validation_data=(X_val2, y_val2), epochs=20, callbacks=[cp5])"
   ]
  },
  {
   "cell_type": "code",
   "execution_count": 247,
   "metadata": {},
   "outputs": [
    {
     "name": "stdout",
     "output_type": "stream",
     "text": [
      "1/1 [==============================] - 0s 43ms/step\n"
     ]
    },
    {
     "data": {
      "text/html": [
       "<div>\n",
       "<style scoped>\n",
       "    .dataframe tbody tr th:only-of-type {\n",
       "        vertical-align: middle;\n",
       "    }\n",
       "\n",
       "    .dataframe tbody tr th {\n",
       "        vertical-align: top;\n",
       "    }\n",
       "\n",
       "    .dataframe thead th {\n",
       "        text-align: right;\n",
       "    }\n",
       "</style>\n",
       "<table border=\"1\" class=\"dataframe\">\n",
       "  <thead>\n",
       "    <tr style=\"text-align: right;\">\n",
       "      <th></th>\n",
       "      <th>Train Predictions</th>\n",
       "      <th>Actuals</th>\n",
       "    </tr>\n",
       "  </thead>\n",
       "  <tbody>\n",
       "    <tr>\n",
       "      <th>0</th>\n",
       "      <td>-1.296720e+10</td>\n",
       "      <td>1438193000</td>\n",
       "    </tr>\n",
       "    <tr>\n",
       "      <th>1</th>\n",
       "      <td>-1.303647e+10</td>\n",
       "      <td>1445524000</td>\n",
       "    </tr>\n",
       "    <tr>\n",
       "      <th>2</th>\n",
       "      <td>-1.310473e+10</td>\n",
       "      <td>1452626000</td>\n",
       "    </tr>\n",
       "  </tbody>\n",
       "</table>\n",
       "</div>"
      ],
      "text/plain": [
       "   Train Predictions     Actuals\n",
       "0      -1.296720e+10  1438193000\n",
       "1      -1.303647e+10  1445524000\n",
       "2      -1.310473e+10  1452626000"
      ]
     },
     "execution_count": 247,
     "metadata": {},
     "output_type": "execute_result"
    }
   ],
   "source": [
    "model5 = load_model('model5/')\n",
    "train_predictions5 = model5.predict(X_train2).flatten()\n",
    "train_results5 = pd.DataFrame(data={'Train Predictions':train_predictions5, 'Actuals':y_train2})\n",
    "train_results5"
   ]
  },
  {
   "cell_type": "code",
   "execution_count": 248,
   "metadata": {},
   "outputs": [
    {
     "name": "stdout",
     "output_type": "stream",
     "text": [
      "dict_keys(['loss', 'root_mean_squared_error', 'val_loss', 'val_root_mean_squared_error'])\n"
     ]
    },
    {
     "data": {
      "image/png": "[encoded data removed]",
      "text/plain": [
       "<Figure size 576x432 with 1 Axes>"
      ]
     },
     "metadata": {
      "needs_background": "light"
     },
     "output_type": "display_data"
    }
   ],
   "source": [
    "history = model5.fit(X_train2, y_train2, validation_data=(X_val2, y_val2), epochs=200, callbacks=[cp5], verbose=0)\n",
    "print(history.history.keys())\n",
    "\n",
    "\n",
    "figure(figsize=(8, 6))\n",
    "plt.plot(history.history['loss'])\n",
    "plt.plot(history.history['val_loss'])\n",
    "plt.title('model loss')\n",
    "plt.ylabel('loss')\n",
    "plt.xlabel('epoch')\n",
    "plt.legend(['train', 'test'], loc='upper left')\n",
    "plt.show()"
   ]
  },
  {
   "cell_type": "markdown",
   "metadata": {},
   "source": [
    "# MODEL 6"
   ]
  },
  {
   "cell_type": "code",
   "execution_count": 249,
   "metadata": {},
   "outputs": [
    {
     "name": "stdout",
     "output_type": "stream",
     "text": [
      "Model: \"sequential_15\"\n",
      "_________________________________________________________________\n",
      " Layer (type)                Output Shape              Param #   \n",
      "=================================================================\n",
      " gru_3 (GRU)                 (None, 64)                13056     \n",
      "                                                                 \n",
      " dense_30 (Dense)            (None, 8)                 520       \n",
      "                                                                 \n",
      " dense_31 (Dense)            (None, 1)                 9         \n",
      "                                                                 \n",
      "=================================================================\n",
      "Total params: 13,585\n",
      "Trainable params: 13,585\n",
      "Non-trainable params: 0\n",
      "_________________________________________________________________\n"
     ]
    }
   ],
   "source": [
    "model6 = Sequential()\n",
    "model6.add(InputLayer((5, 2)))\n",
    "model6.add(GRU(64))\n",
    "model6.add(Dense(8, 'relu'))\n",
    "model6.add(Dense(1, 'linear'))\n",
    "model6.summary()"
   ]
  },
  {
   "cell_type": "code",
   "execution_count": 417,
   "metadata": {},
   "outputs": [],
   "source": [
    "cp6 = ModelCheckpoint('model6/', save_best_only=True)\n",
    "model6.compile(loss=MeanSquaredError(), optimizer=Adam(learning_rate=100), metrics=[RootMeanSquaredError()])"
   ]
  },
  {
   "cell_type": "code",
   "execution_count": 418,
   "metadata": {},
   "outputs": [
    {
     "name": "stdout",
     "output_type": "stream",
     "text": [
      "Epoch 1/1000\n",
      "1/1 [==============================] - ETA: 0s - loss: 34721606139904.0000 - root_mean_squared_error: 5892504.0000"
     ]
    },
    {
     "name": "stderr",
     "output_type": "stream",
     "text": [
      "WARNING:absl:Found untraced functions such as gru_cell_7_layer_call_fn, gru_cell_7_layer_call_and_return_conditional_losses while saving (showing 2 of 2). These functions will not be directly callable after loading.\n"
     ]
    },
    {
     "name": "stdout",
     "output_type": "stream",
     "text": [
      "INFO:tensorflow:Assets written to: model6/assets\n"
     ]
    },
    {
     "name": "stderr",
     "output_type": "stream",
     "text": [
      "INFO:tensorflow:Assets written to: model6/assets\n"
     ]
    },
    {
     "name": "stdout",
     "output_type": "stream",
     "text": [
      "1/1 [==============================] - 2s 2s/step - loss: 34721606139904.0000 - root_mean_squared_error: 5892504.0000 - val_loss: 1027353291522048.0000 - val_root_mean_squared_error: 32052352.0000\n",
      "Epoch 2/1000\n",
      "1/1 [==============================] - ETA: 0s - loss: 2149132244353024.0000 - root_mean_squared_error: 46358736.0000"
     ]
    },
    {
     "name": "stderr",
     "output_type": "stream",
     "text": [
      "WARNING:absl:Found untraced functions such as gru_cell_7_layer_call_fn, gru_cell_7_layer_call_and_return_conditional_losses while saving (showing 2 of 2). These functions will not be directly callable after loading.\n"
     ]
    },
    {
     "name": "stdout",
     "output_type": "stream",
     "text": [
      "INFO:tensorflow:Assets written to: model6/assets\n"
     ]
    },
    {
     "name": "stderr",
     "output_type": "stream",
     "text": [
      "INFO:tensorflow:Assets written to: model6/assets\n"
     ]
    },
    {
     "name": "stdout",
     "output_type": "stream",
     "text": [
      "1/1 [==============================] - 1s 867ms/step - loss: 2149132244353024.0000 - root_mean_squared_error: 46358736.0000 - val_loss: 4987253948416.0000 - val_root_mean_squared_error: 2233216.0000\n",
      "Epoch 3/1000\n",
      "1/1 [==============================] - 0s 24ms/step - loss: 171541966880768.0000 - root_mean_squared_error: 13097403.0000 - val_loss: 1207007679873024.0000 - val_root_mean_squared_error: 34742016.0000\n",
      "Epoch 4/1000\n",
      "1/1 [==============================] - 0s 23ms/step - loss: 467846324813824.0000 - root_mean_squared_error: 21629756.0000 - val_loss: 2367094989520896.0000 - val_root_mean_squared_error: 48652800.0000\n",
      "Epoch 5/1000\n",
      "1/1 [==============================] - 0s 24ms/step - loss: 1240368838344704.0000 - root_mean_squared_error: 35218872.0000 - val_loss: 2023450898071552.0000 - val_root_mean_squared_error: 44982784.0000\n",
      "Epoch 6/1000\n",
      "1/1 [==============================] - 0s 24ms/step - loss: 998974160896000.0000 - root_mean_squared_error: 31606552.0000 - val_loss: 1006381704413184.0000 - val_root_mean_squared_error: 31723520.0000\n",
      "Epoch 7/1000\n",
      "1/1 [==============================] - 0s 24ms/step - loss: 351322419232768.0000 - root_mean_squared_error: 18743596.0000 - val_loss: 218279113129984.0000 - val_root_mean_squared_error: 14774272.0000\n",
      "Epoch 8/1000\n",
      "1/1 [==============================] - ETA: 0s - loss: 35433996091392.0000 - root_mean_squared_error: 5952646.0000"
     ]
    },
    {
     "name": "stderr",
     "output_type": "stream",
     "text": [
      "WARNING:absl:Found untraced functions such as gru_cell_7_layer_call_fn, gru_cell_7_layer_call_and_return_conditional_losses while saving (showing 2 of 2). These functions will not be directly callable after loading.\n"
     ]
    },
    {
     "name": "stdout",
     "output_type": "stream",
     "text": [
      "INFO:tensorflow:Assets written to: model6/assets\n"
     ]
    },
    {
     "name": "stderr",
     "output_type": "stream",
     "text": [
      "INFO:tensorflow:Assets written to: model6/assets\n"
     ]
    },
    {
     "name": "stdout",
     "output_type": "stream",
     "text": [
      "1/1 [==============================] - 1s 863ms/step - loss: 35433996091392.0000 - root_mean_squared_error: 5952646.0000 - val_loss: 266883825664.0000 - val_root_mean_squared_error: 516608.0000\n",
      "Epoch 9/1000\n",
      "1/1 [==============================] - 0s 24ms/step - loss: 243433025306624.0000 - root_mean_squared_error: 15602340.0000 - val_loss: 88886579560448.0000 - val_root_mean_squared_error: 9427968.0000\n",
      "Epoch 10/1000\n",
      "1/1 [==============================] - 0s 24ms/step - loss: 580327458209792.0000 - root_mean_squared_error: 24089986.0000 - val_loss: 103811641245696.0000 - val_root_mean_squared_error: 10188800.0000\n",
      "Epoch 11/1000\n",
      "1/1 [==============================] - 0s 25ms/step - loss: 616468198719488.0000 - root_mean_squared_error: 24828778.0000 - val_loss: 17264091856896.0000 - val_root_mean_squared_error: 4155008.0000\n",
      "Epoch 12/1000\n",
      "1/1 [==============================] - 0s 25ms/step - loss: 361797810913280.0000 - root_mean_squared_error: 19020984.0000 - val_loss: 35792940433408.0000 - val_root_mean_squared_error: 5982720.0000\n",
      "Epoch 13/1000\n",
      "1/1 [==============================] - 0s 24ms/step - loss: 97888747126784.0000 - root_mean_squared_error: 9893874.0000 - val_loss: 294494163435520.0000 - val_root_mean_squared_error: 17160832.0000\n",
      "Epoch 14/1000\n",
      "1/1 [==============================] - 0s 24ms/step - loss: 45158330531840.0000 - root_mean_squared_error: 6719995.0000 - val_loss: 694879940247552.0000 - val_root_mean_squared_error: 26360576.0000\n",
      "Epoch 15/1000\n",
      "1/1 [==============================] - 0s 24ms/step - loss: 189228491210752.0000 - root_mean_squared_error: 13756035.0000 - val_loss: 980850204213248.0000 - val_root_mean_squared_error: 31318528.0000\n",
      "Epoch 16/1000\n",
      "1/1 [==============================] - 0s 25ms/step - loss: 337065241739264.0000 - root_mean_squared_error: 18359336.0000 - val_loss: 975613699555328.0000 - val_root_mean_squared_error: 31234816.0000\n",
      "Epoch 17/1000\n",
      "1/1 [==============================] - 0s 24ms/step - loss: 334169964019712.0000 - root_mean_squared_error: 18280316.0000 - val_loss: 715580474654720.0000 - val_root_mean_squared_error: 26750336.0000\n",
      "Epoch 18/1000\n",
      "1/1 [==============================] - 0s 24ms/step - loss: 199076448567296.0000 - root_mean_squared_error: 14109445.0000 - val_loss: 377848909004800.0000 - val_root_mean_squared_error: 19438336.0000\n",
      "Epoch 19/1000\n",
      "1/1 [==============================] - 0s 24ms/step - loss: 65062144311296.0000 - root_mean_squared_error: 8066111.0000 - val_loss: 129119408881664.0000 - val_root_mean_squared_error: 11363072.0000\n",
      "Epoch 20/1000\n",
      "1/1 [==============================] - 0s 23ms/step - loss: 41312615137280.0000 - root_mean_squared_error: 6427489.0000 - val_loss: 21883833548800.0000 - val_root_mean_squared_error: 4678016.0000\n",
      "Epoch 21/1000\n",
      "1/1 [==============================] - 0s 24ms/step - loss: 120327627603968.0000 - root_mean_squared_error: 10969395.0000 - val_loss: 1149458448384.0000 - val_root_mean_squared_error: 1072128.0000\n",
      "Epoch 22/1000\n",
      "1/1 [==============================] - 0s 23ms/step - loss: 200059241103360.0000 - root_mean_squared_error: 14144230.0000 - val_loss: 1541888409600.0000 - val_root_mean_squared_error: 1241728.0000\n",
      "Epoch 23/1000\n",
      "1/1 [==============================] - 0s 22ms/step - loss: 195719931625472.0000 - root_mean_squared_error: 13989994.0000 - val_loss: 22770456985600.0000 - val_root_mean_squared_error: 4771840.0000\n",
      "Epoch 24/1000\n",
      "1/1 [==============================] - 0s 23ms/step - loss: 118600245444608.0000 - root_mean_squared_error: 10890374.0000 - val_loss: 108418404712448.0000 - val_root_mean_squared_error: 10412416.0000\n",
      "Epoch 25/1000\n",
      "1/1 [==============================] - 0s 25ms/step - loss: 47096694571008.0000 - root_mean_squared_error: 6862703.0000 - val_loss: 271700100907008.0000 - val_root_mean_squared_error: 16483328.0000\n",
      "Epoch 26/1000\n",
      "1/1 [==============================] - 0s 22ms/step - loss: 41239210622976.0000 - root_mean_squared_error: 6421776.5000 - val_loss: 454054043975680.0000 - val_root_mean_squared_error: 21308544.0000\n",
      "Epoch 27/1000\n",
      "1/1 [==============================] - 0s 23ms/step - loss: 89160979316736.0000 - root_mean_squared_error: 9442509.0000 - val_loss: 560324184899584.0000 - val_root_mean_squared_error: 23671168.0000\n",
      "Epoch 28/1000\n",
      "1/1 [==============================] - 0s 23ms/step - loss: 129609790128128.0000 - root_mean_squared_error: 11384630.0000 - val_loss: 535369250504704.0000 - val_root_mean_squared_error: 23138048.0000\n",
      "Epoch 29/1000\n",
      "1/1 [==============================] - 0s 22ms/step - loss: 119505342693376.0000 - root_mean_squared_error: 10931850.0000 - val_loss: 404296914960384.0000 - val_root_mean_squared_error: 20107136.0000\n",
      "Epoch 30/1000\n",
      "1/1 [==============================] - 0s 22ms/step - loss: 72875654512640.0000 - root_mean_squared_error: 8536724.0000 - val_loss: 243915420598272.0000 - val_root_mean_squared_error: 15617792.0000\n",
      "Epoch 31/1000\n",
      "1/1 [==============================] - 0s 23ms/step - loss: 37569869905920.0000 - root_mean_squared_error: 6129426.5000 - val_loss: 121935304327168.0000 - val_root_mean_squared_error: 11042432.0000\n",
      "Epoch 32/1000\n",
      "1/1 [==============================] - 0s 23ms/step - loss: 43062520709120.0000 - root_mean_squared_error: 6562204.0000 - val_loss: 59342741045248.0000 - val_root_mean_squared_error: 7703424.0000\n",
      "Epoch 33/1000\n",
      "1/1 [==============================] - 0s 22ms/step - loss: 73493257388032.0000 - root_mean_squared_error: 8572821.0000 - val_loss: 42053459247104.0000 - val_root_mean_squared_error: 6484864.0000\n",
      "Epoch 34/1000\n",
      "1/1 [==============================] - 0s 23ms/step - loss: 90155230691328.0000 - root_mean_squared_error: 9495011.0000 - val_loss: 57342452301824.0000 - val_root_mean_squared_error: 7572480.0000\n",
      "Epoch 35/1000\n",
      "1/1 [==============================] - 0s 23ms/step - loss: 75145980936192.0000 - root_mean_squared_error: 8668678.0000 - val_loss: 109182103584768.0000 - val_root_mean_squared_error: 10449024.0000\n",
      "Epoch 36/1000\n",
      "1/1 [==============================] - 0s 23ms/step - loss: 46840472928256.0000 - root_mean_squared_error: 6844010.0000 - val_loss: 199032962023424.0000 - val_root_mean_squared_error: 14107904.0000\n",
      "Epoch 37/1000\n",
      "1/1 [==============================] - 0s 22ms/step - loss: 34753216512000.0000 - root_mean_squared_error: 5895186.0000 - val_loss: 302116690198528.0000 - val_root_mean_squared_error: 17381504.0000\n",
      "Epoch 38/1000\n",
      "1/1 [==============================] - 0s 23ms/step - loss: 46632829714432.0000 - root_mean_squared_error: 6828823.5000 - val_loss: 372646898302976.0000 - val_root_mean_squared_error: 19304064.0000\n",
      "Epoch 39/1000\n",
      "1/1 [==============================] - 0s 22ms/step - loss: 63595463311360.0000 - root_mean_squared_error: 7974676.5000 - val_loss: 376173771096064.0000 - val_root_mean_squared_error: 19395200.0000\n",
      "Epoch 40/1000\n",
      "1/1 [==============================] - 0s 23ms/step - loss: 64587399430144.0000 - root_mean_squared_error: 8036628.5000 - val_loss: 316095399460864.0000 - val_root_mean_squared_error: 17779072.0000\n",
      "Epoch 41/1000\n",
      "1/1 [==============================] - 0s 22ms/step - loss: 49534130454528.0000 - root_mean_squared_error: 7038049.0000 - val_loss: 227925928443904.0000 - val_root_mean_squared_error: 15097216.0000\n",
      "Epoch 42/1000\n",
      "1/1 [==============================] - 0s 28ms/step - loss: 36083437928448.0000 - root_mean_squared_error: 6006949.0000 - val_loss: 150884868685824.0000 - val_root_mean_squared_error: 12283520.0000\n",
      "Epoch 43/1000\n",
      "1/1 [==============================] - 0s 53ms/step - loss: 37434138034176.0000 - root_mean_squared_error: 6118344.5000 - val_loss: 105127780286464.0000 - val_root_mean_squared_error: 10253184.0000\n",
      "Epoch 44/1000\n",
      "1/1 [==============================] - 0s 31ms/step - loss: 48244230979584.0000 - root_mean_squared_error: 6945806.5000 - val_loss: 92275543638016.0000 - val_root_mean_squared_error: 9606016.0000\n",
      "Epoch 45/1000\n",
      "1/1 [==============================] - 0s 26ms/step - loss: 53420522209280.0000 - root_mean_squared_error: 7308934.5000 - val_loss: 109051065139200.0000 - val_root_mean_squared_error: 10442752.0000\n",
      "Epoch 46/1000\n",
      "1/1 [==============================] - 0s 27ms/step - loss: 46885964349440.0000 - root_mean_squared_error: 6847332.5000 - val_loss: 152805994135552.0000 - val_root_mean_squared_error: 12361472.0000\n",
      "Epoch 47/1000\n",
      "1/1 [==============================] - 0s 23ms/step - loss: 37183041830912.0000 - root_mean_squared_error: 6097790.0000 - val_loss: 214052345217024.0000 - val_root_mean_squared_error: 14630528.0000\n",
      "Epoch 48/1000\n",
      "1/1 [==============================] - 0s 25ms/step - loss: 35211651842048.0000 - root_mean_squared_error: 5933940.5000 - val_loss: 270768344662016.0000 - val_root_mean_squared_error: 16455040.0000\n",
      "Epoch 49/1000\n",
      "1/1 [==============================] - 0s 23ms/step - loss: 41096222605312.0000 - root_mean_squared_error: 6410633.5000 - val_loss: 297608316715008.0000 - val_root_mean_squared_error: 17251328.0000\n",
      "Epoch 50/1000\n",
      "1/1 [==============================] - 0s 23ms/step - loss: 45750381707264.0000 - root_mean_squared_error: 6763903.0000 - val_loss: 283324832546816.0000 - val_root_mean_squared_error: 16832256.0000\n",
      "Epoch 51/1000\n",
      "1/1 [==============================] - 0s 22ms/step - loss: 43142564806656.0000 - root_mean_squared_error: 6568300.0000 - val_loss: 238504281899008.0000 - val_root_mean_squared_error: 15443584.0000\n",
      "Epoch 52/1000\n",
      "1/1 [==============================] - 0s 23ms/step - loss: 37012203634688.0000 - root_mean_squared_error: 6083765.5000 - val_loss: 186334287233024.0000 - val_root_mean_squared_error: 13650432.0000\n",
      "Epoch 53/1000\n",
      "1/1 [==============================] - 0s 23ms/step - loss: 34799827812352.0000 - root_mean_squared_error: 5899138.0000 - val_loss: 146892847579136.0000 - val_root_mean_squared_error: 12119936.0000\n",
      "Epoch 54/1000\n",
      "1/1 [==============================] - 0s 23ms/step - loss: 37999735734272.0000 - root_mean_squared_error: 6164392.5000 - val_loss: 129454147895296.0000 - val_root_mean_squared_error: 11377792.0000\n",
      "Epoch 55/1000\n",
      "1/1 [==============================] - 0s 24ms/step - loss: 41237906194432.0000 - root_mean_squared_error: 6421674.5000 - val_loss: 135169457520640.0000 - val_root_mean_squared_error: 11626240.0000\n",
      "Epoch 56/1000\n",
      "1/1 [==============================] - 0s 23ms/step - loss: 40029430743040.0000 - root_mean_squared_error: 6326881.5000 - val_loss: 161082798768128.0000 - val_root_mean_squared_error: 12691840.0000\n",
      "Epoch 57/1000\n",
      "1/1 [==============================] - 0s 22ms/step - loss: 36255559581696.0000 - root_mean_squared_error: 6021259.0000 - val_loss: 199188285489152.0000 - val_root_mean_squared_error: 14113408.0000\n",
      "Epoch 58/1000\n",
      "1/1 [==============================] - 0s 22ms/step - loss: 34755110240256.0000 - root_mean_squared_error: 5895346.5000 - val_loss: 235190932733952.0000 - val_root_mean_squared_error: 15335936.0000\n",
      "Epoch 59/1000\n",
      "1/1 [==============================] - 0s 23ms/step - loss: 36697228181504.0000 - root_mean_squared_error: 6057823.5000 - val_loss: 253470850416640.0000 - val_root_mean_squared_error: 15920768.0000\n",
      "Epoch 60/1000\n",
      "1/1 [==============================] - 0s 23ms/step - loss: 38683809939456.0000 - root_mean_squared_error: 6219631.0000 - val_loss: 246573401374720.0000 - val_root_mean_squared_error: 15702656.0000\n",
      "Epoch 61/1000\n",
      "1/1 [==============================] - 0s 23ms/step - loss: 37863068532736.0000 - root_mean_squared_error: 6153297.5000 - val_loss: 220014800011264.0000 - val_root_mean_squared_error: 14832896.0000\n",
      "Epoch 62/1000\n",
      "1/1 [==============================] - 0s 22ms/step - loss: 35535934455808.0000 - root_mean_squared_error: 5961202.5000 - val_loss: 187636517961728.0000 - val_root_mean_squared_error: 13698048.0000\n",
      "Epoch 63/1000\n",
      "1/1 [==============================] - 0s 28ms/step - loss: 34775519723520.0000 - root_mean_squared_error: 5897077.0000 - val_loss: 162757181702144.0000 - val_root_mean_squared_error: 12757632.0000\n",
      "Epoch 64/1000\n",
      "1/1 [==============================] - 0s 24ms/step - loss: 36097216217088.0000 - root_mean_squared_error: 6008096.0000 - val_loss: 152790173220864.0000 - val_root_mean_squared_error: 12360832.0000\n",
      "Epoch 65/1000\n",
      "1/1 [==============================] - 0s 23ms/step - loss: 37184648249344.0000 - root_mean_squared_error: 6097921.5000 - val_loss: 159174759546880.0000 - val_root_mean_squared_error: 12616448.0000\n",
      "Epoch 66/1000\n",
      "1/1 [==============================] - 0s 22ms/step - loss: 36447658704896.0000 - root_mean_squared_error: 6037189.5000 - val_loss: 178711978573824.0000 - val_root_mean_squared_error: 13368320.0000\n",
      "Epoch 67/1000\n",
      "1/1 [==============================] - 0s 23ms/step - loss: 35037791649792.0000 - root_mean_squared_error: 5919273.0000 - val_loss: 203726522417152.0000 - val_root_mean_squared_error: 14273280.0000\n",
      "Epoch 68/1000\n",
      "1/1 [==============================] - 0s 22ms/step - loss: 34839107469312.0000 - root_mean_squared_error: 5902466.0000 - val_loss: 223690553819136.0000 - val_root_mean_squared_error: 14956288.0000\n",
      "Epoch 69/1000\n",
      "1/1 [==============================] - 0s 23ms/step - loss: 35774120591360.0000 - root_mean_squared_error: 5981147.0000 - val_loss: 229862472155136.0000 - val_root_mean_squared_error: 15161216.0000\n",
      "Epoch 70/1000\n",
      "1/1 [==============================] - 0s 22ms/step - loss: 36236907511808.0000 - root_mean_squared_error: 6019710.0000 - val_loss: 220428895256576.0000 - val_root_mean_squared_error: 14846848.0000\n",
      "Epoch 71/1000\n",
      "1/1 [==============================] - 0s 23ms/step - loss: 35561075113984.0000 - root_mean_squared_error: 5963311.0000 - val_loss: 201245776150528.0000 - val_root_mean_squared_error: 14186112.0000\n",
      "Epoch 72/1000\n",
      "1/1 [==============================] - 0s 22ms/step - loss: 34787146334208.0000 - root_mean_squared_error: 5898063.0000 - val_loss: 181753536839680.0000 - val_root_mean_squared_error: 13481600.0000\n",
      "Epoch 73/1000\n",
      "1/1 [==============================] - 0s 22ms/step - loss: 34923115184128.0000 - root_mean_squared_error: 5909578.5000 - val_loss: 169764638949376.0000 - val_root_mean_squared_error: 13029376.0000\n",
      "Epoch 74/1000\n",
      "1/1 [==============================] - 0s 22ms/step - loss: 35533623394304.0000 - root_mean_squared_error: 5961008.5000 - val_loss: 168925123837952.0000 - val_root_mean_squared_error: 12997120.0000\n",
      "Epoch 75/1000\n",
      "1/1 [==============================] - 0s 23ms/step - loss: 35592557559808.0000 - root_mean_squared_error: 5965950.0000 - val_loss: 178534072975360.0000 - val_root_mean_squared_error: 13361664.0000\n",
      "Epoch 76/1000\n",
      "1/1 [==============================] - 0s 22ms/step - loss: 35045177819136.0000 - root_mean_squared_error: 5919897.0000 - val_loss: 194140742615040.0000 - val_root_mean_squared_error: 13933440.0000\n",
      "Epoch 77/1000\n",
      "1/1 [==============================] - 0s 22ms/step - loss: 34721616625664.0000 - root_mean_squared_error: 5892505.0000 - val_loss: 208811293933568.0000 - val_root_mean_squared_error: 14450304.0000\n",
      "Epoch 78/1000\n",
      "1/1 [==============================] - 0s 23ms/step - loss: 34991939518464.0000 - root_mean_squared_error: 5915398.5000 - val_loss: 215940436328448.0000 - val_root_mean_squared_error: 14694912.0000\n",
      "Epoch 79/1000\n",
      "1/1 [==============================] - 0s 26ms/step - loss: 35306136928256.0000 - root_mean_squared_error: 5941896.5000 - val_loss: 212728522211328.0000 - val_root_mean_squared_error: 14585216.0000\n",
      "Epoch 80/1000\n",
      "1/1 [==============================] - 0s 24ms/step - loss: 35150767325184.0000 - root_mean_squared_error: 5928808.5000 - val_loss: 201656364957696.0000 - val_root_mean_squared_error: 14200576.0000\n",
      "Epoch 81/1000\n",
      "1/1 [==============================] - 0s 22ms/step - loss: 34794756898816.0000 - root_mean_squared_error: 5898708.0000 - val_loss: 188609126727680.0000 - val_root_mean_squared_error: 13733504.0000\n",
      "Epoch 82/1000\n",
      "1/1 [==============================] - 0s 23ms/step - loss: 34760311177216.0000 - root_mean_squared_error: 5895787.5000 - val_loss: 179489686421504.0000 - val_root_mean_squared_error: 13397376.0000\n",
      "Epoch 83/1000\n",
      "1/1 [==============================] - 0s 23ms/step - loss: 35005688446976.0000 - root_mean_squared_error: 5916560.5000 - val_loss: 177673116581888.0000 - val_root_mean_squared_error: 13329408.0000\n",
      "Epoch 84/1000\n",
      "1/1 [==============================] - 0s 23ms/step - loss: 35082758782976.0000 - root_mean_squared_error: 5923070.0000 - val_loss: 183244091817984.0000 - val_root_mean_squared_error: 13536768.0000\n",
      "Epoch 85/1000\n",
      "1/1 [==============================] - 0s 22ms/step - loss: 34876325625856.0000 - root_mean_squared_error: 5905618.0000 - val_loss: 193267824066560.0000 - val_root_mean_squared_error: 13902080.0000\n",
      "Epoch 86/1000\n",
      "1/1 [==============================] - 0s 22ms/step - loss: 34722409349120.0000 - root_mean_squared_error: 5892572.5000 - val_loss: 202919789985792.0000 - val_root_mean_squared_error: 14244992.0000\n",
      "Epoch 87/1000\n",
      "1/1 [==============================] - 0s 23ms/step - loss: 34820593811456.0000 - root_mean_squared_error: 5900897.5000 - val_loss: 207717738217472.0000 - val_root_mean_squared_error: 14412416.0000\n",
      "Epoch 88/1000\n",
      "1/1 [==============================] - 0s 22ms/step - loss: 34953853140992.0000 - root_mean_squared_error: 5912178.5000 - val_loss: 205730141437952.0000 - val_root_mean_squared_error: 14343296.0000\n",
      "Epoch 89/1000\n",
      "1/1 [==============================] - 0s 23ms/step - loss: 34892224135168.0000 - root_mean_squared_error: 5906964.0000 - val_loss: 198549291663360.0000 - val_root_mean_squared_error: 14090752.0000\n",
      "Epoch 90/1000\n",
      "1/1 [==============================] - 0s 22ms/step - loss: 34747285766144.0000 - root_mean_squared_error: 5894683.0000 - val_loss: 190092182290432.0000 - val_root_mean_squared_error: 13787392.0000\n",
      "Epoch 91/1000\n",
      "1/1 [==============================] - 0s 22ms/step - loss: 34742049177600.0000 - root_mean_squared_error: 5894238.5000 - val_loss: 184399891005440.0000 - val_root_mean_squared_error: 13579392.0000\n",
      "Epoch 92/1000\n",
      "1/1 [==============================] - 0s 22ms/step - loss: 34844700573696.0000 - root_mean_squared_error: 5902940.0000 - val_loss: 183764269400064.0000 - val_root_mean_squared_error: 13555968.0000\n",
      "Epoch 93/1000\n",
      "1/1 [==============================] - 0s 23ms/step - loss: 34861880442880.0000 - root_mean_squared_error: 5904395.0000 - val_loss: 187997882417152.0000 - val_root_mean_squared_error: 13711232.0000\n",
      "Epoch 94/1000\n",
      "1/1 [==============================] - 0s 26ms/step - loss: 34769630920704.0000 - root_mean_squared_error: 5896578.0000 - val_loss: 194761902260224.0000 - val_root_mean_squared_error: 13955712.0000\n",
      "Epoch 95/1000\n",
      "1/1 [==============================] - 0s 24ms/step - loss: 34722235285504.0000 - root_mean_squared_error: 5892557.5000 - val_loss: 200639749554176.0000 - val_root_mean_squared_error: 14164736.0000\n",
      "Epoch 96/1000\n",
      "1/1 [==============================] - 0s 22ms/step - loss: 34776595562496.0000 - root_mean_squared_error: 5897168.5000 - val_loss: 202821341282304.0000 - val_root_mean_squared_error: 14241536.0000\n",
      "Epoch 97/1000\n",
      "1/1 [==============================] - 0s 23ms/step - loss: 34818511339520.0000 - root_mean_squared_error: 5900721.5000 - val_loss: 200538230620160.0000 - val_root_mean_squared_error: 14161152.0000\n",
      "Epoch 98/1000\n",
      "1/1 [==============================] - 0s 22ms/step - loss: 34774984949760.0000 - root_mean_squared_error: 5897032.0000 - val_loss: 195348249182208.0000 - val_root_mean_squared_error: 13976704.0000\n",
      "Epoch 99/1000\n",
      "1/1 [==============================] - 0s 23ms/step - loss: 34723743137792.0000 - root_mean_squared_error: 5892685.5000 - val_loss: 190078055874560.0000 - val_root_mean_squared_error: 13786880.0000\n",
      "Epoch 100/1000\n",
      "1/1 [==============================] - 0s 24ms/step - loss: 34742122577920.0000 - root_mean_squared_error: 5894245.0000 - val_loss: 187293021241344.0000 - val_root_mean_squared_error: 13685504.0000\n",
      "Epoch 101/1000\n",
      "1/1 [==============================] - 0s 23ms/step - loss: 34781500801024.0000 - root_mean_squared_error: 5897584.5000 - val_loss: 188082137595904.0000 - val_root_mean_squared_error: 13714304.0000\n",
      "Epoch 102/1000\n",
      "1/1 [==============================] - 0s 24ms/step - loss: 34768290840576.0000 - root_mean_squared_error: 5896464.5000 - val_loss: 191744066977792.0000 - val_root_mean_squared_error: 13847168.0000\n",
      "Epoch 103/1000\n",
      "1/1 [==============================] - 0s 23ms/step - loss: 34728484798464.0000 - root_mean_squared_error: 5893088.0000 - val_loss: 196250964066304.0000 - val_root_mean_squared_error: 14008960.0000\n",
      "Epoch 104/1000\n",
      "1/1 [==============================] - 0s 23ms/step - loss: 34727763378176.0000 - root_mean_squared_error: 5893026.5000 - val_loss: 199256937857024.0000 - val_root_mean_squared_error: 14115840.0000\n",
      "Epoch 105/1000\n",
      "1/1 [==============================] - 0s 22ms/step - loss: 34756005724160.0000 - root_mean_squared_error: 5895422.5000 - val_loss: 199361745125376.0000 - val_root_mean_squared_error: 14119552.0000\n",
      "Epoch 106/1000\n",
      "1/1 [==============================] - 0s 22ms/step - loss: 34757299666944.0000 - root_mean_squared_error: 5895532.0000 - val_loss: 196760538447872.0000 - val_root_mean_squared_error: 14027136.0000\n",
      "Epoch 107/1000\n",
      "1/1 [==============================] - 0s 24ms/step - loss: 34730944757760.0000 - root_mean_squared_error: 5893296.5000 - val_loss: 193057907539968.0000 - val_root_mean_squared_error: 13894528.0000\n",
      "Epoch 108/1000\n",
      "1/1 [==============================] - 0s 23ms/step - loss: 34722891694080.0000 - root_mean_squared_error: 5892613.5000 - val_loss: 190240442548224.0000 - val_root_mean_squared_error: 13792768.0000\n",
      "Epoch 109/1000\n",
      "1/1 [==============================] - 0s 23ms/step - loss: 34740503576576.0000 - root_mean_squared_error: 5894107.5000 - val_loss: 189651243499520.0000 - val_root_mean_squared_error: 13771392.0000\n",
      "Epoch 110/1000\n",
      "1/1 [==============================] - 0s 22ms/step - loss: 34746881015808.0000 - root_mean_squared_error: 5894648.5000 - val_loss: 191389732175872.0000 - val_root_mean_squared_error: 13834368.0000\n",
      "Epoch 111/1000\n",
      "1/1 [==============================] - 0s 23ms/step - loss: 34730873454592.0000 - root_mean_squared_error: 5893290.5000 - val_loss: 194333412163584.0000 - val_root_mean_squared_error: 13940352.0000\n",
      "Epoch 112/1000\n",
      "1/1 [==============================] - 0s 25ms/step - loss: 34721713094656.0000 - root_mean_squared_error: 5892513.5000 - val_loss: 196886250127360.0000 - val_root_mean_squared_error: 14031616.0000\n",
      "Epoch 113/1000\n",
      "1/1 [==============================] - 0s 24ms/step - loss: 34731808784384.0000 - root_mean_squared_error: 5893370.0000 - val_loss: 197706102341632.0000 - val_root_mean_squared_error: 14060800.0000\n",
      "Epoch 114/1000\n",
      "1/1 [==============================] - 0s 24ms/step - loss: 34738618236928.0000 - root_mean_squared_error: 5893947.5000 - val_loss: 196527200927744.0000 - val_root_mean_squared_error: 14018816.0000\n",
      "Epoch 115/1000\n",
      "1/1 [==============================] - 0s 23ms/step - loss: 34729451585536.0000 - root_mean_squared_error: 5893170.0000 - val_loss: 194169280659456.0000 - val_root_mean_squared_error: 13934464.0000\n",
      "Epoch 116/1000\n",
      "1/1 [==============================] - 0s 22ms/step - loss: 34721622917120.0000 - root_mean_squared_error: 5892505.5000 - val_loss: 191992285888512.0000 - val_root_mean_squared_error: 13856128.0000\n",
      "Epoch 117/1000\n",
      "1/1 [==============================] - 0s 23ms/step - loss: 34727157301248.0000 - root_mean_squared_error: 5892975.5000 - val_loss: 191127755948032.0000 - val_root_mean_squared_error: 13824896.0000\n",
      "Epoch 118/1000\n",
      "1/1 [==============================] - 0s 22ms/step - loss: 34732786057216.0000 - root_mean_squared_error: 5893453.0000 - val_loss: 191900061532160.0000 - val_root_mean_squared_error: 13852800.0000\n",
      "Epoch 119/1000\n",
      "1/1 [==============================] - 0s 28ms/step - loss: 34727643840512.0000 - root_mean_squared_error: 5893016.5000 - val_loss: 193766392594432.0000 - val_root_mean_squared_error: 13920000.0000\n",
      "Epoch 120/1000\n",
      "1/1 [==============================] - 0s 23ms/step - loss: 34721723580416.0000 - root_mean_squared_error: 5892514.0000 - val_loss: 195613111091200.0000 - val_root_mean_squared_error: 13986176.0000\n",
      "Epoch 121/1000\n",
      "1/1 [==============================] - 0s 23ms/step - loss: 34724735090688.0000 - root_mean_squared_error: 5892769.5000 - val_loss: 196455427997696.0000 - val_root_mean_squared_error: 14016256.0000\n",
      "Epoch 122/1000\n",
      "1/1 [==============================] - 0s 23ms/step - loss: 34728960851968.0000 - root_mean_squared_error: 5893128.5000 - val_loss: 195903239487488.0000 - val_root_mean_squared_error: 13996544.0000\n",
      "Epoch 123/1000\n",
      "1/1 [==============================] - 0s 22ms/step - loss: 34725984993280.0000 - root_mean_squared_error: 5892876.0000 - val_loss: 194394095353856.0000 - val_root_mean_squared_error: 13942528.0000\n",
      "Epoch 124/1000\n",
      "1/1 [==============================] - 0s 22ms/step - loss: 34721755037696.0000 - root_mean_squared_error: 5892517.0000 - val_loss: 192851665223680.0000 - val_root_mean_squared_error: 13887104.0000\n",
      "Epoch 125/1000\n",
      "1/1 [==============================] - 0s 22ms/step - loss: 34723468410880.0000 - root_mean_squared_error: 5892662.5000 - val_loss: 192127107596288.0000 - val_root_mean_squared_error: 13860992.0000\n",
      "Epoch 126/1000\n",
      "1/1 [==============================] - 0s 22ms/step - loss: 34726421200896.0000 - root_mean_squared_error: 5892913.0000 - val_loss: 192528284385280.0000 - val_root_mean_squared_error: 13875456.0000\n",
      "Epoch 127/1000\n",
      "1/1 [==============================] - 0s 24ms/step - loss: 34724619747328.0000 - root_mean_squared_error: 5892760.0000 - val_loss: 193737888104448.0000 - val_root_mean_squared_error: 13918976.0000\n",
      "Epoch 128/1000\n",
      "1/1 [==============================] - 0s 23ms/step - loss: 34721734066176.0000 - root_mean_squared_error: 5892515.0000 - val_loss: 195008493780992.0000 - val_root_mean_squared_error: 13964544.0000\n",
      "Epoch 129/1000\n",
      "1/1 [==============================] - 0s 25ms/step - loss: 34722782642176.0000 - root_mean_squared_error: 5892604.0000 - val_loss: 195627438833664.0000 - val_root_mean_squared_error: 13986688.0000\n",
      "Epoch 130/1000\n",
      "1/1 [==============================] - 0s 22ms/step - loss: 34724808491008.0000 - root_mean_squared_error: 5892776.0000 - val_loss: 195301742739456.0000 - val_root_mean_squared_error: 13975040.0000\n",
      "Epoch 131/1000\n",
      "1/1 [==============================] - 0s 22ms/step - loss: 34723602628608.0000 - root_mean_squared_error: 5892673.5000 - val_loss: 194297727025152.0000 - val_root_mean_squared_error: 13939072.0000\n",
      "Epoch 132/1000\n",
      "1/1 [==============================] - 0s 22ms/step - loss: 34721681637376.0000 - root_mean_squared_error: 5892510.5000 - val_loss: 193253596987392.0000 - val_root_mean_squared_error: 13901568.0000\n",
      "Epoch 133/1000\n",
      "1/1 [==============================] - 0s 22ms/step - loss: 34722428223488.0000 - root_mean_squared_error: 5892574.0000 - val_loss: 192777006612480.0000 - val_root_mean_squared_error: 13884416.0000\n",
      "Epoch 134/1000\n",
      "1/1 [==============================] - 0s 23ms/step - loss: 34723743137792.0000 - root_mean_squared_error: 5892685.5000 - val_loss: 193072134619136.0000 - val_root_mean_squared_error: 13895040.0000\n",
      "Epoch 135/1000\n",
      "1/1 [==============================] - 0s 22ms/step - loss: 34722864431104.0000 - root_mean_squared_error: 5892611.0000 - val_loss: 193908965376000.0000 - val_root_mean_squared_error: 13925120.0000\n",
      "Epoch 136/1000\n",
      "1/1 [==============================] - 0s 23ms/step - loss: 34721633402880.0000 - root_mean_squared_error: 5892506.5000 - val_loss: 194747608072192.0000 - val_root_mean_squared_error: 13955200.0000\n",
      "Epoch 137/1000\n",
      "1/1 [==============================] - 0s 22ms/step - loss: 34722216411136.0000 - root_mean_squared_error: 5892556.0000 - val_loss: 195108603428864.0000 - val_root_mean_squared_error: 13968128.0000\n",
      "Epoch 138/1000\n",
      "1/1 [==============================] - 0s 22ms/step - loss: 34723032203264.0000 - root_mean_squared_error: 5892625.0000 - val_loss: 194815488688128.0000 - val_root_mean_squared_error: 13957632.0000\n",
      "Epoch 139/1000\n",
      "1/1 [==============================] - 0s 31ms/step - loss: 34722354823168.0000 - root_mean_squared_error: 5892568.0000 - val_loss: 194119351664640.0000 - val_root_mean_squared_error: 13932672.0000\n",
      "Epoch 140/1000\n",
      "1/1 [==============================] - 0s 23ms/step - loss: 34721612431360.0000 - root_mean_squared_error: 5892505.0000 - val_loss: 193445813551104.0000 - val_root_mean_squared_error: 13908480.0000\n",
      "Epoch 141/1000\n",
      "1/1 [==============================] - 0s 23ms/step - loss: 34722082193408.0000 - root_mean_squared_error: 5892544.5000 - val_loss: 193193098346496.0000 - val_root_mean_squared_error: 13899392.0000\n",
      "Epoch 142/1000\n",
      "1/1 [==============================] - 0s 23ms/step - loss: 34722556149760.0000 - root_mean_squared_error: 5892585.0000 - val_loss: 193474301263872.0000 - val_root_mean_squared_error: 13909504.0000\n",
      "Epoch 143/1000\n",
      "1/1 [==============================] - 0s 23ms/step - loss: 34722042347520.0000 - root_mean_squared_error: 5892541.0000 - val_loss: 194072979439616.0000 - val_root_mean_squared_error: 13931008.0000\n",
      "Epoch 144/1000\n",
      "1/1 [==============================] - 0s 22ms/step - loss: 34721606139904.0000 - root_mean_squared_error: 5892504.0000 - val_loss: 194590439112704.0000 - val_root_mean_squared_error: 13949568.0000\n",
      "Epoch 145/1000\n",
      "1/1 [==============================] - 0s 22ms/step - loss: 34721981530112.0000 - root_mean_squared_error: 5892536.0000 - val_loss: 194754755166208.0000 - val_root_mean_squared_error: 13955456.0000\n",
      "Epoch 146/1000\n",
      "1/1 [==============================] - 0s 23ms/step - loss: 34722233188352.0000 - root_mean_squared_error: 5892557.5000 - val_loss: 194479759818752.0000 - val_root_mean_squared_error: 13945600.0000\n",
      "Epoch 147/1000\n",
      "1/1 [==============================] - 0s 25ms/step - loss: 34721838923776.0000 - root_mean_squared_error: 5892524.0000 - val_loss: 193976711774208.0000 - val_root_mean_squared_error: 13927552.0000\n",
      "Epoch 148/1000\n",
      "1/1 [==============================] - 0s 23ms/step - loss: 34721616625664.0000 - root_mean_squared_error: 5892505.0000 - val_loss: 193574025035776.0000 - val_root_mean_squared_error: 13913088.0000\n",
      "Epoch 149/1000\n",
      "1/1 [==============================] - 0s 22ms/step - loss: 34721908129792.0000 - root_mean_squared_error: 5892530.0000 - val_loss: 193502788976640.0000 - val_root_mean_squared_error: 13910528.0000\n",
      "Epoch 150/1000\n",
      "1/1 [==============================] - 0s 22ms/step - loss: 34722008793088.0000 - root_mean_squared_error: 5892538.5000 - val_loss: 193773522911232.0000 - val_root_mean_squared_error: 13920256.0000\n",
      "Epoch 151/1000\n",
      "1/1 [==============================] - 0s 22ms/step - loss: 34721713094656.0000 - root_mean_squared_error: 5892513.5000 - val_loss: 194190688387072.0000 - val_root_mean_squared_error: 13935232.0000\n",
      "Epoch 152/1000\n",
      "1/1 [==============================] - 0s 22ms/step - loss: 34721631305728.0000 - root_mean_squared_error: 5892506.5000 - val_loss: 194494037229568.0000 - val_root_mean_squared_error: 13946112.0000\n",
      "Epoch 153/1000\n",
      "1/1 [==============================] - 0s 23ms/step - loss: 34721855700992.0000 - root_mean_squared_error: 5892525.5000 - val_loss: 194494037229568.0000 - val_root_mean_squared_error: 13946112.0000\n",
      "Epoch 154/1000\n",
      "1/1 [==============================] - 0s 22ms/step - loss: 34721857798144.0000 - root_mean_squared_error: 5892525.5000 - val_loss: 194222799978496.0000 - val_root_mean_squared_error: 13936384.0000\n",
      "Epoch 155/1000\n",
      "1/1 [==============================] - 0s 26ms/step - loss: 34721648082944.0000 - root_mean_squared_error: 5892508.0000 - val_loss: 193880444108800.0000 - val_root_mean_squared_error: 13924096.0000\n",
      "Epoch 156/1000\n",
      "1/1 [==============================] - 0s 23ms/step - loss: 34721648082944.0000 - root_mean_squared_error: 5892508.0000 - val_loss: 193673765584896.0000 - val_root_mean_squared_error: 13916672.0000\n",
      "Epoch 157/1000\n",
      "1/1 [==============================] - 0s 22ms/step - loss: 34721796980736.0000 - root_mean_squared_error: 5892520.5000 - val_loss: 193723644248064.0000 - val_root_mean_squared_error: 13918464.0000\n",
      "Epoch 158/1000\n",
      "1/1 [==============================] - 0s 24ms/step - loss: 34721740357632.0000 - root_mean_squared_error: 5892515.5000 - val_loss: 193980268544000.0000 - val_root_mean_squared_error: 13927680.0000\n",
      "Epoch 159/1000\n",
      "1/1 [==============================] - 0s 22ms/step - loss: 34721614528512.0000 - root_mean_squared_error: 5892505.0000 - val_loss: 194265615433728.0000 - val_root_mean_squared_error: 13937920.0000\n",
      "Epoch 160/1000\n",
      "1/1 [==============================] - 0s 22ms/step - loss: 34721658568704.0000 - root_mean_squared_error: 5892508.5000 - val_loss: 194383374712832.0000 - val_root_mean_squared_error: 13942144.0000\n",
      "Epoch 161/1000\n",
      "1/1 [==============================] - 0s 22ms/step - loss: 34721746649088.0000 - root_mean_squared_error: 5892516.0000 - val_loss: 194294153478144.0000 - val_root_mean_squared_error: 13938944.0000\n",
      "Epoch 162/1000\n",
      "1/1 [==============================] - 0s 23ms/step - loss: 34721675345920.0000 - root_mean_squared_error: 5892510.0000 - val_loss: 194048014942208.0000 - val_root_mean_squared_error: 13930112.0000\n",
      "Epoch 163/1000\n",
      "1/1 [==============================] - 0s 23ms/step - loss: 34721606139904.0000 - root_mean_squared_error: 5892504.0000 - val_loss: 193837678985216.0000 - val_root_mean_squared_error: 13922560.0000\n",
      "Epoch 164/1000\n",
      "1/1 [==============================] - 0s 30ms/step - loss: 34721664860160.0000 - root_mean_squared_error: 5892509.0000 - val_loss: 193784209997824.0000 - val_root_mean_squared_error: 13920640.0000\n",
      "Epoch 165/1000\n",
      "1/1 [==============================] - 0s 27ms/step - loss: 34721704706048.0000 - root_mean_squared_error: 5892512.5000 - val_loss: 193908965376000.0000 - val_root_mean_squared_error: 13925120.0000\n",
      "Epoch 166/1000\n",
      "1/1 [==============================] - 0s 23ms/step - loss: 34721633402880.0000 - root_mean_squared_error: 5892506.5000 - val_loss: 194112221347840.0000 - val_root_mean_squared_error: 13932416.0000\n",
      "Epoch 167/1000\n",
      "1/1 [==============================] - 0s 22ms/step - loss: 34721612431360.0000 - root_mean_squared_error: 5892505.0000 - val_loss: 194265615433728.0000 - val_root_mean_squared_error: 13937920.0000\n",
      "Epoch 168/1000\n",
      "1/1 [==============================] - 0s 23ms/step - loss: 34721662763008.0000 - root_mean_squared_error: 5892509.0000 - val_loss: 194269188980736.0000 - val_root_mean_squared_error: 13938048.0000\n",
      "Epoch 169/1000\n",
      "1/1 [==============================] - 0s 23ms/step - loss: 34721664860160.0000 - root_mean_squared_error: 5892509.0000 - val_loss: 194137185845248.0000 - val_root_mean_squared_error: 13933312.0000\n",
      "Epoch 170/1000\n",
      "1/1 [==============================] - 0s 22ms/step - loss: 34721614528512.0000 - root_mean_squared_error: 5892505.0000 - val_loss: 193966007910400.0000 - val_root_mean_squared_error: 13927168.0000\n",
      "Epoch 171/1000\n",
      "1/1 [==============================] - 0s 23ms/step - loss: 34721616625664.0000 - root_mean_squared_error: 5892505.0000 - val_loss: 193873313792000.0000 - val_root_mean_squared_error: 13923840.0000\n",
      "Epoch 172/1000\n",
      "1/1 [==============================] - 0s 27ms/step - loss: 34721650180096.0000 - root_mean_squared_error: 5892508.0000 - val_loss: 193908965376000.0000 - val_root_mean_squared_error: 13925120.0000\n",
      "Epoch 173/1000\n",
      "1/1 [==============================] - 0s 23ms/step - loss: 34721633402880.0000 - root_mean_squared_error: 5892506.5000 - val_loss: 194030197538816.0000 - val_root_mean_squared_error: 13929472.0000\n",
      "Epoch 174/1000\n",
      "1/1 [==============================] - 0s 22ms/step - loss: 34721606139904.0000 - root_mean_squared_error: 5892504.0000 - val_loss: 194162150342656.0000 - val_root_mean_squared_error: 13934208.0000\n",
      "Epoch 175/1000\n",
      "1/1 [==============================] - 0s 22ms/step - loss: 34721620819968.0000 - root_mean_squared_error: 5892505.5000 - val_loss: 194201392250880.0000 - val_root_mean_squared_error: 13935616.0000\n",
      "Epoch 176/1000\n",
      "1/1 [==============================] - 0s 24ms/step - loss: 34721637597184.0000 - root_mean_squared_error: 5892507.0000 - val_loss: 194151446478848.0000 - val_root_mean_squared_error: 13933824.0000\n",
      "Epoch 177/1000\n",
      "1/1 [==============================] - 0s 22ms/step - loss: 34721616625664.0000 - root_mean_squared_error: 5892505.0000 - val_loss: 194037327855616.0000 - val_root_mean_squared_error: 13929728.0000\n",
      "Epoch 178/1000\n",
      "1/1 [==============================] - 0s 22ms/step - loss: 34721606139904.0000 - root_mean_squared_error: 5892504.0000 - val_loss: 193941060190208.0000 - val_root_mean_squared_error: 13926272.0000\n",
      "Epoch 179/1000\n",
      "1/1 [==============================] - 0s 26ms/step - loss: 34721622917120.0000 - root_mean_squared_error: 5892505.5000 - val_loss: 193930356326400.0000 - val_root_mean_squared_error: 13925888.0000\n",
      "Epoch 180/1000\n",
      "1/1 [==============================] - 0s 24ms/step - loss: 34721625014272.0000 - root_mean_squared_error: 5892506.0000 - val_loss: 193998102724608.0000 - val_root_mean_squared_error: 13928320.0000\n",
      "Epoch 181/1000\n",
      "1/1 [==============================] - 0s 23ms/step - loss: 34721612431360.0000 - root_mean_squared_error: 5892505.0000 - val_loss: 194105074253824.0000 - val_root_mean_squared_error: 13932160.0000\n",
      "Epoch 182/1000\n",
      "1/1 [==============================] - 0s 22ms/step - loss: 34721612431360.0000 - root_mean_squared_error: 5892505.0000 - val_loss: 194169280659456.0000 - val_root_mean_squared_error: 13934464.0000\n",
      "Epoch 183/1000\n",
      "1/1 [==============================] - 0s 22ms/step - loss: 34721620819968.0000 - root_mean_squared_error: 5892505.5000 - val_loss: 194140742615040.0000 - val_root_mean_squared_error: 13933440.0000\n",
      "Epoch 184/1000\n",
      "1/1 [==============================] - 0s 23ms/step - loss: 34721616625664.0000 - root_mean_squared_error: 5892505.0000 - val_loss: 194072979439616.0000 - val_root_mean_squared_error: 13931008.0000\n",
      "Epoch 185/1000\n",
      "1/1 [==============================] - 0s 22ms/step - loss: 34721606139904.0000 - root_mean_squared_error: 5892504.0000 - val_loss: 193987398860800.0000 - val_root_mean_squared_error: 13927936.0000\n",
      "Epoch 186/1000\n",
      "1/1 [==============================] - 0s 22ms/step - loss: 34721612431360.0000 - root_mean_squared_error: 5892505.0000 - val_loss: 193966007910400.0000 - val_root_mean_squared_error: 13927168.0000\n",
      "Epoch 187/1000\n",
      "1/1 [==============================] - 0s 27ms/step - loss: 34721620819968.0000 - root_mean_squared_error: 5892505.5000 - val_loss: 193994529177600.0000 - val_root_mean_squared_error: 13928192.0000\n",
      "Epoch 188/1000\n",
      "1/1 [==============================] - 0s 24ms/step - loss: 34721612431360.0000 - root_mean_squared_error: 5892505.0000 - val_loss: 194076552986624.0000 - val_root_mean_squared_error: 13931136.0000\n",
      "Epoch 189/1000\n",
      "1/1 [==============================] - 0s 43ms/step - loss: 34721606139904.0000 - root_mean_squared_error: 5892504.0000 - val_loss: 194130055528448.0000 - val_root_mean_squared_error: 13933056.0000\n",
      "Epoch 190/1000\n",
      "1/1 [==============================] - 0s 39ms/step - loss: 34721616625664.0000 - root_mean_squared_error: 5892505.0000 - val_loss: 194122908434432.0000 - val_root_mean_squared_error: 13932800.0000\n",
      "Epoch 191/1000\n",
      "1/1 [==============================] - 0s 29ms/step - loss: 34721612431360.0000 - root_mean_squared_error: 5892505.0000 - val_loss: 194072979439616.0000 - val_root_mean_squared_error: 13931008.0000\n",
      "Epoch 192/1000\n",
      "1/1 [==============================] - 0s 25ms/step - loss: 34721608237056.0000 - root_mean_squared_error: 5892504.5000 - val_loss: 194008789811200.0000 - val_root_mean_squared_error: 13928704.0000\n",
      "Epoch 193/1000\n",
      "1/1 [==============================] - 0s 48ms/step - loss: 34721608237056.0000 - root_mean_squared_error: 5892504.5000 - val_loss: 193987398860800.0000 - val_root_mean_squared_error: 13927936.0000\n",
      "Epoch 194/1000\n",
      "1/1 [==============================] - 0s 23ms/step - loss: 34721614528512.0000 - root_mean_squared_error: 5892505.0000 - val_loss: 194008789811200.0000 - val_root_mean_squared_error: 13928704.0000\n",
      "Epoch 195/1000\n",
      "1/1 [==============================] - 0s 23ms/step - loss: 34721608237056.0000 - root_mean_squared_error: 5892504.5000 - val_loss: 194065849122816.0000 - val_root_mean_squared_error: 13930752.0000\n",
      "Epoch 196/1000\n",
      "1/1 [==============================] - 0s 28ms/step - loss: 34721606139904.0000 - root_mean_squared_error: 5892504.0000 - val_loss: 194105074253824.0000 - val_root_mean_squared_error: 13932160.0000\n",
      "Epoch 197/1000\n",
      "1/1 [==============================] - 0s 22ms/step - loss: 34721612431360.0000 - root_mean_squared_error: 5892505.0000 - val_loss: 194105074253824.0000 - val_root_mean_squared_error: 13932160.0000\n",
      "Epoch 198/1000\n",
      "1/1 [==============================] - 0s 23ms/step - loss: 34721612431360.0000 - root_mean_squared_error: 5892505.0000 - val_loss: 194076552986624.0000 - val_root_mean_squared_error: 13931136.0000\n",
      "Epoch 199/1000\n",
      "1/1 [==============================] - 0s 23ms/step - loss: 34721606139904.0000 - root_mean_squared_error: 5892504.0000 - val_loss: 194030197538816.0000 - val_root_mean_squared_error: 13929472.0000\n",
      "Epoch 200/1000\n",
      "1/1 [==============================] - 0s 22ms/step - loss: 34721606139904.0000 - root_mean_squared_error: 5892504.0000 - val_loss: 193998102724608.0000 - val_root_mean_squared_error: 13928320.0000\n",
      "Epoch 201/1000\n",
      "1/1 [==============================] - 0s 23ms/step - loss: 34721612431360.0000 - root_mean_squared_error: 5892505.0000 - val_loss: 194012363358208.0000 - val_root_mean_squared_error: 13928832.0000\n",
      "Epoch 202/1000\n",
      "1/1 [==============================] - 0s 23ms/step - loss: 34721608237056.0000 - root_mean_squared_error: 5892504.5000 - val_loss: 194048014942208.0000 - val_root_mean_squared_error: 13930112.0000\n",
      "Epoch 203/1000\n",
      "1/1 [==============================] - 0s 24ms/step - loss: 34721606139904.0000 - root_mean_squared_error: 5892504.0000 - val_loss: 194083683303424.0000 - val_root_mean_squared_error: 13931392.0000\n",
      "Epoch 204/1000\n",
      "1/1 [==============================] - 0s 23ms/step - loss: 34721608237056.0000 - root_mean_squared_error: 5892504.5000 - val_loss: 194097943937024.0000 - val_root_mean_squared_error: 13931904.0000\n",
      "Epoch 205/1000\n",
      "1/1 [==============================] - 0s 23ms/step - loss: 34721612431360.0000 - root_mean_squared_error: 5892505.0000 - val_loss: 194076552986624.0000 - val_root_mean_squared_error: 13931136.0000\n",
      "Epoch 206/1000\n",
      "1/1 [==============================] - 0s 22ms/step - loss: 34721606139904.0000 - root_mean_squared_error: 5892504.0000 - val_loss: 194040884625408.0000 - val_root_mean_squared_error: 13929856.0000\n",
      "Epoch 207/1000\n",
      "1/1 [==============================] - 0s 23ms/step - loss: 34721608237056.0000 - root_mean_squared_error: 5892504.5000 - val_loss: 194019493675008.0000 - val_root_mean_squared_error: 13929088.0000\n",
      "Epoch 208/1000\n",
      "1/1 [==============================] - 0s 22ms/step - loss: 34721606139904.0000 - root_mean_squared_error: 5892504.0000 - val_loss: 194019493675008.0000 - val_root_mean_squared_error: 13929088.0000\n",
      "Epoch 209/1000\n",
      "1/1 [==============================] - 0s 25ms/step - loss: 34721606139904.0000 - root_mean_squared_error: 5892504.0000 - val_loss: 194048014942208.0000 - val_root_mean_squared_error: 13930112.0000\n",
      "Epoch 210/1000\n",
      "1/1 [==============================] - 0s 23ms/step - loss: 34721606139904.0000 - root_mean_squared_error: 5892504.0000 - val_loss: 194076552986624.0000 - val_root_mean_squared_error: 13931136.0000\n",
      "Epoch 211/1000\n",
      "1/1 [==============================] - 0s 23ms/step - loss: 34721606139904.0000 - root_mean_squared_error: 5892504.0000 - val_loss: 194083683303424.0000 - val_root_mean_squared_error: 13931392.0000\n",
      "Epoch 212/1000\n",
      "1/1 [==============================] - 0s 22ms/step - loss: 34721606139904.0000 - root_mean_squared_error: 5892504.0000 - val_loss: 194072979439616.0000 - val_root_mean_squared_error: 13931008.0000\n",
      "Epoch 213/1000\n",
      "1/1 [==============================] - 0s 24ms/step - loss: 34721608237056.0000 - root_mean_squared_error: 5892504.5000 - val_loss: 194040884625408.0000 - val_root_mean_squared_error: 13929856.0000\n",
      "Epoch 214/1000\n",
      "1/1 [==============================] - 0s 23ms/step - loss: 34721606139904.0000 - root_mean_squared_error: 5892504.0000 - val_loss: 194030197538816.0000 - val_root_mean_squared_error: 13929472.0000\n",
      "Epoch 215/1000\n",
      "1/1 [==============================] - 0s 23ms/step - loss: 34721606139904.0000 - root_mean_squared_error: 5892504.0000 - val_loss: 194030197538816.0000 - val_root_mean_squared_error: 13929472.0000\n",
      "Epoch 216/1000\n",
      "1/1 [==============================] - 0s 28ms/step - loss: 34721606139904.0000 - root_mean_squared_error: 5892504.0000 - val_loss: 194040884625408.0000 - val_root_mean_squared_error: 13929856.0000\n",
      "Epoch 217/1000\n",
      "1/1 [==============================] - 0s 22ms/step - loss: 34721606139904.0000 - root_mean_squared_error: 5892504.0000 - val_loss: 194065849122816.0000 - val_root_mean_squared_error: 13930752.0000\n",
      "Epoch 218/1000\n",
      "1/1 [==============================] - 0s 22ms/step - loss: 34721606139904.0000 - root_mean_squared_error: 5892504.0000 - val_loss: 194076552986624.0000 - val_root_mean_squared_error: 13931136.0000\n",
      "Epoch 219/1000\n",
      "1/1 [==============================] - 0s 22ms/step - loss: 34721606139904.0000 - root_mean_squared_error: 5892504.0000 - val_loss: 194076552986624.0000 - val_root_mean_squared_error: 13931136.0000\n",
      "Epoch 220/1000\n",
      "1/1 [==============================] - 0s 23ms/step - loss: 34721606139904.0000 - root_mean_squared_error: 5892504.0000 - val_loss: 194065849122816.0000 - val_root_mean_squared_error: 13930752.0000\n",
      "Epoch 221/1000\n",
      "1/1 [==============================] - 0s 24ms/step - loss: 34721606139904.0000 - root_mean_squared_error: 5892504.0000 - val_loss: 194040884625408.0000 - val_root_mean_squared_error: 13929856.0000\n",
      "Epoch 222/1000\n",
      "1/1 [==============================] - 0s 27ms/step - loss: 34721606139904.0000 - root_mean_squared_error: 5892504.0000 - val_loss: 194037327855616.0000 - val_root_mean_squared_error: 13929728.0000\n",
      "Epoch 223/1000\n",
      "1/1 [==============================] - 0s 23ms/step - loss: 34721606139904.0000 - root_mean_squared_error: 5892504.0000 - val_loss: 194040884625408.0000 - val_root_mean_squared_error: 13929856.0000\n",
      "Epoch 224/1000\n",
      "1/1 [==============================] - 0s 22ms/step - loss: 34721608237056.0000 - root_mean_squared_error: 5892504.5000 - val_loss: 194058718806016.0000 - val_root_mean_squared_error: 13930496.0000\n",
      "Epoch 225/1000\n",
      "1/1 [==============================] - 0s 23ms/step - loss: 34721606139904.0000 - root_mean_squared_error: 5892504.0000 - val_loss: 194065849122816.0000 - val_root_mean_squared_error: 13930752.0000\n",
      "Epoch 226/1000\n",
      "1/1 [==============================] - 0s 23ms/step - loss: 34721606139904.0000 - root_mean_squared_error: 5892504.0000 - val_loss: 194065849122816.0000 - val_root_mean_squared_error: 13930752.0000\n",
      "Epoch 227/1000\n",
      "1/1 [==============================] - 0s 23ms/step - loss: 34721606139904.0000 - root_mean_squared_error: 5892504.0000 - val_loss: 194058718806016.0000 - val_root_mean_squared_error: 13930496.0000\n",
      "Epoch 228/1000\n",
      "1/1 [==============================] - 0s 27ms/step - loss: 34721606139904.0000 - root_mean_squared_error: 5892504.0000 - val_loss: 194048014942208.0000 - val_root_mean_squared_error: 13930112.0000\n",
      "Epoch 229/1000\n",
      "1/1 [==============================] - 0s 23ms/step - loss: 34721606139904.0000 - root_mean_squared_error: 5892504.0000 - val_loss: 194040884625408.0000 - val_root_mean_squared_error: 13929856.0000\n",
      "Epoch 230/1000\n",
      "1/1 [==============================] - 0s 22ms/step - loss: 34721606139904.0000 - root_mean_squared_error: 5892504.0000 - val_loss: 194048014942208.0000 - val_root_mean_squared_error: 13930112.0000\n",
      "Epoch 231/1000\n",
      "1/1 [==============================] - 0s 23ms/step - loss: 34721606139904.0000 - root_mean_squared_error: 5892504.0000 - val_loss: 194058718806016.0000 - val_root_mean_squared_error: 13930496.0000\n",
      "Epoch 232/1000\n",
      "1/1 [==============================] - 0s 22ms/step - loss: 34721606139904.0000 - root_mean_squared_error: 5892504.0000 - val_loss: 194065849122816.0000 - val_root_mean_squared_error: 13930752.0000\n",
      "Epoch 233/1000\n",
      "1/1 [==============================] - 0s 23ms/step - loss: 34721606139904.0000 - root_mean_squared_error: 5892504.0000 - val_loss: 194065849122816.0000 - val_root_mean_squared_error: 13930752.0000\n",
      "Epoch 234/1000\n",
      "1/1 [==============================] - 0s 26ms/step - loss: 34721606139904.0000 - root_mean_squared_error: 5892504.0000 - val_loss: 194058718806016.0000 - val_root_mean_squared_error: 13930496.0000\n",
      "Epoch 235/1000\n",
      "1/1 [==============================] - 0s 23ms/step - loss: 34721606139904.0000 - root_mean_squared_error: 5892504.0000 - val_loss: 194048014942208.0000 - val_root_mean_squared_error: 13930112.0000\n",
      "Epoch 236/1000\n",
      "1/1 [==============================] - 0s 22ms/step - loss: 34721606139904.0000 - root_mean_squared_error: 5892504.0000 - val_loss: 194040884625408.0000 - val_root_mean_squared_error: 13929856.0000\n",
      "Epoch 237/1000\n",
      "1/1 [==============================] - 0s 23ms/step - loss: 34721606139904.0000 - root_mean_squared_error: 5892504.0000 - val_loss: 194048014942208.0000 - val_root_mean_squared_error: 13930112.0000\n",
      "Epoch 238/1000\n",
      "1/1 [==============================] - 0s 22ms/step - loss: 34721606139904.0000 - root_mean_squared_error: 5892504.0000 - val_loss: 194058718806016.0000 - val_root_mean_squared_error: 13930496.0000\n",
      "Epoch 239/1000\n",
      "1/1 [==============================] - 0s 27ms/step - loss: 34721606139904.0000 - root_mean_squared_error: 5892504.0000 - val_loss: 194058718806016.0000 - val_root_mean_squared_error: 13930496.0000\n",
      "Epoch 240/1000\n",
      "1/1 [==============================] - 0s 23ms/step - loss: 34721606139904.0000 - root_mean_squared_error: 5892504.0000 - val_loss: 194058718806016.0000 - val_root_mean_squared_error: 13930496.0000\n",
      "Epoch 241/1000\n",
      "1/1 [==============================] - 0s 22ms/step - loss: 34721606139904.0000 - root_mean_squared_error: 5892504.0000 - val_loss: 194048014942208.0000 - val_root_mean_squared_error: 13930112.0000\n",
      "Epoch 242/1000\n",
      "1/1 [==============================] - 0s 22ms/step - loss: 34721606139904.0000 - root_mean_squared_error: 5892504.0000 - val_loss: 194048014942208.0000 - val_root_mean_squared_error: 13930112.0000\n",
      "Epoch 243/1000\n",
      "1/1 [==============================] - 0s 23ms/step - loss: 34721606139904.0000 - root_mean_squared_error: 5892504.0000 - val_loss: 194048014942208.0000 - val_root_mean_squared_error: 13930112.0000\n",
      "Epoch 244/1000\n",
      "1/1 [==============================] - 0s 23ms/step - loss: 34721606139904.0000 - root_mean_squared_error: 5892504.0000 - val_loss: 194058718806016.0000 - val_root_mean_squared_error: 13930496.0000\n",
      "Epoch 245/1000\n",
      "1/1 [==============================] - 0s 27ms/step - loss: 34721606139904.0000 - root_mean_squared_error: 5892504.0000 - val_loss: 194058718806016.0000 - val_root_mean_squared_error: 13930496.0000\n",
      "Epoch 246/1000\n",
      "1/1 [==============================] - 0s 23ms/step - loss: 34721606139904.0000 - root_mean_squared_error: 5892504.0000 - val_loss: 194058718806016.0000 - val_root_mean_squared_error: 13930496.0000\n",
      "Epoch 247/1000\n",
      "1/1 [==============================] - 0s 23ms/step - loss: 34721606139904.0000 - root_mean_squared_error: 5892504.0000 - val_loss: 194048014942208.0000 - val_root_mean_squared_error: 13930112.0000\n",
      "Epoch 248/1000\n",
      "1/1 [==============================] - 0s 23ms/step - loss: 34721606139904.0000 - root_mean_squared_error: 5892504.0000 - val_loss: 194048014942208.0000 - val_root_mean_squared_error: 13930112.0000\n",
      "Epoch 249/1000\n",
      "1/1 [==============================] - 0s 22ms/step - loss: 34721606139904.0000 - root_mean_squared_error: 5892504.0000 - val_loss: 194048014942208.0000 - val_root_mean_squared_error: 13930112.0000\n",
      "Epoch 250/1000\n",
      "1/1 [==============================] - 0s 26ms/step - loss: 34721606139904.0000 - root_mean_squared_error: 5892504.0000 - val_loss: 194058718806016.0000 - val_root_mean_squared_error: 13930496.0000\n",
      "Epoch 251/1000\n",
      "1/1 [==============================] - 0s 23ms/step - loss: 34721606139904.0000 - root_mean_squared_error: 5892504.0000 - val_loss: 194058718806016.0000 - val_root_mean_squared_error: 13930496.0000\n",
      "Epoch 252/1000\n",
      "1/1 [==============================] - 0s 23ms/step - loss: 34721606139904.0000 - root_mean_squared_error: 5892504.0000 - val_loss: 194058718806016.0000 - val_root_mean_squared_error: 13930496.0000\n",
      "Epoch 253/1000\n",
      "1/1 [==============================] - 0s 22ms/step - loss: 34721606139904.0000 - root_mean_squared_error: 5892504.0000 - val_loss: 194048014942208.0000 - val_root_mean_squared_error: 13930112.0000\n",
      "Epoch 254/1000\n",
      "1/1 [==============================] - 0s 22ms/step - loss: 34721606139904.0000 - root_mean_squared_error: 5892504.0000 - val_loss: 194048014942208.0000 - val_root_mean_squared_error: 13930112.0000\n",
      "Epoch 255/1000\n",
      "1/1 [==============================] - 0s 23ms/step - loss: 34721606139904.0000 - root_mean_squared_error: 5892504.0000 - val_loss: 194048014942208.0000 - val_root_mean_squared_error: 13930112.0000\n",
      "Epoch 256/1000\n",
      "1/1 [==============================] - 0s 22ms/step - loss: 34721606139904.0000 - root_mean_squared_error: 5892504.0000 - val_loss: 194058718806016.0000 - val_root_mean_squared_error: 13930496.0000\n",
      "Epoch 257/1000\n",
      "1/1 [==============================] - 0s 26ms/step - loss: 34721606139904.0000 - root_mean_squared_error: 5892504.0000 - val_loss: 194058718806016.0000 - val_root_mean_squared_error: 13930496.0000\n",
      "Epoch 258/1000\n",
      "1/1 [==============================] - 0s 22ms/step - loss: 34721606139904.0000 - root_mean_squared_error: 5892504.0000 - val_loss: 194058718806016.0000 - val_root_mean_squared_error: 13930496.0000\n",
      "Epoch 259/1000\n",
      "1/1 [==============================] - 0s 22ms/step - loss: 34721606139904.0000 - root_mean_squared_error: 5892504.0000 - val_loss: 194048014942208.0000 - val_root_mean_squared_error: 13930112.0000\n",
      "Epoch 260/1000\n",
      "1/1 [==============================] - 0s 23ms/step - loss: 34721606139904.0000 - root_mean_squared_error: 5892504.0000 - val_loss: 194048014942208.0000 - val_root_mean_squared_error: 13930112.0000\n",
      "Epoch 261/1000\n",
      "1/1 [==============================] - 0s 22ms/step - loss: 34721606139904.0000 - root_mean_squared_error: 5892504.0000 - val_loss: 194048014942208.0000 - val_root_mean_squared_error: 13930112.0000\n",
      "Epoch 262/1000\n",
      "1/1 [==============================] - 0s 23ms/step - loss: 34721606139904.0000 - root_mean_squared_error: 5892504.0000 - val_loss: 194058718806016.0000 - val_root_mean_squared_error: 13930496.0000\n",
      "Epoch 263/1000\n",
      "1/1 [==============================] - 0s 30ms/step - loss: 34721606139904.0000 - root_mean_squared_error: 5892504.0000 - val_loss: 194058718806016.0000 - val_root_mean_squared_error: 13930496.0000\n",
      "Epoch 264/1000\n",
      "1/1 [==============================] - 0s 22ms/step - loss: 34721606139904.0000 - root_mean_squared_error: 5892504.0000 - val_loss: 194058718806016.0000 - val_root_mean_squared_error: 13930496.0000\n",
      "Epoch 265/1000\n",
      "1/1 [==============================] - 0s 23ms/step - loss: 34721606139904.0000 - root_mean_squared_error: 5892504.0000 - val_loss: 194048014942208.0000 - val_root_mean_squared_error: 13930112.0000\n",
      "Epoch 266/1000\n",
      "1/1 [==============================] - 0s 24ms/step - loss: 34721606139904.0000 - root_mean_squared_error: 5892504.0000 - val_loss: 194048014942208.0000 - val_root_mean_squared_error: 13930112.0000\n",
      "Epoch 267/1000\n",
      "1/1 [==============================] - 0s 23ms/step - loss: 34721606139904.0000 - root_mean_squared_error: 5892504.0000 - val_loss: 194048014942208.0000 - val_root_mean_squared_error: 13930112.0000\n",
      "Epoch 268/1000\n",
      "1/1 [==============================] - 0s 25ms/step - loss: 34721606139904.0000 - root_mean_squared_error: 5892504.0000 - val_loss: 194058718806016.0000 - val_root_mean_squared_error: 13930496.0000\n",
      "Epoch 269/1000\n",
      "1/1 [==============================] - 0s 23ms/step - loss: 34721606139904.0000 - root_mean_squared_error: 5892504.0000 - val_loss: 194058718806016.0000 - val_root_mean_squared_error: 13930496.0000\n",
      "Epoch 270/1000\n",
      "1/1 [==============================] - 0s 22ms/step - loss: 34721606139904.0000 - root_mean_squared_error: 5892504.0000 - val_loss: 194058718806016.0000 - val_root_mean_squared_error: 13930496.0000\n",
      "Epoch 271/1000\n",
      "1/1 [==============================] - 0s 23ms/step - loss: 34721606139904.0000 - root_mean_squared_error: 5892504.0000 - val_loss: 194048014942208.0000 - val_root_mean_squared_error: 13930112.0000\n",
      "Epoch 272/1000\n",
      "1/1 [==============================] - 0s 22ms/step - loss: 34721606139904.0000 - root_mean_squared_error: 5892504.0000 - val_loss: 194048014942208.0000 - val_root_mean_squared_error: 13930112.0000\n",
      "Epoch 273/1000\n",
      "1/1 [==============================] - 0s 28ms/step - loss: 34721606139904.0000 - root_mean_squared_error: 5892504.0000 - val_loss: 194048014942208.0000 - val_root_mean_squared_error: 13930112.0000\n",
      "Epoch 274/1000\n",
      "1/1 [==============================] - 0s 23ms/step - loss: 34721606139904.0000 - root_mean_squared_error: 5892504.0000 - val_loss: 194058718806016.0000 - val_root_mean_squared_error: 13930496.0000\n",
      "Epoch 275/1000\n",
      "1/1 [==============================] - 0s 22ms/step - loss: 34721606139904.0000 - root_mean_squared_error: 5892504.0000 - val_loss: 194058718806016.0000 - val_root_mean_squared_error: 13930496.0000\n",
      "Epoch 276/1000\n",
      "1/1 [==============================] - 0s 22ms/step - loss: 34721606139904.0000 - root_mean_squared_error: 5892504.0000 - val_loss: 194058718806016.0000 - val_root_mean_squared_error: 13930496.0000\n",
      "Epoch 277/1000\n",
      "1/1 [==============================] - 0s 22ms/step - loss: 34721606139904.0000 - root_mean_squared_error: 5892504.0000 - val_loss: 194048014942208.0000 - val_root_mean_squared_error: 13930112.0000\n",
      "Epoch 278/1000\n",
      "1/1 [==============================] - 0s 23ms/step - loss: 34721606139904.0000 - root_mean_squared_error: 5892504.0000 - val_loss: 194048014942208.0000 - val_root_mean_squared_error: 13930112.0000\n",
      "Epoch 279/1000\n",
      "1/1 [==============================] - 0s 27ms/step - loss: 34721606139904.0000 - root_mean_squared_error: 5892504.0000 - val_loss: 194048014942208.0000 - val_root_mean_squared_error: 13930112.0000\n",
      "Epoch 280/1000\n",
      "1/1 [==============================] - 0s 24ms/step - loss: 34721606139904.0000 - root_mean_squared_error: 5892504.0000 - val_loss: 194058718806016.0000 - val_root_mean_squared_error: 13930496.0000\n",
      "Epoch 281/1000\n",
      "1/1 [==============================] - 0s 24ms/step - loss: 34721606139904.0000 - root_mean_squared_error: 5892504.0000 - val_loss: 194058718806016.0000 - val_root_mean_squared_error: 13930496.0000\n",
      "Epoch 282/1000\n",
      "1/1 [==============================] - 0s 24ms/step - loss: 34721606139904.0000 - root_mean_squared_error: 5892504.0000 - val_loss: 194058718806016.0000 - val_root_mean_squared_error: 13930496.0000\n",
      "Epoch 283/1000\n",
      "1/1 [==============================] - 0s 24ms/step - loss: 34721606139904.0000 - root_mean_squared_error: 5892504.0000 - val_loss: 194048014942208.0000 - val_root_mean_squared_error: 13930112.0000\n",
      "Epoch 284/1000\n",
      "1/1 [==============================] - 0s 23ms/step - loss: 34721606139904.0000 - root_mean_squared_error: 5892504.0000 - val_loss: 194048014942208.0000 - val_root_mean_squared_error: 13930112.0000\n",
      "Epoch 285/1000\n",
      "1/1 [==============================] - 0s 23ms/step - loss: 34721606139904.0000 - root_mean_squared_error: 5892504.0000 - val_loss: 194048014942208.0000 - val_root_mean_squared_error: 13930112.0000\n",
      "Epoch 286/1000\n",
      "1/1 [==============================] - 0s 22ms/step - loss: 34721606139904.0000 - root_mean_squared_error: 5892504.0000 - val_loss: 194058718806016.0000 - val_root_mean_squared_error: 13930496.0000\n",
      "Epoch 287/1000\n",
      "1/1 [==============================] - 0s 23ms/step - loss: 34721606139904.0000 - root_mean_squared_error: 5892504.0000 - val_loss: 194058718806016.0000 - val_root_mean_squared_error: 13930496.0000\n",
      "Epoch 288/1000\n",
      "1/1 [==============================] - 0s 28ms/step - loss: 34721606139904.0000 - root_mean_squared_error: 5892504.0000 - val_loss: 194058718806016.0000 - val_root_mean_squared_error: 13930496.0000\n",
      "Epoch 289/1000\n",
      "1/1 [==============================] - 0s 23ms/step - loss: 34721606139904.0000 - root_mean_squared_error: 5892504.0000 - val_loss: 194048014942208.0000 - val_root_mean_squared_error: 13930112.0000\n",
      "Epoch 290/1000\n",
      "1/1 [==============================] - 0s 23ms/step - loss: 34721606139904.0000 - root_mean_squared_error: 5892504.0000 - val_loss: 194048014942208.0000 - val_root_mean_squared_error: 13930112.0000\n",
      "Epoch 291/1000\n",
      "1/1 [==============================] - 0s 23ms/step - loss: 34721606139904.0000 - root_mean_squared_error: 5892504.0000 - val_loss: 194048014942208.0000 - val_root_mean_squared_error: 13930112.0000\n",
      "Epoch 292/1000\n",
      "1/1 [==============================] - 0s 22ms/step - loss: 34721606139904.0000 - root_mean_squared_error: 5892504.0000 - val_loss: 194058718806016.0000 - val_root_mean_squared_error: 13930496.0000\n",
      "Epoch 293/1000\n",
      "1/1 [==============================] - 0s 26ms/step - loss: 34721606139904.0000 - root_mean_squared_error: 5892504.0000 - val_loss: 194058718806016.0000 - val_root_mean_squared_error: 13930496.0000\n",
      "Epoch 294/1000\n",
      "1/1 [==============================] - 0s 22ms/step - loss: 34721606139904.0000 - root_mean_squared_error: 5892504.0000 - val_loss: 194058718806016.0000 - val_root_mean_squared_error: 13930496.0000\n",
      "Epoch 295/1000\n",
      "1/1 [==============================] - 0s 23ms/step - loss: 34721606139904.0000 - root_mean_squared_error: 5892504.0000 - val_loss: 194048014942208.0000 - val_root_mean_squared_error: 13930112.0000\n",
      "Epoch 296/1000\n",
      "1/1 [==============================] - 0s 22ms/step - loss: 34721606139904.0000 - root_mean_squared_error: 5892504.0000 - val_loss: 194048014942208.0000 - val_root_mean_squared_error: 13930112.0000\n",
      "Epoch 297/1000\n",
      "1/1 [==============================] - 0s 22ms/step - loss: 34721606139904.0000 - root_mean_squared_error: 5892504.0000 - val_loss: 194048014942208.0000 - val_root_mean_squared_error: 13930112.0000\n",
      "Epoch 298/1000\n",
      "1/1 [==============================] - 0s 26ms/step - loss: 34721606139904.0000 - root_mean_squared_error: 5892504.0000 - val_loss: 194058718806016.0000 - val_root_mean_squared_error: 13930496.0000\n",
      "Epoch 299/1000\n",
      "1/1 [==============================] - 0s 23ms/step - loss: 34721606139904.0000 - root_mean_squared_error: 5892504.0000 - val_loss: 194058718806016.0000 - val_root_mean_squared_error: 13930496.0000\n",
      "Epoch 300/1000\n",
      "1/1 [==============================] - 0s 23ms/step - loss: 34721606139904.0000 - root_mean_squared_error: 5892504.0000 - val_loss: 194058718806016.0000 - val_root_mean_squared_error: 13930496.0000\n",
      "Epoch 301/1000\n",
      "1/1 [==============================] - 0s 23ms/step - loss: 34721606139904.0000 - root_mean_squared_error: 5892504.0000 - val_loss: 194048014942208.0000 - val_root_mean_squared_error: 13930112.0000\n",
      "Epoch 302/1000\n",
      "1/1 [==============================] - 0s 22ms/step - loss: 34721606139904.0000 - root_mean_squared_error: 5892504.0000 - val_loss: 194048014942208.0000 - val_root_mean_squared_error: 13930112.0000\n",
      "Epoch 303/1000\n",
      "1/1 [==============================] - 0s 26ms/step - loss: 34721606139904.0000 - root_mean_squared_error: 5892504.0000 - val_loss: 194048014942208.0000 - val_root_mean_squared_error: 13930112.0000\n",
      "Epoch 304/1000\n",
      "1/1 [==============================] - 0s 23ms/step - loss: 34721606139904.0000 - root_mean_squared_error: 5892504.0000 - val_loss: 194058718806016.0000 - val_root_mean_squared_error: 13930496.0000\n",
      "Epoch 305/1000\n",
      "1/1 [==============================] - 0s 23ms/step - loss: 34721606139904.0000 - root_mean_squared_error: 5892504.0000 - val_loss: 194058718806016.0000 - val_root_mean_squared_error: 13930496.0000\n",
      "Epoch 306/1000\n",
      "1/1 [==============================] - 0s 23ms/step - loss: 34721606139904.0000 - root_mean_squared_error: 5892504.0000 - val_loss: 194058718806016.0000 - val_root_mean_squared_error: 13930496.0000\n",
      "Epoch 307/1000\n",
      "1/1 [==============================] - 0s 22ms/step - loss: 34721606139904.0000 - root_mean_squared_error: 5892504.0000 - val_loss: 194048014942208.0000 - val_root_mean_squared_error: 13930112.0000\n",
      "Epoch 308/1000\n",
      "1/1 [==============================] - 0s 31ms/step - loss: 34721606139904.0000 - root_mean_squared_error: 5892504.0000 - val_loss: 194048014942208.0000 - val_root_mean_squared_error: 13930112.0000\n",
      "Epoch 309/1000\n",
      "1/1 [==============================] - 0s 25ms/step - loss: 34721606139904.0000 - root_mean_squared_error: 5892504.0000 - val_loss: 194048014942208.0000 - val_root_mean_squared_error: 13930112.0000\n",
      "Epoch 310/1000\n",
      "1/1 [==============================] - 0s 23ms/step - loss: 34721606139904.0000 - root_mean_squared_error: 5892504.0000 - val_loss: 194058718806016.0000 - val_root_mean_squared_error: 13930496.0000\n",
      "Epoch 311/1000\n",
      "1/1 [==============================] - 0s 22ms/step - loss: 34721606139904.0000 - root_mean_squared_error: 5892504.0000 - val_loss: 194058718806016.0000 - val_root_mean_squared_error: 13930496.0000\n",
      "Epoch 312/1000\n",
      "1/1 [==============================] - 0s 22ms/step - loss: 34721606139904.0000 - root_mean_squared_error: 5892504.0000 - val_loss: 194058718806016.0000 - val_root_mean_squared_error: 13930496.0000\n",
      "Epoch 313/1000\n",
      "1/1 [==============================] - 0s 24ms/step - loss: 34721606139904.0000 - root_mean_squared_error: 5892504.0000 - val_loss: 194048014942208.0000 - val_root_mean_squared_error: 13930112.0000\n",
      "Epoch 314/1000\n",
      "1/1 [==============================] - 0s 22ms/step - loss: 34721606139904.0000 - root_mean_squared_error: 5892504.0000 - val_loss: 194048014942208.0000 - val_root_mean_squared_error: 13930112.0000\n",
      "Epoch 315/1000\n",
      "1/1 [==============================] - 0s 22ms/step - loss: 34721606139904.0000 - root_mean_squared_error: 5892504.0000 - val_loss: 194048014942208.0000 - val_root_mean_squared_error: 13930112.0000\n",
      "Epoch 316/1000\n",
      "1/1 [==============================] - 0s 22ms/step - loss: 34721606139904.0000 - root_mean_squared_error: 5892504.0000 - val_loss: 194058718806016.0000 - val_root_mean_squared_error: 13930496.0000\n",
      "Epoch 317/1000\n",
      "1/1 [==============================] - 0s 23ms/step - loss: 34721606139904.0000 - root_mean_squared_error: 5892504.0000 - val_loss: 194058718806016.0000 - val_root_mean_squared_error: 13930496.0000\n",
      "Epoch 318/1000\n",
      "1/1 [==============================] - 0s 27ms/step - loss: 34721606139904.0000 - root_mean_squared_error: 5892504.0000 - val_loss: 194058718806016.0000 - val_root_mean_squared_error: 13930496.0000\n",
      "Epoch 319/1000\n",
      "1/1 [==============================] - 0s 22ms/step - loss: 34721606139904.0000 - root_mean_squared_error: 5892504.0000 - val_loss: 194048014942208.0000 - val_root_mean_squared_error: 13930112.0000\n",
      "Epoch 320/1000\n",
      "1/1 [==============================] - 0s 23ms/step - loss: 34721606139904.0000 - root_mean_squared_error: 5892504.0000 - val_loss: 194048014942208.0000 - val_root_mean_squared_error: 13930112.0000\n",
      "Epoch 321/1000\n",
      "1/1 [==============================] - 0s 23ms/step - loss: 34721606139904.0000 - root_mean_squared_error: 5892504.0000 - val_loss: 194048014942208.0000 - val_root_mean_squared_error: 13930112.0000\n",
      "Epoch 322/1000\n",
      "1/1 [==============================] - 0s 26ms/step - loss: 34721606139904.0000 - root_mean_squared_error: 5892504.0000 - val_loss: 194058718806016.0000 - val_root_mean_squared_error: 13930496.0000\n",
      "Epoch 323/1000\n",
      "1/1 [==============================] - 0s 23ms/step - loss: 34721606139904.0000 - root_mean_squared_error: 5892504.0000 - val_loss: 194058718806016.0000 - val_root_mean_squared_error: 13930496.0000\n",
      "Epoch 324/1000\n",
      "1/1 [==============================] - 0s 23ms/step - loss: 34721606139904.0000 - root_mean_squared_error: 5892504.0000 - val_loss: 194058718806016.0000 - val_root_mean_squared_error: 13930496.0000\n",
      "Epoch 325/1000\n",
      "1/1 [==============================] - 0s 22ms/step - loss: 34721606139904.0000 - root_mean_squared_error: 5892504.0000 - val_loss: 194048014942208.0000 - val_root_mean_squared_error: 13930112.0000\n",
      "Epoch 326/1000\n",
      "1/1 [==============================] - 0s 22ms/step - loss: 34721606139904.0000 - root_mean_squared_error: 5892504.0000 - val_loss: 194048014942208.0000 - val_root_mean_squared_error: 13930112.0000\n",
      "Epoch 327/1000\n",
      "1/1 [==============================] - 0s 26ms/step - loss: 34721606139904.0000 - root_mean_squared_error: 5892504.0000 - val_loss: 194048014942208.0000 - val_root_mean_squared_error: 13930112.0000\n",
      "Epoch 328/1000\n",
      "1/1 [==============================] - 0s 23ms/step - loss: 34721606139904.0000 - root_mean_squared_error: 5892504.0000 - val_loss: 194058718806016.0000 - val_root_mean_squared_error: 13930496.0000\n",
      "Epoch 329/1000\n",
      "1/1 [==============================] - 0s 22ms/step - loss: 34721606139904.0000 - root_mean_squared_error: 5892504.0000 - val_loss: 194058718806016.0000 - val_root_mean_squared_error: 13930496.0000\n",
      "Epoch 330/1000\n",
      "1/1 [==============================] - 0s 22ms/step - loss: 34721606139904.0000 - root_mean_squared_error: 5892504.0000 - val_loss: 194058718806016.0000 - val_root_mean_squared_error: 13930496.0000\n",
      "Epoch 331/1000\n",
      "1/1 [==============================] - 0s 28ms/step - loss: 34721606139904.0000 - root_mean_squared_error: 5892504.0000 - val_loss: 194048014942208.0000 - val_root_mean_squared_error: 13930112.0000\n",
      "Epoch 332/1000\n",
      "1/1 [==============================] - 0s 23ms/step - loss: 34721606139904.0000 - root_mean_squared_error: 5892504.0000 - val_loss: 194048014942208.0000 - val_root_mean_squared_error: 13930112.0000\n",
      "Epoch 333/1000\n",
      "1/1 [==============================] - 0s 22ms/step - loss: 34721606139904.0000 - root_mean_squared_error: 5892504.0000 - val_loss: 194048014942208.0000 - val_root_mean_squared_error: 13930112.0000\n",
      "Epoch 334/1000\n",
      "1/1 [==============================] - 0s 23ms/step - loss: 34721606139904.0000 - root_mean_squared_error: 5892504.0000 - val_loss: 194058718806016.0000 - val_root_mean_squared_error: 13930496.0000\n",
      "Epoch 335/1000\n",
      "1/1 [==============================] - 0s 22ms/step - loss: 34721606139904.0000 - root_mean_squared_error: 5892504.0000 - val_loss: 194058718806016.0000 - val_root_mean_squared_error: 13930496.0000\n",
      "Epoch 336/1000\n",
      "1/1 [==============================] - 0s 24ms/step - loss: 34721606139904.0000 - root_mean_squared_error: 5892504.0000 - val_loss: 194058718806016.0000 - val_root_mean_squared_error: 13930496.0000\n",
      "Epoch 337/1000\n",
      "1/1 [==============================] - 0s 23ms/step - loss: 34721606139904.0000 - root_mean_squared_error: 5892504.0000 - val_loss: 194048014942208.0000 - val_root_mean_squared_error: 13930112.0000\n",
      "Epoch 338/1000\n",
      "1/1 [==============================] - 0s 23ms/step - loss: 34721606139904.0000 - root_mean_squared_error: 5892504.0000 - val_loss: 194048014942208.0000 - val_root_mean_squared_error: 13930112.0000\n",
      "Epoch 339/1000\n",
      "1/1 [==============================] - 0s 23ms/step - loss: 34721606139904.0000 - root_mean_squared_error: 5892504.0000 - val_loss: 194048014942208.0000 - val_root_mean_squared_error: 13930112.0000\n",
      "Epoch 340/1000\n",
      "1/1 [==============================] - 0s 24ms/step - loss: 34721606139904.0000 - root_mean_squared_error: 5892504.0000 - val_loss: 194058718806016.0000 - val_root_mean_squared_error: 13930496.0000\n",
      "Epoch 341/1000\n",
      "1/1 [==============================] - 0s 23ms/step - loss: 34721606139904.0000 - root_mean_squared_error: 5892504.0000 - val_loss: 194058718806016.0000 - val_root_mean_squared_error: 13930496.0000\n",
      "Epoch 342/1000\n",
      "1/1 [==============================] - 0s 23ms/step - loss: 34721606139904.0000 - root_mean_squared_error: 5892504.0000 - val_loss: 194058718806016.0000 - val_root_mean_squared_error: 13930496.0000\n",
      "Epoch 343/1000\n",
      "1/1 [==============================] - 0s 22ms/step - loss: 34721606139904.0000 - root_mean_squared_error: 5892504.0000 - val_loss: 194048014942208.0000 - val_root_mean_squared_error: 13930112.0000\n",
      "Epoch 344/1000\n",
      "1/1 [==============================] - 0s 24ms/step - loss: 34721606139904.0000 - root_mean_squared_error: 5892504.0000 - val_loss: 194048014942208.0000 - val_root_mean_squared_error: 13930112.0000\n",
      "Epoch 345/1000\n",
      "1/1 [==============================] - 0s 22ms/step - loss: 34721606139904.0000 - root_mean_squared_error: 5892504.0000 - val_loss: 194048014942208.0000 - val_root_mean_squared_error: 13930112.0000\n",
      "Epoch 346/1000\n",
      "1/1 [==============================] - 0s 23ms/step - loss: 34721606139904.0000 - root_mean_squared_error: 5892504.0000 - val_loss: 194058718806016.0000 - val_root_mean_squared_error: 13930496.0000\n",
      "Epoch 347/1000\n",
      "1/1 [==============================] - 0s 27ms/step - loss: 34721606139904.0000 - root_mean_squared_error: 5892504.0000 - val_loss: 194058718806016.0000 - val_root_mean_squared_error: 13930496.0000\n",
      "Epoch 348/1000\n",
      "1/1 [==============================] - 0s 23ms/step - loss: 34721606139904.0000 - root_mean_squared_error: 5892504.0000 - val_loss: 194058718806016.0000 - val_root_mean_squared_error: 13930496.0000\n",
      "Epoch 349/1000\n",
      "1/1 [==============================] - 0s 23ms/step - loss: 34721606139904.0000 - root_mean_squared_error: 5892504.0000 - val_loss: 194048014942208.0000 - val_root_mean_squared_error: 13930112.0000\n",
      "Epoch 350/1000\n",
      "1/1 [==============================] - 0s 23ms/step - loss: 34721606139904.0000 - root_mean_squared_error: 5892504.0000 - val_loss: 194048014942208.0000 - val_root_mean_squared_error: 13930112.0000\n",
      "Epoch 351/1000\n",
      "1/1 [==============================] - 0s 22ms/step - loss: 34721606139904.0000 - root_mean_squared_error: 5892504.0000 - val_loss: 194048014942208.0000 - val_root_mean_squared_error: 13930112.0000\n",
      "Epoch 352/1000\n",
      "1/1 [==============================] - 0s 23ms/step - loss: 34721606139904.0000 - root_mean_squared_error: 5892504.0000 - val_loss: 194058718806016.0000 - val_root_mean_squared_error: 13930496.0000\n",
      "Epoch 353/1000\n",
      "1/1 [==============================] - 0s 28ms/step - loss: 34721606139904.0000 - root_mean_squared_error: 5892504.0000 - val_loss: 194058718806016.0000 - val_root_mean_squared_error: 13930496.0000\n",
      "Epoch 354/1000\n",
      "1/1 [==============================] - 0s 25ms/step - loss: 34721606139904.0000 - root_mean_squared_error: 5892504.0000 - val_loss: 194058718806016.0000 - val_root_mean_squared_error: 13930496.0000\n",
      "Epoch 355/1000\n",
      "1/1 [==============================] - 0s 23ms/step - loss: 34721606139904.0000 - root_mean_squared_error: 5892504.0000 - val_loss: 194048014942208.0000 - val_root_mean_squared_error: 13930112.0000\n",
      "Epoch 356/1000\n",
      "1/1 [==============================] - 0s 22ms/step - loss: 34721606139904.0000 - root_mean_squared_error: 5892504.0000 - val_loss: 194048014942208.0000 - val_root_mean_squared_error: 13930112.0000\n",
      "Epoch 357/1000\n",
      "1/1 [==============================] - 0s 23ms/step - loss: 34721606139904.0000 - root_mean_squared_error: 5892504.0000 - val_loss: 194048014942208.0000 - val_root_mean_squared_error: 13930112.0000\n",
      "Epoch 358/1000\n",
      "1/1 [==============================] - 0s 27ms/step - loss: 34721606139904.0000 - root_mean_squared_error: 5892504.0000 - val_loss: 194058718806016.0000 - val_root_mean_squared_error: 13930496.0000\n",
      "Epoch 359/1000\n",
      "1/1 [==============================] - 0s 24ms/step - loss: 34721606139904.0000 - root_mean_squared_error: 5892504.0000 - val_loss: 194058718806016.0000 - val_root_mean_squared_error: 13930496.0000\n",
      "Epoch 360/1000\n",
      "1/1 [==============================] - 0s 23ms/step - loss: 34721606139904.0000 - root_mean_squared_error: 5892504.0000 - val_loss: 194058718806016.0000 - val_root_mean_squared_error: 13930496.0000\n",
      "Epoch 361/1000\n",
      "1/1 [==============================] - 0s 23ms/step - loss: 34721606139904.0000 - root_mean_squared_error: 5892504.0000 - val_loss: 194048014942208.0000 - val_root_mean_squared_error: 13930112.0000\n",
      "Epoch 362/1000\n",
      "1/1 [==============================] - 0s 24ms/step - loss: 34721606139904.0000 - root_mean_squared_error: 5892504.0000 - val_loss: 194048014942208.0000 - val_root_mean_squared_error: 13930112.0000\n",
      "Epoch 363/1000\n",
      "1/1 [==============================] - 0s 23ms/step - loss: 34721606139904.0000 - root_mean_squared_error: 5892504.0000 - val_loss: 194048014942208.0000 - val_root_mean_squared_error: 13930112.0000\n",
      "Epoch 364/1000\n",
      "1/1 [==============================] - 0s 23ms/step - loss: 34721606139904.0000 - root_mean_squared_error: 5892504.0000 - val_loss: 194058718806016.0000 - val_root_mean_squared_error: 13930496.0000\n",
      "Epoch 365/1000\n",
      "1/1 [==============================] - 0s 23ms/step - loss: 34721606139904.0000 - root_mean_squared_error: 5892504.0000 - val_loss: 194058718806016.0000 - val_root_mean_squared_error: 13930496.0000\n",
      "Epoch 366/1000\n",
      "1/1 [==============================] - 0s 22ms/step - loss: 34721606139904.0000 - root_mean_squared_error: 5892504.0000 - val_loss: 194058718806016.0000 - val_root_mean_squared_error: 13930496.0000\n",
      "Epoch 367/1000\n",
      "1/1 [==============================] - 0s 24ms/step - loss: 34721606139904.0000 - root_mean_squared_error: 5892504.0000 - val_loss: 194048014942208.0000 - val_root_mean_squared_error: 13930112.0000\n",
      "Epoch 368/1000\n",
      "1/1 [==============================] - 0s 23ms/step - loss: 34721606139904.0000 - root_mean_squared_error: 5892504.0000 - val_loss: 194048014942208.0000 - val_root_mean_squared_error: 13930112.0000\n",
      "Epoch 369/1000\n",
      "1/1 [==============================] - 0s 23ms/step - loss: 34721606139904.0000 - root_mean_squared_error: 5892504.0000 - val_loss: 194048014942208.0000 - val_root_mean_squared_error: 13930112.0000\n",
      "Epoch 370/1000\n",
      "1/1 [==============================] - 0s 22ms/step - loss: 34721606139904.0000 - root_mean_squared_error: 5892504.0000 - val_loss: 194058718806016.0000 - val_root_mean_squared_error: 13930496.0000\n",
      "Epoch 371/1000\n",
      "1/1 [==============================] - 0s 25ms/step - loss: 34721606139904.0000 - root_mean_squared_error: 5892504.0000 - val_loss: 194058718806016.0000 - val_root_mean_squared_error: 13930496.0000\n",
      "Epoch 372/1000\n",
      "1/1 [==============================] - 0s 23ms/step - loss: 34721606139904.0000 - root_mean_squared_error: 5892504.0000 - val_loss: 194058718806016.0000 - val_root_mean_squared_error: 13930496.0000\n",
      "Epoch 373/1000\n",
      "1/1 [==============================] - 0s 23ms/step - loss: 34721606139904.0000 - root_mean_squared_error: 5892504.0000 - val_loss: 194048014942208.0000 - val_root_mean_squared_error: 13930112.0000\n",
      "Epoch 374/1000\n",
      "1/1 [==============================] - 0s 28ms/step - loss: 34721606139904.0000 - root_mean_squared_error: 5892504.0000 - val_loss: 194048014942208.0000 - val_root_mean_squared_error: 13930112.0000\n",
      "Epoch 375/1000\n",
      "1/1 [==============================] - 0s 24ms/step - loss: 34721606139904.0000 - root_mean_squared_error: 5892504.0000 - val_loss: 194048014942208.0000 - val_root_mean_squared_error: 13930112.0000\n",
      "Epoch 376/1000\n",
      "1/1 [==============================] - 0s 24ms/step - loss: 34721606139904.0000 - root_mean_squared_error: 5892504.0000 - val_loss: 194058718806016.0000 - val_root_mean_squared_error: 13930496.0000\n",
      "Epoch 377/1000\n",
      "1/1 [==============================] - 0s 23ms/step - loss: 34721606139904.0000 - root_mean_squared_error: 5892504.0000 - val_loss: 194058718806016.0000 - val_root_mean_squared_error: 13930496.0000\n",
      "Epoch 378/1000\n",
      "1/1 [==============================] - 0s 25ms/step - loss: 34721606139904.0000 - root_mean_squared_error: 5892504.0000 - val_loss: 194058718806016.0000 - val_root_mean_squared_error: 13930496.0000\n",
      "Epoch 379/1000\n",
      "1/1 [==============================] - 0s 24ms/step - loss: 34721606139904.0000 - root_mean_squared_error: 5892504.0000 - val_loss: 194048014942208.0000 - val_root_mean_squared_error: 13930112.0000\n",
      "Epoch 380/1000\n",
      "1/1 [==============================] - 0s 23ms/step - loss: 34721606139904.0000 - root_mean_squared_error: 5892504.0000 - val_loss: 194048014942208.0000 - val_root_mean_squared_error: 13930112.0000\n",
      "Epoch 381/1000\n",
      "1/1 [==============================] - 0s 23ms/step - loss: 34721606139904.0000 - root_mean_squared_error: 5892504.0000 - val_loss: 194048014942208.0000 - val_root_mean_squared_error: 13930112.0000\n",
      "Epoch 382/1000\n",
      "1/1 [==============================] - 0s 27ms/step - loss: 34721606139904.0000 - root_mean_squared_error: 5892504.0000 - val_loss: 194058718806016.0000 - val_root_mean_squared_error: 13930496.0000\n",
      "Epoch 383/1000\n",
      "1/1 [==============================] - 0s 24ms/step - loss: 34721606139904.0000 - root_mean_squared_error: 5892504.0000 - val_loss: 194058718806016.0000 - val_root_mean_squared_error: 13930496.0000\n",
      "Epoch 384/1000\n",
      "1/1 [==============================] - 0s 23ms/step - loss: 34721606139904.0000 - root_mean_squared_error: 5892504.0000 - val_loss: 194058718806016.0000 - val_root_mean_squared_error: 13930496.0000\n",
      "Epoch 385/1000\n",
      "1/1 [==============================] - 0s 23ms/step - loss: 34721606139904.0000 - root_mean_squared_error: 5892504.0000 - val_loss: 194048014942208.0000 - val_root_mean_squared_error: 13930112.0000\n",
      "Epoch 386/1000\n",
      "1/1 [==============================] - 0s 25ms/step - loss: 34721606139904.0000 - root_mean_squared_error: 5892504.0000 - val_loss: 194048014942208.0000 - val_root_mean_squared_error: 13930112.0000\n",
      "Epoch 387/1000\n",
      "1/1 [==============================] - 0s 23ms/step - loss: 34721606139904.0000 - root_mean_squared_error: 5892504.0000 - val_loss: 194048014942208.0000 - val_root_mean_squared_error: 13930112.0000\n",
      "Epoch 388/1000\n",
      "1/1 [==============================] - 0s 22ms/step - loss: 34721606139904.0000 - root_mean_squared_error: 5892504.0000 - val_loss: 194058718806016.0000 - val_root_mean_squared_error: 13930496.0000\n",
      "Epoch 389/1000\n",
      "1/1 [==============================] - 0s 23ms/step - loss: 34721606139904.0000 - root_mean_squared_error: 5892504.0000 - val_loss: 194058718806016.0000 - val_root_mean_squared_error: 13930496.0000\n",
      "Epoch 390/1000\n",
      "1/1 [==============================] - 0s 23ms/step - loss: 34721606139904.0000 - root_mean_squared_error: 5892504.0000 - val_loss: 194058718806016.0000 - val_root_mean_squared_error: 13930496.0000\n",
      "Epoch 391/1000\n",
      "1/1 [==============================] - 0s 29ms/step - loss: 34721606139904.0000 - root_mean_squared_error: 5892504.0000 - val_loss: 194048014942208.0000 - val_root_mean_squared_error: 13930112.0000\n",
      "Epoch 392/1000\n",
      "1/1 [==============================] - 0s 22ms/step - loss: 34721606139904.0000 - root_mean_squared_error: 5892504.0000 - val_loss: 194048014942208.0000 - val_root_mean_squared_error: 13930112.0000\n",
      "Epoch 393/1000\n",
      "1/1 [==============================] - 0s 23ms/step - loss: 34721606139904.0000 - root_mean_squared_error: 5892504.0000 - val_loss: 194048014942208.0000 - val_root_mean_squared_error: 13930112.0000\n",
      "Epoch 394/1000\n",
      "1/1 [==============================] - 0s 23ms/step - loss: 34721606139904.0000 - root_mean_squared_error: 5892504.0000 - val_loss: 194058718806016.0000 - val_root_mean_squared_error: 13930496.0000\n",
      "Epoch 395/1000\n",
      "1/1 [==============================] - 0s 24ms/step - loss: 34721606139904.0000 - root_mean_squared_error: 5892504.0000 - val_loss: 194058718806016.0000 - val_root_mean_squared_error: 13930496.0000\n",
      "Epoch 396/1000\n",
      "1/1 [==============================] - 0s 23ms/step - loss: 34721606139904.0000 - root_mean_squared_error: 5892504.0000 - val_loss: 194058718806016.0000 - val_root_mean_squared_error: 13930496.0000\n",
      "Epoch 397/1000\n",
      "1/1 [==============================] - 0s 25ms/step - loss: 34721606139904.0000 - root_mean_squared_error: 5892504.0000 - val_loss: 194048014942208.0000 - val_root_mean_squared_error: 13930112.0000\n",
      "Epoch 398/1000\n",
      "1/1 [==============================] - 0s 23ms/step - loss: 34721606139904.0000 - root_mean_squared_error: 5892504.0000 - val_loss: 194048014942208.0000 - val_root_mean_squared_error: 13930112.0000\n",
      "Epoch 399/1000\n",
      "1/1 [==============================] - 0s 23ms/step - loss: 34721606139904.0000 - root_mean_squared_error: 5892504.0000 - val_loss: 194048014942208.0000 - val_root_mean_squared_error: 13930112.0000\n",
      "Epoch 400/1000\n",
      "1/1 [==============================] - 0s 46ms/step - loss: 34721606139904.0000 - root_mean_squared_error: 5892504.0000 - val_loss: 194058718806016.0000 - val_root_mean_squared_error: 13930496.0000\n",
      "Epoch 401/1000\n",
      "1/1 [==============================] - 0s 31ms/step - loss: 34721606139904.0000 - root_mean_squared_error: 5892504.0000 - val_loss: 194058718806016.0000 - val_root_mean_squared_error: 13930496.0000\n",
      "Epoch 402/1000\n",
      "1/1 [==============================] - 0s 33ms/step - loss: 34721606139904.0000 - root_mean_squared_error: 5892504.0000 - val_loss: 194058718806016.0000 - val_root_mean_squared_error: 13930496.0000\n",
      "Epoch 403/1000\n",
      "1/1 [==============================] - 0s 27ms/step - loss: 34721606139904.0000 - root_mean_squared_error: 5892504.0000 - val_loss: 194048014942208.0000 - val_root_mean_squared_error: 13930112.0000\n",
      "Epoch 404/1000\n",
      "1/1 [==============================] - 0s 28ms/step - loss: 34721606139904.0000 - root_mean_squared_error: 5892504.0000 - val_loss: 194048014942208.0000 - val_root_mean_squared_error: 13930112.0000\n",
      "Epoch 405/1000\n",
      "1/1 [==============================] - 0s 23ms/step - loss: 34721606139904.0000 - root_mean_squared_error: 5892504.0000 - val_loss: 194048014942208.0000 - val_root_mean_squared_error: 13930112.0000\n",
      "Epoch 406/1000\n",
      "1/1 [==============================] - 0s 24ms/step - loss: 34721606139904.0000 - root_mean_squared_error: 5892504.0000 - val_loss: 194058718806016.0000 - val_root_mean_squared_error: 13930496.0000\n",
      "Epoch 407/1000\n",
      "1/1 [==============================] - 0s 25ms/step - loss: 34721606139904.0000 - root_mean_squared_error: 5892504.0000 - val_loss: 194058718806016.0000 - val_root_mean_squared_error: 13930496.0000\n",
      "Epoch 408/1000\n",
      "1/1 [==============================] - 0s 24ms/step - loss: 34721606139904.0000 - root_mean_squared_error: 5892504.0000 - val_loss: 194058718806016.0000 - val_root_mean_squared_error: 13930496.0000\n",
      "Epoch 409/1000\n",
      "1/1 [==============================] - 0s 24ms/step - loss: 34721606139904.0000 - root_mean_squared_error: 5892504.0000 - val_loss: 194048014942208.0000 - val_root_mean_squared_error: 13930112.0000\n",
      "Epoch 410/1000\n",
      "1/1 [==============================] - 0s 28ms/step - loss: 34721606139904.0000 - root_mean_squared_error: 5892504.0000 - val_loss: 194048014942208.0000 - val_root_mean_squared_error: 13930112.0000\n",
      "Epoch 411/1000\n",
      "1/1 [==============================] - 0s 22ms/step - loss: 34721606139904.0000 - root_mean_squared_error: 5892504.0000 - val_loss: 194048014942208.0000 - val_root_mean_squared_error: 13930112.0000\n",
      "Epoch 412/1000\n",
      "1/1 [==============================] - 0s 22ms/step - loss: 34721606139904.0000 - root_mean_squared_error: 5892504.0000 - val_loss: 194058718806016.0000 - val_root_mean_squared_error: 13930496.0000\n",
      "Epoch 413/1000\n",
      "1/1 [==============================] - 0s 22ms/step - loss: 34721606139904.0000 - root_mean_squared_error: 5892504.0000 - val_loss: 194058718806016.0000 - val_root_mean_squared_error: 13930496.0000\n",
      "Epoch 414/1000\n",
      "1/1 [==============================] - 0s 25ms/step - loss: 34721606139904.0000 - root_mean_squared_error: 5892504.0000 - val_loss: 194058718806016.0000 - val_root_mean_squared_error: 13930496.0000\n",
      "Epoch 415/1000\n",
      "1/1 [==============================] - 0s 24ms/step - loss: 34721606139904.0000 - root_mean_squared_error: 5892504.0000 - val_loss: 194048014942208.0000 - val_root_mean_squared_error: 13930112.0000\n",
      "Epoch 416/1000\n",
      "1/1 [==============================] - 0s 23ms/step - loss: 34721606139904.0000 - root_mean_squared_error: 5892504.0000 - val_loss: 194048014942208.0000 - val_root_mean_squared_error: 13930112.0000\n",
      "Epoch 417/1000\n",
      "1/1 [==============================] - 0s 25ms/step - loss: 34721606139904.0000 - root_mean_squared_error: 5892504.0000 - val_loss: 194048014942208.0000 - val_root_mean_squared_error: 13930112.0000\n",
      "Epoch 418/1000\n",
      "1/1 [==============================] - 0s 22ms/step - loss: 34721606139904.0000 - root_mean_squared_error: 5892504.0000 - val_loss: 194058718806016.0000 - val_root_mean_squared_error: 13930496.0000\n",
      "Epoch 419/1000\n",
      "1/1 [==============================] - 0s 23ms/step - loss: 34721606139904.0000 - root_mean_squared_error: 5892504.0000 - val_loss: 194058718806016.0000 - val_root_mean_squared_error: 13930496.0000\n",
      "Epoch 420/1000\n",
      "1/1 [==============================] - 0s 25ms/step - loss: 34721606139904.0000 - root_mean_squared_error: 5892504.0000 - val_loss: 194058718806016.0000 - val_root_mean_squared_error: 13930496.0000\n",
      "Epoch 421/1000\n",
      "1/1 [==============================] - 0s 24ms/step - loss: 34721606139904.0000 - root_mean_squared_error: 5892504.0000 - val_loss: 194048014942208.0000 - val_root_mean_squared_error: 13930112.0000\n",
      "Epoch 422/1000\n",
      "1/1 [==============================] - 0s 25ms/step - loss: 34721606139904.0000 - root_mean_squared_error: 5892504.0000 - val_loss: 194048014942208.0000 - val_root_mean_squared_error: 13930112.0000\n",
      "Epoch 423/1000\n",
      "1/1 [==============================] - 0s 24ms/step - loss: 34721606139904.0000 - root_mean_squared_error: 5892504.0000 - val_loss: 194048014942208.0000 - val_root_mean_squared_error: 13930112.0000\n",
      "Epoch 424/1000\n",
      "1/1 [==============================] - 0s 23ms/step - loss: 34721606139904.0000 - root_mean_squared_error: 5892504.0000 - val_loss: 194058718806016.0000 - val_root_mean_squared_error: 13930496.0000\n",
      "Epoch 425/1000\n",
      "1/1 [==============================] - 0s 23ms/step - loss: 34721606139904.0000 - root_mean_squared_error: 5892504.0000 - val_loss: 194058718806016.0000 - val_root_mean_squared_error: 13930496.0000\n",
      "Epoch 426/1000\n",
      "1/1 [==============================] - 0s 25ms/step - loss: 34721606139904.0000 - root_mean_squared_error: 5892504.0000 - val_loss: 194058718806016.0000 - val_root_mean_squared_error: 13930496.0000\n",
      "Epoch 427/1000\n",
      "1/1 [==============================] - 0s 24ms/step - loss: 34721606139904.0000 - root_mean_squared_error: 5892504.0000 - val_loss: 194048014942208.0000 - val_root_mean_squared_error: 13930112.0000\n",
      "Epoch 428/1000\n",
      "1/1 [==============================] - 0s 23ms/step - loss: 34721606139904.0000 - root_mean_squared_error: 5892504.0000 - val_loss: 194048014942208.0000 - val_root_mean_squared_error: 13930112.0000\n",
      "Epoch 429/1000\n",
      "1/1 [==============================] - 0s 22ms/step - loss: 34721606139904.0000 - root_mean_squared_error: 5892504.0000 - val_loss: 194048014942208.0000 - val_root_mean_squared_error: 13930112.0000\n",
      "Epoch 430/1000\n",
      "1/1 [==============================] - 0s 25ms/step - loss: 34721606139904.0000 - root_mean_squared_error: 5892504.0000 - val_loss: 194058718806016.0000 - val_root_mean_squared_error: 13930496.0000\n",
      "Epoch 431/1000\n",
      "1/1 [==============================] - 0s 22ms/step - loss: 34721606139904.0000 - root_mean_squared_error: 5892504.0000 - val_loss: 194058718806016.0000 - val_root_mean_squared_error: 13930496.0000\n",
      "Epoch 432/1000\n",
      "1/1 [==============================] - 0s 22ms/step - loss: 34721606139904.0000 - root_mean_squared_error: 5892504.0000 - val_loss: 194058718806016.0000 - val_root_mean_squared_error: 13930496.0000\n",
      "Epoch 433/1000\n",
      "1/1 [==============================] - 0s 22ms/step - loss: 34721606139904.0000 - root_mean_squared_error: 5892504.0000 - val_loss: 194048014942208.0000 - val_root_mean_squared_error: 13930112.0000\n",
      "Epoch 434/1000\n",
      "1/1 [==============================] - 0s 25ms/step - loss: 34721606139904.0000 - root_mean_squared_error: 5892504.0000 - val_loss: 194048014942208.0000 - val_root_mean_squared_error: 13930112.0000\n",
      "Epoch 435/1000\n",
      "1/1 [==============================] - 0s 22ms/step - loss: 34721606139904.0000 - root_mean_squared_error: 5892504.0000 - val_loss: 194048014942208.0000 - val_root_mean_squared_error: 13930112.0000\n",
      "Epoch 436/1000\n",
      "1/1 [==============================] - 0s 24ms/step - loss: 34721606139904.0000 - root_mean_squared_error: 5892504.0000 - val_loss: 194058718806016.0000 - val_root_mean_squared_error: 13930496.0000\n",
      "Epoch 437/1000\n",
      "1/1 [==============================] - 0s 25ms/step - loss: 34721606139904.0000 - root_mean_squared_error: 5892504.0000 - val_loss: 194058718806016.0000 - val_root_mean_squared_error: 13930496.0000\n",
      "Epoch 438/1000\n",
      "1/1 [==============================] - 0s 26ms/step - loss: 34721606139904.0000 - root_mean_squared_error: 5892504.0000 - val_loss: 194058718806016.0000 - val_root_mean_squared_error: 13930496.0000\n",
      "Epoch 439/1000\n",
      "1/1 [==============================] - 0s 31ms/step - loss: 34721606139904.0000 - root_mean_squared_error: 5892504.0000 - val_loss: 194048014942208.0000 - val_root_mean_squared_error: 13930112.0000\n",
      "Epoch 440/1000\n",
      "1/1 [==============================] - 0s 24ms/step - loss: 34721606139904.0000 - root_mean_squared_error: 5892504.0000 - val_loss: 194048014942208.0000 - val_root_mean_squared_error: 13930112.0000\n",
      "Epoch 441/1000\n",
      "1/1 [==============================] - 0s 27ms/step - loss: 34721606139904.0000 - root_mean_squared_error: 5892504.0000 - val_loss: 194048014942208.0000 - val_root_mean_squared_error: 13930112.0000\n",
      "Epoch 442/1000\n",
      "1/1 [==============================] - 0s 23ms/step - loss: 34721606139904.0000 - root_mean_squared_error: 5892504.0000 - val_loss: 194058718806016.0000 - val_root_mean_squared_error: 13930496.0000\n",
      "Epoch 443/1000\n",
      "1/1 [==============================] - 0s 22ms/step - loss: 34721606139904.0000 - root_mean_squared_error: 5892504.0000 - val_loss: 194058718806016.0000 - val_root_mean_squared_error: 13930496.0000\n",
      "Epoch 444/1000\n",
      "1/1 [==============================] - 0s 22ms/step - loss: 34721606139904.0000 - root_mean_squared_error: 5892504.0000 - val_loss: 194058718806016.0000 - val_root_mean_squared_error: 13930496.0000\n",
      "Epoch 445/1000\n",
      "1/1 [==============================] - 0s 28ms/step - loss: 34721606139904.0000 - root_mean_squared_error: 5892504.0000 - val_loss: 194048014942208.0000 - val_root_mean_squared_error: 13930112.0000\n",
      "Epoch 446/1000\n",
      "1/1 [==============================] - 0s 22ms/step - loss: 34721606139904.0000 - root_mean_squared_error: 5892504.0000 - val_loss: 194048014942208.0000 - val_root_mean_squared_error: 13930112.0000\n",
      "Epoch 447/1000\n",
      "1/1 [==============================] - 0s 23ms/step - loss: 34721606139904.0000 - root_mean_squared_error: 5892504.0000 - val_loss: 194048014942208.0000 - val_root_mean_squared_error: 13930112.0000\n",
      "Epoch 448/1000\n",
      "1/1 [==============================] - 0s 24ms/step - loss: 34721606139904.0000 - root_mean_squared_error: 5892504.0000 - val_loss: 194058718806016.0000 - val_root_mean_squared_error: 13930496.0000\n",
      "Epoch 449/1000\n",
      "1/1 [==============================] - 0s 27ms/step - loss: 34721606139904.0000 - root_mean_squared_error: 5892504.0000 - val_loss: 194058718806016.0000 - val_root_mean_squared_error: 13930496.0000\n",
      "Epoch 450/1000\n",
      "1/1 [==============================] - 0s 23ms/step - loss: 34721606139904.0000 - root_mean_squared_error: 5892504.0000 - val_loss: 194058718806016.0000 - val_root_mean_squared_error: 13930496.0000\n",
      "Epoch 451/1000\n",
      "1/1 [==============================] - 0s 23ms/step - loss: 34721606139904.0000 - root_mean_squared_error: 5892504.0000 - val_loss: 194048014942208.0000 - val_root_mean_squared_error: 13930112.0000\n",
      "Epoch 452/1000\n",
      "1/1 [==============================] - 0s 23ms/step - loss: 34721606139904.0000 - root_mean_squared_error: 5892504.0000 - val_loss: 194048014942208.0000 - val_root_mean_squared_error: 13930112.0000\n",
      "Epoch 453/1000\n",
      "1/1 [==============================] - 0s 26ms/step - loss: 34721606139904.0000 - root_mean_squared_error: 5892504.0000 - val_loss: 194048014942208.0000 - val_root_mean_squared_error: 13930112.0000\n",
      "Epoch 454/1000\n",
      "1/1 [==============================] - 0s 23ms/step - loss: 34721606139904.0000 - root_mean_squared_error: 5892504.0000 - val_loss: 194058718806016.0000 - val_root_mean_squared_error: 13930496.0000\n",
      "Epoch 455/1000\n",
      "1/1 [==============================] - 0s 24ms/step - loss: 34721606139904.0000 - root_mean_squared_error: 5892504.0000 - val_loss: 194058718806016.0000 - val_root_mean_squared_error: 13930496.0000\n",
      "Epoch 456/1000\n",
      "1/1 [==============================] - 0s 23ms/step - loss: 34721606139904.0000 - root_mean_squared_error: 5892504.0000 - val_loss: 194058718806016.0000 - val_root_mean_squared_error: 13930496.0000\n",
      "Epoch 457/1000\n",
      "1/1 [==============================] - 0s 27ms/step - loss: 34721606139904.0000 - root_mean_squared_error: 5892504.0000 - val_loss: 194048014942208.0000 - val_root_mean_squared_error: 13930112.0000\n",
      "Epoch 458/1000\n",
      "1/1 [==============================] - 0s 24ms/step - loss: 34721606139904.0000 - root_mean_squared_error: 5892504.0000 - val_loss: 194048014942208.0000 - val_root_mean_squared_error: 13930112.0000\n",
      "Epoch 459/1000\n",
      "1/1 [==============================] - 0s 23ms/step - loss: 34721606139904.0000 - root_mean_squared_error: 5892504.0000 - val_loss: 194048014942208.0000 - val_root_mean_squared_error: 13930112.0000\n",
      "Epoch 460/1000\n",
      "1/1 [==============================] - 0s 23ms/step - loss: 34721606139904.0000 - root_mean_squared_error: 5892504.0000 - val_loss: 194058718806016.0000 - val_root_mean_squared_error: 13930496.0000\n",
      "Epoch 461/1000\n",
      "1/1 [==============================] - 0s 26ms/step - loss: 34721606139904.0000 - root_mean_squared_error: 5892504.0000 - val_loss: 194058718806016.0000 - val_root_mean_squared_error: 13930496.0000\n",
      "Epoch 462/1000\n",
      "1/1 [==============================] - 0s 24ms/step - loss: 34721606139904.0000 - root_mean_squared_error: 5892504.0000 - val_loss: 194058718806016.0000 - val_root_mean_squared_error: 13930496.0000\n",
      "Epoch 463/1000\n",
      "1/1 [==============================] - 0s 23ms/step - loss: 34721606139904.0000 - root_mean_squared_error: 5892504.0000 - val_loss: 194048014942208.0000 - val_root_mean_squared_error: 13930112.0000\n",
      "Epoch 464/1000\n",
      "1/1 [==============================] - 0s 25ms/step - loss: 34721606139904.0000 - root_mean_squared_error: 5892504.0000 - val_loss: 194048014942208.0000 - val_root_mean_squared_error: 13930112.0000\n",
      "Epoch 465/1000\n",
      "1/1 [==============================] - 0s 22ms/step - loss: 34721606139904.0000 - root_mean_squared_error: 5892504.0000 - val_loss: 194048014942208.0000 - val_root_mean_squared_error: 13930112.0000\n",
      "Epoch 466/1000\n",
      "1/1 [==============================] - 0s 23ms/step - loss: 34721606139904.0000 - root_mean_squared_error: 5892504.0000 - val_loss: 194058718806016.0000 - val_root_mean_squared_error: 13930496.0000\n",
      "Epoch 467/1000\n",
      "1/1 [==============================] - 0s 24ms/step - loss: 34721606139904.0000 - root_mean_squared_error: 5892504.0000 - val_loss: 194058718806016.0000 - val_root_mean_squared_error: 13930496.0000\n",
      "Epoch 468/1000\n",
      "1/1 [==============================] - 0s 23ms/step - loss: 34721606139904.0000 - root_mean_squared_error: 5892504.0000 - val_loss: 194058718806016.0000 - val_root_mean_squared_error: 13930496.0000\n",
      "Epoch 469/1000\n",
      "1/1 [==============================] - 0s 22ms/step - loss: 34721606139904.0000 - root_mean_squared_error: 5892504.0000 - val_loss: 194048014942208.0000 - val_root_mean_squared_error: 13930112.0000\n",
      "Epoch 470/1000\n",
      "1/1 [==============================] - 0s 23ms/step - loss: 34721606139904.0000 - root_mean_squared_error: 5892504.0000 - val_loss: 194048014942208.0000 - val_root_mean_squared_error: 13930112.0000\n",
      "Epoch 471/1000\n",
      "1/1 [==============================] - 0s 28ms/step - loss: 34721606139904.0000 - root_mean_squared_error: 5892504.0000 - val_loss: 194048014942208.0000 - val_root_mean_squared_error: 13930112.0000\n",
      "Epoch 472/1000\n",
      "1/1 [==============================] - 0s 22ms/step - loss: 34721606139904.0000 - root_mean_squared_error: 5892504.0000 - val_loss: 194058718806016.0000 - val_root_mean_squared_error: 13930496.0000\n",
      "Epoch 473/1000\n",
      "1/1 [==============================] - 0s 23ms/step - loss: 34721606139904.0000 - root_mean_squared_error: 5892504.0000 - val_loss: 194058718806016.0000 - val_root_mean_squared_error: 13930496.0000\n",
      "Epoch 474/1000\n",
      "1/1 [==============================] - 0s 22ms/step - loss: 34721606139904.0000 - root_mean_squared_error: 5892504.0000 - val_loss: 194058718806016.0000 - val_root_mean_squared_error: 13930496.0000\n",
      "Epoch 475/1000\n",
      "1/1 [==============================] - 0s 23ms/step - loss: 34721606139904.0000 - root_mean_squared_error: 5892504.0000 - val_loss: 194048014942208.0000 - val_root_mean_squared_error: 13930112.0000\n",
      "Epoch 476/1000\n",
      "1/1 [==============================] - 0s 23ms/step - loss: 34721606139904.0000 - root_mean_squared_error: 5892504.0000 - val_loss: 194048014942208.0000 - val_root_mean_squared_error: 13930112.0000\n",
      "Epoch 477/1000\n",
      "1/1 [==============================] - 0s 22ms/step - loss: 34721606139904.0000 - root_mean_squared_error: 5892504.0000 - val_loss: 194048014942208.0000 - val_root_mean_squared_error: 13930112.0000\n",
      "Epoch 478/1000\n",
      "1/1 [==============================] - 0s 23ms/step - loss: 34721606139904.0000 - root_mean_squared_error: 5892504.0000 - val_loss: 194058718806016.0000 - val_root_mean_squared_error: 13930496.0000\n",
      "Epoch 479/1000\n",
      "1/1 [==============================] - 0s 23ms/step - loss: 34721606139904.0000 - root_mean_squared_error: 5892504.0000 - val_loss: 194058718806016.0000 - val_root_mean_squared_error: 13930496.0000\n",
      "Epoch 480/1000\n",
      "1/1 [==============================] - 0s 23ms/step - loss: 34721606139904.0000 - root_mean_squared_error: 5892504.0000 - val_loss: 194058718806016.0000 - val_root_mean_squared_error: 13930496.0000\n",
      "Epoch 481/1000\n",
      "1/1 [==============================] - 0s 23ms/step - loss: 34721606139904.0000 - root_mean_squared_error: 5892504.0000 - val_loss: 194048014942208.0000 - val_root_mean_squared_error: 13930112.0000\n",
      "Epoch 482/1000\n",
      "1/1 [==============================] - 0s 23ms/step - loss: 34721606139904.0000 - root_mean_squared_error: 5892504.0000 - val_loss: 194048014942208.0000 - val_root_mean_squared_error: 13930112.0000\n",
      "Epoch 483/1000\n",
      "1/1 [==============================] - 0s 22ms/step - loss: 34721606139904.0000 - root_mean_squared_error: 5892504.0000 - val_loss: 194048014942208.0000 - val_root_mean_squared_error: 13930112.0000\n",
      "Epoch 484/1000\n",
      "1/1 [==============================] - 0s 27ms/step - loss: 34721606139904.0000 - root_mean_squared_error: 5892504.0000 - val_loss: 194058718806016.0000 - val_root_mean_squared_error: 13930496.0000\n",
      "Epoch 485/1000\n",
      "1/1 [==============================] - 0s 23ms/step - loss: 34721606139904.0000 - root_mean_squared_error: 5892504.0000 - val_loss: 194058718806016.0000 - val_root_mean_squared_error: 13930496.0000\n",
      "Epoch 486/1000\n",
      "1/1 [==============================] - 0s 26ms/step - loss: 34721606139904.0000 - root_mean_squared_error: 5892504.0000 - val_loss: 194058718806016.0000 - val_root_mean_squared_error: 13930496.0000\n",
      "Epoch 487/1000\n",
      "1/1 [==============================] - 0s 26ms/step - loss: 34721606139904.0000 - root_mean_squared_error: 5892504.0000 - val_loss: 194048014942208.0000 - val_root_mean_squared_error: 13930112.0000\n",
      "Epoch 488/1000\n",
      "1/1 [==============================] - 0s 23ms/step - loss: 34721606139904.0000 - root_mean_squared_error: 5892504.0000 - val_loss: 194048014942208.0000 - val_root_mean_squared_error: 13930112.0000\n",
      "Epoch 489/1000\n",
      "1/1 [==============================] - 0s 24ms/step - loss: 34721606139904.0000 - root_mean_squared_error: 5892504.0000 - val_loss: 194048014942208.0000 - val_root_mean_squared_error: 13930112.0000\n",
      "Epoch 490/1000\n",
      "1/1 [==============================] - 0s 30ms/step - loss: 34721606139904.0000 - root_mean_squared_error: 5892504.0000 - val_loss: 194058718806016.0000 - val_root_mean_squared_error: 13930496.0000\n",
      "Epoch 491/1000\n",
      "1/1 [==============================] - 0s 25ms/step - loss: 34721606139904.0000 - root_mean_squared_error: 5892504.0000 - val_loss: 194058718806016.0000 - val_root_mean_squared_error: 13930496.0000\n",
      "Epoch 492/1000\n",
      "1/1 [==============================] - 0s 23ms/step - loss: 34721606139904.0000 - root_mean_squared_error: 5892504.0000 - val_loss: 194058718806016.0000 - val_root_mean_squared_error: 13930496.0000\n",
      "Epoch 493/1000\n",
      "1/1 [==============================] - 0s 22ms/step - loss: 34721606139904.0000 - root_mean_squared_error: 5892504.0000 - val_loss: 194048014942208.0000 - val_root_mean_squared_error: 13930112.0000\n",
      "Epoch 494/1000\n",
      "1/1 [==============================] - 0s 23ms/step - loss: 34721606139904.0000 - root_mean_squared_error: 5892504.0000 - val_loss: 194048014942208.0000 - val_root_mean_squared_error: 13930112.0000\n",
      "Epoch 495/1000\n",
      "1/1 [==============================] - 0s 24ms/step - loss: 34721606139904.0000 - root_mean_squared_error: 5892504.0000 - val_loss: 194048014942208.0000 - val_root_mean_squared_error: 13930112.0000\n",
      "Epoch 496/1000\n",
      "1/1 [==============================] - 0s 23ms/step - loss: 34721606139904.0000 - root_mean_squared_error: 5892504.0000 - val_loss: 194058718806016.0000 - val_root_mean_squared_error: 13930496.0000\n",
      "Epoch 497/1000\n",
      "1/1 [==============================] - 0s 22ms/step - loss: 34721606139904.0000 - root_mean_squared_error: 5892504.0000 - val_loss: 194058718806016.0000 - val_root_mean_squared_error: 13930496.0000\n",
      "Epoch 498/1000\n",
      "1/1 [==============================] - 0s 24ms/step - loss: 34721606139904.0000 - root_mean_squared_error: 5892504.0000 - val_loss: 194058718806016.0000 - val_root_mean_squared_error: 13930496.0000\n",
      "Epoch 499/1000\n",
      "1/1 [==============================] - 0s 23ms/step - loss: 34721606139904.0000 - root_mean_squared_error: 5892504.0000 - val_loss: 194048014942208.0000 - val_root_mean_squared_error: 13930112.0000\n",
      "Epoch 500/1000\n",
      "1/1 [==============================] - 0s 23ms/step - loss: 34721606139904.0000 - root_mean_squared_error: 5892504.0000 - val_loss: 194048014942208.0000 - val_root_mean_squared_error: 13930112.0000\n",
      "Epoch 501/1000\n",
      "1/1 [==============================] - 0s 22ms/step - loss: 34721606139904.0000 - root_mean_squared_error: 5892504.0000 - val_loss: 194048014942208.0000 - val_root_mean_squared_error: 13930112.0000\n",
      "Epoch 502/1000\n",
      "1/1 [==============================] - 0s 24ms/step - loss: 34721606139904.0000 - root_mean_squared_error: 5892504.0000 - val_loss: 194058718806016.0000 - val_root_mean_squared_error: 13930496.0000\n",
      "Epoch 503/1000\n",
      "1/1 [==============================] - 0s 23ms/step - loss: 34721606139904.0000 - root_mean_squared_error: 5892504.0000 - val_loss: 194058718806016.0000 - val_root_mean_squared_error: 13930496.0000\n",
      "Epoch 504/1000\n",
      "1/1 [==============================] - 0s 23ms/step - loss: 34721606139904.0000 - root_mean_squared_error: 5892504.0000 - val_loss: 194058718806016.0000 - val_root_mean_squared_error: 13930496.0000\n",
      "Epoch 505/1000\n",
      "1/1 [==============================] - 0s 23ms/step - loss: 34721606139904.0000 - root_mean_squared_error: 5892504.0000 - val_loss: 194048014942208.0000 - val_root_mean_squared_error: 13930112.0000\n",
      "Epoch 506/1000\n",
      "1/1 [==============================] - 0s 28ms/step - loss: 34721606139904.0000 - root_mean_squared_error: 5892504.0000 - val_loss: 194048014942208.0000 - val_root_mean_squared_error: 13930112.0000\n",
      "Epoch 507/1000\n",
      "1/1 [==============================] - 0s 23ms/step - loss: 34721606139904.0000 - root_mean_squared_error: 5892504.0000 - val_loss: 194048014942208.0000 - val_root_mean_squared_error: 13930112.0000\n",
      "Epoch 508/1000\n",
      "1/1 [==============================] - 0s 23ms/step - loss: 34721606139904.0000 - root_mean_squared_error: 5892504.0000 - val_loss: 194058718806016.0000 - val_root_mean_squared_error: 13930496.0000\n",
      "Epoch 509/1000\n",
      "1/1 [==============================] - 0s 24ms/step - loss: 34721606139904.0000 - root_mean_squared_error: 5892504.0000 - val_loss: 194058718806016.0000 - val_root_mean_squared_error: 13930496.0000\n",
      "Epoch 510/1000\n",
      "1/1 [==============================] - 0s 46ms/step - loss: 34721606139904.0000 - root_mean_squared_error: 5892504.0000 - val_loss: 194058718806016.0000 - val_root_mean_squared_error: 13930496.0000\n",
      "Epoch 511/1000\n",
      "1/1 [==============================] - 0s 61ms/step - loss: 34721606139904.0000 - root_mean_squared_error: 5892504.0000 - val_loss: 194048014942208.0000 - val_root_mean_squared_error: 13930112.0000\n",
      "Epoch 512/1000\n",
      "1/1 [==============================] - 0s 35ms/step - loss: 34721606139904.0000 - root_mean_squared_error: 5892504.0000 - val_loss: 194048014942208.0000 - val_root_mean_squared_error: 13930112.0000\n",
      "Epoch 513/1000\n",
      "1/1 [==============================] - 0s 30ms/step - loss: 34721606139904.0000 - root_mean_squared_error: 5892504.0000 - val_loss: 194048014942208.0000 - val_root_mean_squared_error: 13930112.0000\n",
      "Epoch 514/1000\n",
      "1/1 [==============================] - 0s 25ms/step - loss: 34721606139904.0000 - root_mean_squared_error: 5892504.0000 - val_loss: 194058718806016.0000 - val_root_mean_squared_error: 13930496.0000\n",
      "Epoch 515/1000\n",
      "1/1 [==============================] - 0s 23ms/step - loss: 34721606139904.0000 - root_mean_squared_error: 5892504.0000 - val_loss: 194058718806016.0000 - val_root_mean_squared_error: 13930496.0000\n",
      "Epoch 516/1000\n",
      "1/1 [==============================] - 0s 23ms/step - loss: 34721606139904.0000 - root_mean_squared_error: 5892504.0000 - val_loss: 194058718806016.0000 - val_root_mean_squared_error: 13930496.0000\n",
      "Epoch 517/1000\n",
      "1/1 [==============================] - 0s 29ms/step - loss: 34721606139904.0000 - root_mean_squared_error: 5892504.0000 - val_loss: 194048014942208.0000 - val_root_mean_squared_error: 13930112.0000\n",
      "Epoch 518/1000\n",
      "1/1 [==============================] - 0s 25ms/step - loss: 34721606139904.0000 - root_mean_squared_error: 5892504.0000 - val_loss: 194048014942208.0000 - val_root_mean_squared_error: 13930112.0000\n",
      "Epoch 519/1000\n",
      "1/1 [==============================] - 0s 25ms/step - loss: 34721606139904.0000 - root_mean_squared_error: 5892504.0000 - val_loss: 194048014942208.0000 - val_root_mean_squared_error: 13930112.0000\n",
      "Epoch 520/1000\n",
      "1/1 [==============================] - 0s 23ms/step - loss: 34721606139904.0000 - root_mean_squared_error: 5892504.0000 - val_loss: 194058718806016.0000 - val_root_mean_squared_error: 13930496.0000\n",
      "Epoch 521/1000\n",
      "1/1 [==============================] - 0s 24ms/step - loss: 34721606139904.0000 - root_mean_squared_error: 5892504.0000 - val_loss: 194058718806016.0000 - val_root_mean_squared_error: 13930496.0000\n",
      "Epoch 522/1000\n",
      "1/1 [==============================] - 0s 23ms/step - loss: 34721606139904.0000 - root_mean_squared_error: 5892504.0000 - val_loss: 194058718806016.0000 - val_root_mean_squared_error: 13930496.0000\n",
      "Epoch 523/1000\n",
      "1/1 [==============================] - 0s 23ms/step - loss: 34721606139904.0000 - root_mean_squared_error: 5892504.0000 - val_loss: 194048014942208.0000 - val_root_mean_squared_error: 13930112.0000\n",
      "Epoch 524/1000\n",
      "1/1 [==============================] - 0s 22ms/step - loss: 34721606139904.0000 - root_mean_squared_error: 5892504.0000 - val_loss: 194048014942208.0000 - val_root_mean_squared_error: 13930112.0000\n",
      "Epoch 525/1000\n",
      "1/1 [==============================] - 0s 24ms/step - loss: 34721606139904.0000 - root_mean_squared_error: 5892504.0000 - val_loss: 194048014942208.0000 - val_root_mean_squared_error: 13930112.0000\n",
      "Epoch 526/1000\n",
      "1/1 [==============================] - 0s 23ms/step - loss: 34721606139904.0000 - root_mean_squared_error: 5892504.0000 - val_loss: 194058718806016.0000 - val_root_mean_squared_error: 13930496.0000\n",
      "Epoch 527/1000\n",
      "1/1 [==============================] - 0s 24ms/step - loss: 34721606139904.0000 - root_mean_squared_error: 5892504.0000 - val_loss: 194058718806016.0000 - val_root_mean_squared_error: 13930496.0000\n",
      "Epoch 528/1000\n",
      "1/1 [==============================] - 0s 24ms/step - loss: 34721606139904.0000 - root_mean_squared_error: 5892504.0000 - val_loss: 194058718806016.0000 - val_root_mean_squared_error: 13930496.0000\n",
      "Epoch 529/1000\n",
      "1/1 [==============================] - 0s 26ms/step - loss: 34721606139904.0000 - root_mean_squared_error: 5892504.0000 - val_loss: 194048014942208.0000 - val_root_mean_squared_error: 13930112.0000\n",
      "Epoch 530/1000\n",
      "1/1 [==============================] - 0s 24ms/step - loss: 34721606139904.0000 - root_mean_squared_error: 5892504.0000 - val_loss: 194048014942208.0000 - val_root_mean_squared_error: 13930112.0000\n",
      "Epoch 531/1000\n",
      "1/1 [==============================] - 0s 23ms/step - loss: 34721606139904.0000 - root_mean_squared_error: 5892504.0000 - val_loss: 194048014942208.0000 - val_root_mean_squared_error: 13930112.0000\n",
      "Epoch 532/1000\n",
      "1/1 [==============================] - 0s 24ms/step - loss: 34721606139904.0000 - root_mean_squared_error: 5892504.0000 - val_loss: 194058718806016.0000 - val_root_mean_squared_error: 13930496.0000\n",
      "Epoch 533/1000\n",
      "1/1 [==============================] - 0s 23ms/step - loss: 34721606139904.0000 - root_mean_squared_error: 5892504.0000 - val_loss: 194058718806016.0000 - val_root_mean_squared_error: 13930496.0000\n",
      "Epoch 534/1000\n",
      "1/1 [==============================] - 0s 23ms/step - loss: 34721606139904.0000 - root_mean_squared_error: 5892504.0000 - val_loss: 194058718806016.0000 - val_root_mean_squared_error: 13930496.0000\n",
      "Epoch 535/1000\n",
      "1/1 [==============================] - 0s 23ms/step - loss: 34721606139904.0000 - root_mean_squared_error: 5892504.0000 - val_loss: 194048014942208.0000 - val_root_mean_squared_error: 13930112.0000\n",
      "Epoch 536/1000\n",
      "1/1 [==============================] - 0s 27ms/step - loss: 34721606139904.0000 - root_mean_squared_error: 5892504.0000 - val_loss: 194048014942208.0000 - val_root_mean_squared_error: 13930112.0000\n",
      "Epoch 537/1000\n",
      "1/1 [==============================] - 0s 28ms/step - loss: 34721606139904.0000 - root_mean_squared_error: 5892504.0000 - val_loss: 194048014942208.0000 - val_root_mean_squared_error: 13930112.0000\n",
      "Epoch 538/1000\n",
      "1/1 [==============================] - 0s 23ms/step - loss: 34721606139904.0000 - root_mean_squared_error: 5892504.0000 - val_loss: 194058718806016.0000 - val_root_mean_squared_error: 13930496.0000\n",
      "Epoch 539/1000\n",
      "1/1 [==============================] - 0s 23ms/step - loss: 34721606139904.0000 - root_mean_squared_error: 5892504.0000 - val_loss: 194058718806016.0000 - val_root_mean_squared_error: 13930496.0000\n",
      "Epoch 540/1000\n",
      "1/1 [==============================] - 0s 24ms/step - loss: 34721606139904.0000 - root_mean_squared_error: 5892504.0000 - val_loss: 194058718806016.0000 - val_root_mean_squared_error: 13930496.0000\n",
      "Epoch 541/1000\n",
      "1/1 [==============================] - 0s 24ms/step - loss: 34721606139904.0000 - root_mean_squared_error: 5892504.0000 - val_loss: 194048014942208.0000 - val_root_mean_squared_error: 13930112.0000\n",
      "Epoch 542/1000\n",
      "1/1 [==============================] - 0s 25ms/step - loss: 34721606139904.0000 - root_mean_squared_error: 5892504.0000 - val_loss: 194048014942208.0000 - val_root_mean_squared_error: 13930112.0000\n",
      "Epoch 543/1000\n",
      "1/1 [==============================] - 0s 22ms/step - loss: 34721606139904.0000 - root_mean_squared_error: 5892504.0000 - val_loss: 194048014942208.0000 - val_root_mean_squared_error: 13930112.0000\n",
      "Epoch 544/1000\n",
      "1/1 [==============================] - 0s 23ms/step - loss: 34721606139904.0000 - root_mean_squared_error: 5892504.0000 - val_loss: 194058718806016.0000 - val_root_mean_squared_error: 13930496.0000\n",
      "Epoch 545/1000\n",
      "1/1 [==============================] - 0s 23ms/step - loss: 34721606139904.0000 - root_mean_squared_error: 5892504.0000 - val_loss: 194058718806016.0000 - val_root_mean_squared_error: 13930496.0000\n",
      "Epoch 546/1000\n",
      "1/1 [==============================] - 0s 27ms/step - loss: 34721606139904.0000 - root_mean_squared_error: 5892504.0000 - val_loss: 194058718806016.0000 - val_root_mean_squared_error: 13930496.0000\n",
      "Epoch 547/1000\n",
      "1/1 [==============================] - 0s 22ms/step - loss: 34721606139904.0000 - root_mean_squared_error: 5892504.0000 - val_loss: 194048014942208.0000 - val_root_mean_squared_error: 13930112.0000\n",
      "Epoch 548/1000\n",
      "1/1 [==============================] - 0s 23ms/step - loss: 34721606139904.0000 - root_mean_squared_error: 5892504.0000 - val_loss: 194048014942208.0000 - val_root_mean_squared_error: 13930112.0000\n",
      "Epoch 549/1000\n",
      "1/1 [==============================] - 0s 24ms/step - loss: 34721606139904.0000 - root_mean_squared_error: 5892504.0000 - val_loss: 194048014942208.0000 - val_root_mean_squared_error: 13930112.0000\n",
      "Epoch 550/1000\n",
      "1/1 [==============================] - 0s 23ms/step - loss: 34721606139904.0000 - root_mean_squared_error: 5892504.0000 - val_loss: 194058718806016.0000 - val_root_mean_squared_error: 13930496.0000\n",
      "Epoch 551/1000\n",
      "1/1 [==============================] - 0s 22ms/step - loss: 34721606139904.0000 - root_mean_squared_error: 5892504.0000 - val_loss: 194058718806016.0000 - val_root_mean_squared_error: 13930496.0000\n",
      "Epoch 552/1000\n",
      "1/1 [==============================] - 0s 38ms/step - loss: 34721606139904.0000 - root_mean_squared_error: 5892504.0000 - val_loss: 194058718806016.0000 - val_root_mean_squared_error: 13930496.0000\n",
      "Epoch 553/1000\n",
      "1/1 [==============================] - 0s 53ms/step - loss: 34721606139904.0000 - root_mean_squared_error: 5892504.0000 - val_loss: 194048014942208.0000 - val_root_mean_squared_error: 13930112.0000\n",
      "Epoch 554/1000\n",
      "1/1 [==============================] - 0s 34ms/step - loss: 34721606139904.0000 - root_mean_squared_error: 5892504.0000 - val_loss: 194048014942208.0000 - val_root_mean_squared_error: 13930112.0000\n",
      "Epoch 555/1000\n",
      "1/1 [==============================] - 0s 27ms/step - loss: 34721606139904.0000 - root_mean_squared_error: 5892504.0000 - val_loss: 194048014942208.0000 - val_root_mean_squared_error: 13930112.0000\n",
      "Epoch 556/1000\n",
      "1/1 [==============================] - 0s 24ms/step - loss: 34721606139904.0000 - root_mean_squared_error: 5892504.0000 - val_loss: 194058718806016.0000 - val_root_mean_squared_error: 13930496.0000\n",
      "Epoch 557/1000\n",
      "1/1 [==============================] - 0s 23ms/step - loss: 34721606139904.0000 - root_mean_squared_error: 5892504.0000 - val_loss: 194058718806016.0000 - val_root_mean_squared_error: 13930496.0000\n",
      "Epoch 558/1000\n",
      "1/1 [==============================] - 0s 24ms/step - loss: 34721606139904.0000 - root_mean_squared_error: 5892504.0000 - val_loss: 194058718806016.0000 - val_root_mean_squared_error: 13930496.0000\n",
      "Epoch 559/1000\n",
      "1/1 [==============================] - 0s 27ms/step - loss: 34721606139904.0000 - root_mean_squared_error: 5892504.0000 - val_loss: 194048014942208.0000 - val_root_mean_squared_error: 13930112.0000\n",
      "Epoch 560/1000\n",
      "1/1 [==============================] - 0s 22ms/step - loss: 34721606139904.0000 - root_mean_squared_error: 5892504.0000 - val_loss: 194048014942208.0000 - val_root_mean_squared_error: 13930112.0000\n",
      "Epoch 561/1000\n",
      "1/1 [==============================] - 0s 23ms/step - loss: 34721606139904.0000 - root_mean_squared_error: 5892504.0000 - val_loss: 194048014942208.0000 - val_root_mean_squared_error: 13930112.0000\n",
      "Epoch 562/1000\n",
      "1/1 [==============================] - 0s 24ms/step - loss: 34721606139904.0000 - root_mean_squared_error: 5892504.0000 - val_loss: 194058718806016.0000 - val_root_mean_squared_error: 13930496.0000\n",
      "Epoch 563/1000\n",
      "1/1 [==============================] - 0s 24ms/step - loss: 34721606139904.0000 - root_mean_squared_error: 5892504.0000 - val_loss: 194058718806016.0000 - val_root_mean_squared_error: 13930496.0000\n",
      "Epoch 564/1000\n",
      "1/1 [==============================] - 0s 22ms/step - loss: 34721606139904.0000 - root_mean_squared_error: 5892504.0000 - val_loss: 194058718806016.0000 - val_root_mean_squared_error: 13930496.0000\n",
      "Epoch 565/1000\n",
      "1/1 [==============================] - 0s 27ms/step - loss: 34721606139904.0000 - root_mean_squared_error: 5892504.0000 - val_loss: 194048014942208.0000 - val_root_mean_squared_error: 13930112.0000\n",
      "Epoch 566/1000\n",
      "1/1 [==============================] - 0s 23ms/step - loss: 34721606139904.0000 - root_mean_squared_error: 5892504.0000 - val_loss: 194048014942208.0000 - val_root_mean_squared_error: 13930112.0000\n",
      "Epoch 567/1000\n",
      "1/1 [==============================] - 0s 23ms/step - loss: 34721606139904.0000 - root_mean_squared_error: 5892504.0000 - val_loss: 194048014942208.0000 - val_root_mean_squared_error: 13930112.0000\n",
      "Epoch 568/1000\n",
      "1/1 [==============================] - 0s 28ms/step - loss: 34721606139904.0000 - root_mean_squared_error: 5892504.0000 - val_loss: 194058718806016.0000 - val_root_mean_squared_error: 13930496.0000\n",
      "Epoch 569/1000\n",
      "1/1 [==============================] - 0s 24ms/step - loss: 34721606139904.0000 - root_mean_squared_error: 5892504.0000 - val_loss: 194058718806016.0000 - val_root_mean_squared_error: 13930496.0000\n",
      "Epoch 570/1000\n",
      "1/1 [==============================] - 0s 22ms/step - loss: 34721606139904.0000 - root_mean_squared_error: 5892504.0000 - val_loss: 194058718806016.0000 - val_root_mean_squared_error: 13930496.0000\n",
      "Epoch 571/1000\n",
      "1/1 [==============================] - 0s 26ms/step - loss: 34721606139904.0000 - root_mean_squared_error: 5892504.0000 - val_loss: 194048014942208.0000 - val_root_mean_squared_error: 13930112.0000\n",
      "Epoch 572/1000\n",
      "1/1 [==============================] - 0s 23ms/step - loss: 34721606139904.0000 - root_mean_squared_error: 5892504.0000 - val_loss: 194048014942208.0000 - val_root_mean_squared_error: 13930112.0000\n",
      "Epoch 573/1000\n",
      "1/1 [==============================] - 0s 25ms/step - loss: 34721606139904.0000 - root_mean_squared_error: 5892504.0000 - val_loss: 194048014942208.0000 - val_root_mean_squared_error: 13930112.0000\n",
      "Epoch 574/1000\n",
      "1/1 [==============================] - 0s 23ms/step - loss: 34721606139904.0000 - root_mean_squared_error: 5892504.0000 - val_loss: 194058718806016.0000 - val_root_mean_squared_error: 13930496.0000\n",
      "Epoch 575/1000\n",
      "1/1 [==============================] - 0s 27ms/step - loss: 34721606139904.0000 - root_mean_squared_error: 5892504.0000 - val_loss: 194058718806016.0000 - val_root_mean_squared_error: 13930496.0000\n",
      "Epoch 576/1000\n",
      "1/1 [==============================] - 0s 24ms/step - loss: 34721606139904.0000 - root_mean_squared_error: 5892504.0000 - val_loss: 194058718806016.0000 - val_root_mean_squared_error: 13930496.0000\n",
      "Epoch 577/1000\n",
      "1/1 [==============================] - 0s 24ms/step - loss: 34721606139904.0000 - root_mean_squared_error: 5892504.0000 - val_loss: 194048014942208.0000 - val_root_mean_squared_error: 13930112.0000\n",
      "Epoch 578/1000\n",
      "1/1 [==============================] - 0s 29ms/step - loss: 34721606139904.0000 - root_mean_squared_error: 5892504.0000 - val_loss: 194048014942208.0000 - val_root_mean_squared_error: 13930112.0000\n",
      "Epoch 579/1000\n",
      "1/1 [==============================] - 0s 24ms/step - loss: 34721606139904.0000 - root_mean_squared_error: 5892504.0000 - val_loss: 194048014942208.0000 - val_root_mean_squared_error: 13930112.0000\n",
      "Epoch 580/1000\n",
      "1/1 [==============================] - 0s 23ms/step - loss: 34721606139904.0000 - root_mean_squared_error: 5892504.0000 - val_loss: 194058718806016.0000 - val_root_mean_squared_error: 13930496.0000\n",
      "Epoch 581/1000\n",
      "1/1 [==============================] - 0s 28ms/step - loss: 34721606139904.0000 - root_mean_squared_error: 5892504.0000 - val_loss: 194058718806016.0000 - val_root_mean_squared_error: 13930496.0000\n",
      "Epoch 582/1000\n",
      "1/1 [==============================] - 0s 25ms/step - loss: 34721606139904.0000 - root_mean_squared_error: 5892504.0000 - val_loss: 194058718806016.0000 - val_root_mean_squared_error: 13930496.0000\n",
      "Epoch 583/1000\n",
      "1/1 [==============================] - 0s 24ms/step - loss: 34721606139904.0000 - root_mean_squared_error: 5892504.0000 - val_loss: 194048014942208.0000 - val_root_mean_squared_error: 13930112.0000\n",
      "Epoch 584/1000\n",
      "1/1 [==============================] - 0s 23ms/step - loss: 34721606139904.0000 - root_mean_squared_error: 5892504.0000 - val_loss: 194048014942208.0000 - val_root_mean_squared_error: 13930112.0000\n",
      "Epoch 585/1000\n",
      "1/1 [==============================] - 0s 28ms/step - loss: 34721606139904.0000 - root_mean_squared_error: 5892504.0000 - val_loss: 194048014942208.0000 - val_root_mean_squared_error: 13930112.0000\n",
      "Epoch 586/1000\n",
      "1/1 [==============================] - 0s 22ms/step - loss: 34721606139904.0000 - root_mean_squared_error: 5892504.0000 - val_loss: 194058718806016.0000 - val_root_mean_squared_error: 13930496.0000\n",
      "Epoch 587/1000\n",
      "1/1 [==============================] - 0s 25ms/step - loss: 34721606139904.0000 - root_mean_squared_error: 5892504.0000 - val_loss: 194058718806016.0000 - val_root_mean_squared_error: 13930496.0000\n",
      "Epoch 588/1000\n",
      "1/1 [==============================] - 0s 23ms/step - loss: 34721606139904.0000 - root_mean_squared_error: 5892504.0000 - val_loss: 194058718806016.0000 - val_root_mean_squared_error: 13930496.0000\n",
      "Epoch 589/1000\n",
      "1/1 [==============================] - 0s 24ms/step - loss: 34721606139904.0000 - root_mean_squared_error: 5892504.0000 - val_loss: 194048014942208.0000 - val_root_mean_squared_error: 13930112.0000\n",
      "Epoch 590/1000\n",
      "1/1 [==============================] - 0s 28ms/step - loss: 34721606139904.0000 - root_mean_squared_error: 5892504.0000 - val_loss: 194048014942208.0000 - val_root_mean_squared_error: 13930112.0000\n",
      "Epoch 591/1000\n",
      "1/1 [==============================] - 0s 24ms/step - loss: 34721606139904.0000 - root_mean_squared_error: 5892504.0000 - val_loss: 194048014942208.0000 - val_root_mean_squared_error: 13930112.0000\n",
      "Epoch 592/1000\n",
      "1/1 [==============================] - 0s 24ms/step - loss: 34721606139904.0000 - root_mean_squared_error: 5892504.0000 - val_loss: 194058718806016.0000 - val_root_mean_squared_error: 13930496.0000\n",
      "Epoch 593/1000\n",
      "1/1 [==============================] - 0s 29ms/step - loss: 34721606139904.0000 - root_mean_squared_error: 5892504.0000 - val_loss: 194058718806016.0000 - val_root_mean_squared_error: 13930496.0000\n",
      "Epoch 594/1000\n",
      "1/1 [==============================] - 0s 24ms/step - loss: 34721606139904.0000 - root_mean_squared_error: 5892504.0000 - val_loss: 194058718806016.0000 - val_root_mean_squared_error: 13930496.0000\n",
      "Epoch 595/1000\n",
      "1/1 [==============================] - 0s 25ms/step - loss: 34721606139904.0000 - root_mean_squared_error: 5892504.0000 - val_loss: 194048014942208.0000 - val_root_mean_squared_error: 13930112.0000\n",
      "Epoch 596/1000\n",
      "1/1 [==============================] - 0s 23ms/step - loss: 34721606139904.0000 - root_mean_squared_error: 5892504.0000 - val_loss: 194048014942208.0000 - val_root_mean_squared_error: 13930112.0000\n",
      "Epoch 597/1000\n",
      "1/1 [==============================] - 0s 28ms/step - loss: 34721606139904.0000 - root_mean_squared_error: 5892504.0000 - val_loss: 194048014942208.0000 - val_root_mean_squared_error: 13930112.0000\n",
      "Epoch 598/1000\n",
      "1/1 [==============================] - 0s 34ms/step - loss: 34721606139904.0000 - root_mean_squared_error: 5892504.0000 - val_loss: 194058718806016.0000 - val_root_mean_squared_error: 13930496.0000\n",
      "Epoch 599/1000\n",
      "1/1 [==============================] - 0s 52ms/step - loss: 34721606139904.0000 - root_mean_squared_error: 5892504.0000 - val_loss: 194058718806016.0000 - val_root_mean_squared_error: 13930496.0000\n",
      "Epoch 600/1000\n",
      "1/1 [==============================] - 0s 29ms/step - loss: 34721606139904.0000 - root_mean_squared_error: 5892504.0000 - val_loss: 194058718806016.0000 - val_root_mean_squared_error: 13930496.0000\n",
      "Epoch 601/1000\n",
      "1/1 [==============================] - 0s 27ms/step - loss: 34721606139904.0000 - root_mean_squared_error: 5892504.0000 - val_loss: 194048014942208.0000 - val_root_mean_squared_error: 13930112.0000\n",
      "Epoch 602/1000\n",
      "1/1 [==============================] - 0s 31ms/step - loss: 34721606139904.0000 - root_mean_squared_error: 5892504.0000 - val_loss: 194048014942208.0000 - val_root_mean_squared_error: 13930112.0000\n",
      "Epoch 603/1000\n",
      "1/1 [==============================] - 0s 23ms/step - loss: 34721606139904.0000 - root_mean_squared_error: 5892504.0000 - val_loss: 194051588489216.0000 - val_root_mean_squared_error: 13930240.0000\n",
      "Epoch 604/1000\n",
      "1/1 [==============================] - 0s 22ms/step - loss: 34721606139904.0000 - root_mean_squared_error: 5892504.0000 - val_loss: 194051588489216.0000 - val_root_mean_squared_error: 13930240.0000\n",
      "Epoch 605/1000\n",
      "1/1 [==============================] - 0s 24ms/step - loss: 34721606139904.0000 - root_mean_squared_error: 5892504.0000 - val_loss: 194051588489216.0000 - val_root_mean_squared_error: 13930240.0000\n",
      "Epoch 606/1000\n",
      "1/1 [==============================] - 0s 24ms/step - loss: 34721606139904.0000 - root_mean_squared_error: 5892504.0000 - val_loss: 194051588489216.0000 - val_root_mean_squared_error: 13930240.0000\n",
      "Epoch 607/1000\n",
      "1/1 [==============================] - 0s 29ms/step - loss: 34721606139904.0000 - root_mean_squared_error: 5892504.0000 - val_loss: 194051588489216.0000 - val_root_mean_squared_error: 13930240.0000\n",
      "Epoch 608/1000\n",
      "1/1 [==============================] - 0s 25ms/step - loss: 34721606139904.0000 - root_mean_squared_error: 5892504.0000 - val_loss: 194051588489216.0000 - val_root_mean_squared_error: 13930240.0000\n",
      "Epoch 609/1000\n",
      "1/1 [==============================] - 0s 23ms/step - loss: 34721606139904.0000 - root_mean_squared_error: 5892504.0000 - val_loss: 194051588489216.0000 - val_root_mean_squared_error: 13930240.0000\n",
      "Epoch 610/1000\n",
      "1/1 [==============================] - 0s 25ms/step - loss: 34721606139904.0000 - root_mean_squared_error: 5892504.0000 - val_loss: 194051588489216.0000 - val_root_mean_squared_error: 13930240.0000\n",
      "Epoch 611/1000\n",
      "1/1 [==============================] - 0s 25ms/step - loss: 34721606139904.0000 - root_mean_squared_error: 5892504.0000 - val_loss: 194051588489216.0000 - val_root_mean_squared_error: 13930240.0000\n",
      "Epoch 612/1000\n",
      "1/1 [==============================] - 0s 24ms/step - loss: 34721606139904.0000 - root_mean_squared_error: 5892504.0000 - val_loss: 194051588489216.0000 - val_root_mean_squared_error: 13930240.0000\n",
      "Epoch 613/1000\n",
      "1/1 [==============================] - 0s 28ms/step - loss: 34721606139904.0000 - root_mean_squared_error: 5892504.0000 - val_loss: 194051588489216.0000 - val_root_mean_squared_error: 13930240.0000\n",
      "Epoch 614/1000\n",
      "1/1 [==============================] - 0s 22ms/step - loss: 34721606139904.0000 - root_mean_squared_error: 5892504.0000 - val_loss: 194051588489216.0000 - val_root_mean_squared_error: 13930240.0000\n",
      "Epoch 615/1000\n",
      "1/1 [==============================] - 0s 27ms/step - loss: 34721606139904.0000 - root_mean_squared_error: 5892504.0000 - val_loss: 194051588489216.0000 - val_root_mean_squared_error: 13930240.0000\n",
      "Epoch 616/1000\n",
      "1/1 [==============================] - 0s 24ms/step - loss: 34721606139904.0000 - root_mean_squared_error: 5892504.0000 - val_loss: 194051588489216.0000 - val_root_mean_squared_error: 13930240.0000\n",
      "Epoch 617/1000\n",
      "1/1 [==============================] - 0s 25ms/step - loss: 34721606139904.0000 - root_mean_squared_error: 5892504.0000 - val_loss: 194051588489216.0000 - val_root_mean_squared_error: 13930240.0000\n",
      "Epoch 618/1000\n",
      "1/1 [==============================] - 0s 24ms/step - loss: 34721606139904.0000 - root_mean_squared_error: 5892504.0000 - val_loss: 194051588489216.0000 - val_root_mean_squared_error: 13930240.0000\n",
      "Epoch 619/1000\n",
      "1/1 [==============================] - 0s 28ms/step - loss: 34721606139904.0000 - root_mean_squared_error: 5892504.0000 - val_loss: 194051588489216.0000 - val_root_mean_squared_error: 13930240.0000\n",
      "Epoch 620/1000\n",
      "1/1 [==============================] - 0s 23ms/step - loss: 34721606139904.0000 - root_mean_squared_error: 5892504.0000 - val_loss: 194051588489216.0000 - val_root_mean_squared_error: 13930240.0000\n",
      "Epoch 621/1000\n",
      "1/1 [==============================] - 0s 23ms/step - loss: 34721606139904.0000 - root_mean_squared_error: 5892504.0000 - val_loss: 194051588489216.0000 - val_root_mean_squared_error: 13930240.0000\n",
      "Epoch 622/1000\n",
      "1/1 [==============================] - 0s 24ms/step - loss: 34721606139904.0000 - root_mean_squared_error: 5892504.0000 - val_loss: 194051588489216.0000 - val_root_mean_squared_error: 13930240.0000\n",
      "Epoch 623/1000\n",
      "1/1 [==============================] - 0s 24ms/step - loss: 34721606139904.0000 - root_mean_squared_error: 5892504.0000 - val_loss: 194051588489216.0000 - val_root_mean_squared_error: 13930240.0000\n",
      "Epoch 624/1000\n",
      "1/1 [==============================] - 0s 23ms/step - loss: 34721606139904.0000 - root_mean_squared_error: 5892504.0000 - val_loss: 194051588489216.0000 - val_root_mean_squared_error: 13930240.0000\n",
      "Epoch 625/1000\n",
      "1/1 [==============================] - 0s 27ms/step - loss: 34721606139904.0000 - root_mean_squared_error: 5892504.0000 - val_loss: 194051588489216.0000 - val_root_mean_squared_error: 13930240.0000\n",
      "Epoch 626/1000\n",
      "1/1 [==============================] - 0s 23ms/step - loss: 34721606139904.0000 - root_mean_squared_error: 5892504.0000 - val_loss: 194051588489216.0000 - val_root_mean_squared_error: 13930240.0000\n",
      "Epoch 627/1000\n",
      "1/1 [==============================] - 0s 23ms/step - loss: 34721606139904.0000 - root_mean_squared_error: 5892504.0000 - val_loss: 194051588489216.0000 - val_root_mean_squared_error: 13930240.0000\n",
      "Epoch 628/1000\n",
      "1/1 [==============================] - 0s 28ms/step - loss: 34721606139904.0000 - root_mean_squared_error: 5892504.0000 - val_loss: 194051588489216.0000 - val_root_mean_squared_error: 13930240.0000\n",
      "Epoch 629/1000\n",
      "1/1 [==============================] - 0s 23ms/step - loss: 34721606139904.0000 - root_mean_squared_error: 5892504.0000 - val_loss: 194051588489216.0000 - val_root_mean_squared_error: 13930240.0000\n",
      "Epoch 630/1000\n",
      "1/1 [==============================] - 0s 24ms/step - loss: 34721606139904.0000 - root_mean_squared_error: 5892504.0000 - val_loss: 194051588489216.0000 - val_root_mean_squared_error: 13930240.0000\n",
      "Epoch 631/1000\n",
      "1/1 [==============================] - 0s 23ms/step - loss: 34721606139904.0000 - root_mean_squared_error: 5892504.0000 - val_loss: 194051588489216.0000 - val_root_mean_squared_error: 13930240.0000\n",
      "Epoch 632/1000\n",
      "1/1 [==============================] - 0s 25ms/step - loss: 34721606139904.0000 - root_mean_squared_error: 5892504.0000 - val_loss: 194051588489216.0000 - val_root_mean_squared_error: 13930240.0000\n",
      "Epoch 633/1000\n",
      "1/1 [==============================] - 0s 23ms/step - loss: 34721606139904.0000 - root_mean_squared_error: 5892504.0000 - val_loss: 194051588489216.0000 - val_root_mean_squared_error: 13930240.0000\n",
      "Epoch 634/1000\n",
      "1/1 [==============================] - 0s 25ms/step - loss: 34721606139904.0000 - root_mean_squared_error: 5892504.0000 - val_loss: 194051588489216.0000 - val_root_mean_squared_error: 13930240.0000\n",
      "Epoch 635/1000\n",
      "1/1 [==============================] - 0s 24ms/step - loss: 34721606139904.0000 - root_mean_squared_error: 5892504.0000 - val_loss: 194051588489216.0000 - val_root_mean_squared_error: 13930240.0000\n",
      "Epoch 636/1000\n",
      "1/1 [==============================] - 0s 23ms/step - loss: 34721606139904.0000 - root_mean_squared_error: 5892504.0000 - val_loss: 194051588489216.0000 - val_root_mean_squared_error: 13930240.0000\n",
      "Epoch 637/1000\n",
      "1/1 [==============================] - 0s 23ms/step - loss: 34721606139904.0000 - root_mean_squared_error: 5892504.0000 - val_loss: 194051588489216.0000 - val_root_mean_squared_error: 13930240.0000\n",
      "Epoch 638/1000\n",
      "1/1 [==============================] - 0s 26ms/step - loss: 34721606139904.0000 - root_mean_squared_error: 5892504.0000 - val_loss: 194051588489216.0000 - val_root_mean_squared_error: 13930240.0000\n",
      "Epoch 639/1000\n",
      "1/1 [==============================] - 0s 24ms/step - loss: 34721606139904.0000 - root_mean_squared_error: 5892504.0000 - val_loss: 194051588489216.0000 - val_root_mean_squared_error: 13930240.0000\n",
      "Epoch 640/1000\n",
      "1/1 [==============================] - 0s 24ms/step - loss: 34721606139904.0000 - root_mean_squared_error: 5892504.0000 - val_loss: 194051588489216.0000 - val_root_mean_squared_error: 13930240.0000\n",
      "Epoch 641/1000\n",
      "1/1 [==============================] - 0s 25ms/step - loss: 34721606139904.0000 - root_mean_squared_error: 5892504.0000 - val_loss: 194051588489216.0000 - val_root_mean_squared_error: 13930240.0000\n",
      "Epoch 642/1000\n",
      "1/1 [==============================] - 0s 24ms/step - loss: 34721606139904.0000 - root_mean_squared_error: 5892504.0000 - val_loss: 194051588489216.0000 - val_root_mean_squared_error: 13930240.0000\n",
      "Epoch 643/1000\n",
      "1/1 [==============================] - 0s 24ms/step - loss: 34721606139904.0000 - root_mean_squared_error: 5892504.0000 - val_loss: 194051588489216.0000 - val_root_mean_squared_error: 13930240.0000\n",
      "Epoch 644/1000\n",
      "1/1 [==============================] - 0s 25ms/step - loss: 34721606139904.0000 - root_mean_squared_error: 5892504.0000 - val_loss: 194051588489216.0000 - val_root_mean_squared_error: 13930240.0000\n",
      "Epoch 645/1000\n",
      "1/1 [==============================] - 0s 24ms/step - loss: 34721606139904.0000 - root_mean_squared_error: 5892504.0000 - val_loss: 194051588489216.0000 - val_root_mean_squared_error: 13930240.0000\n",
      "Epoch 646/1000\n",
      "1/1 [==============================] - 0s 47ms/step - loss: 34721606139904.0000 - root_mean_squared_error: 5892504.0000 - val_loss: 194051588489216.0000 - val_root_mean_squared_error: 13930240.0000\n",
      "Epoch 647/1000\n",
      "1/1 [==============================] - 0s 58ms/step - loss: 34721606139904.0000 - root_mean_squared_error: 5892504.0000 - val_loss: 194051588489216.0000 - val_root_mean_squared_error: 13930240.0000\n",
      "Epoch 648/1000\n",
      "1/1 [==============================] - 0s 38ms/step - loss: 34721606139904.0000 - root_mean_squared_error: 5892504.0000 - val_loss: 194051588489216.0000 - val_root_mean_squared_error: 13930240.0000\n",
      "Epoch 649/1000\n",
      "1/1 [==============================] - 0s 28ms/step - loss: 34721606139904.0000 - root_mean_squared_error: 5892504.0000 - val_loss: 194051588489216.0000 - val_root_mean_squared_error: 13930240.0000\n",
      "Epoch 650/1000\n",
      "1/1 [==============================] - 0s 30ms/step - loss: 34721606139904.0000 - root_mean_squared_error: 5892504.0000 - val_loss: 194051588489216.0000 - val_root_mean_squared_error: 13930240.0000\n",
      "Epoch 651/1000\n",
      "1/1 [==============================] - 0s 23ms/step - loss: 34721606139904.0000 - root_mean_squared_error: 5892504.0000 - val_loss: 194051588489216.0000 - val_root_mean_squared_error: 13930240.0000\n",
      "Epoch 652/1000\n",
      "1/1 [==============================] - 0s 25ms/step - loss: 34721606139904.0000 - root_mean_squared_error: 5892504.0000 - val_loss: 194051588489216.0000 - val_root_mean_squared_error: 13930240.0000\n",
      "Epoch 653/1000\n",
      "1/1 [==============================] - 0s 23ms/step - loss: 34721606139904.0000 - root_mean_squared_error: 5892504.0000 - val_loss: 194051588489216.0000 - val_root_mean_squared_error: 13930240.0000\n",
      "Epoch 654/1000\n",
      "1/1 [==============================] - 0s 23ms/step - loss: 34721606139904.0000 - root_mean_squared_error: 5892504.0000 - val_loss: 194051588489216.0000 - val_root_mean_squared_error: 13930240.0000\n",
      "Epoch 655/1000\n",
      "1/1 [==============================] - 0s 23ms/step - loss: 34721606139904.0000 - root_mean_squared_error: 5892504.0000 - val_loss: 194051588489216.0000 - val_root_mean_squared_error: 13930240.0000\n",
      "Epoch 656/1000\n",
      "1/1 [==============================] - 0s 25ms/step - loss: 34721606139904.0000 - root_mean_squared_error: 5892504.0000 - val_loss: 194051588489216.0000 - val_root_mean_squared_error: 13930240.0000\n",
      "Epoch 657/1000\n",
      "1/1 [==============================] - 0s 23ms/step - loss: 34721606139904.0000 - root_mean_squared_error: 5892504.0000 - val_loss: 194051588489216.0000 - val_root_mean_squared_error: 13930240.0000\n",
      "Epoch 658/1000\n",
      "1/1 [==============================] - 0s 23ms/step - loss: 34721606139904.0000 - root_mean_squared_error: 5892504.0000 - val_loss: 194051588489216.0000 - val_root_mean_squared_error: 13930240.0000\n",
      "Epoch 659/1000\n",
      "1/1 [==============================] - 0s 25ms/step - loss: 34721606139904.0000 - root_mean_squared_error: 5892504.0000 - val_loss: 194051588489216.0000 - val_root_mean_squared_error: 13930240.0000\n",
      "Epoch 660/1000\n",
      "1/1 [==============================] - 0s 23ms/step - loss: 34721606139904.0000 - root_mean_squared_error: 5892504.0000 - val_loss: 194051588489216.0000 - val_root_mean_squared_error: 13930240.0000\n",
      "Epoch 661/1000\n",
      "1/1 [==============================] - 0s 23ms/step - loss: 34721606139904.0000 - root_mean_squared_error: 5892504.0000 - val_loss: 194051588489216.0000 - val_root_mean_squared_error: 13930240.0000\n",
      "Epoch 662/1000\n",
      "1/1 [==============================] - 0s 23ms/step - loss: 34721606139904.0000 - root_mean_squared_error: 5892504.0000 - val_loss: 194051588489216.0000 - val_root_mean_squared_error: 13930240.0000\n",
      "Epoch 663/1000\n",
      "1/1 [==============================] - 0s 23ms/step - loss: 34721606139904.0000 - root_mean_squared_error: 5892504.0000 - val_loss: 194051588489216.0000 - val_root_mean_squared_error: 13930240.0000\n",
      "Epoch 664/1000\n",
      "1/1 [==============================] - 0s 22ms/step - loss: 34721606139904.0000 - root_mean_squared_error: 5892504.0000 - val_loss: 194051588489216.0000 - val_root_mean_squared_error: 13930240.0000\n",
      "Epoch 665/1000\n",
      "1/1 [==============================] - 0s 23ms/step - loss: 34721606139904.0000 - root_mean_squared_error: 5892504.0000 - val_loss: 194051588489216.0000 - val_root_mean_squared_error: 13930240.0000\n",
      "Epoch 666/1000\n",
      "1/1 [==============================] - 0s 23ms/step - loss: 34721606139904.0000 - root_mean_squared_error: 5892504.0000 - val_loss: 194051588489216.0000 - val_root_mean_squared_error: 13930240.0000\n",
      "Epoch 667/1000\n",
      "1/1 [==============================] - 0s 22ms/step - loss: 34721606139904.0000 - root_mean_squared_error: 5892504.0000 - val_loss: 194051588489216.0000 - val_root_mean_squared_error: 13930240.0000\n",
      "Epoch 668/1000\n",
      "1/1 [==============================] - 0s 25ms/step - loss: 34721606139904.0000 - root_mean_squared_error: 5892504.0000 - val_loss: 194051588489216.0000 - val_root_mean_squared_error: 13930240.0000\n",
      "Epoch 669/1000\n",
      "1/1 [==============================] - 0s 24ms/step - loss: 34721606139904.0000 - root_mean_squared_error: 5892504.0000 - val_loss: 194051588489216.0000 - val_root_mean_squared_error: 13930240.0000\n",
      "Epoch 670/1000\n",
      "1/1 [==============================] - 0s 23ms/step - loss: 34721606139904.0000 - root_mean_squared_error: 5892504.0000 - val_loss: 194051588489216.0000 - val_root_mean_squared_error: 13930240.0000\n",
      "Epoch 671/1000\n",
      "1/1 [==============================] - 0s 25ms/step - loss: 34721606139904.0000 - root_mean_squared_error: 5892504.0000 - val_loss: 194051588489216.0000 - val_root_mean_squared_error: 13930240.0000\n",
      "Epoch 672/1000\n",
      "1/1 [==============================] - 0s 23ms/step - loss: 34721606139904.0000 - root_mean_squared_error: 5892504.0000 - val_loss: 194051588489216.0000 - val_root_mean_squared_error: 13930240.0000\n",
      "Epoch 673/1000\n",
      "1/1 [==============================] - 0s 27ms/step - loss: 34721606139904.0000 - root_mean_squared_error: 5892504.0000 - val_loss: 194051588489216.0000 - val_root_mean_squared_error: 13930240.0000\n",
      "Epoch 674/1000\n",
      "1/1 [==============================] - 0s 24ms/step - loss: 34721606139904.0000 - root_mean_squared_error: 5892504.0000 - val_loss: 194051588489216.0000 - val_root_mean_squared_error: 13930240.0000\n",
      "Epoch 675/1000\n",
      "1/1 [==============================] - 0s 23ms/step - loss: 34721606139904.0000 - root_mean_squared_error: 5892504.0000 - val_loss: 194051588489216.0000 - val_root_mean_squared_error: 13930240.0000\n",
      "Epoch 676/1000\n",
      "1/1 [==============================] - 0s 29ms/step - loss: 34721606139904.0000 - root_mean_squared_error: 5892504.0000 - val_loss: 194051588489216.0000 - val_root_mean_squared_error: 13930240.0000\n",
      "Epoch 677/1000\n",
      "1/1 [==============================] - 0s 24ms/step - loss: 34721606139904.0000 - root_mean_squared_error: 5892504.0000 - val_loss: 194051588489216.0000 - val_root_mean_squared_error: 13930240.0000\n",
      "Epoch 678/1000\n",
      "1/1 [==============================] - 0s 23ms/step - loss: 34721606139904.0000 - root_mean_squared_error: 5892504.0000 - val_loss: 194051588489216.0000 - val_root_mean_squared_error: 13930240.0000\n",
      "Epoch 679/1000\n",
      "1/1 [==============================] - 0s 28ms/step - loss: 34721606139904.0000 - root_mean_squared_error: 5892504.0000 - val_loss: 194051588489216.0000 - val_root_mean_squared_error: 13930240.0000\n",
      "Epoch 680/1000\n",
      "1/1 [==============================] - 0s 26ms/step - loss: 34721606139904.0000 - root_mean_squared_error: 5892504.0000 - val_loss: 194051588489216.0000 - val_root_mean_squared_error: 13930240.0000\n",
      "Epoch 681/1000\n",
      "1/1 [==============================] - 0s 25ms/step - loss: 34721606139904.0000 - root_mean_squared_error: 5892504.0000 - val_loss: 194051588489216.0000 - val_root_mean_squared_error: 13930240.0000\n",
      "Epoch 682/1000\n",
      "1/1 [==============================] - 0s 28ms/step - loss: 34721606139904.0000 - root_mean_squared_error: 5892504.0000 - val_loss: 194051588489216.0000 - val_root_mean_squared_error: 13930240.0000\n",
      "Epoch 683/1000\n",
      "1/1 [==============================] - 0s 24ms/step - loss: 34721606139904.0000 - root_mean_squared_error: 5892504.0000 - val_loss: 194051588489216.0000 - val_root_mean_squared_error: 13930240.0000\n",
      "Epoch 684/1000\n",
      "1/1 [==============================] - 0s 24ms/step - loss: 34721606139904.0000 - root_mean_squared_error: 5892504.0000 - val_loss: 194051588489216.0000 - val_root_mean_squared_error: 13930240.0000\n",
      "Epoch 685/1000\n",
      "1/1 [==============================] - 0s 27ms/step - loss: 34721606139904.0000 - root_mean_squared_error: 5892504.0000 - val_loss: 194051588489216.0000 - val_root_mean_squared_error: 13930240.0000\n",
      "Epoch 686/1000\n",
      "1/1 [==============================] - 0s 24ms/step - loss: 34721606139904.0000 - root_mean_squared_error: 5892504.0000 - val_loss: 194051588489216.0000 - val_root_mean_squared_error: 13930240.0000\n",
      "Epoch 687/1000\n",
      "1/1 [==============================] - 0s 23ms/step - loss: 34721606139904.0000 - root_mean_squared_error: 5892504.0000 - val_loss: 194051588489216.0000 - val_root_mean_squared_error: 13930240.0000\n",
      "Epoch 688/1000\n",
      "1/1 [==============================] - 0s 23ms/step - loss: 34721606139904.0000 - root_mean_squared_error: 5892504.0000 - val_loss: 194051588489216.0000 - val_root_mean_squared_error: 13930240.0000\n",
      "Epoch 689/1000\n",
      "1/1 [==============================] - 0s 25ms/step - loss: 34721606139904.0000 - root_mean_squared_error: 5892504.0000 - val_loss: 194051588489216.0000 - val_root_mean_squared_error: 13930240.0000\n",
      "Epoch 690/1000\n",
      "1/1 [==============================] - 0s 23ms/step - loss: 34721606139904.0000 - root_mean_squared_error: 5892504.0000 - val_loss: 194051588489216.0000 - val_root_mean_squared_error: 13930240.0000\n",
      "Epoch 691/1000\n",
      "1/1 [==============================] - 0s 23ms/step - loss: 34721606139904.0000 - root_mean_squared_error: 5892504.0000 - val_loss: 194051588489216.0000 - val_root_mean_squared_error: 13930240.0000\n",
      "Epoch 692/1000\n",
      "1/1 [==============================] - 0s 24ms/step - loss: 34721606139904.0000 - root_mean_squared_error: 5892504.0000 - val_loss: 194051588489216.0000 - val_root_mean_squared_error: 13930240.0000\n",
      "Epoch 693/1000\n",
      "1/1 [==============================] - 0s 25ms/step - loss: 34721606139904.0000 - root_mean_squared_error: 5892504.0000 - val_loss: 194051588489216.0000 - val_root_mean_squared_error: 13930240.0000\n",
      "Epoch 694/1000\n",
      "1/1 [==============================] - 0s 23ms/step - loss: 34721606139904.0000 - root_mean_squared_error: 5892504.0000 - val_loss: 194051588489216.0000 - val_root_mean_squared_error: 13930240.0000\n",
      "Epoch 695/1000\n",
      "1/1 [==============================] - 0s 48ms/step - loss: 34721606139904.0000 - root_mean_squared_error: 5892504.0000 - val_loss: 194051588489216.0000 - val_root_mean_squared_error: 13930240.0000\n",
      "Epoch 696/1000\n",
      "1/1 [==============================] - 0s 34ms/step - loss: 34721606139904.0000 - root_mean_squared_error: 5892504.0000 - val_loss: 194051588489216.0000 - val_root_mean_squared_error: 13930240.0000\n",
      "Epoch 697/1000\n",
      "1/1 [==============================] - 0s 36ms/step - loss: 34721606139904.0000 - root_mean_squared_error: 5892504.0000 - val_loss: 194051588489216.0000 - val_root_mean_squared_error: 13930240.0000\n",
      "Epoch 698/1000\n",
      "1/1 [==============================] - 0s 28ms/step - loss: 34721606139904.0000 - root_mean_squared_error: 5892504.0000 - val_loss: 194051588489216.0000 - val_root_mean_squared_error: 13930240.0000\n",
      "Epoch 699/1000\n",
      "1/1 [==============================] - 0s 28ms/step - loss: 34721606139904.0000 - root_mean_squared_error: 5892504.0000 - val_loss: 194051588489216.0000 - val_root_mean_squared_error: 13930240.0000\n",
      "Epoch 700/1000\n",
      "1/1 [==============================] - 0s 27ms/step - loss: 34721606139904.0000 - root_mean_squared_error: 5892504.0000 - val_loss: 194051588489216.0000 - val_root_mean_squared_error: 13930240.0000\n",
      "Epoch 701/1000\n",
      "1/1 [==============================] - 0s 24ms/step - loss: 34721606139904.0000 - root_mean_squared_error: 5892504.0000 - val_loss: 194051588489216.0000 - val_root_mean_squared_error: 13930240.0000\n",
      "Epoch 702/1000\n",
      "1/1 [==============================] - 0s 25ms/step - loss: 34721606139904.0000 - root_mean_squared_error: 5892504.0000 - val_loss: 194051588489216.0000 - val_root_mean_squared_error: 13930240.0000\n",
      "Epoch 703/1000\n",
      "1/1 [==============================] - 0s 24ms/step - loss: 34721606139904.0000 - root_mean_squared_error: 5892504.0000 - val_loss: 194051588489216.0000 - val_root_mean_squared_error: 13930240.0000\n",
      "Epoch 704/1000\n",
      "1/1 [==============================] - 0s 24ms/step - loss: 34721606139904.0000 - root_mean_squared_error: 5892504.0000 - val_loss: 194051588489216.0000 - val_root_mean_squared_error: 13930240.0000\n",
      "Epoch 705/1000\n",
      "1/1 [==============================] - 0s 23ms/step - loss: 34721606139904.0000 - root_mean_squared_error: 5892504.0000 - val_loss: 194051588489216.0000 - val_root_mean_squared_error: 13930240.0000\n",
      "Epoch 706/1000\n",
      "1/1 [==============================] - 0s 29ms/step - loss: 34721606139904.0000 - root_mean_squared_error: 5892504.0000 - val_loss: 194051588489216.0000 - val_root_mean_squared_error: 13930240.0000\n",
      "Epoch 707/1000\n",
      "1/1 [==============================] - 0s 23ms/step - loss: 34721606139904.0000 - root_mean_squared_error: 5892504.0000 - val_loss: 194051588489216.0000 - val_root_mean_squared_error: 13930240.0000\n",
      "Epoch 708/1000\n",
      "1/1 [==============================] - 0s 23ms/step - loss: 34721606139904.0000 - root_mean_squared_error: 5892504.0000 - val_loss: 194051588489216.0000 - val_root_mean_squared_error: 13930240.0000\n",
      "Epoch 709/1000\n",
      "1/1 [==============================] - 0s 26ms/step - loss: 34721606139904.0000 - root_mean_squared_error: 5892504.0000 - val_loss: 194051588489216.0000 - val_root_mean_squared_error: 13930240.0000\n",
      "Epoch 710/1000\n",
      "1/1 [==============================] - 0s 25ms/step - loss: 34721606139904.0000 - root_mean_squared_error: 5892504.0000 - val_loss: 194051588489216.0000 - val_root_mean_squared_error: 13930240.0000\n",
      "Epoch 711/1000\n",
      "1/1 [==============================] - 0s 23ms/step - loss: 34721606139904.0000 - root_mean_squared_error: 5892504.0000 - val_loss: 194051588489216.0000 - val_root_mean_squared_error: 13930240.0000\n",
      "Epoch 712/1000\n",
      "1/1 [==============================] - 0s 26ms/step - loss: 34721606139904.0000 - root_mean_squared_error: 5892504.0000 - val_loss: 194051588489216.0000 - val_root_mean_squared_error: 13930240.0000\n",
      "Epoch 713/1000\n",
      "1/1 [==============================] - 0s 23ms/step - loss: 34721606139904.0000 - root_mean_squared_error: 5892504.0000 - val_loss: 194051588489216.0000 - val_root_mean_squared_error: 13930240.0000\n",
      "Epoch 714/1000\n",
      "1/1 [==============================] - 0s 25ms/step - loss: 34721606139904.0000 - root_mean_squared_error: 5892504.0000 - val_loss: 194051588489216.0000 - val_root_mean_squared_error: 13930240.0000\n",
      "Epoch 715/1000\n",
      "1/1 [==============================] - 0s 22ms/step - loss: 34721606139904.0000 - root_mean_squared_error: 5892504.0000 - val_loss: 194051588489216.0000 - val_root_mean_squared_error: 13930240.0000\n",
      "Epoch 716/1000\n",
      "1/1 [==============================] - 0s 26ms/step - loss: 34721606139904.0000 - root_mean_squared_error: 5892504.0000 - val_loss: 194051588489216.0000 - val_root_mean_squared_error: 13930240.0000\n",
      "Epoch 717/1000\n",
      "1/1 [==============================] - 0s 44ms/step - loss: 34721606139904.0000 - root_mean_squared_error: 5892504.0000 - val_loss: 194051588489216.0000 - val_root_mean_squared_error: 13930240.0000\n",
      "Epoch 718/1000\n",
      "1/1 [==============================] - 0s 28ms/step - loss: 34721606139904.0000 - root_mean_squared_error: 5892504.0000 - val_loss: 194051588489216.0000 - val_root_mean_squared_error: 13930240.0000\n",
      "Epoch 719/1000\n",
      "1/1 [==============================] - 0s 23ms/step - loss: 34721606139904.0000 - root_mean_squared_error: 5892504.0000 - val_loss: 194051588489216.0000 - val_root_mean_squared_error: 13930240.0000\n",
      "Epoch 720/1000\n",
      "1/1 [==============================] - 0s 29ms/step - loss: 34721606139904.0000 - root_mean_squared_error: 5892504.0000 - val_loss: 194051588489216.0000 - val_root_mean_squared_error: 13930240.0000\n",
      "Epoch 721/1000\n",
      "1/1 [==============================] - 0s 23ms/step - loss: 34721606139904.0000 - root_mean_squared_error: 5892504.0000 - val_loss: 194051588489216.0000 - val_root_mean_squared_error: 13930240.0000\n",
      "Epoch 722/1000\n",
      "1/1 [==============================] - 0s 28ms/step - loss: 34721606139904.0000 - root_mean_squared_error: 5892504.0000 - val_loss: 194051588489216.0000 - val_root_mean_squared_error: 13930240.0000\n",
      "Epoch 723/1000\n",
      "1/1 [==============================] - 0s 23ms/step - loss: 34721606139904.0000 - root_mean_squared_error: 5892504.0000 - val_loss: 194051588489216.0000 - val_root_mean_squared_error: 13930240.0000\n",
      "Epoch 724/1000\n",
      "1/1 [==============================] - 0s 26ms/step - loss: 34721606139904.0000 - root_mean_squared_error: 5892504.0000 - val_loss: 194051588489216.0000 - val_root_mean_squared_error: 13930240.0000\n",
      "Epoch 725/1000\n",
      "1/1 [==============================] - 0s 23ms/step - loss: 34721606139904.0000 - root_mean_squared_error: 5892504.0000 - val_loss: 194051588489216.0000 - val_root_mean_squared_error: 13930240.0000\n",
      "Epoch 726/1000\n",
      "1/1 [==============================] - 0s 23ms/step - loss: 34721606139904.0000 - root_mean_squared_error: 5892504.0000 - val_loss: 194051588489216.0000 - val_root_mean_squared_error: 13930240.0000\n",
      "Epoch 727/1000\n",
      "1/1 [==============================] - 0s 24ms/step - loss: 34721606139904.0000 - root_mean_squared_error: 5892504.0000 - val_loss: 194051588489216.0000 - val_root_mean_squared_error: 13930240.0000\n",
      "Epoch 728/1000\n",
      "1/1 [==============================] - 0s 22ms/step - loss: 34721606139904.0000 - root_mean_squared_error: 5892504.0000 - val_loss: 194051588489216.0000 - val_root_mean_squared_error: 13930240.0000\n",
      "Epoch 729/1000\n",
      "1/1 [==============================] - 0s 23ms/step - loss: 34721606139904.0000 - root_mean_squared_error: 5892504.0000 - val_loss: 194051588489216.0000 - val_root_mean_squared_error: 13930240.0000\n",
      "Epoch 730/1000\n",
      "1/1 [==============================] - 0s 24ms/step - loss: 34721606139904.0000 - root_mean_squared_error: 5892504.0000 - val_loss: 194051588489216.0000 - val_root_mean_squared_error: 13930240.0000\n",
      "Epoch 731/1000\n",
      "1/1 [==============================] - 0s 23ms/step - loss: 34721606139904.0000 - root_mean_squared_error: 5892504.0000 - val_loss: 194051588489216.0000 - val_root_mean_squared_error: 13930240.0000\n",
      "Epoch 732/1000\n",
      "1/1 [==============================] - 0s 28ms/step - loss: 34721606139904.0000 - root_mean_squared_error: 5892504.0000 - val_loss: 194051588489216.0000 - val_root_mean_squared_error: 13930240.0000\n",
      "Epoch 733/1000\n",
      "1/1 [==============================] - 0s 23ms/step - loss: 34721606139904.0000 - root_mean_squared_error: 5892504.0000 - val_loss: 194051588489216.0000 - val_root_mean_squared_error: 13930240.0000\n",
      "Epoch 734/1000\n",
      "1/1 [==============================] - 0s 22ms/step - loss: 34721606139904.0000 - root_mean_squared_error: 5892504.0000 - val_loss: 194051588489216.0000 - val_root_mean_squared_error: 13930240.0000\n",
      "Epoch 735/1000\n",
      "1/1 [==============================] - 0s 27ms/step - loss: 34721606139904.0000 - root_mean_squared_error: 5892504.0000 - val_loss: 194051588489216.0000 - val_root_mean_squared_error: 13930240.0000\n",
      "Epoch 736/1000\n",
      "1/1 [==============================] - 0s 49ms/step - loss: 34721606139904.0000 - root_mean_squared_error: 5892504.0000 - val_loss: 194051588489216.0000 - val_root_mean_squared_error: 13930240.0000\n",
      "Epoch 737/1000\n",
      "1/1 [==============================] - 0s 43ms/step - loss: 34721606139904.0000 - root_mean_squared_error: 5892504.0000 - val_loss: 194051588489216.0000 - val_root_mean_squared_error: 13930240.0000\n",
      "Epoch 738/1000\n",
      "1/1 [==============================] - 0s 33ms/step - loss: 34721606139904.0000 - root_mean_squared_error: 5892504.0000 - val_loss: 194051588489216.0000 - val_root_mean_squared_error: 13930240.0000\n",
      "Epoch 739/1000\n",
      "1/1 [==============================] - 0s 32ms/step - loss: 34721606139904.0000 - root_mean_squared_error: 5892504.0000 - val_loss: 194051588489216.0000 - val_root_mean_squared_error: 13930240.0000\n",
      "Epoch 740/1000\n",
      "1/1 [==============================] - 0s 23ms/step - loss: 34721606139904.0000 - root_mean_squared_error: 5892504.0000 - val_loss: 194051588489216.0000 - val_root_mean_squared_error: 13930240.0000\n",
      "Epoch 741/1000\n",
      "1/1 [==============================] - 0s 23ms/step - loss: 34721606139904.0000 - root_mean_squared_error: 5892504.0000 - val_loss: 194051588489216.0000 - val_root_mean_squared_error: 13930240.0000\n",
      "Epoch 742/1000\n",
      "1/1 [==============================] - 0s 26ms/step - loss: 34721606139904.0000 - root_mean_squared_error: 5892504.0000 - val_loss: 194051588489216.0000 - val_root_mean_squared_error: 13930240.0000\n",
      "Epoch 743/1000\n",
      "1/1 [==============================] - 0s 23ms/step - loss: 34721606139904.0000 - root_mean_squared_error: 5892504.0000 - val_loss: 194051588489216.0000 - val_root_mean_squared_error: 13930240.0000\n",
      "Epoch 744/1000\n",
      "1/1 [==============================] - 0s 22ms/step - loss: 34721606139904.0000 - root_mean_squared_error: 5892504.0000 - val_loss: 194051588489216.0000 - val_root_mean_squared_error: 13930240.0000\n",
      "Epoch 745/1000\n",
      "1/1 [==============================] - 0s 25ms/step - loss: 34721606139904.0000 - root_mean_squared_error: 5892504.0000 - val_loss: 194051588489216.0000 - val_root_mean_squared_error: 13930240.0000\n",
      "Epoch 746/1000\n",
      "1/1 [==============================] - 0s 24ms/step - loss: 34721606139904.0000 - root_mean_squared_error: 5892504.0000 - val_loss: 194051588489216.0000 - val_root_mean_squared_error: 13930240.0000\n",
      "Epoch 747/1000\n",
      "1/1 [==============================] - 0s 22ms/step - loss: 34721606139904.0000 - root_mean_squared_error: 5892504.0000 - val_loss: 194051588489216.0000 - val_root_mean_squared_error: 13930240.0000\n",
      "Epoch 748/1000\n",
      "1/1 [==============================] - 0s 23ms/step - loss: 34721606139904.0000 - root_mean_squared_error: 5892504.0000 - val_loss: 194051588489216.0000 - val_root_mean_squared_error: 13930240.0000\n",
      "Epoch 749/1000\n",
      "1/1 [==============================] - 0s 24ms/step - loss: 34721606139904.0000 - root_mean_squared_error: 5892504.0000 - val_loss: 194051588489216.0000 - val_root_mean_squared_error: 13930240.0000\n",
      "Epoch 750/1000\n",
      "1/1 [==============================] - 0s 26ms/step - loss: 34721606139904.0000 - root_mean_squared_error: 5892504.0000 - val_loss: 194051588489216.0000 - val_root_mean_squared_error: 13930240.0000\n",
      "Epoch 751/1000\n",
      "1/1 [==============================] - 0s 24ms/step - loss: 34721606139904.0000 - root_mean_squared_error: 5892504.0000 - val_loss: 194051588489216.0000 - val_root_mean_squared_error: 13930240.0000\n",
      "Epoch 752/1000\n",
      "1/1 [==============================] - 0s 23ms/step - loss: 34721606139904.0000 - root_mean_squared_error: 5892504.0000 - val_loss: 194051588489216.0000 - val_root_mean_squared_error: 13930240.0000\n",
      "Epoch 753/1000\n",
      "1/1 [==============================] - 0s 27ms/step - loss: 34721606139904.0000 - root_mean_squared_error: 5892504.0000 - val_loss: 194051588489216.0000 - val_root_mean_squared_error: 13930240.0000\n",
      "Epoch 754/1000\n",
      "1/1 [==============================] - 0s 23ms/step - loss: 34721606139904.0000 - root_mean_squared_error: 5892504.0000 - val_loss: 194051588489216.0000 - val_root_mean_squared_error: 13930240.0000\n",
      "Epoch 755/1000\n",
      "1/1 [==============================] - 0s 24ms/step - loss: 34721606139904.0000 - root_mean_squared_error: 5892504.0000 - val_loss: 194051588489216.0000 - val_root_mean_squared_error: 13930240.0000\n",
      "Epoch 756/1000\n",
      "1/1 [==============================] - 0s 23ms/step - loss: 34721606139904.0000 - root_mean_squared_error: 5892504.0000 - val_loss: 194051588489216.0000 - val_root_mean_squared_error: 13930240.0000\n",
      "Epoch 757/1000\n",
      "1/1 [==============================] - 0s 23ms/step - loss: 34721606139904.0000 - root_mean_squared_error: 5892504.0000 - val_loss: 194051588489216.0000 - val_root_mean_squared_error: 13930240.0000\n",
      "Epoch 758/1000\n",
      "1/1 [==============================] - 0s 27ms/step - loss: 34721606139904.0000 - root_mean_squared_error: 5892504.0000 - val_loss: 194051588489216.0000 - val_root_mean_squared_error: 13930240.0000\n",
      "Epoch 759/1000\n",
      "1/1 [==============================] - 0s 23ms/step - loss: 34721606139904.0000 - root_mean_squared_error: 5892504.0000 - val_loss: 194051588489216.0000 - val_root_mean_squared_error: 13930240.0000\n",
      "Epoch 760/1000\n",
      "1/1 [==============================] - 0s 25ms/step - loss: 34721606139904.0000 - root_mean_squared_error: 5892504.0000 - val_loss: 194051588489216.0000 - val_root_mean_squared_error: 13930240.0000\n",
      "Epoch 761/1000\n",
      "1/1 [==============================] - 0s 31ms/step - loss: 34721606139904.0000 - root_mean_squared_error: 5892504.0000 - val_loss: 194051588489216.0000 - val_root_mean_squared_error: 13930240.0000\n",
      "Epoch 762/1000\n",
      "1/1 [==============================] - 0s 22ms/step - loss: 34721606139904.0000 - root_mean_squared_error: 5892504.0000 - val_loss: 194051588489216.0000 - val_root_mean_squared_error: 13930240.0000\n",
      "Epoch 763/1000\n",
      "1/1 [==============================] - 0s 23ms/step - loss: 34721606139904.0000 - root_mean_squared_error: 5892504.0000 - val_loss: 194051588489216.0000 - val_root_mean_squared_error: 13930240.0000\n",
      "Epoch 764/1000\n",
      "1/1 [==============================] - 0s 27ms/step - loss: 34721606139904.0000 - root_mean_squared_error: 5892504.0000 - val_loss: 194051588489216.0000 - val_root_mean_squared_error: 13930240.0000\n",
      "Epoch 765/1000\n",
      "1/1 [==============================] - 0s 23ms/step - loss: 34721606139904.0000 - root_mean_squared_error: 5892504.0000 - val_loss: 194051588489216.0000 - val_root_mean_squared_error: 13930240.0000\n",
      "Epoch 766/1000\n",
      "1/1 [==============================] - 0s 26ms/step - loss: 34721606139904.0000 - root_mean_squared_error: 5892504.0000 - val_loss: 194051588489216.0000 - val_root_mean_squared_error: 13930240.0000\n",
      "Epoch 767/1000\n",
      "1/1 [==============================] - 0s 23ms/step - loss: 34721606139904.0000 - root_mean_squared_error: 5892504.0000 - val_loss: 194051588489216.0000 - val_root_mean_squared_error: 13930240.0000\n",
      "Epoch 768/1000\n",
      "1/1 [==============================] - 0s 23ms/step - loss: 34721606139904.0000 - root_mean_squared_error: 5892504.0000 - val_loss: 194051588489216.0000 - val_root_mean_squared_error: 13930240.0000\n",
      "Epoch 769/1000\n",
      "1/1 [==============================] - 0s 27ms/step - loss: 34721606139904.0000 - root_mean_squared_error: 5892504.0000 - val_loss: 194051588489216.0000 - val_root_mean_squared_error: 13930240.0000\n",
      "Epoch 770/1000\n",
      "1/1 [==============================] - 0s 24ms/step - loss: 34721606139904.0000 - root_mean_squared_error: 5892504.0000 - val_loss: 194051588489216.0000 - val_root_mean_squared_error: 13930240.0000\n",
      "Epoch 771/1000\n",
      "1/1 [==============================] - 0s 23ms/step - loss: 34721606139904.0000 - root_mean_squared_error: 5892504.0000 - val_loss: 194051588489216.0000 - val_root_mean_squared_error: 13930240.0000\n",
      "Epoch 772/1000\n",
      "1/1 [==============================] - 0s 27ms/step - loss: 34721606139904.0000 - root_mean_squared_error: 5892504.0000 - val_loss: 194051588489216.0000 - val_root_mean_squared_error: 13930240.0000\n",
      "Epoch 773/1000\n",
      "1/1 [==============================] - 0s 23ms/step - loss: 34721606139904.0000 - root_mean_squared_error: 5892504.0000 - val_loss: 194051588489216.0000 - val_root_mean_squared_error: 13930240.0000\n",
      "Epoch 774/1000\n",
      "1/1 [==============================] - 0s 28ms/step - loss: 34721606139904.0000 - root_mean_squared_error: 5892504.0000 - val_loss: 194051588489216.0000 - val_root_mean_squared_error: 13930240.0000\n",
      "Epoch 775/1000\n",
      "1/1 [==============================] - 0s 24ms/step - loss: 34721606139904.0000 - root_mean_squared_error: 5892504.0000 - val_loss: 194051588489216.0000 - val_root_mean_squared_error: 13930240.0000\n",
      "Epoch 776/1000\n",
      "1/1 [==============================] - 0s 26ms/step - loss: 34721606139904.0000 - root_mean_squared_error: 5892504.0000 - val_loss: 194051588489216.0000 - val_root_mean_squared_error: 13930240.0000\n",
      "Epoch 777/1000\n",
      "1/1 [==============================] - 0s 24ms/step - loss: 34721606139904.0000 - root_mean_squared_error: 5892504.0000 - val_loss: 194051588489216.0000 - val_root_mean_squared_error: 13930240.0000\n",
      "Epoch 778/1000\n",
      "1/1 [==============================] - 0s 24ms/step - loss: 34721606139904.0000 - root_mean_squared_error: 5892504.0000 - val_loss: 194051588489216.0000 - val_root_mean_squared_error: 13930240.0000\n",
      "Epoch 779/1000\n",
      "1/1 [==============================] - 0s 26ms/step - loss: 34721606139904.0000 - root_mean_squared_error: 5892504.0000 - val_loss: 194051588489216.0000 - val_root_mean_squared_error: 13930240.0000\n",
      "Epoch 780/1000\n",
      "1/1 [==============================] - 0s 25ms/step - loss: 34721606139904.0000 - root_mean_squared_error: 5892504.0000 - val_loss: 194051588489216.0000 - val_root_mean_squared_error: 13930240.0000\n",
      "Epoch 781/1000\n",
      "1/1 [==============================] - 0s 24ms/step - loss: 34721606139904.0000 - root_mean_squared_error: 5892504.0000 - val_loss: 194051588489216.0000 - val_root_mean_squared_error: 13930240.0000\n",
      "Epoch 782/1000\n",
      "1/1 [==============================] - 0s 23ms/step - loss: 34721606139904.0000 - root_mean_squared_error: 5892504.0000 - val_loss: 194051588489216.0000 - val_root_mean_squared_error: 13930240.0000\n",
      "Epoch 783/1000\n",
      "1/1 [==============================] - 0s 23ms/step - loss: 34721606139904.0000 - root_mean_squared_error: 5892504.0000 - val_loss: 194051588489216.0000 - val_root_mean_squared_error: 13930240.0000\n",
      "Epoch 784/1000\n",
      "1/1 [==============================] - 0s 28ms/step - loss: 34721606139904.0000 - root_mean_squared_error: 5892504.0000 - val_loss: 194051588489216.0000 - val_root_mean_squared_error: 13930240.0000\n",
      "Epoch 785/1000\n",
      "1/1 [==============================] - 0s 23ms/step - loss: 34721606139904.0000 - root_mean_squared_error: 5892504.0000 - val_loss: 194051588489216.0000 - val_root_mean_squared_error: 13930240.0000\n",
      "Epoch 786/1000\n",
      "1/1 [==============================] - 0s 23ms/step - loss: 34721606139904.0000 - root_mean_squared_error: 5892504.0000 - val_loss: 194051588489216.0000 - val_root_mean_squared_error: 13930240.0000\n",
      "Epoch 787/1000\n",
      "1/1 [==============================] - 0s 29ms/step - loss: 34721606139904.0000 - root_mean_squared_error: 5892504.0000 - val_loss: 194051588489216.0000 - val_root_mean_squared_error: 13930240.0000\n",
      "Epoch 788/1000\n",
      "1/1 [==============================] - 0s 24ms/step - loss: 34721606139904.0000 - root_mean_squared_error: 5892504.0000 - val_loss: 194051588489216.0000 - val_root_mean_squared_error: 13930240.0000\n",
      "Epoch 789/1000\n",
      "1/1 [==============================] - 0s 43ms/step - loss: 34721606139904.0000 - root_mean_squared_error: 5892504.0000 - val_loss: 194051588489216.0000 - val_root_mean_squared_error: 13930240.0000\n",
      "Epoch 790/1000\n",
      "1/1 [==============================] - 0s 59ms/step - loss: 34721606139904.0000 - root_mean_squared_error: 5892504.0000 - val_loss: 194051588489216.0000 - val_root_mean_squared_error: 13930240.0000\n",
      "Epoch 791/1000\n",
      "1/1 [==============================] - 0s 33ms/step - loss: 34721606139904.0000 - root_mean_squared_error: 5892504.0000 - val_loss: 194051588489216.0000 - val_root_mean_squared_error: 13930240.0000\n",
      "Epoch 792/1000\n",
      "1/1 [==============================] - 0s 47ms/step - loss: 34721606139904.0000 - root_mean_squared_error: 5892504.0000 - val_loss: 194051588489216.0000 - val_root_mean_squared_error: 13930240.0000\n",
      "Epoch 793/1000\n",
      "1/1 [==============================] - 0s 27ms/step - loss: 34721606139904.0000 - root_mean_squared_error: 5892504.0000 - val_loss: 194051588489216.0000 - val_root_mean_squared_error: 13930240.0000\n",
      "Epoch 794/1000\n",
      "1/1 [==============================] - 0s 23ms/step - loss: 34721606139904.0000 - root_mean_squared_error: 5892504.0000 - val_loss: 194051588489216.0000 - val_root_mean_squared_error: 13930240.0000\n",
      "Epoch 795/1000\n",
      "1/1 [==============================] - 0s 23ms/step - loss: 34721606139904.0000 - root_mean_squared_error: 5892504.0000 - val_loss: 194051588489216.0000 - val_root_mean_squared_error: 13930240.0000\n",
      "Epoch 796/1000\n",
      "1/1 [==============================] - 0s 26ms/step - loss: 34721606139904.0000 - root_mean_squared_error: 5892504.0000 - val_loss: 194051588489216.0000 - val_root_mean_squared_error: 13930240.0000\n",
      "Epoch 797/1000\n",
      "1/1 [==============================] - 0s 23ms/step - loss: 34721606139904.0000 - root_mean_squared_error: 5892504.0000 - val_loss: 194051588489216.0000 - val_root_mean_squared_error: 13930240.0000\n",
      "Epoch 798/1000\n",
      "1/1 [==============================] - 0s 24ms/step - loss: 34721606139904.0000 - root_mean_squared_error: 5892504.0000 - val_loss: 194051588489216.0000 - val_root_mean_squared_error: 13930240.0000\n",
      "Epoch 799/1000\n",
      "1/1 [==============================] - 0s 48ms/step - loss: 34721606139904.0000 - root_mean_squared_error: 5892504.0000 - val_loss: 194051588489216.0000 - val_root_mean_squared_error: 13930240.0000\n",
      "Epoch 800/1000\n",
      "1/1 [==============================] - 0s 23ms/step - loss: 34721606139904.0000 - root_mean_squared_error: 5892504.0000 - val_loss: 194051588489216.0000 - val_root_mean_squared_error: 13930240.0000\n",
      "Epoch 801/1000\n",
      "1/1 [==============================] - 0s 23ms/step - loss: 34721606139904.0000 - root_mean_squared_error: 5892504.0000 - val_loss: 194051588489216.0000 - val_root_mean_squared_error: 13930240.0000\n",
      "Epoch 802/1000\n",
      "1/1 [==============================] - 0s 28ms/step - loss: 34721606139904.0000 - root_mean_squared_error: 5892504.0000 - val_loss: 194051588489216.0000 - val_root_mean_squared_error: 13930240.0000\n",
      "Epoch 803/1000\n",
      "1/1 [==============================] - 0s 23ms/step - loss: 34721606139904.0000 - root_mean_squared_error: 5892504.0000 - val_loss: 194051588489216.0000 - val_root_mean_squared_error: 13930240.0000\n",
      "Epoch 804/1000\n",
      "1/1 [==============================] - 0s 27ms/step - loss: 34721606139904.0000 - root_mean_squared_error: 5892504.0000 - val_loss: 194051588489216.0000 - val_root_mean_squared_error: 13930240.0000\n",
      "Epoch 805/1000\n",
      "1/1 [==============================] - 0s 24ms/step - loss: 34721606139904.0000 - root_mean_squared_error: 5892504.0000 - val_loss: 194051588489216.0000 - val_root_mean_squared_error: 13930240.0000\n",
      "Epoch 806/1000\n",
      "1/1 [==============================] - 0s 24ms/step - loss: 34721606139904.0000 - root_mean_squared_error: 5892504.0000 - val_loss: 194051588489216.0000 - val_root_mean_squared_error: 13930240.0000\n",
      "Epoch 807/1000\n",
      "1/1 [==============================] - 0s 23ms/step - loss: 34721606139904.0000 - root_mean_squared_error: 5892504.0000 - val_loss: 194051588489216.0000 - val_root_mean_squared_error: 13930240.0000\n",
      "Epoch 808/1000\n",
      "1/1 [==============================] - 0s 23ms/step - loss: 34721606139904.0000 - root_mean_squared_error: 5892504.0000 - val_loss: 194051588489216.0000 - val_root_mean_squared_error: 13930240.0000\n",
      "Epoch 809/1000\n",
      "1/1 [==============================] - 0s 27ms/step - loss: 34721606139904.0000 - root_mean_squared_error: 5892504.0000 - val_loss: 194051588489216.0000 - val_root_mean_squared_error: 13930240.0000\n",
      "Epoch 810/1000\n",
      "1/1 [==============================] - 0s 23ms/step - loss: 34721606139904.0000 - root_mean_squared_error: 5892504.0000 - val_loss: 194051588489216.0000 - val_root_mean_squared_error: 13930240.0000\n",
      "Epoch 811/1000\n",
      "1/1 [==============================] - 0s 26ms/step - loss: 34721606139904.0000 - root_mean_squared_error: 5892504.0000 - val_loss: 194051588489216.0000 - val_root_mean_squared_error: 13930240.0000\n",
      "Epoch 812/1000\n",
      "1/1 [==============================] - 0s 23ms/step - loss: 34721606139904.0000 - root_mean_squared_error: 5892504.0000 - val_loss: 194051588489216.0000 - val_root_mean_squared_error: 13930240.0000\n",
      "Epoch 813/1000\n",
      "1/1 [==============================] - 0s 26ms/step - loss: 34721606139904.0000 - root_mean_squared_error: 5892504.0000 - val_loss: 194051588489216.0000 - val_root_mean_squared_error: 13930240.0000\n",
      "Epoch 814/1000\n",
      "1/1 [==============================] - 0s 25ms/step - loss: 34721606139904.0000 - root_mean_squared_error: 5892504.0000 - val_loss: 194051588489216.0000 - val_root_mean_squared_error: 13930240.0000\n",
      "Epoch 815/1000\n",
      "1/1 [==============================] - 0s 23ms/step - loss: 34721606139904.0000 - root_mean_squared_error: 5892504.0000 - val_loss: 194051588489216.0000 - val_root_mean_squared_error: 13930240.0000\n",
      "Epoch 816/1000\n",
      "1/1 [==============================] - 0s 23ms/step - loss: 34721606139904.0000 - root_mean_squared_error: 5892504.0000 - val_loss: 194051588489216.0000 - val_root_mean_squared_error: 13930240.0000\n",
      "Epoch 817/1000\n",
      "1/1 [==============================] - 0s 38ms/step - loss: 34721606139904.0000 - root_mean_squared_error: 5892504.0000 - val_loss: 194051588489216.0000 - val_root_mean_squared_error: 13930240.0000\n",
      "Epoch 818/1000\n",
      "1/1 [==============================] - 0s 64ms/step - loss: 34721606139904.0000 - root_mean_squared_error: 5892504.0000 - val_loss: 194051588489216.0000 - val_root_mean_squared_error: 13930240.0000\n",
      "Epoch 819/1000\n",
      "1/1 [==============================] - 0s 25ms/step - loss: 34721606139904.0000 - root_mean_squared_error: 5892504.0000 - val_loss: 194051588489216.0000 - val_root_mean_squared_error: 13930240.0000\n",
      "Epoch 820/1000\n",
      "1/1 [==============================] - 0s 27ms/step - loss: 34721606139904.0000 - root_mean_squared_error: 5892504.0000 - val_loss: 194051588489216.0000 - val_root_mean_squared_error: 13930240.0000\n",
      "Epoch 821/1000\n",
      "1/1 [==============================] - 0s 23ms/step - loss: 34721606139904.0000 - root_mean_squared_error: 5892504.0000 - val_loss: 194051588489216.0000 - val_root_mean_squared_error: 13930240.0000\n",
      "Epoch 822/1000\n",
      "1/1 [==============================] - 0s 27ms/step - loss: 34721606139904.0000 - root_mean_squared_error: 5892504.0000 - val_loss: 194051588489216.0000 - val_root_mean_squared_error: 13930240.0000\n",
      "Epoch 823/1000\n",
      "1/1 [==============================] - 0s 23ms/step - loss: 34721606139904.0000 - root_mean_squared_error: 5892504.0000 - val_loss: 194051588489216.0000 - val_root_mean_squared_error: 13930240.0000\n",
      "Epoch 824/1000\n",
      "1/1 [==============================] - 0s 22ms/step - loss: 34721606139904.0000 - root_mean_squared_error: 5892504.0000 - val_loss: 194051588489216.0000 - val_root_mean_squared_error: 13930240.0000\n",
      "Epoch 825/1000\n",
      "1/1 [==============================] - 0s 26ms/step - loss: 34721606139904.0000 - root_mean_squared_error: 5892504.0000 - val_loss: 194051588489216.0000 - val_root_mean_squared_error: 13930240.0000\n",
      "Epoch 826/1000\n",
      "1/1 [==============================] - 0s 23ms/step - loss: 34721606139904.0000 - root_mean_squared_error: 5892504.0000 - val_loss: 194051588489216.0000 - val_root_mean_squared_error: 13930240.0000\n",
      "Epoch 827/1000\n",
      "1/1 [==============================] - 0s 27ms/step - loss: 34721606139904.0000 - root_mean_squared_error: 5892504.0000 - val_loss: 194051588489216.0000 - val_root_mean_squared_error: 13930240.0000\n",
      "Epoch 828/1000\n",
      "1/1 [==============================] - 0s 24ms/step - loss: 34721606139904.0000 - root_mean_squared_error: 5892504.0000 - val_loss: 194051588489216.0000 - val_root_mean_squared_error: 13930240.0000\n",
      "Epoch 829/1000\n",
      "1/1 [==============================] - 0s 24ms/step - loss: 34721606139904.0000 - root_mean_squared_error: 5892504.0000 - val_loss: 194051588489216.0000 - val_root_mean_squared_error: 13930240.0000\n",
      "Epoch 830/1000\n",
      "1/1 [==============================] - 0s 25ms/step - loss: 34721606139904.0000 - root_mean_squared_error: 5892504.0000 - val_loss: 194051588489216.0000 - val_root_mean_squared_error: 13930240.0000\n",
      "Epoch 831/1000\n",
      "1/1 [==============================] - 0s 27ms/step - loss: 34721606139904.0000 - root_mean_squared_error: 5892504.0000 - val_loss: 194051588489216.0000 - val_root_mean_squared_error: 13930240.0000\n",
      "Epoch 832/1000\n",
      "1/1 [==============================] - 0s 24ms/step - loss: 34721606139904.0000 - root_mean_squared_error: 5892504.0000 - val_loss: 194051588489216.0000 - val_root_mean_squared_error: 13930240.0000\n",
      "Epoch 833/1000\n",
      "1/1 [==============================] - 0s 22ms/step - loss: 34721606139904.0000 - root_mean_squared_error: 5892504.0000 - val_loss: 194051588489216.0000 - val_root_mean_squared_error: 13930240.0000\n",
      "Epoch 834/1000\n",
      "1/1 [==============================] - 0s 23ms/step - loss: 34721606139904.0000 - root_mean_squared_error: 5892504.0000 - val_loss: 194051588489216.0000 - val_root_mean_squared_error: 13930240.0000\n",
      "Epoch 835/1000\n",
      "1/1 [==============================] - 0s 29ms/step - loss: 34721606139904.0000 - root_mean_squared_error: 5892504.0000 - val_loss: 194051588489216.0000 - val_root_mean_squared_error: 13930240.0000\n",
      "Epoch 836/1000\n",
      "1/1 [==============================] - 0s 23ms/step - loss: 34721606139904.0000 - root_mean_squared_error: 5892504.0000 - val_loss: 194051588489216.0000 - val_root_mean_squared_error: 13930240.0000\n",
      "Epoch 837/1000\n",
      "1/1 [==============================] - 0s 23ms/step - loss: 34721606139904.0000 - root_mean_squared_error: 5892504.0000 - val_loss: 194051588489216.0000 - val_root_mean_squared_error: 13930240.0000\n",
      "Epoch 838/1000\n",
      "1/1 [==============================] - 0s 27ms/step - loss: 34721606139904.0000 - root_mean_squared_error: 5892504.0000 - val_loss: 194051588489216.0000 - val_root_mean_squared_error: 13930240.0000\n",
      "Epoch 839/1000\n",
      "1/1 [==============================] - 0s 25ms/step - loss: 34721606139904.0000 - root_mean_squared_error: 5892504.0000 - val_loss: 194051588489216.0000 - val_root_mean_squared_error: 13930240.0000\n",
      "Epoch 840/1000\n",
      "1/1 [==============================] - 0s 27ms/step - loss: 34721606139904.0000 - root_mean_squared_error: 5892504.0000 - val_loss: 194051588489216.0000 - val_root_mean_squared_error: 13930240.0000\n",
      "Epoch 841/1000\n",
      "1/1 [==============================] - 0s 23ms/step - loss: 34721606139904.0000 - root_mean_squared_error: 5892504.0000 - val_loss: 194051588489216.0000 - val_root_mean_squared_error: 13930240.0000\n",
      "Epoch 842/1000\n",
      "1/1 [==============================] - 0s 23ms/step - loss: 34721606139904.0000 - root_mean_squared_error: 5892504.0000 - val_loss: 194051588489216.0000 - val_root_mean_squared_error: 13930240.0000\n",
      "Epoch 843/1000\n",
      "1/1 [==============================] - 0s 25ms/step - loss: 34721606139904.0000 - root_mean_squared_error: 5892504.0000 - val_loss: 194051588489216.0000 - val_root_mean_squared_error: 13930240.0000\n",
      "Epoch 844/1000\n",
      "1/1 [==============================] - 0s 23ms/step - loss: 34721606139904.0000 - root_mean_squared_error: 5892504.0000 - val_loss: 194051588489216.0000 - val_root_mean_squared_error: 13930240.0000\n",
      "Epoch 845/1000\n",
      "1/1 [==============================] - 0s 24ms/step - loss: 34721606139904.0000 - root_mean_squared_error: 5892504.0000 - val_loss: 194051588489216.0000 - val_root_mean_squared_error: 13930240.0000\n",
      "Epoch 846/1000\n",
      "1/1 [==============================] - 0s 23ms/step - loss: 34721606139904.0000 - root_mean_squared_error: 5892504.0000 - val_loss: 194051588489216.0000 - val_root_mean_squared_error: 13930240.0000\n",
      "Epoch 847/1000\n",
      "1/1 [==============================] - 0s 25ms/step - loss: 34721606139904.0000 - root_mean_squared_error: 5892504.0000 - val_loss: 194051588489216.0000 - val_root_mean_squared_error: 13930240.0000\n",
      "Epoch 848/1000\n",
      "1/1 [==============================] - 0s 23ms/step - loss: 34721606139904.0000 - root_mean_squared_error: 5892504.0000 - val_loss: 194051588489216.0000 - val_root_mean_squared_error: 13930240.0000\n",
      "Epoch 849/1000\n",
      "1/1 [==============================] - 0s 24ms/step - loss: 34721606139904.0000 - root_mean_squared_error: 5892504.0000 - val_loss: 194051588489216.0000 - val_root_mean_squared_error: 13930240.0000\n",
      "Epoch 850/1000\n",
      "1/1 [==============================] - 0s 23ms/step - loss: 34721606139904.0000 - root_mean_squared_error: 5892504.0000 - val_loss: 194051588489216.0000 - val_root_mean_squared_error: 13930240.0000\n",
      "Epoch 851/1000\n",
      "1/1 [==============================] - 0s 25ms/step - loss: 34721606139904.0000 - root_mean_squared_error: 5892504.0000 - val_loss: 194051588489216.0000 - val_root_mean_squared_error: 13930240.0000\n",
      "Epoch 852/1000\n",
      "1/1 [==============================] - 0s 23ms/step - loss: 34721606139904.0000 - root_mean_squared_error: 5892504.0000 - val_loss: 194051588489216.0000 - val_root_mean_squared_error: 13930240.0000\n",
      "Epoch 853/1000\n",
      "1/1 [==============================] - 0s 26ms/step - loss: 34721606139904.0000 - root_mean_squared_error: 5892504.0000 - val_loss: 194051588489216.0000 - val_root_mean_squared_error: 13930240.0000\n",
      "Epoch 854/1000\n",
      "1/1 [==============================] - 0s 23ms/step - loss: 34721606139904.0000 - root_mean_squared_error: 5892504.0000 - val_loss: 194051588489216.0000 - val_root_mean_squared_error: 13930240.0000\n",
      "Epoch 855/1000\n",
      "1/1 [==============================] - 0s 33ms/step - loss: 34721606139904.0000 - root_mean_squared_error: 5892504.0000 - val_loss: 194051588489216.0000 - val_root_mean_squared_error: 13930240.0000\n",
      "Epoch 856/1000\n",
      "1/1 [==============================] - 0s 72ms/step - loss: 34721606139904.0000 - root_mean_squared_error: 5892504.0000 - val_loss: 194051588489216.0000 - val_root_mean_squared_error: 13930240.0000\n",
      "Epoch 857/1000\n",
      "1/1 [==============================] - 0s 51ms/step - loss: 34721606139904.0000 - root_mean_squared_error: 5892504.0000 - val_loss: 194051588489216.0000 - val_root_mean_squared_error: 13930240.0000\n",
      "Epoch 858/1000\n",
      "1/1 [==============================] - 0s 28ms/step - loss: 34721606139904.0000 - root_mean_squared_error: 5892504.0000 - val_loss: 194051588489216.0000 - val_root_mean_squared_error: 13930240.0000\n",
      "Epoch 859/1000\n",
      "1/1 [==============================] - 0s 24ms/step - loss: 34721606139904.0000 - root_mean_squared_error: 5892504.0000 - val_loss: 194051588489216.0000 - val_root_mean_squared_error: 13930240.0000\n",
      "Epoch 860/1000\n",
      "1/1 [==============================] - 0s 29ms/step - loss: 34721606139904.0000 - root_mean_squared_error: 5892504.0000 - val_loss: 194051588489216.0000 - val_root_mean_squared_error: 13930240.0000\n",
      "Epoch 861/1000\n",
      "1/1 [==============================] - 0s 23ms/step - loss: 34721606139904.0000 - root_mean_squared_error: 5892504.0000 - val_loss: 194051588489216.0000 - val_root_mean_squared_error: 13930240.0000\n",
      "Epoch 862/1000\n",
      "1/1 [==============================] - 0s 30ms/step - loss: 34721606139904.0000 - root_mean_squared_error: 5892504.0000 - val_loss: 194051588489216.0000 - val_root_mean_squared_error: 13930240.0000\n",
      "Epoch 863/1000\n",
      "1/1 [==============================] - 0s 23ms/step - loss: 34721606139904.0000 - root_mean_squared_error: 5892504.0000 - val_loss: 194051588489216.0000 - val_root_mean_squared_error: 13930240.0000\n",
      "Epoch 864/1000\n",
      "1/1 [==============================] - 0s 23ms/step - loss: 34721606139904.0000 - root_mean_squared_error: 5892504.0000 - val_loss: 194051588489216.0000 - val_root_mean_squared_error: 13930240.0000\n",
      "Epoch 865/1000\n",
      "1/1 [==============================] - 0s 25ms/step - loss: 34721606139904.0000 - root_mean_squared_error: 5892504.0000 - val_loss: 194051588489216.0000 - val_root_mean_squared_error: 13930240.0000\n",
      "Epoch 866/1000\n",
      "1/1 [==============================] - 0s 23ms/step - loss: 34721606139904.0000 - root_mean_squared_error: 5892504.0000 - val_loss: 194051588489216.0000 - val_root_mean_squared_error: 13930240.0000\n",
      "Epoch 867/1000\n",
      "1/1 [==============================] - 0s 26ms/step - loss: 34721606139904.0000 - root_mean_squared_error: 5892504.0000 - val_loss: 194051588489216.0000 - val_root_mean_squared_error: 13930240.0000\n",
      "Epoch 868/1000\n",
      "1/1 [==============================] - 0s 23ms/step - loss: 34721606139904.0000 - root_mean_squared_error: 5892504.0000 - val_loss: 194051588489216.0000 - val_root_mean_squared_error: 13930240.0000\n",
      "Epoch 869/1000\n",
      "1/1 [==============================] - 0s 26ms/step - loss: 34721606139904.0000 - root_mean_squared_error: 5892504.0000 - val_loss: 194051588489216.0000 - val_root_mean_squared_error: 13930240.0000\n",
      "Epoch 870/1000\n",
      "1/1 [==============================] - 0s 23ms/step - loss: 34721606139904.0000 - root_mean_squared_error: 5892504.0000 - val_loss: 194051588489216.0000 - val_root_mean_squared_error: 13930240.0000\n",
      "Epoch 871/1000\n",
      "1/1 [==============================] - 0s 23ms/step - loss: 34721606139904.0000 - root_mean_squared_error: 5892504.0000 - val_loss: 194051588489216.0000 - val_root_mean_squared_error: 13930240.0000\n",
      "Epoch 872/1000\n",
      "1/1 [==============================] - 0s 28ms/step - loss: 34721606139904.0000 - root_mean_squared_error: 5892504.0000 - val_loss: 194051588489216.0000 - val_root_mean_squared_error: 13930240.0000\n",
      "Epoch 873/1000\n",
      "1/1 [==============================] - 0s 23ms/step - loss: 34721606139904.0000 - root_mean_squared_error: 5892504.0000 - val_loss: 194051588489216.0000 - val_root_mean_squared_error: 13930240.0000\n",
      "Epoch 874/1000\n",
      "1/1 [==============================] - 0s 23ms/step - loss: 34721606139904.0000 - root_mean_squared_error: 5892504.0000 - val_loss: 194051588489216.0000 - val_root_mean_squared_error: 13930240.0000\n",
      "Epoch 875/1000\n",
      "1/1 [==============================] - 0s 24ms/step - loss: 34721606139904.0000 - root_mean_squared_error: 5892504.0000 - val_loss: 194051588489216.0000 - val_root_mean_squared_error: 13930240.0000\n",
      "Epoch 876/1000\n",
      "1/1 [==============================] - 0s 23ms/step - loss: 34721606139904.0000 - root_mean_squared_error: 5892504.0000 - val_loss: 194051588489216.0000 - val_root_mean_squared_error: 13930240.0000\n",
      "Epoch 877/1000\n",
      "1/1 [==============================] - 0s 23ms/step - loss: 34721606139904.0000 - root_mean_squared_error: 5892504.0000 - val_loss: 194051588489216.0000 - val_root_mean_squared_error: 13930240.0000\n",
      "Epoch 878/1000\n",
      "1/1 [==============================] - 0s 24ms/step - loss: 34721606139904.0000 - root_mean_squared_error: 5892504.0000 - val_loss: 194051588489216.0000 - val_root_mean_squared_error: 13930240.0000\n",
      "Epoch 879/1000\n",
      "1/1 [==============================] - 0s 23ms/step - loss: 34721606139904.0000 - root_mean_squared_error: 5892504.0000 - val_loss: 194051588489216.0000 - val_root_mean_squared_error: 13930240.0000\n",
      "Epoch 880/1000\n",
      "1/1 [==============================] - 0s 24ms/step - loss: 34721606139904.0000 - root_mean_squared_error: 5892504.0000 - val_loss: 194051588489216.0000 - val_root_mean_squared_error: 13930240.0000\n",
      "Epoch 881/1000\n",
      "1/1 [==============================] - 0s 29ms/step - loss: 34721606139904.0000 - root_mean_squared_error: 5892504.0000 - val_loss: 194051588489216.0000 - val_root_mean_squared_error: 13930240.0000\n",
      "Epoch 882/1000\n",
      "1/1 [==============================] - 0s 24ms/step - loss: 34721606139904.0000 - root_mean_squared_error: 5892504.0000 - val_loss: 194051588489216.0000 - val_root_mean_squared_error: 13930240.0000\n",
      "Epoch 883/1000\n",
      "1/1 [==============================] - 0s 24ms/step - loss: 34721606139904.0000 - root_mean_squared_error: 5892504.0000 - val_loss: 194051588489216.0000 - val_root_mean_squared_error: 13930240.0000\n",
      "Epoch 884/1000\n",
      "1/1 [==============================] - 0s 23ms/step - loss: 34721606139904.0000 - root_mean_squared_error: 5892504.0000 - val_loss: 194051588489216.0000 - val_root_mean_squared_error: 13930240.0000\n",
      "Epoch 885/1000\n",
      "1/1 [==============================] - 0s 30ms/step - loss: 34721606139904.0000 - root_mean_squared_error: 5892504.0000 - val_loss: 194051588489216.0000 - val_root_mean_squared_error: 13930240.0000\n",
      "Epoch 886/1000\n",
      "1/1 [==============================] - 0s 44ms/step - loss: 34721606139904.0000 - root_mean_squared_error: 5892504.0000 - val_loss: 194051588489216.0000 - val_root_mean_squared_error: 13930240.0000\n",
      "Epoch 887/1000\n",
      "1/1 [==============================] - 0s 35ms/step - loss: 34721606139904.0000 - root_mean_squared_error: 5892504.0000 - val_loss: 194051588489216.0000 - val_root_mean_squared_error: 13930240.0000\n",
      "Epoch 888/1000\n",
      "1/1 [==============================] - 0s 25ms/step - loss: 34721606139904.0000 - root_mean_squared_error: 5892504.0000 - val_loss: 194051588489216.0000 - val_root_mean_squared_error: 13930240.0000\n",
      "Epoch 889/1000\n",
      "1/1 [==============================] - 0s 33ms/step - loss: 34721606139904.0000 - root_mean_squared_error: 5892504.0000 - val_loss: 194051588489216.0000 - val_root_mean_squared_error: 13930240.0000\n",
      "Epoch 890/1000\n",
      "1/1 [==============================] - 0s 24ms/step - loss: 34721606139904.0000 - root_mean_squared_error: 5892504.0000 - val_loss: 194051588489216.0000 - val_root_mean_squared_error: 13930240.0000\n",
      "Epoch 891/1000\n",
      "1/1 [==============================] - 0s 24ms/step - loss: 34721606139904.0000 - root_mean_squared_error: 5892504.0000 - val_loss: 194051588489216.0000 - val_root_mean_squared_error: 13930240.0000\n",
      "Epoch 892/1000\n",
      "1/1 [==============================] - 0s 23ms/step - loss: 34721606139904.0000 - root_mean_squared_error: 5892504.0000 - val_loss: 194051588489216.0000 - val_root_mean_squared_error: 13930240.0000\n",
      "Epoch 893/1000\n",
      "1/1 [==============================] - 0s 28ms/step - loss: 34721606139904.0000 - root_mean_squared_error: 5892504.0000 - val_loss: 194051588489216.0000 - val_root_mean_squared_error: 13930240.0000\n",
      "Epoch 894/1000\n",
      "1/1 [==============================] - 0s 23ms/step - loss: 34721606139904.0000 - root_mean_squared_error: 5892504.0000 - val_loss: 194051588489216.0000 - val_root_mean_squared_error: 13930240.0000\n",
      "Epoch 895/1000\n",
      "1/1 [==============================] - 0s 27ms/step - loss: 34721606139904.0000 - root_mean_squared_error: 5892504.0000 - val_loss: 194051588489216.0000 - val_root_mean_squared_error: 13930240.0000\n",
      "Epoch 896/1000\n",
      "1/1 [==============================] - 0s 24ms/step - loss: 34721606139904.0000 - root_mean_squared_error: 5892504.0000 - val_loss: 194051588489216.0000 - val_root_mean_squared_error: 13930240.0000\n",
      "Epoch 897/1000\n",
      "1/1 [==============================] - 0s 25ms/step - loss: 34721606139904.0000 - root_mean_squared_error: 5892504.0000 - val_loss: 194051588489216.0000 - val_root_mean_squared_error: 13930240.0000\n",
      "Epoch 898/1000\n",
      "1/1 [==============================] - 0s 24ms/step - loss: 34721606139904.0000 - root_mean_squared_error: 5892504.0000 - val_loss: 194051588489216.0000 - val_root_mean_squared_error: 13930240.0000\n",
      "Epoch 899/1000\n",
      "1/1 [==============================] - 0s 27ms/step - loss: 34721606139904.0000 - root_mean_squared_error: 5892504.0000 - val_loss: 194051588489216.0000 - val_root_mean_squared_error: 13930240.0000\n",
      "Epoch 900/1000\n",
      "1/1 [==============================] - 0s 25ms/step - loss: 34721606139904.0000 - root_mean_squared_error: 5892504.0000 - val_loss: 194051588489216.0000 - val_root_mean_squared_error: 13930240.0000\n",
      "Epoch 901/1000\n",
      "1/1 [==============================] - 0s 24ms/step - loss: 34721606139904.0000 - root_mean_squared_error: 5892504.0000 - val_loss: 194051588489216.0000 - val_root_mean_squared_error: 13930240.0000\n",
      "Epoch 902/1000\n",
      "1/1 [==============================] - 0s 24ms/step - loss: 34721606139904.0000 - root_mean_squared_error: 5892504.0000 - val_loss: 194051588489216.0000 - val_root_mean_squared_error: 13930240.0000\n",
      "Epoch 903/1000\n",
      "1/1 [==============================] - 0s 27ms/step - loss: 34721606139904.0000 - root_mean_squared_error: 5892504.0000 - val_loss: 194051588489216.0000 - val_root_mean_squared_error: 13930240.0000\n",
      "Epoch 904/1000\n",
      "1/1 [==============================] - 0s 24ms/step - loss: 34721606139904.0000 - root_mean_squared_error: 5892504.0000 - val_loss: 194051588489216.0000 - val_root_mean_squared_error: 13930240.0000\n",
      "Epoch 905/1000\n",
      "1/1 [==============================] - 0s 23ms/step - loss: 34721606139904.0000 - root_mean_squared_error: 5892504.0000 - val_loss: 194051588489216.0000 - val_root_mean_squared_error: 13930240.0000\n",
      "Epoch 906/1000\n",
      "1/1 [==============================] - 0s 25ms/step - loss: 34721606139904.0000 - root_mean_squared_error: 5892504.0000 - val_loss: 194051588489216.0000 - val_root_mean_squared_error: 13930240.0000\n",
      "Epoch 907/1000\n",
      "1/1 [==============================] - 0s 23ms/step - loss: 34721606139904.0000 - root_mean_squared_error: 5892504.0000 - val_loss: 194051588489216.0000 - val_root_mean_squared_error: 13930240.0000\n",
      "Epoch 908/1000\n",
      "1/1 [==============================] - 0s 22ms/step - loss: 34721606139904.0000 - root_mean_squared_error: 5892504.0000 - val_loss: 194051588489216.0000 - val_root_mean_squared_error: 13930240.0000\n",
      "Epoch 909/1000\n",
      "1/1 [==============================] - 0s 25ms/step - loss: 34721606139904.0000 - root_mean_squared_error: 5892504.0000 - val_loss: 194051588489216.0000 - val_root_mean_squared_error: 13930240.0000\n",
      "Epoch 910/1000\n",
      "1/1 [==============================] - 0s 23ms/step - loss: 34721606139904.0000 - root_mean_squared_error: 5892504.0000 - val_loss: 194051588489216.0000 - val_root_mean_squared_error: 13930240.0000\n",
      "Epoch 911/1000\n",
      "1/1 [==============================] - 0s 25ms/step - loss: 34721606139904.0000 - root_mean_squared_error: 5892504.0000 - val_loss: 194051588489216.0000 - val_root_mean_squared_error: 13930240.0000\n",
      "Epoch 912/1000\n",
      "1/1 [==============================] - 0s 23ms/step - loss: 34721606139904.0000 - root_mean_squared_error: 5892504.0000 - val_loss: 194051588489216.0000 - val_root_mean_squared_error: 13930240.0000\n",
      "Epoch 913/1000\n",
      "1/1 [==============================] - 0s 27ms/step - loss: 34721606139904.0000 - root_mean_squared_error: 5892504.0000 - val_loss: 194051588489216.0000 - val_root_mean_squared_error: 13930240.0000\n",
      "Epoch 914/1000\n",
      "1/1 [==============================] - 0s 24ms/step - loss: 34721606139904.0000 - root_mean_squared_error: 5892504.0000 - val_loss: 194051588489216.0000 - val_root_mean_squared_error: 13930240.0000\n",
      "Epoch 915/1000\n",
      "1/1 [==============================] - 0s 23ms/step - loss: 34721606139904.0000 - root_mean_squared_error: 5892504.0000 - val_loss: 194051588489216.0000 - val_root_mean_squared_error: 13930240.0000\n",
      "Epoch 916/1000\n",
      "1/1 [==============================] - 0s 23ms/step - loss: 34721606139904.0000 - root_mean_squared_error: 5892504.0000 - val_loss: 194051588489216.0000 - val_root_mean_squared_error: 13930240.0000\n",
      "Epoch 917/1000\n",
      "1/1 [==============================] - 0s 28ms/step - loss: 34721606139904.0000 - root_mean_squared_error: 5892504.0000 - val_loss: 194051588489216.0000 - val_root_mean_squared_error: 13930240.0000\n",
      "Epoch 918/1000\n",
      "1/1 [==============================] - 0s 23ms/step - loss: 34721606139904.0000 - root_mean_squared_error: 5892504.0000 - val_loss: 194051588489216.0000 - val_root_mean_squared_error: 13930240.0000\n",
      "Epoch 919/1000\n",
      "1/1 [==============================] - 0s 23ms/step - loss: 34721606139904.0000 - root_mean_squared_error: 5892504.0000 - val_loss: 194051588489216.0000 - val_root_mean_squared_error: 13930240.0000\n",
      "Epoch 920/1000\n",
      "1/1 [==============================] - 0s 25ms/step - loss: 34721606139904.0000 - root_mean_squared_error: 5892504.0000 - val_loss: 194051588489216.0000 - val_root_mean_squared_error: 13930240.0000\n",
      "Epoch 921/1000\n",
      "1/1 [==============================] - 0s 24ms/step - loss: 34721606139904.0000 - root_mean_squared_error: 5892504.0000 - val_loss: 194051588489216.0000 - val_root_mean_squared_error: 13930240.0000\n",
      "Epoch 922/1000\n",
      "1/1 [==============================] - 0s 28ms/step - loss: 34721606139904.0000 - root_mean_squared_error: 5892504.0000 - val_loss: 194051588489216.0000 - val_root_mean_squared_error: 13930240.0000\n",
      "Epoch 923/1000\n",
      "1/1 [==============================] - 0s 23ms/step - loss: 34721606139904.0000 - root_mean_squared_error: 5892504.0000 - val_loss: 194051588489216.0000 - val_root_mean_squared_error: 13930240.0000\n",
      "Epoch 924/1000\n",
      "1/1 [==============================] - 0s 23ms/step - loss: 34721606139904.0000 - root_mean_squared_error: 5892504.0000 - val_loss: 194051588489216.0000 - val_root_mean_squared_error: 13930240.0000\n",
      "Epoch 925/1000\n",
      "1/1 [==============================] - 0s 28ms/step - loss: 34721606139904.0000 - root_mean_squared_error: 5892504.0000 - val_loss: 194051588489216.0000 - val_root_mean_squared_error: 13930240.0000\n",
      "Epoch 926/1000\n",
      "1/1 [==============================] - 0s 27ms/step - loss: 34721606139904.0000 - root_mean_squared_error: 5892504.0000 - val_loss: 194051588489216.0000 - val_root_mean_squared_error: 13930240.0000\n",
      "Epoch 927/1000\n",
      "1/1 [==============================] - 0s 24ms/step - loss: 34721606139904.0000 - root_mean_squared_error: 5892504.0000 - val_loss: 194051588489216.0000 - val_root_mean_squared_error: 13930240.0000\n",
      "Epoch 928/1000\n",
      "1/1 [==============================] - 0s 23ms/step - loss: 34721606139904.0000 - root_mean_squared_error: 5892504.0000 - val_loss: 194051588489216.0000 - val_root_mean_squared_error: 13930240.0000\n",
      "Epoch 929/1000\n",
      "1/1 [==============================] - 0s 25ms/step - loss: 34721606139904.0000 - root_mean_squared_error: 5892504.0000 - val_loss: 194051588489216.0000 - val_root_mean_squared_error: 13930240.0000\n",
      "Epoch 930/1000\n",
      "1/1 [==============================] - 0s 25ms/step - loss: 34721606139904.0000 - root_mean_squared_error: 5892504.0000 - val_loss: 194051588489216.0000 - val_root_mean_squared_error: 13930240.0000\n",
      "Epoch 931/1000\n",
      "1/1 [==============================] - 0s 24ms/step - loss: 34721606139904.0000 - root_mean_squared_error: 5892504.0000 - val_loss: 194051588489216.0000 - val_root_mean_squared_error: 13930240.0000\n",
      "Epoch 932/1000\n",
      "1/1 [==============================] - 0s 38ms/step - loss: 34721606139904.0000 - root_mean_squared_error: 5892504.0000 - val_loss: 194051588489216.0000 - val_root_mean_squared_error: 13930240.0000\n",
      "Epoch 933/1000\n",
      "1/1 [==============================] - 0s 49ms/step - loss: 34721606139904.0000 - root_mean_squared_error: 5892504.0000 - val_loss: 194051588489216.0000 - val_root_mean_squared_error: 13930240.0000\n",
      "Epoch 934/1000\n",
      "1/1 [==============================] - 0s 36ms/step - loss: 34721606139904.0000 - root_mean_squared_error: 5892504.0000 - val_loss: 194051588489216.0000 - val_root_mean_squared_error: 13930240.0000\n",
      "Epoch 935/1000\n",
      "1/1 [==============================] - 0s 28ms/step - loss: 34721606139904.0000 - root_mean_squared_error: 5892504.0000 - val_loss: 194051588489216.0000 - val_root_mean_squared_error: 13930240.0000\n",
      "Epoch 936/1000\n",
      "1/1 [==============================] - 0s 25ms/step - loss: 34721606139904.0000 - root_mean_squared_error: 5892504.0000 - val_loss: 194051588489216.0000 - val_root_mean_squared_error: 13930240.0000\n",
      "Epoch 937/1000\n",
      "1/1 [==============================] - 0s 30ms/step - loss: 34721606139904.0000 - root_mean_squared_error: 5892504.0000 - val_loss: 194051588489216.0000 - val_root_mean_squared_error: 13930240.0000\n",
      "Epoch 938/1000\n",
      "1/1 [==============================] - 0s 23ms/step - loss: 34721606139904.0000 - root_mean_squared_error: 5892504.0000 - val_loss: 194051588489216.0000 - val_root_mean_squared_error: 13930240.0000\n",
      "Epoch 939/1000\n",
      "1/1 [==============================] - 0s 23ms/step - loss: 34721606139904.0000 - root_mean_squared_error: 5892504.0000 - val_loss: 194051588489216.0000 - val_root_mean_squared_error: 13930240.0000\n",
      "Epoch 940/1000\n",
      "1/1 [==============================] - 0s 27ms/step - loss: 34721606139904.0000 - root_mean_squared_error: 5892504.0000 - val_loss: 194051588489216.0000 - val_root_mean_squared_error: 13930240.0000\n",
      "Epoch 941/1000\n",
      "1/1 [==============================] - 0s 24ms/step - loss: 34721606139904.0000 - root_mean_squared_error: 5892504.0000 - val_loss: 194051588489216.0000 - val_root_mean_squared_error: 13930240.0000\n",
      "Epoch 942/1000\n",
      "1/1 [==============================] - 0s 23ms/step - loss: 34721606139904.0000 - root_mean_squared_error: 5892504.0000 - val_loss: 194051588489216.0000 - val_root_mean_squared_error: 13930240.0000\n",
      "Epoch 943/1000\n",
      "1/1 [==============================] - 0s 28ms/step - loss: 34721606139904.0000 - root_mean_squared_error: 5892504.0000 - val_loss: 194051588489216.0000 - val_root_mean_squared_error: 13930240.0000\n",
      "Epoch 944/1000\n",
      "1/1 [==============================] - 0s 23ms/step - loss: 34721606139904.0000 - root_mean_squared_error: 5892504.0000 - val_loss: 194051588489216.0000 - val_root_mean_squared_error: 13930240.0000\n",
      "Epoch 945/1000\n",
      "1/1 [==============================] - 0s 23ms/step - loss: 34721606139904.0000 - root_mean_squared_error: 5892504.0000 - val_loss: 194051588489216.0000 - val_root_mean_squared_error: 13930240.0000\n",
      "Epoch 946/1000\n",
      "1/1 [==============================] - 0s 29ms/step - loss: 34721606139904.0000 - root_mean_squared_error: 5892504.0000 - val_loss: 194051588489216.0000 - val_root_mean_squared_error: 13930240.0000\n",
      "Epoch 947/1000\n",
      "1/1 [==============================] - 0s 24ms/step - loss: 34721606139904.0000 - root_mean_squared_error: 5892504.0000 - val_loss: 194051588489216.0000 - val_root_mean_squared_error: 13930240.0000\n",
      "Epoch 948/1000\n",
      "1/1 [==============================] - 0s 25ms/step - loss: 34721606139904.0000 - root_mean_squared_error: 5892504.0000 - val_loss: 194051588489216.0000 - val_root_mean_squared_error: 13930240.0000\n",
      "Epoch 949/1000\n",
      "1/1 [==============================] - 0s 22ms/step - loss: 34721606139904.0000 - root_mean_squared_error: 5892504.0000 - val_loss: 194051588489216.0000 - val_root_mean_squared_error: 13930240.0000\n",
      "Epoch 950/1000\n",
      "1/1 [==============================] - 0s 49ms/step - loss: 34721606139904.0000 - root_mean_squared_error: 5892504.0000 - val_loss: 194051588489216.0000 - val_root_mean_squared_error: 13930240.0000\n",
      "Epoch 951/1000\n",
      "1/1 [==============================] - 0s 25ms/step - loss: 34721606139904.0000 - root_mean_squared_error: 5892504.0000 - val_loss: 194051588489216.0000 - val_root_mean_squared_error: 13930240.0000\n",
      "Epoch 952/1000\n",
      "1/1 [==============================] - 0s 24ms/step - loss: 34721606139904.0000 - root_mean_squared_error: 5892504.0000 - val_loss: 194051588489216.0000 - val_root_mean_squared_error: 13930240.0000\n",
      "Epoch 953/1000\n",
      "1/1 [==============================] - 0s 31ms/step - loss: 34721606139904.0000 - root_mean_squared_error: 5892504.0000 - val_loss: 194051588489216.0000 - val_root_mean_squared_error: 13930240.0000\n",
      "Epoch 954/1000\n",
      "1/1 [==============================] - 0s 24ms/step - loss: 34721606139904.0000 - root_mean_squared_error: 5892504.0000 - val_loss: 194051588489216.0000 - val_root_mean_squared_error: 13930240.0000\n",
      "Epoch 955/1000\n",
      "1/1 [==============================] - 0s 23ms/step - loss: 34721606139904.0000 - root_mean_squared_error: 5892504.0000 - val_loss: 194051588489216.0000 - val_root_mean_squared_error: 13930240.0000\n",
      "Epoch 956/1000\n",
      "1/1 [==============================] - 0s 27ms/step - loss: 34721606139904.0000 - root_mean_squared_error: 5892504.0000 - val_loss: 194051588489216.0000 - val_root_mean_squared_error: 13930240.0000\n",
      "Epoch 957/1000\n",
      "1/1 [==============================] - 0s 24ms/step - loss: 34721606139904.0000 - root_mean_squared_error: 5892504.0000 - val_loss: 194051588489216.0000 - val_root_mean_squared_error: 13930240.0000\n",
      "Epoch 958/1000\n",
      "1/1 [==============================] - 0s 43ms/step - loss: 34721606139904.0000 - root_mean_squared_error: 5892504.0000 - val_loss: 194051588489216.0000 - val_root_mean_squared_error: 13930240.0000\n",
      "Epoch 959/1000\n",
      "1/1 [==============================] - 0s 65ms/step - loss: 34721606139904.0000 - root_mean_squared_error: 5892504.0000 - val_loss: 194051588489216.0000 - val_root_mean_squared_error: 13930240.0000\n",
      "Epoch 960/1000\n",
      "1/1 [==============================] - 0s 34ms/step - loss: 34721606139904.0000 - root_mean_squared_error: 5892504.0000 - val_loss: 194051588489216.0000 - val_root_mean_squared_error: 13930240.0000\n",
      "Epoch 961/1000\n",
      "1/1 [==============================] - 0s 29ms/step - loss: 34721606139904.0000 - root_mean_squared_error: 5892504.0000 - val_loss: 194051588489216.0000 - val_root_mean_squared_error: 13930240.0000\n",
      "Epoch 962/1000\n",
      "1/1 [==============================] - 0s 29ms/step - loss: 34721606139904.0000 - root_mean_squared_error: 5892504.0000 - val_loss: 194051588489216.0000 - val_root_mean_squared_error: 13930240.0000\n",
      "Epoch 963/1000\n",
      "1/1 [==============================] - 0s 24ms/step - loss: 34721606139904.0000 - root_mean_squared_error: 5892504.0000 - val_loss: 194051588489216.0000 - val_root_mean_squared_error: 13930240.0000\n",
      "Epoch 964/1000\n",
      "1/1 [==============================] - 0s 23ms/step - loss: 34721606139904.0000 - root_mean_squared_error: 5892504.0000 - val_loss: 194051588489216.0000 - val_root_mean_squared_error: 13930240.0000\n",
      "Epoch 965/1000\n",
      "1/1 [==============================] - 0s 24ms/step - loss: 34721606139904.0000 - root_mean_squared_error: 5892504.0000 - val_loss: 194051588489216.0000 - val_root_mean_squared_error: 13930240.0000\n",
      "Epoch 966/1000\n",
      "1/1 [==============================] - 0s 30ms/step - loss: 34721606139904.0000 - root_mean_squared_error: 5892504.0000 - val_loss: 194051588489216.0000 - val_root_mean_squared_error: 13930240.0000\n",
      "Epoch 967/1000\n",
      "1/1 [==============================] - 0s 28ms/step - loss: 34721606139904.0000 - root_mean_squared_error: 5892504.0000 - val_loss: 194051588489216.0000 - val_root_mean_squared_error: 13930240.0000\n",
      "Epoch 968/1000\n",
      "1/1 [==============================] - 0s 30ms/step - loss: 34721606139904.0000 - root_mean_squared_error: 5892504.0000 - val_loss: 194051588489216.0000 - val_root_mean_squared_error: 13930240.0000\n",
      "Epoch 969/1000\n",
      "1/1 [==============================] - 0s 26ms/step - loss: 34721606139904.0000 - root_mean_squared_error: 5892504.0000 - val_loss: 194051588489216.0000 - val_root_mean_squared_error: 13930240.0000\n",
      "Epoch 970/1000\n",
      "1/1 [==============================] - 0s 25ms/step - loss: 34721606139904.0000 - root_mean_squared_error: 5892504.0000 - val_loss: 194051588489216.0000 - val_root_mean_squared_error: 13930240.0000\n",
      "Epoch 971/1000\n",
      "1/1 [==============================] - 0s 23ms/step - loss: 34721606139904.0000 - root_mean_squared_error: 5892504.0000 - val_loss: 194051588489216.0000 - val_root_mean_squared_error: 13930240.0000\n",
      "Epoch 972/1000\n",
      "1/1 [==============================] - 0s 28ms/step - loss: 34721606139904.0000 - root_mean_squared_error: 5892504.0000 - val_loss: 194051588489216.0000 - val_root_mean_squared_error: 13930240.0000\n",
      "Epoch 973/1000\n",
      "1/1 [==============================] - 0s 23ms/step - loss: 34721606139904.0000 - root_mean_squared_error: 5892504.0000 - val_loss: 194051588489216.0000 - val_root_mean_squared_error: 13930240.0000\n",
      "Epoch 974/1000\n",
      "1/1 [==============================] - 0s 31ms/step - loss: 34721606139904.0000 - root_mean_squared_error: 5892504.0000 - val_loss: 194051588489216.0000 - val_root_mean_squared_error: 13930240.0000\n",
      "Epoch 975/1000\n",
      "1/1 [==============================] - 0s 24ms/step - loss: 34721606139904.0000 - root_mean_squared_error: 5892504.0000 - val_loss: 194051588489216.0000 - val_root_mean_squared_error: 13930240.0000\n",
      "Epoch 976/1000\n",
      "1/1 [==============================] - 0s 29ms/step - loss: 34721606139904.0000 - root_mean_squared_error: 5892504.0000 - val_loss: 194051588489216.0000 - val_root_mean_squared_error: 13930240.0000\n",
      "Epoch 977/1000\n",
      "1/1 [==============================] - 0s 23ms/step - loss: 34721606139904.0000 - root_mean_squared_error: 5892504.0000 - val_loss: 194051588489216.0000 - val_root_mean_squared_error: 13930240.0000\n",
      "Epoch 978/1000\n",
      "1/1 [==============================] - 0s 27ms/step - loss: 34721606139904.0000 - root_mean_squared_error: 5892504.0000 - val_loss: 194051588489216.0000 - val_root_mean_squared_error: 13930240.0000\n",
      "Epoch 979/1000\n",
      "1/1 [==============================] - 0s 24ms/step - loss: 34721606139904.0000 - root_mean_squared_error: 5892504.0000 - val_loss: 194051588489216.0000 - val_root_mean_squared_error: 13930240.0000\n",
      "Epoch 980/1000\n",
      "1/1 [==============================] - 0s 24ms/step - loss: 34721606139904.0000 - root_mean_squared_error: 5892504.0000 - val_loss: 194051588489216.0000 - val_root_mean_squared_error: 13930240.0000\n",
      "Epoch 981/1000\n",
      "1/1 [==============================] - 0s 26ms/step - loss: 34721606139904.0000 - root_mean_squared_error: 5892504.0000 - val_loss: 194051588489216.0000 - val_root_mean_squared_error: 13930240.0000\n",
      "Epoch 982/1000\n",
      "1/1 [==============================] - 0s 23ms/step - loss: 34721606139904.0000 - root_mean_squared_error: 5892504.0000 - val_loss: 194051588489216.0000 - val_root_mean_squared_error: 13930240.0000\n",
      "Epoch 983/1000\n",
      "1/1 [==============================] - 0s 23ms/step - loss: 34721606139904.0000 - root_mean_squared_error: 5892504.0000 - val_loss: 194051588489216.0000 - val_root_mean_squared_error: 13930240.0000\n",
      "Epoch 984/1000\n",
      "1/1 [==============================] - 0s 26ms/step - loss: 34721606139904.0000 - root_mean_squared_error: 5892504.0000 - val_loss: 194051588489216.0000 - val_root_mean_squared_error: 13930240.0000\n",
      "Epoch 985/1000\n",
      "1/1 [==============================] - 0s 23ms/step - loss: 34721606139904.0000 - root_mean_squared_error: 5892504.0000 - val_loss: 194051588489216.0000 - val_root_mean_squared_error: 13930240.0000\n",
      "Epoch 986/1000\n",
      "1/1 [==============================] - 0s 24ms/step - loss: 34721606139904.0000 - root_mean_squared_error: 5892504.0000 - val_loss: 194051588489216.0000 - val_root_mean_squared_error: 13930240.0000\n",
      "Epoch 987/1000\n",
      "1/1 [==============================] - 0s 23ms/step - loss: 34721606139904.0000 - root_mean_squared_error: 5892504.0000 - val_loss: 194051588489216.0000 - val_root_mean_squared_error: 13930240.0000\n",
      "Epoch 988/1000\n",
      "1/1 [==============================] - 0s 23ms/step - loss: 34721606139904.0000 - root_mean_squared_error: 5892504.0000 - val_loss: 194051588489216.0000 - val_root_mean_squared_error: 13930240.0000\n",
      "Epoch 989/1000\n",
      "1/1 [==============================] - 0s 26ms/step - loss: 34721606139904.0000 - root_mean_squared_error: 5892504.0000 - val_loss: 194051588489216.0000 - val_root_mean_squared_error: 13930240.0000\n",
      "Epoch 990/1000\n",
      "1/1 [==============================] - 0s 23ms/step - loss: 34721606139904.0000 - root_mean_squared_error: 5892504.0000 - val_loss: 194051588489216.0000 - val_root_mean_squared_error: 13930240.0000\n",
      "Epoch 991/1000\n",
      "1/1 [==============================] - 0s 23ms/step - loss: 34721606139904.0000 - root_mean_squared_error: 5892504.0000 - val_loss: 194051588489216.0000 - val_root_mean_squared_error: 13930240.0000\n",
      "Epoch 992/1000\n",
      "1/1 [==============================] - 0s 26ms/step - loss: 34721606139904.0000 - root_mean_squared_error: 5892504.0000 - val_loss: 194051588489216.0000 - val_root_mean_squared_error: 13930240.0000\n",
      "Epoch 993/1000\n",
      "1/1 [==============================] - 0s 25ms/step - loss: 34721606139904.0000 - root_mean_squared_error: 5892504.0000 - val_loss: 194051588489216.0000 - val_root_mean_squared_error: 13930240.0000\n",
      "Epoch 994/1000\n",
      "1/1 [==============================] - 0s 39ms/step - loss: 34721606139904.0000 - root_mean_squared_error: 5892504.0000 - val_loss: 194051588489216.0000 - val_root_mean_squared_error: 13930240.0000\n",
      "Epoch 995/1000\n",
      "1/1 [==============================] - 0s 27ms/step - loss: 34721606139904.0000 - root_mean_squared_error: 5892504.0000 - val_loss: 194051588489216.0000 - val_root_mean_squared_error: 13930240.0000\n",
      "Epoch 996/1000\n",
      "1/1 [==============================] - 0s 33ms/step - loss: 34721606139904.0000 - root_mean_squared_error: 5892504.0000 - val_loss: 194051588489216.0000 - val_root_mean_squared_error: 13930240.0000\n",
      "Epoch 997/1000\n",
      "1/1 [==============================] - 0s 27ms/step - loss: 34721606139904.0000 - root_mean_squared_error: 5892504.0000 - val_loss: 194051588489216.0000 - val_root_mean_squared_error: 13930240.0000\n",
      "Epoch 998/1000\n",
      "1/1 [==============================] - 0s 26ms/step - loss: 34721606139904.0000 - root_mean_squared_error: 5892504.0000 - val_loss: 194051588489216.0000 - val_root_mean_squared_error: 13930240.0000\n",
      "Epoch 999/1000\n",
      "1/1 [==============================] - 0s 23ms/step - loss: 34721606139904.0000 - root_mean_squared_error: 5892504.0000 - val_loss: 194051588489216.0000 - val_root_mean_squared_error: 13930240.0000\n",
      "Epoch 1000/1000\n",
      "1/1 [==============================] - 0s 29ms/step - loss: 34721606139904.0000 - root_mean_squared_error: 5892504.0000 - val_loss: 194051588489216.0000 - val_root_mean_squared_error: 13930240.0000\n"
     ]
    },
    {
     "data": {
      "text/plain": [
       "<keras.callbacks.History at 0x7fe171d106a0>"
      ]
     },
     "execution_count": 418,
     "metadata": {},
     "output_type": "execute_result"
    }
   ],
   "source": [
    "model6.fit(X_train2, y_train2, validation_data=(X_val2, y_val2), epochs=5000, callbacks=[cp6])"
   ]
  },
  {
   "cell_type": "code",
   "execution_count": 252,
   "metadata": {},
   "outputs": [
    {
     "name": "stdout",
     "output_type": "stream",
     "text": [
      "1/1 [==============================] - 0s 293ms/step\n"
     ]
    },
    {
     "data": {
      "text/html": [
       "<div>\n",
       "<style scoped>\n",
       "    .dataframe tbody tr th:only-of-type {\n",
       "        vertical-align: middle;\n",
       "    }\n",
       "\n",
       "    .dataframe tbody tr th {\n",
       "        vertical-align: top;\n",
       "    }\n",
       "\n",
       "    .dataframe thead th {\n",
       "        text-align: right;\n",
       "    }\n",
       "</style>\n",
       "<table border=\"1\" class=\"dataframe\">\n",
       "  <thead>\n",
       "    <tr style=\"text-align: right;\">\n",
       "      <th></th>\n",
       "      <th>Train Predictions</th>\n",
       "      <th>Actuals</th>\n",
       "    </tr>\n",
       "  </thead>\n",
       "  <tbody>\n",
       "    <tr>\n",
       "      <th>0</th>\n",
       "      <td>680454.9375</td>\n",
       "      <td>1438193000</td>\n",
       "    </tr>\n",
       "    <tr>\n",
       "      <th>1</th>\n",
       "      <td>680454.9375</td>\n",
       "      <td>1445524000</td>\n",
       "    </tr>\n",
       "    <tr>\n",
       "      <th>2</th>\n",
       "      <td>680454.9375</td>\n",
       "      <td>1452626000</td>\n",
       "    </tr>\n",
       "  </tbody>\n",
       "</table>\n",
       "</div>"
      ],
      "text/plain": [
       "   Train Predictions     Actuals\n",
       "0        680454.9375  1438193000\n",
       "1        680454.9375  1445524000\n",
       "2        680454.9375  1452626000"
      ]
     },
     "execution_count": 252,
     "metadata": {},
     "output_type": "execute_result"
    }
   ],
   "source": [
    "model6 = load_model('model6/')\n",
    "train_predictions6 = model6.predict(X_train2).flatten()\n",
    "train_results6 = pd.DataFrame(data={'Train Predictions':train_predictions6, 'Actuals':y_train2})\n",
    "train_results6"
   ]
  },
  {
   "cell_type": "code",
   "execution_count": 253,
   "metadata": {},
   "outputs": [
    {
     "data": {
      "text/plain": [
       "<matplotlib.legend.Legend at 0x7fe1c12d4f70>"
      ]
     },
     "execution_count": 253,
     "metadata": {},
     "output_type": "execute_result"
    },
    {
     "data": {
      "image/png": "[encoded data removed]",
      "text/plain": [
       "<Figure size 432x288 with 1 Axes>"
      ]
     },
     "metadata": {
      "needs_background": "light"
     },
     "output_type": "display_data"
    }
   ],
   "source": [
    "plt.plot(train_results6['Train Predictions'])\n",
    "plt.plot(train_results6['Actuals'])\n",
    "plt.legend(['Prediction', 'Actual'], loc='upper left')"
   ]
  },
  {
   "cell_type": "code",
   "execution_count": 254,
   "metadata": {},
   "outputs": [
    {
     "name": "stdout",
     "output_type": "stream",
     "text": [
      "1/1 [==============================] - 0s 15ms/step\n"
     ]
    },
    {
     "data": {
      "text/html": [
       "<div>\n",
       "<style scoped>\n",
       "    .dataframe tbody tr th:only-of-type {\n",
       "        vertical-align: middle;\n",
       "    }\n",
       "\n",
       "    .dataframe tbody tr th {\n",
       "        vertical-align: top;\n",
       "    }\n",
       "\n",
       "    .dataframe thead th {\n",
       "        text-align: right;\n",
       "    }\n",
       "</style>\n",
       "<table border=\"1\" class=\"dataframe\">\n",
       "  <thead>\n",
       "    <tr style=\"text-align: right;\">\n",
       "      <th></th>\n",
       "      <th>Val Predictions</th>\n",
       "      <th>Actuals</th>\n",
       "    </tr>\n",
       "  </thead>\n",
       "  <tbody>\n",
       "    <tr>\n",
       "      <th>0</th>\n",
       "      <td>680455.0</td>\n",
       "      <td>1459378000</td>\n",
       "    </tr>\n",
       "  </tbody>\n",
       "</table>\n",
       "</div>"
      ],
      "text/plain": [
       "   Val Predictions     Actuals\n",
       "0         680455.0  1459378000"
      ]
     },
     "execution_count": 254,
     "metadata": {},
     "output_type": "execute_result"
    }
   ],
   "source": [
    "val_predictions6 = model6.predict(X_val2).flatten()\n",
    "val_results6 = pd.DataFrame(data={'Val Predictions':val_predictions6, 'Actuals':y_val2})\n",
    "val_results6"
   ]
  },
  {
   "cell_type": "code",
   "execution_count": 255,
   "metadata": {},
   "outputs": [
    {
     "name": "stdout",
     "output_type": "stream",
     "text": [
      "1/1 [==============================] - 0s 15ms/step\n"
     ]
    },
    {
     "data": {
      "text/html": [
       "<div>\n",
       "<style scoped>\n",
       "    .dataframe tbody tr th:only-of-type {\n",
       "        vertical-align: middle;\n",
       "    }\n",
       "\n",
       "    .dataframe tbody tr th {\n",
       "        vertical-align: top;\n",
       "    }\n",
       "\n",
       "    .dataframe thead th {\n",
       "        text-align: right;\n",
       "    }\n",
       "</style>\n",
       "<table border=\"1\" class=\"dataframe\">\n",
       "  <thead>\n",
       "    <tr style=\"text-align: right;\">\n",
       "      <th></th>\n",
       "      <th>Test Predictions</th>\n",
       "      <th>Actuals</th>\n",
       "    </tr>\n",
       "  </thead>\n",
       "  <tbody>\n",
       "    <tr>\n",
       "      <th>0</th>\n",
       "      <td>680455.0</td>\n",
       "      <td>1465634000</td>\n",
       "    </tr>\n",
       "  </tbody>\n",
       "</table>\n",
       "</div>"
      ],
      "text/plain": [
       "   Test Predictions     Actuals\n",
       "0          680455.0  1465634000"
      ]
     },
     "execution_count": 255,
     "metadata": {},
     "output_type": "execute_result"
    }
   ],
   "source": [
    "test_predictions6 = model6.predict(X_test2).flatten()\n",
    "test_results6 = pd.DataFrame(data={'Test Predictions':test_predictions6, 'Actuals':y_test2})\n",
    "test_results6"
   ]
  },
  {
   "cell_type": "code",
   "execution_count": 420,
   "metadata": {},
   "outputs": [
    {
     "name": "stdout",
     "output_type": "stream",
     "text": [
      "dict_keys(['loss', 'root_mean_squared_error', 'val_loss', 'val_root_mean_squared_error'])\n"
     ]
    },
    {
     "data": {
      "image/png": "[encoded data removed]",
      "text/plain": [
       "<Figure size 576x432 with 1 Axes>"
      ]
     },
     "metadata": {
      "needs_background": "light"
     },
     "output_type": "display_data"
    }
   ],
   "source": [
    "history = model6.fit(X_train2, y_train2, validation_data=(X_val2, y_val2), epochs=500, verbose=0)\n",
    "print(history.history.keys())\n",
    "\n",
    "\n",
    "figure(figsize=(8, 6))\n",
    "plt.plot(history.history['loss'])\n",
    "plt.plot(history.history['val_loss'])\n",
    "plt.title('model loss')\n",
    "plt.ylabel('loss')\n",
    "plt.xlabel('epoch')\n",
    "plt.legend(['train', 'test'], loc='upper left')\n",
    "plt.show()"
   ]
  },
  {
   "cell_type": "code",
   "execution_count": null,
   "metadata": {},
   "outputs": [],
   "source": []
  },
  {
   "cell_type": "code",
   "execution_count": null,
   "metadata": {},
   "outputs": [],
   "source": []
  },
  {
   "cell_type": "code",
   "execution_count": null,
   "metadata": {},
   "outputs": [],
   "source": []
  },
  {
   "cell_type": "code",
   "execution_count": null,
   "metadata": {},
   "outputs": [],
   "source": []
  },
  {
   "cell_type": "code",
   "execution_count": null,
   "metadata": {},
   "outputs": [],
   "source": []
  },
  {
   "cell_type": "code",
   "execution_count": null,
   "metadata": {},
   "outputs": [],
   "source": []
  },
  {
   "cell_type": "code",
   "execution_count": null,
   "metadata": {},
   "outputs": [],
   "source": []
  },
  {
   "cell_type": "code",
   "execution_count": null,
   "metadata": {},
   "outputs": [],
   "source": []
  },
  {
   "cell_type": "code",
   "execution_count": null,
   "metadata": {},
   "outputs": [],
   "source": []
  },
  {
   "cell_type": "code",
   "execution_count": null,
   "metadata": {},
   "outputs": [],
   "source": []
  },
  {
   "cell_type": "code",
   "execution_count": null,
   "metadata": {
    "collapsed": false,
    "pycharm": {
     "name": "#%%\n"
    }
   },
   "outputs": [],
   "source": []
  },
  {
   "cell_type": "code",
   "execution_count": null,
   "metadata": {
    "collapsed": false,
    "pycharm": {
     "name": "#%%\n"
    }
   },
   "outputs": [],
   "source": []
  },
  {
   "cell_type": "code",
   "execution_count": null,
   "metadata": {
    "collapsed": false,
    "pycharm": {
     "name": "#%%\n"
    }
   },
   "outputs": [],
   "source": []
  },
  {
   "cell_type": "markdown",
   "metadata": {},
   "source": [
    "# -----------------------------"
   ]
  },
  {
   "cell_type": "markdown",
   "metadata": {},
   "source": [
    "# -----------------------------"
   ]
  },
  {
   "cell_type": "markdown",
   "metadata": {},
   "source": [
    "# -----------------------------"
   ]
  },
  {
   "cell_type": "markdown",
   "metadata": {},
   "source": [
    "# -----------------------------"
   ]
  },
  {
   "cell_type": "markdown",
   "metadata": {},
   "source": [
    "# -----------------------------"
   ]
  },
  {
   "cell_type": "code",
   "execution_count": 258,
   "metadata": {
    "collapsed": false,
    "pycharm": {
     "name": "#%%\n"
    }
   },
   "outputs": [
    {
     "data": {
      "text/html": [
       "<div>\n",
       "<style scoped>\n",
       "    .dataframe tbody tr th:only-of-type {\n",
       "        vertical-align: middle;\n",
       "    }\n",
       "\n",
       "    .dataframe tbody tr th {\n",
       "        vertical-align: top;\n",
       "    }\n",
       "\n",
       "    .dataframe thead th {\n",
       "        text-align: right;\n",
       "    }\n",
       "</style>\n",
       "<table border=\"1\" class=\"dataframe\">\n",
       "  <thead>\n",
       "    <tr style=\"text-align: right;\">\n",
       "      <th></th>\n",
       "      <th>index</th>\n",
       "      <th>country</th>\n",
       "      <th>commodity</th>\n",
       "      <th>year</th>\n",
       "      <th>loss_percentage</th>\n",
       "      <th>activity</th>\n",
       "      <th>food_supply_stage</th>\n",
       "      <th>cause_of_loss</th>\n",
       "    </tr>\n",
       "  </thead>\n",
       "  <tbody>\n",
       "    <tr>\n",
       "      <th>151</th>\n",
       "      <td>3072</td>\n",
       "      <td>Benin</td>\n",
       "      <td>Maize (corn)</td>\n",
       "      <td>2000</td>\n",
       "      <td>6.42</td>\n",
       "      <td>Drying, Harvesting</td>\n",
       "      <td>Harvest</td>\n",
       "      <td>NaN</td>\n",
       "    </tr>\n",
       "    <tr>\n",
       "      <th>150</th>\n",
       "      <td>3071</td>\n",
       "      <td>Benin</td>\n",
       "      <td>Maize (corn)</td>\n",
       "      <td>2000</td>\n",
       "      <td>2.36</td>\n",
       "      <td>Transportation</td>\n",
       "      <td>Farm</td>\n",
       "      <td>NaN</td>\n",
       "    </tr>\n",
       "    <tr>\n",
       "      <th>149</th>\n",
       "      <td>3070</td>\n",
       "      <td>Benin</td>\n",
       "      <td>Maize (corn)</td>\n",
       "      <td>2000</td>\n",
       "      <td>4.00</td>\n",
       "      <td>Drying</td>\n",
       "      <td>Farm</td>\n",
       "      <td>NaN</td>\n",
       "    </tr>\n",
       "    <tr>\n",
       "      <th>148</th>\n",
       "      <td>3069</td>\n",
       "      <td>Benin</td>\n",
       "      <td>Maize (corn)</td>\n",
       "      <td>2000</td>\n",
       "      <td>3.05</td>\n",
       "      <td>Storage</td>\n",
       "      <td>Farm</td>\n",
       "      <td>NaN</td>\n",
       "    </tr>\n",
       "    <tr>\n",
       "      <th>147</th>\n",
       "      <td>3068</td>\n",
       "      <td>Benin</td>\n",
       "      <td>Maize (corn)</td>\n",
       "      <td>2000</td>\n",
       "      <td>1.65</td>\n",
       "      <td>Transportation</td>\n",
       "      <td>Transport</td>\n",
       "      <td>NaN</td>\n",
       "    </tr>\n",
       "    <tr>\n",
       "      <th>...</th>\n",
       "      <td>...</td>\n",
       "      <td>...</td>\n",
       "      <td>...</td>\n",
       "      <td>...</td>\n",
       "      <td>...</td>\n",
       "      <td>...</td>\n",
       "      <td>...</td>\n",
       "      <td>...</td>\n",
       "    </tr>\n",
       "    <tr>\n",
       "      <th>4</th>\n",
       "      <td>2452</td>\n",
       "      <td>Benin</td>\n",
       "      <td>Maize (corn)</td>\n",
       "      <td>2020</td>\n",
       "      <td>2.36</td>\n",
       "      <td>Transportation</td>\n",
       "      <td>Farm</td>\n",
       "      <td>NaN</td>\n",
       "    </tr>\n",
       "    <tr>\n",
       "      <th>3</th>\n",
       "      <td>2451</td>\n",
       "      <td>Benin</td>\n",
       "      <td>Maize (corn)</td>\n",
       "      <td>2020</td>\n",
       "      <td>4.00</td>\n",
       "      <td>Drying</td>\n",
       "      <td>Farm</td>\n",
       "      <td>NaN</td>\n",
       "    </tr>\n",
       "    <tr>\n",
       "      <th>2</th>\n",
       "      <td>2450</td>\n",
       "      <td>Benin</td>\n",
       "      <td>Maize (corn)</td>\n",
       "      <td>2020</td>\n",
       "      <td>6.42</td>\n",
       "      <td>Drying, Harvesting</td>\n",
       "      <td>Harvest</td>\n",
       "      <td>NaN</td>\n",
       "    </tr>\n",
       "    <tr>\n",
       "      <th>1</th>\n",
       "      <td>2449</td>\n",
       "      <td>Benin</td>\n",
       "      <td>Maize (corn)</td>\n",
       "      <td>2020</td>\n",
       "      <td>3.04</td>\n",
       "      <td>Storage</td>\n",
       "      <td>Farm</td>\n",
       "      <td>NaN</td>\n",
       "    </tr>\n",
       "    <tr>\n",
       "      <th>0</th>\n",
       "      <td>2448</td>\n",
       "      <td>Benin</td>\n",
       "      <td>Maize (corn)</td>\n",
       "      <td>2020</td>\n",
       "      <td>2.65</td>\n",
       "      <td>Storage</td>\n",
       "      <td>Storage</td>\n",
       "      <td>NaN</td>\n",
       "    </tr>\n",
       "  </tbody>\n",
       "</table>\n",
       "<p>152 rows × 8 columns</p>\n",
       "</div>"
      ],
      "text/plain": [
       "     index country     commodity  year  loss_percentage            activity  \\\n",
       "151   3072   Benin  Maize (corn)  2000             6.42  Drying, Harvesting   \n",
       "150   3071   Benin  Maize (corn)  2000             2.36      Transportation   \n",
       "149   3070   Benin  Maize (corn)  2000             4.00              Drying   \n",
       "148   3069   Benin  Maize (corn)  2000             3.05             Storage   \n",
       "147   3068   Benin  Maize (corn)  2000             1.65      Transportation   \n",
       "..     ...     ...           ...   ...              ...                 ...   \n",
       "4     2452   Benin  Maize (corn)  2020             2.36      Transportation   \n",
       "3     2451   Benin  Maize (corn)  2020             4.00              Drying   \n",
       "2     2450   Benin  Maize (corn)  2020             6.42  Drying, Harvesting   \n",
       "1     2449   Benin  Maize (corn)  2020             3.04             Storage   \n",
       "0     2448   Benin  Maize (corn)  2020             2.65             Storage   \n",
       "\n",
       "    food_supply_stage cause_of_loss  \n",
       "151           Harvest           NaN  \n",
       "150              Farm           NaN  \n",
       "149              Farm           NaN  \n",
       "148              Farm           NaN  \n",
       "147         Transport           NaN  \n",
       "..                ...           ...  \n",
       "4                Farm           NaN  \n",
       "3                Farm           NaN  \n",
       "2             Harvest           NaN  \n",
       "1                Farm           NaN  \n",
       "0             Storage           NaN  \n",
       "\n",
       "[152 rows x 8 columns]"
      ]
     },
     "execution_count": 258,
     "metadata": {},
     "output_type": "execute_result"
    }
   ],
   "source": [
    "df = pd.read_csv(\"Data/Data.csv\")\n",
    "df = df[[\"country\", \"commodity\", \"year\", \"loss_percentage\", \"activity\", \"food_supply_stage\", \"cause_of_loss\"]]\n",
    "\n",
    "def focus_on(country, commodity):\n",
    "    new_df = df[df.country == country]\n",
    "    new_df = new_df[new_df.commodity == commodity]\n",
    "    return new_df\n",
    "\n",
    "# data = focus_on(\"Kenya\", \"Maize (corn)\")\n",
    "data = focus_on(\"Benin\", \"Maize (corn)\")\n",
    "data = data.reset_index()\n",
    "data.sort_values(by=([\"index\"]), ascending=False, inplace=True)\n",
    "data"
   ]
  },
  {
   "cell_type": "code",
   "execution_count": null,
   "metadata": {
    "collapsed": false,
    "pycharm": {
     "name": "#%%\n"
    }
   },
   "outputs": [],
   "source": [
    "validate = data[[\"activity\",\"food_supply_stage\",\"loss_percentage\"]].tail(3)\n",
    "data.drop(data.tail(3).index,inplace=True)"
   ]
  },
  {
   "cell_type": "code",
   "execution_count": null,
   "metadata": {
    "collapsed": false,
    "pycharm": {
     "name": "#%%\n"
    }
   },
   "outputs": [],
   "source": [
    "for i in data.select_dtypes('object').columns:\n",
    "    le = LabelEncoder().fit(data[i])\n",
    "    data[i] = le.transform(data[i])\n",
    "X_scaler = MinMaxScaler()\n",
    "Y_scaler = MinMaxScaler()\n",
    "X_data = X_scaler.fit_transform(data[[\"activity\",\"food_supply_stage\",\"loss_percentage\"]])\n",
    "Y_data = Y_scaler.fit_transform(data[['loss_percentage']])"
   ]
  },
  {
   "cell_type": "code",
   "execution_count": null,
   "metadata": {
    "collapsed": false,
    "pycharm": {
     "name": "#%%\n"
    }
   },
   "outputs": [],
   "source": [
    "X_data"
   ]
  },
  {
   "cell_type": "code",
   "execution_count": null,
   "metadata": {
    "collapsed": false,
    "pycharm": {
     "name": "#%%\n"
    }
   },
   "outputs": [],
   "source": [
    "def custom_ts_multi_data_prep(dataset, target, start, end, window, horizon):\n",
    "     X = []\n",
    "     y = []\n",
    "     start = start + window\n",
    "     if end is None:\n",
    "         end = len(dataset) - horizon\n",
    "     for i in range(start, end):\n",
    "         indices = range(i-window, i)\n",
    "         X.append(dataset[indices])\n",
    "         indicey = range(i+1, i+1+horizon)\n",
    "         y.append(target[indicey])\n",
    "     return np.array(X), np.array(y)"
   ]
  },
  {
   "cell_type": "code",
   "execution_count": null,
   "metadata": {
    "collapsed": false,
    "pycharm": {
     "name": "#%%\n"
    }
   },
   "outputs": [],
   "source": [
    "hist_window = 8\n",
    "horizon = 3\n",
    "TRAIN_SPLIT = 120\n",
    "x_train, y_train = custom_ts_multi_data_prep(X_data, Y_data, 0, TRAIN_SPLIT, hist_window, horizon)\n",
    "x_vali, y_vali = custom_ts_multi_data_prep(X_data, Y_data, TRAIN_SPLIT, None, hist_window, horizon)"
   ]
  },
  {
   "cell_type": "code",
   "execution_count": null,
   "metadata": {
    "collapsed": false,
    "pycharm": {
     "name": "#%%\n"
    }
   },
   "outputs": [],
   "source": [
    "print ('Multiple window of past history\\n')\n",
    "print(x_train[0])\n",
    "print ('\\n Target horizon\\n')\n",
    "print (y_train[0])"
   ]
  },
  {
   "cell_type": "code",
   "execution_count": null,
   "metadata": {
    "collapsed": false,
    "pycharm": {
     "name": "#%%\n"
    }
   },
   "outputs": [],
   "source": [
    "batch_size = 256\n",
    "buffer_size = 150\n",
    "train_data = tf.data.Dataset.from_tensor_slices((x_train, y_train))\n",
    "train_data = train_data.cache().shuffle(buffer_size).batch(batch_size).repeat()\n",
    "val_data = tf.data.Dataset.from_tensor_slices((x_vali, y_vali))\n",
    "val_data = val_data.batch(batch_size).repeat()"
   ]
  },
  {
   "cell_type": "code",
   "execution_count": null,
   "metadata": {
    "collapsed": false,
    "pycharm": {
     "name": "#%%\n"
    }
   },
   "outputs": [],
   "source": [
    "lstm_model = tf.keras.models.Sequential([\n",
    "    tf.keras.layers.Bidirectional(tf.keras.layers.LSTM(300, return_sequences=True),\n",
    "                                input_shape=x_train.shape[-2:]),\n",
    "     tf.keras.layers.Dense(20, activation='tanh'),\n",
    "     tf.keras.layers.Bidirectional(tf.keras.layers.LSTM(150)),\n",
    "     # tf.keras.layers.Dense(30, activation='tanh'),\n",
    "     # tf.keras.layers.Dense(20, activation='tanh'),\n",
    "     tf.keras.layers.Dropout(0.15),\n",
    "     tf.keras.layers.Dense(units=horizon),\n",
    "    ])\n",
    "lstm_model.compile(optimizer='adam', loss='mse')\n",
    "lstm_model.summary()"
   ]
  },
  {
   "cell_type": "code",
   "execution_count": null,
   "metadata": {
    "collapsed": false,
    "pycharm": {
     "name": "#%%\n"
    }
   },
   "outputs": [],
   "source": [
    "model_path = 'Bidirectional_LSTM_Multivariate.h5'\n",
    "early_stopings = tf.keras.callbacks.EarlyStopping(monitor='val_loss', min_delta=0, patience=10, verbose=1, mode='min')\n",
    "checkpoint =  tf.keras.callbacks.ModelCheckpoint(model_path, monitor='val_loss', save_best_only=True, mode='min', verbose=0)\n",
    "callbacks=[early_stopings,checkpoint]\n",
    "history = lstm_model.fit(train_data,epochs=50,steps_per_epoch=100,validation_data=val_data,validation_steps=50,verbose=1,callbacks=callbacks)"
   ]
  },
  {
   "cell_type": "code",
   "execution_count": null,
   "metadata": {
    "collapsed": false,
    "pycharm": {
     "name": "#%%\n"
    }
   },
   "outputs": [],
   "source": [
    "plt.figure(figsize=(16,9))\n",
    "plt.plot(history.history['loss'])\n",
    "plt.plot(history.history['val_loss'])\n",
    "plt.title('Model loss')\n",
    "plt.ylabel('loss')\n",
    "plt.xlabel('epoch')\n",
    "plt.legend(['train loss', 'validation loss'])\n",
    "plt.show()"
   ]
  },
  {
   "cell_type": "code",
   "execution_count": null,
   "metadata": {
    "collapsed": false,
    "pycharm": {
     "name": "#%%\n"
    }
   },
   "outputs": [],
   "source": [
    "data_val = X_scaler.fit_transform(data[[\"activity\",\"food_supply_stage\",\"loss_percentage\"]].tail(8))\n",
    "val_rescaled = data_val.reshape(1, data_val.shape[0], data_val.shape[1])\n",
    "pred = lstm_model.predict(val_rescaled)\n",
    "pred_Inverse = Y_scaler.inverse_transform(pred)\n",
    "pred_Inverse"
   ]
  },
  {
   "cell_type": "code",
   "execution_count": null,
   "metadata": {
    "collapsed": false,
    "pycharm": {
     "name": "#%%\n"
    }
   },
   "outputs": [],
   "source": [
    "\n",
    "data_val"
   ]
  },
  {
   "cell_type": "code",
   "execution_count": null,
   "metadata": {
    "collapsed": false,
    "pycharm": {
     "name": "#%%\n"
    }
   },
   "outputs": [],
   "source": [
    "def timeseries_evaluation_metrics_func(y_true, y_pred):\n",
    "    def mean_absolute_percentage_error(y_true, y_pred):\n",
    "        y_true, y_pred = np.array(y_true), np.array(y_pred)\n",
    "        return np.mean(np.abs((y_true - y_pred) / y_true)) * 100\n",
    "    print('Evaluation metric results:-')\n",
    "    print(f'MSE is : {metrics.mean_squared_error(y_true, y_pred)}')\n",
    "    print(f'MAE is : {metrics.mean_absolute_error(y_true, y_pred)}')\n",
    "    print(f'RMSE is : {np.sqrt(metrics.mean_squared_error(y_true, y_pred))}')\n",
    "    print(f'MAPE is : {mean_absolute_percentage_error(y_true, y_pred)}')\n",
    "    print(f'R2 is : {metrics.r2_score(y_true, y_pred)}',end='\\n\\n')"
   ]
  },
  {
   "cell_type": "code",
   "execution_count": null,
   "metadata": {
    "collapsed": false,
    "pycharm": {
     "name": "#%%\n"
    }
   },
   "outputs": [],
   "source": [
    "timeseries_evaluation_metrics_func(validate[\"loss_percentage\"],pred_Inverse[0])"
   ]
  },
  {
   "cell_type": "code",
   "execution_count": null,
   "metadata": {
    "collapsed": false,
    "pycharm": {
     "name": "#%%\n"
    }
   },
   "outputs": [],
   "source": [
    "plt.figure(figsize=(16,9))\n",
    "plt.plot( list(validate['loss_percentage']))\n",
    "plt.plot( list(pred_Inverse[0]))\n",
    "plt.title(\"Actual vs Predicted\")\n",
    "plt.ylabel(\"Loss Percentage\")\n",
    "plt.xlabel('Years (After 2000)')\n",
    "plt.legend(('Actual','predicted'))\n",
    "plt.show()"
   ]
  },
  {
   "cell_type": "code",
   "execution_count": null,
   "metadata": {
    "collapsed": false,
    "pycharm": {
     "name": "#%%\n"
    }
   },
   "outputs": [],
   "source": [
    "data_val = X_scaler.fit_transform(data[[\"activity\",\"food_supply_stage\",\"loss_percentage\"]].tail(8))\n",
    "val_rescaled = data_val.reshape(1, data_val.shape[0], data_val.shape[1])"
   ]
  },
  {
   "cell_type": "code",
   "execution_count": null,
   "metadata": {
    "collapsed": false,
    "pycharm": {
     "name": "#%%\n"
    }
   },
   "outputs": [],
   "source": [
    "validate[\"loss_percentage\"]"
   ]
  },
  {
   "cell_type": "code",
   "execution_count": null,
   "metadata": {
    "collapsed": false,
    "pycharm": {
     "name": "#%%\n"
    }
   },
   "outputs": [],
   "source": [
    "pred_Inverse[0]"
   ]
  },
  {
   "cell_type": "code",
   "execution_count": null,
   "metadata": {
    "collapsed": false,
    "pycharm": {
     "name": "#%%\n"
    }
   },
   "outputs": [],
   "source": []
  },
  {
   "cell_type": "code",
   "execution_count": null,
   "metadata": {
    "collapsed": false,
    "pycharm": {
     "name": "#%%\n"
    }
   },
   "outputs": [],
   "source": []
  },
  {
   "cell_type": "code",
   "execution_count": null,
   "metadata": {
    "collapsed": false,
    "pycharm": {
     "name": "#%%\n"
    }
   },
   "outputs": [],
   "source": []
  },
  {
   "cell_type": "code",
   "execution_count": null,
   "metadata": {
    "collapsed": false,
    "pycharm": {
     "name": "#%%\n"
    }
   },
   "outputs": [],
   "source": []
  },
  {
   "cell_type": "code",
   "execution_count": null,
   "metadata": {
    "collapsed": false,
    "pycharm": {
     "name": "#%%\n"
    }
   },
   "outputs": [],
   "source": []
  },
  {
   "cell_type": "code",
   "execution_count": null,
   "metadata": {
    "collapsed": false,
    "pycharm": {
     "name": "#%%\n"
    }
   },
   "outputs": [],
   "source": []
  },
  {
   "cell_type": "code",
   "execution_count": null,
   "metadata": {
    "collapsed": false,
    "pycharm": {
     "name": "#%%\n"
    }
   },
   "outputs": [],
   "source": []
  },
  {
   "cell_type": "code",
   "execution_count": null,
   "metadata": {
    "collapsed": false,
    "pycharm": {
     "name": "#%%\n"
    }
   },
   "outputs": [],
   "source": []
  },
  {
   "cell_type": "code",
   "execution_count": null,
   "metadata": {
    "collapsed": false,
    "pycharm": {
     "name": "#%%\n"
    }
   },
   "outputs": [],
   "source": []
  },
  {
   "cell_type": "code",
   "execution_count": null,
   "metadata": {
    "collapsed": false,
    "pycharm": {
     "name": "#%%\n"
    }
   },
   "outputs": [],
   "source": []
  },
  {
   "cell_type": "code",
   "execution_count": null,
   "metadata": {
    "collapsed": false,
    "pycharm": {
     "name": "#%%\n"
    }
   },
   "outputs": [],
   "source": []
  },
  {
   "cell_type": "code",
   "execution_count": null,
   "metadata": {
    "collapsed": false,
    "pycharm": {
     "name": "#%%\n"
    }
   },
   "outputs": [],
   "source": []
  },
  {
   "cell_type": "code",
   "execution_count": null,
   "metadata": {
    "collapsed": false,
    "pycharm": {
     "name": "#%%\n"
    }
   },
   "outputs": [],
   "source": []
  },
  {
   "cell_type": "code",
   "execution_count": null,
   "metadata": {
    "collapsed": false,
    "pycharm": {
     "name": "#%%\n"
    }
   },
   "outputs": [],
   "source": []
  },
  {
   "cell_type": "markdown",
   "metadata": {
    "collapsed": false,
    "pycharm": {
     "name": "#%% md\n"
    }
   },
   "source": [
    "TUNING"
   ]
  },
  {
   "cell_type": "code",
   "execution_count": null,
   "metadata": {
    "collapsed": false,
    "pycharm": {
     "name": "#%%\n"
    }
   },
   "outputs": [],
   "source": [
    "HP_NUM_UNITS = hp.HParam('num_units', hp.Discrete([16, 32]))\n",
    "HP_DROPOUT = hp.HParam('dropout', hp.RealInterval(0.1, 0.2))\n",
    "HP_OPTIMIZER = hp.HParam('optimizer', hp.Discrete(['adam','sgd']))\n",
    "\n",
    "METRIC_ACCURACY = 'accuracy'\n",
    "\n",
    "with tf.summary.create_file_writer('logs/hparam_tuning').as_default():\n",
    "  hp.hparams_config(\n",
    "    hparams=[HP_NUM_UNITS, HP_DROPOUT, HP_OPTIMIZER],\n",
    "    metrics=[hp.Metric(METRIC_ACCURACY, display_name='Accuracy')],\n",
    "  )"
   ]
  },
  {
   "cell_type": "code",
   "execution_count": null,
   "metadata": {
    "collapsed": false,
    "pycharm": {
     "name": "#%%\n"
    }
   },
   "outputs": [],
   "source": [
    "def train_test_model(hparams):\n",
    "    lstm_model_opt = tf.keras.models.Sequential([\n",
    "        tf.keras.layers.Bidirectional(tf.keras.layers.LSTM(200, return_sequences=True),\n",
    "                                    input_shape=x_train.shape[-2:]),\n",
    "         tf.keras.layers.Dense(20, activation='tanh'),\n",
    "         tf.keras.layers.Bidirectional(tf.keras.layers.LSTM(150)),\n",
    "         tf.keras.layers.Dense(20, activation='tanh'),\n",
    "         tf.keras.layers.Dropout(0.25),\n",
    "         tf.keras.layers.Dense(units=horizon),\n",
    "        ])\n",
    "    lstm_model_opt.compile(optimizer=hparams[HP_OPTIMIZER], loss='mse')\n",
    "    lstm_model_opt.summary()\n",
    "    model_path = 'Bidirectional_LSTM_Multivariate_opt.h5'\n",
    "    early_stopings = tf.keras.callbacks.EarlyStopping(monitor='val_loss', min_delta=0.001, patience=5, verbose=1, mode='min')\n",
    "    checkpoint =  tf.keras.callbacks.ModelCheckpoint(model_path, monitor='val_loss', save_best_only=True, mode='min', verbose=0)\n",
    "    callbacks=[early_stopings,checkpoint]\n",
    "    history = lstm_model.fit(train_data,epochs=50,steps_per_epoch=100,validation_data=val_data,validation_steps=50,verbose=1,callbacks=callbacks)\n",
    "    (validate[\"loss_percentage\"], pred_Inverse[0])\n",
    "    return history"
   ]
  },
  {
   "cell_type": "code",
   "execution_count": null,
   "metadata": {
    "collapsed": false,
    "pycharm": {
     "name": "#%%\n"
    }
   },
   "outputs": [],
   "source": [
    "def run(run_dir, hparams):\n",
    "  with tf.summary.create_file_writer(run_dir).as_default():\n",
    "    hp.hparams(hparams)  # record the values used in this trial\n",
    "    history = train_test_model(hparams)\n",
    "    accuracy=model.evaluate(x_test, y_test)\n",
    "    tf.summary.scalar(METRIC_ACCURACY, step=1)"
   ]
  },
  {
   "cell_type": "code",
   "execution_count": null,
   "metadata": {
    "collapsed": false,
    "pycharm": {
     "name": "#%%\n"
    }
   },
   "outputs": [],
   "source": [
    "session_num = 0\n",
    "\n",
    "for num_units in HP_NUM_UNITS.domain.values:\n",
    "  for dropout_rate in (HP_DROPOUT.domain.min_value, HP_DROPOUT.domain.max_value):\n",
    "    for optimizer in HP_OPTIMIZER.domain.values:\n",
    "      hparams = {\n",
    "          HP_NUM_UNITS: num_units,\n",
    "          HP_DROPOUT: dropout_rate,\n",
    "          HP_OPTIMIZER: optimizer,\n",
    "      }\n",
    "      run_name = \"run-%d\" % session_num\n",
    "      print('--- Starting trial: %s' % run_name)\n",
    "      print({h.name: hparams[h] for h in hparams})\n",
    "      run('logs/hparam_tuning/' + run_name, hparams)\n",
    "      session_num += 1"
   ]
  },
  {
   "cell_type": "code",
   "execution_count": null,
   "metadata": {
    "collapsed": false,
    "pycharm": {
     "name": "#%%\n"
    }
   },
   "outputs": [],
   "source": [
    "plt.figure(figsize=(16, 9))\n",
    "plt.plot(history.history['loss'])\n",
    "plt.plot(history.history['val_loss'])\n",
    "plt.title('Model loss')\n",
    "plt.ylabel('loss')\n",
    "plt.xlabel('epoch')\n",
    "plt.legend(['train loss', 'validation loss'])\n",
    "plt.show()\n"
   ]
  },
  {
   "cell_type": "code",
   "execution_count": null,
   "metadata": {
    "collapsed": false,
    "pycharm": {
     "name": "#%%\n"
    }
   },
   "outputs": [],
   "source": [
    "data_val = X_scaler.fit_transform(data[[\"activity\", \"food_supply_stage\", \"loss_percentage\"]].tail(8))\n",
    "val_rescaled = data_val.reshape(1, data_val.shape[0], data_val.shape[1])\n",
    "pred = lstm_model.predict(val_rescaled)\n",
    "pred_Inverse = Y_scaler.inverse_transform(pred)\n",
    "pred_Inverse"
   ]
  },
  {
   "cell_type": "code",
   "execution_count": null,
   "metadata": {
    "collapsed": false,
    "pycharm": {
     "name": "#%%\n"
    }
   },
   "outputs": [],
   "source": [
    "def timeseries_evaluation_metrics_func(y_true, y_pred):\n",
    "    def mean_absolute_percentage_error(y_true, y_pred):\n",
    "        y_true, y_pred = np.array(y_true), np.array(y_pred)\n",
    "        return np.mean(np.abs((y_true - y_pred) / y_true)) * 100\n",
    "\n",
    "    print('Evaluation metric results:-')\n",
    "    print(f'MSE is : {metrics.mean_squared_error(y_true, y_pred)}')\n",
    "    print(f'MAE is : {metrics.mean_absolute_error(y_true, y_pred)}')\n",
    "    print(f'RMSE is : {np.sqrt(metrics.mean_squared_error(y_true, y_pred))}')\n",
    "    print(f'MAPE is : {mean_absolute_percentage_error(y_true, y_pred)}')\n",
    "    print(f'R2 is : {metrics.r2_score(y_true, y_pred)}', end='\\n\\n')\n",
    "\n",
    "\n",
    "timeseries_evaluation_metrics_func(validate[\"loss_percentage\"], pred_Inverse[0])\n",
    "plt.figure(figsize=(16, 9))\n",
    "plt.plot(list(validate['loss_percentage']))\n",
    "plt.plot(list(pred_Inverse[0]))\n",
    "plt.title(\"Actual vs Predicted\")\n",
    "plt.ylabel(\"Traffic volume\")\n",
    "plt.legend(('Actual', 'predicted'))\n",
    "plt.show()"
   ]
  }
 ],
 "metadata": {
  "kernelspec": {
   "display_name": "Python 3.9.0 ('venv')",
   "language": "python",
   "name": "python3"
  },
  "language_info": {
   "codemirror_mode": {
    "name": "ipython",
    "version": 3
   },
   "file_extension": ".py",
   "mimetype": "text/x-python",
   "name": "python",
   "nbconvert_exporter": "python",
   "pygments_lexer": "ipython3",
   "version": "3.9.0"
  },
  "vscode": {
   "interpreter": {
    "hash": "713654384febb35868ed951ad9309a525cf553cdc72ed92d2edb347802f3b56b"
   }
  }
 },
 "nbformat": 4,
 "nbformat_minor": 0
}
