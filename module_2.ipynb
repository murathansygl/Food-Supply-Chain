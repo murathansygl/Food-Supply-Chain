{
 "cells": [
  {
   "cell_type": "code",
   "execution_count": 355,
   "metadata": {
    "collapsed": false,
    "pycharm": {
     "name": "#%%\n"
    }
   },
   "outputs": [],
   "source": [
    "import pandas as pd\n",
    "import plotly.express as px\n",
    "import matplotlib.pyplot as plt\n",
    "import numpy as np\n",
    "from keras import Sequential\n",
    "from keras.layers import LSTM, Dropout, Dense\n",
    "from keras.wrappers.scikit_learn import KerasRegressor\n",
    "from plotly.subplots import make_subplots\n",
    "import plotly.graph_objects as go\n",
    "from sklearn.model_selection import GridSearchCV\n",
    "from sklearn import metrics\n",
    "from sklearn.preprocessing import LabelEncoder, MinMaxScaler\n",
    "import tensorflow as tf\n",
    "from tensorboard.plugins.hparams import api as hp\n",
    "\n",
    "from tensorflow.keras.models import Sequential\n",
    "from tensorflow.keras.layers import *\n",
    "from tensorflow.keras.callbacks import ModelCheckpoint\n",
    "from tensorflow.keras.losses import MeanSquaredError\n",
    "from tensorflow.keras.metrics import RootMeanSquaredError\n",
    "from tensorflow.keras.optimizers import Adam\n"
   ]
  },
  {
   "cell_type": "code",
   "execution_count": 356,
   "metadata": {
    "collapsed": false,
    "pycharm": {
     "name": "#%%\n"
    }
   },
   "outputs": [],
   "source": [
    "df=pd.read_csv(\"Data/FoodBalanceSheets_E_All_Data/FoodBalanceSheets_E_All_Data_NOFLAG.csv\", encoding=\"latin-1\")"
   ]
  },
  {
   "cell_type": "code",
   "execution_count": 357,
   "metadata": {
    "collapsed": false,
    "pycharm": {
     "name": "#%%\n"
    }
   },
   "outputs": [
    {
     "data": {
      "text/html": [
       "<div>\n",
       "<style scoped>\n",
       "    .dataframe tbody tr th:only-of-type {\n",
       "        vertical-align: middle;\n",
       "    }\n",
       "\n",
       "    .dataframe tbody tr th {\n",
       "        vertical-align: top;\n",
       "    }\n",
       "\n",
       "    .dataframe thead th {\n",
       "        text-align: right;\n",
       "    }\n",
       "</style>\n",
       "<table border=\"1\" class=\"dataframe\">\n",
       "  <thead>\n",
       "    <tr style=\"text-align: right;\">\n",
       "      <th></th>\n",
       "      <th>Area</th>\n",
       "      <th>Item</th>\n",
       "      <th>Element</th>\n",
       "      <th>Unit</th>\n",
       "      <th>Y2010</th>\n",
       "      <th>Y2011</th>\n",
       "      <th>Y2012</th>\n",
       "      <th>Y2013</th>\n",
       "      <th>Y2014</th>\n",
       "      <th>Y2015</th>\n",
       "      <th>Y2016</th>\n",
       "      <th>Y2017</th>\n",
       "      <th>Y2018</th>\n",
       "      <th>Y2019</th>\n",
       "    </tr>\n",
       "  </thead>\n",
       "  <tbody>\n",
       "    <tr>\n",
       "      <th>0</th>\n",
       "      <td>Afghanistan</td>\n",
       "      <td>Population</td>\n",
       "      <td>Total Population - Both sexes</td>\n",
       "      <td>1000 persons</td>\n",
       "      <td>29186.00</td>\n",
       "      <td>30117.00</td>\n",
       "      <td>31161.00</td>\n",
       "      <td>32270.00</td>\n",
       "      <td>33371.00</td>\n",
       "      <td>34414.00</td>\n",
       "      <td>35383.00</td>\n",
       "      <td>36296.00</td>\n",
       "      <td>37172.00</td>\n",
       "      <td>38042.00</td>\n",
       "    </tr>\n",
       "    <tr>\n",
       "      <th>1</th>\n",
       "      <td>Afghanistan</td>\n",
       "      <td>Population</td>\n",
       "      <td>Domestic supply quantity</td>\n",
       "      <td>1000 tonnes</td>\n",
       "      <td>0.00</td>\n",
       "      <td>0.00</td>\n",
       "      <td>0.00</td>\n",
       "      <td>0.00</td>\n",
       "      <td>0.00</td>\n",
       "      <td>0.00</td>\n",
       "      <td>0.00</td>\n",
       "      <td>0.00</td>\n",
       "      <td>0.00</td>\n",
       "      <td>0.00</td>\n",
       "    </tr>\n",
       "    <tr>\n",
       "      <th>2</th>\n",
       "      <td>Afghanistan</td>\n",
       "      <td>Grand Total</td>\n",
       "      <td>Food supply (kcal/capita/day)</td>\n",
       "      <td>kcal/capita/day</td>\n",
       "      <td>2170.00</td>\n",
       "      <td>2152.00</td>\n",
       "      <td>2159.00</td>\n",
       "      <td>2196.00</td>\n",
       "      <td>2265.00</td>\n",
       "      <td>2250.00</td>\n",
       "      <td>2228.00</td>\n",
       "      <td>2303.00</td>\n",
       "      <td>2270.00</td>\n",
       "      <td>2273.00</td>\n",
       "    </tr>\n",
       "    <tr>\n",
       "      <th>3</th>\n",
       "      <td>Afghanistan</td>\n",
       "      <td>Grand Total</td>\n",
       "      <td>Protein supply quantity (g/capita/day)</td>\n",
       "      <td>g/capita/day</td>\n",
       "      <td>59.23</td>\n",
       "      <td>58.00</td>\n",
       "      <td>57.82</td>\n",
       "      <td>57.71</td>\n",
       "      <td>60.17</td>\n",
       "      <td>58.45</td>\n",
       "      <td>58.46</td>\n",
       "      <td>59.50</td>\n",
       "      <td>57.62</td>\n",
       "      <td>57.31</td>\n",
       "    </tr>\n",
       "    <tr>\n",
       "      <th>4</th>\n",
       "      <td>Afghanistan</td>\n",
       "      <td>Grand Total</td>\n",
       "      <td>Fat supply quantity (g/capita/day)</td>\n",
       "      <td>g/capita/day</td>\n",
       "      <td>36.69</td>\n",
       "      <td>34.81</td>\n",
       "      <td>36.53</td>\n",
       "      <td>37.10</td>\n",
       "      <td>41.48</td>\n",
       "      <td>38.28</td>\n",
       "      <td>40.70</td>\n",
       "      <td>40.03</td>\n",
       "      <td>41.46</td>\n",
       "      <td>39.78</td>\n",
       "    </tr>\n",
       "    <tr>\n",
       "      <th>...</th>\n",
       "      <td>...</td>\n",
       "      <td>...</td>\n",
       "      <td>...</td>\n",
       "      <td>...</td>\n",
       "      <td>...</td>\n",
       "      <td>...</td>\n",
       "      <td>...</td>\n",
       "      <td>...</td>\n",
       "      <td>...</td>\n",
       "      <td>...</td>\n",
       "      <td>...</td>\n",
       "      <td>...</td>\n",
       "      <td>...</td>\n",
       "      <td>...</td>\n",
       "    </tr>\n",
       "    <tr>\n",
       "      <th>319738</th>\n",
       "      <td>Net Food Importing Developing Countries</td>\n",
       "      <td>Miscellaneous</td>\n",
       "      <td>Food</td>\n",
       "      <td>1000 tonnes</td>\n",
       "      <td>787.00</td>\n",
       "      <td>839.00</td>\n",
       "      <td>921.00</td>\n",
       "      <td>935.00</td>\n",
       "      <td>958.00</td>\n",
       "      <td>992.00</td>\n",
       "      <td>1032.00</td>\n",
       "      <td>1066.00</td>\n",
       "      <td>1140.00</td>\n",
       "      <td>1199.00</td>\n",
       "    </tr>\n",
       "    <tr>\n",
       "      <th>319739</th>\n",
       "      <td>Net Food Importing Developing Countries</td>\n",
       "      <td>Miscellaneous</td>\n",
       "      <td>Food supply quantity (kg/capita/yr)</td>\n",
       "      <td>kg</td>\n",
       "      <td>0.62</td>\n",
       "      <td>0.65</td>\n",
       "      <td>0.68</td>\n",
       "      <td>0.67</td>\n",
       "      <td>0.67</td>\n",
       "      <td>0.68</td>\n",
       "      <td>0.69</td>\n",
       "      <td>0.70</td>\n",
       "      <td>0.73</td>\n",
       "      <td>0.75</td>\n",
       "    </tr>\n",
       "    <tr>\n",
       "      <th>319740</th>\n",
       "      <td>Net Food Importing Developing Countries</td>\n",
       "      <td>Miscellaneous</td>\n",
       "      <td>Food supply (kcal/capita/day)</td>\n",
       "      <td>kcal/capita/day</td>\n",
       "      <td>1.00</td>\n",
       "      <td>1.00</td>\n",
       "      <td>1.00</td>\n",
       "      <td>1.00</td>\n",
       "      <td>1.00</td>\n",
       "      <td>1.00</td>\n",
       "      <td>1.00</td>\n",
       "      <td>1.00</td>\n",
       "      <td>1.00</td>\n",
       "      <td>1.00</td>\n",
       "    </tr>\n",
       "    <tr>\n",
       "      <th>319741</th>\n",
       "      <td>Net Food Importing Developing Countries</td>\n",
       "      <td>Miscellaneous</td>\n",
       "      <td>Protein supply quantity (g/capita/day)</td>\n",
       "      <td>g/capita/day</td>\n",
       "      <td>0.02</td>\n",
       "      <td>0.02</td>\n",
       "      <td>0.02</td>\n",
       "      <td>0.02</td>\n",
       "      <td>0.02</td>\n",
       "      <td>0.02</td>\n",
       "      <td>0.02</td>\n",
       "      <td>0.02</td>\n",
       "      <td>0.02</td>\n",
       "      <td>0.02</td>\n",
       "    </tr>\n",
       "    <tr>\n",
       "      <th>319742</th>\n",
       "      <td>Net Food Importing Developing Countries</td>\n",
       "      <td>Miscellaneous</td>\n",
       "      <td>Fat supply quantity (g/capita/day)</td>\n",
       "      <td>g/capita/day</td>\n",
       "      <td>0.01</td>\n",
       "      <td>0.01</td>\n",
       "      <td>0.01</td>\n",
       "      <td>0.01</td>\n",
       "      <td>0.01</td>\n",
       "      <td>0.01</td>\n",
       "      <td>0.01</td>\n",
       "      <td>0.01</td>\n",
       "      <td>0.01</td>\n",
       "      <td>0.01</td>\n",
       "    </tr>\n",
       "  </tbody>\n",
       "</table>\n",
       "<p>319743 rows × 14 columns</p>\n",
       "</div>"
      ],
      "text/plain": [
       "                                           Area           Item  \\\n",
       "0                                   Afghanistan     Population   \n",
       "1                                   Afghanistan     Population   \n",
       "2                                   Afghanistan    Grand Total   \n",
       "3                                   Afghanistan    Grand Total   \n",
       "4                                   Afghanistan    Grand Total   \n",
       "...                                         ...            ...   \n",
       "319738  Net Food Importing Developing Countries  Miscellaneous   \n",
       "319739  Net Food Importing Developing Countries  Miscellaneous   \n",
       "319740  Net Food Importing Developing Countries  Miscellaneous   \n",
       "319741  Net Food Importing Developing Countries  Miscellaneous   \n",
       "319742  Net Food Importing Developing Countries  Miscellaneous   \n",
       "\n",
       "                                       Element             Unit     Y2010  \\\n",
       "0                Total Population - Both sexes     1000 persons  29186.00   \n",
       "1                     Domestic supply quantity      1000 tonnes      0.00   \n",
       "2                Food supply (kcal/capita/day)  kcal/capita/day   2170.00   \n",
       "3       Protein supply quantity (g/capita/day)     g/capita/day     59.23   \n",
       "4           Fat supply quantity (g/capita/day)     g/capita/day     36.69   \n",
       "...                                        ...              ...       ...   \n",
       "319738                                    Food      1000 tonnes    787.00   \n",
       "319739     Food supply quantity (kg/capita/yr)               kg      0.62   \n",
       "319740           Food supply (kcal/capita/day)  kcal/capita/day      1.00   \n",
       "319741  Protein supply quantity (g/capita/day)     g/capita/day      0.02   \n",
       "319742      Fat supply quantity (g/capita/day)     g/capita/day      0.01   \n",
       "\n",
       "           Y2011     Y2012     Y2013     Y2014     Y2015     Y2016     Y2017  \\\n",
       "0       30117.00  31161.00  32270.00  33371.00  34414.00  35383.00  36296.00   \n",
       "1           0.00      0.00      0.00      0.00      0.00      0.00      0.00   \n",
       "2        2152.00   2159.00   2196.00   2265.00   2250.00   2228.00   2303.00   \n",
       "3          58.00     57.82     57.71     60.17     58.45     58.46     59.50   \n",
       "4          34.81     36.53     37.10     41.48     38.28     40.70     40.03   \n",
       "...          ...       ...       ...       ...       ...       ...       ...   \n",
       "319738    839.00    921.00    935.00    958.00    992.00   1032.00   1066.00   \n",
       "319739      0.65      0.68      0.67      0.67      0.68      0.69      0.70   \n",
       "319740      1.00      1.00      1.00      1.00      1.00      1.00      1.00   \n",
       "319741      0.02      0.02      0.02      0.02      0.02      0.02      0.02   \n",
       "319742      0.01      0.01      0.01      0.01      0.01      0.01      0.01   \n",
       "\n",
       "           Y2018     Y2019  \n",
       "0       37172.00  38042.00  \n",
       "1           0.00      0.00  \n",
       "2        2270.00   2273.00  \n",
       "3          57.62     57.31  \n",
       "4          41.46     39.78  \n",
       "...          ...       ...  \n",
       "319738   1140.00   1199.00  \n",
       "319739      0.73      0.75  \n",
       "319740      1.00      1.00  \n",
       "319741      0.02      0.02  \n",
       "319742      0.01      0.01  \n",
       "\n",
       "[319743 rows x 14 columns]"
      ]
     },
     "execution_count": 357,
     "metadata": {},
     "output_type": "execute_result"
    }
   ],
   "source": [
    "df.drop([\"Area Code\",\"Item Code\",\"Element Code\"],axis=1,inplace=True)\n",
    "df"
   ]
  },
  {
   "cell_type": "code",
   "execution_count": 358,
   "metadata": {
    "collapsed": false,
    "pycharm": {
     "name": "#%%\n"
    }
   },
   "outputs": [],
   "source": [
    "df.dropna(axis=0, inplace=True)"
   ]
  },
  {
   "cell_type": "code",
   "execution_count": 359,
   "metadata": {
    "collapsed": false,
    "pycharm": {
     "name": "#%%\n"
    }
   },
   "outputs": [],
   "source": [
    "df=df.loc[~(df.iloc[:,4:]==0).all(axis=1)]"
   ]
  },
  {
   "cell_type": "code",
   "execution_count": 361,
   "metadata": {
    "collapsed": false,
    "pycharm": {
     "name": "#%%\n"
    }
   },
   "outputs": [
    {
     "data": {
      "text/plain": [
       "World                                      1738\n",
       "Asia                                       1659\n",
       "Net Food Importing Developing Countries    1604\n",
       "Americas                                   1590\n",
       "Africa                                     1551\n",
       "Europe                                     1531\n",
       "European Union (27)                        1506\n",
       "Western Asia                               1503\n",
       "Low Income Food Deficit Countries          1498\n",
       "Least Developed Countries                  1470\n",
       "Land Locked Developing Countries           1462\n",
       "Eastern Asia                               1460\n",
       "South America                              1424\n",
       "South-eastern Asia                         1414\n",
       "Southern Europe                            1407\n",
       "Central America                            1400\n",
       "China                                      1395\n",
       "Southern Asia                              1374\n",
       "Eastern Africa                             1366\n",
       "Oceania                                    1366\n",
       "Small Island Developing States             1364\n",
       "Western Europe                             1352\n",
       "Northern Africa                            1346\n",
       "Eastern Europe                             1337\n",
       "Northern America                           1312\n",
       "Western Africa                             1300\n",
       "Northern Europe                            1283\n",
       "Caribbean                                  1257\n",
       "China, mainland                            1251\n",
       "Southern Africa                            1228\n",
       "Name: Area, dtype: int64"
      ]
     },
     "execution_count": 361,
     "metadata": {},
     "output_type": "execute_result"
    }
   ],
   "source": [
    "df.Area.value_counts()[:30]"
   ]
  },
  {
   "cell_type": "code",
   "execution_count": 362,
   "metadata": {
    "collapsed": false,
    "pycharm": {
     "name": "#%%\n"
    }
   },
   "outputs": [
    {
     "data": {
      "text/plain": [
       "Milk - Excluding Butter       5280\n",
       "Eggs                          4586\n",
       "Miscellaneous                 3556\n",
       "Cereals - Excluding Beer      3243\n",
       "Oilcrops                      3075\n",
       "Starchy Roots                 2964\n",
       "Wheat and products            2802\n",
       "Fruits - Excluding Wine       2801\n",
       "Maize and products            2796\n",
       "Potatoes and products         2686\n",
       "Rice and products             2685\n",
       "Vegetables                    2648\n",
       "Pulses                        2611\n",
       "Vegetables, other             2596\n",
       "Vegetable Oils                2582\n",
       "Fruits, other                 2543\n",
       "Animal fats                   2419\n",
       "Meat                          2412\n",
       "Fish, Seafood                 2407\n",
       "Sugar & Sweeteners            2300\n",
       "Pulses, Other and products    2281\n",
       "Oilcrops Oil, Other           2233\n",
       "Stimulants                    2226\n",
       "Fats, Animals, Raw            2210\n",
       "Poultry Meat                  2193\n",
       "Alcoholic Beverages           2184\n",
       "Barley and products           2182\n",
       "Pelagic Fish                  2170\n",
       "Oranges, Mandarines           2164\n",
       "Groundnuts                    2164\n",
       "Name: Item, dtype: int64"
      ]
     },
     "execution_count": 362,
     "metadata": {},
     "output_type": "execute_result"
    }
   ],
   "source": [
    "df.Item.value_counts()[:30]"
   ]
  },
  {
   "cell_type": "code",
   "execution_count": 185,
   "metadata": {
    "collapsed": false,
    "pycharm": {
     "name": "#%%\n"
    }
   },
   "outputs": [
    {
     "data": {
      "text/plain": [
       "array(['Total Population - Both sexes', 'Food supply (kcal/capita/day)',\n",
       "       'Protein supply quantity (g/capita/day)',\n",
       "       'Fat supply quantity (g/capita/day)', 'Production',\n",
       "       'Import Quantity', 'Stock Variation', 'Export Quantity',\n",
       "       'Domestic supply quantity', 'Feed', 'Seed', 'Losses', 'Residuals',\n",
       "       'Food', 'Food supply quantity (kg/capita/yr)', 'Processing',\n",
       "       'Other uses (non-food)', 'Tourist consumption'], dtype=object)"
      ]
     },
     "execution_count": 185,
     "metadata": {},
     "output_type": "execute_result"
    }
   ],
   "source": [
    "df.Element.unique()"
   ]
  },
  {
   "cell_type": "code",
   "execution_count": 186,
   "metadata": {
    "collapsed": false,
    "pycharm": {
     "name": "#%%\n"
    }
   },
   "outputs": [],
   "source": [
    "def select(area,item ):\n",
    "    data=df[df.Area==area]\n",
    "    data=data[data['Item'].str.contains(item)]\n",
    "    return data"
   ]
  },
  {
   "cell_type": "code",
   "execution_count": 187,
   "metadata": {
    "collapsed": false,
    "pycharm": {
     "name": "#%%\n"
    }
   },
   "outputs": [],
   "source": [
    "data=select(\"China\",\"Cereals - Ex\")"
   ]
  },
  {
   "cell_type": "code",
   "execution_count": 188,
   "metadata": {
    "collapsed": false,
    "pycharm": {
     "name": "#%%\n"
    }
   },
   "outputs": [
    {
     "data": {
      "text/html": [
       "<div>\n",
       "<style scoped>\n",
       "    .dataframe tbody tr th:only-of-type {\n",
       "        vertical-align: middle;\n",
       "    }\n",
       "\n",
       "    .dataframe tbody tr th {\n",
       "        vertical-align: top;\n",
       "    }\n",
       "\n",
       "    .dataframe thead th {\n",
       "        text-align: right;\n",
       "    }\n",
       "</style>\n",
       "<table border=\"1\" class=\"dataframe\">\n",
       "  <thead>\n",
       "    <tr style=\"text-align: right;\">\n",
       "      <th></th>\n",
       "      <th>Area</th>\n",
       "      <th>Item</th>\n",
       "      <th>Element</th>\n",
       "      <th>Unit</th>\n",
       "      <th>Y2010</th>\n",
       "      <th>Y2011</th>\n",
       "      <th>Y2012</th>\n",
       "      <th>Y2013</th>\n",
       "      <th>Y2014</th>\n",
       "      <th>Y2015</th>\n",
       "      <th>Y2016</th>\n",
       "      <th>Y2017</th>\n",
       "      <th>Y2018</th>\n",
       "      <th>Y2019</th>\n",
       "    </tr>\n",
       "  </thead>\n",
       "  <tbody>\n",
       "    <tr>\n",
       "      <th>44939</th>\n",
       "      <td>China</td>\n",
       "      <td>Cereals - Excluding Beer</td>\n",
       "      <td>Production</td>\n",
       "      <td>1000 tonnes</td>\n",
       "      <td>498113.00</td>\n",
       "      <td>521383.00</td>\n",
       "      <td>541368.00</td>\n",
       "      <td>554623.00</td>\n",
       "      <td>559483.00</td>\n",
       "      <td>620074.00</td>\n",
       "      <td>616491.00</td>\n",
       "      <td>616130.00</td>\n",
       "      <td>611244.00</td>\n",
       "      <td>614914.00</td>\n",
       "    </tr>\n",
       "    <tr>\n",
       "      <th>44940</th>\n",
       "      <td>China</td>\n",
       "      <td>Cereals - Excluding Beer</td>\n",
       "      <td>Import Quantity</td>\n",
       "      <td>1000 tonnes</td>\n",
       "      <td>13861.00</td>\n",
       "      <td>13044.00</td>\n",
       "      <td>22636.00</td>\n",
       "      <td>22952.00</td>\n",
       "      <td>28186.00</td>\n",
       "      <td>41880.00</td>\n",
       "      <td>31380.00</td>\n",
       "      <td>35473.00</td>\n",
       "      <td>29491.00</td>\n",
       "      <td>27492.00</td>\n",
       "    </tr>\n",
       "    <tr>\n",
       "      <th>44941</th>\n",
       "      <td>China</td>\n",
       "      <td>Cereals - Excluding Beer</td>\n",
       "      <td>Stock Variation</td>\n",
       "      <td>1000 tonnes</td>\n",
       "      <td>8114.00</td>\n",
       "      <td>16754.00</td>\n",
       "      <td>34353.00</td>\n",
       "      <td>64549.00</td>\n",
       "      <td>75918.00</td>\n",
       "      <td>80210.00</td>\n",
       "      <td>44705.00</td>\n",
       "      <td>35028.00</td>\n",
       "      <td>7514.00</td>\n",
       "      <td>6019.00</td>\n",
       "    </tr>\n",
       "    <tr>\n",
       "      <th>44942</th>\n",
       "      <td>China</td>\n",
       "      <td>Cereals - Excluding Beer</td>\n",
       "      <td>Export Quantity</td>\n",
       "      <td>1000 tonnes</td>\n",
       "      <td>3127.00</td>\n",
       "      <td>2793.00</td>\n",
       "      <td>2456.00</td>\n",
       "      <td>2414.00</td>\n",
       "      <td>2029.00</td>\n",
       "      <td>1770.00</td>\n",
       "      <td>2323.00</td>\n",
       "      <td>3686.00</td>\n",
       "      <td>5683.00</td>\n",
       "      <td>7154.00</td>\n",
       "    </tr>\n",
       "    <tr>\n",
       "      <th>44943</th>\n",
       "      <td>China</td>\n",
       "      <td>Cereals - Excluding Beer</td>\n",
       "      <td>Domestic supply quantity</td>\n",
       "      <td>1000 tonnes</td>\n",
       "      <td>500734.00</td>\n",
       "      <td>514880.00</td>\n",
       "      <td>527195.00</td>\n",
       "      <td>510613.00</td>\n",
       "      <td>509722.00</td>\n",
       "      <td>579975.00</td>\n",
       "      <td>600843.00</td>\n",
       "      <td>612889.00</td>\n",
       "      <td>627539.00</td>\n",
       "      <td>629233.00</td>\n",
       "    </tr>\n",
       "    <tr>\n",
       "      <th>44944</th>\n",
       "      <td>China</td>\n",
       "      <td>Cereals - Excluding Beer</td>\n",
       "      <td>Feed</td>\n",
       "      <td>1000 tonnes</td>\n",
       "      <td>151931.00</td>\n",
       "      <td>158640.00</td>\n",
       "      <td>164114.00</td>\n",
       "      <td>151419.00</td>\n",
       "      <td>146148.00</td>\n",
       "      <td>188554.00</td>\n",
       "      <td>211366.00</td>\n",
       "      <td>219363.00</td>\n",
       "      <td>231253.00</td>\n",
       "      <td>232039.00</td>\n",
       "    </tr>\n",
       "    <tr>\n",
       "      <th>44945</th>\n",
       "      <td>China</td>\n",
       "      <td>Cereals - Excluding Beer</td>\n",
       "      <td>Seed</td>\n",
       "      <td>1000 tonnes</td>\n",
       "      <td>13242.00</td>\n",
       "      <td>13073.00</td>\n",
       "      <td>13167.00</td>\n",
       "      <td>12518.00</td>\n",
       "      <td>13292.00</td>\n",
       "      <td>13672.00</td>\n",
       "      <td>13576.00</td>\n",
       "      <td>13449.00</td>\n",
       "      <td>13225.00</td>\n",
       "      <td>12829.00</td>\n",
       "    </tr>\n",
       "    <tr>\n",
       "      <th>44946</th>\n",
       "      <td>China</td>\n",
       "      <td>Cereals - Excluding Beer</td>\n",
       "      <td>Losses</td>\n",
       "      <td>1000 tonnes</td>\n",
       "      <td>19013.00</td>\n",
       "      <td>19976.00</td>\n",
       "      <td>21105.00</td>\n",
       "      <td>21453.00</td>\n",
       "      <td>21926.00</td>\n",
       "      <td>24945.00</td>\n",
       "      <td>24365.00</td>\n",
       "      <td>24293.00</td>\n",
       "      <td>24021.00</td>\n",
       "      <td>23997.00</td>\n",
       "    </tr>\n",
       "    <tr>\n",
       "      <th>44947</th>\n",
       "      <td>China</td>\n",
       "      <td>Cereals - Excluding Beer</td>\n",
       "      <td>Processing</td>\n",
       "      <td>1000 tonnes</td>\n",
       "      <td>11574.00</td>\n",
       "      <td>12760.00</td>\n",
       "      <td>12688.00</td>\n",
       "      <td>13384.00</td>\n",
       "      <td>16191.00</td>\n",
       "      <td>15775.00</td>\n",
       "      <td>14741.00</td>\n",
       "      <td>14499.00</td>\n",
       "      <td>12829.00</td>\n",
       "      <td>12608.00</td>\n",
       "    </tr>\n",
       "    <tr>\n",
       "      <th>44948</th>\n",
       "      <td>China</td>\n",
       "      <td>Cereals - Excluding Beer</td>\n",
       "      <td>Other uses (non-food)</td>\n",
       "      <td>1000 tonnes</td>\n",
       "      <td>28599.00</td>\n",
       "      <td>29694.00</td>\n",
       "      <td>32682.00</td>\n",
       "      <td>30592.00</td>\n",
       "      <td>28518.00</td>\n",
       "      <td>48065.00</td>\n",
       "      <td>49183.00</td>\n",
       "      <td>50367.00</td>\n",
       "      <td>52781.00</td>\n",
       "      <td>52100.00</td>\n",
       "    </tr>\n",
       "    <tr>\n",
       "      <th>44949</th>\n",
       "      <td>China</td>\n",
       "      <td>Cereals - Excluding Beer</td>\n",
       "      <td>Tourist consumption</td>\n",
       "      <td>1000 tonnes</td>\n",
       "      <td>23.00</td>\n",
       "      <td>23.00</td>\n",
       "      <td>22.00</td>\n",
       "      <td>22.00</td>\n",
       "      <td>11.00</td>\n",
       "      <td>12.00</td>\n",
       "      <td>10.00</td>\n",
       "      <td>11.00</td>\n",
       "      <td>12.00</td>\n",
       "      <td>12.00</td>\n",
       "    </tr>\n",
       "    <tr>\n",
       "      <th>44950</th>\n",
       "      <td>China</td>\n",
       "      <td>Cereals - Excluding Beer</td>\n",
       "      <td>Residuals</td>\n",
       "      <td>1000 tonnes</td>\n",
       "      <td>0.00</td>\n",
       "      <td>0.00</td>\n",
       "      <td>0.00</td>\n",
       "      <td>-8.00</td>\n",
       "      <td>1.00</td>\n",
       "      <td>1.00</td>\n",
       "      <td>1.00</td>\n",
       "      <td>1.00</td>\n",
       "      <td>1.00</td>\n",
       "      <td>10.00</td>\n",
       "    </tr>\n",
       "    <tr>\n",
       "      <th>44951</th>\n",
       "      <td>China</td>\n",
       "      <td>Cereals - Excluding Beer</td>\n",
       "      <td>Food</td>\n",
       "      <td>1000 tonnes</td>\n",
       "      <td>276351.00</td>\n",
       "      <td>280713.00</td>\n",
       "      <td>283417.00</td>\n",
       "      <td>281233.00</td>\n",
       "      <td>283635.00</td>\n",
       "      <td>288951.00</td>\n",
       "      <td>287601.00</td>\n",
       "      <td>290907.00</td>\n",
       "      <td>293416.00</td>\n",
       "      <td>295637.00</td>\n",
       "    </tr>\n",
       "    <tr>\n",
       "      <th>44952</th>\n",
       "      <td>China</td>\n",
       "      <td>Cereals - Excluding Beer</td>\n",
       "      <td>Food supply quantity (kg/capita/yr)</td>\n",
       "      <td>kg</td>\n",
       "      <td>197.46</td>\n",
       "      <td>199.47</td>\n",
       "      <td>200.27</td>\n",
       "      <td>197.64</td>\n",
       "      <td>198.25</td>\n",
       "      <td>200.91</td>\n",
       "      <td>198.96</td>\n",
       "      <td>200.26</td>\n",
       "      <td>201.06</td>\n",
       "      <td>201.71</td>\n",
       "    </tr>\n",
       "    <tr>\n",
       "      <th>44953</th>\n",
       "      <td>China</td>\n",
       "      <td>Cereals - Excluding Beer</td>\n",
       "      <td>Food supply (kcal/capita/day)</td>\n",
       "      <td>kcal/capita/day</td>\n",
       "      <td>1483.00</td>\n",
       "      <td>1500.00</td>\n",
       "      <td>1505.00</td>\n",
       "      <td>1485.00</td>\n",
       "      <td>1489.00</td>\n",
       "      <td>1511.00</td>\n",
       "      <td>1501.00</td>\n",
       "      <td>1513.00</td>\n",
       "      <td>1517.00</td>\n",
       "      <td>1523.00</td>\n",
       "    </tr>\n",
       "    <tr>\n",
       "      <th>44954</th>\n",
       "      <td>China</td>\n",
       "      <td>Cereals - Excluding Beer</td>\n",
       "      <td>Protein supply quantity (g/capita/day)</td>\n",
       "      <td>g/capita/day</td>\n",
       "      <td>35.15</td>\n",
       "      <td>35.67</td>\n",
       "      <td>35.69</td>\n",
       "      <td>35.19</td>\n",
       "      <td>35.21</td>\n",
       "      <td>35.83</td>\n",
       "      <td>35.70</td>\n",
       "      <td>36.09</td>\n",
       "      <td>36.02</td>\n",
       "      <td>36.15</td>\n",
       "    </tr>\n",
       "    <tr>\n",
       "      <th>44955</th>\n",
       "      <td>China</td>\n",
       "      <td>Cereals - Excluding Beer</td>\n",
       "      <td>Fat supply quantity (g/capita/day)</td>\n",
       "      <td>g/capita/day</td>\n",
       "      <td>6.11</td>\n",
       "      <td>6.20</td>\n",
       "      <td>6.22</td>\n",
       "      <td>6.18</td>\n",
       "      <td>6.22</td>\n",
       "      <td>6.41</td>\n",
       "      <td>6.42</td>\n",
       "      <td>6.48</td>\n",
       "      <td>6.45</td>\n",
       "      <td>6.45</td>\n",
       "    </tr>\n",
       "  </tbody>\n",
       "</table>\n",
       "</div>"
      ],
      "text/plain": [
       "        Area                      Item  \\\n",
       "44939  China  Cereals - Excluding Beer   \n",
       "44940  China  Cereals - Excluding Beer   \n",
       "44941  China  Cereals - Excluding Beer   \n",
       "44942  China  Cereals - Excluding Beer   \n",
       "44943  China  Cereals - Excluding Beer   \n",
       "44944  China  Cereals - Excluding Beer   \n",
       "44945  China  Cereals - Excluding Beer   \n",
       "44946  China  Cereals - Excluding Beer   \n",
       "44947  China  Cereals - Excluding Beer   \n",
       "44948  China  Cereals - Excluding Beer   \n",
       "44949  China  Cereals - Excluding Beer   \n",
       "44950  China  Cereals - Excluding Beer   \n",
       "44951  China  Cereals - Excluding Beer   \n",
       "44952  China  Cereals - Excluding Beer   \n",
       "44953  China  Cereals - Excluding Beer   \n",
       "44954  China  Cereals - Excluding Beer   \n",
       "44955  China  Cereals - Excluding Beer   \n",
       "\n",
       "                                      Element             Unit      Y2010  \\\n",
       "44939                              Production      1000 tonnes  498113.00   \n",
       "44940                         Import Quantity      1000 tonnes   13861.00   \n",
       "44941                         Stock Variation      1000 tonnes    8114.00   \n",
       "44942                         Export Quantity      1000 tonnes    3127.00   \n",
       "44943                Domestic supply quantity      1000 tonnes  500734.00   \n",
       "44944                                    Feed      1000 tonnes  151931.00   \n",
       "44945                                    Seed      1000 tonnes   13242.00   \n",
       "44946                                  Losses      1000 tonnes   19013.00   \n",
       "44947                              Processing      1000 tonnes   11574.00   \n",
       "44948                   Other uses (non-food)      1000 tonnes   28599.00   \n",
       "44949                     Tourist consumption      1000 tonnes      23.00   \n",
       "44950                               Residuals      1000 tonnes       0.00   \n",
       "44951                                    Food      1000 tonnes  276351.00   \n",
       "44952     Food supply quantity (kg/capita/yr)               kg     197.46   \n",
       "44953           Food supply (kcal/capita/day)  kcal/capita/day    1483.00   \n",
       "44954  Protein supply quantity (g/capita/day)     g/capita/day      35.15   \n",
       "44955      Fat supply quantity (g/capita/day)     g/capita/day       6.11   \n",
       "\n",
       "           Y2011      Y2012      Y2013      Y2014      Y2015      Y2016  \\\n",
       "44939  521383.00  541368.00  554623.00  559483.00  620074.00  616491.00   \n",
       "44940   13044.00   22636.00   22952.00   28186.00   41880.00   31380.00   \n",
       "44941   16754.00   34353.00   64549.00   75918.00   80210.00   44705.00   \n",
       "44942    2793.00    2456.00    2414.00    2029.00    1770.00    2323.00   \n",
       "44943  514880.00  527195.00  510613.00  509722.00  579975.00  600843.00   \n",
       "44944  158640.00  164114.00  151419.00  146148.00  188554.00  211366.00   \n",
       "44945   13073.00   13167.00   12518.00   13292.00   13672.00   13576.00   \n",
       "44946   19976.00   21105.00   21453.00   21926.00   24945.00   24365.00   \n",
       "44947   12760.00   12688.00   13384.00   16191.00   15775.00   14741.00   \n",
       "44948   29694.00   32682.00   30592.00   28518.00   48065.00   49183.00   \n",
       "44949      23.00      22.00      22.00      11.00      12.00      10.00   \n",
       "44950       0.00       0.00      -8.00       1.00       1.00       1.00   \n",
       "44951  280713.00  283417.00  281233.00  283635.00  288951.00  287601.00   \n",
       "44952     199.47     200.27     197.64     198.25     200.91     198.96   \n",
       "44953    1500.00    1505.00    1485.00    1489.00    1511.00    1501.00   \n",
       "44954      35.67      35.69      35.19      35.21      35.83      35.70   \n",
       "44955       6.20       6.22       6.18       6.22       6.41       6.42   \n",
       "\n",
       "           Y2017      Y2018      Y2019  \n",
       "44939  616130.00  611244.00  614914.00  \n",
       "44940   35473.00   29491.00   27492.00  \n",
       "44941   35028.00    7514.00    6019.00  \n",
       "44942    3686.00    5683.00    7154.00  \n",
       "44943  612889.00  627539.00  629233.00  \n",
       "44944  219363.00  231253.00  232039.00  \n",
       "44945   13449.00   13225.00   12829.00  \n",
       "44946   24293.00   24021.00   23997.00  \n",
       "44947   14499.00   12829.00   12608.00  \n",
       "44948   50367.00   52781.00   52100.00  \n",
       "44949      11.00      12.00      12.00  \n",
       "44950       1.00       1.00      10.00  \n",
       "44951  290907.00  293416.00  295637.00  \n",
       "44952     200.26     201.06     201.71  \n",
       "44953    1513.00    1517.00    1523.00  \n",
       "44954      36.09      36.02      36.15  \n",
       "44955       6.48       6.45       6.45  "
      ]
     },
     "execution_count": 188,
     "metadata": {},
     "output_type": "execute_result"
    }
   ],
   "source": [
    "data"
   ]
  },
  {
   "cell_type": "code",
   "execution_count": 189,
   "metadata": {
    "collapsed": false,
    "pycharm": {
     "name": "#%%\n"
    }
   },
   "outputs": [],
   "source": [
    "def mean_based(year):\n",
    "    try:\n",
    "        mean_pred=[]\n",
    "        losses=data[data.Element==\"Losses\"].iloc[0,4:]\n",
    "        count=0\n",
    "        sum=0\n",
    "        for i in losses.index:\n",
    "            if i==\"Y\"+str(year):\n",
    "                break\n",
    "            sum=losses[i]+sum\n",
    "            count+=1\n",
    "        mean_pred=sum/count\n",
    "        return mean_pred\n",
    "    except:\n",
    "        return losses[\"Y\"+str(year)]"
   ]
  },
  {
   "cell_type": "code",
   "execution_count": 190,
   "metadata": {
    "collapsed": false,
    "pycharm": {
     "name": "#%%\n"
    }
   },
   "outputs": [
    {
     "data": {
      "text/plain": [
       "22509.4"
      ]
     },
     "execution_count": 190,
     "metadata": {},
     "output_type": "execute_result"
    }
   ],
   "source": [
    "predd=mean_based(2005)\n",
    "predd"
   ]
  },
  {
   "cell_type": "code",
   "execution_count": 191,
   "metadata": {
    "collapsed": false,
    "pycharm": {
     "name": "#%%\n"
    }
   },
   "outputs": [
    {
     "name": "stderr",
     "output_type": "stream",
     "text": [
      "/var/folders/t6/nkv95bj97gv9j73w9bfk2p0r0000gn/T/ipykernel_16597/3604102451.py:6: SettingWithCopyWarning: \n",
      "A value is trying to be set on a copy of a slice from a DataFrame\n",
      "\n",
      "See the caveats in the documentation: https://pandas.pydata.org/pandas-docs/stable/user_guide/indexing.html#returning-a-view-versus-a-copy\n",
      "  losses[\"MeanBasedPred\"][i]=mean_based(int(i[1:]))\n"
     ]
    }
   ],
   "source": [
    "mean_based_pred=[]\n",
    "losses=pd.DataFrame(data[data.Element==\"Losses\"].iloc[0,4:])\n",
    "losses.columns=[\"Actual\"]\n",
    "losses[\"MeanBasedPred\"]=np.zeros([len(losses)])\n",
    "for i in losses.index:\n",
    "    losses[\"MeanBasedPred\"][i]=mean_based(int(i[1:]))"
   ]
  },
  {
   "cell_type": "code",
   "execution_count": 192,
   "metadata": {
    "collapsed": false,
    "pycharm": {
     "name": "#%%\n"
    }
   },
   "outputs": [
    {
     "data": {
      "text/plain": [
       "2010"
      ]
     },
     "execution_count": 192,
     "metadata": {},
     "output_type": "execute_result"
    }
   ],
   "source": [
    "int(losses.index[0][1:])"
   ]
  },
  {
   "cell_type": "code",
   "execution_count": 193,
   "metadata": {
    "collapsed": false,
    "pycharm": {
     "name": "#%%\n"
    }
   },
   "outputs": [
    {
     "data": {
      "text/plain": [
       "19013.0"
      ]
     },
     "execution_count": 193,
     "metadata": {},
     "output_type": "execute_result"
    }
   ],
   "source": [
    "losses[\"Actual\"][\"Y2010\"]"
   ]
  },
  {
   "cell_type": "code",
   "execution_count": 194,
   "metadata": {
    "collapsed": false,
    "pycharm": {
     "name": "#%%\n"
    }
   },
   "outputs": [
    {
     "data": {
      "text/html": [
       "<div>\n",
       "<style scoped>\n",
       "    .dataframe tbody tr th:only-of-type {\n",
       "        vertical-align: middle;\n",
       "    }\n",
       "\n",
       "    .dataframe tbody tr th {\n",
       "        vertical-align: top;\n",
       "    }\n",
       "\n",
       "    .dataframe thead th {\n",
       "        text-align: right;\n",
       "    }\n",
       "</style>\n",
       "<table border=\"1\" class=\"dataframe\">\n",
       "  <thead>\n",
       "    <tr style=\"text-align: right;\">\n",
       "      <th></th>\n",
       "      <th>Actual</th>\n",
       "      <th>MeanBasedPred</th>\n",
       "    </tr>\n",
       "  </thead>\n",
       "  <tbody>\n",
       "    <tr>\n",
       "      <th>Y2010</th>\n",
       "      <td>19013.0</td>\n",
       "      <td>19013.000000</td>\n",
       "    </tr>\n",
       "    <tr>\n",
       "      <th>Y2011</th>\n",
       "      <td>19976.0</td>\n",
       "      <td>19013.000000</td>\n",
       "    </tr>\n",
       "    <tr>\n",
       "      <th>Y2012</th>\n",
       "      <td>21105.0</td>\n",
       "      <td>19494.500000</td>\n",
       "    </tr>\n",
       "    <tr>\n",
       "      <th>Y2013</th>\n",
       "      <td>21453.0</td>\n",
       "      <td>20031.333333</td>\n",
       "    </tr>\n",
       "    <tr>\n",
       "      <th>Y2014</th>\n",
       "      <td>21926.0</td>\n",
       "      <td>20386.750000</td>\n",
       "    </tr>\n",
       "    <tr>\n",
       "      <th>Y2015</th>\n",
       "      <td>24945.0</td>\n",
       "      <td>20694.600000</td>\n",
       "    </tr>\n",
       "    <tr>\n",
       "      <th>Y2016</th>\n",
       "      <td>24365.0</td>\n",
       "      <td>21403.000000</td>\n",
       "    </tr>\n",
       "    <tr>\n",
       "      <th>Y2017</th>\n",
       "      <td>24293.0</td>\n",
       "      <td>21826.142857</td>\n",
       "    </tr>\n",
       "    <tr>\n",
       "      <th>Y2018</th>\n",
       "      <td>24021.0</td>\n",
       "      <td>22134.500000</td>\n",
       "    </tr>\n",
       "    <tr>\n",
       "      <th>Y2019</th>\n",
       "      <td>23997.0</td>\n",
       "      <td>22344.111111</td>\n",
       "    </tr>\n",
       "  </tbody>\n",
       "</table>\n",
       "</div>"
      ],
      "text/plain": [
       "        Actual  MeanBasedPred\n",
       "Y2010  19013.0   19013.000000\n",
       "Y2011  19976.0   19013.000000\n",
       "Y2012  21105.0   19494.500000\n",
       "Y2013  21453.0   20031.333333\n",
       "Y2014  21926.0   20386.750000\n",
       "Y2015  24945.0   20694.600000\n",
       "Y2016  24365.0   21403.000000\n",
       "Y2017  24293.0   21826.142857\n",
       "Y2018  24021.0   22134.500000\n",
       "Y2019  23997.0   22344.111111"
      ]
     },
     "execution_count": 194,
     "metadata": {},
     "output_type": "execute_result"
    }
   ],
   "source": [
    "losses"
   ]
  },
  {
   "cell_type": "code",
   "execution_count": 366,
   "metadata": {},
   "outputs": [
    {
     "data": {
      "text/plain": [
       "<matplotlib.legend.Legend at 0x7fe203ad56a0>"
      ]
     },
     "execution_count": 366,
     "metadata": {},
     "output_type": "execute_result"
    },
    {
     "data": {
      "image/png": "[encoded data removed]",
      "text/plain": [
       "<Figure size 432x288 with 1 Axes>"
      ]
     },
     "metadata": {
      "needs_background": "light"
     },
     "output_type": "display_data"
    }
   ],
   "source": [
    "plt.plot(losses.index,losses[\"Actual\"])\n",
    "plt.plot(losses.index,losses.MeanBasedPred)\n",
    "plt.legend(['Actual', 'Mean-based Prediction'], loc='lower right')"
   ]
  },
  {
   "cell_type": "code",
   "execution_count": 195,
   "metadata": {
    "collapsed": false,
    "pycharm": {
     "name": "#%%\n"
    }
   },
   "outputs": [
    {
     "data": {
      "text/plain": [
       "Y2010    1399503000.0\n",
       "Y2011    1407325000.0\n",
       "Y2012    1415164000.0\n",
       "Y2013    1422971000.0\n",
       "Y2014    1430671000.0\n",
       "Y2015    1438193000.0\n",
       "Y2016    1445524000.0\n",
       "Y2017    1452626000.0\n",
       "Y2018    1459378000.0\n",
       "Y2019    1465634000.0\n",
       "Name: 44928, dtype: object"
      ]
     },
     "execution_count": 195,
     "metadata": {},
     "output_type": "execute_result"
    }
   ],
   "source": [
    "population=df[df[\"Element\"]==\"Total Population - Both sexes\"]\n",
    "population=population[population.Area==\"China\"].iloc[0,4:]*1000\n",
    "population"
   ]
  },
  {
   "cell_type": "code",
   "execution_count": 196,
   "metadata": {
    "collapsed": false,
    "pycharm": {
     "name": "#%%\n"
    }
   },
   "outputs": [
    {
     "data": {
      "text/html": [
       "<div>\n",
       "<style scoped>\n",
       "    .dataframe tbody tr th:only-of-type {\n",
       "        vertical-align: middle;\n",
       "    }\n",
       "\n",
       "    .dataframe tbody tr th {\n",
       "        vertical-align: top;\n",
       "    }\n",
       "\n",
       "    .dataframe thead th {\n",
       "        text-align: right;\n",
       "    }\n",
       "</style>\n",
       "<table border=\"1\" class=\"dataframe\">\n",
       "  <thead>\n",
       "    <tr style=\"text-align: right;\">\n",
       "      <th></th>\n",
       "      <th>Area</th>\n",
       "      <th>Item</th>\n",
       "      <th>Element</th>\n",
       "      <th>Unit</th>\n",
       "      <th>Y2010</th>\n",
       "      <th>Y2011</th>\n",
       "      <th>Y2012</th>\n",
       "      <th>Y2013</th>\n",
       "      <th>Y2014</th>\n",
       "      <th>Y2015</th>\n",
       "      <th>Y2016</th>\n",
       "      <th>Y2017</th>\n",
       "      <th>Y2018</th>\n",
       "      <th>Y2019</th>\n",
       "    </tr>\n",
       "  </thead>\n",
       "  <tbody>\n",
       "    <tr>\n",
       "      <th>44939</th>\n",
       "      <td>China</td>\n",
       "      <td>Cereals - Excluding Beer</td>\n",
       "      <td>Production</td>\n",
       "      <td>1000 tonnes</td>\n",
       "      <td>498113.00</td>\n",
       "      <td>521383.00</td>\n",
       "      <td>541368.00</td>\n",
       "      <td>554623.00</td>\n",
       "      <td>559483.00</td>\n",
       "      <td>620074.00</td>\n",
       "      <td>616491.00</td>\n",
       "      <td>616130.00</td>\n",
       "      <td>611244.00</td>\n",
       "      <td>614914.00</td>\n",
       "    </tr>\n",
       "    <tr>\n",
       "      <th>44940</th>\n",
       "      <td>China</td>\n",
       "      <td>Cereals - Excluding Beer</td>\n",
       "      <td>Import Quantity</td>\n",
       "      <td>1000 tonnes</td>\n",
       "      <td>13861.00</td>\n",
       "      <td>13044.00</td>\n",
       "      <td>22636.00</td>\n",
       "      <td>22952.00</td>\n",
       "      <td>28186.00</td>\n",
       "      <td>41880.00</td>\n",
       "      <td>31380.00</td>\n",
       "      <td>35473.00</td>\n",
       "      <td>29491.00</td>\n",
       "      <td>27492.00</td>\n",
       "    </tr>\n",
       "    <tr>\n",
       "      <th>44941</th>\n",
       "      <td>China</td>\n",
       "      <td>Cereals - Excluding Beer</td>\n",
       "      <td>Stock Variation</td>\n",
       "      <td>1000 tonnes</td>\n",
       "      <td>8114.00</td>\n",
       "      <td>16754.00</td>\n",
       "      <td>34353.00</td>\n",
       "      <td>64549.00</td>\n",
       "      <td>75918.00</td>\n",
       "      <td>80210.00</td>\n",
       "      <td>44705.00</td>\n",
       "      <td>35028.00</td>\n",
       "      <td>7514.00</td>\n",
       "      <td>6019.00</td>\n",
       "    </tr>\n",
       "    <tr>\n",
       "      <th>44942</th>\n",
       "      <td>China</td>\n",
       "      <td>Cereals - Excluding Beer</td>\n",
       "      <td>Export Quantity</td>\n",
       "      <td>1000 tonnes</td>\n",
       "      <td>3127.00</td>\n",
       "      <td>2793.00</td>\n",
       "      <td>2456.00</td>\n",
       "      <td>2414.00</td>\n",
       "      <td>2029.00</td>\n",
       "      <td>1770.00</td>\n",
       "      <td>2323.00</td>\n",
       "      <td>3686.00</td>\n",
       "      <td>5683.00</td>\n",
       "      <td>7154.00</td>\n",
       "    </tr>\n",
       "    <tr>\n",
       "      <th>44943</th>\n",
       "      <td>China</td>\n",
       "      <td>Cereals - Excluding Beer</td>\n",
       "      <td>Domestic supply quantity</td>\n",
       "      <td>1000 tonnes</td>\n",
       "      <td>500734.00</td>\n",
       "      <td>514880.00</td>\n",
       "      <td>527195.00</td>\n",
       "      <td>510613.00</td>\n",
       "      <td>509722.00</td>\n",
       "      <td>579975.00</td>\n",
       "      <td>600843.00</td>\n",
       "      <td>612889.00</td>\n",
       "      <td>627539.00</td>\n",
       "      <td>629233.00</td>\n",
       "    </tr>\n",
       "    <tr>\n",
       "      <th>44944</th>\n",
       "      <td>China</td>\n",
       "      <td>Cereals - Excluding Beer</td>\n",
       "      <td>Feed</td>\n",
       "      <td>1000 tonnes</td>\n",
       "      <td>151931.00</td>\n",
       "      <td>158640.00</td>\n",
       "      <td>164114.00</td>\n",
       "      <td>151419.00</td>\n",
       "      <td>146148.00</td>\n",
       "      <td>188554.00</td>\n",
       "      <td>211366.00</td>\n",
       "      <td>219363.00</td>\n",
       "      <td>231253.00</td>\n",
       "      <td>232039.00</td>\n",
       "    </tr>\n",
       "    <tr>\n",
       "      <th>44945</th>\n",
       "      <td>China</td>\n",
       "      <td>Cereals - Excluding Beer</td>\n",
       "      <td>Seed</td>\n",
       "      <td>1000 tonnes</td>\n",
       "      <td>13242.00</td>\n",
       "      <td>13073.00</td>\n",
       "      <td>13167.00</td>\n",
       "      <td>12518.00</td>\n",
       "      <td>13292.00</td>\n",
       "      <td>13672.00</td>\n",
       "      <td>13576.00</td>\n",
       "      <td>13449.00</td>\n",
       "      <td>13225.00</td>\n",
       "      <td>12829.00</td>\n",
       "    </tr>\n",
       "    <tr>\n",
       "      <th>44946</th>\n",
       "      <td>China</td>\n",
       "      <td>Cereals - Excluding Beer</td>\n",
       "      <td>Losses</td>\n",
       "      <td>1000 tonnes</td>\n",
       "      <td>19013.00</td>\n",
       "      <td>19976.00</td>\n",
       "      <td>21105.00</td>\n",
       "      <td>21453.00</td>\n",
       "      <td>21926.00</td>\n",
       "      <td>24945.00</td>\n",
       "      <td>24365.00</td>\n",
       "      <td>24293.00</td>\n",
       "      <td>24021.00</td>\n",
       "      <td>23997.00</td>\n",
       "    </tr>\n",
       "    <tr>\n",
       "      <th>44947</th>\n",
       "      <td>China</td>\n",
       "      <td>Cereals - Excluding Beer</td>\n",
       "      <td>Processing</td>\n",
       "      <td>1000 tonnes</td>\n",
       "      <td>11574.00</td>\n",
       "      <td>12760.00</td>\n",
       "      <td>12688.00</td>\n",
       "      <td>13384.00</td>\n",
       "      <td>16191.00</td>\n",
       "      <td>15775.00</td>\n",
       "      <td>14741.00</td>\n",
       "      <td>14499.00</td>\n",
       "      <td>12829.00</td>\n",
       "      <td>12608.00</td>\n",
       "    </tr>\n",
       "    <tr>\n",
       "      <th>44948</th>\n",
       "      <td>China</td>\n",
       "      <td>Cereals - Excluding Beer</td>\n",
       "      <td>Other uses (non-food)</td>\n",
       "      <td>1000 tonnes</td>\n",
       "      <td>28599.00</td>\n",
       "      <td>29694.00</td>\n",
       "      <td>32682.00</td>\n",
       "      <td>30592.00</td>\n",
       "      <td>28518.00</td>\n",
       "      <td>48065.00</td>\n",
       "      <td>49183.00</td>\n",
       "      <td>50367.00</td>\n",
       "      <td>52781.00</td>\n",
       "      <td>52100.00</td>\n",
       "    </tr>\n",
       "    <tr>\n",
       "      <th>44949</th>\n",
       "      <td>China</td>\n",
       "      <td>Cereals - Excluding Beer</td>\n",
       "      <td>Tourist consumption</td>\n",
       "      <td>1000 tonnes</td>\n",
       "      <td>23.00</td>\n",
       "      <td>23.00</td>\n",
       "      <td>22.00</td>\n",
       "      <td>22.00</td>\n",
       "      <td>11.00</td>\n",
       "      <td>12.00</td>\n",
       "      <td>10.00</td>\n",
       "      <td>11.00</td>\n",
       "      <td>12.00</td>\n",
       "      <td>12.00</td>\n",
       "    </tr>\n",
       "    <tr>\n",
       "      <th>44950</th>\n",
       "      <td>China</td>\n",
       "      <td>Cereals - Excluding Beer</td>\n",
       "      <td>Residuals</td>\n",
       "      <td>1000 tonnes</td>\n",
       "      <td>0.00</td>\n",
       "      <td>0.00</td>\n",
       "      <td>0.00</td>\n",
       "      <td>-8.00</td>\n",
       "      <td>1.00</td>\n",
       "      <td>1.00</td>\n",
       "      <td>1.00</td>\n",
       "      <td>1.00</td>\n",
       "      <td>1.00</td>\n",
       "      <td>10.00</td>\n",
       "    </tr>\n",
       "    <tr>\n",
       "      <th>44951</th>\n",
       "      <td>China</td>\n",
       "      <td>Cereals - Excluding Beer</td>\n",
       "      <td>Food</td>\n",
       "      <td>1000 tonnes</td>\n",
       "      <td>276351.00</td>\n",
       "      <td>280713.00</td>\n",
       "      <td>283417.00</td>\n",
       "      <td>281233.00</td>\n",
       "      <td>283635.00</td>\n",
       "      <td>288951.00</td>\n",
       "      <td>287601.00</td>\n",
       "      <td>290907.00</td>\n",
       "      <td>293416.00</td>\n",
       "      <td>295637.00</td>\n",
       "    </tr>\n",
       "    <tr>\n",
       "      <th>44952</th>\n",
       "      <td>China</td>\n",
       "      <td>Cereals - Excluding Beer</td>\n",
       "      <td>Food supply quantity (kg/capita/yr)</td>\n",
       "      <td>kg</td>\n",
       "      <td>197.46</td>\n",
       "      <td>199.47</td>\n",
       "      <td>200.27</td>\n",
       "      <td>197.64</td>\n",
       "      <td>198.25</td>\n",
       "      <td>200.91</td>\n",
       "      <td>198.96</td>\n",
       "      <td>200.26</td>\n",
       "      <td>201.06</td>\n",
       "      <td>201.71</td>\n",
       "    </tr>\n",
       "    <tr>\n",
       "      <th>44953</th>\n",
       "      <td>China</td>\n",
       "      <td>Cereals - Excluding Beer</td>\n",
       "      <td>Food supply (kcal/capita/day)</td>\n",
       "      <td>kcal/capita/day</td>\n",
       "      <td>1483.00</td>\n",
       "      <td>1500.00</td>\n",
       "      <td>1505.00</td>\n",
       "      <td>1485.00</td>\n",
       "      <td>1489.00</td>\n",
       "      <td>1511.00</td>\n",
       "      <td>1501.00</td>\n",
       "      <td>1513.00</td>\n",
       "      <td>1517.00</td>\n",
       "      <td>1523.00</td>\n",
       "    </tr>\n",
       "    <tr>\n",
       "      <th>44954</th>\n",
       "      <td>China</td>\n",
       "      <td>Cereals - Excluding Beer</td>\n",
       "      <td>Protein supply quantity (g/capita/day)</td>\n",
       "      <td>g/capita/day</td>\n",
       "      <td>35.15</td>\n",
       "      <td>35.67</td>\n",
       "      <td>35.69</td>\n",
       "      <td>35.19</td>\n",
       "      <td>35.21</td>\n",
       "      <td>35.83</td>\n",
       "      <td>35.70</td>\n",
       "      <td>36.09</td>\n",
       "      <td>36.02</td>\n",
       "      <td>36.15</td>\n",
       "    </tr>\n",
       "    <tr>\n",
       "      <th>44955</th>\n",
       "      <td>China</td>\n",
       "      <td>Cereals - Excluding Beer</td>\n",
       "      <td>Fat supply quantity (g/capita/day)</td>\n",
       "      <td>g/capita/day</td>\n",
       "      <td>6.11</td>\n",
       "      <td>6.20</td>\n",
       "      <td>6.22</td>\n",
       "      <td>6.18</td>\n",
       "      <td>6.22</td>\n",
       "      <td>6.41</td>\n",
       "      <td>6.42</td>\n",
       "      <td>6.48</td>\n",
       "      <td>6.45</td>\n",
       "      <td>6.45</td>\n",
       "    </tr>\n",
       "  </tbody>\n",
       "</table>\n",
       "</div>"
      ],
      "text/plain": [
       "        Area                      Item  \\\n",
       "44939  China  Cereals - Excluding Beer   \n",
       "44940  China  Cereals - Excluding Beer   \n",
       "44941  China  Cereals - Excluding Beer   \n",
       "44942  China  Cereals - Excluding Beer   \n",
       "44943  China  Cereals - Excluding Beer   \n",
       "44944  China  Cereals - Excluding Beer   \n",
       "44945  China  Cereals - Excluding Beer   \n",
       "44946  China  Cereals - Excluding Beer   \n",
       "44947  China  Cereals - Excluding Beer   \n",
       "44948  China  Cereals - Excluding Beer   \n",
       "44949  China  Cereals - Excluding Beer   \n",
       "44950  China  Cereals - Excluding Beer   \n",
       "44951  China  Cereals - Excluding Beer   \n",
       "44952  China  Cereals - Excluding Beer   \n",
       "44953  China  Cereals - Excluding Beer   \n",
       "44954  China  Cereals - Excluding Beer   \n",
       "44955  China  Cereals - Excluding Beer   \n",
       "\n",
       "                                      Element             Unit      Y2010  \\\n",
       "44939                              Production      1000 tonnes  498113.00   \n",
       "44940                         Import Quantity      1000 tonnes   13861.00   \n",
       "44941                         Stock Variation      1000 tonnes    8114.00   \n",
       "44942                         Export Quantity      1000 tonnes    3127.00   \n",
       "44943                Domestic supply quantity      1000 tonnes  500734.00   \n",
       "44944                                    Feed      1000 tonnes  151931.00   \n",
       "44945                                    Seed      1000 tonnes   13242.00   \n",
       "44946                                  Losses      1000 tonnes   19013.00   \n",
       "44947                              Processing      1000 tonnes   11574.00   \n",
       "44948                   Other uses (non-food)      1000 tonnes   28599.00   \n",
       "44949                     Tourist consumption      1000 tonnes      23.00   \n",
       "44950                               Residuals      1000 tonnes       0.00   \n",
       "44951                                    Food      1000 tonnes  276351.00   \n",
       "44952     Food supply quantity (kg/capita/yr)               kg     197.46   \n",
       "44953           Food supply (kcal/capita/day)  kcal/capita/day    1483.00   \n",
       "44954  Protein supply quantity (g/capita/day)     g/capita/day      35.15   \n",
       "44955      Fat supply quantity (g/capita/day)     g/capita/day       6.11   \n",
       "\n",
       "           Y2011      Y2012      Y2013      Y2014      Y2015      Y2016  \\\n",
       "44939  521383.00  541368.00  554623.00  559483.00  620074.00  616491.00   \n",
       "44940   13044.00   22636.00   22952.00   28186.00   41880.00   31380.00   \n",
       "44941   16754.00   34353.00   64549.00   75918.00   80210.00   44705.00   \n",
       "44942    2793.00    2456.00    2414.00    2029.00    1770.00    2323.00   \n",
       "44943  514880.00  527195.00  510613.00  509722.00  579975.00  600843.00   \n",
       "44944  158640.00  164114.00  151419.00  146148.00  188554.00  211366.00   \n",
       "44945   13073.00   13167.00   12518.00   13292.00   13672.00   13576.00   \n",
       "44946   19976.00   21105.00   21453.00   21926.00   24945.00   24365.00   \n",
       "44947   12760.00   12688.00   13384.00   16191.00   15775.00   14741.00   \n",
       "44948   29694.00   32682.00   30592.00   28518.00   48065.00   49183.00   \n",
       "44949      23.00      22.00      22.00      11.00      12.00      10.00   \n",
       "44950       0.00       0.00      -8.00       1.00       1.00       1.00   \n",
       "44951  280713.00  283417.00  281233.00  283635.00  288951.00  287601.00   \n",
       "44952     199.47     200.27     197.64     198.25     200.91     198.96   \n",
       "44953    1500.00    1505.00    1485.00    1489.00    1511.00    1501.00   \n",
       "44954      35.67      35.69      35.19      35.21      35.83      35.70   \n",
       "44955       6.20       6.22       6.18       6.22       6.41       6.42   \n",
       "\n",
       "           Y2017      Y2018      Y2019  \n",
       "44939  616130.00  611244.00  614914.00  \n",
       "44940   35473.00   29491.00   27492.00  \n",
       "44941   35028.00    7514.00    6019.00  \n",
       "44942    3686.00    5683.00    7154.00  \n",
       "44943  612889.00  627539.00  629233.00  \n",
       "44944  219363.00  231253.00  232039.00  \n",
       "44945   13449.00   13225.00   12829.00  \n",
       "44946   24293.00   24021.00   23997.00  \n",
       "44947   14499.00   12829.00   12608.00  \n",
       "44948   50367.00   52781.00   52100.00  \n",
       "44949      11.00      12.00      12.00  \n",
       "44950       1.00       1.00      10.00  \n",
       "44951  290907.00  293416.00  295637.00  \n",
       "44952     200.26     201.06     201.71  \n",
       "44953    1513.00    1517.00    1523.00  \n",
       "44954      36.09      36.02      36.15  \n",
       "44955       6.48       6.45       6.45  "
      ]
     },
     "execution_count": 196,
     "metadata": {},
     "output_type": "execute_result"
    }
   ],
   "source": [
    "data"
   ]
  },
  {
   "cell_type": "code",
   "execution_count": 197,
   "metadata": {
    "collapsed": false,
    "pycharm": {
     "name": "#%%\n"
    }
   },
   "outputs": [],
   "source": [
    "lstm_data=pd.DataFrame(population)\n",
    "lstm_data.columns=[\"Population\"]"
   ]
  },
  {
   "cell_type": "code",
   "execution_count": 198,
   "metadata": {
    "collapsed": false,
    "pycharm": {
     "name": "#%%\n"
    }
   },
   "outputs": [],
   "source": [
    "lstm_data[\"Actual Loss\"]=losses[\"Actual\"]"
   ]
  },
  {
   "cell_type": "markdown",
   "metadata": {},
   "source": [
    "# LSTM MODEL"
   ]
  },
  {
   "cell_type": "code",
   "execution_count": 199,
   "metadata": {
    "collapsed": false,
    "pycharm": {
     "name": "#%%\n"
    }
   },
   "outputs": [
    {
     "data": {
      "text/html": [
       "<div>\n",
       "<style scoped>\n",
       "    .dataframe tbody tr th:only-of-type {\n",
       "        vertical-align: middle;\n",
       "    }\n",
       "\n",
       "    .dataframe tbody tr th {\n",
       "        vertical-align: top;\n",
       "    }\n",
       "\n",
       "    .dataframe thead th {\n",
       "        text-align: right;\n",
       "    }\n",
       "</style>\n",
       "<table border=\"1\" class=\"dataframe\">\n",
       "  <thead>\n",
       "    <tr style=\"text-align: right;\">\n",
       "      <th></th>\n",
       "      <th>Population</th>\n",
       "      <th>Actual Loss</th>\n",
       "    </tr>\n",
       "  </thead>\n",
       "  <tbody>\n",
       "    <tr>\n",
       "      <th>Y2010</th>\n",
       "      <td>1399503000.0</td>\n",
       "      <td>19013.0</td>\n",
       "    </tr>\n",
       "    <tr>\n",
       "      <th>Y2011</th>\n",
       "      <td>1407325000.0</td>\n",
       "      <td>19976.0</td>\n",
       "    </tr>\n",
       "    <tr>\n",
       "      <th>Y2012</th>\n",
       "      <td>1415164000.0</td>\n",
       "      <td>21105.0</td>\n",
       "    </tr>\n",
       "    <tr>\n",
       "      <th>Y2013</th>\n",
       "      <td>1422971000.0</td>\n",
       "      <td>21453.0</td>\n",
       "    </tr>\n",
       "    <tr>\n",
       "      <th>Y2014</th>\n",
       "      <td>1430671000.0</td>\n",
       "      <td>21926.0</td>\n",
       "    </tr>\n",
       "    <tr>\n",
       "      <th>Y2015</th>\n",
       "      <td>1438193000.0</td>\n",
       "      <td>24945.0</td>\n",
       "    </tr>\n",
       "    <tr>\n",
       "      <th>Y2016</th>\n",
       "      <td>1445524000.0</td>\n",
       "      <td>24365.0</td>\n",
       "    </tr>\n",
       "    <tr>\n",
       "      <th>Y2017</th>\n",
       "      <td>1452626000.0</td>\n",
       "      <td>24293.0</td>\n",
       "    </tr>\n",
       "    <tr>\n",
       "      <th>Y2018</th>\n",
       "      <td>1459378000.0</td>\n",
       "      <td>24021.0</td>\n",
       "    </tr>\n",
       "    <tr>\n",
       "      <th>Y2019</th>\n",
       "      <td>1465634000.0</td>\n",
       "      <td>23997.0</td>\n",
       "    </tr>\n",
       "  </tbody>\n",
       "</table>\n",
       "</div>"
      ],
      "text/plain": [
       "         Population Actual Loss\n",
       "Y2010  1399503000.0     19013.0\n",
       "Y2011  1407325000.0     19976.0\n",
       "Y2012  1415164000.0     21105.0\n",
       "Y2013  1422971000.0     21453.0\n",
       "Y2014  1430671000.0     21926.0\n",
       "Y2015  1438193000.0     24945.0\n",
       "Y2016  1445524000.0     24365.0\n",
       "Y2017  1452626000.0     24293.0\n",
       "Y2018  1459378000.0     24021.0\n",
       "Y2019  1465634000.0     23997.0"
      ]
     },
     "execution_count": 199,
     "metadata": {},
     "output_type": "execute_result"
    }
   ],
   "source": [
    "lstm_data"
   ]
  },
  {
   "cell_type": "code",
   "execution_count": 200,
   "metadata": {
    "collapsed": false,
    "pycharm": {
     "name": "#%%\n"
    }
   },
   "outputs": [],
   "source": [
    "# df_for_training=lstm_data[:-3].to_numpy()\n",
    "# df_for_testing=lstm_data[-3:].to_numpy()"
   ]
  },
  {
   "cell_type": "code",
   "execution_count": 201,
   "metadata": {
    "collapsed": false,
    "pycharm": {
     "name": "#%%\n"
    }
   },
   "outputs": [],
   "source": [
    "# scaler = MinMaxScaler(feature_range=(0,1))\n",
    "# df_for_training_scaled = scaler.fit_transform(df_for_training)\n",
    "# df_for_testing_scaled=scaler.transform(df_for_testing)\n",
    "# type(df_for_training_scaled)"
   ]
  },
  {
   "cell_type": "code",
   "execution_count": 298,
   "metadata": {
    "collapsed": false,
    "pycharm": {
     "name": "#%%\n"
    }
   },
   "outputs": [],
   "source": [
    "def df_to_X_y(df, window_size=3):\n",
    "  df_as_np = df.to_numpy()\n",
    "  X = []\n",
    "  y = []\n",
    "  for i in range(len(df_as_np)-window_size):\n",
    "    row = [[a] for a in df_as_np[i:i+window_size]]\n",
    "    X.append(row)\n",
    "    label = df_as_np[i+window_size]\n",
    "    y.append(label)\n",
    "  return np.array(X), np.array(y)"
   ]
  },
  {
   "cell_type": "code",
   "execution_count": 299,
   "metadata": {},
   "outputs": [
    {
     "data": {
      "text/plain": [
       "((7, 3, 1), (7,))"
      ]
     },
     "execution_count": 299,
     "metadata": {},
     "output_type": "execute_result"
    }
   ],
   "source": [
    "WINDOW_SIZE = 3\n",
    "X1, y1 = df_to_X_y(lstm_data[\"Actual Loss\"], WINDOW_SIZE)\n",
    "X1.shape, y1.shape"
   ]
  },
  {
   "cell_type": "code",
   "execution_count": 300,
   "metadata": {},
   "outputs": [
    {
     "data": {
      "text/plain": [
       "((4, 3, 1), (4,), (2, 3, 1), (2,), (1, 3, 1), (1,))"
      ]
     },
     "execution_count": 300,
     "metadata": {},
     "output_type": "execute_result"
    }
   ],
   "source": [
    "X_train1, y_train1 = X1[:4], y1[:4]\n",
    "X_val1, y_val1 = X1[4:6], y1[4:6]\n",
    "X_test1, y_test1 = X1[6:], y1[6:]\n",
    "X_train1.shape, y_train1.shape, X_val1.shape, y_val1.shape, X_test1.shape, y_test1.shape"
   ]
  },
  {
   "cell_type": "code",
   "execution_count": 301,
   "metadata": {
    "collapsed": false,
    "pycharm": {
     "name": "#%%\n"
    }
   },
   "outputs": [
    {
     "name": "stdout",
     "output_type": "stream",
     "text": [
      "Epoch 1/20\n",
      "1/1 [==============================] - ETA: 0s - loss: 539266496.0000 - root_mean_squared_error: 23222.1113"
     ]
    },
    {
     "name": "stderr",
     "output_type": "stream",
     "text": [
      "WARNING:absl:Found untraced functions such as lstm_cell_15_layer_call_fn, lstm_cell_15_layer_call_and_return_conditional_losses while saving (showing 2 of 2). These functions will not be directly callable after loading.\n"
     ]
    },
    {
     "name": "stdout",
     "output_type": "stream",
     "text": [
      "INFO:tensorflow:Assets written to: model1/assets\n"
     ]
    },
    {
     "name": "stderr",
     "output_type": "stream",
     "text": [
      "INFO:tensorflow:Assets written to: model1/assets\n"
     ]
    },
    {
     "name": "stdout",
     "output_type": "stream",
     "text": [
      "1/1 [==============================] - 5s 5s/step - loss: 539266496.0000 - root_mean_squared_error: 23222.1113 - val_loss: 502784384.0000 - val_root_mean_squared_error: 22422.8535\n",
      "Epoch 2/20\n",
      "1/1 [==============================] - ETA: 0s - loss: 461843104.0000 - root_mean_squared_error: 21490.5352"
     ]
    },
    {
     "name": "stderr",
     "output_type": "stream",
     "text": [
      "WARNING:absl:Found untraced functions such as lstm_cell_15_layer_call_fn, lstm_cell_15_layer_call_and_return_conditional_losses while saving (showing 2 of 2). These functions will not be directly callable after loading.\n"
     ]
    },
    {
     "name": "stdout",
     "output_type": "stream",
     "text": [
      "INFO:tensorflow:Assets written to: model1/assets\n"
     ]
    },
    {
     "name": "stderr",
     "output_type": "stream",
     "text": [
      "INFO:tensorflow:Assets written to: model1/assets\n"
     ]
    },
    {
     "name": "stdout",
     "output_type": "stream",
     "text": [
      "1/1 [==============================] - 3s 3s/step - loss: 461843104.0000 - root_mean_squared_error: 21490.5352 - val_loss: 356931456.0000 - val_root_mean_squared_error: 18892.6289\n",
      "Epoch 3/20\n",
      "1/1 [==============================] - ETA: 0s - loss: 322943200.0000 - root_mean_squared_error: 17970.6211"
     ]
    },
    {
     "name": "stderr",
     "output_type": "stream",
     "text": [
      "WARNING:absl:Found untraced functions such as lstm_cell_15_layer_call_fn, lstm_cell_15_layer_call_and_return_conditional_losses while saving (showing 2 of 2). These functions will not be directly callable after loading.\n"
     ]
    },
    {
     "name": "stdout",
     "output_type": "stream",
     "text": [
      "INFO:tensorflow:Assets written to: model1/assets\n"
     ]
    },
    {
     "name": "stderr",
     "output_type": "stream",
     "text": [
      "INFO:tensorflow:Assets written to: model1/assets\n"
     ]
    },
    {
     "name": "stdout",
     "output_type": "stream",
     "text": [
      "1/1 [==============================] - 4s 4s/step - loss: 322943200.0000 - root_mean_squared_error: 17970.6211 - val_loss: 157081856.0000 - val_root_mean_squared_error: 12533.2305\n",
      "Epoch 4/20\n",
      "1/1 [==============================] - ETA: 0s - loss: 135618912.0000 - root_mean_squared_error: 11645.5537"
     ]
    },
    {
     "name": "stderr",
     "output_type": "stream",
     "text": [
      "WARNING:absl:Found untraced functions such as lstm_cell_15_layer_call_fn, lstm_cell_15_layer_call_and_return_conditional_losses while saving (showing 2 of 2). These functions will not be directly callable after loading.\n"
     ]
    },
    {
     "name": "stdout",
     "output_type": "stream",
     "text": [
      "INFO:tensorflow:Assets written to: model1/assets\n"
     ]
    },
    {
     "name": "stderr",
     "output_type": "stream",
     "text": [
      "INFO:tensorflow:Assets written to: model1/assets\n"
     ]
    },
    {
     "name": "stdout",
     "output_type": "stream",
     "text": [
      "1/1 [==============================] - 3s 3s/step - loss: 135618912.0000 - root_mean_squared_error: 11645.5537 - val_loss: 9205042.0000 - val_root_mean_squared_error: 3033.9812\n",
      "Epoch 5/20\n",
      "1/1 [==============================] - 0s 24ms/step - loss: 6455423.0000 - root_mean_squared_error: 2540.7524 - val_loss: 68147816.0000 - val_root_mean_squared_error: 8255.1689\n",
      "Epoch 6/20\n",
      "1/1 [==============================] - 0s 23ms/step - loss: 87623968.0000 - root_mean_squared_error: 9360.7676 - val_loss: 137850224.0000 - val_root_mean_squared_error: 11740.9639\n",
      "Epoch 7/20\n",
      "1/1 [==============================] - 0s 24ms/step - loss: 164192288.0000 - root_mean_squared_error: 12813.7539 - val_loss: 76446800.0000 - val_root_mean_squared_error: 8743.3857\n",
      "Epoch 8/20\n",
      "1/1 [==============================] - 0s 23ms/step - loss: 96884608.0000 - root_mean_squared_error: 9842.9980 - val_loss: 11378371.0000 - val_root_mean_squared_error: 3373.1841\n",
      "Epoch 9/20\n",
      "1/1 [==============================] - ETA: 0s - loss: 21236256.0000 - root_mean_squared_error: 4608.2812"
     ]
    },
    {
     "name": "stderr",
     "output_type": "stream",
     "text": [
      "WARNING:absl:Found untraced functions such as lstm_cell_15_layer_call_fn, lstm_cell_15_layer_call_and_return_conditional_losses while saving (showing 2 of 2). These functions will not be directly callable after loading.\n"
     ]
    },
    {
     "name": "stdout",
     "output_type": "stream",
     "text": [
      "INFO:tensorflow:Assets written to: model1/assets\n"
     ]
    },
    {
     "name": "stderr",
     "output_type": "stream",
     "text": [
      "INFO:tensorflow:Assets written to: model1/assets\n"
     ]
    },
    {
     "name": "stdout",
     "output_type": "stream",
     "text": [
      "1/1 [==============================] - 3s 3s/step - loss: 21236256.0000 - root_mean_squared_error: 4608.2812 - val_loss: 4082704.7500 - val_root_mean_squared_error: 2020.5704\n",
      "Epoch 10/20\n",
      "1/1 [==============================] - 0s 25ms/step - loss: 3332012.0000 - root_mean_squared_error: 1825.3800 - val_loss: 37483920.0000 - val_root_mean_squared_error: 6122.4111\n",
      "Epoch 11/20\n",
      "1/1 [==============================] - 0s 23ms/step - loss: 28648584.0000 - root_mean_squared_error: 5352.4370 - val_loss: 73489528.0000 - val_root_mean_squared_error: 8572.6035\n",
      "Epoch 12/20\n",
      "1/1 [==============================] - 0s 23ms/step - loss: 59827708.0000 - root_mean_squared_error: 7734.8374 - val_loss: 90422384.0000 - val_root_mean_squared_error: 9509.0684\n",
      "Epoch 13/20\n",
      "1/1 [==============================] - 0s 23ms/step - loss: 74915984.0000 - root_mean_squared_error: 8655.4023 - val_loss: 84042480.0000 - val_root_mean_squared_error: 9167.4688\n",
      "Epoch 14/20\n",
      "1/1 [==============================] - 0s 23ms/step - loss: 69208944.0000 - root_mean_squared_error: 8319.1914 - val_loss: 59765872.0000 - val_root_mean_squared_error: 7730.8389\n",
      "Epoch 15/20\n",
      "1/1 [==============================] - 0s 23ms/step - loss: 47762136.0000 - root_mean_squared_error: 6911.0156 - val_loss: 28770860.0000 - val_root_mean_squared_error: 5363.8477\n",
      "Epoch 16/20\n",
      "1/1 [==============================] - 0s 23ms/step - loss: 21429958.0000 - root_mean_squared_error: 4629.2505 - val_loss: 5406897.0000 - val_root_mean_squared_error: 2325.2734\n",
      "Epoch 17/20\n",
      "1/1 [==============================] - ETA: 0s - loss: 4054911.0000 - root_mean_squared_error: 2013.6809"
     ]
    },
    {
     "name": "stderr",
     "output_type": "stream",
     "text": [
      "WARNING:absl:Found untraced functions such as lstm_cell_15_layer_call_fn, lstm_cell_15_layer_call_and_return_conditional_losses while saving (showing 2 of 2). These functions will not be directly callable after loading.\n"
     ]
    },
    {
     "name": "stdout",
     "output_type": "stream",
     "text": [
      "INFO:tensorflow:Assets written to: model1/assets\n"
     ]
    },
    {
     "name": "stderr",
     "output_type": "stream",
     "text": [
      "INFO:tensorflow:Assets written to: model1/assets\n"
     ]
    },
    {
     "name": "stdout",
     "output_type": "stream",
     "text": [
      "1/1 [==============================] - 3s 3s/step - loss: 4054911.0000 - root_mean_squared_error: 2013.6809 - val_loss: 847108.0000 - val_root_mean_squared_error: 920.3847\n",
      "Epoch 18/20\n",
      "1/1 [==============================] - 0s 31ms/step - loss: 5859707.0000 - root_mean_squared_error: 2420.6831 - val_loss: 12840812.0000 - val_root_mean_squared_error: 3583.4080\n",
      "Epoch 19/20\n",
      "1/1 [==============================] - 0s 29ms/step - loss: 23113050.0000 - root_mean_squared_error: 4807.6035 - val_loss: 24207910.0000 - val_root_mean_squared_error: 4920.1533\n",
      "Epoch 20/20\n",
      "1/1 [==============================] - 0s 33ms/step - loss: 37114272.0000 - root_mean_squared_error: 6092.1484 - val_loss: 21228370.0000 - val_root_mean_squared_error: 4607.4253\n"
     ]
    },
    {
     "data": {
      "text/plain": [
       "<keras.callbacks.History at 0x7fe1cfd0ef10>"
      ]
     },
     "execution_count": 301,
     "metadata": {},
     "output_type": "execute_result"
    }
   ],
   "source": [
    "model1 = Sequential()\n",
    "model1.add(InputLayer((3, 1)))\n",
    "model1.add(LSTM(64))\n",
    "model1.add(Dense(8, 'relu'))\n",
    "model1.add(Dense(1, 'linear'))\n",
    "\n",
    "# model1.summary()\n",
    "\n",
    "cp1 = ModelCheckpoint('model1/', save_best_only=True)\n",
    "model1.compile(loss=MeanSquaredError(), optimizer=Adam(learning_rate=10), metrics=[RootMeanSquaredError()])\n",
    "\n",
    "model1.fit(X_train1, y_train1, validation_data=(X_val1, y_val1), epochs=20, callbacks=[cp1])"
   ]
  },
  {
   "cell_type": "code",
   "execution_count": 302,
   "metadata": {},
   "outputs": [],
   "source": [
    "# from sklearn.metrics import mean_absolute_error\n",
    "\n",
    "# parameters = {'learning_rate':(0.001,0.01,0.1,1,10,100), 'optimizer':('Adam')}\n",
    "# model1_params = GridSearchCV(model1, parameters)\n",
    "# model1_params.fit(X_train1, y_train1,scoring=accuracy)"
   ]
  },
  {
   "cell_type": "code",
   "execution_count": 303,
   "metadata": {
    "collapsed": false,
    "pycharm": {
     "name": "#%%\n"
    }
   },
   "outputs": [],
   "source": [
    "from tensorflow.keras.models import load_model\n",
    "model1 = load_model('model1/')"
   ]
  },
  {
   "cell_type": "code",
   "execution_count": 304,
   "metadata": {
    "collapsed": false,
    "pycharm": {
     "name": "#%%\n"
    }
   },
   "outputs": [
    {
     "name": "stdout",
     "output_type": "stream",
     "text": [
      "1/1 [==============================] - 0s 361ms/step\n"
     ]
    },
    {
     "data": {
      "text/html": [
       "<div>\n",
       "<style scoped>\n",
       "    .dataframe tbody tr th:only-of-type {\n",
       "        vertical-align: middle;\n",
       "    }\n",
       "\n",
       "    .dataframe tbody tr th {\n",
       "        vertical-align: top;\n",
       "    }\n",
       "\n",
       "    .dataframe thead th {\n",
       "        text-align: right;\n",
       "    }\n",
       "</style>\n",
       "<table border=\"1\" class=\"dataframe\">\n",
       "  <thead>\n",
       "    <tr style=\"text-align: right;\">\n",
       "      <th></th>\n",
       "      <th>Train Predictions</th>\n",
       "      <th>Actuals</th>\n",
       "    </tr>\n",
       "  </thead>\n",
       "  <tbody>\n",
       "    <tr>\n",
       "      <th>0</th>\n",
       "      <td>25067.28125</td>\n",
       "      <td>21453.0</td>\n",
       "    </tr>\n",
       "    <tr>\n",
       "      <th>1</th>\n",
       "      <td>25067.28125</td>\n",
       "      <td>21926.0</td>\n",
       "    </tr>\n",
       "    <tr>\n",
       "      <th>2</th>\n",
       "      <td>25067.28125</td>\n",
       "      <td>24945.0</td>\n",
       "    </tr>\n",
       "    <tr>\n",
       "      <th>3</th>\n",
       "      <td>25067.28125</td>\n",
       "      <td>24365.0</td>\n",
       "    </tr>\n",
       "  </tbody>\n",
       "</table>\n",
       "</div>"
      ],
      "text/plain": [
       "   Train Predictions  Actuals\n",
       "0        25067.28125  21453.0\n",
       "1        25067.28125  21926.0\n",
       "2        25067.28125  24945.0\n",
       "3        25067.28125  24365.0"
      ]
     },
     "execution_count": 304,
     "metadata": {},
     "output_type": "execute_result"
    }
   ],
   "source": [
    "train_predictions = model1.predict(X_train1).flatten()\n",
    "train_results = pd.DataFrame(data={'Train Predictions':train_predictions, 'Actuals':y_train1})\n",
    "train_results"
   ]
  },
  {
   "cell_type": "code",
   "execution_count": 306,
   "metadata": {
    "collapsed": false,
    "pycharm": {
     "name": "#%%\n"
    }
   },
   "outputs": [
    {
     "data": {
      "text/plain": [
       "<matplotlib.legend.Legend at 0x7fe1cda3ef70>"
      ]
     },
     "execution_count": 306,
     "metadata": {},
     "output_type": "execute_result"
    },
    {
     "data": {
      "image/png": "[encoded data removed]",
      "text/plain": [
       "<Figure size 432x288 with 1 Axes>"
      ]
     },
     "metadata": {
      "needs_background": "light"
     },
     "output_type": "display_data"
    }
   ],
   "source": [
    "import matplotlib.pyplot as plt\n",
    "plt.plot(train_results['Train Predictions'])\n",
    "plt.plot(train_results['Actuals'])\n",
    "plt.legend(['Prediction', 'Actual'], loc='lower right')"
   ]
  },
  {
   "cell_type": "code",
   "execution_count": 307,
   "metadata": {
    "collapsed": false,
    "pycharm": {
     "name": "#%%\n"
    }
   },
   "outputs": [
    {
     "name": "stdout",
     "output_type": "stream",
     "text": [
      "1/1 [==============================] - 0s 16ms/step\n"
     ]
    },
    {
     "data": {
      "text/html": [
       "<div>\n",
       "<style scoped>\n",
       "    .dataframe tbody tr th:only-of-type {\n",
       "        vertical-align: middle;\n",
       "    }\n",
       "\n",
       "    .dataframe tbody tr th {\n",
       "        vertical-align: top;\n",
       "    }\n",
       "\n",
       "    .dataframe thead th {\n",
       "        text-align: right;\n",
       "    }\n",
       "</style>\n",
       "<table border=\"1\" class=\"dataframe\">\n",
       "  <thead>\n",
       "    <tr style=\"text-align: right;\">\n",
       "      <th></th>\n",
       "      <th>Val Predictions</th>\n",
       "      <th>Actuals</th>\n",
       "    </tr>\n",
       "  </thead>\n",
       "  <tbody>\n",
       "    <tr>\n",
       "      <th>0</th>\n",
       "      <td>25067.28125</td>\n",
       "      <td>24293.0</td>\n",
       "    </tr>\n",
       "    <tr>\n",
       "      <th>1</th>\n",
       "      <td>25067.28125</td>\n",
       "      <td>24021.0</td>\n",
       "    </tr>\n",
       "  </tbody>\n",
       "</table>\n",
       "</div>"
      ],
      "text/plain": [
       "   Val Predictions  Actuals\n",
       "0      25067.28125  24293.0\n",
       "1      25067.28125  24021.0"
      ]
     },
     "execution_count": 307,
     "metadata": {},
     "output_type": "execute_result"
    }
   ],
   "source": [
    "val_predictions = model1.predict(X_val1).flatten()\n",
    "val_results = pd.DataFrame(data={'Val Predictions':val_predictions, 'Actuals':y_val1})\n",
    "val_results"
   ]
  },
  {
   "cell_type": "code",
   "execution_count": 308,
   "metadata": {
    "collapsed": false,
    "pycharm": {
     "name": "#%%\n"
    }
   },
   "outputs": [],
   "source": [
    "# plt.plot(val_results['Val Predictions'])\n",
    "# plt.plot(val_results['Actuals'])"
   ]
  },
  {
   "cell_type": "code",
   "execution_count": 309,
   "metadata": {
    "collapsed": false,
    "pycharm": {
     "name": "#%%\n"
    }
   },
   "outputs": [
    {
     "name": "stdout",
     "output_type": "stream",
     "text": [
      "1/1 [==============================] - 0s 19ms/step\n"
     ]
    },
    {
     "data": {
      "text/html": [
       "<div>\n",
       "<style scoped>\n",
       "    .dataframe tbody tr th:only-of-type {\n",
       "        vertical-align: middle;\n",
       "    }\n",
       "\n",
       "    .dataframe tbody tr th {\n",
       "        vertical-align: top;\n",
       "    }\n",
       "\n",
       "    .dataframe thead th {\n",
       "        text-align: right;\n",
       "    }\n",
       "</style>\n",
       "<table border=\"1\" class=\"dataframe\">\n",
       "  <thead>\n",
       "    <tr style=\"text-align: right;\">\n",
       "      <th></th>\n",
       "      <th>Test Predictions</th>\n",
       "      <th>Actuals</th>\n",
       "    </tr>\n",
       "  </thead>\n",
       "  <tbody>\n",
       "    <tr>\n",
       "      <th>0</th>\n",
       "      <td>25067.283203</td>\n",
       "      <td>23997.0</td>\n",
       "    </tr>\n",
       "  </tbody>\n",
       "</table>\n",
       "</div>"
      ],
      "text/plain": [
       "   Test Predictions  Actuals\n",
       "0      25067.283203  23997.0"
      ]
     },
     "execution_count": 309,
     "metadata": {},
     "output_type": "execute_result"
    }
   ],
   "source": [
    "test_predictions = model1.predict(X_test1).flatten()\n",
    "test_results = pd.DataFrame(data={'Test Predictions':test_predictions, 'Actuals':y_test1})\n",
    "test_results"
   ]
  },
  {
   "cell_type": "markdown",
   "metadata": {
    "collapsed": false,
    "pycharm": {
     "name": "#%%\n"
    }
   },
   "source": [
    "# SECOND PART"
   ]
  },
  {
   "cell_type": "code",
   "execution_count": 212,
   "metadata": {
    "collapsed": false,
    "pycharm": {
     "name": "#%%\n"
    }
   },
   "outputs": [],
   "source": [
    "# from sklearn.metrics import mean_squared_error as mse\n",
    "\n",
    "# def plot_predictions1(model, X, y, start=0, end=100):\n",
    "#   predictions = model.predict(X).flatten()\n",
    "#   df = pd.DataFrame(data={'Predictions':predictions, 'Actuals':y})\n",
    "#   plt.plot(df['Predictions'])\n",
    "#   plt.plot(df['Actuals'])\n",
    "#   return df, mse(y, predictions)"
   ]
  },
  {
   "cell_type": "code",
   "execution_count": 213,
   "metadata": {
    "collapsed": false,
    "pycharm": {
     "name": "#%%\n"
    }
   },
   "outputs": [],
   "source": [
    "# plot_predictions1(model1, X_test1, y_test1)"
   ]
  },
  {
   "cell_type": "code",
   "execution_count": 313,
   "metadata": {
    "collapsed": false,
    "pycharm": {
     "name": "#%%\n"
    }
   },
   "outputs": [
    {
     "name": "stdout",
     "output_type": "stream",
     "text": [
      "Model: \"sequential_18\"\n",
      "_________________________________________________________________\n",
      " Layer (type)                Output Shape              Param #   \n",
      "=================================================================\n",
      " conv1d_6 (Conv1D)           (None, 2, 64)             192       \n",
      "                                                                 \n",
      " flatten_6 (Flatten)         (None, 128)               0         \n",
      "                                                                 \n",
      " dense_36 (Dense)            (None, 8)                 1032      \n",
      "                                                                 \n",
      " dense_37 (Dense)            (None, 1)                 9         \n",
      "                                                                 \n",
      "=================================================================\n",
      "Total params: 1,233\n",
      "Trainable params: 1,233\n",
      "Non-trainable params: 0\n",
      "_________________________________________________________________\n"
     ]
    }
   ],
   "source": [
    "model2 = Sequential()\n",
    "model2.add(InputLayer((3, 1)))\n",
    "model2.add(Conv1D(64, kernel_size=2))\n",
    "model2.add(Flatten())\n",
    "model2.add(Dense(8, 'relu'))\n",
    "model2.add(Dense(1, 'linear'))\n",
    "\n",
    "model2.summary()"
   ]
  },
  {
   "cell_type": "code",
   "execution_count": 314,
   "metadata": {
    "collapsed": false,
    "pycharm": {
     "name": "#%%\n"
    }
   },
   "outputs": [],
   "source": [
    "cp2 = ModelCheckpoint('model2/', save_best_only=True)\n",
    "model2.compile(loss=MeanSquaredError(), optimizer=Adam(learning_rate=10), metrics=[RootMeanSquaredError()])"
   ]
  },
  {
   "cell_type": "code",
   "execution_count": 315,
   "metadata": {
    "collapsed": false,
    "pycharm": {
     "name": "#%%\n"
    }
   },
   "outputs": [
    {
     "name": "stdout",
     "output_type": "stream",
     "text": [
      "Epoch 1/100\n",
      "1/1 [==============================] - ETA: 0s - loss: 685783936.0000 - root_mean_squared_error: 26187.4766"
     ]
    },
    {
     "name": "stderr",
     "output_type": "stream",
     "text": [
      "WARNING:absl:Found untraced functions such as _jit_compiled_convolution_op while saving (showing 1 of 1). These functions will not be directly callable after loading.\n"
     ]
    },
    {
     "name": "stdout",
     "output_type": "stream",
     "text": [
      "INFO:tensorflow:Assets written to: model2/assets\n"
     ]
    },
    {
     "name": "stderr",
     "output_type": "stream",
     "text": [
      "INFO:tensorflow:Assets written to: model2/assets\n"
     ]
    },
    {
     "name": "stdout",
     "output_type": "stream",
     "text": [
      "1/1 [==============================] - 1s 876ms/step - loss: 685783936.0000 - root_mean_squared_error: 26187.4766 - val_loss: 459245287999799296.0000 - val_root_mean_squared_error: 677676416.0000\n",
      "Epoch 2/100\n",
      "1/1 [==============================] - 0s 22ms/step - loss: 352321252532158464.0000 - root_mean_squared_error: 593566528.0000 - val_loss: 65852522156806635520.0000 - val_root_mean_squared_error: 8114956800.0000\n",
      "Epoch 3/100\n",
      "1/1 [==============================] - 0s 35ms/step - loss: 50557594134814654464.0000 - root_mean_squared_error: 7110386176.0000 - val_loss: 2391334840940068077568.0000 - val_root_mean_squared_error: 48901275648.0000\n",
      "Epoch 4/100\n",
      "1/1 [==============================] - 0s 43ms/step - loss: 1835677904165329174528.0000 - root_mean_squared_error: 42844811264.0000 - val_loss: 184608477292613599232.0000 - val_root_mean_squared_error: 13587069952.0000\n",
      "Epoch 5/100\n",
      "1/1 [==============================] - 0s 33ms/step - loss: 141714320873723265024.0000 - root_mean_squared_error: 11904381952.0000 - val_loss: nan - val_root_mean_squared_error: nan\n",
      "Epoch 6/100\n",
      "1/1 [==============================] - 0s 27ms/step - loss: nan - root_mean_squared_error: nan - val_loss: nan - val_root_mean_squared_error: nan\n",
      "Epoch 7/100\n",
      "1/1 [==============================] - 0s 39ms/step - loss: nan - root_mean_squared_error: nan - val_loss: nan - val_root_mean_squared_error: nan\n",
      "Epoch 8/100\n",
      "1/1 [==============================] - 0s 26ms/step - loss: nan - root_mean_squared_error: nan - val_loss: nan - val_root_mean_squared_error: nan\n",
      "Epoch 9/100\n",
      "1/1 [==============================] - 0s 25ms/step - loss: nan - root_mean_squared_error: nan - val_loss: nan - val_root_mean_squared_error: nan\n",
      "Epoch 10/100\n",
      "1/1 [==============================] - 0s 29ms/step - loss: nan - root_mean_squared_error: nan - val_loss: nan - val_root_mean_squared_error: nan\n",
      "Epoch 11/100\n",
      "1/1 [==============================] - 0s 29ms/step - loss: nan - root_mean_squared_error: nan - val_loss: nan - val_root_mean_squared_error: nan\n",
      "Epoch 12/100\n",
      "1/1 [==============================] - 0s 27ms/step - loss: nan - root_mean_squared_error: nan - val_loss: nan - val_root_mean_squared_error: nan\n",
      "Epoch 13/100\n",
      "1/1 [==============================] - 0s 31ms/step - loss: nan - root_mean_squared_error: nan - val_loss: nan - val_root_mean_squared_error: nan\n",
      "Epoch 14/100\n",
      "1/1 [==============================] - 0s 31ms/step - loss: nan - root_mean_squared_error: nan - val_loss: nan - val_root_mean_squared_error: nan\n",
      "Epoch 15/100\n",
      "1/1 [==============================] - 0s 28ms/step - loss: nan - root_mean_squared_error: nan - val_loss: nan - val_root_mean_squared_error: nan\n",
      "Epoch 16/100\n",
      "1/1 [==============================] - 0s 30ms/step - loss: nan - root_mean_squared_error: nan - val_loss: nan - val_root_mean_squared_error: nan\n",
      "Epoch 17/100\n",
      "1/1 [==============================] - 0s 32ms/step - loss: nan - root_mean_squared_error: nan - val_loss: nan - val_root_mean_squared_error: nan\n",
      "Epoch 18/100\n",
      "1/1 [==============================] - 0s 30ms/step - loss: nan - root_mean_squared_error: nan - val_loss: nan - val_root_mean_squared_error: nan\n",
      "Epoch 19/100\n",
      "1/1 [==============================] - 0s 28ms/step - loss: nan - root_mean_squared_error: nan - val_loss: nan - val_root_mean_squared_error: nan\n",
      "Epoch 20/100\n",
      "1/1 [==============================] - 0s 26ms/step - loss: nan - root_mean_squared_error: nan - val_loss: nan - val_root_mean_squared_error: nan\n",
      "Epoch 21/100\n",
      "1/1 [==============================] - 0s 24ms/step - loss: nan - root_mean_squared_error: nan - val_loss: nan - val_root_mean_squared_error: nan\n",
      "Epoch 22/100\n",
      "1/1 [==============================] - 0s 24ms/step - loss: nan - root_mean_squared_error: nan - val_loss: nan - val_root_mean_squared_error: nan\n",
      "Epoch 23/100\n",
      "1/1 [==============================] - 0s 23ms/step - loss: nan - root_mean_squared_error: nan - val_loss: nan - val_root_mean_squared_error: nan\n",
      "Epoch 24/100\n",
      "1/1 [==============================] - 0s 23ms/step - loss: nan - root_mean_squared_error: nan - val_loss: nan - val_root_mean_squared_error: nan\n",
      "Epoch 25/100\n",
      "1/1 [==============================] - 0s 23ms/step - loss: nan - root_mean_squared_error: nan - val_loss: nan - val_root_mean_squared_error: nan\n",
      "Epoch 26/100\n",
      "1/1 [==============================] - 0s 22ms/step - loss: nan - root_mean_squared_error: nan - val_loss: nan - val_root_mean_squared_error: nan\n",
      "Epoch 27/100\n",
      "1/1 [==============================] - 0s 23ms/step - loss: nan - root_mean_squared_error: nan - val_loss: nan - val_root_mean_squared_error: nan\n",
      "Epoch 28/100\n",
      "1/1 [==============================] - 0s 22ms/step - loss: nan - root_mean_squared_error: nan - val_loss: nan - val_root_mean_squared_error: nan\n",
      "Epoch 29/100\n",
      "1/1 [==============================] - 0s 22ms/step - loss: nan - root_mean_squared_error: nan - val_loss: nan - val_root_mean_squared_error: nan\n",
      "Epoch 30/100\n",
      "1/1 [==============================] - 0s 22ms/step - loss: nan - root_mean_squared_error: nan - val_loss: nan - val_root_mean_squared_error: nan\n",
      "Epoch 31/100\n",
      "1/1 [==============================] - 0s 27ms/step - loss: nan - root_mean_squared_error: nan - val_loss: nan - val_root_mean_squared_error: nan\n",
      "Epoch 32/100\n",
      "1/1 [==============================] - 0s 23ms/step - loss: nan - root_mean_squared_error: nan - val_loss: nan - val_root_mean_squared_error: nan\n",
      "Epoch 33/100\n",
      "1/1 [==============================] - 0s 23ms/step - loss: nan - root_mean_squared_error: nan - val_loss: nan - val_root_mean_squared_error: nan\n",
      "Epoch 34/100\n",
      "1/1 [==============================] - 0s 23ms/step - loss: nan - root_mean_squared_error: nan - val_loss: nan - val_root_mean_squared_error: nan\n",
      "Epoch 35/100\n",
      "1/1 [==============================] - 0s 23ms/step - loss: nan - root_mean_squared_error: nan - val_loss: nan - val_root_mean_squared_error: nan\n",
      "Epoch 36/100\n",
      "1/1 [==============================] - 0s 23ms/step - loss: nan - root_mean_squared_error: nan - val_loss: nan - val_root_mean_squared_error: nan\n",
      "Epoch 37/100\n",
      "1/1 [==============================] - 0s 23ms/step - loss: nan - root_mean_squared_error: nan - val_loss: nan - val_root_mean_squared_error: nan\n",
      "Epoch 38/100\n",
      "1/1 [==============================] - 0s 21ms/step - loss: nan - root_mean_squared_error: nan - val_loss: nan - val_root_mean_squared_error: nan\n",
      "Epoch 39/100\n",
      "1/1 [==============================] - 0s 23ms/step - loss: nan - root_mean_squared_error: nan - val_loss: nan - val_root_mean_squared_error: nan\n",
      "Epoch 40/100\n",
      "1/1 [==============================] - 0s 23ms/step - loss: nan - root_mean_squared_error: nan - val_loss: nan - val_root_mean_squared_error: nan\n",
      "Epoch 41/100\n",
      "1/1 [==============================] - 0s 23ms/step - loss: nan - root_mean_squared_error: nan - val_loss: nan - val_root_mean_squared_error: nan\n",
      "Epoch 42/100\n",
      "1/1 [==============================] - 0s 22ms/step - loss: nan - root_mean_squared_error: nan - val_loss: nan - val_root_mean_squared_error: nan\n",
      "Epoch 43/100\n",
      "1/1 [==============================] - 0s 22ms/step - loss: nan - root_mean_squared_error: nan - val_loss: nan - val_root_mean_squared_error: nan\n",
      "Epoch 44/100\n",
      "1/1 [==============================] - 0s 24ms/step - loss: nan - root_mean_squared_error: nan - val_loss: nan - val_root_mean_squared_error: nan\n",
      "Epoch 45/100\n",
      "1/1 [==============================] - 0s 24ms/step - loss: nan - root_mean_squared_error: nan - val_loss: nan - val_root_mean_squared_error: nan\n",
      "Epoch 46/100\n",
      "1/1 [==============================] - 0s 25ms/step - loss: nan - root_mean_squared_error: nan - val_loss: nan - val_root_mean_squared_error: nan\n",
      "Epoch 47/100\n",
      "1/1 [==============================] - 0s 27ms/step - loss: nan - root_mean_squared_error: nan - val_loss: nan - val_root_mean_squared_error: nan\n",
      "Epoch 48/100\n",
      "1/1 [==============================] - 0s 28ms/step - loss: nan - root_mean_squared_error: nan - val_loss: nan - val_root_mean_squared_error: nan\n",
      "Epoch 49/100\n",
      "1/1 [==============================] - 0s 29ms/step - loss: nan - root_mean_squared_error: nan - val_loss: nan - val_root_mean_squared_error: nan\n",
      "Epoch 50/100\n",
      "1/1 [==============================] - 0s 27ms/step - loss: nan - root_mean_squared_error: nan - val_loss: nan - val_root_mean_squared_error: nan\n",
      "Epoch 51/100\n",
      "1/1 [==============================] - 0s 29ms/step - loss: nan - root_mean_squared_error: nan - val_loss: nan - val_root_mean_squared_error: nan\n",
      "Epoch 52/100\n",
      "1/1 [==============================] - 0s 29ms/step - loss: nan - root_mean_squared_error: nan - val_loss: nan - val_root_mean_squared_error: nan\n",
      "Epoch 53/100\n",
      "1/1 [==============================] - 0s 29ms/step - loss: nan - root_mean_squared_error: nan - val_loss: nan - val_root_mean_squared_error: nan\n",
      "Epoch 54/100\n",
      "1/1 [==============================] - 0s 30ms/step - loss: nan - root_mean_squared_error: nan - val_loss: nan - val_root_mean_squared_error: nan\n",
      "Epoch 55/100\n",
      "1/1 [==============================] - 0s 28ms/step - loss: nan - root_mean_squared_error: nan - val_loss: nan - val_root_mean_squared_error: nan\n",
      "Epoch 56/100\n",
      "1/1 [==============================] - 0s 33ms/step - loss: nan - root_mean_squared_error: nan - val_loss: nan - val_root_mean_squared_error: nan\n",
      "Epoch 57/100\n",
      "1/1 [==============================] - 0s 34ms/step - loss: nan - root_mean_squared_error: nan - val_loss: nan - val_root_mean_squared_error: nan\n",
      "Epoch 58/100\n",
      "1/1 [==============================] - 0s 28ms/step - loss: nan - root_mean_squared_error: nan - val_loss: nan - val_root_mean_squared_error: nan\n",
      "Epoch 59/100\n",
      "1/1 [==============================] - 0s 29ms/step - loss: nan - root_mean_squared_error: nan - val_loss: nan - val_root_mean_squared_error: nan\n",
      "Epoch 60/100\n",
      "1/1 [==============================] - 0s 30ms/step - loss: nan - root_mean_squared_error: nan - val_loss: nan - val_root_mean_squared_error: nan\n",
      "Epoch 61/100\n",
      "1/1 [==============================] - 0s 31ms/step - loss: nan - root_mean_squared_error: nan - val_loss: nan - val_root_mean_squared_error: nan\n",
      "Epoch 62/100\n",
      "1/1 [==============================] - 0s 29ms/step - loss: nan - root_mean_squared_error: nan - val_loss: nan - val_root_mean_squared_error: nan\n",
      "Epoch 63/100\n",
      "1/1 [==============================] - 0s 30ms/step - loss: nan - root_mean_squared_error: nan - val_loss: nan - val_root_mean_squared_error: nan\n",
      "Epoch 64/100\n",
      "1/1 [==============================] - 0s 29ms/step - loss: nan - root_mean_squared_error: nan - val_loss: nan - val_root_mean_squared_error: nan\n",
      "Epoch 65/100\n",
      "1/1 [==============================] - 0s 29ms/step - loss: nan - root_mean_squared_error: nan - val_loss: nan - val_root_mean_squared_error: nan\n",
      "Epoch 66/100\n",
      "1/1 [==============================] - 0s 26ms/step - loss: nan - root_mean_squared_error: nan - val_loss: nan - val_root_mean_squared_error: nan\n",
      "Epoch 67/100\n",
      "1/1 [==============================] - 0s 27ms/step - loss: nan - root_mean_squared_error: nan - val_loss: nan - val_root_mean_squared_error: nan\n",
      "Epoch 68/100\n",
      "1/1 [==============================] - 0s 23ms/step - loss: nan - root_mean_squared_error: nan - val_loss: nan - val_root_mean_squared_error: nan\n",
      "Epoch 69/100\n",
      "1/1 [==============================] - 0s 23ms/step - loss: nan - root_mean_squared_error: nan - val_loss: nan - val_root_mean_squared_error: nan\n",
      "Epoch 70/100\n",
      "1/1 [==============================] - 0s 22ms/step - loss: nan - root_mean_squared_error: nan - val_loss: nan - val_root_mean_squared_error: nan\n",
      "Epoch 71/100\n",
      "1/1 [==============================] - 0s 23ms/step - loss: nan - root_mean_squared_error: nan - val_loss: nan - val_root_mean_squared_error: nan\n",
      "Epoch 72/100\n",
      "1/1 [==============================] - 0s 23ms/step - loss: nan - root_mean_squared_error: nan - val_loss: nan - val_root_mean_squared_error: nan\n",
      "Epoch 73/100\n",
      "1/1 [==============================] - 0s 23ms/step - loss: nan - root_mean_squared_error: nan - val_loss: nan - val_root_mean_squared_error: nan\n",
      "Epoch 74/100\n",
      "1/1 [==============================] - 0s 22ms/step - loss: nan - root_mean_squared_error: nan - val_loss: nan - val_root_mean_squared_error: nan\n",
      "Epoch 75/100\n",
      "1/1 [==============================] - 0s 23ms/step - loss: nan - root_mean_squared_error: nan - val_loss: nan - val_root_mean_squared_error: nan\n",
      "Epoch 76/100\n",
      "1/1 [==============================] - 0s 27ms/step - loss: nan - root_mean_squared_error: nan - val_loss: nan - val_root_mean_squared_error: nan\n",
      "Epoch 77/100\n",
      "1/1 [==============================] - 0s 23ms/step - loss: nan - root_mean_squared_error: nan - val_loss: nan - val_root_mean_squared_error: nan\n",
      "Epoch 78/100\n",
      "1/1 [==============================] - 0s 23ms/step - loss: nan - root_mean_squared_error: nan - val_loss: nan - val_root_mean_squared_error: nan\n",
      "Epoch 79/100\n",
      "1/1 [==============================] - 0s 22ms/step - loss: nan - root_mean_squared_error: nan - val_loss: nan - val_root_mean_squared_error: nan\n",
      "Epoch 80/100\n",
      "1/1 [==============================] - 0s 22ms/step - loss: nan - root_mean_squared_error: nan - val_loss: nan - val_root_mean_squared_error: nan\n",
      "Epoch 81/100\n",
      "1/1 [==============================] - 0s 22ms/step - loss: nan - root_mean_squared_error: nan - val_loss: nan - val_root_mean_squared_error: nan\n",
      "Epoch 82/100\n",
      "1/1 [==============================] - 0s 22ms/step - loss: nan - root_mean_squared_error: nan - val_loss: nan - val_root_mean_squared_error: nan\n",
      "Epoch 83/100\n",
      "1/1 [==============================] - 0s 23ms/step - loss: nan - root_mean_squared_error: nan - val_loss: nan - val_root_mean_squared_error: nan\n",
      "Epoch 84/100\n",
      "1/1 [==============================] - 0s 22ms/step - loss: nan - root_mean_squared_error: nan - val_loss: nan - val_root_mean_squared_error: nan\n",
      "Epoch 85/100\n",
      "1/1 [==============================] - 0s 24ms/step - loss: nan - root_mean_squared_error: nan - val_loss: nan - val_root_mean_squared_error: nan\n",
      "Epoch 86/100\n",
      "1/1 [==============================] - 0s 26ms/step - loss: nan - root_mean_squared_error: nan - val_loss: nan - val_root_mean_squared_error: nan\n",
      "Epoch 87/100\n",
      "1/1 [==============================] - 0s 27ms/step - loss: nan - root_mean_squared_error: nan - val_loss: nan - val_root_mean_squared_error: nan\n",
      "Epoch 88/100\n",
      "1/1 [==============================] - 0s 26ms/step - loss: nan - root_mean_squared_error: nan - val_loss: nan - val_root_mean_squared_error: nan\n",
      "Epoch 89/100\n",
      "1/1 [==============================] - 0s 29ms/step - loss: nan - root_mean_squared_error: nan - val_loss: nan - val_root_mean_squared_error: nan\n",
      "Epoch 90/100\n",
      "1/1 [==============================] - 0s 29ms/step - loss: nan - root_mean_squared_error: nan - val_loss: nan - val_root_mean_squared_error: nan\n",
      "Epoch 91/100\n",
      "1/1 [==============================] - 0s 29ms/step - loss: nan - root_mean_squared_error: nan - val_loss: nan - val_root_mean_squared_error: nan\n",
      "Epoch 92/100\n",
      "1/1 [==============================] - 0s 28ms/step - loss: nan - root_mean_squared_error: nan - val_loss: nan - val_root_mean_squared_error: nan\n",
      "Epoch 93/100\n",
      "1/1 [==============================] - 0s 26ms/step - loss: nan - root_mean_squared_error: nan - val_loss: nan - val_root_mean_squared_error: nan\n",
      "Epoch 94/100\n",
      "1/1 [==============================] - 0s 22ms/step - loss: nan - root_mean_squared_error: nan - val_loss: nan - val_root_mean_squared_error: nan\n",
      "Epoch 95/100\n",
      "1/1 [==============================] - 0s 24ms/step - loss: nan - root_mean_squared_error: nan - val_loss: nan - val_root_mean_squared_error: nan\n",
      "Epoch 96/100\n",
      "1/1 [==============================] - 0s 35ms/step - loss: nan - root_mean_squared_error: nan - val_loss: nan - val_root_mean_squared_error: nan\n",
      "Epoch 97/100\n",
      "1/1 [==============================] - 0s 34ms/step - loss: nan - root_mean_squared_error: nan - val_loss: nan - val_root_mean_squared_error: nan\n",
      "Epoch 98/100\n",
      "1/1 [==============================] - 0s 35ms/step - loss: nan - root_mean_squared_error: nan - val_loss: nan - val_root_mean_squared_error: nan\n",
      "Epoch 99/100\n",
      "1/1 [==============================] - 0s 30ms/step - loss: nan - root_mean_squared_error: nan - val_loss: nan - val_root_mean_squared_error: nan\n",
      "Epoch 100/100\n",
      "1/1 [==============================] - 0s 28ms/step - loss: nan - root_mean_squared_error: nan - val_loss: nan - val_root_mean_squared_error: nan\n"
     ]
    },
    {
     "data": {
      "text/plain": [
       "<keras.callbacks.History at 0x7fe1d512a310>"
      ]
     },
     "execution_count": 315,
     "metadata": {},
     "output_type": "execute_result"
    }
   ],
   "source": [
    "model2.fit(X_train1, y_train1, validation_data=(X_val1, y_val1), epochs=100, callbacks=[cp2])"
   ]
  },
  {
   "cell_type": "code",
   "execution_count": 316,
   "metadata": {},
   "outputs": [
    {
     "name": "stdout",
     "output_type": "stream",
     "text": [
      "1/1 [==============================] - 0s 45ms/step\n"
     ]
    },
    {
     "data": {
      "text/html": [
       "<div>\n",
       "<style scoped>\n",
       "    .dataframe tbody tr th:only-of-type {\n",
       "        vertical-align: middle;\n",
       "    }\n",
       "\n",
       "    .dataframe tbody tr th {\n",
       "        vertical-align: top;\n",
       "    }\n",
       "\n",
       "    .dataframe thead th {\n",
       "        text-align: right;\n",
       "    }\n",
       "</style>\n",
       "<table border=\"1\" class=\"dataframe\">\n",
       "  <thead>\n",
       "    <tr style=\"text-align: right;\">\n",
       "      <th></th>\n",
       "      <th>Train Predictions</th>\n",
       "      <th>Actuals</th>\n",
       "    </tr>\n",
       "  </thead>\n",
       "  <tbody>\n",
       "    <tr>\n",
       "      <th>0</th>\n",
       "      <td>558774080.0</td>\n",
       "      <td>21453.0</td>\n",
       "    </tr>\n",
       "    <tr>\n",
       "      <th>1</th>\n",
       "      <td>583779648.0</td>\n",
       "      <td>21926.0</td>\n",
       "    </tr>\n",
       "    <tr>\n",
       "      <th>2</th>\n",
       "      <td>599918144.0</td>\n",
       "      <td>24945.0</td>\n",
       "    </tr>\n",
       "    <tr>\n",
       "      <th>3</th>\n",
       "      <td>629655808.0</td>\n",
       "      <td>24365.0</td>\n",
       "    </tr>\n",
       "  </tbody>\n",
       "</table>\n",
       "</div>"
      ],
      "text/plain": [
       "   Train Predictions  Actuals\n",
       "0        558774080.0  21453.0\n",
       "1        583779648.0  21926.0\n",
       "2        599918144.0  24945.0\n",
       "3        629655808.0  24365.0"
      ]
     },
     "execution_count": 316,
     "metadata": {},
     "output_type": "execute_result"
    }
   ],
   "source": [
    "model2 = load_model('model2/')\n",
    "train_predictions2 = model2.predict(X_train1).flatten()\n",
    "train_results2 = pd.DataFrame(data={'Train Predictions':train_predictions2, 'Actuals':y_train1})\n",
    "train_results2"
   ]
  },
  {
   "cell_type": "code",
   "execution_count": 317,
   "metadata": {},
   "outputs": [
    {
     "data": {
      "text/plain": [
       "<matplotlib.legend.Legend at 0x7fe1d13f2b50>"
      ]
     },
     "execution_count": 317,
     "metadata": {},
     "output_type": "execute_result"
    },
    {
     "data": {
      "image/png": "[encoded data removed]",
      "text/plain": [
       "<Figure size 432x288 with 1 Axes>"
      ]
     },
     "metadata": {
      "needs_background": "light"
     },
     "output_type": "display_data"
    }
   ],
   "source": [
    "plt.plot(train_results2['Train Predictions'])\n",
    "plt.plot(train_results2['Actuals'])\n",
    "plt.legend(['Prediction', 'Actual'], loc='lower right')"
   ]
  },
  {
   "cell_type": "code",
   "execution_count": 318,
   "metadata": {},
   "outputs": [
    {
     "name": "stdout",
     "output_type": "stream",
     "text": [
      "dict_keys(['loss', 'root_mean_squared_error', 'val_loss', 'val_root_mean_squared_error'])\n"
     ]
    },
    {
     "data": {
      "image/png": "[encoded data removed]",
      "text/plain": [
       "<Figure size 576x432 with 1 Axes>"
      ]
     },
     "metadata": {
      "needs_background": "light"
     },
     "output_type": "display_data"
    }
   ],
   "source": [
    "history = model2.fit(X_train1, y_train1, validation_data=(X_val1, y_val1), epochs=100, verbose=0)  #..., callbacks=[cp2], verbose=0)\n",
    "print(history.history.keys())\n",
    "\n",
    "import matplotlib.pylab as plt\n",
    "from matplotlib.pyplot import figure\n",
    "figure(figsize=(8, 6))\n",
    "plt.plot(history.history['loss'])\n",
    "plt.plot(history.history['val_loss'])\n",
    "plt.title('model loss')\n",
    "plt.ylabel('loss')\n",
    "plt.xlabel('epoch')\n",
    "plt.legend(['train', 'test'], loc='upper left')\n",
    "plt.show()"
   ]
  },
  {
   "cell_type": "code",
   "execution_count": 319,
   "metadata": {},
   "outputs": [
    {
     "name": "stdout",
     "output_type": "stream",
     "text": [
      "1/1 [==============================] - 0s 16ms/step\n"
     ]
    },
    {
     "data": {
      "text/html": [
       "<div>\n",
       "<style scoped>\n",
       "    .dataframe tbody tr th:only-of-type {\n",
       "        vertical-align: middle;\n",
       "    }\n",
       "\n",
       "    .dataframe tbody tr th {\n",
       "        vertical-align: top;\n",
       "    }\n",
       "\n",
       "    .dataframe thead th {\n",
       "        text-align: right;\n",
       "    }\n",
       "</style>\n",
       "<table border=\"1\" class=\"dataframe\">\n",
       "  <thead>\n",
       "    <tr style=\"text-align: right;\">\n",
       "      <th></th>\n",
       "      <th>Val Predictions</th>\n",
       "      <th>Actuals</th>\n",
       "    </tr>\n",
       "  </thead>\n",
       "  <tbody>\n",
       "    <tr>\n",
       "      <th>0</th>\n",
       "      <td>NaN</td>\n",
       "      <td>24293.0</td>\n",
       "    </tr>\n",
       "    <tr>\n",
       "      <th>1</th>\n",
       "      <td>NaN</td>\n",
       "      <td>24021.0</td>\n",
       "    </tr>\n",
       "  </tbody>\n",
       "</table>\n",
       "</div>"
      ],
      "text/plain": [
       "   Val Predictions  Actuals\n",
       "0              NaN  24293.0\n",
       "1              NaN  24021.0"
      ]
     },
     "execution_count": 319,
     "metadata": {},
     "output_type": "execute_result"
    }
   ],
   "source": [
    "val_predictions2 = model2.predict(X_val1).flatten()\n",
    "val_results2 = pd.DataFrame(data={'Val Predictions':val_predictions2, 'Actuals':y_val1})\n",
    "val_results2"
   ]
  },
  {
   "cell_type": "code",
   "execution_count": 320,
   "metadata": {},
   "outputs": [
    {
     "name": "stdout",
     "output_type": "stream",
     "text": [
      "1/1 [==============================] - 0s 19ms/step\n"
     ]
    },
    {
     "data": {
      "text/html": [
       "<div>\n",
       "<style scoped>\n",
       "    .dataframe tbody tr th:only-of-type {\n",
       "        vertical-align: middle;\n",
       "    }\n",
       "\n",
       "    .dataframe tbody tr th {\n",
       "        vertical-align: top;\n",
       "    }\n",
       "\n",
       "    .dataframe thead th {\n",
       "        text-align: right;\n",
       "    }\n",
       "</style>\n",
       "<table border=\"1\" class=\"dataframe\">\n",
       "  <thead>\n",
       "    <tr style=\"text-align: right;\">\n",
       "      <th></th>\n",
       "      <th>Test Predictions</th>\n",
       "      <th>Actuals</th>\n",
       "    </tr>\n",
       "  </thead>\n",
       "  <tbody>\n",
       "    <tr>\n",
       "      <th>0</th>\n",
       "      <td>NaN</td>\n",
       "      <td>23997.0</td>\n",
       "    </tr>\n",
       "  </tbody>\n",
       "</table>\n",
       "</div>"
      ],
      "text/plain": [
       "   Test Predictions  Actuals\n",
       "0               NaN  23997.0"
      ]
     },
     "execution_count": 320,
     "metadata": {},
     "output_type": "execute_result"
    }
   ],
   "source": [
    "test_predictions2 = model2.predict(X_test1).flatten()\n",
    "test_results2 = pd.DataFrame(data={'Test Predictions':test_predictions2, 'Actuals':y_test1})\n",
    "test_results2"
   ]
  },
  {
   "cell_type": "markdown",
   "metadata": {},
   "source": [
    "# MODEL 3"
   ]
  },
  {
   "cell_type": "code",
   "execution_count": 323,
   "metadata": {
    "collapsed": false,
    "pycharm": {
     "name": "#%%\n"
    }
   },
   "outputs": [
    {
     "name": "stdout",
     "output_type": "stream",
     "text": [
      "Model: \"sequential_20\"\n",
      "_________________________________________________________________\n",
      " Layer (type)                Output Shape              Param #   \n",
      "=================================================================\n",
      " gru_5 (GRU)                 (None, 64)                12864     \n",
      "                                                                 \n",
      " dense_40 (Dense)            (None, 8)                 520       \n",
      "                                                                 \n",
      " dense_41 (Dense)            (None, 1)                 9         \n",
      "                                                                 \n",
      "=================================================================\n",
      "Total params: 13,393\n",
      "Trainable params: 13,393\n",
      "Non-trainable params: 0\n",
      "_________________________________________________________________\n"
     ]
    }
   ],
   "source": [
    "model3 = Sequential()\n",
    "model3.add(InputLayer((3, 1)))\n",
    "model3.add(GRU(64))\n",
    "model3.add(Dense(8, 'relu'))\n",
    "model3.add(Dense(1, 'linear'))\n",
    "model3.summary()"
   ]
  },
  {
   "cell_type": "code",
   "execution_count": 324,
   "metadata": {},
   "outputs": [],
   "source": [
    "cp3 = ModelCheckpoint('model3/', save_best_only=True)\n",
    "model3.compile(loss=MeanSquaredError(), optimizer=Adam(learning_rate=1), metrics=[RootMeanSquaredError()])"
   ]
  },
  {
   "cell_type": "code",
   "execution_count": 325,
   "metadata": {},
   "outputs": [
    {
     "name": "stdout",
     "output_type": "stream",
     "text": [
      "Epoch 1/100\n",
      "1/1 [==============================] - ETA: 0s - loss: 539265792.0000 - root_mean_squared_error: 23222.0977"
     ]
    },
    {
     "name": "stderr",
     "output_type": "stream",
     "text": [
      "WARNING:absl:Found untraced functions such as gru_cell_9_layer_call_fn, gru_cell_9_layer_call_and_return_conditional_losses while saving (showing 2 of 2). These functions will not be directly callable after loading.\n"
     ]
    },
    {
     "name": "stdout",
     "output_type": "stream",
     "text": [
      "INFO:tensorflow:Assets written to: model3/assets\n"
     ]
    },
    {
     "name": "stderr",
     "output_type": "stream",
     "text": [
      "INFO:tensorflow:Assets written to: model3/assets\n"
     ]
    },
    {
     "name": "stdout",
     "output_type": "stream",
     "text": [
      "1/1 [==============================] - 4s 4s/step - loss: 539265792.0000 - root_mean_squared_error: 23222.0977 - val_loss: 579456768.0000 - val_root_mean_squared_error: 24071.9082\n",
      "Epoch 2/100\n",
      "1/1 [==============================] - ETA: 0s - loss: 535267680.0000 - root_mean_squared_error: 23135.8535"
     ]
    },
    {
     "name": "stderr",
     "output_type": "stream",
     "text": [
      "WARNING:absl:Found untraced functions such as gru_cell_9_layer_call_fn, gru_cell_9_layer_call_and_return_conditional_losses while saving (showing 2 of 2). These functions will not be directly callable after loading.\n"
     ]
    },
    {
     "name": "stdout",
     "output_type": "stream",
     "text": [
      "INFO:tensorflow:Assets written to: model3/assets\n"
     ]
    },
    {
     "name": "stderr",
     "output_type": "stream",
     "text": [
      "INFO:tensorflow:Assets written to: model3/assets\n"
     ]
    },
    {
     "name": "stdout",
     "output_type": "stream",
     "text": [
      "1/1 [==============================] - 3s 3s/step - loss: 535267680.0000 - root_mean_squared_error: 23135.8535 - val_loss: 571246464.0000 - val_root_mean_squared_error: 23900.7637\n",
      "Epoch 3/100\n",
      "1/1 [==============================] - ETA: 0s - loss: 527394496.0000 - root_mean_squared_error: 22965.0703"
     ]
    },
    {
     "name": "stderr",
     "output_type": "stream",
     "text": [
      "WARNING:absl:Found untraced functions such as gru_cell_9_layer_call_fn, gru_cell_9_layer_call_and_return_conditional_losses while saving (showing 2 of 2). These functions will not be directly callable after loading.\n"
     ]
    },
    {
     "name": "stdout",
     "output_type": "stream",
     "text": [
      "INFO:tensorflow:Assets written to: model3/assets\n"
     ]
    },
    {
     "name": "stderr",
     "output_type": "stream",
     "text": [
      "INFO:tensorflow:Assets written to: model3/assets\n"
     ]
    },
    {
     "name": "stdout",
     "output_type": "stream",
     "text": [
      "1/1 [==============================] - 3s 3s/step - loss: 527394496.0000 - root_mean_squared_error: 22965.0703 - val_loss: 557285760.0000 - val_root_mean_squared_error: 23606.9004\n",
      "Epoch 4/100\n",
      "1/1 [==============================] - ETA: 0s - loss: 514012480.0000 - root_mean_squared_error: 22671.8438"
     ]
    },
    {
     "name": "stderr",
     "output_type": "stream",
     "text": [
      "WARNING:absl:Found untraced functions such as gru_cell_9_layer_call_fn, gru_cell_9_layer_call_and_return_conditional_losses while saving (showing 2 of 2). These functions will not be directly callable after loading.\n"
     ]
    },
    {
     "name": "stdout",
     "output_type": "stream",
     "text": [
      "INFO:tensorflow:Assets written to: model3/assets\n"
     ]
    },
    {
     "name": "stderr",
     "output_type": "stream",
     "text": [
      "INFO:tensorflow:Assets written to: model3/assets\n"
     ]
    },
    {
     "name": "stdout",
     "output_type": "stream",
     "text": [
      "1/1 [==============================] - 5s 5s/step - loss: 514012480.0000 - root_mean_squared_error: 22671.8438 - val_loss: 537423104.0000 - val_root_mean_squared_error: 23182.3887\n",
      "Epoch 5/100\n",
      "1/1 [==============================] - ETA: 0s - loss: 494985952.0000 - root_mean_squared_error: 22248.2793"
     ]
    },
    {
     "name": "stderr",
     "output_type": "stream",
     "text": [
      "WARNING:absl:Found untraced functions such as gru_cell_9_layer_call_fn, gru_cell_9_layer_call_and_return_conditional_losses while saving (showing 2 of 2). These functions will not be directly callable after loading.\n"
     ]
    },
    {
     "name": "stdout",
     "output_type": "stream",
     "text": [
      "INFO:tensorflow:Assets written to: model3/assets\n"
     ]
    },
    {
     "name": "stderr",
     "output_type": "stream",
     "text": [
      "INFO:tensorflow:Assets written to: model3/assets\n"
     ]
    },
    {
     "name": "stdout",
     "output_type": "stream",
     "text": [
      "1/1 [==============================] - 3s 3s/step - loss: 494985952.0000 - root_mean_squared_error: 22248.2793 - val_loss: 511654016.0000 - val_root_mean_squared_error: 22619.7695\n",
      "Epoch 6/100\n",
      "1/1 [==============================] - ETA: 0s - loss: 470324992.0000 - root_mean_squared_error: 21686.9766"
     ]
    },
    {
     "name": "stderr",
     "output_type": "stream",
     "text": [
      "WARNING:absl:Found untraced functions such as gru_cell_9_layer_call_fn, gru_cell_9_layer_call_and_return_conditional_losses while saving (showing 2 of 2). These functions will not be directly callable after loading.\n"
     ]
    },
    {
     "name": "stdout",
     "output_type": "stream",
     "text": [
      "INFO:tensorflow:Assets written to: model3/assets\n"
     ]
    },
    {
     "name": "stderr",
     "output_type": "stream",
     "text": [
      "INFO:tensorflow:Assets written to: model3/assets\n"
     ]
    },
    {
     "name": "stdout",
     "output_type": "stream",
     "text": [
      "1/1 [==============================] - 3s 3s/step - loss: 470324992.0000 - root_mean_squared_error: 21686.9766 - val_loss: 480116992.0000 - val_root_mean_squared_error: 21911.5723\n",
      "Epoch 7/100\n",
      "1/1 [==============================] - ETA: 0s - loss: 440182784.0000 - root_mean_squared_error: 20980.5332"
     ]
    },
    {
     "name": "stderr",
     "output_type": "stream",
     "text": [
      "WARNING:absl:Found untraced functions such as gru_cell_9_layer_call_fn, gru_cell_9_layer_call_and_return_conditional_losses while saving (showing 2 of 2). These functions will not be directly callable after loading.\n"
     ]
    },
    {
     "name": "stdout",
     "output_type": "stream",
     "text": [
      "INFO:tensorflow:Assets written to: model3/assets\n"
     ]
    },
    {
     "name": "stderr",
     "output_type": "stream",
     "text": [
      "INFO:tensorflow:Assets written to: model3/assets\n"
     ]
    },
    {
     "name": "stdout",
     "output_type": "stream",
     "text": [
      "1/1 [==============================] - 3s 3s/step - loss: 440182784.0000 - root_mean_squared_error: 20980.5332 - val_loss: 443116224.0000 - val_root_mean_squared_error: 21050.3262\n",
      "Epoch 8/100\n",
      "1/1 [==============================] - ETA: 0s - loss: 404878272.0000 - root_mean_squared_error: 20121.5879"
     ]
    },
    {
     "name": "stderr",
     "output_type": "stream",
     "text": [
      "WARNING:absl:Found untraced functions such as gru_cell_9_layer_call_fn, gru_cell_9_layer_call_and_return_conditional_losses while saving (showing 2 of 2). These functions will not be directly callable after loading.\n"
     ]
    },
    {
     "name": "stdout",
     "output_type": "stream",
     "text": [
      "INFO:tensorflow:Assets written to: model3/assets\n"
     ]
    },
    {
     "name": "stderr",
     "output_type": "stream",
     "text": [
      "INFO:tensorflow:Assets written to: model3/assets\n"
     ]
    },
    {
     "name": "stdout",
     "output_type": "stream",
     "text": [
      "1/1 [==============================] - 3s 3s/step - loss: 404878272.0000 - root_mean_squared_error: 20121.5879 - val_loss: 401147328.0000 - val_root_mean_squared_error: 20028.6621\n",
      "Epoch 9/100\n",
      "1/1 [==============================] - ETA: 0s - loss: 364921600.0000 - root_mean_squared_error: 19102.9219"
     ]
    },
    {
     "name": "stderr",
     "output_type": "stream",
     "text": [
      "WARNING:absl:Found untraced functions such as gru_cell_9_layer_call_fn, gru_cell_9_layer_call_and_return_conditional_losses while saving (showing 2 of 2). These functions will not be directly callable after loading.\n"
     ]
    },
    {
     "name": "stdout",
     "output_type": "stream",
     "text": [
      "INFO:tensorflow:Assets written to: model3/assets\n"
     ]
    },
    {
     "name": "stderr",
     "output_type": "stream",
     "text": [
      "INFO:tensorflow:Assets written to: model3/assets\n"
     ]
    },
    {
     "name": "stdout",
     "output_type": "stream",
     "text": [
      "1/1 [==============================] - 3s 3s/step - loss: 364921600.0000 - root_mean_squared_error: 19102.9219 - val_loss: 354927968.0000 - val_root_mean_squared_error: 18839.5312\n",
      "Epoch 10/100\n",
      "1/1 [==============================] - ETA: 0s - loss: 321044288.0000 - root_mean_squared_error: 17917.7090"
     ]
    },
    {
     "name": "stderr",
     "output_type": "stream",
     "text": [
      "WARNING:absl:Found untraced functions such as gru_cell_9_layer_call_fn, gru_cell_9_layer_call_and_return_conditional_losses while saving (showing 2 of 2). These functions will not be directly callable after loading.\n"
     ]
    },
    {
     "name": "stdout",
     "output_type": "stream",
     "text": [
      "INFO:tensorflow:Assets written to: model3/assets\n"
     ]
    },
    {
     "name": "stderr",
     "output_type": "stream",
     "text": [
      "INFO:tensorflow:Assets written to: model3/assets\n"
     ]
    },
    {
     "name": "stdout",
     "output_type": "stream",
     "text": [
      "1/1 [==============================] - 2s 2s/step - loss: 321044288.0000 - root_mean_squared_error: 17917.7090 - val_loss: 305427584.0000 - val_root_mean_squared_error: 17476.4863\n",
      "Epoch 11/100\n",
      "1/1 [==============================] - ETA: 0s - loss: 274228480.0000 - root_mean_squared_error: 16559.8457"
     ]
    },
    {
     "name": "stderr",
     "output_type": "stream",
     "text": [
      "WARNING:absl:Found untraced functions such as gru_cell_9_layer_call_fn, gru_cell_9_layer_call_and_return_conditional_losses while saving (showing 2 of 2). These functions will not be directly callable after loading.\n"
     ]
    },
    {
     "name": "stdout",
     "output_type": "stream",
     "text": [
      "INFO:tensorflow:Assets written to: model3/assets\n"
     ]
    },
    {
     "name": "stderr",
     "output_type": "stream",
     "text": [
      "INFO:tensorflow:Assets written to: model3/assets\n"
     ]
    },
    {
     "name": "stdout",
     "output_type": "stream",
     "text": [
      "1/1 [==============================] - 3s 3s/step - loss: 274228480.0000 - root_mean_squared_error: 16559.8457 - val_loss: 253898688.0000 - val_root_mean_squared_error: 15934.1982\n",
      "Epoch 12/100\n",
      "1/1 [==============================] - ETA: 0s - loss: 225737216.0000 - root_mean_squared_error: 15024.5537"
     ]
    },
    {
     "name": "stderr",
     "output_type": "stream",
     "text": [
      "WARNING:absl:Found untraced functions such as gru_cell_9_layer_call_fn, gru_cell_9_layer_call_and_return_conditional_losses while saving (showing 2 of 2). These functions will not be directly callable after loading.\n"
     ]
    },
    {
     "name": "stdout",
     "output_type": "stream",
     "text": [
      "INFO:tensorflow:Assets written to: model3/assets\n"
     ]
    },
    {
     "name": "stderr",
     "output_type": "stream",
     "text": [
      "INFO:tensorflow:Assets written to: model3/assets\n"
     ]
    },
    {
     "name": "stdout",
     "output_type": "stream",
     "text": [
      "1/1 [==============================] - 3s 3s/step - loss: 225737216.0000 - root_mean_squared_error: 15024.5537 - val_loss: 201902112.0000 - val_root_mean_squared_error: 14209.2266\n",
      "Epoch 13/100\n",
      "1/1 [==============================] - ETA: 0s - loss: 177138112.0000 - root_mean_squared_error: 13309.3242"
     ]
    },
    {
     "name": "stderr",
     "output_type": "stream",
     "text": [
      "WARNING:absl:Found untraced functions such as gru_cell_9_layer_call_fn, gru_cell_9_layer_call_and_return_conditional_losses while saving (showing 2 of 2). These functions will not be directly callable after loading.\n"
     ]
    },
    {
     "name": "stdout",
     "output_type": "stream",
     "text": [
      "INFO:tensorflow:Assets written to: model3/assets\n"
     ]
    },
    {
     "name": "stderr",
     "output_type": "stream",
     "text": [
      "INFO:tensorflow:Assets written to: model3/assets\n"
     ]
    },
    {
     "name": "stdout",
     "output_type": "stream",
     "text": [
      "1/1 [==============================] - 3s 3s/step - loss: 177138112.0000 - root_mean_squared_error: 13309.3242 - val_loss: 151322624.0000 - val_root_mean_squared_error: 12301.3262\n",
      "Epoch 14/100\n",
      "1/1 [==============================] - ETA: 0s - loss: 130316448.0000 - root_mean_squared_error: 11415.6230"
     ]
    },
    {
     "name": "stderr",
     "output_type": "stream",
     "text": [
      "WARNING:absl:Found untraced functions such as gru_cell_9_layer_call_fn, gru_cell_9_layer_call_and_return_conditional_losses while saving (showing 2 of 2). These functions will not be directly callable after loading.\n"
     ]
    },
    {
     "name": "stdout",
     "output_type": "stream",
     "text": [
      "INFO:tensorflow:Assets written to: model3/assets\n"
     ]
    },
    {
     "name": "stderr",
     "output_type": "stream",
     "text": [
      "INFO:tensorflow:Assets written to: model3/assets\n"
     ]
    },
    {
     "name": "stdout",
     "output_type": "stream",
     "text": [
      "1/1 [==============================] - 3s 3s/step - loss: 130316448.0000 - root_mean_squared_error: 11415.6230 - val_loss: 104357664.0000 - val_root_mean_squared_error: 10215.5596\n",
      "Epoch 15/100\n",
      "1/1 [==============================] - ETA: 0s - loss: 87459696.0000 - root_mean_squared_error: 9351.9893"
     ]
    },
    {
     "name": "stderr",
     "output_type": "stream",
     "text": [
      "WARNING:absl:Found untraced functions such as gru_cell_9_layer_call_fn, gru_cell_9_layer_call_and_return_conditional_losses while saving (showing 2 of 2). These functions will not be directly callable after loading.\n"
     ]
    },
    {
     "name": "stdout",
     "output_type": "stream",
     "text": [
      "INFO:tensorflow:Assets written to: model3/assets\n"
     ]
    },
    {
     "name": "stderr",
     "output_type": "stream",
     "text": [
      "INFO:tensorflow:Assets written to: model3/assets\n"
     ]
    },
    {
     "name": "stdout",
     "output_type": "stream",
     "text": [
      "1/1 [==============================] - 4s 4s/step - loss: 87459696.0000 - root_mean_squared_error: 9351.9893 - val_loss: 63454072.0000 - val_root_mean_squared_error: 7965.8066\n",
      "Epoch 16/100\n",
      "1/1 [==============================] - ETA: 0s - loss: 50987504.0000 - root_mean_squared_error: 7140.5537"
     ]
    },
    {
     "name": "stderr",
     "output_type": "stream",
     "text": [
      "WARNING:absl:Found untraced functions such as gru_cell_9_layer_call_fn, gru_cell_9_layer_call_and_return_conditional_losses while saving (showing 2 of 2). These functions will not be directly callable after loading.\n"
     ]
    },
    {
     "name": "stdout",
     "output_type": "stream",
     "text": [
      "INFO:tensorflow:Assets written to: model3/assets\n"
     ]
    },
    {
     "name": "stderr",
     "output_type": "stream",
     "text": [
      "INFO:tensorflow:Assets written to: model3/assets\n"
     ]
    },
    {
     "name": "stdout",
     "output_type": "stream",
     "text": [
      "1/1 [==============================] - 2s 2s/step - loss: 50987504.0000 - root_mean_squared_error: 7140.5537 - val_loss: 31140708.0000 - val_root_mean_squared_error: 5580.3862\n",
      "Epoch 17/100\n",
      "1/1 [==============================] - ETA: 0s - loss: 23373202.0000 - root_mean_squared_error: 4834.5840"
     ]
    },
    {
     "name": "stderr",
     "output_type": "stream",
     "text": [
      "WARNING:absl:Found untraced functions such as gru_cell_9_layer_call_fn, gru_cell_9_layer_call_and_return_conditional_losses while saving (showing 2 of 2). These functions will not be directly callable after loading.\n"
     ]
    },
    {
     "name": "stdout",
     "output_type": "stream",
     "text": [
      "INFO:tensorflow:Assets written to: model3/assets\n"
     ]
    },
    {
     "name": "stderr",
     "output_type": "stream",
     "text": [
      "INFO:tensorflow:Assets written to: model3/assets\n"
     ]
    },
    {
     "name": "stdout",
     "output_type": "stream",
     "text": [
      "1/1 [==============================] - 2s 2s/step - loss: 23373202.0000 - root_mean_squared_error: 4834.5840 - val_loss: 9676873.0000 - val_root_mean_squared_error: 3110.7673\n",
      "Epoch 18/100\n",
      "1/1 [==============================] - ETA: 0s - loss: 6775875.0000 - root_mean_squared_error: 2603.0510"
     ]
    },
    {
     "name": "stderr",
     "output_type": "stream",
     "text": [
      "WARNING:absl:Found untraced functions such as gru_cell_9_layer_call_fn, gru_cell_9_layer_call_and_return_conditional_losses while saving (showing 2 of 2). These functions will not be directly callable after loading.\n"
     ]
    },
    {
     "name": "stdout",
     "output_type": "stream",
     "text": [
      "INFO:tensorflow:Assets written to: model3/assets\n"
     ]
    },
    {
     "name": "stderr",
     "output_type": "stream",
     "text": [
      "INFO:tensorflow:Assets written to: model3/assets\n"
     ]
    },
    {
     "name": "stdout",
     "output_type": "stream",
     "text": [
      "1/1 [==============================] - 2s 2s/step - loss: 6775875.0000 - root_mean_squared_error: 2603.0510 - val_loss: 423106.3125 - val_root_mean_squared_error: 650.4662\n",
      "Epoch 19/100\n",
      "1/1 [==============================] - 0s 22ms/step - loss: 2390127.5000 - root_mean_squared_error: 1546.0037 - val_loss: 2944219.5000 - val_root_mean_squared_error: 1715.8728\n",
      "Epoch 20/100\n",
      "1/1 [==============================] - 0s 23ms/step - loss: 9532800.0000 - root_mean_squared_error: 3087.5232 - val_loss: 14235328.0000 - val_root_mean_squared_error: 3772.9734\n",
      "Epoch 21/100\n",
      "1/1 [==============================] - 0s 23ms/step - loss: 24881170.0000 - root_mean_squared_error: 4988.1030 - val_loss: 28975570.0000 - val_root_mean_squared_error: 5382.8960\n",
      "Epoch 22/100\n",
      "1/1 [==============================] - 0s 23ms/step - loss: 42793600.0000 - root_mean_squared_error: 6541.6816 - val_loss: 41372440.0000 - val_root_mean_squared_error: 6432.1411\n",
      "Epoch 23/100\n",
      "1/1 [==============================] - 0s 24ms/step - loss: 57257508.0000 - root_mean_squared_error: 7566.8691 - val_loss: 47511616.0000 - val_root_mean_squared_error: 6892.8672\n",
      "Epoch 24/100\n",
      "1/1 [==============================] - 0s 23ms/step - loss: 64304280.0000 - root_mean_squared_error: 8018.9951 - val_loss: 46410292.0000 - val_root_mean_squared_error: 6812.5098\n",
      "Epoch 25/100\n",
      "1/1 [==============================] - 0s 23ms/step - loss: 63044660.0000 - root_mean_squared_error: 7940.0669 - val_loss: 39463200.0000 - val_root_mean_squared_error: 6281.9741\n",
      "Epoch 26/100\n",
      "1/1 [==============================] - 0s 23ms/step - loss: 55052448.0000 - root_mean_squared_error: 7419.7339 - val_loss: 29242086.0000 - val_root_mean_squared_error: 5407.5952\n",
      "Epoch 27/100\n",
      "1/1 [==============================] - 0s 23ms/step - loss: 43108776.0000 - root_mean_squared_error: 6565.7275 - val_loss: 18448110.0000 - val_root_mean_squared_error: 4295.1265\n",
      "Epoch 28/100\n",
      "1/1 [==============================] - 0s 23ms/step - loss: 30122920.0000 - root_mean_squared_error: 5488.4351 - val_loss: 9256736.0000 - val_root_mean_squared_error: 3042.4885\n",
      "Epoch 29/100\n",
      "1/1 [==============================] - 0s 23ms/step - loss: 18462728.0000 - root_mean_squared_error: 4296.8276 - val_loss: 3017555.5000 - val_root_mean_squared_error: 1737.1112\n",
      "Epoch 30/100\n",
      "1/1 [==============================] - ETA: 0s - loss: 9648096.0000 - root_mean_squared_error: 3106.1384"
     ]
    },
    {
     "name": "stderr",
     "output_type": "stream",
     "text": [
      "WARNING:absl:Found untraced functions such as gru_cell_9_layer_call_fn, gru_cell_9_layer_call_and_return_conditional_losses while saving (showing 2 of 2). These functions will not be directly callable after loading.\n"
     ]
    },
    {
     "name": "stdout",
     "output_type": "stream",
     "text": [
      "INFO:tensorflow:Assets written to: model3/assets\n"
     ]
    },
    {
     "name": "stderr",
     "output_type": "stream",
     "text": [
      "INFO:tensorflow:Assets written to: model3/assets\n"
     ]
    },
    {
     "name": "stdout",
     "output_type": "stream",
     "text": [
      "1/1 [==============================] - 2s 2s/step - loss: 9648096.0000 - root_mean_squared_error: 3106.1384 - val_loss: 215243.6875 - val_root_mean_squared_error: 463.9436\n",
      "Epoch 31/100\n",
      "1/1 [==============================] - 0s 22ms/step - loss: 4308640.0000 - root_mean_squared_error: 2075.7263 - val_loss: 604501.1875 - val_root_mean_squared_error: 777.4968\n",
      "Epoch 32/100\n",
      "1/1 [==============================] - 0s 22ms/step - loss: 2316630.0000 - root_mean_squared_error: 1522.0480 - val_loss: 3441169.5000 - val_root_mean_squared_error: 1855.0389\n",
      "Epoch 33/100\n",
      "1/1 [==============================] - 0s 22ms/step - loss: 3017302.2500 - root_mean_squared_error: 1737.0383 - val_loss: 7739047.0000 - val_root_mean_squared_error: 2781.9143\n",
      "Epoch 34/100\n",
      "1/1 [==============================] - 0s 22ms/step - loss: 5486418.0000 - root_mean_squared_error: 2342.3103 - val_loss: 12495038.0000 - val_root_mean_squared_error: 3534.8320\n",
      "Epoch 35/100\n",
      "1/1 [==============================] - 0s 22ms/step - loss: 8758141.0000 - root_mean_squared_error: 2959.4158 - val_loss: 16849708.0000 - val_root_mean_squared_error: 4104.8394\n",
      "Epoch 36/100\n",
      "1/1 [==============================] - 0s 23ms/step - loss: 11989464.0000 - root_mean_squared_error: 3462.5806 - val_loss: 20175334.0000 - val_root_mean_squared_error: 4491.6963\n",
      "Epoch 37/100\n",
      "1/1 [==============================] - 0s 22ms/step - loss: 14552794.0000 - root_mean_squared_error: 3814.8125 - val_loss: 22103024.0000 - val_root_mean_squared_error: 4701.3853\n",
      "Epoch 38/100\n",
      "1/1 [==============================] - 0s 23ms/step - loss: 16067322.0000 - root_mean_squared_error: 4008.4065 - val_loss: 22508672.0000 - val_root_mean_squared_error: 4744.3306\n",
      "Epoch 39/100\n",
      "1/1 [==============================] - 0s 22ms/step - loss: 16388352.0000 - root_mean_squared_error: 4048.2529 - val_loss: 21475566.0000 - val_root_mean_squared_error: 4634.1738\n",
      "Epoch 40/100\n",
      "1/1 [==============================] - 0s 22ms/step - loss: 15572293.0000 - root_mean_squared_error: 3946.1746 - val_loss: 19246892.0000 - val_root_mean_squared_error: 4387.1279\n",
      "Epoch 41/100\n",
      "1/1 [==============================] - 0s 23ms/step - loss: 13830396.0000 - root_mean_squared_error: 3718.9241 - val_loss: 16174123.0000 - val_root_mean_squared_error: 4021.7065\n",
      "Epoch 42/100\n",
      "1/1 [==============================] - 0s 22ms/step - loss: 11477703.0000 - root_mean_squared_error: 3387.8760 - val_loss: 12664480.0000 - val_root_mean_squared_error: 3558.7188\n",
      "Epoch 43/100\n",
      "1/1 [==============================] - 0s 23ms/step - loss: 8880504.0000 - root_mean_squared_error: 2980.0173 - val_loss: 9128447.0000 - val_root_mean_squared_error: 3021.3320\n",
      "Epoch 44/100\n",
      "1/1 [==============================] - 0s 23ms/step - loss: 6403765.0000 - root_mean_squared_error: 2530.5662 - val_loss: 5929624.5000 - val_root_mean_squared_error: 2435.0820\n",
      "Epoch 45/100\n",
      "1/1 [==============================] - 0s 23ms/step - loss: 4361016.5000 - root_mean_squared_error: 2088.3047 - val_loss: 3340208.5000 - val_root_mean_squared_error: 1827.6238\n",
      "Epoch 46/100\n",
      "1/1 [==============================] - 0s 22ms/step - loss: 2970483.5000 - root_mean_squared_error: 1723.5090 - val_loss: 1508812.5000 - val_root_mean_squared_error: 1228.3373\n",
      "Epoch 47/100\n",
      "1/1 [==============================] - 0s 23ms/step - loss: 2324276.2500 - root_mean_squared_error: 1524.5577 - val_loss: 447132.1875 - val_root_mean_squared_error: 668.6794\n",
      "Epoch 48/100\n",
      "1/1 [==============================] - ETA: 0s - loss: 2377494.5000 - root_mean_squared_error: 1541.9126"
     ]
    },
    {
     "name": "stderr",
     "output_type": "stream",
     "text": [
      "WARNING:absl:Found untraced functions such as gru_cell_9_layer_call_fn, gru_cell_9_layer_call_and_return_conditional_losses while saving (showing 2 of 2). These functions will not be directly callable after loading.\n"
     ]
    },
    {
     "name": "stdout",
     "output_type": "stream",
     "text": [
      "INFO:tensorflow:Assets written to: model3/assets\n"
     ]
    },
    {
     "name": "stderr",
     "output_type": "stream",
     "text": [
      "INFO:tensorflow:Assets written to: model3/assets\n"
     ]
    },
    {
     "name": "stdout",
     "output_type": "stream",
     "text": [
      "1/1 [==============================] - 2s 2s/step - loss: 2377494.5000 - root_mean_squared_error: 1541.9126 - val_loss: 41428.7266 - val_root_mean_squared_error: 203.5405\n",
      "Epoch 49/100\n",
      "1/1 [==============================] - 0s 23ms/step - loss: 2962976.7500 - root_mean_squared_error: 1721.3300 - val_loss: 88963.4375 - val_root_mean_squared_error: 298.2674\n",
      "Epoch 50/100\n",
      "1/1 [==============================] - 0s 22ms/step - loss: 3831581.2500 - root_mean_squared_error: 1957.4425 - val_loss: 352514.5312 - val_root_mean_squared_error: 593.7294\n",
      "Epoch 51/100\n",
      "1/1 [==============================] - 0s 23ms/step - loss: 4710574.5000 - root_mean_squared_error: 2170.3857 - val_loss: 619248.1250 - val_root_mean_squared_error: 786.9232\n",
      "Epoch 52/100\n",
      "1/1 [==============================] - 0s 23ms/step - loss: 5365572.5000 - root_mean_squared_error: 2316.3706 - val_loss: 747595.1875 - val_root_mean_squared_error: 864.6359\n",
      "Epoch 53/100\n",
      "1/1 [==============================] - 0s 23ms/step - loss: 5649098.5000 - root_mean_squared_error: 2376.7832 - val_loss: 689644.1250 - val_root_mean_squared_error: 830.4481\n",
      "Epoch 54/100\n",
      "1/1 [==============================] - 0s 22ms/step - loss: 5522930.5000 - root_mean_squared_error: 2350.0916 - val_loss: 485195.7812 - val_root_mean_squared_error: 696.5599\n",
      "Epoch 55/100\n",
      "1/1 [==============================] - 0s 22ms/step - loss: 5050468.0000 - root_mean_squared_error: 2247.3247 - val_loss: 233029.6250 - val_root_mean_squared_error: 482.7314\n",
      "Epoch 56/100\n",
      "1/1 [==============================] - 0s 22ms/step - loss: 4365058.5000 - root_mean_squared_error: 2089.2722 - val_loss: 51093.8828 - val_root_mean_squared_error: 226.0396\n",
      "Epoch 57/100\n",
      "1/1 [==============================] - ETA: 0s - loss: 3626485.0000 - root_mean_squared_error: 1904.3333"
     ]
    },
    {
     "name": "stderr",
     "output_type": "stream",
     "text": [
      "WARNING:absl:Found untraced functions such as gru_cell_9_layer_call_fn, gru_cell_9_layer_call_and_return_conditional_losses while saving (showing 2 of 2). These functions will not be directly callable after loading.\n"
     ]
    },
    {
     "name": "stdout",
     "output_type": "stream",
     "text": [
      "INFO:tensorflow:Assets written to: model3/assets\n"
     ]
    },
    {
     "name": "stderr",
     "output_type": "stream",
     "text": [
      "INFO:tensorflow:Assets written to: model3/assets\n"
     ]
    },
    {
     "name": "stdout",
     "output_type": "stream",
     "text": [
      "1/1 [==============================] - 2s 2s/step - loss: 3626485.0000 - root_mean_squared_error: 1904.3333 - val_loss: 38585.1875 - val_root_mean_squared_error: 196.4311\n",
      "Epoch 58/100\n",
      "1/1 [==============================] - 0s 22ms/step - loss: 2979235.5000 - root_mean_squared_error: 1726.0463 - val_loss: 249609.0625 - val_root_mean_squared_error: 499.6089\n",
      "Epoch 59/100\n",
      "1/1 [==============================] - 0s 22ms/step - loss: 2522587.5000 - root_mean_squared_error: 1588.2655 - val_loss: 682883.3750 - val_root_mean_squared_error: 826.3676\n",
      "Epoch 60/100\n",
      "1/1 [==============================] - 0s 22ms/step - loss: 2297345.0000 - root_mean_squared_error: 1515.6995 - val_loss: 1286671.1250 - val_root_mean_squared_error: 1134.3153\n",
      "Epoch 61/100\n",
      "1/1 [==============================] - 0s 23ms/step - loss: 2288552.7500 - root_mean_squared_error: 1512.7964 - val_loss: 1974615.1250 - val_root_mean_squared_error: 1405.2100\n",
      "Epoch 62/100\n",
      "1/1 [==============================] - 0s 22ms/step - loss: 2439846.5000 - root_mean_squared_error: 1562.0009 - val_loss: 2646662.5000 - val_root_mean_squared_error: 1626.8567\n",
      "Epoch 63/100\n",
      "1/1 [==============================] - 0s 23ms/step - loss: 2673584.0000 - root_mean_squared_error: 1635.1097 - val_loss: 3209394.5000 - val_root_mean_squared_error: 1791.4783\n",
      "Epoch 64/100\n",
      "1/1 [==============================] - 0s 23ms/step - loss: 2911059.7500 - root_mean_squared_error: 1706.1829 - val_loss: 3592168.5000 - val_root_mean_squared_error: 1895.3016\n",
      "Epoch 65/100\n",
      "1/1 [==============================] - 0s 23ms/step - loss: 3088794.7500 - root_mean_squared_error: 1757.4967 - val_loss: 3756450.0000 - val_root_mean_squared_error: 1938.1564\n",
      "Epoch 66/100\n",
      "1/1 [==============================] - 0s 23ms/step - loss: 3168460.2500 - root_mean_squared_error: 1780.0170 - val_loss: 3698216.5000 - val_root_mean_squared_error: 1923.0747\n",
      "Epoch 67/100\n",
      "1/1 [==============================] - 0s 23ms/step - loss: 3140004.0000 - root_mean_squared_error: 1772.0056 - val_loss: 3444292.0000 - val_root_mean_squared_error: 1855.8804\n",
      "Epoch 68/100\n",
      "1/1 [==============================] - 0s 22ms/step - loss: 3018763.0000 - root_mean_squared_error: 1737.4587 - val_loss: 3043894.0000 - val_root_mean_squared_error: 1744.6759\n",
      "Epoch 69/100\n",
      "1/1 [==============================] - 0s 23ms/step - loss: 2838010.7500 - root_mean_squared_error: 1684.6396 - val_loss: 2557968.5000 - val_root_mean_squared_error: 1599.3650\n",
      "Epoch 70/100\n",
      "1/1 [==============================] - 0s 23ms/step - loss: 2639228.2500 - root_mean_squared_error: 1624.5702 - val_loss: 2048019.0000 - val_root_mean_squared_error: 1431.0901\n",
      "Epoch 71/100\n",
      "1/1 [==============================] - 0s 22ms/step - loss: 2462043.5000 - root_mean_squared_error: 1569.0900 - val_loss: 1566595.7500 - val_root_mean_squared_error: 1251.6372\n",
      "Epoch 72/100\n",
      "1/1 [==============================] - 0s 22ms/step - loss: 2335891.7500 - root_mean_squared_error: 1528.3624 - val_loss: 1150833.0000 - val_root_mean_squared_error: 1072.7688\n",
      "Epoch 73/100\n",
      "1/1 [==============================] - 0s 22ms/step - loss: 2274862.2500 - root_mean_squared_error: 1508.2646 - val_loss: 820038.5000 - val_root_mean_squared_error: 905.5598\n",
      "Epoch 74/100\n",
      "1/1 [==============================] - 0s 22ms/step - loss: 2276567.0000 - root_mean_squared_error: 1508.8297 - val_loss: 577129.6250 - val_root_mean_squared_error: 759.6905\n",
      "Epoch 75/100\n",
      "1/1 [==============================] - 0s 22ms/step - loss: 2324890.2500 - root_mean_squared_error: 1524.7590 - val_loss: 413184.2500 - val_root_mean_squared_error: 642.7941\n",
      "Epoch 76/100\n",
      "1/1 [==============================] - 0s 23ms/step - loss: 2395661.5000 - root_mean_squared_error: 1547.7925 - val_loss: 313485.0000 - val_root_mean_squared_error: 559.8973\n",
      "Epoch 77/100\n",
      "1/1 [==============================] - 0s 23ms/step - loss: 2463593.0000 - root_mean_squared_error: 1569.5837 - val_loss: 263350.8750 - val_root_mean_squared_error: 513.1772\n",
      "Epoch 78/100\n",
      "1/1 [==============================] - 0s 22ms/step - loss: 2508587.0000 - root_mean_squared_error: 1583.8519 - val_loss: 252158.7188 - val_root_mean_squared_error: 502.1541\n",
      "Epoch 79/100\n",
      "1/1 [==============================] - 0s 22ms/step - loss: 2519929.0000 - root_mean_squared_error: 1587.4285 - val_loss: 274883.9375 - val_root_mean_squared_error: 524.2938\n",
      "Epoch 80/100\n",
      "1/1 [==============================] - 0s 22ms/step - loss: 2497432.5000 - root_mean_squared_error: 1580.3267 - val_loss: 331075.2812 - val_root_mean_squared_error: 575.3914\n",
      "Epoch 81/100\n",
      "1/1 [==============================] - 0s 23ms/step - loss: 2449752.0000 - root_mean_squared_error: 1565.1683 - val_loss: 422155.2188 - val_root_mean_squared_error: 649.7347\n",
      "Epoch 82/100\n",
      "1/1 [==============================] - 0s 22ms/step - loss: 2390649.7500 - root_mean_squared_error: 1546.1726 - val_loss: 548161.5625 - val_root_mean_squared_error: 740.3793\n",
      "Epoch 83/100\n",
      "1/1 [==============================] - 0s 22ms/step - loss: 2334596.5000 - root_mean_squared_error: 1527.9386 - val_loss: 705160.6875 - val_root_mean_squared_error: 839.7385\n",
      "Epoch 84/100\n",
      "1/1 [==============================] - 0s 22ms/step - loss: 2292930.2500 - root_mean_squared_error: 1514.2424 - val_loss: 884039.1250 - val_root_mean_squared_error: 940.2335\n",
      "Epoch 85/100\n",
      "1/1 [==============================] - 0s 23ms/step - loss: 2271523.5000 - root_mean_squared_error: 1507.1575 - val_loss: 1070999.7500 - val_root_mean_squared_error: 1034.8912\n",
      "Epoch 86/100\n",
      "1/1 [==============================] - 0s 23ms/step - loss: 2270258.2500 - root_mean_squared_error: 1506.7377 - val_loss: 1249490.6250 - val_root_mean_squared_error: 1117.8062\n",
      "Epoch 87/100\n",
      "1/1 [==============================] - 0s 23ms/step - loss: 2284126.7500 - root_mean_squared_error: 1511.3328 - val_loss: 1402818.2500 - val_root_mean_squared_error: 1184.4062\n",
      "Epoch 88/100\n",
      "1/1 [==============================] - 0s 22ms/step - loss: 2305359.5000 - root_mean_squared_error: 1518.3411 - val_loss: 1517025.7500 - val_root_mean_squared_error: 1231.6760\n",
      "Epoch 89/100\n",
      "1/1 [==============================] - 0s 22ms/step - loss: 2325873.5000 - root_mean_squared_error: 1525.0814 - val_loss: 1582944.8750 - val_root_mean_squared_error: 1258.1514\n",
      "Epoch 90/100\n",
      "1/1 [==============================] - 0s 22ms/step - loss: 2339335.2500 - root_mean_squared_error: 1529.4885 - val_loss: 1597484.6250 - val_root_mean_squared_error: 1263.9164\n",
      "Epoch 91/100\n",
      "1/1 [==============================] - 0s 23ms/step - loss: 2342454.2500 - root_mean_squared_error: 1530.5078 - val_loss: 1563588.7500 - val_root_mean_squared_error: 1250.4354\n",
      "Epoch 92/100\n",
      "1/1 [==============================] - 0s 22ms/step - loss: 2335266.0000 - root_mean_squared_error: 1528.1577 - val_loss: 1489258.5000 - val_root_mean_squared_error: 1220.3518\n",
      "Epoch 93/100\n",
      "1/1 [==============================] - 0s 22ms/step - loss: 2320547.5000 - root_mean_squared_error: 1523.3344 - val_loss: 1385847.1250 - val_root_mean_squared_error: 1177.2201\n",
      "Epoch 94/100\n",
      "1/1 [==============================] - 0s 22ms/step - loss: 2302636.5000 - root_mean_squared_error: 1517.4441 - val_loss: 1266097.7500 - val_root_mean_squared_error: 1125.2101\n",
      "Epoch 95/100\n",
      "1/1 [==============================] - 0s 22ms/step - loss: 2286043.5000 - root_mean_squared_error: 1511.9668 - val_loss: 1142278.2500 - val_root_mean_squared_error: 1068.7742\n",
      "Epoch 96/100\n",
      "1/1 [==============================] - 0s 23ms/step - loss: 2274239.2500 - root_mean_squared_error: 1508.0581 - val_loss: 1024794.9375 - val_root_mean_squared_error: 1012.3215\n",
      "Epoch 97/100\n",
      "1/1 [==============================] - 0s 23ms/step - loss: 2268902.0000 - root_mean_squared_error: 1506.2875 - val_loss: 921426.5000 - val_root_mean_squared_error: 959.9096\n",
      "Epoch 98/100\n",
      "1/1 [==============================] - 0s 23ms/step - loss: 2269755.5000 - root_mean_squared_error: 1506.5708 - val_loss: 837171.0625 - val_root_mean_squared_error: 914.9705\n",
      "Epoch 99/100\n",
      "1/1 [==============================] - 0s 22ms/step - loss: 2274954.5000 - root_mean_squared_error: 1508.2953 - val_loss: 774607.7500 - val_root_mean_squared_error: 880.1180\n",
      "Epoch 100/100\n",
      "1/1 [==============================] - 0s 23ms/step - loss: 2281835.5000 - root_mean_squared_error: 1510.5746 - val_loss: 734459.8750 - val_root_mean_squared_error: 857.0063\n"
     ]
    },
    {
     "data": {
      "text/plain": [
       "<keras.callbacks.History at 0x7fe1d3f25940>"
      ]
     },
     "execution_count": 325,
     "metadata": {},
     "output_type": "execute_result"
    }
   ],
   "source": [
    "model3.fit(X_train1, y_train1, validation_data=(X_val1, y_val1), epochs=100, callbacks=[cp3])"
   ]
  },
  {
   "cell_type": "code",
   "execution_count": 326,
   "metadata": {},
   "outputs": [
    {
     "name": "stdout",
     "output_type": "stream",
     "text": [
      "1/1 [==============================] - 0s 275ms/step\n"
     ]
    },
    {
     "data": {
      "text/html": [
       "<div>\n",
       "<style scoped>\n",
       "    .dataframe tbody tr th:only-of-type {\n",
       "        vertical-align: middle;\n",
       "    }\n",
       "\n",
       "    .dataframe tbody tr th {\n",
       "        vertical-align: top;\n",
       "    }\n",
       "\n",
       "    .dataframe thead th {\n",
       "        text-align: right;\n",
       "    }\n",
       "</style>\n",
       "<table border=\"1\" class=\"dataframe\">\n",
       "  <thead>\n",
       "    <tr style=\"text-align: right;\">\n",
       "      <th></th>\n",
       "      <th>Train Predictions</th>\n",
       "      <th>Actuals</th>\n",
       "    </tr>\n",
       "  </thead>\n",
       "  <tbody>\n",
       "    <tr>\n",
       "      <th>0</th>\n",
       "      <td>24015.263672</td>\n",
       "      <td>21453.0</td>\n",
       "    </tr>\n",
       "    <tr>\n",
       "      <th>1</th>\n",
       "      <td>24015.263672</td>\n",
       "      <td>21926.0</td>\n",
       "    </tr>\n",
       "    <tr>\n",
       "      <th>2</th>\n",
       "      <td>24015.263672</td>\n",
       "      <td>24945.0</td>\n",
       "    </tr>\n",
       "    <tr>\n",
       "      <th>3</th>\n",
       "      <td>24015.263672</td>\n",
       "      <td>24365.0</td>\n",
       "    </tr>\n",
       "  </tbody>\n",
       "</table>\n",
       "</div>"
      ],
      "text/plain": [
       "   Train Predictions  Actuals\n",
       "0       24015.263672  21453.0\n",
       "1       24015.263672  21926.0\n",
       "2       24015.263672  24945.0\n",
       "3       24015.263672  24365.0"
      ]
     },
     "execution_count": 326,
     "metadata": {},
     "output_type": "execute_result"
    }
   ],
   "source": [
    "model3 = load_model('model3/')\n",
    "train_predictions3 = model3.predict(X_train1).flatten()\n",
    "train_results3 = pd.DataFrame(data={'Train Predictions':train_predictions3, 'Actuals':y_train1})\n",
    "train_results3"
   ]
  },
  {
   "cell_type": "code",
   "execution_count": 332,
   "metadata": {},
   "outputs": [
    {
     "data": {
      "image/png": "[encoded data removed]",
      "text/plain": [
       "<Figure size 432x288 with 1 Axes>"
      ]
     },
     "metadata": {
      "needs_background": "light"
     },
     "output_type": "display_data"
    }
   ],
   "source": [
    "train_results3.index=['2013','2014','2015','2016']\n",
    "plt.plot(train_results3['Train Predictions'])\n",
    "plt.plot(train_results3['Actuals'])\n",
    "\n",
    "plt.legend(['Prediction', 'Actual'], loc='lower right')\n",
    "plt.ylim(20000,30000)\n",
    "ax = plt.gca()\n",
    "# ax.invert_xaxis()"
   ]
  },
  {
   "cell_type": "code",
   "execution_count": 330,
   "metadata": {},
   "outputs": [
    {
     "name": "stderr",
     "output_type": "stream",
     "text": [
      "WARNING:absl:Found untraced functions such as gru_cell_10_layer_call_fn, gru_cell_10_layer_call_and_return_conditional_losses while saving (showing 2 of 2). These functions will not be directly callable after loading.\n"
     ]
    },
    {
     "name": "stdout",
     "output_type": "stream",
     "text": [
      "INFO:tensorflow:Assets written to: model3/assets\n"
     ]
    },
    {
     "name": "stderr",
     "output_type": "stream",
     "text": [
      "INFO:tensorflow:Assets written to: model3/assets\n"
     ]
    },
    {
     "name": "stdout",
     "output_type": "stream",
     "text": [
      "dict_keys(['loss', 'root_mean_squared_error', 'val_loss', 'val_root_mean_squared_error'])\n"
     ]
    },
    {
     "data": {
      "image/png": "[encoded data removed]",
      "text/plain": [
       "<Figure size 576x432 with 1 Axes>"
      ]
     },
     "metadata": {
      "needs_background": "light"
     },
     "output_type": "display_data"
    }
   ],
   "source": [
    "history = model3.fit(X_train1, y_train1, validation_data=(X_val1, y_val1), epochs=100, callbacks=[cp3], verbose=0)\n",
    "print(history.history.keys())\n",
    "\n",
    "import matplotlib.pylab as plt\n",
    "from matplotlib.pyplot import figure\n",
    "figure(figsize=(8, 6))\n",
    "plt.plot(history.history['loss'])\n",
    "plt.plot(history.history['val_loss'])\n",
    "plt.title('model loss')\n",
    "plt.ylabel('loss')\n",
    "plt.xlabel('epoch')\n",
    "plt.legend(['train', 'test'], loc='upper left')\n",
    "plt.show()"
   ]
  },
  {
   "cell_type": "code",
   "execution_count": 333,
   "metadata": {},
   "outputs": [
    {
     "name": "stdout",
     "output_type": "stream",
     "text": [
      "1/1 [==============================] - 0s 18ms/step\n"
     ]
    },
    {
     "data": {
      "text/html": [
       "<div>\n",
       "<style scoped>\n",
       "    .dataframe tbody tr th:only-of-type {\n",
       "        vertical-align: middle;\n",
       "    }\n",
       "\n",
       "    .dataframe tbody tr th {\n",
       "        vertical-align: top;\n",
       "    }\n",
       "\n",
       "    .dataframe thead th {\n",
       "        text-align: right;\n",
       "    }\n",
       "</style>\n",
       "<table border=\"1\" class=\"dataframe\">\n",
       "  <thead>\n",
       "    <tr style=\"text-align: right;\">\n",
       "      <th></th>\n",
       "      <th>Val Predictions</th>\n",
       "      <th>Actuals</th>\n",
       "    </tr>\n",
       "  </thead>\n",
       "  <tbody>\n",
       "    <tr>\n",
       "      <th>0</th>\n",
       "      <td>23180.671875</td>\n",
       "      <td>24293.0</td>\n",
       "    </tr>\n",
       "    <tr>\n",
       "      <th>1</th>\n",
       "      <td>23180.671875</td>\n",
       "      <td>24021.0</td>\n",
       "    </tr>\n",
       "  </tbody>\n",
       "</table>\n",
       "</div>"
      ],
      "text/plain": [
       "   Val Predictions  Actuals\n",
       "0     23180.671875  24293.0\n",
       "1     23180.671875  24021.0"
      ]
     },
     "execution_count": 333,
     "metadata": {},
     "output_type": "execute_result"
    }
   ],
   "source": [
    "val_predictions3 = model3.predict(X_val1).flatten()\n",
    "val_results3 = pd.DataFrame(data={'Val Predictions':val_predictions3, 'Actuals':y_val1})\n",
    "val_results3"
   ]
  },
  {
   "cell_type": "code",
   "execution_count": 334,
   "metadata": {},
   "outputs": [
    {
     "name": "stdout",
     "output_type": "stream",
     "text": [
      "1/1 [==============================] - 0s 15ms/step\n"
     ]
    },
    {
     "data": {
      "text/html": [
       "<div>\n",
       "<style scoped>\n",
       "    .dataframe tbody tr th:only-of-type {\n",
       "        vertical-align: middle;\n",
       "    }\n",
       "\n",
       "    .dataframe tbody tr th {\n",
       "        vertical-align: top;\n",
       "    }\n",
       "\n",
       "    .dataframe thead th {\n",
       "        text-align: right;\n",
       "    }\n",
       "</style>\n",
       "<table border=\"1\" class=\"dataframe\">\n",
       "  <thead>\n",
       "    <tr style=\"text-align: right;\">\n",
       "      <th></th>\n",
       "      <th>Test Predictions</th>\n",
       "      <th>Actuals</th>\n",
       "    </tr>\n",
       "  </thead>\n",
       "  <tbody>\n",
       "    <tr>\n",
       "      <th>0</th>\n",
       "      <td>23180.673828</td>\n",
       "      <td>23997.0</td>\n",
       "    </tr>\n",
       "  </tbody>\n",
       "</table>\n",
       "</div>"
      ],
      "text/plain": [
       "   Test Predictions  Actuals\n",
       "0      23180.673828  23997.0"
      ]
     },
     "execution_count": 334,
     "metadata": {},
     "output_type": "execute_result"
    }
   ],
   "source": [
    "test_predictions3 = model3.predict(X_test1).flatten()\n",
    "test_results3 = pd.DataFrame(data={'Test Predictions':test_predictions3, 'Actuals':y_test1})\n",
    "test_results3"
   ]
  },
  {
   "cell_type": "code",
   "execution_count": 345,
   "metadata": {},
   "outputs": [
    {
     "data": {
      "text/plain": [
       "array([19013, 19976, 21105])"
      ]
     },
     "execution_count": 345,
     "metadata": {},
     "output_type": "execute_result"
    }
   ],
   "source": [
    "lstm_data[\"Actual Loss\"][:3].values"
   ]
  },
  {
   "cell_type": "code",
   "execution_count": 351,
   "metadata": {},
   "outputs": [
    {
     "name": "stderr",
     "output_type": "stream",
     "text": [
      "2022-07-19 21:45:21.238740: W tensorflow/core/framework/op_kernel.cc:1745] OP_REQUIRES failed at transpose_op.cc:142 : INVALID_ARGUMENT: transpose expects a vector of size 1. But input(1) is a vector of size 3\n"
     ]
    },
    {
     "ename": "InvalidArgumentError",
     "evalue": "Graph execution error:\n\ntranspose expects a vector of size 1. But input(1) is a vector of size 3\n\t [[{{node transpose}}]]\n\t [[sequential_20/gru_5/PartitionedCall]] [Op:__inference_predict_function_2784537]",
     "output_type": "error",
     "traceback": [
      "\u001b[0;31m---------------------------------------------------------------------------\u001b[0m",
      "\u001b[0;31mInvalidArgumentError\u001b[0m                      Traceback (most recent call last)",
      "\u001b[1;32m/Users/murathansaygili/Desktop/SIC/Food-Supply-Chain/module_2.ipynb Cell 58\u001b[0m in \u001b[0;36m<cell line: 2>\u001b[0;34m()\u001b[0m\n\u001b[1;32m      <a href='vscode-notebook-cell:/Users/murathansaygili/Desktop/SIC/Food-Supply-Chain/module_2.ipynb#ch0000170?line=0'>1</a>\u001b[0m \u001b[39m# lstm_data[\"Actual Loss\"][:3]=tf.convert_to_tensor(lstm_data[\"Actual Loss\"][:3], dtype=tf.int64)\u001b[39;00m\n\u001b[0;32m----> <a href='vscode-notebook-cell:/Users/murathansaygili/Desktop/SIC/Food-Supply-Chain/module_2.ipynb#ch0000170?line=1'>2</a>\u001b[0m final_predictions\u001b[39m=\u001b[39mmodel3\u001b[39m.\u001b[39;49mpredict([\u001b[39m24159\u001b[39;49m,\u001b[39m24523\u001b[39;49m,\u001b[39m23435\u001b[39;49m])\u001b[39m.\u001b[39mflatten()\n\u001b[1;32m      <a href='vscode-notebook-cell:/Users/murathansaygili/Desktop/SIC/Food-Supply-Chain/module_2.ipynb#ch0000170?line=2'>3</a>\u001b[0m final_result\u001b[39m=\u001b[39mpd\u001b[39m.\u001b[39mDataFrame(data\u001b[39m=\u001b[39m{\u001b[39m'\u001b[39m\u001b[39mPredictions\u001b[39m\u001b[39m'\u001b[39m:final_predictions, \u001b[39m'\u001b[39m\u001b[39mActuals\u001b[39m\u001b[39m'\u001b[39m:[\u001b[39m24159\u001b[39m,\u001b[39m24523\u001b[39m,\u001b[39m23435\u001b[39m]})\n",
      "File \u001b[0;32m~/Desktop/SIC/venv/lib/python3.9/site-packages/keras/utils/traceback_utils.py:67\u001b[0m, in \u001b[0;36mfilter_traceback.<locals>.error_handler\u001b[0;34m(*args, **kwargs)\u001b[0m\n\u001b[1;32m     65\u001b[0m \u001b[39mexcept\u001b[39;00m \u001b[39mException\u001b[39;00m \u001b[39mas\u001b[39;00m e:  \u001b[39m# pylint: disable=broad-except\u001b[39;00m\n\u001b[1;32m     66\u001b[0m   filtered_tb \u001b[39m=\u001b[39m _process_traceback_frames(e\u001b[39m.\u001b[39m__traceback__)\n\u001b[0;32m---> 67\u001b[0m   \u001b[39mraise\u001b[39;00m e\u001b[39m.\u001b[39mwith_traceback(filtered_tb) \u001b[39mfrom\u001b[39;00m \u001b[39mNone\u001b[39m\n\u001b[1;32m     68\u001b[0m \u001b[39mfinally\u001b[39;00m:\n\u001b[1;32m     69\u001b[0m   \u001b[39mdel\u001b[39;00m filtered_tb\n",
      "File \u001b[0;32m~/Desktop/SIC/venv/lib/python3.9/site-packages/tensorflow/python/eager/execute.py:54\u001b[0m, in \u001b[0;36mquick_execute\u001b[0;34m(op_name, num_outputs, inputs, attrs, ctx, name)\u001b[0m\n\u001b[1;32m     52\u001b[0m \u001b[39mtry\u001b[39;00m:\n\u001b[1;32m     53\u001b[0m   ctx\u001b[39m.\u001b[39mensure_initialized()\n\u001b[0;32m---> 54\u001b[0m   tensors \u001b[39m=\u001b[39m pywrap_tfe\u001b[39m.\u001b[39mTFE_Py_Execute(ctx\u001b[39m.\u001b[39m_handle, device_name, op_name,\n\u001b[1;32m     55\u001b[0m                                       inputs, attrs, num_outputs)\n\u001b[1;32m     56\u001b[0m \u001b[39mexcept\u001b[39;00m core\u001b[39m.\u001b[39m_NotOkStatusException \u001b[39mas\u001b[39;00m e:\n\u001b[1;32m     57\u001b[0m   \u001b[39mif\u001b[39;00m name \u001b[39mis\u001b[39;00m \u001b[39mnot\u001b[39;00m \u001b[39mNone\u001b[39;00m:\n",
      "\u001b[0;31mInvalidArgumentError\u001b[0m: Graph execution error:\n\ntranspose expects a vector of size 1. But input(1) is a vector of size 3\n\t [[{{node transpose}}]]\n\t [[sequential_20/gru_5/PartitionedCall]] [Op:__inference_predict_function_2784537]"
     ]
    }
   ],
   "source": [
    "# lstm_data[\"Actual Loss\"][:3]=tf.convert_to_tensor(lstm_data[\"Actual Loss\"][:3], dtype=tf.int64)\n",
    "final_predictions=model3.predict([24159,24523,23435]).flatten()\n",
    "final_result=pd.DataFrame(data={'Predictions':final_predictions, 'Actuals':[24159,24523,23435]})"
   ]
  },
  {
   "cell_type": "code",
   "execution_count": 339,
   "metadata": {},
   "outputs": [
    {
     "data": {
      "text/html": [
       "<div>\n",
       "<style scoped>\n",
       "    .dataframe tbody tr th:only-of-type {\n",
       "        vertical-align: middle;\n",
       "    }\n",
       "\n",
       "    .dataframe tbody tr th {\n",
       "        vertical-align: top;\n",
       "    }\n",
       "\n",
       "    .dataframe thead th {\n",
       "        text-align: right;\n",
       "    }\n",
       "</style>\n",
       "<table border=\"1\" class=\"dataframe\">\n",
       "  <thead>\n",
       "    <tr style=\"text-align: right;\">\n",
       "      <th></th>\n",
       "      <th>Predictions</th>\n",
       "      <th>Actuals</th>\n",
       "    </tr>\n",
       "  </thead>\n",
       "  <tbody>\n",
       "    <tr>\n",
       "      <th>Y2010</th>\n",
       "      <td>23180.671875</td>\n",
       "      <td>19013</td>\n",
       "    </tr>\n",
       "    <tr>\n",
       "      <th>Y2011</th>\n",
       "      <td>23180.671875</td>\n",
       "      <td>19976</td>\n",
       "    </tr>\n",
       "    <tr>\n",
       "      <th>Y2012</th>\n",
       "      <td>23180.671875</td>\n",
       "      <td>21105</td>\n",
       "    </tr>\n",
       "    <tr>\n",
       "      <th>Y2013</th>\n",
       "      <td>23180.671875</td>\n",
       "      <td>21453</td>\n",
       "    </tr>\n",
       "    <tr>\n",
       "      <th>Y2014</th>\n",
       "      <td>23180.671875</td>\n",
       "      <td>21926</td>\n",
       "    </tr>\n",
       "    <tr>\n",
       "      <th>Y2015</th>\n",
       "      <td>23180.671875</td>\n",
       "      <td>24945</td>\n",
       "    </tr>\n",
       "    <tr>\n",
       "      <th>Y2016</th>\n",
       "      <td>23180.671875</td>\n",
       "      <td>24365</td>\n",
       "    </tr>\n",
       "    <tr>\n",
       "      <th>Y2017</th>\n",
       "      <td>23180.671875</td>\n",
       "      <td>24293</td>\n",
       "    </tr>\n",
       "    <tr>\n",
       "      <th>Y2018</th>\n",
       "      <td>23180.671875</td>\n",
       "      <td>24021</td>\n",
       "    </tr>\n",
       "    <tr>\n",
       "      <th>Y2019</th>\n",
       "      <td>23180.671875</td>\n",
       "      <td>23997</td>\n",
       "    </tr>\n",
       "  </tbody>\n",
       "</table>\n",
       "</div>"
      ],
      "text/plain": [
       "        Predictions  Actuals\n",
       "Y2010  23180.671875    19013\n",
       "Y2011  23180.671875    19976\n",
       "Y2012  23180.671875    21105\n",
       "Y2013  23180.671875    21453\n",
       "Y2014  23180.671875    21926\n",
       "Y2015  23180.671875    24945\n",
       "Y2016  23180.671875    24365\n",
       "Y2017  23180.671875    24293\n",
       "Y2018  23180.671875    24021\n",
       "Y2019  23180.671875    23997"
      ]
     },
     "execution_count": 339,
     "metadata": {},
     "output_type": "execute_result"
    }
   ],
   "source": [
    "final_result"
   ]
  },
  {
   "cell_type": "markdown",
   "metadata": {},
   "source": [
    "# Multi-variate Dataset"
   ]
  },
  {
   "cell_type": "code",
   "execution_count": 230,
   "metadata": {},
   "outputs": [],
   "source": [
    "def df_to_X_y2(df, window_size=5):\n",
    "  df_as_np = df.to_numpy()\n",
    "  X = []\n",
    "  y = []\n",
    "  for i in range(len(df_as_np)-window_size):\n",
    "    row = [r for r in df_as_np[i:i+window_size]]\n",
    "    X.append(row)\n",
    "    label = df_as_np[i+window_size][0]\n",
    "    y.append(label)\n",
    "  return np.array(X), np.array(y)"
   ]
  },
  {
   "cell_type": "code",
   "execution_count": 231,
   "metadata": {},
   "outputs": [
    {
     "data": {
      "text/plain": [
       "((5, 5, 2), (5,))"
      ]
     },
     "execution_count": 231,
     "metadata": {},
     "output_type": "execute_result"
    }
   ],
   "source": [
    "X2, y2 = df_to_X_y2(lstm_data)\n",
    "X2.shape, y2.shape"
   ]
  },
  {
   "cell_type": "code",
   "execution_count": 232,
   "metadata": {},
   "outputs": [],
   "source": [
    "# loss_training_mean = np.mean(X_train2[:, :, 1])\n",
    "# loss_training_std = np.std(X_train2[:, :, 1])\n",
    "                           \n",
    "# def preprocess_loss(X):\n",
    "#   X[:, :, 1] = (X[:, :, 1] - loss_training_mean) / loss_training_std\n",
    "#   return X\n",
    "\n",
    "# pop_training_mean = np.mean(X_train2[:, :, 0])\n",
    "# pop_training_std = np.std(X_train2[:, :, 0])\n",
    "                           \n",
    "# def preprocess_pop(X):\n",
    "#   X[:, :, 0] = (X[:, :, 0] - pop_training_mean) / pop_training_std\n",
    "#   return X\n",
    "\n",
    "loss_mean = np.mean(X2[:, :, 1])\n",
    "loss_std = np.std(X2[:, :, 1])\n",
    "                           \n",
    "def preprocess_loss(X):\n",
    "  X[:, :, 1] = (X[:, :, 1] - loss_mean) / loss_std\n",
    "  return X\n",
    "\n",
    "pop_mean = np.mean(X_train2[:, :, 0])\n",
    "pop_std = np.std(X_train2[:, :, 0])\n",
    "                           \n",
    "def preprocess_pop(X):\n",
    "  X[:, :, 0] = (X[:, :, 0] - pop_mean) / pop_std\n",
    "  return X"
   ]
  },
  {
   "cell_type": "code",
   "execution_count": 233,
   "metadata": {},
   "outputs": [
    {
     "data": {
      "text/plain": [
       "array([[[2212808536.1193137, -1.9669935250211181],\n",
       "        [2225176204.048232, -1.4281233840900263],\n",
       "        [2237570751.337262, -0.7963638938395562],\n",
       "        [2249914702.183729, -0.6016320049049559],\n",
       "        [2262089471.175378, -0.33695331678407703]],\n",
       "\n",
       "       [[2225176204.048232, -1.4281233840900263],\n",
       "        [2237570751.337262, -0.7963638938395562],\n",
       "        [2249914702.183729, -0.6016320049049559],\n",
       "        [2262089471.175378, -0.33695331678407703],\n",
       "        [2273982797.455271, 1.3524017771629284]],\n",
       "\n",
       "       [[2237570751.337262, -0.7963638938395562],\n",
       "        [2249914702.183729, -0.6016320049049559],\n",
       "        [2262089471.175378, -0.33695331678407703],\n",
       "        [2273982797.455271, 1.3524017771629284],\n",
       "        [2285574126.218618, 1.0278486289385949]],\n",
       "\n",
       "       [[2249914702.183729, -0.6016320049049559],\n",
       "        [2262089471.175378, -0.33695331678407703],\n",
       "        [2273982797.455271, 1.3524017771629284],\n",
       "        [2285574126.218618, 1.0278486289385949],\n",
       "        [2296803374.189876, 0.9875592726072983]],\n",
       "\n",
       "       [[2262089471.175378, -0.33695331678407703],\n",
       "        [2273982797.455271, 1.3524017771629284],\n",
       "        [2285574126.218618, 1.0278486289385949],\n",
       "        [2296803374.189876, 0.9875592726072983],\n",
       "        [2307479223.5706043, 0.8353550375779556]]], dtype=object)"
      ]
     },
     "execution_count": 233,
     "metadata": {},
     "output_type": "execute_result"
    }
   ],
   "source": [
    "# preprocess_loss(X_train2)\n",
    "# preprocess_loss(X_val2)\n",
    "# preprocess_loss(X_test2)\n",
    "# preprocess_pop(X_train2)\n",
    "# preprocess_pop(X_val2)\n",
    "# preprocess_pop(X_test2)\n",
    "X2=X2[:]\n",
    "preprocess_loss(X2)\n",
    "preprocess_pop(X2)"
   ]
  },
  {
   "cell_type": "code",
   "execution_count": 234,
   "metadata": {},
   "outputs": [
    {
     "data": {
      "text/plain": [
       "((3, 5, 2), (3,), (1, 5, 2), (1,), (1, 5, 2), (1,))"
      ]
     },
     "execution_count": 234,
     "metadata": {},
     "output_type": "execute_result"
    }
   ],
   "source": [
    "X_train2, y_train2 = X2[:3], y2[:3]\n",
    "X_val2, y_val2 = X2[3:4], y2[3:4]\n",
    "X_test2, y_test2 = X2[4:], y2[4:]\n",
    "X_train2.shape, y_train2.shape, X_val2.shape, y_val2.shape, X_test2.shape, y_test2.shape"
   ]
  },
  {
   "cell_type": "code",
   "execution_count": 235,
   "metadata": {},
   "outputs": [],
   "source": [
    "X_train2=tf.convert_to_tensor(X_train2, dtype=tf.int64)\n",
    "y_train2=tf.convert_to_tensor(y_train2, dtype=tf.int64)\n",
    "X_val2=tf.convert_to_tensor(X_val2, dtype=tf.int64)\n",
    "y_val2=tf.convert_to_tensor(y_val2, dtype=tf.int64)\n",
    "X_test2=tf.convert_to_tensor(X_test2, dtype=tf.int64)\n",
    "y_test2=tf.convert_to_tensor(y_test2, dtype=tf.int64)\n"
   ]
  },
  {
   "cell_type": "markdown",
   "metadata": {},
   "source": [
    "# MODEL 4"
   ]
  },
  {
   "cell_type": "code",
   "execution_count": 236,
   "metadata": {},
   "outputs": [
    {
     "name": "stdout",
     "output_type": "stream",
     "text": [
      "Model: \"sequential_13\"\n",
      "_________________________________________________________________\n",
      " Layer (type)                Output Shape              Param #   \n",
      "=================================================================\n",
      " lstm_6 (LSTM)               (None, 64)                17152     \n",
      "                                                                 \n",
      " dense_26 (Dense)            (None, 8)                 520       \n",
      "                                                                 \n",
      " dense_27 (Dense)            (None, 1)                 9         \n",
      "                                                                 \n",
      "=================================================================\n",
      "Total params: 17,681\n",
      "Trainable params: 17,681\n",
      "Non-trainable params: 0\n",
      "_________________________________________________________________\n"
     ]
    }
   ],
   "source": [
    "model4 = Sequential()\n",
    "model4.add(InputLayer((5, 2)))\n",
    "model4.add(LSTM(64))\n",
    "model4.add(Dense(8, 'relu'))\n",
    "model4.add(Dense(1, 'linear'))\n",
    "model4.summary()"
   ]
  },
  {
   "cell_type": "code",
   "execution_count": 237,
   "metadata": {},
   "outputs": [],
   "source": [
    "cp4 = ModelCheckpoint('model4/', save_best_only=True)\n",
    "model4.compile(loss=MeanSquaredError(), optimizer=Adam(learning_rate=100), metrics=[RootMeanSquaredError()])"
   ]
  },
  {
   "cell_type": "code",
   "execution_count": 238,
   "metadata": {},
   "outputs": [
    {
     "name": "stdout",
     "output_type": "stream",
     "text": [
      "Epoch 1/20\n",
      "1/1 [==============================] - ETA: 0s - loss: 2089353705190064128.0000 - root_mean_squared_error: 1445459712.0000"
     ]
    },
    {
     "name": "stderr",
     "output_type": "stream",
     "text": [
      "WARNING:absl:Found untraced functions such as lstm_cell_13_layer_call_fn, lstm_cell_13_layer_call_and_return_conditional_losses while saving (showing 2 of 2). These functions will not be directly callable after loading.\n"
     ]
    },
    {
     "name": "stdout",
     "output_type": "stream",
     "text": [
      "INFO:tensorflow:Assets written to: model4/assets\n"
     ]
    },
    {
     "name": "stderr",
     "output_type": "stream",
     "text": [
      "INFO:tensorflow:Assets written to: model4/assets\n"
     ]
    },
    {
     "name": "stdout",
     "output_type": "stream",
     "text": [
      "1/1 [==============================] - 4s 4s/step - loss: 2089353705190064128.0000 - root_mean_squared_error: 1445459712.0000 - val_loss: 2128300606069145600.0000 - val_root_mean_squared_error: 1458869632.0000\n",
      "Epoch 2/20\n",
      "1/1 [==============================] - ETA: 0s - loss: 2087884207899541504.0000 - root_mean_squared_error: 1444951296.0000"
     ]
    },
    {
     "name": "stderr",
     "output_type": "stream",
     "text": [
      "WARNING:absl:Found untraced functions such as lstm_cell_13_layer_call_fn, lstm_cell_13_layer_call_and_return_conditional_losses while saving (showing 2 of 2). These functions will not be directly callable after loading.\n"
     ]
    },
    {
     "name": "stdout",
     "output_type": "stream",
     "text": [
      "INFO:tensorflow:Assets written to: model4/assets\n"
     ]
    },
    {
     "name": "stderr",
     "output_type": "stream",
     "text": [
      "INFO:tensorflow:Assets written to: model4/assets\n"
     ]
    },
    {
     "name": "stdout",
     "output_type": "stream",
     "text": [
      "1/1 [==============================] - 3s 3s/step - loss: 2087884207899541504.0000 - root_mean_squared_error: 1444951296.0000 - val_loss: 2125273513118924800.0000 - val_root_mean_squared_error: 1457831808.0000\n",
      "Epoch 3/20\n",
      "1/1 [==============================] - ETA: 0s - loss: 2084886252007456768.0000 - root_mean_squared_error: 1443913472.0000"
     ]
    },
    {
     "name": "stderr",
     "output_type": "stream",
     "text": [
      "WARNING:absl:Found untraced functions such as lstm_cell_13_layer_call_fn, lstm_cell_13_layer_call_and_return_conditional_losses while saving (showing 2 of 2). These functions will not be directly callable after loading.\n"
     ]
    },
    {
     "name": "stdout",
     "output_type": "stream",
     "text": [
      "INFO:tensorflow:Assets written to: model4/assets\n"
     ]
    },
    {
     "name": "stderr",
     "output_type": "stream",
     "text": [
      "INFO:tensorflow:Assets written to: model4/assets\n"
     ]
    },
    {
     "name": "stdout",
     "output_type": "stream",
     "text": [
      "1/1 [==============================] - 3s 3s/step - loss: 2084886252007456768.0000 - root_mean_squared_error: 1443913472.0000 - val_loss: 2119898000770727936.0000 - val_root_mean_squared_error: 1455986944.0000\n",
      "Epoch 4/20\n",
      "1/1 [==============================] - ETA: 0s - loss: 2079561866949951488.0000 - root_mean_squared_error: 1442068608.0000"
     ]
    },
    {
     "name": "stderr",
     "output_type": "stream",
     "text": [
      "WARNING:absl:Found untraced functions such as lstm_cell_13_layer_call_fn, lstm_cell_13_layer_call_and_return_conditional_losses while saving (showing 2 of 2). These functions will not be directly callable after loading.\n"
     ]
    },
    {
     "name": "stdout",
     "output_type": "stream",
     "text": [
      "INFO:tensorflow:Assets written to: model4/assets\n"
     ]
    },
    {
     "name": "stderr",
     "output_type": "stream",
     "text": [
      "INFO:tensorflow:Assets written to: model4/assets\n"
     ]
    },
    {
     "name": "stdout",
     "output_type": "stream",
     "text": [
      "1/1 [==============================] - 4s 4s/step - loss: 2079561866949951488.0000 - root_mean_squared_error: 1442068608.0000 - val_loss: 2112035805437362176.0000 - val_root_mean_squared_error: 1453284480.0000\n",
      "Epoch 5/20\n",
      "1/1 [==============================] - ETA: 0s - loss: 2071774988163088384.0000 - root_mean_squared_error: 1439366144.0000"
     ]
    },
    {
     "name": "stderr",
     "output_type": "stream",
     "text": [
      "WARNING:absl:Found untraced functions such as lstm_cell_13_layer_call_fn, lstm_cell_13_layer_call_and_return_conditional_losses while saving (showing 2 of 2). These functions will not be directly callable after loading.\n"
     ]
    },
    {
     "name": "stdout",
     "output_type": "stream",
     "text": [
      "INFO:tensorflow:Assets written to: model4/assets\n"
     ]
    },
    {
     "name": "stderr",
     "output_type": "stream",
     "text": [
      "INFO:tensorflow:Assets written to: model4/assets\n"
     ]
    },
    {
     "name": "stdout",
     "output_type": "stream",
     "text": [
      "1/1 [==============================] - 3s 3s/step - loss: 2071774988163088384.0000 - root_mean_squared_error: 1439366144.0000 - val_loss: 2101565018767097856.0000 - val_root_mean_squared_error: 1449677568.0000\n",
      "Epoch 6/20\n",
      "1/1 [==============================] - ETA: 0s - loss: 2061404669367812096.0000 - root_mean_squared_error: 1435759232.0000"
     ]
    },
    {
     "name": "stderr",
     "output_type": "stream",
     "text": [
      "WARNING:absl:Found untraced functions such as lstm_cell_13_layer_call_fn, lstm_cell_13_layer_call_and_return_conditional_losses while saving (showing 2 of 2). These functions will not be directly callable after loading.\n"
     ]
    },
    {
     "name": "stdout",
     "output_type": "stream",
     "text": [
      "INFO:tensorflow:Assets written to: model4/assets\n"
     ]
    },
    {
     "name": "stderr",
     "output_type": "stream",
     "text": [
      "INFO:tensorflow:Assets written to: model4/assets\n"
     ]
    },
    {
     "name": "stdout",
     "output_type": "stream",
     "text": [
      "1/1 [==============================] - 3s 3s/step - loss: 2061404669367812096.0000 - root_mean_squared_error: 1435759232.0000 - val_loss: 2088371016672739328.0000 - val_root_mean_squared_error: 1445119744.0000\n",
      "Epoch 7/20\n",
      "1/1 [==============================] - ETA: 0s - loss: 2048337798305415168.0000 - root_mean_squared_error: 1431201536.0000"
     ]
    },
    {
     "name": "stderr",
     "output_type": "stream",
     "text": [
      "WARNING:absl:Found untraced functions such as lstm_cell_13_layer_call_fn, lstm_cell_13_layer_call_and_return_conditional_losses while saving (showing 2 of 2). These functions will not be directly callable after loading.\n"
     ]
    },
    {
     "name": "stdout",
     "output_type": "stream",
     "text": [
      "INFO:tensorflow:Assets written to: model4/assets\n"
     ]
    },
    {
     "name": "stderr",
     "output_type": "stream",
     "text": [
      "INFO:tensorflow:Assets written to: model4/assets\n"
     ]
    },
    {
     "name": "stdout",
     "output_type": "stream",
     "text": [
      "1/1 [==============================] - 3s 3s/step - loss: 2048337798305415168.0000 - root_mean_squared_error: 1431201536.0000 - val_loss: 2072346871648485376.0000 - val_root_mean_squared_error: 1439564800.0000\n",
      "Epoch 8/20\n",
      "1/1 [==============================] - ETA: 0s - loss: 2032468272103817216.0000 - root_mean_squared_error: 1425646592.0000"
     ]
    },
    {
     "name": "stderr",
     "output_type": "stream",
     "text": [
      "WARNING:absl:Found untraced functions such as lstm_cell_13_layer_call_fn, lstm_cell_13_layer_call_and_return_conditional_losses while saving (showing 2 of 2). These functions will not be directly callable after loading.\n"
     ]
    },
    {
     "name": "stdout",
     "output_type": "stream",
     "text": [
      "INFO:tensorflow:Assets written to: model4/assets\n"
     ]
    },
    {
     "name": "stderr",
     "output_type": "stream",
     "text": [
      "INFO:tensorflow:Assets written to: model4/assets\n"
     ]
    },
    {
     "name": "stdout",
     "output_type": "stream",
     "text": [
      "1/1 [==============================] - 3s 3s/step - loss: 2032468272103817216.0000 - root_mean_squared_error: 1425646592.0000 - val_loss: 2053392390697254912.0000 - val_root_mean_squared_error: 1432966272.0000\n",
      "Epoch 9/20\n",
      "1/1 [==============================] - ETA: 0s - loss: 2013697684472332288.0000 - root_mean_squared_error: 1419048192.0000"
     ]
    },
    {
     "name": "stderr",
     "output_type": "stream",
     "text": [
      "WARNING:absl:Found untraced functions such as lstm_cell_13_layer_call_fn, lstm_cell_13_layer_call_and_return_conditional_losses while saving (showing 2 of 2). These functions will not be directly callable after loading.\n"
     ]
    },
    {
     "name": "stdout",
     "output_type": "stream",
     "text": [
      "INFO:tensorflow:Assets written to: model4/assets\n"
     ]
    },
    {
     "name": "stderr",
     "output_type": "stream",
     "text": [
      "INFO:tensorflow:Assets written to: model4/assets\n"
     ]
    },
    {
     "name": "stdout",
     "output_type": "stream",
     "text": [
      "1/1 [==============================] - 3s 3s/step - loss: 2013697684472332288.0000 - root_mean_squared_error: 1419048192.0000 - val_loss: 2031417276426616832.0000 - val_root_mean_squared_error: 1425277952.0000\n",
      "Epoch 10/20\n",
      "1/1 [==============================] - ETA: 0s - loss: 1991936700091203584.0000 - root_mean_squared_error: 1411359872.0000"
     ]
    },
    {
     "name": "stderr",
     "output_type": "stream",
     "text": [
      "WARNING:absl:Found untraced functions such as lstm_cell_13_layer_call_fn, lstm_cell_13_layer_call_and_return_conditional_losses while saving (showing 2 of 2). These functions will not be directly callable after loading.\n"
     ]
    },
    {
     "name": "stdout",
     "output_type": "stream",
     "text": [
      "INFO:tensorflow:Assets written to: model4/assets\n"
     ]
    },
    {
     "name": "stderr",
     "output_type": "stream",
     "text": [
      "INFO:tensorflow:Assets written to: model4/assets\n"
     ]
    },
    {
     "name": "stdout",
     "output_type": "stream",
     "text": [
      "1/1 [==============================] - 3s 3s/step - loss: 1991936700091203584.0000 - root_mean_squared_error: 1411359872.0000 - val_loss: 2006342363999371264.0000 - val_root_mean_squared_error: 1416454144.0000\n",
      "Epoch 11/20\n",
      "1/1 [==============================] - ETA: 0s - loss: 1967107665951719424.0000 - root_mean_squared_error: 1402536192.0000"
     ]
    },
    {
     "name": "stderr",
     "output_type": "stream",
     "text": [
      "WARNING:absl:Found untraced functions such as lstm_cell_13_layer_call_fn, lstm_cell_13_layer_call_and_return_conditional_losses while saving (showing 2 of 2). These functions will not be directly callable after loading.\n"
     ]
    },
    {
     "name": "stdout",
     "output_type": "stream",
     "text": [
      "INFO:tensorflow:Assets written to: model4/assets\n"
     ]
    },
    {
     "name": "stderr",
     "output_type": "stream",
     "text": [
      "INFO:tensorflow:Assets written to: model4/assets\n"
     ]
    },
    {
     "name": "stdout",
     "output_type": "stream",
     "text": [
      "1/1 [==============================] - 4s 4s/step - loss: 1967107665951719424.0000 - root_mean_squared_error: 1402536192.0000 - val_loss: 1978098796499828736.0000 - val_root_mean_squared_error: 1406449024.0000\n",
      "Epoch 12/20\n",
      "1/1 [==============================] - ETA: 0s - loss: 1939142824649818112.0000 - root_mean_squared_error: 1392531072.0000"
     ]
    },
    {
     "name": "stderr",
     "output_type": "stream",
     "text": [
      "WARNING:absl:Found untraced functions such as lstm_cell_13_layer_call_fn, lstm_cell_13_layer_call_and_return_conditional_losses while saving (showing 2 of 2). These functions will not be directly callable after loading.\n"
     ]
    },
    {
     "name": "stdout",
     "output_type": "stream",
     "text": [
      "INFO:tensorflow:Assets written to: model4/assets\n"
     ]
    },
    {
     "name": "stderr",
     "output_type": "stream",
     "text": [
      "INFO:tensorflow:Assets written to: model4/assets\n"
     ]
    },
    {
     "name": "stdout",
     "output_type": "stream",
     "text": [
      "1/1 [==============================] - 3s 3s/step - loss: 1939142824649818112.0000 - root_mean_squared_error: 1392531072.0000 - val_loss: 1946632010663460864.0000 - val_root_mean_squared_error: 1395217536.0000\n",
      "Epoch 13/20\n",
      "1/1 [==============================] - ETA: 0s - loss: 1907988987310505984.0000 - root_mean_squared_error: 1381299712.0000"
     ]
    },
    {
     "name": "stderr",
     "output_type": "stream",
     "text": [
      "WARNING:absl:Found untraced functions such as lstm_cell_13_layer_call_fn, lstm_cell_13_layer_call_and_return_conditional_losses while saving (showing 2 of 2). These functions will not be directly callable after loading.\n"
     ]
    },
    {
     "name": "stdout",
     "output_type": "stream",
     "text": [
      "INFO:tensorflow:Assets written to: model4/assets\n"
     ]
    },
    {
     "name": "stderr",
     "output_type": "stream",
     "text": [
      "INFO:tensorflow:Assets written to: model4/assets\n"
     ]
    },
    {
     "name": "stdout",
     "output_type": "stream",
     "text": [
      "1/1 [==============================] - 3s 3s/step - loss: 1907988987310505984.0000 - root_mean_squared_error: 1381299712.0000 - val_loss: 1911901187121086464.0000 - val_root_mean_squared_error: 1382715136.0000\n",
      "Epoch 14/20\n",
      "1/1 [==============================] - ETA: 0s - loss: 1873606296637276160.0000 - root_mean_squared_error: 1368797440.0000"
     ]
    },
    {
     "name": "stderr",
     "output_type": "stream",
     "text": [
      "WARNING:absl:Found untraced functions such as lstm_cell_13_layer_call_fn, lstm_cell_13_layer_call_and_return_conditional_losses while saving (showing 2 of 2). These functions will not be directly callable after loading.\n"
     ]
    },
    {
     "name": "stdout",
     "output_type": "stream",
     "text": [
      "INFO:tensorflow:Assets written to: model4/assets\n"
     ]
    },
    {
     "name": "stderr",
     "output_type": "stream",
     "text": [
      "INFO:tensorflow:Assets written to: model4/assets\n"
     ]
    },
    {
     "name": "stdout",
     "output_type": "stream",
     "text": [
      "1/1 [==============================] - 3s 3s/step - loss: 1873606296637276160.0000 - root_mean_squared_error: 1368797440.0000 - val_loss: 1873881449422127104.0000 - val_root_mean_squared_error: 1368897920.0000\n",
      "Epoch 15/20\n",
      "1/1 [==============================] - ETA: 0s - loss: 1835971800324898816.0000 - root_mean_squared_error: 1354980352.0000"
     ]
    },
    {
     "name": "stderr",
     "output_type": "stream",
     "text": [
      "WARNING:absl:Found untraced functions such as lstm_cell_13_layer_call_fn, lstm_cell_13_layer_call_and_return_conditional_losses while saving (showing 2 of 2). These functions will not be directly callable after loading.\n"
     ]
    },
    {
     "name": "stdout",
     "output_type": "stream",
     "text": [
      "INFO:tensorflow:Assets written to: model4/assets\n"
     ]
    },
    {
     "name": "stderr",
     "output_type": "stream",
     "text": [
      "INFO:tensorflow:Assets written to: model4/assets\n"
     ]
    },
    {
     "name": "stdout",
     "output_type": "stream",
     "text": [
      "1/1 [==============================] - 3s 3s/step - loss: 1835971800324898816.0000 - root_mean_squared_error: 1354980352.0000 - val_loss: 1832566612813676544.0000 - val_root_mean_squared_error: 1353723264.0000\n",
      "Epoch 16/20\n",
      "1/1 [==============================] - ETA: 0s - loss: 1795079725937328128.0000 - root_mean_squared_error: 1339805824.0000"
     ]
    },
    {
     "name": "stderr",
     "output_type": "stream",
     "text": [
      "WARNING:absl:Found untraced functions such as lstm_cell_13_layer_call_fn, lstm_cell_13_layer_call_and_return_conditional_losses while saving (showing 2 of 2). These functions will not be directly callable after loading.\n"
     ]
    },
    {
     "name": "stdout",
     "output_type": "stream",
     "text": [
      "INFO:tensorflow:Assets written to: model4/assets\n"
     ]
    },
    {
     "name": "stderr",
     "output_type": "stream",
     "text": [
      "INFO:tensorflow:Assets written to: model4/assets\n"
     ]
    },
    {
     "name": "stdout",
     "output_type": "stream",
     "text": [
      "1/1 [==============================] - 3s 3s/step - loss: 1795079725937328128.0000 - root_mean_squared_error: 1339805824.0000 - val_loss: 1787968909362593792.0000 - val_root_mean_squared_error: 1337149568.0000\n",
      "Epoch 17/20\n",
      "1/1 [==============================] - ETA: 0s - loss: 1750943679930957824.0000 - root_mean_squared_error: 1323232256.0000"
     ]
    },
    {
     "name": "stderr",
     "output_type": "stream",
     "text": [
      "WARNING:absl:Found untraced functions such as lstm_cell_13_layer_call_fn, lstm_cell_13_layer_call_and_return_conditional_losses while saving (showing 2 of 2). These functions will not be directly callable after loading.\n"
     ]
    },
    {
     "name": "stdout",
     "output_type": "stream",
     "text": [
      "INFO:tensorflow:Assets written to: model4/assets\n"
     ]
    },
    {
     "name": "stderr",
     "output_type": "stream",
     "text": [
      "INFO:tensorflow:Assets written to: model4/assets\n"
     ]
    },
    {
     "name": "stdout",
     "output_type": "stream",
     "text": [
      "1/1 [==============================] - 3s 3s/step - loss: 1750943679930957824.0000 - root_mean_squared_error: 1323232256.0000 - val_loss: 1740121461856665600.0000 - val_root_mean_squared_error: 1319136640.0000\n",
      "Epoch 18/20\n",
      "1/1 [==============================] - ETA: 0s - loss: 1703598159483109376.0000 - root_mean_squared_error: 1305219584.0000"
     ]
    },
    {
     "name": "stderr",
     "output_type": "stream",
     "text": [
      "WARNING:absl:Found untraced functions such as lstm_cell_13_layer_call_fn, lstm_cell_13_layer_call_and_return_conditional_losses while saving (showing 2 of 2). These functions will not be directly callable after loading.\n"
     ]
    },
    {
     "name": "stdout",
     "output_type": "stream",
     "text": [
      "INFO:tensorflow:Assets written to: model4/assets\n"
     ]
    },
    {
     "name": "stderr",
     "output_type": "stream",
     "text": [
      "INFO:tensorflow:Assets written to: model4/assets\n"
     ]
    },
    {
     "name": "stdout",
     "output_type": "stream",
     "text": [
      "1/1 [==============================] - 3s 3s/step - loss: 1703598159483109376.0000 - root_mean_squared_error: 1305219584.0000 - val_loss: 1689079933072048128.0000 - val_root_mean_squared_error: 1299646080.0000\n",
      "Epoch 19/20\n",
      "1/1 [==============================] - ETA: 0s - loss: 1653099652003659776.0000 - root_mean_squared_error: 1285729280.0000"
     ]
    },
    {
     "name": "stderr",
     "output_type": "stream",
     "text": [
      "WARNING:absl:Found untraced functions such as lstm_cell_13_layer_call_fn, lstm_cell_13_layer_call_and_return_conditional_losses while saving (showing 2 of 2). These functions will not be directly callable after loading.\n"
     ]
    },
    {
     "name": "stdout",
     "output_type": "stream",
     "text": [
      "INFO:tensorflow:Assets written to: model4/assets\n"
     ]
    },
    {
     "name": "stderr",
     "output_type": "stream",
     "text": [
      "INFO:tensorflow:Assets written to: model4/assets\n"
     ]
    },
    {
     "name": "stdout",
     "output_type": "stream",
     "text": [
      "1/1 [==============================] - 4s 4s/step - loss: 1653099652003659776.0000 - root_mean_squared_error: 1285729280.0000 - val_loss: 1634924175040708608.0000 - val_root_mean_squared_error: 1278641536.0000\n",
      "Epoch 20/20\n",
      "1/1 [==============================] - ETA: 0s - loss: 1599528971597250560.0000 - root_mean_squared_error: 1264724864.0000"
     ]
    },
    {
     "name": "stderr",
     "output_type": "stream",
     "text": [
      "WARNING:absl:Found untraced functions such as lstm_cell_13_layer_call_fn, lstm_cell_13_layer_call_and_return_conditional_losses while saving (showing 2 of 2). These functions will not be directly callable after loading.\n"
     ]
    },
    {
     "name": "stdout",
     "output_type": "stream",
     "text": [
      "INFO:tensorflow:Assets written to: model4/assets\n"
     ]
    },
    {
     "name": "stderr",
     "output_type": "stream",
     "text": [
      "INFO:tensorflow:Assets written to: model4/assets\n"
     ]
    },
    {
     "name": "stdout",
     "output_type": "stream",
     "text": [
      "1/1 [==============================] - 3s 3s/step - loss: 1599528971597250560.0000 - root_mean_squared_error: 1264724864.0000 - val_loss: 1577759740878913536.0000 - val_root_mean_squared_error: 1256089088.0000\n"
     ]
    },
    {
     "data": {
      "text/plain": [
       "<keras.callbacks.History at 0x7fe250eb7400>"
      ]
     },
     "execution_count": 238,
     "metadata": {},
     "output_type": "execute_result"
    }
   ],
   "source": [
    "model4.fit(X_train2, y_train2, validation_data=(X_val2, y_val2), epochs=20, callbacks=[cp4])"
   ]
  },
  {
   "cell_type": "code",
   "execution_count": 239,
   "metadata": {},
   "outputs": [
    {
     "name": "stdout",
     "output_type": "stream",
     "text": [
      "1/1 [==============================] - 0s 308ms/step\n"
     ]
    },
    {
     "data": {
      "text/html": [
       "<div>\n",
       "<style scoped>\n",
       "    .dataframe tbody tr th:only-of-type {\n",
       "        vertical-align: middle;\n",
       "    }\n",
       "\n",
       "    .dataframe tbody tr th {\n",
       "        vertical-align: top;\n",
       "    }\n",
       "\n",
       "    .dataframe thead th {\n",
       "        text-align: right;\n",
       "    }\n",
       "</style>\n",
       "<table border=\"1\" class=\"dataframe\">\n",
       "  <thead>\n",
       "    <tr style=\"text-align: right;\">\n",
       "      <th></th>\n",
       "      <th>Train Predictions</th>\n",
       "      <th>Actuals</th>\n",
       "    </tr>\n",
       "  </thead>\n",
       "  <tbody>\n",
       "    <tr>\n",
       "      <th>0</th>\n",
       "      <td>203289024.0</td>\n",
       "      <td>1438193000</td>\n",
       "    </tr>\n",
       "    <tr>\n",
       "      <th>1</th>\n",
       "      <td>203289024.0</td>\n",
       "      <td>1445524000</td>\n",
       "    </tr>\n",
       "    <tr>\n",
       "      <th>2</th>\n",
       "      <td>203289024.0</td>\n",
       "      <td>1452626000</td>\n",
       "    </tr>\n",
       "  </tbody>\n",
       "</table>\n",
       "</div>"
      ],
      "text/plain": [
       "   Train Predictions     Actuals\n",
       "0        203289024.0  1438193000\n",
       "1        203289024.0  1445524000\n",
       "2        203289024.0  1452626000"
      ]
     },
     "execution_count": 239,
     "metadata": {},
     "output_type": "execute_result"
    }
   ],
   "source": [
    "model4 = load_model('model4/')\n",
    "train_predictions4 = model4.predict(X_train2).flatten()\n",
    "train_results4 = pd.DataFrame(data={'Train Predictions':train_predictions4, 'Actuals':y_train2})\n",
    "train_results4"
   ]
  },
  {
   "cell_type": "code",
   "execution_count": 240,
   "metadata": {},
   "outputs": [
    {
     "data": {
      "text/plain": [
       "<matplotlib.legend.Legend at 0x7fe25820f7f0>"
      ]
     },
     "execution_count": 240,
     "metadata": {},
     "output_type": "execute_result"
    },
    {
     "data": {
      "image/png": "[encoded data removed]",
      "text/plain": [
       "<Figure size 432x288 with 1 Axes>"
      ]
     },
     "metadata": {
      "needs_background": "light"
     },
     "output_type": "display_data"
    }
   ],
   "source": [
    "plt.plot(train_results4['Train Predictions'])\n",
    "plt.plot(train_results4['Actuals'])\n",
    "plt.legend(['Prediction', 'Actual'], loc='upper left')"
   ]
  },
  {
   "cell_type": "code",
   "execution_count": 241,
   "metadata": {},
   "outputs": [
    {
     "name": "stderr",
     "output_type": "stream",
     "text": [
      "WARNING:absl:Found untraced functions such as lstm_cell_14_layer_call_fn, lstm_cell_14_layer_call_and_return_conditional_losses while saving (showing 2 of 2). These functions will not be directly callable after loading.\n"
     ]
    },
    {
     "name": "stdout",
     "output_type": "stream",
     "text": [
      "INFO:tensorflow:Assets written to: model4/assets\n"
     ]
    },
    {
     "name": "stderr",
     "output_type": "stream",
     "text": [
      "INFO:tensorflow:Assets written to: model4/assets\n",
      "WARNING:absl:Found untraced functions such as lstm_cell_14_layer_call_fn, lstm_cell_14_layer_call_and_return_conditional_losses while saving (showing 2 of 2). These functions will not be directly callable after loading.\n"
     ]
    },
    {
     "name": "stdout",
     "output_type": "stream",
     "text": [
      "INFO:tensorflow:Assets written to: model4/assets\n"
     ]
    },
    {
     "name": "stderr",
     "output_type": "stream",
     "text": [
      "INFO:tensorflow:Assets written to: model4/assets\n",
      "WARNING:absl:Found untraced functions such as lstm_cell_14_layer_call_fn, lstm_cell_14_layer_call_and_return_conditional_losses while saving (showing 2 of 2). These functions will not be directly callable after loading.\n"
     ]
    },
    {
     "name": "stdout",
     "output_type": "stream",
     "text": [
      "INFO:tensorflow:Assets written to: model4/assets\n"
     ]
    },
    {
     "name": "stderr",
     "output_type": "stream",
     "text": [
      "INFO:tensorflow:Assets written to: model4/assets\n",
      "WARNING:absl:Found untraced functions such as lstm_cell_14_layer_call_fn, lstm_cell_14_layer_call_and_return_conditional_losses while saving (showing 2 of 2). These functions will not be directly callable after loading.\n"
     ]
    },
    {
     "name": "stdout",
     "output_type": "stream",
     "text": [
      "INFO:tensorflow:Assets written to: model4/assets\n"
     ]
    },
    {
     "name": "stderr",
     "output_type": "stream",
     "text": [
      "INFO:tensorflow:Assets written to: model4/assets\n",
      "WARNING:absl:Found untraced functions such as lstm_cell_14_layer_call_fn, lstm_cell_14_layer_call_and_return_conditional_losses while saving (showing 2 of 2). These functions will not be directly callable after loading.\n"
     ]
    },
    {
     "name": "stdout",
     "output_type": "stream",
     "text": [
      "INFO:tensorflow:Assets written to: model4/assets\n"
     ]
    },
    {
     "name": "stderr",
     "output_type": "stream",
     "text": [
      "INFO:tensorflow:Assets written to: model4/assets\n",
      "WARNING:absl:Found untraced functions such as lstm_cell_14_layer_call_fn, lstm_cell_14_layer_call_and_return_conditional_losses while saving (showing 2 of 2). These functions will not be directly callable after loading.\n"
     ]
    },
    {
     "name": "stdout",
     "output_type": "stream",
     "text": [
      "INFO:tensorflow:Assets written to: model4/assets\n"
     ]
    },
    {
     "name": "stderr",
     "output_type": "stream",
     "text": [
      "INFO:tensorflow:Assets written to: model4/assets\n",
      "WARNING:absl:Found untraced functions such as lstm_cell_14_layer_call_fn, lstm_cell_14_layer_call_and_return_conditional_losses while saving (showing 2 of 2). These functions will not be directly callable after loading.\n"
     ]
    },
    {
     "name": "stdout",
     "output_type": "stream",
     "text": [
      "INFO:tensorflow:Assets written to: model4/assets\n"
     ]
    },
    {
     "name": "stderr",
     "output_type": "stream",
     "text": [
      "INFO:tensorflow:Assets written to: model4/assets\n",
      "WARNING:absl:Found untraced functions such as lstm_cell_14_layer_call_fn, lstm_cell_14_layer_call_and_return_conditional_losses while saving (showing 2 of 2). These functions will not be directly callable after loading.\n"
     ]
    },
    {
     "name": "stdout",
     "output_type": "stream",
     "text": [
      "INFO:tensorflow:Assets written to: model4/assets\n"
     ]
    },
    {
     "name": "stderr",
     "output_type": "stream",
     "text": [
      "INFO:tensorflow:Assets written to: model4/assets\n",
      "WARNING:absl:Found untraced functions such as lstm_cell_14_layer_call_fn, lstm_cell_14_layer_call_and_return_conditional_losses while saving (showing 2 of 2). These functions will not be directly callable after loading.\n"
     ]
    },
    {
     "name": "stdout",
     "output_type": "stream",
     "text": [
      "INFO:tensorflow:Assets written to: model4/assets\n"
     ]
    },
    {
     "name": "stderr",
     "output_type": "stream",
     "text": [
      "INFO:tensorflow:Assets written to: model4/assets\n",
      "WARNING:absl:Found untraced functions such as lstm_cell_14_layer_call_fn, lstm_cell_14_layer_call_and_return_conditional_losses while saving (showing 2 of 2). These functions will not be directly callable after loading.\n"
     ]
    },
    {
     "name": "stdout",
     "output_type": "stream",
     "text": [
      "INFO:tensorflow:Assets written to: model4/assets\n"
     ]
    },
    {
     "name": "stderr",
     "output_type": "stream",
     "text": [
      "INFO:tensorflow:Assets written to: model4/assets\n",
      "WARNING:absl:Found untraced functions such as lstm_cell_14_layer_call_fn, lstm_cell_14_layer_call_and_return_conditional_losses while saving (showing 2 of 2). These functions will not be directly callable after loading.\n"
     ]
    },
    {
     "name": "stdout",
     "output_type": "stream",
     "text": [
      "INFO:tensorflow:Assets written to: model4/assets\n"
     ]
    },
    {
     "name": "stderr",
     "output_type": "stream",
     "text": [
      "INFO:tensorflow:Assets written to: model4/assets\n",
      "WARNING:absl:Found untraced functions such as lstm_cell_14_layer_call_fn, lstm_cell_14_layer_call_and_return_conditional_losses while saving (showing 2 of 2). These functions will not be directly callable after loading.\n"
     ]
    },
    {
     "name": "stdout",
     "output_type": "stream",
     "text": [
      "INFO:tensorflow:Assets written to: model4/assets\n"
     ]
    },
    {
     "name": "stderr",
     "output_type": "stream",
     "text": [
      "INFO:tensorflow:Assets written to: model4/assets\n",
      "WARNING:absl:Found untraced functions such as lstm_cell_14_layer_call_fn, lstm_cell_14_layer_call_and_return_conditional_losses while saving (showing 2 of 2). These functions will not be directly callable after loading.\n"
     ]
    },
    {
     "name": "stdout",
     "output_type": "stream",
     "text": [
      "INFO:tensorflow:Assets written to: model4/assets\n"
     ]
    },
    {
     "name": "stderr",
     "output_type": "stream",
     "text": [
      "INFO:tensorflow:Assets written to: model4/assets\n",
      "WARNING:absl:Found untraced functions such as lstm_cell_14_layer_call_fn, lstm_cell_14_layer_call_and_return_conditional_losses while saving (showing 2 of 2). These functions will not be directly callable after loading.\n"
     ]
    },
    {
     "name": "stdout",
     "output_type": "stream",
     "text": [
      "INFO:tensorflow:Assets written to: model4/assets\n"
     ]
    },
    {
     "name": "stderr",
     "output_type": "stream",
     "text": [
      "INFO:tensorflow:Assets written to: model4/assets\n",
      "WARNING:absl:Found untraced functions such as lstm_cell_14_layer_call_fn, lstm_cell_14_layer_call_and_return_conditional_losses while saving (showing 2 of 2). These functions will not be directly callable after loading.\n"
     ]
    },
    {
     "name": "stdout",
     "output_type": "stream",
     "text": [
      "INFO:tensorflow:Assets written to: model4/assets\n"
     ]
    },
    {
     "name": "stderr",
     "output_type": "stream",
     "text": [
      "INFO:tensorflow:Assets written to: model4/assets\n",
      "WARNING:absl:Found untraced functions such as lstm_cell_14_layer_call_fn, lstm_cell_14_layer_call_and_return_conditional_losses while saving (showing 2 of 2). These functions will not be directly callable after loading.\n"
     ]
    },
    {
     "name": "stdout",
     "output_type": "stream",
     "text": [
      "INFO:tensorflow:Assets written to: model4/assets\n"
     ]
    },
    {
     "name": "stderr",
     "output_type": "stream",
     "text": [
      "INFO:tensorflow:Assets written to: model4/assets\n",
      "WARNING:absl:Found untraced functions such as lstm_cell_14_layer_call_fn, lstm_cell_14_layer_call_and_return_conditional_losses while saving (showing 2 of 2). These functions will not be directly callable after loading.\n"
     ]
    },
    {
     "name": "stdout",
     "output_type": "stream",
     "text": [
      "INFO:tensorflow:Assets written to: model4/assets\n"
     ]
    },
    {
     "name": "stderr",
     "output_type": "stream",
     "text": [
      "INFO:tensorflow:Assets written to: model4/assets\n",
      "WARNING:absl:Found untraced functions such as lstm_cell_14_layer_call_fn, lstm_cell_14_layer_call_and_return_conditional_losses while saving (showing 2 of 2). These functions will not be directly callable after loading.\n"
     ]
    },
    {
     "name": "stdout",
     "output_type": "stream",
     "text": [
      "INFO:tensorflow:Assets written to: model4/assets\n"
     ]
    },
    {
     "name": "stderr",
     "output_type": "stream",
     "text": [
      "INFO:tensorflow:Assets written to: model4/assets\n",
      "WARNING:absl:Found untraced functions such as lstm_cell_14_layer_call_fn, lstm_cell_14_layer_call_and_return_conditional_losses while saving (showing 2 of 2). These functions will not be directly callable after loading.\n"
     ]
    },
    {
     "name": "stdout",
     "output_type": "stream",
     "text": [
      "INFO:tensorflow:Assets written to: model4/assets\n"
     ]
    },
    {
     "name": "stderr",
     "output_type": "stream",
     "text": [
      "INFO:tensorflow:Assets written to: model4/assets\n",
      "WARNING:absl:Found untraced functions such as lstm_cell_14_layer_call_fn, lstm_cell_14_layer_call_and_return_conditional_losses while saving (showing 2 of 2). These functions will not be directly callable after loading.\n"
     ]
    },
    {
     "name": "stdout",
     "output_type": "stream",
     "text": [
      "INFO:tensorflow:Assets written to: model4/assets\n"
     ]
    },
    {
     "name": "stderr",
     "output_type": "stream",
     "text": [
      "INFO:tensorflow:Assets written to: model4/assets\n",
      "WARNING:absl:Found untraced functions such as lstm_cell_14_layer_call_fn, lstm_cell_14_layer_call_and_return_conditional_losses while saving (showing 2 of 2). These functions will not be directly callable after loading.\n"
     ]
    },
    {
     "name": "stdout",
     "output_type": "stream",
     "text": [
      "INFO:tensorflow:Assets written to: model4/assets\n"
     ]
    },
    {
     "name": "stderr",
     "output_type": "stream",
     "text": [
      "INFO:tensorflow:Assets written to: model4/assets\n",
      "WARNING:absl:Found untraced functions such as lstm_cell_14_layer_call_fn, lstm_cell_14_layer_call_and_return_conditional_losses while saving (showing 2 of 2). These functions will not be directly callable after loading.\n"
     ]
    },
    {
     "name": "stdout",
     "output_type": "stream",
     "text": [
      "INFO:tensorflow:Assets written to: model4/assets\n"
     ]
    },
    {
     "name": "stderr",
     "output_type": "stream",
     "text": [
      "INFO:tensorflow:Assets written to: model4/assets\n",
      "WARNING:absl:Found untraced functions such as lstm_cell_14_layer_call_fn, lstm_cell_14_layer_call_and_return_conditional_losses while saving (showing 2 of 2). These functions will not be directly callable after loading.\n"
     ]
    },
    {
     "name": "stdout",
     "output_type": "stream",
     "text": [
      "INFO:tensorflow:Assets written to: model4/assets\n"
     ]
    },
    {
     "name": "stderr",
     "output_type": "stream",
     "text": [
      "INFO:tensorflow:Assets written to: model4/assets\n",
      "WARNING:absl:Found untraced functions such as lstm_cell_14_layer_call_fn, lstm_cell_14_layer_call_and_return_conditional_losses while saving (showing 2 of 2). These functions will not be directly callable after loading.\n"
     ]
    },
    {
     "name": "stdout",
     "output_type": "stream",
     "text": [
      "INFO:tensorflow:Assets written to: model4/assets\n"
     ]
    },
    {
     "name": "stderr",
     "output_type": "stream",
     "text": [
      "INFO:tensorflow:Assets written to: model4/assets\n",
      "WARNING:absl:Found untraced functions such as lstm_cell_14_layer_call_fn, lstm_cell_14_layer_call_and_return_conditional_losses while saving (showing 2 of 2). These functions will not be directly callable after loading.\n"
     ]
    },
    {
     "name": "stdout",
     "output_type": "stream",
     "text": [
      "INFO:tensorflow:Assets written to: model4/assets\n"
     ]
    },
    {
     "name": "stderr",
     "output_type": "stream",
     "text": [
      "INFO:tensorflow:Assets written to: model4/assets\n",
      "WARNING:absl:Found untraced functions such as lstm_cell_14_layer_call_fn, lstm_cell_14_layer_call_and_return_conditional_losses while saving (showing 2 of 2). These functions will not be directly callable after loading.\n"
     ]
    },
    {
     "name": "stdout",
     "output_type": "stream",
     "text": [
      "INFO:tensorflow:Assets written to: model4/assets\n"
     ]
    },
    {
     "name": "stderr",
     "output_type": "stream",
     "text": [
      "INFO:tensorflow:Assets written to: model4/assets\n",
      "WARNING:absl:Found untraced functions such as lstm_cell_14_layer_call_fn, lstm_cell_14_layer_call_and_return_conditional_losses while saving (showing 2 of 2). These functions will not be directly callable after loading.\n"
     ]
    },
    {
     "name": "stdout",
     "output_type": "stream",
     "text": [
      "INFO:tensorflow:Assets written to: model4/assets\n"
     ]
    },
    {
     "name": "stderr",
     "output_type": "stream",
     "text": [
      "INFO:tensorflow:Assets written to: model4/assets\n",
      "WARNING:absl:Found untraced functions such as lstm_cell_14_layer_call_fn, lstm_cell_14_layer_call_and_return_conditional_losses while saving (showing 2 of 2). These functions will not be directly callable after loading.\n"
     ]
    },
    {
     "name": "stdout",
     "output_type": "stream",
     "text": [
      "INFO:tensorflow:Assets written to: model4/assets\n"
     ]
    },
    {
     "name": "stderr",
     "output_type": "stream",
     "text": [
      "INFO:tensorflow:Assets written to: model4/assets\n",
      "WARNING:absl:Found untraced functions such as lstm_cell_14_layer_call_fn, lstm_cell_14_layer_call_and_return_conditional_losses while saving (showing 2 of 2). These functions will not be directly callable after loading.\n"
     ]
    },
    {
     "name": "stdout",
     "output_type": "stream",
     "text": [
      "INFO:tensorflow:Assets written to: model4/assets\n"
     ]
    },
    {
     "name": "stderr",
     "output_type": "stream",
     "text": [
      "INFO:tensorflow:Assets written to: model4/assets\n",
      "WARNING:absl:Found untraced functions such as lstm_cell_14_layer_call_fn, lstm_cell_14_layer_call_and_return_conditional_losses while saving (showing 2 of 2). These functions will not be directly callable after loading.\n"
     ]
    },
    {
     "name": "stdout",
     "output_type": "stream",
     "text": [
      "INFO:tensorflow:Assets written to: model4/assets\n"
     ]
    },
    {
     "name": "stderr",
     "output_type": "stream",
     "text": [
      "INFO:tensorflow:Assets written to: model4/assets\n",
      "WARNING:absl:Found untraced functions such as lstm_cell_14_layer_call_fn, lstm_cell_14_layer_call_and_return_conditional_losses while saving (showing 2 of 2). These functions will not be directly callable after loading.\n"
     ]
    },
    {
     "name": "stdout",
     "output_type": "stream",
     "text": [
      "INFO:tensorflow:Assets written to: model4/assets\n"
     ]
    },
    {
     "name": "stderr",
     "output_type": "stream",
     "text": [
      "INFO:tensorflow:Assets written to: model4/assets\n",
      "WARNING:absl:Found untraced functions such as lstm_cell_14_layer_call_fn, lstm_cell_14_layer_call_and_return_conditional_losses while saving (showing 2 of 2). These functions will not be directly callable after loading.\n"
     ]
    },
    {
     "name": "stdout",
     "output_type": "stream",
     "text": [
      "INFO:tensorflow:Assets written to: model4/assets\n"
     ]
    },
    {
     "name": "stderr",
     "output_type": "stream",
     "text": [
      "INFO:tensorflow:Assets written to: model4/assets\n",
      "WARNING:absl:Found untraced functions such as lstm_cell_14_layer_call_fn, lstm_cell_14_layer_call_and_return_conditional_losses while saving (showing 2 of 2). These functions will not be directly callable after loading.\n"
     ]
    },
    {
     "name": "stdout",
     "output_type": "stream",
     "text": [
      "INFO:tensorflow:Assets written to: model4/assets\n"
     ]
    },
    {
     "name": "stderr",
     "output_type": "stream",
     "text": [
      "INFO:tensorflow:Assets written to: model4/assets\n",
      "WARNING:absl:Found untraced functions such as lstm_cell_14_layer_call_fn, lstm_cell_14_layer_call_and_return_conditional_losses while saving (showing 2 of 2). These functions will not be directly callable after loading.\n"
     ]
    },
    {
     "name": "stdout",
     "output_type": "stream",
     "text": [
      "INFO:tensorflow:Assets written to: model4/assets\n"
     ]
    },
    {
     "name": "stderr",
     "output_type": "stream",
     "text": [
      "INFO:tensorflow:Assets written to: model4/assets\n",
      "WARNING:absl:Found untraced functions such as lstm_cell_14_layer_call_fn, lstm_cell_14_layer_call_and_return_conditional_losses while saving (showing 2 of 2). These functions will not be directly callable after loading.\n"
     ]
    },
    {
     "name": "stdout",
     "output_type": "stream",
     "text": [
      "INFO:tensorflow:Assets written to: model4/assets\n"
     ]
    },
    {
     "name": "stderr",
     "output_type": "stream",
     "text": [
      "INFO:tensorflow:Assets written to: model4/assets\n",
      "WARNING:absl:Found untraced functions such as lstm_cell_14_layer_call_fn, lstm_cell_14_layer_call_and_return_conditional_losses while saving (showing 2 of 2). These functions will not be directly callable after loading.\n"
     ]
    },
    {
     "name": "stdout",
     "output_type": "stream",
     "text": [
      "INFO:tensorflow:Assets written to: model4/assets\n"
     ]
    },
    {
     "name": "stderr",
     "output_type": "stream",
     "text": [
      "INFO:tensorflow:Assets written to: model4/assets\n",
      "WARNING:absl:Found untraced functions such as lstm_cell_14_layer_call_fn, lstm_cell_14_layer_call_and_return_conditional_losses while saving (showing 2 of 2). These functions will not be directly callable after loading.\n"
     ]
    },
    {
     "name": "stdout",
     "output_type": "stream",
     "text": [
      "INFO:tensorflow:Assets written to: model4/assets\n"
     ]
    },
    {
     "name": "stderr",
     "output_type": "stream",
     "text": [
      "INFO:tensorflow:Assets written to: model4/assets\n"
     ]
    },
    {
     "name": "stdout",
     "output_type": "stream",
     "text": [
      "dict_keys(['loss', 'root_mean_squared_error', 'val_loss', 'val_root_mean_squared_error'])\n"
     ]
    },
    {
     "data": {
      "image/png": "[encoded data removed]",
      "text/plain": [
       "<Figure size 576x432 with 1 Axes>"
      ]
     },
     "metadata": {
      "needs_background": "light"
     },
     "output_type": "display_data"
    }
   ],
   "source": [
    "history = model4.fit(X_train2, y_train2, validation_data=(X_val2, y_val2), epochs=100, callbacks=[cp4], verbose=0)\n",
    "print(history.history.keys())\n",
    "\n",
    "import matplotlib.pylab as plt\n",
    "from matplotlib.pyplot import figure\n",
    "figure(figsize=(8, 6))\n",
    "plt.plot(history.history['loss'])\n",
    "plt.plot(history.history['val_loss'])\n",
    "plt.title('model loss')\n",
    "plt.ylabel('loss')\n",
    "plt.xlabel('epoch')\n",
    "plt.legend(['train', 'test'], loc='upper left')\n",
    "plt.show()"
   ]
  },
  {
   "cell_type": "code",
   "execution_count": 242,
   "metadata": {},
   "outputs": [
    {
     "name": "stdout",
     "output_type": "stream",
     "text": [
      "1/1 [==============================] - 0s 16ms/step\n"
     ]
    },
    {
     "data": {
      "text/html": [
       "<div>\n",
       "<style scoped>\n",
       "    .dataframe tbody tr th:only-of-type {\n",
       "        vertical-align: middle;\n",
       "    }\n",
       "\n",
       "    .dataframe tbody tr th {\n",
       "        vertical-align: top;\n",
       "    }\n",
       "\n",
       "    .dataframe thead th {\n",
       "        text-align: right;\n",
       "    }\n",
       "</style>\n",
       "<table border=\"1\" class=\"dataframe\">\n",
       "  <thead>\n",
       "    <tr style=\"text-align: right;\">\n",
       "      <th></th>\n",
       "      <th>Val Predictions</th>\n",
       "      <th>Actuals</th>\n",
       "    </tr>\n",
       "  </thead>\n",
       "  <tbody>\n",
       "    <tr>\n",
       "      <th>0</th>\n",
       "      <td>1.456134e+09</td>\n",
       "      <td>1459378000</td>\n",
       "    </tr>\n",
       "  </tbody>\n",
       "</table>\n",
       "</div>"
      ],
      "text/plain": [
       "   Val Predictions     Actuals\n",
       "0     1.456134e+09  1459378000"
      ]
     },
     "execution_count": 242,
     "metadata": {},
     "output_type": "execute_result"
    }
   ],
   "source": [
    "val_predictions4 = model4.predict(X_val2).flatten()\n",
    "val_results4 = pd.DataFrame(data={'Val Predictions':val_predictions4, 'Actuals':y_val2})\n",
    "val_results4"
   ]
  },
  {
   "cell_type": "code",
   "execution_count": 243,
   "metadata": {},
   "outputs": [
    {
     "name": "stdout",
     "output_type": "stream",
     "text": [
      "1/1 [==============================] - 0s 16ms/step\n"
     ]
    },
    {
     "data": {
      "text/html": [
       "<div>\n",
       "<style scoped>\n",
       "    .dataframe tbody tr th:only-of-type {\n",
       "        vertical-align: middle;\n",
       "    }\n",
       "\n",
       "    .dataframe tbody tr th {\n",
       "        vertical-align: top;\n",
       "    }\n",
       "\n",
       "    .dataframe thead th {\n",
       "        text-align: right;\n",
       "    }\n",
       "</style>\n",
       "<table border=\"1\" class=\"dataframe\">\n",
       "  <thead>\n",
       "    <tr style=\"text-align: right;\">\n",
       "      <th></th>\n",
       "      <th>Test Predictions</th>\n",
       "      <th>Actuals</th>\n",
       "    </tr>\n",
       "  </thead>\n",
       "  <tbody>\n",
       "    <tr>\n",
       "      <th>0</th>\n",
       "      <td>1.456134e+09</td>\n",
       "      <td>1465634000</td>\n",
       "    </tr>\n",
       "  </tbody>\n",
       "</table>\n",
       "</div>"
      ],
      "text/plain": [
       "   Test Predictions     Actuals\n",
       "0      1.456134e+09  1465634000"
      ]
     },
     "execution_count": 243,
     "metadata": {},
     "output_type": "execute_result"
    }
   ],
   "source": [
    "test_predictions4 = model4.predict(X_test2).flatten()\n",
    "test_results4 = pd.DataFrame(data={'Test Predictions':test_predictions4, 'Actuals':y_test2})\n",
    "test_results4"
   ]
  },
  {
   "cell_type": "markdown",
   "metadata": {},
   "source": [
    "# MODEL 5"
   ]
  },
  {
   "cell_type": "code",
   "execution_count": 244,
   "metadata": {},
   "outputs": [
    {
     "name": "stdout",
     "output_type": "stream",
     "text": [
      "Model: \"sequential_14\"\n",
      "_________________________________________________________________\n",
      " Layer (type)                Output Shape              Param #   \n",
      "=================================================================\n",
      " conv1d_4 (Conv1D)           (None, 4, 64)             320       \n",
      "                                                                 \n",
      " flatten_4 (Flatten)         (None, 256)               0         \n",
      "                                                                 \n",
      " dense_28 (Dense)            (None, 8)                 2056      \n",
      "                                                                 \n",
      " dense_29 (Dense)            (None, 1)                 9         \n",
      "                                                                 \n",
      "=================================================================\n",
      "Total params: 2,385\n",
      "Trainable params: 2,385\n",
      "Non-trainable params: 0\n",
      "_________________________________________________________________\n"
     ]
    }
   ],
   "source": [
    "model5 = Sequential()\n",
    "model5.add(InputLayer((5, 2)))\n",
    "model5.add(Conv1D(64, kernel_size=2))\n",
    "model5.add(Flatten())\n",
    "model5.add(Dense(8, 'relu'))\n",
    "model5.add(Dense(1, 'linear'))\n",
    "\n",
    "model5.summary()"
   ]
  },
  {
   "cell_type": "code",
   "execution_count": 245,
   "metadata": {},
   "outputs": [],
   "source": [
    "cp5 = ModelCheckpoint('model5/', save_best_only=True)\n",
    "model5.compile(loss=MeanSquaredError(), optimizer=Adam(learning_rate=10), metrics=[RootMeanSquaredError()])"
   ]
  },
  {
   "cell_type": "code",
   "execution_count": 246,
   "metadata": {},
   "outputs": [
    {
     "name": "stdout",
     "output_type": "stream",
     "text": [
      "Epoch 1/20\n",
      "1/1 [==============================] - ETA: 0s - loss: 2819886685431529472.0000 - root_mean_squared_error: 1679251840.0000"
     ]
    },
    {
     "name": "stderr",
     "output_type": "stream",
     "text": [
      "WARNING:absl:Found untraced functions such as _jit_compiled_convolution_op while saving (showing 1 of 1). These functions will not be directly callable after loading.\n"
     ]
    },
    {
     "name": "stdout",
     "output_type": "stream",
     "text": [
      "INFO:tensorflow:Assets written to: model5/assets\n"
     ]
    },
    {
     "name": "stderr",
     "output_type": "stream",
     "text": [
      "INFO:tensorflow:Assets written to: model5/assets\n"
     ]
    },
    {
     "name": "stdout",
     "output_type": "stream",
     "text": [
      "1/1 [==============================] - 1s 813ms/step - loss: 2819886685431529472.0000 - root_mean_squared_error: 1679251840.0000 - val_loss: 214065414147523215360.0000 - val_root_mean_squared_error: 14630974464.0000\n",
      "Epoch 2/20\n",
      "1/1 [==============================] - 0s 20ms/step - loss: 209719950680505974784.0000 - root_mean_squared_error: 14481711104.0000 - val_loss: 2469249366293391343616.0000 - val_root_mean_squared_error: 49691541504.0000\n",
      "Epoch 3/20\n",
      "1/1 [==============================] - 0s 21ms/step - loss: 2416633530371845128192.0000 - root_mean_squared_error: 49159266304.0000 - val_loss: nan - val_root_mean_squared_error: nan\n",
      "Epoch 4/20\n",
      "1/1 [==============================] - 0s 20ms/step - loss: nan - root_mean_squared_error: nan - val_loss: nan - val_root_mean_squared_error: nan\n",
      "Epoch 5/20\n",
      "1/1 [==============================] - 0s 21ms/step - loss: nan - root_mean_squared_error: nan - val_loss: nan - val_root_mean_squared_error: nan\n",
      "Epoch 6/20\n",
      "1/1 [==============================] - 0s 21ms/step - loss: nan - root_mean_squared_error: nan - val_loss: nan - val_root_mean_squared_error: nan\n",
      "Epoch 7/20\n",
      "1/1 [==============================] - 0s 20ms/step - loss: nan - root_mean_squared_error: nan - val_loss: nan - val_root_mean_squared_error: nan\n",
      "Epoch 8/20\n",
      "1/1 [==============================] - 0s 21ms/step - loss: nan - root_mean_squared_error: nan - val_loss: nan - val_root_mean_squared_error: nan\n",
      "Epoch 9/20\n",
      "1/1 [==============================] - 0s 20ms/step - loss: nan - root_mean_squared_error: nan - val_loss: nan - val_root_mean_squared_error: nan\n",
      "Epoch 10/20\n",
      "1/1 [==============================] - 0s 21ms/step - loss: nan - root_mean_squared_error: nan - val_loss: nan - val_root_mean_squared_error: nan\n",
      "Epoch 11/20\n",
      "1/1 [==============================] - 0s 21ms/step - loss: nan - root_mean_squared_error: nan - val_loss: nan - val_root_mean_squared_error: nan\n",
      "Epoch 12/20\n",
      "1/1 [==============================] - 0s 20ms/step - loss: nan - root_mean_squared_error: nan - val_loss: nan - val_root_mean_squared_error: nan\n",
      "Epoch 13/20\n",
      "1/1 [==============================] - 0s 21ms/step - loss: nan - root_mean_squared_error: nan - val_loss: nan - val_root_mean_squared_error: nan\n",
      "Epoch 14/20\n",
      "1/1 [==============================] - 0s 21ms/step - loss: nan - root_mean_squared_error: nan - val_loss: nan - val_root_mean_squared_error: nan\n",
      "Epoch 15/20\n",
      "1/1 [==============================] - 0s 20ms/step - loss: nan - root_mean_squared_error: nan - val_loss: nan - val_root_mean_squared_error: nan\n",
      "Epoch 16/20\n",
      "1/1 [==============================] - 0s 21ms/step - loss: nan - root_mean_squared_error: nan - val_loss: nan - val_root_mean_squared_error: nan\n",
      "Epoch 17/20\n",
      "1/1 [==============================] - 0s 21ms/step - loss: nan - root_mean_squared_error: nan - val_loss: nan - val_root_mean_squared_error: nan\n",
      "Epoch 18/20\n",
      "1/1 [==============================] - 0s 21ms/step - loss: nan - root_mean_squared_error: nan - val_loss: nan - val_root_mean_squared_error: nan\n",
      "Epoch 19/20\n",
      "1/1 [==============================] - 0s 20ms/step - loss: nan - root_mean_squared_error: nan - val_loss: nan - val_root_mean_squared_error: nan\n",
      "Epoch 20/20\n",
      "1/1 [==============================] - 0s 21ms/step - loss: nan - root_mean_squared_error: nan - val_loss: nan - val_root_mean_squared_error: nan\n"
     ]
    },
    {
     "data": {
      "text/plain": [
       "<keras.callbacks.History at 0x7fe1d3fefd30>"
      ]
     },
     "execution_count": 246,
     "metadata": {},
     "output_type": "execute_result"
    }
   ],
   "source": [
    "model5.fit(X_train2, y_train2, validation_data=(X_val2, y_val2), epochs=20, callbacks=[cp5])"
   ]
  },
  {
   "cell_type": "code",
   "execution_count": 247,
   "metadata": {},
   "outputs": [
    {
     "name": "stdout",
     "output_type": "stream",
     "text": [
      "1/1 [==============================] - 0s 43ms/step\n"
     ]
    },
    {
     "data": {
      "text/html": [
       "<div>\n",
       "<style scoped>\n",
       "    .dataframe tbody tr th:only-of-type {\n",
       "        vertical-align: middle;\n",
       "    }\n",
       "\n",
       "    .dataframe tbody tr th {\n",
       "        vertical-align: top;\n",
       "    }\n",
       "\n",
       "    .dataframe thead th {\n",
       "        text-align: right;\n",
       "    }\n",
       "</style>\n",
       "<table border=\"1\" class=\"dataframe\">\n",
       "  <thead>\n",
       "    <tr style=\"text-align: right;\">\n",
       "      <th></th>\n",
       "      <th>Train Predictions</th>\n",
       "      <th>Actuals</th>\n",
       "    </tr>\n",
       "  </thead>\n",
       "  <tbody>\n",
       "    <tr>\n",
       "      <th>0</th>\n",
       "      <td>-1.296720e+10</td>\n",
       "      <td>1438193000</td>\n",
       "    </tr>\n",
       "    <tr>\n",
       "      <th>1</th>\n",
       "      <td>-1.303647e+10</td>\n",
       "      <td>1445524000</td>\n",
       "    </tr>\n",
       "    <tr>\n",
       "      <th>2</th>\n",
       "      <td>-1.310473e+10</td>\n",
       "      <td>1452626000</td>\n",
       "    </tr>\n",
       "  </tbody>\n",
       "</table>\n",
       "</div>"
      ],
      "text/plain": [
       "   Train Predictions     Actuals\n",
       "0      -1.296720e+10  1438193000\n",
       "1      -1.303647e+10  1445524000\n",
       "2      -1.310473e+10  1452626000"
      ]
     },
     "execution_count": 247,
     "metadata": {},
     "output_type": "execute_result"
    }
   ],
   "source": [
    "model5 = load_model('model5/')\n",
    "train_predictions5 = model5.predict(X_train2).flatten()\n",
    "train_results5 = pd.DataFrame(data={'Train Predictions':train_predictions5, 'Actuals':y_train2})\n",
    "train_results5"
   ]
  },
  {
   "cell_type": "code",
   "execution_count": 248,
   "metadata": {},
   "outputs": [
    {
     "name": "stdout",
     "output_type": "stream",
     "text": [
      "dict_keys(['loss', 'root_mean_squared_error', 'val_loss', 'val_root_mean_squared_error'])\n"
     ]
    },
    {
     "data": {
      "image/png": "[encoded data removed]",
      "text/plain": [
       "<Figure size 576x432 with 1 Axes>"
      ]
     },
     "metadata": {
      "needs_background": "light"
     },
     "output_type": "display_data"
    }
   ],
   "source": [
    "history = model5.fit(X_train2, y_train2, validation_data=(X_val2, y_val2), epochs=200, callbacks=[cp5], verbose=0)\n",
    "print(history.history.keys())\n",
    "\n",
    "import matplotlib.pylab as plt\n",
    "from matplotlib.pyplot import figure\n",
    "figure(figsize=(8, 6))\n",
    "plt.plot(history.history['loss'])\n",
    "plt.plot(history.history['val_loss'])\n",
    "plt.title('model loss')\n",
    "plt.ylabel('loss')\n",
    "plt.xlabel('epoch')\n",
    "plt.legend(['train', 'test'], loc='upper left')\n",
    "plt.show()"
   ]
  },
  {
   "cell_type": "markdown",
   "metadata": {},
   "source": [
    "# MODEL 6"
   ]
  },
  {
   "cell_type": "code",
   "execution_count": 249,
   "metadata": {},
   "outputs": [
    {
     "name": "stdout",
     "output_type": "stream",
     "text": [
      "Model: \"sequential_15\"\n",
      "_________________________________________________________________\n",
      " Layer (type)                Output Shape              Param #   \n",
      "=================================================================\n",
      " gru_3 (GRU)                 (None, 64)                13056     \n",
      "                                                                 \n",
      " dense_30 (Dense)            (None, 8)                 520       \n",
      "                                                                 \n",
      " dense_31 (Dense)            (None, 1)                 9         \n",
      "                                                                 \n",
      "=================================================================\n",
      "Total params: 13,585\n",
      "Trainable params: 13,585\n",
      "Non-trainable params: 0\n",
      "_________________________________________________________________\n"
     ]
    }
   ],
   "source": [
    "model6 = Sequential()\n",
    "model6.add(InputLayer((5, 2)))\n",
    "model6.add(GRU(64))\n",
    "model6.add(Dense(8, 'relu'))\n",
    "model6.add(Dense(1, 'linear'))\n",
    "model6.summary()"
   ]
  },
  {
   "cell_type": "code",
   "execution_count": 250,
   "metadata": {},
   "outputs": [],
   "source": [
    "cp6 = ModelCheckpoint('model6/', save_best_only=True)\n",
    "model6.compile(loss=MeanSquaredError(), optimizer=Adam(learning_rate=1), metrics=[RootMeanSquaredError()])"
   ]
  },
  {
   "cell_type": "code",
   "execution_count": 251,
   "metadata": {},
   "outputs": [
    {
     "name": "stdout",
     "output_type": "stream",
     "text": [
      "Epoch 1/100\n",
      "1/1 [==============================] - ETA: 0s - loss: 2089353705190064128.0000 - root_mean_squared_error: 1445459712.0000"
     ]
    },
    {
     "name": "stderr",
     "output_type": "stream",
     "text": [
      "WARNING:absl:Found untraced functions such as gru_cell_6_layer_call_fn, gru_cell_6_layer_call_and_return_conditional_losses while saving (showing 2 of 2). These functions will not be directly callable after loading.\n"
     ]
    },
    {
     "name": "stdout",
     "output_type": "stream",
     "text": [
      "INFO:tensorflow:Assets written to: model6/assets\n"
     ]
    },
    {
     "name": "stderr",
     "output_type": "stream",
     "text": [
      "INFO:tensorflow:Assets written to: model6/assets\n"
     ]
    },
    {
     "name": "stdout",
     "output_type": "stream",
     "text": [
      "1/1 [==============================] - 4s 4s/step - loss: 2089353705190064128.0000 - root_mean_squared_error: 1445459712.0000 - val_loss: 2129784259571875840.0000 - val_root_mean_squared_error: 1459378048.0000\n",
      "Epoch 2/100\n",
      "1/1 [==============================] - ETA: 0s - loss: 2089353705190064128.0000 - root_mean_squared_error: 1445459712.0000"
     ]
    },
    {
     "name": "stderr",
     "output_type": "stream",
     "text": [
      "WARNING:absl:Found untraced functions such as gru_cell_6_layer_call_fn, gru_cell_6_layer_call_and_return_conditional_losses while saving (showing 2 of 2). These functions will not be directly callable after loading.\n"
     ]
    },
    {
     "name": "stdout",
     "output_type": "stream",
     "text": [
      "INFO:tensorflow:Assets written to: model6/assets\n"
     ]
    },
    {
     "name": "stderr",
     "output_type": "stream",
     "text": [
      "INFO:tensorflow:Assets written to: model6/assets\n"
     ]
    },
    {
     "name": "stdout",
     "output_type": "stream",
     "text": [
      "1/1 [==============================] - 2s 2s/step - loss: 2089353705190064128.0000 - root_mean_squared_error: 1445459712.0000 - val_loss: 2129783847255015424.0000 - val_root_mean_squared_error: 1459377920.0000\n",
      "Epoch 3/100\n",
      "1/1 [==============================] - ETA: 0s - loss: 2089353430312157184.0000 - root_mean_squared_error: 1445459584.0000"
     ]
    },
    {
     "name": "stderr",
     "output_type": "stream",
     "text": [
      "WARNING:absl:Found untraced functions such as gru_cell_6_layer_call_fn, gru_cell_6_layer_call_and_return_conditional_losses while saving (showing 2 of 2). These functions will not be directly callable after loading.\n"
     ]
    },
    {
     "name": "stdout",
     "output_type": "stream",
     "text": [
      "INFO:tensorflow:Assets written to: model6/assets\n"
     ]
    },
    {
     "name": "stderr",
     "output_type": "stream",
     "text": [
      "INFO:tensorflow:Assets written to: model6/assets\n"
     ]
    },
    {
     "name": "stdout",
     "output_type": "stream",
     "text": [
      "1/1 [==============================] - 2s 2s/step - loss: 2089353430312157184.0000 - root_mean_squared_error: 1445459584.0000 - val_loss: 2129783572377108480.0000 - val_root_mean_squared_error: 1459377792.0000\n",
      "Epoch 4/100\n",
      "1/1 [==============================] - ETA: 0s - loss: 2089353017995296768.0000 - root_mean_squared_error: 1445459456.0000"
     ]
    },
    {
     "name": "stderr",
     "output_type": "stream",
     "text": [
      "WARNING:absl:Found untraced functions such as gru_cell_6_layer_call_fn, gru_cell_6_layer_call_and_return_conditional_losses while saving (showing 2 of 2). These functions will not be directly callable after loading.\n"
     ]
    },
    {
     "name": "stdout",
     "output_type": "stream",
     "text": [
      "INFO:tensorflow:Assets written to: model6/assets\n"
     ]
    },
    {
     "name": "stderr",
     "output_type": "stream",
     "text": [
      "INFO:tensorflow:Assets written to: model6/assets\n"
     ]
    },
    {
     "name": "stdout",
     "output_type": "stream",
     "text": [
      "1/1 [==============================] - 2s 2s/step - loss: 2089353017995296768.0000 - root_mean_squared_error: 1445459456.0000 - val_loss: 2129782747743387648.0000 - val_root_mean_squared_error: 1459377536.0000\n",
      "Epoch 5/100\n",
      "1/1 [==============================] - ETA: 0s - loss: 2089352330800529408.0000 - root_mean_squared_error: 1445459200.0000"
     ]
    },
    {
     "name": "stderr",
     "output_type": "stream",
     "text": [
      "WARNING:absl:Found untraced functions such as gru_cell_6_layer_call_fn, gru_cell_6_layer_call_and_return_conditional_losses while saving (showing 2 of 2). These functions will not be directly callable after loading.\n"
     ]
    },
    {
     "name": "stdout",
     "output_type": "stream",
     "text": [
      "INFO:tensorflow:Assets written to: model6/assets\n"
     ]
    },
    {
     "name": "stderr",
     "output_type": "stream",
     "text": [
      "INFO:tensorflow:Assets written to: model6/assets\n"
     ]
    },
    {
     "name": "stdout",
     "output_type": "stream",
     "text": [
      "1/1 [==============================] - 2s 2s/step - loss: 2089352330800529408.0000 - root_mean_squared_error: 1445459200.0000 - val_loss: 2129782060548620288.0000 - val_root_mean_squared_error: 1459377280.0000\n",
      "Epoch 6/100\n",
      "1/1 [==============================] - ETA: 0s - loss: 2089351506166808576.0000 - root_mean_squared_error: 1445458944.0000"
     ]
    },
    {
     "name": "stderr",
     "output_type": "stream",
     "text": [
      "WARNING:absl:Found untraced functions such as gru_cell_6_layer_call_fn, gru_cell_6_layer_call_and_return_conditional_losses while saving (showing 2 of 2). These functions will not be directly callable after loading.\n"
     ]
    },
    {
     "name": "stdout",
     "output_type": "stream",
     "text": [
      "INFO:tensorflow:Assets written to: model6/assets\n"
     ]
    },
    {
     "name": "stderr",
     "output_type": "stream",
     "text": [
      "INFO:tensorflow:Assets written to: model6/assets\n"
     ]
    },
    {
     "name": "stdout",
     "output_type": "stream",
     "text": [
      "1/1 [==============================] - 2s 2s/step - loss: 2089351506166808576.0000 - root_mean_squared_error: 1445458944.0000 - val_loss: 2129780961036992512.0000 - val_root_mean_squared_error: 1459376896.0000\n",
      "Epoch 7/100\n",
      "1/1 [==============================] - ETA: 0s - loss: 2089350406655180800.0000 - root_mean_squared_error: 1445458560.0000"
     ]
    },
    {
     "name": "stderr",
     "output_type": "stream",
     "text": [
      "WARNING:absl:Found untraced functions such as gru_cell_6_layer_call_fn, gru_cell_6_layer_call_and_return_conditional_losses while saving (showing 2 of 2). These functions will not be directly callable after loading.\n"
     ]
    },
    {
     "name": "stdout",
     "output_type": "stream",
     "text": [
      "INFO:tensorflow:Assets written to: model6/assets\n"
     ]
    },
    {
     "name": "stderr",
     "output_type": "stream",
     "text": [
      "INFO:tensorflow:Assets written to: model6/assets\n"
     ]
    },
    {
     "name": "stdout",
     "output_type": "stream",
     "text": [
      "1/1 [==============================] - 2s 2s/step - loss: 2089350406655180800.0000 - root_mean_squared_error: 1445458560.0000 - val_loss: 2129779861525364736.0000 - val_root_mean_squared_error: 1459376512.0000\n",
      "Epoch 8/100\n",
      "1/1 [==============================] - ETA: 0s - loss: 2089349307143553024.0000 - root_mean_squared_error: 1445458176.0000"
     ]
    },
    {
     "name": "stderr",
     "output_type": "stream",
     "text": [
      "WARNING:absl:Found untraced functions such as gru_cell_6_layer_call_fn, gru_cell_6_layer_call_and_return_conditional_losses while saving (showing 2 of 2). These functions will not be directly callable after loading.\n"
     ]
    },
    {
     "name": "stdout",
     "output_type": "stream",
     "text": [
      "INFO:tensorflow:Assets written to: model6/assets\n"
     ]
    },
    {
     "name": "stderr",
     "output_type": "stream",
     "text": [
      "INFO:tensorflow:Assets written to: model6/assets\n"
     ]
    },
    {
     "name": "stdout",
     "output_type": "stream",
     "text": [
      "1/1 [==============================] - 2s 2s/step - loss: 2089349307143553024.0000 - root_mean_squared_error: 1445458176.0000 - val_loss: 2129778349696876544.0000 - val_root_mean_squared_error: 1459376000.0000\n",
      "Epoch 9/100\n",
      "1/1 [==============================] - ETA: 0s - loss: 2089347657876111360.0000 - root_mean_squared_error: 1445457536.0000"
     ]
    },
    {
     "name": "stderr",
     "output_type": "stream",
     "text": [
      "WARNING:absl:Found untraced functions such as gru_cell_6_layer_call_fn, gru_cell_6_layer_call_and_return_conditional_losses while saving (showing 2 of 2). These functions will not be directly callable after loading.\n"
     ]
    },
    {
     "name": "stdout",
     "output_type": "stream",
     "text": [
      "INFO:tensorflow:Assets written to: model6/assets\n"
     ]
    },
    {
     "name": "stderr",
     "output_type": "stream",
     "text": [
      "INFO:tensorflow:Assets written to: model6/assets\n"
     ]
    },
    {
     "name": "stdout",
     "output_type": "stream",
     "text": [
      "1/1 [==============================] - 4s 4s/step - loss: 2089347657876111360.0000 - root_mean_squared_error: 1445457536.0000 - val_loss: 2129776425551527936.0000 - val_root_mean_squared_error: 1459375360.0000\n",
      "Epoch 10/100\n",
      "1/1 [==============================] - ETA: 0s - loss: 2089345871169716224.0000 - root_mean_squared_error: 1445457024.0000"
     ]
    },
    {
     "name": "stderr",
     "output_type": "stream",
     "text": [
      "WARNING:absl:Found untraced functions such as gru_cell_6_layer_call_fn, gru_cell_6_layer_call_and_return_conditional_losses while saving (showing 2 of 2). These functions will not be directly callable after loading.\n"
     ]
    },
    {
     "name": "stdout",
     "output_type": "stream",
     "text": [
      "INFO:tensorflow:Assets written to: model6/assets\n"
     ]
    },
    {
     "name": "stderr",
     "output_type": "stream",
     "text": [
      "INFO:tensorflow:Assets written to: model6/assets\n"
     ]
    },
    {
     "name": "stdout",
     "output_type": "stream",
     "text": [
      "1/1 [==============================] - 2s 2s/step - loss: 2089345871169716224.0000 - root_mean_squared_error: 1445457024.0000 - val_loss: 2129774638845132800.0000 - val_root_mean_squared_error: 1459374720.0000\n",
      "Epoch 11/100\n",
      "1/1 [==============================] - ETA: 0s - loss: 2089344084463321088.0000 - root_mean_squared_error: 1445456384.0000"
     ]
    },
    {
     "name": "stderr",
     "output_type": "stream",
     "text": [
      "WARNING:absl:Found untraced functions such as gru_cell_6_layer_call_fn, gru_cell_6_layer_call_and_return_conditional_losses while saving (showing 2 of 2). These functions will not be directly callable after loading.\n"
     ]
    },
    {
     "name": "stdout",
     "output_type": "stream",
     "text": [
      "INFO:tensorflow:Assets written to: model6/assets\n"
     ]
    },
    {
     "name": "stderr",
     "output_type": "stream",
     "text": [
      "INFO:tensorflow:Assets written to: model6/assets\n"
     ]
    },
    {
     "name": "stdout",
     "output_type": "stream",
     "text": [
      "1/1 [==============================] - 2s 2s/step - loss: 2089344084463321088.0000 - root_mean_squared_error: 1445456384.0000 - val_loss: 2129772714699784192.0000 - val_root_mean_squared_error: 1459374080.0000\n",
      "Epoch 12/100\n",
      "1/1 [==============================] - ETA: 0s - loss: 2089342160317972480.0000 - root_mean_squared_error: 1445455744.0000"
     ]
    },
    {
     "name": "stderr",
     "output_type": "stream",
     "text": [
      "WARNING:absl:Found untraced functions such as gru_cell_6_layer_call_fn, gru_cell_6_layer_call_and_return_conditional_losses while saving (showing 2 of 2). These functions will not be directly callable after loading.\n"
     ]
    },
    {
     "name": "stdout",
     "output_type": "stream",
     "text": [
      "INFO:tensorflow:Assets written to: model6/assets\n"
     ]
    },
    {
     "name": "stderr",
     "output_type": "stream",
     "text": [
      "INFO:tensorflow:Assets written to: model6/assets\n"
     ]
    },
    {
     "name": "stdout",
     "output_type": "stream",
     "text": [
      "1/1 [==============================] - 2s 2s/step - loss: 2089342160317972480.0000 - root_mean_squared_error: 1445455744.0000 - val_loss: 2129770103359668224.0000 - val_root_mean_squared_error: 1459373184.0000\n",
      "Epoch 13/100\n",
      "1/1 [==============================] - ETA: 0s - loss: 2089339686416809984.0000 - root_mean_squared_error: 1445454848.0000"
     ]
    },
    {
     "name": "stderr",
     "output_type": "stream",
     "text": [
      "WARNING:absl:Found untraced functions such as gru_cell_6_layer_call_fn, gru_cell_6_layer_call_and_return_conditional_losses while saving (showing 2 of 2). These functions will not be directly callable after loading.\n"
     ]
    },
    {
     "name": "stdout",
     "output_type": "stream",
     "text": [
      "INFO:tensorflow:Assets written to: model6/assets\n"
     ]
    },
    {
     "name": "stderr",
     "output_type": "stream",
     "text": [
      "INFO:tensorflow:Assets written to: model6/assets\n"
     ]
    },
    {
     "name": "stdout",
     "output_type": "stream",
     "text": [
      "1/1 [==============================] - 2s 2s/step - loss: 2089339686416809984.0000 - root_mean_squared_error: 1445454848.0000 - val_loss: 2129767492019552256.0000 - val_root_mean_squared_error: 1459372288.0000\n",
      "Epoch 14/100\n",
      "1/1 [==============================] - ETA: 0s - loss: 2089337075076694016.0000 - root_mean_squared_error: 1445453952.0000"
     ]
    },
    {
     "name": "stderr",
     "output_type": "stream",
     "text": [
      "WARNING:absl:Found untraced functions such as gru_cell_6_layer_call_fn, gru_cell_6_layer_call_and_return_conditional_losses while saving (showing 2 of 2). These functions will not be directly callable after loading.\n"
     ]
    },
    {
     "name": "stdout",
     "output_type": "stream",
     "text": [
      "INFO:tensorflow:Assets written to: model6/assets\n"
     ]
    },
    {
     "name": "stderr",
     "output_type": "stream",
     "text": [
      "INFO:tensorflow:Assets written to: model6/assets\n"
     ]
    },
    {
     "name": "stdout",
     "output_type": "stream",
     "text": [
      "1/1 [==============================] - 2s 2s/step - loss: 2089337075076694016.0000 - root_mean_squared_error: 1445453952.0000 - val_loss: 2129764468362575872.0000 - val_root_mean_squared_error: 1459371264.0000\n",
      "Epoch 15/100\n",
      "1/1 [==============================] - ETA: 0s - loss: 2089334188858671104.0000 - root_mean_squared_error: 1445452928.0000"
     ]
    },
    {
     "name": "stderr",
     "output_type": "stream",
     "text": [
      "WARNING:absl:Found untraced functions such as gru_cell_6_layer_call_fn, gru_cell_6_layer_call_and_return_conditional_losses while saving (showing 2 of 2). These functions will not be directly callable after loading.\n"
     ]
    },
    {
     "name": "stdout",
     "output_type": "stream",
     "text": [
      "INFO:tensorflow:Assets written to: model6/assets\n"
     ]
    },
    {
     "name": "stderr",
     "output_type": "stream",
     "text": [
      "INFO:tensorflow:Assets written to: model6/assets\n"
     ]
    },
    {
     "name": "stdout",
     "output_type": "stream",
     "text": [
      "1/1 [==============================] - 2s 2s/step - loss: 2089334188858671104.0000 - root_mean_squared_error: 1445452928.0000 - val_loss: 2129761169827692544.0000 - val_root_mean_squared_error: 1459370112.0000\n",
      "Epoch 16/100\n",
      "1/1 [==============================] - ETA: 0s - loss: 2089330890323787776.0000 - root_mean_squared_error: 1445451776.0000"
     ]
    },
    {
     "name": "stderr",
     "output_type": "stream",
     "text": [
      "WARNING:absl:Found untraced functions such as gru_cell_6_layer_call_fn, gru_cell_6_layer_call_and_return_conditional_losses while saving (showing 2 of 2). These functions will not be directly callable after loading.\n"
     ]
    },
    {
     "name": "stdout",
     "output_type": "stream",
     "text": [
      "INFO:tensorflow:Assets written to: model6/assets\n"
     ]
    },
    {
     "name": "stderr",
     "output_type": "stream",
     "text": [
      "INFO:tensorflow:Assets written to: model6/assets\n"
     ]
    },
    {
     "name": "stdout",
     "output_type": "stream",
     "text": [
      "1/1 [==============================] - 2s 2s/step - loss: 2089330890323787776.0000 - root_mean_squared_error: 1445451776.0000 - val_loss: 2129757733853855744.0000 - val_root_mean_squared_error: 1459368960.0000\n",
      "Epoch 17/100\n",
      "1/1 [==============================] - ETA: 0s - loss: 2089327316910997504.0000 - root_mean_squared_error: 1445450496.0000"
     ]
    },
    {
     "name": "stderr",
     "output_type": "stream",
     "text": [
      "WARNING:absl:Found untraced functions such as gru_cell_6_layer_call_fn, gru_cell_6_layer_call_and_return_conditional_losses while saving (showing 2 of 2). These functions will not be directly callable after loading.\n"
     ]
    },
    {
     "name": "stdout",
     "output_type": "stream",
     "text": [
      "INFO:tensorflow:Assets written to: model6/assets\n"
     ]
    },
    {
     "name": "stderr",
     "output_type": "stream",
     "text": [
      "INFO:tensorflow:Assets written to: model6/assets\n"
     ]
    },
    {
     "name": "stdout",
     "output_type": "stream",
     "text": [
      "1/1 [==============================] - 2s 2s/step - loss: 2089327316910997504.0000 - root_mean_squared_error: 1445450496.0000 - val_loss: 2129754023002112000.0000 - val_root_mean_squared_error: 1459367680.0000\n",
      "Epoch 18/100\n",
      "1/1 [==============================] - ETA: 0s - loss: 2089323880937160704.0000 - root_mean_squared_error: 1445449344.0000"
     ]
    },
    {
     "name": "stderr",
     "output_type": "stream",
     "text": [
      "WARNING:absl:Found untraced functions such as gru_cell_6_layer_call_fn, gru_cell_6_layer_call_and_return_conditional_losses while saving (showing 2 of 2). These functions will not be directly callable after loading.\n"
     ]
    },
    {
     "name": "stdout",
     "output_type": "stream",
     "text": [
      "INFO:tensorflow:Assets written to: model6/assets\n"
     ]
    },
    {
     "name": "stderr",
     "output_type": "stream",
     "text": [
      "INFO:tensorflow:Assets written to: model6/assets\n"
     ]
    },
    {
     "name": "stdout",
     "output_type": "stream",
     "text": [
      "1/1 [==============================] - 4s 4s/step - loss: 2089323880937160704.0000 - root_mean_squared_error: 1445449344.0000 - val_loss: 2129749899833507840.0000 - val_root_mean_squared_error: 1459366272.0000\n",
      "Epoch 19/100\n",
      "1/1 [==============================] - ETA: 0s - loss: 2089319620329603072.0000 - root_mean_squared_error: 1445447936.0000"
     ]
    },
    {
     "name": "stderr",
     "output_type": "stream",
     "text": [
      "WARNING:absl:Found untraced functions such as gru_cell_6_layer_call_fn, gru_cell_6_layer_call_and_return_conditional_losses while saving (showing 2 of 2). These functions will not be directly callable after loading.\n"
     ]
    },
    {
     "name": "stdout",
     "output_type": "stream",
     "text": [
      "INFO:tensorflow:Assets written to: model6/assets\n"
     ]
    },
    {
     "name": "stderr",
     "output_type": "stream",
     "text": [
      "INFO:tensorflow:Assets written to: model6/assets\n"
     ]
    },
    {
     "name": "stdout",
     "output_type": "stream",
     "text": [
      "1/1 [==============================] - 2s 2s/step - loss: 2089319620329603072.0000 - root_mean_squared_error: 1445447936.0000 - val_loss: 2129745364348043264.0000 - val_root_mean_squared_error: 1459364736.0000\n",
      "Epoch 20/100\n",
      "1/1 [==============================] - ETA: 0s - loss: 2089315222283091968.0000 - root_mean_squared_error: 1445446400.0000"
     ]
    },
    {
     "name": "stderr",
     "output_type": "stream",
     "text": [
      "WARNING:absl:Found untraced functions such as gru_cell_6_layer_call_fn, gru_cell_6_layer_call_and_return_conditional_losses while saving (showing 2 of 2). These functions will not be directly callable after loading.\n"
     ]
    },
    {
     "name": "stdout",
     "output_type": "stream",
     "text": [
      "INFO:tensorflow:Assets written to: model6/assets\n"
     ]
    },
    {
     "name": "stderr",
     "output_type": "stream",
     "text": [
      "INFO:tensorflow:Assets written to: model6/assets\n"
     ]
    },
    {
     "name": "stdout",
     "output_type": "stream",
     "text": [
      "1/1 [==============================] - 2s 2s/step - loss: 2089315222283091968.0000 - root_mean_squared_error: 1445446400.0000 - val_loss: 2129740553984671744.0000 - val_root_mean_squared_error: 1459363072.0000\n",
      "Epoch 21/100\n",
      "1/1 [==============================] - ETA: 0s - loss: 2089310549358673920.0000 - root_mean_squared_error: 1445444736.0000"
     ]
    },
    {
     "name": "stderr",
     "output_type": "stream",
     "text": [
      "WARNING:absl:Found untraced functions such as gru_cell_6_layer_call_fn, gru_cell_6_layer_call_and_return_conditional_losses while saving (showing 2 of 2). These functions will not be directly callable after loading.\n"
     ]
    },
    {
     "name": "stdout",
     "output_type": "stream",
     "text": [
      "INFO:tensorflow:Assets written to: model6/assets\n"
     ]
    },
    {
     "name": "stderr",
     "output_type": "stream",
     "text": [
      "INFO:tensorflow:Assets written to: model6/assets\n"
     ]
    },
    {
     "name": "stdout",
     "output_type": "stream",
     "text": [
      "1/1 [==============================] - 2s 2s/step - loss: 2089310549358673920.0000 - root_mean_squared_error: 1445444736.0000 - val_loss: 2129735331304439808.0000 - val_root_mean_squared_error: 1459361280.0000\n",
      "Epoch 22/100\n",
      "1/1 [==============================] - ETA: 0s - loss: 2089305189239488512.0000 - root_mean_squared_error: 1445442944.0000"
     ]
    },
    {
     "name": "stderr",
     "output_type": "stream",
     "text": [
      "WARNING:absl:Found untraced functions such as gru_cell_6_layer_call_fn, gru_cell_6_layer_call_and_return_conditional_losses while saving (showing 2 of 2). These functions will not be directly callable after loading.\n"
     ]
    },
    {
     "name": "stdout",
     "output_type": "stream",
     "text": [
      "INFO:tensorflow:Assets written to: model6/assets\n"
     ]
    },
    {
     "name": "stderr",
     "output_type": "stream",
     "text": [
      "INFO:tensorflow:Assets written to: model6/assets\n"
     ]
    },
    {
     "name": "stdout",
     "output_type": "stream",
     "text": [
      "1/1 [==============================] - 2s 2s/step - loss: 2089305189239488512.0000 - root_mean_squared_error: 1445442944.0000 - val_loss: 2129729696307347456.0000 - val_root_mean_squared_error: 1459359360.0000\n",
      "Epoch 23/100\n",
      "1/1 [==============================] - ETA: 0s - loss: 2089299691681349632.0000 - root_mean_squared_error: 1445441024.0000"
     ]
    },
    {
     "name": "stderr",
     "output_type": "stream",
     "text": [
      "WARNING:absl:Found untraced functions such as gru_cell_6_layer_call_fn, gru_cell_6_layer_call_and_return_conditional_losses while saving (showing 2 of 2). These functions will not be directly callable after loading.\n"
     ]
    },
    {
     "name": "stdout",
     "output_type": "stream",
     "text": [
      "INFO:tensorflow:Assets written to: model6/assets\n"
     ]
    },
    {
     "name": "stderr",
     "output_type": "stream",
     "text": [
      "INFO:tensorflow:Assets written to: model6/assets\n"
     ]
    },
    {
     "name": "stdout",
     "output_type": "stream",
     "text": [
      "1/1 [==============================] - 2s 2s/step - loss: 2089299691681349632.0000 - root_mean_squared_error: 1445441024.0000 - val_loss: 2129724198749208576.0000 - val_root_mean_squared_error: 1459357440.0000\n",
      "Epoch 24/100\n",
      "1/1 [==============================] - ETA: 0s - loss: 2089294194123210752.0000 - root_mean_squared_error: 1445439104.0000"
     ]
    },
    {
     "name": "stderr",
     "output_type": "stream",
     "text": [
      "WARNING:absl:Found untraced functions such as gru_cell_6_layer_call_fn, gru_cell_6_layer_call_and_return_conditional_losses while saving (showing 2 of 2). These functions will not be directly callable after loading.\n"
     ]
    },
    {
     "name": "stdout",
     "output_type": "stream",
     "text": [
      "INFO:tensorflow:Assets written to: model6/assets\n"
     ]
    },
    {
     "name": "stderr",
     "output_type": "stream",
     "text": [
      "INFO:tensorflow:Assets written to: model6/assets\n"
     ]
    },
    {
     "name": "stdout",
     "output_type": "stream",
     "text": [
      "1/1 [==============================] - 2s 2s/step - loss: 2089294194123210752.0000 - root_mean_squared_error: 1445439104.0000 - val_loss: 2129717739118395392.0000 - val_root_mean_squared_error: 1459355264.0000\n",
      "Epoch 25/100\n",
      "1/1 [==============================] - ETA: 0s - loss: 2089288009370304512.0000 - root_mean_squared_error: 1445436928.0000"
     ]
    },
    {
     "name": "stderr",
     "output_type": "stream",
     "text": [
      "WARNING:absl:Found untraced functions such as gru_cell_6_layer_call_fn, gru_cell_6_layer_call_and_return_conditional_losses while saving (showing 2 of 2). These functions will not be directly callable after loading.\n"
     ]
    },
    {
     "name": "stdout",
     "output_type": "stream",
     "text": [
      "INFO:tensorflow:Assets written to: model6/assets\n"
     ]
    },
    {
     "name": "stderr",
     "output_type": "stream",
     "text": [
      "INFO:tensorflow:Assets written to: model6/assets\n"
     ]
    },
    {
     "name": "stdout",
     "output_type": "stream",
     "text": [
      "1/1 [==============================] - 2s 2s/step - loss: 2089288009370304512.0000 - root_mean_squared_error: 1445436928.0000 - val_loss: 2129711416926535680.0000 - val_root_mean_squared_error: 1459353088.0000\n",
      "Epoch 26/100\n",
      "1/1 [==============================] - ETA: 0s - loss: 2089281549739491328.0000 - root_mean_squared_error: 1445434752.0000"
     ]
    },
    {
     "name": "stderr",
     "output_type": "stream",
     "text": [
      "WARNING:absl:Found untraced functions such as gru_cell_6_layer_call_fn, gru_cell_6_layer_call_and_return_conditional_losses while saving (showing 2 of 2). These functions will not be directly callable after loading.\n"
     ]
    },
    {
     "name": "stdout",
     "output_type": "stream",
     "text": [
      "INFO:tensorflow:Assets written to: model6/assets\n"
     ]
    },
    {
     "name": "stderr",
     "output_type": "stream",
     "text": [
      "INFO:tensorflow:Assets written to: model6/assets\n"
     ]
    },
    {
     "name": "stdout",
     "output_type": "stream",
     "text": [
      "1/1 [==============================] - 2s 2s/step - loss: 2089281549739491328.0000 - root_mean_squared_error: 1445434752.0000 - val_loss: 2129704270100955136.0000 - val_root_mean_squared_error: 1459350656.0000\n",
      "Epoch 27/100\n",
      "1/1 [==============================] - ETA: 0s - loss: 2089274402913910784.0000 - root_mean_squared_error: 1445432192.0000"
     ]
    },
    {
     "name": "stderr",
     "output_type": "stream",
     "text": [
      "WARNING:absl:Found untraced functions such as gru_cell_6_layer_call_fn, gru_cell_6_layer_call_and_return_conditional_losses while saving (showing 2 of 2). These functions will not be directly callable after loading.\n"
     ]
    },
    {
     "name": "stdout",
     "output_type": "stream",
     "text": [
      "INFO:tensorflow:Assets written to: model6/assets\n"
     ]
    },
    {
     "name": "stderr",
     "output_type": "stream",
     "text": [
      "INFO:tensorflow:Assets written to: model6/assets\n"
     ]
    },
    {
     "name": "stdout",
     "output_type": "stream",
     "text": [
      "1/1 [==============================] - 4s 4s/step - loss: 2089274402913910784.0000 - root_mean_squared_error: 1445432192.0000 - val_loss: 2129697260714328064.0000 - val_root_mean_squared_error: 1459348224.0000\n",
      "Epoch 28/100\n",
      "1/1 [==============================] - ETA: 0s - loss: 2089267668405190656.0000 - root_mean_squared_error: 1445429888.0000"
     ]
    },
    {
     "name": "stderr",
     "output_type": "stream",
     "text": [
      "WARNING:absl:Found untraced functions such as gru_cell_6_layer_call_fn, gru_cell_6_layer_call_and_return_conditional_losses while saving (showing 2 of 2). These functions will not be directly callable after loading.\n"
     ]
    },
    {
     "name": "stdout",
     "output_type": "stream",
     "text": [
      "INFO:tensorflow:Assets written to: model6/assets\n"
     ]
    },
    {
     "name": "stderr",
     "output_type": "stream",
     "text": [
      "INFO:tensorflow:Assets written to: model6/assets\n"
     ]
    },
    {
     "name": "stdout",
     "output_type": "stream",
     "text": [
      "1/1 [==============================] - 2s 2s/step - loss: 2089267668405190656.0000 - root_mean_squared_error: 1445429888.0000 - val_loss: 2129689426693980160.0000 - val_root_mean_squared_error: 1459345536.0000\n",
      "Epoch 29/100\n",
      "1/1 [==============================] - ETA: 0s - loss: 2089259696945889280.0000 - root_mean_squared_error: 1445427200.0000"
     ]
    },
    {
     "name": "stderr",
     "output_type": "stream",
     "text": [
      "WARNING:absl:Found untraced functions such as gru_cell_6_layer_call_fn, gru_cell_6_layer_call_and_return_conditional_losses while saving (showing 2 of 2). These functions will not be directly callable after loading.\n"
     ]
    },
    {
     "name": "stdout",
     "output_type": "stream",
     "text": [
      "INFO:tensorflow:Assets written to: model6/assets\n"
     ]
    },
    {
     "name": "stderr",
     "output_type": "stream",
     "text": [
      "INFO:tensorflow:Assets written to: model6/assets\n"
     ]
    },
    {
     "name": "stdout",
     "output_type": "stream",
     "text": [
      "1/1 [==============================] - 2s 2s/step - loss: 2089259696945889280.0000 - root_mean_squared_error: 1445427200.0000 - val_loss: 2129681180356771840.0000 - val_root_mean_squared_error: 1459342720.0000\n",
      "Epoch 30/100\n",
      "1/1 [==============================] - ETA: 0s - loss: 2089251725486587904.0000 - root_mean_squared_error: 1445424384.0000"
     ]
    },
    {
     "name": "stderr",
     "output_type": "stream",
     "text": [
      "WARNING:absl:Found untraced functions such as gru_cell_6_layer_call_fn, gru_cell_6_layer_call_and_return_conditional_losses while saving (showing 2 of 2). These functions will not be directly callable after loading.\n"
     ]
    },
    {
     "name": "stdout",
     "output_type": "stream",
     "text": [
      "INFO:tensorflow:Assets written to: model6/assets\n"
     ]
    },
    {
     "name": "stderr",
     "output_type": "stream",
     "text": [
      "INFO:tensorflow:Assets written to: model6/assets\n"
     ]
    },
    {
     "name": "stdout",
     "output_type": "stream",
     "text": [
      "1/1 [==============================] - 2s 2s/step - loss: 2089251725486587904.0000 - root_mean_squared_error: 1445424384.0000 - val_loss: 2129672521702703104.0000 - val_root_mean_squared_error: 1459339776.0000\n",
      "Epoch 31/100\n",
      "1/1 [==============================] - ETA: 0s - loss: 2089243066832519168.0000 - root_mean_squared_error: 1445421440.0000"
     ]
    },
    {
     "name": "stderr",
     "output_type": "stream",
     "text": [
      "WARNING:absl:Found untraced functions such as gru_cell_6_layer_call_fn, gru_cell_6_layer_call_and_return_conditional_losses while saving (showing 2 of 2). These functions will not be directly callable after loading.\n"
     ]
    },
    {
     "name": "stdout",
     "output_type": "stream",
     "text": [
      "INFO:tensorflow:Assets written to: model6/assets\n"
     ]
    },
    {
     "name": "stderr",
     "output_type": "stream",
     "text": [
      "INFO:tensorflow:Assets written to: model6/assets\n"
     ]
    },
    {
     "name": "stdout",
     "output_type": "stream",
     "text": [
      "1/1 [==============================] - 2s 2s/step - loss: 2089243066832519168.0000 - root_mean_squared_error: 1445421440.0000 - val_loss: 2129663588170727424.0000 - val_root_mean_squared_error: 1459336704.0000\n",
      "Epoch 32/100\n",
      "1/1 [==============================] - ETA: 0s - loss: 2089234133300543488.0000 - root_mean_squared_error: 1445418368.0000"
     ]
    },
    {
     "name": "stderr",
     "output_type": "stream",
     "text": [
      "WARNING:absl:Found untraced functions such as gru_cell_6_layer_call_fn, gru_cell_6_layer_call_and_return_conditional_losses while saving (showing 2 of 2). These functions will not be directly callable after loading.\n"
     ]
    },
    {
     "name": "stdout",
     "output_type": "stream",
     "text": [
      "INFO:tensorflow:Assets written to: model6/assets\n"
     ]
    },
    {
     "name": "stderr",
     "output_type": "stream",
     "text": [
      "INFO:tensorflow:Assets written to: model6/assets\n"
     ]
    },
    {
     "name": "stdout",
     "output_type": "stream",
     "text": [
      "1/1 [==============================] - 2s 2s/step - loss: 2089234133300543488.0000 - root_mean_squared_error: 1445418368.0000 - val_loss: 2129654242321891328.0000 - val_root_mean_squared_error: 1459333504.0000\n",
      "Epoch 33/100\n",
      "1/1 [==============================] - ETA: 0s - loss: 2089224924890660864.0000 - root_mean_squared_error: 1445415168.0000"
     ]
    },
    {
     "name": "stderr",
     "output_type": "stream",
     "text": [
      "WARNING:absl:Found untraced functions such as gru_cell_6_layer_call_fn, gru_cell_6_layer_call_and_return_conditional_losses while saving (showing 2 of 2). These functions will not be directly callable after loading.\n"
     ]
    },
    {
     "name": "stdout",
     "output_type": "stream",
     "text": [
      "INFO:tensorflow:Assets written to: model6/assets\n"
     ]
    },
    {
     "name": "stderr",
     "output_type": "stream",
     "text": [
      "INFO:tensorflow:Assets written to: model6/assets\n"
     ]
    },
    {
     "name": "stdout",
     "output_type": "stream",
     "text": [
      "1/1 [==============================] - 2s 2s/step - loss: 2089224924890660864.0000 - root_mean_squared_error: 1445415168.0000 - val_loss: 2129644621595148288.0000 - val_root_mean_squared_error: 1459330176.0000\n",
      "Epoch 34/100\n",
      "1/1 [==============================] - ETA: 0s - loss: 2089215441602871296.0000 - root_mean_squared_error: 1445411840.0000"
     ]
    },
    {
     "name": "stderr",
     "output_type": "stream",
     "text": [
      "WARNING:absl:Found untraced functions such as gru_cell_6_layer_call_fn, gru_cell_6_layer_call_and_return_conditional_losses while saving (showing 2 of 2). These functions will not be directly callable after loading.\n"
     ]
    },
    {
     "name": "stdout",
     "output_type": "stream",
     "text": [
      "INFO:tensorflow:Assets written to: model6/assets\n"
     ]
    },
    {
     "name": "stderr",
     "output_type": "stream",
     "text": [
      "INFO:tensorflow:Assets written to: model6/assets\n"
     ]
    },
    {
     "name": "stdout",
     "output_type": "stream",
     "text": [
      "1/1 [==============================] - 2s 2s/step - loss: 2089215441602871296.0000 - root_mean_squared_error: 1445411840.0000 - val_loss: 2129634451112591360.0000 - val_root_mean_squared_error: 1459326720.0000\n",
      "Epoch 35/100\n",
      "1/1 [==============================] - ETA: 0s - loss: 2089205271120314368.0000 - root_mean_squared_error: 1445408384.0000"
     ]
    },
    {
     "name": "stderr",
     "output_type": "stream",
     "text": [
      "WARNING:absl:Found untraced functions such as gru_cell_6_layer_call_fn, gru_cell_6_layer_call_and_return_conditional_losses while saving (showing 2 of 2). These functions will not be directly callable after loading.\n"
     ]
    },
    {
     "name": "stdout",
     "output_type": "stream",
     "text": [
      "INFO:tensorflow:Assets written to: model6/assets\n"
     ]
    },
    {
     "name": "stderr",
     "output_type": "stream",
     "text": [
      "INFO:tensorflow:Assets written to: model6/assets\n"
     ]
    },
    {
     "name": "stdout",
     "output_type": "stream",
     "text": [
      "1/1 [==============================] - 2s 2s/step - loss: 2089205271120314368.0000 - root_mean_squared_error: 1445408384.0000 - val_loss: 2129623593435267072.0000 - val_root_mean_squared_error: 1459323008.0000\n",
      "Epoch 36/100\n",
      "1/1 [==============================] - ETA: 0s - loss: 2089194688320897024.0000 - root_mean_squared_error: 1445404672.0000"
     ]
    },
    {
     "name": "stderr",
     "output_type": "stream",
     "text": [
      "WARNING:absl:Found untraced functions such as gru_cell_6_layer_call_fn, gru_cell_6_layer_call_and_return_conditional_losses while saving (showing 2 of 2). These functions will not be directly callable after loading.\n"
     ]
    },
    {
     "name": "stdout",
     "output_type": "stream",
     "text": [
      "INFO:tensorflow:Assets written to: model6/assets\n"
     ]
    },
    {
     "name": "stderr",
     "output_type": "stream",
     "text": [
      "INFO:tensorflow:Assets written to: model6/assets\n"
     ]
    },
    {
     "name": "stdout",
     "output_type": "stream",
     "text": [
      "1/1 [==============================] - 2s 2s/step - loss: 2089194688320897024.0000 - root_mean_squared_error: 1445404672.0000 - val_loss: 2129612873196896256.0000 - val_root_mean_squared_error: 1459319296.0000\n",
      "Epoch 37/100\n",
      "1/1 [==============================] - ETA: 0s - loss: 2089183830643572736.0000 - root_mean_squared_error: 1445400960.0000"
     ]
    },
    {
     "name": "stderr",
     "output_type": "stream",
     "text": [
      "WARNING:absl:Found untraced functions such as gru_cell_6_layer_call_fn, gru_cell_6_layer_call_and_return_conditional_losses while saving (showing 2 of 2). These functions will not be directly callable after loading.\n"
     ]
    },
    {
     "name": "stdout",
     "output_type": "stream",
     "text": [
      "INFO:tensorflow:Assets written to: model6/assets\n"
     ]
    },
    {
     "name": "stderr",
     "output_type": "stream",
     "text": [
      "INFO:tensorflow:Assets written to: model6/assets\n"
     ]
    },
    {
     "name": "stdout",
     "output_type": "stream",
     "text": [
      "1/1 [==============================] - 4s 4s/step - loss: 2089183830643572736.0000 - root_mean_squared_error: 1445400960.0000 - val_loss: 2129601190885851136.0000 - val_root_mean_squared_error: 1459315328.0000\n",
      "Epoch 38/100\n",
      "1/1 [==============================] - ETA: 0s - loss: 2089172560649388032.0000 - root_mean_squared_error: 1445396992.0000"
     ]
    },
    {
     "name": "stderr",
     "output_type": "stream",
     "text": [
      "WARNING:absl:Found untraced functions such as gru_cell_6_layer_call_fn, gru_cell_6_layer_call_and_return_conditional_losses while saving (showing 2 of 2). These functions will not be directly callable after loading.\n"
     ]
    },
    {
     "name": "stdout",
     "output_type": "stream",
     "text": [
      "INFO:tensorflow:Assets written to: model6/assets\n"
     ]
    },
    {
     "name": "stderr",
     "output_type": "stream",
     "text": [
      "INFO:tensorflow:Assets written to: model6/assets\n"
     ]
    },
    {
     "name": "stdout",
     "output_type": "stream",
     "text": [
      "1/1 [==============================] - 2s 2s/step - loss: 2089172560649388032.0000 - root_mean_squared_error: 1445396992.0000 - val_loss: 2129588958818992128.0000 - val_root_mean_squared_error: 1459311104.0000\n",
      "Epoch 39/100\n",
      "1/1 [==============================] - ETA: 0s - loss: 2089160191143575552.0000 - root_mean_squared_error: 1445392768.0000"
     ]
    },
    {
     "name": "stderr",
     "output_type": "stream",
     "text": [
      "WARNING:absl:Found untraced functions such as gru_cell_6_layer_call_fn, gru_cell_6_layer_call_and_return_conditional_losses while saving (showing 2 of 2). These functions will not be directly callable after loading.\n"
     ]
    },
    {
     "name": "stdout",
     "output_type": "stream",
     "text": [
      "INFO:tensorflow:Assets written to: model6/assets\n"
     ]
    },
    {
     "name": "stderr",
     "output_type": "stream",
     "text": [
      "INFO:tensorflow:Assets written to: model6/assets\n"
     ]
    },
    {
     "name": "stdout",
     "output_type": "stream",
     "text": [
      "1/1 [==============================] - 3s 3s/step - loss: 2089160191143575552.0000 - root_mean_squared_error: 1445392768.0000 - val_loss: 2129576589313179648.0000 - val_root_mean_squared_error: 1459306880.0000\n",
      "Epoch 40/100\n",
      "1/1 [==============================] - ETA: 0s - loss: 2089147959076716544.0000 - root_mean_squared_error: 1445388544.0000"
     ]
    },
    {
     "name": "stderr",
     "output_type": "stream",
     "text": [
      "WARNING:absl:Found untraced functions such as gru_cell_6_layer_call_fn, gru_cell_6_layer_call_and_return_conditional_losses while saving (showing 2 of 2). These functions will not be directly callable after loading.\n"
     ]
    },
    {
     "name": "stdout",
     "output_type": "stream",
     "text": [
      "INFO:tensorflow:Assets written to: model6/assets\n"
     ]
    },
    {
     "name": "stderr",
     "output_type": "stream",
     "text": [
      "INFO:tensorflow:Assets written to: model6/assets\n"
     ]
    },
    {
     "name": "stdout",
     "output_type": "stream",
     "text": [
      "1/1 [==============================] - 3s 3s/step - loss: 2089147959076716544.0000 - root_mean_squared_error: 1445388544.0000 - val_loss: 2129563532612599808.0000 - val_root_mean_squared_error: 1459302400.0000\n",
      "Epoch 41/100\n",
      "1/1 [==============================] - ETA: 0s - loss: 2089135177254043648.0000 - root_mean_squared_error: 1445384064.0000"
     ]
    },
    {
     "name": "stderr",
     "output_type": "stream",
     "text": [
      "WARNING:absl:Found untraced functions such as gru_cell_6_layer_call_fn, gru_cell_6_layer_call_and_return_conditional_losses while saving (showing 2 of 2). These functions will not be directly callable after loading.\n"
     ]
    },
    {
     "name": "stdout",
     "output_type": "stream",
     "text": [
      "INFO:tensorflow:Assets written to: model6/assets\n"
     ]
    },
    {
     "name": "stderr",
     "output_type": "stream",
     "text": [
      "INFO:tensorflow:Assets written to: model6/assets\n"
     ]
    },
    {
     "name": "stdout",
     "output_type": "stream",
     "text": [
      "1/1 [==============================] - 3s 3s/step - loss: 2089135177254043648.0000 - root_mean_squared_error: 1445384064.0000 - val_loss: 2129550063595159552.0000 - val_root_mean_squared_error: 1459297792.0000\n",
      "Epoch 42/100\n",
      "1/1 [==============================] - ETA: 0s - loss: 2089121708236603392.0000 - root_mean_squared_error: 1445379456.0000"
     ]
    },
    {
     "name": "stderr",
     "output_type": "stream",
     "text": [
      "WARNING:absl:Found untraced functions such as gru_cell_6_layer_call_fn, gru_cell_6_layer_call_and_return_conditional_losses while saving (showing 2 of 2). These functions will not be directly callable after loading.\n"
     ]
    },
    {
     "name": "stdout",
     "output_type": "stream",
     "text": [
      "INFO:tensorflow:Assets written to: model6/assets\n"
     ]
    },
    {
     "name": "stderr",
     "output_type": "stream",
     "text": [
      "INFO:tensorflow:Assets written to: model6/assets\n"
     ]
    },
    {
     "name": "stdout",
     "output_type": "stream",
     "text": [
      "1/1 [==============================] - 3s 3s/step - loss: 2089121708236603392.0000 - root_mean_squared_error: 1445379456.0000 - val_loss: 2129536182260858880.0000 - val_root_mean_squared_error: 1459293056.0000\n",
      "Epoch 43/100\n",
      "1/1 [==============================] - ETA: 0s - loss: 2089107964341256192.0000 - root_mean_squared_error: 1445374720.0000"
     ]
    },
    {
     "name": "stderr",
     "output_type": "stream",
     "text": [
      "WARNING:absl:Found untraced functions such as gru_cell_6_layer_call_fn, gru_cell_6_layer_call_and_return_conditional_losses while saving (showing 2 of 2). These functions will not be directly callable after loading.\n"
     ]
    },
    {
     "name": "stdout",
     "output_type": "stream",
     "text": [
      "INFO:tensorflow:Assets written to: model6/assets\n"
     ]
    },
    {
     "name": "stderr",
     "output_type": "stream",
     "text": [
      "INFO:tensorflow:Assets written to: model6/assets\n"
     ]
    },
    {
     "name": "stdout",
     "output_type": "stream",
     "text": [
      "1/1 [==============================] - 3s 3s/step - loss: 2089107964341256192.0000 - root_mean_squared_error: 1445374720.0000 - val_loss: 2129522026048651264.0000 - val_root_mean_squared_error: 1459288192.0000\n",
      "Epoch 44/100\n",
      "1/1 [==============================] - ETA: 0s - loss: 2089094083006955520.0000 - root_mean_squared_error: 1445369856.0000"
     ]
    },
    {
     "name": "stderr",
     "output_type": "stream",
     "text": [
      "WARNING:absl:Found untraced functions such as gru_cell_6_layer_call_fn, gru_cell_6_layer_call_and_return_conditional_losses while saving (showing 2 of 2). These functions will not be directly callable after loading.\n"
     ]
    },
    {
     "name": "stdout",
     "output_type": "stream",
     "text": [
      "INFO:tensorflow:Assets written to: model6/assets\n"
     ]
    },
    {
     "name": "stderr",
     "output_type": "stream",
     "text": [
      "INFO:tensorflow:Assets written to: model6/assets\n"
     ]
    },
    {
     "name": "stdout",
     "output_type": "stream",
     "text": [
      "1/1 [==============================] - 3s 3s/step - loss: 2089094083006955520.0000 - root_mean_squared_error: 1445369856.0000 - val_loss: 2129507045202722816.0000 - val_root_mean_squared_error: 1459283072.0000\n",
      "Epoch 45/100\n",
      "1/1 [==============================] - ETA: 0s - loss: 2089079102161027072.0000 - root_mean_squared_error: 1445364736.0000"
     ]
    },
    {
     "name": "stderr",
     "output_type": "stream",
     "text": [
      "WARNING:absl:Found untraced functions such as gru_cell_6_layer_call_fn, gru_cell_6_layer_call_and_return_conditional_losses while saving (showing 2 of 2). These functions will not be directly callable after loading.\n"
     ]
    },
    {
     "name": "stdout",
     "output_type": "stream",
     "text": [
      "INFO:tensorflow:Assets written to: model6/assets\n"
     ]
    },
    {
     "name": "stderr",
     "output_type": "stream",
     "text": [
      "INFO:tensorflow:Assets written to: model6/assets\n"
     ]
    },
    {
     "name": "stdout",
     "output_type": "stream",
     "text": [
      "1/1 [==============================] - 3s 3s/step - loss: 2089079102161027072.0000 - root_mean_squared_error: 1445364736.0000 - val_loss: 2129491789478887424.0000 - val_root_mean_squared_error: 1459277824.0000\n",
      "Epoch 46/100\n",
      "1/1 [==============================] - ETA: 0s - loss: 2089063983876145152.0000 - root_mean_squared_error: 1445359488.0000"
     ]
    },
    {
     "name": "stderr",
     "output_type": "stream",
     "text": [
      "WARNING:absl:Found untraced functions such as gru_cell_6_layer_call_fn, gru_cell_6_layer_call_and_return_conditional_losses while saving (showing 2 of 2). These functions will not be directly callable after loading.\n"
     ]
    },
    {
     "name": "stdout",
     "output_type": "stream",
     "text": [
      "INFO:tensorflow:Assets written to: model6/assets\n"
     ]
    },
    {
     "name": "stderr",
     "output_type": "stream",
     "text": [
      "INFO:tensorflow:Assets written to: model6/assets\n"
     ]
    },
    {
     "name": "stdout",
     "output_type": "stream",
     "text": [
      "1/1 [==============================] - 4s 4s/step - loss: 2089063983876145152.0000 - root_mean_squared_error: 1445359488.0000 - val_loss: 2129475709121331200.0000 - val_root_mean_squared_error: 1459272320.0000\n",
      "Epoch 47/100\n",
      "1/1 [==============================] - ETA: 0s - loss: 2089048040957542400.0000 - root_mean_squared_error: 1445353984.0000"
     ]
    },
    {
     "name": "stderr",
     "output_type": "stream",
     "text": [
      "WARNING:absl:Found untraced functions such as gru_cell_6_layer_call_fn, gru_cell_6_layer_call_and_return_conditional_losses while saving (showing 2 of 2). These functions will not be directly callable after loading.\n"
     ]
    },
    {
     "name": "stdout",
     "output_type": "stream",
     "text": [
      "INFO:tensorflow:Assets written to: model6/assets\n"
     ]
    },
    {
     "name": "stderr",
     "output_type": "stream",
     "text": [
      "INFO:tensorflow:Assets written to: model6/assets\n"
     ]
    },
    {
     "name": "stdout",
     "output_type": "stream",
     "text": [
      "1/1 [==============================] - 3s 3s/step - loss: 2089048040957542400.0000 - root_mean_squared_error: 1445353984.0000 - val_loss: 2129459216446914560.0000 - val_root_mean_squared_error: 1459266688.0000\n",
      "Epoch 48/100\n",
      "1/1 [==============================] - ETA: 0s - loss: 2089031823161032704.0000 - root_mean_squared_error: 1445348352.0000"
     ]
    },
    {
     "name": "stderr",
     "output_type": "stream",
     "text": [
      "WARNING:absl:Found untraced functions such as gru_cell_6_layer_call_fn, gru_cell_6_layer_call_and_return_conditional_losses while saving (showing 2 of 2). These functions will not be directly callable after loading.\n"
     ]
    },
    {
     "name": "stdout",
     "output_type": "stream",
     "text": [
      "INFO:tensorflow:Assets written to: model6/assets\n"
     ]
    },
    {
     "name": "stderr",
     "output_type": "stream",
     "text": [
      "INFO:tensorflow:Assets written to: model6/assets\n"
     ]
    },
    {
     "name": "stdout",
     "output_type": "stream",
     "text": [
      "1/1 [==============================] - 2s 2s/step - loss: 2089031823161032704.0000 - root_mean_squared_error: 1445348352.0000 - val_loss: 2129442448894590976.0000 - val_root_mean_squared_error: 1459260928.0000\n",
      "Epoch 49/100\n",
      "1/1 [==============================] - ETA: 0s - loss: 2089015330486616064.0000 - root_mean_squared_error: 1445342592.0000"
     ]
    },
    {
     "name": "stderr",
     "output_type": "stream",
     "text": [
      "WARNING:absl:Found untraced functions such as gru_cell_6_layer_call_fn, gru_cell_6_layer_call_and_return_conditional_losses while saving (showing 2 of 2). These functions will not be directly callable after loading.\n"
     ]
    },
    {
     "name": "stdout",
     "output_type": "stream",
     "text": [
      "INFO:tensorflow:Assets written to: model6/assets\n"
     ]
    },
    {
     "name": "stderr",
     "output_type": "stream",
     "text": [
      "INFO:tensorflow:Assets written to: model6/assets\n"
     ]
    },
    {
     "name": "stdout",
     "output_type": "stream",
     "text": [
      "1/1 [==============================] - 2s 2s/step - loss: 2089015330486616064.0000 - root_mean_squared_error: 1445342592.0000 - val_loss: 2129424856708546560.0000 - val_root_mean_squared_error: 1459254912.0000\n",
      "Epoch 50/100\n",
      "1/1 [==============================] - ETA: 0s - loss: 2088997738300571648.0000 - root_mean_squared_error: 1445336576.0000"
     ]
    },
    {
     "name": "stderr",
     "output_type": "stream",
     "text": [
      "WARNING:absl:Found untraced functions such as gru_cell_6_layer_call_fn, gru_cell_6_layer_call_and_return_conditional_losses while saving (showing 2 of 2). These functions will not be directly callable after loading.\n"
     ]
    },
    {
     "name": "stdout",
     "output_type": "stream",
     "text": [
      "INFO:tensorflow:Assets written to: model6/assets\n"
     ]
    },
    {
     "name": "stderr",
     "output_type": "stream",
     "text": [
      "INFO:tensorflow:Assets written to: model6/assets\n"
     ]
    },
    {
     "name": "stdout",
     "output_type": "stream",
     "text": [
      "1/1 [==============================] - 2s 2s/step - loss: 2088997738300571648.0000 - root_mean_squared_error: 1445336576.0000 - val_loss: 2129406989644595200.0000 - val_root_mean_squared_error: 1459248768.0000\n",
      "Epoch 51/100\n",
      "1/1 [==============================] - ETA: 0s - loss: 2088980146114527232.0000 - root_mean_squared_error: 1445330432.0000"
     ]
    },
    {
     "name": "stderr",
     "output_type": "stream",
     "text": [
      "WARNING:absl:Found untraced functions such as gru_cell_6_layer_call_fn, gru_cell_6_layer_call_and_return_conditional_losses while saving (showing 2 of 2). These functions will not be directly callable after loading.\n"
     ]
    },
    {
     "name": "stdout",
     "output_type": "stream",
     "text": [
      "INFO:tensorflow:Assets written to: model6/assets\n"
     ]
    },
    {
     "name": "stderr",
     "output_type": "stream",
     "text": [
      "INFO:tensorflow:Assets written to: model6/assets\n"
     ]
    },
    {
     "name": "stdout",
     "output_type": "stream",
     "text": [
      "1/1 [==============================] - 2s 2s/step - loss: 2088980146114527232.0000 - root_mean_squared_error: 1445330432.0000 - val_loss: 2129388710263783424.0000 - val_root_mean_squared_error: 1459242496.0000\n",
      "Epoch 52/100\n",
      "1/1 [==============================] - ETA: 0s - loss: 2088961729294761984.0000 - root_mean_squared_error: 1445324032.0000"
     ]
    },
    {
     "name": "stderr",
     "output_type": "stream",
     "text": [
      "WARNING:absl:Found untraced functions such as gru_cell_6_layer_call_fn, gru_cell_6_layer_call_and_return_conditional_losses while saving (showing 2 of 2). These functions will not be directly callable after loading.\n"
     ]
    },
    {
     "name": "stdout",
     "output_type": "stream",
     "text": [
      "INFO:tensorflow:Assets written to: model6/assets\n"
     ]
    },
    {
     "name": "stderr",
     "output_type": "stream",
     "text": [
      "INFO:tensorflow:Assets written to: model6/assets\n"
     ]
    },
    {
     "name": "stdout",
     "output_type": "stream",
     "text": [
      "1/1 [==============================] - 2s 2s/step - loss: 2088961729294761984.0000 - root_mean_squared_error: 1445324032.0000 - val_loss: 2129369606249250816.0000 - val_root_mean_squared_error: 1459235968.0000\n",
      "Epoch 53/100\n",
      "1/1 [==============================] - ETA: 0s - loss: 2088942900158136320.0000 - root_mean_squared_error: 1445317632.0000"
     ]
    },
    {
     "name": "stderr",
     "output_type": "stream",
     "text": [
      "WARNING:absl:Found untraced functions such as gru_cell_6_layer_call_fn, gru_cell_6_layer_call_and_return_conditional_losses while saving (showing 2 of 2). These functions will not be directly callable after loading.\n"
     ]
    },
    {
     "name": "stdout",
     "output_type": "stream",
     "text": [
      "INFO:tensorflow:Assets written to: model6/assets\n"
     ]
    },
    {
     "name": "stderr",
     "output_type": "stream",
     "text": [
      "INFO:tensorflow:Assets written to: model6/assets\n"
     ]
    },
    {
     "name": "stdout",
     "output_type": "stream",
     "text": [
      "1/1 [==============================] - 2s 2s/step - loss: 2088942900158136320.0000 - root_mean_squared_error: 1445317632.0000 - val_loss: 2129350227356811264.0000 - val_root_mean_squared_error: 1459229312.0000\n",
      "Epoch 54/100\n",
      "1/1 [==============================] - ETA: 0s - loss: 2088923658704650240.0000 - root_mean_squared_error: 1445310976.0000"
     ]
    },
    {
     "name": "stderr",
     "output_type": "stream",
     "text": [
      "WARNING:absl:Found untraced functions such as gru_cell_6_layer_call_fn, gru_cell_6_layer_call_and_return_conditional_losses while saving (showing 2 of 2). These functions will not be directly callable after loading.\n"
     ]
    },
    {
     "name": "stdout",
     "output_type": "stream",
     "text": [
      "INFO:tensorflow:Assets written to: model6/assets\n"
     ]
    },
    {
     "name": "stderr",
     "output_type": "stream",
     "text": [
      "INFO:tensorflow:Assets written to: model6/assets\n"
     ]
    },
    {
     "name": "stdout",
     "output_type": "stream",
     "text": [
      "1/1 [==============================] - 2s 2s/step - loss: 2088923658704650240.0000 - root_mean_squared_error: 1445310976.0000 - val_loss: 2129330023830650880.0000 - val_root_mean_squared_error: 1459222400.0000\n",
      "Epoch 55/100\n",
      "1/1 [==============================] - ETA: 0s - loss: 2088903730056396800.0000 - root_mean_squared_error: 1445304064.0000"
     ]
    },
    {
     "name": "stderr",
     "output_type": "stream",
     "text": [
      "WARNING:absl:Found untraced functions such as gru_cell_6_layer_call_fn, gru_cell_6_layer_call_and_return_conditional_losses while saving (showing 2 of 2). These functions will not be directly callable after loading.\n"
     ]
    },
    {
     "name": "stdout",
     "output_type": "stream",
     "text": [
      "INFO:tensorflow:Assets written to: model6/assets\n"
     ]
    },
    {
     "name": "stderr",
     "output_type": "stream",
     "text": [
      "INFO:tensorflow:Assets written to: model6/assets\n"
     ]
    },
    {
     "name": "stdout",
     "output_type": "stream",
     "text": [
      "1/1 [==============================] - 2s 2s/step - loss: 2088903730056396800.0000 - root_mean_squared_error: 1445304064.0000 - val_loss: 2129309407987630080.0000 - val_root_mean_squared_error: 1459215360.0000\n",
      "Epoch 56/100\n",
      "1/1 [==============================] - ETA: 0s - loss: 2088883526530236416.0000 - root_mean_squared_error: 1445297024.0000"
     ]
    },
    {
     "name": "stderr",
     "output_type": "stream",
     "text": [
      "WARNING:absl:Found untraced functions such as gru_cell_6_layer_call_fn, gru_cell_6_layer_call_and_return_conditional_losses while saving (showing 2 of 2). These functions will not be directly callable after loading.\n"
     ]
    },
    {
     "name": "stdout",
     "output_type": "stream",
     "text": [
      "INFO:tensorflow:Assets written to: model6/assets\n"
     ]
    },
    {
     "name": "stderr",
     "output_type": "stream",
     "text": [
      "INFO:tensorflow:Assets written to: model6/assets\n"
     ]
    },
    {
     "name": "stdout",
     "output_type": "stream",
     "text": [
      "1/1 [==============================] - 4s 4s/step - loss: 2088883526530236416.0000 - root_mean_squared_error: 1445297024.0000 - val_loss: 2129288517266702336.0000 - val_root_mean_squared_error: 1459208192.0000\n",
      "Epoch 57/100\n",
      "1/1 [==============================] - ETA: 0s - loss: 2088862635809308672.0000 - root_mean_squared_error: 1445289856.0000"
     ]
    },
    {
     "name": "stderr",
     "output_type": "stream",
     "text": [
      "WARNING:absl:Found untraced functions such as gru_cell_6_layer_call_fn, gru_cell_6_layer_call_and_return_conditional_losses while saving (showing 2 of 2). These functions will not be directly callable after loading.\n"
     ]
    },
    {
     "name": "stdout",
     "output_type": "stream",
     "text": [
      "INFO:tensorflow:Assets written to: model6/assets\n"
     ]
    },
    {
     "name": "stderr",
     "output_type": "stream",
     "text": [
      "INFO:tensorflow:Assets written to: model6/assets\n"
     ]
    },
    {
     "name": "stdout",
     "output_type": "stream",
     "text": [
      "1/1 [==============================] - 2s 2s/step - loss: 2088862635809308672.0000 - root_mean_squared_error: 1445289856.0000 - val_loss: 2129266939351007232.0000 - val_root_mean_squared_error: 1459200768.0000\n",
      "Epoch 58/100\n",
      "1/1 [==============================] - ETA: 0s - loss: 2088841195332567040.0000 - root_mean_squared_error: 1445282432.0000"
     ]
    },
    {
     "name": "stderr",
     "output_type": "stream",
     "text": [
      "WARNING:absl:Found untraced functions such as gru_cell_6_layer_call_fn, gru_cell_6_layer_call_and_return_conditional_losses while saving (showing 2 of 2). These functions will not be directly callable after loading.\n"
     ]
    },
    {
     "name": "stdout",
     "output_type": "stream",
     "text": [
      "INFO:tensorflow:Assets written to: model6/assets\n"
     ]
    },
    {
     "name": "stderr",
     "output_type": "stream",
     "text": [
      "INFO:tensorflow:Assets written to: model6/assets\n"
     ]
    },
    {
     "name": "stdout",
     "output_type": "stream",
     "text": [
      "1/1 [==============================] - 2s 2s/step - loss: 2088841195332567040.0000 - root_mean_squared_error: 1445282432.0000 - val_loss: 2129244399362637824.0000 - val_root_mean_squared_error: 1459193088.0000\n",
      "Epoch 59/100\n",
      "1/1 [==============================] - ETA: 0s - loss: 2088819067661058048.0000 - root_mean_squared_error: 1445274752.0000"
     ]
    },
    {
     "name": "stderr",
     "output_type": "stream",
     "text": [
      "WARNING:absl:Found untraced functions such as gru_cell_6_layer_call_fn, gru_cell_6_layer_call_and_return_conditional_losses while saving (showing 2 of 2). These functions will not be directly callable after loading.\n"
     ]
    },
    {
     "name": "stdout",
     "output_type": "stream",
     "text": [
      "INFO:tensorflow:Assets written to: model6/assets\n"
     ]
    },
    {
     "name": "stderr",
     "output_type": "stream",
     "text": [
      "INFO:tensorflow:Assets written to: model6/assets\n"
     ]
    },
    {
     "name": "stdout",
     "output_type": "stream",
     "text": [
      "1/1 [==============================] - 2s 2s/step - loss: 2088819067661058048.0000 - root_mean_squared_error: 1445274752.0000 - val_loss: 2129221721935314944.0000 - val_root_mean_squared_error: 1459185280.0000\n",
      "Epoch 60/100\n",
      "1/1 [==============================] - ETA: 0s - loss: 2088796527672688640.0000 - root_mean_squared_error: 1445266944.0000"
     ]
    },
    {
     "name": "stderr",
     "output_type": "stream",
     "text": [
      "WARNING:absl:Found untraced functions such as gru_cell_6_layer_call_fn, gru_cell_6_layer_call_and_return_conditional_losses while saving (showing 2 of 2). These functions will not be directly callable after loading.\n"
     ]
    },
    {
     "name": "stdout",
     "output_type": "stream",
     "text": [
      "INFO:tensorflow:Assets written to: model6/assets\n"
     ]
    },
    {
     "name": "stderr",
     "output_type": "stream",
     "text": [
      "INFO:tensorflow:Assets written to: model6/assets\n"
     ]
    },
    {
     "name": "stdout",
     "output_type": "stream",
     "text": [
      "1/1 [==============================] - 2s 2s/step - loss: 2088796527672688640.0000 - root_mean_squared_error: 1445266944.0000 - val_loss: 2129198494752178176.0000 - val_root_mean_squared_error: 1459177344.0000\n",
      "Epoch 61/100\n",
      "1/1 [==============================] - ETA: 0s - loss: 2088773575367458816.0000 - root_mean_squared_error: 1445259008.0000"
     ]
    },
    {
     "name": "stderr",
     "output_type": "stream",
     "text": [
      "WARNING:absl:Found untraced functions such as gru_cell_6_layer_call_fn, gru_cell_6_layer_call_and_return_conditional_losses while saving (showing 2 of 2). These functions will not be directly callable after loading.\n"
     ]
    },
    {
     "name": "stdout",
     "output_type": "stream",
     "text": [
      "INFO:tensorflow:Assets written to: model6/assets\n"
     ]
    },
    {
     "name": "stderr",
     "output_type": "stream",
     "text": [
      "INFO:tensorflow:Assets written to: model6/assets\n"
     ]
    },
    {
     "name": "stdout",
     "output_type": "stream",
     "text": [
      "1/1 [==============================] - 3s 3s/step - loss: 2088773575367458816.0000 - root_mean_squared_error: 1445259008.0000 - val_loss: 2129174580374274048.0000 - val_root_mean_squared_error: 1459169152.0000\n",
      "Epoch 62/100\n",
      "1/1 [==============================] - ETA: 0s - loss: 2088749935867461632.0000 - root_mean_squared_error: 1445250816.0000"
     ]
    },
    {
     "name": "stderr",
     "output_type": "stream",
     "text": [
      "WARNING:absl:Found untraced functions such as gru_cell_6_layer_call_fn, gru_cell_6_layer_call_and_return_conditional_losses while saving (showing 2 of 2). These functions will not be directly callable after loading.\n"
     ]
    },
    {
     "name": "stdout",
     "output_type": "stream",
     "text": [
      "INFO:tensorflow:Assets written to: model6/assets\n"
     ]
    },
    {
     "name": "stderr",
     "output_type": "stream",
     "text": [
      "INFO:tensorflow:Assets written to: model6/assets\n"
     ]
    },
    {
     "name": "stdout",
     "output_type": "stream",
     "text": [
      "1/1 [==============================] - 2s 2s/step - loss: 2088749935867461632.0000 - root_mean_squared_error: 1445250816.0000 - val_loss: 2129150391118462976.0000 - val_root_mean_squared_error: 1459160832.0000\n",
      "Epoch 63/100\n",
      "1/1 [==============================] - ETA: 0s - loss: 2088725746611650560.0000 - root_mean_squared_error: 1445242496.0000"
     ]
    },
    {
     "name": "stderr",
     "output_type": "stream",
     "text": [
      "WARNING:absl:Found untraced functions such as gru_cell_6_layer_call_fn, gru_cell_6_layer_call_and_return_conditional_losses while saving (showing 2 of 2). These functions will not be directly callable after loading.\n"
     ]
    },
    {
     "name": "stdout",
     "output_type": "stream",
     "text": [
      "INFO:tensorflow:Assets written to: model6/assets\n"
     ]
    },
    {
     "name": "stderr",
     "output_type": "stream",
     "text": [
      "INFO:tensorflow:Assets written to: model6/assets\n"
     ]
    },
    {
     "name": "stdout",
     "output_type": "stream",
     "text": [
      "1/1 [==============================] - 2s 2s/step - loss: 2088725746611650560.0000 - root_mean_squared_error: 1445242496.0000 - val_loss: 2129125239789977600.0000 - val_root_mean_squared_error: 1459152256.0000\n",
      "Epoch 64/100\n",
      "1/1 [==============================] - ETA: 0s - loss: 2088701007600025600.0000 - root_mean_squared_error: 1445233920.0000"
     ]
    },
    {
     "name": "stderr",
     "output_type": "stream",
     "text": [
      "WARNING:absl:Found untraced functions such as gru_cell_6_layer_call_fn, gru_cell_6_layer_call_and_return_conditional_losses while saving (showing 2 of 2). These functions will not be directly callable after loading.\n"
     ]
    },
    {
     "name": "stdout",
     "output_type": "stream",
     "text": [
      "INFO:tensorflow:Assets written to: model6/assets\n"
     ]
    },
    {
     "name": "stderr",
     "output_type": "stream",
     "text": [
      "INFO:tensorflow:Assets written to: model6/assets\n"
     ]
    },
    {
     "name": "stdout",
     "output_type": "stream",
     "text": [
      "1/1 [==============================] - 2s 2s/step - loss: 2088701007600025600.0000 - root_mean_squared_error: 1445233920.0000 - val_loss: 2129099951022538752.0000 - val_root_mean_squared_error: 1459143552.0000\n",
      "Epoch 65/100\n",
      "1/1 [==============================] - ETA: 0s - loss: 2088675856271540224.0000 - root_mean_squared_error: 1445225216.0000"
     ]
    },
    {
     "name": "stderr",
     "output_type": "stream",
     "text": [
      "WARNING:absl:Found untraced functions such as gru_cell_6_layer_call_fn, gru_cell_6_layer_call_and_return_conditional_losses while saving (showing 2 of 2). These functions will not be directly callable after loading.\n"
     ]
    },
    {
     "name": "stdout",
     "output_type": "stream",
     "text": [
      "INFO:tensorflow:Assets written to: model6/assets\n"
     ]
    },
    {
     "name": "stderr",
     "output_type": "stream",
     "text": [
      "INFO:tensorflow:Assets written to: model6/assets\n"
     ]
    },
    {
     "name": "stdout",
     "output_type": "stream",
     "text": [
      "1/1 [==============================] - 4s 4s/step - loss: 2088675856271540224.0000 - root_mean_squared_error: 1445225216.0000 - val_loss: 2129073700182425600.0000 - val_root_mean_squared_error: 1459134592.0000\n",
      "Epoch 66/100\n",
      "1/1 [==============================] - ETA: 0s - loss: 2088649880309334016.0000 - root_mean_squared_error: 1445216256.0000"
     ]
    },
    {
     "name": "stderr",
     "output_type": "stream",
     "text": [
      "WARNING:absl:Found untraced functions such as gru_cell_6_layer_call_fn, gru_cell_6_layer_call_and_return_conditional_losses while saving (showing 2 of 2). These functions will not be directly callable after loading.\n"
     ]
    },
    {
     "name": "stdout",
     "output_type": "stream",
     "text": [
      "INFO:tensorflow:Assets written to: model6/assets\n"
     ]
    },
    {
     "name": "stderr",
     "output_type": "stream",
     "text": [
      "INFO:tensorflow:Assets written to: model6/assets\n"
     ]
    },
    {
     "name": "stdout",
     "output_type": "stream",
     "text": [
      "1/1 [==============================] - 2s 2s/step - loss: 2088649880309334016.0000 - root_mean_squared_error: 1445216256.0000 - val_loss: 2129047174464405504.0000 - val_root_mean_squared_error: 1459125504.0000\n",
      "Epoch 67/100\n",
      "1/1 [==============================] - ETA: 0s - loss: 2088623629469220864.0000 - root_mean_squared_error: 1445207168.0000"
     ]
    },
    {
     "name": "stderr",
     "output_type": "stream",
     "text": [
      "WARNING:absl:Found untraced functions such as gru_cell_6_layer_call_fn, gru_cell_6_layer_call_and_return_conditional_losses while saving (showing 2 of 2). These functions will not be directly callable after loading.\n"
     ]
    },
    {
     "name": "stdout",
     "output_type": "stream",
     "text": [
      "INFO:tensorflow:Assets written to: model6/assets\n"
     ]
    },
    {
     "name": "stderr",
     "output_type": "stream",
     "text": [
      "INFO:tensorflow:Assets written to: model6/assets\n"
     ]
    },
    {
     "name": "stdout",
     "output_type": "stream",
     "text": [
      "1/1 [==============================] - 2s 2s/step - loss: 2088623629469220864.0000 - root_mean_squared_error: 1445207168.0000 - val_loss: 2129019961551618048.0000 - val_root_mean_squared_error: 1459116160.0000\n",
      "Epoch 68/100\n",
      "1/1 [==============================] - ETA: 0s - loss: 2088596691434340352.0000 - root_mean_squared_error: 1445197824.0000"
     ]
    },
    {
     "name": "stderr",
     "output_type": "stream",
     "text": [
      "WARNING:absl:Found untraced functions such as gru_cell_6_layer_call_fn, gru_cell_6_layer_call_and_return_conditional_losses while saving (showing 2 of 2). These functions will not be directly callable after loading.\n"
     ]
    },
    {
     "name": "stdout",
     "output_type": "stream",
     "text": [
      "INFO:tensorflow:Assets written to: model6/assets\n"
     ]
    },
    {
     "name": "stderr",
     "output_type": "stream",
     "text": [
      "INFO:tensorflow:Assets written to: model6/assets\n"
     ]
    },
    {
     "name": "stdout",
     "output_type": "stream",
     "text": [
      "1/1 [==============================] - 2s 2s/step - loss: 2088596691434340352.0000 - root_mean_squared_error: 1445197824.0000 - val_loss: 2128992336321970176.0000 - val_root_mean_squared_error: 1459106688.0000\n",
      "Epoch 69/100\n",
      "1/1 [==============================] - ETA: 0s - loss: 2088569203643645952.0000 - root_mean_squared_error: 1445188352.0000"
     ]
    },
    {
     "name": "stderr",
     "output_type": "stream",
     "text": [
      "WARNING:absl:Found untraced functions such as gru_cell_6_layer_call_fn, gru_cell_6_layer_call_and_return_conditional_losses while saving (showing 2 of 2). These functions will not be directly callable after loading.\n"
     ]
    },
    {
     "name": "stdout",
     "output_type": "stream",
     "text": [
      "INFO:tensorflow:Assets written to: model6/assets\n"
     ]
    },
    {
     "name": "stderr",
     "output_type": "stream",
     "text": [
      "INFO:tensorflow:Assets written to: model6/assets\n"
     ]
    },
    {
     "name": "stdout",
     "output_type": "stream",
     "text": [
      "1/1 [==============================] - 2s 2s/step - loss: 2088569203643645952.0000 - root_mean_squared_error: 1445188352.0000 - val_loss: 2128963886458601472.0000 - val_root_mean_squared_error: 1459096960.0000\n",
      "Epoch 70/100\n",
      "1/1 [==============================] - ETA: 0s - loss: 2088541166097137664.0000 - root_mean_squared_error: 1445178624.0000"
     ]
    },
    {
     "name": "stderr",
     "output_type": "stream",
     "text": [
      "WARNING:absl:Found untraced functions such as gru_cell_6_layer_call_fn, gru_cell_6_layer_call_and_return_conditional_losses while saving (showing 2 of 2). These functions will not be directly callable after loading.\n"
     ]
    },
    {
     "name": "stdout",
     "output_type": "stream",
     "text": [
      "INFO:tensorflow:Assets written to: model6/assets\n"
     ]
    },
    {
     "name": "stderr",
     "output_type": "stream",
     "text": [
      "INFO:tensorflow:Assets written to: model6/assets\n"
     ]
    },
    {
     "name": "stdout",
     "output_type": "stream",
     "text": [
      "1/1 [==============================] - 2s 2s/step - loss: 2088541166097137664.0000 - root_mean_squared_error: 1445178624.0000 - val_loss: 2128935161717325824.0000 - val_root_mean_squared_error: 1459087104.0000\n",
      "Epoch 71/100\n",
      "1/1 [==============================] - ETA: 0s - loss: 2088512853672722432.0000 - root_mean_squared_error: 1445168768.0000"
     ]
    },
    {
     "name": "stderr",
     "output_type": "stream",
     "text": [
      "WARNING:absl:Found untraced functions such as gru_cell_6_layer_call_fn, gru_cell_6_layer_call_and_return_conditional_losses while saving (showing 2 of 2). These functions will not be directly callable after loading.\n"
     ]
    },
    {
     "name": "stdout",
     "output_type": "stream",
     "text": [
      "INFO:tensorflow:Assets written to: model6/assets\n"
     ]
    },
    {
     "name": "stderr",
     "output_type": "stream",
     "text": [
      "INFO:tensorflow:Assets written to: model6/assets\n"
     ]
    },
    {
     "name": "stdout",
     "output_type": "stream",
     "text": [
      "1/1 [==============================] - 2s 2s/step - loss: 2088512853672722432.0000 - root_mean_squared_error: 1445168768.0000 - val_loss: 2128905612342329344.0000 - val_root_mean_squared_error: 1459076992.0000\n",
      "Epoch 72/100\n",
      "1/1 [==============================] - ETA: 0s - loss: 2088483441736679424.0000 - root_mean_squared_error: 1445158656.0000"
     ]
    },
    {
     "name": "stderr",
     "output_type": "stream",
     "text": [
      "WARNING:absl:Found untraced functions such as gru_cell_6_layer_call_fn, gru_cell_6_layer_call_and_return_conditional_losses while saving (showing 2 of 2). These functions will not be directly callable after loading.\n"
     ]
    },
    {
     "name": "stdout",
     "output_type": "stream",
     "text": [
      "INFO:tensorflow:Assets written to: model6/assets\n"
     ]
    },
    {
     "name": "stderr",
     "output_type": "stream",
     "text": [
      "INFO:tensorflow:Assets written to: model6/assets\n"
     ]
    },
    {
     "name": "stdout",
     "output_type": "stream",
     "text": [
      "1/1 [==============================] - 2s 2s/step - loss: 2088483441736679424.0000 - root_mean_squared_error: 1445158656.0000 - val_loss: 2128875788089425920.0000 - val_root_mean_squared_error: 1459066752.0000\n",
      "Epoch 73/100\n",
      "1/1 [==============================] - ETA: 0s - loss: 2088453754922729472.0000 - root_mean_squared_error: 1445148288.0000"
     ]
    },
    {
     "name": "stderr",
     "output_type": "stream",
     "text": [
      "WARNING:absl:Found untraced functions such as gru_cell_6_layer_call_fn, gru_cell_6_layer_call_and_return_conditional_losses while saving (showing 2 of 2). These functions will not be directly callable after loading.\n"
     ]
    },
    {
     "name": "stdout",
     "output_type": "stream",
     "text": [
      "INFO:tensorflow:Assets written to: model6/assets\n"
     ]
    },
    {
     "name": "stderr",
     "output_type": "stream",
     "text": [
      "INFO:tensorflow:Assets written to: model6/assets\n"
     ]
    },
    {
     "name": "stdout",
     "output_type": "stream",
     "text": [
      "1/1 [==============================] - 2s 2s/step - loss: 2088453754922729472.0000 - root_mean_squared_error: 1445148288.0000 - val_loss: 2128845139202801664.0000 - val_root_mean_squared_error: 1459056256.0000\n",
      "Epoch 74/100\n",
      "1/1 [==============================] - ETA: 0s - loss: 2088423518352965632.0000 - root_mean_squared_error: 1445137920.0000"
     ]
    },
    {
     "name": "stderr",
     "output_type": "stream",
     "text": [
      "WARNING:absl:Found untraced functions such as gru_cell_6_layer_call_fn, gru_cell_6_layer_call_and_return_conditional_losses while saving (showing 2 of 2). These functions will not be directly callable after loading.\n"
     ]
    },
    {
     "name": "stdout",
     "output_type": "stream",
     "text": [
      "INFO:tensorflow:Assets written to: model6/assets\n"
     ]
    },
    {
     "name": "stderr",
     "output_type": "stream",
     "text": [
      "INFO:tensorflow:Assets written to: model6/assets\n"
     ]
    },
    {
     "name": "stdout",
     "output_type": "stream",
     "text": [
      "1/1 [==============================] - 2s 2s/step - loss: 2088423518352965632.0000 - root_mean_squared_error: 1445137920.0000 - val_loss: 2128813803121410048.0000 - val_root_mean_squared_error: 1459045504.0000\n",
      "Epoch 75/100\n",
      "1/1 [==============================] - ETA: 0s - loss: 2088392457149480960.0000 - root_mean_squared_error: 1445127168.0000"
     ]
    },
    {
     "name": "stderr",
     "output_type": "stream",
     "text": [
      "WARNING:absl:Found untraced functions such as gru_cell_6_layer_call_fn, gru_cell_6_layer_call_and_return_conditional_losses while saving (showing 2 of 2). These functions will not be directly callable after loading.\n"
     ]
    },
    {
     "name": "stdout",
     "output_type": "stream",
     "text": [
      "INFO:tensorflow:Assets written to: model6/assets\n"
     ]
    },
    {
     "name": "stderr",
     "output_type": "stream",
     "text": [
      "INFO:tensorflow:Assets written to: model6/assets\n"
     ]
    },
    {
     "name": "stdout",
     "output_type": "stream",
     "text": [
      "1/1 [==============================] - 4s 4s/step - loss: 2088392457149480960.0000 - root_mean_squared_error: 1445127168.0000 - val_loss: 2128782467040018432.0000 - val_root_mean_squared_error: 1459034752.0000\n",
      "Epoch 76/100\n",
      "1/1 [==============================] - ETA: 0s - loss: 2088361395945996288.0000 - root_mean_squared_error: 1445116416.0000"
     ]
    },
    {
     "name": "stderr",
     "output_type": "stream",
     "text": [
      "WARNING:absl:Found untraced functions such as gru_cell_6_layer_call_fn, gru_cell_6_layer_call_and_return_conditional_losses while saving (showing 2 of 2). These functions will not be directly callable after loading.\n"
     ]
    },
    {
     "name": "stdout",
     "output_type": "stream",
     "text": [
      "INFO:tensorflow:Assets written to: model6/assets\n"
     ]
    },
    {
     "name": "stderr",
     "output_type": "stream",
     "text": [
      "INFO:tensorflow:Assets written to: model6/assets\n"
     ]
    },
    {
     "name": "stdout",
     "output_type": "stream",
     "text": [
      "1/1 [==============================] - 2s 2s/step - loss: 2088361395945996288.0000 - root_mean_squared_error: 1445116416.0000 - val_loss: 2128749894008045568.0000 - val_root_mean_squared_error: 1459023616.0000\n",
      "Epoch 77/100\n",
      "1/1 [==============================] - ETA: 0s - loss: 2088329235230883840.0000 - root_mean_squared_error: 1445105280.0000"
     ]
    },
    {
     "name": "stderr",
     "output_type": "stream",
     "text": [
      "WARNING:absl:Found untraced functions such as gru_cell_6_layer_call_fn, gru_cell_6_layer_call_and_return_conditional_losses while saving (showing 2 of 2). These functions will not be directly callable after loading.\n"
     ]
    },
    {
     "name": "stdout",
     "output_type": "stream",
     "text": [
      "INFO:tensorflow:Assets written to: model6/assets\n"
     ]
    },
    {
     "name": "stderr",
     "output_type": "stream",
     "text": [
      "INFO:tensorflow:Assets written to: model6/assets\n"
     ]
    },
    {
     "name": "stdout",
     "output_type": "stream",
     "text": [
      "1/1 [==============================] - 2s 2s/step - loss: 2088329235230883840.0000 - root_mean_squared_error: 1445105280.0000 - val_loss: 2128717046098165760.0000 - val_root_mean_squared_error: 1459012352.0000\n",
      "Epoch 78/100\n",
      "1/1 [==============================] - ETA: 0s - loss: 2088296524759957504.0000 - root_mean_squared_error: 1445093888.0000"
     ]
    },
    {
     "name": "stderr",
     "output_type": "stream",
     "text": [
      "WARNING:absl:Found untraced functions such as gru_cell_6_layer_call_fn, gru_cell_6_layer_call_and_return_conditional_losses while saving (showing 2 of 2). These functions will not be directly callable after loading.\n"
     ]
    },
    {
     "name": "stdout",
     "output_type": "stream",
     "text": [
      "INFO:tensorflow:Assets written to: model6/assets\n"
     ]
    },
    {
     "name": "stderr",
     "output_type": "stream",
     "text": [
      "INFO:tensorflow:Assets written to: model6/assets\n"
     ]
    },
    {
     "name": "stdout",
     "output_type": "stream",
     "text": [
      "1/1 [==============================] - 2s 2s/step - loss: 2088296524759957504.0000 - root_mean_squared_error: 1445093888.0000 - val_loss: 2128683373554565120.0000 - val_root_mean_squared_error: 1459000832.0000\n",
      "Epoch 79/100\n",
      "1/1 [==============================] - ETA: 0s - loss: 2088263401972170752.0000 - root_mean_squared_error: 1445082496.0000"
     ]
    },
    {
     "name": "stderr",
     "output_type": "stream",
     "text": [
      "WARNING:absl:Found untraced functions such as gru_cell_6_layer_call_fn, gru_cell_6_layer_call_and_return_conditional_losses while saving (showing 2 of 2). These functions will not be directly callable after loading.\n"
     ]
    },
    {
     "name": "stdout",
     "output_type": "stream",
     "text": [
      "INFO:tensorflow:Assets written to: model6/assets\n"
     ]
    },
    {
     "name": "stderr",
     "output_type": "stream",
     "text": [
      "INFO:tensorflow:Assets written to: model6/assets\n"
     ]
    },
    {
     "name": "stdout",
     "output_type": "stream",
     "text": [
      "1/1 [==============================] - 2s 2s/step - loss: 2088263401972170752.0000 - root_mean_squared_error: 1445082496.0000 - val_loss: 2128649426133057536.0000 - val_root_mean_squared_error: 1458989184.0000\n",
      "Epoch 80/100\n",
      "1/1 [==============================] - ETA: 0s - loss: 2088229729428570112.0000 - root_mean_squared_error: 1445070848.0000"
     ]
    },
    {
     "name": "stderr",
     "output_type": "stream",
     "text": [
      "WARNING:absl:Found untraced functions such as gru_cell_6_layer_call_fn, gru_cell_6_layer_call_and_return_conditional_losses while saving (showing 2 of 2). These functions will not be directly callable after loading.\n"
     ]
    },
    {
     "name": "stdout",
     "output_type": "stream",
     "text": [
      "INFO:tensorflow:Assets written to: model6/assets\n"
     ]
    },
    {
     "name": "stderr",
     "output_type": "stream",
     "text": [
      "INFO:tensorflow:Assets written to: model6/assets\n"
     ]
    },
    {
     "name": "stdout",
     "output_type": "stream",
     "text": [
      "1/1 [==============================] - 2s 2s/step - loss: 2088229729428570112.0000 - root_mean_squared_error: 1445070848.0000 - val_loss: 2128614654077829120.0000 - val_root_mean_squared_error: 1458977280.0000\n",
      "Epoch 81/100\n",
      "1/1 [==============================] - ETA: 0s - loss: 2088195232251248640.0000 - root_mean_squared_error: 1445058944.0000"
     ]
    },
    {
     "name": "stderr",
     "output_type": "stream",
     "text": [
      "WARNING:absl:Found untraced functions such as gru_cell_6_layer_call_fn, gru_cell_6_layer_call_and_return_conditional_losses while saving (showing 2 of 2). These functions will not be directly callable after loading.\n"
     ]
    },
    {
     "name": "stdout",
     "output_type": "stream",
     "text": [
      "INFO:tensorflow:Assets written to: model6/assets\n"
     ]
    },
    {
     "name": "stderr",
     "output_type": "stream",
     "text": [
      "INFO:tensorflow:Assets written to: model6/assets\n"
     ]
    },
    {
     "name": "stdout",
     "output_type": "stream",
     "text": [
      "1/1 [==============================] - 2s 2s/step - loss: 2088195232251248640.0000 - root_mean_squared_error: 1445058944.0000 - val_loss: 2128579607144693760.0000 - val_root_mean_squared_error: 1458965248.0000\n",
      "Epoch 82/100\n",
      "1/1 [==============================] - ETA: 0s - loss: 2088160597634973696.0000 - root_mean_squared_error: 1445046912.0000"
     ]
    },
    {
     "name": "stderr",
     "output_type": "stream",
     "text": [
      "WARNING:absl:Found untraced functions such as gru_cell_6_layer_call_fn, gru_cell_6_layer_call_and_return_conditional_losses while saving (showing 2 of 2). These functions will not be directly callable after loading.\n"
     ]
    },
    {
     "name": "stdout",
     "output_type": "stream",
     "text": [
      "INFO:tensorflow:Assets written to: model6/assets\n"
     ]
    },
    {
     "name": "stderr",
     "output_type": "stream",
     "text": [
      "INFO:tensorflow:Assets written to: model6/assets\n"
     ]
    },
    {
     "name": "stdout",
     "output_type": "stream",
     "text": [
      "1/1 [==============================] - 2s 2s/step - loss: 2088160597634973696.0000 - root_mean_squared_error: 1445046912.0000 - val_loss: 2128543735577837568.0000 - val_root_mean_squared_error: 1458952960.0000\n",
      "Epoch 83/100\n",
      "1/1 [==============================] - ETA: 0s - loss: 2088125000946024448.0000 - root_mean_squared_error: 1445034624.0000"
     ]
    },
    {
     "name": "stderr",
     "output_type": "stream",
     "text": [
      "WARNING:absl:Found untraced functions such as gru_cell_6_layer_call_fn, gru_cell_6_layer_call_and_return_conditional_losses while saving (showing 2 of 2). These functions will not be directly callable after loading.\n"
     ]
    },
    {
     "name": "stdout",
     "output_type": "stream",
     "text": [
      "INFO:tensorflow:Assets written to: model6/assets\n"
     ]
    },
    {
     "name": "stderr",
     "output_type": "stream",
     "text": [
      "INFO:tensorflow:Assets written to: model6/assets\n"
     ]
    },
    {
     "name": "stdout",
     "output_type": "stream",
     "text": [
      "1/1 [==============================] - 2s 2s/step - loss: 2088125000946024448.0000 - root_mean_squared_error: 1445034624.0000 - val_loss: 2128507451694120960.0000 - val_root_mean_squared_error: 1458940544.0000\n",
      "Epoch 84/100\n",
      "1/1 [==============================] - ETA: 0s - loss: 2088089129379168256.0000 - root_mean_squared_error: 1445022208.0000"
     ]
    },
    {
     "name": "stderr",
     "output_type": "stream",
     "text": [
      "WARNING:absl:Found untraced functions such as gru_cell_6_layer_call_fn, gru_cell_6_layer_call_and_return_conditional_losses while saving (showing 2 of 2). These functions will not be directly callable after loading.\n"
     ]
    },
    {
     "name": "stdout",
     "output_type": "stream",
     "text": [
      "INFO:tensorflow:Assets written to: model6/assets\n"
     ]
    },
    {
     "name": "stderr",
     "output_type": "stream",
     "text": [
      "INFO:tensorflow:Assets written to: model6/assets\n"
     ]
    },
    {
     "name": "stdout",
     "output_type": "stream",
     "text": [
      "1/1 [==============================] - 4s 4s/step - loss: 2088089129379168256.0000 - root_mean_squared_error: 1445022208.0000 - val_loss: 2128470480615636992.0000 - val_root_mean_squared_error: 1458927872.0000\n",
      "Epoch 85/100\n",
      "1/1 [==============================] - ETA: 0s - loss: 2088052433178591232.0000 - root_mean_squared_error: 1445009536.0000"
     ]
    },
    {
     "name": "stderr",
     "output_type": "stream",
     "text": [
      "WARNING:absl:Found untraced functions such as gru_cell_6_layer_call_fn, gru_cell_6_layer_call_and_return_conditional_losses while saving (showing 2 of 2). These functions will not be directly callable after loading.\n"
     ]
    },
    {
     "name": "stdout",
     "output_type": "stream",
     "text": [
      "INFO:tensorflow:Assets written to: model6/assets\n"
     ]
    },
    {
     "name": "stderr",
     "output_type": "stream",
     "text": [
      "INFO:tensorflow:Assets written to: model6/assets\n"
     ]
    },
    {
     "name": "stdout",
     "output_type": "stream",
     "text": [
      "1/1 [==============================] - 2s 2s/step - loss: 2088052433178591232.0000 - root_mean_squared_error: 1445009536.0000 - val_loss: 2128432822342385664.0000 - val_root_mean_squared_error: 1458914944.0000\n",
      "Epoch 86/100\n",
      "1/1 [==============================] - ETA: 0s - loss: 2088015049783246848.0000 - root_mean_squared_error: 1444996608.0000"
     ]
    },
    {
     "name": "stderr",
     "output_type": "stream",
     "text": [
      "WARNING:absl:Found untraced functions such as gru_cell_6_layer_call_fn, gru_cell_6_layer_call_and_return_conditional_losses while saving (showing 2 of 2). These functions will not be directly callable after loading.\n"
     ]
    },
    {
     "name": "stdout",
     "output_type": "stream",
     "text": [
      "INFO:tensorflow:Assets written to: model6/assets\n"
     ]
    },
    {
     "name": "stderr",
     "output_type": "stream",
     "text": [
      "INFO:tensorflow:Assets written to: model6/assets\n"
     ]
    },
    {
     "name": "stdout",
     "output_type": "stream",
     "text": [
      "1/1 [==============================] - 2s 2s/step - loss: 2088015049783246848.0000 - root_mean_squared_error: 1444996608.0000 - val_loss: 2128394751752273920.0000 - val_root_mean_squared_error: 1458901888.0000\n",
      "Epoch 87/100\n",
      "1/1 [==============================] - ETA: 0s - loss: 2087977528948948992.0000 - root_mean_squared_error: 1444983552.0000"
     ]
    },
    {
     "name": "stderr",
     "output_type": "stream",
     "text": [
      "WARNING:absl:Found untraced functions such as gru_cell_6_layer_call_fn, gru_cell_6_layer_call_and_return_conditional_losses while saving (showing 2 of 2). These functions will not be directly callable after loading.\n"
     ]
    },
    {
     "name": "stdout",
     "output_type": "stream",
     "text": [
      "INFO:tensorflow:Assets written to: model6/assets\n"
     ]
    },
    {
     "name": "stderr",
     "output_type": "stream",
     "text": [
      "INFO:tensorflow:Assets written to: model6/assets\n"
     ]
    },
    {
     "name": "stdout",
     "output_type": "stream",
     "text": [
      "1/1 [==============================] - 2s 2s/step - loss: 2087977528948948992.0000 - root_mean_squared_error: 1444983552.0000 - val_loss: 2128355856528441344.0000 - val_root_mean_squared_error: 1458888576.0000\n",
      "Epoch 88/100\n",
      "1/1 [==============================] - ETA: 0s - loss: 2087938908603023360.0000 - root_mean_squared_error: 1444970240.0000"
     ]
    },
    {
     "name": "stderr",
     "output_type": "stream",
     "text": [
      "WARNING:absl:Found untraced functions such as gru_cell_6_layer_call_fn, gru_cell_6_layer_call_and_return_conditional_losses while saving (showing 2 of 2). These functions will not be directly callable after loading.\n"
     ]
    },
    {
     "name": "stdout",
     "output_type": "stream",
     "text": [
      "INFO:tensorflow:Assets written to: model6/assets\n"
     ]
    },
    {
     "name": "stderr",
     "output_type": "stream",
     "text": [
      "INFO:tensorflow:Assets written to: model6/assets\n"
     ]
    },
    {
     "name": "stdout",
     "output_type": "stream",
     "text": [
      "1/1 [==============================] - 2s 2s/step - loss: 2087938908603023360.0000 - root_mean_squared_error: 1444970240.0000 - val_loss: 2128316686426701824.0000 - val_root_mean_squared_error: 1458875136.0000\n",
      "Epoch 89/100\n",
      "1/1 [==============================] - ETA: 0s - loss: 2087900013379190784.0000 - root_mean_squared_error: 1444956800.0000"
     ]
    },
    {
     "name": "stderr",
     "output_type": "stream",
     "text": [
      "WARNING:absl:Found untraced functions such as gru_cell_6_layer_call_fn, gru_cell_6_layer_call_and_return_conditional_losses while saving (showing 2 of 2). These functions will not be directly callable after loading.\n"
     ]
    },
    {
     "name": "stdout",
     "output_type": "stream",
     "text": [
      "INFO:tensorflow:Assets written to: model6/assets\n"
     ]
    },
    {
     "name": "stderr",
     "output_type": "stream",
     "text": [
      "INFO:tensorflow:Assets written to: model6/assets\n"
     ]
    },
    {
     "name": "stdout",
     "output_type": "stream",
     "text": [
      "1/1 [==============================] - 2s 2s/step - loss: 2087900013379190784.0000 - root_mean_squared_error: 1444956800.0000 - val_loss: 2128276691691241472.0000 - val_root_mean_squared_error: 1458861440.0000\n",
      "Epoch 90/100\n",
      "1/1 [==============================] - ETA: 0s - loss: 2087860430960590848.0000 - root_mean_squared_error: 1444943104.0000"
     ]
    },
    {
     "name": "stderr",
     "output_type": "stream",
     "text": [
      "WARNING:absl:Found untraced functions such as gru_cell_6_layer_call_fn, gru_cell_6_layer_call_and_return_conditional_losses while saving (showing 2 of 2). These functions will not be directly callable after loading.\n"
     ]
    },
    {
     "name": "stdout",
     "output_type": "stream",
     "text": [
      "INFO:tensorflow:Assets written to: model6/assets\n"
     ]
    },
    {
     "name": "stderr",
     "output_type": "stream",
     "text": [
      "INFO:tensorflow:Assets written to: model6/assets\n"
     ]
    },
    {
     "name": "stdout",
     "output_type": "stream",
     "text": [
      "1/1 [==============================] - 2s 2s/step - loss: 2087860430960590848.0000 - root_mean_squared_error: 1444943104.0000 - val_loss: 2128236422077874176.0000 - val_root_mean_squared_error: 1458847616.0000\n",
      "Epoch 91/100\n",
      "1/1 [==============================] - ETA: 0s - loss: 2087820711103037440.0000 - root_mean_squared_error: 1444929280.0000"
     ]
    },
    {
     "name": "stderr",
     "output_type": "stream",
     "text": [
      "WARNING:absl:Found untraced functions such as gru_cell_6_layer_call_fn, gru_cell_6_layer_call_and_return_conditional_losses while saving (showing 2 of 2). These functions will not be directly callable after loading.\n"
     ]
    },
    {
     "name": "stdout",
     "output_type": "stream",
     "text": [
      "INFO:tensorflow:Assets written to: model6/assets\n"
     ]
    },
    {
     "name": "stderr",
     "output_type": "stream",
     "text": [
      "INFO:tensorflow:Assets written to: model6/assets\n"
     ]
    },
    {
     "name": "stdout",
     "output_type": "stream",
     "text": [
      "1/1 [==============================] - 2s 2s/step - loss: 2087820711103037440.0000 - root_mean_squared_error: 1444929280.0000 - val_loss: 2128195327830786048.0000 - val_root_mean_squared_error: 1458833536.0000\n",
      "Epoch 92/100\n",
      "1/1 [==============================] - ETA: 0s - loss: 2087779754294902784.0000 - root_mean_squared_error: 1444915200.0000"
     ]
    },
    {
     "name": "stderr",
     "output_type": "stream",
     "text": [
      "WARNING:absl:Found untraced functions such as gru_cell_6_layer_call_fn, gru_cell_6_layer_call_and_return_conditional_losses while saving (showing 2 of 2). These functions will not be directly callable after loading.\n"
     ]
    },
    {
     "name": "stdout",
     "output_type": "stream",
     "text": [
      "INFO:tensorflow:Assets written to: model6/assets\n"
     ]
    },
    {
     "name": "stderr",
     "output_type": "stream",
     "text": [
      "INFO:tensorflow:Assets written to: model6/assets\n"
     ]
    },
    {
     "name": "stdout",
     "output_type": "stream",
     "text": [
      "1/1 [==============================] - 2s 2s/step - loss: 2087779754294902784.0000 - root_mean_squared_error: 1444915200.0000 - val_loss: 2128153408949977088.0000 - val_root_mean_squared_error: 1458819200.0000\n",
      "Epoch 93/100\n",
      "1/1 [==============================] - ETA: 0s - loss: 2087738385169907712.0000 - root_mean_squared_error: 1444900864.0000"
     ]
    },
    {
     "name": "stderr",
     "output_type": "stream",
     "text": [
      "WARNING:absl:Found untraced functions such as gru_cell_6_layer_call_fn, gru_cell_6_layer_call_and_return_conditional_losses while saving (showing 2 of 2). These functions will not be directly callable after loading.\n"
     ]
    },
    {
     "name": "stdout",
     "output_type": "stream",
     "text": [
      "INFO:tensorflow:Assets written to: model6/assets\n"
     ]
    },
    {
     "name": "stderr",
     "output_type": "stream",
     "text": [
      "INFO:tensorflow:Assets written to: model6/assets\n"
     ]
    },
    {
     "name": "stdout",
     "output_type": "stream",
     "text": [
      "1/1 [==============================] - 4s 4s/step - loss: 2087738385169907712.0000 - root_mean_squared_error: 1444900864.0000 - val_loss: 2128111215191261184.0000 - val_root_mean_squared_error: 1458804736.0000\n",
      "Epoch 94/100\n",
      "1/1 [==============================] - ETA: 0s - loss: 2087696603728052224.0000 - root_mean_squared_error: 1444886400.0000"
     ]
    },
    {
     "name": "stderr",
     "output_type": "stream",
     "text": [
      "WARNING:absl:Found untraced functions such as gru_cell_6_layer_call_fn, gru_cell_6_layer_call_and_return_conditional_losses while saving (showing 2 of 2). These functions will not be directly callable after loading.\n"
     ]
    },
    {
     "name": "stdout",
     "output_type": "stream",
     "text": [
      "INFO:tensorflow:Assets written to: model6/assets\n"
     ]
    },
    {
     "name": "stderr",
     "output_type": "stream",
     "text": [
      "INFO:tensorflow:Assets written to: model6/assets\n"
     ]
    },
    {
     "name": "stdout",
     "output_type": "stream",
     "text": [
      "1/1 [==============================] - 2s 2s/step - loss: 2087696603728052224.0000 - root_mean_squared_error: 1444886400.0000 - val_loss: 2128068334237777920.0000 - val_root_mean_squared_error: 1458790016.0000\n",
      "Epoch 95/100\n",
      "1/1 [==============================] - ETA: 0s - loss: 2087654135091429376.0000 - root_mean_squared_error: 1444871680.0000"
     ]
    },
    {
     "name": "stderr",
     "output_type": "stream",
     "text": [
      "WARNING:absl:Found untraced functions such as gru_cell_6_layer_call_fn, gru_cell_6_layer_call_and_return_conditional_losses while saving (showing 2 of 2). These functions will not be directly callable after loading.\n"
     ]
    },
    {
     "name": "stdout",
     "output_type": "stream",
     "text": [
      "INFO:tensorflow:Assets written to: model6/assets\n"
     ]
    },
    {
     "name": "stderr",
     "output_type": "stream",
     "text": [
      "INFO:tensorflow:Assets written to: model6/assets\n"
     ]
    },
    {
     "name": "stdout",
     "output_type": "stream",
     "text": [
      "1/1 [==============================] - 2s 2s/step - loss: 2087654135091429376.0000 - root_mean_squared_error: 1444871680.0000 - val_loss: 2128025040967434240.0000 - val_root_mean_squared_error: 1458775168.0000\n",
      "Epoch 96/100\n",
      "1/1 [==============================] - ETA: 0s - loss: 2087611254137946112.0000 - root_mean_squared_error: 1444856832.0000"
     ]
    },
    {
     "name": "stderr",
     "output_type": "stream",
     "text": [
      "WARNING:absl:Found untraced functions such as gru_cell_6_layer_call_fn, gru_cell_6_layer_call_and_return_conditional_losses while saving (showing 2 of 2). These functions will not be directly callable after loading.\n"
     ]
    },
    {
     "name": "stdout",
     "output_type": "stream",
     "text": [
      "INFO:tensorflow:Assets written to: model6/assets\n"
     ]
    },
    {
     "name": "stderr",
     "output_type": "stream",
     "text": [
      "INFO:tensorflow:Assets written to: model6/assets\n"
     ]
    },
    {
     "name": "stdout",
     "output_type": "stream",
     "text": [
      "1/1 [==============================] - 2s 2s/step - loss: 2087611254137946112.0000 - root_mean_squared_error: 1444856832.0000 - val_loss: 2127980923063369728.0000 - val_root_mean_squared_error: 1458760064.0000\n",
      "Epoch 97/100\n",
      "1/1 [==============================] - ETA: 0s - loss: 2087567548550742016.0000 - root_mean_squared_error: 1444841728.0000"
     ]
    },
    {
     "name": "stderr",
     "output_type": "stream",
     "text": [
      "WARNING:absl:Found untraced functions such as gru_cell_6_layer_call_fn, gru_cell_6_layer_call_and_return_conditional_losses while saving (showing 2 of 2). These functions will not be directly callable after loading.\n"
     ]
    },
    {
     "name": "stdout",
     "output_type": "stream",
     "text": [
      "INFO:tensorflow:Assets written to: model6/assets\n"
     ]
    },
    {
     "name": "stderr",
     "output_type": "stream",
     "text": [
      "INFO:tensorflow:Assets written to: model6/assets\n"
     ]
    },
    {
     "name": "stdout",
     "output_type": "stream",
     "text": [
      "1/1 [==============================] - 2s 2s/step - loss: 2087567548550742016.0000 - root_mean_squared_error: 1444841728.0000 - val_loss: 2127936117964537856.0000 - val_root_mean_squared_error: 1458744704.0000\n",
      "Epoch 98/100\n",
      "1/1 [==============================] - ETA: 0s - loss: 2087523293207724032.0000 - root_mean_squared_error: 1444826368.0000"
     ]
    },
    {
     "name": "stderr",
     "output_type": "stream",
     "text": [
      "WARNING:absl:Found untraced functions such as gru_cell_6_layer_call_fn, gru_cell_6_layer_call_and_return_conditional_losses while saving (showing 2 of 2). These functions will not be directly callable after loading.\n"
     ]
    },
    {
     "name": "stdout",
     "output_type": "stream",
     "text": [
      "INFO:tensorflow:Assets written to: model6/assets\n"
     ]
    },
    {
     "name": "stderr",
     "output_type": "stream",
     "text": [
      "INFO:tensorflow:Assets written to: model6/assets\n"
     ]
    },
    {
     "name": "stdout",
     "output_type": "stream",
     "text": [
      "1/1 [==============================] - 2s 2s/step - loss: 2087523293207724032.0000 - root_mean_squared_error: 1444826368.0000 - val_loss: 2127890900548845568.0000 - val_root_mean_squared_error: 1458729216.0000\n",
      "Epoch 99/100\n",
      "1/1 [==============================] - ETA: 0s - loss: 2087478488108892160.0000 - root_mean_squared_error: 1444810880.0000"
     ]
    },
    {
     "name": "stderr",
     "output_type": "stream",
     "text": [
      "WARNING:absl:Found untraced functions such as gru_cell_6_layer_call_fn, gru_cell_6_layer_call_and_return_conditional_losses while saving (showing 2 of 2). These functions will not be directly callable after loading.\n"
     ]
    },
    {
     "name": "stdout",
     "output_type": "stream",
     "text": [
      "INFO:tensorflow:Assets written to: model6/assets\n"
     ]
    },
    {
     "name": "stderr",
     "output_type": "stream",
     "text": [
      "INFO:tensorflow:Assets written to: model6/assets\n"
     ]
    },
    {
     "name": "stdout",
     "output_type": "stream",
     "text": [
      "1/1 [==============================] - 2s 2s/step - loss: 2087478488108892160.0000 - root_mean_squared_error: 1444810880.0000 - val_loss: 2127844995938385920.0000 - val_root_mean_squared_error: 1458713472.0000\n",
      "Epoch 100/100\n",
      "1/1 [==============================] - ETA: 0s - loss: 2087432858376339456.0000 - root_mean_squared_error: 1444795136.0000"
     ]
    },
    {
     "name": "stderr",
     "output_type": "stream",
     "text": [
      "WARNING:absl:Found untraced functions such as gru_cell_6_layer_call_fn, gru_cell_6_layer_call_and_return_conditional_losses while saving (showing 2 of 2). These functions will not be directly callable after loading.\n"
     ]
    },
    {
     "name": "stdout",
     "output_type": "stream",
     "text": [
      "INFO:tensorflow:Assets written to: model6/assets\n"
     ]
    },
    {
     "name": "stderr",
     "output_type": "stream",
     "text": [
      "INFO:tensorflow:Assets written to: model6/assets\n"
     ]
    },
    {
     "name": "stdout",
     "output_type": "stream",
     "text": [
      "1/1 [==============================] - 2s 2s/step - loss: 2087432858376339456.0000 - root_mean_squared_error: 1444795136.0000 - val_loss: 2127798679011065856.0000 - val_root_mean_squared_error: 1458697600.0000\n"
     ]
    },
    {
     "data": {
      "text/plain": [
       "<keras.callbacks.History at 0x7fe1d0dc25b0>"
      ]
     },
     "execution_count": 251,
     "metadata": {},
     "output_type": "execute_result"
    }
   ],
   "source": [
    "model6.fit(X_train2, y_train2, validation_data=(X_val2, y_val2), epochs=100, callbacks=[cp6])"
   ]
  },
  {
   "cell_type": "code",
   "execution_count": 252,
   "metadata": {},
   "outputs": [
    {
     "name": "stdout",
     "output_type": "stream",
     "text": [
      "1/1 [==============================] - 0s 293ms/step\n"
     ]
    },
    {
     "data": {
      "text/html": [
       "<div>\n",
       "<style scoped>\n",
       "    .dataframe tbody tr th:only-of-type {\n",
       "        vertical-align: middle;\n",
       "    }\n",
       "\n",
       "    .dataframe tbody tr th {\n",
       "        vertical-align: top;\n",
       "    }\n",
       "\n",
       "    .dataframe thead th {\n",
       "        text-align: right;\n",
       "    }\n",
       "</style>\n",
       "<table border=\"1\" class=\"dataframe\">\n",
       "  <thead>\n",
       "    <tr style=\"text-align: right;\">\n",
       "      <th></th>\n",
       "      <th>Train Predictions</th>\n",
       "      <th>Actuals</th>\n",
       "    </tr>\n",
       "  </thead>\n",
       "  <tbody>\n",
       "    <tr>\n",
       "      <th>0</th>\n",
       "      <td>680454.9375</td>\n",
       "      <td>1438193000</td>\n",
       "    </tr>\n",
       "    <tr>\n",
       "      <th>1</th>\n",
       "      <td>680454.9375</td>\n",
       "      <td>1445524000</td>\n",
       "    </tr>\n",
       "    <tr>\n",
       "      <th>2</th>\n",
       "      <td>680454.9375</td>\n",
       "      <td>1452626000</td>\n",
       "    </tr>\n",
       "  </tbody>\n",
       "</table>\n",
       "</div>"
      ],
      "text/plain": [
       "   Train Predictions     Actuals\n",
       "0        680454.9375  1438193000\n",
       "1        680454.9375  1445524000\n",
       "2        680454.9375  1452626000"
      ]
     },
     "execution_count": 252,
     "metadata": {},
     "output_type": "execute_result"
    }
   ],
   "source": [
    "model6 = load_model('model6/')\n",
    "train_predictions6 = model6.predict(X_train2).flatten()\n",
    "train_results6 = pd.DataFrame(data={'Train Predictions':train_predictions6, 'Actuals':y_train2})\n",
    "train_results6"
   ]
  },
  {
   "cell_type": "code",
   "execution_count": 253,
   "metadata": {},
   "outputs": [
    {
     "data": {
      "text/plain": [
       "<matplotlib.legend.Legend at 0x7fe1c12d4f70>"
      ]
     },
     "execution_count": 253,
     "metadata": {},
     "output_type": "execute_result"
    },
    {
     "data": {
      "image/png": "[encoded data removed]",
      "text/plain": [
       "<Figure size 432x288 with 1 Axes>"
      ]
     },
     "metadata": {
      "needs_background": "light"
     },
     "output_type": "display_data"
    }
   ],
   "source": [
    "plt.plot(train_results6['Train Predictions'])\n",
    "plt.plot(train_results6['Actuals'])\n",
    "plt.legend(['Prediction', 'Actual'], loc='upper left')"
   ]
  },
  {
   "cell_type": "code",
   "execution_count": 254,
   "metadata": {},
   "outputs": [
    {
     "name": "stdout",
     "output_type": "stream",
     "text": [
      "1/1 [==============================] - 0s 15ms/step\n"
     ]
    },
    {
     "data": {
      "text/html": [
       "<div>\n",
       "<style scoped>\n",
       "    .dataframe tbody tr th:only-of-type {\n",
       "        vertical-align: middle;\n",
       "    }\n",
       "\n",
       "    .dataframe tbody tr th {\n",
       "        vertical-align: top;\n",
       "    }\n",
       "\n",
       "    .dataframe thead th {\n",
       "        text-align: right;\n",
       "    }\n",
       "</style>\n",
       "<table border=\"1\" class=\"dataframe\">\n",
       "  <thead>\n",
       "    <tr style=\"text-align: right;\">\n",
       "      <th></th>\n",
       "      <th>Val Predictions</th>\n",
       "      <th>Actuals</th>\n",
       "    </tr>\n",
       "  </thead>\n",
       "  <tbody>\n",
       "    <tr>\n",
       "      <th>0</th>\n",
       "      <td>680455.0</td>\n",
       "      <td>1459378000</td>\n",
       "    </tr>\n",
       "  </tbody>\n",
       "</table>\n",
       "</div>"
      ],
      "text/plain": [
       "   Val Predictions     Actuals\n",
       "0         680455.0  1459378000"
      ]
     },
     "execution_count": 254,
     "metadata": {},
     "output_type": "execute_result"
    }
   ],
   "source": [
    "val_predictions6 = model6.predict(X_val2).flatten()\n",
    "val_results6 = pd.DataFrame(data={'Val Predictions':val_predictions6, 'Actuals':y_val2})\n",
    "val_results6"
   ]
  },
  {
   "cell_type": "code",
   "execution_count": 255,
   "metadata": {},
   "outputs": [
    {
     "name": "stdout",
     "output_type": "stream",
     "text": [
      "1/1 [==============================] - 0s 15ms/step\n"
     ]
    },
    {
     "data": {
      "text/html": [
       "<div>\n",
       "<style scoped>\n",
       "    .dataframe tbody tr th:only-of-type {\n",
       "        vertical-align: middle;\n",
       "    }\n",
       "\n",
       "    .dataframe tbody tr th {\n",
       "        vertical-align: top;\n",
       "    }\n",
       "\n",
       "    .dataframe thead th {\n",
       "        text-align: right;\n",
       "    }\n",
       "</style>\n",
       "<table border=\"1\" class=\"dataframe\">\n",
       "  <thead>\n",
       "    <tr style=\"text-align: right;\">\n",
       "      <th></th>\n",
       "      <th>Test Predictions</th>\n",
       "      <th>Actuals</th>\n",
       "    </tr>\n",
       "  </thead>\n",
       "  <tbody>\n",
       "    <tr>\n",
       "      <th>0</th>\n",
       "      <td>680455.0</td>\n",
       "      <td>1465634000</td>\n",
       "    </tr>\n",
       "  </tbody>\n",
       "</table>\n",
       "</div>"
      ],
      "text/plain": [
       "   Test Predictions     Actuals\n",
       "0          680455.0  1465634000"
      ]
     },
     "execution_count": 255,
     "metadata": {},
     "output_type": "execute_result"
    }
   ],
   "source": [
    "test_predictions6 = model6.predict(X_test2).flatten()\n",
    "test_results6 = pd.DataFrame(data={'Test Predictions':test_predictions6, 'Actuals':y_test2})\n",
    "test_results6"
   ]
  },
  {
   "cell_type": "code",
   "execution_count": 256,
   "metadata": {},
   "outputs": [
    {
     "name": "stderr",
     "output_type": "stream",
     "text": [
      "WARNING:absl:Found untraced functions such as gru_cell_7_layer_call_fn, gru_cell_7_layer_call_and_return_conditional_losses while saving (showing 2 of 2). These functions will not be directly callable after loading.\n"
     ]
    },
    {
     "name": "stdout",
     "output_type": "stream",
     "text": [
      "INFO:tensorflow:Assets written to: model5/assets\n"
     ]
    },
    {
     "name": "stderr",
     "output_type": "stream",
     "text": [
      "INFO:tensorflow:Assets written to: model5/assets\n",
      "WARNING:absl:Found untraced functions such as gru_cell_7_layer_call_fn, gru_cell_7_layer_call_and_return_conditional_losses while saving (showing 2 of 2). These functions will not be directly callable after loading.\n"
     ]
    },
    {
     "name": "stdout",
     "output_type": "stream",
     "text": [
      "INFO:tensorflow:Assets written to: model5/assets\n"
     ]
    },
    {
     "name": "stderr",
     "output_type": "stream",
     "text": [
      "INFO:tensorflow:Assets written to: model5/assets\n",
      "WARNING:absl:Found untraced functions such as gru_cell_7_layer_call_fn, gru_cell_7_layer_call_and_return_conditional_losses while saving (showing 2 of 2). These functions will not be directly callable after loading.\n"
     ]
    },
    {
     "name": "stdout",
     "output_type": "stream",
     "text": [
      "INFO:tensorflow:Assets written to: model5/assets\n"
     ]
    },
    {
     "name": "stderr",
     "output_type": "stream",
     "text": [
      "INFO:tensorflow:Assets written to: model5/assets\n",
      "WARNING:absl:Found untraced functions such as gru_cell_7_layer_call_fn, gru_cell_7_layer_call_and_return_conditional_losses while saving (showing 2 of 2). These functions will not be directly callable after loading.\n"
     ]
    },
    {
     "name": "stdout",
     "output_type": "stream",
     "text": [
      "INFO:tensorflow:Assets written to: model5/assets\n"
     ]
    },
    {
     "name": "stderr",
     "output_type": "stream",
     "text": [
      "INFO:tensorflow:Assets written to: model5/assets\n",
      "WARNING:absl:Found untraced functions such as gru_cell_7_layer_call_fn, gru_cell_7_layer_call_and_return_conditional_losses while saving (showing 2 of 2). These functions will not be directly callable after loading.\n"
     ]
    },
    {
     "name": "stdout",
     "output_type": "stream",
     "text": [
      "INFO:tensorflow:Assets written to: model5/assets\n"
     ]
    },
    {
     "name": "stderr",
     "output_type": "stream",
     "text": [
      "INFO:tensorflow:Assets written to: model5/assets\n",
      "WARNING:absl:Found untraced functions such as gru_cell_7_layer_call_fn, gru_cell_7_layer_call_and_return_conditional_losses while saving (showing 2 of 2). These functions will not be directly callable after loading.\n"
     ]
    },
    {
     "name": "stdout",
     "output_type": "stream",
     "text": [
      "INFO:tensorflow:Assets written to: model5/assets\n"
     ]
    },
    {
     "name": "stderr",
     "output_type": "stream",
     "text": [
      "INFO:tensorflow:Assets written to: model5/assets\n",
      "WARNING:absl:Found untraced functions such as gru_cell_7_layer_call_fn, gru_cell_7_layer_call_and_return_conditional_losses while saving (showing 2 of 2). These functions will not be directly callable after loading.\n"
     ]
    },
    {
     "name": "stdout",
     "output_type": "stream",
     "text": [
      "INFO:tensorflow:Assets written to: model5/assets\n"
     ]
    },
    {
     "name": "stderr",
     "output_type": "stream",
     "text": [
      "INFO:tensorflow:Assets written to: model5/assets\n",
      "WARNING:absl:Found untraced functions such as gru_cell_7_layer_call_fn, gru_cell_7_layer_call_and_return_conditional_losses while saving (showing 2 of 2). These functions will not be directly callable after loading.\n"
     ]
    },
    {
     "name": "stdout",
     "output_type": "stream",
     "text": [
      "INFO:tensorflow:Assets written to: model5/assets\n"
     ]
    },
    {
     "name": "stderr",
     "output_type": "stream",
     "text": [
      "INFO:tensorflow:Assets written to: model5/assets\n",
      "WARNING:absl:Found untraced functions such as gru_cell_7_layer_call_fn, gru_cell_7_layer_call_and_return_conditional_losses while saving (showing 2 of 2). These functions will not be directly callable after loading.\n"
     ]
    },
    {
     "name": "stdout",
     "output_type": "stream",
     "text": [
      "INFO:tensorflow:Assets written to: model5/assets\n"
     ]
    },
    {
     "name": "stderr",
     "output_type": "stream",
     "text": [
      "INFO:tensorflow:Assets written to: model5/assets\n",
      "WARNING:absl:Found untraced functions such as gru_cell_7_layer_call_fn, gru_cell_7_layer_call_and_return_conditional_losses while saving (showing 2 of 2). These functions will not be directly callable after loading.\n"
     ]
    },
    {
     "name": "stdout",
     "output_type": "stream",
     "text": [
      "INFO:tensorflow:Assets written to: model5/assets\n"
     ]
    },
    {
     "name": "stderr",
     "output_type": "stream",
     "text": [
      "INFO:tensorflow:Assets written to: model5/assets\n",
      "WARNING:absl:Found untraced functions such as gru_cell_7_layer_call_fn, gru_cell_7_layer_call_and_return_conditional_losses while saving (showing 2 of 2). These functions will not be directly callable after loading.\n"
     ]
    },
    {
     "name": "stdout",
     "output_type": "stream",
     "text": [
      "INFO:tensorflow:Assets written to: model5/assets\n"
     ]
    },
    {
     "name": "stderr",
     "output_type": "stream",
     "text": [
      "INFO:tensorflow:Assets written to: model5/assets\n",
      "WARNING:absl:Found untraced functions such as gru_cell_7_layer_call_fn, gru_cell_7_layer_call_and_return_conditional_losses while saving (showing 2 of 2). These functions will not be directly callable after loading.\n"
     ]
    },
    {
     "name": "stdout",
     "output_type": "stream",
     "text": [
      "INFO:tensorflow:Assets written to: model5/assets\n"
     ]
    },
    {
     "name": "stderr",
     "output_type": "stream",
     "text": [
      "INFO:tensorflow:Assets written to: model5/assets\n",
      "WARNING:absl:Found untraced functions such as gru_cell_7_layer_call_fn, gru_cell_7_layer_call_and_return_conditional_losses while saving (showing 2 of 2). These functions will not be directly callable after loading.\n"
     ]
    },
    {
     "name": "stdout",
     "output_type": "stream",
     "text": [
      "INFO:tensorflow:Assets written to: model5/assets\n"
     ]
    },
    {
     "name": "stderr",
     "output_type": "stream",
     "text": [
      "INFO:tensorflow:Assets written to: model5/assets\n",
      "WARNING:absl:Found untraced functions such as gru_cell_7_layer_call_fn, gru_cell_7_layer_call_and_return_conditional_losses while saving (showing 2 of 2). These functions will not be directly callable after loading.\n"
     ]
    },
    {
     "name": "stdout",
     "output_type": "stream",
     "text": [
      "INFO:tensorflow:Assets written to: model5/assets\n"
     ]
    },
    {
     "name": "stderr",
     "output_type": "stream",
     "text": [
      "INFO:tensorflow:Assets written to: model5/assets\n",
      "WARNING:absl:Found untraced functions such as gru_cell_7_layer_call_fn, gru_cell_7_layer_call_and_return_conditional_losses while saving (showing 2 of 2). These functions will not be directly callable after loading.\n"
     ]
    },
    {
     "name": "stdout",
     "output_type": "stream",
     "text": [
      "INFO:tensorflow:Assets written to: model5/assets\n"
     ]
    },
    {
     "name": "stderr",
     "output_type": "stream",
     "text": [
      "INFO:tensorflow:Assets written to: model5/assets\n",
      "WARNING:absl:Found untraced functions such as gru_cell_7_layer_call_fn, gru_cell_7_layer_call_and_return_conditional_losses while saving (showing 2 of 2). These functions will not be directly callable after loading.\n"
     ]
    },
    {
     "name": "stdout",
     "output_type": "stream",
     "text": [
      "INFO:tensorflow:Assets written to: model5/assets\n"
     ]
    },
    {
     "name": "stderr",
     "output_type": "stream",
     "text": [
      "INFO:tensorflow:Assets written to: model5/assets\n",
      "WARNING:absl:Found untraced functions such as gru_cell_7_layer_call_fn, gru_cell_7_layer_call_and_return_conditional_losses while saving (showing 2 of 2). These functions will not be directly callable after loading.\n"
     ]
    },
    {
     "name": "stdout",
     "output_type": "stream",
     "text": [
      "INFO:tensorflow:Assets written to: model5/assets\n"
     ]
    },
    {
     "name": "stderr",
     "output_type": "stream",
     "text": [
      "INFO:tensorflow:Assets written to: model5/assets\n",
      "WARNING:absl:Found untraced functions such as gru_cell_7_layer_call_fn, gru_cell_7_layer_call_and_return_conditional_losses while saving (showing 2 of 2). These functions will not be directly callable after loading.\n"
     ]
    },
    {
     "name": "stdout",
     "output_type": "stream",
     "text": [
      "INFO:tensorflow:Assets written to: model5/assets\n"
     ]
    },
    {
     "name": "stderr",
     "output_type": "stream",
     "text": [
      "INFO:tensorflow:Assets written to: model5/assets\n",
      "WARNING:absl:Found untraced functions such as gru_cell_7_layer_call_fn, gru_cell_7_layer_call_and_return_conditional_losses while saving (showing 2 of 2). These functions will not be directly callable after loading.\n"
     ]
    },
    {
     "name": "stdout",
     "output_type": "stream",
     "text": [
      "INFO:tensorflow:Assets written to: model5/assets\n"
     ]
    },
    {
     "name": "stderr",
     "output_type": "stream",
     "text": [
      "INFO:tensorflow:Assets written to: model5/assets\n",
      "WARNING:absl:Found untraced functions such as gru_cell_7_layer_call_fn, gru_cell_7_layer_call_and_return_conditional_losses while saving (showing 2 of 2). These functions will not be directly callable after loading.\n"
     ]
    },
    {
     "name": "stdout",
     "output_type": "stream",
     "text": [
      "INFO:tensorflow:Assets written to: model5/assets\n"
     ]
    },
    {
     "name": "stderr",
     "output_type": "stream",
     "text": [
      "INFO:tensorflow:Assets written to: model5/assets\n"
     ]
    },
    {
     "name": "stdout",
     "output_type": "stream",
     "text": [
      "dict_keys(['loss', 'root_mean_squared_error', 'val_loss', 'val_root_mean_squared_error'])\n"
     ]
    },
    {
     "data": {
      "image/png": "[encoded data removed]",
      "text/plain": [
       "<Figure size 576x432 with 1 Axes>"
      ]
     },
     "metadata": {
      "needs_background": "light"
     },
     "output_type": "display_data"
    }
   ],
   "source": [
    "history = model6.fit(X_train2, y_train2, validation_data=(X_val2, y_val2), epochs=20, callbacks=[cp5], verbose=0)\n",
    "print(history.history.keys())\n",
    "\n",
    "import matplotlib.pylab as plt\n",
    "from matplotlib.pyplot import figure\n",
    "figure(figsize=(8, 6))\n",
    "plt.plot(history.history['loss'])\n",
    "plt.plot(history.history['val_loss'])\n",
    "plt.title('model loss')\n",
    "plt.ylabel('loss')\n",
    "plt.xlabel('epoch')\n",
    "plt.legend(['train', 'test'], loc='upper left')\n",
    "plt.show()"
   ]
  },
  {
   "cell_type": "code",
   "execution_count": null,
   "metadata": {},
   "outputs": [],
   "source": []
  },
  {
   "cell_type": "code",
   "execution_count": null,
   "metadata": {},
   "outputs": [],
   "source": []
  },
  {
   "cell_type": "code",
   "execution_count": null,
   "metadata": {},
   "outputs": [],
   "source": []
  },
  {
   "cell_type": "code",
   "execution_count": null,
   "metadata": {},
   "outputs": [],
   "source": []
  },
  {
   "cell_type": "code",
   "execution_count": null,
   "metadata": {},
   "outputs": [],
   "source": []
  },
  {
   "cell_type": "code",
   "execution_count": null,
   "metadata": {},
   "outputs": [],
   "source": []
  },
  {
   "cell_type": "code",
   "execution_count": null,
   "metadata": {},
   "outputs": [],
   "source": []
  },
  {
   "cell_type": "code",
   "execution_count": null,
   "metadata": {},
   "outputs": [],
   "source": []
  },
  {
   "cell_type": "code",
   "execution_count": null,
   "metadata": {},
   "outputs": [],
   "source": []
  },
  {
   "cell_type": "code",
   "execution_count": null,
   "metadata": {},
   "outputs": [],
   "source": []
  },
  {
   "cell_type": "code",
   "execution_count": null,
   "metadata": {
    "collapsed": false,
    "pycharm": {
     "name": "#%%\n"
    }
   },
   "outputs": [],
   "source": []
  },
  {
   "cell_type": "code",
   "execution_count": null,
   "metadata": {
    "collapsed": false,
    "pycharm": {
     "name": "#%%\n"
    }
   },
   "outputs": [],
   "source": []
  },
  {
   "cell_type": "code",
   "execution_count": null,
   "metadata": {
    "collapsed": false,
    "pycharm": {
     "name": "#%%\n"
    }
   },
   "outputs": [],
   "source": []
  },
  {
   "cell_type": "markdown",
   "metadata": {},
   "source": [
    "# -----------------------------"
   ]
  },
  {
   "cell_type": "markdown",
   "metadata": {},
   "source": [
    "# -----------------------------"
   ]
  },
  {
   "cell_type": "markdown",
   "metadata": {},
   "source": [
    "# -----------------------------"
   ]
  },
  {
   "cell_type": "markdown",
   "metadata": {},
   "source": [
    "# -----------------------------"
   ]
  },
  {
   "cell_type": "markdown",
   "metadata": {},
   "source": [
    "# -----------------------------"
   ]
  },
  {
   "cell_type": "code",
   "execution_count": 258,
   "metadata": {
    "collapsed": false,
    "pycharm": {
     "name": "#%%\n"
    }
   },
   "outputs": [
    {
     "data": {
      "text/html": [
       "<div>\n",
       "<style scoped>\n",
       "    .dataframe tbody tr th:only-of-type {\n",
       "        vertical-align: middle;\n",
       "    }\n",
       "\n",
       "    .dataframe tbody tr th {\n",
       "        vertical-align: top;\n",
       "    }\n",
       "\n",
       "    .dataframe thead th {\n",
       "        text-align: right;\n",
       "    }\n",
       "</style>\n",
       "<table border=\"1\" class=\"dataframe\">\n",
       "  <thead>\n",
       "    <tr style=\"text-align: right;\">\n",
       "      <th></th>\n",
       "      <th>index</th>\n",
       "      <th>country</th>\n",
       "      <th>commodity</th>\n",
       "      <th>year</th>\n",
       "      <th>loss_percentage</th>\n",
       "      <th>activity</th>\n",
       "      <th>food_supply_stage</th>\n",
       "      <th>cause_of_loss</th>\n",
       "    </tr>\n",
       "  </thead>\n",
       "  <tbody>\n",
       "    <tr>\n",
       "      <th>151</th>\n",
       "      <td>3072</td>\n",
       "      <td>Benin</td>\n",
       "      <td>Maize (corn)</td>\n",
       "      <td>2000</td>\n",
       "      <td>6.42</td>\n",
       "      <td>Drying, Harvesting</td>\n",
       "      <td>Harvest</td>\n",
       "      <td>NaN</td>\n",
       "    </tr>\n",
       "    <tr>\n",
       "      <th>150</th>\n",
       "      <td>3071</td>\n",
       "      <td>Benin</td>\n",
       "      <td>Maize (corn)</td>\n",
       "      <td>2000</td>\n",
       "      <td>2.36</td>\n",
       "      <td>Transportation</td>\n",
       "      <td>Farm</td>\n",
       "      <td>NaN</td>\n",
       "    </tr>\n",
       "    <tr>\n",
       "      <th>149</th>\n",
       "      <td>3070</td>\n",
       "      <td>Benin</td>\n",
       "      <td>Maize (corn)</td>\n",
       "      <td>2000</td>\n",
       "      <td>4.00</td>\n",
       "      <td>Drying</td>\n",
       "      <td>Farm</td>\n",
       "      <td>NaN</td>\n",
       "    </tr>\n",
       "    <tr>\n",
       "      <th>148</th>\n",
       "      <td>3069</td>\n",
       "      <td>Benin</td>\n",
       "      <td>Maize (corn)</td>\n",
       "      <td>2000</td>\n",
       "      <td>3.05</td>\n",
       "      <td>Storage</td>\n",
       "      <td>Farm</td>\n",
       "      <td>NaN</td>\n",
       "    </tr>\n",
       "    <tr>\n",
       "      <th>147</th>\n",
       "      <td>3068</td>\n",
       "      <td>Benin</td>\n",
       "      <td>Maize (corn)</td>\n",
       "      <td>2000</td>\n",
       "      <td>1.65</td>\n",
       "      <td>Transportation</td>\n",
       "      <td>Transport</td>\n",
       "      <td>NaN</td>\n",
       "    </tr>\n",
       "    <tr>\n",
       "      <th>...</th>\n",
       "      <td>...</td>\n",
       "      <td>...</td>\n",
       "      <td>...</td>\n",
       "      <td>...</td>\n",
       "      <td>...</td>\n",
       "      <td>...</td>\n",
       "      <td>...</td>\n",
       "      <td>...</td>\n",
       "    </tr>\n",
       "    <tr>\n",
       "      <th>4</th>\n",
       "      <td>2452</td>\n",
       "      <td>Benin</td>\n",
       "      <td>Maize (corn)</td>\n",
       "      <td>2020</td>\n",
       "      <td>2.36</td>\n",
       "      <td>Transportation</td>\n",
       "      <td>Farm</td>\n",
       "      <td>NaN</td>\n",
       "    </tr>\n",
       "    <tr>\n",
       "      <th>3</th>\n",
       "      <td>2451</td>\n",
       "      <td>Benin</td>\n",
       "      <td>Maize (corn)</td>\n",
       "      <td>2020</td>\n",
       "      <td>4.00</td>\n",
       "      <td>Drying</td>\n",
       "      <td>Farm</td>\n",
       "      <td>NaN</td>\n",
       "    </tr>\n",
       "    <tr>\n",
       "      <th>2</th>\n",
       "      <td>2450</td>\n",
       "      <td>Benin</td>\n",
       "      <td>Maize (corn)</td>\n",
       "      <td>2020</td>\n",
       "      <td>6.42</td>\n",
       "      <td>Drying, Harvesting</td>\n",
       "      <td>Harvest</td>\n",
       "      <td>NaN</td>\n",
       "    </tr>\n",
       "    <tr>\n",
       "      <th>1</th>\n",
       "      <td>2449</td>\n",
       "      <td>Benin</td>\n",
       "      <td>Maize (corn)</td>\n",
       "      <td>2020</td>\n",
       "      <td>3.04</td>\n",
       "      <td>Storage</td>\n",
       "      <td>Farm</td>\n",
       "      <td>NaN</td>\n",
       "    </tr>\n",
       "    <tr>\n",
       "      <th>0</th>\n",
       "      <td>2448</td>\n",
       "      <td>Benin</td>\n",
       "      <td>Maize (corn)</td>\n",
       "      <td>2020</td>\n",
       "      <td>2.65</td>\n",
       "      <td>Storage</td>\n",
       "      <td>Storage</td>\n",
       "      <td>NaN</td>\n",
       "    </tr>\n",
       "  </tbody>\n",
       "</table>\n",
       "<p>152 rows × 8 columns</p>\n",
       "</div>"
      ],
      "text/plain": [
       "     index country     commodity  year  loss_percentage            activity  \\\n",
       "151   3072   Benin  Maize (corn)  2000             6.42  Drying, Harvesting   \n",
       "150   3071   Benin  Maize (corn)  2000             2.36      Transportation   \n",
       "149   3070   Benin  Maize (corn)  2000             4.00              Drying   \n",
       "148   3069   Benin  Maize (corn)  2000             3.05             Storage   \n",
       "147   3068   Benin  Maize (corn)  2000             1.65      Transportation   \n",
       "..     ...     ...           ...   ...              ...                 ...   \n",
       "4     2452   Benin  Maize (corn)  2020             2.36      Transportation   \n",
       "3     2451   Benin  Maize (corn)  2020             4.00              Drying   \n",
       "2     2450   Benin  Maize (corn)  2020             6.42  Drying, Harvesting   \n",
       "1     2449   Benin  Maize (corn)  2020             3.04             Storage   \n",
       "0     2448   Benin  Maize (corn)  2020             2.65             Storage   \n",
       "\n",
       "    food_supply_stage cause_of_loss  \n",
       "151           Harvest           NaN  \n",
       "150              Farm           NaN  \n",
       "149              Farm           NaN  \n",
       "148              Farm           NaN  \n",
       "147         Transport           NaN  \n",
       "..                ...           ...  \n",
       "4                Farm           NaN  \n",
       "3                Farm           NaN  \n",
       "2             Harvest           NaN  \n",
       "1                Farm           NaN  \n",
       "0             Storage           NaN  \n",
       "\n",
       "[152 rows x 8 columns]"
      ]
     },
     "execution_count": 258,
     "metadata": {},
     "output_type": "execute_result"
    }
   ],
   "source": [
    "df = pd.read_csv(\"Data/Data.csv\")\n",
    "df = df[[\"country\", \"commodity\", \"year\", \"loss_percentage\", \"activity\", \"food_supply_stage\", \"cause_of_loss\"]]\n",
    "\n",
    "def focus_on(country, commodity):\n",
    "    new_df = df[df.country == country]\n",
    "    new_df = new_df[new_df.commodity == commodity]\n",
    "    return new_df\n",
    "\n",
    "# data = focus_on(\"Kenya\", \"Maize (corn)\")\n",
    "data = focus_on(\"Benin\", \"Maize (corn)\")\n",
    "data = data.reset_index()\n",
    "data.sort_values(by=([\"index\"]), ascending=False, inplace=True)\n",
    "data"
   ]
  },
  {
   "cell_type": "code",
   "execution_count": null,
   "metadata": {
    "collapsed": false,
    "pycharm": {
     "name": "#%%\n"
    }
   },
   "outputs": [],
   "source": [
    "validate = data[[\"activity\",\"food_supply_stage\",\"loss_percentage\"]].tail(3)\n",
    "data.drop(data.tail(3).index,inplace=True)"
   ]
  },
  {
   "cell_type": "code",
   "execution_count": null,
   "metadata": {
    "collapsed": false,
    "pycharm": {
     "name": "#%%\n"
    }
   },
   "outputs": [],
   "source": [
    "for i in data.select_dtypes('object').columns:\n",
    "    le = LabelEncoder().fit(data[i])\n",
    "    data[i] = le.transform(data[i])\n",
    "X_scaler = MinMaxScaler()\n",
    "Y_scaler = MinMaxScaler()\n",
    "X_data = X_scaler.fit_transform(data[[\"activity\",\"food_supply_stage\",\"loss_percentage\"]])\n",
    "Y_data = Y_scaler.fit_transform(data[['loss_percentage']])"
   ]
  },
  {
   "cell_type": "code",
   "execution_count": null,
   "metadata": {
    "collapsed": false,
    "pycharm": {
     "name": "#%%\n"
    }
   },
   "outputs": [],
   "source": [
    "X_data"
   ]
  },
  {
   "cell_type": "code",
   "execution_count": null,
   "metadata": {
    "collapsed": false,
    "pycharm": {
     "name": "#%%\n"
    }
   },
   "outputs": [],
   "source": [
    "def custom_ts_multi_data_prep(dataset, target, start, end, window, horizon):\n",
    "     X = []\n",
    "     y = []\n",
    "     start = start + window\n",
    "     if end is None:\n",
    "         end = len(dataset) - horizon\n",
    "     for i in range(start, end):\n",
    "         indices = range(i-window, i)\n",
    "         X.append(dataset[indices])\n",
    "         indicey = range(i+1, i+1+horizon)\n",
    "         y.append(target[indicey])\n",
    "     return np.array(X), np.array(y)"
   ]
  },
  {
   "cell_type": "code",
   "execution_count": null,
   "metadata": {
    "collapsed": false,
    "pycharm": {
     "name": "#%%\n"
    }
   },
   "outputs": [],
   "source": [
    "hist_window = 8\n",
    "horizon = 3\n",
    "TRAIN_SPLIT = 120\n",
    "x_train, y_train = custom_ts_multi_data_prep(X_data, Y_data, 0, TRAIN_SPLIT, hist_window, horizon)\n",
    "x_vali, y_vali = custom_ts_multi_data_prep(X_data, Y_data, TRAIN_SPLIT, None, hist_window, horizon)"
   ]
  },
  {
   "cell_type": "code",
   "execution_count": null,
   "metadata": {
    "collapsed": false,
    "pycharm": {
     "name": "#%%\n"
    }
   },
   "outputs": [],
   "source": [
    "print ('Multiple window of past history\\n')\n",
    "print(x_train[0])\n",
    "print ('\\n Target horizon\\n')\n",
    "print (y_train[0])"
   ]
  },
  {
   "cell_type": "code",
   "execution_count": null,
   "metadata": {
    "collapsed": false,
    "pycharm": {
     "name": "#%%\n"
    }
   },
   "outputs": [],
   "source": [
    "batch_size = 256\n",
    "buffer_size = 150\n",
    "train_data = tf.data.Dataset.from_tensor_slices((x_train, y_train))\n",
    "train_data = train_data.cache().shuffle(buffer_size).batch(batch_size).repeat()\n",
    "val_data = tf.data.Dataset.from_tensor_slices((x_vali, y_vali))\n",
    "val_data = val_data.batch(batch_size).repeat()"
   ]
  },
  {
   "cell_type": "code",
   "execution_count": null,
   "metadata": {
    "collapsed": false,
    "pycharm": {
     "name": "#%%\n"
    }
   },
   "outputs": [],
   "source": [
    "lstm_model = tf.keras.models.Sequential([\n",
    "    tf.keras.layers.Bidirectional(tf.keras.layers.LSTM(300, return_sequences=True),\n",
    "                                input_shape=x_train.shape[-2:]),\n",
    "     tf.keras.layers.Dense(20, activation='tanh'),\n",
    "     tf.keras.layers.Bidirectional(tf.keras.layers.LSTM(150)),\n",
    "     # tf.keras.layers.Dense(30, activation='tanh'),\n",
    "     # tf.keras.layers.Dense(20, activation='tanh'),\n",
    "     tf.keras.layers.Dropout(0.15),\n",
    "     tf.keras.layers.Dense(units=horizon),\n",
    "    ])\n",
    "lstm_model.compile(optimizer='adam', loss='mse')\n",
    "lstm_model.summary()"
   ]
  },
  {
   "cell_type": "code",
   "execution_count": null,
   "metadata": {
    "collapsed": false,
    "pycharm": {
     "name": "#%%\n"
    }
   },
   "outputs": [],
   "source": [
    "model_path = 'Bidirectional_LSTM_Multivariate.h5'\n",
    "early_stopings = tf.keras.callbacks.EarlyStopping(monitor='val_loss', min_delta=0, patience=10, verbose=1, mode='min')\n",
    "checkpoint =  tf.keras.callbacks.ModelCheckpoint(model_path, monitor='val_loss', save_best_only=True, mode='min', verbose=0)\n",
    "callbacks=[early_stopings,checkpoint]\n",
    "history = lstm_model.fit(train_data,epochs=50,steps_per_epoch=100,validation_data=val_data,validation_steps=50,verbose=1,callbacks=callbacks)"
   ]
  },
  {
   "cell_type": "code",
   "execution_count": null,
   "metadata": {
    "collapsed": false,
    "pycharm": {
     "name": "#%%\n"
    }
   },
   "outputs": [],
   "source": [
    "plt.figure(figsize=(16,9))\n",
    "plt.plot(history.history['loss'])\n",
    "plt.plot(history.history['val_loss'])\n",
    "plt.title('Model loss')\n",
    "plt.ylabel('loss')\n",
    "plt.xlabel('epoch')\n",
    "plt.legend(['train loss', 'validation loss'])\n",
    "plt.show()"
   ]
  },
  {
   "cell_type": "code",
   "execution_count": null,
   "metadata": {
    "collapsed": false,
    "pycharm": {
     "name": "#%%\n"
    }
   },
   "outputs": [],
   "source": [
    "data_val = X_scaler.fit_transform(data[[\"activity\",\"food_supply_stage\",\"loss_percentage\"]].tail(8))\n",
    "val_rescaled = data_val.reshape(1, data_val.shape[0], data_val.shape[1])\n",
    "pred = lstm_model.predict(val_rescaled)\n",
    "pred_Inverse = Y_scaler.inverse_transform(pred)\n",
    "pred_Inverse"
   ]
  },
  {
   "cell_type": "code",
   "execution_count": null,
   "metadata": {
    "collapsed": false,
    "pycharm": {
     "name": "#%%\n"
    }
   },
   "outputs": [],
   "source": [
    "\n",
    "data_val"
   ]
  },
  {
   "cell_type": "code",
   "execution_count": null,
   "metadata": {
    "collapsed": false,
    "pycharm": {
     "name": "#%%\n"
    }
   },
   "outputs": [],
   "source": [
    "def timeseries_evaluation_metrics_func(y_true, y_pred):\n",
    "    def mean_absolute_percentage_error(y_true, y_pred):\n",
    "        y_true, y_pred = np.array(y_true), np.array(y_pred)\n",
    "        return np.mean(np.abs((y_true - y_pred) / y_true)) * 100\n",
    "    print('Evaluation metric results:-')\n",
    "    print(f'MSE is : {metrics.mean_squared_error(y_true, y_pred)}')\n",
    "    print(f'MAE is : {metrics.mean_absolute_error(y_true, y_pred)}')\n",
    "    print(f'RMSE is : {np.sqrt(metrics.mean_squared_error(y_true, y_pred))}')\n",
    "    print(f'MAPE is : {mean_absolute_percentage_error(y_true, y_pred)}')\n",
    "    print(f'R2 is : {metrics.r2_score(y_true, y_pred)}',end='\\n\\n')"
   ]
  },
  {
   "cell_type": "code",
   "execution_count": null,
   "metadata": {
    "collapsed": false,
    "pycharm": {
     "name": "#%%\n"
    }
   },
   "outputs": [],
   "source": [
    "timeseries_evaluation_metrics_func(validate[\"loss_percentage\"],pred_Inverse[0])"
   ]
  },
  {
   "cell_type": "code",
   "execution_count": null,
   "metadata": {
    "collapsed": false,
    "pycharm": {
     "name": "#%%\n"
    }
   },
   "outputs": [],
   "source": [
    "plt.figure(figsize=(16,9))\n",
    "plt.plot( list(validate['loss_percentage']))\n",
    "plt.plot( list(pred_Inverse[0]))\n",
    "plt.title(\"Actual vs Predicted\")\n",
    "plt.ylabel(\"Loss Percentage\")\n",
    "plt.xlabel('Years (After 2000)')\n",
    "plt.legend(('Actual','predicted'))\n",
    "plt.show()"
   ]
  },
  {
   "cell_type": "code",
   "execution_count": null,
   "metadata": {
    "collapsed": false,
    "pycharm": {
     "name": "#%%\n"
    }
   },
   "outputs": [],
   "source": [
    "data_val = X_scaler.fit_transform(data[[\"activity\",\"food_supply_stage\",\"loss_percentage\"]].tail(8))\n",
    "val_rescaled = data_val.reshape(1, data_val.shape[0], data_val.shape[1])"
   ]
  },
  {
   "cell_type": "code",
   "execution_count": null,
   "metadata": {
    "collapsed": false,
    "pycharm": {
     "name": "#%%\n"
    }
   },
   "outputs": [],
   "source": [
    "validate[\"loss_percentage\"]"
   ]
  },
  {
   "cell_type": "code",
   "execution_count": null,
   "metadata": {
    "collapsed": false,
    "pycharm": {
     "name": "#%%\n"
    }
   },
   "outputs": [],
   "source": [
    "pred_Inverse[0]"
   ]
  },
  {
   "cell_type": "code",
   "execution_count": null,
   "metadata": {
    "collapsed": false,
    "pycharm": {
     "name": "#%%\n"
    }
   },
   "outputs": [],
   "source": []
  },
  {
   "cell_type": "code",
   "execution_count": null,
   "metadata": {
    "collapsed": false,
    "pycharm": {
     "name": "#%%\n"
    }
   },
   "outputs": [],
   "source": []
  },
  {
   "cell_type": "code",
   "execution_count": null,
   "metadata": {
    "collapsed": false,
    "pycharm": {
     "name": "#%%\n"
    }
   },
   "outputs": [],
   "source": []
  },
  {
   "cell_type": "code",
   "execution_count": null,
   "metadata": {
    "collapsed": false,
    "pycharm": {
     "name": "#%%\n"
    }
   },
   "outputs": [],
   "source": []
  },
  {
   "cell_type": "code",
   "execution_count": null,
   "metadata": {
    "collapsed": false,
    "pycharm": {
     "name": "#%%\n"
    }
   },
   "outputs": [],
   "source": []
  },
  {
   "cell_type": "code",
   "execution_count": null,
   "metadata": {
    "collapsed": false,
    "pycharm": {
     "name": "#%%\n"
    }
   },
   "outputs": [],
   "source": []
  },
  {
   "cell_type": "code",
   "execution_count": null,
   "metadata": {
    "collapsed": false,
    "pycharm": {
     "name": "#%%\n"
    }
   },
   "outputs": [],
   "source": []
  },
  {
   "cell_type": "code",
   "execution_count": null,
   "metadata": {
    "collapsed": false,
    "pycharm": {
     "name": "#%%\n"
    }
   },
   "outputs": [],
   "source": []
  },
  {
   "cell_type": "code",
   "execution_count": null,
   "metadata": {
    "collapsed": false,
    "pycharm": {
     "name": "#%%\n"
    }
   },
   "outputs": [],
   "source": []
  },
  {
   "cell_type": "code",
   "execution_count": null,
   "metadata": {
    "collapsed": false,
    "pycharm": {
     "name": "#%%\n"
    }
   },
   "outputs": [],
   "source": []
  },
  {
   "cell_type": "code",
   "execution_count": null,
   "metadata": {
    "collapsed": false,
    "pycharm": {
     "name": "#%%\n"
    }
   },
   "outputs": [],
   "source": []
  },
  {
   "cell_type": "code",
   "execution_count": null,
   "metadata": {
    "collapsed": false,
    "pycharm": {
     "name": "#%%\n"
    }
   },
   "outputs": [],
   "source": []
  },
  {
   "cell_type": "code",
   "execution_count": null,
   "metadata": {
    "collapsed": false,
    "pycharm": {
     "name": "#%%\n"
    }
   },
   "outputs": [],
   "source": []
  },
  {
   "cell_type": "code",
   "execution_count": null,
   "metadata": {
    "collapsed": false,
    "pycharm": {
     "name": "#%%\n"
    }
   },
   "outputs": [],
   "source": []
  },
  {
   "cell_type": "markdown",
   "metadata": {
    "collapsed": false,
    "pycharm": {
     "name": "#%% md\n"
    }
   },
   "source": [
    "TUNING"
   ]
  },
  {
   "cell_type": "code",
   "execution_count": null,
   "metadata": {
    "collapsed": false,
    "pycharm": {
     "name": "#%%\n"
    }
   },
   "outputs": [],
   "source": [
    "HP_NUM_UNITS = hp.HParam('num_units', hp.Discrete([16, 32]))\n",
    "HP_DROPOUT = hp.HParam('dropout', hp.RealInterval(0.1, 0.2))\n",
    "HP_OPTIMIZER = hp.HParam('optimizer', hp.Discrete(['adam','sgd']))\n",
    "\n",
    "METRIC_ACCURACY = 'accuracy'\n",
    "\n",
    "with tf.summary.create_file_writer('logs/hparam_tuning').as_default():\n",
    "  hp.hparams_config(\n",
    "    hparams=[HP_NUM_UNITS, HP_DROPOUT, HP_OPTIMIZER],\n",
    "    metrics=[hp.Metric(METRIC_ACCURACY, display_name='Accuracy')],\n",
    "  )"
   ]
  },
  {
   "cell_type": "code",
   "execution_count": null,
   "metadata": {
    "collapsed": false,
    "pycharm": {
     "name": "#%%\n"
    }
   },
   "outputs": [],
   "source": [
    "def train_test_model(hparams):\n",
    "    lstm_model_opt = tf.keras.models.Sequential([\n",
    "        tf.keras.layers.Bidirectional(tf.keras.layers.LSTM(200, return_sequences=True),\n",
    "                                    input_shape=x_train.shape[-2:]),\n",
    "         tf.keras.layers.Dense(20, activation='tanh'),\n",
    "         tf.keras.layers.Bidirectional(tf.keras.layers.LSTM(150)),\n",
    "         tf.keras.layers.Dense(20, activation='tanh'),\n",
    "         tf.keras.layers.Dropout(0.25),\n",
    "         tf.keras.layers.Dense(units=horizon),\n",
    "        ])\n",
    "    lstm_model_opt.compile(optimizer=hparams[HP_OPTIMIZER], loss='mse')\n",
    "    lstm_model_opt.summary()\n",
    "    model_path = 'Bidirectional_LSTM_Multivariate_opt.h5'\n",
    "    early_stopings = tf.keras.callbacks.EarlyStopping(monitor='val_loss', min_delta=0.001, patience=5, verbose=1, mode='min')\n",
    "    checkpoint =  tf.keras.callbacks.ModelCheckpoint(model_path, monitor='val_loss', save_best_only=True, mode='min', verbose=0)\n",
    "    callbacks=[early_stopings,checkpoint]\n",
    "    history = lstm_model.fit(train_data,epochs=50,steps_per_epoch=100,validation_data=val_data,validation_steps=50,verbose=1,callbacks=callbacks)\n",
    "    (validate[\"loss_percentage\"], pred_Inverse[0])\n",
    "    return history"
   ]
  },
  {
   "cell_type": "code",
   "execution_count": null,
   "metadata": {
    "collapsed": false,
    "pycharm": {
     "name": "#%%\n"
    }
   },
   "outputs": [],
   "source": [
    "def run(run_dir, hparams):\n",
    "  with tf.summary.create_file_writer(run_dir).as_default():\n",
    "    hp.hparams(hparams)  # record the values used in this trial\n",
    "    history = train_test_model(hparams)\n",
    "    accuracy=model.evaluate(x_test, y_test)\n",
    "    tf.summary.scalar(METRIC_ACCURACY, step=1)"
   ]
  },
  {
   "cell_type": "code",
   "execution_count": null,
   "metadata": {
    "collapsed": false,
    "pycharm": {
     "name": "#%%\n"
    }
   },
   "outputs": [],
   "source": [
    "session_num = 0\n",
    "\n",
    "for num_units in HP_NUM_UNITS.domain.values:\n",
    "  for dropout_rate in (HP_DROPOUT.domain.min_value, HP_DROPOUT.domain.max_value):\n",
    "    for optimizer in HP_OPTIMIZER.domain.values:\n",
    "      hparams = {\n",
    "          HP_NUM_UNITS: num_units,\n",
    "          HP_DROPOUT: dropout_rate,\n",
    "          HP_OPTIMIZER: optimizer,\n",
    "      }\n",
    "      run_name = \"run-%d\" % session_num\n",
    "      print('--- Starting trial: %s' % run_name)\n",
    "      print({h.name: hparams[h] for h in hparams})\n",
    "      run('logs/hparam_tuning/' + run_name, hparams)\n",
    "      session_num += 1"
   ]
  },
  {
   "cell_type": "code",
   "execution_count": null,
   "metadata": {
    "collapsed": false,
    "pycharm": {
     "name": "#%%\n"
    }
   },
   "outputs": [],
   "source": [
    "plt.figure(figsize=(16, 9))\n",
    "plt.plot(history.history['loss'])\n",
    "plt.plot(history.history['val_loss'])\n",
    "plt.title('Model loss')\n",
    "plt.ylabel('loss')\n",
    "plt.xlabel('epoch')\n",
    "plt.legend(['train loss', 'validation loss'])\n",
    "plt.show()\n"
   ]
  },
  {
   "cell_type": "code",
   "execution_count": null,
   "metadata": {
    "collapsed": false,
    "pycharm": {
     "name": "#%%\n"
    }
   },
   "outputs": [],
   "source": [
    "data_val = X_scaler.fit_transform(data[[\"activity\", \"food_supply_stage\", \"loss_percentage\"]].tail(8))\n",
    "val_rescaled = data_val.reshape(1, data_val.shape[0], data_val.shape[1])\n",
    "pred = lstm_model.predict(val_rescaled)\n",
    "pred_Inverse = Y_scaler.inverse_transform(pred)\n",
    "pred_Inverse"
   ]
  },
  {
   "cell_type": "code",
   "execution_count": null,
   "metadata": {
    "collapsed": false,
    "pycharm": {
     "name": "#%%\n"
    }
   },
   "outputs": [],
   "source": [
    "def timeseries_evaluation_metrics_func(y_true, y_pred):\n",
    "    def mean_absolute_percentage_error(y_true, y_pred):\n",
    "        y_true, y_pred = np.array(y_true), np.array(y_pred)\n",
    "        return np.mean(np.abs((y_true - y_pred) / y_true)) * 100\n",
    "\n",
    "    print('Evaluation metric results:-')\n",
    "    print(f'MSE is : {metrics.mean_squared_error(y_true, y_pred)}')\n",
    "    print(f'MAE is : {metrics.mean_absolute_error(y_true, y_pred)}')\n",
    "    print(f'RMSE is : {np.sqrt(metrics.mean_squared_error(y_true, y_pred))}')\n",
    "    print(f'MAPE is : {mean_absolute_percentage_error(y_true, y_pred)}')\n",
    "    print(f'R2 is : {metrics.r2_score(y_true, y_pred)}', end='\\n\\n')\n",
    "\n",
    "\n",
    "timeseries_evaluation_metrics_func(validate[\"loss_percentage\"], pred_Inverse[0])\n",
    "plt.figure(figsize=(16, 9))\n",
    "plt.plot(list(validate['loss_percentage']))\n",
    "plt.plot(list(pred_Inverse[0]))\n",
    "plt.title(\"Actual vs Predicted\")\n",
    "plt.ylabel(\"Traffic volume\")\n",
    "plt.legend(('Actual', 'predicted'))\n",
    "plt.show()"
   ]
  }
 ],
 "metadata": {
  "kernelspec": {
   "display_name": "Python 3.9.0 ('venv')",
   "language": "python",
   "name": "python3"
  },
  "language_info": {
   "codemirror_mode": {
    "name": "ipython",
    "version": 3
   },
   "file_extension": ".py",
   "mimetype": "text/x-python",
   "name": "python",
   "nbconvert_exporter": "python",
   "pygments_lexer": "ipython3",
   "version": "3.9.0"
  },
  "vscode": {
   "interpreter": {
    "hash": "713654384febb35868ed951ad9309a525cf553cdc72ed92d2edb347802f3b56b"
   }
  }
 },
 "nbformat": 4,
 "nbformat_minor": 0
}
