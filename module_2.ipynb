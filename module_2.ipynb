{
 "cells": [
  {
   "cell_type": "code",
   "execution_count": 101,
   "metadata": {
    "collapsed": false,
    "pycharm": {
     "name": "#%%\n"
    }
   },
   "outputs": [],
   "source": [
    "import pandas as pd\n",
    "import plotly.express as px\n",
    "import matplotlib.pyplot as plt\n",
    "import numpy as np\n",
    "from keras import Sequential\n",
    "from keras.layers import LSTM, Dropout, Dense\n",
    "from keras.wrappers.scikit_learn import KerasRegressor\n",
    "from plotly.subplots import make_subplots\n",
    "import plotly.graph_objects as go\n",
    "from sklearn.model_selection import GridSearchCV\n",
    "from sklearn import metrics\n",
    "from sklearn.preprocessing import LabelEncoder, MinMaxScaler\n",
    "import tensorflow as tf\n",
    "from tensorboard.plugins.hparams import api as hp\n",
    "\n",
    "from tensorflow.keras.models import Sequential\n",
    "from tensorflow.keras.layers import *\n",
    "from tensorflow.keras.callbacks import ModelCheckpoint\n",
    "from tensorflow.keras.losses import MeanSquaredError\n",
    "from tensorflow.keras.metrics import RootMeanSquaredError\n",
    "from tensorflow.keras.optimizers import Adam\n"
   ]
  },
  {
   "cell_type": "code",
   "execution_count": 102,
   "metadata": {
    "collapsed": false,
    "pycharm": {
     "name": "#%%\n"
    }
   },
   "outputs": [],
   "source": [
    "df=pd.read_csv(\"Data/FoodBalanceSheets_E_All_Data/FoodBalanceSheets_E_All_Data_NOFLAG.csv\", encoding=\"latin-1\")"
   ]
  },
  {
   "cell_type": "code",
   "execution_count": 103,
   "metadata": {
    "collapsed": false,
    "pycharm": {
     "name": "#%%\n"
    }
   },
   "outputs": [
    {
     "data": {
      "text/html": [
       "<div>\n",
       "<style scoped>\n",
       "    .dataframe tbody tr th:only-of-type {\n",
       "        vertical-align: middle;\n",
       "    }\n",
       "\n",
       "    .dataframe tbody tr th {\n",
       "        vertical-align: top;\n",
       "    }\n",
       "\n",
       "    .dataframe thead th {\n",
       "        text-align: right;\n",
       "    }\n",
       "</style>\n",
       "<table border=\"1\" class=\"dataframe\">\n",
       "  <thead>\n",
       "    <tr style=\"text-align: right;\">\n",
       "      <th></th>\n",
       "      <th>Area</th>\n",
       "      <th>Item</th>\n",
       "      <th>Element</th>\n",
       "      <th>Unit</th>\n",
       "      <th>Y2010</th>\n",
       "      <th>Y2011</th>\n",
       "      <th>Y2012</th>\n",
       "      <th>Y2013</th>\n",
       "      <th>Y2014</th>\n",
       "      <th>Y2015</th>\n",
       "      <th>Y2016</th>\n",
       "      <th>Y2017</th>\n",
       "      <th>Y2018</th>\n",
       "      <th>Y2019</th>\n",
       "    </tr>\n",
       "  </thead>\n",
       "  <tbody>\n",
       "    <tr>\n",
       "      <th>0</th>\n",
       "      <td>Afghanistan</td>\n",
       "      <td>Population</td>\n",
       "      <td>Total Population - Both sexes</td>\n",
       "      <td>1000 persons</td>\n",
       "      <td>29186.00</td>\n",
       "      <td>30117.00</td>\n",
       "      <td>31161.00</td>\n",
       "      <td>32270.00</td>\n",
       "      <td>33371.00</td>\n",
       "      <td>34414.00</td>\n",
       "      <td>35383.00</td>\n",
       "      <td>36296.00</td>\n",
       "      <td>37172.00</td>\n",
       "      <td>38042.00</td>\n",
       "    </tr>\n",
       "    <tr>\n",
       "      <th>1</th>\n",
       "      <td>Afghanistan</td>\n",
       "      <td>Population</td>\n",
       "      <td>Domestic supply quantity</td>\n",
       "      <td>1000 tonnes</td>\n",
       "      <td>0.00</td>\n",
       "      <td>0.00</td>\n",
       "      <td>0.00</td>\n",
       "      <td>0.00</td>\n",
       "      <td>0.00</td>\n",
       "      <td>0.00</td>\n",
       "      <td>0.00</td>\n",
       "      <td>0.00</td>\n",
       "      <td>0.00</td>\n",
       "      <td>0.00</td>\n",
       "    </tr>\n",
       "    <tr>\n",
       "      <th>2</th>\n",
       "      <td>Afghanistan</td>\n",
       "      <td>Grand Total</td>\n",
       "      <td>Food supply (kcal/capita/day)</td>\n",
       "      <td>kcal/capita/day</td>\n",
       "      <td>2170.00</td>\n",
       "      <td>2152.00</td>\n",
       "      <td>2159.00</td>\n",
       "      <td>2196.00</td>\n",
       "      <td>2265.00</td>\n",
       "      <td>2250.00</td>\n",
       "      <td>2228.00</td>\n",
       "      <td>2303.00</td>\n",
       "      <td>2270.00</td>\n",
       "      <td>2273.00</td>\n",
       "    </tr>\n",
       "    <tr>\n",
       "      <th>3</th>\n",
       "      <td>Afghanistan</td>\n",
       "      <td>Grand Total</td>\n",
       "      <td>Protein supply quantity (g/capita/day)</td>\n",
       "      <td>g/capita/day</td>\n",
       "      <td>59.23</td>\n",
       "      <td>58.00</td>\n",
       "      <td>57.82</td>\n",
       "      <td>57.71</td>\n",
       "      <td>60.17</td>\n",
       "      <td>58.45</td>\n",
       "      <td>58.46</td>\n",
       "      <td>59.50</td>\n",
       "      <td>57.62</td>\n",
       "      <td>57.31</td>\n",
       "    </tr>\n",
       "    <tr>\n",
       "      <th>4</th>\n",
       "      <td>Afghanistan</td>\n",
       "      <td>Grand Total</td>\n",
       "      <td>Fat supply quantity (g/capita/day)</td>\n",
       "      <td>g/capita/day</td>\n",
       "      <td>36.69</td>\n",
       "      <td>34.81</td>\n",
       "      <td>36.53</td>\n",
       "      <td>37.10</td>\n",
       "      <td>41.48</td>\n",
       "      <td>38.28</td>\n",
       "      <td>40.70</td>\n",
       "      <td>40.03</td>\n",
       "      <td>41.46</td>\n",
       "      <td>39.78</td>\n",
       "    </tr>\n",
       "    <tr>\n",
       "      <th>...</th>\n",
       "      <td>...</td>\n",
       "      <td>...</td>\n",
       "      <td>...</td>\n",
       "      <td>...</td>\n",
       "      <td>...</td>\n",
       "      <td>...</td>\n",
       "      <td>...</td>\n",
       "      <td>...</td>\n",
       "      <td>...</td>\n",
       "      <td>...</td>\n",
       "      <td>...</td>\n",
       "      <td>...</td>\n",
       "      <td>...</td>\n",
       "      <td>...</td>\n",
       "    </tr>\n",
       "    <tr>\n",
       "      <th>319738</th>\n",
       "      <td>Net Food Importing Developing Countries</td>\n",
       "      <td>Miscellaneous</td>\n",
       "      <td>Food</td>\n",
       "      <td>1000 tonnes</td>\n",
       "      <td>787.00</td>\n",
       "      <td>839.00</td>\n",
       "      <td>921.00</td>\n",
       "      <td>935.00</td>\n",
       "      <td>958.00</td>\n",
       "      <td>992.00</td>\n",
       "      <td>1032.00</td>\n",
       "      <td>1066.00</td>\n",
       "      <td>1140.00</td>\n",
       "      <td>1199.00</td>\n",
       "    </tr>\n",
       "    <tr>\n",
       "      <th>319739</th>\n",
       "      <td>Net Food Importing Developing Countries</td>\n",
       "      <td>Miscellaneous</td>\n",
       "      <td>Food supply quantity (kg/capita/yr)</td>\n",
       "      <td>kg</td>\n",
       "      <td>0.62</td>\n",
       "      <td>0.65</td>\n",
       "      <td>0.68</td>\n",
       "      <td>0.67</td>\n",
       "      <td>0.67</td>\n",
       "      <td>0.68</td>\n",
       "      <td>0.69</td>\n",
       "      <td>0.70</td>\n",
       "      <td>0.73</td>\n",
       "      <td>0.75</td>\n",
       "    </tr>\n",
       "    <tr>\n",
       "      <th>319740</th>\n",
       "      <td>Net Food Importing Developing Countries</td>\n",
       "      <td>Miscellaneous</td>\n",
       "      <td>Food supply (kcal/capita/day)</td>\n",
       "      <td>kcal/capita/day</td>\n",
       "      <td>1.00</td>\n",
       "      <td>1.00</td>\n",
       "      <td>1.00</td>\n",
       "      <td>1.00</td>\n",
       "      <td>1.00</td>\n",
       "      <td>1.00</td>\n",
       "      <td>1.00</td>\n",
       "      <td>1.00</td>\n",
       "      <td>1.00</td>\n",
       "      <td>1.00</td>\n",
       "    </tr>\n",
       "    <tr>\n",
       "      <th>319741</th>\n",
       "      <td>Net Food Importing Developing Countries</td>\n",
       "      <td>Miscellaneous</td>\n",
       "      <td>Protein supply quantity (g/capita/day)</td>\n",
       "      <td>g/capita/day</td>\n",
       "      <td>0.02</td>\n",
       "      <td>0.02</td>\n",
       "      <td>0.02</td>\n",
       "      <td>0.02</td>\n",
       "      <td>0.02</td>\n",
       "      <td>0.02</td>\n",
       "      <td>0.02</td>\n",
       "      <td>0.02</td>\n",
       "      <td>0.02</td>\n",
       "      <td>0.02</td>\n",
       "    </tr>\n",
       "    <tr>\n",
       "      <th>319742</th>\n",
       "      <td>Net Food Importing Developing Countries</td>\n",
       "      <td>Miscellaneous</td>\n",
       "      <td>Fat supply quantity (g/capita/day)</td>\n",
       "      <td>g/capita/day</td>\n",
       "      <td>0.01</td>\n",
       "      <td>0.01</td>\n",
       "      <td>0.01</td>\n",
       "      <td>0.01</td>\n",
       "      <td>0.01</td>\n",
       "      <td>0.01</td>\n",
       "      <td>0.01</td>\n",
       "      <td>0.01</td>\n",
       "      <td>0.01</td>\n",
       "      <td>0.01</td>\n",
       "    </tr>\n",
       "  </tbody>\n",
       "</table>\n",
       "<p>319743 rows × 14 columns</p>\n",
       "</div>"
      ],
      "text/plain": [
       "                                           Area           Item  \\\n",
       "0                                   Afghanistan     Population   \n",
       "1                                   Afghanistan     Population   \n",
       "2                                   Afghanistan    Grand Total   \n",
       "3                                   Afghanistan    Grand Total   \n",
       "4                                   Afghanistan    Grand Total   \n",
       "...                                         ...            ...   \n",
       "319738  Net Food Importing Developing Countries  Miscellaneous   \n",
       "319739  Net Food Importing Developing Countries  Miscellaneous   \n",
       "319740  Net Food Importing Developing Countries  Miscellaneous   \n",
       "319741  Net Food Importing Developing Countries  Miscellaneous   \n",
       "319742  Net Food Importing Developing Countries  Miscellaneous   \n",
       "\n",
       "                                       Element             Unit     Y2010  \\\n",
       "0                Total Population - Both sexes     1000 persons  29186.00   \n",
       "1                     Domestic supply quantity      1000 tonnes      0.00   \n",
       "2                Food supply (kcal/capita/day)  kcal/capita/day   2170.00   \n",
       "3       Protein supply quantity (g/capita/day)     g/capita/day     59.23   \n",
       "4           Fat supply quantity (g/capita/day)     g/capita/day     36.69   \n",
       "...                                        ...              ...       ...   \n",
       "319738                                    Food      1000 tonnes    787.00   \n",
       "319739     Food supply quantity (kg/capita/yr)               kg      0.62   \n",
       "319740           Food supply (kcal/capita/day)  kcal/capita/day      1.00   \n",
       "319741  Protein supply quantity (g/capita/day)     g/capita/day      0.02   \n",
       "319742      Fat supply quantity (g/capita/day)     g/capita/day      0.01   \n",
       "\n",
       "           Y2011     Y2012     Y2013     Y2014     Y2015     Y2016     Y2017  \\\n",
       "0       30117.00  31161.00  32270.00  33371.00  34414.00  35383.00  36296.00   \n",
       "1           0.00      0.00      0.00      0.00      0.00      0.00      0.00   \n",
       "2        2152.00   2159.00   2196.00   2265.00   2250.00   2228.00   2303.00   \n",
       "3          58.00     57.82     57.71     60.17     58.45     58.46     59.50   \n",
       "4          34.81     36.53     37.10     41.48     38.28     40.70     40.03   \n",
       "...          ...       ...       ...       ...       ...       ...       ...   \n",
       "319738    839.00    921.00    935.00    958.00    992.00   1032.00   1066.00   \n",
       "319739      0.65      0.68      0.67      0.67      0.68      0.69      0.70   \n",
       "319740      1.00      1.00      1.00      1.00      1.00      1.00      1.00   \n",
       "319741      0.02      0.02      0.02      0.02      0.02      0.02      0.02   \n",
       "319742      0.01      0.01      0.01      0.01      0.01      0.01      0.01   \n",
       "\n",
       "           Y2018     Y2019  \n",
       "0       37172.00  38042.00  \n",
       "1           0.00      0.00  \n",
       "2        2270.00   2273.00  \n",
       "3          57.62     57.31  \n",
       "4          41.46     39.78  \n",
       "...          ...       ...  \n",
       "319738   1140.00   1199.00  \n",
       "319739      0.73      0.75  \n",
       "319740      1.00      1.00  \n",
       "319741      0.02      0.02  \n",
       "319742      0.01      0.01  \n",
       "\n",
       "[319743 rows x 14 columns]"
      ]
     },
     "execution_count": 103,
     "metadata": {},
     "output_type": "execute_result"
    }
   ],
   "source": [
    "df.drop([\"Area Code\",\"Item Code\",\"Element Code\"],axis=1,inplace=True)\n",
    "df"
   ]
  },
  {
   "cell_type": "code",
   "execution_count": 104,
   "metadata": {
    "collapsed": false,
    "pycharm": {
     "name": "#%%\n"
    }
   },
   "outputs": [],
   "source": [
    "df.dropna(axis=0, inplace=True)"
   ]
  },
  {
   "cell_type": "code",
   "execution_count": 105,
   "metadata": {
    "collapsed": false,
    "pycharm": {
     "name": "#%%\n"
    }
   },
   "outputs": [],
   "source": [
    "df=df.loc[~(df.iloc[:,4:]==0).all(axis=1)]"
   ]
  },
  {
   "cell_type": "code",
   "execution_count": 106,
   "metadata": {
    "collapsed": false,
    "pycharm": {
     "name": "#%%\n"
    }
   },
   "outputs": [
    {
     "data": {
      "text/plain": [
       "World                                      1738\n",
       "Asia                                       1659\n",
       "Net Food Importing Developing Countries    1604\n",
       "Americas                                   1590\n",
       "Africa                                     1551\n",
       "                                           ... \n",
       "Vanuatu                                     537\n",
       "Sao Tome and Principe                       524\n",
       "Saint Kitts and Nevis                       519\n",
       "Micronesia                                  461\n",
       "Kiribati                                    461\n",
       "Name: Area, Length: 212, dtype: int64"
      ]
     },
     "execution_count": 106,
     "metadata": {},
     "output_type": "execute_result"
    }
   ],
   "source": [
    "df.Area.value_counts()"
   ]
  },
  {
   "cell_type": "code",
   "execution_count": 107,
   "metadata": {
    "collapsed": false,
    "pycharm": {
     "name": "#%%\n"
    }
   },
   "outputs": [
    {
     "data": {
      "text/plain": [
       "Milk - Excluding Butter     5280\n",
       "Eggs                        4586\n",
       "Miscellaneous               3556\n",
       "Cereals - Excluding Beer    3243\n",
       "Oilcrops                    3075\n",
       "                            ... \n",
       "Cloves                       410\n",
       "Sugar non-centrifugal        321\n",
       "Palm kernels                 314\n",
       "Ricebran Oil                 213\n",
       "Population                   212\n",
       "Name: Item, Length: 119, dtype: int64"
      ]
     },
     "execution_count": 107,
     "metadata": {},
     "output_type": "execute_result"
    }
   ],
   "source": [
    "df.Item.value_counts()"
   ]
  },
  {
   "cell_type": "code",
   "execution_count": 108,
   "metadata": {
    "collapsed": false,
    "pycharm": {
     "name": "#%%\n"
    }
   },
   "outputs": [
    {
     "data": {
      "text/plain": [
       "array(['Total Population - Both sexes', 'Food supply (kcal/capita/day)',\n",
       "       'Protein supply quantity (g/capita/day)',\n",
       "       'Fat supply quantity (g/capita/day)', 'Production',\n",
       "       'Import Quantity', 'Stock Variation', 'Export Quantity',\n",
       "       'Domestic supply quantity', 'Feed', 'Seed', 'Losses', 'Residuals',\n",
       "       'Food', 'Food supply quantity (kg/capita/yr)', 'Processing',\n",
       "       'Other uses (non-food)', 'Tourist consumption'], dtype=object)"
      ]
     },
     "execution_count": 108,
     "metadata": {},
     "output_type": "execute_result"
    }
   ],
   "source": [
    "df.Element.unique()"
   ]
  },
  {
   "cell_type": "code",
   "execution_count": 109,
   "metadata": {
    "collapsed": false,
    "pycharm": {
     "name": "#%%\n"
    }
   },
   "outputs": [],
   "source": [
    "def select(area,item ):\n",
    "    data=df[df.Area==area]\n",
    "    data=data[data['Item'].str.contains(item)]\n",
    "    return data"
   ]
  },
  {
   "cell_type": "code",
   "execution_count": 110,
   "metadata": {
    "collapsed": false,
    "pycharm": {
     "name": "#%%\n"
    }
   },
   "outputs": [],
   "source": [
    "data=select(\"China\",\"Cereals - Ex\")"
   ]
  },
  {
   "cell_type": "code",
   "execution_count": 111,
   "metadata": {
    "collapsed": false,
    "pycharm": {
     "name": "#%%\n"
    }
   },
   "outputs": [
    {
     "data": {
      "text/html": [
       "<div>\n",
       "<style scoped>\n",
       "    .dataframe tbody tr th:only-of-type {\n",
       "        vertical-align: middle;\n",
       "    }\n",
       "\n",
       "    .dataframe tbody tr th {\n",
       "        vertical-align: top;\n",
       "    }\n",
       "\n",
       "    .dataframe thead th {\n",
       "        text-align: right;\n",
       "    }\n",
       "</style>\n",
       "<table border=\"1\" class=\"dataframe\">\n",
       "  <thead>\n",
       "    <tr style=\"text-align: right;\">\n",
       "      <th></th>\n",
       "      <th>Area</th>\n",
       "      <th>Item</th>\n",
       "      <th>Element</th>\n",
       "      <th>Unit</th>\n",
       "      <th>Y2010</th>\n",
       "      <th>Y2011</th>\n",
       "      <th>Y2012</th>\n",
       "      <th>Y2013</th>\n",
       "      <th>Y2014</th>\n",
       "      <th>Y2015</th>\n",
       "      <th>Y2016</th>\n",
       "      <th>Y2017</th>\n",
       "      <th>Y2018</th>\n",
       "      <th>Y2019</th>\n",
       "    </tr>\n",
       "  </thead>\n",
       "  <tbody>\n",
       "    <tr>\n",
       "      <th>44939</th>\n",
       "      <td>China</td>\n",
       "      <td>Cereals - Excluding Beer</td>\n",
       "      <td>Production</td>\n",
       "      <td>1000 tonnes</td>\n",
       "      <td>498113.00</td>\n",
       "      <td>521383.00</td>\n",
       "      <td>541368.00</td>\n",
       "      <td>554623.00</td>\n",
       "      <td>559483.00</td>\n",
       "      <td>620074.00</td>\n",
       "      <td>616491.00</td>\n",
       "      <td>616130.00</td>\n",
       "      <td>611244.00</td>\n",
       "      <td>614914.00</td>\n",
       "    </tr>\n",
       "    <tr>\n",
       "      <th>44940</th>\n",
       "      <td>China</td>\n",
       "      <td>Cereals - Excluding Beer</td>\n",
       "      <td>Import Quantity</td>\n",
       "      <td>1000 tonnes</td>\n",
       "      <td>13861.00</td>\n",
       "      <td>13044.00</td>\n",
       "      <td>22636.00</td>\n",
       "      <td>22952.00</td>\n",
       "      <td>28186.00</td>\n",
       "      <td>41880.00</td>\n",
       "      <td>31380.00</td>\n",
       "      <td>35473.00</td>\n",
       "      <td>29491.00</td>\n",
       "      <td>27492.00</td>\n",
       "    </tr>\n",
       "    <tr>\n",
       "      <th>44941</th>\n",
       "      <td>China</td>\n",
       "      <td>Cereals - Excluding Beer</td>\n",
       "      <td>Stock Variation</td>\n",
       "      <td>1000 tonnes</td>\n",
       "      <td>8114.00</td>\n",
       "      <td>16754.00</td>\n",
       "      <td>34353.00</td>\n",
       "      <td>64549.00</td>\n",
       "      <td>75918.00</td>\n",
       "      <td>80210.00</td>\n",
       "      <td>44705.00</td>\n",
       "      <td>35028.00</td>\n",
       "      <td>7514.00</td>\n",
       "      <td>6019.00</td>\n",
       "    </tr>\n",
       "    <tr>\n",
       "      <th>44942</th>\n",
       "      <td>China</td>\n",
       "      <td>Cereals - Excluding Beer</td>\n",
       "      <td>Export Quantity</td>\n",
       "      <td>1000 tonnes</td>\n",
       "      <td>3127.00</td>\n",
       "      <td>2793.00</td>\n",
       "      <td>2456.00</td>\n",
       "      <td>2414.00</td>\n",
       "      <td>2029.00</td>\n",
       "      <td>1770.00</td>\n",
       "      <td>2323.00</td>\n",
       "      <td>3686.00</td>\n",
       "      <td>5683.00</td>\n",
       "      <td>7154.00</td>\n",
       "    </tr>\n",
       "    <tr>\n",
       "      <th>44943</th>\n",
       "      <td>China</td>\n",
       "      <td>Cereals - Excluding Beer</td>\n",
       "      <td>Domestic supply quantity</td>\n",
       "      <td>1000 tonnes</td>\n",
       "      <td>500734.00</td>\n",
       "      <td>514880.00</td>\n",
       "      <td>527195.00</td>\n",
       "      <td>510613.00</td>\n",
       "      <td>509722.00</td>\n",
       "      <td>579975.00</td>\n",
       "      <td>600843.00</td>\n",
       "      <td>612889.00</td>\n",
       "      <td>627539.00</td>\n",
       "      <td>629233.00</td>\n",
       "    </tr>\n",
       "    <tr>\n",
       "      <th>44944</th>\n",
       "      <td>China</td>\n",
       "      <td>Cereals - Excluding Beer</td>\n",
       "      <td>Feed</td>\n",
       "      <td>1000 tonnes</td>\n",
       "      <td>151931.00</td>\n",
       "      <td>158640.00</td>\n",
       "      <td>164114.00</td>\n",
       "      <td>151419.00</td>\n",
       "      <td>146148.00</td>\n",
       "      <td>188554.00</td>\n",
       "      <td>211366.00</td>\n",
       "      <td>219363.00</td>\n",
       "      <td>231253.00</td>\n",
       "      <td>232039.00</td>\n",
       "    </tr>\n",
       "    <tr>\n",
       "      <th>44945</th>\n",
       "      <td>China</td>\n",
       "      <td>Cereals - Excluding Beer</td>\n",
       "      <td>Seed</td>\n",
       "      <td>1000 tonnes</td>\n",
       "      <td>13242.00</td>\n",
       "      <td>13073.00</td>\n",
       "      <td>13167.00</td>\n",
       "      <td>12518.00</td>\n",
       "      <td>13292.00</td>\n",
       "      <td>13672.00</td>\n",
       "      <td>13576.00</td>\n",
       "      <td>13449.00</td>\n",
       "      <td>13225.00</td>\n",
       "      <td>12829.00</td>\n",
       "    </tr>\n",
       "    <tr>\n",
       "      <th>44946</th>\n",
       "      <td>China</td>\n",
       "      <td>Cereals - Excluding Beer</td>\n",
       "      <td>Losses</td>\n",
       "      <td>1000 tonnes</td>\n",
       "      <td>19013.00</td>\n",
       "      <td>19976.00</td>\n",
       "      <td>21105.00</td>\n",
       "      <td>21453.00</td>\n",
       "      <td>21926.00</td>\n",
       "      <td>24945.00</td>\n",
       "      <td>24365.00</td>\n",
       "      <td>24293.00</td>\n",
       "      <td>24021.00</td>\n",
       "      <td>23997.00</td>\n",
       "    </tr>\n",
       "    <tr>\n",
       "      <th>44947</th>\n",
       "      <td>China</td>\n",
       "      <td>Cereals - Excluding Beer</td>\n",
       "      <td>Processing</td>\n",
       "      <td>1000 tonnes</td>\n",
       "      <td>11574.00</td>\n",
       "      <td>12760.00</td>\n",
       "      <td>12688.00</td>\n",
       "      <td>13384.00</td>\n",
       "      <td>16191.00</td>\n",
       "      <td>15775.00</td>\n",
       "      <td>14741.00</td>\n",
       "      <td>14499.00</td>\n",
       "      <td>12829.00</td>\n",
       "      <td>12608.00</td>\n",
       "    </tr>\n",
       "    <tr>\n",
       "      <th>44948</th>\n",
       "      <td>China</td>\n",
       "      <td>Cereals - Excluding Beer</td>\n",
       "      <td>Other uses (non-food)</td>\n",
       "      <td>1000 tonnes</td>\n",
       "      <td>28599.00</td>\n",
       "      <td>29694.00</td>\n",
       "      <td>32682.00</td>\n",
       "      <td>30592.00</td>\n",
       "      <td>28518.00</td>\n",
       "      <td>48065.00</td>\n",
       "      <td>49183.00</td>\n",
       "      <td>50367.00</td>\n",
       "      <td>52781.00</td>\n",
       "      <td>52100.00</td>\n",
       "    </tr>\n",
       "    <tr>\n",
       "      <th>44949</th>\n",
       "      <td>China</td>\n",
       "      <td>Cereals - Excluding Beer</td>\n",
       "      <td>Tourist consumption</td>\n",
       "      <td>1000 tonnes</td>\n",
       "      <td>23.00</td>\n",
       "      <td>23.00</td>\n",
       "      <td>22.00</td>\n",
       "      <td>22.00</td>\n",
       "      <td>11.00</td>\n",
       "      <td>12.00</td>\n",
       "      <td>10.00</td>\n",
       "      <td>11.00</td>\n",
       "      <td>12.00</td>\n",
       "      <td>12.00</td>\n",
       "    </tr>\n",
       "    <tr>\n",
       "      <th>44950</th>\n",
       "      <td>China</td>\n",
       "      <td>Cereals - Excluding Beer</td>\n",
       "      <td>Residuals</td>\n",
       "      <td>1000 tonnes</td>\n",
       "      <td>0.00</td>\n",
       "      <td>0.00</td>\n",
       "      <td>0.00</td>\n",
       "      <td>-8.00</td>\n",
       "      <td>1.00</td>\n",
       "      <td>1.00</td>\n",
       "      <td>1.00</td>\n",
       "      <td>1.00</td>\n",
       "      <td>1.00</td>\n",
       "      <td>10.00</td>\n",
       "    </tr>\n",
       "    <tr>\n",
       "      <th>44951</th>\n",
       "      <td>China</td>\n",
       "      <td>Cereals - Excluding Beer</td>\n",
       "      <td>Food</td>\n",
       "      <td>1000 tonnes</td>\n",
       "      <td>276351.00</td>\n",
       "      <td>280713.00</td>\n",
       "      <td>283417.00</td>\n",
       "      <td>281233.00</td>\n",
       "      <td>283635.00</td>\n",
       "      <td>288951.00</td>\n",
       "      <td>287601.00</td>\n",
       "      <td>290907.00</td>\n",
       "      <td>293416.00</td>\n",
       "      <td>295637.00</td>\n",
       "    </tr>\n",
       "    <tr>\n",
       "      <th>44952</th>\n",
       "      <td>China</td>\n",
       "      <td>Cereals - Excluding Beer</td>\n",
       "      <td>Food supply quantity (kg/capita/yr)</td>\n",
       "      <td>kg</td>\n",
       "      <td>197.46</td>\n",
       "      <td>199.47</td>\n",
       "      <td>200.27</td>\n",
       "      <td>197.64</td>\n",
       "      <td>198.25</td>\n",
       "      <td>200.91</td>\n",
       "      <td>198.96</td>\n",
       "      <td>200.26</td>\n",
       "      <td>201.06</td>\n",
       "      <td>201.71</td>\n",
       "    </tr>\n",
       "    <tr>\n",
       "      <th>44953</th>\n",
       "      <td>China</td>\n",
       "      <td>Cereals - Excluding Beer</td>\n",
       "      <td>Food supply (kcal/capita/day)</td>\n",
       "      <td>kcal/capita/day</td>\n",
       "      <td>1483.00</td>\n",
       "      <td>1500.00</td>\n",
       "      <td>1505.00</td>\n",
       "      <td>1485.00</td>\n",
       "      <td>1489.00</td>\n",
       "      <td>1511.00</td>\n",
       "      <td>1501.00</td>\n",
       "      <td>1513.00</td>\n",
       "      <td>1517.00</td>\n",
       "      <td>1523.00</td>\n",
       "    </tr>\n",
       "    <tr>\n",
       "      <th>44954</th>\n",
       "      <td>China</td>\n",
       "      <td>Cereals - Excluding Beer</td>\n",
       "      <td>Protein supply quantity (g/capita/day)</td>\n",
       "      <td>g/capita/day</td>\n",
       "      <td>35.15</td>\n",
       "      <td>35.67</td>\n",
       "      <td>35.69</td>\n",
       "      <td>35.19</td>\n",
       "      <td>35.21</td>\n",
       "      <td>35.83</td>\n",
       "      <td>35.70</td>\n",
       "      <td>36.09</td>\n",
       "      <td>36.02</td>\n",
       "      <td>36.15</td>\n",
       "    </tr>\n",
       "    <tr>\n",
       "      <th>44955</th>\n",
       "      <td>China</td>\n",
       "      <td>Cereals - Excluding Beer</td>\n",
       "      <td>Fat supply quantity (g/capita/day)</td>\n",
       "      <td>g/capita/day</td>\n",
       "      <td>6.11</td>\n",
       "      <td>6.20</td>\n",
       "      <td>6.22</td>\n",
       "      <td>6.18</td>\n",
       "      <td>6.22</td>\n",
       "      <td>6.41</td>\n",
       "      <td>6.42</td>\n",
       "      <td>6.48</td>\n",
       "      <td>6.45</td>\n",
       "      <td>6.45</td>\n",
       "    </tr>\n",
       "  </tbody>\n",
       "</table>\n",
       "</div>"
      ],
      "text/plain": [
       "        Area                      Item  \\\n",
       "44939  China  Cereals - Excluding Beer   \n",
       "44940  China  Cereals - Excluding Beer   \n",
       "44941  China  Cereals - Excluding Beer   \n",
       "44942  China  Cereals - Excluding Beer   \n",
       "44943  China  Cereals - Excluding Beer   \n",
       "44944  China  Cereals - Excluding Beer   \n",
       "44945  China  Cereals - Excluding Beer   \n",
       "44946  China  Cereals - Excluding Beer   \n",
       "44947  China  Cereals - Excluding Beer   \n",
       "44948  China  Cereals - Excluding Beer   \n",
       "44949  China  Cereals - Excluding Beer   \n",
       "44950  China  Cereals - Excluding Beer   \n",
       "44951  China  Cereals - Excluding Beer   \n",
       "44952  China  Cereals - Excluding Beer   \n",
       "44953  China  Cereals - Excluding Beer   \n",
       "44954  China  Cereals - Excluding Beer   \n",
       "44955  China  Cereals - Excluding Beer   \n",
       "\n",
       "                                      Element             Unit      Y2010  \\\n",
       "44939                              Production      1000 tonnes  498113.00   \n",
       "44940                         Import Quantity      1000 tonnes   13861.00   \n",
       "44941                         Stock Variation      1000 tonnes    8114.00   \n",
       "44942                         Export Quantity      1000 tonnes    3127.00   \n",
       "44943                Domestic supply quantity      1000 tonnes  500734.00   \n",
       "44944                                    Feed      1000 tonnes  151931.00   \n",
       "44945                                    Seed      1000 tonnes   13242.00   \n",
       "44946                                  Losses      1000 tonnes   19013.00   \n",
       "44947                              Processing      1000 tonnes   11574.00   \n",
       "44948                   Other uses (non-food)      1000 tonnes   28599.00   \n",
       "44949                     Tourist consumption      1000 tonnes      23.00   \n",
       "44950                               Residuals      1000 tonnes       0.00   \n",
       "44951                                    Food      1000 tonnes  276351.00   \n",
       "44952     Food supply quantity (kg/capita/yr)               kg     197.46   \n",
       "44953           Food supply (kcal/capita/day)  kcal/capita/day    1483.00   \n",
       "44954  Protein supply quantity (g/capita/day)     g/capita/day      35.15   \n",
       "44955      Fat supply quantity (g/capita/day)     g/capita/day       6.11   \n",
       "\n",
       "           Y2011      Y2012      Y2013      Y2014      Y2015      Y2016  \\\n",
       "44939  521383.00  541368.00  554623.00  559483.00  620074.00  616491.00   \n",
       "44940   13044.00   22636.00   22952.00   28186.00   41880.00   31380.00   \n",
       "44941   16754.00   34353.00   64549.00   75918.00   80210.00   44705.00   \n",
       "44942    2793.00    2456.00    2414.00    2029.00    1770.00    2323.00   \n",
       "44943  514880.00  527195.00  510613.00  509722.00  579975.00  600843.00   \n",
       "44944  158640.00  164114.00  151419.00  146148.00  188554.00  211366.00   \n",
       "44945   13073.00   13167.00   12518.00   13292.00   13672.00   13576.00   \n",
       "44946   19976.00   21105.00   21453.00   21926.00   24945.00   24365.00   \n",
       "44947   12760.00   12688.00   13384.00   16191.00   15775.00   14741.00   \n",
       "44948   29694.00   32682.00   30592.00   28518.00   48065.00   49183.00   \n",
       "44949      23.00      22.00      22.00      11.00      12.00      10.00   \n",
       "44950       0.00       0.00      -8.00       1.00       1.00       1.00   \n",
       "44951  280713.00  283417.00  281233.00  283635.00  288951.00  287601.00   \n",
       "44952     199.47     200.27     197.64     198.25     200.91     198.96   \n",
       "44953    1500.00    1505.00    1485.00    1489.00    1511.00    1501.00   \n",
       "44954      35.67      35.69      35.19      35.21      35.83      35.70   \n",
       "44955       6.20       6.22       6.18       6.22       6.41       6.42   \n",
       "\n",
       "           Y2017      Y2018      Y2019  \n",
       "44939  616130.00  611244.00  614914.00  \n",
       "44940   35473.00   29491.00   27492.00  \n",
       "44941   35028.00    7514.00    6019.00  \n",
       "44942    3686.00    5683.00    7154.00  \n",
       "44943  612889.00  627539.00  629233.00  \n",
       "44944  219363.00  231253.00  232039.00  \n",
       "44945   13449.00   13225.00   12829.00  \n",
       "44946   24293.00   24021.00   23997.00  \n",
       "44947   14499.00   12829.00   12608.00  \n",
       "44948   50367.00   52781.00   52100.00  \n",
       "44949      11.00      12.00      12.00  \n",
       "44950       1.00       1.00      10.00  \n",
       "44951  290907.00  293416.00  295637.00  \n",
       "44952     200.26     201.06     201.71  \n",
       "44953    1513.00    1517.00    1523.00  \n",
       "44954      36.09      36.02      36.15  \n",
       "44955       6.48       6.45       6.45  "
      ]
     },
     "execution_count": 111,
     "metadata": {},
     "output_type": "execute_result"
    }
   ],
   "source": [
    "data"
   ]
  },
  {
   "cell_type": "code",
   "execution_count": 112,
   "metadata": {
    "collapsed": false,
    "pycharm": {
     "name": "#%%\n"
    }
   },
   "outputs": [],
   "source": [
    "def mean_based(year):\n",
    "    try:\n",
    "        mean_pred=[]\n",
    "        losses=data[data.Element==\"Losses\"].iloc[0,4:]\n",
    "        count=0\n",
    "        sum=0\n",
    "        for i in losses.index:\n",
    "            if i==\"Y\"+str(year):\n",
    "                break\n",
    "            sum=losses[i]+sum\n",
    "            count+=1\n",
    "        mean_pred=sum/count\n",
    "        return mean_pred\n",
    "    except:\n",
    "        return losses[\"Y\"+str(year)]"
   ]
  },
  {
   "cell_type": "code",
   "execution_count": 113,
   "metadata": {
    "collapsed": false,
    "pycharm": {
     "name": "#%%\n"
    }
   },
   "outputs": [
    {
     "data": {
      "text/plain": [
       "22509.4"
      ]
     },
     "execution_count": 113,
     "metadata": {},
     "output_type": "execute_result"
    }
   ],
   "source": [
    "predd=mean_based(2005)\n",
    "predd"
   ]
  },
  {
   "cell_type": "code",
   "execution_count": 114,
   "metadata": {
    "collapsed": false,
    "pycharm": {
     "name": "#%%\n"
    }
   },
   "outputs": [
    {
     "name": "stderr",
     "output_type": "stream",
     "text": [
      "/var/folders/t6/nkv95bj97gv9j73w9bfk2p0r0000gn/T/ipykernel_11843/3604102451.py:6: SettingWithCopyWarning: \n",
      "A value is trying to be set on a copy of a slice from a DataFrame\n",
      "\n",
      "See the caveats in the documentation: https://pandas.pydata.org/pandas-docs/stable/user_guide/indexing.html#returning-a-view-versus-a-copy\n",
      "  losses[\"MeanBasedPred\"][i]=mean_based(int(i[1:]))\n"
     ]
    }
   ],
   "source": [
    "mean_based_pred=[]\n",
    "losses=pd.DataFrame(data[data.Element==\"Losses\"].iloc[0,4:])\n",
    "losses.columns=[\"Actual\"]\n",
    "losses[\"MeanBasedPred\"]=np.zeros([len(losses)])\n",
    "for i in losses.index:\n",
    "    losses[\"MeanBasedPred\"][i]=mean_based(int(i[1:]))"
   ]
  },
  {
   "cell_type": "code",
   "execution_count": 115,
   "metadata": {
    "collapsed": false,
    "pycharm": {
     "name": "#%%\n"
    }
   },
   "outputs": [
    {
     "data": {
      "text/plain": [
       "2010"
      ]
     },
     "execution_count": 115,
     "metadata": {},
     "output_type": "execute_result"
    }
   ],
   "source": [
    "int(losses.index[0][1:])"
   ]
  },
  {
   "cell_type": "code",
   "execution_count": 116,
   "metadata": {
    "collapsed": false,
    "pycharm": {
     "name": "#%%\n"
    }
   },
   "outputs": [
    {
     "data": {
      "text/plain": [
       "19013.0"
      ]
     },
     "execution_count": 116,
     "metadata": {},
     "output_type": "execute_result"
    }
   ],
   "source": [
    "losses[\"Actual\"][\"Y2010\"]"
   ]
  },
  {
   "cell_type": "code",
   "execution_count": 117,
   "metadata": {
    "collapsed": false,
    "pycharm": {
     "name": "#%%\n"
    }
   },
   "outputs": [
    {
     "data": {
      "text/html": [
       "<div>\n",
       "<style scoped>\n",
       "    .dataframe tbody tr th:only-of-type {\n",
       "        vertical-align: middle;\n",
       "    }\n",
       "\n",
       "    .dataframe tbody tr th {\n",
       "        vertical-align: top;\n",
       "    }\n",
       "\n",
       "    .dataframe thead th {\n",
       "        text-align: right;\n",
       "    }\n",
       "</style>\n",
       "<table border=\"1\" class=\"dataframe\">\n",
       "  <thead>\n",
       "    <tr style=\"text-align: right;\">\n",
       "      <th></th>\n",
       "      <th>Actual</th>\n",
       "      <th>MeanBasedPred</th>\n",
       "    </tr>\n",
       "  </thead>\n",
       "  <tbody>\n",
       "    <tr>\n",
       "      <th>Y2010</th>\n",
       "      <td>19013.0</td>\n",
       "      <td>19013.000000</td>\n",
       "    </tr>\n",
       "    <tr>\n",
       "      <th>Y2011</th>\n",
       "      <td>19976.0</td>\n",
       "      <td>19013.000000</td>\n",
       "    </tr>\n",
       "    <tr>\n",
       "      <th>Y2012</th>\n",
       "      <td>21105.0</td>\n",
       "      <td>19494.500000</td>\n",
       "    </tr>\n",
       "    <tr>\n",
       "      <th>Y2013</th>\n",
       "      <td>21453.0</td>\n",
       "      <td>20031.333333</td>\n",
       "    </tr>\n",
       "    <tr>\n",
       "      <th>Y2014</th>\n",
       "      <td>21926.0</td>\n",
       "      <td>20386.750000</td>\n",
       "    </tr>\n",
       "    <tr>\n",
       "      <th>Y2015</th>\n",
       "      <td>24945.0</td>\n",
       "      <td>20694.600000</td>\n",
       "    </tr>\n",
       "    <tr>\n",
       "      <th>Y2016</th>\n",
       "      <td>24365.0</td>\n",
       "      <td>21403.000000</td>\n",
       "    </tr>\n",
       "    <tr>\n",
       "      <th>Y2017</th>\n",
       "      <td>24293.0</td>\n",
       "      <td>21826.142857</td>\n",
       "    </tr>\n",
       "    <tr>\n",
       "      <th>Y2018</th>\n",
       "      <td>24021.0</td>\n",
       "      <td>22134.500000</td>\n",
       "    </tr>\n",
       "    <tr>\n",
       "      <th>Y2019</th>\n",
       "      <td>23997.0</td>\n",
       "      <td>22344.111111</td>\n",
       "    </tr>\n",
       "  </tbody>\n",
       "</table>\n",
       "</div>"
      ],
      "text/plain": [
       "        Actual  MeanBasedPred\n",
       "Y2010  19013.0   19013.000000\n",
       "Y2011  19976.0   19013.000000\n",
       "Y2012  21105.0   19494.500000\n",
       "Y2013  21453.0   20031.333333\n",
       "Y2014  21926.0   20386.750000\n",
       "Y2015  24945.0   20694.600000\n",
       "Y2016  24365.0   21403.000000\n",
       "Y2017  24293.0   21826.142857\n",
       "Y2018  24021.0   22134.500000\n",
       "Y2019  23997.0   22344.111111"
      ]
     },
     "execution_count": 117,
     "metadata": {},
     "output_type": "execute_result"
    }
   ],
   "source": [
    "losses"
   ]
  },
  {
   "cell_type": "code",
   "execution_count": 118,
   "metadata": {
    "collapsed": false,
    "pycharm": {
     "name": "#%%\n"
    }
   },
   "outputs": [
    {
     "data": {
      "text/plain": [
       "Y2010    1399503000.0\n",
       "Y2011    1407325000.0\n",
       "Y2012    1415164000.0\n",
       "Y2013    1422971000.0\n",
       "Y2014    1430671000.0\n",
       "Y2015    1438193000.0\n",
       "Y2016    1445524000.0\n",
       "Y2017    1452626000.0\n",
       "Y2018    1459378000.0\n",
       "Y2019    1465634000.0\n",
       "Name: 44928, dtype: object"
      ]
     },
     "execution_count": 118,
     "metadata": {},
     "output_type": "execute_result"
    }
   ],
   "source": [
    "population=df[df[\"Element\"]==\"Total Population - Both sexes\"]\n",
    "population=population[population.Area==\"China\"].iloc[0,4:]*1000\n",
    "population"
   ]
  },
  {
   "cell_type": "code",
   "execution_count": 119,
   "metadata": {
    "collapsed": false,
    "pycharm": {
     "name": "#%%\n"
    }
   },
   "outputs": [
    {
     "data": {
      "text/html": [
       "<div>\n",
       "<style scoped>\n",
       "    .dataframe tbody tr th:only-of-type {\n",
       "        vertical-align: middle;\n",
       "    }\n",
       "\n",
       "    .dataframe tbody tr th {\n",
       "        vertical-align: top;\n",
       "    }\n",
       "\n",
       "    .dataframe thead th {\n",
       "        text-align: right;\n",
       "    }\n",
       "</style>\n",
       "<table border=\"1\" class=\"dataframe\">\n",
       "  <thead>\n",
       "    <tr style=\"text-align: right;\">\n",
       "      <th></th>\n",
       "      <th>Area</th>\n",
       "      <th>Item</th>\n",
       "      <th>Element</th>\n",
       "      <th>Unit</th>\n",
       "      <th>Y2010</th>\n",
       "      <th>Y2011</th>\n",
       "      <th>Y2012</th>\n",
       "      <th>Y2013</th>\n",
       "      <th>Y2014</th>\n",
       "      <th>Y2015</th>\n",
       "      <th>Y2016</th>\n",
       "      <th>Y2017</th>\n",
       "      <th>Y2018</th>\n",
       "      <th>Y2019</th>\n",
       "    </tr>\n",
       "  </thead>\n",
       "  <tbody>\n",
       "    <tr>\n",
       "      <th>44939</th>\n",
       "      <td>China</td>\n",
       "      <td>Cereals - Excluding Beer</td>\n",
       "      <td>Production</td>\n",
       "      <td>1000 tonnes</td>\n",
       "      <td>498113.00</td>\n",
       "      <td>521383.00</td>\n",
       "      <td>541368.00</td>\n",
       "      <td>554623.00</td>\n",
       "      <td>559483.00</td>\n",
       "      <td>620074.00</td>\n",
       "      <td>616491.00</td>\n",
       "      <td>616130.00</td>\n",
       "      <td>611244.00</td>\n",
       "      <td>614914.00</td>\n",
       "    </tr>\n",
       "    <tr>\n",
       "      <th>44940</th>\n",
       "      <td>China</td>\n",
       "      <td>Cereals - Excluding Beer</td>\n",
       "      <td>Import Quantity</td>\n",
       "      <td>1000 tonnes</td>\n",
       "      <td>13861.00</td>\n",
       "      <td>13044.00</td>\n",
       "      <td>22636.00</td>\n",
       "      <td>22952.00</td>\n",
       "      <td>28186.00</td>\n",
       "      <td>41880.00</td>\n",
       "      <td>31380.00</td>\n",
       "      <td>35473.00</td>\n",
       "      <td>29491.00</td>\n",
       "      <td>27492.00</td>\n",
       "    </tr>\n",
       "    <tr>\n",
       "      <th>44941</th>\n",
       "      <td>China</td>\n",
       "      <td>Cereals - Excluding Beer</td>\n",
       "      <td>Stock Variation</td>\n",
       "      <td>1000 tonnes</td>\n",
       "      <td>8114.00</td>\n",
       "      <td>16754.00</td>\n",
       "      <td>34353.00</td>\n",
       "      <td>64549.00</td>\n",
       "      <td>75918.00</td>\n",
       "      <td>80210.00</td>\n",
       "      <td>44705.00</td>\n",
       "      <td>35028.00</td>\n",
       "      <td>7514.00</td>\n",
       "      <td>6019.00</td>\n",
       "    </tr>\n",
       "    <tr>\n",
       "      <th>44942</th>\n",
       "      <td>China</td>\n",
       "      <td>Cereals - Excluding Beer</td>\n",
       "      <td>Export Quantity</td>\n",
       "      <td>1000 tonnes</td>\n",
       "      <td>3127.00</td>\n",
       "      <td>2793.00</td>\n",
       "      <td>2456.00</td>\n",
       "      <td>2414.00</td>\n",
       "      <td>2029.00</td>\n",
       "      <td>1770.00</td>\n",
       "      <td>2323.00</td>\n",
       "      <td>3686.00</td>\n",
       "      <td>5683.00</td>\n",
       "      <td>7154.00</td>\n",
       "    </tr>\n",
       "    <tr>\n",
       "      <th>44943</th>\n",
       "      <td>China</td>\n",
       "      <td>Cereals - Excluding Beer</td>\n",
       "      <td>Domestic supply quantity</td>\n",
       "      <td>1000 tonnes</td>\n",
       "      <td>500734.00</td>\n",
       "      <td>514880.00</td>\n",
       "      <td>527195.00</td>\n",
       "      <td>510613.00</td>\n",
       "      <td>509722.00</td>\n",
       "      <td>579975.00</td>\n",
       "      <td>600843.00</td>\n",
       "      <td>612889.00</td>\n",
       "      <td>627539.00</td>\n",
       "      <td>629233.00</td>\n",
       "    </tr>\n",
       "    <tr>\n",
       "      <th>44944</th>\n",
       "      <td>China</td>\n",
       "      <td>Cereals - Excluding Beer</td>\n",
       "      <td>Feed</td>\n",
       "      <td>1000 tonnes</td>\n",
       "      <td>151931.00</td>\n",
       "      <td>158640.00</td>\n",
       "      <td>164114.00</td>\n",
       "      <td>151419.00</td>\n",
       "      <td>146148.00</td>\n",
       "      <td>188554.00</td>\n",
       "      <td>211366.00</td>\n",
       "      <td>219363.00</td>\n",
       "      <td>231253.00</td>\n",
       "      <td>232039.00</td>\n",
       "    </tr>\n",
       "    <tr>\n",
       "      <th>44945</th>\n",
       "      <td>China</td>\n",
       "      <td>Cereals - Excluding Beer</td>\n",
       "      <td>Seed</td>\n",
       "      <td>1000 tonnes</td>\n",
       "      <td>13242.00</td>\n",
       "      <td>13073.00</td>\n",
       "      <td>13167.00</td>\n",
       "      <td>12518.00</td>\n",
       "      <td>13292.00</td>\n",
       "      <td>13672.00</td>\n",
       "      <td>13576.00</td>\n",
       "      <td>13449.00</td>\n",
       "      <td>13225.00</td>\n",
       "      <td>12829.00</td>\n",
       "    </tr>\n",
       "    <tr>\n",
       "      <th>44946</th>\n",
       "      <td>China</td>\n",
       "      <td>Cereals - Excluding Beer</td>\n",
       "      <td>Losses</td>\n",
       "      <td>1000 tonnes</td>\n",
       "      <td>19013.00</td>\n",
       "      <td>19976.00</td>\n",
       "      <td>21105.00</td>\n",
       "      <td>21453.00</td>\n",
       "      <td>21926.00</td>\n",
       "      <td>24945.00</td>\n",
       "      <td>24365.00</td>\n",
       "      <td>24293.00</td>\n",
       "      <td>24021.00</td>\n",
       "      <td>23997.00</td>\n",
       "    </tr>\n",
       "    <tr>\n",
       "      <th>44947</th>\n",
       "      <td>China</td>\n",
       "      <td>Cereals - Excluding Beer</td>\n",
       "      <td>Processing</td>\n",
       "      <td>1000 tonnes</td>\n",
       "      <td>11574.00</td>\n",
       "      <td>12760.00</td>\n",
       "      <td>12688.00</td>\n",
       "      <td>13384.00</td>\n",
       "      <td>16191.00</td>\n",
       "      <td>15775.00</td>\n",
       "      <td>14741.00</td>\n",
       "      <td>14499.00</td>\n",
       "      <td>12829.00</td>\n",
       "      <td>12608.00</td>\n",
       "    </tr>\n",
       "    <tr>\n",
       "      <th>44948</th>\n",
       "      <td>China</td>\n",
       "      <td>Cereals - Excluding Beer</td>\n",
       "      <td>Other uses (non-food)</td>\n",
       "      <td>1000 tonnes</td>\n",
       "      <td>28599.00</td>\n",
       "      <td>29694.00</td>\n",
       "      <td>32682.00</td>\n",
       "      <td>30592.00</td>\n",
       "      <td>28518.00</td>\n",
       "      <td>48065.00</td>\n",
       "      <td>49183.00</td>\n",
       "      <td>50367.00</td>\n",
       "      <td>52781.00</td>\n",
       "      <td>52100.00</td>\n",
       "    </tr>\n",
       "    <tr>\n",
       "      <th>44949</th>\n",
       "      <td>China</td>\n",
       "      <td>Cereals - Excluding Beer</td>\n",
       "      <td>Tourist consumption</td>\n",
       "      <td>1000 tonnes</td>\n",
       "      <td>23.00</td>\n",
       "      <td>23.00</td>\n",
       "      <td>22.00</td>\n",
       "      <td>22.00</td>\n",
       "      <td>11.00</td>\n",
       "      <td>12.00</td>\n",
       "      <td>10.00</td>\n",
       "      <td>11.00</td>\n",
       "      <td>12.00</td>\n",
       "      <td>12.00</td>\n",
       "    </tr>\n",
       "    <tr>\n",
       "      <th>44950</th>\n",
       "      <td>China</td>\n",
       "      <td>Cereals - Excluding Beer</td>\n",
       "      <td>Residuals</td>\n",
       "      <td>1000 tonnes</td>\n",
       "      <td>0.00</td>\n",
       "      <td>0.00</td>\n",
       "      <td>0.00</td>\n",
       "      <td>-8.00</td>\n",
       "      <td>1.00</td>\n",
       "      <td>1.00</td>\n",
       "      <td>1.00</td>\n",
       "      <td>1.00</td>\n",
       "      <td>1.00</td>\n",
       "      <td>10.00</td>\n",
       "    </tr>\n",
       "    <tr>\n",
       "      <th>44951</th>\n",
       "      <td>China</td>\n",
       "      <td>Cereals - Excluding Beer</td>\n",
       "      <td>Food</td>\n",
       "      <td>1000 tonnes</td>\n",
       "      <td>276351.00</td>\n",
       "      <td>280713.00</td>\n",
       "      <td>283417.00</td>\n",
       "      <td>281233.00</td>\n",
       "      <td>283635.00</td>\n",
       "      <td>288951.00</td>\n",
       "      <td>287601.00</td>\n",
       "      <td>290907.00</td>\n",
       "      <td>293416.00</td>\n",
       "      <td>295637.00</td>\n",
       "    </tr>\n",
       "    <tr>\n",
       "      <th>44952</th>\n",
       "      <td>China</td>\n",
       "      <td>Cereals - Excluding Beer</td>\n",
       "      <td>Food supply quantity (kg/capita/yr)</td>\n",
       "      <td>kg</td>\n",
       "      <td>197.46</td>\n",
       "      <td>199.47</td>\n",
       "      <td>200.27</td>\n",
       "      <td>197.64</td>\n",
       "      <td>198.25</td>\n",
       "      <td>200.91</td>\n",
       "      <td>198.96</td>\n",
       "      <td>200.26</td>\n",
       "      <td>201.06</td>\n",
       "      <td>201.71</td>\n",
       "    </tr>\n",
       "    <tr>\n",
       "      <th>44953</th>\n",
       "      <td>China</td>\n",
       "      <td>Cereals - Excluding Beer</td>\n",
       "      <td>Food supply (kcal/capita/day)</td>\n",
       "      <td>kcal/capita/day</td>\n",
       "      <td>1483.00</td>\n",
       "      <td>1500.00</td>\n",
       "      <td>1505.00</td>\n",
       "      <td>1485.00</td>\n",
       "      <td>1489.00</td>\n",
       "      <td>1511.00</td>\n",
       "      <td>1501.00</td>\n",
       "      <td>1513.00</td>\n",
       "      <td>1517.00</td>\n",
       "      <td>1523.00</td>\n",
       "    </tr>\n",
       "    <tr>\n",
       "      <th>44954</th>\n",
       "      <td>China</td>\n",
       "      <td>Cereals - Excluding Beer</td>\n",
       "      <td>Protein supply quantity (g/capita/day)</td>\n",
       "      <td>g/capita/day</td>\n",
       "      <td>35.15</td>\n",
       "      <td>35.67</td>\n",
       "      <td>35.69</td>\n",
       "      <td>35.19</td>\n",
       "      <td>35.21</td>\n",
       "      <td>35.83</td>\n",
       "      <td>35.70</td>\n",
       "      <td>36.09</td>\n",
       "      <td>36.02</td>\n",
       "      <td>36.15</td>\n",
       "    </tr>\n",
       "    <tr>\n",
       "      <th>44955</th>\n",
       "      <td>China</td>\n",
       "      <td>Cereals - Excluding Beer</td>\n",
       "      <td>Fat supply quantity (g/capita/day)</td>\n",
       "      <td>g/capita/day</td>\n",
       "      <td>6.11</td>\n",
       "      <td>6.20</td>\n",
       "      <td>6.22</td>\n",
       "      <td>6.18</td>\n",
       "      <td>6.22</td>\n",
       "      <td>6.41</td>\n",
       "      <td>6.42</td>\n",
       "      <td>6.48</td>\n",
       "      <td>6.45</td>\n",
       "      <td>6.45</td>\n",
       "    </tr>\n",
       "  </tbody>\n",
       "</table>\n",
       "</div>"
      ],
      "text/plain": [
       "        Area                      Item  \\\n",
       "44939  China  Cereals - Excluding Beer   \n",
       "44940  China  Cereals - Excluding Beer   \n",
       "44941  China  Cereals - Excluding Beer   \n",
       "44942  China  Cereals - Excluding Beer   \n",
       "44943  China  Cereals - Excluding Beer   \n",
       "44944  China  Cereals - Excluding Beer   \n",
       "44945  China  Cereals - Excluding Beer   \n",
       "44946  China  Cereals - Excluding Beer   \n",
       "44947  China  Cereals - Excluding Beer   \n",
       "44948  China  Cereals - Excluding Beer   \n",
       "44949  China  Cereals - Excluding Beer   \n",
       "44950  China  Cereals - Excluding Beer   \n",
       "44951  China  Cereals - Excluding Beer   \n",
       "44952  China  Cereals - Excluding Beer   \n",
       "44953  China  Cereals - Excluding Beer   \n",
       "44954  China  Cereals - Excluding Beer   \n",
       "44955  China  Cereals - Excluding Beer   \n",
       "\n",
       "                                      Element             Unit      Y2010  \\\n",
       "44939                              Production      1000 tonnes  498113.00   \n",
       "44940                         Import Quantity      1000 tonnes   13861.00   \n",
       "44941                         Stock Variation      1000 tonnes    8114.00   \n",
       "44942                         Export Quantity      1000 tonnes    3127.00   \n",
       "44943                Domestic supply quantity      1000 tonnes  500734.00   \n",
       "44944                                    Feed      1000 tonnes  151931.00   \n",
       "44945                                    Seed      1000 tonnes   13242.00   \n",
       "44946                                  Losses      1000 tonnes   19013.00   \n",
       "44947                              Processing      1000 tonnes   11574.00   \n",
       "44948                   Other uses (non-food)      1000 tonnes   28599.00   \n",
       "44949                     Tourist consumption      1000 tonnes      23.00   \n",
       "44950                               Residuals      1000 tonnes       0.00   \n",
       "44951                                    Food      1000 tonnes  276351.00   \n",
       "44952     Food supply quantity (kg/capita/yr)               kg     197.46   \n",
       "44953           Food supply (kcal/capita/day)  kcal/capita/day    1483.00   \n",
       "44954  Protein supply quantity (g/capita/day)     g/capita/day      35.15   \n",
       "44955      Fat supply quantity (g/capita/day)     g/capita/day       6.11   \n",
       "\n",
       "           Y2011      Y2012      Y2013      Y2014      Y2015      Y2016  \\\n",
       "44939  521383.00  541368.00  554623.00  559483.00  620074.00  616491.00   \n",
       "44940   13044.00   22636.00   22952.00   28186.00   41880.00   31380.00   \n",
       "44941   16754.00   34353.00   64549.00   75918.00   80210.00   44705.00   \n",
       "44942    2793.00    2456.00    2414.00    2029.00    1770.00    2323.00   \n",
       "44943  514880.00  527195.00  510613.00  509722.00  579975.00  600843.00   \n",
       "44944  158640.00  164114.00  151419.00  146148.00  188554.00  211366.00   \n",
       "44945   13073.00   13167.00   12518.00   13292.00   13672.00   13576.00   \n",
       "44946   19976.00   21105.00   21453.00   21926.00   24945.00   24365.00   \n",
       "44947   12760.00   12688.00   13384.00   16191.00   15775.00   14741.00   \n",
       "44948   29694.00   32682.00   30592.00   28518.00   48065.00   49183.00   \n",
       "44949      23.00      22.00      22.00      11.00      12.00      10.00   \n",
       "44950       0.00       0.00      -8.00       1.00       1.00       1.00   \n",
       "44951  280713.00  283417.00  281233.00  283635.00  288951.00  287601.00   \n",
       "44952     199.47     200.27     197.64     198.25     200.91     198.96   \n",
       "44953    1500.00    1505.00    1485.00    1489.00    1511.00    1501.00   \n",
       "44954      35.67      35.69      35.19      35.21      35.83      35.70   \n",
       "44955       6.20       6.22       6.18       6.22       6.41       6.42   \n",
       "\n",
       "           Y2017      Y2018      Y2019  \n",
       "44939  616130.00  611244.00  614914.00  \n",
       "44940   35473.00   29491.00   27492.00  \n",
       "44941   35028.00    7514.00    6019.00  \n",
       "44942    3686.00    5683.00    7154.00  \n",
       "44943  612889.00  627539.00  629233.00  \n",
       "44944  219363.00  231253.00  232039.00  \n",
       "44945   13449.00   13225.00   12829.00  \n",
       "44946   24293.00   24021.00   23997.00  \n",
       "44947   14499.00   12829.00   12608.00  \n",
       "44948   50367.00   52781.00   52100.00  \n",
       "44949      11.00      12.00      12.00  \n",
       "44950       1.00       1.00      10.00  \n",
       "44951  290907.00  293416.00  295637.00  \n",
       "44952     200.26     201.06     201.71  \n",
       "44953    1513.00    1517.00    1523.00  \n",
       "44954      36.09      36.02      36.15  \n",
       "44955       6.48       6.45       6.45  "
      ]
     },
     "execution_count": 119,
     "metadata": {},
     "output_type": "execute_result"
    }
   ],
   "source": [
    "data"
   ]
  },
  {
   "cell_type": "code",
   "execution_count": 120,
   "metadata": {
    "collapsed": false,
    "pycharm": {
     "name": "#%%\n"
    }
   },
   "outputs": [],
   "source": [
    "lstm_data=pd.DataFrame(population)\n",
    "lstm_data.columns=[\"Population\"]"
   ]
  },
  {
   "cell_type": "code",
   "execution_count": 121,
   "metadata": {
    "collapsed": false,
    "pycharm": {
     "name": "#%%\n"
    }
   },
   "outputs": [],
   "source": [
    "lstm_data[\"Actual Loss\"]=losses[\"Actual\"]"
   ]
  },
  {
   "cell_type": "markdown",
   "metadata": {},
   "source": [
    "# LSTM MODEL"
   ]
  },
  {
   "cell_type": "code",
   "execution_count": 122,
   "metadata": {
    "collapsed": false,
    "pycharm": {
     "name": "#%%\n"
    }
   },
   "outputs": [
    {
     "data": {
      "text/html": [
       "<div>\n",
       "<style scoped>\n",
       "    .dataframe tbody tr th:only-of-type {\n",
       "        vertical-align: middle;\n",
       "    }\n",
       "\n",
       "    .dataframe tbody tr th {\n",
       "        vertical-align: top;\n",
       "    }\n",
       "\n",
       "    .dataframe thead th {\n",
       "        text-align: right;\n",
       "    }\n",
       "</style>\n",
       "<table border=\"1\" class=\"dataframe\">\n",
       "  <thead>\n",
       "    <tr style=\"text-align: right;\">\n",
       "      <th></th>\n",
       "      <th>Population</th>\n",
       "      <th>Actual Loss</th>\n",
       "    </tr>\n",
       "  </thead>\n",
       "  <tbody>\n",
       "    <tr>\n",
       "      <th>Y2010</th>\n",
       "      <td>1399503000.0</td>\n",
       "      <td>19013.0</td>\n",
       "    </tr>\n",
       "    <tr>\n",
       "      <th>Y2011</th>\n",
       "      <td>1407325000.0</td>\n",
       "      <td>19976.0</td>\n",
       "    </tr>\n",
       "    <tr>\n",
       "      <th>Y2012</th>\n",
       "      <td>1415164000.0</td>\n",
       "      <td>21105.0</td>\n",
       "    </tr>\n",
       "    <tr>\n",
       "      <th>Y2013</th>\n",
       "      <td>1422971000.0</td>\n",
       "      <td>21453.0</td>\n",
       "    </tr>\n",
       "    <tr>\n",
       "      <th>Y2014</th>\n",
       "      <td>1430671000.0</td>\n",
       "      <td>21926.0</td>\n",
       "    </tr>\n",
       "    <tr>\n",
       "      <th>Y2015</th>\n",
       "      <td>1438193000.0</td>\n",
       "      <td>24945.0</td>\n",
       "    </tr>\n",
       "    <tr>\n",
       "      <th>Y2016</th>\n",
       "      <td>1445524000.0</td>\n",
       "      <td>24365.0</td>\n",
       "    </tr>\n",
       "    <tr>\n",
       "      <th>Y2017</th>\n",
       "      <td>1452626000.0</td>\n",
       "      <td>24293.0</td>\n",
       "    </tr>\n",
       "    <tr>\n",
       "      <th>Y2018</th>\n",
       "      <td>1459378000.0</td>\n",
       "      <td>24021.0</td>\n",
       "    </tr>\n",
       "    <tr>\n",
       "      <th>Y2019</th>\n",
       "      <td>1465634000.0</td>\n",
       "      <td>23997.0</td>\n",
       "    </tr>\n",
       "  </tbody>\n",
       "</table>\n",
       "</div>"
      ],
      "text/plain": [
       "         Population Actual Loss\n",
       "Y2010  1399503000.0     19013.0\n",
       "Y2011  1407325000.0     19976.0\n",
       "Y2012  1415164000.0     21105.0\n",
       "Y2013  1422971000.0     21453.0\n",
       "Y2014  1430671000.0     21926.0\n",
       "Y2015  1438193000.0     24945.0\n",
       "Y2016  1445524000.0     24365.0\n",
       "Y2017  1452626000.0     24293.0\n",
       "Y2018  1459378000.0     24021.0\n",
       "Y2019  1465634000.0     23997.0"
      ]
     },
     "execution_count": 122,
     "metadata": {},
     "output_type": "execute_result"
    }
   ],
   "source": [
    "lstm_data"
   ]
  },
  {
   "cell_type": "code",
   "execution_count": 123,
   "metadata": {
    "collapsed": false,
    "pycharm": {
     "name": "#%%\n"
    }
   },
   "outputs": [],
   "source": [
    "# df_for_training=lstm_data[:-3].to_numpy()\n",
    "# df_for_testing=lstm_data[-3:].to_numpy()"
   ]
  },
  {
   "cell_type": "code",
   "execution_count": 124,
   "metadata": {
    "collapsed": false,
    "pycharm": {
     "name": "#%%\n"
    }
   },
   "outputs": [],
   "source": [
    "# scaler = MinMaxScaler(feature_range=(0,1))\n",
    "# df_for_training_scaled = scaler.fit_transform(df_for_training)\n",
    "# df_for_testing_scaled=scaler.transform(df_for_testing)\n",
    "# type(df_for_training_scaled)"
   ]
  },
  {
   "cell_type": "code",
   "execution_count": 125,
   "metadata": {
    "collapsed": false,
    "pycharm": {
     "name": "#%%\n"
    }
   },
   "outputs": [],
   "source": [
    "def df_to_X_y(df, window_size=5):\n",
    "  df_as_np = df.to_numpy()\n",
    "  X = []\n",
    "  y = []\n",
    "  for i in range(len(df_as_np)-window_size):\n",
    "    row = [[a] for a in df_as_np[i:i+window_size]]\n",
    "    X.append(row)\n",
    "    label = df_as_np[i+window_size]\n",
    "    y.append(label)\n",
    "  return np.array(X), np.array(y)"
   ]
  },
  {
   "cell_type": "code",
   "execution_count": 126,
   "metadata": {},
   "outputs": [
    {
     "data": {
      "text/plain": [
       "((5, 5, 1), (5,))"
      ]
     },
     "execution_count": 126,
     "metadata": {},
     "output_type": "execute_result"
    }
   ],
   "source": [
    "WINDOW_SIZE = 5\n",
    "X1, y1 = df_to_X_y(lstm_data[\"Actual Loss\"], WINDOW_SIZE)\n",
    "X1.shape, y1.shape"
   ]
  },
  {
   "cell_type": "code",
   "execution_count": 128,
   "metadata": {},
   "outputs": [
    {
     "data": {
      "text/plain": [
       "((3, 5, 1), (3,), (1, 5, 1), (1,), (1, 5, 1), (1,))"
      ]
     },
     "execution_count": 128,
     "metadata": {},
     "output_type": "execute_result"
    }
   ],
   "source": [
    "X_train1, y_train1 = X1[:3], y1[:3]\n",
    "X_val1, y_val1 = X1[3:4], y1[3:4]\n",
    "X_test1, y_test1 = X1[4:], y1[4:]\n",
    "X_train1.shape, y_train1.shape, X_val1.shape, y_val1.shape, X_test1.shape, y_test1.shape"
   ]
  },
  {
   "cell_type": "code",
   "execution_count": 129,
   "metadata": {},
   "outputs": [
    {
     "name": "stdout",
     "output_type": "stream",
     "text": [
      "Model: \"sequential_4\"\n",
      "_________________________________________________________________\n",
      " Layer (type)                Output Shape              Param #   \n",
      "=================================================================\n",
      " lstm_2 (LSTM)               (None, 64)                16896     \n",
      "                                                                 \n",
      " dense_8 (Dense)             (None, 8)                 520       \n",
      "                                                                 \n",
      " dense_9 (Dense)             (None, 1)                 9         \n",
      "                                                                 \n",
      "=================================================================\n",
      "Total params: 17,425\n",
      "Trainable params: 17,425\n",
      "Non-trainable params: 0\n",
      "_________________________________________________________________\n"
     ]
    }
   ],
   "source": []
  },
  {
   "cell_type": "code",
   "execution_count": 132,
   "metadata": {
    "collapsed": false,
    "pycharm": {
     "name": "#%%\n"
    }
   },
   "outputs": [],
   "source": [
    "model1 = Sequential()\n",
    "model1.add(InputLayer((5, 1)))\n",
    "model1.add(LSTM(64))\n",
    "model1.add(Dense(8, 'relu'))\n",
    "model1.add(Dense(1, 'linear'))\n",
    "\n",
    "# model1.summary()\n",
    "\n",
    "cp1 = ModelCheckpoint('model1/', save_best_only=True)\n",
    "model1.compile(loss=MeanSquaredError(), optimizer=Adam(learning_rate=10), metrics=[RootMeanSquaredError()])\n",
    "\n",
    "model1.fit(X_train1, y_train1, validation_data=(X_val1, y_val1), epochs=20, callbacks=[cp1])"
   ]
  },
  {
   "cell_type": "code",
   "execution_count": 134,
   "metadata": {
    "collapsed": false,
    "pycharm": {
     "name": "#%%\n"
    }
   },
   "outputs": [
    {
     "name": "stdout",
     "output_type": "stream",
     "text": [
      "Epoch 1/20\n",
      "1/1 [==============================] - ETA: 0s - loss: 410631520.0000 - root_mean_squared_error: 20264.0449"
     ]
    },
    {
     "name": "stderr",
     "output_type": "stream",
     "text": [
      "WARNING:absl:Found untraced functions such as lstm_cell_3_layer_call_fn, lstm_cell_3_layer_call_and_return_conditional_losses while saving (showing 2 of 2). These functions will not be directly callable after loading.\n"
     ]
    },
    {
     "name": "stdout",
     "output_type": "stream",
     "text": [
      "INFO:tensorflow:Assets written to: model1/assets\n"
     ]
    },
    {
     "name": "stderr",
     "output_type": "stream",
     "text": [
      "INFO:tensorflow:Assets written to: model1/assets\n"
     ]
    },
    {
     "name": "stdout",
     "output_type": "stream",
     "text": [
      "1/1 [==============================] - 3s 3s/step - loss: 410631520.0000 - root_mean_squared_error: 20264.0449 - val_loss: 353585792.0000 - val_root_mean_squared_error: 18803.8770\n",
      "Epoch 2/20\n",
      "1/1 [==============================] - ETA: 0s - loss: 373239808.0000 - root_mean_squared_error: 19319.4160"
     ]
    },
    {
     "name": "stderr",
     "output_type": "stream",
     "text": [
      "WARNING:absl:Found untraced functions such as lstm_cell_3_layer_call_fn, lstm_cell_3_layer_call_and_return_conditional_losses while saving (showing 2 of 2). These functions will not be directly callable after loading.\n"
     ]
    },
    {
     "name": "stdout",
     "output_type": "stream",
     "text": [
      "INFO:tensorflow:Assets written to: model1/assets\n"
     ]
    },
    {
     "name": "stderr",
     "output_type": "stream",
     "text": [
      "INFO:tensorflow:Assets written to: model1/assets\n"
     ]
    },
    {
     "name": "stdout",
     "output_type": "stream",
     "text": [
      "1/1 [==============================] - 3s 3s/step - loss: 373239808.0000 - root_mean_squared_error: 19319.4160 - val_loss: 315068960.0000 - val_root_mean_squared_error: 17750.1816\n",
      "Epoch 3/20\n",
      "1/1 [==============================] - ETA: 0s - loss: 333641088.0000 - root_mean_squared_error: 18265.8457"
     ]
    },
    {
     "name": "stderr",
     "output_type": "stream",
     "text": [
      "WARNING:absl:Found untraced functions such as lstm_cell_3_layer_call_fn, lstm_cell_3_layer_call_and_return_conditional_losses while saving (showing 2 of 2). These functions will not be directly callable after loading.\n"
     ]
    },
    {
     "name": "stdout",
     "output_type": "stream",
     "text": [
      "INFO:tensorflow:Assets written to: model1/assets\n"
     ]
    },
    {
     "name": "stderr",
     "output_type": "stream",
     "text": [
      "INFO:tensorflow:Assets written to: model1/assets\n"
     ]
    },
    {
     "name": "stdout",
     "output_type": "stream",
     "text": [
      "1/1 [==============================] - 4s 4s/step - loss: 333641088.0000 - root_mean_squared_error: 18265.8457 - val_loss: 275056448.0000 - val_root_mean_squared_error: 16584.8262\n",
      "Epoch 4/20\n",
      "1/1 [==============================] - ETA: 0s - loss: 292432256.0000 - root_mean_squared_error: 17100.6504"
     ]
    },
    {
     "name": "stderr",
     "output_type": "stream",
     "text": [
      "WARNING:absl:Found untraced functions such as lstm_cell_3_layer_call_fn, lstm_cell_3_layer_call_and_return_conditional_losses while saving (showing 2 of 2). These functions will not be directly callable after loading.\n"
     ]
    },
    {
     "name": "stdout",
     "output_type": "stream",
     "text": [
      "INFO:tensorflow:Assets written to: model1/assets\n"
     ]
    },
    {
     "name": "stderr",
     "output_type": "stream",
     "text": [
      "INFO:tensorflow:Assets written to: model1/assets\n"
     ]
    },
    {
     "name": "stdout",
     "output_type": "stream",
     "text": [
      "1/1 [==============================] - 3s 3s/step - loss: 292432256.0000 - root_mean_squared_error: 17100.6504 - val_loss: 234269776.0000 - val_root_mean_squared_error: 15305.8740\n",
      "Epoch 5/20\n",
      "1/1 [==============================] - ETA: 0s - loss: 250332528.0000 - root_mean_squared_error: 15821.9004"
     ]
    },
    {
     "name": "stderr",
     "output_type": "stream",
     "text": [
      "WARNING:absl:Found untraced functions such as lstm_cell_3_layer_call_fn, lstm_cell_3_layer_call_and_return_conditional_losses while saving (showing 2 of 2). These functions will not be directly callable after loading.\n"
     ]
    },
    {
     "name": "stdout",
     "output_type": "stream",
     "text": [
      "INFO:tensorflow:Assets written to: model1/assets\n"
     ]
    },
    {
     "name": "stderr",
     "output_type": "stream",
     "text": [
      "INFO:tensorflow:Assets written to: model1/assets\n"
     ]
    },
    {
     "name": "stdout",
     "output_type": "stream",
     "text": [
      "1/1 [==============================] - 3s 3s/step - loss: 250332528.0000 - root_mean_squared_error: 15821.9004 - val_loss: 193557328.0000 - val_root_mean_squared_error: 13912.4883\n",
      "Epoch 6/20\n",
      "1/1 [==============================] - ETA: 0s - loss: 208189520.0000 - root_mean_squared_error: 14428.7744"
     ]
    },
    {
     "name": "stderr",
     "output_type": "stream",
     "text": [
      "WARNING:absl:Found untraced functions such as lstm_cell_3_layer_call_fn, lstm_cell_3_layer_call_and_return_conditional_losses while saving (showing 2 of 2). These functions will not be directly callable after loading.\n"
     ]
    },
    {
     "name": "stdout",
     "output_type": "stream",
     "text": [
      "INFO:tensorflow:Assets written to: model1/assets\n"
     ]
    },
    {
     "name": "stderr",
     "output_type": "stream",
     "text": [
      "INFO:tensorflow:Assets written to: model1/assets\n"
     ]
    },
    {
     "name": "stdout",
     "output_type": "stream",
     "text": [
      "1/1 [==============================] - 3s 3s/step - loss: 208189520.0000 - root_mean_squared_error: 14428.7744 - val_loss: 153894128.0000 - val_root_mean_squared_error: 12405.4072\n",
      "Epoch 7/20\n",
      "1/1 [==============================] - ETA: 0s - loss: 166979056.0000 - root_mean_squared_error: 12922.0381"
     ]
    },
    {
     "name": "stderr",
     "output_type": "stream",
     "text": [
      "WARNING:absl:Found untraced functions such as lstm_cell_3_layer_call_fn, lstm_cell_3_layer_call_and_return_conditional_losses while saving (showing 2 of 2). These functions will not be directly callable after loading.\n"
     ]
    },
    {
     "name": "stdout",
     "output_type": "stream",
     "text": [
      "INFO:tensorflow:Assets written to: model1/assets\n"
     ]
    },
    {
     "name": "stderr",
     "output_type": "stream",
     "text": [
      "INFO:tensorflow:Assets written to: model1/assets\n"
     ]
    },
    {
     "name": "stdout",
     "output_type": "stream",
     "text": [
      "1/1 [==============================] - 3s 3s/step - loss: 166979056.0000 - root_mean_squared_error: 12922.0381 - val_loss: 116372768.0000 - val_root_mean_squared_error: 10787.6211\n",
      "Epoch 8/20\n",
      "1/1 [==============================] - ETA: 0s - loss: 127796736.0000 - root_mean_squared_error: 11304.7217"
     ]
    },
    {
     "name": "stderr",
     "output_type": "stream",
     "text": [
      "WARNING:absl:Found untraced functions such as lstm_cell_3_layer_call_fn, lstm_cell_3_layer_call_and_return_conditional_losses while saving (showing 2 of 2). These functions will not be directly callable after loading.\n"
     ]
    },
    {
     "name": "stdout",
     "output_type": "stream",
     "text": [
      "INFO:tensorflow:Assets written to: model1/assets\n"
     ]
    },
    {
     "name": "stderr",
     "output_type": "stream",
     "text": [
      "INFO:tensorflow:Assets written to: model1/assets\n"
     ]
    },
    {
     "name": "stdout",
     "output_type": "stream",
     "text": [
      "1/1 [==============================] - 3s 3s/step - loss: 127796736.0000 - root_mean_squared_error: 11304.7217 - val_loss: 82180000.0000 - val_root_mean_squared_error: 9065.3184\n",
      "Epoch 9/20\n",
      "1/1 [==============================] - ETA: 0s - loss: 91835736.0000 - root_mean_squared_error: 9583.0967"
     ]
    },
    {
     "name": "stderr",
     "output_type": "stream",
     "text": [
      "WARNING:absl:Found untraced functions such as lstm_cell_3_layer_call_fn, lstm_cell_3_layer_call_and_return_conditional_losses while saving (showing 2 of 2). These functions will not be directly callable after loading.\n"
     ]
    },
    {
     "name": "stdout",
     "output_type": "stream",
     "text": [
      "INFO:tensorflow:Assets written to: model1/assets\n"
     ]
    },
    {
     "name": "stderr",
     "output_type": "stream",
     "text": [
      "INFO:tensorflow:Assets written to: model1/assets\n"
     ]
    },
    {
     "name": "stdout",
     "output_type": "stream",
     "text": [
      "1/1 [==============================] - 3s 3s/step - loss: 91835736.0000 - root_mean_squared_error: 9583.0967 - val_loss: 52551400.0000 - val_root_mean_squared_error: 7249.2344\n",
      "Epoch 10/20\n",
      "1/1 [==============================] - ETA: 0s - loss: 60342644.0000 - root_mean_squared_error: 7768.0527"
     ]
    },
    {
     "name": "stderr",
     "output_type": "stream",
     "text": [
      "WARNING:absl:Found untraced functions such as lstm_cell_3_layer_call_fn, lstm_cell_3_layer_call_and_return_conditional_losses while saving (showing 2 of 2). These functions will not be directly callable after loading.\n"
     ]
    },
    {
     "name": "stdout",
     "output_type": "stream",
     "text": [
      "INFO:tensorflow:Assets written to: model1/assets\n"
     ]
    },
    {
     "name": "stderr",
     "output_type": "stream",
     "text": [
      "INFO:tensorflow:Assets written to: model1/assets\n"
     ]
    },
    {
     "name": "stdout",
     "output_type": "stream",
     "text": [
      "1/1 [==============================] - 4s 4s/step - loss: 60342644.0000 - root_mean_squared_error: 7768.0527 - val_loss: 28691486.0000 - val_root_mean_squared_error: 5356.4434\n",
      "Epoch 11/20\n",
      "1/1 [==============================] - ETA: 0s - loss: 34539468.0000 - root_mean_squared_error: 5877.0288"
     ]
    },
    {
     "name": "stderr",
     "output_type": "stream",
     "text": [
      "WARNING:absl:Found untraced functions such as lstm_cell_3_layer_call_fn, lstm_cell_3_layer_call_and_return_conditional_losses while saving (showing 2 of 2). These functions will not be directly callable after loading.\n"
     ]
    },
    {
     "name": "stdout",
     "output_type": "stream",
     "text": [
      "INFO:tensorflow:Assets written to: model1/assets\n"
     ]
    },
    {
     "name": "stderr",
     "output_type": "stream",
     "text": [
      "INFO:tensorflow:Assets written to: model1/assets\n"
     ]
    },
    {
     "name": "stdout",
     "output_type": "stream",
     "text": [
      "1/1 [==============================] - 3s 3s/step - loss: 34539468.0000 - root_mean_squared_error: 5877.0288 - val_loss: 11646356.0000 - val_root_mean_squared_error: 3412.6758\n",
      "Epoch 12/20\n",
      "1/1 [==============================] - ETA: 0s - loss: 15498735.0000 - root_mean_squared_error: 3936.8433"
     ]
    },
    {
     "name": "stderr",
     "output_type": "stream",
     "text": [
      "WARNING:absl:Found untraced functions such as lstm_cell_3_layer_call_fn, lstm_cell_3_layer_call_and_return_conditional_losses while saving (showing 2 of 2). These functions will not be directly callable after loading.\n"
     ]
    },
    {
     "name": "stdout",
     "output_type": "stream",
     "text": [
      "INFO:tensorflow:Assets written to: model1/assets\n"
     ]
    },
    {
     "name": "stderr",
     "output_type": "stream",
     "text": [
      "INFO:tensorflow:Assets written to: model1/assets\n"
     ]
    },
    {
     "name": "stdout",
     "output_type": "stream",
     "text": [
      "1/1 [==============================] - 3s 3s/step - loss: 15498735.0000 - root_mean_squared_error: 3936.8433 - val_loss: 2116991.0000 - val_root_mean_squared_error: 1454.9883\n",
      "Epoch 13/20\n",
      "1/1 [==============================] - ETA: 0s - loss: 3959485.0000 - root_mean_squared_error: 1989.8455"
     ]
    },
    {
     "name": "stderr",
     "output_type": "stream",
     "text": [
      "WARNING:absl:Found untraced functions such as lstm_cell_3_layer_call_fn, lstm_cell_3_layer_call_and_return_conditional_losses while saving (showing 2 of 2). These functions will not be directly callable after loading.\n"
     ]
    },
    {
     "name": "stdout",
     "output_type": "stream",
     "text": [
      "INFO:tensorflow:Assets written to: model1/assets\n"
     ]
    },
    {
     "name": "stderr",
     "output_type": "stream",
     "text": [
      "INFO:tensorflow:Assets written to: model1/assets\n"
     ]
    },
    {
     "name": "stdout",
     "output_type": "stream",
     "text": [
      "1/1 [==============================] - 3s 3s/step - loss: 3959485.0000 - root_mean_squared_error: 1989.8455 - val_loss: 217119.5938 - val_root_mean_squared_error: 465.9609\n",
      "Epoch 14/20\n",
      "1/1 [==============================] - 0s 26ms/step - loss: 87431.8828 - root_mean_squared_error: 295.6888 - val_loss: 5223064.0000 - val_root_mean_squared_error: 2285.4023\n",
      "Epoch 15/20\n",
      "1/1 [==============================] - 0s 26ms/step - loss: 3225409.2500 - root_mean_squared_error: 1795.9424 - val_loss: 15429537.0000 - val_root_mean_squared_error: 3928.0449\n",
      "Epoch 16/20\n",
      "1/1 [==============================] - 0s 29ms/step - loss: 11745456.0000 - root_mean_squared_error: 3427.1643 - val_loss: 28274518.0000 - val_root_mean_squared_error: 5317.3789\n",
      "Epoch 17/20\n",
      "1/1 [==============================] - 0s 28ms/step - loss: 23164080.0000 - root_mean_squared_error: 4812.9077 - val_loss: 40825112.0000 - val_root_mean_squared_error: 6389.4531\n",
      "Epoch 18/20\n",
      "1/1 [==============================] - 0s 28ms/step - loss: 34613948.0000 - root_mean_squared_error: 5883.3618 - val_loss: 50491488.0000 - val_root_mean_squared_error: 7105.7363\n",
      "Epoch 19/20\n",
      "1/1 [==============================] - 0s 30ms/step - loss: 43544992.0000 - root_mean_squared_error: 6598.8628 - val_loss: 55637000.0000 - val_root_mean_squared_error: 7459.0215\n",
      "Epoch 20/20\n",
      "1/1 [==============================] - 0s 30ms/step - loss: 48327716.0000 - root_mean_squared_error: 6951.8140 - val_loss: 55808312.0000 - val_root_mean_squared_error: 7470.4961\n"
     ]
    },
    {
     "data": {
      "text/plain": [
       "<keras.callbacks.History at 0x7fa1521d28e0>"
      ]
     },
     "execution_count": 134,
     "metadata": {},
     "output_type": "execute_result"
    }
   ],
   "source": []
  },
  {
   "cell_type": "code",
   "execution_count": 135,
   "metadata": {
    "collapsed": false,
    "pycharm": {
     "name": "#%%\n"
    }
   },
   "outputs": [],
   "source": [
    "from tensorflow.keras.models import load_model\n",
    "model1 = load_model('model1/')"
   ]
  },
  {
   "cell_type": "code",
   "execution_count": 139,
   "metadata": {
    "collapsed": false,
    "pycharm": {
     "name": "#%%\n"
    }
   },
   "outputs": [
    {
     "name": "stdout",
     "output_type": "stream",
     "text": [
      "1/1 [==============================] - 0s 22ms/step\n"
     ]
    },
    {
     "data": {
      "text/html": [
       "<div>\n",
       "<style scoped>\n",
       "    .dataframe tbody tr th:only-of-type {\n",
       "        vertical-align: middle;\n",
       "    }\n",
       "\n",
       "    .dataframe tbody tr th {\n",
       "        vertical-align: top;\n",
       "    }\n",
       "\n",
       "    .dataframe thead th {\n",
       "        text-align: right;\n",
       "    }\n",
       "</style>\n",
       "<table border=\"1\" class=\"dataframe\">\n",
       "  <thead>\n",
       "    <tr style=\"text-align: right;\">\n",
       "      <th></th>\n",
       "      <th>Train Predictions</th>\n",
       "      <th>Actuals</th>\n",
       "    </tr>\n",
       "  </thead>\n",
       "  <tbody>\n",
       "    <tr>\n",
       "      <th>0</th>\n",
       "      <td>24486.960938</td>\n",
       "      <td>24945.0</td>\n",
       "    </tr>\n",
       "    <tr>\n",
       "      <th>1</th>\n",
       "      <td>24486.960938</td>\n",
       "      <td>24365.0</td>\n",
       "    </tr>\n",
       "    <tr>\n",
       "      <th>2</th>\n",
       "      <td>24486.960938</td>\n",
       "      <td>24293.0</td>\n",
       "    </tr>\n",
       "  </tbody>\n",
       "</table>\n",
       "</div>"
      ],
      "text/plain": [
       "   Train Predictions  Actuals\n",
       "0       24486.960938  24945.0\n",
       "1       24486.960938  24365.0\n",
       "2       24486.960938  24293.0"
      ]
     },
     "execution_count": 139,
     "metadata": {},
     "output_type": "execute_result"
    }
   ],
   "source": [
    "train_predictions = model1.predict(X_train1).flatten()\n",
    "train_results = pd.DataFrame(data={'Train Predictions':train_predictions, 'Actuals':y_train1})\n",
    "train_results"
   ]
  },
  {
   "cell_type": "code",
   "execution_count": 140,
   "metadata": {
    "collapsed": false,
    "pycharm": {
     "name": "#%%\n"
    }
   },
   "outputs": [
    {
     "data": {
      "text/plain": [
       "[<matplotlib.lines.Line2D at 0x7fa10c14cb20>]"
      ]
     },
     "execution_count": 140,
     "metadata": {},
     "output_type": "execute_result"
    },
    {
     "data": {
      "image/png": "[encoded data removed]",
      "text/plain": [
       "<Figure size 432x288 with 1 Axes>"
      ]
     },
     "metadata": {
      "needs_background": "light"
     },
     "output_type": "display_data"
    }
   ],
   "source": [
    "import matplotlib.pyplot as plt\n",
    "plt.plot(train_results['Train Predictions'])\n",
    "plt.plot(train_results['Actuals'])"
   ]
  },
  {
   "cell_type": "code",
   "execution_count": 141,
   "metadata": {
    "collapsed": false,
    "pycharm": {
     "name": "#%%\n"
    }
   },
   "outputs": [
    {
     "name": "stdout",
     "output_type": "stream",
     "text": [
      "1/1 [==============================] - 0s 20ms/step\n"
     ]
    },
    {
     "data": {
      "text/html": [
       "<div>\n",
       "<style scoped>\n",
       "    .dataframe tbody tr th:only-of-type {\n",
       "        vertical-align: middle;\n",
       "    }\n",
       "\n",
       "    .dataframe tbody tr th {\n",
       "        vertical-align: top;\n",
       "    }\n",
       "\n",
       "    .dataframe thead th {\n",
       "        text-align: right;\n",
       "    }\n",
       "</style>\n",
       "<table border=\"1\" class=\"dataframe\">\n",
       "  <thead>\n",
       "    <tr style=\"text-align: right;\">\n",
       "      <th></th>\n",
       "      <th>Val Predictions</th>\n",
       "      <th>Actuals</th>\n",
       "    </tr>\n",
       "  </thead>\n",
       "  <tbody>\n",
       "    <tr>\n",
       "      <th>0</th>\n",
       "      <td>24486.960938</td>\n",
       "      <td>24021.0</td>\n",
       "    </tr>\n",
       "  </tbody>\n",
       "</table>\n",
       "</div>"
      ],
      "text/plain": [
       "   Val Predictions  Actuals\n",
       "0     24486.960938  24021.0"
      ]
     },
     "execution_count": 141,
     "metadata": {},
     "output_type": "execute_result"
    }
   ],
   "source": [
    "val_predictions = model1.predict(X_val1).flatten()\n",
    "val_results = pd.DataFrame(data={'Val Predictions':val_predictions, 'Actuals':y_val1})\n",
    "val_results"
   ]
  },
  {
   "cell_type": "code",
   "execution_count": 143,
   "metadata": {
    "collapsed": false,
    "pycharm": {
     "name": "#%%\n"
    }
   },
   "outputs": [],
   "source": [
    "# plt.plot(val_results['Val Predictions'])\n",
    "# plt.plot(val_results['Actuals'])"
   ]
  },
  {
   "cell_type": "code",
   "execution_count": 144,
   "metadata": {
    "collapsed": false,
    "pycharm": {
     "name": "#%%\n"
    }
   },
   "outputs": [
    {
     "name": "stdout",
     "output_type": "stream",
     "text": [
      "1/1 [==============================] - 0s 17ms/step\n"
     ]
    },
    {
     "data": {
      "text/html": [
       "<div>\n",
       "<style scoped>\n",
       "    .dataframe tbody tr th:only-of-type {\n",
       "        vertical-align: middle;\n",
       "    }\n",
       "\n",
       "    .dataframe tbody tr th {\n",
       "        vertical-align: top;\n",
       "    }\n",
       "\n",
       "    .dataframe thead th {\n",
       "        text-align: right;\n",
       "    }\n",
       "</style>\n",
       "<table border=\"1\" class=\"dataframe\">\n",
       "  <thead>\n",
       "    <tr style=\"text-align: right;\">\n",
       "      <th></th>\n",
       "      <th>Test Predictions</th>\n",
       "      <th>Actuals</th>\n",
       "    </tr>\n",
       "  </thead>\n",
       "  <tbody>\n",
       "    <tr>\n",
       "      <th>0</th>\n",
       "      <td>24486.960938</td>\n",
       "      <td>23997.0</td>\n",
       "    </tr>\n",
       "  </tbody>\n",
       "</table>\n",
       "</div>"
      ],
      "text/plain": [
       "   Test Predictions  Actuals\n",
       "0      24486.960938  23997.0"
      ]
     },
     "execution_count": 144,
     "metadata": {},
     "output_type": "execute_result"
    }
   ],
   "source": [
    "test_predictions = model1.predict(X_test1).flatten()\n",
    "test_results = pd.DataFrame(data={'Test Predictions':test_predictions, 'Actuals':y_test1})\n",
    "test_results"
   ]
  },
  {
   "cell_type": "markdown",
   "metadata": {
    "collapsed": false,
    "pycharm": {
     "name": "#%%\n"
    }
   },
   "source": [
    "# SECOND PART"
   ]
  },
  {
   "cell_type": "code",
   "execution_count": 145,
   "metadata": {
    "collapsed": false,
    "pycharm": {
     "name": "#%%\n"
    }
   },
   "outputs": [],
   "source": [
    "# from sklearn.metrics import mean_squared_error as mse\n",
    "\n",
    "# def plot_predictions1(model, X, y, start=0, end=100):\n",
    "#   predictions = model.predict(X).flatten()\n",
    "#   df = pd.DataFrame(data={'Predictions':predictions, 'Actuals':y})\n",
    "#   plt.plot(df['Predictions'])\n",
    "#   plt.plot(df['Actuals'])\n",
    "#   return df, mse(y, predictions)"
   ]
  },
  {
   "cell_type": "code",
   "execution_count": 146,
   "metadata": {
    "collapsed": false,
    "pycharm": {
     "name": "#%%\n"
    }
   },
   "outputs": [],
   "source": [
    "# plot_predictions1(model1, X_test1, y_test1)"
   ]
  },
  {
   "cell_type": "code",
   "execution_count": 148,
   "metadata": {
    "collapsed": false,
    "pycharm": {
     "name": "#%%\n"
    }
   },
   "outputs": [
    {
     "name": "stdout",
     "output_type": "stream",
     "text": [
      "Model: \"sequential_6\"\n",
      "_________________________________________________________________\n",
      " Layer (type)                Output Shape              Param #   \n",
      "=================================================================\n",
      " conv1d_2 (Conv1D)           (None, 4, 64)             192       \n",
      "                                                                 \n",
      " flatten_2 (Flatten)         (None, 256)               0         \n",
      "                                                                 \n",
      " dense_12 (Dense)            (None, 8)                 2056      \n",
      "                                                                 \n",
      " dense_13 (Dense)            (None, 1)                 9         \n",
      "                                                                 \n",
      "=================================================================\n",
      "Total params: 2,257\n",
      "Trainable params: 2,257\n",
      "Non-trainable params: 0\n",
      "_________________________________________________________________\n"
     ]
    }
   ],
   "source": [
    "model2 = Sequential()\n",
    "model2.add(InputLayer((5, 1)))\n",
    "model2.add(Conv1D(64, kernel_size=2))\n",
    "model2.add(Flatten())\n",
    "model2.add(Dense(8, 'relu'))\n",
    "model2.add(Dense(1, 'linear'))\n",
    "\n",
    "model2.summary()"
   ]
  },
  {
   "cell_type": "code",
   "execution_count": 151,
   "metadata": {
    "collapsed": false,
    "pycharm": {
     "name": "#%%\n"
    }
   },
   "outputs": [],
   "source": [
    "cp2 = ModelCheckpoint('model2/', save_best_only=True)\n",
    "model2.compile(loss=MeanSquaredError(), optimizer=Adam(learning_rate=1), metrics=[RootMeanSquaredError()])"
   ]
  },
  {
   "cell_type": "code",
   "execution_count": 153,
   "metadata": {
    "collapsed": false,
    "pycharm": {
     "name": "#%%\n"
    }
   },
   "outputs": [
    {
     "name": "stdout",
     "output_type": "stream",
     "text": [
      "Epoch 1/100\n",
      "1/1 [==============================] - 0s 54ms/step - loss: 117377261895680.0000 - root_mean_squared_error: 10834079.0000 - val_loss: 51901794091008.0000 - val_root_mean_squared_error: 7204290.0000\n",
      "Epoch 2/100\n",
      "1/1 [==============================] - ETA: 0s - loss: 44441280708608.0000 - root_mean_squared_error: 6666429.5000"
     ]
    },
    {
     "name": "stderr",
     "output_type": "stream",
     "text": [
      "WARNING:absl:Found untraced functions such as _jit_compiled_convolution_op while saving (showing 1 of 1). These functions will not be directly callable after loading.\n"
     ]
    },
    {
     "name": "stdout",
     "output_type": "stream",
     "text": [
      "INFO:tensorflow:Assets written to: model2/assets\n"
     ]
    },
    {
     "name": "stderr",
     "output_type": "stream",
     "text": [
      "INFO:tensorflow:Assets written to: model2/assets\n"
     ]
    },
    {
     "name": "stdout",
     "output_type": "stream",
     "text": [
      "1/1 [==============================] - 1s 559ms/step - loss: 44441280708608.0000 - root_mean_squared_error: 6666429.5000 - val_loss: 8452560650240.0000 - val_root_mean_squared_error: 2907328.7500\n",
      "Epoch 3/100\n",
      "1/1 [==============================] - ETA: 0s - loss: 7265199325184.0000 - root_mean_squared_error: 2695403.2500"
     ]
    },
    {
     "name": "stderr",
     "output_type": "stream",
     "text": [
      "WARNING:absl:Found untraced functions such as _jit_compiled_convolution_op while saving (showing 1 of 1). These functions will not be directly callable after loading.\n"
     ]
    },
    {
     "name": "stdout",
     "output_type": "stream",
     "text": [
      "INFO:tensorflow:Assets written to: model2/assets\n"
     ]
    },
    {
     "name": "stderr",
     "output_type": "stream",
     "text": [
      "INFO:tensorflow:Assets written to: model2/assets\n"
     ]
    },
    {
     "name": "stdout",
     "output_type": "stream",
     "text": [
      "1/1 [==============================] - 0s 497ms/step - loss: 7265199325184.0000 - root_mean_squared_error: 2695403.2500 - val_loss: 2029831061504.0000 - val_root_mean_squared_error: 1424721.3750\n",
      "Epoch 4/100\n",
      "1/1 [==============================] - 0s 22ms/step - loss: 1723792883712.0000 - root_mean_squared_error: 1312932.8750 - val_loss: 26780215803904.0000 - val_root_mean_squared_error: 5174960.5000\n",
      "Epoch 5/100\n",
      "1/1 [==============================] - 0s 24ms/step - loss: 22914415984640.0000 - root_mean_squared_error: 4786900.5000 - val_loss: 165954214428672.0000 - val_root_mean_squared_error: 12882322.0000\n",
      "Epoch 6/100\n",
      "1/1 [==============================] - 0s 22ms/step - loss: 142118873989120.0000 - root_mean_squared_error: 11921362.0000 - val_loss: 191954369380352.0000 - val_root_mean_squared_error: 13854760.0000\n",
      "Epoch 7/100\n",
      "1/1 [==============================] - 0s 25ms/step - loss: 164260000825344.0000 - root_mean_squared_error: 12816396.0000 - val_loss: 2483545964544.0000 - val_root_mean_squared_error: 1575927.0000\n",
      "Epoch 8/100\n",
      "1/1 [==============================] - 0s 26ms/step - loss: 2119460061184.0000 - root_mean_squared_error: 1455836.5000 - val_loss: 17048732172288.0000 - val_root_mean_squared_error: 4129011.0000\n",
      "Epoch 9/100\n",
      "1/1 [==============================] - ETA: 0s - loss: 14614315139072.0000 - root_mean_squared_error: 3822867.5000"
     ]
    },
    {
     "name": "stderr",
     "output_type": "stream",
     "text": [
      "WARNING:absl:Found untraced functions such as _jit_compiled_convolution_op while saving (showing 1 of 1). These functions will not be directly callable after loading.\n"
     ]
    },
    {
     "name": "stdout",
     "output_type": "stream",
     "text": [
      "INFO:tensorflow:Assets written to: model2/assets\n"
     ]
    },
    {
     "name": "stderr",
     "output_type": "stream",
     "text": [
      "INFO:tensorflow:Assets written to: model2/assets\n"
     ]
    },
    {
     "name": "stdout",
     "output_type": "stream",
     "text": [
      "1/1 [==============================] - 1s 557ms/step - loss: 14614315139072.0000 - root_mean_squared_error: 3822867.5000 - val_loss: 1632150880256.0000 - val_root_mean_squared_error: 1277556.6250\n",
      "Epoch 10/100\n",
      "1/1 [==============================] - ETA: 0s - loss: 1391103836160.0000 - root_mean_squared_error: 1179450.6250"
     ]
    },
    {
     "name": "stderr",
     "output_type": "stream",
     "text": [
      "WARNING:absl:Found untraced functions such as _jit_compiled_convolution_op while saving (showing 1 of 1). These functions will not be directly callable after loading.\n"
     ]
    },
    {
     "name": "stdout",
     "output_type": "stream",
     "text": [
      "INFO:tensorflow:Assets written to: model2/assets\n"
     ]
    },
    {
     "name": "stderr",
     "output_type": "stream",
     "text": [
      "INFO:tensorflow:Assets written to: model2/assets\n"
     ]
    },
    {
     "name": "stdout",
     "output_type": "stream",
     "text": [
      "1/1 [==============================] - 0s 490ms/step - loss: 1391103836160.0000 - root_mean_squared_error: 1179450.6250 - val_loss: 809307734016.0000 - val_root_mean_squared_error: 899615.3125\n",
      "Epoch 11/100\n",
      "1/1 [==============================] - ETA: 0s - loss: 697943261184.0000 - root_mean_squared_error: 835430.0000"
     ]
    },
    {
     "name": "stderr",
     "output_type": "stream",
     "text": [
      "WARNING:absl:Found untraced functions such as _jit_compiled_convolution_op while saving (showing 1 of 1). These functions will not be directly callable after loading.\n"
     ]
    },
    {
     "name": "stdout",
     "output_type": "stream",
     "text": [
      "INFO:tensorflow:Assets written to: model2/assets\n"
     ]
    },
    {
     "name": "stderr",
     "output_type": "stream",
     "text": [
      "INFO:tensorflow:Assets written to: model2/assets\n"
     ]
    },
    {
     "name": "stdout",
     "output_type": "stream",
     "text": [
      "1/1 [==============================] - 0s 486ms/step - loss: 697943261184.0000 - root_mean_squared_error: 835430.0000 - val_loss: 156296413184.0000 - val_root_mean_squared_error: 395343.4062\n",
      "Epoch 12/100\n",
      "1/1 [==============================] - 0s 21ms/step - loss: 136316690432.0000 - root_mean_squared_error: 369210.9062 - val_loss: 1701292015616.0000 - val_root_mean_squared_error: 1304335.8750\n",
      "Epoch 13/100\n",
      "1/1 [==============================] - 0s 22ms/step - loss: 1464989253632.0000 - root_mean_squared_error: 1210367.3750 - val_loss: 4906443341824.0000 - val_root_mean_squared_error: 2215049.2500\n",
      "Epoch 14/100\n",
      "1/1 [==============================] - 0s 22ms/step - loss: 4216027086848.0000 - root_mean_squared_error: 2053296.6250 - val_loss: 9803641389056.0000 - val_root_mean_squared_error: 3131076.7500\n",
      "Epoch 15/100\n",
      "1/1 [==============================] - 0s 21ms/step - loss: 8416785334272.0000 - root_mean_squared_error: 2901169.7500 - val_loss: 2475383324672.0000 - val_root_mean_squared_error: 1573335.1250\n",
      "Epoch 16/100\n",
      "1/1 [==============================] - 0s 21ms/step - loss: 2101010759680.0000 - root_mean_squared_error: 1449486.3750 - val_loss: 9144816893952.0000 - val_root_mean_squared_error: 3024039.7500\n",
      "Epoch 17/100\n",
      "1/1 [==============================] - 0s 25ms/step - loss: 7788140429312.0000 - root_mean_squared_error: 2790724.0000 - val_loss: 15552610304000.0000 - val_root_mean_squared_error: 3943679.7500\n",
      "Epoch 18/100\n",
      "1/1 [==============================] - 0s 24ms/step - loss: 13363252822016.0000 - root_mean_squared_error: 3655578.2500 - val_loss: 4046719549440.0000 - val_root_mean_squared_error: 2011646.0000\n",
      "Epoch 19/100\n",
      "1/1 [==============================] - 0s 24ms/step - loss: 3436773638144.0000 - root_mean_squared_error: 1853853.7500 - val_loss: 1867244371968.0000 - val_root_mean_squared_error: 1366471.5000\n",
      "Epoch 20/100\n",
      "1/1 [==============================] - 0s 25ms/step - loss: 1580280446976.0000 - root_mean_squared_error: 1257092.0000 - val_loss: 19177934946304.0000 - val_root_mean_squared_error: 4379262.0000\n",
      "Epoch 21/100\n",
      "1/1 [==============================] - 0s 22ms/step - loss: 16470532685824.0000 - root_mean_squared_error: 4058390.5000 - val_loss: 40507266826240.0000 - val_root_mean_squared_error: 6364532.0000\n",
      "Epoch 22/100\n",
      "1/1 [==============================] - 0s 21ms/step - loss: 34592388022272.0000 - root_mean_squared_error: 5881529.5000 - val_loss: 3385788203008.0000 - val_root_mean_squared_error: 1840051.1250\n",
      "Epoch 23/100\n",
      "1/1 [==============================] - 0s 30ms/step - loss: 2918104956928.0000 - root_mean_squared_error: 1708246.1250 - val_loss: 18420114391040.0000 - val_root_mean_squared_error: 4291866.0000\n",
      "Epoch 24/100\n",
      "1/1 [==============================] - 0s 26ms/step - loss: 15807552684032.0000 - root_mean_squared_error: 3975871.2500 - val_loss: 5116925575168.0000 - val_root_mean_squared_error: 2262062.2500\n",
      "Epoch 25/100\n",
      "1/1 [==============================] - 0s 37ms/step - loss: 4361349234688.0000 - root_mean_squared_error: 2088384.3750 - val_loss: 11032496963584.0000 - val_root_mean_squared_error: 3321520.2500\n",
      "Epoch 26/100\n",
      "1/1 [==============================] - ETA: 0s - loss: 9420980355072.0000 - root_mean_squared_error: 3069361.5000"
     ]
    },
    {
     "name": "stderr",
     "output_type": "stream",
     "text": [
      "WARNING:absl:Found untraced functions such as _jit_compiled_convolution_op while saving (showing 1 of 1). These functions will not be directly callable after loading.\n"
     ]
    },
    {
     "name": "stdout",
     "output_type": "stream",
     "text": [
      "INFO:tensorflow:Assets written to: model2/assets\n"
     ]
    },
    {
     "name": "stderr",
     "output_type": "stream",
     "text": [
      "INFO:tensorflow:Assets written to: model2/assets\n"
     ]
    },
    {
     "name": "stdout",
     "output_type": "stream",
     "text": [
      "1/1 [==============================] - 1s 507ms/step - loss: 9420980355072.0000 - root_mean_squared_error: 3069361.5000 - val_loss: 60852842496.0000 - val_root_mean_squared_error: 246683.6875\n",
      "Epoch 27/100\n",
      "1/1 [==============================] - 0s 21ms/step - loss: 53352280064.0000 - root_mean_squared_error: 230981.1250 - val_loss: 8691862470656.0000 - val_root_mean_squared_error: 2948196.5000\n",
      "Epoch 28/100\n",
      "1/1 [==============================] - 0s 22ms/step - loss: 7450748518400.0000 - root_mean_squared_error: 2729606.0000 - val_loss: 8479938969600.0000 - val_root_mean_squared_error: 2912033.5000\n",
      "Epoch 29/100\n",
      "1/1 [==============================] - 0s 23ms/step - loss: 7266342273024.0000 - root_mean_squared_error: 2695615.5000 - val_loss: 631761666048.0000 - val_root_mean_squared_error: 794834.3750\n",
      "Epoch 30/100\n",
      "1/1 [==============================] - 0s 22ms/step - loss: 542414045184.0000 - root_mean_squared_error: 736487.6250 - val_loss: 2996791934976.0000 - val_root_mean_squared_error: 1731124.5000\n",
      "Epoch 31/100\n",
      "1/1 [==============================] - 0s 21ms/step - loss: 2562402811904.0000 - root_mean_squared_error: 1600750.7500 - val_loss: 5232109551616.0000 - val_root_mean_squared_error: 2287380.5000\n",
      "Epoch 32/100\n",
      "1/1 [==============================] - 0s 28ms/step - loss: 4469126856704.0000 - root_mean_squared_error: 2114031.0000 - val_loss: 1273248743424.0000 - val_root_mean_squared_error: 1128383.2500\n",
      "Epoch 33/100\n",
      "1/1 [==============================] - 0s 25ms/step - loss: 1085421977600.0000 - root_mean_squared_error: 1041835.8750 - val_loss: 338260295680.0000 - val_root_mean_squared_error: 581601.5000\n",
      "Epoch 34/100\n",
      "1/1 [==============================] - 0s 21ms/step - loss: 291694739456.0000 - root_mean_squared_error: 540087.6875 - val_loss: 2787515826176.0000 - val_root_mean_squared_error: 1669585.5000\n",
      "Epoch 35/100\n",
      "1/1 [==============================] - 0s 27ms/step - loss: 2391939481600.0000 - root_mean_squared_error: 1546589.6250 - val_loss: 2875778400256.0000 - val_root_mean_squared_error: 1695812.0000\n",
      "Epoch 36/100\n",
      "1/1 [==============================] - 0s 26ms/step - loss: 2467577987072.0000 - root_mean_squared_error: 1570852.6250 - val_loss: 657020289024.0000 - val_root_mean_squared_error: 810567.8750\n",
      "Epoch 37/100\n",
      "1/1 [==============================] - ETA: 0s - loss: 565362491392.0000 - root_mean_squared_error: 751905.8750"
     ]
    },
    {
     "name": "stderr",
     "output_type": "stream",
     "text": [
      "WARNING:absl:Found untraced functions such as _jit_compiled_convolution_op while saving (showing 1 of 1). These functions will not be directly callable after loading.\n"
     ]
    },
    {
     "name": "stdout",
     "output_type": "stream",
     "text": [
      "INFO:tensorflow:Assets written to: model2/assets\n"
     ]
    },
    {
     "name": "stderr",
     "output_type": "stream",
     "text": [
      "INFO:tensorflow:Assets written to: model2/assets\n"
     ]
    },
    {
     "name": "stdout",
     "output_type": "stream",
     "text": [
      "1/1 [==============================] - 1s 513ms/step - loss: 565362491392.0000 - root_mean_squared_error: 751905.8750 - val_loss: 21761660928.0000 - val_root_mean_squared_error: 147518.3438\n",
      "Epoch 38/100\n",
      "1/1 [==============================] - ETA: 0s - loss: 18002573312.0000 - root_mean_squared_error: 134173.6719"
     ]
    },
    {
     "name": "stderr",
     "output_type": "stream",
     "text": [
      "WARNING:absl:Found untraced functions such as _jit_compiled_convolution_op while saving (showing 1 of 1). These functions will not be directly callable after loading.\n"
     ]
    },
    {
     "name": "stdout",
     "output_type": "stream",
     "text": [
      "INFO:tensorflow:Assets written to: model2/assets\n"
     ]
    },
    {
     "name": "stderr",
     "output_type": "stream",
     "text": [
      "INFO:tensorflow:Assets written to: model2/assets\n"
     ]
    },
    {
     "name": "stdout",
     "output_type": "stream",
     "text": [
      "1/1 [==============================] - 1s 566ms/step - loss: 18002573312.0000 - root_mean_squared_error: 134173.6719 - val_loss: 9914417152.0000 - val_root_mean_squared_error: 99571.1641\n",
      "Epoch 39/100\n",
      "1/1 [==============================] - ETA: 0s - loss: 8067204608.0000 - root_mean_squared_error: 89817.6172"
     ]
    },
    {
     "name": "stderr",
     "output_type": "stream",
     "text": [
      "WARNING:absl:Found untraced functions such as _jit_compiled_convolution_op while saving (showing 1 of 1). These functions will not be directly callable after loading.\n"
     ]
    },
    {
     "name": "stdout",
     "output_type": "stream",
     "text": [
      "INFO:tensorflow:Assets written to: model2/assets\n"
     ]
    },
    {
     "name": "stderr",
     "output_type": "stream",
     "text": [
      "INFO:tensorflow:Assets written to: model2/assets\n"
     ]
    },
    {
     "name": "stdout",
     "output_type": "stream",
     "text": [
      "1/1 [==============================] - 0s 483ms/step - loss: 8067204608.0000 - root_mean_squared_error: 89817.6172 - val_loss: 2382243072.0000 - val_root_mean_squared_error: 48808.2266\n",
      "Epoch 40/100\n",
      "1/1 [==============================] - ETA: 0s - loss: 1837208064.0000 - root_mean_squared_error: 42862.6641"
     ]
    },
    {
     "name": "stderr",
     "output_type": "stream",
     "text": [
      "WARNING:absl:Found untraced functions such as _jit_compiled_convolution_op while saving (showing 1 of 1). These functions will not be directly callable after loading.\n"
     ]
    },
    {
     "name": "stdout",
     "output_type": "stream",
     "text": [
      "INFO:tensorflow:Assets written to: model2/assets\n"
     ]
    },
    {
     "name": "stderr",
     "output_type": "stream",
     "text": [
      "INFO:tensorflow:Assets written to: model2/assets\n"
     ]
    },
    {
     "name": "stdout",
     "output_type": "stream",
     "text": [
      "1/1 [==============================] - 0s 488ms/step - loss: 1837208064.0000 - root_mean_squared_error: 42862.6641 - val_loss: 35507.9570 - val_root_mean_squared_error: 188.4355\n",
      "Epoch 41/100\n",
      "1/1 [==============================] - 0s 20ms/step - loss: 7515659.5000 - root_mean_squared_error: 2741.4702 - val_loss: 576926528.0000 - val_root_mean_squared_error: 24019.2949\n",
      "Epoch 42/100\n",
      "1/1 [==============================] - 0s 21ms/step - loss: 601935040.0000 - root_mean_squared_error: 24534.3652 - val_loss: 576925504.0000 - val_root_mean_squared_error: 24019.2734\n",
      "Epoch 43/100\n",
      "1/1 [==============================] - 0s 22ms/step - loss: 601934016.0000 - root_mean_squared_error: 24534.3438 - val_loss: 576924544.0000 - val_root_mean_squared_error: 24019.2539\n",
      "Epoch 44/100\n",
      "1/1 [==============================] - 0s 23ms/step - loss: 601932992.0000 - root_mean_squared_error: 24534.3223 - val_loss: 576923648.0000 - val_root_mean_squared_error: 24019.2344\n",
      "Epoch 45/100\n",
      "1/1 [==============================] - 0s 21ms/step - loss: 601932032.0000 - root_mean_squared_error: 24534.3027 - val_loss: 576922880.0000 - val_root_mean_squared_error: 24019.2188\n",
      "Epoch 46/100\n",
      "1/1 [==============================] - 0s 24ms/step - loss: 601931264.0000 - root_mean_squared_error: 24534.2871 - val_loss: 576922048.0000 - val_root_mean_squared_error: 24019.2012\n",
      "Epoch 47/100\n",
      "1/1 [==============================] - 0s 22ms/step - loss: 601930432.0000 - root_mean_squared_error: 24534.2715 - val_loss: 576921344.0000 - val_root_mean_squared_error: 24019.1875\n",
      "Epoch 48/100\n",
      "1/1 [==============================] - 0s 21ms/step - loss: 601929792.0000 - root_mean_squared_error: 24534.2578 - val_loss: 576920704.0000 - val_root_mean_squared_error: 24019.1738\n",
      "Epoch 49/100\n",
      "1/1 [==============================] - 0s 31ms/step - loss: 601929024.0000 - root_mean_squared_error: 24534.2422 - val_loss: 576920128.0000 - val_root_mean_squared_error: 24019.1621\n",
      "Epoch 50/100\n",
      "1/1 [==============================] - 0s 26ms/step - loss: 601928512.0000 - root_mean_squared_error: 24534.2305 - val_loss: 576919616.0000 - val_root_mean_squared_error: 24019.1504\n",
      "Epoch 51/100\n",
      "1/1 [==============================] - 0s 31ms/step - loss: 601927936.0000 - root_mean_squared_error: 24534.2188 - val_loss: 576919104.0000 - val_root_mean_squared_error: 24019.1406\n",
      "Epoch 52/100\n",
      "1/1 [==============================] - 0s 27ms/step - loss: 601927488.0000 - root_mean_squared_error: 24534.2109 - val_loss: 576918528.0000 - val_root_mean_squared_error: 24019.1289\n",
      "Epoch 53/100\n",
      "1/1 [==============================] - 0s 30ms/step - loss: 601926912.0000 - root_mean_squared_error: 24534.1992 - val_loss: 576918208.0000 - val_root_mean_squared_error: 24019.1211\n",
      "Epoch 54/100\n",
      "1/1 [==============================] - 0s 28ms/step - loss: 601926464.0000 - root_mean_squared_error: 24534.1895 - val_loss: 576917696.0000 - val_root_mean_squared_error: 24019.1113\n",
      "Epoch 55/100\n",
      "1/1 [==============================] - 0s 29ms/step - loss: 601926080.0000 - root_mean_squared_error: 24534.1816 - val_loss: 576917312.0000 - val_root_mean_squared_error: 24019.1035\n",
      "Epoch 56/100\n",
      "1/1 [==============================] - 0s 32ms/step - loss: 601925632.0000 - root_mean_squared_error: 24534.1719 - val_loss: 576916928.0000 - val_root_mean_squared_error: 24019.0957\n",
      "Epoch 57/100\n",
      "1/1 [==============================] - 0s 27ms/step - loss: 601925312.0000 - root_mean_squared_error: 24534.1660 - val_loss: 576916608.0000 - val_root_mean_squared_error: 24019.0879\n",
      "Epoch 58/100\n",
      "1/1 [==============================] - 0s 26ms/step - loss: 601924864.0000 - root_mean_squared_error: 24534.1562 - val_loss: 576916288.0000 - val_root_mean_squared_error: 24019.0820\n",
      "Epoch 59/100\n",
      "1/1 [==============================] - 0s 28ms/step - loss: 601924608.0000 - root_mean_squared_error: 24534.1523 - val_loss: 576916032.0000 - val_root_mean_squared_error: 24019.0762\n",
      "Epoch 60/100\n",
      "1/1 [==============================] - 0s 27ms/step - loss: 601924352.0000 - root_mean_squared_error: 24534.1465 - val_loss: 576915648.0000 - val_root_mean_squared_error: 24019.0684\n",
      "Epoch 61/100\n",
      "1/1 [==============================] - 0s 24ms/step - loss: 601923904.0000 - root_mean_squared_error: 24534.1367 - val_loss: 576915392.0000 - val_root_mean_squared_error: 24019.0625\n",
      "Epoch 62/100\n",
      "1/1 [==============================] - 0s 24ms/step - loss: 601923584.0000 - root_mean_squared_error: 24534.1309 - val_loss: 576915072.0000 - val_root_mean_squared_error: 24019.0566\n",
      "Epoch 63/100\n",
      "1/1 [==============================] - 0s 24ms/step - loss: 601923328.0000 - root_mean_squared_error: 24534.1250 - val_loss: 576914880.0000 - val_root_mean_squared_error: 24019.0527\n",
      "Epoch 64/100\n",
      "1/1 [==============================] - 0s 25ms/step - loss: 601923136.0000 - root_mean_squared_error: 24534.1211 - val_loss: 576914624.0000 - val_root_mean_squared_error: 24019.0469\n",
      "Epoch 65/100\n",
      "1/1 [==============================] - 0s 56ms/step - loss: 601922880.0000 - root_mean_squared_error: 24534.1172 - val_loss: 576914432.0000 - val_root_mean_squared_error: 24019.0430\n",
      "Epoch 66/100\n",
      "1/1 [==============================] - 0s 40ms/step - loss: 601922688.0000 - root_mean_squared_error: 24534.1133 - val_loss: 576914112.0000 - val_root_mean_squared_error: 24019.0371\n",
      "Epoch 67/100\n",
      "1/1 [==============================] - 0s 34ms/step - loss: 601922368.0000 - root_mean_squared_error: 24534.1055 - val_loss: 576913984.0000 - val_root_mean_squared_error: 24019.0332\n",
      "Epoch 68/100\n",
      "1/1 [==============================] - 0s 29ms/step - loss: 601922176.0000 - root_mean_squared_error: 24534.1016 - val_loss: 576913664.0000 - val_root_mean_squared_error: 24019.0273\n",
      "Epoch 69/100\n",
      "1/1 [==============================] - 0s 27ms/step - loss: 601921920.0000 - root_mean_squared_error: 24534.0977 - val_loss: 576913472.0000 - val_root_mean_squared_error: 24019.0234\n",
      "Epoch 70/100\n",
      "1/1 [==============================] - 0s 27ms/step - loss: 601921728.0000 - root_mean_squared_error: 24534.0938 - val_loss: 576913280.0000 - val_root_mean_squared_error: 24019.0195\n",
      "Epoch 71/100\n",
      "1/1 [==============================] - 0s 27ms/step - loss: 601921536.0000 - root_mean_squared_error: 24534.0898 - val_loss: 576913088.0000 - val_root_mean_squared_error: 24019.0156\n",
      "Epoch 72/100\n",
      "1/1 [==============================] - 0s 28ms/step - loss: 601921344.0000 - root_mean_squared_error: 24534.0859 - val_loss: 576912896.0000 - val_root_mean_squared_error: 24019.0117\n",
      "Epoch 73/100\n",
      "1/1 [==============================] - 0s 28ms/step - loss: 601921152.0000 - root_mean_squared_error: 24534.0820 - val_loss: 576912768.0000 - val_root_mean_squared_error: 24019.0078\n",
      "Epoch 74/100\n",
      "1/1 [==============================] - 0s 27ms/step - loss: 601920960.0000 - root_mean_squared_error: 24534.0781 - val_loss: 576912576.0000 - val_root_mean_squared_error: 24019.0039\n",
      "Epoch 75/100\n",
      "1/1 [==============================] - 0s 28ms/step - loss: 601920768.0000 - root_mean_squared_error: 24534.0742 - val_loss: 576912384.0000 - val_root_mean_squared_error: 24019.0000\n",
      "Epoch 76/100\n",
      "1/1 [==============================] - 0s 30ms/step - loss: 601920576.0000 - root_mean_squared_error: 24534.0703 - val_loss: 576912192.0000 - val_root_mean_squared_error: 24018.9961\n",
      "Epoch 77/100\n",
      "1/1 [==============================] - 0s 28ms/step - loss: 601920384.0000 - root_mean_squared_error: 24534.0664 - val_loss: 576912000.0000 - val_root_mean_squared_error: 24018.9922\n",
      "Epoch 78/100\n",
      "1/1 [==============================] - 0s 30ms/step - loss: 601920192.0000 - root_mean_squared_error: 24534.0625 - val_loss: 576911808.0000 - val_root_mean_squared_error: 24018.9883\n",
      "Epoch 79/100\n",
      "1/1 [==============================] - 0s 28ms/step - loss: 601920000.0000 - root_mean_squared_error: 24534.0586 - val_loss: 576911616.0000 - val_root_mean_squared_error: 24018.9844\n",
      "Epoch 80/100\n",
      "1/1 [==============================] - 0s 28ms/step - loss: 601919744.0000 - root_mean_squared_error: 24534.0527 - val_loss: 576911424.0000 - val_root_mean_squared_error: 24018.9805\n",
      "Epoch 81/100\n",
      "1/1 [==============================] - 0s 27ms/step - loss: 601919616.0000 - root_mean_squared_error: 24534.0508 - val_loss: 576911232.0000 - val_root_mean_squared_error: 24018.9766\n",
      "Epoch 82/100\n",
      "1/1 [==============================] - 0s 27ms/step - loss: 601919424.0000 - root_mean_squared_error: 24534.0469 - val_loss: 576911168.0000 - val_root_mean_squared_error: 24018.9746\n",
      "Epoch 83/100\n",
      "1/1 [==============================] - 0s 25ms/step - loss: 601919360.0000 - root_mean_squared_error: 24534.0449 - val_loss: 576910976.0000 - val_root_mean_squared_error: 24018.9707\n",
      "Epoch 84/100\n",
      "1/1 [==============================] - 0s 25ms/step - loss: 601919168.0000 - root_mean_squared_error: 24534.0410 - val_loss: 576910784.0000 - val_root_mean_squared_error: 24018.9668\n",
      "Epoch 85/100\n",
      "1/1 [==============================] - 0s 24ms/step - loss: 601918976.0000 - root_mean_squared_error: 24534.0371 - val_loss: 576910592.0000 - val_root_mean_squared_error: 24018.9629\n",
      "Epoch 86/100\n",
      "1/1 [==============================] - 0s 30ms/step - loss: 601918784.0000 - root_mean_squared_error: 24534.0332 - val_loss: 576910400.0000 - val_root_mean_squared_error: 24018.9590\n",
      "Epoch 87/100\n",
      "1/1 [==============================] - 0s 29ms/step - loss: 601918592.0000 - root_mean_squared_error: 24534.0293 - val_loss: 576910272.0000 - val_root_mean_squared_error: 24018.9570\n",
      "Epoch 88/100\n",
      "1/1 [==============================] - 0s 28ms/step - loss: 601918464.0000 - root_mean_squared_error: 24534.0273 - val_loss: 576910080.0000 - val_root_mean_squared_error: 24018.9531\n",
      "Epoch 89/100\n",
      "1/1 [==============================] - 0s 28ms/step - loss: 601918272.0000 - root_mean_squared_error: 24534.0234 - val_loss: 576909952.0000 - val_root_mean_squared_error: 24018.9492\n",
      "Epoch 90/100\n",
      "1/1 [==============================] - 0s 27ms/step - loss: 601918080.0000 - root_mean_squared_error: 24534.0195 - val_loss: 576909760.0000 - val_root_mean_squared_error: 24018.9453\n",
      "Epoch 91/100\n",
      "1/1 [==============================] - 0s 27ms/step - loss: 601917888.0000 - root_mean_squared_error: 24534.0156 - val_loss: 576909568.0000 - val_root_mean_squared_error: 24018.9414\n",
      "Epoch 92/100\n",
      "1/1 [==============================] - 0s 28ms/step - loss: 601917696.0000 - root_mean_squared_error: 24534.0117 - val_loss: 576909376.0000 - val_root_mean_squared_error: 24018.9375\n",
      "Epoch 93/100\n",
      "1/1 [==============================] - 0s 28ms/step - loss: 601917504.0000 - root_mean_squared_error: 24534.0078 - val_loss: 576909248.0000 - val_root_mean_squared_error: 24018.9355\n",
      "Epoch 94/100\n",
      "1/1 [==============================] - 0s 28ms/step - loss: 601917376.0000 - root_mean_squared_error: 24534.0039 - val_loss: 576909056.0000 - val_root_mean_squared_error: 24018.9316\n",
      "Epoch 95/100\n",
      "1/1 [==============================] - 0s 27ms/step - loss: 601917184.0000 - root_mean_squared_error: 24534.0000 - val_loss: 576908864.0000 - val_root_mean_squared_error: 24018.9277\n",
      "Epoch 96/100\n",
      "1/1 [==============================] - 0s 27ms/step - loss: 601916992.0000 - root_mean_squared_error: 24533.9961 - val_loss: 576908672.0000 - val_root_mean_squared_error: 24018.9238\n",
      "Epoch 97/100\n",
      "1/1 [==============================] - 0s 32ms/step - loss: 601916864.0000 - root_mean_squared_error: 24533.9941 - val_loss: 576908544.0000 - val_root_mean_squared_error: 24018.9199\n",
      "Epoch 98/100\n",
      "1/1 [==============================] - 0s 29ms/step - loss: 601916608.0000 - root_mean_squared_error: 24533.9883 - val_loss: 576908416.0000 - val_root_mean_squared_error: 24018.9180\n",
      "Epoch 99/100\n",
      "1/1 [==============================] - 0s 29ms/step - loss: 601916544.0000 - root_mean_squared_error: 24533.9883 - val_loss: 576908224.0000 - val_root_mean_squared_error: 24018.9141\n",
      "Epoch 100/100\n",
      "1/1 [==============================] - 0s 28ms/step - loss: 601916352.0000 - root_mean_squared_error: 24533.9844 - val_loss: 576908032.0000 - val_root_mean_squared_error: 24018.9102\n"
     ]
    },
    {
     "data": {
      "text/plain": [
       "<keras.callbacks.History at 0x7fa0f0b37f10>"
      ]
     },
     "execution_count": 153,
     "metadata": {},
     "output_type": "execute_result"
    }
   ],
   "source": [
    "model2.fit(X_train1, y_train1, validation_data=(X_val1, y_val1), epochs=100, callbacks=[cp2])"
   ]
  },
  {
   "cell_type": "code",
   "execution_count": 155,
   "metadata": {},
   "outputs": [
    {
     "name": "stdout",
     "output_type": "stream",
     "text": [
      "1/1 [==============================] - 0s 52ms/step\n"
     ]
    },
    {
     "data": {
      "text/html": [
       "<div>\n",
       "<style scoped>\n",
       "    .dataframe tbody tr th:only-of-type {\n",
       "        vertical-align: middle;\n",
       "    }\n",
       "\n",
       "    .dataframe tbody tr th {\n",
       "        vertical-align: top;\n",
       "    }\n",
       "\n",
       "    .dataframe thead th {\n",
       "        text-align: right;\n",
       "    }\n",
       "</style>\n",
       "<table border=\"1\" class=\"dataframe\">\n",
       "  <thead>\n",
       "    <tr style=\"text-align: right;\">\n",
       "      <th></th>\n",
       "      <th>Train Predictions</th>\n",
       "      <th>Actuals</th>\n",
       "    </tr>\n",
       "  </thead>\n",
       "  <tbody>\n",
       "    <tr>\n",
       "      <th>0</th>\n",
       "      <td>21066.574219</td>\n",
       "      <td>24945.0</td>\n",
       "    </tr>\n",
       "    <tr>\n",
       "      <th>1</th>\n",
       "      <td>21934.482422</td>\n",
       "      <td>24365.0</td>\n",
       "    </tr>\n",
       "    <tr>\n",
       "      <th>2</th>\n",
       "      <td>23029.126953</td>\n",
       "      <td>24293.0</td>\n",
       "    </tr>\n",
       "  </tbody>\n",
       "</table>\n",
       "</div>"
      ],
      "text/plain": [
       "   Train Predictions  Actuals\n",
       "0       21066.574219  24945.0\n",
       "1       21934.482422  24365.0\n",
       "2       23029.126953  24293.0"
      ]
     },
     "execution_count": 155,
     "metadata": {},
     "output_type": "execute_result"
    }
   ],
   "source": [
    "model2 = load_model('model2/')\n",
    "train_predictions2 = model2.predict(X_train1).flatten()\n",
    "train_results2 = pd.DataFrame(data={'Train Predictions':train_predictions2, 'Actuals':y_train1})\n",
    "train_results2"
   ]
  },
  {
   "cell_type": "code",
   "execution_count": 157,
   "metadata": {},
   "outputs": [
    {
     "data": {
      "text/plain": [
       "[<matplotlib.lines.Line2D at 0x7fa0f0b3d8e0>]"
      ]
     },
     "execution_count": 157,
     "metadata": {},
     "output_type": "execute_result"
    },
    {
     "data": {
      "image/png": "[encoded data removed]",
      "text/plain": [
       "<Figure size 432x288 with 1 Axes>"
      ]
     },
     "metadata": {
      "needs_background": "light"
     },
     "output_type": "display_data"
    }
   ],
   "source": [
    "plt.plot(train_results2['Train Predictions'])\n",
    "plt.plot(train_results2['Actuals'])"
   ]
  },
  {
   "cell_type": "code",
   "execution_count": 158,
   "metadata": {},
   "outputs": [
    {
     "name": "stdout",
     "output_type": "stream",
     "text": [
      "1/1 [==============================] - 0s 19ms/step\n"
     ]
    },
    {
     "data": {
      "text/html": [
       "<div>\n",
       "<style scoped>\n",
       "    .dataframe tbody tr th:only-of-type {\n",
       "        vertical-align: middle;\n",
       "    }\n",
       "\n",
       "    .dataframe tbody tr th {\n",
       "        vertical-align: top;\n",
       "    }\n",
       "\n",
       "    .dataframe thead th {\n",
       "        text-align: right;\n",
       "    }\n",
       "</style>\n",
       "<table border=\"1\" class=\"dataframe\">\n",
       "  <thead>\n",
       "    <tr style=\"text-align: right;\">\n",
       "      <th></th>\n",
       "      <th>Val Predictions</th>\n",
       "      <th>Actuals</th>\n",
       "    </tr>\n",
       "  </thead>\n",
       "  <tbody>\n",
       "    <tr>\n",
       "      <th>0</th>\n",
       "      <td>23832.564453</td>\n",
       "      <td>24021.0</td>\n",
       "    </tr>\n",
       "  </tbody>\n",
       "</table>\n",
       "</div>"
      ],
      "text/plain": [
       "   Val Predictions  Actuals\n",
       "0     23832.564453  24021.0"
      ]
     },
     "execution_count": 158,
     "metadata": {},
     "output_type": "execute_result"
    }
   ],
   "source": [
    "val_predictions2 = model2.predict(X_val1).flatten()\n",
    "val_results2 = pd.DataFrame(data={'Val Predictions':val_predictions2, 'Actuals':y_val1})\n",
    "val_results2"
   ]
  },
  {
   "cell_type": "code",
   "execution_count": 159,
   "metadata": {},
   "outputs": [
    {
     "name": "stdout",
     "output_type": "stream",
     "text": [
      "1/1 [==============================] - 0s 19ms/step\n"
     ]
    },
    {
     "data": {
      "text/html": [
       "<div>\n",
       "<style scoped>\n",
       "    .dataframe tbody tr th:only-of-type {\n",
       "        vertical-align: middle;\n",
       "    }\n",
       "\n",
       "    .dataframe tbody tr th {\n",
       "        vertical-align: top;\n",
       "    }\n",
       "\n",
       "    .dataframe thead th {\n",
       "        text-align: right;\n",
       "    }\n",
       "</style>\n",
       "<table border=\"1\" class=\"dataframe\">\n",
       "  <thead>\n",
       "    <tr style=\"text-align: right;\">\n",
       "      <th></th>\n",
       "      <th>Test Predictions</th>\n",
       "      <th>Actuals</th>\n",
       "    </tr>\n",
       "  </thead>\n",
       "  <tbody>\n",
       "    <tr>\n",
       "      <th>0</th>\n",
       "      <td>24829.957031</td>\n",
       "      <td>23997.0</td>\n",
       "    </tr>\n",
       "  </tbody>\n",
       "</table>\n",
       "</div>"
      ],
      "text/plain": [
       "   Test Predictions  Actuals\n",
       "0      24829.957031  23997.0"
      ]
     },
     "execution_count": 159,
     "metadata": {},
     "output_type": "execute_result"
    }
   ],
   "source": [
    "test_predictions2 = model2.predict(X_test1).flatten()\n",
    "test_results2 = pd.DataFrame(data={'Test Predictions':test_predictions2, 'Actuals':y_test1})\n",
    "test_results2"
   ]
  },
  {
   "cell_type": "markdown",
   "metadata": {},
   "source": [
    "# MODEL 3"
   ]
  },
  {
   "cell_type": "code",
   "execution_count": 160,
   "metadata": {
    "collapsed": false,
    "pycharm": {
     "name": "#%%\n"
    }
   },
   "outputs": [
    {
     "name": "stdout",
     "output_type": "stream",
     "text": [
      "Model: \"sequential_7\"\n",
      "_________________________________________________________________\n",
      " Layer (type)                Output Shape              Param #   \n",
      "=================================================================\n",
      " gru_1 (GRU)                 (None, 64)                12864     \n",
      "                                                                 \n",
      " dense_14 (Dense)            (None, 8)                 520       \n",
      "                                                                 \n",
      " dense_15 (Dense)            (None, 1)                 9         \n",
      "                                                                 \n",
      "=================================================================\n",
      "Total params: 13,393\n",
      "Trainable params: 13,393\n",
      "Non-trainable params: 0\n",
      "_________________________________________________________________\n"
     ]
    }
   ],
   "source": [
    "model3 = Sequential()\n",
    "model3.add(InputLayer((5, 1)))\n",
    "model3.add(GRU(64))\n",
    "model3.add(Dense(8, 'relu'))\n",
    "model3.add(Dense(1, 'linear'))\n",
    "model3.summary()"
   ]
  },
  {
   "cell_type": "code",
   "execution_count": 161,
   "metadata": {},
   "outputs": [],
   "source": [
    "cp3 = ModelCheckpoint('model3/', save_best_only=True)\n",
    "model3.compile(loss=MeanSquaredError(), optimizer=Adam(learning_rate=1), metrics=[RootMeanSquaredError()])"
   ]
  },
  {
   "cell_type": "code",
   "execution_count": 162,
   "metadata": {},
   "outputs": [
    {
     "name": "stdout",
     "output_type": "stream",
     "text": [
      "Epoch 1/100\n",
      "1/1 [==============================] - ETA: 0s - loss: 602019072.0000 - root_mean_squared_error: 24536.0762"
     ]
    },
    {
     "name": "stderr",
     "output_type": "stream",
     "text": [
      "WARNING:absl:Found untraced functions such as gru_cell_1_layer_call_fn, gru_cell_1_layer_call_and_return_conditional_losses while saving (showing 2 of 2). These functions will not be directly callable after loading.\n"
     ]
    },
    {
     "name": "stdout",
     "output_type": "stream",
     "text": [
      "INFO:tensorflow:Assets written to: model3/assets\n"
     ]
    },
    {
     "name": "stderr",
     "output_type": "stream",
     "text": [
      "INFO:tensorflow:Assets written to: model3/assets\n"
     ]
    },
    {
     "name": "stdout",
     "output_type": "stream",
     "text": [
      "1/1 [==============================] - 4s 4s/step - loss: 602019072.0000 - root_mean_squared_error: 24536.0762 - val_loss: 575021312.0000 - val_root_mean_squared_error: 23979.6016\n",
      "Epoch 2/100\n",
      "1/1 [==============================] - ETA: 0s - loss: 599988992.0000 - root_mean_squared_error: 24494.6719"
     ]
    },
    {
     "name": "stderr",
     "output_type": "stream",
     "text": [
      "WARNING:absl:Found untraced functions such as gru_cell_1_layer_call_fn, gru_cell_1_layer_call_and_return_conditional_losses while saving (showing 2 of 2). These functions will not be directly callable after loading.\n"
     ]
    },
    {
     "name": "stdout",
     "output_type": "stream",
     "text": [
      "INFO:tensorflow:Assets written to: model3/assets\n"
     ]
    },
    {
     "name": "stderr",
     "output_type": "stream",
     "text": [
      "INFO:tensorflow:Assets written to: model3/assets\n"
     ]
    },
    {
     "name": "stdout",
     "output_type": "stream",
     "text": [
      "1/1 [==============================] - 2s 2s/step - loss: 599988992.0000 - root_mean_squared_error: 24494.6719 - val_loss: 570968256.0000 - val_root_mean_squared_error: 23894.9414\n",
      "Epoch 3/100\n",
      "1/1 [==============================] - ETA: 0s - loss: 595849088.0000 - root_mean_squared_error: 24410.0195"
     ]
    },
    {
     "name": "stderr",
     "output_type": "stream",
     "text": [
      "WARNING:absl:Found untraced functions such as gru_cell_1_layer_call_fn, gru_cell_1_layer_call_and_return_conditional_losses while saving (showing 2 of 2). These functions will not be directly callable after loading.\n"
     ]
    },
    {
     "name": "stdout",
     "output_type": "stream",
     "text": [
      "INFO:tensorflow:Assets written to: model3/assets\n"
     ]
    },
    {
     "name": "stderr",
     "output_type": "stream",
     "text": [
      "INFO:tensorflow:Assets written to: model3/assets\n"
     ]
    },
    {
     "name": "stdout",
     "output_type": "stream",
     "text": [
      "1/1 [==============================] - 3s 3s/step - loss: 595849088.0000 - root_mean_squared_error: 24410.0195 - val_loss: 564168192.0000 - val_root_mean_squared_error: 23752.2246\n",
      "Epoch 4/100\n",
      "1/1 [==============================] - ETA: 0s - loss: 588902464.0000 - root_mean_squared_error: 24267.3125"
     ]
    },
    {
     "name": "stderr",
     "output_type": "stream",
     "text": [
      "WARNING:absl:Found untraced functions such as gru_cell_1_layer_call_fn, gru_cell_1_layer_call_and_return_conditional_losses while saving (showing 2 of 2). These functions will not be directly callable after loading.\n"
     ]
    },
    {
     "name": "stdout",
     "output_type": "stream",
     "text": [
      "INFO:tensorflow:Assets written to: model3/assets\n"
     ]
    },
    {
     "name": "stderr",
     "output_type": "stream",
     "text": [
      "INFO:tensorflow:Assets written to: model3/assets\n"
     ]
    },
    {
     "name": "stdout",
     "output_type": "stream",
     "text": [
      "1/1 [==============================] - 3s 3s/step - loss: 588902464.0000 - root_mean_squared_error: 24267.3125 - val_loss: 554494720.0000 - val_root_mean_squared_error: 23547.7109\n",
      "Epoch 5/100\n",
      "1/1 [==============================] - ETA: 0s - loss: 579019072.0000 - root_mean_squared_error: 24062.8145"
     ]
    },
    {
     "name": "stderr",
     "output_type": "stream",
     "text": [
      "WARNING:absl:Found untraced functions such as gru_cell_1_layer_call_fn, gru_cell_1_layer_call_and_return_conditional_losses while saving (showing 2 of 2). These functions will not be directly callable after loading.\n"
     ]
    },
    {
     "name": "stdout",
     "output_type": "stream",
     "text": [
      "INFO:tensorflow:Assets written to: model3/assets\n"
     ]
    },
    {
     "name": "stderr",
     "output_type": "stream",
     "text": [
      "INFO:tensorflow:Assets written to: model3/assets\n"
     ]
    },
    {
     "name": "stdout",
     "output_type": "stream",
     "text": [
      "1/1 [==============================] - 3s 3s/step - loss: 579019072.0000 - root_mean_squared_error: 24062.8145 - val_loss: 541865088.0000 - val_root_mean_squared_error: 23277.9961\n",
      "Epoch 6/100\n",
      "1/1 [==============================] - ETA: 0s - loss: 566112576.0000 - root_mean_squared_error: 23793.1211"
     ]
    },
    {
     "name": "stderr",
     "output_type": "stream",
     "text": [
      "WARNING:absl:Found untraced functions such as gru_cell_1_layer_call_fn, gru_cell_1_layer_call_and_return_conditional_losses while saving (showing 2 of 2). These functions will not be directly callable after loading.\n"
     ]
    },
    {
     "name": "stdout",
     "output_type": "stream",
     "text": [
      "INFO:tensorflow:Assets written to: model3/assets\n"
     ]
    },
    {
     "name": "stderr",
     "output_type": "stream",
     "text": [
      "INFO:tensorflow:Assets written to: model3/assets\n"
     ]
    },
    {
     "name": "stdout",
     "output_type": "stream",
     "text": [
      "1/1 [==============================] - 2s 2s/step - loss: 566112576.0000 - root_mean_squared_error: 23793.1211 - val_loss: 526230688.0000 - val_root_mean_squared_error: 22939.7188\n",
      "Epoch 7/100\n",
      "1/1 [==============================] - ETA: 0s - loss: 550130880.0000 - root_mean_squared_error: 23454.8691"
     ]
    },
    {
     "name": "stderr",
     "output_type": "stream",
     "text": [
      "WARNING:absl:Found untraced functions such as gru_cell_1_layer_call_fn, gru_cell_1_layer_call_and_return_conditional_losses while saving (showing 2 of 2). These functions will not be directly callable after loading.\n"
     ]
    },
    {
     "name": "stdout",
     "output_type": "stream",
     "text": [
      "INFO:tensorflow:Assets written to: model3/assets\n"
     ]
    },
    {
     "name": "stderr",
     "output_type": "stream",
     "text": [
      "INFO:tensorflow:Assets written to: model3/assets\n"
     ]
    },
    {
     "name": "stdout",
     "output_type": "stream",
     "text": [
      "1/1 [==============================] - 3s 3s/step - loss: 550130880.0000 - root_mean_squared_error: 23454.8691 - val_loss: 507579520.0000 - val_root_mean_squared_error: 22529.5254\n",
      "Epoch 8/100\n",
      "1/1 [==============================] - ETA: 0s - loss: 531058528.0000 - root_mean_squared_error: 23044.7070"
     ]
    },
    {
     "name": "stderr",
     "output_type": "stream",
     "text": [
      "WARNING:absl:Found untraced functions such as gru_cell_1_layer_call_fn, gru_cell_1_layer_call_and_return_conditional_losses while saving (showing 2 of 2). These functions will not be directly callable after loading.\n"
     ]
    },
    {
     "name": "stdout",
     "output_type": "stream",
     "text": [
      "INFO:tensorflow:Assets written to: model3/assets\n"
     ]
    },
    {
     "name": "stderr",
     "output_type": "stream",
     "text": [
      "INFO:tensorflow:Assets written to: model3/assets\n"
     ]
    },
    {
     "name": "stdout",
     "output_type": "stream",
     "text": [
      "1/1 [==============================] - 2s 2s/step - loss: 531058528.0000 - root_mean_squared_error: 23044.7070 - val_loss: 485941280.0000 - val_root_mean_squared_error: 22044.0762\n",
      "Epoch 9/100\n",
      "1/1 [==============================] - ETA: 0s - loss: 508921888.0000 - root_mean_squared_error: 22559.2969"
     ]
    },
    {
     "name": "stderr",
     "output_type": "stream",
     "text": [
      "WARNING:absl:Found untraced functions such as gru_cell_1_layer_call_fn, gru_cell_1_layer_call_and_return_conditional_losses while saving (showing 2 of 2). These functions will not be directly callable after loading.\n"
     ]
    },
    {
     "name": "stdout",
     "output_type": "stream",
     "text": [
      "INFO:tensorflow:Assets written to: model3/assets\n"
     ]
    },
    {
     "name": "stderr",
     "output_type": "stream",
     "text": [
      "INFO:tensorflow:Assets written to: model3/assets\n"
     ]
    },
    {
     "name": "stdout",
     "output_type": "stream",
     "text": [
      "1/1 [==============================] - 3s 3s/step - loss: 508921888.0000 - root_mean_squared_error: 22559.2969 - val_loss: 461393248.0000 - val_root_mean_squared_error: 21480.0664\n",
      "Epoch 10/100\n",
      "1/1 [==============================] - ETA: 0s - loss: 483794816.0000 - root_mean_squared_error: 21995.3359"
     ]
    },
    {
     "name": "stderr",
     "output_type": "stream",
     "text": [
      "WARNING:absl:Found untraced functions such as gru_cell_1_layer_call_fn, gru_cell_1_layer_call_and_return_conditional_losses while saving (showing 2 of 2). These functions will not be directly callable after loading.\n"
     ]
    },
    {
     "name": "stdout",
     "output_type": "stream",
     "text": [
      "INFO:tensorflow:Assets written to: model3/assets\n"
     ]
    },
    {
     "name": "stderr",
     "output_type": "stream",
     "text": [
      "INFO:tensorflow:Assets written to: model3/assets\n"
     ]
    },
    {
     "name": "stdout",
     "output_type": "stream",
     "text": [
      "1/1 [==============================] - 4s 4s/step - loss: 483794816.0000 - root_mean_squared_error: 21995.3359 - val_loss: 434066528.0000 - val_root_mean_squared_error: 20834.2637\n",
      "Epoch 11/100\n",
      "1/1 [==============================] - ETA: 0s - loss: 455805088.0000 - root_mean_squared_error: 21349.5918"
     ]
    },
    {
     "name": "stderr",
     "output_type": "stream",
     "text": [
      "WARNING:absl:Found untraced functions such as gru_cell_1_layer_call_fn, gru_cell_1_layer_call_and_return_conditional_losses while saving (showing 2 of 2). These functions will not be directly callable after loading.\n"
     ]
    },
    {
     "name": "stdout",
     "output_type": "stream",
     "text": [
      "INFO:tensorflow:Assets written to: model3/assets\n"
     ]
    },
    {
     "name": "stderr",
     "output_type": "stream",
     "text": [
      "INFO:tensorflow:Assets written to: model3/assets\n"
     ]
    },
    {
     "name": "stdout",
     "output_type": "stream",
     "text": [
      "1/1 [==============================] - 4s 4s/step - loss: 455805088.0000 - root_mean_squared_error: 21349.5918 - val_loss: 404152672.0000 - val_root_mean_squared_error: 20103.5488\n",
      "Epoch 12/100\n",
      "1/1 [==============================] - ETA: 0s - loss: 425141024.0000 - root_mean_squared_error: 20618.9473"
     ]
    },
    {
     "name": "stderr",
     "output_type": "stream",
     "text": [
      "WARNING:absl:Found untraced functions such as gru_cell_1_layer_call_fn, gru_cell_1_layer_call_and_return_conditional_losses while saving (showing 2 of 2). These functions will not be directly callable after loading.\n"
     ]
    },
    {
     "name": "stdout",
     "output_type": "stream",
     "text": [
      "INFO:tensorflow:Assets written to: model3/assets\n"
     ]
    },
    {
     "name": "stderr",
     "output_type": "stream",
     "text": [
      "INFO:tensorflow:Assets written to: model3/assets\n"
     ]
    },
    {
     "name": "stdout",
     "output_type": "stream",
     "text": [
      "1/1 [==============================] - 3s 3s/step - loss: 425141024.0000 - root_mean_squared_error: 20618.9473 - val_loss: 371910464.0000 - val_root_mean_squared_error: 19284.9805\n",
      "Epoch 13/100\n",
      "1/1 [==============================] - ETA: 0s - loss: 392058400.0000 - root_mean_squared_error: 19800.4648"
     ]
    },
    {
     "name": "stderr",
     "output_type": "stream",
     "text": [
      "WARNING:absl:Found untraced functions such as gru_cell_1_layer_call_fn, gru_cell_1_layer_call_and_return_conditional_losses while saving (showing 2 of 2). These functions will not be directly callable after loading.\n"
     ]
    },
    {
     "name": "stdout",
     "output_type": "stream",
     "text": [
      "INFO:tensorflow:Assets written to: model3/assets\n"
     ]
    },
    {
     "name": "stderr",
     "output_type": "stream",
     "text": [
      "INFO:tensorflow:Assets written to: model3/assets\n"
     ]
    },
    {
     "name": "stdout",
     "output_type": "stream",
     "text": [
      "1/1 [==============================] - 3s 3s/step - loss: 392058400.0000 - root_mean_squared_error: 19800.4648 - val_loss: 337672352.0000 - val_root_mean_squared_error: 18375.8633\n",
      "Epoch 14/100\n",
      "1/1 [==============================] - ETA: 0s - loss: 356886944.0000 - root_mean_squared_error: 18891.4512"
     ]
    },
    {
     "name": "stderr",
     "output_type": "stream",
     "text": [
      "WARNING:absl:Found untraced functions such as gru_cell_1_layer_call_fn, gru_cell_1_layer_call_and_return_conditional_losses while saving (showing 2 of 2). These functions will not be directly callable after loading.\n"
     ]
    },
    {
     "name": "stdout",
     "output_type": "stream",
     "text": [
      "INFO:tensorflow:Assets written to: model3/assets\n"
     ]
    },
    {
     "name": "stderr",
     "output_type": "stream",
     "text": [
      "INFO:tensorflow:Assets written to: model3/assets\n"
     ]
    },
    {
     "name": "stdout",
     "output_type": "stream",
     "text": [
      "1/1 [==============================] - 3s 3s/step - loss: 356886944.0000 - root_mean_squared_error: 18891.4512 - val_loss: 301851264.0000 - val_root_mean_squared_error: 17373.8672\n",
      "Epoch 15/100\n",
      "1/1 [==============================] - ETA: 0s - loss: 320037120.0000 - root_mean_squared_error: 17889.5820"
     ]
    },
    {
     "name": "stderr",
     "output_type": "stream",
     "text": [
      "WARNING:absl:Found untraced functions such as gru_cell_1_layer_call_fn, gru_cell_1_layer_call_and_return_conditional_losses while saving (showing 2 of 2). These functions will not be directly callable after loading.\n"
     ]
    },
    {
     "name": "stdout",
     "output_type": "stream",
     "text": [
      "INFO:tensorflow:Assets written to: model3/assets\n"
     ]
    },
    {
     "name": "stderr",
     "output_type": "stream",
     "text": [
      "INFO:tensorflow:Assets written to: model3/assets\n"
     ]
    },
    {
     "name": "stdout",
     "output_type": "stream",
     "text": [
      "1/1 [==============================] - 2s 2s/step - loss: 320037120.0000 - root_mean_squared_error: 17889.5820 - val_loss: 264945872.0000 - val_root_mean_squared_error: 16277.1582\n",
      "Epoch 16/100\n",
      "1/1 [==============================] - ETA: 0s - loss: 282005856.0000 - root_mean_squared_error: 16793.0293"
     ]
    },
    {
     "name": "stderr",
     "output_type": "stream",
     "text": [
      "WARNING:absl:Found untraced functions such as gru_cell_1_layer_call_fn, gru_cell_1_layer_call_and_return_conditional_losses while saving (showing 2 of 2). These functions will not be directly callable after loading.\n"
     ]
    },
    {
     "name": "stdout",
     "output_type": "stream",
     "text": [
      "INFO:tensorflow:Assets written to: model3/assets\n"
     ]
    },
    {
     "name": "stderr",
     "output_type": "stream",
     "text": [
      "INFO:tensorflow:Assets written to: model3/assets\n"
     ]
    },
    {
     "name": "stdout",
     "output_type": "stream",
     "text": [
      "1/1 [==============================] - 2s 2s/step - loss: 282005856.0000 - root_mean_squared_error: 16793.0293 - val_loss: 227545056.0000 - val_root_mean_squared_error: 15084.5967\n",
      "Epoch 17/100\n",
      "1/1 [==============================] - ETA: 0s - loss: 243380656.0000 - root_mean_squared_error: 15600.6621"
     ]
    },
    {
     "name": "stderr",
     "output_type": "stream",
     "text": [
      "WARNING:absl:Found untraced functions such as gru_cell_1_layer_call_fn, gru_cell_1_layer_call_and_return_conditional_losses while saving (showing 2 of 2). These functions will not be directly callable after loading.\n"
     ]
    },
    {
     "name": "stdout",
     "output_type": "stream",
     "text": [
      "INFO:tensorflow:Assets written to: model3/assets\n"
     ]
    },
    {
     "name": "stderr",
     "output_type": "stream",
     "text": [
      "INFO:tensorflow:Assets written to: model3/assets\n"
     ]
    },
    {
     "name": "stdout",
     "output_type": "stream",
     "text": [
      "1/1 [==============================] - 2s 2s/step - loss: 243380656.0000 - root_mean_squared_error: 15600.6621 - val_loss: 190329216.0000 - val_root_mean_squared_error: 13795.9854\n",
      "Epoch 18/100\n",
      "1/1 [==============================] - ETA: 0s - loss: 204841792.0000 - root_mean_squared_error: 14312.2949"
     ]
    },
    {
     "name": "stderr",
     "output_type": "stream",
     "text": [
      "WARNING:absl:Found untraced functions such as gru_cell_1_layer_call_fn, gru_cell_1_layer_call_and_return_conditional_losses while saving (showing 2 of 2). These functions will not be directly callable after loading.\n"
     ]
    },
    {
     "name": "stdout",
     "output_type": "stream",
     "text": [
      "INFO:tensorflow:Assets written to: model3/assets\n"
     ]
    },
    {
     "name": "stderr",
     "output_type": "stream",
     "text": [
      "INFO:tensorflow:Assets written to: model3/assets\n"
     ]
    },
    {
     "name": "stdout",
     "output_type": "stream",
     "text": [
      "1/1 [==============================] - 2s 2s/step - loss: 204841792.0000 - root_mean_squared_error: 14312.2949 - val_loss: 154068368.0000 - val_root_mean_squared_error: 12412.4277\n",
      "Epoch 19/100\n",
      "1/1 [==============================] - ETA: 0s - loss: 167160496.0000 - root_mean_squared_error: 12929.0566"
     ]
    },
    {
     "name": "stderr",
     "output_type": "stream",
     "text": [
      "WARNING:absl:Found untraced functions such as gru_cell_1_layer_call_fn, gru_cell_1_layer_call_and_return_conditional_losses while saving (showing 2 of 2). These functions will not be directly callable after loading.\n"
     ]
    },
    {
     "name": "stdout",
     "output_type": "stream",
     "text": [
      "INFO:tensorflow:Assets written to: model3/assets\n"
     ]
    },
    {
     "name": "stderr",
     "output_type": "stream",
     "text": [
      "INFO:tensorflow:Assets written to: model3/assets\n"
     ]
    },
    {
     "name": "stdout",
     "output_type": "stream",
     "text": [
      "1/1 [==============================] - 3s 3s/step - loss: 167160496.0000 - root_mean_squared_error: 12929.0566 - val_loss: 119613720.0000 - val_root_mean_squared_error: 10936.8057\n",
      "Epoch 20/100\n",
      "1/1 [==============================] - ETA: 0s - loss: 131190912.0000 - root_mean_squared_error: 11453.8604"
     ]
    },
    {
     "name": "stderr",
     "output_type": "stream",
     "text": [
      "WARNING:absl:Found untraced functions such as gru_cell_1_layer_call_fn, gru_cell_1_layer_call_and_return_conditional_losses while saving (showing 2 of 2). These functions will not be directly callable after loading.\n"
     ]
    },
    {
     "name": "stdout",
     "output_type": "stream",
     "text": [
      "INFO:tensorflow:Assets written to: model3/assets\n"
     ]
    },
    {
     "name": "stderr",
     "output_type": "stream",
     "text": [
      "INFO:tensorflow:Assets written to: model3/assets\n"
     ]
    },
    {
     "name": "stdout",
     "output_type": "stream",
     "text": [
      "1/1 [==============================] - 2s 2s/step - loss: 131190912.0000 - root_mean_squared_error: 11453.8604 - val_loss: 87879824.0000 - val_root_mean_squared_error: 9374.4238\n",
      "Epoch 21/100\n",
      "1/1 [==============================] - ETA: 0s - loss: 97852928.0000 - root_mean_squared_error: 9892.0635"
     ]
    },
    {
     "name": "stderr",
     "output_type": "stream",
     "text": [
      "WARNING:absl:Found untraced functions such as gru_cell_1_layer_call_fn, gru_cell_1_layer_call_and_return_conditional_losses while saving (showing 2 of 2). These functions will not be directly callable after loading.\n"
     ]
    },
    {
     "name": "stdout",
     "output_type": "stream",
     "text": [
      "INFO:tensorflow:Assets written to: model3/assets\n"
     ]
    },
    {
     "name": "stderr",
     "output_type": "stream",
     "text": [
      "INFO:tensorflow:Assets written to: model3/assets\n"
     ]
    },
    {
     "name": "stdout",
     "output_type": "stream",
     "text": [
      "1/1 [==============================] - 3s 3s/step - loss: 97852928.0000 - root_mean_squared_error: 9892.0635 - val_loss: 59812640.0000 - val_root_mean_squared_error: 7733.8633\n",
      "Epoch 22/100\n",
      "1/1 [==============================] - ETA: 0s - loss: 68101416.0000 - root_mean_squared_error: 8252.3584"
     ]
    },
    {
     "name": "stderr",
     "output_type": "stream",
     "text": [
      "WARNING:absl:Found untraced functions such as gru_cell_1_layer_call_fn, gru_cell_1_layer_call_and_return_conditional_losses while saving (showing 2 of 2). These functions will not be directly callable after loading.\n"
     ]
    },
    {
     "name": "stdout",
     "output_type": "stream",
     "text": [
      "INFO:tensorflow:Assets written to: model3/assets\n"
     ]
    },
    {
     "name": "stderr",
     "output_type": "stream",
     "text": [
      "INFO:tensorflow:Assets written to: model3/assets\n"
     ]
    },
    {
     "name": "stdout",
     "output_type": "stream",
     "text": [
      "1/1 [==============================] - 3s 3s/step - loss: 68101416.0000 - root_mean_squared_error: 8252.3584 - val_loss: 36338384.0000 - val_root_mean_squared_error: 6028.1328\n",
      "Epoch 23/100\n",
      "1/1 [==============================] - ETA: 0s - loss: 42875940.0000 - root_mean_squared_error: 6547.9722"
     ]
    },
    {
     "name": "stderr",
     "output_type": "stream",
     "text": [
      "WARNING:absl:Found untraced functions such as gru_cell_1_layer_call_fn, gru_cell_1_layer_call_and_return_conditional_losses while saving (showing 2 of 2). These functions will not be directly callable after loading.\n"
     ]
    },
    {
     "name": "stdout",
     "output_type": "stream",
     "text": [
      "INFO:tensorflow:Assets written to: model3/assets\n"
     ]
    },
    {
     "name": "stderr",
     "output_type": "stream",
     "text": [
      "INFO:tensorflow:Assets written to: model3/assets\n"
     ]
    },
    {
     "name": "stdout",
     "output_type": "stream",
     "text": [
      "1/1 [==============================] - 3s 3s/step - loss: 42875940.0000 - root_mean_squared_error: 6547.9722 - val_loss: 18284644.0000 - val_root_mean_squared_error: 4276.0547\n",
      "Epoch 24/100\n",
      "1/1 [==============================] - ETA: 0s - loss: 23023424.0000 - root_mean_squared_error: 4798.2729"
     ]
    },
    {
     "name": "stderr",
     "output_type": "stream",
     "text": [
      "WARNING:absl:Found untraced functions such as gru_cell_1_layer_call_fn, gru_cell_1_layer_call_and_return_conditional_losses while saving (showing 2 of 2). These functions will not be directly callable after loading.\n"
     ]
    },
    {
     "name": "stdout",
     "output_type": "stream",
     "text": [
      "INFO:tensorflow:Assets written to: model3/assets\n"
     ]
    },
    {
     "name": "stderr",
     "output_type": "stream",
     "text": [
      "INFO:tensorflow:Assets written to: model3/assets\n"
     ]
    },
    {
     "name": "stdout",
     "output_type": "stream",
     "text": [
      "1/1 [==============================] - 3s 3s/step - loss: 23023424.0000 - root_mean_squared_error: 4798.2729 - val_loss: 6269360.5000 - val_root_mean_squared_error: 2503.8691\n",
      "Epoch 25/100\n",
      "1/1 [==============================] - ETA: 0s - loss: 9188687.0000 - root_mean_squared_error: 3031.2847"
     ]
    },
    {
     "name": "stderr",
     "output_type": "stream",
     "text": [
      "WARNING:absl:Found untraced functions such as gru_cell_1_layer_call_fn, gru_cell_1_layer_call_and_return_conditional_losses while saving (showing 2 of 2). These functions will not be directly callable after loading.\n"
     ]
    },
    {
     "name": "stdout",
     "output_type": "stream",
     "text": [
      "INFO:tensorflow:Assets written to: model3/assets\n"
     ]
    },
    {
     "name": "stderr",
     "output_type": "stream",
     "text": [
      "INFO:tensorflow:Assets written to: model3/assets\n"
     ]
    },
    {
     "name": "stdout",
     "output_type": "stream",
     "text": [
      "1/1 [==============================] - 4s 4s/step - loss: 9188687.0000 - root_mean_squared_error: 3031.2847 - val_loss: 557574.3125 - val_root_mean_squared_error: 746.7090\n",
      "Epoch 26/100\n",
      "1/1 [==============================] - 0s 24ms/step - loss: 1672894.1250 - root_mean_squared_error: 1293.4041 - val_loss: 903725.0000 - val_root_mean_squared_error: 950.6445\n",
      "Epoch 27/100\n",
      "1/1 [==============================] - 0s 24ms/step - loss: 276426.9062 - root_mean_squared_error: 525.7632 - val_loss: 6425215.0000 - val_root_mean_squared_error: 2534.8008\n",
      "Epoch 28/100\n",
      "1/1 [==============================] - 0s 23ms/step - loss: 4171518.0000 - root_mean_squared_error: 2042.4294 - val_loss: 15584206.0000 - val_root_mean_squared_error: 3947.6836\n",
      "Epoch 29/100\n",
      "1/1 [==============================] - 0s 29ms/step - loss: 11879949.0000 - root_mean_squared_error: 3446.7302 - val_loss: 26354186.0000 - val_root_mean_squared_error: 5133.6328\n",
      "Epoch 30/100\n",
      "1/1 [==============================] - 0s 28ms/step - loss: 21432354.0000 - root_mean_squared_error: 4629.5093 - val_loss: 36581424.0000 - val_root_mean_squared_error: 6048.2578\n",
      "Epoch 31/100\n",
      "1/1 [==============================] - 0s 30ms/step - loss: 30720576.0000 - root_mean_squared_error: 5542.6147 - val_loss: 44434256.0000 - val_root_mean_squared_error: 6665.9023\n",
      "Epoch 32/100\n",
      "1/1 [==============================] - 0s 29ms/step - loss: 37939292.0000 - root_mean_squared_error: 6159.4878 - val_loss: 48758116.0000 - val_root_mean_squared_error: 6982.7012\n",
      "Epoch 33/100\n",
      "1/1 [==============================] - 0s 33ms/step - loss: 41937856.0000 - root_mean_squared_error: 6475.9443 - val_loss: 49206416.0000 - val_root_mean_squared_error: 7014.7285\n",
      "Epoch 34/100\n",
      "1/1 [==============================] - 0s 30ms/step - loss: 42353328.0000 - root_mean_squared_error: 6507.9434 - val_loss: 46144688.0000 - val_root_mean_squared_error: 6792.9883\n",
      "Epoch 35/100\n",
      "1/1 [==============================] - 0s 32ms/step - loss: 39519252.0000 - root_mean_squared_error: 6286.4341 - val_loss: 40419096.0000 - val_root_mean_squared_error: 6357.6016\n",
      "Epoch 36/100\n",
      "1/1 [==============================] - 0s 29ms/step - loss: 34240660.0000 - root_mean_squared_error: 5851.5518 - val_loss: 33095796.0000 - val_root_mean_squared_error: 5752.8945\n",
      "Epoch 37/100\n",
      "1/1 [==============================] - 0s 31ms/step - loss: 27538190.0000 - root_mean_squared_error: 5247.6841 - val_loss: 25238260.0000 - val_root_mean_squared_error: 5023.7695\n",
      "Epoch 38/100\n",
      "1/1 [==============================] - 0s 30ms/step - loss: 20429240.0000 - root_mean_squared_error: 4519.8716 - val_loss: 17752314.0000 - val_root_mean_squared_error: 4213.3496\n",
      "Epoch 39/100\n",
      "1/1 [==============================] - 0s 29ms/step - loss: 13775323.0000 - root_mean_squared_error: 3711.5122 - val_loss: 11298960.0000 - val_root_mean_squared_error: 3361.3926\n",
      "Epoch 40/100\n",
      "1/1 [==============================] - 0s 26ms/step - loss: 8196629.5000 - root_mean_squared_error: 2862.9756 - val_loss: 6266642.0000 - val_root_mean_squared_error: 2503.3262\n",
      "Epoch 41/100\n",
      "1/1 [==============================] - 0s 30ms/step - loss: 4045259.2500 - root_mean_squared_error: 2011.2830 - val_loss: 2787712.7500 - val_root_mean_squared_error: 1669.6445\n",
      "Epoch 42/100\n",
      "1/1 [==============================] - 0s 27ms/step - loss: 1422238.6250 - root_mean_squared_error: 1192.5764 - val_loss: 784252.0625 - val_root_mean_squared_error: 885.5801\n",
      "Epoch 43/100\n",
      "1/1 [==============================] - ETA: 0s - loss: 223752.2969 - root_mean_squared_error: 473.0246"
     ]
    },
    {
     "name": "stderr",
     "output_type": "stream",
     "text": [
      "WARNING:absl:Found untraced functions such as gru_cell_1_layer_call_fn, gru_cell_1_layer_call_and_return_conditional_losses while saving (showing 2 of 2). These functions will not be directly callable after loading.\n"
     ]
    },
    {
     "name": "stdout",
     "output_type": "stream",
     "text": [
      "INFO:tensorflow:Assets written to: model3/assets\n"
     ]
    },
    {
     "name": "stderr",
     "output_type": "stream",
     "text": [
      "INFO:tensorflow:Assets written to: model3/assets\n"
     ]
    },
    {
     "name": "stdout",
     "output_type": "stream",
     "text": [
      "1/1 [==============================] - 3s 3s/step - loss: 223752.2969 - root_mean_squared_error: 473.0246 - val_loss: 29251.6875 - val_root_mean_squared_error: 171.0312\n",
      "Epoch 44/100\n",
      "1/1 [==============================] - 0s 24ms/step - loss: 202358.2656 - root_mean_squared_error: 449.8425 - val_loss: 210869.2969 - val_root_mean_squared_error: 459.2051\n",
      "Epoch 45/100\n",
      "1/1 [==============================] - 0s 25ms/step - loss: 1031018.5000 - root_mean_squared_error: 1015.3908 - val_loss: 990297.0625 - val_root_mean_squared_error: 995.1367\n",
      "Epoch 46/100\n",
      "1/1 [==============================] - 0s 24ms/step - loss: 2360681.2500 - root_mean_squared_error: 1536.4508 - val_loss: 2047744.2500 - val_root_mean_squared_error: 1430.9941\n",
      "Epoch 47/100\n",
      "1/1 [==============================] - 0s 23ms/step - loss: 3865581.7500 - root_mean_squared_error: 1966.1083 - val_loss: 3113963.5000 - val_root_mean_squared_error: 1764.6426\n",
      "Epoch 48/100\n",
      "1/1 [==============================] - 0s 27ms/step - loss: 5274371.0000 - root_mean_squared_error: 2296.5999 - val_loss: 3988087.0000 - val_root_mean_squared_error: 1997.0195\n",
      "Epoch 49/100\n",
      "1/1 [==============================] - 0s 26ms/step - loss: 6387049.5000 - root_mean_squared_error: 2527.2612 - val_loss: 4543392.0000 - val_root_mean_squared_error: 2131.5234\n",
      "Epoch 50/100\n",
      "1/1 [==============================] - 0s 30ms/step - loss: 7080454.5000 - root_mean_squared_error: 2660.9124 - val_loss: 4724382.5000 - val_root_mean_squared_error: 2173.5645\n",
      "Epoch 51/100\n",
      "1/1 [==============================] - 0s 32ms/step - loss: 7304596.5000 - root_mean_squared_error: 2702.7017 - val_loss: 4537657.0000 - val_root_mean_squared_error: 2130.1777\n",
      "Epoch 52/100\n",
      "1/1 [==============================] - 0s 25ms/step - loss: 7073338.5000 - root_mean_squared_error: 2659.5750 - val_loss: 4039055.7500 - val_root_mean_squared_error: 2009.7402\n",
      "Epoch 53/100\n",
      "1/1 [==============================] - 0s 27ms/step - loss: 6451088.0000 - root_mean_squared_error: 2539.8992 - val_loss: 3318758.7500 - val_root_mean_squared_error: 1821.7461\n",
      "Epoch 54/100\n",
      "1/1 [==============================] - 0s 25ms/step - loss: 5537792.5000 - root_mean_squared_error: 2353.2515 - val_loss: 2485795.7500 - val_root_mean_squared_error: 1576.6406\n",
      "Epoch 55/100\n",
      "1/1 [==============================] - 0s 29ms/step - loss: 4453178.5000 - root_mean_squared_error: 2110.2556 - val_loss: 1652927.0000 - val_root_mean_squared_error: 1285.6621\n",
      "Epoch 56/100\n",
      "1/1 [==============================] - 0s 28ms/step - loss: 3321572.0000 - root_mean_squared_error: 1822.5181 - val_loss: 922939.2500 - val_root_mean_squared_error: 960.6973\n",
      "Epoch 57/100\n",
      "1/1 [==============================] - 0s 31ms/step - loss: 2257953.7500 - root_mean_squared_error: 1502.6489 - val_loss: 377077.5625 - val_root_mean_squared_error: 614.0664\n",
      "Epoch 58/100\n",
      "1/1 [==============================] - 0s 29ms/step - loss: 1356217.7500 - root_mean_squared_error: 1164.5676 - val_loss: 66713.2422 - val_root_mean_squared_error: 258.2891\n",
      "Epoch 59/100\n",
      "1/1 [==============================] - ETA: 0s - loss: 680591.6875 - root_mean_squared_error: 824.9798"
     ]
    },
    {
     "name": "stderr",
     "output_type": "stream",
     "text": [
      "WARNING:absl:Found untraced functions such as gru_cell_1_layer_call_fn, gru_cell_1_layer_call_and_return_conditional_losses while saving (showing 2 of 2). These functions will not be directly callable after loading.\n"
     ]
    },
    {
     "name": "stdout",
     "output_type": "stream",
     "text": [
      "INFO:tensorflow:Assets written to: model3/assets\n"
     ]
    },
    {
     "name": "stderr",
     "output_type": "stream",
     "text": [
      "INFO:tensorflow:Assets written to: model3/assets\n"
     ]
    },
    {
     "name": "stdout",
     "output_type": "stream",
     "text": [
      "1/1 [==============================] - 3s 3s/step - loss: 680591.6875 - root_mean_squared_error: 824.9798 - val_loss: 8879.3809 - val_root_mean_squared_error: 94.2305\n",
      "Epoch 60/100\n",
      "1/1 [==============================] - 0s 24ms/step - loss: 260833.1250 - root_mean_squared_error: 510.7182 - val_loss: 186273.1719 - val_root_mean_squared_error: 431.5938\n",
      "Epoch 61/100\n",
      "1/1 [==============================] - 0s 24ms/step - loss: 91868.2734 - root_mean_squared_error: 303.0978 - val_loss: 551784.9375 - val_root_mean_squared_error: 742.8223\n",
      "Epoch 62/100\n",
      "1/1 [==============================] - 0s 23ms/step - loss: 137852.7344 - root_mean_squared_error: 371.2852 - val_loss: 1036868.8750 - val_root_mean_squared_error: 1018.2676\n",
      "Epoch 63/100\n",
      "1/1 [==============================] - 0s 25ms/step - loss: 340146.1562 - root_mean_squared_error: 583.2205 - val_loss: 1562700.2500 - val_root_mean_squared_error: 1250.0801\n",
      "Epoch 64/100\n",
      "1/1 [==============================] - 0s 24ms/step - loss: 627977.5625 - root_mean_squared_error: 792.4504 - val_loss: 2052000.2500 - val_root_mean_squared_error: 1432.4805\n",
      "Epoch 65/100\n",
      "1/1 [==============================] - 0s 24ms/step - loss: 930019.0000 - root_mean_squared_error: 964.3749 - val_loss: 2440008.7500 - val_root_mean_squared_error: 1562.0527\n",
      "Epoch 66/100\n",
      "1/1 [==============================] - 0s 57ms/step - loss: 1185004.0000 - root_mean_squared_error: 1088.5789 - val_loss: 2682372.2500 - val_root_mean_squared_error: 1637.7949\n",
      "Epoch 67/100\n",
      "1/1 [==============================] - 0s 59ms/step - loss: 1349601.3750 - root_mean_squared_error: 1161.7235 - val_loss: 2759200.0000 - val_root_mean_squared_error: 1661.0840\n",
      "Epoch 68/100\n",
      "1/1 [==============================] - 0s 31ms/step - loss: 1402519.1250 - root_mean_squared_error: 1184.2800 - val_loss: 2674713.2500 - val_root_mean_squared_error: 1635.4551\n",
      "Epoch 69/100\n",
      "1/1 [==============================] - 0s 29ms/step - loss: 1344344.7500 - root_mean_squared_error: 1159.4589 - val_loss: 2453286.0000 - val_root_mean_squared_error: 1566.2969\n",
      "Epoch 70/100\n",
      "1/1 [==============================] - 0s 26ms/step - loss: 1193919.7500 - root_mean_squared_error: 1092.6664 - val_loss: 2132866.2500 - val_root_mean_squared_error: 1460.4336\n",
      "Epoch 71/100\n",
      "1/1 [==============================] - 0s 27ms/step - loss: 982190.1875 - root_mean_squared_error: 991.0551 - val_loss: 1757437.0000 - val_root_mean_squared_error: 1325.6836\n",
      "Epoch 72/100\n",
      "1/1 [==============================] - 0s 25ms/step - loss: 745100.5000 - root_mean_squared_error: 863.1920 - val_loss: 1369777.6250 - val_root_mean_squared_error: 1170.3750\n",
      "Epoch 73/100\n",
      "1/1 [==============================] - 0s 32ms/step - loss: 516891.2812 - root_mean_squared_error: 718.9515 - val_loss: 1005875.8125 - val_root_mean_squared_error: 1002.9336\n",
      "Epoch 74/100\n",
      "1/1 [==============================] - 0s 33ms/step - loss: 324895.9688 - root_mean_squared_error: 569.9965 - val_loss: 691353.2500 - val_root_mean_squared_error: 831.4766\n",
      "Epoch 75/100\n",
      "1/1 [==============================] - 0s 32ms/step - loss: 186403.9219 - root_mean_squared_error: 431.7452 - val_loss: 440211.5312 - val_root_mean_squared_error: 663.4844\n",
      "Epoch 76/100\n",
      "1/1 [==============================] - 0s 30ms/step - loss: 107733.4766 - root_mean_squared_error: 328.2278 - val_loss: 255585.5469 - val_root_mean_squared_error: 505.5547\n",
      "Epoch 77/100\n",
      "1/1 [==============================] - 0s 28ms/step - loss: 85248.0859 - root_mean_squared_error: 291.9727 - val_loss: 131922.1875 - val_root_mean_squared_error: 363.2109\n",
      "Epoch 78/100\n",
      "1/1 [==============================] - 0s 22ms/step - loss: 107724.2891 - root_mean_squared_error: 328.2138 - val_loss: 57989.7188 - val_root_mean_squared_error: 240.8105\n",
      "Epoch 79/100\n",
      "1/1 [==============================] - 0s 23ms/step - loss: 159457.2969 - root_mean_squared_error: 399.3210 - val_loss: 20013.4062 - val_root_mean_squared_error: 141.4688\n",
      "Epoch 80/100\n",
      "1/1 [==============================] - ETA: 0s - loss: 223469.3750 - root_mean_squared_error: 472.7255"
     ]
    },
    {
     "name": "stderr",
     "output_type": "stream",
     "text": [
      "WARNING:absl:Found untraced functions such as gru_cell_1_layer_call_fn, gru_cell_1_layer_call_and_return_conditional_losses while saving (showing 2 of 2). These functions will not be directly callable after loading.\n"
     ]
    },
    {
     "name": "stdout",
     "output_type": "stream",
     "text": [
      "INFO:tensorflow:Assets written to: model3/assets\n"
     ]
    },
    {
     "name": "stderr",
     "output_type": "stream",
     "text": [
      "INFO:tensorflow:Assets written to: model3/assets\n"
     ]
    },
    {
     "name": "stdout",
     "output_type": "stream",
     "text": [
      "1/1 [==============================] - 3s 3s/step - loss: 223469.3750 - root_mean_squared_error: 472.7255 - val_loss: 4502.3574 - val_root_mean_squared_error: 67.0996\n",
      "Epoch 81/100\n",
      "1/1 [==============================] - ETA: 0s - loss: 284310.3438 - root_mean_squared_error: 533.2076"
     ]
    },
    {
     "name": "stderr",
     "output_type": "stream",
     "text": [
      "WARNING:absl:Found untraced functions such as gru_cell_1_layer_call_fn, gru_cell_1_layer_call_and_return_conditional_losses while saving (showing 2 of 2). These functions will not be directly callable after loading.\n"
     ]
    },
    {
     "name": "stdout",
     "output_type": "stream",
     "text": [
      "INFO:tensorflow:Assets written to: model3/assets\n"
     ]
    },
    {
     "name": "stderr",
     "output_type": "stream",
     "text": [
      "INFO:tensorflow:Assets written to: model3/assets\n"
     ]
    },
    {
     "name": "stdout",
     "output_type": "stream",
     "text": [
      "1/1 [==============================] - 3s 3s/step - loss: 284310.3438 - root_mean_squared_error: 533.2076 - val_loss: 340.0134 - val_root_mean_squared_error: 18.4395\n",
      "Epoch 82/100\n",
      "1/1 [==============================] - ETA: 0s - loss: 330105.5625 - root_mean_squared_error: 574.5482"
     ]
    },
    {
     "name": "stderr",
     "output_type": "stream",
     "text": [
      "WARNING:absl:Found untraced functions such as gru_cell_1_layer_call_fn, gru_cell_1_layer_call_and_return_conditional_losses while saving (showing 2 of 2). These functions will not be directly callable after loading.\n"
     ]
    },
    {
     "name": "stdout",
     "output_type": "stream",
     "text": [
      "INFO:tensorflow:Assets written to: model3/assets\n"
     ]
    },
    {
     "name": "stderr",
     "output_type": "stream",
     "text": [
      "INFO:tensorflow:Assets written to: model3/assets\n"
     ]
    },
    {
     "name": "stdout",
     "output_type": "stream",
     "text": [
      "1/1 [==============================] - 3s 3s/step - loss: 330105.5625 - root_mean_squared_error: 574.5482 - val_loss: 23.6515 - val_root_mean_squared_error: 4.8633\n",
      "Epoch 83/100\n",
      "1/1 [==============================] - ETA: 0s - loss: 353711.2500 - root_mean_squared_error: 594.7363"
     ]
    },
    {
     "name": "stderr",
     "output_type": "stream",
     "text": [
      "WARNING:absl:Found untraced functions such as gru_cell_1_layer_call_fn, gru_cell_1_layer_call_and_return_conditional_losses while saving (showing 2 of 2). These functions will not be directly callable after loading.\n"
     ]
    },
    {
     "name": "stdout",
     "output_type": "stream",
     "text": [
      "INFO:tensorflow:Assets written to: model3/assets\n"
     ]
    },
    {
     "name": "stderr",
     "output_type": "stream",
     "text": [
      "INFO:tensorflow:Assets written to: model3/assets\n"
     ]
    },
    {
     "name": "stdout",
     "output_type": "stream",
     "text": [
      "1/1 [==============================] - 3s 3s/step - loss: 353711.2500 - root_mean_squared_error: 594.7363 - val_loss: 16.9995 - val_root_mean_squared_error: 4.1230\n",
      "Epoch 84/100\n",
      "1/1 [==============================] - 0s 23ms/step - loss: 352948.6562 - root_mean_squared_error: 594.0948 - val_loss: 341.7443 - val_root_mean_squared_error: 18.4863\n",
      "Epoch 85/100\n",
      "1/1 [==============================] - 0s 24ms/step - loss: 330063.0625 - root_mean_squared_error: 574.5112 - val_loss: 3612.6675 - val_root_mean_squared_error: 60.1055\n",
      "Epoch 86/100\n",
      "1/1 [==============================] - 0s 24ms/step - loss: 290603.0312 - root_mean_squared_error: 539.0761 - val_loss: 13769.0977 - val_root_mean_squared_error: 117.3418\n",
      "Epoch 87/100\n",
      "1/1 [==============================] - 0s 23ms/step - loss: 241996.8594 - root_mean_squared_error: 491.9318 - val_loss: 34754.5703 - val_root_mean_squared_error: 186.4258\n",
      "Epoch 88/100\n",
      "1/1 [==============================] - 0s 25ms/step - loss: 192056.1094 - root_mean_squared_error: 438.2421 - val_loss: 69368.4453 - val_root_mean_squared_error: 263.3789\n",
      "Epoch 89/100\n",
      "1/1 [==============================] - 0s 23ms/step - loss: 147664.7656 - root_mean_squared_error: 384.2717 - val_loss: 118481.1719 - val_root_mean_squared_error: 344.2109\n",
      "Epoch 90/100\n",
      "1/1 [==============================] - 0s 23ms/step - loss: 113789.9297 - root_mean_squared_error: 337.3276 - val_loss: 180666.5000 - val_root_mean_squared_error: 425.0488\n",
      "Epoch 91/100\n",
      "1/1 [==============================] - 0s 29ms/step - loss: 92981.7109 - root_mean_squared_error: 304.9290 - val_loss: 252319.8125 - val_root_mean_squared_error: 502.3145\n",
      "Epoch 92/100\n",
      "1/1 [==============================] - 0s 26ms/step - loss: 85308.9766 - root_mean_squared_error: 292.0770 - val_loss: 328170.0938 - val_root_mean_squared_error: 572.8613\n",
      "Epoch 93/100\n",
      "1/1 [==============================] - 0s 26ms/step - loss: 88731.3672 - root_mean_squared_error: 297.8781 - val_loss: 402050.1250 - val_root_mean_squared_error: 634.0742\n",
      "Epoch 94/100\n",
      "1/1 [==============================] - 0s 31ms/step - loss: 99765.4453 - root_mean_squared_error: 315.8567 - val_loss: 467799.9062 - val_root_mean_squared_error: 683.9590\n",
      "Epoch 95/100\n",
      "1/1 [==============================] - 0s 29ms/step - loss: 114300.6641 - root_mean_squared_error: 338.0838 - val_loss: 520145.2188 - val_root_mean_squared_error: 721.2109\n",
      "Epoch 96/100\n",
      "1/1 [==============================] - 0s 29ms/step - loss: 128400.6562 - root_mean_squared_error: 358.3304 - val_loss: 555333.5000 - val_root_mean_squared_error: 745.2070\n",
      "Epoch 97/100\n",
      "1/1 [==============================] - 0s 28ms/step - loss: 138952.9531 - root_mean_squared_error: 372.7639 - val_loss: 571544.8750 - val_root_mean_squared_error: 756.0059\n",
      "Epoch 98/100\n",
      "1/1 [==============================] - 0s 32ms/step - loss: 144077.5156 - root_mean_squared_error: 379.5754 - val_loss: 568937.2500 - val_root_mean_squared_error: 754.2793\n",
      "Epoch 99/100\n",
      "1/1 [==============================] - 0s 31ms/step - loss: 143241.5781 - root_mean_squared_error: 378.4727 - val_loss: 549428.3750 - val_root_mean_squared_error: 741.2344\n",
      "Epoch 100/100\n",
      "1/1 [==============================] - 0s 28ms/step - loss: 137127.3281 - root_mean_squared_error: 370.3071 - val_loss: 516298.3750 - val_root_mean_squared_error: 718.5391\n"
     ]
    },
    {
     "data": {
      "text/plain": [
       "<keras.callbacks.History at 0x7fa10ca26ac0>"
      ]
     },
     "execution_count": 162,
     "metadata": {},
     "output_type": "execute_result"
    }
   ],
   "source": [
    "model3.fit(X_train1, y_train1, validation_data=(X_val1, y_val1), epochs=100, callbacks=[cp3])"
   ]
  },
  {
   "cell_type": "code",
   "execution_count": 163,
   "metadata": {},
   "outputs": [
    {
     "name": "stdout",
     "output_type": "stream",
     "text": [
      "WARNING:tensorflow:5 out of the last 16 calls to <function Model.make_predict_function.<locals>.predict_function at 0x7fa0854f39d0> triggered tf.function retracing. Tracing is expensive and the excessive number of tracings could be due to (1) creating @tf.function repeatedly in a loop, (2) passing tensors with different shapes, (3) passing Python objects instead of tensors. For (1), please define your @tf.function outside of the loop. For (2), @tf.function has reduce_retracing=True option that can avoid unnecessary retracing. For (3), please refer to https://www.tensorflow.org/guide/function#controlling_retracing and https://www.tensorflow.org/api_docs/python/tf/function for  more details.\n"
     ]
    },
    {
     "name": "stderr",
     "output_type": "stream",
     "text": [
      "WARNING:tensorflow:5 out of the last 16 calls to <function Model.make_predict_function.<locals>.predict_function at 0x7fa0854f39d0> triggered tf.function retracing. Tracing is expensive and the excessive number of tracings could be due to (1) creating @tf.function repeatedly in a loop, (2) passing tensors with different shapes, (3) passing Python objects instead of tensors. For (1), please define your @tf.function outside of the loop. For (2), @tf.function has reduce_retracing=True option that can avoid unnecessary retracing. For (3), please refer to https://www.tensorflow.org/guide/function#controlling_retracing and https://www.tensorflow.org/api_docs/python/tf/function for  more details.\n"
     ]
    },
    {
     "name": "stdout",
     "output_type": "stream",
     "text": [
      "1/1 [==============================] - 0s 332ms/step\n"
     ]
    },
    {
     "data": {
      "text/html": [
       "<div>\n",
       "<style scoped>\n",
       "    .dataframe tbody tr th:only-of-type {\n",
       "        vertical-align: middle;\n",
       "    }\n",
       "\n",
       "    .dataframe tbody tr th {\n",
       "        vertical-align: top;\n",
       "    }\n",
       "\n",
       "    .dataframe thead th {\n",
       "        text-align: right;\n",
       "    }\n",
       "</style>\n",
       "<table border=\"1\" class=\"dataframe\">\n",
       "  <thead>\n",
       "    <tr style=\"text-align: right;\">\n",
       "      <th></th>\n",
       "      <th>Train Predictions</th>\n",
       "      <th>Actuals</th>\n",
       "    </tr>\n",
       "  </thead>\n",
       "  <tbody>\n",
       "    <tr>\n",
       "      <th>0</th>\n",
       "      <td>24016.876953</td>\n",
       "      <td>24945.0</td>\n",
       "    </tr>\n",
       "    <tr>\n",
       "      <th>1</th>\n",
       "      <td>24016.876953</td>\n",
       "      <td>24365.0</td>\n",
       "    </tr>\n",
       "    <tr>\n",
       "      <th>2</th>\n",
       "      <td>24016.876953</td>\n",
       "      <td>24293.0</td>\n",
       "    </tr>\n",
       "  </tbody>\n",
       "</table>\n",
       "</div>"
      ],
      "text/plain": [
       "   Train Predictions  Actuals\n",
       "0       24016.876953  24945.0\n",
       "1       24016.876953  24365.0\n",
       "2       24016.876953  24293.0"
      ]
     },
     "execution_count": 163,
     "metadata": {},
     "output_type": "execute_result"
    }
   ],
   "source": [
    "model3 = load_model('model3/')\n",
    "train_predictions3 = model3.predict(X_train1).flatten()\n",
    "train_results3 = pd.DataFrame(data={'Train Predictions':train_predictions3, 'Actuals':y_train1})\n",
    "train_results3"
   ]
  },
  {
   "cell_type": "code",
   "execution_count": 164,
   "metadata": {},
   "outputs": [
    {
     "data": {
      "text/plain": [
       "[<matplotlib.lines.Line2D at 0x7fa0859b2430>]"
      ]
     },
     "execution_count": 164,
     "metadata": {},
     "output_type": "execute_result"
    },
    {
     "data": {
      "image/png": "[encoded data removed]",
      "text/plain": [
       "<Figure size 432x288 with 1 Axes>"
      ]
     },
     "metadata": {
      "needs_background": "light"
     },
     "output_type": "display_data"
    }
   ],
   "source": [
    "plt.plot(train_results3['Train Predictions'])\n",
    "plt.plot(train_results3['Actuals'])"
   ]
  },
  {
   "cell_type": "code",
   "execution_count": 165,
   "metadata": {},
   "outputs": [
    {
     "name": "stdout",
     "output_type": "stream",
     "text": [
      "1/1 [==============================] - 0s 17ms/step\n"
     ]
    },
    {
     "data": {
      "text/html": [
       "<div>\n",
       "<style scoped>\n",
       "    .dataframe tbody tr th:only-of-type {\n",
       "        vertical-align: middle;\n",
       "    }\n",
       "\n",
       "    .dataframe tbody tr th {\n",
       "        vertical-align: top;\n",
       "    }\n",
       "\n",
       "    .dataframe thead th {\n",
       "        text-align: right;\n",
       "    }\n",
       "</style>\n",
       "<table border=\"1\" class=\"dataframe\">\n",
       "  <thead>\n",
       "    <tr style=\"text-align: right;\">\n",
       "      <th></th>\n",
       "      <th>Val Predictions</th>\n",
       "      <th>Actuals</th>\n",
       "    </tr>\n",
       "  </thead>\n",
       "  <tbody>\n",
       "    <tr>\n",
       "      <th>0</th>\n",
       "      <td>24016.876953</td>\n",
       "      <td>24021.0</td>\n",
       "    </tr>\n",
       "  </tbody>\n",
       "</table>\n",
       "</div>"
      ],
      "text/plain": [
       "   Val Predictions  Actuals\n",
       "0     24016.876953  24021.0"
      ]
     },
     "execution_count": 165,
     "metadata": {},
     "output_type": "execute_result"
    }
   ],
   "source": [
    "val_predictions3 = model3.predict(X_val1).flatten()\n",
    "val_results3 = pd.DataFrame(data={'Val Predictions':val_predictions3, 'Actuals':y_val1})\n",
    "val_results3"
   ]
  },
  {
   "cell_type": "code",
   "execution_count": 166,
   "metadata": {},
   "outputs": [
    {
     "name": "stdout",
     "output_type": "stream",
     "text": [
      "1/1 [==============================] - 0s 17ms/step\n"
     ]
    },
    {
     "data": {
      "text/html": [
       "<div>\n",
       "<style scoped>\n",
       "    .dataframe tbody tr th:only-of-type {\n",
       "        vertical-align: middle;\n",
       "    }\n",
       "\n",
       "    .dataframe tbody tr th {\n",
       "        vertical-align: top;\n",
       "    }\n",
       "\n",
       "    .dataframe thead th {\n",
       "        text-align: right;\n",
       "    }\n",
       "</style>\n",
       "<table border=\"1\" class=\"dataframe\">\n",
       "  <thead>\n",
       "    <tr style=\"text-align: right;\">\n",
       "      <th></th>\n",
       "      <th>Test Predictions</th>\n",
       "      <th>Actuals</th>\n",
       "    </tr>\n",
       "  </thead>\n",
       "  <tbody>\n",
       "    <tr>\n",
       "      <th>0</th>\n",
       "      <td>24016.876953</td>\n",
       "      <td>23997.0</td>\n",
       "    </tr>\n",
       "  </tbody>\n",
       "</table>\n",
       "</div>"
      ],
      "text/plain": [
       "   Test Predictions  Actuals\n",
       "0      24016.876953  23997.0"
      ]
     },
     "execution_count": 166,
     "metadata": {},
     "output_type": "execute_result"
    }
   ],
   "source": [
    "test_predictions3 = model3.predict(X_test1).flatten()\n",
    "test_results3 = pd.DataFrame(data={'Test Predictions':test_predictions3, 'Actuals':y_test1})\n",
    "test_results3"
   ]
  },
  {
   "cell_type": "markdown",
   "metadata": {},
   "source": [
    "# Multi-variate Dataset"
   ]
  },
  {
   "cell_type": "code",
   "execution_count": 188,
   "metadata": {},
   "outputs": [],
   "source": [
    "def df_to_X_y2(df, window_size=5):\n",
    "  df_as_np = df.to_numpy()\n",
    "  X = []\n",
    "  y = []\n",
    "  for i in range(len(df_as_np)-window_size):\n",
    "    row = [r for r in df_as_np[i:i+window_size]]\n",
    "    X.append(row)\n",
    "    label = df_as_np[i+window_size][0]\n",
    "    y.append(label)\n",
    "  return np.array(X), np.array(y)"
   ]
  },
  {
   "cell_type": "code",
   "execution_count": 189,
   "metadata": {},
   "outputs": [
    {
     "data": {
      "text/plain": [
       "((5, 5, 2), (5,))"
      ]
     },
     "execution_count": 189,
     "metadata": {},
     "output_type": "execute_result"
    }
   ],
   "source": [
    "X2, y2 = df_to_X_y2(lstm_data)\n",
    "X2.shape, y2.shape"
   ]
  },
  {
   "cell_type": "code",
   "execution_count": 207,
   "metadata": {},
   "outputs": [
    {
     "data": {
      "text/plain": [
       "((3, 5, 2), (3,), (1, 5, 2), (1,), (1, 5, 2), (1,))"
      ]
     },
     "execution_count": 207,
     "metadata": {},
     "output_type": "execute_result"
    }
   ],
   "source": [
    "X_train2, y_train2 = X2[:3], y2[:3]\n",
    "X_val2, y_val2 = X2[3:4], y2[3:4]\n",
    "X_test2, y_test2 = X2[4:], y2[4:]\n",
    "X_train2.shape, y_train2.shape, X_val2.shape, y_val2.shape, X_test2.shape, y_test2.shape"
   ]
  },
  {
   "cell_type": "code",
   "execution_count": 216,
   "metadata": {},
   "outputs": [],
   "source": [
    "loss_training_mean = np.mean(X_train2[:, :, 1])\n",
    "loss_training_std = np.std(X_train2[:, :, 1])\n",
    "                           \n",
    "def preprocess_loss(X):\n",
    "  X[:, :, 1] = (X[:, :, 1] - loss_training_mean) / loss_training_std\n",
    "  return X\n",
    "\n",
    "pop_training_mean = np.mean(X_train2[:, :, 0])\n",
    "pop_training_std = np.std(X_train2[:, :, 0])\n",
    "                           \n",
    "def preprocess_pop(X):\n",
    "  X[:, :, 0] = (X[:, :, 0] - pop_training_mean) / pop_training_std\n",
    "  return X"
   ]
  },
  {
   "cell_type": "code",
   "execution_count": 217,
   "metadata": {},
   "outputs": [
    {
     "data": {
      "text/plain": [
       "array([[[0.623260540619076, 0.08770839493819478],\n",
       "        [1.2213222394730898, 1.878454411518965],\n",
       "        [1.8041978462663328, 1.5344223844845672],\n",
       "        [2.36886604425373, 1.4917149604389177],\n",
       "        [2.9057063248522814, 1.3303758029331314]]], dtype=object)"
      ]
     },
     "execution_count": 217,
     "metadata": {},
     "output_type": "execute_result"
    }
   ],
   "source": [
    "preprocess_loss(X_train2)\n",
    "preprocess_loss(X_val2)\n",
    "preprocess_loss(X_test2)\n",
    "preprocess_pop(X_train2)\n",
    "preprocess_pop(X_val2)\n",
    "preprocess_pop(X_test2)"
   ]
  },
  {
   "cell_type": "code",
   "execution_count": 218,
   "metadata": {},
   "outputs": [
    {
     "data": {
      "text/plain": [
       "array([[[-1.8548552570254198, -1.640162802908703],\n",
       "        [-1.2329410575523947, -1.0689510062981427],\n",
       "        [-0.6096752163776257, -0.3992748709156682],\n",
       "        [0.011046358064448814, -0.19285565469502958],\n",
       "        [0.623260540619076, 0.08770839493819478]],\n",
       "\n",
       "       [[-1.2329410575523947, -1.0689510062981427],\n",
       "        [-0.6096752163776257, -0.3992748709156682],\n",
       "        [0.011046358064448814, -0.19285565469502958],\n",
       "        [0.623260540619076, 0.08770839493819478],\n",
       "        [1.2213222394730898, 1.878454411518965]],\n",
       "\n",
       "       [[-0.6096752163776257, -0.3992748709156682],\n",
       "        [0.011046358064448814, -0.19285565469502958],\n",
       "        [0.623260540619076, 0.08770839493819478],\n",
       "        [1.2213222394730898, 1.878454411518965],\n",
       "        [1.8041978462663328, 1.5344223844845672]]], dtype=object)"
      ]
     },
     "execution_count": 218,
     "metadata": {},
     "output_type": "execute_result"
    }
   ],
   "source": [
    "X_train2"
   ]
  },
  {
   "cell_type": "markdown",
   "metadata": {},
   "source": [
    "# MODEL 4"
   ]
  },
  {
   "cell_type": "code",
   "execution_count": 219,
   "metadata": {},
   "outputs": [
    {
     "name": "stdout",
     "output_type": "stream",
     "text": [
      "Model: \"sequential_14\"\n",
      "_________________________________________________________________\n",
      " Layer (type)                Output Shape              Param #   \n",
      "=================================================================\n",
      " lstm_9 (LSTM)               (None, 64)                17152     \n",
      "                                                                 \n",
      " dense_28 (Dense)            (None, 8)                 520       \n",
      "                                                                 \n",
      " dense_29 (Dense)            (None, 1)                 9         \n",
      "                                                                 \n",
      "=================================================================\n",
      "Total params: 17,681\n",
      "Trainable params: 17,681\n",
      "Non-trainable params: 0\n",
      "_________________________________________________________________\n"
     ]
    }
   ],
   "source": [
    "model4 = Sequential()\n",
    "model4.add(InputLayer((5, 2)))\n",
    "model4.add(LSTM(64))\n",
    "model4.add(Dense(8, 'relu'))\n",
    "model4.add(Dense(1, 'linear'))\n",
    "\n",
    "model4.summary()\n",
    "\n"
   ]
  },
  {
   "cell_type": "code",
   "execution_count": 220,
   "metadata": {},
   "outputs": [],
   "source": [
    "cp4 = ModelCheckpoint('model4/', save_best_only=True)\n",
    "model4.compile(loss=MeanSquaredError(), optimizer=Adam(learning_rate=0.1), metrics=[RootMeanSquaredError()])\n",
    "\n"
   ]
  },
  {
   "cell_type": "code",
   "execution_count": 221,
   "metadata": {},
   "outputs": [
    {
     "ename": "ValueError",
     "evalue": "Failed to convert a NumPy array to a Tensor (Unsupported object type numpy.float64).",
     "output_type": "error",
     "traceback": [
      "\u001b[0;31m---------------------------------------------------------------------------\u001b[0m",
      "\u001b[0;31mValueError\u001b[0m                                Traceback (most recent call last)",
      "\u001b[1;32m/Users/murathansaygili/Desktop/SIC/Food-Supply-Chain/module_2.ipynb Cell 66\u001b[0m in \u001b[0;36m<cell line: 1>\u001b[0;34m()\u001b[0m\n\u001b[0;32m----> <a href='vscode-notebook-cell:/Users/murathansaygili/Desktop/SIC/Food-Supply-Chain/module_2.ipynb#ch0000126?line=0'>1</a>\u001b[0m model4\u001b[39m.\u001b[39;49mfit(X_train2, y_train2, validation_data\u001b[39m=\u001b[39;49m(X_val2, y_val2), epochs\u001b[39m=\u001b[39;49m\u001b[39m20\u001b[39;49m, callbacks\u001b[39m=\u001b[39;49m[cp4])\n",
      "File \u001b[0;32m~/Desktop/SIC/venv/lib/python3.9/site-packages/keras/utils/traceback_utils.py:67\u001b[0m, in \u001b[0;36mfilter_traceback.<locals>.error_handler\u001b[0;34m(*args, **kwargs)\u001b[0m\n\u001b[1;32m     65\u001b[0m \u001b[39mexcept\u001b[39;00m \u001b[39mException\u001b[39;00m \u001b[39mas\u001b[39;00m e:  \u001b[39m# pylint: disable=broad-except\u001b[39;00m\n\u001b[1;32m     66\u001b[0m   filtered_tb \u001b[39m=\u001b[39m _process_traceback_frames(e\u001b[39m.\u001b[39m__traceback__)\n\u001b[0;32m---> 67\u001b[0m   \u001b[39mraise\u001b[39;00m e\u001b[39m.\u001b[39mwith_traceback(filtered_tb) \u001b[39mfrom\u001b[39;00m \u001b[39mNone\u001b[39m\n\u001b[1;32m     68\u001b[0m \u001b[39mfinally\u001b[39;00m:\n\u001b[1;32m     69\u001b[0m   \u001b[39mdel\u001b[39;00m filtered_tb\n",
      "File \u001b[0;32m~/Desktop/SIC/venv/lib/python3.9/site-packages/tensorflow/python/framework/constant_op.py:102\u001b[0m, in \u001b[0;36mconvert_to_eager_tensor\u001b[0;34m(value, ctx, dtype)\u001b[0m\n\u001b[1;32m    100\u001b[0m     dtype \u001b[39m=\u001b[39m dtypes\u001b[39m.\u001b[39mas_dtype(dtype)\u001b[39m.\u001b[39mas_datatype_enum\n\u001b[1;32m    101\u001b[0m ctx\u001b[39m.\u001b[39mensure_initialized()\n\u001b[0;32m--> 102\u001b[0m \u001b[39mreturn\u001b[39;00m ops\u001b[39m.\u001b[39;49mEagerTensor(value, ctx\u001b[39m.\u001b[39;49mdevice_name, dtype)\n",
      "\u001b[0;31mValueError\u001b[0m: Failed to convert a NumPy array to a Tensor (Unsupported object type numpy.float64)."
     ]
    }
   ],
   "source": [
    "model4.fit(X_train2, y_train2, validation_data=(X_val2, y_val2), epochs=20, callbacks=[cp4])"
   ]
  },
  {
   "cell_type": "code",
   "execution_count": 199,
   "metadata": {},
   "outputs": [
    {
     "ename": "IndexError",
     "evalue": "only integers, slices (`:`), ellipsis (`...`), numpy.newaxis (`None`) and integer or boolean arrays are valid indices",
     "output_type": "error",
     "traceback": [
      "\u001b[0;31m---------------------------------------------------------------------------\u001b[0m",
      "\u001b[0;31mIndexError\u001b[0m                                Traceback (most recent call last)",
      "\u001b[1;32m/Users/murathansaygili/Desktop/SIC/Food-Supply-Chain/module_2.ipynb Cell 67\u001b[0m in \u001b[0;36m<cell line: 1>\u001b[0;34m()\u001b[0m\n\u001b[0;32m----> <a href='vscode-notebook-cell:/Users/murathansaygili/Desktop/SIC/Food-Supply-Chain/module_2.ipynb#ch0000118?line=0'>1</a>\u001b[0m X_train2[\u001b[39m\"\u001b[39m\u001b[39mActual Loss\u001b[39m\u001b[39m\"\u001b[39m] \u001b[39m=\u001b[39m np\u001b[39m.\u001b[39masarray(X_train2[\u001b[39m\"\u001b[39;49m\u001b[39mActual Loss\u001b[39;49m\u001b[39m\"\u001b[39;49m])\u001b[39m.\u001b[39mastype(\u001b[39m'\u001b[39m\u001b[39mfloat64\u001b[39m\u001b[39m'\u001b[39m)\n",
      "\u001b[0;31mIndexError\u001b[0m: only integers, slices (`:`), ellipsis (`...`), numpy.newaxis (`None`) and integer or boolean arrays are valid indices"
     ]
    }
   ],
   "source": [
    "X_train2[\"Actual Loss\"] = np.asarray(X_train2[\"Actual Loss\"]).astype('float64')"
   ]
  },
  {
   "cell_type": "code",
   "execution_count": null,
   "metadata": {
    "collapsed": false,
    "pycharm": {
     "name": "#%%\n"
    }
   },
   "outputs": [],
   "source": [
    "grid_search.best_params_\n"
   ]
  },
  {
   "cell_type": "code",
   "execution_count": null,
   "metadata": {
    "collapsed": false,
    "pycharm": {
     "name": "#%%\n"
    }
   },
   "outputs": [],
   "source": [
    "my_model=grid_search.best_estimator_.model"
   ]
  },
  {
   "cell_type": "code",
   "execution_count": null,
   "metadata": {
    "collapsed": false,
    "pycharm": {
     "name": "#%%\n"
    }
   },
   "outputs": [],
   "source": [
    "prediction=my_model.predict(testX)\n",
    "print(\"prediction\\n\", prediction)\n",
    "print(\"\\nPrediction Shape-\",prediction.shape)"
   ]
  },
  {
   "cell_type": "code",
   "execution_count": null,
   "metadata": {
    "collapsed": false,
    "pycharm": {
     "name": "#%%\n"
    }
   },
   "outputs": [],
   "source": [
    "scaler.inverse_transform(prediction)"
   ]
  },
  {
   "cell_type": "code",
   "execution_count": null,
   "metadata": {
    "collapsed": false,
    "pycharm": {
     "name": "#%%\n"
    }
   },
   "outputs": [],
   "source": [
    "prediction_copies_array = np.repeat(prediction,5, axis=-1)"
   ]
  },
  {
   "cell_type": "code",
   "execution_count": null,
   "metadata": {
    "collapsed": false,
    "pycharm": {
     "name": "#%%\n"
    }
   },
   "outputs": [],
   "source": [
    "prediction_copies_array.shape"
   ]
  },
  {
   "cell_type": "code",
   "execution_count": null,
   "metadata": {
    "collapsed": false,
    "pycharm": {
     "name": "#%%\n"
    }
   },
   "outputs": [],
   "source": [
    "pred=scaler.inverse_transform(np.reshape(prediction_copies_array,(len(prediction),5)))[:,0]"
   ]
  },
  {
   "cell_type": "code",
   "execution_count": null,
   "metadata": {
    "collapsed": false,
    "pycharm": {
     "name": "#%%\n"
    }
   },
   "outputs": [],
   "source": []
  },
  {
   "cell_type": "code",
   "execution_count": null,
   "metadata": {
    "collapsed": false,
    "pycharm": {
     "name": "#%%\n"
    }
   },
   "outputs": [],
   "source": []
  },
  {
   "cell_type": "code",
   "execution_count": null,
   "metadata": {
    "collapsed": false,
    "pycharm": {
     "name": "#%%\n"
    }
   },
   "outputs": [],
   "source": []
  },
  {
   "cell_type": "code",
   "execution_count": null,
   "metadata": {
    "collapsed": false,
    "pycharm": {
     "name": "#%%\n"
    }
   },
   "outputs": [],
   "source": [
    "df = pd.read_csv(\"Data/Data.csv\")\n",
    "df = df[[\"country\", \"commodity\", \"year\", \"loss_percentage\", \"activity\", \"food_supply_stage\", \"cause_of_loss\"]]\n",
    "\n",
    "def focus_on(country, commodity):\n",
    "    new_df = df[df.country == country]\n",
    "    new_df = new_df[new_df.commodity == commodity]\n",
    "    return new_df\n",
    "\n",
    "# data = focus_on(\"Kenya\", \"Maize (corn)\")\n",
    "data = focus_on(\"Benin\", \"Maize (corn)\")\n",
    "data = data.reset_index()\n",
    "data.sort_values(by=([\"index\"]), ascending=False, inplace=True)\n",
    "data"
   ]
  },
  {
   "cell_type": "code",
   "execution_count": null,
   "metadata": {
    "collapsed": false,
    "pycharm": {
     "name": "#%%\n"
    }
   },
   "outputs": [],
   "source": [
    "validate = data[[\"activity\",\"food_supply_stage\",\"loss_percentage\"]].tail(3)\n",
    "data.drop(data.tail(3).index,inplace=True)"
   ]
  },
  {
   "cell_type": "code",
   "execution_count": null,
   "metadata": {
    "collapsed": false,
    "pycharm": {
     "name": "#%%\n"
    }
   },
   "outputs": [],
   "source": [
    "for i in data.select_dtypes('object').columns:\n",
    "    le = LabelEncoder().fit(data[i])\n",
    "    data[i] = le.transform(data[i])\n",
    "X_scaler = MinMaxScaler()\n",
    "Y_scaler = MinMaxScaler()\n",
    "X_data = X_scaler.fit_transform(data[[\"activity\",\"food_supply_stage\",\"loss_percentage\"]])\n",
    "Y_data = Y_scaler.fit_transform(data[['loss_percentage']])"
   ]
  },
  {
   "cell_type": "code",
   "execution_count": null,
   "metadata": {
    "collapsed": false,
    "pycharm": {
     "name": "#%%\n"
    }
   },
   "outputs": [],
   "source": [
    "X_data"
   ]
  },
  {
   "cell_type": "code",
   "execution_count": null,
   "metadata": {
    "collapsed": false,
    "pycharm": {
     "name": "#%%\n"
    }
   },
   "outputs": [],
   "source": [
    "def custom_ts_multi_data_prep(dataset, target, start, end, window, horizon):\n",
    "     X = []\n",
    "     y = []\n",
    "     start = start + window\n",
    "     if end is None:\n",
    "         end = len(dataset) - horizon\n",
    "     for i in range(start, end):\n",
    "         indices = range(i-window, i)\n",
    "         X.append(dataset[indices])\n",
    "         indicey = range(i+1, i+1+horizon)\n",
    "         y.append(target[indicey])\n",
    "     return np.array(X), np.array(y)"
   ]
  },
  {
   "cell_type": "code",
   "execution_count": null,
   "metadata": {
    "collapsed": false,
    "pycharm": {
     "name": "#%%\n"
    }
   },
   "outputs": [],
   "source": [
    "hist_window = 8\n",
    "horizon = 3\n",
    "TRAIN_SPLIT = 120\n",
    "x_train, y_train = custom_ts_multi_data_prep(X_data, Y_data, 0, TRAIN_SPLIT, hist_window, horizon)\n",
    "x_vali, y_vali = custom_ts_multi_data_prep(X_data, Y_data, TRAIN_SPLIT, None, hist_window, horizon)"
   ]
  },
  {
   "cell_type": "code",
   "execution_count": null,
   "metadata": {
    "collapsed": false,
    "pycharm": {
     "name": "#%%\n"
    }
   },
   "outputs": [],
   "source": [
    "print ('Multiple window of past history\\n')\n",
    "print(x_train[0])\n",
    "print ('\\n Target horizon\\n')\n",
    "print (y_train[0])"
   ]
  },
  {
   "cell_type": "code",
   "execution_count": null,
   "metadata": {
    "collapsed": false,
    "pycharm": {
     "name": "#%%\n"
    }
   },
   "outputs": [],
   "source": [
    "batch_size = 256\n",
    "buffer_size = 150\n",
    "train_data = tf.data.Dataset.from_tensor_slices((x_train, y_train))\n",
    "train_data = train_data.cache().shuffle(buffer_size).batch(batch_size).repeat()\n",
    "val_data = tf.data.Dataset.from_tensor_slices((x_vali, y_vali))\n",
    "val_data = val_data.batch(batch_size).repeat()"
   ]
  },
  {
   "cell_type": "code",
   "execution_count": null,
   "metadata": {
    "collapsed": false,
    "pycharm": {
     "name": "#%%\n"
    }
   },
   "outputs": [],
   "source": [
    "lstm_model = tf.keras.models.Sequential([\n",
    "    tf.keras.layers.Bidirectional(tf.keras.layers.LSTM(300, return_sequences=True),\n",
    "                                input_shape=x_train.shape[-2:]),\n",
    "     tf.keras.layers.Dense(20, activation='tanh'),\n",
    "     tf.keras.layers.Bidirectional(tf.keras.layers.LSTM(150)),\n",
    "     # tf.keras.layers.Dense(30, activation='tanh'),\n",
    "     # tf.keras.layers.Dense(20, activation='tanh'),\n",
    "     tf.keras.layers.Dropout(0.15),\n",
    "     tf.keras.layers.Dense(units=horizon),\n",
    "    ])\n",
    "lstm_model.compile(optimizer='adam', loss='mse')\n",
    "lstm_model.summary()"
   ]
  },
  {
   "cell_type": "code",
   "execution_count": null,
   "metadata": {
    "collapsed": false,
    "pycharm": {
     "name": "#%%\n"
    }
   },
   "outputs": [],
   "source": [
    "model_path = 'Bidirectional_LSTM_Multivariate.h5'\n",
    "early_stopings = tf.keras.callbacks.EarlyStopping(monitor='val_loss', min_delta=0, patience=10, verbose=1, mode='min')\n",
    "checkpoint =  tf.keras.callbacks.ModelCheckpoint(model_path, monitor='val_loss', save_best_only=True, mode='min', verbose=0)\n",
    "callbacks=[early_stopings,checkpoint]\n",
    "history = lstm_model.fit(train_data,epochs=50,steps_per_epoch=100,validation_data=val_data,validation_steps=50,verbose=1,callbacks=callbacks)"
   ]
  },
  {
   "cell_type": "code",
   "execution_count": null,
   "metadata": {
    "collapsed": false,
    "pycharm": {
     "name": "#%%\n"
    }
   },
   "outputs": [],
   "source": [
    "plt.figure(figsize=(16,9))\n",
    "plt.plot(history.history['loss'])\n",
    "plt.plot(history.history['val_loss'])\n",
    "plt.title('Model loss')\n",
    "plt.ylabel('loss')\n",
    "plt.xlabel('epoch')\n",
    "plt.legend(['train loss', 'validation loss'])\n",
    "plt.show()"
   ]
  },
  {
   "cell_type": "code",
   "execution_count": null,
   "metadata": {
    "collapsed": false,
    "pycharm": {
     "name": "#%%\n"
    }
   },
   "outputs": [],
   "source": [
    "data_val = X_scaler.fit_transform(data[[\"activity\",\"food_supply_stage\",\"loss_percentage\"]].tail(8))\n",
    "val_rescaled = data_val.reshape(1, data_val.shape[0], data_val.shape[1])\n",
    "pred = lstm_model.predict(val_rescaled)\n",
    "pred_Inverse = Y_scaler.inverse_transform(pred)\n",
    "pred_Inverse"
   ]
  },
  {
   "cell_type": "code",
   "execution_count": null,
   "metadata": {
    "collapsed": false,
    "pycharm": {
     "name": "#%%\n"
    }
   },
   "outputs": [],
   "source": [
    "\n",
    "data_val"
   ]
  },
  {
   "cell_type": "code",
   "execution_count": null,
   "metadata": {
    "collapsed": false,
    "pycharm": {
     "name": "#%%\n"
    }
   },
   "outputs": [],
   "source": [
    "def timeseries_evaluation_metrics_func(y_true, y_pred):\n",
    "    def mean_absolute_percentage_error(y_true, y_pred):\n",
    "        y_true, y_pred = np.array(y_true), np.array(y_pred)\n",
    "        return np.mean(np.abs((y_true - y_pred) / y_true)) * 100\n",
    "    print('Evaluation metric results:-')\n",
    "    print(f'MSE is : {metrics.mean_squared_error(y_true, y_pred)}')\n",
    "    print(f'MAE is : {metrics.mean_absolute_error(y_true, y_pred)}')\n",
    "    print(f'RMSE is : {np.sqrt(metrics.mean_squared_error(y_true, y_pred))}')\n",
    "    print(f'MAPE is : {mean_absolute_percentage_error(y_true, y_pred)}')\n",
    "    print(f'R2 is : {metrics.r2_score(y_true, y_pred)}',end='\\n\\n')"
   ]
  },
  {
   "cell_type": "code",
   "execution_count": null,
   "metadata": {
    "collapsed": false,
    "pycharm": {
     "name": "#%%\n"
    }
   },
   "outputs": [],
   "source": [
    "timeseries_evaluation_metrics_func(validate[\"loss_percentage\"],pred_Inverse[0])"
   ]
  },
  {
   "cell_type": "code",
   "execution_count": null,
   "metadata": {
    "collapsed": false,
    "pycharm": {
     "name": "#%%\n"
    }
   },
   "outputs": [],
   "source": [
    "plt.figure(figsize=(16,9))\n",
    "plt.plot( list(validate['loss_percentage']))\n",
    "plt.plot( list(pred_Inverse[0]))\n",
    "plt.title(\"Actual vs Predicted\")\n",
    "plt.ylabel(\"Loss Percentage\")\n",
    "plt.xlabel('Years (After 2000)')\n",
    "plt.legend(('Actual','predicted'))\n",
    "plt.show()"
   ]
  },
  {
   "cell_type": "code",
   "execution_count": null,
   "metadata": {
    "collapsed": false,
    "pycharm": {
     "name": "#%%\n"
    }
   },
   "outputs": [],
   "source": [
    "data_val = X_scaler.fit_transform(data[[\"activity\",\"food_supply_stage\",\"loss_percentage\"]].tail(8))\n",
    "val_rescaled = data_val.reshape(1, data_val.shape[0], data_val.shape[1])"
   ]
  },
  {
   "cell_type": "code",
   "execution_count": null,
   "metadata": {
    "collapsed": false,
    "pycharm": {
     "name": "#%%\n"
    }
   },
   "outputs": [],
   "source": [
    "validate[\"loss_percentage\"]"
   ]
  },
  {
   "cell_type": "code",
   "execution_count": null,
   "metadata": {
    "collapsed": false,
    "pycharm": {
     "name": "#%%\n"
    }
   },
   "outputs": [],
   "source": [
    "pred_Inverse[0]"
   ]
  },
  {
   "cell_type": "code",
   "execution_count": null,
   "metadata": {
    "collapsed": false,
    "pycharm": {
     "name": "#%%\n"
    }
   },
   "outputs": [],
   "source": []
  },
  {
   "cell_type": "code",
   "execution_count": null,
   "metadata": {
    "collapsed": false,
    "pycharm": {
     "name": "#%%\n"
    }
   },
   "outputs": [],
   "source": []
  },
  {
   "cell_type": "code",
   "execution_count": null,
   "metadata": {
    "collapsed": false,
    "pycharm": {
     "name": "#%%\n"
    }
   },
   "outputs": [],
   "source": []
  },
  {
   "cell_type": "code",
   "execution_count": null,
   "metadata": {
    "collapsed": false,
    "pycharm": {
     "name": "#%%\n"
    }
   },
   "outputs": [],
   "source": []
  },
  {
   "cell_type": "code",
   "execution_count": null,
   "metadata": {
    "collapsed": false,
    "pycharm": {
     "name": "#%%\n"
    }
   },
   "outputs": [],
   "source": []
  },
  {
   "cell_type": "code",
   "execution_count": null,
   "metadata": {
    "collapsed": false,
    "pycharm": {
     "name": "#%%\n"
    }
   },
   "outputs": [],
   "source": []
  },
  {
   "cell_type": "code",
   "execution_count": null,
   "metadata": {
    "collapsed": false,
    "pycharm": {
     "name": "#%%\n"
    }
   },
   "outputs": [],
   "source": []
  },
  {
   "cell_type": "code",
   "execution_count": null,
   "metadata": {
    "collapsed": false,
    "pycharm": {
     "name": "#%%\n"
    }
   },
   "outputs": [],
   "source": []
  },
  {
   "cell_type": "code",
   "execution_count": null,
   "metadata": {
    "collapsed": false,
    "pycharm": {
     "name": "#%%\n"
    }
   },
   "outputs": [],
   "source": []
  },
  {
   "cell_type": "code",
   "execution_count": null,
   "metadata": {
    "collapsed": false,
    "pycharm": {
     "name": "#%%\n"
    }
   },
   "outputs": [],
   "source": []
  },
  {
   "cell_type": "code",
   "execution_count": null,
   "metadata": {
    "collapsed": false,
    "pycharm": {
     "name": "#%%\n"
    }
   },
   "outputs": [],
   "source": []
  },
  {
   "cell_type": "code",
   "execution_count": null,
   "metadata": {
    "collapsed": false,
    "pycharm": {
     "name": "#%%\n"
    }
   },
   "outputs": [],
   "source": []
  },
  {
   "cell_type": "code",
   "execution_count": null,
   "metadata": {
    "collapsed": false,
    "pycharm": {
     "name": "#%%\n"
    }
   },
   "outputs": [],
   "source": []
  },
  {
   "cell_type": "code",
   "execution_count": null,
   "metadata": {
    "collapsed": false,
    "pycharm": {
     "name": "#%%\n"
    }
   },
   "outputs": [],
   "source": []
  },
  {
   "cell_type": "markdown",
   "metadata": {
    "collapsed": false,
    "pycharm": {
     "name": "#%% md\n"
    }
   },
   "source": [
    "TUNING"
   ]
  },
  {
   "cell_type": "code",
   "execution_count": null,
   "metadata": {
    "collapsed": false,
    "pycharm": {
     "name": "#%%\n"
    }
   },
   "outputs": [],
   "source": [
    "HP_NUM_UNITS = hp.HParam('num_units', hp.Discrete([16, 32]))\n",
    "HP_DROPOUT = hp.HParam('dropout', hp.RealInterval(0.1, 0.2))\n",
    "HP_OPTIMIZER = hp.HParam('optimizer', hp.Discrete(['adam','sgd']))\n",
    "\n",
    "METRIC_ACCURACY = 'accuracy'\n",
    "\n",
    "with tf.summary.create_file_writer('logs/hparam_tuning').as_default():\n",
    "  hp.hparams_config(\n",
    "    hparams=[HP_NUM_UNITS, HP_DROPOUT, HP_OPTIMIZER],\n",
    "    metrics=[hp.Metric(METRIC_ACCURACY, display_name='Accuracy')],\n",
    "  )"
   ]
  },
  {
   "cell_type": "code",
   "execution_count": null,
   "metadata": {
    "collapsed": false,
    "pycharm": {
     "name": "#%%\n"
    }
   },
   "outputs": [],
   "source": [
    "def train_test_model(hparams):\n",
    "    lstm_model_opt = tf.keras.models.Sequential([\n",
    "        tf.keras.layers.Bidirectional(tf.keras.layers.LSTM(200, return_sequences=True),\n",
    "                                    input_shape=x_train.shape[-2:]),\n",
    "         tf.keras.layers.Dense(20, activation='tanh'),\n",
    "         tf.keras.layers.Bidirectional(tf.keras.layers.LSTM(150)),\n",
    "         tf.keras.layers.Dense(20, activation='tanh'),\n",
    "         tf.keras.layers.Dropout(0.25),\n",
    "         tf.keras.layers.Dense(units=horizon),\n",
    "        ])\n",
    "    lstm_model_opt.compile(optimizer=hparams[HP_OPTIMIZER], loss='mse')\n",
    "    lstm_model_opt.summary()\n",
    "    model_path = 'Bidirectional_LSTM_Multivariate_opt.h5'\n",
    "    early_stopings = tf.keras.callbacks.EarlyStopping(monitor='val_loss', min_delta=0.001, patience=5, verbose=1, mode='min')\n",
    "    checkpoint =  tf.keras.callbacks.ModelCheckpoint(model_path, monitor='val_loss', save_best_only=True, mode='min', verbose=0)\n",
    "    callbacks=[early_stopings,checkpoint]\n",
    "    history = lstm_model.fit(train_data,epochs=50,steps_per_epoch=100,validation_data=val_data,validation_steps=50,verbose=1,callbacks=callbacks)\n",
    "    (validate[\"loss_percentage\"], pred_Inverse[0])\n",
    "    return history"
   ]
  },
  {
   "cell_type": "code",
   "execution_count": null,
   "metadata": {
    "collapsed": false,
    "pycharm": {
     "name": "#%%\n"
    }
   },
   "outputs": [],
   "source": [
    "def run(run_dir, hparams):\n",
    "  with tf.summary.create_file_writer(run_dir).as_default():\n",
    "    hp.hparams(hparams)  # record the values used in this trial\n",
    "    history = train_test_model(hparams)\n",
    "    accuracy=model.evaluate(x_test, y_test)\n",
    "    tf.summary.scalar(METRIC_ACCURACY, step=1)"
   ]
  },
  {
   "cell_type": "code",
   "execution_count": null,
   "metadata": {
    "collapsed": false,
    "pycharm": {
     "name": "#%%\n"
    }
   },
   "outputs": [],
   "source": [
    "session_num = 0\n",
    "\n",
    "for num_units in HP_NUM_UNITS.domain.values:\n",
    "  for dropout_rate in (HP_DROPOUT.domain.min_value, HP_DROPOUT.domain.max_value):\n",
    "    for optimizer in HP_OPTIMIZER.domain.values:\n",
    "      hparams = {\n",
    "          HP_NUM_UNITS: num_units,\n",
    "          HP_DROPOUT: dropout_rate,\n",
    "          HP_OPTIMIZER: optimizer,\n",
    "      }\n",
    "      run_name = \"run-%d\" % session_num\n",
    "      print('--- Starting trial: %s' % run_name)\n",
    "      print({h.name: hparams[h] for h in hparams})\n",
    "      run('logs/hparam_tuning/' + run_name, hparams)\n",
    "      session_num += 1"
   ]
  },
  {
   "cell_type": "code",
   "execution_count": null,
   "metadata": {
    "collapsed": false,
    "pycharm": {
     "name": "#%%\n"
    }
   },
   "outputs": [],
   "source": [
    "plt.figure(figsize=(16, 9))\n",
    "plt.plot(history.history['loss'])\n",
    "plt.plot(history.history['val_loss'])\n",
    "plt.title('Model loss')\n",
    "plt.ylabel('loss')\n",
    "plt.xlabel('epoch')\n",
    "plt.legend(['train loss', 'validation loss'])\n",
    "plt.show()\n"
   ]
  },
  {
   "cell_type": "code",
   "execution_count": null,
   "metadata": {
    "collapsed": false,
    "pycharm": {
     "name": "#%%\n"
    }
   },
   "outputs": [],
   "source": [
    "data_val = X_scaler.fit_transform(data[[\"activity\", \"food_supply_stage\", \"loss_percentage\"]].tail(8))\n",
    "val_rescaled = data_val.reshape(1, data_val.shape[0], data_val.shape[1])\n",
    "pred = lstm_model.predict(val_rescaled)\n",
    "pred_Inverse = Y_scaler.inverse_transform(pred)\n",
    "pred_Inverse"
   ]
  },
  {
   "cell_type": "code",
   "execution_count": null,
   "metadata": {
    "collapsed": false,
    "pycharm": {
     "name": "#%%\n"
    }
   },
   "outputs": [],
   "source": [
    "def timeseries_evaluation_metrics_func(y_true, y_pred):\n",
    "    def mean_absolute_percentage_error(y_true, y_pred):\n",
    "        y_true, y_pred = np.array(y_true), np.array(y_pred)\n",
    "        return np.mean(np.abs((y_true - y_pred) / y_true)) * 100\n",
    "\n",
    "    print('Evaluation metric results:-')\n",
    "    print(f'MSE is : {metrics.mean_squared_error(y_true, y_pred)}')\n",
    "    print(f'MAE is : {metrics.mean_absolute_error(y_true, y_pred)}')\n",
    "    print(f'RMSE is : {np.sqrt(metrics.mean_squared_error(y_true, y_pred))}')\n",
    "    print(f'MAPE is : {mean_absolute_percentage_error(y_true, y_pred)}')\n",
    "    print(f'R2 is : {metrics.r2_score(y_true, y_pred)}', end='\\n\\n')\n",
    "\n",
    "\n",
    "timeseries_evaluation_metrics_func(validate[\"loss_percentage\"], pred_Inverse[0])\n",
    "plt.figure(figsize=(16, 9))\n",
    "plt.plot(list(validate['loss_percentage']))\n",
    "plt.plot(list(pred_Inverse[0]))\n",
    "plt.title(\"Actual vs Predicted\")\n",
    "plt.ylabel(\"Traffic volume\")\n",
    "plt.legend(('Actual', 'predicted'))\n",
    "plt.show()"
   ]
  }
 ],
 "metadata": {
  "kernelspec": {
   "display_name": "Python 3.9.0 ('venv')",
   "language": "python",
   "name": "python3"
  },
  "language_info": {
   "codemirror_mode": {
    "name": "ipython",
    "version": 3
   },
   "file_extension": ".py",
   "mimetype": "text/x-python",
   "name": "python",
   "nbconvert_exporter": "python",
   "pygments_lexer": "ipython3",
   "version": "3.9.0"
  },
  "vscode": {
   "interpreter": {
    "hash": "713654384febb35868ed951ad9309a525cf553cdc72ed92d2edb347802f3b56b"
   }
  }
 },
 "nbformat": 4,
 "nbformat_minor": 0
}
