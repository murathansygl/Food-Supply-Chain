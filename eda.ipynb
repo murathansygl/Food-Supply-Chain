{
 "cells": [
  {
   "cell_type": "code",
   "execution_count": 65,
   "metadata": {
    "pycharm": {
     "name": "#%%\n"
    }
   },
   "outputs": [],
   "source": [
    "import pandas as pd\n",
    "import plotly.express as px\n",
    "import numpy as np\n",
    "from plotly.subplots import make_subplots\n",
    "import plotly.graph_objects as go"
   ]
  },
  {
   "cell_type": "code",
   "execution_count": 78,
   "metadata": {
    "pycharm": {
     "name": "#%%\n"
    }
   },
   "outputs": [],
   "source": [
    "df=pd.read_csv(\"Data/Data.csv\")"
   ]
  },
  {
   "cell_type": "code",
   "execution_count": 79,
   "metadata": {
    "pycharm": {
     "name": "#%%\n"
    }
   },
   "outputs": [],
   "source": [
    "df=df[[\"country\",\"commodity\",\"year\",\"loss_percentage\",\"activity\",\"food_supply_stage\",\"cause_of_loss\"]]"
   ]
  },
  {
   "cell_type": "code",
   "execution_count": 80,
   "outputs": [
    {
     "data": {
      "text/plain": "       country                      commodity  year  loss_percentage  \\\n0      Myanmar  Groundnuts, excluding shelled  2009             5.22   \n1      Myanmar  Groundnuts, excluding shelled  2008             5.43   \n2      Myanmar  Groundnuts, excluding shelled  2007             5.61   \n3      Myanmar  Groundnuts, excluding shelled  2006             5.40   \n4      Myanmar  Groundnuts, excluding shelled  2005             5.00   \n...        ...                            ...   ...              ...   \n27768   Zambia                         Millet  2000             1.27   \n27769   Zambia                         Millet  2000             2.50   \n27770   Zambia                         Millet  2000             1.00   \n27771   Zambia                         Millet  2000             2.38   \n27772   Zambia                         Millet  2000             3.44   \n\n                 activity   food_supply_stage cause_of_loss  \n0                     NaN  Whole supply chain           NaN  \n1                     NaN  Whole supply chain           NaN  \n2                     NaN  Whole supply chain           NaN  \n3                     NaN  Whole supply chain           NaN  \n4                     NaN  Whole supply chain           NaN  \n...                   ...                 ...           ...  \n27768             Storage                Farm           NaN  \n27769           Winnowing                Farm           NaN  \n27770      Transportation           Transport           NaN  \n27771             Storage             Storage           NaN  \n27772  Drying, Harvesting             Harvest           NaN  \n\n[27773 rows x 7 columns]",
      "text/html": "<div>\n<style scoped>\n    .dataframe tbody tr th:only-of-type {\n        vertical-align: middle;\n    }\n\n    .dataframe tbody tr th {\n        vertical-align: top;\n    }\n\n    .dataframe thead th {\n        text-align: right;\n    }\n</style>\n<table border=\"1\" class=\"dataframe\">\n  <thead>\n    <tr style=\"text-align: right;\">\n      <th></th>\n      <th>country</th>\n      <th>commodity</th>\n      <th>year</th>\n      <th>loss_percentage</th>\n      <th>activity</th>\n      <th>food_supply_stage</th>\n      <th>cause_of_loss</th>\n    </tr>\n  </thead>\n  <tbody>\n    <tr>\n      <th>0</th>\n      <td>Myanmar</td>\n      <td>Groundnuts, excluding shelled</td>\n      <td>2009</td>\n      <td>5.22</td>\n      <td>NaN</td>\n      <td>Whole supply chain</td>\n      <td>NaN</td>\n    </tr>\n    <tr>\n      <th>1</th>\n      <td>Myanmar</td>\n      <td>Groundnuts, excluding shelled</td>\n      <td>2008</td>\n      <td>5.43</td>\n      <td>NaN</td>\n      <td>Whole supply chain</td>\n      <td>NaN</td>\n    </tr>\n    <tr>\n      <th>2</th>\n      <td>Myanmar</td>\n      <td>Groundnuts, excluding shelled</td>\n      <td>2007</td>\n      <td>5.61</td>\n      <td>NaN</td>\n      <td>Whole supply chain</td>\n      <td>NaN</td>\n    </tr>\n    <tr>\n      <th>3</th>\n      <td>Myanmar</td>\n      <td>Groundnuts, excluding shelled</td>\n      <td>2006</td>\n      <td>5.40</td>\n      <td>NaN</td>\n      <td>Whole supply chain</td>\n      <td>NaN</td>\n    </tr>\n    <tr>\n      <th>4</th>\n      <td>Myanmar</td>\n      <td>Groundnuts, excluding shelled</td>\n      <td>2005</td>\n      <td>5.00</td>\n      <td>NaN</td>\n      <td>Whole supply chain</td>\n      <td>NaN</td>\n    </tr>\n    <tr>\n      <th>...</th>\n      <td>...</td>\n      <td>...</td>\n      <td>...</td>\n      <td>...</td>\n      <td>...</td>\n      <td>...</td>\n      <td>...</td>\n    </tr>\n    <tr>\n      <th>27768</th>\n      <td>Zambia</td>\n      <td>Millet</td>\n      <td>2000</td>\n      <td>1.27</td>\n      <td>Storage</td>\n      <td>Farm</td>\n      <td>NaN</td>\n    </tr>\n    <tr>\n      <th>27769</th>\n      <td>Zambia</td>\n      <td>Millet</td>\n      <td>2000</td>\n      <td>2.50</td>\n      <td>Winnowing</td>\n      <td>Farm</td>\n      <td>NaN</td>\n    </tr>\n    <tr>\n      <th>27770</th>\n      <td>Zambia</td>\n      <td>Millet</td>\n      <td>2000</td>\n      <td>1.00</td>\n      <td>Transportation</td>\n      <td>Transport</td>\n      <td>NaN</td>\n    </tr>\n    <tr>\n      <th>27771</th>\n      <td>Zambia</td>\n      <td>Millet</td>\n      <td>2000</td>\n      <td>2.38</td>\n      <td>Storage</td>\n      <td>Storage</td>\n      <td>NaN</td>\n    </tr>\n    <tr>\n      <th>27772</th>\n      <td>Zambia</td>\n      <td>Millet</td>\n      <td>2000</td>\n      <td>3.44</td>\n      <td>Drying, Harvesting</td>\n      <td>Harvest</td>\n      <td>NaN</td>\n    </tr>\n  </tbody>\n</table>\n<p>27773 rows × 7 columns</p>\n</div>"
     },
     "execution_count": 80,
     "metadata": {},
     "output_type": "execute_result"
    }
   ],
   "source": [
    "df"
   ],
   "metadata": {
    "collapsed": false,
    "pycharm": {
     "name": "#%%\n"
    }
   }
  },
  {
   "cell_type": "code",
   "execution_count": 81,
   "outputs": [
    {
     "name": "stdout",
     "output_type": "stream",
     "text": [
      "<class 'pandas.core.frame.DataFrame'>\n",
      "RangeIndex: 27773 entries, 0 to 27772\n",
      "Data columns (total 7 columns):\n",
      " #   Column             Non-Null Count  Dtype  \n",
      "---  ------             --------------  -----  \n",
      " 0   country            27773 non-null  object \n",
      " 1   commodity          27773 non-null  object \n",
      " 2   year               27773 non-null  int64  \n",
      " 3   loss_percentage    27773 non-null  float64\n",
      " 4   activity           20873 non-null  object \n",
      " 5   food_supply_stage  27724 non-null  object \n",
      " 6   cause_of_loss      925 non-null    object \n",
      "dtypes: float64(1), int64(1), object(5)\n",
      "memory usage: 1.5+ MB\n"
     ]
    }
   ],
   "source": [
    "df.info()"
   ],
   "metadata": {
    "collapsed": false,
    "pycharm": {
     "name": "#%%\n"
    }
   }
  },
  {
   "cell_type": "markdown",
   "source": [
    "# First Level Grouping"
   ],
   "metadata": {
    "collapsed": false,
    "pycharm": {
     "name": "#%% md\n"
    }
   }
  },
  {
   "cell_type": "code",
   "execution_count": 82,
   "metadata": {
    "pycharm": {
     "name": "#%%\n"
    }
   },
   "outputs": [
    {
     "data": {
      "text/plain": "                          commodity  year  loss_percentage  activity  \\\ncountry                                                                \nUnited States of America       1527  1527             1527       179   \nIndia                          1178  1178             1178       941   \nEthiopia                        885   885              885       869   \nKenya                           883   883              883       845   \nUganda                          787   787              787       778   \n...                             ...   ...              ...       ...   \nAfrica                            1     1                1         0   \nSaint Kitts and Nevis             1     1                1         0   \nGabon                             1     1                1         0   \nAlgeria                           1     1                1         0   \nChina,Taiwan                      1     1                1         0   \n\n                          food_supply_stage  cause_of_loss  \ncountry                                                     \nUnited States of America               1527              6  \nIndia                                  1178            132  \nEthiopia                                885             13  \nKenya                                   879             50  \nUganda                                  787              8  \n...                                     ...            ...  \nAfrica                                    1              0  \nSaint Kitts and Nevis                     1              0  \nGabon                                     1              1  \nAlgeria                                   1              0  \nChina,Taiwan                              1              0  \n\n[149 rows x 6 columns]",
      "text/html": "<div>\n<style scoped>\n    .dataframe tbody tr th:only-of-type {\n        vertical-align: middle;\n    }\n\n    .dataframe tbody tr th {\n        vertical-align: top;\n    }\n\n    .dataframe thead th {\n        text-align: right;\n    }\n</style>\n<table border=\"1\" class=\"dataframe\">\n  <thead>\n    <tr style=\"text-align: right;\">\n      <th></th>\n      <th>commodity</th>\n      <th>year</th>\n      <th>loss_percentage</th>\n      <th>activity</th>\n      <th>food_supply_stage</th>\n      <th>cause_of_loss</th>\n    </tr>\n    <tr>\n      <th>country</th>\n      <th></th>\n      <th></th>\n      <th></th>\n      <th></th>\n      <th></th>\n      <th></th>\n    </tr>\n  </thead>\n  <tbody>\n    <tr>\n      <th>United States of America</th>\n      <td>1527</td>\n      <td>1527</td>\n      <td>1527</td>\n      <td>179</td>\n      <td>1527</td>\n      <td>6</td>\n    </tr>\n    <tr>\n      <th>India</th>\n      <td>1178</td>\n      <td>1178</td>\n      <td>1178</td>\n      <td>941</td>\n      <td>1178</td>\n      <td>132</td>\n    </tr>\n    <tr>\n      <th>Ethiopia</th>\n      <td>885</td>\n      <td>885</td>\n      <td>885</td>\n      <td>869</td>\n      <td>885</td>\n      <td>13</td>\n    </tr>\n    <tr>\n      <th>Kenya</th>\n      <td>883</td>\n      <td>883</td>\n      <td>883</td>\n      <td>845</td>\n      <td>879</td>\n      <td>50</td>\n    </tr>\n    <tr>\n      <th>Uganda</th>\n      <td>787</td>\n      <td>787</td>\n      <td>787</td>\n      <td>778</td>\n      <td>787</td>\n      <td>8</td>\n    </tr>\n    <tr>\n      <th>...</th>\n      <td>...</td>\n      <td>...</td>\n      <td>...</td>\n      <td>...</td>\n      <td>...</td>\n      <td>...</td>\n    </tr>\n    <tr>\n      <th>Africa</th>\n      <td>1</td>\n      <td>1</td>\n      <td>1</td>\n      <td>0</td>\n      <td>1</td>\n      <td>0</td>\n    </tr>\n    <tr>\n      <th>Saint Kitts and Nevis</th>\n      <td>1</td>\n      <td>1</td>\n      <td>1</td>\n      <td>0</td>\n      <td>1</td>\n      <td>0</td>\n    </tr>\n    <tr>\n      <th>Gabon</th>\n      <td>1</td>\n      <td>1</td>\n      <td>1</td>\n      <td>0</td>\n      <td>1</td>\n      <td>1</td>\n    </tr>\n    <tr>\n      <th>Algeria</th>\n      <td>1</td>\n      <td>1</td>\n      <td>1</td>\n      <td>0</td>\n      <td>1</td>\n      <td>0</td>\n    </tr>\n    <tr>\n      <th>China,Taiwan</th>\n      <td>1</td>\n      <td>1</td>\n      <td>1</td>\n      <td>0</td>\n      <td>1</td>\n      <td>0</td>\n    </tr>\n  </tbody>\n</table>\n<p>149 rows × 6 columns</p>\n</div>"
     },
     "execution_count": 82,
     "metadata": {},
     "output_type": "execute_result"
    }
   ],
   "source": [
    "df.groupby(\"country\").count().sort_values(by=[\"loss_percentage\"], ascending=False)   #Grouped based on the country"
   ]
  },
  {
   "cell_type": "code",
   "execution_count": 83,
   "outputs": [
    {
     "data": {
      "text/plain": "                                             country  year  loss_percentage  \\\ncommodity                                                                     \nMaize (corn)                                    5246  5246             5246   \nRice                                            4299  4299             4299   \nMillet                                          3398  3398             3398   \nSorghum                                         3390  3390             3390   \nWheat                                           2052  2052             2052   \n...                                              ...   ...              ...   \nFlour of buckwheat                                 1     1                1   \nTapioca of cassava                                 1     1                1   \nOther tropical and subtropical fruits, n.e.        1     1                1   \nOther legumes, for forage                          1     1                1   \nMeat of pig with the bone, fresh or chilled        1     1                1   \n\n                                             activity  food_supply_stage  \\\ncommodity                                                                  \nMaize (corn)                                     4825               5234   \nRice                                             4030               4295   \nMillet                                           3358               3398   \nSorghum                                          3317               3390   \nWheat                                            1668               2051   \n...                                               ...                ...   \nFlour of buckwheat                                  1                  1   \nTapioca of cassava                                  0                  1   \nOther tropical and subtropical fruits, n.e.         0                  1   \nOther legumes, for forage                           0                  1   \nMeat of pig with the bone, fresh or chilled         0                  1   \n\n                                             cause_of_loss  \ncommodity                                                   \nMaize (corn)                                            78  \nRice                                                    68  \nMillet                                                   6  \nSorghum                                                  8  \nWheat                                                   36  \n...                                                    ...  \nFlour of buckwheat                                       0  \nTapioca of cassava                                       1  \nOther tropical and subtropical fruits, n.e.              0  \nOther legumes, for forage                                0  \nMeat of pig with the bone, fresh or chilled              0  \n\n[195 rows x 6 columns]",
      "text/html": "<div>\n<style scoped>\n    .dataframe tbody tr th:only-of-type {\n        vertical-align: middle;\n    }\n\n    .dataframe tbody tr th {\n        vertical-align: top;\n    }\n\n    .dataframe thead th {\n        text-align: right;\n    }\n</style>\n<table border=\"1\" class=\"dataframe\">\n  <thead>\n    <tr style=\"text-align: right;\">\n      <th></th>\n      <th>country</th>\n      <th>year</th>\n      <th>loss_percentage</th>\n      <th>activity</th>\n      <th>food_supply_stage</th>\n      <th>cause_of_loss</th>\n    </tr>\n    <tr>\n      <th>commodity</th>\n      <th></th>\n      <th></th>\n      <th></th>\n      <th></th>\n      <th></th>\n      <th></th>\n    </tr>\n  </thead>\n  <tbody>\n    <tr>\n      <th>Maize (corn)</th>\n      <td>5246</td>\n      <td>5246</td>\n      <td>5246</td>\n      <td>4825</td>\n      <td>5234</td>\n      <td>78</td>\n    </tr>\n    <tr>\n      <th>Rice</th>\n      <td>4299</td>\n      <td>4299</td>\n      <td>4299</td>\n      <td>4030</td>\n      <td>4295</td>\n      <td>68</td>\n    </tr>\n    <tr>\n      <th>Millet</th>\n      <td>3398</td>\n      <td>3398</td>\n      <td>3398</td>\n      <td>3358</td>\n      <td>3398</td>\n      <td>6</td>\n    </tr>\n    <tr>\n      <th>Sorghum</th>\n      <td>3390</td>\n      <td>3390</td>\n      <td>3390</td>\n      <td>3317</td>\n      <td>3390</td>\n      <td>8</td>\n    </tr>\n    <tr>\n      <th>Wheat</th>\n      <td>2052</td>\n      <td>2052</td>\n      <td>2052</td>\n      <td>1668</td>\n      <td>2051</td>\n      <td>36</td>\n    </tr>\n    <tr>\n      <th>...</th>\n      <td>...</td>\n      <td>...</td>\n      <td>...</td>\n      <td>...</td>\n      <td>...</td>\n      <td>...</td>\n    </tr>\n    <tr>\n      <th>Flour of buckwheat</th>\n      <td>1</td>\n      <td>1</td>\n      <td>1</td>\n      <td>1</td>\n      <td>1</td>\n      <td>0</td>\n    </tr>\n    <tr>\n      <th>Tapioca of cassava</th>\n      <td>1</td>\n      <td>1</td>\n      <td>1</td>\n      <td>0</td>\n      <td>1</td>\n      <td>1</td>\n    </tr>\n    <tr>\n      <th>Other tropical and subtropical fruits, n.e.</th>\n      <td>1</td>\n      <td>1</td>\n      <td>1</td>\n      <td>0</td>\n      <td>1</td>\n      <td>0</td>\n    </tr>\n    <tr>\n      <th>Other legumes, for forage</th>\n      <td>1</td>\n      <td>1</td>\n      <td>1</td>\n      <td>0</td>\n      <td>1</td>\n      <td>0</td>\n    </tr>\n    <tr>\n      <th>Meat of pig with the bone, fresh or chilled</th>\n      <td>1</td>\n      <td>1</td>\n      <td>1</td>\n      <td>0</td>\n      <td>1</td>\n      <td>0</td>\n    </tr>\n  </tbody>\n</table>\n<p>195 rows × 6 columns</p>\n</div>"
     },
     "execution_count": 83,
     "metadata": {},
     "output_type": "execute_result"
    }
   ],
   "source": [
    "df.groupby(\"commodity\").count().sort_values(by=[\"loss_percentage\"], ascending=False)   #Grouped based on the commodity"
   ],
   "metadata": {
    "collapsed": false,
    "pycharm": {
     "name": "#%%\n"
    }
   }
  },
  {
   "cell_type": "code",
   "execution_count": 84,
   "outputs": [
    {
     "data": {
      "text/plain": "      country  commodity  loss_percentage  activity  food_supply_stage  \\\nyear                                                                     \n2014     1843       1843             1843      1428               1843   \n2006     1647       1647             1647      1281               1645   \n2009     1607       1607             1607      1288               1607   \n2016     1514       1514             1514      1012               1511   \n2010     1496       1496             1496      1014               1496   \n2013     1433       1433             1433      1049               1412   \n2001     1408       1408             1408       972               1408   \n2008     1380       1380             1380      1114               1380   \n2002     1326       1326             1326       919               1322   \n2011     1310       1310             1310       978               1303   \n2015     1284       1284             1284       914               1284   \n2003     1271       1271             1271       884               1270   \n2005     1250       1250             1250       856               1248   \n2000     1236       1236             1236       861               1235   \n2017     1221       1221             1221       876               1221   \n2004     1205       1205             1205       853               1204   \n2007     1187       1187             1187       860               1182   \n2018     1184       1184             1184      1019               1184   \n2012     1170       1170             1170       935               1168   \n2019      913        913              913       876                913   \n2020      862        862              862       858                862   \n2021       26         26               26        26                 26   \n\n      cause_of_loss  \nyear                 \n2014            160  \n2006              4  \n2009            133  \n2016             13  \n2010             73  \n2013            142  \n2001             76  \n2008              5  \n2002             16  \n2011             89  \n2015             36  \n2003              5  \n2005              6  \n2000              6  \n2017             57  \n2004              2  \n2007             20  \n2018             55  \n2012             27  \n2019              0  \n2020              0  \n2021              0  ",
      "text/html": "<div>\n<style scoped>\n    .dataframe tbody tr th:only-of-type {\n        vertical-align: middle;\n    }\n\n    .dataframe tbody tr th {\n        vertical-align: top;\n    }\n\n    .dataframe thead th {\n        text-align: right;\n    }\n</style>\n<table border=\"1\" class=\"dataframe\">\n  <thead>\n    <tr style=\"text-align: right;\">\n      <th></th>\n      <th>country</th>\n      <th>commodity</th>\n      <th>loss_percentage</th>\n      <th>activity</th>\n      <th>food_supply_stage</th>\n      <th>cause_of_loss</th>\n    </tr>\n    <tr>\n      <th>year</th>\n      <th></th>\n      <th></th>\n      <th></th>\n      <th></th>\n      <th></th>\n      <th></th>\n    </tr>\n  </thead>\n  <tbody>\n    <tr>\n      <th>2014</th>\n      <td>1843</td>\n      <td>1843</td>\n      <td>1843</td>\n      <td>1428</td>\n      <td>1843</td>\n      <td>160</td>\n    </tr>\n    <tr>\n      <th>2006</th>\n      <td>1647</td>\n      <td>1647</td>\n      <td>1647</td>\n      <td>1281</td>\n      <td>1645</td>\n      <td>4</td>\n    </tr>\n    <tr>\n      <th>2009</th>\n      <td>1607</td>\n      <td>1607</td>\n      <td>1607</td>\n      <td>1288</td>\n      <td>1607</td>\n      <td>133</td>\n    </tr>\n    <tr>\n      <th>2016</th>\n      <td>1514</td>\n      <td>1514</td>\n      <td>1514</td>\n      <td>1012</td>\n      <td>1511</td>\n      <td>13</td>\n    </tr>\n    <tr>\n      <th>2010</th>\n      <td>1496</td>\n      <td>1496</td>\n      <td>1496</td>\n      <td>1014</td>\n      <td>1496</td>\n      <td>73</td>\n    </tr>\n    <tr>\n      <th>2013</th>\n      <td>1433</td>\n      <td>1433</td>\n      <td>1433</td>\n      <td>1049</td>\n      <td>1412</td>\n      <td>142</td>\n    </tr>\n    <tr>\n      <th>2001</th>\n      <td>1408</td>\n      <td>1408</td>\n      <td>1408</td>\n      <td>972</td>\n      <td>1408</td>\n      <td>76</td>\n    </tr>\n    <tr>\n      <th>2008</th>\n      <td>1380</td>\n      <td>1380</td>\n      <td>1380</td>\n      <td>1114</td>\n      <td>1380</td>\n      <td>5</td>\n    </tr>\n    <tr>\n      <th>2002</th>\n      <td>1326</td>\n      <td>1326</td>\n      <td>1326</td>\n      <td>919</td>\n      <td>1322</td>\n      <td>16</td>\n    </tr>\n    <tr>\n      <th>2011</th>\n      <td>1310</td>\n      <td>1310</td>\n      <td>1310</td>\n      <td>978</td>\n      <td>1303</td>\n      <td>89</td>\n    </tr>\n    <tr>\n      <th>2015</th>\n      <td>1284</td>\n      <td>1284</td>\n      <td>1284</td>\n      <td>914</td>\n      <td>1284</td>\n      <td>36</td>\n    </tr>\n    <tr>\n      <th>2003</th>\n      <td>1271</td>\n      <td>1271</td>\n      <td>1271</td>\n      <td>884</td>\n      <td>1270</td>\n      <td>5</td>\n    </tr>\n    <tr>\n      <th>2005</th>\n      <td>1250</td>\n      <td>1250</td>\n      <td>1250</td>\n      <td>856</td>\n      <td>1248</td>\n      <td>6</td>\n    </tr>\n    <tr>\n      <th>2000</th>\n      <td>1236</td>\n      <td>1236</td>\n      <td>1236</td>\n      <td>861</td>\n      <td>1235</td>\n      <td>6</td>\n    </tr>\n    <tr>\n      <th>2017</th>\n      <td>1221</td>\n      <td>1221</td>\n      <td>1221</td>\n      <td>876</td>\n      <td>1221</td>\n      <td>57</td>\n    </tr>\n    <tr>\n      <th>2004</th>\n      <td>1205</td>\n      <td>1205</td>\n      <td>1205</td>\n      <td>853</td>\n      <td>1204</td>\n      <td>2</td>\n    </tr>\n    <tr>\n      <th>2007</th>\n      <td>1187</td>\n      <td>1187</td>\n      <td>1187</td>\n      <td>860</td>\n      <td>1182</td>\n      <td>20</td>\n    </tr>\n    <tr>\n      <th>2018</th>\n      <td>1184</td>\n      <td>1184</td>\n      <td>1184</td>\n      <td>1019</td>\n      <td>1184</td>\n      <td>55</td>\n    </tr>\n    <tr>\n      <th>2012</th>\n      <td>1170</td>\n      <td>1170</td>\n      <td>1170</td>\n      <td>935</td>\n      <td>1168</td>\n      <td>27</td>\n    </tr>\n    <tr>\n      <th>2019</th>\n      <td>913</td>\n      <td>913</td>\n      <td>913</td>\n      <td>876</td>\n      <td>913</td>\n      <td>0</td>\n    </tr>\n    <tr>\n      <th>2020</th>\n      <td>862</td>\n      <td>862</td>\n      <td>862</td>\n      <td>858</td>\n      <td>862</td>\n      <td>0</td>\n    </tr>\n    <tr>\n      <th>2021</th>\n      <td>26</td>\n      <td>26</td>\n      <td>26</td>\n      <td>26</td>\n      <td>26</td>\n      <td>0</td>\n    </tr>\n  </tbody>\n</table>\n</div>"
     },
     "execution_count": 84,
     "metadata": {},
     "output_type": "execute_result"
    }
   ],
   "source": [
    "df.groupby(\"year\").count().sort_values(by=[\"loss_percentage\"], ascending=False)   #Grouped based on the year"
   ],
   "metadata": {
    "collapsed": false,
    "pycharm": {
     "name": "#%%\n"
    }
   }
  },
  {
   "cell_type": "code",
   "execution_count": 85,
   "outputs": [
    {
     "data": {
      "text/plain": "                                               country  commodity  year  \\\nactivity                                                                  \nStorage                                           5145       5145  5145   \nTransportation                                    4918       4918  4918   \nDrying, Harvesting                                3315       3315  3315   \nShelling, Threshing                               3170       3170  3170   \nWinnowing                                         1261       1261  1261   \n...                                                ...        ...   ...   \nHarvesting, Packaging, Sorting, Storage              1          1     1   \nHarvesting, Storage                                  1          1     1   \nLoading, Marketing, Transportation, Unloading        1          1     1   \nMarketing, Retailing                                 1          1     1   \nGrading, Transportation                              1          1     1   \n\n                                               loss_percentage  \\\nactivity                                                         \nStorage                                                   5145   \nTransportation                                            4918   \nDrying, Harvesting                                        3315   \nShelling, Threshing                                       3170   \nWinnowing                                                 1261   \n...                                                        ...   \nHarvesting, Packaging, Sorting, Storage                      1   \nHarvesting, Storage                                          1   \nLoading, Marketing, Transportation, Unloading                1   \nMarketing, Retailing                                         1   \nGrading, Transportation                                      1   \n\n                                               food_supply_stage  \\\nactivity                                                           \nStorage                                                     5145   \nTransportation                                              4918   \nDrying, Harvesting                                          3315   \nShelling, Threshing                                         3170   \nWinnowing                                                   1261   \n...                                                          ...   \nHarvesting, Packaging, Sorting, Storage                        1   \nHarvesting, Storage                                            1   \nLoading, Marketing, Transportation, Unloading                  1   \nMarketing, Retailing                                           1   \nGrading, Transportation                                        1   \n\n                                               cause_of_loss  \nactivity                                                      \nStorage                                                  107  \nTransportation                                            11  \nDrying, Harvesting                                         0  \nShelling, Threshing                                        1  \nWinnowing                                                  0  \n...                                                      ...  \nHarvesting, Packaging, Sorting, Storage                    0  \nHarvesting, Storage                                        0  \nLoading, Marketing, Transportation, Unloading              0  \nMarketing, Retailing                                       1  \nGrading, Transportation                                    0  \n\n[110 rows x 6 columns]",
      "text/html": "<div>\n<style scoped>\n    .dataframe tbody tr th:only-of-type {\n        vertical-align: middle;\n    }\n\n    .dataframe tbody tr th {\n        vertical-align: top;\n    }\n\n    .dataframe thead th {\n        text-align: right;\n    }\n</style>\n<table border=\"1\" class=\"dataframe\">\n  <thead>\n    <tr style=\"text-align: right;\">\n      <th></th>\n      <th>country</th>\n      <th>commodity</th>\n      <th>year</th>\n      <th>loss_percentage</th>\n      <th>food_supply_stage</th>\n      <th>cause_of_loss</th>\n    </tr>\n    <tr>\n      <th>activity</th>\n      <th></th>\n      <th></th>\n      <th></th>\n      <th></th>\n      <th></th>\n      <th></th>\n    </tr>\n  </thead>\n  <tbody>\n    <tr>\n      <th>Storage</th>\n      <td>5145</td>\n      <td>5145</td>\n      <td>5145</td>\n      <td>5145</td>\n      <td>5145</td>\n      <td>107</td>\n    </tr>\n    <tr>\n      <th>Transportation</th>\n      <td>4918</td>\n      <td>4918</td>\n      <td>4918</td>\n      <td>4918</td>\n      <td>4918</td>\n      <td>11</td>\n    </tr>\n    <tr>\n      <th>Drying, Harvesting</th>\n      <td>3315</td>\n      <td>3315</td>\n      <td>3315</td>\n      <td>3315</td>\n      <td>3315</td>\n      <td>0</td>\n    </tr>\n    <tr>\n      <th>Shelling, Threshing</th>\n      <td>3170</td>\n      <td>3170</td>\n      <td>3170</td>\n      <td>3170</td>\n      <td>3170</td>\n      <td>1</td>\n    </tr>\n    <tr>\n      <th>Winnowing</th>\n      <td>1261</td>\n      <td>1261</td>\n      <td>1261</td>\n      <td>1261</td>\n      <td>1261</td>\n      <td>0</td>\n    </tr>\n    <tr>\n      <th>...</th>\n      <td>...</td>\n      <td>...</td>\n      <td>...</td>\n      <td>...</td>\n      <td>...</td>\n      <td>...</td>\n    </tr>\n    <tr>\n      <th>Harvesting, Packaging, Sorting, Storage</th>\n      <td>1</td>\n      <td>1</td>\n      <td>1</td>\n      <td>1</td>\n      <td>1</td>\n      <td>0</td>\n    </tr>\n    <tr>\n      <th>Harvesting, Storage</th>\n      <td>1</td>\n      <td>1</td>\n      <td>1</td>\n      <td>1</td>\n      <td>1</td>\n      <td>0</td>\n    </tr>\n    <tr>\n      <th>Loading, Marketing, Transportation, Unloading</th>\n      <td>1</td>\n      <td>1</td>\n      <td>1</td>\n      <td>1</td>\n      <td>1</td>\n      <td>0</td>\n    </tr>\n    <tr>\n      <th>Marketing, Retailing</th>\n      <td>1</td>\n      <td>1</td>\n      <td>1</td>\n      <td>1</td>\n      <td>1</td>\n      <td>1</td>\n    </tr>\n    <tr>\n      <th>Grading, Transportation</th>\n      <td>1</td>\n      <td>1</td>\n      <td>1</td>\n      <td>1</td>\n      <td>1</td>\n      <td>0</td>\n    </tr>\n  </tbody>\n</table>\n<p>110 rows × 6 columns</p>\n</div>"
     },
     "execution_count": 85,
     "metadata": {},
     "output_type": "execute_result"
    }
   ],
   "source": [
    "df.groupby(\"activity\").count().sort_values(by=[\"loss_percentage\"], ascending=False)   #Grouped based on the activity"
   ],
   "metadata": {
    "collapsed": false,
    "pycharm": {
     "name": "#%%\n"
    }
   }
  },
  {
   "cell_type": "code",
   "execution_count": 86,
   "metadata": {
    "pycharm": {
     "name": "#%%\n"
    }
   },
   "outputs": [
    {
     "data": {
      "text/plain": "                    country  commodity   year  loss_percentage  activity  \\\nfood_supply_stage                                                          \nFarm                  12368      12368  12368            12368     12167   \nWhole supply chain     5918       5918   5918             5918       175   \nHarvest                3688       3688   3688             3688      3576   \nStorage                2525       2525   2525             2525      2326   \nTransport              1849       1849   1849             1849      1779   \nRetail                  438        438    438              438       227   \nProcessing              262        262    262              262       184   \nWholesale               257        257    257              257       147   \nHouseholds              167        167    167              167       156   \nTrader                   76         76     76               76        38   \nPost-harvest             53         53     53               53        14   \nExport                   50         50     50               50        32   \nPacking                  17         17     17               17         9   \nFood Services            14         14     14               14        12   \nPre-harvest              11         11     11               11         0   \nGrading                  11         11     11               11         9   \nDistribution             10         10     10               10        10   \nMarket                    9          9      9                9         9   \nStacking                  1          1      1                1         0   \n\n                    cause_of_loss  \nfood_supply_stage                  \nFarm                          182  \nWhole supply chain             79  \nHarvest                        78  \nStorage                       212  \nTransport                      55  \nRetail                         95  \nProcessing                     71  \nWholesale                      93  \nHouseholds                      0  \nTrader                         10  \nPost-harvest                    6  \nExport                         19  \nPacking                         8  \nFood Services                   0  \nPre-harvest                     7  \nGrading                         2  \nDistribution                    0  \nMarket                          0  \nStacking                        0  ",
      "text/html": "<div>\n<style scoped>\n    .dataframe tbody tr th:only-of-type {\n        vertical-align: middle;\n    }\n\n    .dataframe tbody tr th {\n        vertical-align: top;\n    }\n\n    .dataframe thead th {\n        text-align: right;\n    }\n</style>\n<table border=\"1\" class=\"dataframe\">\n  <thead>\n    <tr style=\"text-align: right;\">\n      <th></th>\n      <th>country</th>\n      <th>commodity</th>\n      <th>year</th>\n      <th>loss_percentage</th>\n      <th>activity</th>\n      <th>cause_of_loss</th>\n    </tr>\n    <tr>\n      <th>food_supply_stage</th>\n      <th></th>\n      <th></th>\n      <th></th>\n      <th></th>\n      <th></th>\n      <th></th>\n    </tr>\n  </thead>\n  <tbody>\n    <tr>\n      <th>Farm</th>\n      <td>12368</td>\n      <td>12368</td>\n      <td>12368</td>\n      <td>12368</td>\n      <td>12167</td>\n      <td>182</td>\n    </tr>\n    <tr>\n      <th>Whole supply chain</th>\n      <td>5918</td>\n      <td>5918</td>\n      <td>5918</td>\n      <td>5918</td>\n      <td>175</td>\n      <td>79</td>\n    </tr>\n    <tr>\n      <th>Harvest</th>\n      <td>3688</td>\n      <td>3688</td>\n      <td>3688</td>\n      <td>3688</td>\n      <td>3576</td>\n      <td>78</td>\n    </tr>\n    <tr>\n      <th>Storage</th>\n      <td>2525</td>\n      <td>2525</td>\n      <td>2525</td>\n      <td>2525</td>\n      <td>2326</td>\n      <td>212</td>\n    </tr>\n    <tr>\n      <th>Transport</th>\n      <td>1849</td>\n      <td>1849</td>\n      <td>1849</td>\n      <td>1849</td>\n      <td>1779</td>\n      <td>55</td>\n    </tr>\n    <tr>\n      <th>Retail</th>\n      <td>438</td>\n      <td>438</td>\n      <td>438</td>\n      <td>438</td>\n      <td>227</td>\n      <td>95</td>\n    </tr>\n    <tr>\n      <th>Processing</th>\n      <td>262</td>\n      <td>262</td>\n      <td>262</td>\n      <td>262</td>\n      <td>184</td>\n      <td>71</td>\n    </tr>\n    <tr>\n      <th>Wholesale</th>\n      <td>257</td>\n      <td>257</td>\n      <td>257</td>\n      <td>257</td>\n      <td>147</td>\n      <td>93</td>\n    </tr>\n    <tr>\n      <th>Households</th>\n      <td>167</td>\n      <td>167</td>\n      <td>167</td>\n      <td>167</td>\n      <td>156</td>\n      <td>0</td>\n    </tr>\n    <tr>\n      <th>Trader</th>\n      <td>76</td>\n      <td>76</td>\n      <td>76</td>\n      <td>76</td>\n      <td>38</td>\n      <td>10</td>\n    </tr>\n    <tr>\n      <th>Post-harvest</th>\n      <td>53</td>\n      <td>53</td>\n      <td>53</td>\n      <td>53</td>\n      <td>14</td>\n      <td>6</td>\n    </tr>\n    <tr>\n      <th>Export</th>\n      <td>50</td>\n      <td>50</td>\n      <td>50</td>\n      <td>50</td>\n      <td>32</td>\n      <td>19</td>\n    </tr>\n    <tr>\n      <th>Packing</th>\n      <td>17</td>\n      <td>17</td>\n      <td>17</td>\n      <td>17</td>\n      <td>9</td>\n      <td>8</td>\n    </tr>\n    <tr>\n      <th>Food Services</th>\n      <td>14</td>\n      <td>14</td>\n      <td>14</td>\n      <td>14</td>\n      <td>12</td>\n      <td>0</td>\n    </tr>\n    <tr>\n      <th>Pre-harvest</th>\n      <td>11</td>\n      <td>11</td>\n      <td>11</td>\n      <td>11</td>\n      <td>0</td>\n      <td>7</td>\n    </tr>\n    <tr>\n      <th>Grading</th>\n      <td>11</td>\n      <td>11</td>\n      <td>11</td>\n      <td>11</td>\n      <td>9</td>\n      <td>2</td>\n    </tr>\n    <tr>\n      <th>Distribution</th>\n      <td>10</td>\n      <td>10</td>\n      <td>10</td>\n      <td>10</td>\n      <td>10</td>\n      <td>0</td>\n    </tr>\n    <tr>\n      <th>Market</th>\n      <td>9</td>\n      <td>9</td>\n      <td>9</td>\n      <td>9</td>\n      <td>9</td>\n      <td>0</td>\n    </tr>\n    <tr>\n      <th>Stacking</th>\n      <td>1</td>\n      <td>1</td>\n      <td>1</td>\n      <td>1</td>\n      <td>0</td>\n      <td>0</td>\n    </tr>\n  </tbody>\n</table>\n</div>"
     },
     "execution_count": 86,
     "metadata": {},
     "output_type": "execute_result"
    }
   ],
   "source": [
    "df.groupby(\"food_supply_stage\").count().sort_values(by=[\"loss_percentage\"], ascending=False) #Grouped based on the food supply stage"
   ]
  },
  {
   "cell_type": "code",
   "execution_count": 87,
   "outputs": [
    {
     "data": {
      "text/plain": "                                                    country  commodity  year  \\\ncause_of_loss                                                                  \nPhysical Losses                                          87         87    87   \nInsect pest damage                                       54         54    54   \nmain causes of this were a mismatch in supply a...       41         41    41   \nMechanical Damage                                        36         36    36   \nDecay                                                    26         26    26   \n...                                                     ...        ...   ...   \nParboiled Rice Parboiling                                 1          1     1   \nParboiled Rice Storage                                    1          1     1   \nParboiled Ricedrying                                      1          1     1   \nParboiling                                                1          1     1   \nMost important: After harvest: Quality (appeara...        1          1     1   \n\n                                                    loss_percentage  activity  \\\ncause_of_loss                                                                   \nPhysical Losses                                                  87        12   \nInsect pest damage                                               54        54   \nmain causes of this were a mismatch in supply a...               41         9   \nMechanical Damage                                                36        34   \nDecay                                                            26        26   \n...                                                             ...       ...   \nParboiled Rice Parboiling                                         1         0   \nParboiled Rice Storage                                            1         0   \nParboiled Ricedrying                                              1         0   \nParboiling                                                        1         0   \nMost important: After harvest: Quality (appeara...                1         0   \n\n                                                    food_supply_stage  \ncause_of_loss                                                          \nPhysical Losses                                                    87  \nInsect pest damage                                                 54  \nmain causes of this were a mismatch in supply a...                 41  \nMechanical Damage                                                  36  \nDecay                                                              26  \n...                                                               ...  \nParboiled Rice Parboiling                                           1  \nParboiled Rice Storage                                              1  \nParboiled Ricedrying                                                1  \nParboiling                                                          1  \nMost important: After harvest: Quality (appeara...                  1  \n\n[357 rows x 6 columns]",
      "text/html": "<div>\n<style scoped>\n    .dataframe tbody tr th:only-of-type {\n        vertical-align: middle;\n    }\n\n    .dataframe tbody tr th {\n        vertical-align: top;\n    }\n\n    .dataframe thead th {\n        text-align: right;\n    }\n</style>\n<table border=\"1\" class=\"dataframe\">\n  <thead>\n    <tr style=\"text-align: right;\">\n      <th></th>\n      <th>country</th>\n      <th>commodity</th>\n      <th>year</th>\n      <th>loss_percentage</th>\n      <th>activity</th>\n      <th>food_supply_stage</th>\n    </tr>\n    <tr>\n      <th>cause_of_loss</th>\n      <th></th>\n      <th></th>\n      <th></th>\n      <th></th>\n      <th></th>\n      <th></th>\n    </tr>\n  </thead>\n  <tbody>\n    <tr>\n      <th>Physical Losses</th>\n      <td>87</td>\n      <td>87</td>\n      <td>87</td>\n      <td>87</td>\n      <td>12</td>\n      <td>87</td>\n    </tr>\n    <tr>\n      <th>Insect pest damage</th>\n      <td>54</td>\n      <td>54</td>\n      <td>54</td>\n      <td>54</td>\n      <td>54</td>\n      <td>54</td>\n    </tr>\n    <tr>\n      <th>main causes of this were a mismatch in supply and demand or cosmetic and quality related</th>\n      <td>41</td>\n      <td>41</td>\n      <td>41</td>\n      <td>41</td>\n      <td>9</td>\n      <td>41</td>\n    </tr>\n    <tr>\n      <th>Mechanical Damage</th>\n      <td>36</td>\n      <td>36</td>\n      <td>36</td>\n      <td>36</td>\n      <td>34</td>\n      <td>36</td>\n    </tr>\n    <tr>\n      <th>Decay</th>\n      <td>26</td>\n      <td>26</td>\n      <td>26</td>\n      <td>26</td>\n      <td>26</td>\n      <td>26</td>\n    </tr>\n    <tr>\n      <th>...</th>\n      <td>...</td>\n      <td>...</td>\n      <td>...</td>\n      <td>...</td>\n      <td>...</td>\n      <td>...</td>\n    </tr>\n    <tr>\n      <th>Parboiled Rice Parboiling</th>\n      <td>1</td>\n      <td>1</td>\n      <td>1</td>\n      <td>1</td>\n      <td>0</td>\n      <td>1</td>\n    </tr>\n    <tr>\n      <th>Parboiled Rice Storage</th>\n      <td>1</td>\n      <td>1</td>\n      <td>1</td>\n      <td>1</td>\n      <td>0</td>\n      <td>1</td>\n    </tr>\n    <tr>\n      <th>Parboiled Ricedrying</th>\n      <td>1</td>\n      <td>1</td>\n      <td>1</td>\n      <td>1</td>\n      <td>0</td>\n      <td>1</td>\n    </tr>\n    <tr>\n      <th>Parboiling</th>\n      <td>1</td>\n      <td>1</td>\n      <td>1</td>\n      <td>1</td>\n      <td>0</td>\n      <td>1</td>\n    </tr>\n    <tr>\n      <th>Most important: After harvest: Quality (appearance, size), plant diseases and damage. During harvest: Weather conditions, plant diseases and harvesting procedures.</th>\n      <td>1</td>\n      <td>1</td>\n      <td>1</td>\n      <td>1</td>\n      <td>0</td>\n      <td>1</td>\n    </tr>\n  </tbody>\n</table>\n<p>357 rows × 6 columns</p>\n</div>"
     },
     "execution_count": 87,
     "metadata": {},
     "output_type": "execute_result"
    }
   ],
   "source": [
    "df.groupby(\"cause_of_loss\").count().sort_values(by=[\"loss_percentage\"], ascending=False)   #Grouped based on the cause of loss"
   ],
   "metadata": {
    "collapsed": false,
    "pycharm": {
     "name": "#%%\n"
    }
   }
  },
  {
   "cell_type": "markdown",
   "source": [
    "# SECOND LEVEL GROUPING"
   ],
   "metadata": {
    "collapsed": false,
    "pycharm": {
     "name": "#%% md\n"
    }
   }
  },
  {
   "cell_type": "code",
   "execution_count": 88,
   "outputs": [
    {
     "data": {
      "text/plain": "                           year  loss_percentage  activity  food_supply_stage  \\\ncountry     commodity                                                           \nAfghanistan Barley            4                4         0                  4   \n            Maize (corn)      4                4         0                  4   \n            Rice              4                4         0                  4   \n            Wheat            17               17         0                 17   \nAfrica      Maize (corn)      1                1         0                  1   \n...                         ...              ...       ...                ...   \nZambia      Wheat            84               84        84                 84   \nZimbabwe    Cow peas, dry    70               70        70                 70   \n            Maize (corn)    147              147       147                147   \n            Millet          147              147       147                147   \n            Sorghum         108              108       108                108   \n\n                           cause_of_loss  \ncountry     commodity                     \nAfghanistan Barley                     0  \n            Maize (corn)               0  \n            Rice                       0  \n            Wheat                      0  \nAfrica      Maize (corn)               0  \n...                                  ...  \nZambia      Wheat                      0  \nZimbabwe    Cow peas, dry             54  \n            Maize (corn)               0  \n            Millet                     0  \n            Sorghum                    0  \n\n[1326 rows x 5 columns]",
      "text/html": "<div>\n<style scoped>\n    .dataframe tbody tr th:only-of-type {\n        vertical-align: middle;\n    }\n\n    .dataframe tbody tr th {\n        vertical-align: top;\n    }\n\n    .dataframe thead th {\n        text-align: right;\n    }\n</style>\n<table border=\"1\" class=\"dataframe\">\n  <thead>\n    <tr style=\"text-align: right;\">\n      <th></th>\n      <th></th>\n      <th>year</th>\n      <th>loss_percentage</th>\n      <th>activity</th>\n      <th>food_supply_stage</th>\n      <th>cause_of_loss</th>\n    </tr>\n    <tr>\n      <th>country</th>\n      <th>commodity</th>\n      <th></th>\n      <th></th>\n      <th></th>\n      <th></th>\n      <th></th>\n    </tr>\n  </thead>\n  <tbody>\n    <tr>\n      <th rowspan=\"4\" valign=\"top\">Afghanistan</th>\n      <th>Barley</th>\n      <td>4</td>\n      <td>4</td>\n      <td>0</td>\n      <td>4</td>\n      <td>0</td>\n    </tr>\n    <tr>\n      <th>Maize (corn)</th>\n      <td>4</td>\n      <td>4</td>\n      <td>0</td>\n      <td>4</td>\n      <td>0</td>\n    </tr>\n    <tr>\n      <th>Rice</th>\n      <td>4</td>\n      <td>4</td>\n      <td>0</td>\n      <td>4</td>\n      <td>0</td>\n    </tr>\n    <tr>\n      <th>Wheat</th>\n      <td>17</td>\n      <td>17</td>\n      <td>0</td>\n      <td>17</td>\n      <td>0</td>\n    </tr>\n    <tr>\n      <th>Africa</th>\n      <th>Maize (corn)</th>\n      <td>1</td>\n      <td>1</td>\n      <td>0</td>\n      <td>1</td>\n      <td>0</td>\n    </tr>\n    <tr>\n      <th>...</th>\n      <th>...</th>\n      <td>...</td>\n      <td>...</td>\n      <td>...</td>\n      <td>...</td>\n      <td>...</td>\n    </tr>\n    <tr>\n      <th>Zambia</th>\n      <th>Wheat</th>\n      <td>84</td>\n      <td>84</td>\n      <td>84</td>\n      <td>84</td>\n      <td>0</td>\n    </tr>\n    <tr>\n      <th rowspan=\"4\" valign=\"top\">Zimbabwe</th>\n      <th>Cow peas, dry</th>\n      <td>70</td>\n      <td>70</td>\n      <td>70</td>\n      <td>70</td>\n      <td>54</td>\n    </tr>\n    <tr>\n      <th>Maize (corn)</th>\n      <td>147</td>\n      <td>147</td>\n      <td>147</td>\n      <td>147</td>\n      <td>0</td>\n    </tr>\n    <tr>\n      <th>Millet</th>\n      <td>147</td>\n      <td>147</td>\n      <td>147</td>\n      <td>147</td>\n      <td>0</td>\n    </tr>\n    <tr>\n      <th>Sorghum</th>\n      <td>108</td>\n      <td>108</td>\n      <td>108</td>\n      <td>108</td>\n      <td>0</td>\n    </tr>\n  </tbody>\n</table>\n<p>1326 rows × 5 columns</p>\n</div>"
     },
     "execution_count": 88,
     "metadata": {},
     "output_type": "execute_result"
    }
   ],
   "source": [
    "df.groupby([\"country\",\"commodity\"]).count() #Grouped based on the country"
   ],
   "metadata": {
    "collapsed": false,
    "pycharm": {
     "name": "#%%\n"
    }
   }
  },
  {
   "cell_type": "code",
   "execution_count": 89,
   "outputs": [
    {
     "data": {
      "text/plain": "                        country         commodity  year  loss_percentage  \\\n24459  United States of America         Asparagus  2019           9.0000   \n24460  United States of America          Cabbages  2019           8.0000   \n24461  United States of America          Cabbages  2019           7.0000   \n24462  United States of America          Cabbages  2019          12.0000   \n24463  United States of America          Cabbages  2019          12.0000   \n...                         ...               ...   ...              ...   \n25981  United States of America      Orange juice  2000          40.8538   \n25982  United States of America  Grapefruit juice  2000          43.7016   \n25983  United States of America   Pineapple juice  2000          41.3333   \n25984  United States of America       Grape juice  2000          19.0909   \n25985  United States of America       Apple juice  2000          26.6667   \n\n      activity   food_supply_stage cause_of_loss  \n24459      NaN  Whole supply chain           NaN  \n24460      NaN  Whole supply chain           NaN  \n24461      NaN  Whole supply chain           NaN  \n24462      NaN  Whole supply chain           NaN  \n24463      NaN  Whole supply chain           NaN  \n...        ...                 ...           ...  \n25981      NaN  Whole supply chain           NaN  \n25982      NaN  Whole supply chain           NaN  \n25983      NaN  Whole supply chain           NaN  \n25984      NaN  Whole supply chain           NaN  \n25985      NaN  Whole supply chain           NaN  \n\n[1527 rows x 7 columns]",
      "text/html": "<div>\n<style scoped>\n    .dataframe tbody tr th:only-of-type {\n        vertical-align: middle;\n    }\n\n    .dataframe tbody tr th {\n        vertical-align: top;\n    }\n\n    .dataframe thead th {\n        text-align: right;\n    }\n</style>\n<table border=\"1\" class=\"dataframe\">\n  <thead>\n    <tr style=\"text-align: right;\">\n      <th></th>\n      <th>country</th>\n      <th>commodity</th>\n      <th>year</th>\n      <th>loss_percentage</th>\n      <th>activity</th>\n      <th>food_supply_stage</th>\n      <th>cause_of_loss</th>\n    </tr>\n  </thead>\n  <tbody>\n    <tr>\n      <th>24459</th>\n      <td>United States of America</td>\n      <td>Asparagus</td>\n      <td>2019</td>\n      <td>9.0000</td>\n      <td>NaN</td>\n      <td>Whole supply chain</td>\n      <td>NaN</td>\n    </tr>\n    <tr>\n      <th>24460</th>\n      <td>United States of America</td>\n      <td>Cabbages</td>\n      <td>2019</td>\n      <td>8.0000</td>\n      <td>NaN</td>\n      <td>Whole supply chain</td>\n      <td>NaN</td>\n    </tr>\n    <tr>\n      <th>24461</th>\n      <td>United States of America</td>\n      <td>Cabbages</td>\n      <td>2019</td>\n      <td>7.0000</td>\n      <td>NaN</td>\n      <td>Whole supply chain</td>\n      <td>NaN</td>\n    </tr>\n    <tr>\n      <th>24462</th>\n      <td>United States of America</td>\n      <td>Cabbages</td>\n      <td>2019</td>\n      <td>12.0000</td>\n      <td>NaN</td>\n      <td>Whole supply chain</td>\n      <td>NaN</td>\n    </tr>\n    <tr>\n      <th>24463</th>\n      <td>United States of America</td>\n      <td>Cabbages</td>\n      <td>2019</td>\n      <td>12.0000</td>\n      <td>NaN</td>\n      <td>Whole supply chain</td>\n      <td>NaN</td>\n    </tr>\n    <tr>\n      <th>...</th>\n      <td>...</td>\n      <td>...</td>\n      <td>...</td>\n      <td>...</td>\n      <td>...</td>\n      <td>...</td>\n      <td>...</td>\n    </tr>\n    <tr>\n      <th>25981</th>\n      <td>United States of America</td>\n      <td>Orange juice</td>\n      <td>2000</td>\n      <td>40.8538</td>\n      <td>NaN</td>\n      <td>Whole supply chain</td>\n      <td>NaN</td>\n    </tr>\n    <tr>\n      <th>25982</th>\n      <td>United States of America</td>\n      <td>Grapefruit juice</td>\n      <td>2000</td>\n      <td>43.7016</td>\n      <td>NaN</td>\n      <td>Whole supply chain</td>\n      <td>NaN</td>\n    </tr>\n    <tr>\n      <th>25983</th>\n      <td>United States of America</td>\n      <td>Pineapple juice</td>\n      <td>2000</td>\n      <td>41.3333</td>\n      <td>NaN</td>\n      <td>Whole supply chain</td>\n      <td>NaN</td>\n    </tr>\n    <tr>\n      <th>25984</th>\n      <td>United States of America</td>\n      <td>Grape juice</td>\n      <td>2000</td>\n      <td>19.0909</td>\n      <td>NaN</td>\n      <td>Whole supply chain</td>\n      <td>NaN</td>\n    </tr>\n    <tr>\n      <th>25985</th>\n      <td>United States of America</td>\n      <td>Apple juice</td>\n      <td>2000</td>\n      <td>26.6667</td>\n      <td>NaN</td>\n      <td>Whole supply chain</td>\n      <td>NaN</td>\n    </tr>\n  </tbody>\n</table>\n<p>1527 rows × 7 columns</p>\n</div>"
     },
     "execution_count": 89,
     "metadata": {},
     "output_type": "execute_result"
    }
   ],
   "source": [
    "df[df.country==\"United States of America\"]"
   ],
   "metadata": {
    "collapsed": false,
    "pycharm": {
     "name": "#%%\n"
    }
   }
  },
  {
   "cell_type": "code",
   "execution_count": 90,
   "outputs": [
    {
     "data": {
      "text/plain": "                                         country  year  loss_percentage  \\\ncommodity                                                                 \nAlmonds, in shell                              1     8                8   \nApple juice                                    1    19                1   \nApples                                         1    19                6   \nApricots                                       1    19                6   \nArtichokes                                     1    20                5   \n...                                          ...   ...              ...   \nTangerines, mandarins, clementines             1    20                3   \nTomatoes                                       1    20                5   \nVegetable products, fresh or dry n.e.c.        1     1                2   \nWalnuts, in shell                              1     8                5   \nWatermelons                                    1    19                5   \n\n                                         activity  food_supply_stage  \\\ncommodity                                                              \nAlmonds, in shell                               0                  1   \nApple juice                                     0                  1   \nApples                                          2                  3   \nApricots                                        2                  3   \nArtichokes                                      2                  3   \n...                                           ...                ...   \nTangerines, mandarins, clementines              0                  2   \nTomatoes                                        2                  3   \nVegetable products, fresh or dry n.e.c.         2                  2   \nWalnuts, in shell                               0                  1   \nWatermelons                                     2                  3   \n\n                                         cause_of_loss  \ncommodity                                               \nAlmonds, in shell                                    0  \nApple juice                                          0  \nApples                                               0  \nApricots                                             0  \nArtichokes                                           0  \n...                                                ...  \nTangerines, mandarins, clementines                   0  \nTomatoes                                             0  \nVegetable products, fresh or dry n.e.c.              0  \nWalnuts, in shell                                    0  \nWatermelons                                          0  \n\n[83 rows x 6 columns]",
      "text/html": "<div>\n<style scoped>\n    .dataframe tbody tr th:only-of-type {\n        vertical-align: middle;\n    }\n\n    .dataframe tbody tr th {\n        vertical-align: top;\n    }\n\n    .dataframe thead th {\n        text-align: right;\n    }\n</style>\n<table border=\"1\" class=\"dataframe\">\n  <thead>\n    <tr style=\"text-align: right;\">\n      <th></th>\n      <th>country</th>\n      <th>year</th>\n      <th>loss_percentage</th>\n      <th>activity</th>\n      <th>food_supply_stage</th>\n      <th>cause_of_loss</th>\n    </tr>\n    <tr>\n      <th>commodity</th>\n      <th></th>\n      <th></th>\n      <th></th>\n      <th></th>\n      <th></th>\n      <th></th>\n    </tr>\n  </thead>\n  <tbody>\n    <tr>\n      <th>Almonds, in shell</th>\n      <td>1</td>\n      <td>8</td>\n      <td>8</td>\n      <td>0</td>\n      <td>1</td>\n      <td>0</td>\n    </tr>\n    <tr>\n      <th>Apple juice</th>\n      <td>1</td>\n      <td>19</td>\n      <td>1</td>\n      <td>0</td>\n      <td>1</td>\n      <td>0</td>\n    </tr>\n    <tr>\n      <th>Apples</th>\n      <td>1</td>\n      <td>19</td>\n      <td>6</td>\n      <td>2</td>\n      <td>3</td>\n      <td>0</td>\n    </tr>\n    <tr>\n      <th>Apricots</th>\n      <td>1</td>\n      <td>19</td>\n      <td>6</td>\n      <td>2</td>\n      <td>3</td>\n      <td>0</td>\n    </tr>\n    <tr>\n      <th>Artichokes</th>\n      <td>1</td>\n      <td>20</td>\n      <td>5</td>\n      <td>2</td>\n      <td>3</td>\n      <td>0</td>\n    </tr>\n    <tr>\n      <th>...</th>\n      <td>...</td>\n      <td>...</td>\n      <td>...</td>\n      <td>...</td>\n      <td>...</td>\n      <td>...</td>\n    </tr>\n    <tr>\n      <th>Tangerines, mandarins, clementines</th>\n      <td>1</td>\n      <td>20</td>\n      <td>3</td>\n      <td>0</td>\n      <td>2</td>\n      <td>0</td>\n    </tr>\n    <tr>\n      <th>Tomatoes</th>\n      <td>1</td>\n      <td>20</td>\n      <td>5</td>\n      <td>2</td>\n      <td>3</td>\n      <td>0</td>\n    </tr>\n    <tr>\n      <th>Vegetable products, fresh or dry n.e.c.</th>\n      <td>1</td>\n      <td>1</td>\n      <td>2</td>\n      <td>2</td>\n      <td>2</td>\n      <td>0</td>\n    </tr>\n    <tr>\n      <th>Walnuts, in shell</th>\n      <td>1</td>\n      <td>8</td>\n      <td>5</td>\n      <td>0</td>\n      <td>1</td>\n      <td>0</td>\n    </tr>\n    <tr>\n      <th>Watermelons</th>\n      <td>1</td>\n      <td>19</td>\n      <td>5</td>\n      <td>2</td>\n      <td>3</td>\n      <td>0</td>\n    </tr>\n  </tbody>\n</table>\n<p>83 rows × 6 columns</p>\n</div>"
     },
     "execution_count": 90,
     "metadata": {},
     "output_type": "execute_result"
    }
   ],
   "source": [
    "df[df.country==\"United States of America\"].groupby(\"commodity\").nunique()"
   ],
   "metadata": {
    "collapsed": false,
    "pycharm": {
     "name": "#%%\n"
    }
   }
  },
  {
   "cell_type": "code",
   "execution_count": 91,
   "outputs": [],
   "source": [
    "def plot_country_comm(country):\n",
    "    commodities=df[df.country==country].commodity.unique()\n",
    "    df_country=df[df.country==country]\n",
    "    fig = make_subplots(rows=commodities.shape[0], cols=1,subplot_titles=commodities)\n",
    "\n",
    "    for i in range(commodities.shape[0]):\n",
    "        df_country_temp=df_country[df_country.commodity==commodities[i]].groupby(\"year\").sum()\n",
    "        fig.append_trace(go.Scatter(x=df_country_temp.index,y=df_country_temp[\"loss_percentage\"], dtick=1,), row=i+1, col=1)\n",
    "    fig.update_layout(height=6000, width=1200 ,title_text=\"Stacked Subplots\")\n",
    "    fig.show()\n",
    "# , title=f'{country}-{commodities[i]} Food Loss Sum'"
   ],
   "metadata": {
    "collapsed": false,
    "pycharm": {
     "name": "#%%\n"
    }
   }
  },
  {
   "cell_type": "code",
   "execution_count": 91,
   "outputs": [],
   "source": [],
   "metadata": {
    "collapsed": false,
    "pycharm": {
     "name": "#%%\n"
    }
   }
  },
  {
   "cell_type": "code",
   "execution_count": 91,
   "outputs": [],
   "source": [],
   "metadata": {
    "collapsed": false,
    "pycharm": {
     "name": "#%%\n"
    }
   }
  },
  {
   "cell_type": "markdown",
   "source": [
    "Another dataset on crop production\n",
    "\n",
    "https://data.world/oecd/crop-production"
   ],
   "metadata": {
    "collapsed": false,
    "pycharm": {
     "name": "#%% md\n"
    }
   }
  },
  {
   "cell_type": "code",
   "execution_count": 92,
   "outputs": [],
   "source": [
    "df2=pd.read_csv(\"./Data/crop_production.csv\")"
   ],
   "metadata": {
    "collapsed": false,
    "pycharm": {
     "name": "#%%\n"
    }
   }
  },
  {
   "cell_type": "code",
   "execution_count": 93,
   "outputs": [],
   "source": [
    "df2=df2[[\"LOCATION\",\"SUBJECT\",\"MEASURE\",\"TIME\",\"Value\"]]"
   ],
   "metadata": {
    "collapsed": false,
    "pycharm": {
     "name": "#%%\n"
    }
   }
  },
  {
   "cell_type": "code",
   "execution_count": 94,
   "outputs": [
    {
     "data": {
      "text/plain": "      LOCATION  SUBJECT   MEASURE  TIME         Value\n0          AUS     RICE  TONNE_HA  1990      8.314607\n1          AUS     RICE  TONNE_HA  1991      8.394737\n2          AUS     RICE  TONNE_HA  1992      8.094340\n3          AUS     RICE  TONNE_HA  1993      8.336000\n4          AUS     RICE  TONNE_HA  1994      8.537815\n...        ...      ...       ...   ...           ...\n20561     OECD  SOYBEAN   THND_HA  2021  37010.208830\n20562     OECD  SOYBEAN   THND_HA  2022  37069.214850\n20563     OECD  SOYBEAN   THND_HA  2023  37143.459750\n20564     OECD  SOYBEAN   THND_HA  2024  37013.651900\n20565     OECD  SOYBEAN   THND_HA  2025  37041.401580\n\n[20566 rows x 5 columns]",
      "text/html": "<div>\n<style scoped>\n    .dataframe tbody tr th:only-of-type {\n        vertical-align: middle;\n    }\n\n    .dataframe tbody tr th {\n        vertical-align: top;\n    }\n\n    .dataframe thead th {\n        text-align: right;\n    }\n</style>\n<table border=\"1\" class=\"dataframe\">\n  <thead>\n    <tr style=\"text-align: right;\">\n      <th></th>\n      <th>LOCATION</th>\n      <th>SUBJECT</th>\n      <th>MEASURE</th>\n      <th>TIME</th>\n      <th>Value</th>\n    </tr>\n  </thead>\n  <tbody>\n    <tr>\n      <th>0</th>\n      <td>AUS</td>\n      <td>RICE</td>\n      <td>TONNE_HA</td>\n      <td>1990</td>\n      <td>8.314607</td>\n    </tr>\n    <tr>\n      <th>1</th>\n      <td>AUS</td>\n      <td>RICE</td>\n      <td>TONNE_HA</td>\n      <td>1991</td>\n      <td>8.394737</td>\n    </tr>\n    <tr>\n      <th>2</th>\n      <td>AUS</td>\n      <td>RICE</td>\n      <td>TONNE_HA</td>\n      <td>1992</td>\n      <td>8.094340</td>\n    </tr>\n    <tr>\n      <th>3</th>\n      <td>AUS</td>\n      <td>RICE</td>\n      <td>TONNE_HA</td>\n      <td>1993</td>\n      <td>8.336000</td>\n    </tr>\n    <tr>\n      <th>4</th>\n      <td>AUS</td>\n      <td>RICE</td>\n      <td>TONNE_HA</td>\n      <td>1994</td>\n      <td>8.537815</td>\n    </tr>\n    <tr>\n      <th>...</th>\n      <td>...</td>\n      <td>...</td>\n      <td>...</td>\n      <td>...</td>\n      <td>...</td>\n    </tr>\n    <tr>\n      <th>20561</th>\n      <td>OECD</td>\n      <td>SOYBEAN</td>\n      <td>THND_HA</td>\n      <td>2021</td>\n      <td>37010.208830</td>\n    </tr>\n    <tr>\n      <th>20562</th>\n      <td>OECD</td>\n      <td>SOYBEAN</td>\n      <td>THND_HA</td>\n      <td>2022</td>\n      <td>37069.214850</td>\n    </tr>\n    <tr>\n      <th>20563</th>\n      <td>OECD</td>\n      <td>SOYBEAN</td>\n      <td>THND_HA</td>\n      <td>2023</td>\n      <td>37143.459750</td>\n    </tr>\n    <tr>\n      <th>20564</th>\n      <td>OECD</td>\n      <td>SOYBEAN</td>\n      <td>THND_HA</td>\n      <td>2024</td>\n      <td>37013.651900</td>\n    </tr>\n    <tr>\n      <th>20565</th>\n      <td>OECD</td>\n      <td>SOYBEAN</td>\n      <td>THND_HA</td>\n      <td>2025</td>\n      <td>37041.401580</td>\n    </tr>\n  </tbody>\n</table>\n<p>20566 rows × 5 columns</p>\n</div>"
     },
     "execution_count": 94,
     "metadata": {},
     "output_type": "execute_result"
    }
   ],
   "source": [
    "df2"
   ],
   "metadata": {
    "collapsed": false,
    "pycharm": {
     "name": "#%%\n"
    }
   }
  },
  {
   "cell_type": "markdown",
   "source": [
    "https://data.world/afdb/f7407ca4-dd8a-44c1-87d1-40f01fb009d1"
   ],
   "metadata": {
    "collapsed": false,
    "pycharm": {
     "name": "#%% md\n"
    }
   }
  },
  {
   "cell_type": "code",
   "execution_count": 95,
   "outputs": [
    {
     "data": {
      "text/plain": "              Region                                       Indicator  Units  \\\n0        East Africa  Agricultural value added growth rate, annual %    NaN   \n1        East Africa  Agricultural value added growth rate, annual %    NaN   \n2        East Africa  Agricultural value added growth rate, annual %    NaN   \n3        East Africa  Agricultural value added growth rate, annual %    NaN   \n4        East Africa  Agricultural value added growth rate, annual %    NaN   \n...              ...                                             ...    ...   \n1232275     Ethiopia               Animal Fats -41 + (Total), tonnes    NaN   \n1232276     Ethiopia               Animal Fats -41 + (Total), tonnes    NaN   \n1232277     Ethiopia               Animal Fats -41 + (Total), tonnes    NaN   \n1232278     Ethiopia               Animal Fats -41 + (Total), tonnes    NaN   \n1232279     Ethiopia               Animal Fats -41 + (Total), tonnes    NaN   \n\n        Frequency        Date     Value  \n0               A  1981-01-01  6.519751  \n1               A  1982-01-01  4.030124  \n2               A  1983-01-01  4.386776  \n3               A  1984-01-01 -3.211779  \n4               A  1985-01-01 -1.051170  \n...           ...         ...       ...  \n1232275         A  2005-01-01  1.000000  \n1232276         A  2006-01-01  0.000000  \n1232277         A  2007-01-01  4.000000  \n1232278         A  2008-01-01  1.000000  \n1232279         A  2009-01-01  2.000000  \n\n[1232280 rows x 6 columns]",
      "text/html": "<div>\n<style scoped>\n    .dataframe tbody tr th:only-of-type {\n        vertical-align: middle;\n    }\n\n    .dataframe tbody tr th {\n        vertical-align: top;\n    }\n\n    .dataframe thead th {\n        text-align: right;\n    }\n</style>\n<table border=\"1\" class=\"dataframe\">\n  <thead>\n    <tr style=\"text-align: right;\">\n      <th></th>\n      <th>Region</th>\n      <th>Indicator</th>\n      <th>Units</th>\n      <th>Frequency</th>\n      <th>Date</th>\n      <th>Value</th>\n    </tr>\n  </thead>\n  <tbody>\n    <tr>\n      <th>0</th>\n      <td>East Africa</td>\n      <td>Agricultural value added growth rate, annual %</td>\n      <td>NaN</td>\n      <td>A</td>\n      <td>1981-01-01</td>\n      <td>6.519751</td>\n    </tr>\n    <tr>\n      <th>1</th>\n      <td>East Africa</td>\n      <td>Agricultural value added growth rate, annual %</td>\n      <td>NaN</td>\n      <td>A</td>\n      <td>1982-01-01</td>\n      <td>4.030124</td>\n    </tr>\n    <tr>\n      <th>2</th>\n      <td>East Africa</td>\n      <td>Agricultural value added growth rate, annual %</td>\n      <td>NaN</td>\n      <td>A</td>\n      <td>1983-01-01</td>\n      <td>4.386776</td>\n    </tr>\n    <tr>\n      <th>3</th>\n      <td>East Africa</td>\n      <td>Agricultural value added growth rate, annual %</td>\n      <td>NaN</td>\n      <td>A</td>\n      <td>1984-01-01</td>\n      <td>-3.211779</td>\n    </tr>\n    <tr>\n      <th>4</th>\n      <td>East Africa</td>\n      <td>Agricultural value added growth rate, annual %</td>\n      <td>NaN</td>\n      <td>A</td>\n      <td>1985-01-01</td>\n      <td>-1.051170</td>\n    </tr>\n    <tr>\n      <th>...</th>\n      <td>...</td>\n      <td>...</td>\n      <td>...</td>\n      <td>...</td>\n      <td>...</td>\n      <td>...</td>\n    </tr>\n    <tr>\n      <th>1232275</th>\n      <td>Ethiopia</td>\n      <td>Animal Fats -41 + (Total), tonnes</td>\n      <td>NaN</td>\n      <td>A</td>\n      <td>2005-01-01</td>\n      <td>1.000000</td>\n    </tr>\n    <tr>\n      <th>1232276</th>\n      <td>Ethiopia</td>\n      <td>Animal Fats -41 + (Total), tonnes</td>\n      <td>NaN</td>\n      <td>A</td>\n      <td>2006-01-01</td>\n      <td>0.000000</td>\n    </tr>\n    <tr>\n      <th>1232277</th>\n      <td>Ethiopia</td>\n      <td>Animal Fats -41 + (Total), tonnes</td>\n      <td>NaN</td>\n      <td>A</td>\n      <td>2007-01-01</td>\n      <td>4.000000</td>\n    </tr>\n    <tr>\n      <th>1232278</th>\n      <td>Ethiopia</td>\n      <td>Animal Fats -41 + (Total), tonnes</td>\n      <td>NaN</td>\n      <td>A</td>\n      <td>2008-01-01</td>\n      <td>1.000000</td>\n    </tr>\n    <tr>\n      <th>1232279</th>\n      <td>Ethiopia</td>\n      <td>Animal Fats -41 + (Total), tonnes</td>\n      <td>NaN</td>\n      <td>A</td>\n      <td>2009-01-01</td>\n      <td>2.000000</td>\n    </tr>\n  </tbody>\n</table>\n<p>1232280 rows × 6 columns</p>\n</div>"
     },
     "execution_count": 95,
     "metadata": {},
     "output_type": "execute_result"
    }
   ],
   "source": [
    "df4=pd.read_csv(\"./Data/AfricanDevelopmentBank.csv\")\n",
    "df4"
   ],
   "metadata": {
    "collapsed": false,
    "pycharm": {
     "name": "#%%\n"
    }
   }
  },
  {
   "cell_type": "markdown",
   "source": [
    "# https://machinelearningmastery.com/time-series-prediction-lstm-recurrent-neural-networks-python-keras/"
   ],
   "metadata": {
    "collapsed": false,
    "pycharm": {
     "name": "#%% md\n"
    }
   }
  },
  {
   "cell_type": "code",
   "execution_count": 96,
   "outputs": [],
   "source": [
    "import numpy\n",
    "import matplotlib.pyplot as plt\n",
    "import pandas\n",
    "import math\n",
    "from keras.models import Sequential\n",
    "from keras.layers import Dense\n",
    "from keras.layers import LSTM\n",
    "from sklearn.preprocessing import MinMaxScaler\n",
    "from sklearn.metrics import mean_squared_error"
   ],
   "metadata": {
    "collapsed": false,
    "pycharm": {
     "name": "#%%\n"
    }
   }
  },
  {
   "cell_type": "code",
   "execution_count": 97,
   "outputs": [],
   "source": [
    "df3=pd.read_excel(\"./Data/AUK-Chapter5-22jul21.ods\", engine=\"odf\",header=7)\n",
    "df3.index=df3[\"Unnamed: 0\"]\n",
    "df3.drop([\"Unnamed: 0\"],axis=1,inplace=True)\n",
    "df3=df3.T"
   ],
   "metadata": {
    "collapsed": false,
    "pycharm": {
     "name": "#%%\n"
    }
   }
  },
  {
   "cell_type": "code",
   "execution_count": 98,
   "outputs": [
    {
     "data": {
      "text/plain": "Unnamed: 0  1 Output of cereals       wheat   rye       barley  \\\n1973                  48.106287   31.229104   50.0  102.098739   \n1974                  51.231097   34.683665   40.0  105.151797   \n1975                  46.596368   30.610811   40.0   98.879973   \n1976                  43.044288   28.898135   45.0   88.526520   \n1977                  52.925121   31.171291   65.0  121.443150   \n1978                  57.293543   36.854712   80.0  123.198005   \n1979                  59.273864   42.696057   70.0  114.507393   \n1980                  69.997314   52.326201   70.0  128.001632   \n1981                  73.734927   52.891686   70.0  142.484388   \n1982                  84.402605   64.473948   70.0  151.623423   \n1983                  78.883947   63.024598   70.0  133.961120   \n1984                 102.225746   88.763370   70.0  153.809263   \n1985                  90.870606   78.044953   70.0  137.636069   \n1986                  92.499201   82.833560   70.0  131.224864   \n1987                  80.043616   72.442544   85.0  110.289971   \n1988                  81.020431   71.622855   75.0  114.711676   \n1989                  90.941937   85.939482   90.0  115.495089   \n1990                  84.964590   85.324526   95.0   92.953390   \n1991                  84.814972   90.558619   95.0   78.550114   \n1992                  85.086045   85.609834  120.0   93.186417   \n1993                  75.825530   79.026406  115.0   74.688324   \n1994                  77.999818   81.771451  130.0   74.195155   \n1995                  87.993876   89.511416  140.0   90.888461   \n1996                  98.401440   99.990348  145.0  102.968969   \n1997                  90.546611   90.769722  145.0   97.596040   \n1998                  86.952405   92.822606  115.0   77.943722   \n1999                  85.182946   90.199193  115.0   79.501221   \n2000                  94.678734  103.851256  110.0   77.025132   \n2001                  72.872358   71.830897  115.0   80.347919   \n2002                  90.268717   99.461756  100.0   68.905710   \n2003                  82.962100   86.803199   95.0   76.055058   \n2004                  84.279581   91.751680   95.0   69.018442   \n2005                  80.003029   88.248781   95.0   62.932651   \n2006                  79.702228   87.980628   95.0   59.451658   \n2007                  73.879541   79.171577   95.0   60.992911   \n2008                  96.629009  103.761002   95.0   80.457078   \n2009                  84.779019   85.368480   95.0   85.758809   \n2010                  82.801208   91.238033  110.0   60.751221   \n2011                  86.976347   95.087615  110.0   67.261240   \n2012                  76.703606   80.510177   75.0   67.586634   \n2013                  76.578217   69.287506  100.0   93.585215   \n2014                  98.315500  100.064983  100.0   93.170471   \n2015                 100.000000  100.000000  100.0  100.000000   \n2016                  88.497335   88.296769  100.0   87.613818   \n2017                  90.325357   88.929646   85.0   92.292718   \n2018                  80.768063   79.346690  100.0   81.143711   \n2019                  98.662454   95.965070  100.0  106.235012   \n2020                  72.728000   60.138003  100.0  103.444061   \n\nUnnamed: 0  oats and summer cereal mixtures  other cereals  \\\n1973                              51.063694      81.405250   \n1974                              44.779524      81.405250   \n1975                              32.006264      81.405250   \n1976                              42.481665      81.405250   \n1977                              52.725322      81.405250   \n1978                              41.036431      81.405250   \n1979                              27.097200      81.405250   \n1980                              46.610753      81.405250   \n1981                              41.866878      81.405250   \n1982                              43.985931      81.405250   \n1983                              37.159195      81.405250   \n1984                              43.311344      81.405250   \n1985                              52.840749      81.405250   \n1986                              42.377038      81.405250   \n1987                              45.175747      81.405250   \n1988                              62.459348      81.405250   \n1989                              49.514159      81.405250   \n1990                              57.762147     117.631621   \n1991                              49.859434      77.009653   \n1992                              58.665606      72.223532   \n1993                              54.344291      66.545672   \n1994                              67.715244      61.804123   \n1995                              75.972279      74.432954   \n1996                              74.547778      59.186277   \n1997                              74.723268      55.567563   \n1998                              70.564458      45.823953   \n1999                              56.585827      71.025897   \n2000                              77.172912      86.251397   \n2001                              72.486566      64.269877   \n2002                              95.929017      94.615195   \n2003                              92.094858      92.979669   \n2004                              71.053836      89.519501   \n2005                              59.548972      90.554336   \n2006                              89.182299      90.549173   \n2007                              86.215478      76.127248   \n2008                             100.049707      86.853362   \n2009                              91.855079     134.621142   \n2010                              83.672171     112.036936   \n2011                              77.088425     111.497806   \n2012                              78.074952     104.521366   \n2013                             125.959925     118.769355   \n2014                              95.750738     117.764121   \n2015                             100.000000     100.000000   \n2016                             101.700441      87.149044   \n2017                             109.869188     106.438595   \n2018                             115.143631     135.583822   \n2019                             100.083170     155.911902   \n2020                             151.350356     150.537813   \n\nUnnamed: 0  2 Output of industrial crops  oil seeds   oilseed rape  \\\n1973                           29.145632    1.263970      1.217178   \n1974                           22.492126    2.160982      2.080982   \n1975                           23.632189    2.731807      2.630675   \n1976                           27.450802    4.525830      4.358282   \n1977                           29.302547    5.789800      5.575460   \n1978                           32.099881    6.279079      6.046626   \n1979                           35.754862    8.073101      7.774233   \n1980                           35.880898   12.231972     11.779141   \n1981                           37.637417   13.860775     13.349694   \n1982                           50.322221   23.632812     22.773007   \n1983                           43.694760   22.900255     22.066258   \n1984                           59.099324   37.646561     36.283682   \n1985                           55.761857   36.633905     35.207853   \n1986                           61.485801   39.660229     37.920982   \n1987                           71.240085   54.161721     51.939338   \n1988                           71.775885   42.720433     40.563843   \n1989                           65.233029   39.393036     37.142683   \n1990                           60.204858   30.795851     28.439363   \n1991                           76.634784   55.613062     50.386100   \n1992                           80.591014   54.011272     47.631751   \n1993                           79.122177   45.842551     40.390434   \n1994                           73.497377   47.155146     44.381188   \n1995                           69.784934   46.256474     43.839810   \n1996                           81.678850   53.136746     50.546189   \n1997                           88.585663   58.166850     54.967419   \n1998                           85.184276   60.864054     56.512342   \n1999                           92.196805   69.776414     60.536067   \n2000                           72.602899   41.779922     40.684206   \n2001                           72.158523   41.893882     40.958416   \n2002                           80.673695   51.788014     51.761575   \n2003                           86.770064   64.056259     62.582101   \n2004                           82.782245   58.460329     57.136724   \n2005                           88.210190   70.097868     67.349731   \n2006                           80.128582   68.194315     67.048344   \n2007                           78.705467   74.696713     74.736725   \n2008                           85.798692   77.946715     77.615988   \n2009                           90.895412   78.186762     76.719519   \n2010                           91.343760   89.840046     87.716366   \n2011                          108.023876  110.424806    108.489763   \n2012                           96.683216  101.429234    100.558095   \n2013                           90.081654   85.567013     83.704258   \n2014                          101.897771   97.299072     96.740237   \n2015                          100.000000  100.000000    100.000000   \n2016                           76.745048   70.044003     69.803130   \n2017                           96.748305   86.161304     85.218753   \n2018                           83.543545   79.867954     79.141826   \n2019                           79.597133   68.992365     68.903025   \n2020                           56.979598   42.584428     40.815669   \n\nUnnamed: 0  other oil seeds  ...  25 All Inputs and Entrepreneurial Labour  \\\n1973               3.850554  ...                                114.477199   \n1974               3.850554  ...                                111.070885   \n1975               3.850554  ...                                110.752718   \n1976               3.850554  ...                                112.498812   \n1977               3.850554  ...                                112.102679   \n1978               3.850554  ...                                112.671105   \n1979               3.850554  ...                                115.003913   \n1980               3.850554  ...                                112.913247   \n1981               3.850554  ...                                110.907279   \n1982               4.900705  ...                                115.149796   \n1983               4.900705  ...                                116.661982   \n1984               6.650957  ...                                115.345531   \n1985              19.602821  ...                                116.086863   \n1986              46.206649  ...                                116.674291   \n1987              38.505541  ...                                116.455449   \n1988              92.063248  ...                                116.990532   \n1989             120.417329  ...                                115.152997   \n1990             196.321762  ...                                113.965033   \n1991             569.145930  ...                                113.209244   \n1992             788.904439  ...                                112.249822   \n1993             674.696346  ...                                112.162901   \n1994             327.410107  ...                                113.149802   \n1995             282.313421  ...                                114.585166   \n1996             302.800165  ...                                114.399553   \n1997             371.780953  ...                                113.110320   \n1998             501.265855  ...                                110.212680   \n1999            1058.290295  ...                                107.256603   \n2000             149.402790  ...                                101.753674   \n2001             133.040232  ...                                 99.889983   \n2002              56.830224  ...                                 97.682000   \n2003             204.773561  ...                                 96.539975   \n2004             184.892094  ...                                 96.968237   \n2005             312.897139  ...                                 95.267891   \n2006             176.324748  ...                                 93.608497   \n2007              68.758464  ...                                 94.255214   \n2008             103.730654  ...                                 94.536585   \n2009             189.639606  ...                                 95.005119   \n2010             251.666336  ...                                 96.648565   \n2011             248.827533  ...                                 96.503983   \n2012             146.076021  ...                                 96.573914   \n2013             217.488398  ...                                 98.001938   \n2014             137.421831  ...                                 98.947508   \n2015             100.000000  ...                                100.000000   \n2016              91.139668  ...                                100.371300   \n2017             174.629280  ...                                100.823228   \n2018             149.007168  ...                                 99.499222   \n2019              87.078951  ...                                100.493603   \n2020             187.655758  ...                                100.967574   \n\nUnnamed: 0  Total factor productivity (11 divided by 25)  \\\n1973                                           63.853880   \n1974                                           67.857756   \n1975                                           65.428754   \n1976                                           62.723547   \n1977                                           67.150372   \n1978                                           69.806232   \n1979                                           69.990786   \n1980                                           73.241031   \n1981                                           74.538845   \n1982                                           76.319908   \n1983                                           74.502027   \n1984                                           81.470007   \n1985                                           78.407924   \n1986                                           78.731229   \n1987                                           77.762799   \n1988                                           77.439449   \n1989                                           79.871339   \n1990                                           80.340469   \n1991                                           82.478290   \n1992                                           83.436156   \n1993                                           81.433767   \n1994                                           82.152539   \n1995                                           81.236714   \n1996                                           80.604896   \n1997                                           81.772574   \n1998                                           83.784666   \n1999                                           87.315001   \n2000                                           89.026668   \n2001                                           87.322957   \n2002                                           92.508297   \n2003                                           92.676744   \n2004                                           92.993420   \n2005                                           95.804877   \n2006                                           94.525657   \n2007                                           93.101988   \n2008                                           96.959148   \n2009                                           94.285272   \n2010                                           93.909856   \n2011                                           98.310294   \n2012                                           93.137958   \n2013                                           93.455452   \n2014                                           99.132781   \n2015                                          100.000000   \n2016                                           96.930504   \n2017                                          100.328916   \n2018                                           99.376080   \n2019                                          102.196840   \n2020                                           95.332632   \n\nUnnamed: 0  Partial factor productivity indicators  \\\n1973                                           NaN   \n1974                                           NaN   \n1975                                           NaN   \n1976                                           NaN   \n1977                                           NaN   \n1978                                           NaN   \n1979                                           NaN   \n1980                                           NaN   \n1981                                           NaN   \n1982                                           NaN   \n1983                                           NaN   \n1984                                           NaN   \n1985                                           NaN   \n1986                                           NaN   \n1987                                           NaN   \n1988                                           NaN   \n1989                                           NaN   \n1990                                           NaN   \n1991                                           NaN   \n1992                                           NaN   \n1993                                           NaN   \n1994                                           NaN   \n1995                                           NaN   \n1996                                           NaN   \n1997                                           NaN   \n1998                                           NaN   \n1999                                           NaN   \n2000                                           NaN   \n2001                                           NaN   \n2002                                           NaN   \n2003                                           NaN   \n2004                                           NaN   \n2005                                           NaN   \n2006                                           NaN   \n2007                                           NaN   \n2008                                           NaN   \n2009                                           NaN   \n2010                                           NaN   \n2011                                           NaN   \n2012                                           NaN   \n2013                                           NaN   \n2014                                           NaN   \n2015                                           NaN   \n2016                                           NaN   \n2017                                           NaN   \n2018                                           NaN   \n2019                                           NaN   \n2020                                           NaN   \n\nUnnamed: 0  Productivity by intermediate consumption (11 divided by 21)  \\\n1973                                                79.165130             \n1974                                                85.401381             \n1975                                                82.051190             \n1976                                                77.357667             \n1977                                                82.546018             \n1978                                                85.296796             \n1979                                                83.846194             \n1980                                                87.933104             \n1981                                                89.807832             \n1982                                                89.109350             \n1983                                                85.992378             \n1984                                                94.576482             \n1985                                                90.294046             \n1986                                                89.628315             \n1987                                                87.891603             \n1988                                                86.127302             \n1989                                                88.928263             \n1990                                                89.073962             \n1991                                                90.926513             \n1992                                                91.654645             \n1993                                                88.591091             \n1994                                                87.784918             \n1995                                                84.911436             \n1996                                                83.805288             \n1997                                                85.094798             \n1998                                                87.898524             \n1999                                                91.601838             \n2000                                                95.377687             \n2001                                                93.250026             \n2002                                                98.872713             \n2003                                                97.914271             \n2004                                                96.505943             \n2005                                               100.365584             \n2006                                                99.993270             \n2007                                                97.092506             \n2008                                               100.680956             \n2009                                                96.892171             \n2010                                                94.570489             \n2011                                               100.328918             \n2012                                                95.337357             \n2013                                                94.494077             \n2014                                                99.733984             \n2015                                               100.000000             \n2016                                                96.463101             \n2017                                               100.368103             \n2018                                               101.184554             \n2019                                               103.580507             \n2020                                                96.009517             \n\nUnnamed: 0  Productivity by capital consumption (11 divided by 22)  \\\n1973                                                85.726977        \n1974                                                86.100980        \n1975                                                81.623477        \n1976                                                78.456148        \n1977                                                82.497218        \n1978                                                84.872998        \n1979                                                85.687780        \n1980                                                87.514088        \n1981                                                87.170204        \n1982                                                91.964715        \n1983                                                89.653335        \n1984                                                95.107100        \n1985                                                90.574940        \n1986                                                90.819347        \n1987                                                89.316532        \n1988                                                89.383326        \n1989                                                90.633293        \n1990                                                90.493837        \n1991                                                92.731254        \n1992                                                93.641957        \n1993                                                91.556435        \n1994                                                92.624807        \n1995                                                92.000367        \n1996                                                90.114281        \n1997                                                90.196884        \n1998                                                90.866043        \n1999                                                93.309758        \n2000                                                91.853803        \n2001                                                90.080217        \n2002                                                94.838616        \n2003                                                95.385357        \n2004                                                97.018817        \n2005                                                99.114455        \n2006                                                97.095401        \n2007                                                96.592750        \n2008                                               100.172023        \n2009                                                96.912545        \n2010                                                98.785044        \n2011                                               101.012810        \n2012                                                94.151224        \n2013                                                94.168941        \n2014                                                99.507588        \n2015                                               100.000000        \n2016                                                96.665945        \n2017                                                98.850892        \n2018                                                95.458943        \n2019                                                98.137509        \n2020                                                91.884188        \n\nUnnamed: 0  Productivity by labour (11 divided by 23)  \\\n1973                                        37.212014   \n1974                                        39.041316   \n1975                                        38.190795   \n1976                                        37.926773   \n1977                                        41.188842   \n1978                                        43.555025   \n1979                                        45.367391   \n1980                                        47.770544   \n1981                                        48.743542   \n1982                                        52.498739   \n1983                                        52.487323   \n1984                                        57.429695   \n1985                                        56.320151   \n1986                                        57.796205   \n1987                                        58.097193   \n1988                                        59.446891   \n1989                                        61.675460   \n1990                                        62.762815   \n1991                                        65.158271   \n1992                                        66.433732   \n1993                                        65.891207   \n1994                                        68.374395   \n1995                                        69.990939   \n1996                                        70.490286   \n1997                                        71.846631   \n1998                                        73.466014   \n1999                                        77.386094   \n2000                                        78.055116   \n2001                                        77.483862   \n2002                                        82.590489   \n2003                                        84.222980   \n2004                                        86.241859   \n2005                                        88.281123   \n2006                                        86.832639   \n2007                                        86.723379   \n2008                                        90.991646   \n2009                                        90.246956   \n2010                                        91.863241   \n2011                                        94.542502   \n2012                                        89.601044   \n2013                                        91.959561   \n2014                                        98.345190   \n2015                                       100.000000   \n2016                                        98.118729   \n2017                                       101.149767   \n2018                                        98.172286   \n2019                                       101.816148   \n2020                                        95.464810   \n\nUnnamed: 0  Productivity by land (11 divided by 24)  NaN  NaN  \\\n1973                                      70.798868  NaN  NaN   \n1974                                      71.323090  NaN  NaN   \n1975                                      68.727430  NaN  NaN   \n1976                                      66.955035  NaN  NaN   \n1977                                      71.755549  NaN  NaN   \n1978                                      74.993021  NaN  NaN   \n1979                                      76.794093  NaN  NaN   \n1980                                      79.205973  NaN  NaN   \n1981                                      79.359777  NaN  NaN   \n1982                                      84.514513  NaN  NaN   \n1983                                      83.496368  NaN  NaN   \n1984                                      90.263604  NaN  NaN   \n1985                                      87.584104  NaN  NaN   \n1986                                      88.577283  NaN  NaN   \n1987                                      86.042181  NaN  NaN   \n1988                                      86.195986  NaN  NaN   \n1989                                      88.065563  NaN  NaN   \n1990                                      87.805005  NaN  NaN   \n1991                                      89.732957  NaN  NaN   \n1992                                      90.044080  NaN  NaN   \n1993                                      87.913801  NaN  NaN   \n1994                                      89.831620  NaN  NaN   \n1995                                      90.582509  NaN  NaN   \n1996                                      89.798362  NaN  NaN   \n1997                                      90.619879  NaN  NaN   \n1998                                      90.772182  NaN  NaN   \n1999                                      92.270967  NaN  NaN   \n2000                                      90.566344  NaN  NaN   \n2001                                      86.110475  NaN  NaN   \n2002                                      89.480104  NaN  NaN   \n2003                                      88.881568  NaN  NaN   \n2004                                      89.773663  NaN  NaN   \n2005                                      90.826270  NaN  NaN   \n2006                                      86.660524  NaN  NaN   \n2007                                      86.718701  NaN  NaN   \n2008                                      90.753366  NaN  NaN   \n2009                                      88.658383  NaN  NaN   \n2010                                      90.304847  NaN  NaN   \n2011                                      94.735052  NaN  NaN   \n2012                                      89.725572  NaN  NaN   \n2013                                      90.994398  NaN  NaN   \n2014                                      97.559822  NaN  NaN   \n2015                                     100.000000  NaN  NaN   \n2016                                      96.096242  NaN  NaN   \n2017                                      99.250193  NaN  NaN   \n2018                                      97.660090  NaN  NaN   \n2019                                     100.449810  NaN  NaN   \n2020                                      95.575783  NaN  NaN   \n\nUnnamed: 0  © Crown copyright, 2021  \n1973                            NaN  \n1974                            NaN  \n1975                            NaN  \n1976                            NaN  \n1977                            NaN  \n1978                            NaN  \n1979                            NaN  \n1980                            NaN  \n1981                            NaN  \n1982                            NaN  \n1983                            NaN  \n1984                            NaN  \n1985                            NaN  \n1986                            NaN  \n1987                            NaN  \n1988                            NaN  \n1989                            NaN  \n1990                            NaN  \n1991                            NaN  \n1992                            NaN  \n1993                            NaN  \n1994                            NaN  \n1995                            NaN  \n1996                            NaN  \n1997                            NaN  \n1998                            NaN  \n1999                            NaN  \n2000                            NaN  \n2001                            NaN  \n2002                            NaN  \n2003                            NaN  \n2004                            NaN  \n2005                            NaN  \n2006                            NaN  \n2007                            NaN  \n2008                            NaN  \n2009                            NaN  \n2010                            NaN  \n2011                            NaN  \n2012                            NaN  \n2013                            NaN  \n2014                            NaN  \n2015                            NaN  \n2016                            NaN  \n2017                            NaN  \n2018                            NaN  \n2019                            NaN  \n2020                            NaN  \n\n[48 rows x 72 columns]",
      "text/html": "<div>\n<style scoped>\n    .dataframe tbody tr th:only-of-type {\n        vertical-align: middle;\n    }\n\n    .dataframe tbody tr th {\n        vertical-align: top;\n    }\n\n    .dataframe thead th {\n        text-align: right;\n    }\n</style>\n<table border=\"1\" class=\"dataframe\">\n  <thead>\n    <tr style=\"text-align: right;\">\n      <th>Unnamed: 0</th>\n      <th>1 Output of cereals</th>\n      <th>wheat</th>\n      <th>rye</th>\n      <th>barley</th>\n      <th>oats and summer cereal mixtures</th>\n      <th>other cereals</th>\n      <th>2 Output of industrial crops</th>\n      <th>oil seeds</th>\n      <th>oilseed rape</th>\n      <th>other oil seeds</th>\n      <th>...</th>\n      <th>25 All Inputs and Entrepreneurial Labour</th>\n      <th>Total factor productivity (11 divided by 25)</th>\n      <th>Partial factor productivity indicators</th>\n      <th>Productivity by intermediate consumption (11 divided by 21)</th>\n      <th>Productivity by capital consumption (11 divided by 22)</th>\n      <th>Productivity by labour (11 divided by 23)</th>\n      <th>Productivity by land (11 divided by 24)</th>\n      <th>NaN</th>\n      <th>NaN</th>\n      <th>© Crown copyright, 2021</th>\n    </tr>\n  </thead>\n  <tbody>\n    <tr>\n      <th>1973</th>\n      <td>48.106287</td>\n      <td>31.229104</td>\n      <td>50.0</td>\n      <td>102.098739</td>\n      <td>51.063694</td>\n      <td>81.405250</td>\n      <td>29.145632</td>\n      <td>1.263970</td>\n      <td>1.217178</td>\n      <td>3.850554</td>\n      <td>...</td>\n      <td>114.477199</td>\n      <td>63.853880</td>\n      <td>NaN</td>\n      <td>79.165130</td>\n      <td>85.726977</td>\n      <td>37.212014</td>\n      <td>70.798868</td>\n      <td>NaN</td>\n      <td>NaN</td>\n      <td>NaN</td>\n    </tr>\n    <tr>\n      <th>1974</th>\n      <td>51.231097</td>\n      <td>34.683665</td>\n      <td>40.0</td>\n      <td>105.151797</td>\n      <td>44.779524</td>\n      <td>81.405250</td>\n      <td>22.492126</td>\n      <td>2.160982</td>\n      <td>2.080982</td>\n      <td>3.850554</td>\n      <td>...</td>\n      <td>111.070885</td>\n      <td>67.857756</td>\n      <td>NaN</td>\n      <td>85.401381</td>\n      <td>86.100980</td>\n      <td>39.041316</td>\n      <td>71.323090</td>\n      <td>NaN</td>\n      <td>NaN</td>\n      <td>NaN</td>\n    </tr>\n    <tr>\n      <th>1975</th>\n      <td>46.596368</td>\n      <td>30.610811</td>\n      <td>40.0</td>\n      <td>98.879973</td>\n      <td>32.006264</td>\n      <td>81.405250</td>\n      <td>23.632189</td>\n      <td>2.731807</td>\n      <td>2.630675</td>\n      <td>3.850554</td>\n      <td>...</td>\n      <td>110.752718</td>\n      <td>65.428754</td>\n      <td>NaN</td>\n      <td>82.051190</td>\n      <td>81.623477</td>\n      <td>38.190795</td>\n      <td>68.727430</td>\n      <td>NaN</td>\n      <td>NaN</td>\n      <td>NaN</td>\n    </tr>\n    <tr>\n      <th>1976</th>\n      <td>43.044288</td>\n      <td>28.898135</td>\n      <td>45.0</td>\n      <td>88.526520</td>\n      <td>42.481665</td>\n      <td>81.405250</td>\n      <td>27.450802</td>\n      <td>4.525830</td>\n      <td>4.358282</td>\n      <td>3.850554</td>\n      <td>...</td>\n      <td>112.498812</td>\n      <td>62.723547</td>\n      <td>NaN</td>\n      <td>77.357667</td>\n      <td>78.456148</td>\n      <td>37.926773</td>\n      <td>66.955035</td>\n      <td>NaN</td>\n      <td>NaN</td>\n      <td>NaN</td>\n    </tr>\n    <tr>\n      <th>1977</th>\n      <td>52.925121</td>\n      <td>31.171291</td>\n      <td>65.0</td>\n      <td>121.443150</td>\n      <td>52.725322</td>\n      <td>81.405250</td>\n      <td>29.302547</td>\n      <td>5.789800</td>\n      <td>5.575460</td>\n      <td>3.850554</td>\n      <td>...</td>\n      <td>112.102679</td>\n      <td>67.150372</td>\n      <td>NaN</td>\n      <td>82.546018</td>\n      <td>82.497218</td>\n      <td>41.188842</td>\n      <td>71.755549</td>\n      <td>NaN</td>\n      <td>NaN</td>\n      <td>NaN</td>\n    </tr>\n    <tr>\n      <th>1978</th>\n      <td>57.293543</td>\n      <td>36.854712</td>\n      <td>80.0</td>\n      <td>123.198005</td>\n      <td>41.036431</td>\n      <td>81.405250</td>\n      <td>32.099881</td>\n      <td>6.279079</td>\n      <td>6.046626</td>\n      <td>3.850554</td>\n      <td>...</td>\n      <td>112.671105</td>\n      <td>69.806232</td>\n      <td>NaN</td>\n      <td>85.296796</td>\n      <td>84.872998</td>\n      <td>43.555025</td>\n      <td>74.993021</td>\n      <td>NaN</td>\n      <td>NaN</td>\n      <td>NaN</td>\n    </tr>\n    <tr>\n      <th>1979</th>\n      <td>59.273864</td>\n      <td>42.696057</td>\n      <td>70.0</td>\n      <td>114.507393</td>\n      <td>27.097200</td>\n      <td>81.405250</td>\n      <td>35.754862</td>\n      <td>8.073101</td>\n      <td>7.774233</td>\n      <td>3.850554</td>\n      <td>...</td>\n      <td>115.003913</td>\n      <td>69.990786</td>\n      <td>NaN</td>\n      <td>83.846194</td>\n      <td>85.687780</td>\n      <td>45.367391</td>\n      <td>76.794093</td>\n      <td>NaN</td>\n      <td>NaN</td>\n      <td>NaN</td>\n    </tr>\n    <tr>\n      <th>1980</th>\n      <td>69.997314</td>\n      <td>52.326201</td>\n      <td>70.0</td>\n      <td>128.001632</td>\n      <td>46.610753</td>\n      <td>81.405250</td>\n      <td>35.880898</td>\n      <td>12.231972</td>\n      <td>11.779141</td>\n      <td>3.850554</td>\n      <td>...</td>\n      <td>112.913247</td>\n      <td>73.241031</td>\n      <td>NaN</td>\n      <td>87.933104</td>\n      <td>87.514088</td>\n      <td>47.770544</td>\n      <td>79.205973</td>\n      <td>NaN</td>\n      <td>NaN</td>\n      <td>NaN</td>\n    </tr>\n    <tr>\n      <th>1981</th>\n      <td>73.734927</td>\n      <td>52.891686</td>\n      <td>70.0</td>\n      <td>142.484388</td>\n      <td>41.866878</td>\n      <td>81.405250</td>\n      <td>37.637417</td>\n      <td>13.860775</td>\n      <td>13.349694</td>\n      <td>3.850554</td>\n      <td>...</td>\n      <td>110.907279</td>\n      <td>74.538845</td>\n      <td>NaN</td>\n      <td>89.807832</td>\n      <td>87.170204</td>\n      <td>48.743542</td>\n      <td>79.359777</td>\n      <td>NaN</td>\n      <td>NaN</td>\n      <td>NaN</td>\n    </tr>\n    <tr>\n      <th>1982</th>\n      <td>84.402605</td>\n      <td>64.473948</td>\n      <td>70.0</td>\n      <td>151.623423</td>\n      <td>43.985931</td>\n      <td>81.405250</td>\n      <td>50.322221</td>\n      <td>23.632812</td>\n      <td>22.773007</td>\n      <td>4.900705</td>\n      <td>...</td>\n      <td>115.149796</td>\n      <td>76.319908</td>\n      <td>NaN</td>\n      <td>89.109350</td>\n      <td>91.964715</td>\n      <td>52.498739</td>\n      <td>84.514513</td>\n      <td>NaN</td>\n      <td>NaN</td>\n      <td>NaN</td>\n    </tr>\n    <tr>\n      <th>1983</th>\n      <td>78.883947</td>\n      <td>63.024598</td>\n      <td>70.0</td>\n      <td>133.961120</td>\n      <td>37.159195</td>\n      <td>81.405250</td>\n      <td>43.694760</td>\n      <td>22.900255</td>\n      <td>22.066258</td>\n      <td>4.900705</td>\n      <td>...</td>\n      <td>116.661982</td>\n      <td>74.502027</td>\n      <td>NaN</td>\n      <td>85.992378</td>\n      <td>89.653335</td>\n      <td>52.487323</td>\n      <td>83.496368</td>\n      <td>NaN</td>\n      <td>NaN</td>\n      <td>NaN</td>\n    </tr>\n    <tr>\n      <th>1984</th>\n      <td>102.225746</td>\n      <td>88.763370</td>\n      <td>70.0</td>\n      <td>153.809263</td>\n      <td>43.311344</td>\n      <td>81.405250</td>\n      <td>59.099324</td>\n      <td>37.646561</td>\n      <td>36.283682</td>\n      <td>6.650957</td>\n      <td>...</td>\n      <td>115.345531</td>\n      <td>81.470007</td>\n      <td>NaN</td>\n      <td>94.576482</td>\n      <td>95.107100</td>\n      <td>57.429695</td>\n      <td>90.263604</td>\n      <td>NaN</td>\n      <td>NaN</td>\n      <td>NaN</td>\n    </tr>\n    <tr>\n      <th>1985</th>\n      <td>90.870606</td>\n      <td>78.044953</td>\n      <td>70.0</td>\n      <td>137.636069</td>\n      <td>52.840749</td>\n      <td>81.405250</td>\n      <td>55.761857</td>\n      <td>36.633905</td>\n      <td>35.207853</td>\n      <td>19.602821</td>\n      <td>...</td>\n      <td>116.086863</td>\n      <td>78.407924</td>\n      <td>NaN</td>\n      <td>90.294046</td>\n      <td>90.574940</td>\n      <td>56.320151</td>\n      <td>87.584104</td>\n      <td>NaN</td>\n      <td>NaN</td>\n      <td>NaN</td>\n    </tr>\n    <tr>\n      <th>1986</th>\n      <td>92.499201</td>\n      <td>82.833560</td>\n      <td>70.0</td>\n      <td>131.224864</td>\n      <td>42.377038</td>\n      <td>81.405250</td>\n      <td>61.485801</td>\n      <td>39.660229</td>\n      <td>37.920982</td>\n      <td>46.206649</td>\n      <td>...</td>\n      <td>116.674291</td>\n      <td>78.731229</td>\n      <td>NaN</td>\n      <td>89.628315</td>\n      <td>90.819347</td>\n      <td>57.796205</td>\n      <td>88.577283</td>\n      <td>NaN</td>\n      <td>NaN</td>\n      <td>NaN</td>\n    </tr>\n    <tr>\n      <th>1987</th>\n      <td>80.043616</td>\n      <td>72.442544</td>\n      <td>85.0</td>\n      <td>110.289971</td>\n      <td>45.175747</td>\n      <td>81.405250</td>\n      <td>71.240085</td>\n      <td>54.161721</td>\n      <td>51.939338</td>\n      <td>38.505541</td>\n      <td>...</td>\n      <td>116.455449</td>\n      <td>77.762799</td>\n      <td>NaN</td>\n      <td>87.891603</td>\n      <td>89.316532</td>\n      <td>58.097193</td>\n      <td>86.042181</td>\n      <td>NaN</td>\n      <td>NaN</td>\n      <td>NaN</td>\n    </tr>\n    <tr>\n      <th>1988</th>\n      <td>81.020431</td>\n      <td>71.622855</td>\n      <td>75.0</td>\n      <td>114.711676</td>\n      <td>62.459348</td>\n      <td>81.405250</td>\n      <td>71.775885</td>\n      <td>42.720433</td>\n      <td>40.563843</td>\n      <td>92.063248</td>\n      <td>...</td>\n      <td>116.990532</td>\n      <td>77.439449</td>\n      <td>NaN</td>\n      <td>86.127302</td>\n      <td>89.383326</td>\n      <td>59.446891</td>\n      <td>86.195986</td>\n      <td>NaN</td>\n      <td>NaN</td>\n      <td>NaN</td>\n    </tr>\n    <tr>\n      <th>1989</th>\n      <td>90.941937</td>\n      <td>85.939482</td>\n      <td>90.0</td>\n      <td>115.495089</td>\n      <td>49.514159</td>\n      <td>81.405250</td>\n      <td>65.233029</td>\n      <td>39.393036</td>\n      <td>37.142683</td>\n      <td>120.417329</td>\n      <td>...</td>\n      <td>115.152997</td>\n      <td>79.871339</td>\n      <td>NaN</td>\n      <td>88.928263</td>\n      <td>90.633293</td>\n      <td>61.675460</td>\n      <td>88.065563</td>\n      <td>NaN</td>\n      <td>NaN</td>\n      <td>NaN</td>\n    </tr>\n    <tr>\n      <th>1990</th>\n      <td>84.964590</td>\n      <td>85.324526</td>\n      <td>95.0</td>\n      <td>92.953390</td>\n      <td>57.762147</td>\n      <td>117.631621</td>\n      <td>60.204858</td>\n      <td>30.795851</td>\n      <td>28.439363</td>\n      <td>196.321762</td>\n      <td>...</td>\n      <td>113.965033</td>\n      <td>80.340469</td>\n      <td>NaN</td>\n      <td>89.073962</td>\n      <td>90.493837</td>\n      <td>62.762815</td>\n      <td>87.805005</td>\n      <td>NaN</td>\n      <td>NaN</td>\n      <td>NaN</td>\n    </tr>\n    <tr>\n      <th>1991</th>\n      <td>84.814972</td>\n      <td>90.558619</td>\n      <td>95.0</td>\n      <td>78.550114</td>\n      <td>49.859434</td>\n      <td>77.009653</td>\n      <td>76.634784</td>\n      <td>55.613062</td>\n      <td>50.386100</td>\n      <td>569.145930</td>\n      <td>...</td>\n      <td>113.209244</td>\n      <td>82.478290</td>\n      <td>NaN</td>\n      <td>90.926513</td>\n      <td>92.731254</td>\n      <td>65.158271</td>\n      <td>89.732957</td>\n      <td>NaN</td>\n      <td>NaN</td>\n      <td>NaN</td>\n    </tr>\n    <tr>\n      <th>1992</th>\n      <td>85.086045</td>\n      <td>85.609834</td>\n      <td>120.0</td>\n      <td>93.186417</td>\n      <td>58.665606</td>\n      <td>72.223532</td>\n      <td>80.591014</td>\n      <td>54.011272</td>\n      <td>47.631751</td>\n      <td>788.904439</td>\n      <td>...</td>\n      <td>112.249822</td>\n      <td>83.436156</td>\n      <td>NaN</td>\n      <td>91.654645</td>\n      <td>93.641957</td>\n      <td>66.433732</td>\n      <td>90.044080</td>\n      <td>NaN</td>\n      <td>NaN</td>\n      <td>NaN</td>\n    </tr>\n    <tr>\n      <th>1993</th>\n      <td>75.825530</td>\n      <td>79.026406</td>\n      <td>115.0</td>\n      <td>74.688324</td>\n      <td>54.344291</td>\n      <td>66.545672</td>\n      <td>79.122177</td>\n      <td>45.842551</td>\n      <td>40.390434</td>\n      <td>674.696346</td>\n      <td>...</td>\n      <td>112.162901</td>\n      <td>81.433767</td>\n      <td>NaN</td>\n      <td>88.591091</td>\n      <td>91.556435</td>\n      <td>65.891207</td>\n      <td>87.913801</td>\n      <td>NaN</td>\n      <td>NaN</td>\n      <td>NaN</td>\n    </tr>\n    <tr>\n      <th>1994</th>\n      <td>77.999818</td>\n      <td>81.771451</td>\n      <td>130.0</td>\n      <td>74.195155</td>\n      <td>67.715244</td>\n      <td>61.804123</td>\n      <td>73.497377</td>\n      <td>47.155146</td>\n      <td>44.381188</td>\n      <td>327.410107</td>\n      <td>...</td>\n      <td>113.149802</td>\n      <td>82.152539</td>\n      <td>NaN</td>\n      <td>87.784918</td>\n      <td>92.624807</td>\n      <td>68.374395</td>\n      <td>89.831620</td>\n      <td>NaN</td>\n      <td>NaN</td>\n      <td>NaN</td>\n    </tr>\n    <tr>\n      <th>1995</th>\n      <td>87.993876</td>\n      <td>89.511416</td>\n      <td>140.0</td>\n      <td>90.888461</td>\n      <td>75.972279</td>\n      <td>74.432954</td>\n      <td>69.784934</td>\n      <td>46.256474</td>\n      <td>43.839810</td>\n      <td>282.313421</td>\n      <td>...</td>\n      <td>114.585166</td>\n      <td>81.236714</td>\n      <td>NaN</td>\n      <td>84.911436</td>\n      <td>92.000367</td>\n      <td>69.990939</td>\n      <td>90.582509</td>\n      <td>NaN</td>\n      <td>NaN</td>\n      <td>NaN</td>\n    </tr>\n    <tr>\n      <th>1996</th>\n      <td>98.401440</td>\n      <td>99.990348</td>\n      <td>145.0</td>\n      <td>102.968969</td>\n      <td>74.547778</td>\n      <td>59.186277</td>\n      <td>81.678850</td>\n      <td>53.136746</td>\n      <td>50.546189</td>\n      <td>302.800165</td>\n      <td>...</td>\n      <td>114.399553</td>\n      <td>80.604896</td>\n      <td>NaN</td>\n      <td>83.805288</td>\n      <td>90.114281</td>\n      <td>70.490286</td>\n      <td>89.798362</td>\n      <td>NaN</td>\n      <td>NaN</td>\n      <td>NaN</td>\n    </tr>\n    <tr>\n      <th>1997</th>\n      <td>90.546611</td>\n      <td>90.769722</td>\n      <td>145.0</td>\n      <td>97.596040</td>\n      <td>74.723268</td>\n      <td>55.567563</td>\n      <td>88.585663</td>\n      <td>58.166850</td>\n      <td>54.967419</td>\n      <td>371.780953</td>\n      <td>...</td>\n      <td>113.110320</td>\n      <td>81.772574</td>\n      <td>NaN</td>\n      <td>85.094798</td>\n      <td>90.196884</td>\n      <td>71.846631</td>\n      <td>90.619879</td>\n      <td>NaN</td>\n      <td>NaN</td>\n      <td>NaN</td>\n    </tr>\n    <tr>\n      <th>1998</th>\n      <td>86.952405</td>\n      <td>92.822606</td>\n      <td>115.0</td>\n      <td>77.943722</td>\n      <td>70.564458</td>\n      <td>45.823953</td>\n      <td>85.184276</td>\n      <td>60.864054</td>\n      <td>56.512342</td>\n      <td>501.265855</td>\n      <td>...</td>\n      <td>110.212680</td>\n      <td>83.784666</td>\n      <td>NaN</td>\n      <td>87.898524</td>\n      <td>90.866043</td>\n      <td>73.466014</td>\n      <td>90.772182</td>\n      <td>NaN</td>\n      <td>NaN</td>\n      <td>NaN</td>\n    </tr>\n    <tr>\n      <th>1999</th>\n      <td>85.182946</td>\n      <td>90.199193</td>\n      <td>115.0</td>\n      <td>79.501221</td>\n      <td>56.585827</td>\n      <td>71.025897</td>\n      <td>92.196805</td>\n      <td>69.776414</td>\n      <td>60.536067</td>\n      <td>1058.290295</td>\n      <td>...</td>\n      <td>107.256603</td>\n      <td>87.315001</td>\n      <td>NaN</td>\n      <td>91.601838</td>\n      <td>93.309758</td>\n      <td>77.386094</td>\n      <td>92.270967</td>\n      <td>NaN</td>\n      <td>NaN</td>\n      <td>NaN</td>\n    </tr>\n    <tr>\n      <th>2000</th>\n      <td>94.678734</td>\n      <td>103.851256</td>\n      <td>110.0</td>\n      <td>77.025132</td>\n      <td>77.172912</td>\n      <td>86.251397</td>\n      <td>72.602899</td>\n      <td>41.779922</td>\n      <td>40.684206</td>\n      <td>149.402790</td>\n      <td>...</td>\n      <td>101.753674</td>\n      <td>89.026668</td>\n      <td>NaN</td>\n      <td>95.377687</td>\n      <td>91.853803</td>\n      <td>78.055116</td>\n      <td>90.566344</td>\n      <td>NaN</td>\n      <td>NaN</td>\n      <td>NaN</td>\n    </tr>\n    <tr>\n      <th>2001</th>\n      <td>72.872358</td>\n      <td>71.830897</td>\n      <td>115.0</td>\n      <td>80.347919</td>\n      <td>72.486566</td>\n      <td>64.269877</td>\n      <td>72.158523</td>\n      <td>41.893882</td>\n      <td>40.958416</td>\n      <td>133.040232</td>\n      <td>...</td>\n      <td>99.889983</td>\n      <td>87.322957</td>\n      <td>NaN</td>\n      <td>93.250026</td>\n      <td>90.080217</td>\n      <td>77.483862</td>\n      <td>86.110475</td>\n      <td>NaN</td>\n      <td>NaN</td>\n      <td>NaN</td>\n    </tr>\n    <tr>\n      <th>2002</th>\n      <td>90.268717</td>\n      <td>99.461756</td>\n      <td>100.0</td>\n      <td>68.905710</td>\n      <td>95.929017</td>\n      <td>94.615195</td>\n      <td>80.673695</td>\n      <td>51.788014</td>\n      <td>51.761575</td>\n      <td>56.830224</td>\n      <td>...</td>\n      <td>97.682000</td>\n      <td>92.508297</td>\n      <td>NaN</td>\n      <td>98.872713</td>\n      <td>94.838616</td>\n      <td>82.590489</td>\n      <td>89.480104</td>\n      <td>NaN</td>\n      <td>NaN</td>\n      <td>NaN</td>\n    </tr>\n    <tr>\n      <th>2003</th>\n      <td>82.962100</td>\n      <td>86.803199</td>\n      <td>95.0</td>\n      <td>76.055058</td>\n      <td>92.094858</td>\n      <td>92.979669</td>\n      <td>86.770064</td>\n      <td>64.056259</td>\n      <td>62.582101</td>\n      <td>204.773561</td>\n      <td>...</td>\n      <td>96.539975</td>\n      <td>92.676744</td>\n      <td>NaN</td>\n      <td>97.914271</td>\n      <td>95.385357</td>\n      <td>84.222980</td>\n      <td>88.881568</td>\n      <td>NaN</td>\n      <td>NaN</td>\n      <td>NaN</td>\n    </tr>\n    <tr>\n      <th>2004</th>\n      <td>84.279581</td>\n      <td>91.751680</td>\n      <td>95.0</td>\n      <td>69.018442</td>\n      <td>71.053836</td>\n      <td>89.519501</td>\n      <td>82.782245</td>\n      <td>58.460329</td>\n      <td>57.136724</td>\n      <td>184.892094</td>\n      <td>...</td>\n      <td>96.968237</td>\n      <td>92.993420</td>\n      <td>NaN</td>\n      <td>96.505943</td>\n      <td>97.018817</td>\n      <td>86.241859</td>\n      <td>89.773663</td>\n      <td>NaN</td>\n      <td>NaN</td>\n      <td>NaN</td>\n    </tr>\n    <tr>\n      <th>2005</th>\n      <td>80.003029</td>\n      <td>88.248781</td>\n      <td>95.0</td>\n      <td>62.932651</td>\n      <td>59.548972</td>\n      <td>90.554336</td>\n      <td>88.210190</td>\n      <td>70.097868</td>\n      <td>67.349731</td>\n      <td>312.897139</td>\n      <td>...</td>\n      <td>95.267891</td>\n      <td>95.804877</td>\n      <td>NaN</td>\n      <td>100.365584</td>\n      <td>99.114455</td>\n      <td>88.281123</td>\n      <td>90.826270</td>\n      <td>NaN</td>\n      <td>NaN</td>\n      <td>NaN</td>\n    </tr>\n    <tr>\n      <th>2006</th>\n      <td>79.702228</td>\n      <td>87.980628</td>\n      <td>95.0</td>\n      <td>59.451658</td>\n      <td>89.182299</td>\n      <td>90.549173</td>\n      <td>80.128582</td>\n      <td>68.194315</td>\n      <td>67.048344</td>\n      <td>176.324748</td>\n      <td>...</td>\n      <td>93.608497</td>\n      <td>94.525657</td>\n      <td>NaN</td>\n      <td>99.993270</td>\n      <td>97.095401</td>\n      <td>86.832639</td>\n      <td>86.660524</td>\n      <td>NaN</td>\n      <td>NaN</td>\n      <td>NaN</td>\n    </tr>\n    <tr>\n      <th>2007</th>\n      <td>73.879541</td>\n      <td>79.171577</td>\n      <td>95.0</td>\n      <td>60.992911</td>\n      <td>86.215478</td>\n      <td>76.127248</td>\n      <td>78.705467</td>\n      <td>74.696713</td>\n      <td>74.736725</td>\n      <td>68.758464</td>\n      <td>...</td>\n      <td>94.255214</td>\n      <td>93.101988</td>\n      <td>NaN</td>\n      <td>97.092506</td>\n      <td>96.592750</td>\n      <td>86.723379</td>\n      <td>86.718701</td>\n      <td>NaN</td>\n      <td>NaN</td>\n      <td>NaN</td>\n    </tr>\n    <tr>\n      <th>2008</th>\n      <td>96.629009</td>\n      <td>103.761002</td>\n      <td>95.0</td>\n      <td>80.457078</td>\n      <td>100.049707</td>\n      <td>86.853362</td>\n      <td>85.798692</td>\n      <td>77.946715</td>\n      <td>77.615988</td>\n      <td>103.730654</td>\n      <td>...</td>\n      <td>94.536585</td>\n      <td>96.959148</td>\n      <td>NaN</td>\n      <td>100.680956</td>\n      <td>100.172023</td>\n      <td>90.991646</td>\n      <td>90.753366</td>\n      <td>NaN</td>\n      <td>NaN</td>\n      <td>NaN</td>\n    </tr>\n    <tr>\n      <th>2009</th>\n      <td>84.779019</td>\n      <td>85.368480</td>\n      <td>95.0</td>\n      <td>85.758809</td>\n      <td>91.855079</td>\n      <td>134.621142</td>\n      <td>90.895412</td>\n      <td>78.186762</td>\n      <td>76.719519</td>\n      <td>189.639606</td>\n      <td>...</td>\n      <td>95.005119</td>\n      <td>94.285272</td>\n      <td>NaN</td>\n      <td>96.892171</td>\n      <td>96.912545</td>\n      <td>90.246956</td>\n      <td>88.658383</td>\n      <td>NaN</td>\n      <td>NaN</td>\n      <td>NaN</td>\n    </tr>\n    <tr>\n      <th>2010</th>\n      <td>82.801208</td>\n      <td>91.238033</td>\n      <td>110.0</td>\n      <td>60.751221</td>\n      <td>83.672171</td>\n      <td>112.036936</td>\n      <td>91.343760</td>\n      <td>89.840046</td>\n      <td>87.716366</td>\n      <td>251.666336</td>\n      <td>...</td>\n      <td>96.648565</td>\n      <td>93.909856</td>\n      <td>NaN</td>\n      <td>94.570489</td>\n      <td>98.785044</td>\n      <td>91.863241</td>\n      <td>90.304847</td>\n      <td>NaN</td>\n      <td>NaN</td>\n      <td>NaN</td>\n    </tr>\n    <tr>\n      <th>2011</th>\n      <td>86.976347</td>\n      <td>95.087615</td>\n      <td>110.0</td>\n      <td>67.261240</td>\n      <td>77.088425</td>\n      <td>111.497806</td>\n      <td>108.023876</td>\n      <td>110.424806</td>\n      <td>108.489763</td>\n      <td>248.827533</td>\n      <td>...</td>\n      <td>96.503983</td>\n      <td>98.310294</td>\n      <td>NaN</td>\n      <td>100.328918</td>\n      <td>101.012810</td>\n      <td>94.542502</td>\n      <td>94.735052</td>\n      <td>NaN</td>\n      <td>NaN</td>\n      <td>NaN</td>\n    </tr>\n    <tr>\n      <th>2012</th>\n      <td>76.703606</td>\n      <td>80.510177</td>\n      <td>75.0</td>\n      <td>67.586634</td>\n      <td>78.074952</td>\n      <td>104.521366</td>\n      <td>96.683216</td>\n      <td>101.429234</td>\n      <td>100.558095</td>\n      <td>146.076021</td>\n      <td>...</td>\n      <td>96.573914</td>\n      <td>93.137958</td>\n      <td>NaN</td>\n      <td>95.337357</td>\n      <td>94.151224</td>\n      <td>89.601044</td>\n      <td>89.725572</td>\n      <td>NaN</td>\n      <td>NaN</td>\n      <td>NaN</td>\n    </tr>\n    <tr>\n      <th>2013</th>\n      <td>76.578217</td>\n      <td>69.287506</td>\n      <td>100.0</td>\n      <td>93.585215</td>\n      <td>125.959925</td>\n      <td>118.769355</td>\n      <td>90.081654</td>\n      <td>85.567013</td>\n      <td>83.704258</td>\n      <td>217.488398</td>\n      <td>...</td>\n      <td>98.001938</td>\n      <td>93.455452</td>\n      <td>NaN</td>\n      <td>94.494077</td>\n      <td>94.168941</td>\n      <td>91.959561</td>\n      <td>90.994398</td>\n      <td>NaN</td>\n      <td>NaN</td>\n      <td>NaN</td>\n    </tr>\n    <tr>\n      <th>2014</th>\n      <td>98.315500</td>\n      <td>100.064983</td>\n      <td>100.0</td>\n      <td>93.170471</td>\n      <td>95.750738</td>\n      <td>117.764121</td>\n      <td>101.897771</td>\n      <td>97.299072</td>\n      <td>96.740237</td>\n      <td>137.421831</td>\n      <td>...</td>\n      <td>98.947508</td>\n      <td>99.132781</td>\n      <td>NaN</td>\n      <td>99.733984</td>\n      <td>99.507588</td>\n      <td>98.345190</td>\n      <td>97.559822</td>\n      <td>NaN</td>\n      <td>NaN</td>\n      <td>NaN</td>\n    </tr>\n    <tr>\n      <th>2015</th>\n      <td>100.000000</td>\n      <td>100.000000</td>\n      <td>100.0</td>\n      <td>100.000000</td>\n      <td>100.000000</td>\n      <td>100.000000</td>\n      <td>100.000000</td>\n      <td>100.000000</td>\n      <td>100.000000</td>\n      <td>100.000000</td>\n      <td>...</td>\n      <td>100.000000</td>\n      <td>100.000000</td>\n      <td>NaN</td>\n      <td>100.000000</td>\n      <td>100.000000</td>\n      <td>100.000000</td>\n      <td>100.000000</td>\n      <td>NaN</td>\n      <td>NaN</td>\n      <td>NaN</td>\n    </tr>\n    <tr>\n      <th>2016</th>\n      <td>88.497335</td>\n      <td>88.296769</td>\n      <td>100.0</td>\n      <td>87.613818</td>\n      <td>101.700441</td>\n      <td>87.149044</td>\n      <td>76.745048</td>\n      <td>70.044003</td>\n      <td>69.803130</td>\n      <td>91.139668</td>\n      <td>...</td>\n      <td>100.371300</td>\n      <td>96.930504</td>\n      <td>NaN</td>\n      <td>96.463101</td>\n      <td>96.665945</td>\n      <td>98.118729</td>\n      <td>96.096242</td>\n      <td>NaN</td>\n      <td>NaN</td>\n      <td>NaN</td>\n    </tr>\n    <tr>\n      <th>2017</th>\n      <td>90.325357</td>\n      <td>88.929646</td>\n      <td>85.0</td>\n      <td>92.292718</td>\n      <td>109.869188</td>\n      <td>106.438595</td>\n      <td>96.748305</td>\n      <td>86.161304</td>\n      <td>85.218753</td>\n      <td>174.629280</td>\n      <td>...</td>\n      <td>100.823228</td>\n      <td>100.328916</td>\n      <td>NaN</td>\n      <td>100.368103</td>\n      <td>98.850892</td>\n      <td>101.149767</td>\n      <td>99.250193</td>\n      <td>NaN</td>\n      <td>NaN</td>\n      <td>NaN</td>\n    </tr>\n    <tr>\n      <th>2018</th>\n      <td>80.768063</td>\n      <td>79.346690</td>\n      <td>100.0</td>\n      <td>81.143711</td>\n      <td>115.143631</td>\n      <td>135.583822</td>\n      <td>83.543545</td>\n      <td>79.867954</td>\n      <td>79.141826</td>\n      <td>149.007168</td>\n      <td>...</td>\n      <td>99.499222</td>\n      <td>99.376080</td>\n      <td>NaN</td>\n      <td>101.184554</td>\n      <td>95.458943</td>\n      <td>98.172286</td>\n      <td>97.660090</td>\n      <td>NaN</td>\n      <td>NaN</td>\n      <td>NaN</td>\n    </tr>\n    <tr>\n      <th>2019</th>\n      <td>98.662454</td>\n      <td>95.965070</td>\n      <td>100.0</td>\n      <td>106.235012</td>\n      <td>100.083170</td>\n      <td>155.911902</td>\n      <td>79.597133</td>\n      <td>68.992365</td>\n      <td>68.903025</td>\n      <td>87.078951</td>\n      <td>...</td>\n      <td>100.493603</td>\n      <td>102.196840</td>\n      <td>NaN</td>\n      <td>103.580507</td>\n      <td>98.137509</td>\n      <td>101.816148</td>\n      <td>100.449810</td>\n      <td>NaN</td>\n      <td>NaN</td>\n      <td>NaN</td>\n    </tr>\n    <tr>\n      <th>2020</th>\n      <td>72.728000</td>\n      <td>60.138003</td>\n      <td>100.0</td>\n      <td>103.444061</td>\n      <td>151.350356</td>\n      <td>150.537813</td>\n      <td>56.979598</td>\n      <td>42.584428</td>\n      <td>40.815669</td>\n      <td>187.655758</td>\n      <td>...</td>\n      <td>100.967574</td>\n      <td>95.332632</td>\n      <td>NaN</td>\n      <td>96.009517</td>\n      <td>91.884188</td>\n      <td>95.464810</td>\n      <td>95.575783</td>\n      <td>NaN</td>\n      <td>NaN</td>\n      <td>NaN</td>\n    </tr>\n  </tbody>\n</table>\n<p>48 rows × 72 columns</p>\n</div>"
     },
     "execution_count": 98,
     "metadata": {},
     "output_type": "execute_result"
    }
   ],
   "source": [
    "df3"
   ],
   "metadata": {
    "collapsed": false,
    "pycharm": {
     "name": "#%%\n"
    }
   }
  },
  {
   "cell_type": "code",
   "execution_count": 99,
   "outputs": [
    {
     "data": {
      "text/plain": "      LOCATION  SUBJECT   MEASURE  TIME         Value\n0          AUS     RICE  TONNE_HA  1990      8.314607\n1          AUS     RICE  TONNE_HA  1991      8.394737\n2          AUS     RICE  TONNE_HA  1992      8.094340\n3          AUS     RICE  TONNE_HA  1993      8.336000\n4          AUS     RICE  TONNE_HA  1994      8.537815\n...        ...      ...       ...   ...           ...\n20561     OECD  SOYBEAN   THND_HA  2021  37010.208830\n20562     OECD  SOYBEAN   THND_HA  2022  37069.214850\n20563     OECD  SOYBEAN   THND_HA  2023  37143.459750\n20564     OECD  SOYBEAN   THND_HA  2024  37013.651900\n20565     OECD  SOYBEAN   THND_HA  2025  37041.401580\n\n[20566 rows x 5 columns]",
      "text/html": "<div>\n<style scoped>\n    .dataframe tbody tr th:only-of-type {\n        vertical-align: middle;\n    }\n\n    .dataframe tbody tr th {\n        vertical-align: top;\n    }\n\n    .dataframe thead th {\n        text-align: right;\n    }\n</style>\n<table border=\"1\" class=\"dataframe\">\n  <thead>\n    <tr style=\"text-align: right;\">\n      <th></th>\n      <th>LOCATION</th>\n      <th>SUBJECT</th>\n      <th>MEASURE</th>\n      <th>TIME</th>\n      <th>Value</th>\n    </tr>\n  </thead>\n  <tbody>\n    <tr>\n      <th>0</th>\n      <td>AUS</td>\n      <td>RICE</td>\n      <td>TONNE_HA</td>\n      <td>1990</td>\n      <td>8.314607</td>\n    </tr>\n    <tr>\n      <th>1</th>\n      <td>AUS</td>\n      <td>RICE</td>\n      <td>TONNE_HA</td>\n      <td>1991</td>\n      <td>8.394737</td>\n    </tr>\n    <tr>\n      <th>2</th>\n      <td>AUS</td>\n      <td>RICE</td>\n      <td>TONNE_HA</td>\n      <td>1992</td>\n      <td>8.094340</td>\n    </tr>\n    <tr>\n      <th>3</th>\n      <td>AUS</td>\n      <td>RICE</td>\n      <td>TONNE_HA</td>\n      <td>1993</td>\n      <td>8.336000</td>\n    </tr>\n    <tr>\n      <th>4</th>\n      <td>AUS</td>\n      <td>RICE</td>\n      <td>TONNE_HA</td>\n      <td>1994</td>\n      <td>8.537815</td>\n    </tr>\n    <tr>\n      <th>...</th>\n      <td>...</td>\n      <td>...</td>\n      <td>...</td>\n      <td>...</td>\n      <td>...</td>\n    </tr>\n    <tr>\n      <th>20561</th>\n      <td>OECD</td>\n      <td>SOYBEAN</td>\n      <td>THND_HA</td>\n      <td>2021</td>\n      <td>37010.208830</td>\n    </tr>\n    <tr>\n      <th>20562</th>\n      <td>OECD</td>\n      <td>SOYBEAN</td>\n      <td>THND_HA</td>\n      <td>2022</td>\n      <td>37069.214850</td>\n    </tr>\n    <tr>\n      <th>20563</th>\n      <td>OECD</td>\n      <td>SOYBEAN</td>\n      <td>THND_HA</td>\n      <td>2023</td>\n      <td>37143.459750</td>\n    </tr>\n    <tr>\n      <th>20564</th>\n      <td>OECD</td>\n      <td>SOYBEAN</td>\n      <td>THND_HA</td>\n      <td>2024</td>\n      <td>37013.651900</td>\n    </tr>\n    <tr>\n      <th>20565</th>\n      <td>OECD</td>\n      <td>SOYBEAN</td>\n      <td>THND_HA</td>\n      <td>2025</td>\n      <td>37041.401580</td>\n    </tr>\n  </tbody>\n</table>\n<p>20566 rows × 5 columns</p>\n</div>"
     },
     "execution_count": 99,
     "metadata": {},
     "output_type": "execute_result"
    }
   ],
   "source": [
    "df2"
   ],
   "metadata": {
    "collapsed": false,
    "pycharm": {
     "name": "#%%\n"
    }
   }
  },
  {
   "cell_type": "code",
   "execution_count": 100,
   "outputs": [
    {
     "data": {
      "text/plain": "      LOCATION  INDICATOR  SUBJECT   MEASURE FREQUENCY  TIME  Value  \\\n0          AUS  CROPYIELD     RICE  TONNE_HA         A  1990  8.315   \n1          AUS  CROPYIELD     RICE  TONNE_HA         A  1991  8.395   \n2          AUS  CROPYIELD     RICE  TONNE_HA         A  1992  8.094   \n3          AUS  CROPYIELD     RICE  TONNE_HA         A  1993  8.336   \n4          AUS  CROPYIELD     RICE  TONNE_HA         A  1994  8.538   \n...        ...        ...      ...       ...       ...   ...    ...   \n18671      GBR  CROPYIELD  SOYBEAN   THND_HA         A  2026  0.000   \n18672      GBR  CROPYIELD  SOYBEAN   THND_HA         A  2027  0.000   \n18673      GBR  CROPYIELD  SOYBEAN   THND_HA         A  2028  0.000   \n18674      GBR  CROPYIELD  SOYBEAN   THND_HA         A  2029  0.000   \n18675      GBR  CROPYIELD  SOYBEAN   THND_HA         A  2030  0.000   \n\n       Flag Codes  \n0             NaN  \n1             NaN  \n2             NaN  \n3             NaN  \n4             NaN  \n...           ...  \n18671         NaN  \n18672         NaN  \n18673         NaN  \n18674         NaN  \n18675         NaN  \n\n[18676 rows x 8 columns]",
      "text/html": "<div>\n<style scoped>\n    .dataframe tbody tr th:only-of-type {\n        vertical-align: middle;\n    }\n\n    .dataframe tbody tr th {\n        vertical-align: top;\n    }\n\n    .dataframe thead th {\n        text-align: right;\n    }\n</style>\n<table border=\"1\" class=\"dataframe\">\n  <thead>\n    <tr style=\"text-align: right;\">\n      <th></th>\n      <th>LOCATION</th>\n      <th>INDICATOR</th>\n      <th>SUBJECT</th>\n      <th>MEASURE</th>\n      <th>FREQUENCY</th>\n      <th>TIME</th>\n      <th>Value</th>\n      <th>Flag Codes</th>\n    </tr>\n  </thead>\n  <tbody>\n    <tr>\n      <th>0</th>\n      <td>AUS</td>\n      <td>CROPYIELD</td>\n      <td>RICE</td>\n      <td>TONNE_HA</td>\n      <td>A</td>\n      <td>1990</td>\n      <td>8.315</td>\n      <td>NaN</td>\n    </tr>\n    <tr>\n      <th>1</th>\n      <td>AUS</td>\n      <td>CROPYIELD</td>\n      <td>RICE</td>\n      <td>TONNE_HA</td>\n      <td>A</td>\n      <td>1991</td>\n      <td>8.395</td>\n      <td>NaN</td>\n    </tr>\n    <tr>\n      <th>2</th>\n      <td>AUS</td>\n      <td>CROPYIELD</td>\n      <td>RICE</td>\n      <td>TONNE_HA</td>\n      <td>A</td>\n      <td>1992</td>\n      <td>8.094</td>\n      <td>NaN</td>\n    </tr>\n    <tr>\n      <th>3</th>\n      <td>AUS</td>\n      <td>CROPYIELD</td>\n      <td>RICE</td>\n      <td>TONNE_HA</td>\n      <td>A</td>\n      <td>1993</td>\n      <td>8.336</td>\n      <td>NaN</td>\n    </tr>\n    <tr>\n      <th>4</th>\n      <td>AUS</td>\n      <td>CROPYIELD</td>\n      <td>RICE</td>\n      <td>TONNE_HA</td>\n      <td>A</td>\n      <td>1994</td>\n      <td>8.538</td>\n      <td>NaN</td>\n    </tr>\n    <tr>\n      <th>...</th>\n      <td>...</td>\n      <td>...</td>\n      <td>...</td>\n      <td>...</td>\n      <td>...</td>\n      <td>...</td>\n      <td>...</td>\n      <td>...</td>\n    </tr>\n    <tr>\n      <th>18671</th>\n      <td>GBR</td>\n      <td>CROPYIELD</td>\n      <td>SOYBEAN</td>\n      <td>THND_HA</td>\n      <td>A</td>\n      <td>2026</td>\n      <td>0.000</td>\n      <td>NaN</td>\n    </tr>\n    <tr>\n      <th>18672</th>\n      <td>GBR</td>\n      <td>CROPYIELD</td>\n      <td>SOYBEAN</td>\n      <td>THND_HA</td>\n      <td>A</td>\n      <td>2027</td>\n      <td>0.000</td>\n      <td>NaN</td>\n    </tr>\n    <tr>\n      <th>18673</th>\n      <td>GBR</td>\n      <td>CROPYIELD</td>\n      <td>SOYBEAN</td>\n      <td>THND_HA</td>\n      <td>A</td>\n      <td>2028</td>\n      <td>0.000</td>\n      <td>NaN</td>\n    </tr>\n    <tr>\n      <th>18674</th>\n      <td>GBR</td>\n      <td>CROPYIELD</td>\n      <td>SOYBEAN</td>\n      <td>THND_HA</td>\n      <td>A</td>\n      <td>2029</td>\n      <td>0.000</td>\n      <td>NaN</td>\n    </tr>\n    <tr>\n      <th>18675</th>\n      <td>GBR</td>\n      <td>CROPYIELD</td>\n      <td>SOYBEAN</td>\n      <td>THND_HA</td>\n      <td>A</td>\n      <td>2030</td>\n      <td>0.000</td>\n      <td>NaN</td>\n    </tr>\n  </tbody>\n</table>\n<p>18676 rows × 8 columns</p>\n</div>"
     },
     "execution_count": 100,
     "metadata": {},
     "output_type": "execute_result"
    }
   ],
   "source": [
    "df4=pd.read_csv(\"./Data/DP_LIVE_30052022222029676.csv\")\n",
    "df4"
   ],
   "metadata": {
    "collapsed": false,
    "pycharm": {
     "name": "#%%\n"
    }
   }
  },
  {
   "cell_type": "code",
   "execution_count": 101,
   "outputs": [
    {
     "data": {
      "text/plain": "         LOCATION  INDICATOR  MEASURE  FREQUENCY  TIME  Value  Flag Codes\nSUBJECT                                                                  \nMAIZE        4674       4674     4674       4674  4674   4674           0\nRICE         4654       4654     4654       4654  4654   4654           0\nSOYBEAN      4674       4674     4674       4674  4674   4674           0\nWHEAT        4674       4674     4674       4674  4674   4674           0",
      "text/html": "<div>\n<style scoped>\n    .dataframe tbody tr th:only-of-type {\n        vertical-align: middle;\n    }\n\n    .dataframe tbody tr th {\n        vertical-align: top;\n    }\n\n    .dataframe thead th {\n        text-align: right;\n    }\n</style>\n<table border=\"1\" class=\"dataframe\">\n  <thead>\n    <tr style=\"text-align: right;\">\n      <th></th>\n      <th>LOCATION</th>\n      <th>INDICATOR</th>\n      <th>MEASURE</th>\n      <th>FREQUENCY</th>\n      <th>TIME</th>\n      <th>Value</th>\n      <th>Flag Codes</th>\n    </tr>\n    <tr>\n      <th>SUBJECT</th>\n      <th></th>\n      <th></th>\n      <th></th>\n      <th></th>\n      <th></th>\n      <th></th>\n      <th></th>\n    </tr>\n  </thead>\n  <tbody>\n    <tr>\n      <th>MAIZE</th>\n      <td>4674</td>\n      <td>4674</td>\n      <td>4674</td>\n      <td>4674</td>\n      <td>4674</td>\n      <td>4674</td>\n      <td>0</td>\n    </tr>\n    <tr>\n      <th>RICE</th>\n      <td>4654</td>\n      <td>4654</td>\n      <td>4654</td>\n      <td>4654</td>\n      <td>4654</td>\n      <td>4654</td>\n      <td>0</td>\n    </tr>\n    <tr>\n      <th>SOYBEAN</th>\n      <td>4674</td>\n      <td>4674</td>\n      <td>4674</td>\n      <td>4674</td>\n      <td>4674</td>\n      <td>4674</td>\n      <td>0</td>\n    </tr>\n    <tr>\n      <th>WHEAT</th>\n      <td>4674</td>\n      <td>4674</td>\n      <td>4674</td>\n      <td>4674</td>\n      <td>4674</td>\n      <td>4674</td>\n      <td>0</td>\n    </tr>\n  </tbody>\n</table>\n</div>"
     },
     "execution_count": 101,
     "metadata": {},
     "output_type": "execute_result"
    }
   ],
   "source": [
    "df4.groupby(by=[\"SUBJECT\"]).count()"
   ],
   "metadata": {
    "collapsed": false,
    "pycharm": {
     "name": "#%%\n"
    }
   }
  },
  {
   "cell_type": "code",
   "execution_count": 102,
   "outputs": [
    {
     "data": {
      "text/plain": "         LOCATION  MEASURE  TIME  Value\nSUBJECT                                \nMAIZE        5151     5151  5151   5151\nRICE         5148     5148  5148   5148\nSOYBEAN      5128     5128  5128   5128\nWHEAT        5139     5139  5139   5139",
      "text/html": "<div>\n<style scoped>\n    .dataframe tbody tr th:only-of-type {\n        vertical-align: middle;\n    }\n\n    .dataframe tbody tr th {\n        vertical-align: top;\n    }\n\n    .dataframe thead th {\n        text-align: right;\n    }\n</style>\n<table border=\"1\" class=\"dataframe\">\n  <thead>\n    <tr style=\"text-align: right;\">\n      <th></th>\n      <th>LOCATION</th>\n      <th>MEASURE</th>\n      <th>TIME</th>\n      <th>Value</th>\n    </tr>\n    <tr>\n      <th>SUBJECT</th>\n      <th></th>\n      <th></th>\n      <th></th>\n      <th></th>\n    </tr>\n  </thead>\n  <tbody>\n    <tr>\n      <th>MAIZE</th>\n      <td>5151</td>\n      <td>5151</td>\n      <td>5151</td>\n      <td>5151</td>\n    </tr>\n    <tr>\n      <th>RICE</th>\n      <td>5148</td>\n      <td>5148</td>\n      <td>5148</td>\n      <td>5148</td>\n    </tr>\n    <tr>\n      <th>SOYBEAN</th>\n      <td>5128</td>\n      <td>5128</td>\n      <td>5128</td>\n      <td>5128</td>\n    </tr>\n    <tr>\n      <th>WHEAT</th>\n      <td>5139</td>\n      <td>5139</td>\n      <td>5139</td>\n      <td>5139</td>\n    </tr>\n  </tbody>\n</table>\n</div>"
     },
     "execution_count": 102,
     "metadata": {},
     "output_type": "execute_result"
    }
   ],
   "source": [
    "df2.groupby(by=[\"SUBJECT\"]).count()\n"
   ],
   "metadata": {
    "collapsed": false,
    "pycharm": {
     "name": "#%%\n"
    }
   }
  },
  {
   "cell_type": "code",
   "execution_count": 103,
   "outputs": [
    {
     "data": {
      "text/plain": "          INDICATOR  SUBJECT  MEASURE  FREQUENCY  TIME  Value  Flag Codes\nLOCATION                                                                 \nARG             492      492      492        492   492    492           0\nAUS             492      492      492        492   492    492           0\nBRA             492      492      492        492   492    492           0\nBRICS           492      492      492        492   492    492           0\nCAN             492      492      492        492   492    492           0\nCHE             472      472      472        472   472    472           0\nCHL             492      492      492        492   492    492           0\nCHN             492      492      492        492   492    492           0\nCOL             492      492      492        492   492    492           0\nEGY             492      492      492        492   492    492           0\nETH             492      492      492        492   492    492           0\nGBR             492      492      492        492   492    492           0\nIDN             492      492      492        492   492    492           0\nIND             492      492      492        492   492    492           0\nIRN             492      492      492        492   492    492           0\nISR             492      492      492        492   492    492           0\nJPN             492      492      492        492   492    492           0\nKAZ             492      492      492        492   492    492           0\nKOR             492      492      492        492   492    492           0\nMEX             492      492      492        492   492    492           0\nMYS             492      492      492        492   492    492           0\nNGA             492      492      492        492   492    492           0\nNOR             492      492      492        492   492    492           0\nNZL             492      492      492        492   492    492           0\nOECD            492      492      492        492   492    492           0\nPAK             492      492      492        492   492    492           0\nPER             492      492      492        492   492    492           0\nPHL             492      492      492        492   492    492           0\nPRY             492      492      492        492   492    492           0\nRUS             492      492      492        492   492    492           0\nSAU             492      492      492        492   492    492           0\nTHA             492      492      492        492   492    492           0\nTUR             492      492      492        492   492    492           0\nUKR             492      492      492        492   492    492           0\nUSA             492      492      492        492   492    492           0\nVNM             492      492      492        492   492    492           0\nWLD             492      492      492        492   492    492           0\nZAF             492      492      492        492   492    492           0",
      "text/html": "<div>\n<style scoped>\n    .dataframe tbody tr th:only-of-type {\n        vertical-align: middle;\n    }\n\n    .dataframe tbody tr th {\n        vertical-align: top;\n    }\n\n    .dataframe thead th {\n        text-align: right;\n    }\n</style>\n<table border=\"1\" class=\"dataframe\">\n  <thead>\n    <tr style=\"text-align: right;\">\n      <th></th>\n      <th>INDICATOR</th>\n      <th>SUBJECT</th>\n      <th>MEASURE</th>\n      <th>FREQUENCY</th>\n      <th>TIME</th>\n      <th>Value</th>\n      <th>Flag Codes</th>\n    </tr>\n    <tr>\n      <th>LOCATION</th>\n      <th></th>\n      <th></th>\n      <th></th>\n      <th></th>\n      <th></th>\n      <th></th>\n      <th></th>\n    </tr>\n  </thead>\n  <tbody>\n    <tr>\n      <th>ARG</th>\n      <td>492</td>\n      <td>492</td>\n      <td>492</td>\n      <td>492</td>\n      <td>492</td>\n      <td>492</td>\n      <td>0</td>\n    </tr>\n    <tr>\n      <th>AUS</th>\n      <td>492</td>\n      <td>492</td>\n      <td>492</td>\n      <td>492</td>\n      <td>492</td>\n      <td>492</td>\n      <td>0</td>\n    </tr>\n    <tr>\n      <th>BRA</th>\n      <td>492</td>\n      <td>492</td>\n      <td>492</td>\n      <td>492</td>\n      <td>492</td>\n      <td>492</td>\n      <td>0</td>\n    </tr>\n    <tr>\n      <th>BRICS</th>\n      <td>492</td>\n      <td>492</td>\n      <td>492</td>\n      <td>492</td>\n      <td>492</td>\n      <td>492</td>\n      <td>0</td>\n    </tr>\n    <tr>\n      <th>CAN</th>\n      <td>492</td>\n      <td>492</td>\n      <td>492</td>\n      <td>492</td>\n      <td>492</td>\n      <td>492</td>\n      <td>0</td>\n    </tr>\n    <tr>\n      <th>CHE</th>\n      <td>472</td>\n      <td>472</td>\n      <td>472</td>\n      <td>472</td>\n      <td>472</td>\n      <td>472</td>\n      <td>0</td>\n    </tr>\n    <tr>\n      <th>CHL</th>\n      <td>492</td>\n      <td>492</td>\n      <td>492</td>\n      <td>492</td>\n      <td>492</td>\n      <td>492</td>\n      <td>0</td>\n    </tr>\n    <tr>\n      <th>CHN</th>\n      <td>492</td>\n      <td>492</td>\n      <td>492</td>\n      <td>492</td>\n      <td>492</td>\n      <td>492</td>\n      <td>0</td>\n    </tr>\n    <tr>\n      <th>COL</th>\n      <td>492</td>\n      <td>492</td>\n      <td>492</td>\n      <td>492</td>\n      <td>492</td>\n      <td>492</td>\n      <td>0</td>\n    </tr>\n    <tr>\n      <th>EGY</th>\n      <td>492</td>\n      <td>492</td>\n      <td>492</td>\n      <td>492</td>\n      <td>492</td>\n      <td>492</td>\n      <td>0</td>\n    </tr>\n    <tr>\n      <th>ETH</th>\n      <td>492</td>\n      <td>492</td>\n      <td>492</td>\n      <td>492</td>\n      <td>492</td>\n      <td>492</td>\n      <td>0</td>\n    </tr>\n    <tr>\n      <th>GBR</th>\n      <td>492</td>\n      <td>492</td>\n      <td>492</td>\n      <td>492</td>\n      <td>492</td>\n      <td>492</td>\n      <td>0</td>\n    </tr>\n    <tr>\n      <th>IDN</th>\n      <td>492</td>\n      <td>492</td>\n      <td>492</td>\n      <td>492</td>\n      <td>492</td>\n      <td>492</td>\n      <td>0</td>\n    </tr>\n    <tr>\n      <th>IND</th>\n      <td>492</td>\n      <td>492</td>\n      <td>492</td>\n      <td>492</td>\n      <td>492</td>\n      <td>492</td>\n      <td>0</td>\n    </tr>\n    <tr>\n      <th>IRN</th>\n      <td>492</td>\n      <td>492</td>\n      <td>492</td>\n      <td>492</td>\n      <td>492</td>\n      <td>492</td>\n      <td>0</td>\n    </tr>\n    <tr>\n      <th>ISR</th>\n      <td>492</td>\n      <td>492</td>\n      <td>492</td>\n      <td>492</td>\n      <td>492</td>\n      <td>492</td>\n      <td>0</td>\n    </tr>\n    <tr>\n      <th>JPN</th>\n      <td>492</td>\n      <td>492</td>\n      <td>492</td>\n      <td>492</td>\n      <td>492</td>\n      <td>492</td>\n      <td>0</td>\n    </tr>\n    <tr>\n      <th>KAZ</th>\n      <td>492</td>\n      <td>492</td>\n      <td>492</td>\n      <td>492</td>\n      <td>492</td>\n      <td>492</td>\n      <td>0</td>\n    </tr>\n    <tr>\n      <th>KOR</th>\n      <td>492</td>\n      <td>492</td>\n      <td>492</td>\n      <td>492</td>\n      <td>492</td>\n      <td>492</td>\n      <td>0</td>\n    </tr>\n    <tr>\n      <th>MEX</th>\n      <td>492</td>\n      <td>492</td>\n      <td>492</td>\n      <td>492</td>\n      <td>492</td>\n      <td>492</td>\n      <td>0</td>\n    </tr>\n    <tr>\n      <th>MYS</th>\n      <td>492</td>\n      <td>492</td>\n      <td>492</td>\n      <td>492</td>\n      <td>492</td>\n      <td>492</td>\n      <td>0</td>\n    </tr>\n    <tr>\n      <th>NGA</th>\n      <td>492</td>\n      <td>492</td>\n      <td>492</td>\n      <td>492</td>\n      <td>492</td>\n      <td>492</td>\n      <td>0</td>\n    </tr>\n    <tr>\n      <th>NOR</th>\n      <td>492</td>\n      <td>492</td>\n      <td>492</td>\n      <td>492</td>\n      <td>492</td>\n      <td>492</td>\n      <td>0</td>\n    </tr>\n    <tr>\n      <th>NZL</th>\n      <td>492</td>\n      <td>492</td>\n      <td>492</td>\n      <td>492</td>\n      <td>492</td>\n      <td>492</td>\n      <td>0</td>\n    </tr>\n    <tr>\n      <th>OECD</th>\n      <td>492</td>\n      <td>492</td>\n      <td>492</td>\n      <td>492</td>\n      <td>492</td>\n      <td>492</td>\n      <td>0</td>\n    </tr>\n    <tr>\n      <th>PAK</th>\n      <td>492</td>\n      <td>492</td>\n      <td>492</td>\n      <td>492</td>\n      <td>492</td>\n      <td>492</td>\n      <td>0</td>\n    </tr>\n    <tr>\n      <th>PER</th>\n      <td>492</td>\n      <td>492</td>\n      <td>492</td>\n      <td>492</td>\n      <td>492</td>\n      <td>492</td>\n      <td>0</td>\n    </tr>\n    <tr>\n      <th>PHL</th>\n      <td>492</td>\n      <td>492</td>\n      <td>492</td>\n      <td>492</td>\n      <td>492</td>\n      <td>492</td>\n      <td>0</td>\n    </tr>\n    <tr>\n      <th>PRY</th>\n      <td>492</td>\n      <td>492</td>\n      <td>492</td>\n      <td>492</td>\n      <td>492</td>\n      <td>492</td>\n      <td>0</td>\n    </tr>\n    <tr>\n      <th>RUS</th>\n      <td>492</td>\n      <td>492</td>\n      <td>492</td>\n      <td>492</td>\n      <td>492</td>\n      <td>492</td>\n      <td>0</td>\n    </tr>\n    <tr>\n      <th>SAU</th>\n      <td>492</td>\n      <td>492</td>\n      <td>492</td>\n      <td>492</td>\n      <td>492</td>\n      <td>492</td>\n      <td>0</td>\n    </tr>\n    <tr>\n      <th>THA</th>\n      <td>492</td>\n      <td>492</td>\n      <td>492</td>\n      <td>492</td>\n      <td>492</td>\n      <td>492</td>\n      <td>0</td>\n    </tr>\n    <tr>\n      <th>TUR</th>\n      <td>492</td>\n      <td>492</td>\n      <td>492</td>\n      <td>492</td>\n      <td>492</td>\n      <td>492</td>\n      <td>0</td>\n    </tr>\n    <tr>\n      <th>UKR</th>\n      <td>492</td>\n      <td>492</td>\n      <td>492</td>\n      <td>492</td>\n      <td>492</td>\n      <td>492</td>\n      <td>0</td>\n    </tr>\n    <tr>\n      <th>USA</th>\n      <td>492</td>\n      <td>492</td>\n      <td>492</td>\n      <td>492</td>\n      <td>492</td>\n      <td>492</td>\n      <td>0</td>\n    </tr>\n    <tr>\n      <th>VNM</th>\n      <td>492</td>\n      <td>492</td>\n      <td>492</td>\n      <td>492</td>\n      <td>492</td>\n      <td>492</td>\n      <td>0</td>\n    </tr>\n    <tr>\n      <th>WLD</th>\n      <td>492</td>\n      <td>492</td>\n      <td>492</td>\n      <td>492</td>\n      <td>492</td>\n      <td>492</td>\n      <td>0</td>\n    </tr>\n    <tr>\n      <th>ZAF</th>\n      <td>492</td>\n      <td>492</td>\n      <td>492</td>\n      <td>492</td>\n      <td>492</td>\n      <td>492</td>\n      <td>0</td>\n    </tr>\n  </tbody>\n</table>\n</div>"
     },
     "execution_count": 103,
     "metadata": {},
     "output_type": "execute_result"
    }
   ],
   "source": [
    "df4.groupby(by=[\"LOCATION\"]).count()"
   ],
   "metadata": {
    "collapsed": false,
    "pycharm": {
     "name": "#%%\n"
    }
   }
  },
  {
   "cell_type": "code",
   "execution_count": 104,
   "outputs": [
    {
     "data": {
      "text/plain": "          SUBJECT  MEASURE  TIME  Value\nLOCATION                               \nARG           432      432   432    432\nAUS           432      432   432    432\nBGD           432      432   432    432\nBRA           432      432   432    432\nBRICS         432      432   432    432\nCAN           432      432   432    432\nCHE           432      432   432    432\nCHL           432      432   432    432\nCHN           432      432   432    432\nCOL           432      432   432    432\nDZA           432      432   432    432\nEGY           432      432   432    432\nETH           432      432   432    432\nEU28          349      349   349    349\nGHA           432      432   432    432\nHTI           432      432   432    432\nIDN           432      432   432    432\nIND           432      432   432    432\nIRN           432      432   432    432\nISR           432      432   432    432\nJPN           432      432   432    432\nKAZ           432      432   432    432\nKOR           432      432   432    432\nMEX           432      432   432    432\nMOZ           432      432   432    432\nMYS           432      432   432    432\nNGA           432      432   432    432\nNOR           432      432   432    432\nNZL           449      449   449    449\nOECD          380      380   380    380\nPAK           432      432   432    432\nPER           432      432   432    432\nPHL           432      432   432    432\nPRY           432      432   432    432\nRUS           432      432   432    432\nSAU           432      432   432    432\nSDN           432      432   432    432\nSSA           432      432   432    432\nTHA           432      432   432    432\nTUR           432      432   432    432\nTZA           432      432   432    432\nUKR           432      432   432    432\nURY           432      432   432    432\nUSA           432      432   432    432\nVNM           432      432   432    432\nWLD           380      380   380    380\nZAF           432      432   432    432\nZMB           432      432   432    432",
      "text/html": "<div>\n<style scoped>\n    .dataframe tbody tr th:only-of-type {\n        vertical-align: middle;\n    }\n\n    .dataframe tbody tr th {\n        vertical-align: top;\n    }\n\n    .dataframe thead th {\n        text-align: right;\n    }\n</style>\n<table border=\"1\" class=\"dataframe\">\n  <thead>\n    <tr style=\"text-align: right;\">\n      <th></th>\n      <th>SUBJECT</th>\n      <th>MEASURE</th>\n      <th>TIME</th>\n      <th>Value</th>\n    </tr>\n    <tr>\n      <th>LOCATION</th>\n      <th></th>\n      <th></th>\n      <th></th>\n      <th></th>\n    </tr>\n  </thead>\n  <tbody>\n    <tr>\n      <th>ARG</th>\n      <td>432</td>\n      <td>432</td>\n      <td>432</td>\n      <td>432</td>\n    </tr>\n    <tr>\n      <th>AUS</th>\n      <td>432</td>\n      <td>432</td>\n      <td>432</td>\n      <td>432</td>\n    </tr>\n    <tr>\n      <th>BGD</th>\n      <td>432</td>\n      <td>432</td>\n      <td>432</td>\n      <td>432</td>\n    </tr>\n    <tr>\n      <th>BRA</th>\n      <td>432</td>\n      <td>432</td>\n      <td>432</td>\n      <td>432</td>\n    </tr>\n    <tr>\n      <th>BRICS</th>\n      <td>432</td>\n      <td>432</td>\n      <td>432</td>\n      <td>432</td>\n    </tr>\n    <tr>\n      <th>CAN</th>\n      <td>432</td>\n      <td>432</td>\n      <td>432</td>\n      <td>432</td>\n    </tr>\n    <tr>\n      <th>CHE</th>\n      <td>432</td>\n      <td>432</td>\n      <td>432</td>\n      <td>432</td>\n    </tr>\n    <tr>\n      <th>CHL</th>\n      <td>432</td>\n      <td>432</td>\n      <td>432</td>\n      <td>432</td>\n    </tr>\n    <tr>\n      <th>CHN</th>\n      <td>432</td>\n      <td>432</td>\n      <td>432</td>\n      <td>432</td>\n    </tr>\n    <tr>\n      <th>COL</th>\n      <td>432</td>\n      <td>432</td>\n      <td>432</td>\n      <td>432</td>\n    </tr>\n    <tr>\n      <th>DZA</th>\n      <td>432</td>\n      <td>432</td>\n      <td>432</td>\n      <td>432</td>\n    </tr>\n    <tr>\n      <th>EGY</th>\n      <td>432</td>\n      <td>432</td>\n      <td>432</td>\n      <td>432</td>\n    </tr>\n    <tr>\n      <th>ETH</th>\n      <td>432</td>\n      <td>432</td>\n      <td>432</td>\n      <td>432</td>\n    </tr>\n    <tr>\n      <th>EU28</th>\n      <td>349</td>\n      <td>349</td>\n      <td>349</td>\n      <td>349</td>\n    </tr>\n    <tr>\n      <th>GHA</th>\n      <td>432</td>\n      <td>432</td>\n      <td>432</td>\n      <td>432</td>\n    </tr>\n    <tr>\n      <th>HTI</th>\n      <td>432</td>\n      <td>432</td>\n      <td>432</td>\n      <td>432</td>\n    </tr>\n    <tr>\n      <th>IDN</th>\n      <td>432</td>\n      <td>432</td>\n      <td>432</td>\n      <td>432</td>\n    </tr>\n    <tr>\n      <th>IND</th>\n      <td>432</td>\n      <td>432</td>\n      <td>432</td>\n      <td>432</td>\n    </tr>\n    <tr>\n      <th>IRN</th>\n      <td>432</td>\n      <td>432</td>\n      <td>432</td>\n      <td>432</td>\n    </tr>\n    <tr>\n      <th>ISR</th>\n      <td>432</td>\n      <td>432</td>\n      <td>432</td>\n      <td>432</td>\n    </tr>\n    <tr>\n      <th>JPN</th>\n      <td>432</td>\n      <td>432</td>\n      <td>432</td>\n      <td>432</td>\n    </tr>\n    <tr>\n      <th>KAZ</th>\n      <td>432</td>\n      <td>432</td>\n      <td>432</td>\n      <td>432</td>\n    </tr>\n    <tr>\n      <th>KOR</th>\n      <td>432</td>\n      <td>432</td>\n      <td>432</td>\n      <td>432</td>\n    </tr>\n    <tr>\n      <th>MEX</th>\n      <td>432</td>\n      <td>432</td>\n      <td>432</td>\n      <td>432</td>\n    </tr>\n    <tr>\n      <th>MOZ</th>\n      <td>432</td>\n      <td>432</td>\n      <td>432</td>\n      <td>432</td>\n    </tr>\n    <tr>\n      <th>MYS</th>\n      <td>432</td>\n      <td>432</td>\n      <td>432</td>\n      <td>432</td>\n    </tr>\n    <tr>\n      <th>NGA</th>\n      <td>432</td>\n      <td>432</td>\n      <td>432</td>\n      <td>432</td>\n    </tr>\n    <tr>\n      <th>NOR</th>\n      <td>432</td>\n      <td>432</td>\n      <td>432</td>\n      <td>432</td>\n    </tr>\n    <tr>\n      <th>NZL</th>\n      <td>449</td>\n      <td>449</td>\n      <td>449</td>\n      <td>449</td>\n    </tr>\n    <tr>\n      <th>OECD</th>\n      <td>380</td>\n      <td>380</td>\n      <td>380</td>\n      <td>380</td>\n    </tr>\n    <tr>\n      <th>PAK</th>\n      <td>432</td>\n      <td>432</td>\n      <td>432</td>\n      <td>432</td>\n    </tr>\n    <tr>\n      <th>PER</th>\n      <td>432</td>\n      <td>432</td>\n      <td>432</td>\n      <td>432</td>\n    </tr>\n    <tr>\n      <th>PHL</th>\n      <td>432</td>\n      <td>432</td>\n      <td>432</td>\n      <td>432</td>\n    </tr>\n    <tr>\n      <th>PRY</th>\n      <td>432</td>\n      <td>432</td>\n      <td>432</td>\n      <td>432</td>\n    </tr>\n    <tr>\n      <th>RUS</th>\n      <td>432</td>\n      <td>432</td>\n      <td>432</td>\n      <td>432</td>\n    </tr>\n    <tr>\n      <th>SAU</th>\n      <td>432</td>\n      <td>432</td>\n      <td>432</td>\n      <td>432</td>\n    </tr>\n    <tr>\n      <th>SDN</th>\n      <td>432</td>\n      <td>432</td>\n      <td>432</td>\n      <td>432</td>\n    </tr>\n    <tr>\n      <th>SSA</th>\n      <td>432</td>\n      <td>432</td>\n      <td>432</td>\n      <td>432</td>\n    </tr>\n    <tr>\n      <th>THA</th>\n      <td>432</td>\n      <td>432</td>\n      <td>432</td>\n      <td>432</td>\n    </tr>\n    <tr>\n      <th>TUR</th>\n      <td>432</td>\n      <td>432</td>\n      <td>432</td>\n      <td>432</td>\n    </tr>\n    <tr>\n      <th>TZA</th>\n      <td>432</td>\n      <td>432</td>\n      <td>432</td>\n      <td>432</td>\n    </tr>\n    <tr>\n      <th>UKR</th>\n      <td>432</td>\n      <td>432</td>\n      <td>432</td>\n      <td>432</td>\n    </tr>\n    <tr>\n      <th>URY</th>\n      <td>432</td>\n      <td>432</td>\n      <td>432</td>\n      <td>432</td>\n    </tr>\n    <tr>\n      <th>USA</th>\n      <td>432</td>\n      <td>432</td>\n      <td>432</td>\n      <td>432</td>\n    </tr>\n    <tr>\n      <th>VNM</th>\n      <td>432</td>\n      <td>432</td>\n      <td>432</td>\n      <td>432</td>\n    </tr>\n    <tr>\n      <th>WLD</th>\n      <td>380</td>\n      <td>380</td>\n      <td>380</td>\n      <td>380</td>\n    </tr>\n    <tr>\n      <th>ZAF</th>\n      <td>432</td>\n      <td>432</td>\n      <td>432</td>\n      <td>432</td>\n    </tr>\n    <tr>\n      <th>ZMB</th>\n      <td>432</td>\n      <td>432</td>\n      <td>432</td>\n      <td>432</td>\n    </tr>\n  </tbody>\n</table>\n</div>"
     },
     "execution_count": 104,
     "metadata": {},
     "output_type": "execute_result"
    }
   ],
   "source": [
    "df2.groupby(by=[\"LOCATION\"]).count()"
   ],
   "metadata": {
    "collapsed": false,
    "pycharm": {
     "name": "#%%\n"
    }
   }
  },
  {
   "cell_type": "code",
   "execution_count": 105,
   "outputs": [
    {
     "data": {
      "text/plain": "      LOCATION  INDICATOR  SUBJECT  MEASURE  FREQUENCY  Value  Flag Codes\nTIME                                                                     \n1990       455        455      455      455        455    455           0\n1991       455        455      455      455        455    455           0\n1992       455        455      455      455        455    455           0\n1993       455        455      455      455        455    455           0\n1994       455        455      455      455        455    455           0\n1995       455        455      455      455        455    455           0\n1996       455        455      455      455        455    455           0\n1997       455        455      455      455        455    455           0\n1998       455        455      455      455        455    455           0\n1999       455        455      455      455        455    455           0\n2000       455        455      455      455        455    455           0\n2001       455        455      455      455        455    455           0\n2002       455        455      455      455        455    455           0\n2003       455        455      455      455        455    455           0\n2004       455        455      455      455        455    455           0\n2005       455        455      455      455        455    455           0\n2006       455        455      455      455        455    455           0\n2007       455        455      455      455        455    455           0\n2008       455        455      455      455        455    455           0\n2009       455        455      455      455        455    455           0\n2010       456        456      456      456        456    456           0\n2011       456        456      456      456        456    456           0\n2012       456        456      456      456        456    456           0\n2013       456        456      456      456        456    456           0\n2014       456        456      456      456        456    456           0\n2015       456        456      456      456        456    456           0\n2016       456        456      456      456        456    456           0\n2017       456        456      456      456        456    456           0\n2018       456        456      456      456        456    456           0\n2019       456        456      456      456        456    456           0\n2020       456        456      456      456        456    456           0\n2021       456        456      456      456        456    456           0\n2022       456        456      456      456        456    456           0\n2023       456        456      456      456        456    456           0\n2024       456        456      456      456        456    456           0\n2025       456        456      456      456        456    456           0\n2026       456        456      456      456        456    456           0\n2027       456        456      456      456        456    456           0\n2028       456        456      456      456        456    456           0\n2029       456        456      456      456        456    456           0\n2030       456        456      456      456        456    456           0",
      "text/html": "<div>\n<style scoped>\n    .dataframe tbody tr th:only-of-type {\n        vertical-align: middle;\n    }\n\n    .dataframe tbody tr th {\n        vertical-align: top;\n    }\n\n    .dataframe thead th {\n        text-align: right;\n    }\n</style>\n<table border=\"1\" class=\"dataframe\">\n  <thead>\n    <tr style=\"text-align: right;\">\n      <th></th>\n      <th>LOCATION</th>\n      <th>INDICATOR</th>\n      <th>SUBJECT</th>\n      <th>MEASURE</th>\n      <th>FREQUENCY</th>\n      <th>Value</th>\n      <th>Flag Codes</th>\n    </tr>\n    <tr>\n      <th>TIME</th>\n      <th></th>\n      <th></th>\n      <th></th>\n      <th></th>\n      <th></th>\n      <th></th>\n      <th></th>\n    </tr>\n  </thead>\n  <tbody>\n    <tr>\n      <th>1990</th>\n      <td>455</td>\n      <td>455</td>\n      <td>455</td>\n      <td>455</td>\n      <td>455</td>\n      <td>455</td>\n      <td>0</td>\n    </tr>\n    <tr>\n      <th>1991</th>\n      <td>455</td>\n      <td>455</td>\n      <td>455</td>\n      <td>455</td>\n      <td>455</td>\n      <td>455</td>\n      <td>0</td>\n    </tr>\n    <tr>\n      <th>1992</th>\n      <td>455</td>\n      <td>455</td>\n      <td>455</td>\n      <td>455</td>\n      <td>455</td>\n      <td>455</td>\n      <td>0</td>\n    </tr>\n    <tr>\n      <th>1993</th>\n      <td>455</td>\n      <td>455</td>\n      <td>455</td>\n      <td>455</td>\n      <td>455</td>\n      <td>455</td>\n      <td>0</td>\n    </tr>\n    <tr>\n      <th>1994</th>\n      <td>455</td>\n      <td>455</td>\n      <td>455</td>\n      <td>455</td>\n      <td>455</td>\n      <td>455</td>\n      <td>0</td>\n    </tr>\n    <tr>\n      <th>1995</th>\n      <td>455</td>\n      <td>455</td>\n      <td>455</td>\n      <td>455</td>\n      <td>455</td>\n      <td>455</td>\n      <td>0</td>\n    </tr>\n    <tr>\n      <th>1996</th>\n      <td>455</td>\n      <td>455</td>\n      <td>455</td>\n      <td>455</td>\n      <td>455</td>\n      <td>455</td>\n      <td>0</td>\n    </tr>\n    <tr>\n      <th>1997</th>\n      <td>455</td>\n      <td>455</td>\n      <td>455</td>\n      <td>455</td>\n      <td>455</td>\n      <td>455</td>\n      <td>0</td>\n    </tr>\n    <tr>\n      <th>1998</th>\n      <td>455</td>\n      <td>455</td>\n      <td>455</td>\n      <td>455</td>\n      <td>455</td>\n      <td>455</td>\n      <td>0</td>\n    </tr>\n    <tr>\n      <th>1999</th>\n      <td>455</td>\n      <td>455</td>\n      <td>455</td>\n      <td>455</td>\n      <td>455</td>\n      <td>455</td>\n      <td>0</td>\n    </tr>\n    <tr>\n      <th>2000</th>\n      <td>455</td>\n      <td>455</td>\n      <td>455</td>\n      <td>455</td>\n      <td>455</td>\n      <td>455</td>\n      <td>0</td>\n    </tr>\n    <tr>\n      <th>2001</th>\n      <td>455</td>\n      <td>455</td>\n      <td>455</td>\n      <td>455</td>\n      <td>455</td>\n      <td>455</td>\n      <td>0</td>\n    </tr>\n    <tr>\n      <th>2002</th>\n      <td>455</td>\n      <td>455</td>\n      <td>455</td>\n      <td>455</td>\n      <td>455</td>\n      <td>455</td>\n      <td>0</td>\n    </tr>\n    <tr>\n      <th>2003</th>\n      <td>455</td>\n      <td>455</td>\n      <td>455</td>\n      <td>455</td>\n      <td>455</td>\n      <td>455</td>\n      <td>0</td>\n    </tr>\n    <tr>\n      <th>2004</th>\n      <td>455</td>\n      <td>455</td>\n      <td>455</td>\n      <td>455</td>\n      <td>455</td>\n      <td>455</td>\n      <td>0</td>\n    </tr>\n    <tr>\n      <th>2005</th>\n      <td>455</td>\n      <td>455</td>\n      <td>455</td>\n      <td>455</td>\n      <td>455</td>\n      <td>455</td>\n      <td>0</td>\n    </tr>\n    <tr>\n      <th>2006</th>\n      <td>455</td>\n      <td>455</td>\n      <td>455</td>\n      <td>455</td>\n      <td>455</td>\n      <td>455</td>\n      <td>0</td>\n    </tr>\n    <tr>\n      <th>2007</th>\n      <td>455</td>\n      <td>455</td>\n      <td>455</td>\n      <td>455</td>\n      <td>455</td>\n      <td>455</td>\n      <td>0</td>\n    </tr>\n    <tr>\n      <th>2008</th>\n      <td>455</td>\n      <td>455</td>\n      <td>455</td>\n      <td>455</td>\n      <td>455</td>\n      <td>455</td>\n      <td>0</td>\n    </tr>\n    <tr>\n      <th>2009</th>\n      <td>455</td>\n      <td>455</td>\n      <td>455</td>\n      <td>455</td>\n      <td>455</td>\n      <td>455</td>\n      <td>0</td>\n    </tr>\n    <tr>\n      <th>2010</th>\n      <td>456</td>\n      <td>456</td>\n      <td>456</td>\n      <td>456</td>\n      <td>456</td>\n      <td>456</td>\n      <td>0</td>\n    </tr>\n    <tr>\n      <th>2011</th>\n      <td>456</td>\n      <td>456</td>\n      <td>456</td>\n      <td>456</td>\n      <td>456</td>\n      <td>456</td>\n      <td>0</td>\n    </tr>\n    <tr>\n      <th>2012</th>\n      <td>456</td>\n      <td>456</td>\n      <td>456</td>\n      <td>456</td>\n      <td>456</td>\n      <td>456</td>\n      <td>0</td>\n    </tr>\n    <tr>\n      <th>2013</th>\n      <td>456</td>\n      <td>456</td>\n      <td>456</td>\n      <td>456</td>\n      <td>456</td>\n      <td>456</td>\n      <td>0</td>\n    </tr>\n    <tr>\n      <th>2014</th>\n      <td>456</td>\n      <td>456</td>\n      <td>456</td>\n      <td>456</td>\n      <td>456</td>\n      <td>456</td>\n      <td>0</td>\n    </tr>\n    <tr>\n      <th>2015</th>\n      <td>456</td>\n      <td>456</td>\n      <td>456</td>\n      <td>456</td>\n      <td>456</td>\n      <td>456</td>\n      <td>0</td>\n    </tr>\n    <tr>\n      <th>2016</th>\n      <td>456</td>\n      <td>456</td>\n      <td>456</td>\n      <td>456</td>\n      <td>456</td>\n      <td>456</td>\n      <td>0</td>\n    </tr>\n    <tr>\n      <th>2017</th>\n      <td>456</td>\n      <td>456</td>\n      <td>456</td>\n      <td>456</td>\n      <td>456</td>\n      <td>456</td>\n      <td>0</td>\n    </tr>\n    <tr>\n      <th>2018</th>\n      <td>456</td>\n      <td>456</td>\n      <td>456</td>\n      <td>456</td>\n      <td>456</td>\n      <td>456</td>\n      <td>0</td>\n    </tr>\n    <tr>\n      <th>2019</th>\n      <td>456</td>\n      <td>456</td>\n      <td>456</td>\n      <td>456</td>\n      <td>456</td>\n      <td>456</td>\n      <td>0</td>\n    </tr>\n    <tr>\n      <th>2020</th>\n      <td>456</td>\n      <td>456</td>\n      <td>456</td>\n      <td>456</td>\n      <td>456</td>\n      <td>456</td>\n      <td>0</td>\n    </tr>\n    <tr>\n      <th>2021</th>\n      <td>456</td>\n      <td>456</td>\n      <td>456</td>\n      <td>456</td>\n      <td>456</td>\n      <td>456</td>\n      <td>0</td>\n    </tr>\n    <tr>\n      <th>2022</th>\n      <td>456</td>\n      <td>456</td>\n      <td>456</td>\n      <td>456</td>\n      <td>456</td>\n      <td>456</td>\n      <td>0</td>\n    </tr>\n    <tr>\n      <th>2023</th>\n      <td>456</td>\n      <td>456</td>\n      <td>456</td>\n      <td>456</td>\n      <td>456</td>\n      <td>456</td>\n      <td>0</td>\n    </tr>\n    <tr>\n      <th>2024</th>\n      <td>456</td>\n      <td>456</td>\n      <td>456</td>\n      <td>456</td>\n      <td>456</td>\n      <td>456</td>\n      <td>0</td>\n    </tr>\n    <tr>\n      <th>2025</th>\n      <td>456</td>\n      <td>456</td>\n      <td>456</td>\n      <td>456</td>\n      <td>456</td>\n      <td>456</td>\n      <td>0</td>\n    </tr>\n    <tr>\n      <th>2026</th>\n      <td>456</td>\n      <td>456</td>\n      <td>456</td>\n      <td>456</td>\n      <td>456</td>\n      <td>456</td>\n      <td>0</td>\n    </tr>\n    <tr>\n      <th>2027</th>\n      <td>456</td>\n      <td>456</td>\n      <td>456</td>\n      <td>456</td>\n      <td>456</td>\n      <td>456</td>\n      <td>0</td>\n    </tr>\n    <tr>\n      <th>2028</th>\n      <td>456</td>\n      <td>456</td>\n      <td>456</td>\n      <td>456</td>\n      <td>456</td>\n      <td>456</td>\n      <td>0</td>\n    </tr>\n    <tr>\n      <th>2029</th>\n      <td>456</td>\n      <td>456</td>\n      <td>456</td>\n      <td>456</td>\n      <td>456</td>\n      <td>456</td>\n      <td>0</td>\n    </tr>\n    <tr>\n      <th>2030</th>\n      <td>456</td>\n      <td>456</td>\n      <td>456</td>\n      <td>456</td>\n      <td>456</td>\n      <td>456</td>\n      <td>0</td>\n    </tr>\n  </tbody>\n</table>\n</div>"
     },
     "execution_count": 105,
     "metadata": {},
     "output_type": "execute_result"
    }
   ],
   "source": [
    "df4.groupby(by=[\"TIME\"]).count()"
   ],
   "metadata": {
    "collapsed": false,
    "pycharm": {
     "name": "#%%\n"
    }
   }
  },
  {
   "cell_type": "code",
   "execution_count": 106,
   "outputs": [
    {
     "data": {
      "text/plain": "      LOCATION  SUBJECT  MEASURE  Value\nTIME                                   \n1970         1        1        1      1\n1971         1        1        1      1\n1972         1        1        1      1\n1973         1        1        1      1\n1974         1        1        1      1\n1975         1        1        1      1\n1976         1        1        1      1\n1977         1        1        1      1\n1978         1        1        1      1\n1979         1        1        1      1\n1980         1        1        1      1\n1981         1        1        1      1\n1982         1        1        1      1\n1983         1        1        1      1\n1984         1        1        1      1\n1985         1        1        1      1\n1986         1        1        1      1\n1987         1        1        1      1\n1988         1        1        1      1\n1989         1        1        1      1\n1990       537      537      537    537\n1991       540      540      540    540\n1992       540      540      540    540\n1993       546      546      546    546\n1994       558      558      558    558\n1995       575      575      575    575\n1996       575      575      575    575\n1997       575      575      575    575\n1998       575      575      575    575\n1999       575      575      575    575\n2000       575      575      575    575\n2001       575      575      575    575\n2002       575      575      575    575\n2003       575      575      575    575\n2004       575      575      575    575\n2005       575      575      575    575\n2006       575      575      575    575\n2007       575      575      575    575\n2008       575      575      575    575\n2009       575      575      575    575\n2010       575      575      575    575\n2011       575      575      575    575\n2012       575      575      575    575\n2013       575      575      575    575\n2014       575      575      575    575\n2015       575      575      575    575\n2016       575      575      575    575\n2017       575      575      575    575\n2018       575      575      575    575\n2019       575      575      575    575\n2020       575      575      575    575\n2021       575      575      575    575\n2022       575      575      575    575\n2023       575      575      575    575\n2024       575      575      575    575\n2025       575      575      575    575",
      "text/html": "<div>\n<style scoped>\n    .dataframe tbody tr th:only-of-type {\n        vertical-align: middle;\n    }\n\n    .dataframe tbody tr th {\n        vertical-align: top;\n    }\n\n    .dataframe thead th {\n        text-align: right;\n    }\n</style>\n<table border=\"1\" class=\"dataframe\">\n  <thead>\n    <tr style=\"text-align: right;\">\n      <th></th>\n      <th>LOCATION</th>\n      <th>SUBJECT</th>\n      <th>MEASURE</th>\n      <th>Value</th>\n    </tr>\n    <tr>\n      <th>TIME</th>\n      <th></th>\n      <th></th>\n      <th></th>\n      <th></th>\n    </tr>\n  </thead>\n  <tbody>\n    <tr>\n      <th>1970</th>\n      <td>1</td>\n      <td>1</td>\n      <td>1</td>\n      <td>1</td>\n    </tr>\n    <tr>\n      <th>1971</th>\n      <td>1</td>\n      <td>1</td>\n      <td>1</td>\n      <td>1</td>\n    </tr>\n    <tr>\n      <th>1972</th>\n      <td>1</td>\n      <td>1</td>\n      <td>1</td>\n      <td>1</td>\n    </tr>\n    <tr>\n      <th>1973</th>\n      <td>1</td>\n      <td>1</td>\n      <td>1</td>\n      <td>1</td>\n    </tr>\n    <tr>\n      <th>1974</th>\n      <td>1</td>\n      <td>1</td>\n      <td>1</td>\n      <td>1</td>\n    </tr>\n    <tr>\n      <th>1975</th>\n      <td>1</td>\n      <td>1</td>\n      <td>1</td>\n      <td>1</td>\n    </tr>\n    <tr>\n      <th>1976</th>\n      <td>1</td>\n      <td>1</td>\n      <td>1</td>\n      <td>1</td>\n    </tr>\n    <tr>\n      <th>1977</th>\n      <td>1</td>\n      <td>1</td>\n      <td>1</td>\n      <td>1</td>\n    </tr>\n    <tr>\n      <th>1978</th>\n      <td>1</td>\n      <td>1</td>\n      <td>1</td>\n      <td>1</td>\n    </tr>\n    <tr>\n      <th>1979</th>\n      <td>1</td>\n      <td>1</td>\n      <td>1</td>\n      <td>1</td>\n    </tr>\n    <tr>\n      <th>1980</th>\n      <td>1</td>\n      <td>1</td>\n      <td>1</td>\n      <td>1</td>\n    </tr>\n    <tr>\n      <th>1981</th>\n      <td>1</td>\n      <td>1</td>\n      <td>1</td>\n      <td>1</td>\n    </tr>\n    <tr>\n      <th>1982</th>\n      <td>1</td>\n      <td>1</td>\n      <td>1</td>\n      <td>1</td>\n    </tr>\n    <tr>\n      <th>1983</th>\n      <td>1</td>\n      <td>1</td>\n      <td>1</td>\n      <td>1</td>\n    </tr>\n    <tr>\n      <th>1984</th>\n      <td>1</td>\n      <td>1</td>\n      <td>1</td>\n      <td>1</td>\n    </tr>\n    <tr>\n      <th>1985</th>\n      <td>1</td>\n      <td>1</td>\n      <td>1</td>\n      <td>1</td>\n    </tr>\n    <tr>\n      <th>1986</th>\n      <td>1</td>\n      <td>1</td>\n      <td>1</td>\n      <td>1</td>\n    </tr>\n    <tr>\n      <th>1987</th>\n      <td>1</td>\n      <td>1</td>\n      <td>1</td>\n      <td>1</td>\n    </tr>\n    <tr>\n      <th>1988</th>\n      <td>1</td>\n      <td>1</td>\n      <td>1</td>\n      <td>1</td>\n    </tr>\n    <tr>\n      <th>1989</th>\n      <td>1</td>\n      <td>1</td>\n      <td>1</td>\n      <td>1</td>\n    </tr>\n    <tr>\n      <th>1990</th>\n      <td>537</td>\n      <td>537</td>\n      <td>537</td>\n      <td>537</td>\n    </tr>\n    <tr>\n      <th>1991</th>\n      <td>540</td>\n      <td>540</td>\n      <td>540</td>\n      <td>540</td>\n    </tr>\n    <tr>\n      <th>1992</th>\n      <td>540</td>\n      <td>540</td>\n      <td>540</td>\n      <td>540</td>\n    </tr>\n    <tr>\n      <th>1993</th>\n      <td>546</td>\n      <td>546</td>\n      <td>546</td>\n      <td>546</td>\n    </tr>\n    <tr>\n      <th>1994</th>\n      <td>558</td>\n      <td>558</td>\n      <td>558</td>\n      <td>558</td>\n    </tr>\n    <tr>\n      <th>1995</th>\n      <td>575</td>\n      <td>575</td>\n      <td>575</td>\n      <td>575</td>\n    </tr>\n    <tr>\n      <th>1996</th>\n      <td>575</td>\n      <td>575</td>\n      <td>575</td>\n      <td>575</td>\n    </tr>\n    <tr>\n      <th>1997</th>\n      <td>575</td>\n      <td>575</td>\n      <td>575</td>\n      <td>575</td>\n    </tr>\n    <tr>\n      <th>1998</th>\n      <td>575</td>\n      <td>575</td>\n      <td>575</td>\n      <td>575</td>\n    </tr>\n    <tr>\n      <th>1999</th>\n      <td>575</td>\n      <td>575</td>\n      <td>575</td>\n      <td>575</td>\n    </tr>\n    <tr>\n      <th>2000</th>\n      <td>575</td>\n      <td>575</td>\n      <td>575</td>\n      <td>575</td>\n    </tr>\n    <tr>\n      <th>2001</th>\n      <td>575</td>\n      <td>575</td>\n      <td>575</td>\n      <td>575</td>\n    </tr>\n    <tr>\n      <th>2002</th>\n      <td>575</td>\n      <td>575</td>\n      <td>575</td>\n      <td>575</td>\n    </tr>\n    <tr>\n      <th>2003</th>\n      <td>575</td>\n      <td>575</td>\n      <td>575</td>\n      <td>575</td>\n    </tr>\n    <tr>\n      <th>2004</th>\n      <td>575</td>\n      <td>575</td>\n      <td>575</td>\n      <td>575</td>\n    </tr>\n    <tr>\n      <th>2005</th>\n      <td>575</td>\n      <td>575</td>\n      <td>575</td>\n      <td>575</td>\n    </tr>\n    <tr>\n      <th>2006</th>\n      <td>575</td>\n      <td>575</td>\n      <td>575</td>\n      <td>575</td>\n    </tr>\n    <tr>\n      <th>2007</th>\n      <td>575</td>\n      <td>575</td>\n      <td>575</td>\n      <td>575</td>\n    </tr>\n    <tr>\n      <th>2008</th>\n      <td>575</td>\n      <td>575</td>\n      <td>575</td>\n      <td>575</td>\n    </tr>\n    <tr>\n      <th>2009</th>\n      <td>575</td>\n      <td>575</td>\n      <td>575</td>\n      <td>575</td>\n    </tr>\n    <tr>\n      <th>2010</th>\n      <td>575</td>\n      <td>575</td>\n      <td>575</td>\n      <td>575</td>\n    </tr>\n    <tr>\n      <th>2011</th>\n      <td>575</td>\n      <td>575</td>\n      <td>575</td>\n      <td>575</td>\n    </tr>\n    <tr>\n      <th>2012</th>\n      <td>575</td>\n      <td>575</td>\n      <td>575</td>\n      <td>575</td>\n    </tr>\n    <tr>\n      <th>2013</th>\n      <td>575</td>\n      <td>575</td>\n      <td>575</td>\n      <td>575</td>\n    </tr>\n    <tr>\n      <th>2014</th>\n      <td>575</td>\n      <td>575</td>\n      <td>575</td>\n      <td>575</td>\n    </tr>\n    <tr>\n      <th>2015</th>\n      <td>575</td>\n      <td>575</td>\n      <td>575</td>\n      <td>575</td>\n    </tr>\n    <tr>\n      <th>2016</th>\n      <td>575</td>\n      <td>575</td>\n      <td>575</td>\n      <td>575</td>\n    </tr>\n    <tr>\n      <th>2017</th>\n      <td>575</td>\n      <td>575</td>\n      <td>575</td>\n      <td>575</td>\n    </tr>\n    <tr>\n      <th>2018</th>\n      <td>575</td>\n      <td>575</td>\n      <td>575</td>\n      <td>575</td>\n    </tr>\n    <tr>\n      <th>2019</th>\n      <td>575</td>\n      <td>575</td>\n      <td>575</td>\n      <td>575</td>\n    </tr>\n    <tr>\n      <th>2020</th>\n      <td>575</td>\n      <td>575</td>\n      <td>575</td>\n      <td>575</td>\n    </tr>\n    <tr>\n      <th>2021</th>\n      <td>575</td>\n      <td>575</td>\n      <td>575</td>\n      <td>575</td>\n    </tr>\n    <tr>\n      <th>2022</th>\n      <td>575</td>\n      <td>575</td>\n      <td>575</td>\n      <td>575</td>\n    </tr>\n    <tr>\n      <th>2023</th>\n      <td>575</td>\n      <td>575</td>\n      <td>575</td>\n      <td>575</td>\n    </tr>\n    <tr>\n      <th>2024</th>\n      <td>575</td>\n      <td>575</td>\n      <td>575</td>\n      <td>575</td>\n    </tr>\n    <tr>\n      <th>2025</th>\n      <td>575</td>\n      <td>575</td>\n      <td>575</td>\n      <td>575</td>\n    </tr>\n  </tbody>\n</table>\n</div>"
     },
     "execution_count": 106,
     "metadata": {},
     "output_type": "execute_result"
    }
   ],
   "source": [
    "df2.groupby(by=[\"TIME\"]).count()"
   ],
   "metadata": {
    "collapsed": false,
    "pycharm": {
     "name": "#%%\n"
    }
   }
  },
  {
   "cell_type": "code",
   "execution_count": 107,
   "outputs": [
    {
     "data": {
      "text/plain": "      LOCATION  SUBJECT   MEASURE  TIME         Value\n0          AUS     RICE  TONNE_HA  1990      8.314607\n1          AUS     RICE  TONNE_HA  1991      8.394737\n2          AUS     RICE  TONNE_HA  1992      8.094340\n3          AUS     RICE  TONNE_HA  1993      8.336000\n4          AUS     RICE  TONNE_HA  1994      8.537815\n...        ...      ...       ...   ...           ...\n20561     OECD  SOYBEAN   THND_HA  2021  37010.208830\n20562     OECD  SOYBEAN   THND_HA  2022  37069.214850\n20563     OECD  SOYBEAN   THND_HA  2023  37143.459750\n20564     OECD  SOYBEAN   THND_HA  2024  37013.651900\n20565     OECD  SOYBEAN   THND_HA  2025  37041.401580\n\n[20566 rows x 5 columns]",
      "text/html": "<div>\n<style scoped>\n    .dataframe tbody tr th:only-of-type {\n        vertical-align: middle;\n    }\n\n    .dataframe tbody tr th {\n        vertical-align: top;\n    }\n\n    .dataframe thead th {\n        text-align: right;\n    }\n</style>\n<table border=\"1\" class=\"dataframe\">\n  <thead>\n    <tr style=\"text-align: right;\">\n      <th></th>\n      <th>LOCATION</th>\n      <th>SUBJECT</th>\n      <th>MEASURE</th>\n      <th>TIME</th>\n      <th>Value</th>\n    </tr>\n  </thead>\n  <tbody>\n    <tr>\n      <th>0</th>\n      <td>AUS</td>\n      <td>RICE</td>\n      <td>TONNE_HA</td>\n      <td>1990</td>\n      <td>8.314607</td>\n    </tr>\n    <tr>\n      <th>1</th>\n      <td>AUS</td>\n      <td>RICE</td>\n      <td>TONNE_HA</td>\n      <td>1991</td>\n      <td>8.394737</td>\n    </tr>\n    <tr>\n      <th>2</th>\n      <td>AUS</td>\n      <td>RICE</td>\n      <td>TONNE_HA</td>\n      <td>1992</td>\n      <td>8.094340</td>\n    </tr>\n    <tr>\n      <th>3</th>\n      <td>AUS</td>\n      <td>RICE</td>\n      <td>TONNE_HA</td>\n      <td>1993</td>\n      <td>8.336000</td>\n    </tr>\n    <tr>\n      <th>4</th>\n      <td>AUS</td>\n      <td>RICE</td>\n      <td>TONNE_HA</td>\n      <td>1994</td>\n      <td>8.537815</td>\n    </tr>\n    <tr>\n      <th>...</th>\n      <td>...</td>\n      <td>...</td>\n      <td>...</td>\n      <td>...</td>\n      <td>...</td>\n    </tr>\n    <tr>\n      <th>20561</th>\n      <td>OECD</td>\n      <td>SOYBEAN</td>\n      <td>THND_HA</td>\n      <td>2021</td>\n      <td>37010.208830</td>\n    </tr>\n    <tr>\n      <th>20562</th>\n      <td>OECD</td>\n      <td>SOYBEAN</td>\n      <td>THND_HA</td>\n      <td>2022</td>\n      <td>37069.214850</td>\n    </tr>\n    <tr>\n      <th>20563</th>\n      <td>OECD</td>\n      <td>SOYBEAN</td>\n      <td>THND_HA</td>\n      <td>2023</td>\n      <td>37143.459750</td>\n    </tr>\n    <tr>\n      <th>20564</th>\n      <td>OECD</td>\n      <td>SOYBEAN</td>\n      <td>THND_HA</td>\n      <td>2024</td>\n      <td>37013.651900</td>\n    </tr>\n    <tr>\n      <th>20565</th>\n      <td>OECD</td>\n      <td>SOYBEAN</td>\n      <td>THND_HA</td>\n      <td>2025</td>\n      <td>37041.401580</td>\n    </tr>\n  </tbody>\n</table>\n<p>20566 rows × 5 columns</p>\n</div>"
     },
     "execution_count": 107,
     "metadata": {},
     "output_type": "execute_result"
    }
   ],
   "source": [
    "df2[df2[\"Value\"].isna()==False]"
   ],
   "metadata": {
    "collapsed": false,
    "pycharm": {
     "name": "#%%\n"
    }
   }
  },
  {
   "cell_type": "code",
   "execution_count": null,
   "outputs": [],
   "source": [],
   "metadata": {
    "collapsed": false,
    "pycharm": {
     "name": "#%%\n"
    }
   }
  },
  {
   "cell_type": "code",
   "execution_count": 110,
   "outputs": [],
   "source": [
    "df6=pd.read_excel(\"Data/supply_demand.xlsx\")"
   ],
   "metadata": {
    "collapsed": false,
    "pycharm": {
     "name": "#%%\n"
    }
   }
  },
  {
   "cell_type": "code",
   "execution_count": 111,
   "outputs": [
    {
     "data": {
      "text/plain": "   Worksheet                                           Variable  \\\n0     USCorn                                               YEAR   \n1        NaN                                            PLANTED   \n2        NaN                                            HARVEST   \n3        NaN                                              YIELD   \n4        NaN                                           PRODUCED   \n..       ...                                                ...   \n92       NaN                                           USSUPPLY   \n93       NaN                                            FSUPPLY   \n94       NaN                                                NaN   \n95       NaN                                                NaN   \n96    Source  https://farmdoc.illinois.edu/decision-tools/ag...   \n\n                Full Name                  Units  Unnamed: 4 Unnamed: 5  \\\n0   Year Beginning Sep 1.                    NaN         NaN        NaN   \n1           Acres Planted           (1000 acres)         NaN        NaN   \n2         Acres Harvested           (1000 acres)         NaN        NaN   \n3          Yield Per Acre              (Bushels)         NaN        NaN   \n4              Production      (Million Bushels)         NaN        NaN   \n..                    ...                    ...         ...        ...   \n92      U.S. Total Supply  (Million Metric Tons)         NaN        NaN   \n93   Foreign Total Supply  (Million Metric Tons)         NaN        NaN   \n94                    NaN                    NaN         NaN        NaN   \n95                    NaN                    NaN         NaN        NaN   \n96                    NaN                    NaN         NaN        NaN   \n\n   Unnamed: 6  \n0         NaN  \n1         NaN  \n2         NaN  \n3         NaN  \n4         NaN  \n..        ...  \n92        NaN  \n93        NaN  \n94        NaN  \n95        NaN  \n96        NaN  \n\n[97 rows x 7 columns]",
      "text/html": "<div>\n<style scoped>\n    .dataframe tbody tr th:only-of-type {\n        vertical-align: middle;\n    }\n\n    .dataframe tbody tr th {\n        vertical-align: top;\n    }\n\n    .dataframe thead th {\n        text-align: right;\n    }\n</style>\n<table border=\"1\" class=\"dataframe\">\n  <thead>\n    <tr style=\"text-align: right;\">\n      <th></th>\n      <th>Worksheet</th>\n      <th>Variable</th>\n      <th>Full Name</th>\n      <th>Units</th>\n      <th>Unnamed: 4</th>\n      <th>Unnamed: 5</th>\n      <th>Unnamed: 6</th>\n    </tr>\n  </thead>\n  <tbody>\n    <tr>\n      <th>0</th>\n      <td>USCorn</td>\n      <td>YEAR</td>\n      <td>Year Beginning Sep 1.</td>\n      <td>NaN</td>\n      <td>NaN</td>\n      <td>NaN</td>\n      <td>NaN</td>\n    </tr>\n    <tr>\n      <th>1</th>\n      <td>NaN</td>\n      <td>PLANTED</td>\n      <td>Acres Planted</td>\n      <td>(1000 acres)</td>\n      <td>NaN</td>\n      <td>NaN</td>\n      <td>NaN</td>\n    </tr>\n    <tr>\n      <th>2</th>\n      <td>NaN</td>\n      <td>HARVEST</td>\n      <td>Acres Harvested</td>\n      <td>(1000 acres)</td>\n      <td>NaN</td>\n      <td>NaN</td>\n      <td>NaN</td>\n    </tr>\n    <tr>\n      <th>3</th>\n      <td>NaN</td>\n      <td>YIELD</td>\n      <td>Yield Per Acre</td>\n      <td>(Bushels)</td>\n      <td>NaN</td>\n      <td>NaN</td>\n      <td>NaN</td>\n    </tr>\n    <tr>\n      <th>4</th>\n      <td>NaN</td>\n      <td>PRODUCED</td>\n      <td>Production</td>\n      <td>(Million Bushels)</td>\n      <td>NaN</td>\n      <td>NaN</td>\n      <td>NaN</td>\n    </tr>\n    <tr>\n      <th>...</th>\n      <td>...</td>\n      <td>...</td>\n      <td>...</td>\n      <td>...</td>\n      <td>...</td>\n      <td>...</td>\n      <td>...</td>\n    </tr>\n    <tr>\n      <th>92</th>\n      <td>NaN</td>\n      <td>USSUPPLY</td>\n      <td>U.S. Total Supply</td>\n      <td>(Million Metric Tons)</td>\n      <td>NaN</td>\n      <td>NaN</td>\n      <td>NaN</td>\n    </tr>\n    <tr>\n      <th>93</th>\n      <td>NaN</td>\n      <td>FSUPPLY</td>\n      <td>Foreign Total Supply</td>\n      <td>(Million Metric Tons)</td>\n      <td>NaN</td>\n      <td>NaN</td>\n      <td>NaN</td>\n    </tr>\n    <tr>\n      <th>94</th>\n      <td>NaN</td>\n      <td>NaN</td>\n      <td>NaN</td>\n      <td>NaN</td>\n      <td>NaN</td>\n      <td>NaN</td>\n      <td>NaN</td>\n    </tr>\n    <tr>\n      <th>95</th>\n      <td>NaN</td>\n      <td>NaN</td>\n      <td>NaN</td>\n      <td>NaN</td>\n      <td>NaN</td>\n      <td>NaN</td>\n      <td>NaN</td>\n    </tr>\n    <tr>\n      <th>96</th>\n      <td>Source</td>\n      <td>https://farmdoc.illinois.edu/decision-tools/ag...</td>\n      <td>NaN</td>\n      <td>NaN</td>\n      <td>NaN</td>\n      <td>NaN</td>\n      <td>NaN</td>\n    </tr>\n  </tbody>\n</table>\n<p>97 rows × 7 columns</p>\n</div>"
     },
     "execution_count": 111,
     "metadata": {},
     "output_type": "execute_result"
    }
   ],
   "source": [
    "df6"
   ],
   "metadata": {
    "collapsed": false,
    "pycharm": {
     "name": "#%%\n"
    }
   }
  },
  {
   "cell_type": "code",
   "execution_count": 112,
   "outputs": [
    {
     "name": "stdout",
     "output_type": "stream",
     "text": [
      "OrderedDict([('nameshort', 'La Javilla'), ('namelong', 'La Javilla Airport'), ('namealt', ''), ('city', ''), ('icao', 'MLLJ'), ('iata', ''), ('apttype', 'Airstrip'), ('aptclass', 'Unspecified'), ('authority', ''), ('status', 'Open'), ('dmg', ''), ('rwpaved', ''), ('rwlengthm', 0), ('rwlengthf', 0), ('elevm', 13), ('elevf', 43), ('humuse', ''), ('humoperate', ''), ('locprecisi', ''), ('latitude', 9.81112), ('longitude', -85.2955), ('iso3', 'CRI'), ('iso3_op', 'CRI'), ('country', 'Costa Rica'), ('lastcheckd', datetime.date(2018, 5, 11)), ('remarks', ''), ('url_lca', ''), ('source', ''), ('createdate', datetime.date(2018, 5, 11)), ('updatedate', datetime.date(2018, 5, 12)), ('geonameid', 3623378), ('gdb_geomat', ''), ('rwwidthm', None)])\n",
      "OrderedDict([('nameshort', 'Murtala Muhammed'), ('namelong', 'Murtala Muhammed'), ('namealt', ''), ('city', 'Lagos'), ('icao', 'DNMM'), ('iata', 'LOS'), ('apttype', 'Airport'), ('aptclass', 'International'), ('authority', 'Civil/Military'), ('status', 'Open'), ('dmg', 'Unknown'), ('rwpaved', 'Yes'), ('rwlengthm', None), ('rwlengthf', None), ('elevm', 41), ('elevf', 135), ('humuse', 'No'), ('humoperate', ''), ('locprecisi', 'Unknown'), ('latitude', 6.57853), ('longitude', 3.32214), ('iso3', 'NGA'), ('iso3_op', ''), ('country', 'Nigeria'), ('lastcheckd', None), ('remarks', ''), ('url_lca', ''), ('source', ''), ('createdate', datetime.date(2013, 5, 14)), ('updatedate', datetime.date(2016, 12, 2)), ('geonameid', 2332459), ('gdb_geomat', ''), ('rwwidthm', None)])\n",
      "OrderedDict([('nameshort', 'Bida'), ('namelong', 'Bida Airport'), ('namealt', ''), ('city', 'Bida'), ('icao', 'DNBI'), ('iata', ''), ('apttype', 'Airstrip'), ('aptclass', 'Domestic'), ('authority', 'Civil'), ('status', 'Open'), ('dmg', 'Unknown'), ('rwpaved', 'Unknown'), ('rwlengthm', None), ('rwlengthf', None), ('elevm', None), ('elevf', None), ('humuse', 'No'), ('humoperate', ''), ('locprecisi', 'Unknown'), ('latitude', 9.10347), ('longitude', 6.01528), ('iso3', 'NGA'), ('iso3_op', ''), ('country', 'Nigeria'), ('lastcheckd', None), ('remarks', ''), ('url_lca', ''), ('source', ''), ('createdate', datetime.date(2013, 5, 14)), ('updatedate', datetime.date(2016, 12, 2)), ('geonameid', 2347209), ('gdb_geomat', ''), ('rwwidthm', None)])\n",
      "OrderedDict([('nameshort', 'Kainji'), ('namelong', 'Kainji'), ('namealt', ''), ('city', ''), ('icao', 'DNIX'), ('iata', ''), ('apttype', 'Airfield'), ('aptclass', 'Domestic'), ('authority', 'Military'), ('status', 'Unknown'), ('dmg', 'Unknown'), ('rwpaved', 'Unknown'), ('rwlengthm', None), ('rwlengthf', None), ('elevm', 229), ('elevf', 751), ('humuse', 'No'), ('humoperate', ''), ('locprecisi', 'Unknown'), ('latitude', 9.89267), ('longitude', 4.48545), ('iso3', 'NGA'), ('iso3_op', ''), ('country', 'Nigeria'), ('lastcheckd', None), ('remarks', ''), ('url_lca', ''), ('source', ''), ('createdate', datetime.date(2013, 5, 14)), ('updatedate', datetime.date(2016, 12, 2)), ('geonameid', None), ('gdb_geomat', ''), ('rwwidthm', None)])\n",
      "OrderedDict([('nameshort', 'Katsina'), ('namelong', 'Katsina'), ('namealt', ''), ('city', 'Katsina'), ('icao', ''), ('iata', ''), ('apttype', 'Airfield'), ('aptclass', 'Domestic'), ('authority', 'Civil'), ('status', 'Open'), ('dmg', 'Unknown'), ('rwpaved', 'Unknown'), ('rwlengthm', None), ('rwlengthf', None), ('elevm', None), ('elevf', None), ('humuse', 'No'), ('humoperate', ''), ('locprecisi', 'Unknown'), ('latitude', 13.008), ('longitude', 7.66), ('iso3', 'NGA'), ('iso3_op', ''), ('country', 'Nigeria'), ('lastcheckd', None), ('remarks', ''), ('url_lca', ''), ('source', ''), ('createdate', datetime.date(2013, 5, 14)), ('updatedate', datetime.date(2016, 12, 2)), ('geonameid', 2334802), ('gdb_geomat', ''), ('rwwidthm', None)])\n",
      "OrderedDict([('nameshort', 'Escravos'), ('namelong', 'Escravos'), ('namealt', ''), ('city', ''), ('icao', ''), ('iata', ''), ('apttype', 'Airstrip'), ('aptclass', 'Domestic'), ('authority', 'Private'), ('status', 'Open'), ('dmg', 'Unknown'), ('rwpaved', 'Unknown'), ('rwlengthm', None), ('rwlengthf', None), ('elevm', 2), ('elevf', 7), ('humuse', 'No'), ('humoperate', ''), ('locprecisi', 'Unknown'), ('latitude', 5.61387), ('longitude', 5.18708), ('iso3', 'NGA'), ('iso3_op', ''), ('country', 'Nigeria'), ('lastcheckd', None), ('remarks', ''), ('url_lca', ''), ('source', ''), ('createdate', datetime.date(2013, 5, 14)), ('updatedate', datetime.date(2016, 12, 2)), ('geonameid', None), ('gdb_geomat', ''), ('rwwidthm', None)])\n",
      "OrderedDict([('nameshort', 'Bajoga N E'), ('namelong', 'Bajoga N E'), ('namealt', ''), ('city', ''), ('icao', ''), ('iata', ''), ('apttype', 'Airstrip'), ('aptclass', 'Domestic'), ('authority', 'Civil'), ('status', 'Open'), ('dmg', 'Unknown'), ('rwpaved', 'Unknown'), ('rwlengthm', None), ('rwlengthf', None), ('elevm', 305), ('elevf', 1001), ('humuse', 'No'), ('humoperate', ''), ('locprecisi', 'Unknown'), ('latitude', 10.92083), ('longitude', 11.50167), ('iso3', 'NGA'), ('iso3_op', ''), ('country', 'Nigeria'), ('lastcheckd', None), ('remarks', ''), ('url_lca', ''), ('source', ''), ('createdate', datetime.date(2013, 5, 14)), ('updatedate', datetime.date(2016, 12, 2)), ('geonameid', None), ('gdb_geomat', ''), ('rwwidthm', None)])\n",
      "OrderedDict([('nameshort', 'Gusau'), ('namelong', 'Gusau'), ('namealt', ''), ('city', 'Gusau'), ('icao', 'DNGU'), ('iata', 'QUS'), ('apttype', 'Airstrip'), ('aptclass', 'Domestic'), ('authority', 'Civil'), ('status', 'Open'), ('dmg', 'Unknown'), ('rwpaved', 'Unknown'), ('rwlengthm', None), ('rwlengthf', None), ('elevm', None), ('elevf', None), ('humuse', 'No'), ('humoperate', ''), ('locprecisi', 'Unknown'), ('latitude', 12.172), ('longitude', 6.696), ('iso3', 'NGA'), ('iso3_op', ''), ('country', 'Nigeria'), ('lastcheckd', None), ('remarks', ''), ('url_lca', ''), ('source', ''), ('createdate', datetime.date(2013, 5, 14)), ('updatedate', datetime.date(2017, 11, 20)), ('geonameid', 2339937), ('gdb_geomat', ''), ('rwwidthm', None)])\n",
      "OrderedDict([('nameshort', 'Akure'), ('namelong', 'Akure'), ('namealt', ''), ('city', ''), ('icao', 'DNAK'), ('iata', 'AKR'), ('apttype', 'Airfield'), ('aptclass', 'Domestic'), ('authority', 'Civil'), ('status', 'Open'), ('dmg', 'Unknown'), ('rwpaved', 'Unknown'), ('rwlengthm', None), ('rwlengthf', None), ('elevm', 335), ('elevf', 1099), ('humuse', 'No'), ('humoperate', ''), ('locprecisi', 'Unknown'), ('latitude', 7.25868), ('longitude', 5.30345), ('iso3', 'NGA'), ('iso3_op', ''), ('country', 'Nigeria'), ('lastcheckd', None), ('remarks', ''), ('url_lca', ''), ('source', ''), ('createdate', datetime.date(2013, 5, 14)), ('updatedate', datetime.date(2016, 12, 2)), ('geonameid', 2350841), ('gdb_geomat', ''), ('rwwidthm', None)])\n",
      "OrderedDict([('nameshort', 'Ibadan'), ('namelong', 'Ibadan'), ('namealt', ''), ('city', ''), ('icao', 'DNIB'), ('iata', 'IBA'), ('apttype', 'Airfield'), ('aptclass', 'Domestic'), ('authority', 'Civil'), ('status', 'Open'), ('dmg', 'Unknown'), ('rwpaved', 'Unknown'), ('rwlengthm', None), ('rwlengthf', None), ('elevm', 221), ('elevf', 725), ('humuse', 'No'), ('humoperate', ''), ('locprecisi', 'Unknown'), ('latitude', 7.36083), ('longitude', 3.97583), ('iso3', 'NGA'), ('iso3_op', ''), ('country', 'Nigeria'), ('lastcheckd', None), ('remarks', ''), ('url_lca', ''), ('source', ''), ('createdate', datetime.date(2013, 5, 14)), ('updatedate', datetime.date(2016, 12, 2)), ('geonameid', 2339354), ('gdb_geomat', ''), ('rwwidthm', None)])\n",
      "OrderedDict([('nameshort', 'Minna New'), ('namelong', 'Minna New'), ('namealt', ''), ('city', ''), ('icao', 'DNMN'), ('iata', 'MXJ'), ('apttype', 'Airfield'), ('aptclass', 'Domestic'), ('authority', 'Civil'), ('status', 'Open'), ('dmg', 'Unknown'), ('rwpaved', 'Unknown'), ('rwlengthm', None), ('rwlengthf', None), ('elevm', 254), ('elevf', 833), ('humuse', 'No'), ('humoperate', ''), ('locprecisi', 'Unknown'), ('latitude', 9.65156), ('longitude', 6.4615), ('iso3', 'NGA'), ('iso3_op', ''), ('country', 'Nigeria'), ('lastcheckd', None), ('remarks', ''), ('url_lca', ''), ('source', ''), ('createdate', datetime.date(2013, 5, 14)), ('updatedate', datetime.date(2016, 12, 2)), ('geonameid', 2330100), ('gdb_geomat', ''), ('rwwidthm', None)])\n",
      "OrderedDict([('nameshort', 'Port Harcourt'), ('namelong', 'Port Harcourt'), ('namealt', ''), ('city', ''), ('icao', 'DNPO'), ('iata', 'PHC'), ('apttype', 'Airport'), ('aptclass', 'International'), ('authority', 'Civil'), ('status', 'Open'), ('dmg', 'Unknown'), ('rwpaved', 'Yes'), ('rwlengthm', None), ('rwlengthf', None), ('elevm', 25), ('elevf', 82), ('humuse', 'No'), ('humoperate', ''), ('locprecisi', 'Unknown'), ('latitude', 5.01542), ('longitude', 6.94714), ('iso3', 'NGA'), ('iso3_op', ''), ('country', 'Nigeria'), ('lastcheckd', None), ('remarks', ''), ('url_lca', ''), ('source', ''), ('createdate', datetime.date(2013, 5, 14)), ('updatedate', datetime.date(2016, 12, 2)), ('geonameid', 2324774), ('gdb_geomat', ''), ('rwwidthm', None)])\n",
      "OrderedDict([('nameshort', 'Calabar'), ('namelong', 'Calabar'), ('namealt', ''), ('city', ''), ('icao', 'DNCA'), ('iata', 'CBQ'), ('apttype', 'Airport'), ('aptclass', 'International'), ('authority', 'Civil'), ('status', 'Open'), ('dmg', 'Unknown'), ('rwpaved', 'Yes'), ('rwlengthm', None), ('rwlengthf', None), ('elevm', 64), ('elevf', 210), ('humuse', 'No'), ('humoperate', ''), ('locprecisi', 'Unknown'), ('latitude', 4.976), ('longitude', 8.34738), ('iso3', 'NGA'), ('iso3_op', ''), ('country', 'Nigeria'), ('lastcheckd', None), ('remarks', ''), ('url_lca', ''), ('source', ''), ('createdate', datetime.date(2013, 5, 14)), ('updatedate', datetime.date(2016, 12, 2)), ('geonameid', 2346229), ('gdb_geomat', ''), ('rwwidthm', None)])\n",
      "OrderedDict([('nameshort', 'Enugu'), ('namelong', 'Enugu'), ('namealt', ''), ('city', ''), ('icao', 'DNEN'), ('iata', 'ENU'), ('apttype', 'Airport'), ('aptclass', 'International'), ('authority', 'Civil'), ('status', 'Open'), ('dmg', 'Unknown'), ('rwpaved', 'Yes'), ('rwlengthm', None), ('rwlengthf', None), ('elevm', 142), ('elevf', 466), ('humuse', 'No'), ('humoperate', ''), ('locprecisi', 'Unknown'), ('latitude', 6.47417), ('longitude', 7.56083), ('iso3', 'NGA'), ('iso3_op', ''), ('country', 'Nigeria'), ('lastcheckd', None), ('remarks', ''), ('url_lca', ''), ('source', ''), ('createdate', datetime.date(2013, 5, 14)), ('updatedate', datetime.date(2016, 12, 2)), ('geonameid', 2343279), ('gdb_geomat', ''), ('rwwidthm', None)])\n",
      "OrderedDict([('nameshort', 'Makurdi'), ('namelong', 'Makurdi'), ('namealt', ''), ('city', ''), ('icao', 'DNMK'), ('iata', 'MDI'), ('apttype', 'Airport'), ('aptclass', 'Domestic'), ('authority', 'Military'), ('status', 'Open'), ('dmg', 'Unknown'), ('rwpaved', 'Unknown'), ('rwlengthm', None), ('rwlengthf', None), ('elevm', 113), ('elevf', 371), ('humuse', 'No'), ('humoperate', ''), ('locprecisi', 'Unknown'), ('latitude', 7.70389), ('longitude', 8.61417), ('iso3', 'NGA'), ('iso3_op', ''), ('country', 'Nigeria'), ('lastcheckd', None), ('remarks', ''), ('url_lca', ''), ('source', ''), ('createdate', datetime.date(2013, 5, 14)), ('updatedate', datetime.date(2016, 12, 2)), ('geonameid', 2331140), ('gdb_geomat', ''), ('rwwidthm', None)])\n",
      "OrderedDict([('nameshort', 'Warri'), ('namelong', 'Warri'), ('namealt', ''), ('city', 'Warri'), ('icao', ''), ('iata', 'QRW'), ('apttype', 'Airfield'), ('aptclass', 'Domestic'), ('authority', 'Private'), ('status', 'Open'), ('dmg', 'Unknown'), ('rwpaved', 'Unknown'), ('rwlengthm', None), ('rwlengthf', None), ('elevm', None), ('elevf', None), ('humuse', 'No'), ('humoperate', ''), ('locprecisi', 'Unknown'), ('latitude', 5.596), ('longitude', 5.818), ('iso3', 'NGA'), ('iso3_op', ''), ('country', 'Nigeria'), ('lastcheckd', None), ('remarks', ''), ('url_lca', ''), ('source', ''), ('createdate', datetime.date(2013, 5, 14)), ('updatedate', datetime.date(2016, 12, 2)), ('geonameid', 2319133), ('gdb_geomat', ''), ('rwwidthm', None)])\n",
      "OrderedDict([('nameshort', 'Kaduna'), ('namelong', 'Kaduna'), ('namealt', ''), ('city', ''), ('icao', 'DNKA'), ('iata', 'KAD'), ('apttype', 'Airfield'), ('aptclass', 'Domestic'), ('authority', 'Civil/Military'), ('status', 'Open'), ('dmg', 'Unknown'), ('rwpaved', 'Unknown'), ('rwlengthm', None), ('rwlengthf', None), ('elevm', 631), ('elevf', 2070), ('humuse', 'No'), ('humoperate', ''), ('locprecisi', 'Unknown'), ('latitude', 10.695), ('longitude', 7.3225), ('iso3', 'NGA'), ('iso3_op', ''), ('country', 'Nigeria'), ('lastcheckd', None), ('remarks', ''), ('url_lca', ''), ('source', ''), ('createdate', datetime.date(2013, 5, 14)), ('updatedate', datetime.date(2016, 12, 2)), ('geonameid', 2335727), ('gdb_geomat', ''), ('rwwidthm', None)])\n",
      "OrderedDict([('nameshort', 'Injanah'), ('namelong', 'Injanah Air Field'), ('namealt', ''), ('city', ''), ('icao', ''), ('iata', ''), ('apttype', 'Airfield'), ('aptclass', 'Domestic'), ('authority', 'Unknown'), ('status', 'Open'), ('dmg', 'Unknown'), ('rwpaved', 'Unknown'), ('rwlengthm', None), ('rwlengthf', None), ('elevm', None), ('elevf', None), ('humuse', 'No'), ('humoperate', ''), ('locprecisi', 'Unknown'), ('latitude', 34.446), ('longitude', 44.595), ('iso3', 'IRQ'), ('iso3_op', 'IRQ'), ('country', 'Iraq'), ('lastcheckd', None), ('remarks', ''), ('url_lca', ''), ('source', ''), ('createdate', datetime.date(2013, 5, 14)), ('updatedate', datetime.date(2015, 1, 27)), ('geonameid', 95452), ('gdb_geomat', ''), ('rwwidthm', None)])\n",
      "OrderedDict([('nameshort', 'Bere'), ('namelong', 'Bere Airstrip'), ('namealt', ''), ('city', 'Bere'), ('icao', ''), ('iata', ''), ('apttype', 'Airstrip'), ('aptclass', 'Domestic'), ('authority', 'Unknown'), ('status', 'Unknown'), ('dmg', 'Unknown'), ('rwpaved', 'No'), ('rwlengthm', None), ('rwlengthf', None), ('elevm', None), ('elevf', None), ('humuse', 'No'), ('humoperate', ''), ('locprecisi', 'Unknown'), ('latitude', 9.29645), ('longitude', 16.15404), ('iso3', 'TCD'), ('iso3_op', 'TCD'), ('country', 'Chad'), ('lastcheckd', None), ('remarks', ''), ('url_lca', ''), ('source', ''), ('createdate', datetime.date(2013, 7, 6)), ('updatedate', datetime.date(2015, 1, 27)), ('geonameid', 2435474), ('gdb_geomat', ''), ('rwwidthm', None)])\n",
      "OrderedDict([('nameshort', 'Kassala'), ('namelong', 'Kassala'), ('namealt', ''), ('city', 'Kassala'), ('icao', 'HSKA'), ('iata', 'KSL'), ('apttype', 'Airport'), ('aptclass', 'Domestic'), ('authority', 'Civil'), ('status', 'Open'), ('dmg', 'Unknown'), ('rwpaved', 'Unknown'), ('rwlengthm', None), ('rwlengthf', None), ('elevm', None), ('elevf', None), ('humuse', 'Connection'), ('humoperate', 'UNHAS'), ('locprecisi', 'Unknown'), ('latitude', 15.38757), ('longitude', 36.3287), ('iso3', 'SDN'), ('iso3_op', 'SDN'), ('country', 'Sudan'), ('lastcheckd', datetime.date(2014, 5, 13)), ('remarks', ''), ('url_lca', ''), ('source', 'WFP Sudan'), ('createdate', datetime.date(2013, 5, 14)), ('updatedate', datetime.date(2015, 1, 27)), ('geonameid', 372753), ('gdb_geomat', ''), ('rwwidthm', None)])\n",
      "OrderedDict([('nameshort', 'Subakhu'), ('namelong', 'Subakhu Air Field'), ('namealt', ''), ('city', ''), ('icao', ''), ('iata', ''), ('apttype', 'Airfield'), ('aptclass', 'Domestic'), ('authority', 'Unknown'), ('status', 'Open'), ('dmg', 'Unknown'), ('rwpaved', 'Unknown'), ('rwlengthm', None), ('rwlengthf', None), ('elevm', None), ('elevf', None), ('humuse', 'No'), ('humoperate', ''), ('locprecisi', 'Unknown'), ('latitude', 33.934), ('longitude', 45.101), ('iso3', 'IRQ'), ('iso3_op', 'IRQ'), ('country', 'Iraq'), ('lastcheckd', None), ('remarks', ''), ('url_lca', ''), ('source', ''), ('createdate', datetime.date(2013, 5, 14)), ('updatedate', datetime.date(2015, 1, 27)), ('geonameid', 90611), ('gdb_geomat', ''), ('rwwidthm', None)])\n",
      "OrderedDict([('nameshort', 'Limon Colon'), ('namelong', 'Limon Colon'), ('namealt', ''), ('city', ''), ('icao', ''), ('iata', 'LMH'), ('apttype', 'Airstrip'), ('aptclass', 'Unknown'), ('authority', 'Unknown'), ('status', 'Unknown'), ('dmg', 'Unknown'), ('rwpaved', 'Unknown'), ('rwlengthm', None), ('rwlengthf', None), ('elevm', None), ('elevf', None), ('humuse', 'No'), ('humoperate', ''), ('locprecisi', 'Unknown'), ('latitude', 15.85867), ('longitude', -85.44316), ('iso3', 'HND'), ('iso3_op', 'HND'), ('country', 'Honduras'), ('lastcheckd', None), ('remarks', ''), ('url_lca', ''), ('source', ''), ('createdate', datetime.date(2013, 5, 14)), ('updatedate', datetime.date(2015, 1, 27)), ('geonameid', None), ('gdb_geomat', ''), ('rwwidthm', None)])\n",
      "OrderedDict([('nameshort', 'Ayawasi'), ('namelong', 'Ayawasi'), ('namealt', ''), ('city', ''), ('icao', ''), ('iata', 'AYW'), ('apttype', 'Airstrip'), ('aptclass', 'Domestic'), ('authority', 'Unknown'), ('status', 'Open'), ('dmg', 'Unknown'), ('rwpaved', 'Unknown'), ('rwlengthm', None), ('rwlengthf', None), ('elevm', None), ('elevf', None), ('humuse', 'No'), ('humoperate', ''), ('locprecisi', 'Unknown'), ('latitude', -1.2), ('longitude', 132.5), ('iso3', 'IDN'), ('iso3_op', 'IDN'), ('country', 'Indonesia'), ('lastcheckd', None), ('remarks', ''), ('url_lca', ''), ('source', ''), ('createdate', datetime.date(2013, 5, 14)), ('updatedate', datetime.date(2015, 1, 27)), ('geonameid', None), ('gdb_geomat', ''), ('rwwidthm', None)])\n",
      "OrderedDict([('nameshort', 'Narok'), ('namelong', 'Narok'), ('namealt', ''), ('city', 'Narok'), ('icao', 'HKNO'), ('iata', ''), ('apttype', 'Airstrip'), ('aptclass', 'Domestic'), ('authority', 'Civil'), ('status', 'Unknown'), ('dmg', 'Unknown'), ('rwpaved', 'Unknown'), ('rwlengthm', None), ('rwlengthf', None), ('elevm', None), ('elevf', None), ('humuse', 'No'), ('humoperate', ''), ('locprecisi', 'Unknown'), ('latitude', -1.15279), ('longitude', 35.76885), ('iso3', 'KEN'), ('iso3_op', 'KEN'), ('country', 'Kenya'), ('lastcheckd', None), ('remarks', ''), ('url_lca', ''), ('source', ''), ('createdate', datetime.date(2013, 5, 14)), ('updatedate', datetime.date(2015, 1, 27)), ('geonameid', 184379), ('gdb_geomat', ''), ('rwwidthm', None)])\n",
      "OrderedDict([('nameshort', 'Tanai'), ('namelong', 'Tanai'), ('namealt', ''), ('city', 'Tanai'), ('icao', 'VYTN'), ('iata', ''), ('apttype', 'Unknown'), ('aptclass', 'Unknown'), ('authority', 'Unknown'), ('status', 'Unknown'), ('dmg', 'Unknown'), ('rwpaved', 'Unknown'), ('rwlengthm', None), ('rwlengthf', None), ('elevm', None), ('elevf', None), ('humuse', 'No'), ('humoperate', ''), ('locprecisi', 'Unknown'), ('latitude', 26.367), ('longitude', 96.733), ('iso3', 'MMR'), ('iso3_op', 'MMR'), ('country', 'Myanmar'), ('lastcheckd', None), ('remarks', ''), ('url_lca', ''), ('source', ''), ('createdate', datetime.date(2013, 5, 14)), ('updatedate', datetime.date(2015, 1, 27)), ('geonameid', 1294738), ('gdb_geomat', ''), ('rwwidthm', None)])\n",
      "OrderedDict([('nameshort', 'Efes'), ('namelong', 'Efes'), ('namealt', ''), ('city', 'Izmir'), ('icao', 'LTFB'), ('iata', ''), ('apttype', 'Airstrip'), ('aptclass', 'Domestic'), ('authority', 'Civil'), ('status', 'Unknown'), ('dmg', 'Unknown'), ('rwpaved', 'Unknown'), ('rwlengthm', None), ('rwlengthf', None), ('elevm', None), ('elevf', None), ('humuse', 'No'), ('humoperate', ''), ('locprecisi', 'Unknown'), ('latitude', 37.951), ('longitude', 27.329), ('iso3', 'TUR'), ('iso3_op', 'TUR'), ('country', 'Turkey'), ('lastcheckd', None), ('remarks', ''), ('url_lca', ''), ('source', ''), ('createdate', datetime.date(2013, 5, 14)), ('updatedate', datetime.date(2015, 1, 27)), ('geonameid', 311046), ('gdb_geomat', ''), ('rwwidthm', None)])\n",
      "OrderedDict([('nameshort', 'Merowe'), ('namelong', 'Merowe'), ('namealt', ''), ('city', 'Merowe'), ('icao', 'HSMR'), ('iata', 'MWE'), ('apttype', 'Airfield'), ('aptclass', 'Domestic'), ('authority', 'Civil'), ('status', 'Open'), ('dmg', 'Unknown'), ('rwpaved', 'Unknown'), ('rwlengthm', None), ('rwlengthf', None), ('elevm', None), ('elevf', None), ('humuse', 'No'), ('humoperate', ''), ('locprecisi', 'Unknown'), ('latitude', 18.44346), ('longitude', 31.8334), ('iso3', 'SDN'), ('iso3_op', 'SDN'), ('country', 'Sudan'), ('lastcheckd', None), ('remarks', ''), ('url_lca', ''), ('source', ''), ('createdate', datetime.date(2013, 5, 14)), ('updatedate', datetime.date(2015, 1, 27)), ('geonameid', 370481), ('gdb_geomat', ''), ('rwwidthm', None)])\n",
      "OrderedDict([('nameshort', 'Broennoey'), ('namelong', 'Broennoey'), ('namealt', ''), ('city', ''), ('icao', 'ENBN'), ('iata', ''), ('apttype', 'Unknown'), ('aptclass', 'Unknown'), ('authority', 'Unknown'), ('status', 'Open'), ('dmg', 'Unknown'), ('rwpaved', 'Unknown'), ('rwlengthm', None), ('rwlengthf', None), ('elevm', 9), ('elevf', 30), ('humuse', 'No'), ('humoperate', ''), ('locprecisi', 'Unknown'), ('latitude', 65.46003), ('longitude', 12.2053), ('iso3', 'NOR'), ('iso3_op', 'NOR'), ('country', 'Norway'), ('lastcheckd', None), ('remarks', ''), ('url_lca', ''), ('source', ''), ('createdate', datetime.date(2013, 5, 14)), ('updatedate', datetime.date(2015, 1, 27)), ('geonameid', None), ('gdb_geomat', ''), ('rwwidthm', None)])\n",
      "OrderedDict([('nameshort', 'Susilo'), ('namelong', 'Susilo'), ('namealt', ''), ('city', ''), ('icao', 'WIOS'), ('iata', 'SQG'), ('apttype', 'Airfield'), ('aptclass', 'Domestic'), ('authority', 'Civil'), ('status', 'Open'), ('dmg', 'Unknown'), ('rwpaved', 'Unknown'), ('rwlengthm', None), ('rwlengthf', None), ('elevm', None), ('elevf', None), ('humuse', 'No'), ('humoperate', ''), ('locprecisi', 'Unknown'), ('latitude', 0.06342), ('longitude', 111.47159), ('iso3', 'IDN'), ('iso3_op', 'IDN'), ('country', 'Indonesia'), ('lastcheckd', None), ('remarks', ''), ('url_lca', ''), ('source', ''), ('createdate', datetime.date(2013, 5, 14)), ('updatedate', datetime.date(2015, 1, 27)), ('geonameid', None), ('gdb_geomat', ''), ('rwwidthm', None)])\n",
      "OrderedDict([('nameshort', 'Iskandar'), ('namelong', 'Iskandar'), ('namealt', ''), ('city', ''), ('icao', 'WAOI'), ('iata', 'PKN'), ('apttype', 'Airport'), ('aptclass', 'Domestic'), ('authority', 'Civil'), ('status', 'Open'), ('dmg', 'Unknown'), ('rwpaved', 'Unknown'), ('rwlengthm', None), ('rwlengthf', None), ('elevm', None), ('elevf', None), ('humuse', 'No'), ('humoperate', ''), ('locprecisi', 'Unknown'), ('latitude', -2.7052), ('longitude', 111.67321), ('iso3', 'IDN'), ('iso3_op', 'IDN'), ('country', 'Indonesia'), ('lastcheckd', None), ('remarks', ''), ('url_lca', ''), ('source', ''), ('createdate', datetime.date(2013, 5, 14)), ('updatedate', datetime.date(2015, 1, 27)), ('geonameid', None), ('gdb_geomat', ''), ('rwwidthm', None)])\n",
      "OrderedDict([('nameshort', 'Cape Dorset'), ('namelong', 'Cape Dorset'), ('namealt', ''), ('city', ''), ('icao', 'CYTE'), ('iata', 'YTE'), ('apttype', 'Airport'), ('aptclass', 'Unknown'), ('authority', 'Civil'), ('status', 'Open'), ('dmg', 'Unknown'), ('rwpaved', 'Unknown'), ('rwlengthm', None), ('rwlengthf', None), ('elevm', None), ('elevf', None), ('humuse', 'No'), ('humoperate', ''), ('locprecisi', 'Unknown'), ('latitude', 64.22823), ('longitude', -76.53), ('iso3', 'CAN'), ('iso3_op', 'CAN'), ('country', 'Canada'), ('lastcheckd', None), ('remarks', ''), ('url_lca', ''), ('source', ''), ('createdate', datetime.date(2013, 5, 14)), ('updatedate', datetime.date(2015, 1, 27)), ('geonameid', None), ('gdb_geomat', ''), ('rwwidthm', None)])\n",
      "OrderedDict([('nameshort', 'Korf'), ('namelong', 'Korf'), ('namealt', ''), ('city', ''), ('icao', ''), ('iata', ''), ('apttype', 'Unknown'), ('aptclass', 'Unknown'), ('authority', 'Unknown'), ('status', 'Open'), ('dmg', 'Unknown'), ('rwpaved', 'Unknown'), ('rwlengthm', None), ('rwlengthf', None), ('elevm', 3), ('elevf', 10), ('humuse', 'No'), ('humoperate', ''), ('locprecisi', 'Unknown'), ('latitude', 60.38273), ('longitude', 166.0271), ('iso3', 'RUS'), ('iso3_op', 'RUS'), ('country', 'Russian Federation'), ('lastcheckd', None), ('remarks', ''), ('url_lca', ''), ('source', ''), ('createdate', datetime.date(2013, 5, 14)), ('updatedate', datetime.date(2015, 1, 27)), ('geonameid', None), ('gdb_geomat', ''), ('rwwidthm', None)])\n",
      "OrderedDict([('nameshort', 'Aktion'), ('namelong', 'Aktion'), ('namealt', ''), ('city', ''), ('icao', 'LGPZ'), ('iata', 'PVK'), ('apttype', 'Unknown'), ('aptclass', 'Unknown'), ('authority', 'Military'), ('status', 'Open'), ('dmg', 'Unknown'), ('rwpaved', 'Unknown'), ('rwlengthm', None), ('rwlengthf', None), ('elevm', 4), ('elevf', 13), ('humuse', 'No'), ('humoperate', ''), ('locprecisi', 'Unknown'), ('latitude', 38.92513), ('longitude', 20.7661), ('iso3', 'GRC'), ('iso3_op', 'GRC'), ('country', 'Greece'), ('lastcheckd', None), ('remarks', ''), ('url_lca', ''), ('source', ''), ('createdate', datetime.date(2013, 5, 14)), ('updatedate', datetime.date(2015, 1, 27)), ('geonameid', None), ('gdb_geomat', ''), ('rwwidthm', None)])\n",
      "OrderedDict([('nameshort', 'Mangunjaya'), ('namelong', 'Mangunjaya'), ('namealt', ''), ('city', ''), ('icao', ''), ('iata', 'MJY'), ('apttype', 'Airstrip'), ('aptclass', 'Domestic'), ('authority', 'Unknown'), ('status', 'Open'), ('dmg', 'Unknown'), ('rwpaved', 'Unknown'), ('rwlengthm', None), ('rwlengthf', None), ('elevm', None), ('elevf', None), ('humuse', 'No'), ('humoperate', ''), ('locprecisi', 'Unknown'), ('latitude', -2.73333), ('longitude', 103.56667), ('iso3', 'IDN'), ('iso3_op', 'IDN'), ('country', 'Indonesia'), ('lastcheckd', None), ('remarks', ''), ('url_lca', ''), ('source', ''), ('createdate', datetime.date(2013, 5, 14)), ('updatedate', datetime.date(2015, 1, 27)), ('geonameid', None), ('gdb_geomat', ''), ('rwwidthm', None)])\n",
      "OrderedDict([('nameshort', 'Agbara Otor'), ('namelong', 'Agbara Otor'), ('namealt', ''), ('city', ''), ('icao', ''), ('iata', ''), ('apttype', 'Airstrip'), ('aptclass', 'Domestic'), ('authority', 'Private'), ('status', 'Restricted'), ('dmg', 'Unknown'), ('rwpaved', 'Unknown'), ('rwlengthm', None), ('rwlengthf', None), ('elevm', None), ('elevf', None), ('humuse', 'No'), ('humoperate', ''), ('locprecisi', 'Unknown'), ('latitude', 5.5314), ('longitude', 6.0625), ('iso3', 'NGA'), ('iso3_op', ''), ('country', 'Nigeria'), ('lastcheckd', None), ('remarks', ''), ('url_lca', ''), ('source', ''), ('createdate', datetime.date(2013, 5, 14)), ('updatedate', datetime.date(2016, 12, 2)), ('geonameid', None), ('gdb_geomat', ''), ('rwwidthm', None)])\n",
      "OrderedDict([('nameshort', 'Durzona'), ('namelong', 'Durzona'), ('namealt', ''), ('city', ''), ('icao', 'MHDU'), ('iata', ''), ('apttype', 'Airfield'), ('aptclass', 'Unknown'), ('authority', 'Unknown'), ('status', 'Unknown'), ('dmg', 'Unknown'), ('rwpaved', 'Unknown'), ('rwlengthm', None), ('rwlengthf', None), ('elevm', None), ('elevf', None), ('humuse', 'No'), ('humoperate', ''), ('locprecisi', 'Unknown'), ('latitude', 14.98813), ('longitude', -84.22081), ('iso3', 'HND'), ('iso3_op', 'HND'), ('country', 'Honduras'), ('lastcheckd', None), ('remarks', ''), ('url_lca', ''), ('source', ''), ('createdate', datetime.date(2013, 5, 14)), ('updatedate', datetime.date(2015, 1, 27)), ('geonameid', None), ('gdb_geomat', ''), ('rwwidthm', None)])\n",
      "OrderedDict([('nameshort', 'Choibalsan'), ('namelong', 'Choibalsan'), ('namealt', ''), ('city', ''), ('icao', 'ZMCD'), ('iata', 'COQ'), ('apttype', 'Airport'), ('aptclass', 'Domestic'), ('authority', 'Civil'), ('status', 'Unknown'), ('dmg', 'Unknown'), ('rwpaved', 'Unknown'), ('rwlengthm', None), ('rwlengthf', None), ('elevm', None), ('elevf', None), ('humuse', 'No'), ('humoperate', ''), ('locprecisi', 'Unknown'), ('latitude', 48.136), ('longitude', 114.646), ('iso3', 'MNG'), ('iso3_op', 'MNG'), ('country', 'Mongolia'), ('lastcheckd', None), ('remarks', ''), ('url_lca', ''), ('source', ''), ('createdate', datetime.date(2013, 5, 14)), ('updatedate', datetime.date(2015, 1, 27)), ('geonameid', None), ('gdb_geomat', ''), ('rwwidthm', None)])\n",
      "OrderedDict([('nameshort', 'Kelila'), ('namelong', 'Kelila'), ('namealt', ''), ('city', ''), ('icao', ''), ('iata', 'LLN'), ('apttype', 'Airstrip'), ('aptclass', 'Domestic'), ('authority', 'Unknown'), ('status', 'Unknown'), ('dmg', 'Unknown'), ('rwpaved', 'Unknown'), ('rwlengthm', None), ('rwlengthf', None), ('elevm', None), ('elevf', None), ('humuse', 'No'), ('humoperate', ''), ('locprecisi', 'Unknown'), ('latitude', -3.75), ('longitude', 138.66667), ('iso3', 'IDN'), ('iso3_op', 'IDN'), ('country', 'Indonesia'), ('lastcheckd', None), ('remarks', ''), ('url_lca', ''), ('source', ''), ('createdate', datetime.date(2013, 5, 14)), ('updatedate', datetime.date(2015, 1, 27)), ('geonameid', None), ('gdb_geomat', ''), ('rwwidthm', None)])\n",
      "OrderedDict([('nameshort', 'Km 60'), ('namelong', 'Km 60'), ('namealt', ''), ('city', 'Consumulo'), ('icao', ''), ('iata', ''), ('apttype', 'Airstrip'), ('aptclass', 'Domestic'), ('authority', 'Private'), ('status', 'Closed'), ('dmg', 'Unknown'), ('rwpaved', 'No'), ('rwlengthm', None), ('rwlengthf', None), ('elevm', None), ('elevf', None), ('humuse', 'No'), ('humoperate', ''), ('locprecisi', 'Approximate'), ('latitude', -0.537), ('longitude', -79.369), ('iso3', 'ECU'), ('iso3_op', 'ECU'), ('country', 'Ecuador'), ('lastcheckd', None), ('remarks', ''), ('url_lca', ''), ('source', ''), ('createdate', datetime.date(2013, 5, 14)), ('updatedate', datetime.date(2016, 1, 27)), ('geonameid', None), ('gdb_geomat', ''), ('rwwidthm', None)])\n",
      "OrderedDict([('nameshort', 'Shenzhen'), ('namelong', 'Shenzhen'), ('namealt', ''), ('city', ''), ('icao', 'ZGSZ'), ('iata', 'SZX'), ('apttype', 'Unknown'), ('aptclass', 'Unknown'), ('authority', 'Civil'), ('status', 'Open'), ('dmg', 'Unknown'), ('rwpaved', 'Unknown'), ('rwlengthm', None), ('rwlengthf', None), ('elevm', None), ('elevf', None), ('humuse', 'No'), ('humoperate', ''), ('locprecisi', 'Unknown'), ('latitude', 22.63923), ('longitude', 113.8115), ('iso3', 'CHN'), ('iso3_op', 'CHN'), ('country', 'China'), ('lastcheckd', None), ('remarks', ''), ('url_lca', ''), ('source', ''), ('createdate', datetime.date(2013, 5, 14)), ('updatedate', datetime.date(2015, 1, 27)), ('geonameid', None), ('gdb_geomat', ''), ('rwwidthm', None)])\n",
      "OrderedDict([('nameshort', 'Bir Jifjafah'), ('namelong', 'Bir Jifjafah'), ('namealt', ''), ('city', ''), ('icao', ''), ('iata', ''), ('apttype', 'Airfield'), ('aptclass', 'Domestic'), ('authority', 'Civil'), ('status', 'Open'), ('dmg', 'Unknown'), ('rwpaved', 'Unknown'), ('rwlengthm', None), ('rwlengthf', None), ('elevm', None), ('elevf', None), ('humuse', 'No'), ('humoperate', ''), ('locprecisi', 'Unknown'), ('latitude', 30.407), ('longitude', 33.154), ('iso3', 'EGY'), ('iso3_op', 'EGY'), ('country', 'Egypt'), ('lastcheckd', None), ('remarks', ''), ('url_lca', ''), ('source', ''), ('createdate', datetime.date(2013, 5, 14)), ('updatedate', datetime.date(2015, 1, 27)), ('geonameid', None), ('gdb_geomat', ''), ('rwwidthm', None)])\n",
      "OrderedDict([('nameshort', 'Sahl Sinjar'), ('namelong', 'Sahl Sinjar Air Base'), ('namealt', ''), ('city', ''), ('icao', ''), ('iata', ''), ('apttype', 'Airfield'), ('aptclass', 'Domestic'), ('authority', 'Military'), ('status', 'Open'), ('dmg', 'Unknown'), ('rwpaved', 'Unknown'), ('rwlengthm', None), ('rwlengthf', None), ('elevm', None), ('elevf', None), ('humuse', 'No'), ('humoperate', ''), ('locprecisi', 'Unknown'), ('latitude', 35.859), ('longitude', 42.142), ('iso3', 'IRQ'), ('iso3_op', 'IRQ'), ('country', 'Iraq'), ('lastcheckd', None), ('remarks', ''), ('url_lca', ''), ('source', ''), ('createdate', datetime.date(2013, 5, 14)), ('updatedate', datetime.date(2015, 1, 27)), ('geonameid', None), ('gdb_geomat', ''), ('rwwidthm', None)])\n",
      "OrderedDict([('nameshort', 'Uthman'), ('namelong', 'Uthman'), ('namealt', ''), ('city', ''), ('icao', ''), ('iata', ''), ('apttype', 'Airstrip'), ('aptclass', 'Domestic'), ('authority', 'Civil'), ('status', 'Open'), ('dmg', 'Unknown'), ('rwpaved', 'Unknown'), ('rwlengthm', None), ('rwlengthf', None), ('elevm', None), ('elevf', None), ('humuse', 'No'), ('humoperate', ''), ('locprecisi', 'Unknown'), ('latitude', 29.555), ('longitude', 25.589), ('iso3', 'EGY'), ('iso3_op', 'EGY'), ('country', 'Egypt'), ('lastcheckd', None), ('remarks', ''), ('url_lca', ''), ('source', ''), ('createdate', datetime.date(2013, 5, 14)), ('updatedate', datetime.date(2015, 1, 27)), ('geonameid', None), ('gdb_geomat', ''), ('rwwidthm', None)])\n",
      "OrderedDict([('nameshort', 'At Bashi'), ('namelong', 'At Bashi'), ('namealt', ''), ('city', ''), ('icao', ''), ('iata', ''), ('apttype', 'Airstrip'), ('aptclass', 'Unknown'), ('authority', 'Unknown'), ('status', 'Restricted'), ('dmg', 'Unknown'), ('rwpaved', 'Unknown'), ('rwlengthm', None), ('rwlengthf', None), ('elevm', None), ('elevf', None), ('humuse', 'No'), ('humoperate', ''), ('locprecisi', 'Unknown'), ('latitude', 41.1853), ('longitude', 75.7749), ('iso3', 'KGZ'), ('iso3_op', 'KGZ'), ('country', 'Kyrgyzstan'), ('lastcheckd', None), ('remarks', ''), ('url_lca', ''), ('source', ''), ('createdate', datetime.date(2013, 5, 14)), ('updatedate', datetime.date(2015, 1, 27)), ('geonameid', 1528796), ('gdb_geomat', ''), ('rwwidthm', None)])\n",
      "OrderedDict([('nameshort', 'El Sharqi'), ('namelong', 'El Sharqi'), ('namealt', ''), ('city', ''), ('icao', ''), ('iata', ''), ('apttype', 'Airfield'), ('aptclass', 'Domestic'), ('authority', 'Civil'), ('status', 'Open'), ('dmg', 'Unknown'), ('rwpaved', 'Unknown'), ('rwlengthm', None), ('rwlengthf', None), ('elevm', None), ('elevf', None), ('humuse', 'No'), ('humoperate', ''), ('locprecisi', 'Unknown'), ('latitude', 30.027), ('longitude', 32.976), ('iso3', 'EGY'), ('iso3_op', 'EGY'), ('country', 'Egypt'), ('lastcheckd', None), ('remarks', ''), ('url_lca', ''), ('source', ''), ('createdate', datetime.date(2013, 5, 14)), ('updatedate', datetime.date(2015, 1, 27)), ('geonameid', None), ('gdb_geomat', ''), ('rwwidthm', None)])\n",
      "OrderedDict([('nameshort', 'Mataiva'), ('namelong', 'Mataiva'), ('namealt', ''), ('city', ''), ('icao', ''), ('iata', ''), ('apttype', 'Unknown'), ('aptclass', 'Unknown'), ('authority', 'Unknown'), ('status', 'Open'), ('dmg', 'Unknown'), ('rwpaved', 'Unknown'), ('rwlengthm', None), ('rwlengthf', None), ('elevm', 1), ('elevf', 3), ('humuse', 'No'), ('humoperate', ''), ('locprecisi', 'Unknown'), ('latitude', -14.87127), ('longitude', -148.7129), ('iso3', 'PYF'), ('iso3_op', 'PYF'), ('country', 'French Polynesia'), ('lastcheckd', None), ('remarks', ''), ('url_lca', ''), ('source', ''), ('createdate', datetime.date(2013, 5, 14)), ('updatedate', datetime.date(2015, 1, 27)), ('geonameid', None), ('gdb_geomat', ''), ('rwwidthm', None)])\n",
      "OrderedDict([('nameshort', 'Wset One'), ('namelong', 'Wset One'), ('namealt', ''), ('city', ''), ('icao', ''), ('iata', ''), ('apttype', 'Airfield'), ('aptclass', 'Domestic'), ('authority', 'Civil'), ('status', 'Unknown'), ('dmg', 'Unknown'), ('rwpaved', 'Unknown'), ('rwlengthm', None), ('rwlengthf', None), ('elevm', None), ('elevf', None), ('humuse', 'No'), ('humoperate', ''), ('locprecisi', 'Unknown'), ('latitude', -12.855), ('longitude', 27.072), ('iso3', 'ZMB'), ('iso3_op', 'ZMB'), ('country', 'Zambia'), ('lastcheckd', None), ('remarks', ''), ('url_lca', ''), ('source', ''), ('createdate', datetime.date(2013, 5, 14)), ('updatedate', datetime.date(2015, 1, 27)), ('geonameid', None), ('gdb_geomat', ''), ('rwwidthm', None)])\n",
      "OrderedDict([('nameshort', 'Turaif'), ('namelong', 'Turaif'), ('namealt', ''), ('city', ''), ('icao', 'OETR'), ('iata', 'TUI'), ('apttype', 'Airfield'), ('aptclass', 'Domestic'), ('authority', 'Unknown'), ('status', 'Unknown'), ('dmg', 'Unknown'), ('rwpaved', 'Unknown'), ('rwlengthm', None), ('rwlengthf', None), ('elevm', None), ('elevf', None), ('humuse', 'No'), ('humoperate', ''), ('locprecisi', 'Unknown'), ('latitude', 31.693), ('longitude', 38.731), ('iso3', 'SAU'), ('iso3_op', 'SAU'), ('country', 'Saudi Arabia'), ('lastcheckd', None), ('remarks', ''), ('url_lca', ''), ('source', ''), ('createdate', datetime.date(2013, 5, 14)), ('updatedate', datetime.date(2015, 1, 27)), ('geonameid', None), ('gdb_geomat', ''), ('rwwidthm', None)])\n",
      "OrderedDict([('nameshort', 'Zhuhai'), ('namelong', 'Zhuhai'), ('namealt', ''), ('city', ''), ('icao', 'ZGSD'), ('iata', 'ZHI'), ('apttype', 'Unknown'), ('aptclass', 'Unknown'), ('authority', 'Civil'), ('status', 'Open'), ('dmg', 'Unknown'), ('rwpaved', 'Unknown'), ('rwlengthm', None), ('rwlengthf', None), ('elevm', None), ('elevf', None), ('humuse', 'No'), ('humoperate', ''), ('locprecisi', 'Unknown'), ('latitude', 22.00673), ('longitude', 113.3767), ('iso3', 'CHN'), ('iso3_op', 'CHN'), ('country', 'China'), ('lastcheckd', None), ('remarks', ''), ('url_lca', ''), ('source', ''), ('createdate', datetime.date(2013, 5, 14)), ('updatedate', datetime.date(2015, 1, 27)), ('geonameid', None), ('gdb_geomat', ''), ('rwwidthm', None)])\n",
      "OrderedDict([('nameshort', 'Sendai'), ('namelong', 'Sendai'), ('namealt', ''), ('city', ''), ('icao', 'RJSS'), ('iata', 'SDJ'), ('apttype', 'Airport'), ('aptclass', 'International'), ('authority', 'Civil'), ('status', 'Open'), ('dmg', 'Unknown'), ('rwpaved', 'Yes'), ('rwlengthm', None), ('rwlengthf', None), ('elevm', None), ('elevf', None), ('humuse', 'No'), ('humoperate', ''), ('locprecisi', 'Unknown'), ('latitude', 38.13955), ('longitude', 140.91494), ('iso3', 'JPN'), ('iso3_op', 'JPN'), ('country', 'Japan'), ('lastcheckd', None), ('remarks', ''), ('url_lca', ''), ('source', ''), ('createdate', datetime.date(2013, 5, 14)), ('updatedate', datetime.date(2015, 1, 27)), ('geonameid', None), ('gdb_geomat', ''), ('rwwidthm', None)])\n",
      "OrderedDict([('nameshort', 'Gag Island'), ('namelong', 'Gag Island'), ('namealt', ''), ('city', ''), ('icao', ''), ('iata', 'GAV'), ('apttype', 'Airstrip'), ('aptclass', 'Domestic'), ('authority', 'Unknown'), ('status', 'Open'), ('dmg', 'Unknown'), ('rwpaved', 'Unknown'), ('rwlengthm', None), ('rwlengthf', None), ('elevm', None), ('elevf', None), ('humuse', 'No'), ('humoperate', ''), ('locprecisi', 'Unknown'), ('latitude', -0.39971), ('longitude', 129.89578), ('iso3', 'IDN'), ('iso3_op', 'IDN'), ('country', 'Indonesia'), ('lastcheckd', None), ('remarks', ''), ('url_lca', ''), ('source', ''), ('createdate', datetime.date(2013, 5, 14)), ('updatedate', datetime.date(2015, 1, 27)), ('geonameid', None), ('gdb_geomat', ''), ('rwwidthm', None)])\n",
      "OrderedDict([('nameshort', 'Sidi Barrani'), ('namelong', 'Sidi Barrani'), ('namealt', ''), ('city', ''), ('icao', ''), ('iata', 'SQK'), ('apttype', 'Airstrip'), ('aptclass', 'Domestic'), ('authority', 'Civil'), ('status', 'Open'), ('dmg', 'Unknown'), ('rwpaved', 'Unknown'), ('rwlengthm', None), ('rwlengthf', None), ('elevm', None), ('elevf', None), ('humuse', 'No'), ('humoperate', ''), ('locprecisi', 'Unknown'), ('latitude', 31.467), ('longitude', 25.878), ('iso3', 'EGY'), ('iso3_op', 'EGY'), ('country', 'Egypt'), ('lastcheckd', None), ('remarks', ''), ('url_lca', ''), ('source', ''), ('createdate', datetime.date(2013, 5, 14)), ('updatedate', datetime.date(2015, 1, 27)), ('geonameid', None), ('gdb_geomat', ''), ('rwwidthm', None)])\n",
      "OrderedDict([('nameshort', 'Rokero'), ('namelong', 'Rokero'), ('namealt', ''), ('city', 'Rokero'), ('icao', ''), ('iata', ''), ('apttype', 'Helipad'), ('aptclass', 'Unknown'), ('authority', 'Unknown'), ('status', 'Unknown'), ('dmg', 'Unknown'), ('rwpaved', 'Unknown'), ('rwlengthm', None), ('rwlengthf', None), ('elevm', None), ('elevf', None), ('humuse', 'Connection'), ('humoperate', ''), ('locprecisi', 'Unknown'), ('latitude', 13.28338), ('longitude', 24.45418), ('iso3', 'SDN'), ('iso3_op', 'SDN'), ('country', 'Sudan'), ('lastcheckd', None), ('remarks', ''), ('url_lca', ''), ('source', ''), ('createdate', datetime.date(2013, 5, 14)), ('updatedate', datetime.date(2020, 12, 7)), ('geonameid', None), ('gdb_geomat', ''), ('rwwidthm', None)])\n",
      "OrderedDict([('nameshort', 'Vatulele'), ('namelong', 'Vatulele'), ('namealt', ''), ('city', ''), ('icao', 'NFVL'), ('iata', 'VTF'), ('apttype', 'Airstrip'), ('aptclass', 'Domestic'), ('authority', 'Civil'), ('status', 'Unknown'), ('dmg', 'Unknown'), ('rwpaved', 'Unknown'), ('rwlengthm', None), ('rwlengthf', None), ('elevm', None), ('elevf', None), ('humuse', 'No'), ('humoperate', ''), ('locprecisi', 'Unknown'), ('latitude', -18.51236), ('longitude', 177.63849), ('iso3', 'FJI'), ('iso3_op', 'FJI'), ('country', 'Fiji'), ('lastcheckd', None), ('remarks', ''), ('url_lca', ''), ('source', ''), ('createdate', datetime.date(2013, 5, 14)), ('updatedate', datetime.date(2015, 1, 27)), ('geonameid', None), ('gdb_geomat', ''), ('rwwidthm', None)])\n",
      "OrderedDict([('nameshort', 'Praslin'), ('namelong', 'Praslin'), ('namealt', ''), ('city', ''), ('icao', 'FSPP'), ('iata', ''), ('apttype', 'Unknown'), ('aptclass', 'Unknown'), ('authority', 'Unknown'), ('status', 'Open'), ('dmg', 'Unknown'), ('rwpaved', 'Unknown'), ('rwlengthm', None), ('rwlengthf', None), ('elevm', 3), ('elevf', 10), ('humuse', 'No'), ('humoperate', ''), ('locprecisi', 'Unknown'), ('latitude', -4.31967), ('longitude', 55.6929), ('iso3', 'SYC'), ('iso3_op', 'SYC'), ('country', 'Seychelles'), ('lastcheckd', None), ('remarks', ''), ('url_lca', ''), ('source', ''), ('createdate', datetime.date(2013, 5, 14)), ('updatedate', datetime.date(2015, 1, 27)), ('geonameid', None), ('gdb_geomat', ''), ('rwwidthm', None)])\n",
      "OrderedDict([('nameshort', 'Malagat'), ('namelong', 'Malagat'), ('namealt', ''), ('city', 'Malagat'), ('icao', ''), ('iata', ''), ('apttype', 'Helipad'), ('aptclass', 'Unknown'), ('authority', 'Unknown'), ('status', 'Unknown'), ('dmg', 'Unknown'), ('rwpaved', 'Unknown'), ('rwlengthm', None), ('rwlengthf', None), ('elevm', None), ('elevf', None), ('humuse', 'No'), ('humoperate', ''), ('locprecisi', 'Unknown'), ('latitude', 14.45667), ('longitude', 24.62457), ('iso3', 'SDN'), ('iso3_op', 'SDN'), ('country', 'Sudan'), ('lastcheckd', None), ('remarks', ''), ('url_lca', ''), ('source', ''), ('createdate', datetime.date(2013, 5, 14)), ('updatedate', datetime.date(2015, 1, 27)), ('geonameid', None), ('gdb_geomat', ''), ('rwwidthm', None)])\n",
      "OrderedDict([('nameshort', 'Kyzyl Kiya'), ('namelong', 'Kyzyl Kiya'), ('namealt', ''), ('city', ''), ('icao', ''), ('iata', ''), ('apttype', 'Airfield'), ('aptclass', 'Domestic'), ('authority', 'Civil'), ('status', 'Open'), ('dmg', 'Unknown'), ('rwpaved', 'Unknown'), ('rwlengthm', None), ('rwlengthf', None), ('elevm', None), ('elevf', None), ('humuse', 'No'), ('humoperate', ''), ('locprecisi', 'Unknown'), ('latitude', 40.2717), ('longitude', 72.0471), ('iso3', 'KGZ'), ('iso3_op', 'KGZ'), ('country', 'Kyrgyzstan'), ('lastcheckd', None), ('remarks', ''), ('url_lca', ''), ('source', ''), ('createdate', datetime.date(2013, 5, 14)), ('updatedate', datetime.date(2015, 1, 27)), ('geonameid', None), ('gdb_geomat', ''), ('rwwidthm', None)])\n",
      "OrderedDict([('nameshort', 'Arua'), ('namelong', 'Arua'), ('namealt', ''), ('city', 'Arua'), ('icao', 'HUAR'), ('iata', 'RUA'), ('apttype', 'Airfield'), ('aptclass', 'Domestic'), ('authority', 'Civil'), ('status', 'Open'), ('dmg', 'Unknown'), ('rwpaved', 'No'), ('rwlengthm', None), ('rwlengthf', 5600), ('elevm', None), ('elevf', 3951), ('humuse', 'No'), ('humoperate', ''), ('locprecisi', 'Unknown'), ('latitude', 3.04989), ('longitude', 30.91188), ('iso3', 'UGA'), ('iso3_op', 'UGA'), ('country', 'Uganda'), ('lastcheckd', None), ('remarks', ''), ('url_lca', ''), ('source', ''), ('createdate', datetime.date(2013, 5, 14)), ('updatedate', datetime.date(2015, 9, 3)), ('geonameid', 235039), ('gdb_geomat', ''), ('rwwidthm', None)])\n",
      "OrderedDict([('nameshort', 'Bashur'), ('namelong', 'Bashur'), ('namealt', ''), ('city', 'Bashur'), ('icao', 'ORBR'), ('iata', ''), ('apttype', 'Airstrip'), ('aptclass', 'Domestic'), ('authority', 'Military'), ('status', 'Open'), ('dmg', 'Unknown'), ('rwpaved', 'Unknown'), ('rwlengthm', None), ('rwlengthf', None), ('elevm', None), ('elevf', None), ('humuse', 'No'), ('humoperate', ''), ('locprecisi', 'Unknown'), ('latitude', 36.534), ('longitude', 44.34), ('iso3', 'IRQ'), ('iso3_op', 'IRQ'), ('country', 'Iraq'), ('lastcheckd', None), ('remarks', ''), ('url_lca', ''), ('source', ''), ('createdate', datetime.date(2013, 5, 14)), ('updatedate', datetime.date(2015, 1, 27)), ('geonameid', 97855), ('gdb_geomat', ''), ('rwwidthm', None)])\n",
      "OrderedDict([('nameshort', ''), ('namelong', ''), ('namealt', ''), ('city', ''), ('icao', ''), ('iata', ''), ('apttype', 'Helipad'), ('aptclass', 'Domestic'), ('authority', 'Unknown'), ('status', 'Unknown'), ('dmg', 'Unknown'), ('rwpaved', 'Unknown'), ('rwlengthm', None), ('rwlengthf', None), ('elevm', None), ('elevf', None), ('humuse', 'Unknown'), ('humoperate', ''), ('locprecisi', 'Unknown'), ('latitude', 27.05908), ('longitude', 88.27773), ('iso3', 'IND'), ('iso3_op', ''), ('country', 'India'), ('lastcheckd', None), ('remarks', ''), ('url_lca', ''), ('source', 'OpenStreetMap'), ('createdate', datetime.date(2015, 4, 27)), ('updatedate', datetime.date(2015, 9, 24)), ('geonameid', 999999999), ('gdb_geomat', ''), ('rwwidthm', None)])\n",
      "OrderedDict([('nameshort', ''), ('namelong', ''), ('namealt', ''), ('city', ''), ('icao', ''), ('iata', ''), ('apttype', 'Helipad'), ('aptclass', 'Domestic'), ('authority', 'Unknown'), ('status', 'Unknown'), ('dmg', 'Unknown'), ('rwpaved', 'Unknown'), ('rwlengthm', None), ('rwlengthf', None), ('elevm', None), ('elevf', None), ('humuse', 'Unknown'), ('humoperate', ''), ('locprecisi', 'Unknown'), ('latitude', 26.7744), ('longitude', 88.45232), ('iso3', 'IND'), ('iso3_op', ''), ('country', 'India'), ('lastcheckd', None), ('remarks', ''), ('url_lca', ''), ('source', 'OpenStreetMap'), ('createdate', datetime.date(2015, 4, 27)), ('updatedate', datetime.date(2015, 9, 24)), ('geonameid', 999999999), ('gdb_geomat', ''), ('rwwidthm', None)])\n",
      "OrderedDict([('nameshort', ''), ('namelong', ''), ('namealt', ''), ('city', ''), ('icao', ''), ('iata', ''), ('apttype', 'Helipad'), ('aptclass', 'Domestic'), ('authority', 'Unknown'), ('status', 'Unknown'), ('dmg', 'Unknown'), ('rwpaved', 'Unknown'), ('rwlengthm', None), ('rwlengthf', None), ('elevm', None), ('elevf', None), ('humuse', 'Unknown'), ('humoperate', ''), ('locprecisi', 'Unknown'), ('latitude', 27.15673), ('longitude', 88.32207), ('iso3', 'IND'), ('iso3_op', ''), ('country', 'India'), ('lastcheckd', None), ('remarks', ''), ('url_lca', ''), ('source', 'OpenStreetMap'), ('createdate', datetime.date(2015, 4, 27)), ('updatedate', datetime.date(2015, 9, 24)), ('geonameid', 999999999), ('gdb_geomat', ''), ('rwwidthm', None)])\n",
      "OrderedDict([('nameshort', ''), ('namelong', ''), ('namealt', ''), ('city', ''), ('icao', ''), ('iata', ''), ('apttype', 'Helipad'), ('aptclass', 'Domestic'), ('authority', 'Unknown'), ('status', 'Unknown'), ('dmg', 'Unknown'), ('rwpaved', 'Unknown'), ('rwlengthm', None), ('rwlengthf', None), ('elevm', None), ('elevf', None), ('humuse', 'Unknown'), ('humoperate', ''), ('locprecisi', 'Unknown'), ('latitude', 27.3557), ('longitude', 88.61411), ('iso3', 'IND'), ('iso3_op', ''), ('country', 'India'), ('lastcheckd', None), ('remarks', ''), ('url_lca', ''), ('source', 'OpenStreetMap'), ('createdate', datetime.date(2015, 4, 27)), ('updatedate', datetime.date(2015, 9, 24)), ('geonameid', 999999999), ('gdb_geomat', ''), ('rwwidthm', None)])\n",
      "OrderedDict([('nameshort', 'Rembele'), ('namelong', 'Rembele'), ('namealt', ''), ('city', ''), ('icao', ''), ('iata', ''), ('apttype', 'Airfield'), ('aptclass', 'Domestic'), ('authority', 'Private'), ('status', 'Unknown'), ('dmg', 'Unknown'), ('rwpaved', 'Unknown'), ('rwlengthm', None), ('rwlengthf', None), ('elevm', None), ('elevf', None), ('humuse', 'No'), ('humoperate', ''), ('locprecisi', 'Unknown'), ('latitude', 4.72088), ('longitude', 96.85124), ('iso3', 'IDN'), ('iso3_op', 'IDN'), ('country', 'Indonesia'), ('lastcheckd', None), ('remarks', ''), ('url_lca', ''), ('source', ''), ('createdate', datetime.date(2013, 5, 14)), ('updatedate', datetime.date(2015, 1, 27)), ('geonameid', 6702685), ('gdb_geomat', ''), ('rwwidthm', None)])\n",
      "OrderedDict([('nameshort', 'Shikabe'), ('namelong', 'Shikabe'), ('namealt', ''), ('city', ''), ('icao', ''), ('iata', ''), ('apttype', 'Airstrip'), ('aptclass', 'Unknown'), ('authority', 'Private'), ('status', 'Open'), ('dmg', 'Unknown'), ('rwpaved', 'Unknown'), ('rwlengthm', None), ('rwlengthf', None), ('elevm', None), ('elevf', None), ('humuse', 'No'), ('humoperate', ''), ('locprecisi', 'Unknown'), ('latitude', 42.04501), ('longitude', 140.79295), ('iso3', 'JPN'), ('iso3_op', 'JPN'), ('country', 'Japan'), ('lastcheckd', None), ('remarks', ''), ('url_lca', ''), ('source', ''), ('createdate', datetime.date(2013, 5, 14)), ('updatedate', datetime.date(2015, 1, 27)), ('geonameid', 2128180), ('gdb_geomat', ''), ('rwwidthm', None)])\n",
      "OrderedDict([('nameshort', 'Trang'), ('namelong', 'Trang'), ('namealt', ''), ('city', ''), ('icao', 'VTST'), ('iata', 'TST'), ('apttype', 'Airfield'), ('aptclass', 'Domestic'), ('authority', 'Civil'), ('status', 'Open'), ('dmg', 'Unknown'), ('rwpaved', 'Unknown'), ('rwlengthm', None), ('rwlengthf', None), ('elevm', None), ('elevf', None), ('humuse', 'No'), ('humoperate', ''), ('locprecisi', 'Unknown'), ('latitude', 7.509), ('longitude', 99.617), ('iso3', 'THA'), ('iso3_op', 'THA'), ('country', 'Thailand'), ('lastcheckd', None), ('remarks', ''), ('url_lca', ''), ('source', ''), ('createdate', datetime.date(2013, 5, 14)), ('updatedate', datetime.date(2015, 1, 27)), ('geonameid', 1150007), ('gdb_geomat', ''), ('rwwidthm', None)])\n",
      "OrderedDict([('nameshort', 'Ba'), ('namelong', 'Ba'), ('namealt', ''), ('city', ''), ('icao', 'NFFA'), ('iata', 'BFJ'), ('apttype', 'Airstrip'), ('aptclass', 'Domestic'), ('authority', 'Unknown'), ('status', 'Unknown'), ('dmg', 'Unknown'), ('rwpaved', 'Unknown'), ('rwlengthm', None), ('rwlengthf', None), ('elevm', None), ('elevf', None), ('humuse', 'No'), ('humoperate', ''), ('locprecisi', 'Unknown'), ('latitude', -17.53438), ('longitude', 177.67764), ('iso3', 'FJI'), ('iso3_op', 'FJI'), ('country', 'Fiji'), ('lastcheckd', None), ('remarks', ''), ('url_lca', ''), ('source', ''), ('createdate', datetime.date(2013, 5, 14)), ('updatedate', datetime.date(2015, 1, 27)), ('geonameid', None), ('gdb_geomat', ''), ('rwwidthm', None)])\n",
      "OrderedDict([('nameshort', 'Ipsa 3'), ('namelong', 'Ipsa 3'), ('namealt', ''), ('city', ''), ('icao', 'OEPK'), ('iata', ''), ('apttype', 'Airstrip'), ('aptclass', 'Unknown'), ('authority', 'Unknown'), ('status', 'Unknown'), ('dmg', 'Unknown'), ('rwpaved', 'Unknown'), ('rwlengthm', None), ('rwlengthf', None), ('elevm', None), ('elevf', None), ('humuse', 'No'), ('humoperate', ''), ('locprecisi', 'Unknown'), ('latitude', 27.954), ('longitude', 46.743), ('iso3', 'SAU'), ('iso3_op', 'SAU'), ('country', 'Saudi Arabia'), ('lastcheckd', None), ('remarks', ''), ('url_lca', ''), ('source', ''), ('createdate', datetime.date(2013, 5, 14)), ('updatedate', datetime.date(2015, 1, 27)), ('geonameid', None), ('gdb_geomat', ''), ('rwwidthm', None)])\n",
      "OrderedDict([('nameshort', 'H3'), ('namelong', 'H3 Highway Strip'), ('namealt', ''), ('city', ''), ('icao', ''), ('iata', ''), ('apttype', 'Airstrip'), ('aptclass', 'Domestic'), ('authority', 'Unknown'), ('status', 'Unknown'), ('dmg', 'Unknown'), ('rwpaved', 'Unknown'), ('rwlengthm', None), ('rwlengthf', None), ('elevm', None), ('elevf', None), ('humuse', 'No'), ('humoperate', ''), ('locprecisi', 'Unknown'), ('latitude', 32.849), ('longitude', 39.311), ('iso3', 'IRQ'), ('iso3_op', 'IRQ'), ('country', 'Iraq'), ('lastcheckd', None), ('remarks', ''), ('url_lca', ''), ('source', ''), ('createdate', datetime.date(2013, 5, 14)), ('updatedate', datetime.date(2015, 1, 27)), ('geonameid', None), ('gdb_geomat', ''), ('rwwidthm', None)])\n",
      "OrderedDict([('nameshort', 'Ngoma'), ('namelong', 'Ngoma'), ('namealt', ''), ('city', ''), ('icao', ''), ('iata', ''), ('apttype', 'Airfield'), ('aptclass', 'Domestic'), ('authority', 'Civil'), ('status', 'Unknown'), ('dmg', 'Unknown'), ('rwpaved', 'Unknown'), ('rwlengthm', None), ('rwlengthf', None), ('elevm', None), ('elevf', None), ('humuse', 'No'), ('humoperate', ''), ('locprecisi', 'Unknown'), ('latitude', -15.966), ('longitude', 25.933), ('iso3', 'ZMB'), ('iso3_op', 'ZMB'), ('country', 'Zambia'), ('lastcheckd', None), ('remarks', ''), ('url_lca', ''), ('source', ''), ('createdate', datetime.date(2013, 5, 14)), ('updatedate', datetime.date(2015, 1, 27)), ('geonameid', None), ('gdb_geomat', ''), ('rwwidthm', None)])\n",
      "OrderedDict([('nameshort', 'El Kharga'), ('namelong', 'El Kharga'), ('namealt', ''), ('city', ''), ('icao', 'HEKG'), ('iata', 'UVL'), ('apttype', 'Airfield'), ('aptclass', 'Domestic'), ('authority', 'Civil'), ('status', 'Open'), ('dmg', 'Unknown'), ('rwpaved', 'Unknown'), ('rwlengthm', None), ('rwlengthf', None), ('elevm', None), ('elevf', None), ('humuse', 'No'), ('humoperate', ''), ('locprecisi', 'Unknown'), ('latitude', 25.474), ('longitude', 30.591), ('iso3', 'EGY'), ('iso3_op', 'EGY'), ('country', 'Egypt'), ('lastcheckd', None), ('remarks', ''), ('url_lca', ''), ('source', ''), ('createdate', datetime.date(2013, 5, 14)), ('updatedate', datetime.date(2015, 1, 27)), ('geonameid', None), ('gdb_geomat', ''), ('rwwidthm', None)])\n",
      "OrderedDict([('nameshort', 'Fukui'), ('namelong', 'Fukui'), ('namealt', ''), ('city', ''), ('icao', 'RJNF'), ('iata', 'FKJ'), ('apttype', 'Airfield'), ('aptclass', 'Unknown'), ('authority', 'Civil'), ('status', 'Open'), ('dmg', 'Unknown'), ('rwpaved', 'Unknown'), ('rwlengthm', None), ('rwlengthf', None), ('elevm', None), ('elevf', None), ('humuse', 'No'), ('humoperate', ''), ('locprecisi', 'Unknown'), ('latitude', 36.14285), ('longitude', 136.22392), ('iso3', 'JPN'), ('iso3_op', 'JPN'), ('country', 'Japan'), ('lastcheckd', None), ('remarks', ''), ('url_lca', ''), ('source', ''), ('createdate', datetime.date(2013, 5, 14)), ('updatedate', datetime.date(2015, 1, 27)), ('geonameid', None), ('gdb_geomat', ''), ('rwwidthm', None)])\n",
      "OrderedDict([('nameshort', 'Sunyani'), ('namelong', 'Sunyani'), ('namealt', ''), ('city', ''), ('icao', 'DGSN'), ('iata', 'NYI'), ('apttype', 'Airfield'), ('aptclass', 'Unknown'), ('authority', 'Civil'), ('status', 'Open'), ('dmg', 'Unknown'), ('rwpaved', 'Unknown'), ('rwlengthm', None), ('rwlengthf', None), ('elevm', None), ('elevf', None), ('humuse', 'No'), ('humoperate', ''), ('locprecisi', 'Unknown'), ('latitude', 7.36183), ('longitude', -2.32876), ('iso3', 'GHA'), ('iso3_op', 'GHA'), ('country', 'Ghana'), ('lastcheckd', None), ('remarks', ''), ('url_lca', ''), ('source', ''), ('createdate', datetime.date(2013, 5, 14)), ('updatedate', datetime.date(2015, 1, 27)), ('geonameid', 2295021), ('gdb_geomat', ''), ('rwwidthm', None)])\n",
      "OrderedDict([('nameshort', 'Roi Et'), ('namelong', 'Roi Et'), ('namealt', ''), ('city', ''), ('icao', 'VTUV'), ('iata', 'ROI'), ('apttype', 'Airfield'), ('aptclass', 'Domestic'), ('authority', 'Civil'), ('status', 'Open'), ('dmg', 'Unknown'), ('rwpaved', 'Unknown'), ('rwlengthm', None), ('rwlengthf', None), ('elevm', None), ('elevf', None), ('humuse', 'No'), ('humoperate', ''), ('locprecisi', 'Unknown'), ('latitude', 16.117), ('longitude', 103.774), ('iso3', 'THA'), ('iso3_op', 'THA'), ('country', 'Thailand'), ('lastcheckd', None), ('remarks', ''), ('url_lca', ''), ('source', ''), ('createdate', datetime.date(2013, 5, 14)), ('updatedate', datetime.date(2015, 1, 27)), ('geonameid', None), ('gdb_geomat', ''), ('rwwidthm', None)])\n",
      "OrderedDict([('nameshort', 'Kaukura'), ('namelong', 'Kaukura'), ('namealt', ''), ('city', ''), ('icao', ''), ('iata', ''), ('apttype', 'Unknown'), ('aptclass', 'Unknown'), ('authority', 'Unknown'), ('status', 'Open'), ('dmg', 'Unknown'), ('rwpaved', 'Unknown'), ('rwlengthm', None), ('rwlengthf', None), ('elevm', 2), ('elevf', 7), ('humuse', 'No'), ('humoperate', ''), ('locprecisi', 'Unknown'), ('latitude', -15.66667), ('longitude', -146.8861), ('iso3', 'PYF'), ('iso3_op', 'PYF'), ('country', 'French Polynesia'), ('lastcheckd', None), ('remarks', ''), ('url_lca', ''), ('source', ''), ('createdate', datetime.date(2013, 5, 14)), ('updatedate', datetime.date(2015, 1, 27)), ('geonameid', None), ('gdb_geomat', ''), ('rwwidthm', None)])\n",
      "OrderedDict([('nameshort', 'Gaggal'), ('namelong', 'Gaggal'), ('namealt', ''), ('city', ''), ('icao', 'VIGG'), ('iata', 'DHM'), ('apttype', 'Airfield'), ('aptclass', 'Domestic'), ('authority', 'Civil'), ('status', 'Unknown'), ('dmg', 'Unknown'), ('rwpaved', 'Unknown'), ('rwlengthm', None), ('rwlengthf', None), ('elevm', None), ('elevf', None), ('humuse', 'No'), ('humoperate', ''), ('locprecisi', 'Unknown'), ('latitude', 32.16575), ('longitude', 76.26237), ('iso3', 'IND'), ('iso3_op', 'IND'), ('country', 'India'), ('lastcheckd', None), ('remarks', ''), ('url_lca', ''), ('source', ''), ('createdate', datetime.date(2013, 5, 14)), ('updatedate', datetime.date(2015, 1, 27)), ('geonameid', None), ('gdb_geomat', ''), ('rwwidthm', None)])\n",
      "OrderedDict([('nameshort', 'Gwanda'), ('namelong', 'Gwanda'), ('namealt', ''), ('city', ''), ('icao', 'FVGD'), ('iata', ''), ('apttype', 'Airfield'), ('aptclass', 'Domestic'), ('authority', 'Civil'), ('status', 'Unknown'), ('dmg', 'Unknown'), ('rwpaved', 'Unknown'), ('rwlengthm', None), ('rwlengthf', None), ('elevm', None), ('elevf', None), ('humuse', 'No'), ('humoperate', ''), ('locprecisi', 'Unknown'), ('latitude', -20.89991), ('longitude', 29.00476), ('iso3', 'ZWE'), ('iso3_op', 'ZWE'), ('country', 'Zimbabwe'), ('lastcheckd', None), ('remarks', ''), ('url_lca', ''), ('source', ''), ('createdate', datetime.date(2013, 5, 14)), ('updatedate', datetime.date(2015, 1, 27)), ('geonameid', 890516), ('gdb_geomat', ''), ('rwwidthm', None)])\n",
      "OrderedDict([('nameshort', 'Maro'), ('namelong', 'Maro'), ('namealt', ''), ('city', 'Maro'), ('icao', ''), ('iata', ''), ('apttype', 'Airstrip'), ('aptclass', 'Domestic'), ('authority', 'Civil'), ('status', 'Planned'), ('dmg', 'Unknown'), ('rwpaved', 'Unknown'), ('rwlengthm', None), ('rwlengthf', None), ('elevm', None), ('elevf', None), ('humuse', 'No'), ('humoperate', ''), ('locprecisi', 'Unknown'), ('latitude', 8.40294), ('longitude', 18.70259), ('iso3', 'TCD'), ('iso3_op', 'TCD'), ('country', 'Chad'), ('lastcheckd', None), ('remarks', ''), ('url_lca', ''), ('source', ''), ('createdate', datetime.date(2013, 5, 14)), ('updatedate', datetime.date(2015, 1, 27)), ('geonameid', 2428282), ('gdb_geomat', ''), ('rwwidthm', None)])\n",
      "OrderedDict([('nameshort', 'Kagoro'), ('namelong', 'Kagoro'), ('namealt', ''), ('city', 'Kagoro'), ('icao', ''), ('iata', ''), ('apttype', 'Helipad'), ('aptclass', 'Unknown'), ('authority', 'Unknown'), ('status', 'Unknown'), ('dmg', 'Unknown'), ('rwpaved', 'Unknown'), ('rwlengthm', None), ('rwlengthf', None), ('elevm', None), ('elevf', None), ('humuse', 'No'), ('humoperate', ''), ('locprecisi', 'Unknown'), ('latitude', 13.45121), ('longitude', 24.39706), ('iso3', 'SDN'), ('iso3_op', 'SDN'), ('country', 'Sudan'), ('lastcheckd', None), ('remarks', ''), ('url_lca', ''), ('source', ''), ('createdate', datetime.date(2013, 5, 14)), ('updatedate', datetime.date(2015, 1, 27)), ('geonameid', None), ('gdb_geomat', ''), ('rwwidthm', None)])\n"
     ]
    },
    {
     "ename": "UnicodeDecodeError",
     "evalue": "'ascii' codec can't decode byte 0xc3 in position 1: ordinal not in range(128)",
     "output_type": "error",
     "traceback": [
      "\u001B[0;31m---------------------------------------------------------------------------\u001B[0m",
      "\u001B[0;31mUnicodeDecodeError\u001B[0m                        Traceback (most recent call last)",
      "Input \u001B[0;32mIn [112]\u001B[0m, in \u001B[0;36m<cell line: 2>\u001B[0;34m()\u001B[0m\n\u001B[1;32m      1\u001B[0m \u001B[38;5;28;01mfrom\u001B[39;00m \u001B[38;5;21;01mdbfread\u001B[39;00m \u001B[38;5;28;01mimport\u001B[39;00m DBF\n\u001B[0;32m----> 2\u001B[0m \u001B[38;5;28;01mfor\u001B[39;00m record \u001B[38;5;129;01min\u001B[39;00m DBF(\u001B[38;5;124m\"\u001B[39m\u001B[38;5;124mData/wld_trs_airports_wfp.dbf\u001B[39m\u001B[38;5;124m\"\u001B[39m):\n\u001B[1;32m      3\u001B[0m     \u001B[38;5;28mprint\u001B[39m(record)\n",
      "File \u001B[0;32m~/Desktop/SIC/venv/lib/python3.9/site-packages/dbfread/dbf.py:314\u001B[0m, in \u001B[0;36mDBF._iter_records\u001B[0;34m(self, record_type)\u001B[0m\n\u001B[1;32m    311\u001B[0m         items \u001B[38;5;241m=\u001B[39m [(field\u001B[38;5;241m.\u001B[39mname, read(field\u001B[38;5;241m.\u001B[39mlength)) \\\n\u001B[1;32m    312\u001B[0m                  \u001B[38;5;28;01mfor\u001B[39;00m field \u001B[38;5;129;01min\u001B[39;00m \u001B[38;5;28mself\u001B[39m\u001B[38;5;241m.\u001B[39mfields]\n\u001B[1;32m    313\u001B[0m     \u001B[38;5;28;01melse\u001B[39;00m:\n\u001B[0;32m--> 314\u001B[0m         items \u001B[38;5;241m=\u001B[39m [(field\u001B[38;5;241m.\u001B[39mname,\n\u001B[1;32m    315\u001B[0m                   parse(field, read(field\u001B[38;5;241m.\u001B[39mlength))) \\\n\u001B[1;32m    316\u001B[0m                  \u001B[38;5;28;01mfor\u001B[39;00m field \u001B[38;5;129;01min\u001B[39;00m \u001B[38;5;28mself\u001B[39m\u001B[38;5;241m.\u001B[39mfields]\n\u001B[1;32m    318\u001B[0m     \u001B[38;5;28;01myield\u001B[39;00m \u001B[38;5;28mself\u001B[39m\u001B[38;5;241m.\u001B[39mrecfactory(items)\n\u001B[1;32m    320\u001B[0m \u001B[38;5;28;01melif\u001B[39;00m sep \u001B[38;5;129;01min\u001B[39;00m (\u001B[38;5;124mb\u001B[39m\u001B[38;5;124m'\u001B[39m\u001B[38;5;130;01m\\x1a\u001B[39;00m\u001B[38;5;124m'\u001B[39m, \u001B[38;5;124mb\u001B[39m\u001B[38;5;124m'\u001B[39m\u001B[38;5;124m'\u001B[39m):\n\u001B[1;32m    321\u001B[0m     \u001B[38;5;66;03m# End of records.\u001B[39;00m\n",
      "File \u001B[0;32m~/Desktop/SIC/venv/lib/python3.9/site-packages/dbfread/dbf.py:315\u001B[0m, in \u001B[0;36m<listcomp>\u001B[0;34m(.0)\u001B[0m\n\u001B[1;32m    311\u001B[0m         items \u001B[38;5;241m=\u001B[39m [(field\u001B[38;5;241m.\u001B[39mname, read(field\u001B[38;5;241m.\u001B[39mlength)) \\\n\u001B[1;32m    312\u001B[0m                  \u001B[38;5;28;01mfor\u001B[39;00m field \u001B[38;5;129;01min\u001B[39;00m \u001B[38;5;28mself\u001B[39m\u001B[38;5;241m.\u001B[39mfields]\n\u001B[1;32m    313\u001B[0m     \u001B[38;5;28;01melse\u001B[39;00m:\n\u001B[1;32m    314\u001B[0m         items \u001B[38;5;241m=\u001B[39m [(field\u001B[38;5;241m.\u001B[39mname,\n\u001B[0;32m--> 315\u001B[0m                   \u001B[43mparse\u001B[49m\u001B[43m(\u001B[49m\u001B[43mfield\u001B[49m\u001B[43m,\u001B[49m\u001B[43m \u001B[49m\u001B[43mread\u001B[49m\u001B[43m(\u001B[49m\u001B[43mfield\u001B[49m\u001B[38;5;241;43m.\u001B[39;49m\u001B[43mlength\u001B[49m\u001B[43m)\u001B[49m\u001B[43m)\u001B[49m) \\\n\u001B[1;32m    316\u001B[0m                  \u001B[38;5;28;01mfor\u001B[39;00m field \u001B[38;5;129;01min\u001B[39;00m \u001B[38;5;28mself\u001B[39m\u001B[38;5;241m.\u001B[39mfields]\n\u001B[1;32m    318\u001B[0m     \u001B[38;5;28;01myield\u001B[39;00m \u001B[38;5;28mself\u001B[39m\u001B[38;5;241m.\u001B[39mrecfactory(items)\n\u001B[1;32m    320\u001B[0m \u001B[38;5;28;01melif\u001B[39;00m sep \u001B[38;5;129;01min\u001B[39;00m (\u001B[38;5;124mb\u001B[39m\u001B[38;5;124m'\u001B[39m\u001B[38;5;130;01m\\x1a\u001B[39;00m\u001B[38;5;124m'\u001B[39m, \u001B[38;5;124mb\u001B[39m\u001B[38;5;124m'\u001B[39m\u001B[38;5;124m'\u001B[39m):\n\u001B[1;32m    321\u001B[0m     \u001B[38;5;66;03m# End of records.\u001B[39;00m\n",
      "File \u001B[0;32m~/Desktop/SIC/venv/lib/python3.9/site-packages/dbfread/field_parser.py:79\u001B[0m, in \u001B[0;36mFieldParser.parse\u001B[0;34m(self, field, data)\u001B[0m\n\u001B[1;32m     77\u001B[0m     \u001B[38;5;28;01mraise\u001B[39;00m \u001B[38;5;167;01mValueError\u001B[39;00m(\u001B[38;5;124m'\u001B[39m\u001B[38;5;124mUnknown field type: \u001B[39m\u001B[38;5;132;01m{!r}\u001B[39;00m\u001B[38;5;124m'\u001B[39m\u001B[38;5;241m.\u001B[39mformat(field\u001B[38;5;241m.\u001B[39mtype))\n\u001B[1;32m     78\u001B[0m \u001B[38;5;28;01melse\u001B[39;00m:\n\u001B[0;32m---> 79\u001B[0m     \u001B[38;5;28;01mreturn\u001B[39;00m \u001B[43mfunc\u001B[49m\u001B[43m(\u001B[49m\u001B[43mfield\u001B[49m\u001B[43m,\u001B[49m\u001B[43m \u001B[49m\u001B[43mdata\u001B[49m\u001B[43m)\u001B[49m\n",
      "File \u001B[0;32m~/Desktop/SIC/venv/lib/python3.9/site-packages/dbfread/field_parser.py:87\u001B[0m, in \u001B[0;36mFieldParser.parseC\u001B[0;34m(self, field, data)\u001B[0m\n\u001B[1;32m     85\u001B[0m \u001B[38;5;28;01mdef\u001B[39;00m \u001B[38;5;21mparseC\u001B[39m(\u001B[38;5;28mself\u001B[39m, field, data):\n\u001B[1;32m     86\u001B[0m     \u001B[38;5;124;03m\"\"\"Parse char field and return unicode string\"\"\"\u001B[39;00m\n\u001B[0;32m---> 87\u001B[0m     \u001B[38;5;28;01mreturn\u001B[39;00m \u001B[38;5;28;43mself\u001B[39;49m\u001B[38;5;241;43m.\u001B[39;49m\u001B[43mdecode_text\u001B[49m\u001B[43m(\u001B[49m\u001B[43mdata\u001B[49m\u001B[38;5;241;43m.\u001B[39;49m\u001B[43mrstrip\u001B[49m\u001B[43m(\u001B[49m\u001B[38;5;124;43mb\u001B[39;49m\u001B[38;5;124;43m'\u001B[39;49m\u001B[38;5;130;43;01m\\0\u001B[39;49;00m\u001B[38;5;124;43m \u001B[39;49m\u001B[38;5;124;43m'\u001B[39;49m\u001B[43m)\u001B[49m\u001B[43m)\u001B[49m\n",
      "File \u001B[0;32m~/Desktop/SIC/venv/lib/python3.9/site-packages/dbfread/field_parser.py:45\u001B[0m, in \u001B[0;36mFieldParser.decode_text\u001B[0;34m(self, text)\u001B[0m\n\u001B[1;32m     44\u001B[0m \u001B[38;5;28;01mdef\u001B[39;00m \u001B[38;5;21mdecode_text\u001B[39m(\u001B[38;5;28mself\u001B[39m, text):\n\u001B[0;32m---> 45\u001B[0m     \u001B[38;5;28;01mreturn\u001B[39;00m \u001B[43mdecode_text\u001B[49m\u001B[43m(\u001B[49m\u001B[43mtext\u001B[49m\u001B[43m,\u001B[49m\u001B[43m \u001B[49m\u001B[38;5;28;43mself\u001B[39;49m\u001B[38;5;241;43m.\u001B[39;49m\u001B[43mencoding\u001B[49m\u001B[43m,\u001B[49m\u001B[43m \u001B[49m\u001B[43merrors\u001B[49m\u001B[38;5;241;43m=\u001B[39;49m\u001B[38;5;28;43mself\u001B[39;49m\u001B[38;5;241;43m.\u001B[39;49m\u001B[43mchar_decode_errors\u001B[49m\u001B[43m)\u001B[49m\n",
      "\u001B[0;31mUnicodeDecodeError\u001B[0m: 'ascii' codec can't decode byte 0xc3 in position 1: ordinal not in range(128)"
     ]
    }
   ],
   "source": [],
   "metadata": {
    "collapsed": false,
    "pycharm": {
     "name": "#%%\n"
    }
   }
  },
  {
   "cell_type": "code",
   "execution_count": null,
   "outputs": [],
   "source": [],
   "metadata": {
    "collapsed": false,
    "pycharm": {
     "name": "#%%\n"
    }
   }
  },
  {
   "cell_type": "code",
   "execution_count": null,
   "outputs": [],
   "source": [],
   "metadata": {
    "collapsed": false,
    "pycharm": {
     "name": "#%%\n"
    }
   }
  },
  {
   "cell_type": "code",
   "execution_count": null,
   "outputs": [],
   "source": [],
   "metadata": {
    "collapsed": false,
    "pycharm": {
     "name": "#%%\n"
    }
   }
  },
  {
   "cell_type": "code",
   "execution_count": null,
   "outputs": [],
   "source": [],
   "metadata": {
    "collapsed": false,
    "pycharm": {
     "name": "#%%\n"
    }
   }
  },
  {
   "cell_type": "code",
   "execution_count": null,
   "outputs": [],
   "source": [],
   "metadata": {
    "collapsed": false,
    "pycharm": {
     "name": "#%%\n"
    }
   }
  },
  {
   "cell_type": "code",
   "execution_count": 100,
   "outputs": [],
   "source": [
    "data=df3.wheat"
   ],
   "metadata": {
    "collapsed": false,
    "pycharm": {
     "name": "#%%\n"
    }
   }
  },
  {
   "cell_type": "code",
   "execution_count": 101,
   "outputs": [],
   "source": [
    "data=data.to_frame()"
   ],
   "metadata": {
    "collapsed": false,
    "pycharm": {
     "name": "#%%\n"
    }
   }
  },
  {
   "cell_type": "code",
   "execution_count": 102,
   "outputs": [],
   "source": [
    "# normalize the dataset\n",
    "scaler = MinMaxScaler(feature_range=(0, 1))\n",
    "data.wheat = scaler.fit_transform(data.values.astype('float32'))\n"
   ],
   "metadata": {
    "collapsed": false,
    "pycharm": {
     "name": "#%%\n"
    }
   }
  },
  {
   "cell_type": "code",
   "execution_count": 103,
   "outputs": [],
   "source": [
    "data=data.reset_index()\n",
    "data.drop(['index'],axis=1,inplace=True)"
   ],
   "metadata": {
    "collapsed": false,
    "pycharm": {
     "name": "#%%\n"
    }
   }
  },
  {
   "cell_type": "code",
   "execution_count": 104,
   "outputs": [],
   "source": [
    "base=np.zeros([data.shape[0]-1,2])\n",
    "new=pd.DataFrame(base,columns=['X','Y'])"
   ],
   "metadata": {
    "collapsed": false,
    "pycharm": {
     "name": "#%%\n"
    }
   }
  },
  {
   "cell_type": "code",
   "execution_count": 105,
   "outputs": [
    {
     "name": "stdout",
     "output_type": "stream",
     "text": [
      "31 16\n"
     ]
    }
   ],
   "source": [
    "for i in range(data.shape[0]-1):\n",
    "    new['X'][i]=data.iloc[i]\n",
    "    new['Y'][i]=data.iloc[i+1]\n",
    "# split into train and test sets\n",
    "train_size = int(len(new) * 0.67)\n",
    "test_size = len(new) - train_size\n",
    "train, test = new.iloc[0:train_size,:], new.iloc[train_size:len(new),:]\n",
    "print(len(train), len(test))"
   ],
   "metadata": {
    "collapsed": false,
    "pycharm": {
     "name": "#%%\n"
    }
   }
  },
  {
   "cell_type": "code",
   "execution_count": 106,
   "outputs": [
    {
     "data": {
      "text/plain": "           X         Y\n0   0.031099  0.077189\n1   0.077189  0.022850\n2   0.022850  0.000000\n3   0.000000  0.030328\n4   0.030328  0.106154\n5   0.106154  0.184087\n6   0.184087  0.312570\n7   0.312570  0.320114\n8   0.320114  0.474641\n9   0.474641  0.455304\n10  0.455304  0.798702\n11  0.798702  0.655701\n12  0.655701  0.719589\n13  0.719589  0.580955\n14  0.580955  0.570019\n15  0.570019  0.761027\n16  0.761027  0.752822\n17  0.752822  0.822654\n18  0.822654  0.756629\n19  0.756629  0.668795\n20  0.668795  0.705418\n21  0.705418  0.808682\n22  0.808682  0.948489\n23  0.948489  0.825470\n24  0.825470  0.852859\n25  0.852859  0.817859\n26  0.817859  1.000000\n27  1.000000  0.572795\n28  0.572795  0.941437\n29  0.941437  0.772550\n30  0.772550  0.838571\n31  0.838571  0.791837\n32  0.791837  0.788259\n33  0.788259  0.670732\n34  0.670732  0.998796\n35  0.998796  0.753409\n36  0.753409  0.831718\n37  0.831718  0.883078\n38  0.883078  0.688591\n39  0.688591  0.538862\n40  0.538862  0.949485\n41  0.949485  0.948618\n42  0.948618  0.792477\n43  0.792477  0.800921\n44  0.800921  0.673068\n45  0.673068  0.894785\n46  0.894785  0.416792",
      "text/html": "<div>\n<style scoped>\n    .dataframe tbody tr th:only-of-type {\n        vertical-align: middle;\n    }\n\n    .dataframe tbody tr th {\n        vertical-align: top;\n    }\n\n    .dataframe thead th {\n        text-align: right;\n    }\n</style>\n<table border=\"1\" class=\"dataframe\">\n  <thead>\n    <tr style=\"text-align: right;\">\n      <th></th>\n      <th>X</th>\n      <th>Y</th>\n    </tr>\n  </thead>\n  <tbody>\n    <tr>\n      <th>0</th>\n      <td>0.031099</td>\n      <td>0.077189</td>\n    </tr>\n    <tr>\n      <th>1</th>\n      <td>0.077189</td>\n      <td>0.022850</td>\n    </tr>\n    <tr>\n      <th>2</th>\n      <td>0.022850</td>\n      <td>0.000000</td>\n    </tr>\n    <tr>\n      <th>3</th>\n      <td>0.000000</td>\n      <td>0.030328</td>\n    </tr>\n    <tr>\n      <th>4</th>\n      <td>0.030328</td>\n      <td>0.106154</td>\n    </tr>\n    <tr>\n      <th>5</th>\n      <td>0.106154</td>\n      <td>0.184087</td>\n    </tr>\n    <tr>\n      <th>6</th>\n      <td>0.184087</td>\n      <td>0.312570</td>\n    </tr>\n    <tr>\n      <th>7</th>\n      <td>0.312570</td>\n      <td>0.320114</td>\n    </tr>\n    <tr>\n      <th>8</th>\n      <td>0.320114</td>\n      <td>0.474641</td>\n    </tr>\n    <tr>\n      <th>9</th>\n      <td>0.474641</td>\n      <td>0.455304</td>\n    </tr>\n    <tr>\n      <th>10</th>\n      <td>0.455304</td>\n      <td>0.798702</td>\n    </tr>\n    <tr>\n      <th>11</th>\n      <td>0.798702</td>\n      <td>0.655701</td>\n    </tr>\n    <tr>\n      <th>12</th>\n      <td>0.655701</td>\n      <td>0.719589</td>\n    </tr>\n    <tr>\n      <th>13</th>\n      <td>0.719589</td>\n      <td>0.580955</td>\n    </tr>\n    <tr>\n      <th>14</th>\n      <td>0.580955</td>\n      <td>0.570019</td>\n    </tr>\n    <tr>\n      <th>15</th>\n      <td>0.570019</td>\n      <td>0.761027</td>\n    </tr>\n    <tr>\n      <th>16</th>\n      <td>0.761027</td>\n      <td>0.752822</td>\n    </tr>\n    <tr>\n      <th>17</th>\n      <td>0.752822</td>\n      <td>0.822654</td>\n    </tr>\n    <tr>\n      <th>18</th>\n      <td>0.822654</td>\n      <td>0.756629</td>\n    </tr>\n    <tr>\n      <th>19</th>\n      <td>0.756629</td>\n      <td>0.668795</td>\n    </tr>\n    <tr>\n      <th>20</th>\n      <td>0.668795</td>\n      <td>0.705418</td>\n    </tr>\n    <tr>\n      <th>21</th>\n      <td>0.705418</td>\n      <td>0.808682</td>\n    </tr>\n    <tr>\n      <th>22</th>\n      <td>0.808682</td>\n      <td>0.948489</td>\n    </tr>\n    <tr>\n      <th>23</th>\n      <td>0.948489</td>\n      <td>0.825470</td>\n    </tr>\n    <tr>\n      <th>24</th>\n      <td>0.825470</td>\n      <td>0.852859</td>\n    </tr>\n    <tr>\n      <th>25</th>\n      <td>0.852859</td>\n      <td>0.817859</td>\n    </tr>\n    <tr>\n      <th>26</th>\n      <td>0.817859</td>\n      <td>1.000000</td>\n    </tr>\n    <tr>\n      <th>27</th>\n      <td>1.000000</td>\n      <td>0.572795</td>\n    </tr>\n    <tr>\n      <th>28</th>\n      <td>0.572795</td>\n      <td>0.941437</td>\n    </tr>\n    <tr>\n      <th>29</th>\n      <td>0.941437</td>\n      <td>0.772550</td>\n    </tr>\n    <tr>\n      <th>30</th>\n      <td>0.772550</td>\n      <td>0.838571</td>\n    </tr>\n    <tr>\n      <th>31</th>\n      <td>0.838571</td>\n      <td>0.791837</td>\n    </tr>\n    <tr>\n      <th>32</th>\n      <td>0.791837</td>\n      <td>0.788259</td>\n    </tr>\n    <tr>\n      <th>33</th>\n      <td>0.788259</td>\n      <td>0.670732</td>\n    </tr>\n    <tr>\n      <th>34</th>\n      <td>0.670732</td>\n      <td>0.998796</td>\n    </tr>\n    <tr>\n      <th>35</th>\n      <td>0.998796</td>\n      <td>0.753409</td>\n    </tr>\n    <tr>\n      <th>36</th>\n      <td>0.753409</td>\n      <td>0.831718</td>\n    </tr>\n    <tr>\n      <th>37</th>\n      <td>0.831718</td>\n      <td>0.883078</td>\n    </tr>\n    <tr>\n      <th>38</th>\n      <td>0.883078</td>\n      <td>0.688591</td>\n    </tr>\n    <tr>\n      <th>39</th>\n      <td>0.688591</td>\n      <td>0.538862</td>\n    </tr>\n    <tr>\n      <th>40</th>\n      <td>0.538862</td>\n      <td>0.949485</td>\n    </tr>\n    <tr>\n      <th>41</th>\n      <td>0.949485</td>\n      <td>0.948618</td>\n    </tr>\n    <tr>\n      <th>42</th>\n      <td>0.948618</td>\n      <td>0.792477</td>\n    </tr>\n    <tr>\n      <th>43</th>\n      <td>0.792477</td>\n      <td>0.800921</td>\n    </tr>\n    <tr>\n      <th>44</th>\n      <td>0.800921</td>\n      <td>0.673068</td>\n    </tr>\n    <tr>\n      <th>45</th>\n      <td>0.673068</td>\n      <td>0.894785</td>\n    </tr>\n    <tr>\n      <th>46</th>\n      <td>0.894785</td>\n      <td>0.416792</td>\n    </tr>\n  </tbody>\n</table>\n</div>"
     },
     "execution_count": 106,
     "metadata": {},
     "output_type": "execute_result"
    }
   ],
   "source": [
    "new"
   ],
   "metadata": {
    "collapsed": false,
    "pycharm": {
     "name": "#%%\n"
    }
   }
  },
  {
   "cell_type": "code",
   "execution_count": 107,
   "outputs": [],
   "source": [
    "trainX,trainY=train.X.to_numpy(),train.Y.to_numpy()\n",
    "testX,testY=test.X.to_numpy(),test.Y.to_numpy()"
   ],
   "metadata": {
    "collapsed": false,
    "pycharm": {
     "name": "#%%\n"
    }
   }
  },
  {
   "cell_type": "code",
   "execution_count": 108,
   "outputs": [],
   "source": [
    "trainX=trainX.reshape(trainX.shape[0],1)\n",
    "# trainY=trainY.reshape(trainY.shape[0],1)\n",
    "testX=testX.reshape(testX.shape[0],1)\n",
    "# testY=testY.reshape(testY.shape[0],1)\n"
   ],
   "metadata": {
    "collapsed": false,
    "pycharm": {
     "name": "#%%\n"
    }
   }
  },
  {
   "cell_type": "code",
   "execution_count": 109,
   "outputs": [],
   "source": [
    "# reshape input to be [samples, time steps, features]\n",
    "trainX = numpy.reshape(trainX, (trainX.shape[0], 1, trainX.shape[1]))\n",
    "testX = numpy.reshape(testX, (testX.shape[0], 1, testX.shape[1]))"
   ],
   "metadata": {
    "collapsed": false,
    "pycharm": {
     "name": "#%%\n"
    }
   }
  },
  {
   "cell_type": "code",
   "execution_count": 110,
   "outputs": [
    {
     "name": "stderr",
     "output_type": "stream",
     "text": [
      "2022-06-13 11:47:07.870130: I tensorflow/core/platform/cpu_feature_guard.cc:193] This TensorFlow binary is optimized with oneAPI Deep Neural Network Library (oneDNN) to use the following CPU instructions in performance-critical operations:  AVX2 FMA\n",
      "To enable them in other operations, rebuild TensorFlow with the appropriate compiler flags.\n"
     ]
    },
    {
     "name": "stdout",
     "output_type": "stream",
     "text": [
      "Epoch 1/100\n",
      "31/31 - 1s - loss: 0.3933 - 1s/epoch - 34ms/step\n",
      "Epoch 2/100\n",
      "31/31 - 0s - loss: 0.3422 - 27ms/epoch - 877us/step\n",
      "Epoch 3/100\n",
      "31/31 - 0s - loss: 0.2958 - 29ms/epoch - 931us/step\n",
      "Epoch 4/100\n",
      "31/31 - 0s - loss: 0.2514 - 28ms/epoch - 910us/step\n",
      "Epoch 5/100\n",
      "31/31 - 0s - loss: 0.2124 - 29ms/epoch - 940us/step\n",
      "Epoch 6/100\n",
      "31/31 - 0s - loss: 0.1735 - 27ms/epoch - 873us/step\n",
      "Epoch 7/100\n",
      "31/31 - 0s - loss: 0.1410 - 27ms/epoch - 866us/step\n",
      "Epoch 8/100\n",
      "31/31 - 0s - loss: 0.1138 - 26ms/epoch - 853us/step\n",
      "Epoch 9/100\n",
      "31/31 - 0s - loss: 0.0900 - 27ms/epoch - 877us/step\n",
      "Epoch 10/100\n",
      "31/31 - 0s - loss: 0.0728 - 29ms/epoch - 930us/step\n",
      "Epoch 11/100\n",
      "31/31 - 0s - loss: 0.0623 - 28ms/epoch - 908us/step\n",
      "Epoch 12/100\n",
      "31/31 - 0s - loss: 0.0523 - 27ms/epoch - 860us/step\n",
      "Epoch 13/100\n",
      "31/31 - 0s - loss: 0.0476 - 27ms/epoch - 870us/step\n",
      "Epoch 14/100\n",
      "31/31 - 0s - loss: 0.0446 - 26ms/epoch - 842us/step\n",
      "Epoch 15/100\n",
      "31/31 - 0s - loss: 0.0428 - 28ms/epoch - 891us/step\n",
      "Epoch 16/100\n",
      "31/31 - 0s - loss: 0.0414 - 26ms/epoch - 840us/step\n",
      "Epoch 17/100\n",
      "31/31 - 0s - loss: 0.0405 - 26ms/epoch - 851us/step\n",
      "Epoch 18/100\n",
      "31/31 - 0s - loss: 0.0397 - 29ms/epoch - 922us/step\n",
      "Epoch 19/100\n",
      "31/31 - 0s - loss: 0.0394 - 27ms/epoch - 878us/step\n",
      "Epoch 20/100\n",
      "31/31 - 0s - loss: 0.0379 - 29ms/epoch - 922us/step\n",
      "Epoch 21/100\n",
      "31/31 - 0s - loss: 0.0374 - 27ms/epoch - 861us/step\n",
      "Epoch 22/100\n",
      "31/31 - 0s - loss: 0.0370 - 29ms/epoch - 938us/step\n",
      "Epoch 23/100\n",
      "31/31 - 0s - loss: 0.0361 - 27ms/epoch - 857us/step\n",
      "Epoch 24/100\n",
      "31/31 - 0s - loss: 0.0357 - 26ms/epoch - 844us/step\n",
      "Epoch 25/100\n",
      "31/31 - 0s - loss: 0.0346 - 27ms/epoch - 884us/step\n",
      "Epoch 26/100\n",
      "31/31 - 0s - loss: 0.0339 - 27ms/epoch - 879us/step\n",
      "Epoch 27/100\n",
      "31/31 - 0s - loss: 0.0332 - 27ms/epoch - 865us/step\n",
      "Epoch 28/100\n",
      "31/31 - 0s - loss: 0.0329 - 25ms/epoch - 817us/step\n",
      "Epoch 29/100\n",
      "31/31 - 0s - loss: 0.0326 - 25ms/epoch - 821us/step\n",
      "Epoch 30/100\n",
      "31/31 - 0s - loss: 0.0315 - 25ms/epoch - 808us/step\n",
      "Epoch 31/100\n",
      "31/31 - 0s - loss: 0.0310 - 28ms/epoch - 916us/step\n",
      "Epoch 32/100\n",
      "31/31 - 0s - loss: 0.0303 - 28ms/epoch - 900us/step\n",
      "Epoch 33/100\n",
      "31/31 - 0s - loss: 0.0299 - 27ms/epoch - 882us/step\n",
      "Epoch 34/100\n",
      "31/31 - 0s - loss: 0.0296 - 27ms/epoch - 886us/step\n",
      "Epoch 35/100\n",
      "31/31 - 0s - loss: 0.0292 - 27ms/epoch - 862us/step\n",
      "Epoch 36/100\n",
      "31/31 - 0s - loss: 0.0284 - 27ms/epoch - 885us/step\n",
      "Epoch 37/100\n",
      "31/31 - 0s - loss: 0.0283 - 26ms/epoch - 831us/step\n",
      "Epoch 38/100\n",
      "31/31 - 0s - loss: 0.0276 - 26ms/epoch - 854us/step\n",
      "Epoch 39/100\n",
      "31/31 - 0s - loss: 0.0273 - 27ms/epoch - 859us/step\n",
      "Epoch 40/100\n",
      "31/31 - 0s - loss: 0.0277 - 27ms/epoch - 865us/step\n",
      "Epoch 41/100\n",
      "31/31 - 0s - loss: 0.0267 - 26ms/epoch - 847us/step\n",
      "Epoch 42/100\n",
      "31/31 - 0s - loss: 0.0260 - 28ms/epoch - 890us/step\n",
      "Epoch 43/100\n",
      "31/31 - 0s - loss: 0.0258 - 26ms/epoch - 835us/step\n",
      "Epoch 44/100\n",
      "31/31 - 0s - loss: 0.0254 - 25ms/epoch - 794us/step\n",
      "Epoch 45/100\n",
      "31/31 - 0s - loss: 0.0253 - 25ms/epoch - 809us/step\n",
      "Epoch 46/100\n",
      "31/31 - 0s - loss: 0.0248 - 26ms/epoch - 853us/step\n",
      "Epoch 47/100\n",
      "31/31 - 0s - loss: 0.0246 - 29ms/epoch - 944us/step\n",
      "Epoch 48/100\n",
      "31/31 - 0s - loss: 0.0244 - 26ms/epoch - 836us/step\n",
      "Epoch 49/100\n",
      "31/31 - 0s - loss: 0.0241 - 27ms/epoch - 860us/step\n",
      "Epoch 50/100\n",
      "31/31 - 0s - loss: 0.0240 - 26ms/epoch - 833us/step\n",
      "Epoch 51/100\n",
      "31/31 - 0s - loss: 0.0237 - 26ms/epoch - 846us/step\n",
      "Epoch 52/100\n",
      "31/31 - 0s - loss: 0.0234 - 26ms/epoch - 846us/step\n",
      "Epoch 53/100\n",
      "31/31 - 0s - loss: 0.0234 - 28ms/epoch - 893us/step\n",
      "Epoch 54/100\n",
      "31/31 - 0s - loss: 0.0233 - 27ms/epoch - 863us/step\n",
      "Epoch 55/100\n",
      "31/31 - 0s - loss: 0.0230 - 26ms/epoch - 849us/step\n",
      "Epoch 56/100\n",
      "31/31 - 0s - loss: 0.0227 - 25ms/epoch - 812us/step\n",
      "Epoch 57/100\n",
      "31/31 - 0s - loss: 0.0231 - 27ms/epoch - 868us/step\n",
      "Epoch 58/100\n",
      "31/31 - 0s - loss: 0.0224 - 24ms/epoch - 790us/step\n",
      "Epoch 59/100\n",
      "31/31 - 0s - loss: 0.0223 - 26ms/epoch - 835us/step\n",
      "Epoch 60/100\n",
      "31/31 - 0s - loss: 0.0222 - 27ms/epoch - 883us/step\n",
      "Epoch 61/100\n",
      "31/31 - 0s - loss: 0.0221 - 26ms/epoch - 837us/step\n",
      "Epoch 62/100\n",
      "31/31 - 0s - loss: 0.0219 - 28ms/epoch - 899us/step\n",
      "Epoch 63/100\n",
      "31/31 - 0s - loss: 0.0220 - 26ms/epoch - 832us/step\n",
      "Epoch 64/100\n",
      "31/31 - 0s - loss: 0.0217 - 27ms/epoch - 856us/step\n",
      "Epoch 65/100\n",
      "31/31 - 0s - loss: 0.0219 - 27ms/epoch - 863us/step\n",
      "Epoch 66/100\n",
      "31/31 - 0s - loss: 0.0215 - 27ms/epoch - 874us/step\n",
      "Epoch 67/100\n",
      "31/31 - 0s - loss: 0.0216 - 27ms/epoch - 870us/step\n",
      "Epoch 68/100\n",
      "31/31 - 0s - loss: 0.0216 - 26ms/epoch - 841us/step\n",
      "Epoch 69/100\n",
      "31/31 - 0s - loss: 0.0214 - 27ms/epoch - 880us/step\n",
      "Epoch 70/100\n",
      "31/31 - 0s - loss: 0.0217 - 26ms/epoch - 841us/step\n",
      "Epoch 71/100\n",
      "31/31 - 0s - loss: 0.0212 - 26ms/epoch - 823us/step\n",
      "Epoch 72/100\n",
      "31/31 - 0s - loss: 0.0217 - 28ms/epoch - 904us/step\n",
      "Epoch 73/100\n",
      "31/31 - 0s - loss: 0.0211 - 28ms/epoch - 895us/step\n",
      "Epoch 74/100\n",
      "31/31 - 0s - loss: 0.0211 - 34ms/epoch - 1ms/step\n",
      "Epoch 75/100\n",
      "31/31 - 0s - loss: 0.0214 - 26ms/epoch - 847us/step\n",
      "Epoch 76/100\n",
      "31/31 - 0s - loss: 0.0212 - 27ms/epoch - 887us/step\n",
      "Epoch 77/100\n",
      "31/31 - 0s - loss: 0.0209 - 25ms/epoch - 813us/step\n",
      "Epoch 78/100\n",
      "31/31 - 0s - loss: 0.0209 - 28ms/epoch - 903us/step\n",
      "Epoch 79/100\n",
      "31/31 - 0s - loss: 0.0207 - 26ms/epoch - 843us/step\n",
      "Epoch 80/100\n",
      "31/31 - 0s - loss: 0.0211 - 27ms/epoch - 862us/step\n",
      "Epoch 81/100\n",
      "31/31 - 0s - loss: 0.0211 - 26ms/epoch - 851us/step\n",
      "Epoch 82/100\n",
      "31/31 - 0s - loss: 0.0207 - 28ms/epoch - 889us/step\n",
      "Epoch 83/100\n",
      "31/31 - 0s - loss: 0.0206 - 26ms/epoch - 841us/step\n",
      "Epoch 84/100\n",
      "31/31 - 0s - loss: 0.0208 - 26ms/epoch - 843us/step\n",
      "Epoch 85/100\n",
      "31/31 - 0s - loss: 0.0214 - 28ms/epoch - 917us/step\n",
      "Epoch 86/100\n",
      "31/31 - 0s - loss: 0.0206 - 28ms/epoch - 904us/step\n",
      "Epoch 87/100\n",
      "31/31 - 0s - loss: 0.0208 - 27ms/epoch - 874us/step\n",
      "Epoch 88/100\n",
      "31/31 - 0s - loss: 0.0205 - 27ms/epoch - 872us/step\n",
      "Epoch 89/100\n",
      "31/31 - 0s - loss: 0.0207 - 27ms/epoch - 869us/step\n",
      "Epoch 90/100\n",
      "31/31 - 0s - loss: 0.0204 - 28ms/epoch - 892us/step\n",
      "Epoch 91/100\n",
      "31/31 - 0s - loss: 0.0208 - 27ms/epoch - 855us/step\n",
      "Epoch 92/100\n",
      "31/31 - 0s - loss: 0.0203 - 28ms/epoch - 893us/step\n",
      "Epoch 93/100\n",
      "31/31 - 0s - loss: 0.0204 - 28ms/epoch - 899us/step\n",
      "Epoch 94/100\n",
      "31/31 - 0s - loss: 0.0206 - 25ms/epoch - 792us/step\n",
      "Epoch 95/100\n",
      "31/31 - 0s - loss: 0.0205 - 27ms/epoch - 858us/step\n",
      "Epoch 96/100\n",
      "31/31 - 0s - loss: 0.0202 - 28ms/epoch - 894us/step\n",
      "Epoch 97/100\n",
      "31/31 - 0s - loss: 0.0208 - 25ms/epoch - 800us/step\n",
      "Epoch 98/100\n",
      "31/31 - 0s - loss: 0.0204 - 25ms/epoch - 821us/step\n",
      "Epoch 99/100\n",
      "31/31 - 0s - loss: 0.0206 - 25ms/epoch - 803us/step\n",
      "Epoch 100/100\n",
      "31/31 - 0s - loss: 0.0201 - 24ms/epoch - 771us/step\n"
     ]
    },
    {
     "data": {
      "text/plain": "<keras.callbacks.History at 0x7fa208bf7d30>"
     },
     "execution_count": 110,
     "metadata": {},
     "output_type": "execute_result"
    }
   ],
   "source": [
    "# create and fit the LSTM network\n",
    "look_back=1\n",
    "model = Sequential()\n",
    "model.add(LSTM(4, input_shape=(1, look_back)))\n",
    "model.add(Dense(1))\n",
    "model.compile(loss='mean_squared_error', optimizer='adam')\n",
    "model.fit(trainX, trainY, epochs=100, batch_size=1, verbose=2)"
   ],
   "metadata": {
    "collapsed": false,
    "pycharm": {
     "name": "#%%\n"
    }
   }
  },
  {
   "cell_type": "code",
   "execution_count": 111,
   "outputs": [
    {
     "name": "stdout",
     "output_type": "stream",
     "text": [
      "1/1 [==============================] - 0s 347ms/step\n",
      "1/1 [==============================] - 0s 12ms/step\n",
      "Train Score: 10.58 RMSE\n",
      "Test Score: 14.95 RMSE\n"
     ]
    }
   ],
   "source": [
    "# make predictions\n",
    "trainPredict = model.predict(trainX)\n",
    "testPredict = model.predict(testX)\n",
    "# invert predictions\n",
    "trainPredict = scaler.inverse_transform(trainPredict)\n",
    "trainY = scaler.inverse_transform([trainY])\n",
    "testPredict = scaler.inverse_transform(testPredict)\n",
    "testY = scaler.inverse_transform([testY])\n",
    "# calculate root mean squared error\n",
    "trainScore = math.sqrt(mean_squared_error(trainY[0], trainPredict[:,0]))\n",
    "print('Train Score: %.2f RMSE' % (trainScore))\n",
    "testScore = math.sqrt(mean_squared_error(testY[0], testPredict[:,0]))\n",
    "print('Test Score: %.2f RMSE' % (testScore))"
   ],
   "metadata": {
    "collapsed": false,
    "pycharm": {
     "name": "#%%\n"
    }
   }
  },
  {
   "cell_type": "code",
   "execution_count": 112,
   "outputs": [
    {
     "data": {
      "text/plain": "<Figure size 432x288 with 1 Axes>",
      "image/png": "[encoded data removed]"
     },
     "metadata": {
      "needs_background": "light"
     },
     "output_type": "display_data"
    }
   ],
   "source": [
    "# shift train predictions for plotting\n",
    "trainPredictPlot = numpy.empty_like(data)\n",
    "trainPredictPlot[:, :] = numpy.nan\n",
    "trainPredictPlot[look_back:len(trainPredict)+look_back, :] = trainPredict\n",
    "# shift test predictions for plotting\n",
    "# testPredictPlot = numpy.empty_like(data)\n",
    "# testPredictPlot[:, :] = numpy.nan\n",
    "# testPredictPlot[len(trainPredict)+(look_back*2)+1:len(data)-1, :] = testPredict\n",
    "# plot baseline and predictions\n",
    "plt.plot(scaler.inverse_transform(data))\n",
    "plt.plot(trainPredictPlot)\n",
    "# plt.plot(testPredictPlot)\n",
    "plt.show()"
   ],
   "metadata": {
    "collapsed": false,
    "pycharm": {
     "name": "#%%\n"
    }
   }
  },
  {
   "cell_type": "code",
   "execution_count": 113,
   "outputs": [
    {
     "data": {
      "text/plain": "48"
     },
     "execution_count": 113,
     "metadata": {},
     "output_type": "execute_result"
    }
   ],
   "source": [
    "len(data)"
   ],
   "metadata": {
    "collapsed": false,
    "pycharm": {
     "name": "#%%\n"
    }
   }
  },
  {
   "cell_type": "code",
   "execution_count": 114,
   "outputs": [
    {
     "data": {
      "text/plain": "31"
     },
     "execution_count": 114,
     "metadata": {},
     "output_type": "execute_result"
    }
   ],
   "source": [
    "len(trainPredict)"
   ],
   "metadata": {
    "collapsed": false,
    "pycharm": {
     "name": "#%%\n"
    }
   }
  },
  {
   "cell_type": "code",
   "execution_count": 115,
   "outputs": [
    {
     "ename": "NameError",
     "evalue": "name 'testPredictPlot' is not defined",
     "output_type": "error",
     "traceback": [
      "\u001B[0;31m---------------------------------------------------------------------------\u001B[0m",
      "\u001B[0;31mNameError\u001B[0m                                 Traceback (most recent call last)",
      "Input \u001B[0;32mIn [115]\u001B[0m, in \u001B[0;36m<cell line: 1>\u001B[0;34m()\u001B[0m\n\u001B[0;32m----> 1\u001B[0m \u001B[43mtestPredictPlot\u001B[49m[\u001B[38;5;28mlen\u001B[39m(trainPredict)\u001B[38;5;241m+\u001B[39m(look_back\u001B[38;5;241m*\u001B[39m\u001B[38;5;241m2\u001B[39m)\u001B[38;5;241m+\u001B[39m\u001B[38;5;241m1\u001B[39m:\u001B[38;5;28mlen\u001B[39m(data)\u001B[38;5;241m-\u001B[39m\u001B[38;5;241m1\u001B[39m, :]\n",
      "\u001B[0;31mNameError\u001B[0m: name 'testPredictPlot' is not defined"
     ]
    }
   ],
   "source": [
    "testPredictPlot[len(trainPredict)+(look_back*2)+1:len(data)-1, :]"
   ],
   "metadata": {
    "collapsed": false,
    "pycharm": {
     "name": "#%%\n"
    }
   }
  },
  {
   "cell_type": "code",
   "execution_count": null,
   "outputs": [],
   "source": [
    "testPredict"
   ],
   "metadata": {
    "collapsed": false,
    "pycharm": {
     "name": "#%%\n"
    }
   }
  },
  {
   "cell_type": "code",
   "execution_count": null,
   "outputs": [],
   "source": [],
   "metadata": {
    "collapsed": false,
    "pycharm": {
     "name": "#%%\n"
    }
   }
  },
  {
   "cell_type": "code",
   "execution_count": null,
   "outputs": [],
   "source": [],
   "metadata": {
    "collapsed": false,
    "pycharm": {
     "name": "#%%\n"
    }
   }
  },
  {
   "cell_type": "code",
   "execution_count": null,
   "outputs": [],
   "source": [],
   "metadata": {
    "collapsed": false,
    "pycharm": {
     "name": "#%%\n"
    }
   }
  },
  {
   "cell_type": "code",
   "execution_count": null,
   "outputs": [],
   "source": [],
   "metadata": {
    "collapsed": false,
    "pycharm": {
     "name": "#%%\n"
    }
   }
  },
  {
   "cell_type": "code",
   "execution_count": null,
   "outputs": [],
   "source": [],
   "metadata": {
    "collapsed": false,
    "pycharm": {
     "name": "#%%\n"
    }
   }
  },
  {
   "cell_type": "markdown",
   "source": [
    "https://developpaper.com/multivariate-time-series-prediction-using-lstm/"
   ],
   "metadata": {
    "collapsed": false,
    "pycharm": {
     "name": "#%% md\n"
    }
   }
  },
  {
   "cell_type": "code",
   "execution_count": null,
   "outputs": [],
   "source": [
    "import numpy as np\n",
    "import pandas as pd\n",
    "from matplotlib import pyplot as plt\n",
    "from tensorflow.keras.models import Sequential\n",
    "from tensorflow.keras.layers import LSTM\n",
    "from tensorflow.keras.layers import Dense, Dropout\n",
    "from sklearn.preprocessing import MinMaxScaler\n",
    "from keras.wrappers.scikit_learn import KerasRegressor\n",
    "from sklearn.model_selection import GridSearchCV"
   ],
   "metadata": {
    "collapsed": false,
    "pycharm": {
     "name": "#%%\n"
    }
   }
  },
  {
   "cell_type": "code",
   "execution_count": 113,
   "outputs": [
    {
     "data": {
      "text/plain": "       country                      commodity  year  loss_percentage  \\\n0      Myanmar  Groundnuts, excluding shelled  2009             5.22   \n1      Myanmar  Groundnuts, excluding shelled  2008             5.43   \n2      Myanmar  Groundnuts, excluding shelled  2007             5.61   \n3      Myanmar  Groundnuts, excluding shelled  2006             5.40   \n4      Myanmar  Groundnuts, excluding shelled  2005             5.00   \n...        ...                            ...   ...              ...   \n27768   Zambia                         Millet  2000             1.27   \n27769   Zambia                         Millet  2000             2.50   \n27770   Zambia                         Millet  2000             1.00   \n27771   Zambia                         Millet  2000             2.38   \n27772   Zambia                         Millet  2000             3.44   \n\n                 activity   food_supply_stage cause_of_loss  \n0                     NaN  Whole supply chain           NaN  \n1                     NaN  Whole supply chain           NaN  \n2                     NaN  Whole supply chain           NaN  \n3                     NaN  Whole supply chain           NaN  \n4                     NaN  Whole supply chain           NaN  \n...                   ...                 ...           ...  \n27768             Storage                Farm           NaN  \n27769           Winnowing                Farm           NaN  \n27770      Transportation           Transport           NaN  \n27771             Storage             Storage           NaN  \n27772  Drying, Harvesting             Harvest           NaN  \n\n[27773 rows x 7 columns]",
      "text/html": "<div>\n<style scoped>\n    .dataframe tbody tr th:only-of-type {\n        vertical-align: middle;\n    }\n\n    .dataframe tbody tr th {\n        vertical-align: top;\n    }\n\n    .dataframe thead th {\n        text-align: right;\n    }\n</style>\n<table border=\"1\" class=\"dataframe\">\n  <thead>\n    <tr style=\"text-align: right;\">\n      <th></th>\n      <th>country</th>\n      <th>commodity</th>\n      <th>year</th>\n      <th>loss_percentage</th>\n      <th>activity</th>\n      <th>food_supply_stage</th>\n      <th>cause_of_loss</th>\n    </tr>\n  </thead>\n  <tbody>\n    <tr>\n      <th>0</th>\n      <td>Myanmar</td>\n      <td>Groundnuts, excluding shelled</td>\n      <td>2009</td>\n      <td>5.22</td>\n      <td>NaN</td>\n      <td>Whole supply chain</td>\n      <td>NaN</td>\n    </tr>\n    <tr>\n      <th>1</th>\n      <td>Myanmar</td>\n      <td>Groundnuts, excluding shelled</td>\n      <td>2008</td>\n      <td>5.43</td>\n      <td>NaN</td>\n      <td>Whole supply chain</td>\n      <td>NaN</td>\n    </tr>\n    <tr>\n      <th>2</th>\n      <td>Myanmar</td>\n      <td>Groundnuts, excluding shelled</td>\n      <td>2007</td>\n      <td>5.61</td>\n      <td>NaN</td>\n      <td>Whole supply chain</td>\n      <td>NaN</td>\n    </tr>\n    <tr>\n      <th>3</th>\n      <td>Myanmar</td>\n      <td>Groundnuts, excluding shelled</td>\n      <td>2006</td>\n      <td>5.40</td>\n      <td>NaN</td>\n      <td>Whole supply chain</td>\n      <td>NaN</td>\n    </tr>\n    <tr>\n      <th>4</th>\n      <td>Myanmar</td>\n      <td>Groundnuts, excluding shelled</td>\n      <td>2005</td>\n      <td>5.00</td>\n      <td>NaN</td>\n      <td>Whole supply chain</td>\n      <td>NaN</td>\n    </tr>\n    <tr>\n      <th>...</th>\n      <td>...</td>\n      <td>...</td>\n      <td>...</td>\n      <td>...</td>\n      <td>...</td>\n      <td>...</td>\n      <td>...</td>\n    </tr>\n    <tr>\n      <th>27768</th>\n      <td>Zambia</td>\n      <td>Millet</td>\n      <td>2000</td>\n      <td>1.27</td>\n      <td>Storage</td>\n      <td>Farm</td>\n      <td>NaN</td>\n    </tr>\n    <tr>\n      <th>27769</th>\n      <td>Zambia</td>\n      <td>Millet</td>\n      <td>2000</td>\n      <td>2.50</td>\n      <td>Winnowing</td>\n      <td>Farm</td>\n      <td>NaN</td>\n    </tr>\n    <tr>\n      <th>27770</th>\n      <td>Zambia</td>\n      <td>Millet</td>\n      <td>2000</td>\n      <td>1.00</td>\n      <td>Transportation</td>\n      <td>Transport</td>\n      <td>NaN</td>\n    </tr>\n    <tr>\n      <th>27771</th>\n      <td>Zambia</td>\n      <td>Millet</td>\n      <td>2000</td>\n      <td>2.38</td>\n      <td>Storage</td>\n      <td>Storage</td>\n      <td>NaN</td>\n    </tr>\n    <tr>\n      <th>27772</th>\n      <td>Zambia</td>\n      <td>Millet</td>\n      <td>2000</td>\n      <td>3.44</td>\n      <td>Drying, Harvesting</td>\n      <td>Harvest</td>\n      <td>NaN</td>\n    </tr>\n  </tbody>\n</table>\n<p>27773 rows × 7 columns</p>\n</div>"
     },
     "execution_count": 113,
     "metadata": {},
     "output_type": "execute_result"
    }
   ],
   "source": [
    "df"
   ],
   "metadata": {
    "collapsed": false,
    "pycharm": {
     "name": "#%%\n"
    }
   }
  },
  {
   "cell_type": "code",
   "execution_count": null,
   "outputs": [],
   "source": [],
   "metadata": {
    "collapsed": false,
    "pycharm": {
     "name": "#%%\n"
    }
   }
  }
 ],
 "metadata": {
  "interpreter": {
   "hash": "397704579725e15f5c7cb49fe5f0341eb7531c82d19f2c29d197e8b64ab5776b"
  },
  "kernelspec": {
   "display_name": "Python 3.9.0 64-bit",
   "language": "python",
   "name": "python3"
  },
  "language_info": {
   "codemirror_mode": {
    "name": "ipython",
    "version": 3
   },
   "file_extension": ".py",
   "mimetype": "text/x-python",
   "name": "python",
   "nbconvert_exporter": "python",
   "pygments_lexer": "ipython3",
   "version": "3.9.0"
  },
  "orig_nbformat": 4
 },
 "nbformat": 4,
 "nbformat_minor": 2
}