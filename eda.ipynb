{
 "cells": [
  {
   "cell_type": "code",
   "execution_count": 84,
   "metadata": {
    "pycharm": {
     "name": "#%%\n"
    }
   },
   "outputs": [],
   "source": [
    "import pandas as pd\n",
    "import plotly.express as px\n",
    "import numpy as np\n",
    "from plotly.subplots import make_subplots\n",
    "import plotly.graph_objects as go"
   ]
  },
  {
   "cell_type": "code",
   "execution_count": 49,
   "metadata": {
    "pycharm": {
     "name": "#%%\n"
    }
   },
   "outputs": [],
   "source": [
    "df=pd.read_csv(\"Data.csv\")"
   ]
  },
  {
   "cell_type": "code",
   "execution_count": 50,
   "metadata": {
    "pycharm": {
     "name": "#%%\n"
    }
   },
   "outputs": [],
   "source": [
    "df=df[[\"country\",\"commodity\",\"year\",\"loss_percentage\",\"activity\",\"food_supply_stage\",\"cause_of_loss\"]]"
   ]
  },
  {
   "cell_type": "code",
   "execution_count": 51,
   "outputs": [
    {
     "data": {
      "text/plain": "       country                      commodity  year  loss_percentage  \\\n0      Myanmar  Groundnuts, excluding shelled  2009             5.22   \n1      Myanmar  Groundnuts, excluding shelled  2008             5.43   \n2      Myanmar  Groundnuts, excluding shelled  2007             5.61   \n3      Myanmar  Groundnuts, excluding shelled  2006             5.40   \n4      Myanmar  Groundnuts, excluding shelled  2005             5.00   \n...        ...                            ...   ...              ...   \n27768   Zambia                         Millet  2000             1.27   \n27769   Zambia                         Millet  2000             2.50   \n27770   Zambia                         Millet  2000             1.00   \n27771   Zambia                         Millet  2000             2.38   \n27772   Zambia                         Millet  2000             3.44   \n\n                 activity   food_supply_stage cause_of_loss  \n0                     NaN  Whole supply chain           NaN  \n1                     NaN  Whole supply chain           NaN  \n2                     NaN  Whole supply chain           NaN  \n3                     NaN  Whole supply chain           NaN  \n4                     NaN  Whole supply chain           NaN  \n...                   ...                 ...           ...  \n27768             Storage                Farm           NaN  \n27769           Winnowing                Farm           NaN  \n27770      Transportation           Transport           NaN  \n27771             Storage             Storage           NaN  \n27772  Drying, Harvesting             Harvest           NaN  \n\n[27773 rows x 7 columns]",
      "text/html": "<div>\n<style scoped>\n    .dataframe tbody tr th:only-of-type {\n        vertical-align: middle;\n    }\n\n    .dataframe tbody tr th {\n        vertical-align: top;\n    }\n\n    .dataframe thead th {\n        text-align: right;\n    }\n</style>\n<table border=\"1\" class=\"dataframe\">\n  <thead>\n    <tr style=\"text-align: right;\">\n      <th></th>\n      <th>country</th>\n      <th>commodity</th>\n      <th>year</th>\n      <th>loss_percentage</th>\n      <th>activity</th>\n      <th>food_supply_stage</th>\n      <th>cause_of_loss</th>\n    </tr>\n  </thead>\n  <tbody>\n    <tr>\n      <th>0</th>\n      <td>Myanmar</td>\n      <td>Groundnuts, excluding shelled</td>\n      <td>2009</td>\n      <td>5.22</td>\n      <td>NaN</td>\n      <td>Whole supply chain</td>\n      <td>NaN</td>\n    </tr>\n    <tr>\n      <th>1</th>\n      <td>Myanmar</td>\n      <td>Groundnuts, excluding shelled</td>\n      <td>2008</td>\n      <td>5.43</td>\n      <td>NaN</td>\n      <td>Whole supply chain</td>\n      <td>NaN</td>\n    </tr>\n    <tr>\n      <th>2</th>\n      <td>Myanmar</td>\n      <td>Groundnuts, excluding shelled</td>\n      <td>2007</td>\n      <td>5.61</td>\n      <td>NaN</td>\n      <td>Whole supply chain</td>\n      <td>NaN</td>\n    </tr>\n    <tr>\n      <th>3</th>\n      <td>Myanmar</td>\n      <td>Groundnuts, excluding shelled</td>\n      <td>2006</td>\n      <td>5.40</td>\n      <td>NaN</td>\n      <td>Whole supply chain</td>\n      <td>NaN</td>\n    </tr>\n    <tr>\n      <th>4</th>\n      <td>Myanmar</td>\n      <td>Groundnuts, excluding shelled</td>\n      <td>2005</td>\n      <td>5.00</td>\n      <td>NaN</td>\n      <td>Whole supply chain</td>\n      <td>NaN</td>\n    </tr>\n    <tr>\n      <th>...</th>\n      <td>...</td>\n      <td>...</td>\n      <td>...</td>\n      <td>...</td>\n      <td>...</td>\n      <td>...</td>\n      <td>...</td>\n    </tr>\n    <tr>\n      <th>27768</th>\n      <td>Zambia</td>\n      <td>Millet</td>\n      <td>2000</td>\n      <td>1.27</td>\n      <td>Storage</td>\n      <td>Farm</td>\n      <td>NaN</td>\n    </tr>\n    <tr>\n      <th>27769</th>\n      <td>Zambia</td>\n      <td>Millet</td>\n      <td>2000</td>\n      <td>2.50</td>\n      <td>Winnowing</td>\n      <td>Farm</td>\n      <td>NaN</td>\n    </tr>\n    <tr>\n      <th>27770</th>\n      <td>Zambia</td>\n      <td>Millet</td>\n      <td>2000</td>\n      <td>1.00</td>\n      <td>Transportation</td>\n      <td>Transport</td>\n      <td>NaN</td>\n    </tr>\n    <tr>\n      <th>27771</th>\n      <td>Zambia</td>\n      <td>Millet</td>\n      <td>2000</td>\n      <td>2.38</td>\n      <td>Storage</td>\n      <td>Storage</td>\n      <td>NaN</td>\n    </tr>\n    <tr>\n      <th>27772</th>\n      <td>Zambia</td>\n      <td>Millet</td>\n      <td>2000</td>\n      <td>3.44</td>\n      <td>Drying, Harvesting</td>\n      <td>Harvest</td>\n      <td>NaN</td>\n    </tr>\n  </tbody>\n</table>\n<p>27773 rows × 7 columns</p>\n</div>"
     },
     "execution_count": 51,
     "metadata": {},
     "output_type": "execute_result"
    }
   ],
   "source": [
    "df"
   ],
   "metadata": {
    "collapsed": false,
    "pycharm": {
     "name": "#%%\n"
    }
   }
  },
  {
   "cell_type": "code",
   "execution_count": 52,
   "outputs": [
    {
     "name": "stdout",
     "output_type": "stream",
     "text": [
      "<class 'pandas.core.frame.DataFrame'>\n",
      "RangeIndex: 27773 entries, 0 to 27772\n",
      "Data columns (total 7 columns):\n",
      " #   Column             Non-Null Count  Dtype  \n",
      "---  ------             --------------  -----  \n",
      " 0   country            27773 non-null  object \n",
      " 1   commodity          27773 non-null  object \n",
      " 2   year               27773 non-null  int64  \n",
      " 3   loss_percentage    27773 non-null  float64\n",
      " 4   activity           20873 non-null  object \n",
      " 5   food_supply_stage  27724 non-null  object \n",
      " 6   cause_of_loss      925 non-null    object \n",
      "dtypes: float64(1), int64(1), object(5)\n",
      "memory usage: 1.5+ MB\n"
     ]
    }
   ],
   "source": [
    "df.info()"
   ],
   "metadata": {
    "collapsed": false,
    "pycharm": {
     "name": "#%%\n"
    }
   }
  },
  {
   "cell_type": "markdown",
   "source": [
    "# First Level Grouping"
   ],
   "metadata": {
    "collapsed": false,
    "pycharm": {
     "name": "#%% md\n"
    }
   }
  },
  {
   "cell_type": "code",
   "execution_count": 53,
   "metadata": {
    "pycharm": {
     "name": "#%%\n"
    }
   },
   "outputs": [
    {
     "data": {
      "text/plain": "                          commodity  year  loss_percentage  activity  \\\ncountry                                                                \nUnited States of America       1527  1527             1527       179   \nIndia                          1178  1178             1178       941   \nEthiopia                        885   885              885       869   \nKenya                           883   883              883       845   \nUganda                          787   787              787       778   \n...                             ...   ...              ...       ...   \nAfrica                            1     1                1         0   \nSaint Kitts and Nevis             1     1                1         0   \nGabon                             1     1                1         0   \nAlgeria                           1     1                1         0   \nChina,Taiwan                      1     1                1         0   \n\n                          food_supply_stage  cause_of_loss  \ncountry                                                     \nUnited States of America               1527              6  \nIndia                                  1178            132  \nEthiopia                                885             13  \nKenya                                   879             50  \nUganda                                  787              8  \n...                                     ...            ...  \nAfrica                                    1              0  \nSaint Kitts and Nevis                     1              0  \nGabon                                     1              1  \nAlgeria                                   1              0  \nChina,Taiwan                              1              0  \n\n[149 rows x 6 columns]",
      "text/html": "<div>\n<style scoped>\n    .dataframe tbody tr th:only-of-type {\n        vertical-align: middle;\n    }\n\n    .dataframe tbody tr th {\n        vertical-align: top;\n    }\n\n    .dataframe thead th {\n        text-align: right;\n    }\n</style>\n<table border=\"1\" class=\"dataframe\">\n  <thead>\n    <tr style=\"text-align: right;\">\n      <th></th>\n      <th>commodity</th>\n      <th>year</th>\n      <th>loss_percentage</th>\n      <th>activity</th>\n      <th>food_supply_stage</th>\n      <th>cause_of_loss</th>\n    </tr>\n    <tr>\n      <th>country</th>\n      <th></th>\n      <th></th>\n      <th></th>\n      <th></th>\n      <th></th>\n      <th></th>\n    </tr>\n  </thead>\n  <tbody>\n    <tr>\n      <th>United States of America</th>\n      <td>1527</td>\n      <td>1527</td>\n      <td>1527</td>\n      <td>179</td>\n      <td>1527</td>\n      <td>6</td>\n    </tr>\n    <tr>\n      <th>India</th>\n      <td>1178</td>\n      <td>1178</td>\n      <td>1178</td>\n      <td>941</td>\n      <td>1178</td>\n      <td>132</td>\n    </tr>\n    <tr>\n      <th>Ethiopia</th>\n      <td>885</td>\n      <td>885</td>\n      <td>885</td>\n      <td>869</td>\n      <td>885</td>\n      <td>13</td>\n    </tr>\n    <tr>\n      <th>Kenya</th>\n      <td>883</td>\n      <td>883</td>\n      <td>883</td>\n      <td>845</td>\n      <td>879</td>\n      <td>50</td>\n    </tr>\n    <tr>\n      <th>Uganda</th>\n      <td>787</td>\n      <td>787</td>\n      <td>787</td>\n      <td>778</td>\n      <td>787</td>\n      <td>8</td>\n    </tr>\n    <tr>\n      <th>...</th>\n      <td>...</td>\n      <td>...</td>\n      <td>...</td>\n      <td>...</td>\n      <td>...</td>\n      <td>...</td>\n    </tr>\n    <tr>\n      <th>Africa</th>\n      <td>1</td>\n      <td>1</td>\n      <td>1</td>\n      <td>0</td>\n      <td>1</td>\n      <td>0</td>\n    </tr>\n    <tr>\n      <th>Saint Kitts and Nevis</th>\n      <td>1</td>\n      <td>1</td>\n      <td>1</td>\n      <td>0</td>\n      <td>1</td>\n      <td>0</td>\n    </tr>\n    <tr>\n      <th>Gabon</th>\n      <td>1</td>\n      <td>1</td>\n      <td>1</td>\n      <td>0</td>\n      <td>1</td>\n      <td>1</td>\n    </tr>\n    <tr>\n      <th>Algeria</th>\n      <td>1</td>\n      <td>1</td>\n      <td>1</td>\n      <td>0</td>\n      <td>1</td>\n      <td>0</td>\n    </tr>\n    <tr>\n      <th>China,Taiwan</th>\n      <td>1</td>\n      <td>1</td>\n      <td>1</td>\n      <td>0</td>\n      <td>1</td>\n      <td>0</td>\n    </tr>\n  </tbody>\n</table>\n<p>149 rows × 6 columns</p>\n</div>"
     },
     "execution_count": 53,
     "metadata": {},
     "output_type": "execute_result"
    }
   ],
   "source": [
    "df.groupby(\"country\").count().sort_values(by=[\"loss_percentage\"], ascending=False)   #Grouped based on the country"
   ]
  },
  {
   "cell_type": "code",
   "execution_count": 54,
   "outputs": [
    {
     "data": {
      "text/plain": "                                             country  year  loss_percentage  \\\ncommodity                                                                     \nMaize (corn)                                    5246  5246             5246   \nRice                                            4299  4299             4299   \nMillet                                          3398  3398             3398   \nSorghum                                         3390  3390             3390   \nWheat                                           2052  2052             2052   \n...                                              ...   ...              ...   \nFlour of buckwheat                                 1     1                1   \nTapioca of cassava                                 1     1                1   \nOther tropical and subtropical fruits, n.e.        1     1                1   \nOther legumes, for forage                          1     1                1   \nMeat of pig with the bone, fresh or chilled        1     1                1   \n\n                                             activity  food_supply_stage  \\\ncommodity                                                                  \nMaize (corn)                                     4825               5234   \nRice                                             4030               4295   \nMillet                                           3358               3398   \nSorghum                                          3317               3390   \nWheat                                            1668               2051   \n...                                               ...                ...   \nFlour of buckwheat                                  1                  1   \nTapioca of cassava                                  0                  1   \nOther tropical and subtropical fruits, n.e.         0                  1   \nOther legumes, for forage                           0                  1   \nMeat of pig with the bone, fresh or chilled         0                  1   \n\n                                             cause_of_loss  \ncommodity                                                   \nMaize (corn)                                            78  \nRice                                                    68  \nMillet                                                   6  \nSorghum                                                  8  \nWheat                                                   36  \n...                                                    ...  \nFlour of buckwheat                                       0  \nTapioca of cassava                                       1  \nOther tropical and subtropical fruits, n.e.              0  \nOther legumes, for forage                                0  \nMeat of pig with the bone, fresh or chilled              0  \n\n[195 rows x 6 columns]",
      "text/html": "<div>\n<style scoped>\n    .dataframe tbody tr th:only-of-type {\n        vertical-align: middle;\n    }\n\n    .dataframe tbody tr th {\n        vertical-align: top;\n    }\n\n    .dataframe thead th {\n        text-align: right;\n    }\n</style>\n<table border=\"1\" class=\"dataframe\">\n  <thead>\n    <tr style=\"text-align: right;\">\n      <th></th>\n      <th>country</th>\n      <th>year</th>\n      <th>loss_percentage</th>\n      <th>activity</th>\n      <th>food_supply_stage</th>\n      <th>cause_of_loss</th>\n    </tr>\n    <tr>\n      <th>commodity</th>\n      <th></th>\n      <th></th>\n      <th></th>\n      <th></th>\n      <th></th>\n      <th></th>\n    </tr>\n  </thead>\n  <tbody>\n    <tr>\n      <th>Maize (corn)</th>\n      <td>5246</td>\n      <td>5246</td>\n      <td>5246</td>\n      <td>4825</td>\n      <td>5234</td>\n      <td>78</td>\n    </tr>\n    <tr>\n      <th>Rice</th>\n      <td>4299</td>\n      <td>4299</td>\n      <td>4299</td>\n      <td>4030</td>\n      <td>4295</td>\n      <td>68</td>\n    </tr>\n    <tr>\n      <th>Millet</th>\n      <td>3398</td>\n      <td>3398</td>\n      <td>3398</td>\n      <td>3358</td>\n      <td>3398</td>\n      <td>6</td>\n    </tr>\n    <tr>\n      <th>Sorghum</th>\n      <td>3390</td>\n      <td>3390</td>\n      <td>3390</td>\n      <td>3317</td>\n      <td>3390</td>\n      <td>8</td>\n    </tr>\n    <tr>\n      <th>Wheat</th>\n      <td>2052</td>\n      <td>2052</td>\n      <td>2052</td>\n      <td>1668</td>\n      <td>2051</td>\n      <td>36</td>\n    </tr>\n    <tr>\n      <th>...</th>\n      <td>...</td>\n      <td>...</td>\n      <td>...</td>\n      <td>...</td>\n      <td>...</td>\n      <td>...</td>\n    </tr>\n    <tr>\n      <th>Flour of buckwheat</th>\n      <td>1</td>\n      <td>1</td>\n      <td>1</td>\n      <td>1</td>\n      <td>1</td>\n      <td>0</td>\n    </tr>\n    <tr>\n      <th>Tapioca of cassava</th>\n      <td>1</td>\n      <td>1</td>\n      <td>1</td>\n      <td>0</td>\n      <td>1</td>\n      <td>1</td>\n    </tr>\n    <tr>\n      <th>Other tropical and subtropical fruits, n.e.</th>\n      <td>1</td>\n      <td>1</td>\n      <td>1</td>\n      <td>0</td>\n      <td>1</td>\n      <td>0</td>\n    </tr>\n    <tr>\n      <th>Other legumes, for forage</th>\n      <td>1</td>\n      <td>1</td>\n      <td>1</td>\n      <td>0</td>\n      <td>1</td>\n      <td>0</td>\n    </tr>\n    <tr>\n      <th>Meat of pig with the bone, fresh or chilled</th>\n      <td>1</td>\n      <td>1</td>\n      <td>1</td>\n      <td>0</td>\n      <td>1</td>\n      <td>0</td>\n    </tr>\n  </tbody>\n</table>\n<p>195 rows × 6 columns</p>\n</div>"
     },
     "execution_count": 54,
     "metadata": {},
     "output_type": "execute_result"
    }
   ],
   "source": [
    "df.groupby(\"commodity\").count().sort_values(by=[\"loss_percentage\"], ascending=False)   #Grouped based on the commodity"
   ],
   "metadata": {
    "collapsed": false,
    "pycharm": {
     "name": "#%%\n"
    }
   }
  },
  {
   "cell_type": "code",
   "execution_count": 55,
   "outputs": [
    {
     "data": {
      "text/plain": "      country  commodity  loss_percentage  activity  food_supply_stage  \\\nyear                                                                     \n2014     1843       1843             1843      1428               1843   \n2006     1647       1647             1647      1281               1645   \n2009     1607       1607             1607      1288               1607   \n2016     1514       1514             1514      1012               1511   \n2010     1496       1496             1496      1014               1496   \n2013     1433       1433             1433      1049               1412   \n2001     1408       1408             1408       972               1408   \n2008     1380       1380             1380      1114               1380   \n2002     1326       1326             1326       919               1322   \n2011     1310       1310             1310       978               1303   \n2015     1284       1284             1284       914               1284   \n2003     1271       1271             1271       884               1270   \n2005     1250       1250             1250       856               1248   \n2000     1236       1236             1236       861               1235   \n2017     1221       1221             1221       876               1221   \n2004     1205       1205             1205       853               1204   \n2007     1187       1187             1187       860               1182   \n2018     1184       1184             1184      1019               1184   \n2012     1170       1170             1170       935               1168   \n2019      913        913              913       876                913   \n2020      862        862              862       858                862   \n2021       26         26               26        26                 26   \n\n      cause_of_loss  \nyear                 \n2014            160  \n2006              4  \n2009            133  \n2016             13  \n2010             73  \n2013            142  \n2001             76  \n2008              5  \n2002             16  \n2011             89  \n2015             36  \n2003              5  \n2005              6  \n2000              6  \n2017             57  \n2004              2  \n2007             20  \n2018             55  \n2012             27  \n2019              0  \n2020              0  \n2021              0  ",
      "text/html": "<div>\n<style scoped>\n    .dataframe tbody tr th:only-of-type {\n        vertical-align: middle;\n    }\n\n    .dataframe tbody tr th {\n        vertical-align: top;\n    }\n\n    .dataframe thead th {\n        text-align: right;\n    }\n</style>\n<table border=\"1\" class=\"dataframe\">\n  <thead>\n    <tr style=\"text-align: right;\">\n      <th></th>\n      <th>country</th>\n      <th>commodity</th>\n      <th>loss_percentage</th>\n      <th>activity</th>\n      <th>food_supply_stage</th>\n      <th>cause_of_loss</th>\n    </tr>\n    <tr>\n      <th>year</th>\n      <th></th>\n      <th></th>\n      <th></th>\n      <th></th>\n      <th></th>\n      <th></th>\n    </tr>\n  </thead>\n  <tbody>\n    <tr>\n      <th>2014</th>\n      <td>1843</td>\n      <td>1843</td>\n      <td>1843</td>\n      <td>1428</td>\n      <td>1843</td>\n      <td>160</td>\n    </tr>\n    <tr>\n      <th>2006</th>\n      <td>1647</td>\n      <td>1647</td>\n      <td>1647</td>\n      <td>1281</td>\n      <td>1645</td>\n      <td>4</td>\n    </tr>\n    <tr>\n      <th>2009</th>\n      <td>1607</td>\n      <td>1607</td>\n      <td>1607</td>\n      <td>1288</td>\n      <td>1607</td>\n      <td>133</td>\n    </tr>\n    <tr>\n      <th>2016</th>\n      <td>1514</td>\n      <td>1514</td>\n      <td>1514</td>\n      <td>1012</td>\n      <td>1511</td>\n      <td>13</td>\n    </tr>\n    <tr>\n      <th>2010</th>\n      <td>1496</td>\n      <td>1496</td>\n      <td>1496</td>\n      <td>1014</td>\n      <td>1496</td>\n      <td>73</td>\n    </tr>\n    <tr>\n      <th>2013</th>\n      <td>1433</td>\n      <td>1433</td>\n      <td>1433</td>\n      <td>1049</td>\n      <td>1412</td>\n      <td>142</td>\n    </tr>\n    <tr>\n      <th>2001</th>\n      <td>1408</td>\n      <td>1408</td>\n      <td>1408</td>\n      <td>972</td>\n      <td>1408</td>\n      <td>76</td>\n    </tr>\n    <tr>\n      <th>2008</th>\n      <td>1380</td>\n      <td>1380</td>\n      <td>1380</td>\n      <td>1114</td>\n      <td>1380</td>\n      <td>5</td>\n    </tr>\n    <tr>\n      <th>2002</th>\n      <td>1326</td>\n      <td>1326</td>\n      <td>1326</td>\n      <td>919</td>\n      <td>1322</td>\n      <td>16</td>\n    </tr>\n    <tr>\n      <th>2011</th>\n      <td>1310</td>\n      <td>1310</td>\n      <td>1310</td>\n      <td>978</td>\n      <td>1303</td>\n      <td>89</td>\n    </tr>\n    <tr>\n      <th>2015</th>\n      <td>1284</td>\n      <td>1284</td>\n      <td>1284</td>\n      <td>914</td>\n      <td>1284</td>\n      <td>36</td>\n    </tr>\n    <tr>\n      <th>2003</th>\n      <td>1271</td>\n      <td>1271</td>\n      <td>1271</td>\n      <td>884</td>\n      <td>1270</td>\n      <td>5</td>\n    </tr>\n    <tr>\n      <th>2005</th>\n      <td>1250</td>\n      <td>1250</td>\n      <td>1250</td>\n      <td>856</td>\n      <td>1248</td>\n      <td>6</td>\n    </tr>\n    <tr>\n      <th>2000</th>\n      <td>1236</td>\n      <td>1236</td>\n      <td>1236</td>\n      <td>861</td>\n      <td>1235</td>\n      <td>6</td>\n    </tr>\n    <tr>\n      <th>2017</th>\n      <td>1221</td>\n      <td>1221</td>\n      <td>1221</td>\n      <td>876</td>\n      <td>1221</td>\n      <td>57</td>\n    </tr>\n    <tr>\n      <th>2004</th>\n      <td>1205</td>\n      <td>1205</td>\n      <td>1205</td>\n      <td>853</td>\n      <td>1204</td>\n      <td>2</td>\n    </tr>\n    <tr>\n      <th>2007</th>\n      <td>1187</td>\n      <td>1187</td>\n      <td>1187</td>\n      <td>860</td>\n      <td>1182</td>\n      <td>20</td>\n    </tr>\n    <tr>\n      <th>2018</th>\n      <td>1184</td>\n      <td>1184</td>\n      <td>1184</td>\n      <td>1019</td>\n      <td>1184</td>\n      <td>55</td>\n    </tr>\n    <tr>\n      <th>2012</th>\n      <td>1170</td>\n      <td>1170</td>\n      <td>1170</td>\n      <td>935</td>\n      <td>1168</td>\n      <td>27</td>\n    </tr>\n    <tr>\n      <th>2019</th>\n      <td>913</td>\n      <td>913</td>\n      <td>913</td>\n      <td>876</td>\n      <td>913</td>\n      <td>0</td>\n    </tr>\n    <tr>\n      <th>2020</th>\n      <td>862</td>\n      <td>862</td>\n      <td>862</td>\n      <td>858</td>\n      <td>862</td>\n      <td>0</td>\n    </tr>\n    <tr>\n      <th>2021</th>\n      <td>26</td>\n      <td>26</td>\n      <td>26</td>\n      <td>26</td>\n      <td>26</td>\n      <td>0</td>\n    </tr>\n  </tbody>\n</table>\n</div>"
     },
     "execution_count": 55,
     "metadata": {},
     "output_type": "execute_result"
    }
   ],
   "source": [
    "df.groupby(\"year\").count().sort_values(by=[\"loss_percentage\"], ascending=False)   #Grouped based on the year"
   ],
   "metadata": {
    "collapsed": false,
    "pycharm": {
     "name": "#%%\n"
    }
   }
  },
  {
   "cell_type": "code",
   "execution_count": 56,
   "outputs": [
    {
     "data": {
      "text/plain": "                                               country  commodity  year  \\\nactivity                                                                  \nStorage                                           5145       5145  5145   \nTransportation                                    4918       4918  4918   \nDrying, Harvesting                                3315       3315  3315   \nShelling, Threshing                               3170       3170  3170   \nWinnowing                                         1261       1261  1261   \n...                                                ...        ...   ...   \nHarvesting, Packaging, Sorting, Storage              1          1     1   \nHarvesting, Storage                                  1          1     1   \nLoading, Marketing, Transportation, Unloading        1          1     1   \nMarketing, Retailing                                 1          1     1   \nGrading, Transportation                              1          1     1   \n\n                                               loss_percentage  \\\nactivity                                                         \nStorage                                                   5145   \nTransportation                                            4918   \nDrying, Harvesting                                        3315   \nShelling, Threshing                                       3170   \nWinnowing                                                 1261   \n...                                                        ...   \nHarvesting, Packaging, Sorting, Storage                      1   \nHarvesting, Storage                                          1   \nLoading, Marketing, Transportation, Unloading                1   \nMarketing, Retailing                                         1   \nGrading, Transportation                                      1   \n\n                                               food_supply_stage  \\\nactivity                                                           \nStorage                                                     5145   \nTransportation                                              4918   \nDrying, Harvesting                                          3315   \nShelling, Threshing                                         3170   \nWinnowing                                                   1261   \n...                                                          ...   \nHarvesting, Packaging, Sorting, Storage                        1   \nHarvesting, Storage                                            1   \nLoading, Marketing, Transportation, Unloading                  1   \nMarketing, Retailing                                           1   \nGrading, Transportation                                        1   \n\n                                               cause_of_loss  \nactivity                                                      \nStorage                                                  107  \nTransportation                                            11  \nDrying, Harvesting                                         0  \nShelling, Threshing                                        1  \nWinnowing                                                  0  \n...                                                      ...  \nHarvesting, Packaging, Sorting, Storage                    0  \nHarvesting, Storage                                        0  \nLoading, Marketing, Transportation, Unloading              0  \nMarketing, Retailing                                       1  \nGrading, Transportation                                    0  \n\n[110 rows x 6 columns]",
      "text/html": "<div>\n<style scoped>\n    .dataframe tbody tr th:only-of-type {\n        vertical-align: middle;\n    }\n\n    .dataframe tbody tr th {\n        vertical-align: top;\n    }\n\n    .dataframe thead th {\n        text-align: right;\n    }\n</style>\n<table border=\"1\" class=\"dataframe\">\n  <thead>\n    <tr style=\"text-align: right;\">\n      <th></th>\n      <th>country</th>\n      <th>commodity</th>\n      <th>year</th>\n      <th>loss_percentage</th>\n      <th>food_supply_stage</th>\n      <th>cause_of_loss</th>\n    </tr>\n    <tr>\n      <th>activity</th>\n      <th></th>\n      <th></th>\n      <th></th>\n      <th></th>\n      <th></th>\n      <th></th>\n    </tr>\n  </thead>\n  <tbody>\n    <tr>\n      <th>Storage</th>\n      <td>5145</td>\n      <td>5145</td>\n      <td>5145</td>\n      <td>5145</td>\n      <td>5145</td>\n      <td>107</td>\n    </tr>\n    <tr>\n      <th>Transportation</th>\n      <td>4918</td>\n      <td>4918</td>\n      <td>4918</td>\n      <td>4918</td>\n      <td>4918</td>\n      <td>11</td>\n    </tr>\n    <tr>\n      <th>Drying, Harvesting</th>\n      <td>3315</td>\n      <td>3315</td>\n      <td>3315</td>\n      <td>3315</td>\n      <td>3315</td>\n      <td>0</td>\n    </tr>\n    <tr>\n      <th>Shelling, Threshing</th>\n      <td>3170</td>\n      <td>3170</td>\n      <td>3170</td>\n      <td>3170</td>\n      <td>3170</td>\n      <td>1</td>\n    </tr>\n    <tr>\n      <th>Winnowing</th>\n      <td>1261</td>\n      <td>1261</td>\n      <td>1261</td>\n      <td>1261</td>\n      <td>1261</td>\n      <td>0</td>\n    </tr>\n    <tr>\n      <th>...</th>\n      <td>...</td>\n      <td>...</td>\n      <td>...</td>\n      <td>...</td>\n      <td>...</td>\n      <td>...</td>\n    </tr>\n    <tr>\n      <th>Harvesting, Packaging, Sorting, Storage</th>\n      <td>1</td>\n      <td>1</td>\n      <td>1</td>\n      <td>1</td>\n      <td>1</td>\n      <td>0</td>\n    </tr>\n    <tr>\n      <th>Harvesting, Storage</th>\n      <td>1</td>\n      <td>1</td>\n      <td>1</td>\n      <td>1</td>\n      <td>1</td>\n      <td>0</td>\n    </tr>\n    <tr>\n      <th>Loading, Marketing, Transportation, Unloading</th>\n      <td>1</td>\n      <td>1</td>\n      <td>1</td>\n      <td>1</td>\n      <td>1</td>\n      <td>0</td>\n    </tr>\n    <tr>\n      <th>Marketing, Retailing</th>\n      <td>1</td>\n      <td>1</td>\n      <td>1</td>\n      <td>1</td>\n      <td>1</td>\n      <td>1</td>\n    </tr>\n    <tr>\n      <th>Grading, Transportation</th>\n      <td>1</td>\n      <td>1</td>\n      <td>1</td>\n      <td>1</td>\n      <td>1</td>\n      <td>0</td>\n    </tr>\n  </tbody>\n</table>\n<p>110 rows × 6 columns</p>\n</div>"
     },
     "execution_count": 56,
     "metadata": {},
     "output_type": "execute_result"
    }
   ],
   "source": [
    "df.groupby(\"activity\").count().sort_values(by=[\"loss_percentage\"], ascending=False)   #Grouped based on the activity"
   ],
   "metadata": {
    "collapsed": false,
    "pycharm": {
     "name": "#%%\n"
    }
   }
  },
  {
   "cell_type": "code",
   "execution_count": 57,
   "metadata": {
    "pycharm": {
     "name": "#%%\n"
    }
   },
   "outputs": [
    {
     "data": {
      "text/plain": "                    country  commodity   year  loss_percentage  activity  \\\nfood_supply_stage                                                          \nFarm                  12368      12368  12368            12368     12167   \nWhole supply chain     5918       5918   5918             5918       175   \nHarvest                3688       3688   3688             3688      3576   \nStorage                2525       2525   2525             2525      2326   \nTransport              1849       1849   1849             1849      1779   \nRetail                  438        438    438              438       227   \nProcessing              262        262    262              262       184   \nWholesale               257        257    257              257       147   \nHouseholds              167        167    167              167       156   \nTrader                   76         76     76               76        38   \nPost-harvest             53         53     53               53        14   \nExport                   50         50     50               50        32   \nPacking                  17         17     17               17         9   \nFood Services            14         14     14               14        12   \nPre-harvest              11         11     11               11         0   \nGrading                  11         11     11               11         9   \nDistribution             10         10     10               10        10   \nMarket                    9          9      9                9         9   \nStacking                  1          1      1                1         0   \n\n                    cause_of_loss  \nfood_supply_stage                  \nFarm                          182  \nWhole supply chain             79  \nHarvest                        78  \nStorage                       212  \nTransport                      55  \nRetail                         95  \nProcessing                     71  \nWholesale                      93  \nHouseholds                      0  \nTrader                         10  \nPost-harvest                    6  \nExport                         19  \nPacking                         8  \nFood Services                   0  \nPre-harvest                     7  \nGrading                         2  \nDistribution                    0  \nMarket                          0  \nStacking                        0  ",
      "text/html": "<div>\n<style scoped>\n    .dataframe tbody tr th:only-of-type {\n        vertical-align: middle;\n    }\n\n    .dataframe tbody tr th {\n        vertical-align: top;\n    }\n\n    .dataframe thead th {\n        text-align: right;\n    }\n</style>\n<table border=\"1\" class=\"dataframe\">\n  <thead>\n    <tr style=\"text-align: right;\">\n      <th></th>\n      <th>country</th>\n      <th>commodity</th>\n      <th>year</th>\n      <th>loss_percentage</th>\n      <th>activity</th>\n      <th>cause_of_loss</th>\n    </tr>\n    <tr>\n      <th>food_supply_stage</th>\n      <th></th>\n      <th></th>\n      <th></th>\n      <th></th>\n      <th></th>\n      <th></th>\n    </tr>\n  </thead>\n  <tbody>\n    <tr>\n      <th>Farm</th>\n      <td>12368</td>\n      <td>12368</td>\n      <td>12368</td>\n      <td>12368</td>\n      <td>12167</td>\n      <td>182</td>\n    </tr>\n    <tr>\n      <th>Whole supply chain</th>\n      <td>5918</td>\n      <td>5918</td>\n      <td>5918</td>\n      <td>5918</td>\n      <td>175</td>\n      <td>79</td>\n    </tr>\n    <tr>\n      <th>Harvest</th>\n      <td>3688</td>\n      <td>3688</td>\n      <td>3688</td>\n      <td>3688</td>\n      <td>3576</td>\n      <td>78</td>\n    </tr>\n    <tr>\n      <th>Storage</th>\n      <td>2525</td>\n      <td>2525</td>\n      <td>2525</td>\n      <td>2525</td>\n      <td>2326</td>\n      <td>212</td>\n    </tr>\n    <tr>\n      <th>Transport</th>\n      <td>1849</td>\n      <td>1849</td>\n      <td>1849</td>\n      <td>1849</td>\n      <td>1779</td>\n      <td>55</td>\n    </tr>\n    <tr>\n      <th>Retail</th>\n      <td>438</td>\n      <td>438</td>\n      <td>438</td>\n      <td>438</td>\n      <td>227</td>\n      <td>95</td>\n    </tr>\n    <tr>\n      <th>Processing</th>\n      <td>262</td>\n      <td>262</td>\n      <td>262</td>\n      <td>262</td>\n      <td>184</td>\n      <td>71</td>\n    </tr>\n    <tr>\n      <th>Wholesale</th>\n      <td>257</td>\n      <td>257</td>\n      <td>257</td>\n      <td>257</td>\n      <td>147</td>\n      <td>93</td>\n    </tr>\n    <tr>\n      <th>Households</th>\n      <td>167</td>\n      <td>167</td>\n      <td>167</td>\n      <td>167</td>\n      <td>156</td>\n      <td>0</td>\n    </tr>\n    <tr>\n      <th>Trader</th>\n      <td>76</td>\n      <td>76</td>\n      <td>76</td>\n      <td>76</td>\n      <td>38</td>\n      <td>10</td>\n    </tr>\n    <tr>\n      <th>Post-harvest</th>\n      <td>53</td>\n      <td>53</td>\n      <td>53</td>\n      <td>53</td>\n      <td>14</td>\n      <td>6</td>\n    </tr>\n    <tr>\n      <th>Export</th>\n      <td>50</td>\n      <td>50</td>\n      <td>50</td>\n      <td>50</td>\n      <td>32</td>\n      <td>19</td>\n    </tr>\n    <tr>\n      <th>Packing</th>\n      <td>17</td>\n      <td>17</td>\n      <td>17</td>\n      <td>17</td>\n      <td>9</td>\n      <td>8</td>\n    </tr>\n    <tr>\n      <th>Food Services</th>\n      <td>14</td>\n      <td>14</td>\n      <td>14</td>\n      <td>14</td>\n      <td>12</td>\n      <td>0</td>\n    </tr>\n    <tr>\n      <th>Pre-harvest</th>\n      <td>11</td>\n      <td>11</td>\n      <td>11</td>\n      <td>11</td>\n      <td>0</td>\n      <td>7</td>\n    </tr>\n    <tr>\n      <th>Grading</th>\n      <td>11</td>\n      <td>11</td>\n      <td>11</td>\n      <td>11</td>\n      <td>9</td>\n      <td>2</td>\n    </tr>\n    <tr>\n      <th>Distribution</th>\n      <td>10</td>\n      <td>10</td>\n      <td>10</td>\n      <td>10</td>\n      <td>10</td>\n      <td>0</td>\n    </tr>\n    <tr>\n      <th>Market</th>\n      <td>9</td>\n      <td>9</td>\n      <td>9</td>\n      <td>9</td>\n      <td>9</td>\n      <td>0</td>\n    </tr>\n    <tr>\n      <th>Stacking</th>\n      <td>1</td>\n      <td>1</td>\n      <td>1</td>\n      <td>1</td>\n      <td>0</td>\n      <td>0</td>\n    </tr>\n  </tbody>\n</table>\n</div>"
     },
     "execution_count": 57,
     "metadata": {},
     "output_type": "execute_result"
    }
   ],
   "source": [
    "df.groupby(\"food_supply_stage\").count().sort_values(by=[\"loss_percentage\"], ascending=False) #Grouped based on the food supply stage"
   ]
  },
  {
   "cell_type": "code",
   "execution_count": 58,
   "outputs": [
    {
     "data": {
      "text/plain": "                                                    country  commodity  year  \\\ncause_of_loss                                                                  \nPhysical Losses                                          87         87    87   \nInsect pest damage                                       54         54    54   \nmain causes of this were a mismatch in supply a...       41         41    41   \nMechanical Damage                                        36         36    36   \nDecay                                                    26         26    26   \n...                                                     ...        ...   ...   \nParboiled Rice Parboiling                                 1          1     1   \nParboiled Rice Storage                                    1          1     1   \nParboiled Ricedrying                                      1          1     1   \nParboiling                                                1          1     1   \nMost important: After harvest: Quality (appeara...        1          1     1   \n\n                                                    loss_percentage  activity  \\\ncause_of_loss                                                                   \nPhysical Losses                                                  87        12   \nInsect pest damage                                               54        54   \nmain causes of this were a mismatch in supply a...               41         9   \nMechanical Damage                                                36        34   \nDecay                                                            26        26   \n...                                                             ...       ...   \nParboiled Rice Parboiling                                         1         0   \nParboiled Rice Storage                                            1         0   \nParboiled Ricedrying                                              1         0   \nParboiling                                                        1         0   \nMost important: After harvest: Quality (appeara...                1         0   \n\n                                                    food_supply_stage  \ncause_of_loss                                                          \nPhysical Losses                                                    87  \nInsect pest damage                                                 54  \nmain causes of this were a mismatch in supply a...                 41  \nMechanical Damage                                                  36  \nDecay                                                              26  \n...                                                               ...  \nParboiled Rice Parboiling                                           1  \nParboiled Rice Storage                                              1  \nParboiled Ricedrying                                                1  \nParboiling                                                          1  \nMost important: After harvest: Quality (appeara...                  1  \n\n[357 rows x 6 columns]",
      "text/html": "<div>\n<style scoped>\n    .dataframe tbody tr th:only-of-type {\n        vertical-align: middle;\n    }\n\n    .dataframe tbody tr th {\n        vertical-align: top;\n    }\n\n    .dataframe thead th {\n        text-align: right;\n    }\n</style>\n<table border=\"1\" class=\"dataframe\">\n  <thead>\n    <tr style=\"text-align: right;\">\n      <th></th>\n      <th>country</th>\n      <th>commodity</th>\n      <th>year</th>\n      <th>loss_percentage</th>\n      <th>activity</th>\n      <th>food_supply_stage</th>\n    </tr>\n    <tr>\n      <th>cause_of_loss</th>\n      <th></th>\n      <th></th>\n      <th></th>\n      <th></th>\n      <th></th>\n      <th></th>\n    </tr>\n  </thead>\n  <tbody>\n    <tr>\n      <th>Physical Losses</th>\n      <td>87</td>\n      <td>87</td>\n      <td>87</td>\n      <td>87</td>\n      <td>12</td>\n      <td>87</td>\n    </tr>\n    <tr>\n      <th>Insect pest damage</th>\n      <td>54</td>\n      <td>54</td>\n      <td>54</td>\n      <td>54</td>\n      <td>54</td>\n      <td>54</td>\n    </tr>\n    <tr>\n      <th>main causes of this were a mismatch in supply and demand or cosmetic and quality related</th>\n      <td>41</td>\n      <td>41</td>\n      <td>41</td>\n      <td>41</td>\n      <td>9</td>\n      <td>41</td>\n    </tr>\n    <tr>\n      <th>Mechanical Damage</th>\n      <td>36</td>\n      <td>36</td>\n      <td>36</td>\n      <td>36</td>\n      <td>34</td>\n      <td>36</td>\n    </tr>\n    <tr>\n      <th>Decay</th>\n      <td>26</td>\n      <td>26</td>\n      <td>26</td>\n      <td>26</td>\n      <td>26</td>\n      <td>26</td>\n    </tr>\n    <tr>\n      <th>...</th>\n      <td>...</td>\n      <td>...</td>\n      <td>...</td>\n      <td>...</td>\n      <td>...</td>\n      <td>...</td>\n    </tr>\n    <tr>\n      <th>Parboiled Rice Parboiling</th>\n      <td>1</td>\n      <td>1</td>\n      <td>1</td>\n      <td>1</td>\n      <td>0</td>\n      <td>1</td>\n    </tr>\n    <tr>\n      <th>Parboiled Rice Storage</th>\n      <td>1</td>\n      <td>1</td>\n      <td>1</td>\n      <td>1</td>\n      <td>0</td>\n      <td>1</td>\n    </tr>\n    <tr>\n      <th>Parboiled Ricedrying</th>\n      <td>1</td>\n      <td>1</td>\n      <td>1</td>\n      <td>1</td>\n      <td>0</td>\n      <td>1</td>\n    </tr>\n    <tr>\n      <th>Parboiling</th>\n      <td>1</td>\n      <td>1</td>\n      <td>1</td>\n      <td>1</td>\n      <td>0</td>\n      <td>1</td>\n    </tr>\n    <tr>\n      <th>Most important: After harvest: Quality (appearance, size), plant diseases and damage. During harvest: Weather conditions, plant diseases and harvesting procedures.</th>\n      <td>1</td>\n      <td>1</td>\n      <td>1</td>\n      <td>1</td>\n      <td>0</td>\n      <td>1</td>\n    </tr>\n  </tbody>\n</table>\n<p>357 rows × 6 columns</p>\n</div>"
     },
     "execution_count": 58,
     "metadata": {},
     "output_type": "execute_result"
    }
   ],
   "source": [
    "df.groupby(\"cause_of_loss\").count().sort_values(by=[\"loss_percentage\"], ascending=False)   #Grouped based on the cause of loss"
   ],
   "metadata": {
    "collapsed": false,
    "pycharm": {
     "name": "#%%\n"
    }
   }
  },
  {
   "cell_type": "markdown",
   "source": [
    "# SECOND LEVEL GROUPING"
   ],
   "metadata": {
    "collapsed": false,
    "pycharm": {
     "name": "#%% md\n"
    }
   }
  },
  {
   "cell_type": "code",
   "execution_count": 59,
   "outputs": [
    {
     "data": {
      "text/plain": "                           year  loss_percentage  activity  food_supply_stage  \\\ncountry     commodity                                                           \nAfghanistan Barley            4                4         0                  4   \n            Maize (corn)      4                4         0                  4   \n            Rice              4                4         0                  4   \n            Wheat            17               17         0                 17   \nAfrica      Maize (corn)      1                1         0                  1   \n...                         ...              ...       ...                ...   \nZambia      Wheat            84               84        84                 84   \nZimbabwe    Cow peas, dry    70               70        70                 70   \n            Maize (corn)    147              147       147                147   \n            Millet          147              147       147                147   \n            Sorghum         108              108       108                108   \n\n                           cause_of_loss  \ncountry     commodity                     \nAfghanistan Barley                     0  \n            Maize (corn)               0  \n            Rice                       0  \n            Wheat                      0  \nAfrica      Maize (corn)               0  \n...                                  ...  \nZambia      Wheat                      0  \nZimbabwe    Cow peas, dry             54  \n            Maize (corn)               0  \n            Millet                     0  \n            Sorghum                    0  \n\n[1326 rows x 5 columns]",
      "text/html": "<div>\n<style scoped>\n    .dataframe tbody tr th:only-of-type {\n        vertical-align: middle;\n    }\n\n    .dataframe tbody tr th {\n        vertical-align: top;\n    }\n\n    .dataframe thead th {\n        text-align: right;\n    }\n</style>\n<table border=\"1\" class=\"dataframe\">\n  <thead>\n    <tr style=\"text-align: right;\">\n      <th></th>\n      <th></th>\n      <th>year</th>\n      <th>loss_percentage</th>\n      <th>activity</th>\n      <th>food_supply_stage</th>\n      <th>cause_of_loss</th>\n    </tr>\n    <tr>\n      <th>country</th>\n      <th>commodity</th>\n      <th></th>\n      <th></th>\n      <th></th>\n      <th></th>\n      <th></th>\n    </tr>\n  </thead>\n  <tbody>\n    <tr>\n      <th rowspan=\"4\" valign=\"top\">Afghanistan</th>\n      <th>Barley</th>\n      <td>4</td>\n      <td>4</td>\n      <td>0</td>\n      <td>4</td>\n      <td>0</td>\n    </tr>\n    <tr>\n      <th>Maize (corn)</th>\n      <td>4</td>\n      <td>4</td>\n      <td>0</td>\n      <td>4</td>\n      <td>0</td>\n    </tr>\n    <tr>\n      <th>Rice</th>\n      <td>4</td>\n      <td>4</td>\n      <td>0</td>\n      <td>4</td>\n      <td>0</td>\n    </tr>\n    <tr>\n      <th>Wheat</th>\n      <td>17</td>\n      <td>17</td>\n      <td>0</td>\n      <td>17</td>\n      <td>0</td>\n    </tr>\n    <tr>\n      <th>Africa</th>\n      <th>Maize (corn)</th>\n      <td>1</td>\n      <td>1</td>\n      <td>0</td>\n      <td>1</td>\n      <td>0</td>\n    </tr>\n    <tr>\n      <th>...</th>\n      <th>...</th>\n      <td>...</td>\n      <td>...</td>\n      <td>...</td>\n      <td>...</td>\n      <td>...</td>\n    </tr>\n    <tr>\n      <th>Zambia</th>\n      <th>Wheat</th>\n      <td>84</td>\n      <td>84</td>\n      <td>84</td>\n      <td>84</td>\n      <td>0</td>\n    </tr>\n    <tr>\n      <th rowspan=\"4\" valign=\"top\">Zimbabwe</th>\n      <th>Cow peas, dry</th>\n      <td>70</td>\n      <td>70</td>\n      <td>70</td>\n      <td>70</td>\n      <td>54</td>\n    </tr>\n    <tr>\n      <th>Maize (corn)</th>\n      <td>147</td>\n      <td>147</td>\n      <td>147</td>\n      <td>147</td>\n      <td>0</td>\n    </tr>\n    <tr>\n      <th>Millet</th>\n      <td>147</td>\n      <td>147</td>\n      <td>147</td>\n      <td>147</td>\n      <td>0</td>\n    </tr>\n    <tr>\n      <th>Sorghum</th>\n      <td>108</td>\n      <td>108</td>\n      <td>108</td>\n      <td>108</td>\n      <td>0</td>\n    </tr>\n  </tbody>\n</table>\n<p>1326 rows × 5 columns</p>\n</div>"
     },
     "execution_count": 59,
     "metadata": {},
     "output_type": "execute_result"
    }
   ],
   "source": [
    "df.groupby([\"country\",\"commodity\"]).count() #Grouped based on the country"
   ],
   "metadata": {
    "collapsed": false,
    "pycharm": {
     "name": "#%%\n"
    }
   }
  },
  {
   "cell_type": "code",
   "execution_count": 60,
   "outputs": [
    {
     "data": {
      "text/plain": "                        country         commodity  year  loss_percentage  \\\n24459  United States of America         Asparagus  2019           9.0000   \n24460  United States of America          Cabbages  2019           8.0000   \n24461  United States of America          Cabbages  2019           7.0000   \n24462  United States of America          Cabbages  2019          12.0000   \n24463  United States of America          Cabbages  2019          12.0000   \n...                         ...               ...   ...              ...   \n25981  United States of America      Orange juice  2000          40.8538   \n25982  United States of America  Grapefruit juice  2000          43.7016   \n25983  United States of America   Pineapple juice  2000          41.3333   \n25984  United States of America       Grape juice  2000          19.0909   \n25985  United States of America       Apple juice  2000          26.6667   \n\n      activity   food_supply_stage cause_of_loss  \n24459      NaN  Whole supply chain           NaN  \n24460      NaN  Whole supply chain           NaN  \n24461      NaN  Whole supply chain           NaN  \n24462      NaN  Whole supply chain           NaN  \n24463      NaN  Whole supply chain           NaN  \n...        ...                 ...           ...  \n25981      NaN  Whole supply chain           NaN  \n25982      NaN  Whole supply chain           NaN  \n25983      NaN  Whole supply chain           NaN  \n25984      NaN  Whole supply chain           NaN  \n25985      NaN  Whole supply chain           NaN  \n\n[1527 rows x 7 columns]",
      "text/html": "<div>\n<style scoped>\n    .dataframe tbody tr th:only-of-type {\n        vertical-align: middle;\n    }\n\n    .dataframe tbody tr th {\n        vertical-align: top;\n    }\n\n    .dataframe thead th {\n        text-align: right;\n    }\n</style>\n<table border=\"1\" class=\"dataframe\">\n  <thead>\n    <tr style=\"text-align: right;\">\n      <th></th>\n      <th>country</th>\n      <th>commodity</th>\n      <th>year</th>\n      <th>loss_percentage</th>\n      <th>activity</th>\n      <th>food_supply_stage</th>\n      <th>cause_of_loss</th>\n    </tr>\n  </thead>\n  <tbody>\n    <tr>\n      <th>24459</th>\n      <td>United States of America</td>\n      <td>Asparagus</td>\n      <td>2019</td>\n      <td>9.0000</td>\n      <td>NaN</td>\n      <td>Whole supply chain</td>\n      <td>NaN</td>\n    </tr>\n    <tr>\n      <th>24460</th>\n      <td>United States of America</td>\n      <td>Cabbages</td>\n      <td>2019</td>\n      <td>8.0000</td>\n      <td>NaN</td>\n      <td>Whole supply chain</td>\n      <td>NaN</td>\n    </tr>\n    <tr>\n      <th>24461</th>\n      <td>United States of America</td>\n      <td>Cabbages</td>\n      <td>2019</td>\n      <td>7.0000</td>\n      <td>NaN</td>\n      <td>Whole supply chain</td>\n      <td>NaN</td>\n    </tr>\n    <tr>\n      <th>24462</th>\n      <td>United States of America</td>\n      <td>Cabbages</td>\n      <td>2019</td>\n      <td>12.0000</td>\n      <td>NaN</td>\n      <td>Whole supply chain</td>\n      <td>NaN</td>\n    </tr>\n    <tr>\n      <th>24463</th>\n      <td>United States of America</td>\n      <td>Cabbages</td>\n      <td>2019</td>\n      <td>12.0000</td>\n      <td>NaN</td>\n      <td>Whole supply chain</td>\n      <td>NaN</td>\n    </tr>\n    <tr>\n      <th>...</th>\n      <td>...</td>\n      <td>...</td>\n      <td>...</td>\n      <td>...</td>\n      <td>...</td>\n      <td>...</td>\n      <td>...</td>\n    </tr>\n    <tr>\n      <th>25981</th>\n      <td>United States of America</td>\n      <td>Orange juice</td>\n      <td>2000</td>\n      <td>40.8538</td>\n      <td>NaN</td>\n      <td>Whole supply chain</td>\n      <td>NaN</td>\n    </tr>\n    <tr>\n      <th>25982</th>\n      <td>United States of America</td>\n      <td>Grapefruit juice</td>\n      <td>2000</td>\n      <td>43.7016</td>\n      <td>NaN</td>\n      <td>Whole supply chain</td>\n      <td>NaN</td>\n    </tr>\n    <tr>\n      <th>25983</th>\n      <td>United States of America</td>\n      <td>Pineapple juice</td>\n      <td>2000</td>\n      <td>41.3333</td>\n      <td>NaN</td>\n      <td>Whole supply chain</td>\n      <td>NaN</td>\n    </tr>\n    <tr>\n      <th>25984</th>\n      <td>United States of America</td>\n      <td>Grape juice</td>\n      <td>2000</td>\n      <td>19.0909</td>\n      <td>NaN</td>\n      <td>Whole supply chain</td>\n      <td>NaN</td>\n    </tr>\n    <tr>\n      <th>25985</th>\n      <td>United States of America</td>\n      <td>Apple juice</td>\n      <td>2000</td>\n      <td>26.6667</td>\n      <td>NaN</td>\n      <td>Whole supply chain</td>\n      <td>NaN</td>\n    </tr>\n  </tbody>\n</table>\n<p>1527 rows × 7 columns</p>\n</div>"
     },
     "execution_count": 60,
     "metadata": {},
     "output_type": "execute_result"
    }
   ],
   "source": [
    "df[df.country==\"United States of America\"]"
   ],
   "metadata": {
    "collapsed": false,
    "pycharm": {
     "name": "#%%\n"
    }
   }
  },
  {
   "cell_type": "code",
   "execution_count": 61,
   "outputs": [
    {
     "data": {
      "text/plain": "                                         country  year  loss_percentage  \\\ncommodity                                                                 \nAlmonds, in shell                              1     8                8   \nApple juice                                    1    19                1   \nApples                                         1    19                6   \nApricots                                       1    19                6   \nArtichokes                                     1    20                5   \n...                                          ...   ...              ...   \nTangerines, mandarins, clementines             1    20                3   \nTomatoes                                       1    20                5   \nVegetable products, fresh or dry n.e.c.        1     1                2   \nWalnuts, in shell                              1     8                5   \nWatermelons                                    1    19                5   \n\n                                         activity  food_supply_stage  \\\ncommodity                                                              \nAlmonds, in shell                               0                  1   \nApple juice                                     0                  1   \nApples                                          2                  3   \nApricots                                        2                  3   \nArtichokes                                      2                  3   \n...                                           ...                ...   \nTangerines, mandarins, clementines              0                  2   \nTomatoes                                        2                  3   \nVegetable products, fresh or dry n.e.c.         2                  2   \nWalnuts, in shell                               0                  1   \nWatermelons                                     2                  3   \n\n                                         cause_of_loss  \ncommodity                                               \nAlmonds, in shell                                    0  \nApple juice                                          0  \nApples                                               0  \nApricots                                             0  \nArtichokes                                           0  \n...                                                ...  \nTangerines, mandarins, clementines                   0  \nTomatoes                                             0  \nVegetable products, fresh or dry n.e.c.              0  \nWalnuts, in shell                                    0  \nWatermelons                                          0  \n\n[83 rows x 6 columns]",
      "text/html": "<div>\n<style scoped>\n    .dataframe tbody tr th:only-of-type {\n        vertical-align: middle;\n    }\n\n    .dataframe tbody tr th {\n        vertical-align: top;\n    }\n\n    .dataframe thead th {\n        text-align: right;\n    }\n</style>\n<table border=\"1\" class=\"dataframe\">\n  <thead>\n    <tr style=\"text-align: right;\">\n      <th></th>\n      <th>country</th>\n      <th>year</th>\n      <th>loss_percentage</th>\n      <th>activity</th>\n      <th>food_supply_stage</th>\n      <th>cause_of_loss</th>\n    </tr>\n    <tr>\n      <th>commodity</th>\n      <th></th>\n      <th></th>\n      <th></th>\n      <th></th>\n      <th></th>\n      <th></th>\n    </tr>\n  </thead>\n  <tbody>\n    <tr>\n      <th>Almonds, in shell</th>\n      <td>1</td>\n      <td>8</td>\n      <td>8</td>\n      <td>0</td>\n      <td>1</td>\n      <td>0</td>\n    </tr>\n    <tr>\n      <th>Apple juice</th>\n      <td>1</td>\n      <td>19</td>\n      <td>1</td>\n      <td>0</td>\n      <td>1</td>\n      <td>0</td>\n    </tr>\n    <tr>\n      <th>Apples</th>\n      <td>1</td>\n      <td>19</td>\n      <td>6</td>\n      <td>2</td>\n      <td>3</td>\n      <td>0</td>\n    </tr>\n    <tr>\n      <th>Apricots</th>\n      <td>1</td>\n      <td>19</td>\n      <td>6</td>\n      <td>2</td>\n      <td>3</td>\n      <td>0</td>\n    </tr>\n    <tr>\n      <th>Artichokes</th>\n      <td>1</td>\n      <td>20</td>\n      <td>5</td>\n      <td>2</td>\n      <td>3</td>\n      <td>0</td>\n    </tr>\n    <tr>\n      <th>...</th>\n      <td>...</td>\n      <td>...</td>\n      <td>...</td>\n      <td>...</td>\n      <td>...</td>\n      <td>...</td>\n    </tr>\n    <tr>\n      <th>Tangerines, mandarins, clementines</th>\n      <td>1</td>\n      <td>20</td>\n      <td>3</td>\n      <td>0</td>\n      <td>2</td>\n      <td>0</td>\n    </tr>\n    <tr>\n      <th>Tomatoes</th>\n      <td>1</td>\n      <td>20</td>\n      <td>5</td>\n      <td>2</td>\n      <td>3</td>\n      <td>0</td>\n    </tr>\n    <tr>\n      <th>Vegetable products, fresh or dry n.e.c.</th>\n      <td>1</td>\n      <td>1</td>\n      <td>2</td>\n      <td>2</td>\n      <td>2</td>\n      <td>0</td>\n    </tr>\n    <tr>\n      <th>Walnuts, in shell</th>\n      <td>1</td>\n      <td>8</td>\n      <td>5</td>\n      <td>0</td>\n      <td>1</td>\n      <td>0</td>\n    </tr>\n    <tr>\n      <th>Watermelons</th>\n      <td>1</td>\n      <td>19</td>\n      <td>5</td>\n      <td>2</td>\n      <td>3</td>\n      <td>0</td>\n    </tr>\n  </tbody>\n</table>\n<p>83 rows × 6 columns</p>\n</div>"
     },
     "execution_count": 61,
     "metadata": {},
     "output_type": "execute_result"
    }
   ],
   "source": [
    "df[df.country==\"United States of America\"].groupby(\"commodity\").nunique()"
   ],
   "metadata": {
    "collapsed": false,
    "pycharm": {
     "name": "#%%\n"
    }
   }
  },
  {
   "cell_type": "code",
   "execution_count": 100,
   "outputs": [
    {
     "data": {
      "text/plain": "1527"
     },
     "execution_count": 100,
     "metadata": {},
     "output_type": "execute_result"
    }
   ],
   "source": [
    "df[df.country==country].shape[0]"
   ],
   "metadata": {
    "collapsed": false,
    "pycharm": {
     "name": "#%%\n"
    }
   }
  },
  {
   "cell_type": "code",
   "execution_count": 144,
   "outputs": [],
   "source": [
    "def plot_country_comm(country):\n",
    "    commodities=df[df.country==country].commodity.unique()\n",
    "    df_country=df[df.country==country]\n",
    "    fig = make_subplots(rows=commodities.shape[0], cols=1,subplot_titles=commodities)\n",
    "\n",
    "    for i in range(commodities.shape[0]):\n",
    "        df_country_temp=df_country[df_country.commodity==commodities[i]].groupby(\"year\").sum()\n",
    "        fig.append_trace(go.Scatter(x=df_country_temp.index,y=df_country_temp[\"loss_percentage\"], dtick=1,), row=i+1, col=1)\n",
    "    fig.update_layout(height=6000, width=1200 ,title_text=\"Stacked Subplots\")\n",
    "    fig.show()\n",
    "# , title=f'{country}-{commodities[i]} Food Loss Sum'"
   ],
   "metadata": {
    "collapsed": false,
    "pycharm": {
     "name": "#%%\n"
    }
   }
  },
  {
   "cell_type": "code",
   "execution_count": 145,
   "outputs": [],
   "source": [],
   "metadata": {
    "collapsed": false,
    "pycharm": {
     "name": "#%%\n"
    }
   }
  },
  {
   "cell_type": "code",
   "execution_count": 79,
   "outputs": [
    {
     "name": "stdout",
     "output_type": "stream",
     "text": [
      "Asparagus\n",
      "Cabbages\n",
      "Cauliflowers and broccoli\n",
      "Lettuce and chicory\n",
      "Spinach\n",
      "Artichokes\n",
      "Chillies and peppers, green (<i>Capsicum</i> spp. and <i>Pimenta</i> spp.)\n",
      "Cucumbers and gherkins\n",
      "Eggplants (aubergines)\n",
      "Tomatoes\n",
      "Pumpkins, squash and gourds\n",
      "Okra\n",
      "Other beans, green\n",
      "Carrots and turnips\n",
      "Green garlic\n",
      "Onions and shallots, green\n",
      "Green corn (maize)\n",
      "Other vegetables, fresh n.e.c.\n",
      "Pomelos and grapefruits\n",
      "Lemons and limes\n",
      "Tangerines, mandarins, clementines\n",
      "Potatoes\n",
      "Sweet potatoes\n",
      "Hen eggs in shell, fresh\n",
      "Grapefruit juice\n",
      "Watermelons\n",
      "Cantaloupes and other melons\n",
      "Mushrooms and truffles\n",
      "Avocados\n",
      "Mangoes, guavas and mangosteens\n",
      "Papayas\n",
      "Pineapples\n",
      "Grapes\n",
      "Apples\n",
      "Pears\n",
      "Apricots\n",
      "Peaches and nectarines\n",
      "Plums and sloes\n",
      "Kiwi fruit\n",
      "Raspberries\n",
      "Strawberries\n",
      "Blueberries\n",
      "Cranberries\n",
      "Canned mushrooms\n",
      "Orange juice\n",
      "Pineapple juice\n",
      "Grape juice\n",
      "Apple juice\n",
      "Bananas\n",
      "Oranges\n",
      "Mustard seed\n",
      "Pepper (<i>Piper</i> spp.), raw\n",
      "Sweet corn, prepared or preserved\n",
      "Plums, dried\n",
      "Mixed grain\n",
      "Snails, fresh, chilled, frozen, dried, salted or in brine, except sea snails\n",
      "Other fruits, n.e.c.\n",
      "Meat of sheep, fresh or chilled\n",
      "Pig meat, cuts, salted, dried or smoked (bacon and ham)\n",
      "Dairy products n.e.c.\n",
      "Sheep\n",
      "Goats\n",
      "Cattle\n",
      "Vegetable products, fresh or dry n.e.c.\n",
      "Raw milk of cattle\n",
      "Meat of cattle with the bone, fresh or chilled\n",
      "Sugar and syrups n.e.c.\n",
      "Peas, green\n",
      "Dates\n",
      "Figs\n",
      "Cherries\n",
      "Olives\n",
      "Beans, dry\n",
      "Lentils, dry\n",
      "Peas, dry\n",
      "Sweet corn, frozen\n",
      "Raisins\n",
      "Juice of lemon\n",
      "Juice of citrus fruit n.e.c.\n",
      "Almonds, in shell\n",
      "Hazelnuts, in shell\n",
      "Walnuts, in shell\n",
      "Meat of chickens, fresh or chilled\n"
     ]
    }
   ],
   "source": [
    "commodities=df[df.country==country].commodity.unique()\n",
    "for i in commodities:\n",
    "    print(i)"
   ],
   "metadata": {
    "collapsed": false,
    "pycharm": {
     "name": "#%%\n"
    }
   }
  },
  {
   "cell_type": "code",
   "execution_count": 67,
   "outputs": [
    {
     "data": {
      "application/vnd.plotly.v1+json": {
       "data": [
        {
         "hovertemplate": "year=%{x}<br>loss_percentage=%{y}<extra></extra>",
         "legendgroup": "",
         "line": {
          "color": "#636efa",
          "dash": "solid"
         },
         "marker": {
          "symbol": "circle"
         },
         "mode": "lines",
         "name": "",
         "orientation": "v",
         "showlegend": false,
         "x": [
          2000,
          2001,
          2002,
          2003,
          2004,
          2005,
          2006,
          2007,
          2008,
          2009,
          2010,
          2011,
          2012,
          2013,
          2014,
          2015,
          2016,
          2017,
          2018,
          2019
         ],
         "xaxis": "x",
         "y": [
          12.0,
          12.0,
          12.0,
          12.0,
          12.0,
          26.4,
          26.4,
          12.0,
          72.0,
          12.0,
          12.0,
          12.0,
          12.0,
          12.0,
          12.0,
          12.0,
          12.0,
          12.0,
          30.2,
          12.0
         ],
         "yaxis": "y",
         "type": "scatter"
        }
       ],
       "layout": {
        "template": {
         "data": {
          "histogram2dcontour": [
           {
            "type": "histogram2dcontour",
            "colorbar": {
             "outlinewidth": 0,
             "ticks": ""
            },
            "colorscale": [
             [
              0.0,
              "#0d0887"
             ],
             [
              0.1111111111111111,
              "#46039f"
             ],
             [
              0.2222222222222222,
              "#7201a8"
             ],
             [
              0.3333333333333333,
              "#9c179e"
             ],
             [
              0.4444444444444444,
              "#bd3786"
             ],
             [
              0.5555555555555556,
              "#d8576b"
             ],
             [
              0.6666666666666666,
              "#ed7953"
             ],
             [
              0.7777777777777778,
              "#fb9f3a"
             ],
             [
              0.8888888888888888,
              "#fdca26"
             ],
             [
              1.0,
              "#f0f921"
             ]
            ]
           }
          ],
          "choropleth": [
           {
            "type": "choropleth",
            "colorbar": {
             "outlinewidth": 0,
             "ticks": ""
            }
           }
          ],
          "histogram2d": [
           {
            "type": "histogram2d",
            "colorbar": {
             "outlinewidth": 0,
             "ticks": ""
            },
            "colorscale": [
             [
              0.0,
              "#0d0887"
             ],
             [
              0.1111111111111111,
              "#46039f"
             ],
             [
              0.2222222222222222,
              "#7201a8"
             ],
             [
              0.3333333333333333,
              "#9c179e"
             ],
             [
              0.4444444444444444,
              "#bd3786"
             ],
             [
              0.5555555555555556,
              "#d8576b"
             ],
             [
              0.6666666666666666,
              "#ed7953"
             ],
             [
              0.7777777777777778,
              "#fb9f3a"
             ],
             [
              0.8888888888888888,
              "#fdca26"
             ],
             [
              1.0,
              "#f0f921"
             ]
            ]
           }
          ],
          "heatmap": [
           {
            "type": "heatmap",
            "colorbar": {
             "outlinewidth": 0,
             "ticks": ""
            },
            "colorscale": [
             [
              0.0,
              "#0d0887"
             ],
             [
              0.1111111111111111,
              "#46039f"
             ],
             [
              0.2222222222222222,
              "#7201a8"
             ],
             [
              0.3333333333333333,
              "#9c179e"
             ],
             [
              0.4444444444444444,
              "#bd3786"
             ],
             [
              0.5555555555555556,
              "#d8576b"
             ],
             [
              0.6666666666666666,
              "#ed7953"
             ],
             [
              0.7777777777777778,
              "#fb9f3a"
             ],
             [
              0.8888888888888888,
              "#fdca26"
             ],
             [
              1.0,
              "#f0f921"
             ]
            ]
           }
          ],
          "heatmapgl": [
           {
            "type": "heatmapgl",
            "colorbar": {
             "outlinewidth": 0,
             "ticks": ""
            },
            "colorscale": [
             [
              0.0,
              "#0d0887"
             ],
             [
              0.1111111111111111,
              "#46039f"
             ],
             [
              0.2222222222222222,
              "#7201a8"
             ],
             [
              0.3333333333333333,
              "#9c179e"
             ],
             [
              0.4444444444444444,
              "#bd3786"
             ],
             [
              0.5555555555555556,
              "#d8576b"
             ],
             [
              0.6666666666666666,
              "#ed7953"
             ],
             [
              0.7777777777777778,
              "#fb9f3a"
             ],
             [
              0.8888888888888888,
              "#fdca26"
             ],
             [
              1.0,
              "#f0f921"
             ]
            ]
           }
          ],
          "contourcarpet": [
           {
            "type": "contourcarpet",
            "colorbar": {
             "outlinewidth": 0,
             "ticks": ""
            }
           }
          ],
          "contour": [
           {
            "type": "contour",
            "colorbar": {
             "outlinewidth": 0,
             "ticks": ""
            },
            "colorscale": [
             [
              0.0,
              "#0d0887"
             ],
             [
              0.1111111111111111,
              "#46039f"
             ],
             [
              0.2222222222222222,
              "#7201a8"
             ],
             [
              0.3333333333333333,
              "#9c179e"
             ],
             [
              0.4444444444444444,
              "#bd3786"
             ],
             [
              0.5555555555555556,
              "#d8576b"
             ],
             [
              0.6666666666666666,
              "#ed7953"
             ],
             [
              0.7777777777777778,
              "#fb9f3a"
             ],
             [
              0.8888888888888888,
              "#fdca26"
             ],
             [
              1.0,
              "#f0f921"
             ]
            ]
           }
          ],
          "surface": [
           {
            "type": "surface",
            "colorbar": {
             "outlinewidth": 0,
             "ticks": ""
            },
            "colorscale": [
             [
              0.0,
              "#0d0887"
             ],
             [
              0.1111111111111111,
              "#46039f"
             ],
             [
              0.2222222222222222,
              "#7201a8"
             ],
             [
              0.3333333333333333,
              "#9c179e"
             ],
             [
              0.4444444444444444,
              "#bd3786"
             ],
             [
              0.5555555555555556,
              "#d8576b"
             ],
             [
              0.6666666666666666,
              "#ed7953"
             ],
             [
              0.7777777777777778,
              "#fb9f3a"
             ],
             [
              0.8888888888888888,
              "#fdca26"
             ],
             [
              1.0,
              "#f0f921"
             ]
            ]
           }
          ],
          "mesh3d": [
           {
            "type": "mesh3d",
            "colorbar": {
             "outlinewidth": 0,
             "ticks": ""
            }
           }
          ],
          "scatter": [
           {
            "fillpattern": {
             "fillmode": "overlay",
             "size": 10,
             "solidity": 0.2
            },
            "type": "scatter"
           }
          ],
          "parcoords": [
           {
            "type": "parcoords",
            "line": {
             "colorbar": {
              "outlinewidth": 0,
              "ticks": ""
             }
            }
           }
          ],
          "scatterpolargl": [
           {
            "type": "scatterpolargl",
            "marker": {
             "colorbar": {
              "outlinewidth": 0,
              "ticks": ""
             }
            }
           }
          ],
          "bar": [
           {
            "error_x": {
             "color": "#2a3f5f"
            },
            "error_y": {
             "color": "#2a3f5f"
            },
            "marker": {
             "line": {
              "color": "#E5ECF6",
              "width": 0.5
             },
             "pattern": {
              "fillmode": "overlay",
              "size": 10,
              "solidity": 0.2
             }
            },
            "type": "bar"
           }
          ],
          "scattergeo": [
           {
            "type": "scattergeo",
            "marker": {
             "colorbar": {
              "outlinewidth": 0,
              "ticks": ""
             }
            }
           }
          ],
          "scatterpolar": [
           {
            "type": "scatterpolar",
            "marker": {
             "colorbar": {
              "outlinewidth": 0,
              "ticks": ""
             }
            }
           }
          ],
          "histogram": [
           {
            "marker": {
             "pattern": {
              "fillmode": "overlay",
              "size": 10,
              "solidity": 0.2
             }
            },
            "type": "histogram"
           }
          ],
          "scattergl": [
           {
            "type": "scattergl",
            "marker": {
             "colorbar": {
              "outlinewidth": 0,
              "ticks": ""
             }
            }
           }
          ],
          "scatter3d": [
           {
            "type": "scatter3d",
            "line": {
             "colorbar": {
              "outlinewidth": 0,
              "ticks": ""
             }
            },
            "marker": {
             "colorbar": {
              "outlinewidth": 0,
              "ticks": ""
             }
            }
           }
          ],
          "scattermapbox": [
           {
            "type": "scattermapbox",
            "marker": {
             "colorbar": {
              "outlinewidth": 0,
              "ticks": ""
             }
            }
           }
          ],
          "scatterternary": [
           {
            "type": "scatterternary",
            "marker": {
             "colorbar": {
              "outlinewidth": 0,
              "ticks": ""
             }
            }
           }
          ],
          "scattercarpet": [
           {
            "type": "scattercarpet",
            "marker": {
             "colorbar": {
              "outlinewidth": 0,
              "ticks": ""
             }
            }
           }
          ],
          "carpet": [
           {
            "aaxis": {
             "endlinecolor": "#2a3f5f",
             "gridcolor": "white",
             "linecolor": "white",
             "minorgridcolor": "white",
             "startlinecolor": "#2a3f5f"
            },
            "baxis": {
             "endlinecolor": "#2a3f5f",
             "gridcolor": "white",
             "linecolor": "white",
             "minorgridcolor": "white",
             "startlinecolor": "#2a3f5f"
            },
            "type": "carpet"
           }
          ],
          "table": [
           {
            "cells": {
             "fill": {
              "color": "#EBF0F8"
             },
             "line": {
              "color": "white"
             }
            },
            "header": {
             "fill": {
              "color": "#C8D4E3"
             },
             "line": {
              "color": "white"
             }
            },
            "type": "table"
           }
          ],
          "barpolar": [
           {
            "marker": {
             "line": {
              "color": "#E5ECF6",
              "width": 0.5
             },
             "pattern": {
              "fillmode": "overlay",
              "size": 10,
              "solidity": 0.2
             }
            },
            "type": "barpolar"
           }
          ],
          "pie": [
           {
            "automargin": true,
            "type": "pie"
           }
          ]
         },
         "layout": {
          "autotypenumbers": "strict",
          "colorway": [
           "#636efa",
           "#EF553B",
           "#00cc96",
           "#ab63fa",
           "#FFA15A",
           "#19d3f3",
           "#FF6692",
           "#B6E880",
           "#FF97FF",
           "#FECB52"
          ],
          "font": {
           "color": "#2a3f5f"
          },
          "hovermode": "closest",
          "hoverlabel": {
           "align": "left"
          },
          "paper_bgcolor": "white",
          "plot_bgcolor": "#E5ECF6",
          "polar": {
           "bgcolor": "#E5ECF6",
           "angularaxis": {
            "gridcolor": "white",
            "linecolor": "white",
            "ticks": ""
           },
           "radialaxis": {
            "gridcolor": "white",
            "linecolor": "white",
            "ticks": ""
           }
          },
          "ternary": {
           "bgcolor": "#E5ECF6",
           "aaxis": {
            "gridcolor": "white",
            "linecolor": "white",
            "ticks": ""
           },
           "baxis": {
            "gridcolor": "white",
            "linecolor": "white",
            "ticks": ""
           },
           "caxis": {
            "gridcolor": "white",
            "linecolor": "white",
            "ticks": ""
           }
          },
          "coloraxis": {
           "colorbar": {
            "outlinewidth": 0,
            "ticks": ""
           }
          },
          "colorscale": {
           "sequential": [
            [
             0.0,
             "#0d0887"
            ],
            [
             0.1111111111111111,
             "#46039f"
            ],
            [
             0.2222222222222222,
             "#7201a8"
            ],
            [
             0.3333333333333333,
             "#9c179e"
            ],
            [
             0.4444444444444444,
             "#bd3786"
            ],
            [
             0.5555555555555556,
             "#d8576b"
            ],
            [
             0.6666666666666666,
             "#ed7953"
            ],
            [
             0.7777777777777778,
             "#fb9f3a"
            ],
            [
             0.8888888888888888,
             "#fdca26"
            ],
            [
             1.0,
             "#f0f921"
            ]
           ],
           "sequentialminus": [
            [
             0.0,
             "#0d0887"
            ],
            [
             0.1111111111111111,
             "#46039f"
            ],
            [
             0.2222222222222222,
             "#7201a8"
            ],
            [
             0.3333333333333333,
             "#9c179e"
            ],
            [
             0.4444444444444444,
             "#bd3786"
            ],
            [
             0.5555555555555556,
             "#d8576b"
            ],
            [
             0.6666666666666666,
             "#ed7953"
            ],
            [
             0.7777777777777778,
             "#fb9f3a"
            ],
            [
             0.8888888888888888,
             "#fdca26"
            ],
            [
             1.0,
             "#f0f921"
            ]
           ],
           "diverging": [
            [
             0,
             "#8e0152"
            ],
            [
             0.1,
             "#c51b7d"
            ],
            [
             0.2,
             "#de77ae"
            ],
            [
             0.3,
             "#f1b6da"
            ],
            [
             0.4,
             "#fde0ef"
            ],
            [
             0.5,
             "#f7f7f7"
            ],
            [
             0.6,
             "#e6f5d0"
            ],
            [
             0.7,
             "#b8e186"
            ],
            [
             0.8,
             "#7fbc41"
            ],
            [
             0.9,
             "#4d9221"
            ],
            [
             1,
             "#276419"
            ]
           ]
          },
          "xaxis": {
           "gridcolor": "white",
           "linecolor": "white",
           "ticks": "",
           "title": {
            "standoff": 15
           },
           "zerolinecolor": "white",
           "automargin": true,
           "zerolinewidth": 2
          },
          "yaxis": {
           "gridcolor": "white",
           "linecolor": "white",
           "ticks": "",
           "title": {
            "standoff": 15
           },
           "zerolinecolor": "white",
           "automargin": true,
           "zerolinewidth": 2
          },
          "scene": {
           "xaxis": {
            "backgroundcolor": "#E5ECF6",
            "gridcolor": "white",
            "linecolor": "white",
            "showbackground": true,
            "ticks": "",
            "zerolinecolor": "white",
            "gridwidth": 2
           },
           "yaxis": {
            "backgroundcolor": "#E5ECF6",
            "gridcolor": "white",
            "linecolor": "white",
            "showbackground": true,
            "ticks": "",
            "zerolinecolor": "white",
            "gridwidth": 2
           },
           "zaxis": {
            "backgroundcolor": "#E5ECF6",
            "gridcolor": "white",
            "linecolor": "white",
            "showbackground": true,
            "ticks": "",
            "zerolinecolor": "white",
            "gridwidth": 2
           }
          },
          "shapedefaults": {
           "line": {
            "color": "#2a3f5f"
           }
          },
          "annotationdefaults": {
           "arrowcolor": "#2a3f5f",
           "arrowhead": 0,
           "arrowwidth": 1
          },
          "geo": {
           "bgcolor": "white",
           "landcolor": "#E5ECF6",
           "subunitcolor": "white",
           "showland": true,
           "showlakes": true,
           "lakecolor": "white"
          },
          "title": {
           "x": 0.05
          },
          "mapbox": {
           "style": "light"
          }
         }
        },
        "xaxis": {
         "anchor": "y",
         "domain": [
          0.0,
          1.0
         ],
         "title": {
          "text": "year"
         }
        },
        "yaxis": {
         "anchor": "x",
         "domain": [
          0.0,
          1.0
         ],
         "title": {
          "text": "loss_percentage"
         }
        },
        "legend": {
         "tracegroupgap": 0
        },
        "title": {
         "text": "United States of America-Spinach Food Loss Sum"
        }
       },
       "config": {
        "plotlyServerURL": "https://plot.ly"
       }
      },
      "text/html": "<div>                            <div id=\"a38a4e05-3bc2-42e7-9760-83e7b38aa508\" class=\"plotly-graph-div\" style=\"height:525px; width:100%;\"></div>            <script type=\"text/javascript\">                require([\"plotly\"], function(Plotly) {                    window.PLOTLYENV=window.PLOTLYENV || {};                                    if (document.getElementById(\"a38a4e05-3bc2-42e7-9760-83e7b38aa508\")) {                    Plotly.newPlot(                        \"a38a4e05-3bc2-42e7-9760-83e7b38aa508\",                        [{\"hovertemplate\":\"year=%{x}<br>loss_percentage=%{y}<extra></extra>\",\"legendgroup\":\"\",\"line\":{\"color\":\"#636efa\",\"dash\":\"solid\"},\"marker\":{\"symbol\":\"circle\"},\"mode\":\"lines\",\"name\":\"\",\"orientation\":\"v\",\"showlegend\":false,\"x\":[2000,2001,2002,2003,2004,2005,2006,2007,2008,2009,2010,2011,2012,2013,2014,2015,2016,2017,2018,2019],\"xaxis\":\"x\",\"y\":[12.0,12.0,12.0,12.0,12.0,26.4,26.4,12.0,72.0,12.0,12.0,12.0,12.0,12.0,12.0,12.0,12.0,12.0,30.2,12.0],\"yaxis\":\"y\",\"type\":\"scatter\"}],                        {\"template\":{\"data\":{\"histogram2dcontour\":[{\"type\":\"histogram2dcontour\",\"colorbar\":{\"outlinewidth\":0,\"ticks\":\"\"},\"colorscale\":[[0.0,\"#0d0887\"],[0.1111111111111111,\"#46039f\"],[0.2222222222222222,\"#7201a8\"],[0.3333333333333333,\"#9c179e\"],[0.4444444444444444,\"#bd3786\"],[0.5555555555555556,\"#d8576b\"],[0.6666666666666666,\"#ed7953\"],[0.7777777777777778,\"#fb9f3a\"],[0.8888888888888888,\"#fdca26\"],[1.0,\"#f0f921\"]]}],\"choropleth\":[{\"type\":\"choropleth\",\"colorbar\":{\"outlinewidth\":0,\"ticks\":\"\"}}],\"histogram2d\":[{\"type\":\"histogram2d\",\"colorbar\":{\"outlinewidth\":0,\"ticks\":\"\"},\"colorscale\":[[0.0,\"#0d0887\"],[0.1111111111111111,\"#46039f\"],[0.2222222222222222,\"#7201a8\"],[0.3333333333333333,\"#9c179e\"],[0.4444444444444444,\"#bd3786\"],[0.5555555555555556,\"#d8576b\"],[0.6666666666666666,\"#ed7953\"],[0.7777777777777778,\"#fb9f3a\"],[0.8888888888888888,\"#fdca26\"],[1.0,\"#f0f921\"]]}],\"heatmap\":[{\"type\":\"heatmap\",\"colorbar\":{\"outlinewidth\":0,\"ticks\":\"\"},\"colorscale\":[[0.0,\"#0d0887\"],[0.1111111111111111,\"#46039f\"],[0.2222222222222222,\"#7201a8\"],[0.3333333333333333,\"#9c179e\"],[0.4444444444444444,\"#bd3786\"],[0.5555555555555556,\"#d8576b\"],[0.6666666666666666,\"#ed7953\"],[0.7777777777777778,\"#fb9f3a\"],[0.8888888888888888,\"#fdca26\"],[1.0,\"#f0f921\"]]}],\"heatmapgl\":[{\"type\":\"heatmapgl\",\"colorbar\":{\"outlinewidth\":0,\"ticks\":\"\"},\"colorscale\":[[0.0,\"#0d0887\"],[0.1111111111111111,\"#46039f\"],[0.2222222222222222,\"#7201a8\"],[0.3333333333333333,\"#9c179e\"],[0.4444444444444444,\"#bd3786\"],[0.5555555555555556,\"#d8576b\"],[0.6666666666666666,\"#ed7953\"],[0.7777777777777778,\"#fb9f3a\"],[0.8888888888888888,\"#fdca26\"],[1.0,\"#f0f921\"]]}],\"contourcarpet\":[{\"type\":\"contourcarpet\",\"colorbar\":{\"outlinewidth\":0,\"ticks\":\"\"}}],\"contour\":[{\"type\":\"contour\",\"colorbar\":{\"outlinewidth\":0,\"ticks\":\"\"},\"colorscale\":[[0.0,\"#0d0887\"],[0.1111111111111111,\"#46039f\"],[0.2222222222222222,\"#7201a8\"],[0.3333333333333333,\"#9c179e\"],[0.4444444444444444,\"#bd3786\"],[0.5555555555555556,\"#d8576b\"],[0.6666666666666666,\"#ed7953\"],[0.7777777777777778,\"#fb9f3a\"],[0.8888888888888888,\"#fdca26\"],[1.0,\"#f0f921\"]]}],\"surface\":[{\"type\":\"surface\",\"colorbar\":{\"outlinewidth\":0,\"ticks\":\"\"},\"colorscale\":[[0.0,\"#0d0887\"],[0.1111111111111111,\"#46039f\"],[0.2222222222222222,\"#7201a8\"],[0.3333333333333333,\"#9c179e\"],[0.4444444444444444,\"#bd3786\"],[0.5555555555555556,\"#d8576b\"],[0.6666666666666666,\"#ed7953\"],[0.7777777777777778,\"#fb9f3a\"],[0.8888888888888888,\"#fdca26\"],[1.0,\"#f0f921\"]]}],\"mesh3d\":[{\"type\":\"mesh3d\",\"colorbar\":{\"outlinewidth\":0,\"ticks\":\"\"}}],\"scatter\":[{\"fillpattern\":{\"fillmode\":\"overlay\",\"size\":10,\"solidity\":0.2},\"type\":\"scatter\"}],\"parcoords\":[{\"type\":\"parcoords\",\"line\":{\"colorbar\":{\"outlinewidth\":0,\"ticks\":\"\"}}}],\"scatterpolargl\":[{\"type\":\"scatterpolargl\",\"marker\":{\"colorbar\":{\"outlinewidth\":0,\"ticks\":\"\"}}}],\"bar\":[{\"error_x\":{\"color\":\"#2a3f5f\"},\"error_y\":{\"color\":\"#2a3f5f\"},\"marker\":{\"line\":{\"color\":\"#E5ECF6\",\"width\":0.5},\"pattern\":{\"fillmode\":\"overlay\",\"size\":10,\"solidity\":0.2}},\"type\":\"bar\"}],\"scattergeo\":[{\"type\":\"scattergeo\",\"marker\":{\"colorbar\":{\"outlinewidth\":0,\"ticks\":\"\"}}}],\"scatterpolar\":[{\"type\":\"scatterpolar\",\"marker\":{\"colorbar\":{\"outlinewidth\":0,\"ticks\":\"\"}}}],\"histogram\":[{\"marker\":{\"pattern\":{\"fillmode\":\"overlay\",\"size\":10,\"solidity\":0.2}},\"type\":\"histogram\"}],\"scattergl\":[{\"type\":\"scattergl\",\"marker\":{\"colorbar\":{\"outlinewidth\":0,\"ticks\":\"\"}}}],\"scatter3d\":[{\"type\":\"scatter3d\",\"line\":{\"colorbar\":{\"outlinewidth\":0,\"ticks\":\"\"}},\"marker\":{\"colorbar\":{\"outlinewidth\":0,\"ticks\":\"\"}}}],\"scattermapbox\":[{\"type\":\"scattermapbox\",\"marker\":{\"colorbar\":{\"outlinewidth\":0,\"ticks\":\"\"}}}],\"scatterternary\":[{\"type\":\"scatterternary\",\"marker\":{\"colorbar\":{\"outlinewidth\":0,\"ticks\":\"\"}}}],\"scattercarpet\":[{\"type\":\"scattercarpet\",\"marker\":{\"colorbar\":{\"outlinewidth\":0,\"ticks\":\"\"}}}],\"carpet\":[{\"aaxis\":{\"endlinecolor\":\"#2a3f5f\",\"gridcolor\":\"white\",\"linecolor\":\"white\",\"minorgridcolor\":\"white\",\"startlinecolor\":\"#2a3f5f\"},\"baxis\":{\"endlinecolor\":\"#2a3f5f\",\"gridcolor\":\"white\",\"linecolor\":\"white\",\"minorgridcolor\":\"white\",\"startlinecolor\":\"#2a3f5f\"},\"type\":\"carpet\"}],\"table\":[{\"cells\":{\"fill\":{\"color\":\"#EBF0F8\"},\"line\":{\"color\":\"white\"}},\"header\":{\"fill\":{\"color\":\"#C8D4E3\"},\"line\":{\"color\":\"white\"}},\"type\":\"table\"}],\"barpolar\":[{\"marker\":{\"line\":{\"color\":\"#E5ECF6\",\"width\":0.5},\"pattern\":{\"fillmode\":\"overlay\",\"size\":10,\"solidity\":0.2}},\"type\":\"barpolar\"}],\"pie\":[{\"automargin\":true,\"type\":\"pie\"}]},\"layout\":{\"autotypenumbers\":\"strict\",\"colorway\":[\"#636efa\",\"#EF553B\",\"#00cc96\",\"#ab63fa\",\"#FFA15A\",\"#19d3f3\",\"#FF6692\",\"#B6E880\",\"#FF97FF\",\"#FECB52\"],\"font\":{\"color\":\"#2a3f5f\"},\"hovermode\":\"closest\",\"hoverlabel\":{\"align\":\"left\"},\"paper_bgcolor\":\"white\",\"plot_bgcolor\":\"#E5ECF6\",\"polar\":{\"bgcolor\":\"#E5ECF6\",\"angularaxis\":{\"gridcolor\":\"white\",\"linecolor\":\"white\",\"ticks\":\"\"},\"radialaxis\":{\"gridcolor\":\"white\",\"linecolor\":\"white\",\"ticks\":\"\"}},\"ternary\":{\"bgcolor\":\"#E5ECF6\",\"aaxis\":{\"gridcolor\":\"white\",\"linecolor\":\"white\",\"ticks\":\"\"},\"baxis\":{\"gridcolor\":\"white\",\"linecolor\":\"white\",\"ticks\":\"\"},\"caxis\":{\"gridcolor\":\"white\",\"linecolor\":\"white\",\"ticks\":\"\"}},\"coloraxis\":{\"colorbar\":{\"outlinewidth\":0,\"ticks\":\"\"}},\"colorscale\":{\"sequential\":[[0.0,\"#0d0887\"],[0.1111111111111111,\"#46039f\"],[0.2222222222222222,\"#7201a8\"],[0.3333333333333333,\"#9c179e\"],[0.4444444444444444,\"#bd3786\"],[0.5555555555555556,\"#d8576b\"],[0.6666666666666666,\"#ed7953\"],[0.7777777777777778,\"#fb9f3a\"],[0.8888888888888888,\"#fdca26\"],[1.0,\"#f0f921\"]],\"sequentialminus\":[[0.0,\"#0d0887\"],[0.1111111111111111,\"#46039f\"],[0.2222222222222222,\"#7201a8\"],[0.3333333333333333,\"#9c179e\"],[0.4444444444444444,\"#bd3786\"],[0.5555555555555556,\"#d8576b\"],[0.6666666666666666,\"#ed7953\"],[0.7777777777777778,\"#fb9f3a\"],[0.8888888888888888,\"#fdca26\"],[1.0,\"#f0f921\"]],\"diverging\":[[0,\"#8e0152\"],[0.1,\"#c51b7d\"],[0.2,\"#de77ae\"],[0.3,\"#f1b6da\"],[0.4,\"#fde0ef\"],[0.5,\"#f7f7f7\"],[0.6,\"#e6f5d0\"],[0.7,\"#b8e186\"],[0.8,\"#7fbc41\"],[0.9,\"#4d9221\"],[1,\"#276419\"]]},\"xaxis\":{\"gridcolor\":\"white\",\"linecolor\":\"white\",\"ticks\":\"\",\"title\":{\"standoff\":15},\"zerolinecolor\":\"white\",\"automargin\":true,\"zerolinewidth\":2},\"yaxis\":{\"gridcolor\":\"white\",\"linecolor\":\"white\",\"ticks\":\"\",\"title\":{\"standoff\":15},\"zerolinecolor\":\"white\",\"automargin\":true,\"zerolinewidth\":2},\"scene\":{\"xaxis\":{\"backgroundcolor\":\"#E5ECF6\",\"gridcolor\":\"white\",\"linecolor\":\"white\",\"showbackground\":true,\"ticks\":\"\",\"zerolinecolor\":\"white\",\"gridwidth\":2},\"yaxis\":{\"backgroundcolor\":\"#E5ECF6\",\"gridcolor\":\"white\",\"linecolor\":\"white\",\"showbackground\":true,\"ticks\":\"\",\"zerolinecolor\":\"white\",\"gridwidth\":2},\"zaxis\":{\"backgroundcolor\":\"#E5ECF6\",\"gridcolor\":\"white\",\"linecolor\":\"white\",\"showbackground\":true,\"ticks\":\"\",\"zerolinecolor\":\"white\",\"gridwidth\":2}},\"shapedefaults\":{\"line\":{\"color\":\"#2a3f5f\"}},\"annotationdefaults\":{\"arrowcolor\":\"#2a3f5f\",\"arrowhead\":0,\"arrowwidth\":1},\"geo\":{\"bgcolor\":\"white\",\"landcolor\":\"#E5ECF6\",\"subunitcolor\":\"white\",\"showland\":true,\"showlakes\":true,\"lakecolor\":\"white\"},\"title\":{\"x\":0.05},\"mapbox\":{\"style\":\"light\"}}},\"xaxis\":{\"anchor\":\"y\",\"domain\":[0.0,1.0],\"title\":{\"text\":\"year\"}},\"yaxis\":{\"anchor\":\"x\",\"domain\":[0.0,1.0],\"title\":{\"text\":\"loss_percentage\"}},\"legend\":{\"tracegroupgap\":0},\"title\":{\"text\":\"United States of America-Spinach Food Loss Sum\"}},                        {\"responsive\": true}                    ).then(function(){\n                            \nvar gd = document.getElementById('a38a4e05-3bc2-42e7-9760-83e7b38aa508');\nvar x = new MutationObserver(function (mutations, observer) {{\n        var display = window.getComputedStyle(gd).display;\n        if (!display || display === 'none') {{\n            console.log([gd, 'removed!']);\n            Plotly.purge(gd);\n            observer.disconnect();\n        }}\n}});\n\n// Listen for the removal of the full notebook cells\nvar notebookContainer = gd.closest('#notebook-container');\nif (notebookContainer) {{\n    x.observe(notebookContainer, {childList: true});\n}}\n\n// Listen for the clearing of the current output cell\nvar outputEl = gd.closest('.output');\nif (outputEl) {{\n    x.observe(outputEl, {childList: true});\n}}\n\n                        })                };                });            </script>        </div>"
     },
     "metadata": {},
     "output_type": "display_data"
    }
   ],
   "source": [
    "plot_country_comm(\"United States of America\",\"Spinach\")"
   ],
   "metadata": {
    "collapsed": false,
    "pycharm": {
     "name": "#%%\n"
    }
   }
  },
  {
   "cell_type": "code",
   "execution_count": 64,
   "outputs": [
    {
     "data": {
      "application/vnd.plotly.v1+json": {
       "data": [
        {
         "hovertemplate": "year=%{x}<br>loss_percentage=%{y}<extra></extra>",
         "legendgroup": "",
         "line": {
          "color": "#636efa",
          "dash": "solid"
         },
         "marker": {
          "symbol": "circle"
         },
         "mode": "lines",
         "name": "",
         "orientation": "v",
         "showlegend": false,
         "x": [
          2000,
          2001,
          2002,
          2003,
          2004,
          2005,
          2006,
          2007,
          2008,
          2009,
          2010,
          2011,
          2012,
          2013,
          2014,
          2015,
          2016,
          2017,
          2018,
          2019
         ],
         "xaxis": "x",
         "y": [
          16.0,
          16.0,
          16.0,
          16.0,
          16.0,
          41.4,
          42.5,
          16.0,
          120.0,
          16.0,
          16.0,
          16.0,
          16.0,
          16.0,
          16.0,
          16.0,
          16.0,
          16.0,
          40.0,
          16.0
         ],
         "yaxis": "y",
         "type": "scatter"
        }
       ],
       "layout": {
        "template": {
         "data": {
          "histogram2dcontour": [
           {
            "type": "histogram2dcontour",
            "colorbar": {
             "outlinewidth": 0,
             "ticks": ""
            },
            "colorscale": [
             [
              0.0,
              "#0d0887"
             ],
             [
              0.1111111111111111,
              "#46039f"
             ],
             [
              0.2222222222222222,
              "#7201a8"
             ],
             [
              0.3333333333333333,
              "#9c179e"
             ],
             [
              0.4444444444444444,
              "#bd3786"
             ],
             [
              0.5555555555555556,
              "#d8576b"
             ],
             [
              0.6666666666666666,
              "#ed7953"
             ],
             [
              0.7777777777777778,
              "#fb9f3a"
             ],
             [
              0.8888888888888888,
              "#fdca26"
             ],
             [
              1.0,
              "#f0f921"
             ]
            ]
           }
          ],
          "choropleth": [
           {
            "type": "choropleth",
            "colorbar": {
             "outlinewidth": 0,
             "ticks": ""
            }
           }
          ],
          "histogram2d": [
           {
            "type": "histogram2d",
            "colorbar": {
             "outlinewidth": 0,
             "ticks": ""
            },
            "colorscale": [
             [
              0.0,
              "#0d0887"
             ],
             [
              0.1111111111111111,
              "#46039f"
             ],
             [
              0.2222222222222222,
              "#7201a8"
             ],
             [
              0.3333333333333333,
              "#9c179e"
             ],
             [
              0.4444444444444444,
              "#bd3786"
             ],
             [
              0.5555555555555556,
              "#d8576b"
             ],
             [
              0.6666666666666666,
              "#ed7953"
             ],
             [
              0.7777777777777778,
              "#fb9f3a"
             ],
             [
              0.8888888888888888,
              "#fdca26"
             ],
             [
              1.0,
              "#f0f921"
             ]
            ]
           }
          ],
          "heatmap": [
           {
            "type": "heatmap",
            "colorbar": {
             "outlinewidth": 0,
             "ticks": ""
            },
            "colorscale": [
             [
              0.0,
              "#0d0887"
             ],
             [
              0.1111111111111111,
              "#46039f"
             ],
             [
              0.2222222222222222,
              "#7201a8"
             ],
             [
              0.3333333333333333,
              "#9c179e"
             ],
             [
              0.4444444444444444,
              "#bd3786"
             ],
             [
              0.5555555555555556,
              "#d8576b"
             ],
             [
              0.6666666666666666,
              "#ed7953"
             ],
             [
              0.7777777777777778,
              "#fb9f3a"
             ],
             [
              0.8888888888888888,
              "#fdca26"
             ],
             [
              1.0,
              "#f0f921"
             ]
            ]
           }
          ],
          "heatmapgl": [
           {
            "type": "heatmapgl",
            "colorbar": {
             "outlinewidth": 0,
             "ticks": ""
            },
            "colorscale": [
             [
              0.0,
              "#0d0887"
             ],
             [
              0.1111111111111111,
              "#46039f"
             ],
             [
              0.2222222222222222,
              "#7201a8"
             ],
             [
              0.3333333333333333,
              "#9c179e"
             ],
             [
              0.4444444444444444,
              "#bd3786"
             ],
             [
              0.5555555555555556,
              "#d8576b"
             ],
             [
              0.6666666666666666,
              "#ed7953"
             ],
             [
              0.7777777777777778,
              "#fb9f3a"
             ],
             [
              0.8888888888888888,
              "#fdca26"
             ],
             [
              1.0,
              "#f0f921"
             ]
            ]
           }
          ],
          "contourcarpet": [
           {
            "type": "contourcarpet",
            "colorbar": {
             "outlinewidth": 0,
             "ticks": ""
            }
           }
          ],
          "contour": [
           {
            "type": "contour",
            "colorbar": {
             "outlinewidth": 0,
             "ticks": ""
            },
            "colorscale": [
             [
              0.0,
              "#0d0887"
             ],
             [
              0.1111111111111111,
              "#46039f"
             ],
             [
              0.2222222222222222,
              "#7201a8"
             ],
             [
              0.3333333333333333,
              "#9c179e"
             ],
             [
              0.4444444444444444,
              "#bd3786"
             ],
             [
              0.5555555555555556,
              "#d8576b"
             ],
             [
              0.6666666666666666,
              "#ed7953"
             ],
             [
              0.7777777777777778,
              "#fb9f3a"
             ],
             [
              0.8888888888888888,
              "#fdca26"
             ],
             [
              1.0,
              "#f0f921"
             ]
            ]
           }
          ],
          "surface": [
           {
            "type": "surface",
            "colorbar": {
             "outlinewidth": 0,
             "ticks": ""
            },
            "colorscale": [
             [
              0.0,
              "#0d0887"
             ],
             [
              0.1111111111111111,
              "#46039f"
             ],
             [
              0.2222222222222222,
              "#7201a8"
             ],
             [
              0.3333333333333333,
              "#9c179e"
             ],
             [
              0.4444444444444444,
              "#bd3786"
             ],
             [
              0.5555555555555556,
              "#d8576b"
             ],
             [
              0.6666666666666666,
              "#ed7953"
             ],
             [
              0.7777777777777778,
              "#fb9f3a"
             ],
             [
              0.8888888888888888,
              "#fdca26"
             ],
             [
              1.0,
              "#f0f921"
             ]
            ]
           }
          ],
          "mesh3d": [
           {
            "type": "mesh3d",
            "colorbar": {
             "outlinewidth": 0,
             "ticks": ""
            }
           }
          ],
          "scatter": [
           {
            "fillpattern": {
             "fillmode": "overlay",
             "size": 10,
             "solidity": 0.2
            },
            "type": "scatter"
           }
          ],
          "parcoords": [
           {
            "type": "parcoords",
            "line": {
             "colorbar": {
              "outlinewidth": 0,
              "ticks": ""
             }
            }
           }
          ],
          "scatterpolargl": [
           {
            "type": "scatterpolargl",
            "marker": {
             "colorbar": {
              "outlinewidth": 0,
              "ticks": ""
             }
            }
           }
          ],
          "bar": [
           {
            "error_x": {
             "color": "#2a3f5f"
            },
            "error_y": {
             "color": "#2a3f5f"
            },
            "marker": {
             "line": {
              "color": "#E5ECF6",
              "width": 0.5
             },
             "pattern": {
              "fillmode": "overlay",
              "size": 10,
              "solidity": 0.2
             }
            },
            "type": "bar"
           }
          ],
          "scattergeo": [
           {
            "type": "scattergeo",
            "marker": {
             "colorbar": {
              "outlinewidth": 0,
              "ticks": ""
             }
            }
           }
          ],
          "scatterpolar": [
           {
            "type": "scatterpolar",
            "marker": {
             "colorbar": {
              "outlinewidth": 0,
              "ticks": ""
             }
            }
           }
          ],
          "histogram": [
           {
            "marker": {
             "pattern": {
              "fillmode": "overlay",
              "size": 10,
              "solidity": 0.2
             }
            },
            "type": "histogram"
           }
          ],
          "scattergl": [
           {
            "type": "scattergl",
            "marker": {
             "colorbar": {
              "outlinewidth": 0,
              "ticks": ""
             }
            }
           }
          ],
          "scatter3d": [
           {
            "type": "scatter3d",
            "line": {
             "colorbar": {
              "outlinewidth": 0,
              "ticks": ""
             }
            },
            "marker": {
             "colorbar": {
              "outlinewidth": 0,
              "ticks": ""
             }
            }
           }
          ],
          "scattermapbox": [
           {
            "type": "scattermapbox",
            "marker": {
             "colorbar": {
              "outlinewidth": 0,
              "ticks": ""
             }
            }
           }
          ],
          "scatterternary": [
           {
            "type": "scatterternary",
            "marker": {
             "colorbar": {
              "outlinewidth": 0,
              "ticks": ""
             }
            }
           }
          ],
          "scattercarpet": [
           {
            "type": "scattercarpet",
            "marker": {
             "colorbar": {
              "outlinewidth": 0,
              "ticks": ""
             }
            }
           }
          ],
          "carpet": [
           {
            "aaxis": {
             "endlinecolor": "#2a3f5f",
             "gridcolor": "white",
             "linecolor": "white",
             "minorgridcolor": "white",
             "startlinecolor": "#2a3f5f"
            },
            "baxis": {
             "endlinecolor": "#2a3f5f",
             "gridcolor": "white",
             "linecolor": "white",
             "minorgridcolor": "white",
             "startlinecolor": "#2a3f5f"
            },
            "type": "carpet"
           }
          ],
          "table": [
           {
            "cells": {
             "fill": {
              "color": "#EBF0F8"
             },
             "line": {
              "color": "white"
             }
            },
            "header": {
             "fill": {
              "color": "#C8D4E3"
             },
             "line": {
              "color": "white"
             }
            },
            "type": "table"
           }
          ],
          "barpolar": [
           {
            "marker": {
             "line": {
              "color": "#E5ECF6",
              "width": 0.5
             },
             "pattern": {
              "fillmode": "overlay",
              "size": 10,
              "solidity": 0.2
             }
            },
            "type": "barpolar"
           }
          ],
          "pie": [
           {
            "automargin": true,
            "type": "pie"
           }
          ]
         },
         "layout": {
          "autotypenumbers": "strict",
          "colorway": [
           "#636efa",
           "#EF553B",
           "#00cc96",
           "#ab63fa",
           "#FFA15A",
           "#19d3f3",
           "#FF6692",
           "#B6E880",
           "#FF97FF",
           "#FECB52"
          ],
          "font": {
           "color": "#2a3f5f"
          },
          "hovermode": "closest",
          "hoverlabel": {
           "align": "left"
          },
          "paper_bgcolor": "white",
          "plot_bgcolor": "#E5ECF6",
          "polar": {
           "bgcolor": "#E5ECF6",
           "angularaxis": {
            "gridcolor": "white",
            "linecolor": "white",
            "ticks": ""
           },
           "radialaxis": {
            "gridcolor": "white",
            "linecolor": "white",
            "ticks": ""
           }
          },
          "ternary": {
           "bgcolor": "#E5ECF6",
           "aaxis": {
            "gridcolor": "white",
            "linecolor": "white",
            "ticks": ""
           },
           "baxis": {
            "gridcolor": "white",
            "linecolor": "white",
            "ticks": ""
           },
           "caxis": {
            "gridcolor": "white",
            "linecolor": "white",
            "ticks": ""
           }
          },
          "coloraxis": {
           "colorbar": {
            "outlinewidth": 0,
            "ticks": ""
           }
          },
          "colorscale": {
           "sequential": [
            [
             0.0,
             "#0d0887"
            ],
            [
             0.1111111111111111,
             "#46039f"
            ],
            [
             0.2222222222222222,
             "#7201a8"
            ],
            [
             0.3333333333333333,
             "#9c179e"
            ],
            [
             0.4444444444444444,
             "#bd3786"
            ],
            [
             0.5555555555555556,
             "#d8576b"
            ],
            [
             0.6666666666666666,
             "#ed7953"
            ],
            [
             0.7777777777777778,
             "#fb9f3a"
            ],
            [
             0.8888888888888888,
             "#fdca26"
            ],
            [
             1.0,
             "#f0f921"
            ]
           ],
           "sequentialminus": [
            [
             0.0,
             "#0d0887"
            ],
            [
             0.1111111111111111,
             "#46039f"
            ],
            [
             0.2222222222222222,
             "#7201a8"
            ],
            [
             0.3333333333333333,
             "#9c179e"
            ],
            [
             0.4444444444444444,
             "#bd3786"
            ],
            [
             0.5555555555555556,
             "#d8576b"
            ],
            [
             0.6666666666666666,
             "#ed7953"
            ],
            [
             0.7777777777777778,
             "#fb9f3a"
            ],
            [
             0.8888888888888888,
             "#fdca26"
            ],
            [
             1.0,
             "#f0f921"
            ]
           ],
           "diverging": [
            [
             0,
             "#8e0152"
            ],
            [
             0.1,
             "#c51b7d"
            ],
            [
             0.2,
             "#de77ae"
            ],
            [
             0.3,
             "#f1b6da"
            ],
            [
             0.4,
             "#fde0ef"
            ],
            [
             0.5,
             "#f7f7f7"
            ],
            [
             0.6,
             "#e6f5d0"
            ],
            [
             0.7,
             "#b8e186"
            ],
            [
             0.8,
             "#7fbc41"
            ],
            [
             0.9,
             "#4d9221"
            ],
            [
             1,
             "#276419"
            ]
           ]
          },
          "xaxis": {
           "gridcolor": "white",
           "linecolor": "white",
           "ticks": "",
           "title": {
            "standoff": 15
           },
           "zerolinecolor": "white",
           "automargin": true,
           "zerolinewidth": 2
          },
          "yaxis": {
           "gridcolor": "white",
           "linecolor": "white",
           "ticks": "",
           "title": {
            "standoff": 15
           },
           "zerolinecolor": "white",
           "automargin": true,
           "zerolinewidth": 2
          },
          "scene": {
           "xaxis": {
            "backgroundcolor": "#E5ECF6",
            "gridcolor": "white",
            "linecolor": "white",
            "showbackground": true,
            "ticks": "",
            "zerolinecolor": "white",
            "gridwidth": 2
           },
           "yaxis": {
            "backgroundcolor": "#E5ECF6",
            "gridcolor": "white",
            "linecolor": "white",
            "showbackground": true,
            "ticks": "",
            "zerolinecolor": "white",
            "gridwidth": 2
           },
           "zaxis": {
            "backgroundcolor": "#E5ECF6",
            "gridcolor": "white",
            "linecolor": "white",
            "showbackground": true,
            "ticks": "",
            "zerolinecolor": "white",
            "gridwidth": 2
           }
          },
          "shapedefaults": {
           "line": {
            "color": "#2a3f5f"
           }
          },
          "annotationdefaults": {
           "arrowcolor": "#2a3f5f",
           "arrowhead": 0,
           "arrowwidth": 1
          },
          "geo": {
           "bgcolor": "white",
           "landcolor": "#E5ECF6",
           "subunitcolor": "white",
           "showland": true,
           "showlakes": true,
           "lakecolor": "white"
          },
          "title": {
           "x": 0.05
          },
          "mapbox": {
           "style": "light"
          }
         }
        },
        "xaxis": {
         "anchor": "y",
         "domain": [
          0.0,
          1.0
         ],
         "title": {
          "text": "year"
         }
        },
        "yaxis": {
         "anchor": "x",
         "domain": [
          0.0,
          1.0
         ],
         "title": {
          "text": "loss_percentage"
         }
        },
        "legend": {
         "tracegroupgap": 0
        },
        "title": {
         "text": "United States of America-Cauliflowers and broccoli Food Loss Sum"
        }
       },
       "config": {
        "plotlyServerURL": "https://plot.ly"
       }
      },
      "text/html": "<div>                            <div id=\"2b54826b-d06c-4c59-873b-bc4156c14e7e\" class=\"plotly-graph-div\" style=\"height:525px; width:100%;\"></div>            <script type=\"text/javascript\">                require([\"plotly\"], function(Plotly) {                    window.PLOTLYENV=window.PLOTLYENV || {};                                    if (document.getElementById(\"2b54826b-d06c-4c59-873b-bc4156c14e7e\")) {                    Plotly.newPlot(                        \"2b54826b-d06c-4c59-873b-bc4156c14e7e\",                        [{\"hovertemplate\":\"year=%{x}<br>loss_percentage=%{y}<extra></extra>\",\"legendgroup\":\"\",\"line\":{\"color\":\"#636efa\",\"dash\":\"solid\"},\"marker\":{\"symbol\":\"circle\"},\"mode\":\"lines\",\"name\":\"\",\"orientation\":\"v\",\"showlegend\":false,\"x\":[2000,2001,2002,2003,2004,2005,2006,2007,2008,2009,2010,2011,2012,2013,2014,2015,2016,2017,2018,2019],\"xaxis\":\"x\",\"y\":[16.0,16.0,16.0,16.0,16.0,41.4,42.5,16.0,120.0,16.0,16.0,16.0,16.0,16.0,16.0,16.0,16.0,16.0,40.0,16.0],\"yaxis\":\"y\",\"type\":\"scatter\"}],                        {\"template\":{\"data\":{\"histogram2dcontour\":[{\"type\":\"histogram2dcontour\",\"colorbar\":{\"outlinewidth\":0,\"ticks\":\"\"},\"colorscale\":[[0.0,\"#0d0887\"],[0.1111111111111111,\"#46039f\"],[0.2222222222222222,\"#7201a8\"],[0.3333333333333333,\"#9c179e\"],[0.4444444444444444,\"#bd3786\"],[0.5555555555555556,\"#d8576b\"],[0.6666666666666666,\"#ed7953\"],[0.7777777777777778,\"#fb9f3a\"],[0.8888888888888888,\"#fdca26\"],[1.0,\"#f0f921\"]]}],\"choropleth\":[{\"type\":\"choropleth\",\"colorbar\":{\"outlinewidth\":0,\"ticks\":\"\"}}],\"histogram2d\":[{\"type\":\"histogram2d\",\"colorbar\":{\"outlinewidth\":0,\"ticks\":\"\"},\"colorscale\":[[0.0,\"#0d0887\"],[0.1111111111111111,\"#46039f\"],[0.2222222222222222,\"#7201a8\"],[0.3333333333333333,\"#9c179e\"],[0.4444444444444444,\"#bd3786\"],[0.5555555555555556,\"#d8576b\"],[0.6666666666666666,\"#ed7953\"],[0.7777777777777778,\"#fb9f3a\"],[0.8888888888888888,\"#fdca26\"],[1.0,\"#f0f921\"]]}],\"heatmap\":[{\"type\":\"heatmap\",\"colorbar\":{\"outlinewidth\":0,\"ticks\":\"\"},\"colorscale\":[[0.0,\"#0d0887\"],[0.1111111111111111,\"#46039f\"],[0.2222222222222222,\"#7201a8\"],[0.3333333333333333,\"#9c179e\"],[0.4444444444444444,\"#bd3786\"],[0.5555555555555556,\"#d8576b\"],[0.6666666666666666,\"#ed7953\"],[0.7777777777777778,\"#fb9f3a\"],[0.8888888888888888,\"#fdca26\"],[1.0,\"#f0f921\"]]}],\"heatmapgl\":[{\"type\":\"heatmapgl\",\"colorbar\":{\"outlinewidth\":0,\"ticks\":\"\"},\"colorscale\":[[0.0,\"#0d0887\"],[0.1111111111111111,\"#46039f\"],[0.2222222222222222,\"#7201a8\"],[0.3333333333333333,\"#9c179e\"],[0.4444444444444444,\"#bd3786\"],[0.5555555555555556,\"#d8576b\"],[0.6666666666666666,\"#ed7953\"],[0.7777777777777778,\"#fb9f3a\"],[0.8888888888888888,\"#fdca26\"],[1.0,\"#f0f921\"]]}],\"contourcarpet\":[{\"type\":\"contourcarpet\",\"colorbar\":{\"outlinewidth\":0,\"ticks\":\"\"}}],\"contour\":[{\"type\":\"contour\",\"colorbar\":{\"outlinewidth\":0,\"ticks\":\"\"},\"colorscale\":[[0.0,\"#0d0887\"],[0.1111111111111111,\"#46039f\"],[0.2222222222222222,\"#7201a8\"],[0.3333333333333333,\"#9c179e\"],[0.4444444444444444,\"#bd3786\"],[0.5555555555555556,\"#d8576b\"],[0.6666666666666666,\"#ed7953\"],[0.7777777777777778,\"#fb9f3a\"],[0.8888888888888888,\"#fdca26\"],[1.0,\"#f0f921\"]]}],\"surface\":[{\"type\":\"surface\",\"colorbar\":{\"outlinewidth\":0,\"ticks\":\"\"},\"colorscale\":[[0.0,\"#0d0887\"],[0.1111111111111111,\"#46039f\"],[0.2222222222222222,\"#7201a8\"],[0.3333333333333333,\"#9c179e\"],[0.4444444444444444,\"#bd3786\"],[0.5555555555555556,\"#d8576b\"],[0.6666666666666666,\"#ed7953\"],[0.7777777777777778,\"#fb9f3a\"],[0.8888888888888888,\"#fdca26\"],[1.0,\"#f0f921\"]]}],\"mesh3d\":[{\"type\":\"mesh3d\",\"colorbar\":{\"outlinewidth\":0,\"ticks\":\"\"}}],\"scatter\":[{\"fillpattern\":{\"fillmode\":\"overlay\",\"size\":10,\"solidity\":0.2},\"type\":\"scatter\"}],\"parcoords\":[{\"type\":\"parcoords\",\"line\":{\"colorbar\":{\"outlinewidth\":0,\"ticks\":\"\"}}}],\"scatterpolargl\":[{\"type\":\"scatterpolargl\",\"marker\":{\"colorbar\":{\"outlinewidth\":0,\"ticks\":\"\"}}}],\"bar\":[{\"error_x\":{\"color\":\"#2a3f5f\"},\"error_y\":{\"color\":\"#2a3f5f\"},\"marker\":{\"line\":{\"color\":\"#E5ECF6\",\"width\":0.5},\"pattern\":{\"fillmode\":\"overlay\",\"size\":10,\"solidity\":0.2}},\"type\":\"bar\"}],\"scattergeo\":[{\"type\":\"scattergeo\",\"marker\":{\"colorbar\":{\"outlinewidth\":0,\"ticks\":\"\"}}}],\"scatterpolar\":[{\"type\":\"scatterpolar\",\"marker\":{\"colorbar\":{\"outlinewidth\":0,\"ticks\":\"\"}}}],\"histogram\":[{\"marker\":{\"pattern\":{\"fillmode\":\"overlay\",\"size\":10,\"solidity\":0.2}},\"type\":\"histogram\"}],\"scattergl\":[{\"type\":\"scattergl\",\"marker\":{\"colorbar\":{\"outlinewidth\":0,\"ticks\":\"\"}}}],\"scatter3d\":[{\"type\":\"scatter3d\",\"line\":{\"colorbar\":{\"outlinewidth\":0,\"ticks\":\"\"}},\"marker\":{\"colorbar\":{\"outlinewidth\":0,\"ticks\":\"\"}}}],\"scattermapbox\":[{\"type\":\"scattermapbox\",\"marker\":{\"colorbar\":{\"outlinewidth\":0,\"ticks\":\"\"}}}],\"scatterternary\":[{\"type\":\"scatterternary\",\"marker\":{\"colorbar\":{\"outlinewidth\":0,\"ticks\":\"\"}}}],\"scattercarpet\":[{\"type\":\"scattercarpet\",\"marker\":{\"colorbar\":{\"outlinewidth\":0,\"ticks\":\"\"}}}],\"carpet\":[{\"aaxis\":{\"endlinecolor\":\"#2a3f5f\",\"gridcolor\":\"white\",\"linecolor\":\"white\",\"minorgridcolor\":\"white\",\"startlinecolor\":\"#2a3f5f\"},\"baxis\":{\"endlinecolor\":\"#2a3f5f\",\"gridcolor\":\"white\",\"linecolor\":\"white\",\"minorgridcolor\":\"white\",\"startlinecolor\":\"#2a3f5f\"},\"type\":\"carpet\"}],\"table\":[{\"cells\":{\"fill\":{\"color\":\"#EBF0F8\"},\"line\":{\"color\":\"white\"}},\"header\":{\"fill\":{\"color\":\"#C8D4E3\"},\"line\":{\"color\":\"white\"}},\"type\":\"table\"}],\"barpolar\":[{\"marker\":{\"line\":{\"color\":\"#E5ECF6\",\"width\":0.5},\"pattern\":{\"fillmode\":\"overlay\",\"size\":10,\"solidity\":0.2}},\"type\":\"barpolar\"}],\"pie\":[{\"automargin\":true,\"type\":\"pie\"}]},\"layout\":{\"autotypenumbers\":\"strict\",\"colorway\":[\"#636efa\",\"#EF553B\",\"#00cc96\",\"#ab63fa\",\"#FFA15A\",\"#19d3f3\",\"#FF6692\",\"#B6E880\",\"#FF97FF\",\"#FECB52\"],\"font\":{\"color\":\"#2a3f5f\"},\"hovermode\":\"closest\",\"hoverlabel\":{\"align\":\"left\"},\"paper_bgcolor\":\"white\",\"plot_bgcolor\":\"#E5ECF6\",\"polar\":{\"bgcolor\":\"#E5ECF6\",\"angularaxis\":{\"gridcolor\":\"white\",\"linecolor\":\"white\",\"ticks\":\"\"},\"radialaxis\":{\"gridcolor\":\"white\",\"linecolor\":\"white\",\"ticks\":\"\"}},\"ternary\":{\"bgcolor\":\"#E5ECF6\",\"aaxis\":{\"gridcolor\":\"white\",\"linecolor\":\"white\",\"ticks\":\"\"},\"baxis\":{\"gridcolor\":\"white\",\"linecolor\":\"white\",\"ticks\":\"\"},\"caxis\":{\"gridcolor\":\"white\",\"linecolor\":\"white\",\"ticks\":\"\"}},\"coloraxis\":{\"colorbar\":{\"outlinewidth\":0,\"ticks\":\"\"}},\"colorscale\":{\"sequential\":[[0.0,\"#0d0887\"],[0.1111111111111111,\"#46039f\"],[0.2222222222222222,\"#7201a8\"],[0.3333333333333333,\"#9c179e\"],[0.4444444444444444,\"#bd3786\"],[0.5555555555555556,\"#d8576b\"],[0.6666666666666666,\"#ed7953\"],[0.7777777777777778,\"#fb9f3a\"],[0.8888888888888888,\"#fdca26\"],[1.0,\"#f0f921\"]],\"sequentialminus\":[[0.0,\"#0d0887\"],[0.1111111111111111,\"#46039f\"],[0.2222222222222222,\"#7201a8\"],[0.3333333333333333,\"#9c179e\"],[0.4444444444444444,\"#bd3786\"],[0.5555555555555556,\"#d8576b\"],[0.6666666666666666,\"#ed7953\"],[0.7777777777777778,\"#fb9f3a\"],[0.8888888888888888,\"#fdca26\"],[1.0,\"#f0f921\"]],\"diverging\":[[0,\"#8e0152\"],[0.1,\"#c51b7d\"],[0.2,\"#de77ae\"],[0.3,\"#f1b6da\"],[0.4,\"#fde0ef\"],[0.5,\"#f7f7f7\"],[0.6,\"#e6f5d0\"],[0.7,\"#b8e186\"],[0.8,\"#7fbc41\"],[0.9,\"#4d9221\"],[1,\"#276419\"]]},\"xaxis\":{\"gridcolor\":\"white\",\"linecolor\":\"white\",\"ticks\":\"\",\"title\":{\"standoff\":15},\"zerolinecolor\":\"white\",\"automargin\":true,\"zerolinewidth\":2},\"yaxis\":{\"gridcolor\":\"white\",\"linecolor\":\"white\",\"ticks\":\"\",\"title\":{\"standoff\":15},\"zerolinecolor\":\"white\",\"automargin\":true,\"zerolinewidth\":2},\"scene\":{\"xaxis\":{\"backgroundcolor\":\"#E5ECF6\",\"gridcolor\":\"white\",\"linecolor\":\"white\",\"showbackground\":true,\"ticks\":\"\",\"zerolinecolor\":\"white\",\"gridwidth\":2},\"yaxis\":{\"backgroundcolor\":\"#E5ECF6\",\"gridcolor\":\"white\",\"linecolor\":\"white\",\"showbackground\":true,\"ticks\":\"\",\"zerolinecolor\":\"white\",\"gridwidth\":2},\"zaxis\":{\"backgroundcolor\":\"#E5ECF6\",\"gridcolor\":\"white\",\"linecolor\":\"white\",\"showbackground\":true,\"ticks\":\"\",\"zerolinecolor\":\"white\",\"gridwidth\":2}},\"shapedefaults\":{\"line\":{\"color\":\"#2a3f5f\"}},\"annotationdefaults\":{\"arrowcolor\":\"#2a3f5f\",\"arrowhead\":0,\"arrowwidth\":1},\"geo\":{\"bgcolor\":\"white\",\"landcolor\":\"#E5ECF6\",\"subunitcolor\":\"white\",\"showland\":true,\"showlakes\":true,\"lakecolor\":\"white\"},\"title\":{\"x\":0.05},\"mapbox\":{\"style\":\"light\"}}},\"xaxis\":{\"anchor\":\"y\",\"domain\":[0.0,1.0],\"title\":{\"text\":\"year\"}},\"yaxis\":{\"anchor\":\"x\",\"domain\":[0.0,1.0],\"title\":{\"text\":\"loss_percentage\"}},\"legend\":{\"tracegroupgap\":0},\"title\":{\"text\":\"United States of America-Cauliflowers and broccoli Food Loss Sum\"}},                        {\"responsive\": true}                    ).then(function(){\n                            \nvar gd = document.getElementById('2b54826b-d06c-4c59-873b-bc4156c14e7e');\nvar x = new MutationObserver(function (mutations, observer) {{\n        var display = window.getComputedStyle(gd).display;\n        if (!display || display === 'none') {{\n            console.log([gd, 'removed!']);\n            Plotly.purge(gd);\n            observer.disconnect();\n        }}\n}});\n\n// Listen for the removal of the full notebook cells\nvar notebookContainer = gd.closest('#notebook-container');\nif (notebookContainer) {{\n    x.observe(notebookContainer, {childList: true});\n}}\n\n// Listen for the clearing of the current output cell\nvar outputEl = gd.closest('.output');\nif (outputEl) {{\n    x.observe(outputEl, {childList: true});\n}}\n\n                        })                };                });            </script>        </div>"
     },
     "metadata": {},
     "output_type": "display_data"
    }
   ],
   "source": [
    "plot_country_comm(\"United States of America\",\"Cauliflowers and broccoli\")"
   ],
   "metadata": {
    "collapsed": false,
    "pycharm": {
     "name": "#%%\n"
    }
   }
  },
  {
   "cell_type": "code",
   "execution_count": 65,
   "outputs": [
    {
     "data": {
      "application/vnd.plotly.v1+json": {
       "data": [
        {
         "hovertemplate": "year=%{x}<br>loss_percentage=%{y}<extra></extra>",
         "legendgroup": "",
         "line": {
          "color": "#636efa",
          "dash": "solid"
         },
         "marker": {
          "symbol": "circle"
         },
         "mode": "lines",
         "name": "",
         "orientation": "v",
         "showlegend": false,
         "x": [
          2000,
          2001,
          2002,
          2003,
          2004,
          2005,
          2006,
          2007,
          2008,
          2009,
          2010,
          2011,
          2012,
          2013,
          2014,
          2015,
          2016,
          2017,
          2018,
          2019
         ],
         "xaxis": "x",
         "y": [
          51.0,
          51.0,
          51.0,
          51.0,
          51.0,
          87.5,
          80.2,
          51.0,
          128.0,
          51.0,
          51.0,
          51.0,
          51.0,
          51.0,
          51.0,
          51.0,
          51.0,
          51.0,
          58.4,
          51.0
         ],
         "yaxis": "y",
         "type": "scatter"
        }
       ],
       "layout": {
        "template": {
         "data": {
          "histogram2dcontour": [
           {
            "type": "histogram2dcontour",
            "colorbar": {
             "outlinewidth": 0,
             "ticks": ""
            },
            "colorscale": [
             [
              0.0,
              "#0d0887"
             ],
             [
              0.1111111111111111,
              "#46039f"
             ],
             [
              0.2222222222222222,
              "#7201a8"
             ],
             [
              0.3333333333333333,
              "#9c179e"
             ],
             [
              0.4444444444444444,
              "#bd3786"
             ],
             [
              0.5555555555555556,
              "#d8576b"
             ],
             [
              0.6666666666666666,
              "#ed7953"
             ],
             [
              0.7777777777777778,
              "#fb9f3a"
             ],
             [
              0.8888888888888888,
              "#fdca26"
             ],
             [
              1.0,
              "#f0f921"
             ]
            ]
           }
          ],
          "choropleth": [
           {
            "type": "choropleth",
            "colorbar": {
             "outlinewidth": 0,
             "ticks": ""
            }
           }
          ],
          "histogram2d": [
           {
            "type": "histogram2d",
            "colorbar": {
             "outlinewidth": 0,
             "ticks": ""
            },
            "colorscale": [
             [
              0.0,
              "#0d0887"
             ],
             [
              0.1111111111111111,
              "#46039f"
             ],
             [
              0.2222222222222222,
              "#7201a8"
             ],
             [
              0.3333333333333333,
              "#9c179e"
             ],
             [
              0.4444444444444444,
              "#bd3786"
             ],
             [
              0.5555555555555556,
              "#d8576b"
             ],
             [
              0.6666666666666666,
              "#ed7953"
             ],
             [
              0.7777777777777778,
              "#fb9f3a"
             ],
             [
              0.8888888888888888,
              "#fdca26"
             ],
             [
              1.0,
              "#f0f921"
             ]
            ]
           }
          ],
          "heatmap": [
           {
            "type": "heatmap",
            "colorbar": {
             "outlinewidth": 0,
             "ticks": ""
            },
            "colorscale": [
             [
              0.0,
              "#0d0887"
             ],
             [
              0.1111111111111111,
              "#46039f"
             ],
             [
              0.2222222222222222,
              "#7201a8"
             ],
             [
              0.3333333333333333,
              "#9c179e"
             ],
             [
              0.4444444444444444,
              "#bd3786"
             ],
             [
              0.5555555555555556,
              "#d8576b"
             ],
             [
              0.6666666666666666,
              "#ed7953"
             ],
             [
              0.7777777777777778,
              "#fb9f3a"
             ],
             [
              0.8888888888888888,
              "#fdca26"
             ],
             [
              1.0,
              "#f0f921"
             ]
            ]
           }
          ],
          "heatmapgl": [
           {
            "type": "heatmapgl",
            "colorbar": {
             "outlinewidth": 0,
             "ticks": ""
            },
            "colorscale": [
             [
              0.0,
              "#0d0887"
             ],
             [
              0.1111111111111111,
              "#46039f"
             ],
             [
              0.2222222222222222,
              "#7201a8"
             ],
             [
              0.3333333333333333,
              "#9c179e"
             ],
             [
              0.4444444444444444,
              "#bd3786"
             ],
             [
              0.5555555555555556,
              "#d8576b"
             ],
             [
              0.6666666666666666,
              "#ed7953"
             ],
             [
              0.7777777777777778,
              "#fb9f3a"
             ],
             [
              0.8888888888888888,
              "#fdca26"
             ],
             [
              1.0,
              "#f0f921"
             ]
            ]
           }
          ],
          "contourcarpet": [
           {
            "type": "contourcarpet",
            "colorbar": {
             "outlinewidth": 0,
             "ticks": ""
            }
           }
          ],
          "contour": [
           {
            "type": "contour",
            "colorbar": {
             "outlinewidth": 0,
             "ticks": ""
            },
            "colorscale": [
             [
              0.0,
              "#0d0887"
             ],
             [
              0.1111111111111111,
              "#46039f"
             ],
             [
              0.2222222222222222,
              "#7201a8"
             ],
             [
              0.3333333333333333,
              "#9c179e"
             ],
             [
              0.4444444444444444,
              "#bd3786"
             ],
             [
              0.5555555555555556,
              "#d8576b"
             ],
             [
              0.6666666666666666,
              "#ed7953"
             ],
             [
              0.7777777777777778,
              "#fb9f3a"
             ],
             [
              0.8888888888888888,
              "#fdca26"
             ],
             [
              1.0,
              "#f0f921"
             ]
            ]
           }
          ],
          "surface": [
           {
            "type": "surface",
            "colorbar": {
             "outlinewidth": 0,
             "ticks": ""
            },
            "colorscale": [
             [
              0.0,
              "#0d0887"
             ],
             [
              0.1111111111111111,
              "#46039f"
             ],
             [
              0.2222222222222222,
              "#7201a8"
             ],
             [
              0.3333333333333333,
              "#9c179e"
             ],
             [
              0.4444444444444444,
              "#bd3786"
             ],
             [
              0.5555555555555556,
              "#d8576b"
             ],
             [
              0.6666666666666666,
              "#ed7953"
             ],
             [
              0.7777777777777778,
              "#fb9f3a"
             ],
             [
              0.8888888888888888,
              "#fdca26"
             ],
             [
              1.0,
              "#f0f921"
             ]
            ]
           }
          ],
          "mesh3d": [
           {
            "type": "mesh3d",
            "colorbar": {
             "outlinewidth": 0,
             "ticks": ""
            }
           }
          ],
          "scatter": [
           {
            "fillpattern": {
             "fillmode": "overlay",
             "size": 10,
             "solidity": 0.2
            },
            "type": "scatter"
           }
          ],
          "parcoords": [
           {
            "type": "parcoords",
            "line": {
             "colorbar": {
              "outlinewidth": 0,
              "ticks": ""
             }
            }
           }
          ],
          "scatterpolargl": [
           {
            "type": "scatterpolargl",
            "marker": {
             "colorbar": {
              "outlinewidth": 0,
              "ticks": ""
             }
            }
           }
          ],
          "bar": [
           {
            "error_x": {
             "color": "#2a3f5f"
            },
            "error_y": {
             "color": "#2a3f5f"
            },
            "marker": {
             "line": {
              "color": "#E5ECF6",
              "width": 0.5
             },
             "pattern": {
              "fillmode": "overlay",
              "size": 10,
              "solidity": 0.2
             }
            },
            "type": "bar"
           }
          ],
          "scattergeo": [
           {
            "type": "scattergeo",
            "marker": {
             "colorbar": {
              "outlinewidth": 0,
              "ticks": ""
             }
            }
           }
          ],
          "scatterpolar": [
           {
            "type": "scatterpolar",
            "marker": {
             "colorbar": {
              "outlinewidth": 0,
              "ticks": ""
             }
            }
           }
          ],
          "histogram": [
           {
            "marker": {
             "pattern": {
              "fillmode": "overlay",
              "size": 10,
              "solidity": 0.2
             }
            },
            "type": "histogram"
           }
          ],
          "scattergl": [
           {
            "type": "scattergl",
            "marker": {
             "colorbar": {
              "outlinewidth": 0,
              "ticks": ""
             }
            }
           }
          ],
          "scatter3d": [
           {
            "type": "scatter3d",
            "line": {
             "colorbar": {
              "outlinewidth": 0,
              "ticks": ""
             }
            },
            "marker": {
             "colorbar": {
              "outlinewidth": 0,
              "ticks": ""
             }
            }
           }
          ],
          "scattermapbox": [
           {
            "type": "scattermapbox",
            "marker": {
             "colorbar": {
              "outlinewidth": 0,
              "ticks": ""
             }
            }
           }
          ],
          "scatterternary": [
           {
            "type": "scatterternary",
            "marker": {
             "colorbar": {
              "outlinewidth": 0,
              "ticks": ""
             }
            }
           }
          ],
          "scattercarpet": [
           {
            "type": "scattercarpet",
            "marker": {
             "colorbar": {
              "outlinewidth": 0,
              "ticks": ""
             }
            }
           }
          ],
          "carpet": [
           {
            "aaxis": {
             "endlinecolor": "#2a3f5f",
             "gridcolor": "white",
             "linecolor": "white",
             "minorgridcolor": "white",
             "startlinecolor": "#2a3f5f"
            },
            "baxis": {
             "endlinecolor": "#2a3f5f",
             "gridcolor": "white",
             "linecolor": "white",
             "minorgridcolor": "white",
             "startlinecolor": "#2a3f5f"
            },
            "type": "carpet"
           }
          ],
          "table": [
           {
            "cells": {
             "fill": {
              "color": "#EBF0F8"
             },
             "line": {
              "color": "white"
             }
            },
            "header": {
             "fill": {
              "color": "#C8D4E3"
             },
             "line": {
              "color": "white"
             }
            },
            "type": "table"
           }
          ],
          "barpolar": [
           {
            "marker": {
             "line": {
              "color": "#E5ECF6",
              "width": 0.5
             },
             "pattern": {
              "fillmode": "overlay",
              "size": 10,
              "solidity": 0.2
             }
            },
            "type": "barpolar"
           }
          ],
          "pie": [
           {
            "automargin": true,
            "type": "pie"
           }
          ]
         },
         "layout": {
          "autotypenumbers": "strict",
          "colorway": [
           "#636efa",
           "#EF553B",
           "#00cc96",
           "#ab63fa",
           "#FFA15A",
           "#19d3f3",
           "#FF6692",
           "#B6E880",
           "#FF97FF",
           "#FECB52"
          ],
          "font": {
           "color": "#2a3f5f"
          },
          "hovermode": "closest",
          "hoverlabel": {
           "align": "left"
          },
          "paper_bgcolor": "white",
          "plot_bgcolor": "#E5ECF6",
          "polar": {
           "bgcolor": "#E5ECF6",
           "angularaxis": {
            "gridcolor": "white",
            "linecolor": "white",
            "ticks": ""
           },
           "radialaxis": {
            "gridcolor": "white",
            "linecolor": "white",
            "ticks": ""
           }
          },
          "ternary": {
           "bgcolor": "#E5ECF6",
           "aaxis": {
            "gridcolor": "white",
            "linecolor": "white",
            "ticks": ""
           },
           "baxis": {
            "gridcolor": "white",
            "linecolor": "white",
            "ticks": ""
           },
           "caxis": {
            "gridcolor": "white",
            "linecolor": "white",
            "ticks": ""
           }
          },
          "coloraxis": {
           "colorbar": {
            "outlinewidth": 0,
            "ticks": ""
           }
          },
          "colorscale": {
           "sequential": [
            [
             0.0,
             "#0d0887"
            ],
            [
             0.1111111111111111,
             "#46039f"
            ],
            [
             0.2222222222222222,
             "#7201a8"
            ],
            [
             0.3333333333333333,
             "#9c179e"
            ],
            [
             0.4444444444444444,
             "#bd3786"
            ],
            [
             0.5555555555555556,
             "#d8576b"
            ],
            [
             0.6666666666666666,
             "#ed7953"
            ],
            [
             0.7777777777777778,
             "#fb9f3a"
            ],
            [
             0.8888888888888888,
             "#fdca26"
            ],
            [
             1.0,
             "#f0f921"
            ]
           ],
           "sequentialminus": [
            [
             0.0,
             "#0d0887"
            ],
            [
             0.1111111111111111,
             "#46039f"
            ],
            [
             0.2222222222222222,
             "#7201a8"
            ],
            [
             0.3333333333333333,
             "#9c179e"
            ],
            [
             0.4444444444444444,
             "#bd3786"
            ],
            [
             0.5555555555555556,
             "#d8576b"
            ],
            [
             0.6666666666666666,
             "#ed7953"
            ],
            [
             0.7777777777777778,
             "#fb9f3a"
            ],
            [
             0.8888888888888888,
             "#fdca26"
            ],
            [
             1.0,
             "#f0f921"
            ]
           ],
           "diverging": [
            [
             0,
             "#8e0152"
            ],
            [
             0.1,
             "#c51b7d"
            ],
            [
             0.2,
             "#de77ae"
            ],
            [
             0.3,
             "#f1b6da"
            ],
            [
             0.4,
             "#fde0ef"
            ],
            [
             0.5,
             "#f7f7f7"
            ],
            [
             0.6,
             "#e6f5d0"
            ],
            [
             0.7,
             "#b8e186"
            ],
            [
             0.8,
             "#7fbc41"
            ],
            [
             0.9,
             "#4d9221"
            ],
            [
             1,
             "#276419"
            ]
           ]
          },
          "xaxis": {
           "gridcolor": "white",
           "linecolor": "white",
           "ticks": "",
           "title": {
            "standoff": 15
           },
           "zerolinecolor": "white",
           "automargin": true,
           "zerolinewidth": 2
          },
          "yaxis": {
           "gridcolor": "white",
           "linecolor": "white",
           "ticks": "",
           "title": {
            "standoff": 15
           },
           "zerolinecolor": "white",
           "automargin": true,
           "zerolinewidth": 2
          },
          "scene": {
           "xaxis": {
            "backgroundcolor": "#E5ECF6",
            "gridcolor": "white",
            "linecolor": "white",
            "showbackground": true,
            "ticks": "",
            "zerolinecolor": "white",
            "gridwidth": 2
           },
           "yaxis": {
            "backgroundcolor": "#E5ECF6",
            "gridcolor": "white",
            "linecolor": "white",
            "showbackground": true,
            "ticks": "",
            "zerolinecolor": "white",
            "gridwidth": 2
           },
           "zaxis": {
            "backgroundcolor": "#E5ECF6",
            "gridcolor": "white",
            "linecolor": "white",
            "showbackground": true,
            "ticks": "",
            "zerolinecolor": "white",
            "gridwidth": 2
           }
          },
          "shapedefaults": {
           "line": {
            "color": "#2a3f5f"
           }
          },
          "annotationdefaults": {
           "arrowcolor": "#2a3f5f",
           "arrowhead": 0,
           "arrowwidth": 1
          },
          "geo": {
           "bgcolor": "white",
           "landcolor": "#E5ECF6",
           "subunitcolor": "white",
           "showland": true,
           "showlakes": true,
           "lakecolor": "white"
          },
          "title": {
           "x": 0.05
          },
          "mapbox": {
           "style": "light"
          }
         }
        },
        "xaxis": {
         "anchor": "y",
         "domain": [
          0.0,
          1.0
         ],
         "title": {
          "text": "year"
         }
        },
        "yaxis": {
         "anchor": "x",
         "domain": [
          0.0,
          1.0
         ],
         "title": {
          "text": "loss_percentage"
         }
        },
        "legend": {
         "tracegroupgap": 0
        },
        "title": {
         "text": "USA-Cabbage Food Loss Sum"
        }
       },
       "config": {
        "plotlyServerURL": "https://plot.ly"
       }
      },
      "text/html": "<div>                            <div id=\"2c542bdf-09ea-4dca-af28-3145273fc135\" class=\"plotly-graph-div\" style=\"height:525px; width:100%;\"></div>            <script type=\"text/javascript\">                require([\"plotly\"], function(Plotly) {                    window.PLOTLYENV=window.PLOTLYENV || {};                                    if (document.getElementById(\"2c542bdf-09ea-4dca-af28-3145273fc135\")) {                    Plotly.newPlot(                        \"2c542bdf-09ea-4dca-af28-3145273fc135\",                        [{\"hovertemplate\":\"year=%{x}<br>loss_percentage=%{y}<extra></extra>\",\"legendgroup\":\"\",\"line\":{\"color\":\"#636efa\",\"dash\":\"solid\"},\"marker\":{\"symbol\":\"circle\"},\"mode\":\"lines\",\"name\":\"\",\"orientation\":\"v\",\"showlegend\":false,\"x\":[2000,2001,2002,2003,2004,2005,2006,2007,2008,2009,2010,2011,2012,2013,2014,2015,2016,2017,2018,2019],\"xaxis\":\"x\",\"y\":[51.0,51.0,51.0,51.0,51.0,87.5,80.2,51.0,128.0,51.0,51.0,51.0,51.0,51.0,51.0,51.0,51.0,51.0,58.4,51.0],\"yaxis\":\"y\",\"type\":\"scatter\"}],                        {\"template\":{\"data\":{\"histogram2dcontour\":[{\"type\":\"histogram2dcontour\",\"colorbar\":{\"outlinewidth\":0,\"ticks\":\"\"},\"colorscale\":[[0.0,\"#0d0887\"],[0.1111111111111111,\"#46039f\"],[0.2222222222222222,\"#7201a8\"],[0.3333333333333333,\"#9c179e\"],[0.4444444444444444,\"#bd3786\"],[0.5555555555555556,\"#d8576b\"],[0.6666666666666666,\"#ed7953\"],[0.7777777777777778,\"#fb9f3a\"],[0.8888888888888888,\"#fdca26\"],[1.0,\"#f0f921\"]]}],\"choropleth\":[{\"type\":\"choropleth\",\"colorbar\":{\"outlinewidth\":0,\"ticks\":\"\"}}],\"histogram2d\":[{\"type\":\"histogram2d\",\"colorbar\":{\"outlinewidth\":0,\"ticks\":\"\"},\"colorscale\":[[0.0,\"#0d0887\"],[0.1111111111111111,\"#46039f\"],[0.2222222222222222,\"#7201a8\"],[0.3333333333333333,\"#9c179e\"],[0.4444444444444444,\"#bd3786\"],[0.5555555555555556,\"#d8576b\"],[0.6666666666666666,\"#ed7953\"],[0.7777777777777778,\"#fb9f3a\"],[0.8888888888888888,\"#fdca26\"],[1.0,\"#f0f921\"]]}],\"heatmap\":[{\"type\":\"heatmap\",\"colorbar\":{\"outlinewidth\":0,\"ticks\":\"\"},\"colorscale\":[[0.0,\"#0d0887\"],[0.1111111111111111,\"#46039f\"],[0.2222222222222222,\"#7201a8\"],[0.3333333333333333,\"#9c179e\"],[0.4444444444444444,\"#bd3786\"],[0.5555555555555556,\"#d8576b\"],[0.6666666666666666,\"#ed7953\"],[0.7777777777777778,\"#fb9f3a\"],[0.8888888888888888,\"#fdca26\"],[1.0,\"#f0f921\"]]}],\"heatmapgl\":[{\"type\":\"heatmapgl\",\"colorbar\":{\"outlinewidth\":0,\"ticks\":\"\"},\"colorscale\":[[0.0,\"#0d0887\"],[0.1111111111111111,\"#46039f\"],[0.2222222222222222,\"#7201a8\"],[0.3333333333333333,\"#9c179e\"],[0.4444444444444444,\"#bd3786\"],[0.5555555555555556,\"#d8576b\"],[0.6666666666666666,\"#ed7953\"],[0.7777777777777778,\"#fb9f3a\"],[0.8888888888888888,\"#fdca26\"],[1.0,\"#f0f921\"]]}],\"contourcarpet\":[{\"type\":\"contourcarpet\",\"colorbar\":{\"outlinewidth\":0,\"ticks\":\"\"}}],\"contour\":[{\"type\":\"contour\",\"colorbar\":{\"outlinewidth\":0,\"ticks\":\"\"},\"colorscale\":[[0.0,\"#0d0887\"],[0.1111111111111111,\"#46039f\"],[0.2222222222222222,\"#7201a8\"],[0.3333333333333333,\"#9c179e\"],[0.4444444444444444,\"#bd3786\"],[0.5555555555555556,\"#d8576b\"],[0.6666666666666666,\"#ed7953\"],[0.7777777777777778,\"#fb9f3a\"],[0.8888888888888888,\"#fdca26\"],[1.0,\"#f0f921\"]]}],\"surface\":[{\"type\":\"surface\",\"colorbar\":{\"outlinewidth\":0,\"ticks\":\"\"},\"colorscale\":[[0.0,\"#0d0887\"],[0.1111111111111111,\"#46039f\"],[0.2222222222222222,\"#7201a8\"],[0.3333333333333333,\"#9c179e\"],[0.4444444444444444,\"#bd3786\"],[0.5555555555555556,\"#d8576b\"],[0.6666666666666666,\"#ed7953\"],[0.7777777777777778,\"#fb9f3a\"],[0.8888888888888888,\"#fdca26\"],[1.0,\"#f0f921\"]]}],\"mesh3d\":[{\"type\":\"mesh3d\",\"colorbar\":{\"outlinewidth\":0,\"ticks\":\"\"}}],\"scatter\":[{\"fillpattern\":{\"fillmode\":\"overlay\",\"size\":10,\"solidity\":0.2},\"type\":\"scatter\"}],\"parcoords\":[{\"type\":\"parcoords\",\"line\":{\"colorbar\":{\"outlinewidth\":0,\"ticks\":\"\"}}}],\"scatterpolargl\":[{\"type\":\"scatterpolargl\",\"marker\":{\"colorbar\":{\"outlinewidth\":0,\"ticks\":\"\"}}}],\"bar\":[{\"error_x\":{\"color\":\"#2a3f5f\"},\"error_y\":{\"color\":\"#2a3f5f\"},\"marker\":{\"line\":{\"color\":\"#E5ECF6\",\"width\":0.5},\"pattern\":{\"fillmode\":\"overlay\",\"size\":10,\"solidity\":0.2}},\"type\":\"bar\"}],\"scattergeo\":[{\"type\":\"scattergeo\",\"marker\":{\"colorbar\":{\"outlinewidth\":0,\"ticks\":\"\"}}}],\"scatterpolar\":[{\"type\":\"scatterpolar\",\"marker\":{\"colorbar\":{\"outlinewidth\":0,\"ticks\":\"\"}}}],\"histogram\":[{\"marker\":{\"pattern\":{\"fillmode\":\"overlay\",\"size\":10,\"solidity\":0.2}},\"type\":\"histogram\"}],\"scattergl\":[{\"type\":\"scattergl\",\"marker\":{\"colorbar\":{\"outlinewidth\":0,\"ticks\":\"\"}}}],\"scatter3d\":[{\"type\":\"scatter3d\",\"line\":{\"colorbar\":{\"outlinewidth\":0,\"ticks\":\"\"}},\"marker\":{\"colorbar\":{\"outlinewidth\":0,\"ticks\":\"\"}}}],\"scattermapbox\":[{\"type\":\"scattermapbox\",\"marker\":{\"colorbar\":{\"outlinewidth\":0,\"ticks\":\"\"}}}],\"scatterternary\":[{\"type\":\"scatterternary\",\"marker\":{\"colorbar\":{\"outlinewidth\":0,\"ticks\":\"\"}}}],\"scattercarpet\":[{\"type\":\"scattercarpet\",\"marker\":{\"colorbar\":{\"outlinewidth\":0,\"ticks\":\"\"}}}],\"carpet\":[{\"aaxis\":{\"endlinecolor\":\"#2a3f5f\",\"gridcolor\":\"white\",\"linecolor\":\"white\",\"minorgridcolor\":\"white\",\"startlinecolor\":\"#2a3f5f\"},\"baxis\":{\"endlinecolor\":\"#2a3f5f\",\"gridcolor\":\"white\",\"linecolor\":\"white\",\"minorgridcolor\":\"white\",\"startlinecolor\":\"#2a3f5f\"},\"type\":\"carpet\"}],\"table\":[{\"cells\":{\"fill\":{\"color\":\"#EBF0F8\"},\"line\":{\"color\":\"white\"}},\"header\":{\"fill\":{\"color\":\"#C8D4E3\"},\"line\":{\"color\":\"white\"}},\"type\":\"table\"}],\"barpolar\":[{\"marker\":{\"line\":{\"color\":\"#E5ECF6\",\"width\":0.5},\"pattern\":{\"fillmode\":\"overlay\",\"size\":10,\"solidity\":0.2}},\"type\":\"barpolar\"}],\"pie\":[{\"automargin\":true,\"type\":\"pie\"}]},\"layout\":{\"autotypenumbers\":\"strict\",\"colorway\":[\"#636efa\",\"#EF553B\",\"#00cc96\",\"#ab63fa\",\"#FFA15A\",\"#19d3f3\",\"#FF6692\",\"#B6E880\",\"#FF97FF\",\"#FECB52\"],\"font\":{\"color\":\"#2a3f5f\"},\"hovermode\":\"closest\",\"hoverlabel\":{\"align\":\"left\"},\"paper_bgcolor\":\"white\",\"plot_bgcolor\":\"#E5ECF6\",\"polar\":{\"bgcolor\":\"#E5ECF6\",\"angularaxis\":{\"gridcolor\":\"white\",\"linecolor\":\"white\",\"ticks\":\"\"},\"radialaxis\":{\"gridcolor\":\"white\",\"linecolor\":\"white\",\"ticks\":\"\"}},\"ternary\":{\"bgcolor\":\"#E5ECF6\",\"aaxis\":{\"gridcolor\":\"white\",\"linecolor\":\"white\",\"ticks\":\"\"},\"baxis\":{\"gridcolor\":\"white\",\"linecolor\":\"white\",\"ticks\":\"\"},\"caxis\":{\"gridcolor\":\"white\",\"linecolor\":\"white\",\"ticks\":\"\"}},\"coloraxis\":{\"colorbar\":{\"outlinewidth\":0,\"ticks\":\"\"}},\"colorscale\":{\"sequential\":[[0.0,\"#0d0887\"],[0.1111111111111111,\"#46039f\"],[0.2222222222222222,\"#7201a8\"],[0.3333333333333333,\"#9c179e\"],[0.4444444444444444,\"#bd3786\"],[0.5555555555555556,\"#d8576b\"],[0.6666666666666666,\"#ed7953\"],[0.7777777777777778,\"#fb9f3a\"],[0.8888888888888888,\"#fdca26\"],[1.0,\"#f0f921\"]],\"sequentialminus\":[[0.0,\"#0d0887\"],[0.1111111111111111,\"#46039f\"],[0.2222222222222222,\"#7201a8\"],[0.3333333333333333,\"#9c179e\"],[0.4444444444444444,\"#bd3786\"],[0.5555555555555556,\"#d8576b\"],[0.6666666666666666,\"#ed7953\"],[0.7777777777777778,\"#fb9f3a\"],[0.8888888888888888,\"#fdca26\"],[1.0,\"#f0f921\"]],\"diverging\":[[0,\"#8e0152\"],[0.1,\"#c51b7d\"],[0.2,\"#de77ae\"],[0.3,\"#f1b6da\"],[0.4,\"#fde0ef\"],[0.5,\"#f7f7f7\"],[0.6,\"#e6f5d0\"],[0.7,\"#b8e186\"],[0.8,\"#7fbc41\"],[0.9,\"#4d9221\"],[1,\"#276419\"]]},\"xaxis\":{\"gridcolor\":\"white\",\"linecolor\":\"white\",\"ticks\":\"\",\"title\":{\"standoff\":15},\"zerolinecolor\":\"white\",\"automargin\":true,\"zerolinewidth\":2},\"yaxis\":{\"gridcolor\":\"white\",\"linecolor\":\"white\",\"ticks\":\"\",\"title\":{\"standoff\":15},\"zerolinecolor\":\"white\",\"automargin\":true,\"zerolinewidth\":2},\"scene\":{\"xaxis\":{\"backgroundcolor\":\"#E5ECF6\",\"gridcolor\":\"white\",\"linecolor\":\"white\",\"showbackground\":true,\"ticks\":\"\",\"zerolinecolor\":\"white\",\"gridwidth\":2},\"yaxis\":{\"backgroundcolor\":\"#E5ECF6\",\"gridcolor\":\"white\",\"linecolor\":\"white\",\"showbackground\":true,\"ticks\":\"\",\"zerolinecolor\":\"white\",\"gridwidth\":2},\"zaxis\":{\"backgroundcolor\":\"#E5ECF6\",\"gridcolor\":\"white\",\"linecolor\":\"white\",\"showbackground\":true,\"ticks\":\"\",\"zerolinecolor\":\"white\",\"gridwidth\":2}},\"shapedefaults\":{\"line\":{\"color\":\"#2a3f5f\"}},\"annotationdefaults\":{\"arrowcolor\":\"#2a3f5f\",\"arrowhead\":0,\"arrowwidth\":1},\"geo\":{\"bgcolor\":\"white\",\"landcolor\":\"#E5ECF6\",\"subunitcolor\":\"white\",\"showland\":true,\"showlakes\":true,\"lakecolor\":\"white\"},\"title\":{\"x\":0.05},\"mapbox\":{\"style\":\"light\"}}},\"xaxis\":{\"anchor\":\"y\",\"domain\":[0.0,1.0],\"title\":{\"text\":\"year\"}},\"yaxis\":{\"anchor\":\"x\",\"domain\":[0.0,1.0],\"title\":{\"text\":\"loss_percentage\"}},\"legend\":{\"tracegroupgap\":0},\"title\":{\"text\":\"USA-Cabbage Food Loss Sum\"}},                        {\"responsive\": true}                    ).then(function(){\n                            \nvar gd = document.getElementById('2c542bdf-09ea-4dca-af28-3145273fc135');\nvar x = new MutationObserver(function (mutations, observer) {{\n        var display = window.getComputedStyle(gd).display;\n        if (!display || display === 'none') {{\n            console.log([gd, 'removed!']);\n            Plotly.purge(gd);\n            observer.disconnect();\n        }}\n}});\n\n// Listen for the removal of the full notebook cells\nvar notebookContainer = gd.closest('#notebook-container');\nif (notebookContainer) {{\n    x.observe(notebookContainer, {childList: true});\n}}\n\n// Listen for the clearing of the current output cell\nvar outputEl = gd.closest('.output');\nif (outputEl) {{\n    x.observe(outputEl, {childList: true});\n}}\n\n                        })                };                });            </script>        </div>"
     },
     "metadata": {},
     "output_type": "display_data"
    }
   ],
   "source": [
    "fig = px.line(new, y=\"loss_percentage\", title='USA-Cabbage Food Loss Sum')\n",
    "fig.show()"
   ],
   "metadata": {
    "collapsed": false,
    "pycharm": {
     "name": "#%%\n"
    }
   }
  },
  {
   "cell_type": "code",
   "execution_count": 65,
   "outputs": [],
   "source": [],
   "metadata": {
    "collapsed": false,
    "pycharm": {
     "name": "#%%\n"
    }
   }
  },
  {
   "cell_type": "markdown",
   "source": [
    "Another dataset on crop production\n",
    "\n",
    "https://data.world/oecd/crop-production"
   ],
   "metadata": {
    "collapsed": false,
    "pycharm": {
     "name": "#%% md\n"
    }
   }
  },
  {
   "cell_type": "code",
   "execution_count": 146,
   "outputs": [],
   "source": [
    "df2=pd.read_csv(\"/Users/murathansaygili/Desktop/crop_production.csv\")"
   ],
   "metadata": {
    "collapsed": false,
    "pycharm": {
     "name": "#%%\n"
    }
   }
  },
  {
   "cell_type": "code",
   "execution_count": 170,
   "outputs": [
    {
     "data": {
      "text/plain": "      LOCATION  INDICATOR  SUBJECT   MEASURE FREQUENCY  TIME         Value  \\\n0          AUS  CROPYIELD     RICE  TONNE_HA         A  1990      8.314607   \n1          AUS  CROPYIELD     RICE  TONNE_HA         A  1991      8.394737   \n2          AUS  CROPYIELD     RICE  TONNE_HA         A  1992      8.094340   \n3          AUS  CROPYIELD     RICE  TONNE_HA         A  1993      8.336000   \n4          AUS  CROPYIELD     RICE  TONNE_HA         A  1994      8.537815   \n...        ...        ...      ...       ...       ...   ...           ...   \n20561     OECD  CROPYIELD  SOYBEAN   THND_HA         A  2021  37010.208830   \n20562     OECD  CROPYIELD  SOYBEAN   THND_HA         A  2022  37069.214850   \n20563     OECD  CROPYIELD  SOYBEAN   THND_HA         A  2023  37143.459750   \n20564     OECD  CROPYIELD  SOYBEAN   THND_HA         A  2024  37013.651900   \n20565     OECD  CROPYIELD  SOYBEAN   THND_HA         A  2025  37041.401580   \n\n       Flag Codes  \n0             NaN  \n1             NaN  \n2             NaN  \n3             NaN  \n4             NaN  \n...           ...  \n20561         NaN  \n20562         NaN  \n20563         NaN  \n20564         NaN  \n20565         NaN  \n\n[20566 rows x 8 columns]",
      "text/html": "<div>\n<style scoped>\n    .dataframe tbody tr th:only-of-type {\n        vertical-align: middle;\n    }\n\n    .dataframe tbody tr th {\n        vertical-align: top;\n    }\n\n    .dataframe thead th {\n        text-align: right;\n    }\n</style>\n<table border=\"1\" class=\"dataframe\">\n  <thead>\n    <tr style=\"text-align: right;\">\n      <th></th>\n      <th>LOCATION</th>\n      <th>INDICATOR</th>\n      <th>SUBJECT</th>\n      <th>MEASURE</th>\n      <th>FREQUENCY</th>\n      <th>TIME</th>\n      <th>Value</th>\n      <th>Flag Codes</th>\n    </tr>\n  </thead>\n  <tbody>\n    <tr>\n      <th>0</th>\n      <td>AUS</td>\n      <td>CROPYIELD</td>\n      <td>RICE</td>\n      <td>TONNE_HA</td>\n      <td>A</td>\n      <td>1990</td>\n      <td>8.314607</td>\n      <td>NaN</td>\n    </tr>\n    <tr>\n      <th>1</th>\n      <td>AUS</td>\n      <td>CROPYIELD</td>\n      <td>RICE</td>\n      <td>TONNE_HA</td>\n      <td>A</td>\n      <td>1991</td>\n      <td>8.394737</td>\n      <td>NaN</td>\n    </tr>\n    <tr>\n      <th>2</th>\n      <td>AUS</td>\n      <td>CROPYIELD</td>\n      <td>RICE</td>\n      <td>TONNE_HA</td>\n      <td>A</td>\n      <td>1992</td>\n      <td>8.094340</td>\n      <td>NaN</td>\n    </tr>\n    <tr>\n      <th>3</th>\n      <td>AUS</td>\n      <td>CROPYIELD</td>\n      <td>RICE</td>\n      <td>TONNE_HA</td>\n      <td>A</td>\n      <td>1993</td>\n      <td>8.336000</td>\n      <td>NaN</td>\n    </tr>\n    <tr>\n      <th>4</th>\n      <td>AUS</td>\n      <td>CROPYIELD</td>\n      <td>RICE</td>\n      <td>TONNE_HA</td>\n      <td>A</td>\n      <td>1994</td>\n      <td>8.537815</td>\n      <td>NaN</td>\n    </tr>\n    <tr>\n      <th>...</th>\n      <td>...</td>\n      <td>...</td>\n      <td>...</td>\n      <td>...</td>\n      <td>...</td>\n      <td>...</td>\n      <td>...</td>\n      <td>...</td>\n    </tr>\n    <tr>\n      <th>20561</th>\n      <td>OECD</td>\n      <td>CROPYIELD</td>\n      <td>SOYBEAN</td>\n      <td>THND_HA</td>\n      <td>A</td>\n      <td>2021</td>\n      <td>37010.208830</td>\n      <td>NaN</td>\n    </tr>\n    <tr>\n      <th>20562</th>\n      <td>OECD</td>\n      <td>CROPYIELD</td>\n      <td>SOYBEAN</td>\n      <td>THND_HA</td>\n      <td>A</td>\n      <td>2022</td>\n      <td>37069.214850</td>\n      <td>NaN</td>\n    </tr>\n    <tr>\n      <th>20563</th>\n      <td>OECD</td>\n      <td>CROPYIELD</td>\n      <td>SOYBEAN</td>\n      <td>THND_HA</td>\n      <td>A</td>\n      <td>2023</td>\n      <td>37143.459750</td>\n      <td>NaN</td>\n    </tr>\n    <tr>\n      <th>20564</th>\n      <td>OECD</td>\n      <td>CROPYIELD</td>\n      <td>SOYBEAN</td>\n      <td>THND_HA</td>\n      <td>A</td>\n      <td>2024</td>\n      <td>37013.651900</td>\n      <td>NaN</td>\n    </tr>\n    <tr>\n      <th>20565</th>\n      <td>OECD</td>\n      <td>CROPYIELD</td>\n      <td>SOYBEAN</td>\n      <td>THND_HA</td>\n      <td>A</td>\n      <td>2025</td>\n      <td>37041.401580</td>\n      <td>NaN</td>\n    </tr>\n  </tbody>\n</table>\n<p>20566 rows × 8 columns</p>\n</div>"
     },
     "execution_count": 170,
     "metadata": {},
     "output_type": "execute_result"
    }
   ],
   "source": [
    "df2"
   ],
   "metadata": {
    "collapsed": false,
    "pycharm": {
     "name": "#%%\n"
    }
   }
  },
  {
   "cell_type": "code",
   "execution_count": 174,
   "outputs": [
    {
     "data": {
      "text/plain": "              Region                                       Indicator  Units  \\\n0        East Africa  Agricultural value added growth rate, annual %    NaN   \n1        East Africa  Agricultural value added growth rate, annual %    NaN   \n2        East Africa  Agricultural value added growth rate, annual %    NaN   \n3        East Africa  Agricultural value added growth rate, annual %    NaN   \n4        East Africa  Agricultural value added growth rate, annual %    NaN   \n...              ...                                             ...    ...   \n1232275     Ethiopia               Animal Fats -41 + (Total), tonnes    NaN   \n1232276     Ethiopia               Animal Fats -41 + (Total), tonnes    NaN   \n1232277     Ethiopia               Animal Fats -41 + (Total), tonnes    NaN   \n1232278     Ethiopia               Animal Fats -41 + (Total), tonnes    NaN   \n1232279     Ethiopia               Animal Fats -41 + (Total), tonnes    NaN   \n\n        Frequency        Date     Value  \n0               A  1981-01-01  6.519751  \n1               A  1982-01-01  4.030124  \n2               A  1983-01-01  4.386776  \n3               A  1984-01-01 -3.211779  \n4               A  1985-01-01 -1.051170  \n...           ...         ...       ...  \n1232275         A  2005-01-01  1.000000  \n1232276         A  2006-01-01  0.000000  \n1232277         A  2007-01-01  4.000000  \n1232278         A  2008-01-01  1.000000  \n1232279         A  2009-01-01  2.000000  \n\n[1232280 rows x 6 columns]",
      "text/html": "<div>\n<style scoped>\n    .dataframe tbody tr th:only-of-type {\n        vertical-align: middle;\n    }\n\n    .dataframe tbody tr th {\n        vertical-align: top;\n    }\n\n    .dataframe thead th {\n        text-align: right;\n    }\n</style>\n<table border=\"1\" class=\"dataframe\">\n  <thead>\n    <tr style=\"text-align: right;\">\n      <th></th>\n      <th>Region</th>\n      <th>Indicator</th>\n      <th>Units</th>\n      <th>Frequency</th>\n      <th>Date</th>\n      <th>Value</th>\n    </tr>\n  </thead>\n  <tbody>\n    <tr>\n      <th>0</th>\n      <td>East Africa</td>\n      <td>Agricultural value added growth rate, annual %</td>\n      <td>NaN</td>\n      <td>A</td>\n      <td>1981-01-01</td>\n      <td>6.519751</td>\n    </tr>\n    <tr>\n      <th>1</th>\n      <td>East Africa</td>\n      <td>Agricultural value added growth rate, annual %</td>\n      <td>NaN</td>\n      <td>A</td>\n      <td>1982-01-01</td>\n      <td>4.030124</td>\n    </tr>\n    <tr>\n      <th>2</th>\n      <td>East Africa</td>\n      <td>Agricultural value added growth rate, annual %</td>\n      <td>NaN</td>\n      <td>A</td>\n      <td>1983-01-01</td>\n      <td>4.386776</td>\n    </tr>\n    <tr>\n      <th>3</th>\n      <td>East Africa</td>\n      <td>Agricultural value added growth rate, annual %</td>\n      <td>NaN</td>\n      <td>A</td>\n      <td>1984-01-01</td>\n      <td>-3.211779</td>\n    </tr>\n    <tr>\n      <th>4</th>\n      <td>East Africa</td>\n      <td>Agricultural value added growth rate, annual %</td>\n      <td>NaN</td>\n      <td>A</td>\n      <td>1985-01-01</td>\n      <td>-1.051170</td>\n    </tr>\n    <tr>\n      <th>...</th>\n      <td>...</td>\n      <td>...</td>\n      <td>...</td>\n      <td>...</td>\n      <td>...</td>\n      <td>...</td>\n    </tr>\n    <tr>\n      <th>1232275</th>\n      <td>Ethiopia</td>\n      <td>Animal Fats -41 + (Total), tonnes</td>\n      <td>NaN</td>\n      <td>A</td>\n      <td>2005-01-01</td>\n      <td>1.000000</td>\n    </tr>\n    <tr>\n      <th>1232276</th>\n      <td>Ethiopia</td>\n      <td>Animal Fats -41 + (Total), tonnes</td>\n      <td>NaN</td>\n      <td>A</td>\n      <td>2006-01-01</td>\n      <td>0.000000</td>\n    </tr>\n    <tr>\n      <th>1232277</th>\n      <td>Ethiopia</td>\n      <td>Animal Fats -41 + (Total), tonnes</td>\n      <td>NaN</td>\n      <td>A</td>\n      <td>2007-01-01</td>\n      <td>4.000000</td>\n    </tr>\n    <tr>\n      <th>1232278</th>\n      <td>Ethiopia</td>\n      <td>Animal Fats -41 + (Total), tonnes</td>\n      <td>NaN</td>\n      <td>A</td>\n      <td>2008-01-01</td>\n      <td>1.000000</td>\n    </tr>\n    <tr>\n      <th>1232279</th>\n      <td>Ethiopia</td>\n      <td>Animal Fats -41 + (Total), tonnes</td>\n      <td>NaN</td>\n      <td>A</td>\n      <td>2009-01-01</td>\n      <td>2.000000</td>\n    </tr>\n  </tbody>\n</table>\n<p>1232280 rows × 6 columns</p>\n</div>"
     },
     "execution_count": 174,
     "metadata": {},
     "output_type": "execute_result"
    }
   ],
   "source": [
    "df4=pd.read_csv(\"/Users/murathansaygili/Desktop/AfricanDevelopmentBank.csv\")\n",
    "df4"
   ],
   "metadata": {
    "collapsed": false,
    "pycharm": {
     "name": "#%%\n"
    }
   }
  },
  {
   "cell_type": "markdown",
   "source": [
    "# https://machinelearningmastery.com/time-series-prediction-lstm-recurrent-neural-networks-python-keras/"
   ],
   "metadata": {
    "collapsed": false,
    "pycharm": {
     "name": "#%% md\n"
    }
   }
  },
  {
   "cell_type": "code",
   "execution_count": 200,
   "outputs": [],
   "source": [
    "import numpy\n",
    "import matplotlib.pyplot as plt\n",
    "import pandas\n",
    "import math\n",
    "from keras.models import Sequential\n",
    "from keras.layers import Dense\n",
    "from keras.layers import LSTM\n",
    "from sklearn.preprocessing import MinMaxScaler\n",
    "from sklearn.metrics import mean_squared_error"
   ],
   "metadata": {
    "collapsed": false,
    "pycharm": {
     "name": "#%%\n"
    }
   }
  },
  {
   "cell_type": "code",
   "execution_count": 345,
   "outputs": [],
   "source": [
    "df3=pd.read_excel(\"/Users/murathansaygili/Desktop/AUK-Chapter5-22jul21.ods\", engine=\"odf\",header=7)\n",
    "df3.index=df3[\"Unnamed: 0\"]\n",
    "df3.drop([\"Unnamed: 0\"],axis=1,inplace=True)\n",
    "df3=df3.T"
   ],
   "metadata": {
    "collapsed": false,
    "pycharm": {
     "name": "#%%\n"
    }
   }
  },
  {
   "cell_type": "code",
   "execution_count": 346,
   "outputs": [],
   "source": [
    "data=df3.wheat"
   ],
   "metadata": {
    "collapsed": false,
    "pycharm": {
     "name": "#%%\n"
    }
   }
  },
  {
   "cell_type": "code",
   "execution_count": 347,
   "outputs": [],
   "source": [
    "data=data.to_frame()"
   ],
   "metadata": {
    "collapsed": false,
    "pycharm": {
     "name": "#%%\n"
    }
   }
  },
  {
   "cell_type": "code",
   "execution_count": 348,
   "outputs": [],
   "source": [
    "# normalize the dataset\n",
    "scaler = MinMaxScaler(feature_range=(0, 1))\n",
    "data.wheat = scaler.fit_transform(data.values.astype('float32'))\n"
   ],
   "metadata": {
    "collapsed": false,
    "pycharm": {
     "name": "#%%\n"
    }
   }
  },
  {
   "cell_type": "code",
   "execution_count": 349,
   "outputs": [],
   "source": [
    "data=data.reset_index()\n",
    "data.drop(['index'],axis=1,inplace=True)"
   ],
   "metadata": {
    "collapsed": false,
    "pycharm": {
     "name": "#%%\n"
    }
   }
  },
  {
   "cell_type": "code",
   "execution_count": 350,
   "outputs": [],
   "source": [
    "base=np.zeros([data.shape[0]-1,2])\n",
    "new=pd.DataFrame(base,columns=['X','Y'])"
   ],
   "metadata": {
    "collapsed": false,
    "pycharm": {
     "name": "#%%\n"
    }
   }
  },
  {
   "cell_type": "code",
   "execution_count": 353,
   "outputs": [
    {
     "name": "stdout",
     "output_type": "stream",
     "text": [
      "31 16\n"
     ]
    }
   ],
   "source": [
    "for i in range(data.shape[0]-1):\n",
    "    new['X'][i]=data.iloc[i]\n",
    "    new['Y'][i]=data.iloc[i+1]\n",
    "# split into train and test sets\n",
    "train_size = int(len(new) * 0.67)\n",
    "test_size = len(new) - train_size\n",
    "train, test = new.iloc[0:train_size,:], new.iloc[train_size:len(new),:]\n",
    "print(len(train), len(test))"
   ],
   "metadata": {
    "collapsed": false,
    "pycharm": {
     "name": "#%%\n"
    }
   }
  },
  {
   "cell_type": "code",
   "execution_count": 354,
   "outputs": [
    {
     "data": {
      "text/plain": "           X         Y\n0   0.031099  0.077189\n1   0.077189  0.022850\n2   0.022850  0.000000\n3   0.000000  0.030328\n4   0.030328  0.106154\n5   0.106154  0.184087\n6   0.184087  0.312570\n7   0.312570  0.320114\n8   0.320114  0.474641\n9   0.474641  0.455304\n10  0.455304  0.798702\n11  0.798702  0.655701\n12  0.655701  0.719589\n13  0.719589  0.580955\n14  0.580955  0.570019\n15  0.570019  0.761027\n16  0.761027  0.752822\n17  0.752822  0.822654\n18  0.822654  0.756629\n19  0.756629  0.668795\n20  0.668795  0.705418\n21  0.705418  0.808682\n22  0.808682  0.948489\n23  0.948489  0.825470\n24  0.825470  0.852859\n25  0.852859  0.817859\n26  0.817859  1.000000\n27  1.000000  0.572795\n28  0.572795  0.941437\n29  0.941437  0.772550\n30  0.772550  0.838571\n31  0.838571  0.791837\n32  0.791837  0.788259\n33  0.788259  0.670732\n34  0.670732  0.998796\n35  0.998796  0.753409\n36  0.753409  0.831718\n37  0.831718  0.883078\n38  0.883078  0.688591\n39  0.688591  0.538862\n40  0.538862  0.949485\n41  0.949485  0.948618\n42  0.948618  0.792477\n43  0.792477  0.800921\n44  0.800921  0.673068\n45  0.673068  0.894785\n46  0.894785  0.416792",
      "text/html": "<div>\n<style scoped>\n    .dataframe tbody tr th:only-of-type {\n        vertical-align: middle;\n    }\n\n    .dataframe tbody tr th {\n        vertical-align: top;\n    }\n\n    .dataframe thead th {\n        text-align: right;\n    }\n</style>\n<table border=\"1\" class=\"dataframe\">\n  <thead>\n    <tr style=\"text-align: right;\">\n      <th></th>\n      <th>X</th>\n      <th>Y</th>\n    </tr>\n  </thead>\n  <tbody>\n    <tr>\n      <th>0</th>\n      <td>0.031099</td>\n      <td>0.077189</td>\n    </tr>\n    <tr>\n      <th>1</th>\n      <td>0.077189</td>\n      <td>0.022850</td>\n    </tr>\n    <tr>\n      <th>2</th>\n      <td>0.022850</td>\n      <td>0.000000</td>\n    </tr>\n    <tr>\n      <th>3</th>\n      <td>0.000000</td>\n      <td>0.030328</td>\n    </tr>\n    <tr>\n      <th>4</th>\n      <td>0.030328</td>\n      <td>0.106154</td>\n    </tr>\n    <tr>\n      <th>5</th>\n      <td>0.106154</td>\n      <td>0.184087</td>\n    </tr>\n    <tr>\n      <th>6</th>\n      <td>0.184087</td>\n      <td>0.312570</td>\n    </tr>\n    <tr>\n      <th>7</th>\n      <td>0.312570</td>\n      <td>0.320114</td>\n    </tr>\n    <tr>\n      <th>8</th>\n      <td>0.320114</td>\n      <td>0.474641</td>\n    </tr>\n    <tr>\n      <th>9</th>\n      <td>0.474641</td>\n      <td>0.455304</td>\n    </tr>\n    <tr>\n      <th>10</th>\n      <td>0.455304</td>\n      <td>0.798702</td>\n    </tr>\n    <tr>\n      <th>11</th>\n      <td>0.798702</td>\n      <td>0.655701</td>\n    </tr>\n    <tr>\n      <th>12</th>\n      <td>0.655701</td>\n      <td>0.719589</td>\n    </tr>\n    <tr>\n      <th>13</th>\n      <td>0.719589</td>\n      <td>0.580955</td>\n    </tr>\n    <tr>\n      <th>14</th>\n      <td>0.580955</td>\n      <td>0.570019</td>\n    </tr>\n    <tr>\n      <th>15</th>\n      <td>0.570019</td>\n      <td>0.761027</td>\n    </tr>\n    <tr>\n      <th>16</th>\n      <td>0.761027</td>\n      <td>0.752822</td>\n    </tr>\n    <tr>\n      <th>17</th>\n      <td>0.752822</td>\n      <td>0.822654</td>\n    </tr>\n    <tr>\n      <th>18</th>\n      <td>0.822654</td>\n      <td>0.756629</td>\n    </tr>\n    <tr>\n      <th>19</th>\n      <td>0.756629</td>\n      <td>0.668795</td>\n    </tr>\n    <tr>\n      <th>20</th>\n      <td>0.668795</td>\n      <td>0.705418</td>\n    </tr>\n    <tr>\n      <th>21</th>\n      <td>0.705418</td>\n      <td>0.808682</td>\n    </tr>\n    <tr>\n      <th>22</th>\n      <td>0.808682</td>\n      <td>0.948489</td>\n    </tr>\n    <tr>\n      <th>23</th>\n      <td>0.948489</td>\n      <td>0.825470</td>\n    </tr>\n    <tr>\n      <th>24</th>\n      <td>0.825470</td>\n      <td>0.852859</td>\n    </tr>\n    <tr>\n      <th>25</th>\n      <td>0.852859</td>\n      <td>0.817859</td>\n    </tr>\n    <tr>\n      <th>26</th>\n      <td>0.817859</td>\n      <td>1.000000</td>\n    </tr>\n    <tr>\n      <th>27</th>\n      <td>1.000000</td>\n      <td>0.572795</td>\n    </tr>\n    <tr>\n      <th>28</th>\n      <td>0.572795</td>\n      <td>0.941437</td>\n    </tr>\n    <tr>\n      <th>29</th>\n      <td>0.941437</td>\n      <td>0.772550</td>\n    </tr>\n    <tr>\n      <th>30</th>\n      <td>0.772550</td>\n      <td>0.838571</td>\n    </tr>\n    <tr>\n      <th>31</th>\n      <td>0.838571</td>\n      <td>0.791837</td>\n    </tr>\n    <tr>\n      <th>32</th>\n      <td>0.791837</td>\n      <td>0.788259</td>\n    </tr>\n    <tr>\n      <th>33</th>\n      <td>0.788259</td>\n      <td>0.670732</td>\n    </tr>\n    <tr>\n      <th>34</th>\n      <td>0.670732</td>\n      <td>0.998796</td>\n    </tr>\n    <tr>\n      <th>35</th>\n      <td>0.998796</td>\n      <td>0.753409</td>\n    </tr>\n    <tr>\n      <th>36</th>\n      <td>0.753409</td>\n      <td>0.831718</td>\n    </tr>\n    <tr>\n      <th>37</th>\n      <td>0.831718</td>\n      <td>0.883078</td>\n    </tr>\n    <tr>\n      <th>38</th>\n      <td>0.883078</td>\n      <td>0.688591</td>\n    </tr>\n    <tr>\n      <th>39</th>\n      <td>0.688591</td>\n      <td>0.538862</td>\n    </tr>\n    <tr>\n      <th>40</th>\n      <td>0.538862</td>\n      <td>0.949485</td>\n    </tr>\n    <tr>\n      <th>41</th>\n      <td>0.949485</td>\n      <td>0.948618</td>\n    </tr>\n    <tr>\n      <th>42</th>\n      <td>0.948618</td>\n      <td>0.792477</td>\n    </tr>\n    <tr>\n      <th>43</th>\n      <td>0.792477</td>\n      <td>0.800921</td>\n    </tr>\n    <tr>\n      <th>44</th>\n      <td>0.800921</td>\n      <td>0.673068</td>\n    </tr>\n    <tr>\n      <th>45</th>\n      <td>0.673068</td>\n      <td>0.894785</td>\n    </tr>\n    <tr>\n      <th>46</th>\n      <td>0.894785</td>\n      <td>0.416792</td>\n    </tr>\n  </tbody>\n</table>\n</div>"
     },
     "execution_count": 354,
     "metadata": {},
     "output_type": "execute_result"
    }
   ],
   "source": [
    "new"
   ],
   "metadata": {
    "collapsed": false,
    "pycharm": {
     "name": "#%%\n"
    }
   }
  },
  {
   "cell_type": "code",
   "execution_count": 402,
   "outputs": [],
   "source": [
    "trainX,trainY=train.X.to_numpy(),train.Y.to_numpy()\n",
    "testX,testY=test.X.to_numpy(),test.Y.to_numpy()"
   ],
   "metadata": {
    "collapsed": false,
    "pycharm": {
     "name": "#%%\n"
    }
   }
  },
  {
   "cell_type": "code",
   "execution_count": 403,
   "outputs": [],
   "source": [
    "trainX=trainX.reshape(trainX.shape[0],1)\n",
    "# trainY=trainY.reshape(trainY.shape[0],1)\n",
    "testX=testX.reshape(testX.shape[0],1)\n",
    "# testY=testY.reshape(testY.shape[0],1)\n"
   ],
   "metadata": {
    "collapsed": false,
    "pycharm": {
     "name": "#%%\n"
    }
   }
  },
  {
   "cell_type": "code",
   "execution_count": 404,
   "outputs": [],
   "source": [
    "# reshape input to be [samples, time steps, features]\n",
    "trainX = numpy.reshape(trainX, (trainX.shape[0], 1, trainX.shape[1]))\n",
    "testX = numpy.reshape(testX, (testX.shape[0], 1, testX.shape[1]))"
   ],
   "metadata": {
    "collapsed": false,
    "pycharm": {
     "name": "#%%\n"
    }
   }
  },
  {
   "cell_type": "code",
   "execution_count": 405,
   "outputs": [
    {
     "name": "stdout",
     "output_type": "stream",
     "text": [
      "Epoch 1/100\n",
      "31/31 - 2s - loss: 0.4847 - 2s/epoch - 48ms/step\n",
      "Epoch 2/100\n",
      "31/31 - 0s - loss: 0.4088 - 26ms/epoch - 852us/step\n",
      "Epoch 3/100\n",
      "31/31 - 0s - loss: 0.3425 - 28ms/epoch - 890us/step\n",
      "Epoch 4/100\n",
      "31/31 - 0s - loss: 0.2842 - 26ms/epoch - 824us/step\n",
      "Epoch 5/100\n",
      "31/31 - 0s - loss: 0.2310 - 26ms/epoch - 824us/step\n",
      "Epoch 6/100\n",
      "31/31 - 0s - loss: 0.1864 - 26ms/epoch - 837us/step\n",
      "Epoch 7/100\n",
      "31/31 - 0s - loss: 0.1476 - 26ms/epoch - 843us/step\n",
      "Epoch 8/100\n",
      "31/31 - 0s - loss: 0.1175 - 25ms/epoch - 814us/step\n",
      "Epoch 9/100\n",
      "31/31 - 0s - loss: 0.0947 - 26ms/epoch - 841us/step\n",
      "Epoch 10/100\n",
      "31/31 - 0s - loss: 0.0773 - 27ms/epoch - 871us/step\n",
      "Epoch 11/100\n",
      "31/31 - 0s - loss: 0.0665 - 27ms/epoch - 864us/step\n",
      "Epoch 12/100\n",
      "31/31 - 0s - loss: 0.0596 - 27ms/epoch - 869us/step\n",
      "Epoch 13/100\n",
      "31/31 - 0s - loss: 0.0547 - 24ms/epoch - 781us/step\n",
      "Epoch 14/100\n",
      "31/31 - 0s - loss: 0.0522 - 25ms/epoch - 793us/step\n",
      "Epoch 15/100\n",
      "31/31 - 0s - loss: 0.0498 - 24ms/epoch - 765us/step\n",
      "Epoch 16/100\n",
      "31/31 - 0s - loss: 0.0485 - 24ms/epoch - 763us/step\n",
      "Epoch 17/100\n",
      "31/31 - 0s - loss: 0.0472 - 24ms/epoch - 764us/step\n",
      "Epoch 18/100\n",
      "31/31 - 0s - loss: 0.0462 - 25ms/epoch - 791us/step\n",
      "Epoch 19/100\n",
      "31/31 - 0s - loss: 0.0453 - 23ms/epoch - 752us/step\n",
      "Epoch 20/100\n",
      "31/31 - 0s - loss: 0.0440 - 24ms/epoch - 768us/step\n",
      "Epoch 21/100\n",
      "31/31 - 0s - loss: 0.0434 - 26ms/epoch - 838us/step\n",
      "Epoch 22/100\n",
      "31/31 - 0s - loss: 0.0423 - 25ms/epoch - 818us/step\n",
      "Epoch 23/100\n",
      "31/31 - 0s - loss: 0.0415 - 24ms/epoch - 787us/step\n",
      "Epoch 24/100\n",
      "31/31 - 0s - loss: 0.0408 - 24ms/epoch - 783us/step\n",
      "Epoch 25/100\n",
      "31/31 - 0s - loss: 0.0395 - 24ms/epoch - 770us/step\n",
      "Epoch 26/100\n",
      "31/31 - 0s - loss: 0.0388 - 24ms/epoch - 771us/step\n",
      "Epoch 27/100\n",
      "31/31 - 0s - loss: 0.0380 - 24ms/epoch - 783us/step\n",
      "Epoch 28/100\n",
      "31/31 - 0s - loss: 0.0369 - 24ms/epoch - 763us/step\n",
      "Epoch 29/100\n",
      "31/31 - 0s - loss: 0.0363 - 24ms/epoch - 790us/step\n",
      "Epoch 30/100\n",
      "31/31 - 0s - loss: 0.0354 - 24ms/epoch - 773us/step\n",
      "Epoch 31/100\n",
      "31/31 - 0s - loss: 0.0348 - 24ms/epoch - 765us/step\n",
      "Epoch 32/100\n",
      "31/31 - 0s - loss: 0.0340 - 24ms/epoch - 785us/step\n",
      "Epoch 33/100\n",
      "31/31 - 0s - loss: 0.0333 - 24ms/epoch - 765us/step\n",
      "Epoch 34/100\n",
      "31/31 - 0s - loss: 0.0328 - 25ms/epoch - 822us/step\n",
      "Epoch 35/100\n",
      "31/31 - 0s - loss: 0.0322 - 27ms/epoch - 872us/step\n",
      "Epoch 36/100\n",
      "31/31 - 0s - loss: 0.0316 - 28ms/epoch - 897us/step\n",
      "Epoch 37/100\n",
      "31/31 - 0s - loss: 0.0307 - 26ms/epoch - 853us/step\n",
      "Epoch 38/100\n",
      "31/31 - 0s - loss: 0.0301 - 25ms/epoch - 819us/step\n",
      "Epoch 39/100\n",
      "31/31 - 0s - loss: 0.0297 - 26ms/epoch - 848us/step\n",
      "Epoch 40/100\n",
      "31/31 - 0s - loss: 0.0290 - 25ms/epoch - 814us/step\n",
      "Epoch 41/100\n",
      "31/31 - 0s - loss: 0.0284 - 26ms/epoch - 825us/step\n",
      "Epoch 42/100\n",
      "31/31 - 0s - loss: 0.0280 - 25ms/epoch - 809us/step\n",
      "Epoch 43/100\n",
      "31/31 - 0s - loss: 0.0278 - 25ms/epoch - 809us/step\n",
      "Epoch 44/100\n",
      "31/31 - 0s - loss: 0.0271 - 28ms/epoch - 892us/step\n",
      "Epoch 45/100\n",
      "31/31 - 0s - loss: 0.0266 - 25ms/epoch - 800us/step\n",
      "Epoch 46/100\n",
      "31/31 - 0s - loss: 0.0263 - 25ms/epoch - 798us/step\n",
      "Epoch 47/100\n",
      "31/31 - 0s - loss: 0.0260 - 28ms/epoch - 890us/step\n",
      "Epoch 48/100\n",
      "31/31 - 0s - loss: 0.0255 - 26ms/epoch - 837us/step\n",
      "Epoch 49/100\n",
      "31/31 - 0s - loss: 0.0253 - 25ms/epoch - 814us/step\n",
      "Epoch 50/100\n",
      "31/31 - 0s - loss: 0.0248 - 26ms/epoch - 824us/step\n",
      "Epoch 51/100\n",
      "31/31 - 0s - loss: 0.0246 - 24ms/epoch - 783us/step\n",
      "Epoch 52/100\n",
      "31/31 - 0s - loss: 0.0242 - 24ms/epoch - 789us/step\n",
      "Epoch 53/100\n",
      "31/31 - 0s - loss: 0.0243 - 27ms/epoch - 858us/step\n",
      "Epoch 54/100\n",
      "31/31 - 0s - loss: 0.0235 - 27ms/epoch - 881us/step\n",
      "Epoch 55/100\n",
      "31/31 - 0s - loss: 0.0233 - 26ms/epoch - 848us/step\n",
      "Epoch 56/100\n",
      "31/31 - 0s - loss: 0.0230 - 26ms/epoch - 826us/step\n",
      "Epoch 57/100\n",
      "31/31 - 0s - loss: 0.0239 - 25ms/epoch - 804us/step\n",
      "Epoch 58/100\n",
      "31/31 - 0s - loss: 0.0230 - 25ms/epoch - 803us/step\n",
      "Epoch 59/100\n",
      "31/31 - 0s - loss: 0.0229 - 26ms/epoch - 832us/step\n",
      "Epoch 60/100\n",
      "31/31 - 0s - loss: 0.0222 - 26ms/epoch - 829us/step\n",
      "Epoch 61/100\n",
      "31/31 - 0s - loss: 0.0225 - 25ms/epoch - 812us/step\n",
      "Epoch 62/100\n",
      "31/31 - 0s - loss: 0.0218 - 26ms/epoch - 827us/step\n",
      "Epoch 63/100\n",
      "31/31 - 0s - loss: 0.0219 - 25ms/epoch - 794us/step\n",
      "Epoch 64/100\n",
      "31/31 - 0s - loss: 0.0222 - 26ms/epoch - 851us/step\n",
      "Epoch 65/100\n",
      "31/31 - 0s - loss: 0.0217 - 23ms/epoch - 750us/step\n",
      "Epoch 66/100\n",
      "31/31 - 0s - loss: 0.0216 - 25ms/epoch - 809us/step\n",
      "Epoch 67/100\n",
      "31/31 - 0s - loss: 0.0212 - 24ms/epoch - 763us/step\n",
      "Epoch 68/100\n",
      "31/31 - 0s - loss: 0.0216 - 24ms/epoch - 775us/step\n",
      "Epoch 69/100\n",
      "31/31 - 0s - loss: 0.0210 - 24ms/epoch - 777us/step\n",
      "Epoch 70/100\n",
      "31/31 - 0s - loss: 0.0211 - 25ms/epoch - 806us/step\n",
      "Epoch 71/100\n",
      "31/31 - 0s - loss: 0.0208 - 24ms/epoch - 775us/step\n",
      "Epoch 72/100\n",
      "31/31 - 0s - loss: 0.0207 - 24ms/epoch - 787us/step\n",
      "Epoch 73/100\n",
      "31/31 - 0s - loss: 0.0206 - 25ms/epoch - 818us/step\n",
      "Epoch 74/100\n",
      "31/31 - 0s - loss: 0.0207 - 24ms/epoch - 765us/step\n",
      "Epoch 75/100\n",
      "31/31 - 0s - loss: 0.0207 - 25ms/epoch - 802us/step\n",
      "Epoch 76/100\n",
      "31/31 - 0s - loss: 0.0203 - 24ms/epoch - 785us/step\n",
      "Epoch 77/100\n",
      "31/31 - 0s - loss: 0.0204 - 27ms/epoch - 872us/step\n",
      "Epoch 78/100\n",
      "31/31 - 0s - loss: 0.0207 - 25ms/epoch - 809us/step\n",
      "Epoch 79/100\n",
      "31/31 - 0s - loss: 0.0204 - 25ms/epoch - 800us/step\n",
      "Epoch 80/100\n",
      "31/31 - 0s - loss: 0.0202 - 25ms/epoch - 791us/step\n",
      "Epoch 81/100\n",
      "31/31 - 0s - loss: 0.0201 - 24ms/epoch - 784us/step\n",
      "Epoch 82/100\n",
      "31/31 - 0s - loss: 0.0202 - 24ms/epoch - 774us/step\n",
      "Epoch 83/100\n",
      "31/31 - 0s - loss: 0.0200 - 24ms/epoch - 783us/step\n",
      "Epoch 84/100\n",
      "31/31 - 0s - loss: 0.0203 - 26ms/epoch - 832us/step\n",
      "Epoch 85/100\n",
      "31/31 - 0s - loss: 0.0200 - 25ms/epoch - 792us/step\n",
      "Epoch 86/100\n",
      "31/31 - 0s - loss: 0.0200 - 24ms/epoch - 765us/step\n",
      "Epoch 87/100\n",
      "31/31 - 0s - loss: 0.0201 - 25ms/epoch - 792us/step\n",
      "Epoch 88/100\n",
      "31/31 - 0s - loss: 0.0199 - 24ms/epoch - 772us/step\n",
      "Epoch 89/100\n",
      "31/31 - 0s - loss: 0.0200 - 24ms/epoch - 778us/step\n",
      "Epoch 90/100\n",
      "31/31 - 0s - loss: 0.0197 - 25ms/epoch - 798us/step\n",
      "Epoch 91/100\n",
      "31/31 - 0s - loss: 0.0198 - 25ms/epoch - 793us/step\n",
      "Epoch 92/100\n",
      "31/31 - 0s - loss: 0.0201 - 25ms/epoch - 794us/step\n",
      "Epoch 93/100\n",
      "31/31 - 0s - loss: 0.0198 - 25ms/epoch - 796us/step\n",
      "Epoch 94/100\n",
      "31/31 - 0s - loss: 0.0197 - 23ms/epoch - 747us/step\n",
      "Epoch 95/100\n",
      "31/31 - 0s - loss: 0.0195 - 24ms/epoch - 785us/step\n",
      "Epoch 96/100\n",
      "31/31 - 0s - loss: 0.0196 - 24ms/epoch - 790us/step\n",
      "Epoch 97/100\n",
      "31/31 - 0s - loss: 0.0202 - 26ms/epoch - 840us/step\n",
      "Epoch 98/100\n",
      "31/31 - 0s - loss: 0.0195 - 26ms/epoch - 840us/step\n",
      "Epoch 99/100\n",
      "31/31 - 0s - loss: 0.0195 - 25ms/epoch - 816us/step\n",
      "Epoch 100/100\n",
      "31/31 - 0s - loss: 0.0196 - 25ms/epoch - 814us/step\n"
     ]
    },
    {
     "data": {
      "text/plain": "<keras.callbacks.History at 0x7faecc5da2b0>"
     },
     "execution_count": 405,
     "metadata": {},
     "output_type": "execute_result"
    }
   ],
   "source": [
    "# create and fit the LSTM network\n",
    "look_back=1\n",
    "model = Sequential()\n",
    "model.add(LSTM(4, input_shape=(1, look_back)))\n",
    "model.add(Dense(1))\n",
    "model.compile(loss='mean_squared_error', optimizer='adam')\n",
    "model.fit(trainX, trainY, epochs=100, batch_size=1, verbose=2)"
   ],
   "metadata": {
    "collapsed": false,
    "pycharm": {
     "name": "#%%\n"
    }
   }
  },
  {
   "cell_type": "code",
   "execution_count": 406,
   "outputs": [
    {
     "name": "stdout",
     "output_type": "stream",
     "text": [
      "1/1 [==============================] - 0s 264ms/step\n",
      "1/1 [==============================] - 0s 11ms/step\n",
      "Train Score: 10.38 RMSE\n",
      "Test Score: 14.72 RMSE\n"
     ]
    }
   ],
   "source": [
    "# make predictions\n",
    "trainPredict = model.predict(trainX)\n",
    "testPredict = model.predict(testX)\n",
    "# invert predictions\n",
    "trainPredict = scaler.inverse_transform(trainPredict)\n",
    "trainY = scaler.inverse_transform([trainY])\n",
    "testPredict = scaler.inverse_transform(testPredict)\n",
    "testY = scaler.inverse_transform([testY])\n",
    "# calculate root mean squared error\n",
    "trainScore = math.sqrt(mean_squared_error(trainY[0], trainPredict[:,0]))\n",
    "print('Train Score: %.2f RMSE' % (trainScore))\n",
    "testScore = math.sqrt(mean_squared_error(testY[0], testPredict[:,0]))\n",
    "print('Test Score: %.2f RMSE' % (testScore))"
   ],
   "metadata": {
    "collapsed": false,
    "pycharm": {
     "name": "#%%\n"
    }
   }
  },
  {
   "cell_type": "code",
   "execution_count": 413,
   "outputs": [
    {
     "data": {
      "text/plain": "<Figure size 432x288 with 1 Axes>",
      "image/png": "[encoded data removed]"
     },
     "metadata": {
      "needs_background": "light"
     },
     "output_type": "display_data"
    }
   ],
   "source": [
    "# shift train predictions for plotting\n",
    "trainPredictPlot = numpy.empty_like(data)\n",
    "trainPredictPlot[:, :] = numpy.nan\n",
    "trainPredictPlot[look_back:len(trainPredict)+look_back, :] = trainPredict\n",
    "# shift test predictions for plotting\n",
    "# testPredictPlot = numpy.empty_like(data)\n",
    "# testPredictPlot[:, :] = numpy.nan\n",
    "# testPredictPlot[len(trainPredict)+(look_back*2)+1:len(data)-1, :] = testPredict\n",
    "# plot baseline and predictions\n",
    "plt.plot(scaler.inverse_transform(data))\n",
    "plt.plot(trainPredictPlot)\n",
    "# plt.plot(testPredictPlot)\n",
    "plt.show()"
   ],
   "metadata": {
    "collapsed": false,
    "pycharm": {
     "name": "#%%\n"
    }
   }
  },
  {
   "cell_type": "code",
   "execution_count": 409,
   "outputs": [
    {
     "data": {
      "text/plain": "48"
     },
     "execution_count": 409,
     "metadata": {},
     "output_type": "execute_result"
    }
   ],
   "source": [
    "len(data)"
   ],
   "metadata": {
    "collapsed": false,
    "pycharm": {
     "name": "#%%\n"
    }
   }
  },
  {
   "cell_type": "code",
   "execution_count": 410,
   "outputs": [
    {
     "data": {
      "text/plain": "31"
     },
     "execution_count": 410,
     "metadata": {},
     "output_type": "execute_result"
    }
   ],
   "source": [
    "len(trainPredict)"
   ],
   "metadata": {
    "collapsed": false,
    "pycharm": {
     "name": "#%%\n"
    }
   }
  },
  {
   "cell_type": "code",
   "execution_count": 412,
   "outputs": [
    {
     "data": {
      "text/plain": "array([[nan],\n       [nan],\n       [nan],\n       [nan],\n       [nan],\n       [nan],\n       [nan],\n       [nan],\n       [nan],\n       [nan],\n       [nan],\n       [nan],\n       [nan]], dtype=float32)"
     },
     "execution_count": 412,
     "metadata": {},
     "output_type": "execute_result"
    }
   ],
   "source": [
    "testPredictPlot[len(trainPredict)+(look_back*2)+1:len(data)-1, :]"
   ],
   "metadata": {
    "collapsed": false,
    "pycharm": {
     "name": "#%%\n"
    }
   }
  },
  {
   "cell_type": "code",
   "execution_count": 411,
   "outputs": [
    {
     "data": {
      "text/plain": "array([[90.38107 ],\n       [87.67941 ],\n       [87.470055],\n       [80.39924 ],\n       [99.15828 ],\n       [85.41187 ],\n       [89.98882 ],\n       [92.89534 ],\n       [81.4969  ],\n       [72.072136],\n       [96.53826 ],\n       [96.49154 ],\n       [87.71685 ],\n       [88.209404],\n       [80.54327 ],\n       [93.54703 ]], dtype=float32)"
     },
     "execution_count": 411,
     "metadata": {},
     "output_type": "execute_result"
    }
   ],
   "source": [
    "testPredict"
   ],
   "metadata": {
    "collapsed": false,
    "pycharm": {
     "name": "#%%\n"
    }
   }
  },
  {
   "cell_type": "code",
   "execution_count": null,
   "outputs": [],
   "source": [],
   "metadata": {
    "collapsed": false,
    "pycharm": {
     "name": "#%%\n"
    }
   }
  }
 ],
 "metadata": {
  "interpreter": {
   "hash": "397704579725e15f5c7cb49fe5f0341eb7531c82d19f2c29d197e8b64ab5776b"
  },
  "kernelspec": {
   "display_name": "Python 3.9.0 64-bit",
   "language": "python",
   "name": "python3"
  },
  "language_info": {
   "codemirror_mode": {
    "name": "ipython",
    "version": 3
   },
   "file_extension": ".py",
   "mimetype": "text/x-python",
   "name": "python",
   "nbconvert_exporter": "python",
   "pygments_lexer": "ipython3",
   "version": "3.9.0"
  },
  "orig_nbformat": 4
 },
 "nbformat": 4,
 "nbformat_minor": 2
}