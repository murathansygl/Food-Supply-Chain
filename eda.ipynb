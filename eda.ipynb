{
 "cells": [
  {
   "cell_type": "code",
   "execution_count": 54,
   "metadata": {
    "pycharm": {
     "name": "#%%\n"
    }
   },
   "outputs": [],
   "source": [
    "import pandas as pd\n",
    "import numpy as np"
   ]
  },
  {
   "cell_type": "code",
   "execution_count": 55,
   "metadata": {
    "pycharm": {
     "name": "#%%\n"
    }
   },
   "outputs": [],
   "source": [
    "df=pd.read_csv(\"Data.csv\")"
   ]
  },
  {
   "cell_type": "code",
   "execution_count": 56,
   "metadata": {
    "pycharm": {
     "name": "#%%\n"
    }
   },
   "outputs": [],
   "source": [
    "df=df[[\"country\",\"commodity\",\"year\",\"loss_percentage\",\"activity\",\"food_supply_stage\",\"cause_of_loss\"]]"
   ]
  },
  {
   "cell_type": "code",
   "execution_count": 57,
   "outputs": [
    {
     "data": {
      "text/plain": "       country                      commodity  year  loss_percentage  \\\n0      Myanmar  Groundnuts, excluding shelled  2009             5.22   \n1      Myanmar  Groundnuts, excluding shelled  2008             5.43   \n2      Myanmar  Groundnuts, excluding shelled  2007             5.61   \n3      Myanmar  Groundnuts, excluding shelled  2006             5.40   \n4      Myanmar  Groundnuts, excluding shelled  2005             5.00   \n...        ...                            ...   ...              ...   \n27768   Zambia                         Millet  2000             1.27   \n27769   Zambia                         Millet  2000             2.50   \n27770   Zambia                         Millet  2000             1.00   \n27771   Zambia                         Millet  2000             2.38   \n27772   Zambia                         Millet  2000             3.44   \n\n                 activity   food_supply_stage cause_of_loss  \n0                     NaN  Whole supply chain           NaN  \n1                     NaN  Whole supply chain           NaN  \n2                     NaN  Whole supply chain           NaN  \n3                     NaN  Whole supply chain           NaN  \n4                     NaN  Whole supply chain           NaN  \n...                   ...                 ...           ...  \n27768             Storage                Farm           NaN  \n27769           Winnowing                Farm           NaN  \n27770      Transportation           Transport           NaN  \n27771             Storage             Storage           NaN  \n27772  Drying, Harvesting             Harvest           NaN  \n\n[27773 rows x 7 columns]",
      "text/html": "<div>\n<style scoped>\n    .dataframe tbody tr th:only-of-type {\n        vertical-align: middle;\n    }\n\n    .dataframe tbody tr th {\n        vertical-align: top;\n    }\n\n    .dataframe thead th {\n        text-align: right;\n    }\n</style>\n<table border=\"1\" class=\"dataframe\">\n  <thead>\n    <tr style=\"text-align: right;\">\n      <th></th>\n      <th>country</th>\n      <th>commodity</th>\n      <th>year</th>\n      <th>loss_percentage</th>\n      <th>activity</th>\n      <th>food_supply_stage</th>\n      <th>cause_of_loss</th>\n    </tr>\n  </thead>\n  <tbody>\n    <tr>\n      <th>0</th>\n      <td>Myanmar</td>\n      <td>Groundnuts, excluding shelled</td>\n      <td>2009</td>\n      <td>5.22</td>\n      <td>NaN</td>\n      <td>Whole supply chain</td>\n      <td>NaN</td>\n    </tr>\n    <tr>\n      <th>1</th>\n      <td>Myanmar</td>\n      <td>Groundnuts, excluding shelled</td>\n      <td>2008</td>\n      <td>5.43</td>\n      <td>NaN</td>\n      <td>Whole supply chain</td>\n      <td>NaN</td>\n    </tr>\n    <tr>\n      <th>2</th>\n      <td>Myanmar</td>\n      <td>Groundnuts, excluding shelled</td>\n      <td>2007</td>\n      <td>5.61</td>\n      <td>NaN</td>\n      <td>Whole supply chain</td>\n      <td>NaN</td>\n    </tr>\n    <tr>\n      <th>3</th>\n      <td>Myanmar</td>\n      <td>Groundnuts, excluding shelled</td>\n      <td>2006</td>\n      <td>5.40</td>\n      <td>NaN</td>\n      <td>Whole supply chain</td>\n      <td>NaN</td>\n    </tr>\n    <tr>\n      <th>4</th>\n      <td>Myanmar</td>\n      <td>Groundnuts, excluding shelled</td>\n      <td>2005</td>\n      <td>5.00</td>\n      <td>NaN</td>\n      <td>Whole supply chain</td>\n      <td>NaN</td>\n    </tr>\n    <tr>\n      <th>...</th>\n      <td>...</td>\n      <td>...</td>\n      <td>...</td>\n      <td>...</td>\n      <td>...</td>\n      <td>...</td>\n      <td>...</td>\n    </tr>\n    <tr>\n      <th>27768</th>\n      <td>Zambia</td>\n      <td>Millet</td>\n      <td>2000</td>\n      <td>1.27</td>\n      <td>Storage</td>\n      <td>Farm</td>\n      <td>NaN</td>\n    </tr>\n    <tr>\n      <th>27769</th>\n      <td>Zambia</td>\n      <td>Millet</td>\n      <td>2000</td>\n      <td>2.50</td>\n      <td>Winnowing</td>\n      <td>Farm</td>\n      <td>NaN</td>\n    </tr>\n    <tr>\n      <th>27770</th>\n      <td>Zambia</td>\n      <td>Millet</td>\n      <td>2000</td>\n      <td>1.00</td>\n      <td>Transportation</td>\n      <td>Transport</td>\n      <td>NaN</td>\n    </tr>\n    <tr>\n      <th>27771</th>\n      <td>Zambia</td>\n      <td>Millet</td>\n      <td>2000</td>\n      <td>2.38</td>\n      <td>Storage</td>\n      <td>Storage</td>\n      <td>NaN</td>\n    </tr>\n    <tr>\n      <th>27772</th>\n      <td>Zambia</td>\n      <td>Millet</td>\n      <td>2000</td>\n      <td>3.44</td>\n      <td>Drying, Harvesting</td>\n      <td>Harvest</td>\n      <td>NaN</td>\n    </tr>\n  </tbody>\n</table>\n<p>27773 rows × 7 columns</p>\n</div>"
     },
     "execution_count": 57,
     "metadata": {},
     "output_type": "execute_result"
    }
   ],
   "source": [
    "df"
   ],
   "metadata": {
    "collapsed": false,
    "pycharm": {
     "name": "#%%\n"
    }
   }
  },
  {
   "cell_type": "code",
   "execution_count": 58,
   "outputs": [
    {
     "name": "stdout",
     "output_type": "stream",
     "text": [
      "<class 'pandas.core.frame.DataFrame'>\n",
      "RangeIndex: 27773 entries, 0 to 27772\n",
      "Data columns (total 7 columns):\n",
      " #   Column             Non-Null Count  Dtype  \n",
      "---  ------             --------------  -----  \n",
      " 0   country            27773 non-null  object \n",
      " 1   commodity          27773 non-null  object \n",
      " 2   year               27773 non-null  int64  \n",
      " 3   loss_percentage    27773 non-null  float64\n",
      " 4   activity           20873 non-null  object \n",
      " 5   food_supply_stage  27724 non-null  object \n",
      " 6   cause_of_loss      925 non-null    object \n",
      "dtypes: float64(1), int64(1), object(5)\n",
      "memory usage: 1.5+ MB\n"
     ]
    }
   ],
   "source": [
    "df.info()"
   ],
   "metadata": {
    "collapsed": false,
    "pycharm": {
     "name": "#%%\n"
    }
   }
  },
  {
   "cell_type": "markdown",
   "source": [
    "# First Level Grouping"
   ],
   "metadata": {
    "collapsed": false,
    "pycharm": {
     "name": "#%% md\n"
    }
   }
  },
  {
   "cell_type": "code",
   "execution_count": 67,
   "metadata": {
    "pycharm": {
     "name": "#%%\n"
    }
   },
   "outputs": [
    {
     "data": {
      "text/plain": "                          commodity  year  loss_percentage  activity  \\\ncountry                                                                \nUnited States of America       1527  1527             1527       179   \nIndia                          1178  1178             1178       941   \nEthiopia                        885   885              885       869   \nKenya                           883   883              883       845   \nUganda                          787   787              787       778   \n...                             ...   ...              ...       ...   \nAfrica                            1     1                1         0   \nSaint Kitts and Nevis             1     1                1         0   \nGabon                             1     1                1         0   \nAlgeria                           1     1                1         0   \nChina,Taiwan                      1     1                1         0   \n\n                          food_supply_stage  cause_of_loss  \ncountry                                                     \nUnited States of America               1527              6  \nIndia                                  1178            132  \nEthiopia                                885             13  \nKenya                                   879             50  \nUganda                                  787              8  \n...                                     ...            ...  \nAfrica                                    1              0  \nSaint Kitts and Nevis                     1              0  \nGabon                                     1              1  \nAlgeria                                   1              0  \nChina,Taiwan                              1              0  \n\n[149 rows x 6 columns]",
      "text/html": "<div>\n<style scoped>\n    .dataframe tbody tr th:only-of-type {\n        vertical-align: middle;\n    }\n\n    .dataframe tbody tr th {\n        vertical-align: top;\n    }\n\n    .dataframe thead th {\n        text-align: right;\n    }\n</style>\n<table border=\"1\" class=\"dataframe\">\n  <thead>\n    <tr style=\"text-align: right;\">\n      <th></th>\n      <th>commodity</th>\n      <th>year</th>\n      <th>loss_percentage</th>\n      <th>activity</th>\n      <th>food_supply_stage</th>\n      <th>cause_of_loss</th>\n    </tr>\n    <tr>\n      <th>country</th>\n      <th></th>\n      <th></th>\n      <th></th>\n      <th></th>\n      <th></th>\n      <th></th>\n    </tr>\n  </thead>\n  <tbody>\n    <tr>\n      <th>United States of America</th>\n      <td>1527</td>\n      <td>1527</td>\n      <td>1527</td>\n      <td>179</td>\n      <td>1527</td>\n      <td>6</td>\n    </tr>\n    <tr>\n      <th>India</th>\n      <td>1178</td>\n      <td>1178</td>\n      <td>1178</td>\n      <td>941</td>\n      <td>1178</td>\n      <td>132</td>\n    </tr>\n    <tr>\n      <th>Ethiopia</th>\n      <td>885</td>\n      <td>885</td>\n      <td>885</td>\n      <td>869</td>\n      <td>885</td>\n      <td>13</td>\n    </tr>\n    <tr>\n      <th>Kenya</th>\n      <td>883</td>\n      <td>883</td>\n      <td>883</td>\n      <td>845</td>\n      <td>879</td>\n      <td>50</td>\n    </tr>\n    <tr>\n      <th>Uganda</th>\n      <td>787</td>\n      <td>787</td>\n      <td>787</td>\n      <td>778</td>\n      <td>787</td>\n      <td>8</td>\n    </tr>\n    <tr>\n      <th>...</th>\n      <td>...</td>\n      <td>...</td>\n      <td>...</td>\n      <td>...</td>\n      <td>...</td>\n      <td>...</td>\n    </tr>\n    <tr>\n      <th>Africa</th>\n      <td>1</td>\n      <td>1</td>\n      <td>1</td>\n      <td>0</td>\n      <td>1</td>\n      <td>0</td>\n    </tr>\n    <tr>\n      <th>Saint Kitts and Nevis</th>\n      <td>1</td>\n      <td>1</td>\n      <td>1</td>\n      <td>0</td>\n      <td>1</td>\n      <td>0</td>\n    </tr>\n    <tr>\n      <th>Gabon</th>\n      <td>1</td>\n      <td>1</td>\n      <td>1</td>\n      <td>0</td>\n      <td>1</td>\n      <td>1</td>\n    </tr>\n    <tr>\n      <th>Algeria</th>\n      <td>1</td>\n      <td>1</td>\n      <td>1</td>\n      <td>0</td>\n      <td>1</td>\n      <td>0</td>\n    </tr>\n    <tr>\n      <th>China,Taiwan</th>\n      <td>1</td>\n      <td>1</td>\n      <td>1</td>\n      <td>0</td>\n      <td>1</td>\n      <td>0</td>\n    </tr>\n  </tbody>\n</table>\n<p>149 rows × 6 columns</p>\n</div>"
     },
     "execution_count": 67,
     "metadata": {},
     "output_type": "execute_result"
    }
   ],
   "source": [
    "df.groupby(\"country\").count().sort_values(by=[\"loss_percentage\"], ascending=False)   #Grouped based on the country"
   ]
  },
  {
   "cell_type": "code",
   "execution_count": 68,
   "outputs": [
    {
     "data": {
      "text/plain": "                                             country  year  loss_percentage  \\\ncommodity                                                                     \nMaize (corn)                                    5246  5246             5246   \nRice                                            4299  4299             4299   \nMillet                                          3398  3398             3398   \nSorghum                                         3390  3390             3390   \nWheat                                           2052  2052             2052   \n...                                              ...   ...              ...   \nFlour of buckwheat                                 1     1                1   \nTapioca of cassava                                 1     1                1   \nOther tropical and subtropical fruits, n.e.        1     1                1   \nOther legumes, for forage                          1     1                1   \nMeat of pig with the bone, fresh or chilled        1     1                1   \n\n                                             activity  food_supply_stage  \\\ncommodity                                                                  \nMaize (corn)                                     4825               5234   \nRice                                             4030               4295   \nMillet                                           3358               3398   \nSorghum                                          3317               3390   \nWheat                                            1668               2051   \n...                                               ...                ...   \nFlour of buckwheat                                  1                  1   \nTapioca of cassava                                  0                  1   \nOther tropical and subtropical fruits, n.e.         0                  1   \nOther legumes, for forage                           0                  1   \nMeat of pig with the bone, fresh or chilled         0                  1   \n\n                                             cause_of_loss  \ncommodity                                                   \nMaize (corn)                                            78  \nRice                                                    68  \nMillet                                                   6  \nSorghum                                                  8  \nWheat                                                   36  \n...                                                    ...  \nFlour of buckwheat                                       0  \nTapioca of cassava                                       1  \nOther tropical and subtropical fruits, n.e.              0  \nOther legumes, for forage                                0  \nMeat of pig with the bone, fresh or chilled              0  \n\n[195 rows x 6 columns]",
      "text/html": "<div>\n<style scoped>\n    .dataframe tbody tr th:only-of-type {\n        vertical-align: middle;\n    }\n\n    .dataframe tbody tr th {\n        vertical-align: top;\n    }\n\n    .dataframe thead th {\n        text-align: right;\n    }\n</style>\n<table border=\"1\" class=\"dataframe\">\n  <thead>\n    <tr style=\"text-align: right;\">\n      <th></th>\n      <th>country</th>\n      <th>year</th>\n      <th>loss_percentage</th>\n      <th>activity</th>\n      <th>food_supply_stage</th>\n      <th>cause_of_loss</th>\n    </tr>\n    <tr>\n      <th>commodity</th>\n      <th></th>\n      <th></th>\n      <th></th>\n      <th></th>\n      <th></th>\n      <th></th>\n    </tr>\n  </thead>\n  <tbody>\n    <tr>\n      <th>Maize (corn)</th>\n      <td>5246</td>\n      <td>5246</td>\n      <td>5246</td>\n      <td>4825</td>\n      <td>5234</td>\n      <td>78</td>\n    </tr>\n    <tr>\n      <th>Rice</th>\n      <td>4299</td>\n      <td>4299</td>\n      <td>4299</td>\n      <td>4030</td>\n      <td>4295</td>\n      <td>68</td>\n    </tr>\n    <tr>\n      <th>Millet</th>\n      <td>3398</td>\n      <td>3398</td>\n      <td>3398</td>\n      <td>3358</td>\n      <td>3398</td>\n      <td>6</td>\n    </tr>\n    <tr>\n      <th>Sorghum</th>\n      <td>3390</td>\n      <td>3390</td>\n      <td>3390</td>\n      <td>3317</td>\n      <td>3390</td>\n      <td>8</td>\n    </tr>\n    <tr>\n      <th>Wheat</th>\n      <td>2052</td>\n      <td>2052</td>\n      <td>2052</td>\n      <td>1668</td>\n      <td>2051</td>\n      <td>36</td>\n    </tr>\n    <tr>\n      <th>...</th>\n      <td>...</td>\n      <td>...</td>\n      <td>...</td>\n      <td>...</td>\n      <td>...</td>\n      <td>...</td>\n    </tr>\n    <tr>\n      <th>Flour of buckwheat</th>\n      <td>1</td>\n      <td>1</td>\n      <td>1</td>\n      <td>1</td>\n      <td>1</td>\n      <td>0</td>\n    </tr>\n    <tr>\n      <th>Tapioca of cassava</th>\n      <td>1</td>\n      <td>1</td>\n      <td>1</td>\n      <td>0</td>\n      <td>1</td>\n      <td>1</td>\n    </tr>\n    <tr>\n      <th>Other tropical and subtropical fruits, n.e.</th>\n      <td>1</td>\n      <td>1</td>\n      <td>1</td>\n      <td>0</td>\n      <td>1</td>\n      <td>0</td>\n    </tr>\n    <tr>\n      <th>Other legumes, for forage</th>\n      <td>1</td>\n      <td>1</td>\n      <td>1</td>\n      <td>0</td>\n      <td>1</td>\n      <td>0</td>\n    </tr>\n    <tr>\n      <th>Meat of pig with the bone, fresh or chilled</th>\n      <td>1</td>\n      <td>1</td>\n      <td>1</td>\n      <td>0</td>\n      <td>1</td>\n      <td>0</td>\n    </tr>\n  </tbody>\n</table>\n<p>195 rows × 6 columns</p>\n</div>"
     },
     "execution_count": 68,
     "metadata": {},
     "output_type": "execute_result"
    }
   ],
   "source": [
    "df.groupby(\"commodity\").count().sort_values(by=[\"loss_percentage\"], ascending=False)   #Grouped based on the commodity"
   ],
   "metadata": {
    "collapsed": false,
    "pycharm": {
     "name": "#%%\n"
    }
   }
  },
  {
   "cell_type": "code",
   "execution_count": 69,
   "outputs": [
    {
     "data": {
      "text/plain": "      country  commodity  loss_percentage  activity  food_supply_stage  \\\nyear                                                                     \n2014     1843       1843             1843      1428               1843   \n2006     1647       1647             1647      1281               1645   \n2009     1607       1607             1607      1288               1607   \n2016     1514       1514             1514      1012               1511   \n2010     1496       1496             1496      1014               1496   \n2013     1433       1433             1433      1049               1412   \n2001     1408       1408             1408       972               1408   \n2008     1380       1380             1380      1114               1380   \n2002     1326       1326             1326       919               1322   \n2011     1310       1310             1310       978               1303   \n2015     1284       1284             1284       914               1284   \n2003     1271       1271             1271       884               1270   \n2005     1250       1250             1250       856               1248   \n2000     1236       1236             1236       861               1235   \n2017     1221       1221             1221       876               1221   \n2004     1205       1205             1205       853               1204   \n2007     1187       1187             1187       860               1182   \n2018     1184       1184             1184      1019               1184   \n2012     1170       1170             1170       935               1168   \n2019      913        913              913       876                913   \n2020      862        862              862       858                862   \n2021       26         26               26        26                 26   \n\n      cause_of_loss  \nyear                 \n2014            160  \n2006              4  \n2009            133  \n2016             13  \n2010             73  \n2013            142  \n2001             76  \n2008              5  \n2002             16  \n2011             89  \n2015             36  \n2003              5  \n2005              6  \n2000              6  \n2017             57  \n2004              2  \n2007             20  \n2018             55  \n2012             27  \n2019              0  \n2020              0  \n2021              0  ",
      "text/html": "<div>\n<style scoped>\n    .dataframe tbody tr th:only-of-type {\n        vertical-align: middle;\n    }\n\n    .dataframe tbody tr th {\n        vertical-align: top;\n    }\n\n    .dataframe thead th {\n        text-align: right;\n    }\n</style>\n<table border=\"1\" class=\"dataframe\">\n  <thead>\n    <tr style=\"text-align: right;\">\n      <th></th>\n      <th>country</th>\n      <th>commodity</th>\n      <th>loss_percentage</th>\n      <th>activity</th>\n      <th>food_supply_stage</th>\n      <th>cause_of_loss</th>\n    </tr>\n    <tr>\n      <th>year</th>\n      <th></th>\n      <th></th>\n      <th></th>\n      <th></th>\n      <th></th>\n      <th></th>\n    </tr>\n  </thead>\n  <tbody>\n    <tr>\n      <th>2014</th>\n      <td>1843</td>\n      <td>1843</td>\n      <td>1843</td>\n      <td>1428</td>\n      <td>1843</td>\n      <td>160</td>\n    </tr>\n    <tr>\n      <th>2006</th>\n      <td>1647</td>\n      <td>1647</td>\n      <td>1647</td>\n      <td>1281</td>\n      <td>1645</td>\n      <td>4</td>\n    </tr>\n    <tr>\n      <th>2009</th>\n      <td>1607</td>\n      <td>1607</td>\n      <td>1607</td>\n      <td>1288</td>\n      <td>1607</td>\n      <td>133</td>\n    </tr>\n    <tr>\n      <th>2016</th>\n      <td>1514</td>\n      <td>1514</td>\n      <td>1514</td>\n      <td>1012</td>\n      <td>1511</td>\n      <td>13</td>\n    </tr>\n    <tr>\n      <th>2010</th>\n      <td>1496</td>\n      <td>1496</td>\n      <td>1496</td>\n      <td>1014</td>\n      <td>1496</td>\n      <td>73</td>\n    </tr>\n    <tr>\n      <th>2013</th>\n      <td>1433</td>\n      <td>1433</td>\n      <td>1433</td>\n      <td>1049</td>\n      <td>1412</td>\n      <td>142</td>\n    </tr>\n    <tr>\n      <th>2001</th>\n      <td>1408</td>\n      <td>1408</td>\n      <td>1408</td>\n      <td>972</td>\n      <td>1408</td>\n      <td>76</td>\n    </tr>\n    <tr>\n      <th>2008</th>\n      <td>1380</td>\n      <td>1380</td>\n      <td>1380</td>\n      <td>1114</td>\n      <td>1380</td>\n      <td>5</td>\n    </tr>\n    <tr>\n      <th>2002</th>\n      <td>1326</td>\n      <td>1326</td>\n      <td>1326</td>\n      <td>919</td>\n      <td>1322</td>\n      <td>16</td>\n    </tr>\n    <tr>\n      <th>2011</th>\n      <td>1310</td>\n      <td>1310</td>\n      <td>1310</td>\n      <td>978</td>\n      <td>1303</td>\n      <td>89</td>\n    </tr>\n    <tr>\n      <th>2015</th>\n      <td>1284</td>\n      <td>1284</td>\n      <td>1284</td>\n      <td>914</td>\n      <td>1284</td>\n      <td>36</td>\n    </tr>\n    <tr>\n      <th>2003</th>\n      <td>1271</td>\n      <td>1271</td>\n      <td>1271</td>\n      <td>884</td>\n      <td>1270</td>\n      <td>5</td>\n    </tr>\n    <tr>\n      <th>2005</th>\n      <td>1250</td>\n      <td>1250</td>\n      <td>1250</td>\n      <td>856</td>\n      <td>1248</td>\n      <td>6</td>\n    </tr>\n    <tr>\n      <th>2000</th>\n      <td>1236</td>\n      <td>1236</td>\n      <td>1236</td>\n      <td>861</td>\n      <td>1235</td>\n      <td>6</td>\n    </tr>\n    <tr>\n      <th>2017</th>\n      <td>1221</td>\n      <td>1221</td>\n      <td>1221</td>\n      <td>876</td>\n      <td>1221</td>\n      <td>57</td>\n    </tr>\n    <tr>\n      <th>2004</th>\n      <td>1205</td>\n      <td>1205</td>\n      <td>1205</td>\n      <td>853</td>\n      <td>1204</td>\n      <td>2</td>\n    </tr>\n    <tr>\n      <th>2007</th>\n      <td>1187</td>\n      <td>1187</td>\n      <td>1187</td>\n      <td>860</td>\n      <td>1182</td>\n      <td>20</td>\n    </tr>\n    <tr>\n      <th>2018</th>\n      <td>1184</td>\n      <td>1184</td>\n      <td>1184</td>\n      <td>1019</td>\n      <td>1184</td>\n      <td>55</td>\n    </tr>\n    <tr>\n      <th>2012</th>\n      <td>1170</td>\n      <td>1170</td>\n      <td>1170</td>\n      <td>935</td>\n      <td>1168</td>\n      <td>27</td>\n    </tr>\n    <tr>\n      <th>2019</th>\n      <td>913</td>\n      <td>913</td>\n      <td>913</td>\n      <td>876</td>\n      <td>913</td>\n      <td>0</td>\n    </tr>\n    <tr>\n      <th>2020</th>\n      <td>862</td>\n      <td>862</td>\n      <td>862</td>\n      <td>858</td>\n      <td>862</td>\n      <td>0</td>\n    </tr>\n    <tr>\n      <th>2021</th>\n      <td>26</td>\n      <td>26</td>\n      <td>26</td>\n      <td>26</td>\n      <td>26</td>\n      <td>0</td>\n    </tr>\n  </tbody>\n</table>\n</div>"
     },
     "execution_count": 69,
     "metadata": {},
     "output_type": "execute_result"
    }
   ],
   "source": [
    "df.groupby(\"year\").count().sort_values(by=[\"loss_percentage\"], ascending=False)   #Grouped based on the year"
   ],
   "metadata": {
    "collapsed": false,
    "pycharm": {
     "name": "#%%\n"
    }
   }
  },
  {
   "cell_type": "code",
   "execution_count": 70,
   "outputs": [
    {
     "data": {
      "text/plain": "                                               country  commodity  year  \\\nactivity                                                                  \nStorage                                           5145       5145  5145   \nTransportation                                    4918       4918  4918   \nDrying, Harvesting                                3315       3315  3315   \nShelling, Threshing                               3170       3170  3170   \nWinnowing                                         1261       1261  1261   \n...                                                ...        ...   ...   \nHarvesting, Packaging, Sorting, Storage              1          1     1   \nHarvesting, Storage                                  1          1     1   \nLoading, Marketing, Transportation, Unloading        1          1     1   \nMarketing, Retailing                                 1          1     1   \nGrading, Transportation                              1          1     1   \n\n                                               loss_percentage  \\\nactivity                                                         \nStorage                                                   5145   \nTransportation                                            4918   \nDrying, Harvesting                                        3315   \nShelling, Threshing                                       3170   \nWinnowing                                                 1261   \n...                                                        ...   \nHarvesting, Packaging, Sorting, Storage                      1   \nHarvesting, Storage                                          1   \nLoading, Marketing, Transportation, Unloading                1   \nMarketing, Retailing                                         1   \nGrading, Transportation                                      1   \n\n                                               food_supply_stage  \\\nactivity                                                           \nStorage                                                     5145   \nTransportation                                              4918   \nDrying, Harvesting                                          3315   \nShelling, Threshing                                         3170   \nWinnowing                                                   1261   \n...                                                          ...   \nHarvesting, Packaging, Sorting, Storage                        1   \nHarvesting, Storage                                            1   \nLoading, Marketing, Transportation, Unloading                  1   \nMarketing, Retailing                                           1   \nGrading, Transportation                                        1   \n\n                                               cause_of_loss  \nactivity                                                      \nStorage                                                  107  \nTransportation                                            11  \nDrying, Harvesting                                         0  \nShelling, Threshing                                        1  \nWinnowing                                                  0  \n...                                                      ...  \nHarvesting, Packaging, Sorting, Storage                    0  \nHarvesting, Storage                                        0  \nLoading, Marketing, Transportation, Unloading              0  \nMarketing, Retailing                                       1  \nGrading, Transportation                                    0  \n\n[110 rows x 6 columns]",
      "text/html": "<div>\n<style scoped>\n    .dataframe tbody tr th:only-of-type {\n        vertical-align: middle;\n    }\n\n    .dataframe tbody tr th {\n        vertical-align: top;\n    }\n\n    .dataframe thead th {\n        text-align: right;\n    }\n</style>\n<table border=\"1\" class=\"dataframe\">\n  <thead>\n    <tr style=\"text-align: right;\">\n      <th></th>\n      <th>country</th>\n      <th>commodity</th>\n      <th>year</th>\n      <th>loss_percentage</th>\n      <th>food_supply_stage</th>\n      <th>cause_of_loss</th>\n    </tr>\n    <tr>\n      <th>activity</th>\n      <th></th>\n      <th></th>\n      <th></th>\n      <th></th>\n      <th></th>\n      <th></th>\n    </tr>\n  </thead>\n  <tbody>\n    <tr>\n      <th>Storage</th>\n      <td>5145</td>\n      <td>5145</td>\n      <td>5145</td>\n      <td>5145</td>\n      <td>5145</td>\n      <td>107</td>\n    </tr>\n    <tr>\n      <th>Transportation</th>\n      <td>4918</td>\n      <td>4918</td>\n      <td>4918</td>\n      <td>4918</td>\n      <td>4918</td>\n      <td>11</td>\n    </tr>\n    <tr>\n      <th>Drying, Harvesting</th>\n      <td>3315</td>\n      <td>3315</td>\n      <td>3315</td>\n      <td>3315</td>\n      <td>3315</td>\n      <td>0</td>\n    </tr>\n    <tr>\n      <th>Shelling, Threshing</th>\n      <td>3170</td>\n      <td>3170</td>\n      <td>3170</td>\n      <td>3170</td>\n      <td>3170</td>\n      <td>1</td>\n    </tr>\n    <tr>\n      <th>Winnowing</th>\n      <td>1261</td>\n      <td>1261</td>\n      <td>1261</td>\n      <td>1261</td>\n      <td>1261</td>\n      <td>0</td>\n    </tr>\n    <tr>\n      <th>...</th>\n      <td>...</td>\n      <td>...</td>\n      <td>...</td>\n      <td>...</td>\n      <td>...</td>\n      <td>...</td>\n    </tr>\n    <tr>\n      <th>Harvesting, Packaging, Sorting, Storage</th>\n      <td>1</td>\n      <td>1</td>\n      <td>1</td>\n      <td>1</td>\n      <td>1</td>\n      <td>0</td>\n    </tr>\n    <tr>\n      <th>Harvesting, Storage</th>\n      <td>1</td>\n      <td>1</td>\n      <td>1</td>\n      <td>1</td>\n      <td>1</td>\n      <td>0</td>\n    </tr>\n    <tr>\n      <th>Loading, Marketing, Transportation, Unloading</th>\n      <td>1</td>\n      <td>1</td>\n      <td>1</td>\n      <td>1</td>\n      <td>1</td>\n      <td>0</td>\n    </tr>\n    <tr>\n      <th>Marketing, Retailing</th>\n      <td>1</td>\n      <td>1</td>\n      <td>1</td>\n      <td>1</td>\n      <td>1</td>\n      <td>1</td>\n    </tr>\n    <tr>\n      <th>Grading, Transportation</th>\n      <td>1</td>\n      <td>1</td>\n      <td>1</td>\n      <td>1</td>\n      <td>1</td>\n      <td>0</td>\n    </tr>\n  </tbody>\n</table>\n<p>110 rows × 6 columns</p>\n</div>"
     },
     "execution_count": 70,
     "metadata": {},
     "output_type": "execute_result"
    }
   ],
   "source": [
    "df.groupby(\"activity\").count().sort_values(by=[\"loss_percentage\"], ascending=False)   #Grouped based on the activity"
   ],
   "metadata": {
    "collapsed": false,
    "pycharm": {
     "name": "#%%\n"
    }
   }
  },
  {
   "cell_type": "code",
   "execution_count": 71,
   "metadata": {
    "pycharm": {
     "name": "#%%\n"
    }
   },
   "outputs": [
    {
     "data": {
      "text/plain": "                    country  commodity   year  loss_percentage  activity  \\\nfood_supply_stage                                                          \nFarm                  12368      12368  12368            12368     12167   \nWhole supply chain     5918       5918   5918             5918       175   \nHarvest                3688       3688   3688             3688      3576   \nStorage                2525       2525   2525             2525      2326   \nTransport              1849       1849   1849             1849      1779   \nRetail                  438        438    438              438       227   \nProcessing              262        262    262              262       184   \nWholesale               257        257    257              257       147   \nHouseholds              167        167    167              167       156   \nTrader                   76         76     76               76        38   \nPost-harvest             53         53     53               53        14   \nExport                   50         50     50               50        32   \nPacking                  17         17     17               17         9   \nFood Services            14         14     14               14        12   \nPre-harvest              11         11     11               11         0   \nGrading                  11         11     11               11         9   \nDistribution             10         10     10               10        10   \nMarket                    9          9      9                9         9   \nStacking                  1          1      1                1         0   \n\n                    cause_of_loss  \nfood_supply_stage                  \nFarm                          182  \nWhole supply chain             79  \nHarvest                        78  \nStorage                       212  \nTransport                      55  \nRetail                         95  \nProcessing                     71  \nWholesale                      93  \nHouseholds                      0  \nTrader                         10  \nPost-harvest                    6  \nExport                         19  \nPacking                         8  \nFood Services                   0  \nPre-harvest                     7  \nGrading                         2  \nDistribution                    0  \nMarket                          0  \nStacking                        0  ",
      "text/html": "<div>\n<style scoped>\n    .dataframe tbody tr th:only-of-type {\n        vertical-align: middle;\n    }\n\n    .dataframe tbody tr th {\n        vertical-align: top;\n    }\n\n    .dataframe thead th {\n        text-align: right;\n    }\n</style>\n<table border=\"1\" class=\"dataframe\">\n  <thead>\n    <tr style=\"text-align: right;\">\n      <th></th>\n      <th>country</th>\n      <th>commodity</th>\n      <th>year</th>\n      <th>loss_percentage</th>\n      <th>activity</th>\n      <th>cause_of_loss</th>\n    </tr>\n    <tr>\n      <th>food_supply_stage</th>\n      <th></th>\n      <th></th>\n      <th></th>\n      <th></th>\n      <th></th>\n      <th></th>\n    </tr>\n  </thead>\n  <tbody>\n    <tr>\n      <th>Farm</th>\n      <td>12368</td>\n      <td>12368</td>\n      <td>12368</td>\n      <td>12368</td>\n      <td>12167</td>\n      <td>182</td>\n    </tr>\n    <tr>\n      <th>Whole supply chain</th>\n      <td>5918</td>\n      <td>5918</td>\n      <td>5918</td>\n      <td>5918</td>\n      <td>175</td>\n      <td>79</td>\n    </tr>\n    <tr>\n      <th>Harvest</th>\n      <td>3688</td>\n      <td>3688</td>\n      <td>3688</td>\n      <td>3688</td>\n      <td>3576</td>\n      <td>78</td>\n    </tr>\n    <tr>\n      <th>Storage</th>\n      <td>2525</td>\n      <td>2525</td>\n      <td>2525</td>\n      <td>2525</td>\n      <td>2326</td>\n      <td>212</td>\n    </tr>\n    <tr>\n      <th>Transport</th>\n      <td>1849</td>\n      <td>1849</td>\n      <td>1849</td>\n      <td>1849</td>\n      <td>1779</td>\n      <td>55</td>\n    </tr>\n    <tr>\n      <th>Retail</th>\n      <td>438</td>\n      <td>438</td>\n      <td>438</td>\n      <td>438</td>\n      <td>227</td>\n      <td>95</td>\n    </tr>\n    <tr>\n      <th>Processing</th>\n      <td>262</td>\n      <td>262</td>\n      <td>262</td>\n      <td>262</td>\n      <td>184</td>\n      <td>71</td>\n    </tr>\n    <tr>\n      <th>Wholesale</th>\n      <td>257</td>\n      <td>257</td>\n      <td>257</td>\n      <td>257</td>\n      <td>147</td>\n      <td>93</td>\n    </tr>\n    <tr>\n      <th>Households</th>\n      <td>167</td>\n      <td>167</td>\n      <td>167</td>\n      <td>167</td>\n      <td>156</td>\n      <td>0</td>\n    </tr>\n    <tr>\n      <th>Trader</th>\n      <td>76</td>\n      <td>76</td>\n      <td>76</td>\n      <td>76</td>\n      <td>38</td>\n      <td>10</td>\n    </tr>\n    <tr>\n      <th>Post-harvest</th>\n      <td>53</td>\n      <td>53</td>\n      <td>53</td>\n      <td>53</td>\n      <td>14</td>\n      <td>6</td>\n    </tr>\n    <tr>\n      <th>Export</th>\n      <td>50</td>\n      <td>50</td>\n      <td>50</td>\n      <td>50</td>\n      <td>32</td>\n      <td>19</td>\n    </tr>\n    <tr>\n      <th>Packing</th>\n      <td>17</td>\n      <td>17</td>\n      <td>17</td>\n      <td>17</td>\n      <td>9</td>\n      <td>8</td>\n    </tr>\n    <tr>\n      <th>Food Services</th>\n      <td>14</td>\n      <td>14</td>\n      <td>14</td>\n      <td>14</td>\n      <td>12</td>\n      <td>0</td>\n    </tr>\n    <tr>\n      <th>Pre-harvest</th>\n      <td>11</td>\n      <td>11</td>\n      <td>11</td>\n      <td>11</td>\n      <td>0</td>\n      <td>7</td>\n    </tr>\n    <tr>\n      <th>Grading</th>\n      <td>11</td>\n      <td>11</td>\n      <td>11</td>\n      <td>11</td>\n      <td>9</td>\n      <td>2</td>\n    </tr>\n    <tr>\n      <th>Distribution</th>\n      <td>10</td>\n      <td>10</td>\n      <td>10</td>\n      <td>10</td>\n      <td>10</td>\n      <td>0</td>\n    </tr>\n    <tr>\n      <th>Market</th>\n      <td>9</td>\n      <td>9</td>\n      <td>9</td>\n      <td>9</td>\n      <td>9</td>\n      <td>0</td>\n    </tr>\n    <tr>\n      <th>Stacking</th>\n      <td>1</td>\n      <td>1</td>\n      <td>1</td>\n      <td>1</td>\n      <td>0</td>\n      <td>0</td>\n    </tr>\n  </tbody>\n</table>\n</div>"
     },
     "execution_count": 71,
     "metadata": {},
     "output_type": "execute_result"
    }
   ],
   "source": [
    "df.groupby(\"food_supply_stage\").count().sort_values(by=[\"loss_percentage\"], ascending=False) #Grouped based on the food supply stage"
   ]
  },
  {
   "cell_type": "code",
   "execution_count": 72,
   "outputs": [
    {
     "data": {
      "text/plain": "                                                    country  commodity  year  \\\ncause_of_loss                                                                  \nPhysical Losses                                          87         87    87   \nInsect pest damage                                       54         54    54   \nmain causes of this were a mismatch in supply a...       41         41    41   \nMechanical Damage                                        36         36    36   \nDecay                                                    26         26    26   \n...                                                     ...        ...   ...   \nParboiled Rice Parboiling                                 1          1     1   \nParboiled Rice Storage                                    1          1     1   \nParboiled Ricedrying                                      1          1     1   \nParboiling                                                1          1     1   \nMost important: After harvest: Quality (appeara...        1          1     1   \n\n                                                    loss_percentage  activity  \\\ncause_of_loss                                                                   \nPhysical Losses                                                  87        12   \nInsect pest damage                                               54        54   \nmain causes of this were a mismatch in supply a...               41         9   \nMechanical Damage                                                36        34   \nDecay                                                            26        26   \n...                                                             ...       ...   \nParboiled Rice Parboiling                                         1         0   \nParboiled Rice Storage                                            1         0   \nParboiled Ricedrying                                              1         0   \nParboiling                                                        1         0   \nMost important: After harvest: Quality (appeara...                1         0   \n\n                                                    food_supply_stage  \ncause_of_loss                                                          \nPhysical Losses                                                    87  \nInsect pest damage                                                 54  \nmain causes of this were a mismatch in supply a...                 41  \nMechanical Damage                                                  36  \nDecay                                                              26  \n...                                                               ...  \nParboiled Rice Parboiling                                           1  \nParboiled Rice Storage                                              1  \nParboiled Ricedrying                                                1  \nParboiling                                                          1  \nMost important: After harvest: Quality (appeara...                  1  \n\n[357 rows x 6 columns]",
      "text/html": "<div>\n<style scoped>\n    .dataframe tbody tr th:only-of-type {\n        vertical-align: middle;\n    }\n\n    .dataframe tbody tr th {\n        vertical-align: top;\n    }\n\n    .dataframe thead th {\n        text-align: right;\n    }\n</style>\n<table border=\"1\" class=\"dataframe\">\n  <thead>\n    <tr style=\"text-align: right;\">\n      <th></th>\n      <th>country</th>\n      <th>commodity</th>\n      <th>year</th>\n      <th>loss_percentage</th>\n      <th>activity</th>\n      <th>food_supply_stage</th>\n    </tr>\n    <tr>\n      <th>cause_of_loss</th>\n      <th></th>\n      <th></th>\n      <th></th>\n      <th></th>\n      <th></th>\n      <th></th>\n    </tr>\n  </thead>\n  <tbody>\n    <tr>\n      <th>Physical Losses</th>\n      <td>87</td>\n      <td>87</td>\n      <td>87</td>\n      <td>87</td>\n      <td>12</td>\n      <td>87</td>\n    </tr>\n    <tr>\n      <th>Insect pest damage</th>\n      <td>54</td>\n      <td>54</td>\n      <td>54</td>\n      <td>54</td>\n      <td>54</td>\n      <td>54</td>\n    </tr>\n    <tr>\n      <th>main causes of this were a mismatch in supply and demand or cosmetic and quality related</th>\n      <td>41</td>\n      <td>41</td>\n      <td>41</td>\n      <td>41</td>\n      <td>9</td>\n      <td>41</td>\n    </tr>\n    <tr>\n      <th>Mechanical Damage</th>\n      <td>36</td>\n      <td>36</td>\n      <td>36</td>\n      <td>36</td>\n      <td>34</td>\n      <td>36</td>\n    </tr>\n    <tr>\n      <th>Decay</th>\n      <td>26</td>\n      <td>26</td>\n      <td>26</td>\n      <td>26</td>\n      <td>26</td>\n      <td>26</td>\n    </tr>\n    <tr>\n      <th>...</th>\n      <td>...</td>\n      <td>...</td>\n      <td>...</td>\n      <td>...</td>\n      <td>...</td>\n      <td>...</td>\n    </tr>\n    <tr>\n      <th>Parboiled Rice Parboiling</th>\n      <td>1</td>\n      <td>1</td>\n      <td>1</td>\n      <td>1</td>\n      <td>0</td>\n      <td>1</td>\n    </tr>\n    <tr>\n      <th>Parboiled Rice Storage</th>\n      <td>1</td>\n      <td>1</td>\n      <td>1</td>\n      <td>1</td>\n      <td>0</td>\n      <td>1</td>\n    </tr>\n    <tr>\n      <th>Parboiled Ricedrying</th>\n      <td>1</td>\n      <td>1</td>\n      <td>1</td>\n      <td>1</td>\n      <td>0</td>\n      <td>1</td>\n    </tr>\n    <tr>\n      <th>Parboiling</th>\n      <td>1</td>\n      <td>1</td>\n      <td>1</td>\n      <td>1</td>\n      <td>0</td>\n      <td>1</td>\n    </tr>\n    <tr>\n      <th>Most important: After harvest: Quality (appearance, size), plant diseases and damage. During harvest: Weather conditions, plant diseases and harvesting procedures.</th>\n      <td>1</td>\n      <td>1</td>\n      <td>1</td>\n      <td>1</td>\n      <td>0</td>\n      <td>1</td>\n    </tr>\n  </tbody>\n</table>\n<p>357 rows × 6 columns</p>\n</div>"
     },
     "execution_count": 72,
     "metadata": {},
     "output_type": "execute_result"
    }
   ],
   "source": [
    "df.groupby(\"cause_of_loss\").count().sort_values(by=[\"loss_percentage\"], ascending=False)   #Grouped based on the cause of loss"
   ],
   "metadata": {
    "collapsed": false,
    "pycharm": {
     "name": "#%%\n"
    }
   }
  },
  {
   "cell_type": "markdown",
   "source": [
    "# SECOND LEVEL GROUPING"
   ],
   "metadata": {
    "collapsed": false,
    "pycharm": {
     "name": "#%% md\n"
    }
   }
  },
  {
   "cell_type": "code",
   "execution_count": 65,
   "outputs": [
    {
     "data": {
      "text/plain": "                           year  loss_percentage  activity  food_supply_stage  \\\ncountry     commodity                                                           \nAfghanistan Barley            4                4         0                  4   \n            Maize (corn)      4                4         0                  4   \n            Rice              4                4         0                  4   \n            Wheat            17               17         0                 17   \nAfrica      Maize (corn)      1                1         0                  1   \n...                         ...              ...       ...                ...   \nZambia      Wheat            84               84        84                 84   \nZimbabwe    Cow peas, dry    70               70        70                 70   \n            Maize (corn)    147              147       147                147   \n            Millet          147              147       147                147   \n            Sorghum         108              108       108                108   \n\n                           cause_of_loss  \ncountry     commodity                     \nAfghanistan Barley                     0  \n            Maize (corn)               0  \n            Rice                       0  \n            Wheat                      0  \nAfrica      Maize (corn)               0  \n...                                  ...  \nZambia      Wheat                      0  \nZimbabwe    Cow peas, dry             54  \n            Maize (corn)               0  \n            Millet                     0  \n            Sorghum                    0  \n\n[1326 rows x 5 columns]",
      "text/html": "<div>\n<style scoped>\n    .dataframe tbody tr th:only-of-type {\n        vertical-align: middle;\n    }\n\n    .dataframe tbody tr th {\n        vertical-align: top;\n    }\n\n    .dataframe thead th {\n        text-align: right;\n    }\n</style>\n<table border=\"1\" class=\"dataframe\">\n  <thead>\n    <tr style=\"text-align: right;\">\n      <th></th>\n      <th></th>\n      <th>year</th>\n      <th>loss_percentage</th>\n      <th>activity</th>\n      <th>food_supply_stage</th>\n      <th>cause_of_loss</th>\n    </tr>\n    <tr>\n      <th>country</th>\n      <th>commodity</th>\n      <th></th>\n      <th></th>\n      <th></th>\n      <th></th>\n      <th></th>\n    </tr>\n  </thead>\n  <tbody>\n    <tr>\n      <th rowspan=\"4\" valign=\"top\">Afghanistan</th>\n      <th>Barley</th>\n      <td>4</td>\n      <td>4</td>\n      <td>0</td>\n      <td>4</td>\n      <td>0</td>\n    </tr>\n    <tr>\n      <th>Maize (corn)</th>\n      <td>4</td>\n      <td>4</td>\n      <td>0</td>\n      <td>4</td>\n      <td>0</td>\n    </tr>\n    <tr>\n      <th>Rice</th>\n      <td>4</td>\n      <td>4</td>\n      <td>0</td>\n      <td>4</td>\n      <td>0</td>\n    </tr>\n    <tr>\n      <th>Wheat</th>\n      <td>17</td>\n      <td>17</td>\n      <td>0</td>\n      <td>17</td>\n      <td>0</td>\n    </tr>\n    <tr>\n      <th>Africa</th>\n      <th>Maize (corn)</th>\n      <td>1</td>\n      <td>1</td>\n      <td>0</td>\n      <td>1</td>\n      <td>0</td>\n    </tr>\n    <tr>\n      <th>...</th>\n      <th>...</th>\n      <td>...</td>\n      <td>...</td>\n      <td>...</td>\n      <td>...</td>\n      <td>...</td>\n    </tr>\n    <tr>\n      <th>Zambia</th>\n      <th>Wheat</th>\n      <td>84</td>\n      <td>84</td>\n      <td>84</td>\n      <td>84</td>\n      <td>0</td>\n    </tr>\n    <tr>\n      <th rowspan=\"4\" valign=\"top\">Zimbabwe</th>\n      <th>Cow peas, dry</th>\n      <td>70</td>\n      <td>70</td>\n      <td>70</td>\n      <td>70</td>\n      <td>54</td>\n    </tr>\n    <tr>\n      <th>Maize (corn)</th>\n      <td>147</td>\n      <td>147</td>\n      <td>147</td>\n      <td>147</td>\n      <td>0</td>\n    </tr>\n    <tr>\n      <th>Millet</th>\n      <td>147</td>\n      <td>147</td>\n      <td>147</td>\n      <td>147</td>\n      <td>0</td>\n    </tr>\n    <tr>\n      <th>Sorghum</th>\n      <td>108</td>\n      <td>108</td>\n      <td>108</td>\n      <td>108</td>\n      <td>0</td>\n    </tr>\n  </tbody>\n</table>\n<p>1326 rows × 5 columns</p>\n</div>"
     },
     "execution_count": 65,
     "metadata": {},
     "output_type": "execute_result"
    }
   ],
   "source": [
    "df.groupby([\"country\",\"commodity\"]).count() #Grouped based on the country"
   ],
   "metadata": {
    "collapsed": false,
    "pycharm": {
     "name": "#%%\n"
    }
   }
  },
  {
   "cell_type": "code",
   "execution_count": 73,
   "outputs": [],
   "source": [
    "#added"
   ],
   "metadata": {
    "collapsed": false,
    "pycharm": {
     "name": "#%%\n"
    }
   }
  },
  {
   "cell_type": "code",
   "execution_count": null,
   "outputs": [],
   "source": [],
   "metadata": {
    "collapsed": false,
    "pycharm": {
     "name": "#%%\n"
    }
   }
  }
 ],
 "metadata": {
  "interpreter": {
   "hash": "397704579725e15f5c7cb49fe5f0341eb7531c82d19f2c29d197e8b64ab5776b"
  },
  "kernelspec": {
   "display_name": "Python 3.9.0 64-bit",
   "language": "python",
   "name": "python3"
  },
  "language_info": {
   "codemirror_mode": {
    "name": "ipython",
    "version": 3
   },
   "file_extension": ".py",
   "mimetype": "text/x-python",
   "name": "python",
   "nbconvert_exporter": "python",
   "pygments_lexer": "ipython3",
   "version": "3.9.0"
  },
  "orig_nbformat": 4
 },
 "nbformat": 4,
 "nbformat_minor": 2
}