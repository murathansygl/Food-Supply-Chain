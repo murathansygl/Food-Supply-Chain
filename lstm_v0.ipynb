{
 "cells": [
  {
   "cell_type": "code",
   "execution_count": 123,
   "metadata": {
    "collapsed": true,
    "pycharm": {
     "name": "#%%\n"
    }
   },
   "outputs": [],
   "source": [
    "import pandas as pd\n",
    "import plotly.express as px\n",
    "import numpy as np\n",
    "from keras import Sequential\n",
    "from keras.layers import LSTM, Dropout, Dense\n",
    "from keras.wrappers.scikit_learn import KerasRegressor\n",
    "from plotly.subplots import make_subplots\n",
    "import plotly.graph_objects as go\n",
    "from sklearn.model_selection import GridSearchCV\n",
    "from sklearn import metrics\n",
    "from sklearn.preprocessing import LabelEncoder,MinMaxScaler\n",
    "import tensorflow as tf"
   ]
  },
  {
   "cell_type": "code",
   "execution_count": 81,
   "outputs": [
    {
     "data": {
      "text/plain": "       country                      commodity  year  loss_percentage  \\\n0      Myanmar  Groundnuts, excluding shelled  2009             5.22   \n1      Myanmar  Groundnuts, excluding shelled  2008             5.43   \n2      Myanmar  Groundnuts, excluding shelled  2007             5.61   \n3      Myanmar  Groundnuts, excluding shelled  2006             5.40   \n4      Myanmar  Groundnuts, excluding shelled  2005             5.00   \n...        ...                            ...   ...              ...   \n27768   Zambia                         Millet  2000             1.27   \n27769   Zambia                         Millet  2000             2.50   \n27770   Zambia                         Millet  2000             1.00   \n27771   Zambia                         Millet  2000             2.38   \n27772   Zambia                         Millet  2000             3.44   \n\n                 activity   food_supply_stage cause_of_loss  \n0                     NaN  Whole supply chain           NaN  \n1                     NaN  Whole supply chain           NaN  \n2                     NaN  Whole supply chain           NaN  \n3                     NaN  Whole supply chain           NaN  \n4                     NaN  Whole supply chain           NaN  \n...                   ...                 ...           ...  \n27768             Storage                Farm           NaN  \n27769           Winnowing                Farm           NaN  \n27770      Transportation           Transport           NaN  \n27771             Storage             Storage           NaN  \n27772  Drying, Harvesting             Harvest           NaN  \n\n[27773 rows x 7 columns]",
      "text/html": "<div>\n<style scoped>\n    .dataframe tbody tr th:only-of-type {\n        vertical-align: middle;\n    }\n\n    .dataframe tbody tr th {\n        vertical-align: top;\n    }\n\n    .dataframe thead th {\n        text-align: right;\n    }\n</style>\n<table border=\"1\" class=\"dataframe\">\n  <thead>\n    <tr style=\"text-align: right;\">\n      <th></th>\n      <th>country</th>\n      <th>commodity</th>\n      <th>year</th>\n      <th>loss_percentage</th>\n      <th>activity</th>\n      <th>food_supply_stage</th>\n      <th>cause_of_loss</th>\n    </tr>\n  </thead>\n  <tbody>\n    <tr>\n      <th>0</th>\n      <td>Myanmar</td>\n      <td>Groundnuts, excluding shelled</td>\n      <td>2009</td>\n      <td>5.22</td>\n      <td>NaN</td>\n      <td>Whole supply chain</td>\n      <td>NaN</td>\n    </tr>\n    <tr>\n      <th>1</th>\n      <td>Myanmar</td>\n      <td>Groundnuts, excluding shelled</td>\n      <td>2008</td>\n      <td>5.43</td>\n      <td>NaN</td>\n      <td>Whole supply chain</td>\n      <td>NaN</td>\n    </tr>\n    <tr>\n      <th>2</th>\n      <td>Myanmar</td>\n      <td>Groundnuts, excluding shelled</td>\n      <td>2007</td>\n      <td>5.61</td>\n      <td>NaN</td>\n      <td>Whole supply chain</td>\n      <td>NaN</td>\n    </tr>\n    <tr>\n      <th>3</th>\n      <td>Myanmar</td>\n      <td>Groundnuts, excluding shelled</td>\n      <td>2006</td>\n      <td>5.40</td>\n      <td>NaN</td>\n      <td>Whole supply chain</td>\n      <td>NaN</td>\n    </tr>\n    <tr>\n      <th>4</th>\n      <td>Myanmar</td>\n      <td>Groundnuts, excluding shelled</td>\n      <td>2005</td>\n      <td>5.00</td>\n      <td>NaN</td>\n      <td>Whole supply chain</td>\n      <td>NaN</td>\n    </tr>\n    <tr>\n      <th>...</th>\n      <td>...</td>\n      <td>...</td>\n      <td>...</td>\n      <td>...</td>\n      <td>...</td>\n      <td>...</td>\n      <td>...</td>\n    </tr>\n    <tr>\n      <th>27768</th>\n      <td>Zambia</td>\n      <td>Millet</td>\n      <td>2000</td>\n      <td>1.27</td>\n      <td>Storage</td>\n      <td>Farm</td>\n      <td>NaN</td>\n    </tr>\n    <tr>\n      <th>27769</th>\n      <td>Zambia</td>\n      <td>Millet</td>\n      <td>2000</td>\n      <td>2.50</td>\n      <td>Winnowing</td>\n      <td>Farm</td>\n      <td>NaN</td>\n    </tr>\n    <tr>\n      <th>27770</th>\n      <td>Zambia</td>\n      <td>Millet</td>\n      <td>2000</td>\n      <td>1.00</td>\n      <td>Transportation</td>\n      <td>Transport</td>\n      <td>NaN</td>\n    </tr>\n    <tr>\n      <th>27771</th>\n      <td>Zambia</td>\n      <td>Millet</td>\n      <td>2000</td>\n      <td>2.38</td>\n      <td>Storage</td>\n      <td>Storage</td>\n      <td>NaN</td>\n    </tr>\n    <tr>\n      <th>27772</th>\n      <td>Zambia</td>\n      <td>Millet</td>\n      <td>2000</td>\n      <td>3.44</td>\n      <td>Drying, Harvesting</td>\n      <td>Harvest</td>\n      <td>NaN</td>\n    </tr>\n  </tbody>\n</table>\n<p>27773 rows × 7 columns</p>\n</div>"
     },
     "execution_count": 81,
     "metadata": {},
     "output_type": "execute_result"
    }
   ],
   "source": [
    "\n",
    "df = pd.read_csv(\"Data/Data.csv\")\n",
    "df = df[[\"country\", \"commodity\", \"year\", \"loss_percentage\", \"activity\", \"food_supply_stage\", \"cause_of_loss\"]]\n",
    "df"
   ],
   "metadata": {
    "collapsed": false,
    "pycharm": {
     "name": "#%%\n"
    }
   }
  },
  {
   "cell_type": "code",
   "execution_count": 82,
   "outputs": [
    {
     "data": {
      "text/plain": "     country     commodity  year  loss_percentage            activity  \\\n2448   Benin  Maize (corn)  2020             2.65             Storage   \n2449   Benin  Maize (corn)  2020             3.04             Storage   \n2450   Benin  Maize (corn)  2020             6.42  Drying, Harvesting   \n2451   Benin  Maize (corn)  2020             4.00              Drying   \n2452   Benin  Maize (corn)  2020             2.36      Transportation   \n...      ...           ...   ...              ...                 ...   \n3068   Benin  Maize (corn)  2000             1.65      Transportation   \n3069   Benin  Maize (corn)  2000             3.05             Storage   \n3070   Benin  Maize (corn)  2000             4.00              Drying   \n3071   Benin  Maize (corn)  2000             2.36      Transportation   \n3072   Benin  Maize (corn)  2000             6.42  Drying, Harvesting   \n\n     food_supply_stage cause_of_loss  \n2448           Storage           NaN  \n2449              Farm           NaN  \n2450           Harvest           NaN  \n2451              Farm           NaN  \n2452              Farm           NaN  \n...                ...           ...  \n3068         Transport           NaN  \n3069              Farm           NaN  \n3070              Farm           NaN  \n3071              Farm           NaN  \n3072           Harvest           NaN  \n\n[152 rows x 7 columns]",
      "text/html": "<div>\n<style scoped>\n    .dataframe tbody tr th:only-of-type {\n        vertical-align: middle;\n    }\n\n    .dataframe tbody tr th {\n        vertical-align: top;\n    }\n\n    .dataframe thead th {\n        text-align: right;\n    }\n</style>\n<table border=\"1\" class=\"dataframe\">\n  <thead>\n    <tr style=\"text-align: right;\">\n      <th></th>\n      <th>country</th>\n      <th>commodity</th>\n      <th>year</th>\n      <th>loss_percentage</th>\n      <th>activity</th>\n      <th>food_supply_stage</th>\n      <th>cause_of_loss</th>\n    </tr>\n  </thead>\n  <tbody>\n    <tr>\n      <th>2448</th>\n      <td>Benin</td>\n      <td>Maize (corn)</td>\n      <td>2020</td>\n      <td>2.65</td>\n      <td>Storage</td>\n      <td>Storage</td>\n      <td>NaN</td>\n    </tr>\n    <tr>\n      <th>2449</th>\n      <td>Benin</td>\n      <td>Maize (corn)</td>\n      <td>2020</td>\n      <td>3.04</td>\n      <td>Storage</td>\n      <td>Farm</td>\n      <td>NaN</td>\n    </tr>\n    <tr>\n      <th>2450</th>\n      <td>Benin</td>\n      <td>Maize (corn)</td>\n      <td>2020</td>\n      <td>6.42</td>\n      <td>Drying, Harvesting</td>\n      <td>Harvest</td>\n      <td>NaN</td>\n    </tr>\n    <tr>\n      <th>2451</th>\n      <td>Benin</td>\n      <td>Maize (corn)</td>\n      <td>2020</td>\n      <td>4.00</td>\n      <td>Drying</td>\n      <td>Farm</td>\n      <td>NaN</td>\n    </tr>\n    <tr>\n      <th>2452</th>\n      <td>Benin</td>\n      <td>Maize (corn)</td>\n      <td>2020</td>\n      <td>2.36</td>\n      <td>Transportation</td>\n      <td>Farm</td>\n      <td>NaN</td>\n    </tr>\n    <tr>\n      <th>...</th>\n      <td>...</td>\n      <td>...</td>\n      <td>...</td>\n      <td>...</td>\n      <td>...</td>\n      <td>...</td>\n      <td>...</td>\n    </tr>\n    <tr>\n      <th>3068</th>\n      <td>Benin</td>\n      <td>Maize (corn)</td>\n      <td>2000</td>\n      <td>1.65</td>\n      <td>Transportation</td>\n      <td>Transport</td>\n      <td>NaN</td>\n    </tr>\n    <tr>\n      <th>3069</th>\n      <td>Benin</td>\n      <td>Maize (corn)</td>\n      <td>2000</td>\n      <td>3.05</td>\n      <td>Storage</td>\n      <td>Farm</td>\n      <td>NaN</td>\n    </tr>\n    <tr>\n      <th>3070</th>\n      <td>Benin</td>\n      <td>Maize (corn)</td>\n      <td>2000</td>\n      <td>4.00</td>\n      <td>Drying</td>\n      <td>Farm</td>\n      <td>NaN</td>\n    </tr>\n    <tr>\n      <th>3071</th>\n      <td>Benin</td>\n      <td>Maize (corn)</td>\n      <td>2000</td>\n      <td>2.36</td>\n      <td>Transportation</td>\n      <td>Farm</td>\n      <td>NaN</td>\n    </tr>\n    <tr>\n      <th>3072</th>\n      <td>Benin</td>\n      <td>Maize (corn)</td>\n      <td>2000</td>\n      <td>6.42</td>\n      <td>Drying, Harvesting</td>\n      <td>Harvest</td>\n      <td>NaN</td>\n    </tr>\n  </tbody>\n</table>\n<p>152 rows × 7 columns</p>\n</div>"
     },
     "execution_count": 82,
     "metadata": {},
     "output_type": "execute_result"
    }
   ],
   "source": [
    "def focus_on(country, commodity):\n",
    "    new_df=df[df.country==country]\n",
    "    new_df=new_df[new_df.commodity==commodity]\n",
    "    return new_df\n",
    "\n",
    "new_df=focus_on(\"Kenya\",\"Maize (corn)\")\n",
    "\n",
    "\n",
    "new_df=focus_on(\"Benin\",\"Maize (corn)\")\n",
    "new_df"
   ],
   "metadata": {
    "collapsed": false,
    "pycharm": {
     "name": "#%%\n"
    }
   }
  },
  {
   "cell_type": "code",
   "execution_count": 83,
   "outputs": [],
   "source": [
    "new_df=new_df.reset_index()"
   ],
   "metadata": {
    "collapsed": false,
    "pycharm": {
     "name": "#%%\n"
    }
   }
  },
  {
   "cell_type": "code",
   "execution_count": 84,
   "outputs": [],
   "source": [
    "new_df.sort_values(by=([\"index\"]),ascending=False, inplace=True)"
   ],
   "metadata": {
    "collapsed": false,
    "pycharm": {
     "name": "#%%\n"
    }
   }
  },
  {
   "cell_type": "code",
   "execution_count": null,
   "outputs": [],
   "source": [],
   "metadata": {
    "collapsed": false,
    "pycharm": {
     "name": "#%%\n"
    }
   }
  },
  {
   "cell_type": "code",
   "execution_count": 85,
   "outputs": [],
   "source": [
    "train=new_df[:-round(len(new_df)*0.2)]\n",
    "test=new_df[-round(len(new_df)*0.2):]"
   ],
   "metadata": {
    "collapsed": false,
    "pycharm": {
     "name": "#%%\n"
    }
   }
  },
  {
   "cell_type": "code",
   "execution_count": 86,
   "outputs": [
    {
     "data": {
      "text/plain": "     index country     commodity  year  loss_percentage             activity  \\\n151   3072   Benin  Maize (corn)  2000             6.42   Drying, Harvesting   \n150   3071   Benin  Maize (corn)  2000             2.36       Transportation   \n149   3070   Benin  Maize (corn)  2000             4.00               Drying   \n148   3069   Benin  Maize (corn)  2000             3.05              Storage   \n147   3068   Benin  Maize (corn)  2000             1.65       Transportation   \n..     ...     ...           ...   ...              ...                  ...   \n34    2566   Benin  Maize (corn)  2016             2.36       Transportation   \n33    2565   Benin  Maize (corn)  2016             3.00              Storage   \n32    2564   Benin  Maize (corn)  2016             4.00               Drying   \n31    2563   Benin  Maize (corn)  2016             2.65              Storage   \n30    2562   Benin  Maize (corn)  2016             1.32  Shelling, Threshing   \n\n    food_supply_stage cause_of_loss  \n151           Harvest           NaN  \n150              Farm           NaN  \n149              Farm           NaN  \n148              Farm           NaN  \n147         Transport           NaN  \n..                ...           ...  \n34               Farm           NaN  \n33               Farm           NaN  \n32               Farm           NaN  \n31            Storage           NaN  \n30               Farm           NaN  \n\n[122 rows x 8 columns]",
      "text/html": "<div>\n<style scoped>\n    .dataframe tbody tr th:only-of-type {\n        vertical-align: middle;\n    }\n\n    .dataframe tbody tr th {\n        vertical-align: top;\n    }\n\n    .dataframe thead th {\n        text-align: right;\n    }\n</style>\n<table border=\"1\" class=\"dataframe\">\n  <thead>\n    <tr style=\"text-align: right;\">\n      <th></th>\n      <th>index</th>\n      <th>country</th>\n      <th>commodity</th>\n      <th>year</th>\n      <th>loss_percentage</th>\n      <th>activity</th>\n      <th>food_supply_stage</th>\n      <th>cause_of_loss</th>\n    </tr>\n  </thead>\n  <tbody>\n    <tr>\n      <th>151</th>\n      <td>3072</td>\n      <td>Benin</td>\n      <td>Maize (corn)</td>\n      <td>2000</td>\n      <td>6.42</td>\n      <td>Drying, Harvesting</td>\n      <td>Harvest</td>\n      <td>NaN</td>\n    </tr>\n    <tr>\n      <th>150</th>\n      <td>3071</td>\n      <td>Benin</td>\n      <td>Maize (corn)</td>\n      <td>2000</td>\n      <td>2.36</td>\n      <td>Transportation</td>\n      <td>Farm</td>\n      <td>NaN</td>\n    </tr>\n    <tr>\n      <th>149</th>\n      <td>3070</td>\n      <td>Benin</td>\n      <td>Maize (corn)</td>\n      <td>2000</td>\n      <td>4.00</td>\n      <td>Drying</td>\n      <td>Farm</td>\n      <td>NaN</td>\n    </tr>\n    <tr>\n      <th>148</th>\n      <td>3069</td>\n      <td>Benin</td>\n      <td>Maize (corn)</td>\n      <td>2000</td>\n      <td>3.05</td>\n      <td>Storage</td>\n      <td>Farm</td>\n      <td>NaN</td>\n    </tr>\n    <tr>\n      <th>147</th>\n      <td>3068</td>\n      <td>Benin</td>\n      <td>Maize (corn)</td>\n      <td>2000</td>\n      <td>1.65</td>\n      <td>Transportation</td>\n      <td>Transport</td>\n      <td>NaN</td>\n    </tr>\n    <tr>\n      <th>...</th>\n      <td>...</td>\n      <td>...</td>\n      <td>...</td>\n      <td>...</td>\n      <td>...</td>\n      <td>...</td>\n      <td>...</td>\n      <td>...</td>\n    </tr>\n    <tr>\n      <th>34</th>\n      <td>2566</td>\n      <td>Benin</td>\n      <td>Maize (corn)</td>\n      <td>2016</td>\n      <td>2.36</td>\n      <td>Transportation</td>\n      <td>Farm</td>\n      <td>NaN</td>\n    </tr>\n    <tr>\n      <th>33</th>\n      <td>2565</td>\n      <td>Benin</td>\n      <td>Maize (corn)</td>\n      <td>2016</td>\n      <td>3.00</td>\n      <td>Storage</td>\n      <td>Farm</td>\n      <td>NaN</td>\n    </tr>\n    <tr>\n      <th>32</th>\n      <td>2564</td>\n      <td>Benin</td>\n      <td>Maize (corn)</td>\n      <td>2016</td>\n      <td>4.00</td>\n      <td>Drying</td>\n      <td>Farm</td>\n      <td>NaN</td>\n    </tr>\n    <tr>\n      <th>31</th>\n      <td>2563</td>\n      <td>Benin</td>\n      <td>Maize (corn)</td>\n      <td>2016</td>\n      <td>2.65</td>\n      <td>Storage</td>\n      <td>Storage</td>\n      <td>NaN</td>\n    </tr>\n    <tr>\n      <th>30</th>\n      <td>2562</td>\n      <td>Benin</td>\n      <td>Maize (corn)</td>\n      <td>2016</td>\n      <td>1.32</td>\n      <td>Shelling, Threshing</td>\n      <td>Farm</td>\n      <td>NaN</td>\n    </tr>\n  </tbody>\n</table>\n<p>122 rows × 8 columns</p>\n</div>"
     },
     "execution_count": 86,
     "metadata": {},
     "output_type": "execute_result"
    }
   ],
   "source": [
    "train"
   ],
   "metadata": {
    "collapsed": false,
    "pycharm": {
     "name": "#%%\n"
    }
   }
  },
  {
   "cell_type": "code",
   "execution_count": 87,
   "outputs": [
    {
     "data": {
      "text/plain": "    index country     commodity  year  loss_percentage             activity  \\\n29   2561   Benin  Maize (corn)  2016             1.65       Transportation   \n28   2560   Benin  Maize (corn)  2016             6.42   Drying, Harvesting   \n27   2538   Benin  Maize (corn)  2017             1.65       Transportation   \n26   2537   Benin  Maize (corn)  2017             6.42   Drying, Harvesting   \n25   2536   Benin  Maize (corn)  2017             2.65              Storage   \n24   2535   Benin  Maize (corn)  2017             4.00               Drying   \n23   2534   Benin  Maize (corn)  2017             1.32  Shelling, Threshing   \n22   2533   Benin  Maize (corn)  2017             2.36       Transportation   \n21   2532   Benin  Maize (corn)  2017             3.04              Storage   \n20   2510   Benin  Maize (corn)  2018             2.36       Transportation   \n19   2509   Benin  Maize (corn)  2018             3.04              Storage   \n18   2508   Benin  Maize (corn)  2018             1.65       Transportation   \n17   2507   Benin  Maize (corn)  2018             6.42   Drying, Harvesting   \n16   2506   Benin  Maize (corn)  2018             2.65              Storage   \n15   2505   Benin  Maize (corn)  2018             1.32  Shelling, Threshing   \n14   2504   Benin  Maize (corn)  2018             4.00               Drying   \n13   2482   Benin  Maize (corn)  2019             2.65              Storage   \n12   2481   Benin  Maize (corn)  2019             1.32  Shelling, Threshing   \n11   2480   Benin  Maize (corn)  2019             3.04              Storage   \n10   2479   Benin  Maize (corn)  2019             6.42   Drying, Harvesting   \n9    2478   Benin  Maize (corn)  2019             4.00               Drying   \n8    2477   Benin  Maize (corn)  2019             1.65       Transportation   \n7    2476   Benin  Maize (corn)  2019             2.36       Transportation   \n6    2454   Benin  Maize (corn)  2020             1.32  Shelling, Threshing   \n5    2453   Benin  Maize (corn)  2020             1.65       Transportation   \n4    2452   Benin  Maize (corn)  2020             2.36       Transportation   \n3    2451   Benin  Maize (corn)  2020             4.00               Drying   \n2    2450   Benin  Maize (corn)  2020             6.42   Drying, Harvesting   \n1    2449   Benin  Maize (corn)  2020             3.04              Storage   \n0    2448   Benin  Maize (corn)  2020             2.65              Storage   \n\n   food_supply_stage cause_of_loss  \n29         Transport           NaN  \n28           Harvest           NaN  \n27         Transport           NaN  \n26           Harvest           NaN  \n25           Storage           NaN  \n24              Farm           NaN  \n23              Farm           NaN  \n22              Farm           NaN  \n21              Farm           NaN  \n20              Farm           NaN  \n19              Farm           NaN  \n18         Transport           NaN  \n17           Harvest           NaN  \n16           Storage           NaN  \n15              Farm           NaN  \n14              Farm           NaN  \n13           Storage           NaN  \n12              Farm           NaN  \n11              Farm           NaN  \n10           Harvest           NaN  \n9               Farm           NaN  \n8          Transport           NaN  \n7               Farm           NaN  \n6               Farm           NaN  \n5          Transport           NaN  \n4               Farm           NaN  \n3               Farm           NaN  \n2            Harvest           NaN  \n1               Farm           NaN  \n0            Storage           NaN  ",
      "text/html": "<div>\n<style scoped>\n    .dataframe tbody tr th:only-of-type {\n        vertical-align: middle;\n    }\n\n    .dataframe tbody tr th {\n        vertical-align: top;\n    }\n\n    .dataframe thead th {\n        text-align: right;\n    }\n</style>\n<table border=\"1\" class=\"dataframe\">\n  <thead>\n    <tr style=\"text-align: right;\">\n      <th></th>\n      <th>index</th>\n      <th>country</th>\n      <th>commodity</th>\n      <th>year</th>\n      <th>loss_percentage</th>\n      <th>activity</th>\n      <th>food_supply_stage</th>\n      <th>cause_of_loss</th>\n    </tr>\n  </thead>\n  <tbody>\n    <tr>\n      <th>29</th>\n      <td>2561</td>\n      <td>Benin</td>\n      <td>Maize (corn)</td>\n      <td>2016</td>\n      <td>1.65</td>\n      <td>Transportation</td>\n      <td>Transport</td>\n      <td>NaN</td>\n    </tr>\n    <tr>\n      <th>28</th>\n      <td>2560</td>\n      <td>Benin</td>\n      <td>Maize (corn)</td>\n      <td>2016</td>\n      <td>6.42</td>\n      <td>Drying, Harvesting</td>\n      <td>Harvest</td>\n      <td>NaN</td>\n    </tr>\n    <tr>\n      <th>27</th>\n      <td>2538</td>\n      <td>Benin</td>\n      <td>Maize (corn)</td>\n      <td>2017</td>\n      <td>1.65</td>\n      <td>Transportation</td>\n      <td>Transport</td>\n      <td>NaN</td>\n    </tr>\n    <tr>\n      <th>26</th>\n      <td>2537</td>\n      <td>Benin</td>\n      <td>Maize (corn)</td>\n      <td>2017</td>\n      <td>6.42</td>\n      <td>Drying, Harvesting</td>\n      <td>Harvest</td>\n      <td>NaN</td>\n    </tr>\n    <tr>\n      <th>25</th>\n      <td>2536</td>\n      <td>Benin</td>\n      <td>Maize (corn)</td>\n      <td>2017</td>\n      <td>2.65</td>\n      <td>Storage</td>\n      <td>Storage</td>\n      <td>NaN</td>\n    </tr>\n    <tr>\n      <th>24</th>\n      <td>2535</td>\n      <td>Benin</td>\n      <td>Maize (corn)</td>\n      <td>2017</td>\n      <td>4.00</td>\n      <td>Drying</td>\n      <td>Farm</td>\n      <td>NaN</td>\n    </tr>\n    <tr>\n      <th>23</th>\n      <td>2534</td>\n      <td>Benin</td>\n      <td>Maize (corn)</td>\n      <td>2017</td>\n      <td>1.32</td>\n      <td>Shelling, Threshing</td>\n      <td>Farm</td>\n      <td>NaN</td>\n    </tr>\n    <tr>\n      <th>22</th>\n      <td>2533</td>\n      <td>Benin</td>\n      <td>Maize (corn)</td>\n      <td>2017</td>\n      <td>2.36</td>\n      <td>Transportation</td>\n      <td>Farm</td>\n      <td>NaN</td>\n    </tr>\n    <tr>\n      <th>21</th>\n      <td>2532</td>\n      <td>Benin</td>\n      <td>Maize (corn)</td>\n      <td>2017</td>\n      <td>3.04</td>\n      <td>Storage</td>\n      <td>Farm</td>\n      <td>NaN</td>\n    </tr>\n    <tr>\n      <th>20</th>\n      <td>2510</td>\n      <td>Benin</td>\n      <td>Maize (corn)</td>\n      <td>2018</td>\n      <td>2.36</td>\n      <td>Transportation</td>\n      <td>Farm</td>\n      <td>NaN</td>\n    </tr>\n    <tr>\n      <th>19</th>\n      <td>2509</td>\n      <td>Benin</td>\n      <td>Maize (corn)</td>\n      <td>2018</td>\n      <td>3.04</td>\n      <td>Storage</td>\n      <td>Farm</td>\n      <td>NaN</td>\n    </tr>\n    <tr>\n      <th>18</th>\n      <td>2508</td>\n      <td>Benin</td>\n      <td>Maize (corn)</td>\n      <td>2018</td>\n      <td>1.65</td>\n      <td>Transportation</td>\n      <td>Transport</td>\n      <td>NaN</td>\n    </tr>\n    <tr>\n      <th>17</th>\n      <td>2507</td>\n      <td>Benin</td>\n      <td>Maize (corn)</td>\n      <td>2018</td>\n      <td>6.42</td>\n      <td>Drying, Harvesting</td>\n      <td>Harvest</td>\n      <td>NaN</td>\n    </tr>\n    <tr>\n      <th>16</th>\n      <td>2506</td>\n      <td>Benin</td>\n      <td>Maize (corn)</td>\n      <td>2018</td>\n      <td>2.65</td>\n      <td>Storage</td>\n      <td>Storage</td>\n      <td>NaN</td>\n    </tr>\n    <tr>\n      <th>15</th>\n      <td>2505</td>\n      <td>Benin</td>\n      <td>Maize (corn)</td>\n      <td>2018</td>\n      <td>1.32</td>\n      <td>Shelling, Threshing</td>\n      <td>Farm</td>\n      <td>NaN</td>\n    </tr>\n    <tr>\n      <th>14</th>\n      <td>2504</td>\n      <td>Benin</td>\n      <td>Maize (corn)</td>\n      <td>2018</td>\n      <td>4.00</td>\n      <td>Drying</td>\n      <td>Farm</td>\n      <td>NaN</td>\n    </tr>\n    <tr>\n      <th>13</th>\n      <td>2482</td>\n      <td>Benin</td>\n      <td>Maize (corn)</td>\n      <td>2019</td>\n      <td>2.65</td>\n      <td>Storage</td>\n      <td>Storage</td>\n      <td>NaN</td>\n    </tr>\n    <tr>\n      <th>12</th>\n      <td>2481</td>\n      <td>Benin</td>\n      <td>Maize (corn)</td>\n      <td>2019</td>\n      <td>1.32</td>\n      <td>Shelling, Threshing</td>\n      <td>Farm</td>\n      <td>NaN</td>\n    </tr>\n    <tr>\n      <th>11</th>\n      <td>2480</td>\n      <td>Benin</td>\n      <td>Maize (corn)</td>\n      <td>2019</td>\n      <td>3.04</td>\n      <td>Storage</td>\n      <td>Farm</td>\n      <td>NaN</td>\n    </tr>\n    <tr>\n      <th>10</th>\n      <td>2479</td>\n      <td>Benin</td>\n      <td>Maize (corn)</td>\n      <td>2019</td>\n      <td>6.42</td>\n      <td>Drying, Harvesting</td>\n      <td>Harvest</td>\n      <td>NaN</td>\n    </tr>\n    <tr>\n      <th>9</th>\n      <td>2478</td>\n      <td>Benin</td>\n      <td>Maize (corn)</td>\n      <td>2019</td>\n      <td>4.00</td>\n      <td>Drying</td>\n      <td>Farm</td>\n      <td>NaN</td>\n    </tr>\n    <tr>\n      <th>8</th>\n      <td>2477</td>\n      <td>Benin</td>\n      <td>Maize (corn)</td>\n      <td>2019</td>\n      <td>1.65</td>\n      <td>Transportation</td>\n      <td>Transport</td>\n      <td>NaN</td>\n    </tr>\n    <tr>\n      <th>7</th>\n      <td>2476</td>\n      <td>Benin</td>\n      <td>Maize (corn)</td>\n      <td>2019</td>\n      <td>2.36</td>\n      <td>Transportation</td>\n      <td>Farm</td>\n      <td>NaN</td>\n    </tr>\n    <tr>\n      <th>6</th>\n      <td>2454</td>\n      <td>Benin</td>\n      <td>Maize (corn)</td>\n      <td>2020</td>\n      <td>1.32</td>\n      <td>Shelling, Threshing</td>\n      <td>Farm</td>\n      <td>NaN</td>\n    </tr>\n    <tr>\n      <th>5</th>\n      <td>2453</td>\n      <td>Benin</td>\n      <td>Maize (corn)</td>\n      <td>2020</td>\n      <td>1.65</td>\n      <td>Transportation</td>\n      <td>Transport</td>\n      <td>NaN</td>\n    </tr>\n    <tr>\n      <th>4</th>\n      <td>2452</td>\n      <td>Benin</td>\n      <td>Maize (corn)</td>\n      <td>2020</td>\n      <td>2.36</td>\n      <td>Transportation</td>\n      <td>Farm</td>\n      <td>NaN</td>\n    </tr>\n    <tr>\n      <th>3</th>\n      <td>2451</td>\n      <td>Benin</td>\n      <td>Maize (corn)</td>\n      <td>2020</td>\n      <td>4.00</td>\n      <td>Drying</td>\n      <td>Farm</td>\n      <td>NaN</td>\n    </tr>\n    <tr>\n      <th>2</th>\n      <td>2450</td>\n      <td>Benin</td>\n      <td>Maize (corn)</td>\n      <td>2020</td>\n      <td>6.42</td>\n      <td>Drying, Harvesting</td>\n      <td>Harvest</td>\n      <td>NaN</td>\n    </tr>\n    <tr>\n      <th>1</th>\n      <td>2449</td>\n      <td>Benin</td>\n      <td>Maize (corn)</td>\n      <td>2020</td>\n      <td>3.04</td>\n      <td>Storage</td>\n      <td>Farm</td>\n      <td>NaN</td>\n    </tr>\n    <tr>\n      <th>0</th>\n      <td>2448</td>\n      <td>Benin</td>\n      <td>Maize (corn)</td>\n      <td>2020</td>\n      <td>2.65</td>\n      <td>Storage</td>\n      <td>Storage</td>\n      <td>NaN</td>\n    </tr>\n  </tbody>\n</table>\n</div>"
     },
     "execution_count": 87,
     "metadata": {},
     "output_type": "execute_result"
    }
   ],
   "source": [
    "test"
   ],
   "metadata": {
    "collapsed": false,
    "pycharm": {
     "name": "#%%\n"
    }
   }
  },
  {
   "cell_type": "code",
   "execution_count": 127,
   "outputs": [
    {
     "data": {
      "text/plain": "     index country     commodity  year  loss_percentage             activity  \\\n151   3072   Benin  Maize (corn)  2000         0.198598   Drying, Harvesting   \n150   3071   Benin  Maize (corn)  2000         0.040498       Transportation   \n149   3070   Benin  Maize (corn)  2000         0.104361               Drying   \n148   3069   Benin  Maize (corn)  2000         0.067368              Storage   \n147   3068   Benin  Maize (corn)  2000         0.012850       Transportation   \n..     ...     ...           ...   ...              ...                  ...   \n34    2566   Benin  Maize (corn)  2016         0.040498       Transportation   \n33    2565   Benin  Maize (corn)  2016         0.065421              Storage   \n32    2564   Benin  Maize (corn)  2016         0.104361               Drying   \n31    2563   Benin  Maize (corn)  2016         0.051791              Storage   \n30    2562   Benin  Maize (corn)  2016         0.000000  Shelling, Threshing   \n\n    food_supply_stage cause_of_loss  \n151           Harvest           NaN  \n150              Farm           NaN  \n149              Farm           NaN  \n148              Farm           NaN  \n147         Transport           NaN  \n..                ...           ...  \n34               Farm           NaN  \n33               Farm           NaN  \n32               Farm           NaN  \n31            Storage           NaN  \n30               Farm           NaN  \n\n[122 rows x 8 columns]",
      "text/html": "<div>\n<style scoped>\n    .dataframe tbody tr th:only-of-type {\n        vertical-align: middle;\n    }\n\n    .dataframe tbody tr th {\n        vertical-align: top;\n    }\n\n    .dataframe thead th {\n        text-align: right;\n    }\n</style>\n<table border=\"1\" class=\"dataframe\">\n  <thead>\n    <tr style=\"text-align: right;\">\n      <th></th>\n      <th>index</th>\n      <th>country</th>\n      <th>commodity</th>\n      <th>year</th>\n      <th>loss_percentage</th>\n      <th>activity</th>\n      <th>food_supply_stage</th>\n      <th>cause_of_loss</th>\n    </tr>\n  </thead>\n  <tbody>\n    <tr>\n      <th>151</th>\n      <td>3072</td>\n      <td>Benin</td>\n      <td>Maize (corn)</td>\n      <td>2000</td>\n      <td>0.198598</td>\n      <td>Drying, Harvesting</td>\n      <td>Harvest</td>\n      <td>NaN</td>\n    </tr>\n    <tr>\n      <th>150</th>\n      <td>3071</td>\n      <td>Benin</td>\n      <td>Maize (corn)</td>\n      <td>2000</td>\n      <td>0.040498</td>\n      <td>Transportation</td>\n      <td>Farm</td>\n      <td>NaN</td>\n    </tr>\n    <tr>\n      <th>149</th>\n      <td>3070</td>\n      <td>Benin</td>\n      <td>Maize (corn)</td>\n      <td>2000</td>\n      <td>0.104361</td>\n      <td>Drying</td>\n      <td>Farm</td>\n      <td>NaN</td>\n    </tr>\n    <tr>\n      <th>148</th>\n      <td>3069</td>\n      <td>Benin</td>\n      <td>Maize (corn)</td>\n      <td>2000</td>\n      <td>0.067368</td>\n      <td>Storage</td>\n      <td>Farm</td>\n      <td>NaN</td>\n    </tr>\n    <tr>\n      <th>147</th>\n      <td>3068</td>\n      <td>Benin</td>\n      <td>Maize (corn)</td>\n      <td>2000</td>\n      <td>0.012850</td>\n      <td>Transportation</td>\n      <td>Transport</td>\n      <td>NaN</td>\n    </tr>\n    <tr>\n      <th>...</th>\n      <td>...</td>\n      <td>...</td>\n      <td>...</td>\n      <td>...</td>\n      <td>...</td>\n      <td>...</td>\n      <td>...</td>\n      <td>...</td>\n    </tr>\n    <tr>\n      <th>34</th>\n      <td>2566</td>\n      <td>Benin</td>\n      <td>Maize (corn)</td>\n      <td>2016</td>\n      <td>0.040498</td>\n      <td>Transportation</td>\n      <td>Farm</td>\n      <td>NaN</td>\n    </tr>\n    <tr>\n      <th>33</th>\n      <td>2565</td>\n      <td>Benin</td>\n      <td>Maize (corn)</td>\n      <td>2016</td>\n      <td>0.065421</td>\n      <td>Storage</td>\n      <td>Farm</td>\n      <td>NaN</td>\n    </tr>\n    <tr>\n      <th>32</th>\n      <td>2564</td>\n      <td>Benin</td>\n      <td>Maize (corn)</td>\n      <td>2016</td>\n      <td>0.104361</td>\n      <td>Drying</td>\n      <td>Farm</td>\n      <td>NaN</td>\n    </tr>\n    <tr>\n      <th>31</th>\n      <td>2563</td>\n      <td>Benin</td>\n      <td>Maize (corn)</td>\n      <td>2016</td>\n      <td>0.051791</td>\n      <td>Storage</td>\n      <td>Storage</td>\n      <td>NaN</td>\n    </tr>\n    <tr>\n      <th>30</th>\n      <td>2562</td>\n      <td>Benin</td>\n      <td>Maize (corn)</td>\n      <td>2016</td>\n      <td>0.000000</td>\n      <td>Shelling, Threshing</td>\n      <td>Farm</td>\n      <td>NaN</td>\n    </tr>\n  </tbody>\n</table>\n<p>122 rows × 8 columns</p>\n</div>"
     },
     "execution_count": 127,
     "metadata": {},
     "output_type": "execute_result"
    }
   ],
   "source": [
    "train"
   ],
   "metadata": {
    "collapsed": false,
    "pycharm": {
     "name": "#%%\n"
    }
   }
  },
  {
   "cell_type": "code",
   "execution_count": 130,
   "outputs": [
    {
     "name": "stderr",
     "output_type": "stream",
     "text": [
      "/var/folders/t6/nkv95bj97gv9j73w9bfk2p0r0000gn/T/ipykernel_14676/1809770144.py:2: SettingWithCopyWarning: \n",
      "A value is trying to be set on a copy of a slice from a DataFrame.\n",
      "Try using .loc[row_indexer,col_indexer] = value instead\n",
      "\n",
      "See the caveats in the documentation: https://pandas.pydata.org/pandas-docs/stable/user_guide/indexing.html#returning-a-view-versus-a-copy\n",
      "  train[\"loss_percentage\"] = scaler.fit_transform(train[[\"loss_percentage\"]].to_numpy())\n",
      "/var/folders/t6/nkv95bj97gv9j73w9bfk2p0r0000gn/T/ipykernel_14676/1809770144.py:3: SettingWithCopyWarning: \n",
      "A value is trying to be set on a copy of a slice from a DataFrame.\n",
      "Try using .loc[row_indexer,col_indexer] = value instead\n",
      "\n",
      "See the caveats in the documentation: https://pandas.pydata.org/pandas-docs/stable/user_guide/indexing.html#returning-a-view-versus-a-copy\n",
      "  test[\"loss_percentage\"]=scaler.transform(test[[\"loss_percentage\"]].to_numpy())\n"
     ]
    }
   ],
   "source": [
    "scaler = MinMaxScaler(feature_range=(0,1))\n",
    "train[\"loss_percentage\"] = scaler.fit_transform(train[[\"loss_percentage\"]].to_numpy())\n",
    "test[\"loss_percentage\"]=scaler.transform(test[[\"loss_percentage\"]].to_numpy())\n",
    "\n",
    "\n",
    "\n",
    "\n"
   ],
   "metadata": {
    "collapsed": false,
    "pycharm": {
     "name": "#%%\n"
    }
   }
  },
  {
   "cell_type": "code",
   "execution_count": 132,
   "outputs": [
    {
     "data": {
      "text/plain": "151    0.198598\n150    0.040498\n149    0.104361\n148    0.067368\n147    0.012850\n         ...   \n34     0.040498\n33     0.065421\n32     0.104361\n31     0.051791\n30     0.000000\nName: loss_percentage, Length: 122, dtype: float64"
     },
     "execution_count": 132,
     "metadata": {},
     "output_type": "execute_result"
    }
   ],
   "source": [
    "Y_data"
   ],
   "metadata": {
    "collapsed": false,
    "pycharm": {
     "name": "#%%\n"
    }
   }
  },
  {
   "cell_type": "code",
   "execution_count": 98,
   "outputs": [],
   "source": [
    "test_arr=test.to_numpy()"
   ],
   "metadata": {
    "collapsed": false,
    "pycharm": {
     "name": "#%%\n"
    }
   }
  },
  {
   "cell_type": "code",
   "execution_count": 102,
   "outputs": [],
   "source": [
    " def custom_ts_multi_data_prep(dataset, target, start, end, window, horizon):\n",
    "     X = []\n",
    "     y = []\n",
    "     start = start + window\n",
    "     if end is None:\n",
    "         end = len(dataset) - horizon\n",
    "     for i in range(start, end):\n",
    "         indices = range(i-window, i)\n",
    "         X.append(dataset[indices])\n",
    "         indicey = range(i+1, i+1+horizon)\n",
    "         y.append(target[indicey])\n",
    "     return np.array(X), np.array(y)\n",
    "\n",
    "hist_window = 8\n",
    "horizon = 1\n",
    "TRAIN_SPLIT = 30\n",
    "x_train, y_train = custom_ts_multi_data_prep(X_data, Y_data, 0, TRAIN_SPLIT, hist_window, horizon)\n",
    "x_vali, y_vali = custom_ts_multi_data_prep(X_data, Y_data, TRAIN_SPLIT, None, hist_window, horizon"
   ],
   "metadata": {
    "collapsed": false,
    "pycharm": {
     "name": "#%%\n"
    }
   }
  },
  {
   "cell_type": "code",
   "execution_count": 103,
   "outputs": [
    {
     "data": {
      "text/plain": "array([[[2561, 'Benin', 'Maize (corn)', 2016, 0.01285046728971962,\n         'Transportation', 'Transport', nan],\n        [2560, 'Benin', 'Maize (corn)', 2016, 0.19859813084112146,\n         'Drying, Harvesting', 'Harvest', nan],\n        [2538, 'Benin', 'Maize (corn)', 2017, 0.01285046728971962,\n         'Transportation', 'Transport', nan]],\n\n       [[2560, 'Benin', 'Maize (corn)', 2016, 0.19859813084112146,\n         'Drying, Harvesting', 'Harvest', nan],\n        [2538, 'Benin', 'Maize (corn)', 2017, 0.01285046728971962,\n         'Transportation', 'Transport', nan],\n        [2537, 'Benin', 'Maize (corn)', 2017, 0.19859813084112146,\n         'Drying, Harvesting', 'Harvest', nan]],\n\n       [[2538, 'Benin', 'Maize (corn)', 2017, 0.01285046728971962,\n         'Transportation', 'Transport', nan],\n        [2537, 'Benin', 'Maize (corn)', 2017, 0.19859813084112146,\n         'Drying, Harvesting', 'Harvest', nan],\n        [2536, 'Benin', 'Maize (corn)', 2017, 0.05179127725856696,\n         'Storage', 'Storage', nan]],\n\n       [[2537, 'Benin', 'Maize (corn)', 2017, 0.19859813084112146,\n         'Drying, Harvesting', 'Harvest', nan],\n        [2536, 'Benin', 'Maize (corn)', 2017, 0.05179127725856696,\n         'Storage', 'Storage', nan],\n        [2535, 'Benin', 'Maize (corn)', 2017, 0.10436137071651089,\n         'Drying', 'Farm', nan]],\n\n       [[2536, 'Benin', 'Maize (corn)', 2017, 0.05179127725856696,\n         'Storage', 'Storage', nan],\n        [2535, 'Benin', 'Maize (corn)', 2017, 0.10436137071651089,\n         'Drying', 'Farm', nan],\n        [2534, 'Benin', 'Maize (corn)', 2017, 0.0,\n         'Shelling, Threshing', 'Farm', nan]],\n\n       [[2535, 'Benin', 'Maize (corn)', 2017, 0.10436137071651089,\n         'Drying', 'Farm', nan],\n        [2534, 'Benin', 'Maize (corn)', 2017, 0.0,\n         'Shelling, Threshing', 'Farm', nan],\n        [2533, 'Benin', 'Maize (corn)', 2017, 0.04049844236760123,\n         'Transportation', 'Farm', nan]],\n\n       [[2534, 'Benin', 'Maize (corn)', 2017, 0.0,\n         'Shelling, Threshing', 'Farm', nan],\n        [2533, 'Benin', 'Maize (corn)', 2017, 0.04049844236760123,\n         'Transportation', 'Farm', nan],\n        [2532, 'Benin', 'Maize (corn)', 2017, 0.06697819314641745,\n         'Storage', 'Farm', nan]],\n\n       [[2533, 'Benin', 'Maize (corn)', 2017, 0.04049844236760123,\n         'Transportation', 'Farm', nan],\n        [2532, 'Benin', 'Maize (corn)', 2017, 0.06697819314641745,\n         'Storage', 'Farm', nan],\n        [2510, 'Benin', 'Maize (corn)', 2018, 0.04049844236760123,\n         'Transportation', 'Farm', nan]],\n\n       [[2532, 'Benin', 'Maize (corn)', 2017, 0.06697819314641745,\n         'Storage', 'Farm', nan],\n        [2510, 'Benin', 'Maize (corn)', 2018, 0.04049844236760123,\n         'Transportation', 'Farm', nan],\n        [2509, 'Benin', 'Maize (corn)', 2018, 0.06697819314641745,\n         'Storage', 'Farm', nan]],\n\n       [[2510, 'Benin', 'Maize (corn)', 2018, 0.04049844236760123,\n         'Transportation', 'Farm', nan],\n        [2509, 'Benin', 'Maize (corn)', 2018, 0.06697819314641745,\n         'Storage', 'Farm', nan],\n        [2508, 'Benin', 'Maize (corn)', 2018, 0.01285046728971962,\n         'Transportation', 'Transport', nan]],\n\n       [[2509, 'Benin', 'Maize (corn)', 2018, 0.06697819314641745,\n         'Storage', 'Farm', nan],\n        [2508, 'Benin', 'Maize (corn)', 2018, 0.01285046728971962,\n         'Transportation', 'Transport', nan],\n        [2507, 'Benin', 'Maize (corn)', 2018, 0.19859813084112146,\n         'Drying, Harvesting', 'Harvest', nan]],\n\n       [[2508, 'Benin', 'Maize (corn)', 2018, 0.01285046728971962,\n         'Transportation', 'Transport', nan],\n        [2507, 'Benin', 'Maize (corn)', 2018, 0.19859813084112146,\n         'Drying, Harvesting', 'Harvest', nan],\n        [2506, 'Benin', 'Maize (corn)', 2018, 0.05179127725856696,\n         'Storage', 'Storage', nan]],\n\n       [[2507, 'Benin', 'Maize (corn)', 2018, 0.19859813084112146,\n         'Drying, Harvesting', 'Harvest', nan],\n        [2506, 'Benin', 'Maize (corn)', 2018, 0.05179127725856696,\n         'Storage', 'Storage', nan],\n        [2505, 'Benin', 'Maize (corn)', 2018, 0.0,\n         'Shelling, Threshing', 'Farm', nan]],\n\n       [[2506, 'Benin', 'Maize (corn)', 2018, 0.05179127725856696,\n         'Storage', 'Storage', nan],\n        [2505, 'Benin', 'Maize (corn)', 2018, 0.0,\n         'Shelling, Threshing', 'Farm', nan],\n        [2504, 'Benin', 'Maize (corn)', 2018, 0.10436137071651089,\n         'Drying', 'Farm', nan]],\n\n       [[2505, 'Benin', 'Maize (corn)', 2018, 0.0,\n         'Shelling, Threshing', 'Farm', nan],\n        [2504, 'Benin', 'Maize (corn)', 2018, 0.10436137071651089,\n         'Drying', 'Farm', nan],\n        [2482, 'Benin', 'Maize (corn)', 2019, 0.05179127725856696,\n         'Storage', 'Storage', nan]],\n\n       [[2504, 'Benin', 'Maize (corn)', 2018, 0.10436137071651089,\n         'Drying', 'Farm', nan],\n        [2482, 'Benin', 'Maize (corn)', 2019, 0.05179127725856696,\n         'Storage', 'Storage', nan],\n        [2481, 'Benin', 'Maize (corn)', 2019, 0.0,\n         'Shelling, Threshing', 'Farm', nan]],\n\n       [[2482, 'Benin', 'Maize (corn)', 2019, 0.05179127725856696,\n         'Storage', 'Storage', nan],\n        [2481, 'Benin', 'Maize (corn)', 2019, 0.0,\n         'Shelling, Threshing', 'Farm', nan],\n        [2480, 'Benin', 'Maize (corn)', 2019, 0.06697819314641745,\n         'Storage', 'Farm', nan]],\n\n       [[2481, 'Benin', 'Maize (corn)', 2019, 0.0,\n         'Shelling, Threshing', 'Farm', nan],\n        [2480, 'Benin', 'Maize (corn)', 2019, 0.06697819314641745,\n         'Storage', 'Farm', nan],\n        [2479, 'Benin', 'Maize (corn)', 2019, 0.19859813084112146,\n         'Drying, Harvesting', 'Harvest', nan]],\n\n       [[2480, 'Benin', 'Maize (corn)', 2019, 0.06697819314641745,\n         'Storage', 'Farm', nan],\n        [2479, 'Benin', 'Maize (corn)', 2019, 0.19859813084112146,\n         'Drying, Harvesting', 'Harvest', nan],\n        [2478, 'Benin', 'Maize (corn)', 2019, 0.10436137071651089,\n         'Drying', 'Farm', nan]],\n\n       [[2479, 'Benin', 'Maize (corn)', 2019, 0.19859813084112146,\n         'Drying, Harvesting', 'Harvest', nan],\n        [2478, 'Benin', 'Maize (corn)', 2019, 0.10436137071651089,\n         'Drying', 'Farm', nan],\n        [2477, 'Benin', 'Maize (corn)', 2019, 0.01285046728971962,\n         'Transportation', 'Transport', nan]],\n\n       [[2478, 'Benin', 'Maize (corn)', 2019, 0.10436137071651089,\n         'Drying', 'Farm', nan],\n        [2477, 'Benin', 'Maize (corn)', 2019, 0.01285046728971962,\n         'Transportation', 'Transport', nan],\n        [2476, 'Benin', 'Maize (corn)', 2019, 0.04049844236760123,\n         'Transportation', 'Farm', nan]],\n\n       [[2477, 'Benin', 'Maize (corn)', 2019, 0.01285046728971962,\n         'Transportation', 'Transport', nan],\n        [2476, 'Benin', 'Maize (corn)', 2019, 0.04049844236760123,\n         'Transportation', 'Farm', nan],\n        [2454, 'Benin', 'Maize (corn)', 2020, 0.0,\n         'Shelling, Threshing', 'Farm', nan]],\n\n       [[2476, 'Benin', 'Maize (corn)', 2019, 0.04049844236760123,\n         'Transportation', 'Farm', nan],\n        [2454, 'Benin', 'Maize (corn)', 2020, 0.0,\n         'Shelling, Threshing', 'Farm', nan],\n        [2453, 'Benin', 'Maize (corn)', 2020, 0.01285046728971962,\n         'Transportation', 'Transport', nan]],\n\n       [[2454, 'Benin', 'Maize (corn)', 2020, 0.0,\n         'Shelling, Threshing', 'Farm', nan],\n        [2453, 'Benin', 'Maize (corn)', 2020, 0.01285046728971962,\n         'Transportation', 'Transport', nan],\n        [2452, 'Benin', 'Maize (corn)', 2020, 0.04049844236760123,\n         'Transportation', 'Farm', nan]],\n\n       [[2453, 'Benin', 'Maize (corn)', 2020, 0.01285046728971962,\n         'Transportation', 'Transport', nan],\n        [2452, 'Benin', 'Maize (corn)', 2020, 0.04049844236760123,\n         'Transportation', 'Farm', nan],\n        [2451, 'Benin', 'Maize (corn)', 2020, 0.10436137071651089,\n         'Drying', 'Farm', nan]],\n\n       [[2452, 'Benin', 'Maize (corn)', 2020, 0.04049844236760123,\n         'Transportation', 'Farm', nan],\n        [2451, 'Benin', 'Maize (corn)', 2020, 0.10436137071651089,\n         'Drying', 'Farm', nan],\n        [2450, 'Benin', 'Maize (corn)', 2020, 0.19859813084112146,\n         'Drying, Harvesting', 'Harvest', nan]],\n\n       [[2451, 'Benin', 'Maize (corn)', 2020, 0.10436137071651089,\n         'Drying', 'Farm', nan],\n        [2450, 'Benin', 'Maize (corn)', 2020, 0.19859813084112146,\n         'Drying, Harvesting', 'Harvest', nan],\n        [2449, 'Benin', 'Maize (corn)', 2020, 0.06697819314641745,\n         'Storage', 'Farm', nan]]], dtype=object)"
     },
     "execution_count": 103,
     "metadata": {},
     "output_type": "execute_result"
    }
   ],
   "source": [
    "testX"
   ],
   "metadata": {
    "collapsed": false,
    "pycharm": {
     "name": "#%%\n"
    }
   }
  },
  {
   "cell_type": "code",
   "execution_count": 104,
   "outputs": [
    {
     "name": "stdout",
     "output_type": "stream",
     "text": [
      "trainX Shape--  (119, 3, 8)\n",
      "trainY Shape--  (119,)\n",
      "testX Shape--  (27, 3, 8)\n",
      "testY Shape--  (27,)\n"
     ]
    }
   ],
   "source": [
    "print(\"trainX Shape-- \",trainX.shape)\n",
    "print(\"trainY Shape-- \",trainY.shape)\n",
    "\n",
    "\n",
    "print(\"testX Shape-- \",testX.shape)\n",
    "print(\"testY Shape-- \",testY.shape)\n",
    "\n"
   ],
   "metadata": {
    "collapsed": false,
    "pycharm": {
     "name": "#%%\n"
    }
   }
  },
  {
   "cell_type": "code",
   "execution_count": 105,
   "outputs": [
    {
     "data": {
      "text/plain": "array([[3072, 'Benin', 'Maize (corn)', 2000, 0.19859813084112146,\n        'Drying, Harvesting', 'Harvest', nan],\n       [3071, 'Benin', 'Maize (corn)', 2000, 0.04049844236760123,\n        'Transportation', 'Farm', nan],\n       [3070, 'Benin', 'Maize (corn)', 2000, 0.10436137071651089,\n        'Drying', 'Farm', nan]], dtype=object)"
     },
     "execution_count": 105,
     "metadata": {},
     "output_type": "execute_result"
    }
   ],
   "source": [
    "trainX[0]"
   ],
   "metadata": {
    "collapsed": false,
    "pycharm": {
     "name": "#%%\n"
    }
   }
  },
  {
   "cell_type": "code",
   "execution_count": 106,
   "outputs": [
    {
     "data": {
      "text/plain": "0.06736760124610591"
     },
     "execution_count": 106,
     "metadata": {},
     "output_type": "execute_result"
    }
   ],
   "source": [
    "trainY[0]"
   ],
   "metadata": {
    "collapsed": false,
    "pycharm": {
     "name": "#%%\n"
    }
   }
  },
  {
   "cell_type": "code",
   "execution_count": 107,
   "outputs": [
    {
     "data": {
      "text/plain": "     index country     commodity  year  loss_percentage             activity  \\\n151   3072   Benin  Maize (corn)  2000         0.198598   Drying, Harvesting   \n150   3071   Benin  Maize (corn)  2000         0.040498       Transportation   \n149   3070   Benin  Maize (corn)  2000         0.104361               Drying   \n148   3069   Benin  Maize (corn)  2000         0.067368              Storage   \n147   3068   Benin  Maize (corn)  2000         0.012850       Transportation   \n..     ...     ...           ...   ...              ...                  ...   \n34    2566   Benin  Maize (corn)  2016         0.040498       Transportation   \n33    2565   Benin  Maize (corn)  2016         0.065421              Storage   \n32    2564   Benin  Maize (corn)  2016         0.104361               Drying   \n31    2563   Benin  Maize (corn)  2016         0.051791              Storage   \n30    2562   Benin  Maize (corn)  2016         0.000000  Shelling, Threshing   \n\n    food_supply_stage cause_of_loss  \n151           Harvest           NaN  \n150              Farm           NaN  \n149              Farm           NaN  \n148              Farm           NaN  \n147         Transport           NaN  \n..                ...           ...  \n34               Farm           NaN  \n33               Farm           NaN  \n32               Farm           NaN  \n31            Storage           NaN  \n30               Farm           NaN  \n\n[122 rows x 8 columns]",
      "text/html": "<div>\n<style scoped>\n    .dataframe tbody tr th:only-of-type {\n        vertical-align: middle;\n    }\n\n    .dataframe tbody tr th {\n        vertical-align: top;\n    }\n\n    .dataframe thead th {\n        text-align: right;\n    }\n</style>\n<table border=\"1\" class=\"dataframe\">\n  <thead>\n    <tr style=\"text-align: right;\">\n      <th></th>\n      <th>index</th>\n      <th>country</th>\n      <th>commodity</th>\n      <th>year</th>\n      <th>loss_percentage</th>\n      <th>activity</th>\n      <th>food_supply_stage</th>\n      <th>cause_of_loss</th>\n    </tr>\n  </thead>\n  <tbody>\n    <tr>\n      <th>151</th>\n      <td>3072</td>\n      <td>Benin</td>\n      <td>Maize (corn)</td>\n      <td>2000</td>\n      <td>0.198598</td>\n      <td>Drying, Harvesting</td>\n      <td>Harvest</td>\n      <td>NaN</td>\n    </tr>\n    <tr>\n      <th>150</th>\n      <td>3071</td>\n      <td>Benin</td>\n      <td>Maize (corn)</td>\n      <td>2000</td>\n      <td>0.040498</td>\n      <td>Transportation</td>\n      <td>Farm</td>\n      <td>NaN</td>\n    </tr>\n    <tr>\n      <th>149</th>\n      <td>3070</td>\n      <td>Benin</td>\n      <td>Maize (corn)</td>\n      <td>2000</td>\n      <td>0.104361</td>\n      <td>Drying</td>\n      <td>Farm</td>\n      <td>NaN</td>\n    </tr>\n    <tr>\n      <th>148</th>\n      <td>3069</td>\n      <td>Benin</td>\n      <td>Maize (corn)</td>\n      <td>2000</td>\n      <td>0.067368</td>\n      <td>Storage</td>\n      <td>Farm</td>\n      <td>NaN</td>\n    </tr>\n    <tr>\n      <th>147</th>\n      <td>3068</td>\n      <td>Benin</td>\n      <td>Maize (corn)</td>\n      <td>2000</td>\n      <td>0.012850</td>\n      <td>Transportation</td>\n      <td>Transport</td>\n      <td>NaN</td>\n    </tr>\n    <tr>\n      <th>...</th>\n      <td>...</td>\n      <td>...</td>\n      <td>...</td>\n      <td>...</td>\n      <td>...</td>\n      <td>...</td>\n      <td>...</td>\n      <td>...</td>\n    </tr>\n    <tr>\n      <th>34</th>\n      <td>2566</td>\n      <td>Benin</td>\n      <td>Maize (corn)</td>\n      <td>2016</td>\n      <td>0.040498</td>\n      <td>Transportation</td>\n      <td>Farm</td>\n      <td>NaN</td>\n    </tr>\n    <tr>\n      <th>33</th>\n      <td>2565</td>\n      <td>Benin</td>\n      <td>Maize (corn)</td>\n      <td>2016</td>\n      <td>0.065421</td>\n      <td>Storage</td>\n      <td>Farm</td>\n      <td>NaN</td>\n    </tr>\n    <tr>\n      <th>32</th>\n      <td>2564</td>\n      <td>Benin</td>\n      <td>Maize (corn)</td>\n      <td>2016</td>\n      <td>0.104361</td>\n      <td>Drying</td>\n      <td>Farm</td>\n      <td>NaN</td>\n    </tr>\n    <tr>\n      <th>31</th>\n      <td>2563</td>\n      <td>Benin</td>\n      <td>Maize (corn)</td>\n      <td>2016</td>\n      <td>0.051791</td>\n      <td>Storage</td>\n      <td>Storage</td>\n      <td>NaN</td>\n    </tr>\n    <tr>\n      <th>30</th>\n      <td>2562</td>\n      <td>Benin</td>\n      <td>Maize (corn)</td>\n      <td>2016</td>\n      <td>0.000000</td>\n      <td>Shelling, Threshing</td>\n      <td>Farm</td>\n      <td>NaN</td>\n    </tr>\n  </tbody>\n</table>\n<p>122 rows × 8 columns</p>\n</div>"
     },
     "execution_count": 107,
     "metadata": {},
     "output_type": "execute_result"
    }
   ],
   "source": [
    "train"
   ],
   "metadata": {
    "collapsed": false,
    "pycharm": {
     "name": "#%%\n"
    }
   }
  },
  {
   "cell_type": "code",
   "execution_count": 121,
   "outputs": [
    {
     "name": "stderr",
     "output_type": "stream",
     "text": [
      "/var/folders/t6/nkv95bj97gv9j73w9bfk2p0r0000gn/T/ipykernel_14676/854486651.py:11: DeprecationWarning: KerasRegressor is deprecated, use Sci-Keras (https://github.com/adriangb/scikeras) instead. See https://www.adriangb.com/scikeras/stable/migration.html for help migrating.\n",
      "  grid_model = KerasRegressor(build_fn=build_model, verbose=1, validation_data=(testX,testY))\n"
     ]
    }
   ],
   "source": [
    "def build_model(optimizer):\n",
    "    grid_model = Sequential()\n",
    "    grid_model.add(LSTM(50,return_sequences=True,input_shape=(30,5)))\n",
    "    grid_model.add(LSTM(50))\n",
    "    grid_model.add(Dropout(0.2))\n",
    "    grid_model.add(Dense(1))\n",
    "    grid_model.compile(loss = 'mse',optimizer = optimizer)\n",
    "    return grid_model\n",
    "\n",
    "\n",
    "grid_model = KerasRegressor(build_fn=build_model, verbose=1, validation_data=(testX,testY))\n",
    "\n",
    "\n",
    "parameters = {'batch_size' : [16,20],\n",
    "              'epochs' : [8,10],\n",
    "              'optimizer' : ['adam','Adadelta'] }\n",
    "\n",
    "grid_search  = GridSearchCV(estimator = grid_model,\n",
    "                            param_grid = parameters,\n",
    "                            cv = 2)"
   ],
   "metadata": {
    "collapsed": false,
    "pycharm": {
     "name": "#%%\n"
    }
   }
  },
  {
   "cell_type": "code",
   "execution_count": 122,
   "outputs": [
    {
     "name": "stderr",
     "output_type": "stream",
     "text": [
      "2022-07-05 15:20:44.905656: I tensorflow/core/platform/cpu_feature_guard.cc:193] This TensorFlow binary is optimized with oneAPI Deep Neural Network Library (oneDNN) to use the following CPU instructions in performance-critical operations:  AVX2 FMA\n",
      "To enable them in other operations, rebuild TensorFlow with the appropriate compiler flags.\n"
     ]
    },
    {
     "ename": "ValueError",
     "evalue": "\nAll the 16 fits failed.\nIt is very likely that your model is misconfigured.\nYou can try to debug the error by setting error_score='raise'.\n\nBelow are more details about the failures:\n--------------------------------------------------------------------------------\n16 fits failed with the following error:\nTraceback (most recent call last):\n  File \"/Users/murathansaygili/Desktop/SIC/venv/lib/python3.9/site-packages/sklearn/model_selection/_validation.py\", line 686, in _fit_and_score\n    estimator.fit(X_train, y_train, **fit_params)\n  File \"/Users/murathansaygili/Desktop/SIC/venv/lib/python3.9/site-packages/keras/wrappers/scikit_learn.py\", line 164, in fit\n    history = self.model.fit(x, y, **fit_args)\n  File \"/Users/murathansaygili/Desktop/SIC/venv/lib/python3.9/site-packages/keras/utils/traceback_utils.py\", line 67, in error_handler\n    raise e.with_traceback(filtered_tb) from None\n  File \"/Users/murathansaygili/Desktop/SIC/venv/lib/python3.9/site-packages/tensorflow/python/framework/constant_op.py\", line 102, in convert_to_eager_tensor\n    return ops.EagerTensor(value, ctx.device_name, dtype)\nValueError: Failed to convert a NumPy array to a Tensor (Unsupported object type int).\n",
     "output_type": "error",
     "traceback": [
      "\u001B[0;31m---------------------------------------------------------------------------\u001B[0m",
      "\u001B[0;31mValueError\u001B[0m                                Traceback (most recent call last)",
      "Input \u001B[0;32mIn [122]\u001B[0m, in \u001B[0;36m<cell line: 1>\u001B[0;34m()\u001B[0m\n\u001B[0;32m----> 1\u001B[0m grid_search \u001B[38;5;241m=\u001B[39m \u001B[43mgrid_search\u001B[49m\u001B[38;5;241;43m.\u001B[39;49m\u001B[43mfit\u001B[49m\u001B[43m(\u001B[49m\u001B[43mtrainX\u001B[49m\u001B[43m,\u001B[49m\u001B[43mtrainY\u001B[49m\u001B[43m)\u001B[49m\n",
      "File \u001B[0;32m~/Desktop/SIC/venv/lib/python3.9/site-packages/sklearn/model_selection/_search.py:875\u001B[0m, in \u001B[0;36mBaseSearchCV.fit\u001B[0;34m(self, X, y, groups, **fit_params)\u001B[0m\n\u001B[1;32m    869\u001B[0m     results \u001B[38;5;241m=\u001B[39m \u001B[38;5;28mself\u001B[39m\u001B[38;5;241m.\u001B[39m_format_results(\n\u001B[1;32m    870\u001B[0m         all_candidate_params, n_splits, all_out, all_more_results\n\u001B[1;32m    871\u001B[0m     )\n\u001B[1;32m    873\u001B[0m     \u001B[38;5;28;01mreturn\u001B[39;00m results\n\u001B[0;32m--> 875\u001B[0m \u001B[38;5;28;43mself\u001B[39;49m\u001B[38;5;241;43m.\u001B[39;49m\u001B[43m_run_search\u001B[49m\u001B[43m(\u001B[49m\u001B[43mevaluate_candidates\u001B[49m\u001B[43m)\u001B[49m\n\u001B[1;32m    877\u001B[0m \u001B[38;5;66;03m# multimetric is determined here because in the case of a callable\u001B[39;00m\n\u001B[1;32m    878\u001B[0m \u001B[38;5;66;03m# self.scoring the return type is only known after calling\u001B[39;00m\n\u001B[1;32m    879\u001B[0m first_test_score \u001B[38;5;241m=\u001B[39m all_out[\u001B[38;5;241m0\u001B[39m][\u001B[38;5;124m\"\u001B[39m\u001B[38;5;124mtest_scores\u001B[39m\u001B[38;5;124m\"\u001B[39m]\n",
      "File \u001B[0;32m~/Desktop/SIC/venv/lib/python3.9/site-packages/sklearn/model_selection/_search.py:1375\u001B[0m, in \u001B[0;36mGridSearchCV._run_search\u001B[0;34m(self, evaluate_candidates)\u001B[0m\n\u001B[1;32m   1373\u001B[0m \u001B[38;5;28;01mdef\u001B[39;00m \u001B[38;5;21m_run_search\u001B[39m(\u001B[38;5;28mself\u001B[39m, evaluate_candidates):\n\u001B[1;32m   1374\u001B[0m     \u001B[38;5;124;03m\"\"\"Search all candidates in param_grid\"\"\"\u001B[39;00m\n\u001B[0;32m-> 1375\u001B[0m     \u001B[43mevaluate_candidates\u001B[49m\u001B[43m(\u001B[49m\u001B[43mParameterGrid\u001B[49m\u001B[43m(\u001B[49m\u001B[38;5;28;43mself\u001B[39;49m\u001B[38;5;241;43m.\u001B[39;49m\u001B[43mparam_grid\u001B[49m\u001B[43m)\u001B[49m\u001B[43m)\u001B[49m\n",
      "File \u001B[0;32m~/Desktop/SIC/venv/lib/python3.9/site-packages/sklearn/model_selection/_search.py:852\u001B[0m, in \u001B[0;36mBaseSearchCV.fit.<locals>.evaluate_candidates\u001B[0;34m(candidate_params, cv, more_results)\u001B[0m\n\u001B[1;32m    845\u001B[0m \u001B[38;5;28;01melif\u001B[39;00m \u001B[38;5;28mlen\u001B[39m(out) \u001B[38;5;241m!=\u001B[39m n_candidates \u001B[38;5;241m*\u001B[39m n_splits:\n\u001B[1;32m    846\u001B[0m     \u001B[38;5;28;01mraise\u001B[39;00m \u001B[38;5;167;01mValueError\u001B[39;00m(\n\u001B[1;32m    847\u001B[0m         \u001B[38;5;124m\"\u001B[39m\u001B[38;5;124mcv.split and cv.get_n_splits returned \u001B[39m\u001B[38;5;124m\"\u001B[39m\n\u001B[1;32m    848\u001B[0m         \u001B[38;5;124m\"\u001B[39m\u001B[38;5;124minconsistent results. Expected \u001B[39m\u001B[38;5;132;01m{}\u001B[39;00m\u001B[38;5;124m \u001B[39m\u001B[38;5;124m\"\u001B[39m\n\u001B[1;32m    849\u001B[0m         \u001B[38;5;124m\"\u001B[39m\u001B[38;5;124msplits, got \u001B[39m\u001B[38;5;132;01m{}\u001B[39;00m\u001B[38;5;124m\"\u001B[39m\u001B[38;5;241m.\u001B[39mformat(n_splits, \u001B[38;5;28mlen\u001B[39m(out) \u001B[38;5;241m/\u001B[39m\u001B[38;5;241m/\u001B[39m n_candidates)\n\u001B[1;32m    850\u001B[0m     )\n\u001B[0;32m--> 852\u001B[0m \u001B[43m_warn_or_raise_about_fit_failures\u001B[49m\u001B[43m(\u001B[49m\u001B[43mout\u001B[49m\u001B[43m,\u001B[49m\u001B[43m \u001B[49m\u001B[38;5;28;43mself\u001B[39;49m\u001B[38;5;241;43m.\u001B[39;49m\u001B[43merror_score\u001B[49m\u001B[43m)\u001B[49m\n\u001B[1;32m    854\u001B[0m \u001B[38;5;66;03m# For callable self.scoring, the return type is only know after\u001B[39;00m\n\u001B[1;32m    855\u001B[0m \u001B[38;5;66;03m# calling. If the return type is a dictionary, the error scores\u001B[39;00m\n\u001B[1;32m    856\u001B[0m \u001B[38;5;66;03m# can now be inserted with the correct key. The type checking\u001B[39;00m\n\u001B[1;32m    857\u001B[0m \u001B[38;5;66;03m# of out will be done in `_insert_error_scores`.\u001B[39;00m\n\u001B[1;32m    858\u001B[0m \u001B[38;5;28;01mif\u001B[39;00m callable(\u001B[38;5;28mself\u001B[39m\u001B[38;5;241m.\u001B[39mscoring):\n",
      "File \u001B[0;32m~/Desktop/SIC/venv/lib/python3.9/site-packages/sklearn/model_selection/_validation.py:367\u001B[0m, in \u001B[0;36m_warn_or_raise_about_fit_failures\u001B[0;34m(results, error_score)\u001B[0m\n\u001B[1;32m    360\u001B[0m \u001B[38;5;28;01mif\u001B[39;00m num_failed_fits \u001B[38;5;241m==\u001B[39m num_fits:\n\u001B[1;32m    361\u001B[0m     all_fits_failed_message \u001B[38;5;241m=\u001B[39m (\n\u001B[1;32m    362\u001B[0m         \u001B[38;5;124mf\u001B[39m\u001B[38;5;124m\"\u001B[39m\u001B[38;5;130;01m\\n\u001B[39;00m\u001B[38;5;124mAll the \u001B[39m\u001B[38;5;132;01m{\u001B[39;00mnum_fits\u001B[38;5;132;01m}\u001B[39;00m\u001B[38;5;124m fits failed.\u001B[39m\u001B[38;5;130;01m\\n\u001B[39;00m\u001B[38;5;124m\"\u001B[39m\n\u001B[1;32m    363\u001B[0m         \u001B[38;5;124m\"\u001B[39m\u001B[38;5;124mIt is very likely that your model is misconfigured.\u001B[39m\u001B[38;5;130;01m\\n\u001B[39;00m\u001B[38;5;124m\"\u001B[39m\n\u001B[1;32m    364\u001B[0m         \u001B[38;5;124m\"\u001B[39m\u001B[38;5;124mYou can try to debug the error by setting error_score=\u001B[39m\u001B[38;5;124m'\u001B[39m\u001B[38;5;124mraise\u001B[39m\u001B[38;5;124m'\u001B[39m\u001B[38;5;124m.\u001B[39m\u001B[38;5;130;01m\\n\u001B[39;00m\u001B[38;5;130;01m\\n\u001B[39;00m\u001B[38;5;124m\"\u001B[39m\n\u001B[1;32m    365\u001B[0m         \u001B[38;5;124mf\u001B[39m\u001B[38;5;124m\"\u001B[39m\u001B[38;5;124mBelow are more details about the failures:\u001B[39m\u001B[38;5;130;01m\\n\u001B[39;00m\u001B[38;5;132;01m{\u001B[39;00mfit_errors_summary\u001B[38;5;132;01m}\u001B[39;00m\u001B[38;5;124m\"\u001B[39m\n\u001B[1;32m    366\u001B[0m     )\n\u001B[0;32m--> 367\u001B[0m     \u001B[38;5;28;01mraise\u001B[39;00m \u001B[38;5;167;01mValueError\u001B[39;00m(all_fits_failed_message)\n\u001B[1;32m    369\u001B[0m \u001B[38;5;28;01melse\u001B[39;00m:\n\u001B[1;32m    370\u001B[0m     some_fits_failed_message \u001B[38;5;241m=\u001B[39m (\n\u001B[1;32m    371\u001B[0m         \u001B[38;5;124mf\u001B[39m\u001B[38;5;124m\"\u001B[39m\u001B[38;5;130;01m\\n\u001B[39;00m\u001B[38;5;132;01m{\u001B[39;00mnum_failed_fits\u001B[38;5;132;01m}\u001B[39;00m\u001B[38;5;124m fits failed out of a total of \u001B[39m\u001B[38;5;132;01m{\u001B[39;00mnum_fits\u001B[38;5;132;01m}\u001B[39;00m\u001B[38;5;124m.\u001B[39m\u001B[38;5;130;01m\\n\u001B[39;00m\u001B[38;5;124m\"\u001B[39m\n\u001B[1;32m    372\u001B[0m         \u001B[38;5;124m\"\u001B[39m\u001B[38;5;124mThe score on these train-test partitions for these parameters\u001B[39m\u001B[38;5;124m\"\u001B[39m\n\u001B[0;32m   (...)\u001B[0m\n\u001B[1;32m    376\u001B[0m         \u001B[38;5;124mf\u001B[39m\u001B[38;5;124m\"\u001B[39m\u001B[38;5;124mBelow are more details about the failures:\u001B[39m\u001B[38;5;130;01m\\n\u001B[39;00m\u001B[38;5;132;01m{\u001B[39;00mfit_errors_summary\u001B[38;5;132;01m}\u001B[39;00m\u001B[38;5;124m\"\u001B[39m\n\u001B[1;32m    377\u001B[0m     )\n",
      "\u001B[0;31mValueError\u001B[0m: \nAll the 16 fits failed.\nIt is very likely that your model is misconfigured.\nYou can try to debug the error by setting error_score='raise'.\n\nBelow are more details about the failures:\n--------------------------------------------------------------------------------\n16 fits failed with the following error:\nTraceback (most recent call last):\n  File \"/Users/murathansaygili/Desktop/SIC/venv/lib/python3.9/site-packages/sklearn/model_selection/_validation.py\", line 686, in _fit_and_score\n    estimator.fit(X_train, y_train, **fit_params)\n  File \"/Users/murathansaygili/Desktop/SIC/venv/lib/python3.9/site-packages/keras/wrappers/scikit_learn.py\", line 164, in fit\n    history = self.model.fit(x, y, **fit_args)\n  File \"/Users/murathansaygili/Desktop/SIC/venv/lib/python3.9/site-packages/keras/utils/traceback_utils.py\", line 67, in error_handler\n    raise e.with_traceback(filtered_tb) from None\n  File \"/Users/murathansaygili/Desktop/SIC/venv/lib/python3.9/site-packages/tensorflow/python/framework/constant_op.py\", line 102, in convert_to_eager_tensor\n    return ops.EagerTensor(value, ctx.device_name, dtype)\nValueError: Failed to convert a NumPy array to a Tensor (Unsupported object type int).\n"
     ]
    }
   ],
   "source": [
    "grid_search = grid_search.fit(trainX,trainY)"
   ],
   "metadata": {
    "collapsed": false,
    "pycharm": {
     "name": "#%%\n"
    }
   }
  },
  {
   "cell_type": "code",
   "execution_count": null,
   "outputs": [],
   "source": [
    "batch_size = 256\n",
    "buffer_size = 150\n",
    "train_data = tf.data.Dataset.from_tensor_slices((x_train, y_train))\n",
    "train_data = train_data.cache().shuffle(buffer_size).batch(batch_size).repeat()\n",
    "val_data = tf.data.Dataset.from_tensor_slices((x_vali, y_vali))\n",
    "val_data = val_data.batch(batch_size).repeat()"
   ],
   "metadata": {
    "collapsed": false,
    "pycharm": {
     "name": "#%%\n"
    }
   }
  }
 ],
 "metadata": {
  "kernelspec": {
   "display_name": "Python 3",
   "language": "python",
   "name": "python3"
  },
  "language_info": {
   "codemirror_mode": {
    "name": "ipython",
    "version": 2
   },
   "file_extension": ".py",
   "mimetype": "text/x-python",
   "name": "python",
   "nbconvert_exporter": "python",
   "pygments_lexer": "ipython2",
   "version": "2.7.6"
  }
 },
 "nbformat": 4,
 "nbformat_minor": 0
}