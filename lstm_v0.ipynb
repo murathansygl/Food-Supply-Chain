{
 "cells": [
  {
   "cell_type": "code",
   "execution_count": 16,
   "metadata": {
    "collapsed": true,
    "pycharm": {
     "name": "#%%\n"
    }
   },
   "outputs": [],
   "source": [
    "import pandas as pd\n",
    "import plotly.express as px\n",
    "import numpy as np\n",
    "from plotly.subplots import make_subplots\n",
    "import plotly.graph_objects as go"
   ]
  },
  {
   "cell_type": "code",
   "execution_count": 17,
   "outputs": [
    {
     "data": {
      "text/plain": "       country                      commodity  year  loss_percentage  \\\n0      Myanmar  Groundnuts, excluding shelled  2009             5.22   \n1      Myanmar  Groundnuts, excluding shelled  2008             5.43   \n2      Myanmar  Groundnuts, excluding shelled  2007             5.61   \n3      Myanmar  Groundnuts, excluding shelled  2006             5.40   \n4      Myanmar  Groundnuts, excluding shelled  2005             5.00   \n...        ...                            ...   ...              ...   \n27768   Zambia                         Millet  2000             1.27   \n27769   Zambia                         Millet  2000             2.50   \n27770   Zambia                         Millet  2000             1.00   \n27771   Zambia                         Millet  2000             2.38   \n27772   Zambia                         Millet  2000             3.44   \n\n                 activity   food_supply_stage cause_of_loss  \n0                     NaN  Whole supply chain           NaN  \n1                     NaN  Whole supply chain           NaN  \n2                     NaN  Whole supply chain           NaN  \n3                     NaN  Whole supply chain           NaN  \n4                     NaN  Whole supply chain           NaN  \n...                   ...                 ...           ...  \n27768             Storage                Farm           NaN  \n27769           Winnowing                Farm           NaN  \n27770      Transportation           Transport           NaN  \n27771             Storage             Storage           NaN  \n27772  Drying, Harvesting             Harvest           NaN  \n\n[27773 rows x 7 columns]",
      "text/html": "<div>\n<style scoped>\n    .dataframe tbody tr th:only-of-type {\n        vertical-align: middle;\n    }\n\n    .dataframe tbody tr th {\n        vertical-align: top;\n    }\n\n    .dataframe thead th {\n        text-align: right;\n    }\n</style>\n<table border=\"1\" class=\"dataframe\">\n  <thead>\n    <tr style=\"text-align: right;\">\n      <th></th>\n      <th>country</th>\n      <th>commodity</th>\n      <th>year</th>\n      <th>loss_percentage</th>\n      <th>activity</th>\n      <th>food_supply_stage</th>\n      <th>cause_of_loss</th>\n    </tr>\n  </thead>\n  <tbody>\n    <tr>\n      <th>0</th>\n      <td>Myanmar</td>\n      <td>Groundnuts, excluding shelled</td>\n      <td>2009</td>\n      <td>5.22</td>\n      <td>NaN</td>\n      <td>Whole supply chain</td>\n      <td>NaN</td>\n    </tr>\n    <tr>\n      <th>1</th>\n      <td>Myanmar</td>\n      <td>Groundnuts, excluding shelled</td>\n      <td>2008</td>\n      <td>5.43</td>\n      <td>NaN</td>\n      <td>Whole supply chain</td>\n      <td>NaN</td>\n    </tr>\n    <tr>\n      <th>2</th>\n      <td>Myanmar</td>\n      <td>Groundnuts, excluding shelled</td>\n      <td>2007</td>\n      <td>5.61</td>\n      <td>NaN</td>\n      <td>Whole supply chain</td>\n      <td>NaN</td>\n    </tr>\n    <tr>\n      <th>3</th>\n      <td>Myanmar</td>\n      <td>Groundnuts, excluding shelled</td>\n      <td>2006</td>\n      <td>5.40</td>\n      <td>NaN</td>\n      <td>Whole supply chain</td>\n      <td>NaN</td>\n    </tr>\n    <tr>\n      <th>4</th>\n      <td>Myanmar</td>\n      <td>Groundnuts, excluding shelled</td>\n      <td>2005</td>\n      <td>5.00</td>\n      <td>NaN</td>\n      <td>Whole supply chain</td>\n      <td>NaN</td>\n    </tr>\n    <tr>\n      <th>...</th>\n      <td>...</td>\n      <td>...</td>\n      <td>...</td>\n      <td>...</td>\n      <td>...</td>\n      <td>...</td>\n      <td>...</td>\n    </tr>\n    <tr>\n      <th>27768</th>\n      <td>Zambia</td>\n      <td>Millet</td>\n      <td>2000</td>\n      <td>1.27</td>\n      <td>Storage</td>\n      <td>Farm</td>\n      <td>NaN</td>\n    </tr>\n    <tr>\n      <th>27769</th>\n      <td>Zambia</td>\n      <td>Millet</td>\n      <td>2000</td>\n      <td>2.50</td>\n      <td>Winnowing</td>\n      <td>Farm</td>\n      <td>NaN</td>\n    </tr>\n    <tr>\n      <th>27770</th>\n      <td>Zambia</td>\n      <td>Millet</td>\n      <td>2000</td>\n      <td>1.00</td>\n      <td>Transportation</td>\n      <td>Transport</td>\n      <td>NaN</td>\n    </tr>\n    <tr>\n      <th>27771</th>\n      <td>Zambia</td>\n      <td>Millet</td>\n      <td>2000</td>\n      <td>2.38</td>\n      <td>Storage</td>\n      <td>Storage</td>\n      <td>NaN</td>\n    </tr>\n    <tr>\n      <th>27772</th>\n      <td>Zambia</td>\n      <td>Millet</td>\n      <td>2000</td>\n      <td>3.44</td>\n      <td>Drying, Harvesting</td>\n      <td>Harvest</td>\n      <td>NaN</td>\n    </tr>\n  </tbody>\n</table>\n<p>27773 rows × 7 columns</p>\n</div>"
     },
     "execution_count": 17,
     "metadata": {},
     "output_type": "execute_result"
    }
   ],
   "source": [
    "df = pd.read_csv(\"Data/Data.csv\")\n",
    "df = df[[\"country\", \"commodity\", \"year\", \"loss_percentage\", \"activity\", \"food_supply_stage\", \"cause_of_loss\"]]\n",
    "df"
   ],
   "metadata": {
    "collapsed": false,
    "pycharm": {
     "name": "#%%\n"
    }
   }
  },
  {
   "cell_type": "code",
   "execution_count": 34,
   "outputs": [
    {
     "data": {
      "text/plain": "     country     commodity  year  loss_percentage            activity  \\\n2448   Benin  Maize (corn)  2020             2.65             Storage   \n2449   Benin  Maize (corn)  2020             3.04             Storage   \n2450   Benin  Maize (corn)  2020             6.42  Drying, Harvesting   \n2451   Benin  Maize (corn)  2020             4.00              Drying   \n2452   Benin  Maize (corn)  2020             2.36      Transportation   \n...      ...           ...   ...              ...                 ...   \n3068   Benin  Maize (corn)  2000             1.65      Transportation   \n3069   Benin  Maize (corn)  2000             3.05             Storage   \n3070   Benin  Maize (corn)  2000             4.00              Drying   \n3071   Benin  Maize (corn)  2000             2.36      Transportation   \n3072   Benin  Maize (corn)  2000             6.42  Drying, Harvesting   \n\n     food_supply_stage cause_of_loss  \n2448           Storage           NaN  \n2449              Farm           NaN  \n2450           Harvest           NaN  \n2451              Farm           NaN  \n2452              Farm           NaN  \n...                ...           ...  \n3068         Transport           NaN  \n3069              Farm           NaN  \n3070              Farm           NaN  \n3071              Farm           NaN  \n3072           Harvest           NaN  \n\n[152 rows x 7 columns]",
      "text/html": "<div>\n<style scoped>\n    .dataframe tbody tr th:only-of-type {\n        vertical-align: middle;\n    }\n\n    .dataframe tbody tr th {\n        vertical-align: top;\n    }\n\n    .dataframe thead th {\n        text-align: right;\n    }\n</style>\n<table border=\"1\" class=\"dataframe\">\n  <thead>\n    <tr style=\"text-align: right;\">\n      <th></th>\n      <th>country</th>\n      <th>commodity</th>\n      <th>year</th>\n      <th>loss_percentage</th>\n      <th>activity</th>\n      <th>food_supply_stage</th>\n      <th>cause_of_loss</th>\n    </tr>\n  </thead>\n  <tbody>\n    <tr>\n      <th>2448</th>\n      <td>Benin</td>\n      <td>Maize (corn)</td>\n      <td>2020</td>\n      <td>2.65</td>\n      <td>Storage</td>\n      <td>Storage</td>\n      <td>NaN</td>\n    </tr>\n    <tr>\n      <th>2449</th>\n      <td>Benin</td>\n      <td>Maize (corn)</td>\n      <td>2020</td>\n      <td>3.04</td>\n      <td>Storage</td>\n      <td>Farm</td>\n      <td>NaN</td>\n    </tr>\n    <tr>\n      <th>2450</th>\n      <td>Benin</td>\n      <td>Maize (corn)</td>\n      <td>2020</td>\n      <td>6.42</td>\n      <td>Drying, Harvesting</td>\n      <td>Harvest</td>\n      <td>NaN</td>\n    </tr>\n    <tr>\n      <th>2451</th>\n      <td>Benin</td>\n      <td>Maize (corn)</td>\n      <td>2020</td>\n      <td>4.00</td>\n      <td>Drying</td>\n      <td>Farm</td>\n      <td>NaN</td>\n    </tr>\n    <tr>\n      <th>2452</th>\n      <td>Benin</td>\n      <td>Maize (corn)</td>\n      <td>2020</td>\n      <td>2.36</td>\n      <td>Transportation</td>\n      <td>Farm</td>\n      <td>NaN</td>\n    </tr>\n    <tr>\n      <th>...</th>\n      <td>...</td>\n      <td>...</td>\n      <td>...</td>\n      <td>...</td>\n      <td>...</td>\n      <td>...</td>\n      <td>...</td>\n    </tr>\n    <tr>\n      <th>3068</th>\n      <td>Benin</td>\n      <td>Maize (corn)</td>\n      <td>2000</td>\n      <td>1.65</td>\n      <td>Transportation</td>\n      <td>Transport</td>\n      <td>NaN</td>\n    </tr>\n    <tr>\n      <th>3069</th>\n      <td>Benin</td>\n      <td>Maize (corn)</td>\n      <td>2000</td>\n      <td>3.05</td>\n      <td>Storage</td>\n      <td>Farm</td>\n      <td>NaN</td>\n    </tr>\n    <tr>\n      <th>3070</th>\n      <td>Benin</td>\n      <td>Maize (corn)</td>\n      <td>2000</td>\n      <td>4.00</td>\n      <td>Drying</td>\n      <td>Farm</td>\n      <td>NaN</td>\n    </tr>\n    <tr>\n      <th>3071</th>\n      <td>Benin</td>\n      <td>Maize (corn)</td>\n      <td>2000</td>\n      <td>2.36</td>\n      <td>Transportation</td>\n      <td>Farm</td>\n      <td>NaN</td>\n    </tr>\n    <tr>\n      <th>3072</th>\n      <td>Benin</td>\n      <td>Maize (corn)</td>\n      <td>2000</td>\n      <td>6.42</td>\n      <td>Drying, Harvesting</td>\n      <td>Harvest</td>\n      <td>NaN</td>\n    </tr>\n  </tbody>\n</table>\n<p>152 rows × 7 columns</p>\n</div>"
     },
     "execution_count": 34,
     "metadata": {},
     "output_type": "execute_result"
    }
   ],
   "source": [
    "def focus_on(country, commodity):\n",
    "    new_df=df[df.country==country]\n",
    "    new_df=new_df[new_df.commodity==commodity]\n",
    "    return new_df\n",
    "\n",
    "new_df=focus_on(\"Kenya\",\"Maize (corn)\")\n",
    "\n",
    "\n",
    "new_df=focus_on(\"Benin\",\"Maize (corn)\")\n",
    "new_df"
   ],
   "metadata": {
    "collapsed": false,
    "pycharm": {
     "name": "#%%\n"
    }
   }
  },
  {
   "cell_type": "code",
   "execution_count": 38,
   "outputs": [],
   "source": [
    "new_df=new_df.reset_index()"
   ],
   "metadata": {
    "collapsed": false,
    "pycharm": {
     "name": "#%%\n"
    }
   }
  },
  {
   "cell_type": "code",
   "execution_count": 46,
   "outputs": [],
   "source": [
    "new_df.sort_values(by=([\"index\"]),ascending=False, inplace=True)"
   ],
   "metadata": {
    "collapsed": false,
    "pycharm": {
     "name": "#%%\n"
    }
   }
  },
  {
   "cell_type": "code",
   "execution_count": 47,
   "outputs": [],
   "source": [
    "train=new_df[:-round(len(new_df)*0.2)]\n",
    "test=new_df[-round(len(new_df)*0.2):]"
   ],
   "metadata": {
    "collapsed": false,
    "pycharm": {
     "name": "#%%\n"
    }
   }
  },
  {
   "cell_type": "code",
   "execution_count": 48,
   "outputs": [
    {
     "data": {
      "text/plain": "     index country     commodity  year  loss_percentage             activity  \\\n151   3072   Benin  Maize (corn)  2000             6.42   Drying, Harvesting   \n150   3071   Benin  Maize (corn)  2000             2.36       Transportation   \n149   3070   Benin  Maize (corn)  2000             4.00               Drying   \n148   3069   Benin  Maize (corn)  2000             3.05              Storage   \n147   3068   Benin  Maize (corn)  2000             1.65       Transportation   \n..     ...     ...           ...   ...              ...                  ...   \n34    2566   Benin  Maize (corn)  2016             2.36       Transportation   \n33    2565   Benin  Maize (corn)  2016             3.00              Storage   \n32    2564   Benin  Maize (corn)  2016             4.00               Drying   \n31    2563   Benin  Maize (corn)  2016             2.65              Storage   \n30    2562   Benin  Maize (corn)  2016             1.32  Shelling, Threshing   \n\n    food_supply_stage cause_of_loss  \n151           Harvest           NaN  \n150              Farm           NaN  \n149              Farm           NaN  \n148              Farm           NaN  \n147         Transport           NaN  \n..                ...           ...  \n34               Farm           NaN  \n33               Farm           NaN  \n32               Farm           NaN  \n31            Storage           NaN  \n30               Farm           NaN  \n\n[122 rows x 8 columns]",
      "text/html": "<div>\n<style scoped>\n    .dataframe tbody tr th:only-of-type {\n        vertical-align: middle;\n    }\n\n    .dataframe tbody tr th {\n        vertical-align: top;\n    }\n\n    .dataframe thead th {\n        text-align: right;\n    }\n</style>\n<table border=\"1\" class=\"dataframe\">\n  <thead>\n    <tr style=\"text-align: right;\">\n      <th></th>\n      <th>index</th>\n      <th>country</th>\n      <th>commodity</th>\n      <th>year</th>\n      <th>loss_percentage</th>\n      <th>activity</th>\n      <th>food_supply_stage</th>\n      <th>cause_of_loss</th>\n    </tr>\n  </thead>\n  <tbody>\n    <tr>\n      <th>151</th>\n      <td>3072</td>\n      <td>Benin</td>\n      <td>Maize (corn)</td>\n      <td>2000</td>\n      <td>6.42</td>\n      <td>Drying, Harvesting</td>\n      <td>Harvest</td>\n      <td>NaN</td>\n    </tr>\n    <tr>\n      <th>150</th>\n      <td>3071</td>\n      <td>Benin</td>\n      <td>Maize (corn)</td>\n      <td>2000</td>\n      <td>2.36</td>\n      <td>Transportation</td>\n      <td>Farm</td>\n      <td>NaN</td>\n    </tr>\n    <tr>\n      <th>149</th>\n      <td>3070</td>\n      <td>Benin</td>\n      <td>Maize (corn)</td>\n      <td>2000</td>\n      <td>4.00</td>\n      <td>Drying</td>\n      <td>Farm</td>\n      <td>NaN</td>\n    </tr>\n    <tr>\n      <th>148</th>\n      <td>3069</td>\n      <td>Benin</td>\n      <td>Maize (corn)</td>\n      <td>2000</td>\n      <td>3.05</td>\n      <td>Storage</td>\n      <td>Farm</td>\n      <td>NaN</td>\n    </tr>\n    <tr>\n      <th>147</th>\n      <td>3068</td>\n      <td>Benin</td>\n      <td>Maize (corn)</td>\n      <td>2000</td>\n      <td>1.65</td>\n      <td>Transportation</td>\n      <td>Transport</td>\n      <td>NaN</td>\n    </tr>\n    <tr>\n      <th>...</th>\n      <td>...</td>\n      <td>...</td>\n      <td>...</td>\n      <td>...</td>\n      <td>...</td>\n      <td>...</td>\n      <td>...</td>\n      <td>...</td>\n    </tr>\n    <tr>\n      <th>34</th>\n      <td>2566</td>\n      <td>Benin</td>\n      <td>Maize (corn)</td>\n      <td>2016</td>\n      <td>2.36</td>\n      <td>Transportation</td>\n      <td>Farm</td>\n      <td>NaN</td>\n    </tr>\n    <tr>\n      <th>33</th>\n      <td>2565</td>\n      <td>Benin</td>\n      <td>Maize (corn)</td>\n      <td>2016</td>\n      <td>3.00</td>\n      <td>Storage</td>\n      <td>Farm</td>\n      <td>NaN</td>\n    </tr>\n    <tr>\n      <th>32</th>\n      <td>2564</td>\n      <td>Benin</td>\n      <td>Maize (corn)</td>\n      <td>2016</td>\n      <td>4.00</td>\n      <td>Drying</td>\n      <td>Farm</td>\n      <td>NaN</td>\n    </tr>\n    <tr>\n      <th>31</th>\n      <td>2563</td>\n      <td>Benin</td>\n      <td>Maize (corn)</td>\n      <td>2016</td>\n      <td>2.65</td>\n      <td>Storage</td>\n      <td>Storage</td>\n      <td>NaN</td>\n    </tr>\n    <tr>\n      <th>30</th>\n      <td>2562</td>\n      <td>Benin</td>\n      <td>Maize (corn)</td>\n      <td>2016</td>\n      <td>1.32</td>\n      <td>Shelling, Threshing</td>\n      <td>Farm</td>\n      <td>NaN</td>\n    </tr>\n  </tbody>\n</table>\n<p>122 rows × 8 columns</p>\n</div>"
     },
     "execution_count": 48,
     "metadata": {},
     "output_type": "execute_result"
    }
   ],
   "source": [
    "train"
   ],
   "metadata": {
    "collapsed": false,
    "pycharm": {
     "name": "#%%\n"
    }
   }
  },
  {
   "cell_type": "code",
   "execution_count": 49,
   "outputs": [
    {
     "data": {
      "text/plain": "    index country     commodity  year  loss_percentage             activity  \\\n29   2561   Benin  Maize (corn)  2016             1.65       Transportation   \n28   2560   Benin  Maize (corn)  2016             6.42   Drying, Harvesting   \n27   2538   Benin  Maize (corn)  2017             1.65       Transportation   \n26   2537   Benin  Maize (corn)  2017             6.42   Drying, Harvesting   \n25   2536   Benin  Maize (corn)  2017             2.65              Storage   \n24   2535   Benin  Maize (corn)  2017             4.00               Drying   \n23   2534   Benin  Maize (corn)  2017             1.32  Shelling, Threshing   \n22   2533   Benin  Maize (corn)  2017             2.36       Transportation   \n21   2532   Benin  Maize (corn)  2017             3.04              Storage   \n20   2510   Benin  Maize (corn)  2018             2.36       Transportation   \n19   2509   Benin  Maize (corn)  2018             3.04              Storage   \n18   2508   Benin  Maize (corn)  2018             1.65       Transportation   \n17   2507   Benin  Maize (corn)  2018             6.42   Drying, Harvesting   \n16   2506   Benin  Maize (corn)  2018             2.65              Storage   \n15   2505   Benin  Maize (corn)  2018             1.32  Shelling, Threshing   \n14   2504   Benin  Maize (corn)  2018             4.00               Drying   \n13   2482   Benin  Maize (corn)  2019             2.65              Storage   \n12   2481   Benin  Maize (corn)  2019             1.32  Shelling, Threshing   \n11   2480   Benin  Maize (corn)  2019             3.04              Storage   \n10   2479   Benin  Maize (corn)  2019             6.42   Drying, Harvesting   \n9    2478   Benin  Maize (corn)  2019             4.00               Drying   \n8    2477   Benin  Maize (corn)  2019             1.65       Transportation   \n7    2476   Benin  Maize (corn)  2019             2.36       Transportation   \n6    2454   Benin  Maize (corn)  2020             1.32  Shelling, Threshing   \n5    2453   Benin  Maize (corn)  2020             1.65       Transportation   \n4    2452   Benin  Maize (corn)  2020             2.36       Transportation   \n3    2451   Benin  Maize (corn)  2020             4.00               Drying   \n2    2450   Benin  Maize (corn)  2020             6.42   Drying, Harvesting   \n1    2449   Benin  Maize (corn)  2020             3.04              Storage   \n0    2448   Benin  Maize (corn)  2020             2.65              Storage   \n\n   food_supply_stage cause_of_loss  \n29         Transport           NaN  \n28           Harvest           NaN  \n27         Transport           NaN  \n26           Harvest           NaN  \n25           Storage           NaN  \n24              Farm           NaN  \n23              Farm           NaN  \n22              Farm           NaN  \n21              Farm           NaN  \n20              Farm           NaN  \n19              Farm           NaN  \n18         Transport           NaN  \n17           Harvest           NaN  \n16           Storage           NaN  \n15              Farm           NaN  \n14              Farm           NaN  \n13           Storage           NaN  \n12              Farm           NaN  \n11              Farm           NaN  \n10           Harvest           NaN  \n9               Farm           NaN  \n8          Transport           NaN  \n7               Farm           NaN  \n6               Farm           NaN  \n5          Transport           NaN  \n4               Farm           NaN  \n3               Farm           NaN  \n2            Harvest           NaN  \n1               Farm           NaN  \n0            Storage           NaN  ",
      "text/html": "<div>\n<style scoped>\n    .dataframe tbody tr th:only-of-type {\n        vertical-align: middle;\n    }\n\n    .dataframe tbody tr th {\n        vertical-align: top;\n    }\n\n    .dataframe thead th {\n        text-align: right;\n    }\n</style>\n<table border=\"1\" class=\"dataframe\">\n  <thead>\n    <tr style=\"text-align: right;\">\n      <th></th>\n      <th>index</th>\n      <th>country</th>\n      <th>commodity</th>\n      <th>year</th>\n      <th>loss_percentage</th>\n      <th>activity</th>\n      <th>food_supply_stage</th>\n      <th>cause_of_loss</th>\n    </tr>\n  </thead>\n  <tbody>\n    <tr>\n      <th>29</th>\n      <td>2561</td>\n      <td>Benin</td>\n      <td>Maize (corn)</td>\n      <td>2016</td>\n      <td>1.65</td>\n      <td>Transportation</td>\n      <td>Transport</td>\n      <td>NaN</td>\n    </tr>\n    <tr>\n      <th>28</th>\n      <td>2560</td>\n      <td>Benin</td>\n      <td>Maize (corn)</td>\n      <td>2016</td>\n      <td>6.42</td>\n      <td>Drying, Harvesting</td>\n      <td>Harvest</td>\n      <td>NaN</td>\n    </tr>\n    <tr>\n      <th>27</th>\n      <td>2538</td>\n      <td>Benin</td>\n      <td>Maize (corn)</td>\n      <td>2017</td>\n      <td>1.65</td>\n      <td>Transportation</td>\n      <td>Transport</td>\n      <td>NaN</td>\n    </tr>\n    <tr>\n      <th>26</th>\n      <td>2537</td>\n      <td>Benin</td>\n      <td>Maize (corn)</td>\n      <td>2017</td>\n      <td>6.42</td>\n      <td>Drying, Harvesting</td>\n      <td>Harvest</td>\n      <td>NaN</td>\n    </tr>\n    <tr>\n      <th>25</th>\n      <td>2536</td>\n      <td>Benin</td>\n      <td>Maize (corn)</td>\n      <td>2017</td>\n      <td>2.65</td>\n      <td>Storage</td>\n      <td>Storage</td>\n      <td>NaN</td>\n    </tr>\n    <tr>\n      <th>24</th>\n      <td>2535</td>\n      <td>Benin</td>\n      <td>Maize (corn)</td>\n      <td>2017</td>\n      <td>4.00</td>\n      <td>Drying</td>\n      <td>Farm</td>\n      <td>NaN</td>\n    </tr>\n    <tr>\n      <th>23</th>\n      <td>2534</td>\n      <td>Benin</td>\n      <td>Maize (corn)</td>\n      <td>2017</td>\n      <td>1.32</td>\n      <td>Shelling, Threshing</td>\n      <td>Farm</td>\n      <td>NaN</td>\n    </tr>\n    <tr>\n      <th>22</th>\n      <td>2533</td>\n      <td>Benin</td>\n      <td>Maize (corn)</td>\n      <td>2017</td>\n      <td>2.36</td>\n      <td>Transportation</td>\n      <td>Farm</td>\n      <td>NaN</td>\n    </tr>\n    <tr>\n      <th>21</th>\n      <td>2532</td>\n      <td>Benin</td>\n      <td>Maize (corn)</td>\n      <td>2017</td>\n      <td>3.04</td>\n      <td>Storage</td>\n      <td>Farm</td>\n      <td>NaN</td>\n    </tr>\n    <tr>\n      <th>20</th>\n      <td>2510</td>\n      <td>Benin</td>\n      <td>Maize (corn)</td>\n      <td>2018</td>\n      <td>2.36</td>\n      <td>Transportation</td>\n      <td>Farm</td>\n      <td>NaN</td>\n    </tr>\n    <tr>\n      <th>19</th>\n      <td>2509</td>\n      <td>Benin</td>\n      <td>Maize (corn)</td>\n      <td>2018</td>\n      <td>3.04</td>\n      <td>Storage</td>\n      <td>Farm</td>\n      <td>NaN</td>\n    </tr>\n    <tr>\n      <th>18</th>\n      <td>2508</td>\n      <td>Benin</td>\n      <td>Maize (corn)</td>\n      <td>2018</td>\n      <td>1.65</td>\n      <td>Transportation</td>\n      <td>Transport</td>\n      <td>NaN</td>\n    </tr>\n    <tr>\n      <th>17</th>\n      <td>2507</td>\n      <td>Benin</td>\n      <td>Maize (corn)</td>\n      <td>2018</td>\n      <td>6.42</td>\n      <td>Drying, Harvesting</td>\n      <td>Harvest</td>\n      <td>NaN</td>\n    </tr>\n    <tr>\n      <th>16</th>\n      <td>2506</td>\n      <td>Benin</td>\n      <td>Maize (corn)</td>\n      <td>2018</td>\n      <td>2.65</td>\n      <td>Storage</td>\n      <td>Storage</td>\n      <td>NaN</td>\n    </tr>\n    <tr>\n      <th>15</th>\n      <td>2505</td>\n      <td>Benin</td>\n      <td>Maize (corn)</td>\n      <td>2018</td>\n      <td>1.32</td>\n      <td>Shelling, Threshing</td>\n      <td>Farm</td>\n      <td>NaN</td>\n    </tr>\n    <tr>\n      <th>14</th>\n      <td>2504</td>\n      <td>Benin</td>\n      <td>Maize (corn)</td>\n      <td>2018</td>\n      <td>4.00</td>\n      <td>Drying</td>\n      <td>Farm</td>\n      <td>NaN</td>\n    </tr>\n    <tr>\n      <th>13</th>\n      <td>2482</td>\n      <td>Benin</td>\n      <td>Maize (corn)</td>\n      <td>2019</td>\n      <td>2.65</td>\n      <td>Storage</td>\n      <td>Storage</td>\n      <td>NaN</td>\n    </tr>\n    <tr>\n      <th>12</th>\n      <td>2481</td>\n      <td>Benin</td>\n      <td>Maize (corn)</td>\n      <td>2019</td>\n      <td>1.32</td>\n      <td>Shelling, Threshing</td>\n      <td>Farm</td>\n      <td>NaN</td>\n    </tr>\n    <tr>\n      <th>11</th>\n      <td>2480</td>\n      <td>Benin</td>\n      <td>Maize (corn)</td>\n      <td>2019</td>\n      <td>3.04</td>\n      <td>Storage</td>\n      <td>Farm</td>\n      <td>NaN</td>\n    </tr>\n    <tr>\n      <th>10</th>\n      <td>2479</td>\n      <td>Benin</td>\n      <td>Maize (corn)</td>\n      <td>2019</td>\n      <td>6.42</td>\n      <td>Drying, Harvesting</td>\n      <td>Harvest</td>\n      <td>NaN</td>\n    </tr>\n    <tr>\n      <th>9</th>\n      <td>2478</td>\n      <td>Benin</td>\n      <td>Maize (corn)</td>\n      <td>2019</td>\n      <td>4.00</td>\n      <td>Drying</td>\n      <td>Farm</td>\n      <td>NaN</td>\n    </tr>\n    <tr>\n      <th>8</th>\n      <td>2477</td>\n      <td>Benin</td>\n      <td>Maize (corn)</td>\n      <td>2019</td>\n      <td>1.65</td>\n      <td>Transportation</td>\n      <td>Transport</td>\n      <td>NaN</td>\n    </tr>\n    <tr>\n      <th>7</th>\n      <td>2476</td>\n      <td>Benin</td>\n      <td>Maize (corn)</td>\n      <td>2019</td>\n      <td>2.36</td>\n      <td>Transportation</td>\n      <td>Farm</td>\n      <td>NaN</td>\n    </tr>\n    <tr>\n      <th>6</th>\n      <td>2454</td>\n      <td>Benin</td>\n      <td>Maize (corn)</td>\n      <td>2020</td>\n      <td>1.32</td>\n      <td>Shelling, Threshing</td>\n      <td>Farm</td>\n      <td>NaN</td>\n    </tr>\n    <tr>\n      <th>5</th>\n      <td>2453</td>\n      <td>Benin</td>\n      <td>Maize (corn)</td>\n      <td>2020</td>\n      <td>1.65</td>\n      <td>Transportation</td>\n      <td>Transport</td>\n      <td>NaN</td>\n    </tr>\n    <tr>\n      <th>4</th>\n      <td>2452</td>\n      <td>Benin</td>\n      <td>Maize (corn)</td>\n      <td>2020</td>\n      <td>2.36</td>\n      <td>Transportation</td>\n      <td>Farm</td>\n      <td>NaN</td>\n    </tr>\n    <tr>\n      <th>3</th>\n      <td>2451</td>\n      <td>Benin</td>\n      <td>Maize (corn)</td>\n      <td>2020</td>\n      <td>4.00</td>\n      <td>Drying</td>\n      <td>Farm</td>\n      <td>NaN</td>\n    </tr>\n    <tr>\n      <th>2</th>\n      <td>2450</td>\n      <td>Benin</td>\n      <td>Maize (corn)</td>\n      <td>2020</td>\n      <td>6.42</td>\n      <td>Drying, Harvesting</td>\n      <td>Harvest</td>\n      <td>NaN</td>\n    </tr>\n    <tr>\n      <th>1</th>\n      <td>2449</td>\n      <td>Benin</td>\n      <td>Maize (corn)</td>\n      <td>2020</td>\n      <td>3.04</td>\n      <td>Storage</td>\n      <td>Farm</td>\n      <td>NaN</td>\n    </tr>\n    <tr>\n      <th>0</th>\n      <td>2448</td>\n      <td>Benin</td>\n      <td>Maize (corn)</td>\n      <td>2020</td>\n      <td>2.65</td>\n      <td>Storage</td>\n      <td>Storage</td>\n      <td>NaN</td>\n    </tr>\n  </tbody>\n</table>\n</div>"
     },
     "execution_count": 49,
     "metadata": {},
     "output_type": "execute_result"
    }
   ],
   "source": [
    "test"
   ],
   "metadata": {
    "collapsed": false,
    "pycharm": {
     "name": "#%%\n"
    }
   }
  },
  {
   "cell_type": "code",
   "execution_count": 18,
   "outputs": [],
   "source": [],
   "metadata": {
    "collapsed": false,
    "pycharm": {
     "name": "#%%\n"
    }
   }
  },
  {
   "cell_type": "code",
   "execution_count": 18,
   "outputs": [],
   "source": [],
   "metadata": {
    "collapsed": false,
    "pycharm": {
     "name": "#%%\n"
    }
   }
  },
  {
   "cell_type": "code",
   "execution_count": 18,
   "outputs": [],
   "source": [],
   "metadata": {
    "collapsed": false,
    "pycharm": {
     "name": "#%%\n"
    }
   }
  },
  {
   "cell_type": "code",
   "execution_count": 18,
   "outputs": [],
   "source": [],
   "metadata": {
    "collapsed": false,
    "pycharm": {
     "name": "#%%\n"
    }
   }
  },
  {
   "cell_type": "code",
   "execution_count": 18,
   "outputs": [],
   "source": [],
   "metadata": {
    "collapsed": false,
    "pycharm": {
     "name": "#%%\n"
    }
   }
  },
  {
   "cell_type": "code",
   "execution_count": 18,
   "outputs": [],
   "source": [],
   "metadata": {
    "collapsed": false,
    "pycharm": {
     "name": "#%%\n"
    }
   }
  },
  {
   "cell_type": "code",
   "execution_count": 18,
   "outputs": [],
   "source": [],
   "metadata": {
    "collapsed": false,
    "pycharm": {
     "name": "#%%\n"
    }
   }
  },
  {
   "cell_type": "code",
   "execution_count": 18,
   "outputs": [],
   "source": [],
   "metadata": {
    "collapsed": false,
    "pycharm": {
     "name": "#%%\n"
    }
   }
  },
  {
   "cell_type": "code",
   "execution_count": 18,
   "outputs": [],
   "source": [],
   "metadata": {
    "collapsed": false,
    "pycharm": {
     "name": "#%%\n"
    }
   }
  },
  {
   "cell_type": "code",
   "execution_count": null,
   "outputs": [],
   "source": [],
   "metadata": {
    "collapsed": false,
    "pycharm": {
     "name": "#%%\n"
    }
   }
  }
 ],
 "metadata": {
  "kernelspec": {
   "display_name": "Python 3",
   "language": "python",
   "name": "python3"
  },
  "language_info": {
   "codemirror_mode": {
    "name": "ipython",
    "version": 2
   },
   "file_extension": ".py",
   "mimetype": "text/x-python",
   "name": "python",
   "nbconvert_exporter": "python",
   "pygments_lexer": "ipython2",
   "version": "2.7.6"
  }
 },
 "nbformat": 4,
 "nbformat_minor": 0
}