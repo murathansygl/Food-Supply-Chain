{
 "cells": [
  {
   "cell_type": "code",
   "execution_count": 63,
   "outputs": [],
   "source": [
    "import pandas as pd\n",
    "import plotly.express as px\n",
    "import matplotlib.pyplot as plt\n",
    "import numpy as np\n",
    "from keras import Sequential\n",
    "from keras.layers import LSTM, Dropout, Dense\n",
    "from keras.wrappers.scikit_learn import KerasRegressor\n",
    "from plotly.subplots import make_subplots\n",
    "import plotly.graph_objects as go\n",
    "from sklearn.model_selection import GridSearchCV\n",
    "from sklearn import metrics\n",
    "from sklearn.preprocessing import LabelEncoder, MinMaxScaler\n",
    "import tensorflow as tf\n"
   ],
   "metadata": {
    "collapsed": false,
    "pycharm": {
     "name": "#%%\n"
    }
   }
  },
  {
   "cell_type": "code",
   "execution_count": 64,
   "outputs": [
    {
     "data": {
      "text/plain": "     index country     commodity  year  loss_percentage            activity  \\\n151   3072   Benin  Maize (corn)  2000             6.42  Drying, Harvesting   \n150   3071   Benin  Maize (corn)  2000             2.36      Transportation   \n149   3070   Benin  Maize (corn)  2000             4.00              Drying   \n148   3069   Benin  Maize (corn)  2000             3.05             Storage   \n147   3068   Benin  Maize (corn)  2000             1.65      Transportation   \n..     ...     ...           ...   ...              ...                 ...   \n4     2452   Benin  Maize (corn)  2020             2.36      Transportation   \n3     2451   Benin  Maize (corn)  2020             4.00              Drying   \n2     2450   Benin  Maize (corn)  2020             6.42  Drying, Harvesting   \n1     2449   Benin  Maize (corn)  2020             3.04             Storage   \n0     2448   Benin  Maize (corn)  2020             2.65             Storage   \n\n    food_supply_stage cause_of_loss  \n151           Harvest           NaN  \n150              Farm           NaN  \n149              Farm           NaN  \n148              Farm           NaN  \n147         Transport           NaN  \n..                ...           ...  \n4                Farm           NaN  \n3                Farm           NaN  \n2             Harvest           NaN  \n1                Farm           NaN  \n0             Storage           NaN  \n\n[152 rows x 8 columns]",
      "text/html": "<div>\n<style scoped>\n    .dataframe tbody tr th:only-of-type {\n        vertical-align: middle;\n    }\n\n    .dataframe tbody tr th {\n        vertical-align: top;\n    }\n\n    .dataframe thead th {\n        text-align: right;\n    }\n</style>\n<table border=\"1\" class=\"dataframe\">\n  <thead>\n    <tr style=\"text-align: right;\">\n      <th></th>\n      <th>index</th>\n      <th>country</th>\n      <th>commodity</th>\n      <th>year</th>\n      <th>loss_percentage</th>\n      <th>activity</th>\n      <th>food_supply_stage</th>\n      <th>cause_of_loss</th>\n    </tr>\n  </thead>\n  <tbody>\n    <tr>\n      <th>151</th>\n      <td>3072</td>\n      <td>Benin</td>\n      <td>Maize (corn)</td>\n      <td>2000</td>\n      <td>6.42</td>\n      <td>Drying, Harvesting</td>\n      <td>Harvest</td>\n      <td>NaN</td>\n    </tr>\n    <tr>\n      <th>150</th>\n      <td>3071</td>\n      <td>Benin</td>\n      <td>Maize (corn)</td>\n      <td>2000</td>\n      <td>2.36</td>\n      <td>Transportation</td>\n      <td>Farm</td>\n      <td>NaN</td>\n    </tr>\n    <tr>\n      <th>149</th>\n      <td>3070</td>\n      <td>Benin</td>\n      <td>Maize (corn)</td>\n      <td>2000</td>\n      <td>4.00</td>\n      <td>Drying</td>\n      <td>Farm</td>\n      <td>NaN</td>\n    </tr>\n    <tr>\n      <th>148</th>\n      <td>3069</td>\n      <td>Benin</td>\n      <td>Maize (corn)</td>\n      <td>2000</td>\n      <td>3.05</td>\n      <td>Storage</td>\n      <td>Farm</td>\n      <td>NaN</td>\n    </tr>\n    <tr>\n      <th>147</th>\n      <td>3068</td>\n      <td>Benin</td>\n      <td>Maize (corn)</td>\n      <td>2000</td>\n      <td>1.65</td>\n      <td>Transportation</td>\n      <td>Transport</td>\n      <td>NaN</td>\n    </tr>\n    <tr>\n      <th>...</th>\n      <td>...</td>\n      <td>...</td>\n      <td>...</td>\n      <td>...</td>\n      <td>...</td>\n      <td>...</td>\n      <td>...</td>\n      <td>...</td>\n    </tr>\n    <tr>\n      <th>4</th>\n      <td>2452</td>\n      <td>Benin</td>\n      <td>Maize (corn)</td>\n      <td>2020</td>\n      <td>2.36</td>\n      <td>Transportation</td>\n      <td>Farm</td>\n      <td>NaN</td>\n    </tr>\n    <tr>\n      <th>3</th>\n      <td>2451</td>\n      <td>Benin</td>\n      <td>Maize (corn)</td>\n      <td>2020</td>\n      <td>4.00</td>\n      <td>Drying</td>\n      <td>Farm</td>\n      <td>NaN</td>\n    </tr>\n    <tr>\n      <th>2</th>\n      <td>2450</td>\n      <td>Benin</td>\n      <td>Maize (corn)</td>\n      <td>2020</td>\n      <td>6.42</td>\n      <td>Drying, Harvesting</td>\n      <td>Harvest</td>\n      <td>NaN</td>\n    </tr>\n    <tr>\n      <th>1</th>\n      <td>2449</td>\n      <td>Benin</td>\n      <td>Maize (corn)</td>\n      <td>2020</td>\n      <td>3.04</td>\n      <td>Storage</td>\n      <td>Farm</td>\n      <td>NaN</td>\n    </tr>\n    <tr>\n      <th>0</th>\n      <td>2448</td>\n      <td>Benin</td>\n      <td>Maize (corn)</td>\n      <td>2020</td>\n      <td>2.65</td>\n      <td>Storage</td>\n      <td>Storage</td>\n      <td>NaN</td>\n    </tr>\n  </tbody>\n</table>\n<p>152 rows × 8 columns</p>\n</div>"
     },
     "execution_count": 64,
     "metadata": {},
     "output_type": "execute_result"
    }
   ],
   "source": [
    "df = pd.read_csv(\"Data/Data.csv\")\n",
    "df = df[[\"country\", \"commodity\", \"year\", \"loss_percentage\", \"activity\", \"food_supply_stage\", \"cause_of_loss\"]]\n",
    "\n",
    "def focus_on(country, commodity):\n",
    "    new_df = df[df.country == country]\n",
    "    new_df = new_df[new_df.commodity == commodity]\n",
    "    return new_df\n",
    "\n",
    "data = focus_on(\"Kenya\", \"Maize (corn)\")\n",
    "data = focus_on(\"Benin\", \"Maize (corn)\")\n",
    "data = data.reset_index()\n",
    "data.sort_values(by=([\"index\"]), ascending=False, inplace=True)\n",
    "data"
   ],
   "metadata": {
    "collapsed": false,
    "pycharm": {
     "name": "#%%\n"
    }
   }
  },
  {
   "cell_type": "code",
   "execution_count": 65,
   "outputs": [],
   "source": [
    "validate = data[[\"activity\",\"food_supply_stage\",\"loss_percentage\"]].tail(3)\n",
    "data.drop(data.tail(3).index,inplace=True)"
   ],
   "metadata": {
    "collapsed": false,
    "pycharm": {
     "name": "#%%\n"
    }
   }
  },
  {
   "cell_type": "code",
   "execution_count": 66,
   "outputs": [],
   "source": [
    "for i in data.select_dtypes('object').columns:\n",
    "    le = LabelEncoder().fit(data[i])\n",
    "    data[i] = le.transform(data[i])\n",
    "X_scaler = MinMaxScaler()\n",
    "Y_scaler = MinMaxScaler()\n",
    "X_data = X_scaler.fit_transform(data[[\"activity\",\"food_supply_stage\",\"loss_percentage\"]])\n",
    "Y_data = Y_scaler.fit_transform(data[['loss_percentage']])"
   ],
   "metadata": {
    "collapsed": false,
    "pycharm": {
     "name": "#%%\n"
    }
   }
  },
  {
   "cell_type": "code",
   "execution_count": 67,
   "outputs": [],
   "source": [
    "def custom_ts_multi_data_prep(dataset, target, start, end, window, horizon):\n",
    "     X = []\n",
    "     y = []\n",
    "     start = start + window\n",
    "     if end is None:\n",
    "         end = len(dataset) - horizon\n",
    "     for i in range(start, end):\n",
    "         indices = range(i-window, i)\n",
    "         X.append(dataset[indices])\n",
    "         indicey = range(i+1, i+1+horizon)\n",
    "         y.append(target[indicey])\n",
    "     return np.array(X), np.array(y)"
   ],
   "metadata": {
    "collapsed": false,
    "pycharm": {
     "name": "#%%\n"
    }
   }
  },
  {
   "cell_type": "code",
   "execution_count": 86,
   "outputs": [],
   "source": [
    "hist_window = 8\n",
    "horizon = 3\n",
    "TRAIN_SPLIT = 120\n",
    "x_train, y_train = custom_ts_multi_data_prep(X_data, Y_data, 0, TRAIN_SPLIT, hist_window, horizon)\n",
    "x_vali, y_vali = custom_ts_multi_data_prep(X_data, Y_data, TRAIN_SPLIT, None, hist_window, horizon)"
   ],
   "metadata": {
    "collapsed": false,
    "pycharm": {
     "name": "#%%\n"
    }
   }
  },
  {
   "cell_type": "code",
   "execution_count": 87,
   "outputs": [
    {
     "name": "stdout",
     "output_type": "stream",
     "text": [
      "Multiple window of past history\n",
      "\n",
      "[[0.2        0.25       0.19859813]\n",
      " [0.8        0.         0.04049844]\n",
      " [0.         0.         0.10436137]\n",
      " [0.6        0.         0.0673676 ]\n",
      " [0.8        0.75       0.01285047]\n",
      " [0.4        0.         0.        ]\n",
      " [0.6        0.5        0.05179128]\n",
      " [1.         1.         0.64174455]]\n",
      "\n",
      " Target horizon\n",
      "\n",
      "[[0.05179128]\n",
      " [0.10436137]\n",
      " [0.19859813]]\n"
     ]
    }
   ],
   "source": [
    "print ('Multiple window of past history\\n')\n",
    "print(x_train[0])\n",
    "print ('\\n Target horizon\\n')\n",
    "print (y_train[0])"
   ],
   "metadata": {
    "collapsed": false,
    "pycharm": {
     "name": "#%%\n"
    }
   }
  },
  {
   "cell_type": "code",
   "execution_count": 88,
   "outputs": [],
   "source": [
    "batch_size = 256\n",
    "buffer_size = 150\n",
    "train_data = tf.data.Dataset.from_tensor_slices((x_train, y_train))\n",
    "train_data = train_data.cache().shuffle(buffer_size).batch(batch_size).repeat()\n",
    "val_data = tf.data.Dataset.from_tensor_slices((x_vali, y_vali))\n",
    "val_data = val_data.batch(batch_size).repeat()"
   ],
   "metadata": {
    "collapsed": false,
    "pycharm": {
     "name": "#%%\n"
    }
   }
  },
  {
   "cell_type": "code",
   "execution_count": 89,
   "outputs": [
    {
     "name": "stdout",
     "output_type": "stream",
     "text": [
      "Model: \"sequential_3\"\n",
      "_________________________________________________________________\n",
      " Layer (type)                Output Shape              Param #   \n",
      "=================================================================\n",
      " bidirectional_6 (Bidirectio  (None, 8, 400)           326400    \n",
      " nal)                                                            \n",
      "                                                                 \n",
      " dense_12 (Dense)            (None, 8, 20)             8020      \n",
      "                                                                 \n",
      " bidirectional_7 (Bidirectio  (None, 300)              205200    \n",
      " nal)                                                            \n",
      "                                                                 \n",
      " dense_13 (Dense)            (None, 20)                6020      \n",
      "                                                                 \n",
      " dense_14 (Dense)            (None, 20)                420       \n",
      "                                                                 \n",
      " dropout_3 (Dropout)         (None, 20)                0         \n",
      "                                                                 \n",
      " dense_15 (Dense)            (None, 3)                 63        \n",
      "                                                                 \n",
      "=================================================================\n",
      "Total params: 546,123\n",
      "Trainable params: 546,123\n",
      "Non-trainable params: 0\n",
      "_________________________________________________________________\n"
     ]
    }
   ],
   "source": [
    "lstm_model = tf.keras.models.Sequential([\n",
    "    tf.keras.layers.Bidirectional(tf.keras.layers.LSTM(200, return_sequences=True),\n",
    "                                input_shape=x_train.shape[-2:]),\n",
    "     tf.keras.layers.Dense(20, activation='tanh'),\n",
    "     tf.keras.layers.Bidirectional(tf.keras.layers.LSTM(150)),\n",
    "     tf.keras.layers.Dense(20, activation='tanh'),\n",
    "     tf.keras.layers.Dense(20, activation='tanh'),\n",
    "     tf.keras.layers.Dropout(0.25),\n",
    "     tf.keras.layers.Dense(units=horizon),\n",
    "    ])\n",
    "lstm_model.compile(optimizer='adam', loss='mse')\n",
    "lstm_model.summary()"
   ],
   "metadata": {
    "collapsed": false,
    "pycharm": {
     "name": "#%%\n"
    }
   }
  },
  {
   "cell_type": "code",
   "execution_count": 90,
   "outputs": [
    {
     "name": "stdout",
     "output_type": "stream",
     "text": [
      "Epoch 1/50\n",
      "100/100 [==============================] - 9s 49ms/step - loss: 0.0218 - val_loss: 0.0086\n",
      "Epoch 2/50\n",
      "100/100 [==============================] - 4s 37ms/step - loss: 0.0188 - val_loss: 0.0144\n",
      "Epoch 3/50\n",
      "100/100 [==============================] - 4s 37ms/step - loss: 0.0143 - val_loss: 0.0241\n",
      "Epoch 4/50\n",
      "100/100 [==============================] - 4s 37ms/step - loss: 0.0088 - val_loss: 0.0199\n",
      "Epoch 5/50\n",
      "100/100 [==============================] - 4s 37ms/step - loss: 0.0068 - val_loss: 0.0195\n",
      "Epoch 6/50\n",
      "100/100 [==============================] - 4s 37ms/step - loss: 0.0049 - val_loss: 0.0194\n",
      "Epoch 7/50\n",
      "100/100 [==============================] - 4s 37ms/step - loss: 0.0034 - val_loss: 0.0161\n",
      "Epoch 8/50\n",
      "100/100 [==============================] - 4s 38ms/step - loss: 0.0028 - val_loss: 0.0172\n",
      "Epoch 9/50\n",
      "100/100 [==============================] - 4s 40ms/step - loss: 0.0023 - val_loss: 0.0176\n",
      "Epoch 10/50\n",
      "100/100 [==============================] - 4s 40ms/step - loss: 0.0019 - val_loss: 0.0194\n",
      "Epoch 11/50\n",
      "100/100 [==============================] - 5s 45ms/step - loss: 0.0018 - val_loss: 0.0189\n",
      "Epoch 11: early stopping\n"
     ]
    }
   ],
   "source": [
    "model_path = 'Bidirectional_LSTM_Multivariate.h5'\n",
    "early_stopings = tf.keras.callbacks.EarlyStopping(monitor='val_loss', min_delta=0, patience=10, verbose=1, mode='min')\n",
    "checkpoint =  tf.keras.callbacks.ModelCheckpoint(model_path, monitor='val_loss', save_best_only=True, mode='min', verbose=0)\n",
    "callbacks=[early_stopings,checkpoint]\n",
    "history = lstm_model.fit(train_data,epochs=50,steps_per_epoch=100,validation_data=val_data,validation_steps=50,verbose=1,callbacks=callbacks)"
   ],
   "metadata": {
    "collapsed": false,
    "pycharm": {
     "name": "#%%\n"
    }
   }
  },
  {
   "cell_type": "code",
   "execution_count": 91,
   "outputs": [
    {
     "data": {
      "text/plain": "<Figure size 1152x648 with 1 Axes>",
      "image/png": "[encoded data removed]"
     },
     "metadata": {
      "needs_background": "light"
     },
     "output_type": "display_data"
    }
   ],
   "source": [
    "plt.figure(figsize=(16,9))\n",
    "plt.plot(history.history['loss'])\n",
    "plt.plot(history.history['val_loss'])\n",
    "plt.title('Model loss')\n",
    "plt.ylabel('loss')\n",
    "plt.xlabel('epoch')\n",
    "plt.legend(['train loss', 'validation loss'])\n",
    "plt.show()"
   ],
   "metadata": {
    "collapsed": false,
    "pycharm": {
     "name": "#%%\n"
    }
   }
  },
  {
   "cell_type": "code",
   "execution_count": 95,
   "outputs": [
    {
     "name": "stdout",
     "output_type": "stream",
     "text": [
      "WARNING:tensorflow:5 out of the last 11 calls to <function Model.make_predict_function.<locals>.predict_function at 0x7fc0b3353b80> triggered tf.function retracing. Tracing is expensive and the excessive number of tracings could be due to (1) creating @tf.function repeatedly in a loop, (2) passing tensors with different shapes, (3) passing Python objects instead of tensors. For (1), please define your @tf.function outside of the loop. For (2), @tf.function has reduce_retracing=True option that can avoid unnecessary retracing. For (3), please refer to https://www.tensorflow.org/guide/function#controlling_retracing and https://www.tensorflow.org/api_docs/python/tf/function for  more details.\n",
      "1/1 [==============================] - 1s 984ms/step\n"
     ]
    },
    {
     "data": {
      "text/plain": "array([[3.2105322, 6.7554965, 1.4413449]], dtype=float32)"
     },
     "execution_count": 95,
     "metadata": {},
     "output_type": "execute_result"
    }
   ],
   "source": [
    "data_val = X_scaler.fit_transform(data[[\"activity\",\"food_supply_stage\",\"loss_percentage\"]].tail(8))\n",
    "val_rescaled = data_val.reshape(1, data_val.shape[0], data_val.shape[1])\n",
    "pred = lstm_model.predict(val_rescaled)\n",
    "pred_Inverse = Y_scaler.inverse_transform(pred)\n",
    "pred_Inverse"
   ],
   "metadata": {
    "collapsed": false,
    "pycharm": {
     "name": "#%%\n"
    }
   }
  },
  {
   "cell_type": "code",
   "execution_count": 96,
   "outputs": [
    {
     "data": {
      "text/plain": "array([[0.25      , 0.33333333, 1.        ],\n       [0.        , 0.        , 0.5254902 ],\n       [1.        , 1.        , 0.06470588],\n       [1.        , 0.        , 0.20392157],\n       [0.5       , 0.        , 0.        ],\n       [1.        , 1.        , 0.06470588],\n       [1.        , 0.        , 0.20392157],\n       [0.        , 0.        , 0.5254902 ]])"
     },
     "execution_count": 96,
     "metadata": {},
     "output_type": "execute_result"
    }
   ],
   "source": [
    "\n",
    "data_val"
   ],
   "metadata": {
    "collapsed": false,
    "pycharm": {
     "name": "#%%\n"
    }
   }
  },
  {
   "cell_type": "code",
   "execution_count": 97,
   "outputs": [],
   "source": [
    "def timeseries_evaluation_metrics_func(y_true, y_pred):\n",
    "    def mean_absolute_percentage_error(y_true, y_pred):\n",
    "        y_true, y_pred = np.array(y_true), np.array(y_pred)\n",
    "        return np.mean(np.abs((y_true - y_pred) / y_true)) * 100\n",
    "    print('Evaluation metric results:-')\n",
    "    print(f'MSE is : {metrics.mean_squared_error(y_true, y_pred)}')\n",
    "    print(f'MAE is : {metrics.mean_absolute_error(y_true, y_pred)}')\n",
    "    print(f'RMSE is : {np.sqrt(metrics.mean_squared_error(y_true, y_pred))}')\n",
    "    print(f'MAPE is : {mean_absolute_percentage_error(y_true, y_pred)}')\n",
    "    print(f'R2 is : {metrics.r2_score(y_true, y_pred)}',end='\\n\\n')"
   ],
   "metadata": {
    "collapsed": false,
    "pycharm": {
     "name": "#%%\n"
    }
   }
  },
  {
   "cell_type": "code",
   "execution_count": 98,
   "outputs": [
    {
     "name": "stdout",
     "output_type": "stream",
     "text": [
      "Evaluation metric results:-\n",
      "MSE is : 8.522148381191485\n",
      "MAE is : 2.711206485430399\n",
      "RMSE is : 2.9192718923031964\n",
      "MAPE is : 72.60720605297118\n",
      "R2 is : -1.9740643609670396\n",
      "\n"
     ]
    }
   ],
   "source": [
    "timeseries_evaluation_metrics_func(validate[\"loss_percentage\"],pred_Inverse[0])"
   ],
   "metadata": {
    "collapsed": false,
    "pycharm": {
     "name": "#%%\n"
    }
   }
  },
  {
   "cell_type": "code",
   "execution_count": 101,
   "outputs": [
    {
     "data": {
      "text/plain": "<Figure size 1152x648 with 1 Axes>",
      "image/png": "[encoded data removed]"
     },
     "metadata": {
      "needs_background": "light"
     },
     "output_type": "display_data"
    }
   ],
   "source": [
    "plt.figure(figsize=(16,9))\n",
    "plt.plot( list(validate['loss_percentage']))\n",
    "plt.plot( list(pred_Inverse[0]))\n",
    "plt.title(\"Actual vs Predicted\")\n",
    "plt.ylabel(\"Traffic volume\")\n",
    "plt.legend(('Actual','predicted'))\n",
    "plt.show()"
   ],
   "metadata": {
    "collapsed": false,
    "pycharm": {
     "name": "#%%\n"
    }
   }
  },
  {
   "cell_type": "code",
   "execution_count": 104,
   "outputs": [],
   "source": [
    "data_val = X_scaler.fit_transform(data[[\"activity\",\"food_supply_stage\",\"loss_percentage\"]].tail(8))\n",
    "val_rescaled = data_val.reshape(1, data_val.shape[0], data_val.shape[1])"
   ],
   "metadata": {
    "collapsed": false,
    "pycharm": {
     "name": "#%%\n"
    }
   }
  },
  {
   "cell_type": "code",
   "execution_count": 105,
   "outputs": [
    {
     "data": {
      "text/plain": "2    6.42\n1    3.04\n0    2.65\nName: loss_percentage, dtype: float64"
     },
     "execution_count": 105,
     "metadata": {},
     "output_type": "execute_result"
    }
   ],
   "source": [
    "validate[\"loss_percentage\"]"
   ],
   "metadata": {
    "collapsed": false,
    "pycharm": {
     "name": "#%%\n"
    }
   }
  },
  {
   "cell_type": "code",
   "execution_count": 106,
   "outputs": [
    {
     "data": {
      "text/plain": "array([3.2105322, 6.7554965, 1.4413449], dtype=float32)"
     },
     "execution_count": 106,
     "metadata": {},
     "output_type": "execute_result"
    }
   ],
   "source": [
    "pred_Inverse[0]"
   ],
   "metadata": {
    "collapsed": false,
    "pycharm": {
     "name": "#%%\n"
    }
   }
  },
  {
   "cell_type": "code",
   "execution_count": null,
   "outputs": [],
   "source": [],
   "metadata": {
    "collapsed": false,
    "pycharm": {
     "name": "#%%\n"
    }
   }
  }
 ],
 "metadata": {
  "kernelspec": {
   "display_name": "Python 3",
   "language": "python",
   "name": "python3"
  },
  "language_info": {
   "codemirror_mode": {
    "name": "ipython",
    "version": 2
   },
   "file_extension": ".py",
   "mimetype": "text/x-python",
   "name": "python",
   "nbconvert_exporter": "python",
   "pygments_lexer": "ipython2",
   "version": "2.7.6"
  }
 },
 "nbformat": 4,
 "nbformat_minor": 0
}