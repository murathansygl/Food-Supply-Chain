{
 "cells": [
  {
   "cell_type": "code",
   "execution_count": 1,
   "outputs": [],
   "source": [
    "import pandas as pd\n",
    "import plotly.express as px\n",
    "import matplotlib.pyplot as plt\n",
    "import numpy as np\n",
    "from keras import Sequential\n",
    "from keras.layers import LSTM, Dropout, Dense\n",
    "from keras.wrappers.scikit_learn import KerasRegressor\n",
    "from plotly.subplots import make_subplots\n",
    "import plotly.graph_objects as go\n",
    "from sklearn.model_selection import GridSearchCV\n",
    "from sklearn import metrics\n",
    "from sklearn.preprocessing import LabelEncoder, MinMaxScaler\n",
    "import tensorflow as tf\n",
    "from tensorboard.plugins.hparams import api as hp\n"
   ],
   "metadata": {
    "collapsed": false,
    "pycharm": {
     "name": "#%%\n"
    }
   }
  },
  {
   "cell_type": "code",
   "execution_count": 1,
   "outputs": [],
   "source": [],
   "metadata": {
    "collapsed": false,
    "pycharm": {
     "name": "#%%\n"
    }
   }
  },
  {
   "cell_type": "code",
   "execution_count": 2,
   "outputs": [
    {
     "data": {
      "text/plain": "     index country     commodity  year  loss_percentage            activity  \\\n151   3072   Benin  Maize (corn)  2000             6.42  Drying, Harvesting   \n150   3071   Benin  Maize (corn)  2000             2.36      Transportation   \n149   3070   Benin  Maize (corn)  2000             4.00              Drying   \n148   3069   Benin  Maize (corn)  2000             3.05             Storage   \n147   3068   Benin  Maize (corn)  2000             1.65      Transportation   \n..     ...     ...           ...   ...              ...                 ...   \n4     2452   Benin  Maize (corn)  2020             2.36      Transportation   \n3     2451   Benin  Maize (corn)  2020             4.00              Drying   \n2     2450   Benin  Maize (corn)  2020             6.42  Drying, Harvesting   \n1     2449   Benin  Maize (corn)  2020             3.04             Storage   \n0     2448   Benin  Maize (corn)  2020             2.65             Storage   \n\n    food_supply_stage cause_of_loss  \n151           Harvest           NaN  \n150              Farm           NaN  \n149              Farm           NaN  \n148              Farm           NaN  \n147         Transport           NaN  \n..                ...           ...  \n4                Farm           NaN  \n3                Farm           NaN  \n2             Harvest           NaN  \n1                Farm           NaN  \n0             Storage           NaN  \n\n[152 rows x 8 columns]",
      "text/html": "<div>\n<style scoped>\n    .dataframe tbody tr th:only-of-type {\n        vertical-align: middle;\n    }\n\n    .dataframe tbody tr th {\n        vertical-align: top;\n    }\n\n    .dataframe thead th {\n        text-align: right;\n    }\n</style>\n<table border=\"1\" class=\"dataframe\">\n  <thead>\n    <tr style=\"text-align: right;\">\n      <th></th>\n      <th>index</th>\n      <th>country</th>\n      <th>commodity</th>\n      <th>year</th>\n      <th>loss_percentage</th>\n      <th>activity</th>\n      <th>food_supply_stage</th>\n      <th>cause_of_loss</th>\n    </tr>\n  </thead>\n  <tbody>\n    <tr>\n      <th>151</th>\n      <td>3072</td>\n      <td>Benin</td>\n      <td>Maize (corn)</td>\n      <td>2000</td>\n      <td>6.42</td>\n      <td>Drying, Harvesting</td>\n      <td>Harvest</td>\n      <td>NaN</td>\n    </tr>\n    <tr>\n      <th>150</th>\n      <td>3071</td>\n      <td>Benin</td>\n      <td>Maize (corn)</td>\n      <td>2000</td>\n      <td>2.36</td>\n      <td>Transportation</td>\n      <td>Farm</td>\n      <td>NaN</td>\n    </tr>\n    <tr>\n      <th>149</th>\n      <td>3070</td>\n      <td>Benin</td>\n      <td>Maize (corn)</td>\n      <td>2000</td>\n      <td>4.00</td>\n      <td>Drying</td>\n      <td>Farm</td>\n      <td>NaN</td>\n    </tr>\n    <tr>\n      <th>148</th>\n      <td>3069</td>\n      <td>Benin</td>\n      <td>Maize (corn)</td>\n      <td>2000</td>\n      <td>3.05</td>\n      <td>Storage</td>\n      <td>Farm</td>\n      <td>NaN</td>\n    </tr>\n    <tr>\n      <th>147</th>\n      <td>3068</td>\n      <td>Benin</td>\n      <td>Maize (corn)</td>\n      <td>2000</td>\n      <td>1.65</td>\n      <td>Transportation</td>\n      <td>Transport</td>\n      <td>NaN</td>\n    </tr>\n    <tr>\n      <th>...</th>\n      <td>...</td>\n      <td>...</td>\n      <td>...</td>\n      <td>...</td>\n      <td>...</td>\n      <td>...</td>\n      <td>...</td>\n      <td>...</td>\n    </tr>\n    <tr>\n      <th>4</th>\n      <td>2452</td>\n      <td>Benin</td>\n      <td>Maize (corn)</td>\n      <td>2020</td>\n      <td>2.36</td>\n      <td>Transportation</td>\n      <td>Farm</td>\n      <td>NaN</td>\n    </tr>\n    <tr>\n      <th>3</th>\n      <td>2451</td>\n      <td>Benin</td>\n      <td>Maize (corn)</td>\n      <td>2020</td>\n      <td>4.00</td>\n      <td>Drying</td>\n      <td>Farm</td>\n      <td>NaN</td>\n    </tr>\n    <tr>\n      <th>2</th>\n      <td>2450</td>\n      <td>Benin</td>\n      <td>Maize (corn)</td>\n      <td>2020</td>\n      <td>6.42</td>\n      <td>Drying, Harvesting</td>\n      <td>Harvest</td>\n      <td>NaN</td>\n    </tr>\n    <tr>\n      <th>1</th>\n      <td>2449</td>\n      <td>Benin</td>\n      <td>Maize (corn)</td>\n      <td>2020</td>\n      <td>3.04</td>\n      <td>Storage</td>\n      <td>Farm</td>\n      <td>NaN</td>\n    </tr>\n    <tr>\n      <th>0</th>\n      <td>2448</td>\n      <td>Benin</td>\n      <td>Maize (corn)</td>\n      <td>2020</td>\n      <td>2.65</td>\n      <td>Storage</td>\n      <td>Storage</td>\n      <td>NaN</td>\n    </tr>\n  </tbody>\n</table>\n<p>152 rows × 8 columns</p>\n</div>"
     },
     "execution_count": 2,
     "metadata": {},
     "output_type": "execute_result"
    }
   ],
   "source": [
    "df = pd.read_csv(\"Data/Data.csv\")\n",
    "df = df[[\"country\", \"commodity\", \"year\", \"loss_percentage\", \"activity\", \"food_supply_stage\", \"cause_of_loss\"]]\n",
    "\n",
    "def focus_on(country, commodity):\n",
    "    new_df = df[df.country == country]\n",
    "    new_df = new_df[new_df.commodity == commodity]\n",
    "    return new_df\n",
    "\n",
    "# data = focus_on(\"Kenya\", \"Maize (corn)\")\n",
    "data = focus_on(\"Benin\", \"Maize (corn)\")\n",
    "data = data.reset_index()\n",
    "data.sort_values(by=([\"index\"]), ascending=False, inplace=True)\n",
    "data"
   ],
   "metadata": {
    "collapsed": false,
    "pycharm": {
     "name": "#%%\n"
    }
   }
  },
  {
   "cell_type": "code",
   "execution_count": 3,
   "outputs": [],
   "source": [
    "validate = data[[\"activity\",\"food_supply_stage\",\"loss_percentage\"]].tail(3)\n",
    "data.drop(data.tail(3).index,inplace=True)"
   ],
   "metadata": {
    "collapsed": false,
    "pycharm": {
     "name": "#%%\n"
    }
   }
  },
  {
   "cell_type": "code",
   "execution_count": 4,
   "outputs": [],
   "source": [
    "for i in data.select_dtypes('object').columns:\n",
    "    le = LabelEncoder().fit(data[i])\n",
    "    data[i] = le.transform(data[i])\n",
    "X_scaler = MinMaxScaler()\n",
    "Y_scaler = MinMaxScaler()\n",
    "X_data = X_scaler.fit_transform(data[[\"activity\",\"food_supply_stage\",\"loss_percentage\"]])\n",
    "Y_data = Y_scaler.fit_transform(data[['loss_percentage']])"
   ],
   "metadata": {
    "collapsed": false,
    "pycharm": {
     "name": "#%%\n"
    }
   }
  },
  {
   "cell_type": "code",
   "execution_count": 5,
   "outputs": [
    {
     "data": {
      "text/plain": "array([[0.2       , 0.25      , 0.19859813],\n       [0.8       , 0.        , 0.04049844],\n       [0.        , 0.        , 0.10436137],\n       [0.6       , 0.        , 0.0673676 ],\n       [0.8       , 0.75      , 0.01285047],\n       [0.4       , 0.        , 0.        ],\n       [0.6       , 0.5       , 0.05179128],\n       [1.        , 1.        , 0.64174455],\n       [0.8       , 0.75      , 0.01285047],\n       [0.6       , 0.5       , 0.05179128],\n       [0.        , 0.        , 0.10436137],\n       [0.2       , 0.25      , 0.19859813],\n       [0.6       , 0.        , 0.0673676 ],\n       [0.8       , 0.        , 0.04049844],\n       [0.4       , 0.        , 0.        ],\n       [1.        , 0.5       , 0.5911215 ],\n       [0.6       , 0.5       , 0.05179128],\n       [0.6       , 0.        , 0.0673676 ],\n       [0.8       , 0.        , 0.04049844],\n       [0.2       , 0.25      , 0.19859813],\n       [0.        , 0.        , 0.10436137],\n       [0.8       , 0.75      , 0.01285047],\n       [0.4       , 0.        , 0.        ],\n       [0.8       , 0.        , 0.04049844],\n       [0.2       , 0.25      , 0.19859813],\n       [0.6       , 0.        , 0.0673676 ],\n       [0.        , 0.        , 0.10436137],\n       [0.6       , 0.5       , 0.05179128],\n       [0.8       , 0.75      , 0.01285047],\n       [0.4       , 0.        , 0.        ],\n       [1.        , 0.5       , 0.37110592],\n       [0.2       , 0.25      , 0.19859813],\n       [0.8       , 0.        , 0.04049844],\n       [0.4       , 0.        , 0.        ],\n       [0.6       , 0.5       , 0.05179128],\n       [0.8       , 0.75      , 0.01285047],\n       [0.6       , 0.        , 0.0673676 ],\n       [0.        , 0.        , 0.10436137],\n       [0.6       , 0.5       , 0.05179128],\n       [0.6       , 0.        , 0.0673676 ],\n       [0.4       , 0.        , 0.        ],\n       [0.8       , 0.75      , 0.01285047],\n       [0.        , 0.        , 0.10436137],\n       [0.2       , 0.25      , 0.19859813],\n       [0.8       , 0.        , 0.04049844],\n       [0.8       , 0.        , 0.04049844],\n       [0.6       , 0.        , 0.0673676 ],\n       [0.2       , 0.25      , 0.19859813],\n       [0.6       , 0.5       , 0.05179128],\n       [0.8       , 0.75      , 0.01285047],\n       [0.4       , 0.        , 0.        ],\n       [0.        , 0.        , 0.10436137],\n       [0.6       , 0.5       , 0.05179128],\n       [0.4       , 0.        , 0.        ],\n       [0.8       , 0.        , 0.04049844],\n       [0.        , 0.        , 0.10436137],\n       [0.2       , 0.25      , 0.19859813],\n       [0.6       , 0.        , 0.0673676 ],\n       [0.8       , 0.75      , 0.01285047],\n       [0.8       , 0.75      , 0.01285047],\n       [0.4       , 0.        , 0.        ],\n       [0.6       , 0.        , 0.1347352 ],\n       [0.2       , 0.25      , 0.50194704],\n       [0.        , 0.        , 0.10436137],\n       [0.6       , 0.5       , 0.05179128],\n       [0.8       , 0.        , 0.04049844],\n       [0.6       , 0.        , 0.12461059],\n       [0.        , 0.        , 0.10436137],\n       [0.2       , 0.25      , 0.52219626],\n       [0.4       , 0.        , 0.        ],\n       [0.8       , 0.75      , 0.01285047],\n       [0.8       , 0.        , 0.04049844],\n       [0.6       , 0.5       , 0.05179128],\n       [0.2       , 0.25      , 0.5529595 ],\n       [0.6       , 0.        , 0.12344237],\n       [0.4       , 0.        , 0.        ],\n       [0.        , 0.        , 0.10436137],\n       [0.8       , 0.75      , 0.01285047],\n       [0.6       , 0.5       , 0.05179128],\n       [0.8       , 0.        , 0.04049844],\n       [0.8       , 0.75      , 0.01285047],\n       [0.4       , 0.        , 0.        ],\n       [0.        , 0.        , 0.10436137],\n       [0.2       , 0.25      , 0.53894081],\n       [0.6       , 0.        , 0.12071651],\n       [0.6       , 0.5       , 0.05179128],\n       [0.8       , 0.        , 0.04049844],\n       [0.2       , 0.25      , 0.5334891 ],\n       [0.8       , 0.75      , 0.01285047],\n       [0.        , 0.        , 0.10436137],\n       [0.4       , 0.        , 0.        ],\n       [0.6       , 0.        , 0.12110592],\n       [0.8       , 0.        , 0.04049844],\n       [0.6       , 0.5       , 0.05179128],\n       [1.        , 0.        , 1.        ],\n       [0.4       , 0.        , 0.        ],\n       [0.8       , 0.75      , 0.01285047],\n       [0.6       , 0.        , 0.06697819],\n       [0.2       , 0.25      , 0.19859813],\n       [0.6       , 0.5       , 0.05179128],\n       [0.8       , 0.        , 0.04049844],\n       [0.        , 0.        , 0.10436137],\n       [0.8       , 0.        , 0.04049844],\n       [0.2       , 0.25      , 0.19859813],\n       [0.6       , 0.5       , 0.05179128],\n       [0.        , 0.        , 0.10436137],\n       [0.6       , 0.        , 0.0673676 ],\n       [0.4       , 0.        , 0.        ],\n       [0.8       , 0.75      , 0.01285047],\n       [0.2       , 0.25      , 0.19859813],\n       [0.8       , 0.75      , 0.01285047],\n       [0.8       , 0.        , 0.04049844],\n       [0.        , 0.        , 0.10436137],\n       [0.4       , 0.        , 0.        ],\n       [0.6       , 0.5       , 0.05179128],\n       [0.6       , 0.        , 0.06580997],\n       [0.6       , 0.5       , 0.19003115],\n       [0.8       , 0.        , 0.04049844],\n       [0.6       , 0.        , 0.06542056],\n       [0.        , 0.        , 0.10436137],\n       [0.6       , 0.5       , 0.05179128],\n       [0.4       , 0.        , 0.        ],\n       [0.8       , 0.75      , 0.01285047],\n       [0.2       , 0.25      , 0.19859813],\n       [0.8       , 0.75      , 0.01285047],\n       [0.2       , 0.25      , 0.19859813],\n       [0.6       , 0.5       , 0.05179128],\n       [0.        , 0.        , 0.10436137],\n       [0.4       , 0.        , 0.        ],\n       [0.8       , 0.        , 0.04049844],\n       [0.6       , 0.        , 0.06697819],\n       [0.8       , 0.        , 0.04049844],\n       [0.6       , 0.        , 0.06697819],\n       [0.8       , 0.75      , 0.01285047],\n       [0.2       , 0.25      , 0.19859813],\n       [0.6       , 0.5       , 0.05179128],\n       [0.4       , 0.        , 0.        ],\n       [0.        , 0.        , 0.10436137],\n       [0.6       , 0.5       , 0.05179128],\n       [0.4       , 0.        , 0.        ],\n       [0.6       , 0.        , 0.06697819],\n       [0.2       , 0.25      , 0.19859813],\n       [0.        , 0.        , 0.10436137],\n       [0.8       , 0.75      , 0.01285047],\n       [0.8       , 0.        , 0.04049844],\n       [0.4       , 0.        , 0.        ],\n       [0.8       , 0.75      , 0.01285047],\n       [0.8       , 0.        , 0.04049844],\n       [0.        , 0.        , 0.10436137]])"
     },
     "execution_count": 5,
     "metadata": {},
     "output_type": "execute_result"
    }
   ],
   "source": [
    "X_data"
   ],
   "metadata": {
    "collapsed": false,
    "pycharm": {
     "name": "#%%\n"
    }
   }
  },
  {
   "cell_type": "code",
   "execution_count": 6,
   "outputs": [],
   "source": [
    "def custom_ts_multi_data_prep(dataset, target, start, end, window, horizon):\n",
    "     X = []\n",
    "     y = []\n",
    "     start = start + window\n",
    "     if end is None:\n",
    "         end = len(dataset) - horizon\n",
    "     for i in range(start, end):\n",
    "         indices = range(i-window, i)\n",
    "         X.append(dataset[indices])\n",
    "         indicey = range(i+1, i+1+horizon)\n",
    "         y.append(target[indicey])\n",
    "     return np.array(X), np.array(y)"
   ],
   "metadata": {
    "collapsed": false,
    "pycharm": {
     "name": "#%%\n"
    }
   }
  },
  {
   "cell_type": "code",
   "execution_count": 7,
   "outputs": [],
   "source": [
    "hist_window = 8\n",
    "horizon = 3\n",
    "TRAIN_SPLIT = 120\n",
    "x_train, y_train = custom_ts_multi_data_prep(X_data, Y_data, 0, TRAIN_SPLIT, hist_window, horizon)\n",
    "x_vali, y_vali = custom_ts_multi_data_prep(X_data, Y_data, TRAIN_SPLIT, None, hist_window, horizon)"
   ],
   "metadata": {
    "collapsed": false,
    "pycharm": {
     "name": "#%%\n"
    }
   }
  },
  {
   "cell_type": "code",
   "execution_count": 8,
   "outputs": [
    {
     "name": "stdout",
     "output_type": "stream",
     "text": [
      "Multiple window of past history\n",
      "\n",
      "[[0.2        0.25       0.19859813]\n",
      " [0.8        0.         0.04049844]\n",
      " [0.         0.         0.10436137]\n",
      " [0.6        0.         0.0673676 ]\n",
      " [0.8        0.75       0.01285047]\n",
      " [0.4        0.         0.        ]\n",
      " [0.6        0.5        0.05179128]\n",
      " [1.         1.         0.64174455]]\n",
      "\n",
      " Target horizon\n",
      "\n",
      "[[0.05179128]\n",
      " [0.10436137]\n",
      " [0.19859813]]\n"
     ]
    }
   ],
   "source": [
    "print ('Multiple window of past history\\n')\n",
    "print(x_train[0])\n",
    "print ('\\n Target horizon\\n')\n",
    "print (y_train[0])"
   ],
   "metadata": {
    "collapsed": false,
    "pycharm": {
     "name": "#%%\n"
    }
   }
  },
  {
   "cell_type": "code",
   "execution_count": 9,
   "outputs": [
    {
     "name": "stderr",
     "output_type": "stream",
     "text": [
      "2022-07-08 20:48:04.718923: I tensorflow/core/platform/cpu_feature_guard.cc:193] This TensorFlow binary is optimized with oneAPI Deep Neural Network Library (oneDNN) to use the following CPU instructions in performance-critical operations:  AVX2 FMA\n",
      "To enable them in other operations, rebuild TensorFlow with the appropriate compiler flags.\n"
     ]
    }
   ],
   "source": [
    "batch_size = 256\n",
    "buffer_size = 150\n",
    "train_data = tf.data.Dataset.from_tensor_slices((x_train, y_train))\n",
    "train_data = train_data.cache().shuffle(buffer_size).batch(batch_size).repeat()\n",
    "val_data = tf.data.Dataset.from_tensor_slices((x_vali, y_vali))\n",
    "val_data = val_data.batch(batch_size).repeat()"
   ],
   "metadata": {
    "collapsed": false,
    "pycharm": {
     "name": "#%%\n"
    }
   }
  },
  {
   "cell_type": "code",
   "execution_count": 10,
   "outputs": [
    {
     "name": "stdout",
     "output_type": "stream",
     "text": [
      "Model: \"sequential\"\n",
      "_________________________________________________________________\n",
      " Layer (type)                Output Shape              Param #   \n",
      "=================================================================\n",
      " bidirectional (Bidirectiona  (None, 8, 600)           729600    \n",
      " l)                                                              \n",
      "                                                                 \n",
      " dense (Dense)               (None, 8, 20)             12020     \n",
      "                                                                 \n",
      " bidirectional_1 (Bidirectio  (None, 300)              205200    \n",
      " nal)                                                            \n",
      "                                                                 \n",
      " dropout (Dropout)           (None, 300)               0         \n",
      "                                                                 \n",
      " dense_1 (Dense)             (None, 3)                 903       \n",
      "                                                                 \n",
      "=================================================================\n",
      "Total params: 947,723\n",
      "Trainable params: 947,723\n",
      "Non-trainable params: 0\n",
      "_________________________________________________________________\n"
     ]
    }
   ],
   "source": [
    "lstm_model = tf.keras.models.Sequential([\n",
    "    tf.keras.layers.Bidirectional(tf.keras.layers.LSTM(300, return_sequences=True),\n",
    "                                input_shape=x_train.shape[-2:]),\n",
    "     tf.keras.layers.Dense(20, activation='tanh'),\n",
    "     tf.keras.layers.Bidirectional(tf.keras.layers.LSTM(150)),\n",
    "     # tf.keras.layers.Dense(30, activation='tanh'),\n",
    "     # tf.keras.layers.Dense(20, activation='tanh'),\n",
    "     tf.keras.layers.Dropout(0.15),\n",
    "     tf.keras.layers.Dense(units=horizon),\n",
    "    ])\n",
    "lstm_model.compile(optimizer='adam', loss='mse')\n",
    "lstm_model.summary()"
   ],
   "metadata": {
    "collapsed": false,
    "pycharm": {
     "name": "#%%\n"
    }
   }
  },
  {
   "cell_type": "code",
   "execution_count": 11,
   "outputs": [
    {
     "name": "stdout",
     "output_type": "stream",
     "text": [
      "Epoch 1/50\n",
      "100/100 [==============================] - 16s 86ms/step - loss: 0.0210 - val_loss: 0.0107\n",
      "Epoch 2/50\n",
      "100/100 [==============================] - 8s 80ms/step - loss: 0.0160 - val_loss: 0.0260\n",
      "Epoch 3/50\n",
      "100/100 [==============================] - 8s 78ms/step - loss: 0.0081 - val_loss: 0.0195\n",
      "Epoch 4/50\n",
      "100/100 [==============================] - 6s 62ms/step - loss: 0.0042 - val_loss: 0.0224\n",
      "Epoch 5/50\n",
      "100/100 [==============================] - 6s 55ms/step - loss: 0.0025 - val_loss: 0.0235\n",
      "Epoch 6/50\n",
      "100/100 [==============================] - 5s 54ms/step - loss: 0.0017 - val_loss: 0.0297\n",
      "Epoch 7/50\n",
      "100/100 [==============================] - 6s 64ms/step - loss: 0.0013 - val_loss: 0.0312\n",
      "Epoch 8/50\n",
      "100/100 [==============================] - 6s 63ms/step - loss: 0.0010 - val_loss: 0.0336\n",
      "Epoch 9/50\n",
      "100/100 [==============================] - 10s 103ms/step - loss: 8.0914e-04 - val_loss: 0.0273\n",
      "Epoch 10/50\n",
      "100/100 [==============================] - 5s 50ms/step - loss: 6.8713e-04 - val_loss: 0.0327\n",
      "Epoch 11/50\n",
      "100/100 [==============================] - 5s 52ms/step - loss: 5.7060e-04 - val_loss: 0.0334\n",
      "Epoch 11: early stopping\n"
     ]
    }
   ],
   "source": [
    "model_path = 'Bidirectional_LSTM_Multivariate.h5'\n",
    "early_stopings = tf.keras.callbacks.EarlyStopping(monitor='val_loss', min_delta=0, patience=10, verbose=1, mode='min')\n",
    "checkpoint =  tf.keras.callbacks.ModelCheckpoint(model_path, monitor='val_loss', save_best_only=True, mode='min', verbose=0)\n",
    "callbacks=[early_stopings,checkpoint]\n",
    "history = lstm_model.fit(train_data,epochs=50,steps_per_epoch=100,validation_data=val_data,validation_steps=50,verbose=1,callbacks=callbacks)"
   ],
   "metadata": {
    "collapsed": false,
    "pycharm": {
     "name": "#%%\n"
    }
   }
  },
  {
   "cell_type": "code",
   "execution_count": 12,
   "outputs": [
    {
     "data": {
      "text/plain": "<Figure size 1152x648 with 1 Axes>",
      "image/png": "[encoded data removed]"
     },
     "metadata": {
      "needs_background": "light"
     },
     "output_type": "display_data"
    }
   ],
   "source": [
    "plt.figure(figsize=(16,9))\n",
    "plt.plot(history.history['loss'])\n",
    "plt.plot(history.history['val_loss'])\n",
    "plt.title('Model loss')\n",
    "plt.ylabel('loss')\n",
    "plt.xlabel('epoch')\n",
    "plt.legend(['train loss', 'validation loss'])\n",
    "plt.show()"
   ],
   "metadata": {
    "collapsed": false,
    "pycharm": {
     "name": "#%%\n"
    }
   }
  },
  {
   "cell_type": "code",
   "execution_count": 62,
   "outputs": [
    {
     "name": "stdout",
     "output_type": "stream",
     "text": [
      "1/1 [==============================] - 4s 4s/step\n"
     ]
    },
    {
     "data": {
      "text/plain": "array([[3.6763654, 4.0301614, 2.8556082]], dtype=float32)"
     },
     "execution_count": 62,
     "metadata": {},
     "output_type": "execute_result"
    }
   ],
   "source": [
    "data_val = X_scaler.fit_transform(data[[\"activity\",\"food_supply_stage\",\"loss_percentage\"]].tail(8))\n",
    "val_rescaled = data_val.reshape(1, data_val.shape[0], data_val.shape[1])\n",
    "pred = lstm_model.predict(val_rescaled)\n",
    "pred_Inverse = Y_scaler.inverse_transform(pred)\n",
    "pred_Inverse"
   ],
   "metadata": {
    "collapsed": false,
    "pycharm": {
     "name": "#%%\n"
    }
   }
  },
  {
   "cell_type": "code",
   "execution_count": 63,
   "outputs": [
    {
     "data": {
      "text/plain": "array([[0.25      , 0.33333333, 1.        ],\n       [0.        , 0.        , 0.5254902 ],\n       [1.        , 1.        , 0.06470588],\n       [1.        , 0.        , 0.20392157],\n       [0.5       , 0.        , 0.        ],\n       [1.        , 1.        , 0.06470588],\n       [1.        , 0.        , 0.20392157],\n       [0.        , 0.        , 0.5254902 ]])"
     },
     "execution_count": 63,
     "metadata": {},
     "output_type": "execute_result"
    }
   ],
   "source": [
    "\n",
    "data_val"
   ],
   "metadata": {
    "collapsed": false,
    "pycharm": {
     "name": "#%%\n"
    }
   }
  },
  {
   "cell_type": "code",
   "execution_count": 64,
   "outputs": [],
   "source": [
    "def timeseries_evaluation_metrics_func(y_true, y_pred):\n",
    "    def mean_absolute_percentage_error(y_true, y_pred):\n",
    "        y_true, y_pred = np.array(y_true), np.array(y_pred)\n",
    "        return np.mean(np.abs((y_true - y_pred) / y_true)) * 100\n",
    "    print('Evaluation metric results:-')\n",
    "    print(f'MSE is : {metrics.mean_squared_error(y_true, y_pred)}')\n",
    "    print(f'MAE is : {metrics.mean_absolute_error(y_true, y_pred)}')\n",
    "    print(f'RMSE is : {np.sqrt(metrics.mean_squared_error(y_true, y_pred))}')\n",
    "    print(f'MAPE is : {mean_absolute_percentage_error(y_true, y_pred)}')\n",
    "    print(f'R2 is : {metrics.r2_score(y_true, y_pred)}',end='\\n\\n')"
   ],
   "metadata": {
    "collapsed": false,
    "pycharm": {
     "name": "#%%\n"
    }
   }
  },
  {
   "cell_type": "code",
   "execution_count": 65,
   "outputs": [
    {
     "name": "stdout",
     "output_type": "stream",
     "text": [
      "Evaluation metric results:-\n",
      "MSE is : 2.8500750849166105\n",
      "MAE is : 1.3131347433725993\n",
      "RMSE is : 1.6882165396999909\n",
      "MAPE is : 27.688546934788782\n",
      "R2 is : 0.005379118387806803\n",
      "\n"
     ]
    }
   ],
   "source": [
    "timeseries_evaluation_metrics_func(validate[\"loss_percentage\"],pred_Inverse[0])"
   ],
   "metadata": {
    "collapsed": false,
    "pycharm": {
     "name": "#%%\n"
    }
   }
  },
  {
   "cell_type": "code",
   "execution_count": 66,
   "outputs": [
    {
     "data": {
      "text/plain": "<Figure size 1152x648 with 1 Axes>",
      "image/png": "[encoded data removed]"
     },
     "metadata": {
      "needs_background": "light"
     },
     "output_type": "display_data"
    }
   ],
   "source": [
    "plt.figure(figsize=(16,9))\n",
    "plt.plot( list(validate['loss_percentage']))\n",
    "plt.plot( list(pred_Inverse[0]))\n",
    "plt.title(\"Actual vs Predicted\")\n",
    "plt.ylabel(\"Loss Percentage\")\n",
    "plt.xlabel('Years (After 2000)')\n",
    "plt.legend(('Actual','predicted'))\n",
    "plt.show()"
   ],
   "metadata": {
    "collapsed": false,
    "pycharm": {
     "name": "#%%\n"
    }
   }
  },
  {
   "cell_type": "code",
   "execution_count": 35,
   "outputs": [],
   "source": [
    "data_val = X_scaler.fit_transform(data[[\"activity\",\"food_supply_stage\",\"loss_percentage\"]].tail(8))\n",
    "val_rescaled = data_val.reshape(1, data_val.shape[0], data_val.shape[1])"
   ],
   "metadata": {
    "collapsed": false,
    "pycharm": {
     "name": "#%%\n"
    }
   }
  },
  {
   "cell_type": "code",
   "execution_count": 36,
   "outputs": [
    {
     "data": {
      "text/plain": "2    6.42\n1    3.04\n0    2.65\nName: loss_percentage, dtype: float64"
     },
     "execution_count": 36,
     "metadata": {},
     "output_type": "execute_result"
    }
   ],
   "source": [
    "validate[\"loss_percentage\"]"
   ],
   "metadata": {
    "collapsed": false,
    "pycharm": {
     "name": "#%%\n"
    }
   }
  },
  {
   "cell_type": "code",
   "execution_count": 37,
   "outputs": [
    {
     "data": {
      "text/plain": "array([7.5779295, 7.796343 , 0.6114714], dtype=float32)"
     },
     "execution_count": 37,
     "metadata": {},
     "output_type": "execute_result"
    }
   ],
   "source": [
    "pred_Inverse[0]"
   ],
   "metadata": {
    "collapsed": false,
    "pycharm": {
     "name": "#%%\n"
    }
   }
  },
  {
   "cell_type": "code",
   "execution_count": 37,
   "outputs": [],
   "source": [],
   "metadata": {
    "collapsed": false,
    "pycharm": {
     "name": "#%%\n"
    }
   }
  },
  {
   "cell_type": "code",
   "execution_count": 37,
   "outputs": [],
   "source": [],
   "metadata": {
    "collapsed": false,
    "pycharm": {
     "name": "#%%\n"
    }
   }
  },
  {
   "cell_type": "code",
   "execution_count": null,
   "outputs": [],
   "source": [],
   "metadata": {
    "collapsed": false,
    "pycharm": {
     "name": "#%%\n"
    }
   }
  },
  {
   "cell_type": "code",
   "execution_count": null,
   "outputs": [],
   "source": [],
   "metadata": {
    "collapsed": false,
    "pycharm": {
     "name": "#%%\n"
    }
   }
  },
  {
   "cell_type": "code",
   "execution_count": null,
   "outputs": [],
   "source": [],
   "metadata": {
    "collapsed": false,
    "pycharm": {
     "name": "#%%\n"
    }
   }
  },
  {
   "cell_type": "code",
   "execution_count": null,
   "outputs": [],
   "source": [],
   "metadata": {
    "collapsed": false,
    "pycharm": {
     "name": "#%%\n"
    }
   }
  },
  {
   "cell_type": "code",
   "execution_count": null,
   "outputs": [],
   "source": [],
   "metadata": {
    "collapsed": false,
    "pycharm": {
     "name": "#%%\n"
    }
   }
  },
  {
   "cell_type": "code",
   "execution_count": null,
   "outputs": [],
   "source": [],
   "metadata": {
    "collapsed": false,
    "pycharm": {
     "name": "#%%\n"
    }
   }
  },
  {
   "cell_type": "code",
   "execution_count": null,
   "outputs": [],
   "source": [],
   "metadata": {
    "collapsed": false,
    "pycharm": {
     "name": "#%%\n"
    }
   }
  },
  {
   "cell_type": "code",
   "execution_count": null,
   "outputs": [],
   "source": [],
   "metadata": {
    "collapsed": false,
    "pycharm": {
     "name": "#%%\n"
    }
   }
  },
  {
   "cell_type": "code",
   "execution_count": null,
   "outputs": [],
   "source": [],
   "metadata": {
    "collapsed": false,
    "pycharm": {
     "name": "#%%\n"
    }
   }
  },
  {
   "cell_type": "code",
   "execution_count": null,
   "outputs": [],
   "source": [],
   "metadata": {
    "collapsed": false,
    "pycharm": {
     "name": "#%%\n"
    }
   }
  },
  {
   "cell_type": "code",
   "execution_count": null,
   "outputs": [],
   "source": [],
   "metadata": {
    "collapsed": false,
    "pycharm": {
     "name": "#%%\n"
    }
   }
  },
  {
   "cell_type": "code",
   "execution_count": null,
   "outputs": [],
   "source": [],
   "metadata": {
    "collapsed": false,
    "pycharm": {
     "name": "#%%\n"
    }
   }
  },
  {
   "cell_type": "markdown",
   "source": [
    "TUNING"
   ],
   "metadata": {
    "collapsed": false,
    "pycharm": {
     "name": "#%% md\n"
    }
   }
  },
  {
   "cell_type": "code",
   "execution_count": 196,
   "outputs": [],
   "source": [
    "HP_NUM_UNITS = hp.HParam('num_units', hp.Discrete([16, 32]))\n",
    "HP_DROPOUT = hp.HParam('dropout', hp.RealInterval(0.1, 0.2))\n",
    "HP_OPTIMIZER = hp.HParam('optimizer', hp.Discrete(['adam','sgd']))\n",
    "\n",
    "METRIC_ACCURACY = 'accuracy'\n",
    "\n",
    "with tf.summary.create_file_writer('logs/hparam_tuning').as_default():\n",
    "  hp.hparams_config(\n",
    "    hparams=[HP_NUM_UNITS, HP_DROPOUT, HP_OPTIMIZER],\n",
    "    metrics=[hp.Metric(METRIC_ACCURACY, display_name='Accuracy')],\n",
    "  )"
   ],
   "metadata": {
    "collapsed": false,
    "pycharm": {
     "name": "#%%\n"
    }
   }
  },
  {
   "cell_type": "code",
   "execution_count": 197,
   "outputs": [],
   "source": [
    "def train_test_model(hparams):\n",
    "    lstm_model_opt = tf.keras.models.Sequential([\n",
    "        tf.keras.layers.Bidirectional(tf.keras.layers.LSTM(200, return_sequences=True),\n",
    "                                    input_shape=x_train.shape[-2:]),\n",
    "         tf.keras.layers.Dense(20, activation='tanh'),\n",
    "         tf.keras.layers.Bidirectional(tf.keras.layers.LSTM(150)),\n",
    "         tf.keras.layers.Dense(20, activation='tanh'),\n",
    "         tf.keras.layers.Dropout(0.25),\n",
    "         tf.keras.layers.Dense(units=horizon),\n",
    "        ])\n",
    "    lstm_model_opt.compile(optimizer=hparams[HP_OPTIMIZER], loss='mse')\n",
    "    lstm_model_opt.summary()\n",
    "    model_path = 'Bidirectional_LSTM_Multivariate_opt.h5'\n",
    "    early_stopings = tf.keras.callbacks.EarlyStopping(monitor='val_loss', min_delta=0.001, patience=5, verbose=1, mode='min')\n",
    "    checkpoint =  tf.keras.callbacks.ModelCheckpoint(model_path, monitor='val_loss', save_best_only=True, mode='min', verbose=0)\n",
    "    callbacks=[early_stopings,checkpoint]\n",
    "    history = lstm_model.fit(train_data,epochs=50,steps_per_epoch=100,validation_data=val_data,validation_steps=50,verbose=1,callbacks=callbacks)\n",
    "    (validate[\"loss_percentage\"], pred_Inverse[0])\n",
    "    return history"
   ],
   "metadata": {
    "collapsed": false,
    "pycharm": {
     "name": "#%%\n"
    }
   }
  },
  {
   "cell_type": "code",
   "execution_count": 198,
   "outputs": [],
   "source": [
    "def run(run_dir, hparams):\n",
    "  with tf.summary.create_file_writer(run_dir).as_default():\n",
    "    hp.hparams(hparams)  # record the values used in this trial\n",
    "    history = train_test_model(hparams)\n",
    "    accuracy=model.evaluate(x_test, y_test)\n",
    "    tf.summary.scalar(METRIC_ACCURACY, step=1)"
   ],
   "metadata": {
    "collapsed": false,
    "pycharm": {
     "name": "#%%\n"
    }
   }
  },
  {
   "cell_type": "code",
   "execution_count": 199,
   "outputs": [
    {
     "name": "stdout",
     "output_type": "stream",
     "text": [
      "--- Starting trial: run-0\n",
      "{'num_units': 16, 'dropout': 0.1, 'optimizer': 'adam'}\n",
      "Model: \"sequential_11\"\n",
      "_________________________________________________________________\n",
      " Layer (type)                Output Shape              Param #   \n",
      "=================================================================\n",
      " bidirectional_31 (Bidirecti  (None, 8, 400)           326400    \n",
      " onal)                                                           \n",
      "                                                                 \n",
      " dense_47 (Dense)            (None, 8, 20)             8020      \n",
      "                                                                 \n",
      " bidirectional_32 (Bidirecti  (None, 300)              205200    \n",
      " onal)                                                           \n",
      "                                                                 \n",
      " dense_48 (Dense)            (None, 20)                6020      \n",
      "                                                                 \n",
      " dropout_11 (Dropout)        (None, 20)                0         \n",
      "                                                                 \n",
      " dense_49 (Dense)            (None, 3)                 63        \n",
      "                                                                 \n",
      "=================================================================\n",
      "Total params: 545,703\n",
      "Trainable params: 545,703\n",
      "Non-trainable params: 0\n",
      "_________________________________________________________________\n",
      "Epoch 1/50\n",
      "100/100 [==============================] - 7s 73ms/step - loss: 0.0017 - val_loss: 0.0188\n",
      "Epoch 2/50\n",
      "100/100 [==============================] - 6s 62ms/step - loss: 0.0016 - val_loss: 0.0180\n",
      "Epoch 3/50\n",
      "100/100 [==============================] - 6s 60ms/step - loss: 0.0016 - val_loss: 0.0154\n",
      "Epoch 4/50\n",
      "100/100 [==============================] - 6s 56ms/step - loss: 0.0015 - val_loss: 0.0180\n",
      "Epoch 5/50\n",
      "100/100 [==============================] - 6s 59ms/step - loss: 0.0014 - val_loss: 0.0173\n",
      "Epoch 6/50\n",
      "100/100 [==============================] - 6s 60ms/step - loss: 0.0014 - val_loss: 0.0158\n",
      "Epoch 7/50\n",
      "100/100 [==============================] - 5s 52ms/step - loss: 0.0014 - val_loss: 0.0148\n",
      "Epoch 8/50\n",
      "100/100 [==============================] - 5s 55ms/step - loss: 0.0014 - val_loss: 0.0180\n",
      "Epoch 8: early stopping\n"
     ]
    },
    {
     "ename": "NameError",
     "evalue": "name 'model' is not defined",
     "output_type": "error",
     "traceback": [
      "\u001B[0;31m---------------------------------------------------------------------------\u001B[0m",
      "\u001B[0;31mNameError\u001B[0m                                 Traceback (most recent call last)",
      "Input \u001B[0;32mIn [199]\u001B[0m, in \u001B[0;36m<cell line: 3>\u001B[0;34m()\u001B[0m\n\u001B[1;32m     12\u001B[0m \u001B[38;5;28mprint\u001B[39m(\u001B[38;5;124m'\u001B[39m\u001B[38;5;124m--- Starting trial: \u001B[39m\u001B[38;5;132;01m%s\u001B[39;00m\u001B[38;5;124m'\u001B[39m \u001B[38;5;241m%\u001B[39m run_name)\n\u001B[1;32m     13\u001B[0m \u001B[38;5;28mprint\u001B[39m({h\u001B[38;5;241m.\u001B[39mname: hparams[h] \u001B[38;5;28;01mfor\u001B[39;00m h \u001B[38;5;129;01min\u001B[39;00m hparams})\n\u001B[0;32m---> 14\u001B[0m \u001B[43mrun\u001B[49m\u001B[43m(\u001B[49m\u001B[38;5;124;43m'\u001B[39;49m\u001B[38;5;124;43mlogs/hparam_tuning/\u001B[39;49m\u001B[38;5;124;43m'\u001B[39;49m\u001B[43m \u001B[49m\u001B[38;5;241;43m+\u001B[39;49m\u001B[43m \u001B[49m\u001B[43mrun_name\u001B[49m\u001B[43m,\u001B[49m\u001B[43m \u001B[49m\u001B[43mhparams\u001B[49m\u001B[43m)\u001B[49m\n\u001B[1;32m     15\u001B[0m session_num \u001B[38;5;241m+\u001B[39m\u001B[38;5;241m=\u001B[39m \u001B[38;5;241m1\u001B[39m\n",
      "Input \u001B[0;32mIn [198]\u001B[0m, in \u001B[0;36mrun\u001B[0;34m(run_dir, hparams)\u001B[0m\n\u001B[1;32m      3\u001B[0m hp\u001B[38;5;241m.\u001B[39mhparams(hparams)  \u001B[38;5;66;03m# record the values used in this trial\u001B[39;00m\n\u001B[1;32m      4\u001B[0m history \u001B[38;5;241m=\u001B[39m train_test_model(hparams)\n\u001B[0;32m----> 5\u001B[0m accuracy\u001B[38;5;241m=\u001B[39m\u001B[43mmodel\u001B[49m\u001B[38;5;241m.\u001B[39mevaluate(x_test, y_test)\n\u001B[1;32m      6\u001B[0m tf\u001B[38;5;241m.\u001B[39msummary\u001B[38;5;241m.\u001B[39mscalar(METRIC_ACCURACY, step\u001B[38;5;241m=\u001B[39m\u001B[38;5;241m1\u001B[39m)\n",
      "\u001B[0;31mNameError\u001B[0m: name 'model' is not defined"
     ]
    }
   ],
   "source": [
    "session_num = 0\n",
    "\n",
    "for num_units in HP_NUM_UNITS.domain.values:\n",
    "  for dropout_rate in (HP_DROPOUT.domain.min_value, HP_DROPOUT.domain.max_value):\n",
    "    for optimizer in HP_OPTIMIZER.domain.values:\n",
    "      hparams = {\n",
    "          HP_NUM_UNITS: num_units,\n",
    "          HP_DROPOUT: dropout_rate,\n",
    "          HP_OPTIMIZER: optimizer,\n",
    "      }\n",
    "      run_name = \"run-%d\" % session_num\n",
    "      print('--- Starting trial: %s' % run_name)\n",
    "      print({h.name: hparams[h] for h in hparams})\n",
    "      run('logs/hparam_tuning/' + run_name, hparams)\n",
    "      session_num += 1"
   ],
   "metadata": {
    "collapsed": false,
    "pycharm": {
     "name": "#%%\n"
    }
   }
  },
  {
   "cell_type": "code",
   "execution_count": 150,
   "outputs": [
    {
     "data": {
      "text/plain": "<Figure size 1152x648 with 1 Axes>",
      "image/png": "[encoded data removed]"
     },
     "metadata": {
      "needs_background": "light"
     },
     "output_type": "display_data"
    }
   ],
   "source": [
    "plt.figure(figsize=(16, 9))\n",
    "plt.plot(history.history['loss'])\n",
    "plt.plot(history.history['val_loss'])\n",
    "plt.title('Model loss')\n",
    "plt.ylabel('loss')\n",
    "plt.xlabel('epoch')\n",
    "plt.legend(['train loss', 'validation loss'])\n",
    "plt.show()\n"
   ],
   "metadata": {
    "collapsed": false,
    "pycharm": {
     "name": "#%%\n"
    }
   }
  },
  {
   "cell_type": "code",
   "execution_count": null,
   "outputs": [],
   "source": [
    "data_val = X_scaler.fit_transform(data[[\"activity\", \"food_supply_stage\", \"loss_percentage\"]].tail(8))\n",
    "val_rescaled = data_val.reshape(1, data_val.shape[0], data_val.shape[1])\n",
    "pred = lstm_model.predict(val_rescaled)\n",
    "pred_Inverse = Y_scaler.inverse_transform(pred)\n",
    "pred_Inverse"
   ],
   "metadata": {
    "collapsed": false,
    "pycharm": {
     "name": "#%%\n"
    }
   }
  },
  {
   "cell_type": "code",
   "execution_count": null,
   "outputs": [],
   "source": [
    "def timeseries_evaluation_metrics_func(y_true, y_pred):\n",
    "    def mean_absolute_percentage_error(y_true, y_pred):\n",
    "        y_true, y_pred = np.array(y_true), np.array(y_pred)\n",
    "        return np.mean(np.abs((y_true - y_pred) / y_true)) * 100\n",
    "\n",
    "    print('Evaluation metric results:-')\n",
    "    print(f'MSE is : {metrics.mean_squared_error(y_true, y_pred)}')\n",
    "    print(f'MAE is : {metrics.mean_absolute_error(y_true, y_pred)}')\n",
    "    print(f'RMSE is : {np.sqrt(metrics.mean_squared_error(y_true, y_pred))}')\n",
    "    print(f'MAPE is : {mean_absolute_percentage_error(y_true, y_pred)}')\n",
    "    print(f'R2 is : {metrics.r2_score(y_true, y_pred)}', end='\\n\\n')\n",
    "\n",
    "\n",
    "timeseries_evaluation_metrics_func(validate[\"loss_percentage\"], pred_Inverse[0])\n",
    "plt.figure(figsize=(16, 9))\n",
    "plt.plot(list(validate['loss_percentage']))\n",
    "plt.plot(list(pred_Inverse[0]))\n",
    "plt.title(\"Actual vs Predicted\")\n",
    "plt.ylabel(\"Traffic volume\")\n",
    "plt.legend(('Actual', 'predicted'))\n",
    "plt.show()"
   ],
   "metadata": {
    "collapsed": false,
    "pycharm": {
     "name": "#%%\n"
    }
   }
  }
 ],
 "metadata": {
  "kernelspec": {
   "display_name": "Python 3",
   "language": "python",
   "name": "python3"
  },
  "language_info": {
   "codemirror_mode": {
    "name": "ipython",
    "version": 2
   },
   "file_extension": ".py",
   "mimetype": "text/x-python",
   "name": "python",
   "nbconvert_exporter": "python",
   "pygments_lexer": "ipython2",
   "version": "2.7.6"
  }
 },
 "nbformat": 4,
 "nbformat_minor": 0
}